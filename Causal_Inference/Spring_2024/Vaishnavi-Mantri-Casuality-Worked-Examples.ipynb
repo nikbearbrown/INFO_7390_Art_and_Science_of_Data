{
 "cells": [
  {
   "cell_type": "markdown",
   "id": "e8b8792d-e0fd-43be-8523-5d7e18a203fd",
   "metadata": {},
   "source": [
    "## Assignment-Worked example:"
   ]
  },
  {
   "cell_type": "raw",
   "id": "cdf83311",
   "metadata": {},
   "source": [
    "Example1:Employee Income Prediction"
   ]
  },
  {
   "cell_type": "markdown",
   "id": "36b6546d-cfb0-4c98-b24e-b145ad8c1f6c",
   "metadata": {},
   "source": [
    "## Abstract: \n",
    "\n",
    "For this project, we must supply the dataset and code it in accordance with our comprehension of the data from the prior assignment. In order to grasp the data on two datasets—one that is related to our issue and the other that is unrelated to it—we must build identical code and respond to similar inquiries. The first dataset I have is on apple quality, while the second one is about diabetes prediction in Central Asia."
   ]
  },
  {
   "cell_type": "markdown",
   "id": "db7fcb0a-b912-4b14-a33e-270deb8a3609",
   "metadata": {},
   "source": [
    "## Description of the Project:\n",
    "\n",
    "Our goal is to use the dataset's observations to forecast an employee's pay. We must understand the domain information, which will be supplied in the next steps, in order to be able to anticipate it accurately."
   ]
  },
  {
   "cell_type": "markdown",
   "id": "7f2caa84-5004-436c-82a2-8c6763e2136e",
   "metadata": {},
   "source": [
    "## Attributes of the dataset:\n",
    "\n",
    "1.Name:Name of the employee.\n",
    "\n",
    "\n",
    "2.job_title: The position held during the course of the year.\n",
    "\n",
    "\n",
    "3.Agency-Id:Unique Id given to the employee.\n",
    "\n",
    "\n",
    "4.Agency:Agency or location at which the employee is working.\n",
    "\n",
    "\n",
    "5.Grosspay: The entire amount earned in gross pay.\n",
    "\n",
    "\n",
    "6.Anuual salary:The pay amount expressed in ISO 4217 currency code.\n",
    "\n",
    "\n",
    "7.Hiredate:The date at which the employee joined the company."
   ]
  },
  {
   "cell_type": "markdown",
   "id": "76cd4836-c93e-468d-a0e0-c787f30568e2",
   "metadata": {},
   "source": [
    "## Question 1 : What is the question being researched?\n",
    "\n",
    "The aim of this research is to develop a predictive model that can accurately estimate an adult's income level by taking into account a range of demographic and socioeconomic variables. Our goal is to create a strong model that can reliably categorize people into various income groups (such as high- and low-income groups) using machine learning techniques and the given attributes.\n",
    "\n",
    "The integration of numerous Python packages necessary for data processing and visualization marks the beginning of the investigation:\n",
    "\n",
    "1.NumPy: This library provides strong support for huge, multi-dimensional arrays and matrices, making it indispensable for numerical computations. It is frequently used to conduct mathematical operations on arrays in data analysis.\n",
    "\n",
    "2.Pandas:Pandas is a strong Python toolkit for data analysis and manipulation.For managing and evaluating structured data, it offers data structures like DataFrame and Series.Data cleaning, investigation, and reading/writing are all made easier using Pandas.\n",
    "\n",
    "3.Matplotlib: It is a widely used Python charting toolkit that may be used to create static, animated, and interactive displays.\n",
    "A Matplotlib module called pylab unifies NumPy and Matplotlib into a single namespace.It is frequently employed in the creation of graphs, charts, and other visualizations.\n",
    "\n",
    "4.Seaborn:Matplotlib is the foundation for the statistical data visualization library Seaborn.It offers a sophisticated drawing tool for creating eye-catching and educational statistical visuals.The task of producing visually appealing visualizations is made easier with Seaborn.\n",
    "\n",
    "5.%matplotlib inline is another tool used by the notebook to guarantee that figures created with matplotlib appear inline within notebook cells. As part of the notebook's output, this method makes plots more easily visualized.\n",
    "\n",
    "The goal of the research is to create a model that, given specific input features, can predict or estimate the income level.\n",
    "It seems likely that this model is a machine learning model, which suggests that algorithms are used to examine patterns and provide predictions."
   ]
  },
  {
   "cell_type": "code",
   "execution_count": 1,
   "id": "49756d8b",
   "metadata": {},
   "outputs": [],
   "source": [
    "# Importing necessary libraries for data manipulation and analysis\n",
    "import numpy as np \n",
    "import pandas as pd\n",
    "\n",
    "# Importing libraries for data visualization\n",
    "import matplotlib.pylab as plt\n",
    "import seaborn as sns\n",
    "\n",
    "# Importing libraries for data preprocessing\n",
    "from sklearn.preprocessing import LabelEncoder\n",
    "\n",
    "# Importing libraries for machine learning models, training, and testing\n",
    "from sklearn.model_selection import train_test_split\n",
    "\n",
    "# Importing libraries for machine learning pipelines and model evaluation\n",
    "from sklearn.linear_model import LinearRegression\n",
    "from sklearn.metrics import mean_squared_error\n",
    "from sklearn.metrics import classification_report, confusion_matrix, precision_score, recall_score, f1_score, accuracy_score, roc_auc_score\n",
    "\n",
    "#Importing Libararies for statistical modeling and analysis.\n",
    "import statsmodels.api as sm\n",
    "\n",
    "#Importing the Casual Model.\n",
    "from causalinference import CausalModel\n",
    "import networkx as nx\n",
    "import matplotlib.pyplot as plt"
   ]
  },
  {
   "cell_type": "code",
   "execution_count": 2,
   "id": "283c9bcf",
   "metadata": {},
   "outputs": [
    {
     "data": {
      "text/html": [
       "<div>\n",
       "<style scoped>\n",
       "    .dataframe tbody tr th:only-of-type {\n",
       "        vertical-align: middle;\n",
       "    }\n",
       "\n",
       "    .dataframe tbody tr th {\n",
       "        vertical-align: top;\n",
       "    }\n",
       "\n",
       "    .dataframe thead th {\n",
       "        text-align: right;\n",
       "    }\n",
       "</style>\n",
       "<table border=\"1\" class=\"dataframe\">\n",
       "  <thead>\n",
       "    <tr style=\"text-align: right;\">\n",
       "      <th></th>\n",
       "      <th>Name</th>\n",
       "      <th>JobTitle</th>\n",
       "      <th>AgencyID</th>\n",
       "      <th>Agency</th>\n",
       "      <th>HireDate</th>\n",
       "      <th>AnnualSalary</th>\n",
       "      <th>GrossPay</th>\n",
       "    </tr>\n",
       "  </thead>\n",
       "  <tbody>\n",
       "    <tr>\n",
       "      <th>0</th>\n",
       "      <td>Aaron,Keontae E</td>\n",
       "      <td>AIDE BLUE CHIP</td>\n",
       "      <td>W02200</td>\n",
       "      <td>Youth Summer</td>\n",
       "      <td>06/10/2013</td>\n",
       "      <td>$11310.00</td>\n",
       "      <td>$873.63</td>\n",
       "    </tr>\n",
       "    <tr>\n",
       "      <th>1</th>\n",
       "      <td>Aaron,Patricia G</td>\n",
       "      <td>Facilities/Office Services II</td>\n",
       "      <td>A03031</td>\n",
       "      <td>OED-Employment Dev</td>\n",
       "      <td>10/24/1979</td>\n",
       "      <td>$53428.00</td>\n",
       "      <td>$52868.38</td>\n",
       "    </tr>\n",
       "    <tr>\n",
       "      <th>2</th>\n",
       "      <td>Aaron,Petra L</td>\n",
       "      <td>ASSISTANT STATE'S ATTORNEY</td>\n",
       "      <td>A29005</td>\n",
       "      <td>States Attorneys Office</td>\n",
       "      <td>09/25/2006</td>\n",
       "      <td>$68300.00</td>\n",
       "      <td>$67439.19</td>\n",
       "    </tr>\n",
       "    <tr>\n",
       "      <th>3</th>\n",
       "      <td>Abaineh,Yohannes T</td>\n",
       "      <td>EPIDEMIOLOGIST</td>\n",
       "      <td>A65026</td>\n",
       "      <td>HLTH-Health Department</td>\n",
       "      <td>07/23/2009</td>\n",
       "      <td>$62000.00</td>\n",
       "      <td>$58654.74</td>\n",
       "    </tr>\n",
       "    <tr>\n",
       "      <th>4</th>\n",
       "      <td>Abbene,Anthony M</td>\n",
       "      <td>POLICE OFFICER TRAINEE</td>\n",
       "      <td>A99416</td>\n",
       "      <td>Police Department</td>\n",
       "      <td>07/24/2013</td>\n",
       "      <td>$43999.00</td>\n",
       "      <td>$39686.95</td>\n",
       "    </tr>\n",
       "    <tr>\n",
       "      <th>...</th>\n",
       "      <td>...</td>\n",
       "      <td>...</td>\n",
       "      <td>...</td>\n",
       "      <td>...</td>\n",
       "      <td>...</td>\n",
       "      <td>...</td>\n",
       "      <td>...</td>\n",
       "    </tr>\n",
       "    <tr>\n",
       "      <th>18976</th>\n",
       "      <td>Zotamou,Jean Marie D</td>\n",
       "      <td>AIDE BLUE CHIP</td>\n",
       "      <td>W02235</td>\n",
       "      <td>Youth Summer</td>\n",
       "      <td>05/21/2014</td>\n",
       "      <td>$11310.00</td>\n",
       "      <td>NaN</td>\n",
       "    </tr>\n",
       "    <tr>\n",
       "      <th>18977</th>\n",
       "      <td>Zotamou,Pivot D</td>\n",
       "      <td>AIDE BLUE CHIP</td>\n",
       "      <td>W02629</td>\n",
       "      <td>Youth Summer</td>\n",
       "      <td>05/21/2014</td>\n",
       "      <td>$11310.00</td>\n",
       "      <td>NaN</td>\n",
       "    </tr>\n",
       "    <tr>\n",
       "      <th>18978</th>\n",
       "      <td>Zovistoski,Zachary D</td>\n",
       "      <td>POLICE OFFICER TRAINEE</td>\n",
       "      <td>A99416</td>\n",
       "      <td>Police Department</td>\n",
       "      <td>12/17/2013</td>\n",
       "      <td>$43999.00</td>\n",
       "      <td>$21070.03</td>\n",
       "    </tr>\n",
       "    <tr>\n",
       "      <th>18979</th>\n",
       "      <td>Zubyk,Stanislav T</td>\n",
       "      <td>POLICE OFFICER</td>\n",
       "      <td>A99262</td>\n",
       "      <td>Police Department</td>\n",
       "      <td>01/23/2013</td>\n",
       "      <td>$44104.00</td>\n",
       "      <td>$48608.12</td>\n",
       "    </tr>\n",
       "    <tr>\n",
       "      <th>18980</th>\n",
       "      <td>Zukowski,Charles J</td>\n",
       "      <td>Waste Water Tech Supv I Pump</td>\n",
       "      <td>A50206</td>\n",
       "      <td>DPW-Water &amp; Waste Water</td>\n",
       "      <td>10/15/1979</td>\n",
       "      <td>$53568.00</td>\n",
       "      <td>$52164.32</td>\n",
       "    </tr>\n",
       "  </tbody>\n",
       "</table>\n",
       "<p>18981 rows × 7 columns</p>\n",
       "</div>"
      ],
      "text/plain": [
       "                       Name                       JobTitle AgencyID  \\\n",
       "0           Aaron,Keontae E                 AIDE BLUE CHIP   W02200   \n",
       "1          Aaron,Patricia G  Facilities/Office Services II   A03031   \n",
       "2             Aaron,Petra L     ASSISTANT STATE'S ATTORNEY   A29005   \n",
       "3        Abaineh,Yohannes T                 EPIDEMIOLOGIST   A65026   \n",
       "4          Abbene,Anthony M         POLICE OFFICER TRAINEE   A99416   \n",
       "...                     ...                            ...      ...   \n",
       "18976  Zotamou,Jean Marie D                 AIDE BLUE CHIP   W02235   \n",
       "18977       Zotamou,Pivot D                 AIDE BLUE CHIP   W02629   \n",
       "18978  Zovistoski,Zachary D         POLICE OFFICER TRAINEE   A99416   \n",
       "18979     Zubyk,Stanislav T                 POLICE OFFICER   A99262   \n",
       "18980    Zukowski,Charles J   Waste Water Tech Supv I Pump   A50206   \n",
       "\n",
       "                         Agency    HireDate AnnualSalary   GrossPay  \n",
       "0                Youth Summer    06/10/2013    $11310.00    $873.63  \n",
       "1           OED-Employment Dev   10/24/1979    $53428.00  $52868.38  \n",
       "2      States Attorneys Office   09/25/2006    $68300.00  $67439.19  \n",
       "3       HLTH-Health Department   07/23/2009    $62000.00  $58654.74  \n",
       "4            Police Department   07/24/2013    $43999.00  $39686.95  \n",
       "...                         ...         ...          ...        ...  \n",
       "18976            Youth Summer    05/21/2014    $11310.00        NaN  \n",
       "18977             Youth Summer   05/21/2014    $11310.00        NaN  \n",
       "18978        Police Department   12/17/2013    $43999.00  $21070.03  \n",
       "18979        Police Department   01/23/2013    $44104.00  $48608.12  \n",
       "18980  DPW-Water & Waste Water   10/15/1979    $53568.00  $52164.32  \n",
       "\n",
       "[18981 rows x 7 columns]"
      ]
     },
     "execution_count": 2,
     "metadata": {},
     "output_type": "execute_result"
    }
   ],
   "source": [
    "data=pd.read_csv(\"https://raw.githubusercontent.com/NgoluaStanley/Employee_Salary_Prediction/main/Baltimore_salaries.csv\")\n",
    "data"
   ]
  },
  {
   "cell_type": "code",
   "execution_count": 3,
   "id": "0250eea7",
   "metadata": {},
   "outputs": [
    {
     "name": "stdout",
     "output_type": "stream",
     "text": [
      "<class 'pandas.core.frame.DataFrame'>\n",
      "RangeIndex: 18981 entries, 0 to 18980\n",
      "Data columns (total 7 columns):\n",
      " #   Column        Non-Null Count  Dtype \n",
      "---  ------        --------------  ----- \n",
      " 0    Name         18981 non-null  object\n",
      " 1   JobTitle      18981 non-null  object\n",
      " 2   AgencyID      18981 non-null  object\n",
      " 3   Agency        18981 non-null  object\n",
      " 4   HireDate      18911 non-null  object\n",
      " 5   AnnualSalary  18981 non-null  object\n",
      " 6   GrossPay      15758 non-null  object\n",
      "dtypes: object(7)\n",
      "memory usage: 1.0+ MB\n"
     ]
    }
   ],
   "source": [
    "#A brief description of the DataFrame,including details on the data types, non-null values,and memory utilization,is given by \n",
    "#the info() method.\n",
    "data.info()\n",
    "#There are 18981 rows in the data setand there are 7 columns in the data set provided,all the columns are of type Object."
   ]
  },
  {
   "cell_type": "markdown",
   "id": "696da36f-6850-46dc-af88-169f6b1a723e",
   "metadata": {},
   "source": [
    "## Explaination of Above Output:\n",
    "A useful tool for rapidly evaluating a DataFrame's properties and structure is the info() method.\n",
    "\n",
    "For each column, the output provides information about its name, non-null count, and data type:\n",
    "\n",
    "1.Job Title to Grosspay:These are Column names.\n",
    "\n",
    "2.18981 non-null: Number of non-null (non-missing) values for each column.\n",
    "\n",
    "3.object: Data type of each column,object indicates text or categorical data."
   ]
  },
  {
   "cell_type": "code",
   "execution_count": 4,
   "id": "ed097658",
   "metadata": {},
   "outputs": [
    {
     "data": {
      "text/plain": [
       "(18981, 7)"
      ]
     },
     "execution_count": 4,
     "metadata": {},
     "output_type": "execute_result"
    }
   ],
   "source": [
    "#To find a Pandas DataFrame's dimensions, use the df.shape attribute.The number of rows and columns in the DataFrame is returned\n",
    "#as a tuple. Df.shape in our instance shows that our DataFrame has 15 columns and 32,561 rows.\n",
    "data.shape"
   ]
  },
  {
   "cell_type": "code",
   "execution_count": 5,
   "id": "9496ca0c",
   "metadata": {},
   "outputs": [
    {
     "data": {
      "text/plain": [
       " Name           18981\n",
       "JobTitle        18981\n",
       "AgencyID        18981\n",
       "Agency          18981\n",
       "HireDate        18911\n",
       "AnnualSalary    18981\n",
       "GrossPay        15758\n",
       "dtype: int64"
      ]
     },
     "execution_count": 5,
     "metadata": {},
     "output_type": "execute_result"
    }
   ],
   "source": [
    "# To find the number of non-null (non-missing) values in each column of a DataFrame,df.count() method is used.\n",
    "# It gives back a Series with the counts for every column.\n",
    "data.count()"
   ]
  },
  {
   "cell_type": "markdown",
   "id": "982848a1-0c0b-431d-90a5-36e5e16fe9a6",
   "metadata": {},
   "source": [
    "## Expalination of Above Output:\n",
    "\n",
    "- **Name:** This column contains 18,981 entries (data points), as indicated by the count of 18,981.\n",
    "- **JobTitle:** Similarly, the JobTitle column also has 18,981 entries.\n",
    "- **AgencyID:** The AgencyID column contains 18,981 entries.\n",
    "- **Agency:** The Agency column also contains 18,981 entries.\n",
    "- **HireDate:** This column has 18,911 entries, which is slightly less than the other columns, indicating that there are some missing or null values in this column.\n",
    "- **AnnualSalary:** Like the other columns, the AnnualSalary column contains 18,981 entries.\n",
    "- **GrossPay:** The GrossPay column has 15,758 entries, which is significantly less than the total number of entries in the other columns. This suggests that there are more missing or null values in the GrossPay column compared to the other columns.\n"
   ]
  },
  {
   "cell_type": "code",
   "execution_count": 6,
   "id": "7fd9492f",
   "metadata": {},
   "outputs": [
    {
     "data": {
      "text/html": [
       "<div>\n",
       "<style scoped>\n",
       "    .dataframe tbody tr th:only-of-type {\n",
       "        vertical-align: middle;\n",
       "    }\n",
       "\n",
       "    .dataframe tbody tr th {\n",
       "        vertical-align: top;\n",
       "    }\n",
       "\n",
       "    .dataframe thead th {\n",
       "        text-align: right;\n",
       "    }\n",
       "</style>\n",
       "<table border=\"1\" class=\"dataframe\">\n",
       "  <thead>\n",
       "    <tr style=\"text-align: right;\">\n",
       "      <th></th>\n",
       "      <th>Name</th>\n",
       "      <th>JobTitle</th>\n",
       "      <th>AgencyID</th>\n",
       "      <th>Agency</th>\n",
       "      <th>HireDate</th>\n",
       "      <th>AnnualSalary</th>\n",
       "      <th>GrossPay</th>\n",
       "    </tr>\n",
       "  </thead>\n",
       "  <tbody>\n",
       "    <tr>\n",
       "      <th>count</th>\n",
       "      <td>18981</td>\n",
       "      <td>18981</td>\n",
       "      <td>18981</td>\n",
       "      <td>18981</td>\n",
       "      <td>18911</td>\n",
       "      <td>18981</td>\n",
       "      <td>15758</td>\n",
       "    </tr>\n",
       "    <tr>\n",
       "      <th>unique</th>\n",
       "      <td>18788</td>\n",
       "      <td>1075</td>\n",
       "      <td>1177</td>\n",
       "      <td>65</td>\n",
       "      <td>4737</td>\n",
       "      <td>1590</td>\n",
       "      <td>13732</td>\n",
       "    </tr>\n",
       "    <tr>\n",
       "      <th>top</th>\n",
       "      <td>Battle,Daron J</td>\n",
       "      <td>AIDE BLUE CHIP</td>\n",
       "      <td>P04001</td>\n",
       "      <td>Youth Summer</td>\n",
       "      <td>05/21/2014</td>\n",
       "      <td>$11310.00</td>\n",
       "      <td>$1051.25</td>\n",
       "    </tr>\n",
       "    <tr>\n",
       "      <th>freq</th>\n",
       "      <td>2</td>\n",
       "      <td>4817</td>\n",
       "      <td>316</td>\n",
       "      <td>4323</td>\n",
       "      <td>1478</td>\n",
       "      <td>4811</td>\n",
       "      <td>848</td>\n",
       "    </tr>\n",
       "  </tbody>\n",
       "</table>\n",
       "</div>"
      ],
      "text/plain": [
       "                  Name        JobTitle AgencyID          Agency    HireDate  \\\n",
       "count            18981           18981    18981           18981       18911   \n",
       "unique           18788            1075     1177              65        4737   \n",
       "top     Battle,Daron J  AIDE BLUE CHIP   P04001  Youth Summer    05/21/2014   \n",
       "freq                 2            4817      316            4323        1478   \n",
       "\n",
       "       AnnualSalary  GrossPay  \n",
       "count         18981     15758  \n",
       "unique         1590     13732  \n",
       "top       $11310.00  $1051.25  \n",
       "freq           4811       848  "
      ]
     },
     "execution_count": 6,
     "metadata": {},
     "output_type": "execute_result"
    }
   ],
   "source": [
    "# A overview of the statistical measures for each numerical column in the DataFrame is given by the df.describe() method.\n",
    "# It comprises the following: minimum, 25th percentile (Q1), median (50th percentile or Q2), 75th percentile (Q3), mean, \n",
    "# standard deviation, and count.\n",
    "data.describe()"
   ]
  },
  {
   "cell_type": "markdown",
   "id": "a47c157a-97d7-415c-bcf1-d47e7f520e58",
   "metadata": {},
   "source": [
    "## Explaination of Above Output:\n",
    "\n",
    "- **Name:** This column has a size of 18,981, which represents the total number of entries (data points) in the column.\n",
    "- **JobTitle:** Similarly, the JobTitle column also has a size of 18,981.\n",
    "- **AgencyID:** The AgencyID column has a size of 18,981 as well.\n",
    "- **Agency:** The Agency column also has a size of 18,981.\n",
    "- **HireDate:** This column has a size of 18,911, which is slightly less than the other columns, indicating that there are some missing or null values in this column.\n",
    "- **AnnualSalary:** Like the other columns, the AnnualSalary column has a size of 18,981.\n",
    "- **GrossPay:** The GrossPay column has a size of 15,758, which is significantly less than the total size of the other columns. This suggests that there are more missing or null values in the GrossPay column compared to the other columns.\n"
   ]
  },
  {
   "cell_type": "code",
   "execution_count": 7,
   "id": "5b678c71",
   "metadata": {},
   "outputs": [
    {
     "data": {
      "text/plain": [
       " Name              0\n",
       "JobTitle           0\n",
       "AgencyID           0\n",
       "Agency             0\n",
       "HireDate          70\n",
       "AnnualSalary       0\n",
       "GrossPay        3223\n",
       "dtype: int64"
      ]
     },
     "execution_count": 7,
     "metadata": {},
     "output_type": "execute_result"
    }
   ],
   "source": [
    "#The df.isnull().sum() expression is used to count the number of missing values (null or NaN) in each column of a Pandas\n",
    "#DataFrame. It returns a Series containing the count of missing values for each column.\n",
    "data.isnull().sum()"
   ]
  },
  {
   "cell_type": "markdown",
   "id": "5b153817-dba6-499a-9972-e470eeb240e3",
   "metadata": {},
   "source": [
    "The output indicates the number of null (missing) values in each column of the dataset:\n",
    "\n",
    "- **Name:** There are 0 null values in the Name column.\n",
    "- **JobTitle:** There are 0 null values in the JobTitle column.\n",
    "- **AgencyID:** There are 0 null values in the AgencyID column.\n",
    "- **Agency:** There are 0 null values in the Agency column.\n",
    "- **HireDate:** There are 70 null values in the HireDate column.\n",
    "- **AnnualSalary:** There are 0 null values in the AnnualSalary column.\n",
    "- **GrossPay:** There are 3223 null values in the GrossPay column.\n"
   ]
  },
  {
   "cell_type": "code",
   "execution_count": 8,
   "id": "4dfdc8fb",
   "metadata": {},
   "outputs": [
    {
     "data": {
      "text/html": [
       "<div>\n",
       "<style scoped>\n",
       "    .dataframe tbody tr th:only-of-type {\n",
       "        vertical-align: middle;\n",
       "    }\n",
       "\n",
       "    .dataframe tbody tr th {\n",
       "        vertical-align: top;\n",
       "    }\n",
       "\n",
       "    .dataframe thead th {\n",
       "        text-align: right;\n",
       "    }\n",
       "</style>\n",
       "<table border=\"1\" class=\"dataframe\">\n",
       "  <thead>\n",
       "    <tr style=\"text-align: right;\">\n",
       "      <th></th>\n",
       "      <th>Name</th>\n",
       "      <th>JobTitle</th>\n",
       "      <th>AgencyID</th>\n",
       "      <th>Agency</th>\n",
       "      <th>HireDate</th>\n",
       "      <th>AnnualSalary</th>\n",
       "      <th>GrossPay</th>\n",
       "    </tr>\n",
       "  </thead>\n",
       "  <tbody>\n",
       "    <tr>\n",
       "      <th>0</th>\n",
       "      <td>Aaron,Keontae E</td>\n",
       "      <td>AIDE BLUE CHIP</td>\n",
       "      <td>W02200</td>\n",
       "      <td>Youth Summer</td>\n",
       "      <td>06/10/2013</td>\n",
       "      <td>$11310.00</td>\n",
       "      <td>$873.63</td>\n",
       "    </tr>\n",
       "    <tr>\n",
       "      <th>1</th>\n",
       "      <td>Aaron,Patricia G</td>\n",
       "      <td>Facilities/Office Services II</td>\n",
       "      <td>A03031</td>\n",
       "      <td>OED-Employment Dev</td>\n",
       "      <td>10/24/1979</td>\n",
       "      <td>$53428.00</td>\n",
       "      <td>$52868.38</td>\n",
       "    </tr>\n",
       "    <tr>\n",
       "      <th>2</th>\n",
       "      <td>Aaron,Petra L</td>\n",
       "      <td>ASSISTANT STATE'S ATTORNEY</td>\n",
       "      <td>A29005</td>\n",
       "      <td>States Attorneys Office</td>\n",
       "      <td>09/25/2006</td>\n",
       "      <td>$68300.00</td>\n",
       "      <td>$67439.19</td>\n",
       "    </tr>\n",
       "    <tr>\n",
       "      <th>3</th>\n",
       "      <td>Abaineh,Yohannes T</td>\n",
       "      <td>EPIDEMIOLOGIST</td>\n",
       "      <td>A65026</td>\n",
       "      <td>HLTH-Health Department</td>\n",
       "      <td>07/23/2009</td>\n",
       "      <td>$62000.00</td>\n",
       "      <td>$58654.74</td>\n",
       "    </tr>\n",
       "    <tr>\n",
       "      <th>4</th>\n",
       "      <td>Abbene,Anthony M</td>\n",
       "      <td>POLICE OFFICER TRAINEE</td>\n",
       "      <td>A99416</td>\n",
       "      <td>Police Department</td>\n",
       "      <td>07/24/2013</td>\n",
       "      <td>$43999.00</td>\n",
       "      <td>$39686.95</td>\n",
       "    </tr>\n",
       "    <tr>\n",
       "      <th>...</th>\n",
       "      <td>...</td>\n",
       "      <td>...</td>\n",
       "      <td>...</td>\n",
       "      <td>...</td>\n",
       "      <td>...</td>\n",
       "      <td>...</td>\n",
       "      <td>...</td>\n",
       "    </tr>\n",
       "    <tr>\n",
       "      <th>18976</th>\n",
       "      <td>Zotamou,Jean Marie D</td>\n",
       "      <td>AIDE BLUE CHIP</td>\n",
       "      <td>W02235</td>\n",
       "      <td>Youth Summer</td>\n",
       "      <td>05/21/2014</td>\n",
       "      <td>$11310.00</td>\n",
       "      <td>NaN</td>\n",
       "    </tr>\n",
       "    <tr>\n",
       "      <th>18977</th>\n",
       "      <td>Zotamou,Pivot D</td>\n",
       "      <td>AIDE BLUE CHIP</td>\n",
       "      <td>W02629</td>\n",
       "      <td>Youth Summer</td>\n",
       "      <td>05/21/2014</td>\n",
       "      <td>$11310.00</td>\n",
       "      <td>NaN</td>\n",
       "    </tr>\n",
       "    <tr>\n",
       "      <th>18978</th>\n",
       "      <td>Zovistoski,Zachary D</td>\n",
       "      <td>POLICE OFFICER TRAINEE</td>\n",
       "      <td>A99416</td>\n",
       "      <td>Police Department</td>\n",
       "      <td>12/17/2013</td>\n",
       "      <td>$43999.00</td>\n",
       "      <td>$21070.03</td>\n",
       "    </tr>\n",
       "    <tr>\n",
       "      <th>18979</th>\n",
       "      <td>Zubyk,Stanislav T</td>\n",
       "      <td>POLICE OFFICER</td>\n",
       "      <td>A99262</td>\n",
       "      <td>Police Department</td>\n",
       "      <td>01/23/2013</td>\n",
       "      <td>$44104.00</td>\n",
       "      <td>$48608.12</td>\n",
       "    </tr>\n",
       "    <tr>\n",
       "      <th>18980</th>\n",
       "      <td>Zukowski,Charles J</td>\n",
       "      <td>Waste Water Tech Supv I Pump</td>\n",
       "      <td>A50206</td>\n",
       "      <td>DPW-Water &amp; Waste Water</td>\n",
       "      <td>10/15/1979</td>\n",
       "      <td>$53568.00</td>\n",
       "      <td>$52164.32</td>\n",
       "    </tr>\n",
       "  </tbody>\n",
       "</table>\n",
       "<p>18911 rows × 7 columns</p>\n",
       "</div>"
      ],
      "text/plain": [
       "                       Name                       JobTitle AgencyID  \\\n",
       "0           Aaron,Keontae E                 AIDE BLUE CHIP   W02200   \n",
       "1          Aaron,Patricia G  Facilities/Office Services II   A03031   \n",
       "2             Aaron,Petra L     ASSISTANT STATE'S ATTORNEY   A29005   \n",
       "3        Abaineh,Yohannes T                 EPIDEMIOLOGIST   A65026   \n",
       "4          Abbene,Anthony M         POLICE OFFICER TRAINEE   A99416   \n",
       "...                     ...                            ...      ...   \n",
       "18976  Zotamou,Jean Marie D                 AIDE BLUE CHIP   W02235   \n",
       "18977       Zotamou,Pivot D                 AIDE BLUE CHIP   W02629   \n",
       "18978  Zovistoski,Zachary D         POLICE OFFICER TRAINEE   A99416   \n",
       "18979     Zubyk,Stanislav T                 POLICE OFFICER   A99262   \n",
       "18980    Zukowski,Charles J   Waste Water Tech Supv I Pump   A50206   \n",
       "\n",
       "                         Agency    HireDate AnnualSalary   GrossPay  \n",
       "0                Youth Summer    06/10/2013    $11310.00    $873.63  \n",
       "1           OED-Employment Dev   10/24/1979    $53428.00  $52868.38  \n",
       "2      States Attorneys Office   09/25/2006    $68300.00  $67439.19  \n",
       "3       HLTH-Health Department   07/23/2009    $62000.00  $58654.74  \n",
       "4            Police Department   07/24/2013    $43999.00  $39686.95  \n",
       "...                         ...         ...          ...        ...  \n",
       "18976            Youth Summer    05/21/2014    $11310.00        NaN  \n",
       "18977             Youth Summer   05/21/2014    $11310.00        NaN  \n",
       "18978        Police Department   12/17/2013    $43999.00  $21070.03  \n",
       "18979        Police Department   01/23/2013    $44104.00  $48608.12  \n",
       "18980  DPW-Water & Waste Water   10/15/1979    $53568.00  $52164.32  \n",
       "\n",
       "[18911 rows x 7 columns]"
      ]
     },
     "execution_count": 8,
     "metadata": {},
     "output_type": "execute_result"
    }
   ],
   "source": [
    "#HireDate has 70 null values, or less than 1% of all values,therefore removing those rows.\n",
    "data.dropna(subset=['HireDate'])"
   ]
  },
  {
   "cell_type": "code",
   "execution_count": 9,
   "id": "94d602dc",
   "metadata": {},
   "outputs": [
    {
     "data": {
      "text/html": [
       "<div>\n",
       "<style scoped>\n",
       "    .dataframe tbody tr th:only-of-type {\n",
       "        vertical-align: middle;\n",
       "    }\n",
       "\n",
       "    .dataframe tbody tr th {\n",
       "        vertical-align: top;\n",
       "    }\n",
       "\n",
       "    .dataframe thead th {\n",
       "        text-align: right;\n",
       "    }\n",
       "</style>\n",
       "<table border=\"1\" class=\"dataframe\">\n",
       "  <thead>\n",
       "    <tr style=\"text-align: right;\">\n",
       "      <th></th>\n",
       "      <th>Name</th>\n",
       "      <th>JobTitle</th>\n",
       "      <th>AgencyID</th>\n",
       "      <th>Agency</th>\n",
       "      <th>HireDate</th>\n",
       "      <th>AnnualSalary</th>\n",
       "      <th>GrossPay</th>\n",
       "    </tr>\n",
       "  </thead>\n",
       "  <tbody>\n",
       "    <tr>\n",
       "      <th>0</th>\n",
       "      <td>Aaron,Keontae E</td>\n",
       "      <td>AIDE BLUE CHIP</td>\n",
       "      <td>W02200</td>\n",
       "      <td>Youth Summer</td>\n",
       "      <td>06/10/2013</td>\n",
       "      <td>$11310.00</td>\n",
       "      <td>$873.63</td>\n",
       "    </tr>\n",
       "    <tr>\n",
       "      <th>1</th>\n",
       "      <td>Aaron,Patricia G</td>\n",
       "      <td>Facilities/Office Services II</td>\n",
       "      <td>A03031</td>\n",
       "      <td>OED-Employment Dev</td>\n",
       "      <td>10/24/1979</td>\n",
       "      <td>$53428.00</td>\n",
       "      <td>$52868.38</td>\n",
       "    </tr>\n",
       "    <tr>\n",
       "      <th>2</th>\n",
       "      <td>Aaron,Petra L</td>\n",
       "      <td>ASSISTANT STATE'S ATTORNEY</td>\n",
       "      <td>A29005</td>\n",
       "      <td>States Attorneys Office</td>\n",
       "      <td>09/25/2006</td>\n",
       "      <td>$68300.00</td>\n",
       "      <td>$67439.19</td>\n",
       "    </tr>\n",
       "    <tr>\n",
       "      <th>3</th>\n",
       "      <td>Abaineh,Yohannes T</td>\n",
       "      <td>EPIDEMIOLOGIST</td>\n",
       "      <td>A65026</td>\n",
       "      <td>HLTH-Health Department</td>\n",
       "      <td>07/23/2009</td>\n",
       "      <td>$62000.00</td>\n",
       "      <td>$58654.74</td>\n",
       "    </tr>\n",
       "    <tr>\n",
       "      <th>4</th>\n",
       "      <td>Abbene,Anthony M</td>\n",
       "      <td>POLICE OFFICER TRAINEE</td>\n",
       "      <td>A99416</td>\n",
       "      <td>Police Department</td>\n",
       "      <td>07/24/2013</td>\n",
       "      <td>$43999.00</td>\n",
       "      <td>$39686.95</td>\n",
       "    </tr>\n",
       "    <tr>\n",
       "      <th>...</th>\n",
       "      <td>...</td>\n",
       "      <td>...</td>\n",
       "      <td>...</td>\n",
       "      <td>...</td>\n",
       "      <td>...</td>\n",
       "      <td>...</td>\n",
       "      <td>...</td>\n",
       "    </tr>\n",
       "    <tr>\n",
       "      <th>18974</th>\n",
       "      <td>Zoppo,Catherine B</td>\n",
       "      <td>REAL ESTATE AGENT I</td>\n",
       "      <td>A15001</td>\n",
       "      <td>COMP-Real Estate</td>\n",
       "      <td>03/14/1977</td>\n",
       "      <td>$58313.00</td>\n",
       "      <td>$58359.66</td>\n",
       "    </tr>\n",
       "    <tr>\n",
       "      <th>18975</th>\n",
       "      <td>Zorbach,Michael K</td>\n",
       "      <td>POLICE OFFICER</td>\n",
       "      <td>A99224</td>\n",
       "      <td>Police Department</td>\n",
       "      <td>05/02/2012</td>\n",
       "      <td>$44104.00</td>\n",
       "      <td>$48915.33</td>\n",
       "    </tr>\n",
       "    <tr>\n",
       "      <th>18978</th>\n",
       "      <td>Zovistoski,Zachary D</td>\n",
       "      <td>POLICE OFFICER TRAINEE</td>\n",
       "      <td>A99416</td>\n",
       "      <td>Police Department</td>\n",
       "      <td>12/17/2013</td>\n",
       "      <td>$43999.00</td>\n",
       "      <td>$21070.03</td>\n",
       "    </tr>\n",
       "    <tr>\n",
       "      <th>18979</th>\n",
       "      <td>Zubyk,Stanislav T</td>\n",
       "      <td>POLICE OFFICER</td>\n",
       "      <td>A99262</td>\n",
       "      <td>Police Department</td>\n",
       "      <td>01/23/2013</td>\n",
       "      <td>$44104.00</td>\n",
       "      <td>$48608.12</td>\n",
       "    </tr>\n",
       "    <tr>\n",
       "      <th>18980</th>\n",
       "      <td>Zukowski,Charles J</td>\n",
       "      <td>Waste Water Tech Supv I Pump</td>\n",
       "      <td>A50206</td>\n",
       "      <td>DPW-Water &amp; Waste Water</td>\n",
       "      <td>10/15/1979</td>\n",
       "      <td>$53568.00</td>\n",
       "      <td>$52164.32</td>\n",
       "    </tr>\n",
       "  </tbody>\n",
       "</table>\n",
       "<p>15758 rows × 7 columns</p>\n",
       "</div>"
      ],
      "text/plain": [
       "                       Name                       JobTitle AgencyID  \\\n",
       "0           Aaron,Keontae E                 AIDE BLUE CHIP   W02200   \n",
       "1          Aaron,Patricia G  Facilities/Office Services II   A03031   \n",
       "2             Aaron,Petra L     ASSISTANT STATE'S ATTORNEY   A29005   \n",
       "3        Abaineh,Yohannes T                 EPIDEMIOLOGIST   A65026   \n",
       "4          Abbene,Anthony M         POLICE OFFICER TRAINEE   A99416   \n",
       "...                     ...                            ...      ...   \n",
       "18974     Zoppo,Catherine B            REAL ESTATE AGENT I   A15001   \n",
       "18975     Zorbach,Michael K                 POLICE OFFICER   A99224   \n",
       "18978  Zovistoski,Zachary D         POLICE OFFICER TRAINEE   A99416   \n",
       "18979     Zubyk,Stanislav T                 POLICE OFFICER   A99262   \n",
       "18980    Zukowski,Charles J   Waste Water Tech Supv I Pump   A50206   \n",
       "\n",
       "                         Agency    HireDate AnnualSalary   GrossPay  \n",
       "0                Youth Summer    06/10/2013    $11310.00    $873.63  \n",
       "1           OED-Employment Dev   10/24/1979    $53428.00  $52868.38  \n",
       "2      States Attorneys Office   09/25/2006    $68300.00  $67439.19  \n",
       "3       HLTH-Health Department   07/23/2009    $62000.00  $58654.74  \n",
       "4            Police Department   07/24/2013    $43999.00  $39686.95  \n",
       "...                         ...         ...          ...        ...  \n",
       "18974         COMP-Real Estate   03/14/1977    $58313.00  $58359.66  \n",
       "18975        Police Department   05/02/2012    $44104.00  $48915.33  \n",
       "18978        Police Department   12/17/2013    $43999.00  $21070.03  \n",
       "18979        Police Department   01/23/2013    $44104.00  $48608.12  \n",
       "18980  DPW-Water & Waste Water   10/15/1979    $53568.00  $52164.32  \n",
       "\n",
       "[15758 rows x 7 columns]"
      ]
     },
     "execution_count": 9,
     "metadata": {},
     "output_type": "execute_result"
    }
   ],
   "source": [
    "#HireDate has 3223 null values, or less than 5% of all values,therefore removing those rows.\n",
    "data.dropna(subset=['GrossPay'])"
   ]
  },
  {
   "cell_type": "code",
   "execution_count": 10,
   "id": "410bc438",
   "metadata": {},
   "outputs": [
    {
     "data": {
      "text/plain": [
       " Name              0\n",
       "JobTitle           0\n",
       "AgencyID           0\n",
       "Agency             0\n",
       "HireDate          70\n",
       "AnnualSalary       0\n",
       "GrossPay        3223\n",
       "dtype: int64"
      ]
     },
     "execution_count": 10,
     "metadata": {},
     "output_type": "execute_result"
    }
   ],
   "source": [
    "#The df.isnull().sum() expression is used to count the number of missing values (null or NaN) in each column of a Pandas\n",
    "#DataFrame. It returns a Series containing the count of missing values for each column.\n",
    "data.isnull().sum()"
   ]
  },
  {
   "cell_type": "markdown",
   "id": "26259d1d-64e3-4bde-8d72-0be04d3e017d",
   "metadata": {},
   "source": [
    "The output indicates the number of null (missing) values in each column of the dataset:\r\n",
    "\r\n",
    "- **Name:** There are 0 null values in the Name column.\r\n",
    "- **JobTitle:** There are 0 null values in the JobTitle column.\r\n",
    "- **AgencyID:** There are 0 null values in the AgencyID column.\r\n",
    "- **Agency:** There are 0 null values in the Agency column.\r\n",
    "- **HireDate:** There are 70 null values in the HireDate column.\r\n",
    "- **AnnualSalary:** There are 0 null values in the AnnualSalary column.\r\n",
    "- **GrossPay:** There are 3223 null values in the GrossPay column.\r\n"
   ]
  },
  {
   "cell_type": "code",
   "execution_count": 11,
   "id": "158eddc9",
   "metadata": {},
   "outputs": [
    {
     "data": {
      "text/plain": [
       "AgencyID\n",
       "P04001    316\n",
       "C90786    276\n",
       "W02629    193\n",
       "P04002    191\n",
       "A99416    166\n",
       "         ... \n",
       "W02539      1\n",
       "A65052      1\n",
       "W02106      1\n",
       "W02590      1\n",
       "W02339      1\n",
       "Name: count, Length: 1177, dtype: int64"
      ]
     },
     "execution_count": 11,
     "metadata": {},
     "output_type": "execute_result"
    }
   ],
   "source": [
    "#Determing Value_counts for AgencyID\n",
    "data.AgencyID.value_counts()\n",
    "# In Blatimore, there are 1177 agencies.We should have the same number of Agencies since, in general,\n",
    "# AgencyID represents an Agency."
   ]
  },
  {
   "cell_type": "markdown",
   "id": "ec8cdcaa-853c-40f9-97df-b025ddc3dba0",
   "metadata": {},
   "source": [
    "## Explanation of Above Output:\n",
    "AgencyID: This column contains unique identifiers for different agencies. The count next to each AgencyID represents the number of times that particular AgencyID appears in the dataset.\n",
    "\n",
    "For example:\n",
    "- AgencyID \"P04001\" appears 316 times in the dataset.\n",
    "- AgencyID \"C90786\" appears 276 times.\n",
    "- AgencyID \"W02629\" appears 193 times.\n",
    "- AgencyID \"P04002\" appears 191 times.\n",
    "- AgencyID \"A99416\" appears 166 times.\n",
    "- ...\n",
    "\n",
    "This information gives insight into the distribution of data across different agencies based on their unique identifiers, showing which agencies are more frequently represented in the dataset and which ones are less common.\n"
   ]
  },
  {
   "cell_type": "code",
   "execution_count": 12,
   "id": "3320e38f",
   "metadata": {},
   "outputs": [
    {
     "data": {
      "text/plain": [
       "Agency\n",
       "Youth Summer                4323\n",
       "Police Department           3211\n",
       "Fire Department             1576\n",
       "DPW-Water & Waste Water     1491\n",
       "HLTH-Health Department       833\n",
       "                            ... \n",
       "Council Services               6\n",
       "HLTH-Health Dept Locatio       6\n",
       "Legislative Reference          5\n",
       "M-R Cable & Comm               4\n",
       "Special City Services          4\n",
       "Name: count, Length: 65, dtype: int64"
      ]
     },
     "execution_count": 12,
     "metadata": {},
     "output_type": "execute_result"
    }
   ],
   "source": [
    "#Determining Value_counts for Agency\n",
    "data.Agency.value_counts()\n",
    "#Against general expectations,A single Agency seems to have different Agency ID's which might be given\n",
    "#based on Job Role and Agency."
   ]
  },
  {
   "cell_type": "markdown",
   "id": "bb582be1-b3e0-4c17-824c-88f60b526ac2",
   "metadata": {},
   "source": [
    "## Explanation of Above Output:\n",
    "\n",
    "Agency: This column contains different agency names or departments. The count next to each agency name represents the number of times that particular agency appears in the dataset.\n",
    "\n",
    "For example:\n",
    "- Agency \"Youth Summer\" appears 4323 times in the dataset.\n",
    "- Agency \"Police Department\" appears 3211 times.\n",
    "- Agency \"Fire Department\" appears 1576 times.\n",
    "- Agency \"DPW-Water & Waste Water\" appears 1491 times.\n",
    "- Agency \"HLTH-Health Department\" appears 833 times.\n",
    "- ...\n",
    "\n",
    "This information provides insights into the distribution of data across different agencies or departments, showing which ones are more frequently represented in the dataset and which ones are less common.\n"
   ]
  },
  {
   "cell_type": "code",
   "execution_count": 13,
   "id": "b9ee47cf",
   "metadata": {},
   "outputs": [
    {
     "data": {
      "text/plain": [
       "JobTitle\n",
       "AIDE BLUE CHIP                    4817\n",
       "POLICE OFFICER                    1866\n",
       "LABORER (Hourly)                   597\n",
       "EMT Firefighter Suppression        358\n",
       "CROSSING GUARD                     337\n",
       "                                  ... \n",
       "VEHICLE DAMAGE INVESTIGATOR          1\n",
       "Community Health Nurse I             1\n",
       "ACCOUNTING SYSTEMS ANALYST           1\n",
       "DESK TOP PUBLISHING COORDINATO       1\n",
       "Research Analyst II                  1\n",
       "Name: count, Length: 1075, dtype: int64"
      ]
     },
     "execution_count": 13,
     "metadata": {},
     "output_type": "execute_result"
    }
   ],
   "source": [
    "#Determining Value_counts for JobTitle\n",
    "data.JobTitle.value_counts()\n",
    "#There are 1073 Job title that are available."
   ]
  },
  {
   "cell_type": "markdown",
   "id": "02d0dbc2-4d02-46f5-80d4-c5de7274dc98",
   "metadata": {},
   "source": [
    "## Explaination for the above code:\n",
    "\n",
    "JobTitle: This column contains different job titles or positions held by individuals. The count next to each job title represents the number of times that particular job title appears in the dataset.\n",
    "\n",
    "For example:\n",
    "- Job title \"AIDE BLUE CHIP\" appears 4817 times in the dataset.\n",
    "- Job title \"POLICE OFFICER\" appears 1866 times.\n",
    "- Job title \"LABORER (Hourly)\" appears 597 times.\n",
    "- Job title \"EMT Firefighter Suppression\" appears 358 times.\n",
    "- Job title \"CROSSING GUARD\" appears 337 times.\n",
    "- ...\n",
    "\n",
    "This information provides insights into the distribution of job titles across the dataset, showing which job titles are more frequently held by individuals and which ones are less common.\n"
   ]
  },
  {
   "cell_type": "code",
   "execution_count": 14,
   "id": "70a98e48",
   "metadata": {},
   "outputs": [
    {
     "data": {
      "text/plain": [
       "HireDate\n",
       "05/21/2014    1478\n",
       "06/10/2013     696\n",
       "06/12/2012     541\n",
       "06/07/2011     368\n",
       "05/29/2014     347\n",
       "              ... \n",
       "02/13/2009       1\n",
       "08/12/1993       1\n",
       "02/09/1998       1\n",
       "05/06/1980       1\n",
       "10/15/1979       1\n",
       "Name: count, Length: 4737, dtype: int64"
      ]
     },
     "execution_count": 14,
     "metadata": {},
     "output_type": "execute_result"
    }
   ],
   "source": [
    "#Determining Value counts on HireDate\n",
    "data.HireDate.value_counts()\n",
    "#On May 21, 2014, a greater number of individuals are chosen,The date format is MM/DD/YYYY."
   ]
  },
  {
   "cell_type": "markdown",
   "id": "a8bf9b9b-0ed8-448f-a946-44b4fe90c33c",
   "metadata": {},
   "source": [
    "## Explaination for the above code:\n",
    "HireDate: This column contains different hire dates of employees. The count next to each hire date represents the number of times that particular hire date appears in the dataset.\n",
    "\n",
    "For example:\n",
    "- Hire date \"05/21/2014\" appears 1478 times in the dataset.\n",
    "- Hire date \"06/10/2013\" appears 696 times.\n",
    "- Hire date \"06/12/2012\" appears 541 times.\n",
    "- Hire date \"06/07/2011\" appears 368 times.\n",
    "- Hire date \"05/29/2014\" appears 347 times.\n",
    "- ...\n",
    "\n",
    "This information provides insights into the distribution of hire dates among employees, showing which hire dates are more common and which ones are less common.\n"
   ]
  },
  {
   "cell_type": "code",
   "execution_count": 15,
   "id": "265a3316",
   "metadata": {},
   "outputs": [
    {
     "data": {
      "text/plain": [
       "AnnualSalary\n",
       "$11310.00     4811\n",
       "$20800.00      325\n",
       "$29245.00      196\n",
       "$43999.00      169\n",
       "$44773.00      163\n",
       "              ... \n",
       "$116300.00       1\n",
       "$83500.00        1\n",
       "$40994.00        1\n",
       "$42846.00        1\n",
       "$900.00          1\n",
       "Name: count, Length: 1590, dtype: int64"
      ]
     },
     "execution_count": 15,
     "metadata": {},
     "output_type": "execute_result"
    }
   ],
   "source": [
    "#Determining Value counts on Annual Salary\n",
    "data.AnnualSalary.value_counts()"
   ]
  },
  {
   "cell_type": "raw",
   "id": "cda0259b-0a9a-4d3c-a414-6ce40bb3bf10",
   "metadata": {},
   "source": [
    "AnnualSalary: This column contains different annual salaries of employees. The count next to each salary value represents the number of times that particular salary appears in the dataset.\n",
    "\n",
    "For example:\n",
    "- Annual salary \"$11310.00\" appears 4811 times in the dataset.\n",
    "- Annual salary \"$20800.00\" appears 325 times.\n",
    "- Annual salary \"$29245.00\" appears 196 times.\n",
    "- Annual salary \"$43999.00\" appears 169 times.\n",
    "- Annual salary \"$44773.00\" appears 163 times.\n",
    "- ...\n",
    "\n",
    "This information provides insights into the distribution of annual salaries among employees, showing which salary values are more common and which ones are less common."
   ]
  },
  {
   "cell_type": "code",
   "execution_count": 16,
   "id": "80f9b4ef",
   "metadata": {},
   "outputs": [],
   "source": [
    "#The dollar symbol \"Annual Salary\" has to be removed in order to convert it to an integer format.\n",
    "# Removing $ from Annual Salary and converting it into Integer format\n",
    "data['AnnualSalary'] = data['AnnualSalary'].apply(lambda x : (float)(str(x)[1:]))"
   ]
  },
  {
   "cell_type": "code",
   "execution_count": 17,
   "id": "50ebf956",
   "metadata": {},
   "outputs": [
    {
     "data": {
      "text/plain": [
       "AnnualSalary\n",
       "11310.0     4811\n",
       "20800.0      325\n",
       "29245.0      196\n",
       "43999.0      169\n",
       "44773.0      163\n",
       "            ... \n",
       "116300.0       1\n",
       "83500.0        1\n",
       "40994.0        1\n",
       "42846.0        1\n",
       "900.0          1\n",
       "Name: count, Length: 1590, dtype: int64"
      ]
     },
     "execution_count": 17,
     "metadata": {},
     "output_type": "execute_result"
    }
   ],
   "source": [
    "#Determining Value counts on Annual Salary\n",
    "data.AnnualSalary.value_counts()"
   ]
  },
  {
   "cell_type": "raw",
   "id": "5c2c952e-9b7f-46c0-a7b4-5ca1531d94d8",
   "metadata": {},
   "source": [
    "AnnualSalary: This column contains different annual salaries of employees. The count next to each salary value represents the number of times that particular salary appears in the dataset.\n",
    "\n",
    "For example:\n",
    "- Annual salary \"$11310.00\" appears 4811 times in the dataset.\n",
    "- Annual salary \"$20800.00\" appears 325 times.\n",
    "- Annual salary \"$29245.00\" appears 196 times.\n",
    "- Annual salary \"$43999.00\" appears 169 times.\n",
    "- Annual salary \"$44773.00\" appears 163 times.\n",
    "- ...\n",
    "\n",
    "This information provides insights into the distribution of annual salaries among employees, showing which salary values are more common and which ones are less common."
   ]
  },
  {
   "cell_type": "code",
   "execution_count": 18,
   "id": "af8ad2ef",
   "metadata": {},
   "outputs": [
    {
     "data": {
      "text/plain": [
       "count     18981.000000\n",
       "mean      39756.791968\n",
       "std       25173.051216\n",
       "min           0.000000\n",
       "25%       11310.000000\n",
       "50%       36400.000000\n",
       "75%       60598.000000\n",
       "max      238772.000000\n",
       "Name: AnnualSalary, dtype: float64"
      ]
     },
     "execution_count": 18,
     "metadata": {},
     "output_type": "execute_result"
    }
   ],
   "source": [
    "# A overview of the statistical measures for each numerical column in the DataFrame is given by the df.describe() method.\n",
    "# It comprises the following: minimum, 25th percentile (Q1), median (50th percentile or Q2), 75th percentile (Q3), mean, \n",
    "# standard deviation, and count.\n",
    "data.AnnualSalary.describe()"
   ]
  },
  {
   "cell_type": "markdown",
   "id": "8745f375-b107-4bb2-abbd-6ab8858e4cb4",
   "metadata": {},
   "source": [
    "- **Count:** This parameter indicates the total number of data points (or entries) in the \"AnnualSalary\" column. In this case, there are 18,981 entries.\n",
    "\n",
    "- **Mean:** The mean (or average) is the sum of all values in the \"AnnualSalary\" column divided by the count of values. It gives an indication of the central tendency of the salary data.\n",
    "\n",
    "- **Standard Deviation:** The standard deviation measures the dispersion or spread of the salary values around the mean. A higher standard deviation indicates that the salaries are more spread out from the average.\n",
    "\n",
    "- **Minimum Salary:** This parameter represents the smallest value in the \"AnnualSalary\" column. It shows the lowest recorded salary in the dataset.\n",
    "\n",
    "- **25th Percentile (Q1):** The 25th percentile, also known as the first quartile (Q1), indicates the value below which 25% of the salaries fall. It represents the lower end of the salary distribution.\n",
    "\n",
    "- **Median (50th Percentile):** The median is the middle value in a sorted list of salaries. It divides the data into two equal halves, with half of the salaries above and half below this value.\n",
    "\n",
    "- **75th Percentile (Q3):** The 75th percentile, also known as the third quartile (Q3), indicates the value below which 75% of the salaries fall. It represents the upper end of the salary distribution.\n",
    "\n",
    "- **Maximum Salary:** This parameter represents the largest value in the \"AnnualSalary\" column. It shows the highest recorded salary in the dataset.\n"
   ]
  },
  {
   "cell_type": "code",
   "execution_count": 19,
   "id": "fff6bb55",
   "metadata": {},
   "outputs": [
    {
     "name": "stderr",
     "output_type": "stream",
     "text": [
      "C:\\Users\\vaish\\AppData\\Local\\Temp\\ipykernel_38476\\1517985553.py:3: UserWarning: \n",
      "\n",
      "`distplot` is a deprecated function and will be removed in seaborn v0.14.0.\n",
      "\n",
      "Please adapt your code to use either `displot` (a figure-level function with\n",
      "similar flexibility) or `histplot` (an axes-level function for histograms).\n",
      "\n",
      "For a guide to updating your code to use the new functions, please see\n",
      "https://gist.github.com/mwaskom/de44147ed2974457ad6372750bbe5751\n",
      "\n",
      "  sns.distplot(data.AnnualSalary)\n",
      "C:\\Users\\vaish\\anaconda3\\Lib\\site-packages\\seaborn\\_oldcore.py:1119: FutureWarning: use_inf_as_na option is deprecated and will be removed in a future version. Convert inf values to NaN before operating instead.\n",
      "  with pd.option_context('mode.use_inf_as_na', True):\n"
     ]
    },
    {
     "data": {
      "image/png": "[encoded data removed]",
      "text/plain": [
       "<Figure size 640x480 with 1 Axes>"
      ]
     },
     "metadata": {},
     "output_type": "display_data"
    }
   ],
   "source": [
    "#Leaving it alone since all of the data points over the 75% line are quite close to one another.\n",
    "#After completing the data preparation, let's move on to the following phase.\n",
    "sns.distplot(data.AnnualSalary)\n",
    "plt.title(\"Annual Salary Distribution Plot\",fontsize=15)\n",
    "plt.show()\n",
    "#There don't seem to be many people making above $100,000 each year, and the data is dispersed somewhat arbitrarily."
   ]
  },
  {
   "cell_type": "markdown",
   "id": "526c4f1e-536d-417e-807f-ec9806581ca7",
   "metadata": {},
   "source": [
    "Distribution plots show how frequently a variable occurs across different ranges. In this case, the x-axis represents annual salary, and the y-axis represents density. \n",
    "\n",
    "The density curve of the distribution plot reveals that:\n",
    "- There are more employees at lower annual salary ranges.\n",
    "- The curve starts to flatten out around $150,000, suggesting that there are fewer employees with very high salaries.\n"
   ]
  },
  {
   "cell_type": "code",
   "execution_count": 20,
   "id": "dfa73751",
   "metadata": {},
   "outputs": [
    {
     "data": {
      "image/png": "[encoded data removed]",
      "text/plain": [
       "<Figure size 1000x500 with 1 Axes>"
      ]
     },
     "metadata": {},
     "output_type": "display_data"
    }
   ],
   "source": [
    "#Top 10 Jobs based on the hiring.\n",
    "plt.figure(figsize=(10,5))\n",
    "data.groupby(['JobTitle'])[' Name'].count().sort_values(ascending=False).head(10).plot.bar()\n",
    "plt.ylabel('No of people Working')\n",
    "plt.title(\"Top 10 Jobs for which Hiring is Highest\",fontsize=20)\n",
    "plt.show()"
   ]
  },
  {
   "cell_type": "markdown",
   "id": "5d79d343-2628-4e7c-b3a2-a06d2d53a158",
   "metadata": {},
   "source": [
    "### Top 10 Jobs for which Hiring is Highest\n",
    "\n",
    "A pictograph uses symbols to represent data. In this case, each blue stick figure represents 1,000 people working in that job.\n",
    "\n",
    "#### Graph Details:\n",
    "- Title: Top 10 Jobs for which Hiring is Highest\n",
    "- Y-axis: Number of people working in that job title (Scale: 0 to 5,000)\n",
    "- X-axis: Different job titles\n",
    "\n",
    "#### Top 5 Jobs Listed on the Graph (From Most to Least Hiring):\n",
    "1. Aide Blue Chip\n",
    "2. Police Officer\n",
    "3. Laborer (Hourly)\n",
    "4. Firefighter Suppression\n",
    "5. Crossing Guard\n"
   ]
  },
  {
   "cell_type": "code",
   "execution_count": 21,
   "id": "284e53ad",
   "metadata": {},
   "outputs": [
    {
     "data": {
      "image/png": "[encoded data removed]",
      "text/plain": [
       "<Figure size 1000x500 with 1 Axes>"
      ]
     },
     "metadata": {},
     "output_type": "display_data"
    }
   ],
   "source": [
    "#Agencies with the highest number of employees.\n",
    "plt.figure(figsize=(10,5))\n",
    "data.groupby(['Agency'])[' Name'].count().sort_values(ascending=False).head(10).plot.bar()\n",
    "plt.ylabel('No Of Employees')\n",
    "plt.title(\"Top Agencies with Highest number of Employees\",fontsize=18)\n",
    "plt.show()"
   ]
  },
  {
   "cell_type": "markdown",
   "id": "1ccdae2f-8e6a-4660-b20d-f93150053870",
   "metadata": {},
   "source": [
    "It depicts the number of employees working in various departments of a specific government agency.\n",
    "\n",
    "A pictograph uses symbols to represent data. In this case, each symbol (like a house for Public Works or a fire truck for Fire Department) represents a certain number of employees. The number of employees each symbol represents is not provided in the image itself.\n",
    "\n",
    "The y-axis shows the number of employees. The scale goes from 1,000 to 4,000 employees.\n",
    "\n",
    "The x-axis lists the different departments of the agency.\n",
    "\n",
    "Here are some of the departments listed on the graph, from most to least employees:\n",
    "\n",
    "- Youth Summer\n",
    "- Police Department\n",
    "- Fire Department\n",
    "- Water & Waste Water\n",
    "- Health Department\n",
    "- Public Works\n",
    "- Parks & Recreation (part-time)"
   ]
  },
  {
   "cell_type": "code",
   "execution_count": 22,
   "id": "bb92fcbf",
   "metadata": {},
   "outputs": [
    {
     "data": {
      "text/plain": [
       "Index([' Name', 'JobTitle', 'AgencyID', 'Agency', 'HireDate', 'AnnualSalary',\n",
       "       'GrossPay'],\n",
       "      dtype='object')"
      ]
     },
     "execution_count": 22,
     "metadata": {},
     "output_type": "execute_result"
    }
   ],
   "source": [
    "data.columns"
   ]
  },
  {
   "cell_type": "markdown",
   "id": "d0585434-f890-4a21-9e17-f4665ea8b5b1",
   "metadata": {},
   "source": [
    "### Label Encoding.\n",
    "\n",
    "In this part of the we are converting all the categorical values into numeric values with the help of Label Encoding.\n",
    "Label Encoding is a preprocessing technique used in machine learning to convert categorical data into numerical form. In this technique, each unique category (label) in the categorical variable is assigned an integer value. This transformation is useful when working with machine learning algorithms that require numerical input, as they typically do not handle categorical data directly.\n",
    "Then we will spilt the data and apply different models of the data."
   ]
  },
  {
   "cell_type": "code",
   "execution_count": 23,
   "id": "ee91ac6a",
   "metadata": {},
   "outputs": [
    {
     "data": {
      "text/html": [
       "<div>\n",
       "<style scoped>\n",
       "    .dataframe tbody tr th:only-of-type {\n",
       "        vertical-align: middle;\n",
       "    }\n",
       "\n",
       "    .dataframe tbody tr th {\n",
       "        vertical-align: top;\n",
       "    }\n",
       "\n",
       "    .dataframe thead th {\n",
       "        text-align: right;\n",
       "    }\n",
       "</style>\n",
       "<table border=\"1\" class=\"dataframe\">\n",
       "  <thead>\n",
       "    <tr style=\"text-align: right;\">\n",
       "      <th></th>\n",
       "      <th>Name</th>\n",
       "      <th>JobTitle</th>\n",
       "      <th>AgencyID</th>\n",
       "      <th>Agency</th>\n",
       "      <th>HireDate</th>\n",
       "      <th>AnnualSalary</th>\n",
       "      <th>GrossPay</th>\n",
       "    </tr>\n",
       "  </thead>\n",
       "  <tbody>\n",
       "    <tr>\n",
       "      <th>0</th>\n",
       "      <td>0</td>\n",
       "      <td>30</td>\n",
       "      <td>753</td>\n",
       "      <td>63</td>\n",
       "      <td>2035</td>\n",
       "      <td>22</td>\n",
       "      <td>12765</td>\n",
       "    </tr>\n",
       "    <tr>\n",
       "      <th>1</th>\n",
       "      <td>1</td>\n",
       "      <td>418</td>\n",
       "      <td>12</td>\n",
       "      <td>44</td>\n",
       "      <td>3887</td>\n",
       "      <td>765</td>\n",
       "      <td>7452</td>\n",
       "    </tr>\n",
       "    <tr>\n",
       "      <th>2</th>\n",
       "      <td>2</td>\n",
       "      <td>50</td>\n",
       "      <td>107</td>\n",
       "      <td>55</td>\n",
       "      <td>3492</td>\n",
       "      <td>1038</td>\n",
       "      <td>9904</td>\n",
       "    </tr>\n",
       "    <tr>\n",
       "      <th>3</th>\n",
       "      <td>3</td>\n",
       "      <td>368</td>\n",
       "      <td>317</td>\n",
       "      <td>24</td>\n",
       "      <td>2629</td>\n",
       "      <td>913</td>\n",
       "      <td>8464</td>\n",
       "    </tr>\n",
       "    <tr>\n",
       "      <th>4</th>\n",
       "      <td>4</td>\n",
       "      <td>748</td>\n",
       "      <td>616</td>\n",
       "      <td>47</td>\n",
       "      <td>2646</td>\n",
       "      <td>546</td>\n",
       "      <td>4844</td>\n",
       "    </tr>\n",
       "    <tr>\n",
       "      <th>...</th>\n",
       "      <td>...</td>\n",
       "      <td>...</td>\n",
       "      <td>...</td>\n",
       "      <td>...</td>\n",
       "      <td>...</td>\n",
       "      <td>...</td>\n",
       "      <td>...</td>\n",
       "    </tr>\n",
       "    <tr>\n",
       "      <th>18976</th>\n",
       "      <td>18781</td>\n",
       "      <td>30</td>\n",
       "      <td>786</td>\n",
       "      <td>63</td>\n",
       "      <td>1779</td>\n",
       "      <td>22</td>\n",
       "      <td>13732</td>\n",
       "    </tr>\n",
       "    <tr>\n",
       "      <th>18977</th>\n",
       "      <td>18782</td>\n",
       "      <td>30</td>\n",
       "      <td>1109</td>\n",
       "      <td>62</td>\n",
       "      <td>1779</td>\n",
       "      <td>22</td>\n",
       "      <td>13732</td>\n",
       "    </tr>\n",
       "    <tr>\n",
       "      <th>18978</th>\n",
       "      <td>18783</td>\n",
       "      <td>748</td>\n",
       "      <td>616</td>\n",
       "      <td>47</td>\n",
       "      <td>4593</td>\n",
       "      <td>546</td>\n",
       "      <td>1566</td>\n",
       "    </tr>\n",
       "    <tr>\n",
       "      <th>18979</th>\n",
       "      <td>18784</td>\n",
       "      <td>746</td>\n",
       "      <td>544</td>\n",
       "      <td>47</td>\n",
       "      <td>281</td>\n",
       "      <td>549</td>\n",
       "      <td>6592</td>\n",
       "    </tr>\n",
       "    <tr>\n",
       "      <th>18980</th>\n",
       "      <td>18785</td>\n",
       "      <td>1061</td>\n",
       "      <td>186</td>\n",
       "      <td>11</td>\n",
       "      <td>3774</td>\n",
       "      <td>767</td>\n",
       "      <td>7312</td>\n",
       "    </tr>\n",
       "  </tbody>\n",
       "</table>\n",
       "<p>18981 rows × 7 columns</p>\n",
       "</div>"
      ],
      "text/plain": [
       "        Name  JobTitle  AgencyID  Agency  HireDate  AnnualSalary  GrossPay\n",
       "0          0        30       753      63      2035            22     12765\n",
       "1          1       418        12      44      3887           765      7452\n",
       "2          2        50       107      55      3492          1038      9904\n",
       "3          3       368       317      24      2629           913      8464\n",
       "4          4       748       616      47      2646           546      4844\n",
       "...      ...       ...       ...     ...       ...           ...       ...\n",
       "18976  18781        30       786      63      1779            22     13732\n",
       "18977  18782        30      1109      62      1779            22     13732\n",
       "18978  18783       748       616      47      4593           546      1566\n",
       "18979  18784       746       544      47       281           549      6592\n",
       "18980  18785      1061       186      11      3774           767      7312\n",
       "\n",
       "[18981 rows x 7 columns]"
      ]
     },
     "execution_count": 23,
     "metadata": {},
     "output_type": "execute_result"
    }
   ],
   "source": [
    "le = LabelEncoder()\n",
    "\n",
    "# Perform label encoding for each column\n",
    "data[' Name'] = le.fit_transform(data[' Name'])\n",
    "data['JobTitle'] = le.fit_transform(data['JobTitle'])\n",
    "data['AgencyID'] = le.fit_transform(data['AgencyID'])\n",
    "data['Agency'] = le.fit_transform(data['Agency'])\n",
    "data['HireDate'] = le.fit_transform(data['HireDate'])\n",
    "data['AnnualSalary'] = le.fit_transform(data['AnnualSalary'])\n",
    "data['GrossPay'] = le.fit_transform(data['GrossPay'])\n",
    "\n",
    "data"
   ]
  },
  {
   "cell_type": "code",
   "execution_count": 24,
   "id": "a93b237b",
   "metadata": {},
   "outputs": [
    {
     "data": {
      "image/png": "[encoded data removed]",
      "text/plain": [
       "<Figure size 2000x1200 with 2 Axes>"
      ]
     },
     "metadata": {},
     "output_type": "display_data"
    }
   ],
   "source": [
    "# Check colinearity among data columns\n",
    "corr = data.corr()\n",
    "plt.figure(figsize=(20,12))\n",
    "sns.heatmap(corr, annot=True)\n",
    "plt.show()"
   ]
  },
  {
   "cell_type": "markdown",
   "id": "e2403f92-acaf-4790-9521-f3f62d77a0c9",
   "metadata": {},
   "source": [
    "## Understanding Correlation Coefficients\n",
    "\n",
    "In a dataset, each row and column represent a variable. The value at the intersection of a row (variable i) and column (variable j) represents the correlation coefficient between variable i and variable j.\n",
    "\n",
    "- The correlation coefficient ranges from -1 to +1.\n",
    "  - A value of +1 indicates a perfect positive correlation, where the two variables increase or decrease together in a linear fashion.\n",
    "  - A value of -1 indicates a perfect negative correlation, where as one variable increases, the other variable decreases in a linear fashion.\n",
    "  - A value of 0 indicates no linear correlation between the variables.\n",
    "\n",
    "Correlation coefficients provide insights into the strength and direction of relationships between variables, helping analysts understand how variables relate to each other within the dataset.\n"
   ]
  },
  {
   "cell_type": "code",
   "execution_count": 25,
   "id": "f0b29909-e558-4ee2-aafa-d4bc3f57fa47",
   "metadata": {},
   "outputs": [],
   "source": [
    "#Categorising the data into train and test data:\n",
    "\n",
    "#Including all the attributes except income that is the independent variables.\n",
    "X = data.drop('AnnualSalary', axis=1)\n",
    "\n",
    "# Including the dependent variable.\n",
    "Y = data['AnnualSalary']\n",
    "\n",
    "#Splitting the data into train and test that is 80% of data is training data and remaining 20% is testing data.\n",
    "X_Train,X_Test,Y_Train,Y_Test = train_test_split(X, Y ,test_size = 0.2, random_state=42)"
   ]
  },
  {
   "cell_type": "code",
   "execution_count": 26,
   "id": "f1e0d35a",
   "metadata": {},
   "outputs": [
    {
     "name": "stdout",
     "output_type": "stream",
     "text": [
      "\n",
      "X Training Data is\n",
      " 15184 \n",
      "         Name  JobTitle  AgencyID  Agency  HireDate  GrossPay\n",
      "10794  10687       518       195      11      3645      7027\n",
      "15186  15039       451       244      22      4152     10393\n",
      "10097   9999       629       125       4      2672       692\n",
      "9414    9318         1       146      39      2619      2585\n",
      "5903    5850      1065       196      11      4721     12640\n",
      "...      ...       ...       ...     ...       ...       ...\n",
      "11284  11131       537       642      10       733      2811\n",
      "11964  11851       119       144      39      3591      6428\n",
      "5390    5341        30       865      63      2062       325\n",
      "860      919       859       392       9      1101      1733\n",
      "15795  15639        30      1109      62      1967     13732\n",
      "\n",
      "[15184 rows x 6 columns]\n",
      "\n",
      "X Testing Data is\n",
      " 3797 \n",
      "         Name  JobTitle  AgencyID  Agency  HireDate  GrossPay\n",
      "15448  15300       377        22      44       180      1057\n",
      "16204  16041       431       279      22       472     12540\n",
      "9060    8969       708       295      22      2138       726\n",
      "11596  11486       746       511      47      3414      6403\n",
      "8561    8482       858       341      24      2340      1934\n",
      "...      ...       ...       ...     ...       ...       ...\n",
      "14976  14831      1036       221      11      1026      1607\n",
      "6247    6190        30      1043      63      1779     13732\n",
      "5149    5102       752       506      47      2237     12313\n",
      "4896    4851       828       669      52       913       497\n",
      "7149    7082       807        10      44      2920      4984\n",
      "\n",
      "[3797 rows x 6 columns]\n",
      "\n",
      "Y Training Data is\n",
      " 15184 \n",
      " 10794     725\n",
      "15186     991\n",
      "10097    1534\n",
      "9414      335\n",
      "5903     1312\n",
      "         ... \n",
      "11284     145\n",
      "11964     498\n",
      "5390       22\n",
      "860        61\n",
      "15795      22\n",
      "Name: AnnualSalary, Length: 15184, dtype: int64\n",
      "\n",
      "Y Testing Data is\n",
      " 3797 \n",
      " 15448    1563\n",
      "16204    1234\n",
      "9060     1188\n",
      "11596     563\n",
      "8561       87\n",
      "         ... \n",
      "14976     320\n",
      "6247       22\n",
      "5149     1264\n",
      "4896       81\n",
      "7149      476\n",
      "Name: AnnualSalary, Length: 3797, dtype: int64\n"
     ]
    }
   ],
   "source": [
    "print(\"\\nX Training Data is\\n\", len(X_Train), \"\\n\", X_Train)\n",
    "print(\"\\nX Testing Data is\\n\", len(X_Test), \"\\n\", X_Test)\n",
    "print(\"\\nY Training Data is\\n\", len(Y_Train), \"\\n\", Y_Train)\n",
    "print(\"\\nY Testing Data is\\n\", len(Y_Test), \"\\n\", Y_Test)"
   ]
  },
  {
   "cell_type": "markdown",
   "id": "cb8b0d68-7ba4-4a32-bc45-43581bd83024",
   "metadata": {},
   "source": [
    "## Linear Regression:\n",
    "A linear relationship between an independent and dependent variable is provided by the linear regression technique, which is used to forecast the course of future occurrences. Predictive analysis is done using this statistical technique in data science and machine learning.\n",
    "\n",
    "Another name for the independent variable is the predictor or explanatory variable that doesn't change when other variables do. Nonetheless, variations in the independent variable have an impact on the dependent variable. Regression analysis uses a model to predict the value of the dependent variable, which is the response or outcome variable under investigation."
   ]
  },
  {
   "cell_type": "code",
   "execution_count": 27,
   "id": "079c3fee-5d35-45d7-8afe-74ba8efc1ea1",
   "metadata": {},
   "outputs": [
    {
     "data": {
      "text/html": [
       "<style>#sk-container-id-1 {color: black;background-color: white;}#sk-container-id-1 pre{padding: 0;}#sk-container-id-1 div.sk-toggleable {background-color: white;}#sk-container-id-1 label.sk-toggleable__label {cursor: pointer;display: block;width: 100%;margin-bottom: 0;padding: 0.3em;box-sizing: border-box;text-align: center;}#sk-container-id-1 label.sk-toggleable__label-arrow:before {content: \"▸\";float: left;margin-right: 0.25em;color: #696969;}#sk-container-id-1 label.sk-toggleable__label-arrow:hover:before {color: black;}#sk-container-id-1 div.sk-estimator:hover label.sk-toggleable__label-arrow:before {color: black;}#sk-container-id-1 div.sk-toggleable__content {max-height: 0;max-width: 0;overflow: hidden;text-align: left;background-color: #f0f8ff;}#sk-container-id-1 div.sk-toggleable__content pre {margin: 0.2em;color: black;border-radius: 0.25em;background-color: #f0f8ff;}#sk-container-id-1 input.sk-toggleable__control:checked~div.sk-toggleable__content {max-height: 200px;max-width: 100%;overflow: auto;}#sk-container-id-1 input.sk-toggleable__control:checked~label.sk-toggleable__label-arrow:before {content: \"▾\";}#sk-container-id-1 div.sk-estimator input.sk-toggleable__control:checked~label.sk-toggleable__label {background-color: #d4ebff;}#sk-container-id-1 div.sk-label input.sk-toggleable__control:checked~label.sk-toggleable__label {background-color: #d4ebff;}#sk-container-id-1 input.sk-hidden--visually {border: 0;clip: rect(1px 1px 1px 1px);clip: rect(1px, 1px, 1px, 1px);height: 1px;margin: -1px;overflow: hidden;padding: 0;position: absolute;width: 1px;}#sk-container-id-1 div.sk-estimator {font-family: monospace;background-color: #f0f8ff;border: 1px dotted black;border-radius: 0.25em;box-sizing: border-box;margin-bottom: 0.5em;}#sk-container-id-1 div.sk-estimator:hover {background-color: #d4ebff;}#sk-container-id-1 div.sk-parallel-item::after {content: \"\";width: 100%;border-bottom: 1px solid gray;flex-grow: 1;}#sk-container-id-1 div.sk-label:hover label.sk-toggleable__label {background-color: #d4ebff;}#sk-container-id-1 div.sk-serial::before {content: \"\";position: absolute;border-left: 1px solid gray;box-sizing: border-box;top: 0;bottom: 0;left: 50%;z-index: 0;}#sk-container-id-1 div.sk-serial {display: flex;flex-direction: column;align-items: center;background-color: white;padding-right: 0.2em;padding-left: 0.2em;position: relative;}#sk-container-id-1 div.sk-item {position: relative;z-index: 1;}#sk-container-id-1 div.sk-parallel {display: flex;align-items: stretch;justify-content: center;background-color: white;position: relative;}#sk-container-id-1 div.sk-item::before, #sk-container-id-1 div.sk-parallel-item::before {content: \"\";position: absolute;border-left: 1px solid gray;box-sizing: border-box;top: 0;bottom: 0;left: 50%;z-index: -1;}#sk-container-id-1 div.sk-parallel-item {display: flex;flex-direction: column;z-index: 1;position: relative;background-color: white;}#sk-container-id-1 div.sk-parallel-item:first-child::after {align-self: flex-end;width: 50%;}#sk-container-id-1 div.sk-parallel-item:last-child::after {align-self: flex-start;width: 50%;}#sk-container-id-1 div.sk-parallel-item:only-child::after {width: 0;}#sk-container-id-1 div.sk-dashed-wrapped {border: 1px dashed gray;margin: 0 0.4em 0.5em 0.4em;box-sizing: border-box;padding-bottom: 0.4em;background-color: white;}#sk-container-id-1 div.sk-label label {font-family: monospace;font-weight: bold;display: inline-block;line-height: 1.2em;}#sk-container-id-1 div.sk-label-container {text-align: center;}#sk-container-id-1 div.sk-container {/* jupyter's `normalize.less` sets `[hidden] { display: none; }` but bootstrap.min.css set `[hidden] { display: none !important; }` so we also need the `!important` here to be able to override the default hidden behavior on the sphinx rendered scikit-learn.org. See: https://github.com/scikit-learn/scikit-learn/issues/21755 */display: inline-block !important;position: relative;}#sk-container-id-1 div.sk-text-repr-fallback {display: none;}</style><div id=\"sk-container-id-1\" class=\"sk-top-container\"><div class=\"sk-text-repr-fallback\"><pre>LinearRegression()</pre><b>In a Jupyter environment, please rerun this cell to show the HTML representation or trust the notebook. <br />On GitHub, the HTML representation is unable to render, please try loading this page with nbviewer.org.</b></div><div class=\"sk-container\" hidden><div class=\"sk-item\"><div class=\"sk-estimator sk-toggleable\"><input class=\"sk-toggleable__control sk-hidden--visually\" id=\"sk-estimator-id-1\" type=\"checkbox\" checked><label for=\"sk-estimator-id-1\" class=\"sk-toggleable__label sk-toggleable__label-arrow\">LinearRegression</label><div class=\"sk-toggleable__content\"><pre>LinearRegression()</pre></div></div></div></div></div>"
      ],
      "text/plain": [
       "LinearRegression()"
      ]
     },
     "execution_count": 27,
     "metadata": {},
     "output_type": "execute_result"
    }
   ],
   "source": [
    "# Implementing Linear Regression to analyze potential causal relationships\n",
    "model = LinearRegression()\n",
    "model.fit(X_Train,Y_Train)"
   ]
  },
  {
   "cell_type": "code",
   "execution_count": 28,
   "id": "d6dc44e7-714d-4ab5-a053-b15a86d82853",
   "metadata": {},
   "outputs": [
    {
     "name": "stdout",
     "output_type": "stream",
     "text": [
      "Coefficients: [-4.07218935e-04  1.99393948e-01 -7.15796202e-01 -1.08571562e+00\n",
      "  1.81397088e-02  2.44869171e-02]\n",
      "Intercept: 565.9708152999372\n",
      "Mean Squared Error: 125738.65915641598\n"
     ]
    }
   ],
   "source": [
    "# Evaluating the model's performance\n",
    "predictions = model.predict(X_Test)\n",
    "print(\"Coefficients:\", model.coef_)\n",
    "print(\"Intercept:\", model.intercept_)\n",
    "print(f'Mean Squared Error: {mean_squared_error(Y_Test, predictions)}')"
   ]
  },
  {
   "cell_type": "markdown",
   "id": "528ff04c-9b7e-4a00-a3c3-06e2920d8a75",
   "metadata": {},
   "source": [
    "### Model Evaluation Results\n",
    "\n",
    "#### Coefficients:\n",
    "- Name: -9.66676576e-04\n",
    "- JobTitle: 2.99532227e-01\n",
    "- AgencyID: -7.02707113e-01\n",
    "- Agency: -1.39519023e+00\n",
    "- HireDate: 1.68736866e-02\n",
    "- GrossPay: 2.90881417e-02\n",
    "\n",
    "#### Intercept:\n",
    "- Intercept Value: 588.673863322164\n",
    "\n",
    "#### Mean Squared Error (MSE):\n",
    "- MSE: 124774.63746377522\n",
    "\n",
    "These results provide insights into the coefficients assigned to each feature, the intercept value, and the model's performance indicated by the Mean Squared Error (MSE).\n"
   ]
  },
  {
   "cell_type": "code",
   "execution_count": 29,
   "id": "bd7abdb9-0c1e-4497-bb68-6b64518b7fb6",
   "metadata": {},
   "outputs": [
    {
     "name": "stdout",
     "output_type": "stream",
     "text": [
      "                            OLS Regression Results                            \n",
      "==============================================================================\n",
      "Dep. Variable:           AnnualSalary   R-squared:                       0.370\n",
      "Model:                            OLS   Adj. R-squared:                  0.370\n",
      "Method:                 Least Squares   F-statistic:                     1855.\n",
      "Date:                Sat, 23 Mar 2024   Prob (F-statistic):               0.00\n",
      "Time:                        22:59:06   Log-Likelihood:            -1.3833e+05\n",
      "No. Observations:               18981   AIC:                         2.767e+05\n",
      "Df Residuals:                   18974   BIC:                         2.767e+05\n",
      "Df Model:                           6                                         \n",
      "Covariance Type:            nonrobust                                         \n",
      "==============================================================================\n",
      "                 coef    std err          t      P>|t|      [0.025      0.975]\n",
      "------------------------------------------------------------------------------\n",
      "const        566.2350     12.116     46.735      0.000     542.487     589.983\n",
      " Name       9.123e-06      0.000      0.019      0.985      -0.001       0.001\n",
      "JobTitle       0.1935      0.009     21.636      0.000       0.176       0.211\n",
      "AgencyID      -0.7149      0.011    -62.689      0.000      -0.737      -0.693\n",
      "Agency        -1.1093      0.177     -6.254      0.000      -1.457      -0.762\n",
      "HireDate       0.0179      0.002      8.213      0.000       0.014       0.022\n",
      "GrossPay       0.0243      0.001     43.479      0.000       0.023       0.025\n",
      "==============================================================================\n",
      "Omnibus:                      904.428   Durbin-Watson:                   1.822\n",
      "Prob(Omnibus):                  0.000   Jarque-Bera (JB):             1037.298\n",
      "Skew:                           0.563   Prob(JB):                    5.67e-226\n",
      "Kurtosis:                       3.208   Cond. No.                     6.33e+04\n",
      "==============================================================================\n",
      "\n",
      "Notes:\n",
      "[1] Standard Errors assume that the covariance matrix of the errors is correctly specified.\n",
      "[2] The condition number is large, 6.33e+04. This might indicate that there are\n",
      "strong multicollinearity or other numerical problems.\n"
     ]
    }
   ],
   "source": [
    "# Add a constant term to the independent variables (required for the regression model)\n",
    "X = sm.add_constant(X)\n",
    "\n",
    "# Define dependent variable (outcome)\n",
    "Y = data['AnnualSalary']\n",
    "\n",
    "# Fit the Multiple Linear Regression model\n",
    "model = sm.OLS(Y, X).fit()\n",
    "\n",
    "# Print model summary\n",
    "print(model.summary())"
   ]
  },
  {
   "cell_type": "markdown",
   "id": "a817fe58-9b8c-4c7d-b433-ec3f93fae82e",
   "metadata": {},
   "source": [
    "### Linear Regression Results\n",
    "\n",
    "The linear regression model has been applied to predict the 'AnnualSalary' based on several features. Here is the detailed analysis of the model's performance:\n",
    "\n",
    "- **Dependent Variable (Dep. Variable):** AnnualSalary\n",
    "- **R-squared (R²):** 0.412 (41.2% of the variance in 'AnnualSalary' is explained by the model)\n",
    "- **Adjusted R-squared (Adj. R²):** 0.412\n",
    "- **Method:** Least Squares\n",
    "- **F-statistic:** 2213 (indicates the overall significance of the model)\n",
    "- **Prob (F-statistic):** 0.00 (very low, suggesting the model is significant)\n",
    "- **No. Observations:** 18,981\n",
    "- **Df Residuals:** 18,974\n",
    "- **Df Model:** 6\n",
    "- **Covariance Type:** nonrobust\n",
    "\n",
    "#### Coefficients:\n",
    "- **const (Intercept):** 582.5050\n",
    "- **Name:** -0.0004 (not statistically significant with a p-value of 0.351)\n",
    "- **JobTitle:** 0.2956\n",
    "- **AgencyID:** -0.6993\n",
    "- **Agency:** -1.4048\n",
    "- **HireDate:** 0.0175\n",
    "- **GrossPay:** 0.0289\n",
    "\n",
    "#### Standard Errors, t-values, and p-values:\n",
    "- The t-values and p-values assess the individual significance of each coefficient.\n",
    "- JobTitle, AgencyID, Agency, HireDate, and GrossPay have low p-values (less than 0.05), indicating they are statistically significant in predicting AnnualSalary.\n",
    "- The coefficient for 'Name' is not significant as its p-value is relatively high (0.351).\n",
    "\n",
    "#### Model Evaluation:\n",
    "- **Log-Likelihood:** -1.3827e+05\n",
    "- **AIC:** 276500 (Akaike Information Criterion)\n",
    "- **BIC:** 276600 (Bayesian Information Criterion)\n",
    "- The model's log-likelihood, AIC, and BIC help assess the goodness-of-fit and compare this model with others.\n",
    "\n",
    "#### Residual Analysis:\n",
    "- **Omnibus:** 532.476\n",
    "- **Prob(Omnibus):** 0.000 (indicates non-normality in residuals)\n",
    "- **Skew:** 0.426 (positive skewness in residuals)\n",
    "- **Kurtosis:** 3.076 (slightly heavy-tailed distribution)\n",
    "- **Durbin-Watson:** 1.838 (tests for autocorrelation in residuals)\n",
    "\n",
    "\n",
    "These results provide a comprehensive analysis of the linear regression model's performance, including coefficient significance, model fit, and potential issues like multicollinearity and residual non-normality.\n"
   ]
  },
  {
   "cell_type": "markdown",
   "id": "c471f88d-e112-4ea5-bc2d-5cdf2be3960b",
   "metadata": {},
   "source": [
    "# Propensity Score Matching (PSM) Overview\n",
    "\n",
    "Propensity Score Matching (PSM) is a statistical method used in causal inference to estimate the impact of a treatment while accounting for covariates that predict treatment allocation. In this context, PSM is applied to evaluate the effectiveness of additional educational support on student performance. It aims to simulate a randomized experimental design using observational study data, thereby mitigating potential selection bias.\n",
    "\n",
    "Key Metrics Derived from PSM:\n",
    "- **Average Treatment Effect (ATE):** Measures the average impact of the treatment across all individuals in the study.\n",
    "- **Average Treatment effect on the Control group (ATC):** Evaluates the treatment's effect specifically on the control group.\n",
    "- **Average Treatment effect on the Treated group (ATT):** Assesses the treatment's effect on the treated individuals.\n",
    "\n",
    "Interpreting PSM Results:\n",
    "While our analysis suggests a negative impact of the treatment on grades, it's crucial to note that the high p-values indicate a lack of statistical significance. This implies that caution should be exercised when interpreting these results, as they may not be definitive or generalizable.\n"
   ]
  },
  {
   "cell_type": "code",
   "execution_count": 30,
   "id": "97288709-9e9b-4192-981e-3de722a37930",
   "metadata": {},
   "outputs": [
    {
     "name": "stdout",
     "output_type": "stream",
     "text": [
      "Requirement already satisfied: causalinference in c:\\users\\vaish\\anaconda3\\lib\\site-packages (0.1.3)\n"
     ]
    }
   ],
   "source": [
    "!pip install causalinference"
   ]
  },
  {
   "cell_type": "code",
   "execution_count": 31,
   "id": "792994ec-e44b-4bae-a111-d45d6629c482",
   "metadata": {},
   "outputs": [],
   "source": [
    "# Subsetting the data to create a balanced dataset\n",
    "control_data = data.sample(n=500, random_state=42)  # Adjust the sample size as needed\n",
    "treatment_data = data.sample(n=500, random_state=42)  # Adjust the sample size as needed\n",
    "subset_data = pd.concat([control_data, treatment_data])\n",
    "\n",
    "# Defining Y, D, and X based on the column names in your dataset.\n",
    "# Outcome variable.\n",
    "Y = subset_data['GrossPay'].values\n",
    "\n",
    "# Treatment variable (binary, assuming it's a random assignment for treatment/control).\n",
    "D = np.concatenate([np.zeros(500), np.ones(500)])\n",
    "\n",
    "# Covariates.\n",
    "X_columns = [' Name', 'JobTitle', 'AgencyID', 'Agency', 'HireDate']\n",
    "X = subset_data[X_columns].values\n"
   ]
  },
  {
   "cell_type": "code",
   "execution_count": 32,
   "id": "ae2c1c0c-3e11-4f77-8f99-a76f9506967e",
   "metadata": {},
   "outputs": [],
   "source": [
    "# Creating and estimating the Causal Model\n",
    "causal = CausalModel(Y, D, X)\n",
    "causal.est_propensity_s()"
   ]
  },
  {
   "cell_type": "code",
   "execution_count": 33,
   "id": "f6dc65d5-afca-4192-bbe8-d1d45f308122",
   "metadata": {},
   "outputs": [
    {
     "name": "stdout",
     "output_type": "stream",
     "text": [
      "Outcome variable Y data type: int32\n",
      "Treatment Variable D data type: float64\n",
      "Covariates X data types: [dtype('int32'), dtype('int32'), dtype('int32'), dtype('int32'), dtype('int32')]\n"
     ]
    }
   ],
   "source": [
    "# Check data types of Y, D, and X\n",
    "print(\"Outcome variable Y data type:\", Y.dtype)\n",
    "print(\"Treatment Variable D data type:\", D.dtype)\n",
    "print(\"Covariates X data types:\", [X[:, i].dtype for i in range(X.shape[1])])"
   ]
  },
  {
   "cell_type": "code",
   "execution_count": 34,
   "id": "42709caf-93fb-48ec-981f-c26e0502645a",
   "metadata": {},
   "outputs": [
    {
     "name": "stdout",
     "output_type": "stream",
     "text": [
      "Unique values in Treatment Variables D: [0. 1.]\n"
     ]
    }
   ],
   "source": [
    "# Check unique values of the binary treatment variable (D)\n",
    "print(\"Unique values in Treatment Variables D:\", np.unique(D))"
   ]
  },
  {
   "cell_type": "markdown",
   "id": "bb36a24b-6293-4c14-aa0a-086cf7170f19",
   "metadata": {},
   "source": [
    "## Causal Inference Using Propensity Score Matching (PSM)\n",
    "\n",
    "### Causal Model Setup\n",
    "- **Y**: Outcome variable, such as final grades (dependent variable).\n",
    "- **D**: Treatment variable, indicating the treatment or intervention received (e.g., receiving extra educational support).\n",
    "- **X**: Covariates or confounding variables that may influence both the treatment assignment and the outcome (e.g., age, study time, failures).\n",
    "\n",
    "### Estimating Propensity Scores\n",
    "- The `est_propensity_s()` method estimates propensity scores, which are the probabilities of receiving the treatment based on the covariates.\n",
    "- A logistic regression model is typically used to predict these propensity scores.\n",
    "\n",
    "### Propensity Score Matching\n",
    "- The `est_via_matching()` method performs matching based on the estimated propensity scores.\n",
    "- Matching aims to create comparable groups by pairing treated and control units with similar propensity scores.\n",
    "- This process helps balance the distribution of covariates between the treatment and control groups, reducing bias.\n",
    "\n",
    "### Causal Estimates\n",
    "- The `causal.estimates` attribute contains the causal effect estimates obtained from the propensity score matching analysis.\n",
    "- These estimates represent the difference in outcomes (e.g., final grades) between the treated group and the matched control group, adjusted for covariates.\n",
    "- The matching technique helps mitigate selection bias and provides more accurate estimates of the treatment's impact."
   ]
  },
  {
   "cell_type": "code",
   "execution_count": 35,
   "id": "3a1359b2-7754-4fc1-9242-f45df4c42900",
   "metadata": {},
   "outputs": [
    {
     "name": "stdout",
     "output_type": "stream",
     "text": [
      "Causal Estimates:\n",
      " \n",
      "Treatment Effect Estimates: Matching\n",
      "\n",
      "                     Est.       S.e.          z      P>|z|      [95% Conf. int.]\n",
      "--------------------------------------------------------------------------------\n",
      "           ATE      0.000      0.000        nan        nan      0.000      0.000\n",
      "           ATC      0.000      0.000        nan        nan      0.000      0.000\n",
      "           ATT      0.000      0.000        nan        nan      0.000      0.000\n",
      "\n"
     ]
    },
    {
     "name": "stderr",
     "output_type": "stream",
     "text": [
      "C:\\Users\\vaish\\anaconda3\\Lib\\site-packages\\causalinference\\utils\\tools.py:46: RuntimeWarning: invalid value encountered in scalar divide\n",
      "  z = coef / se\n"
     ]
    }
   ],
   "source": [
    "# Re-run the causal model setup and matching\n",
    "causal = CausalModel(Y, D, X)\n",
    "causal.est_propensity_s()\n",
    "causal.est_via_matching()\n",
    "print(\"Causal Estimates:\\n\", causal.estimates)"
   ]
  },
  {
   "cell_type": "markdown",
   "id": "7d19e2dc-98ef-4a34-b815-fe8c586e4b3b",
   "metadata": {},
   "source": [
    "Explanation:\n",
    "- **ATE (Average Treatment Effect)**: Represents the average causal effect of the treatment across the entire population. The estimate is 0.000, indicating no discernible average treatment effect based on matching.\n",
    "- **ATC (Average Treatment Effect on the Treated)**: Measures the average causal effect of the treatment for those who received it. The estimate is 0.000, suggesting no significant effect among the treated.\n",
    "- **ATT (Average Treatment Effect on the Untreated)**: Reflects the average causal effect of the treatment for those who did not receive it. The estimate is 0.000, indicating no notable effect among the untreated group.\n",
    "\n",
    "The \"Est.\", \"S.e.\" (standard error), \"z\" (z-score), \"P>|z|\" (p-value), and the confidence interval \"[95% Conf. int.]\" provide additional statistical information about the estimates. However, the values show as \"nan\" (not a number), indicating insufficient data or undefined calculations."
   ]
  },
  {
   "cell_type": "markdown",
   "id": "01c38139-3bc3-4723-9917-c88662b0adce",
   "metadata": {},
   "source": [
    "# Directed Acyclic Graphs (DAGs) in Causal Inference\n",
    "\n",
    "**Structure of a DAG:**\n",
    "1. **Directed:** DAGs are directed graphs where edges have a specific direction, indicating the direction of causality.\n",
    "2. **Acyclic:** DAGs are acyclic, meaning they do not contain cycles or loops, which is crucial for causal inference.\n",
    "\n",
    "**Nodes and Edges:**\n",
    "- **Nodes:** Represent variables or factors in a system.\n",
    "- **Edges:** Represent causal relationships between nodes, with arrows denoting the direction of causality.\n",
    "\n",
    "**Causal Inference with DAGs:**\n",
    "1. **Identification of Causal Relationships:** Helps identify potential causal relationships between variables.\n",
    "2. **Confounding Variables:** Used to identify and account for confounding variables.\n",
    "3. **Establishing Causality:** Provides a graphical representation of potential causal pathways.\n",
    "4. **Counterfactuals and Interventions:** Enables exploration of \"what-if\" scenarios and intervention effects.\n",
    "\n",
    "In summary, DAGs are fundamental tools in causal inference, providing a structured framework to analyze and interpret causal relationships, control for confounding factors, and make informed decisions based on causal models.\n"
   ]
  },
  {
   "cell_type": "code",
   "execution_count": 36,
   "id": "3b275e93-107e-4cc1-b0a3-694816919204",
   "metadata": {},
   "outputs": [
    {
     "data": {
      "image/png": "[encoded data removed]",
      "text/plain": [
       "<Figure size 1000x600 with 1 Axes>"
      ]
     },
     "metadata": {},
     "output_type": "display_data"
    }
   ],
   "source": [
    "# Create a Directed Graph\n",
    "G = nx.DiGraph()\n",
    "\n",
    "# Define the nodes\n",
    "nodes = ['Name', 'JobTitle', 'AgencyID', 'Agency', 'HireDate']\n",
    "G.add_nodes_from(nodes)\n",
    "\n",
    "# Define the edges\n",
    "edges = [\n",
    "    ('Name', 'JobTitle'),\n",
    "    ('JobTitle', 'AgencyID'),\n",
    "    ('AgencyID', 'Agency'),\n",
    "    ('Agency', 'HireDate'),\n",
    "    ('HireDate', 'Name')  # Assuming a cyclic edge for demonstration\n",
    "]\n",
    "G.add_edges_from(edges)\n",
    "\n",
    "# Draw the graph\n",
    "plt.figure(figsize=(10, 6))\n",
    "pos = nx.spring_layout(G, k=0.5)\n",
    "nx.draw(G, pos, with_labels=True, node_size=2000, node_color='skyblue', arrows=True)\n",
    "plt.title('Directed Graph for Schema')\n",
    "plt.savefig('schema_dag_networkx.png')\n",
    "plt.show()\n"
   ]
  },
  {
   "cell_type": "markdown",
   "id": "510e36de-a790-40c0-b5be-4b0239d5929d",
   "metadata": {},
   "source": [
    "The directed graph represents a conceptual relationship between different attributes in a dataset with nodes representing attributes and directed edges representing relationships or dependencies.\n",
    "\n",
    "- **Nodes**:\n",
    "  - **Name**: Represents the name of an individual.\n",
    "  - **JobTitle**: Represents the job title or position.\n",
    "  - **AgencyID**: Represents the unique identifier of the agency.\n",
    "  - **Agency**: Represents the agency or organization.\n",
    "  - **HireDate**: Represents the date when the individual was hired.\n",
    "\n",
    "- **Edges**:\n",
    "  - **Name -> JobTitle**: Indicates that a person's name is associated with their job title.\n",
    "  - **JobTitle -> AgencyID**: Shows the connection between a job title and its corresponding agency ID.\n",
    "  - **AgencyID -> Agency**: Represents the relationship between the agency ID and the agency name.\n",
    "  - **Agency -> HireDate**: Indicates that an agency is associated with the hire date of employees.\n",
    "  - **HireDate -> Name**: Represents a cyclic edge (assumed for demonstration) where the hire date is connected back to the individual's name, which might not be logical in a real-world scenario but is included here for illustration purposes.\n",
    "\n",
    "- **Graph Visualization**:\n",
    "  - Nodes are depicted as labeled circles in the graph, with each node representing a specific attribute.\n",
    "  - Directed edges (arrows) between nodes show the direction of the relationship or dependency.\n",
    "  - The layout of the graph is determined using the spring layout algorithm (`nx.spring_layout`) for better visualization.\n",
    "\n",
    "The graph helps visualize the interconnections between different attributes in the dataset, showcasing how various elements such as a person's name, job title, agency information, and hire date are related to each other in a directed manner."
   ]
  },
  {
   "cell_type": "code",
   "execution_count": 37,
   "id": "e099a812",
   "metadata": {},
   "outputs": [],
   "source": [
    "#Example-2:"
   ]
  },
  {
   "cell_type": "code",
   "execution_count": 38,
   "id": "c3fcee0f",
   "metadata": {},
   "outputs": [],
   "source": [
    "#Reading the CSV File values in the URL directly into a pandas DataFrame.\n",
    "columns = ['Age', 'Work Class', 'Final Weight', 'Education', 'Education Number', 'Marital Status', 'Occupation',\n",
    "          'Relationship', 'Race', 'Sex', 'Capital Gain', 'Capital Loss', 'Hours per Week', 'Country', 'Income']\n",
    "df = pd.read_csv('https://raw.githubusercontent.com/kb22/Income-Predictor/master/income-dataset.csv', names = columns)"
   ]
  },
  {
   "cell_type": "code",
   "execution_count": 39,
   "id": "9962e175",
   "metadata": {},
   "outputs": [
    {
     "data": {
      "text/plain": [
       "Age                 0\n",
       "Work Class          0\n",
       "Final Weight        0\n",
       "Education           0\n",
       "Education Number    0\n",
       "Marital Status      0\n",
       "Occupation          0\n",
       "Relationship        0\n",
       "Race                0\n",
       "Sex                 0\n",
       "Capital Gain        0\n",
       "Capital Loss        0\n",
       "Hours per Week      0\n",
       "Country             0\n",
       "Income              0\n",
       "dtype: int64"
      ]
     },
     "execution_count": 39,
     "metadata": {},
     "output_type": "execute_result"
    }
   ],
   "source": [
    "#Checking for missing values.\n",
    "df.isnull().sum()"
   ]
  },
  {
   "cell_type": "markdown",
   "id": "96e2da43-ba8a-4860-b3ae-9eb215239838",
   "metadata": {},
   "source": [
    "The output of `df.isnull().sum()` provides information about the number of null (missing) values in each column of the DataFrame (df).\n",
    "\n",
    "- **Age**: There are 0 null values in the \"Age\" column.\n",
    "- **Work Class**: There are 0 null values in the \"Work Class\" column.\n",
    "- **Final Weight**: There are 0 null values in the \"Final Weight\" column.\n",
    "- **Education**: There are 0 null values in the \"Education\" column.\n",
    "- **Education Number**: There are 0 null values in the \"Education Number\" column.\n",
    "- **Marital Status**: There are 0 null values in the \"Marital Status\" column.\n",
    "- **Occupation**: There are 0 null values in the \"Occupation\" column.\n",
    "- **Relationship**: There are 0 null values in the \"Relationship\" column.\n",
    "- **Race**: There are 0 null values in the \"Race\" column.\n",
    "- **Sex**: There are 0 null values in the \"Sex\" column.\n",
    "- **Capital Gain**: There are 0 null values in the \"Capital Gain\" column.\n",
    "- **Capital Loss**: There are 0 null values in the \"Capital Loss\" column.\n",
    "- **Hours per Week**: There are 0 null values in the \"Hours per Week\" column.\n",
    "- **Country**: There are 0 null values in the \"Country\" column.\n",
    "- **Income**: There are 0 null values in the \"Income\" column.\n",
    "\n",
    "The count of null values in each column indicates that there are no missing values present in the dataset for any of these attributes."
   ]
  },
  {
   "cell_type": "code",
   "execution_count": 40,
   "id": "bfe93a09",
   "metadata": {},
   "outputs": [
    {
     "data": {
      "text/plain": [
       "Age                 32561\n",
       "Work Class          32561\n",
       "Final Weight        32561\n",
       "Education           32561\n",
       "Education Number    32561\n",
       "Marital Status      32561\n",
       "Occupation          32561\n",
       "Relationship        32561\n",
       "Race                32561\n",
       "Sex                 32561\n",
       "Capital Gain        32561\n",
       "Capital Loss        32561\n",
       "Hours per Week      32561\n",
       "Country             32561\n",
       "Income              32561\n",
       "dtype: int64"
      ]
     },
     "execution_count": 40,
     "metadata": {},
     "output_type": "execute_result"
    }
   ],
   "source": [
    "# To find the number of non-null (non-missing) values in each column of a DataFrame,df.count() method is used.\n",
    "# It gives back a Series with the counts for every column.\n",
    "df.count()"
   ]
  },
  {
   "cell_type": "markdown",
   "id": "635295b1-e581-44db-8d71-d864a79a8c3a",
   "metadata": {},
   "source": [
    "The output of `df.count()` provides information about the number of non-null values in each column of the DataFrame (df).\n",
    "\n",
    "- **Age**: There are 32,561 non-null values in the \"Age\" column.\n",
    "- **Work Class**: There are 32,561 non-null values in the \"Work Class\" column.\n",
    "- **Final Weight**: There are 32,561 non-null values in the \"Final Weight\" column.\n",
    "- **Education**: There are 32,561 non-null values in the \"Education\" column.\n",
    "- **Education Number**: There are 32,561 non-null values in the \"Education Number\" column.\n",
    "- **Marital Status**: There are 32,561 non-null values in the \"Marital Status\" column.\n",
    "- **Occupation**: There are 32,561 non-null values in the \"Occupation\" column.\n",
    "- **Relationship**: There are 32,561 non-null values in the \"Relationship\" column.\n",
    "- **Race**: There are 32,561 non-null values in the \"Race\" column.\n",
    "- **Sex**: There are 32,561 non-null values in the \"Sex\" column.\n",
    "- **Capital Gain**: There are 32,561 non-null values in the \"Capital Gain\" column.\n",
    "- **Capital Loss**: There are 32,561 non-null values in the \"Capital Loss\" column.\n",
    "- **Hours per Week**: There are 32,561 non-null values in the \"Hours per Week\" column.\n",
    "- **Country**: There are 32,561 non-null values in the \"Country\" column.\n",
    "- **Income**: There are 32,561 non-null values in the \"Income\" column.\n",
    "\n",
    "The count of non-null values in each column indicates that the dataset contains complete data for all attributes, with no missing values present.\n"
   ]
  },
  {
   "cell_type": "code",
   "execution_count": 41,
   "id": "18bdbb5c",
   "metadata": {},
   "outputs": [
    {
     "name": "stdout",
     "output_type": "stream",
     "text": [
      "<class 'pandas.core.frame.DataFrame'>\n",
      "RangeIndex: 32561 entries, 0 to 32560\n",
      "Data columns (total 15 columns):\n",
      " #   Column            Non-Null Count  Dtype \n",
      "---  ------            --------------  ----- \n",
      " 0   Age               32561 non-null  int64 \n",
      " 1   Work Class        32561 non-null  object\n",
      " 2   Final Weight      32561 non-null  int64 \n",
      " 3   Education         32561 non-null  object\n",
      " 4   Education Number  32561 non-null  int64 \n",
      " 5   Marital Status    32561 non-null  object\n",
      " 6   Occupation        32561 non-null  object\n",
      " 7   Relationship      32561 non-null  object\n",
      " 8   Race              32561 non-null  object\n",
      " 9   Sex               32561 non-null  object\n",
      " 10  Capital Gain      32561 non-null  int64 \n",
      " 11  Capital Loss      32561 non-null  int64 \n",
      " 12  Hours per Week    32561 non-null  int64 \n",
      " 13  Country           32561 non-null  object\n",
      " 14  Income            32561 non-null  object\n",
      "dtypes: int64(6), object(9)\n",
      "memory usage: 3.7+ MB\n"
     ]
    }
   ],
   "source": [
    "df.info()"
   ]
  },
  {
   "cell_type": "markdown",
   "id": "53cea213-ffe6-4023-a79b-548f50e15b47",
   "metadata": {},
   "source": [
    "The `df.info()` method provides a concise summary of the DataFrame (df) including information about the data types and non-null counts for each column.\n",
    "\n",
    "- **RangeIndex**: Indicates that the DataFrame has a RangeIndex with 32,561 entries, ranging from 0 to 32,560.\n",
    "- **Data Columns**: The DataFrame has a total of 15 columns.\n",
    "    - **Column Names**: Listed are the names of the columns.\n",
    "    - **Non-Null Count**: Indicates the number of non-null values present in each column.\n",
    "    - **Data Type**: Specifies the data type of each column (`int64` for integer columns and `object` for object/string columns).\n",
    "- **Memory Usage**: Shows the memory usage of the DataFrame.\n",
    "\n",
    "Here's a breakdown of the columns:\n",
    "1. **Age**: Integer column with 32,561 non-null values.\n",
    "2. **Work Class**: Object (string) column with 32,561 non-null values.\n",
    "3. **Final Weight**: Integer column with 32,561 non-null values.\n",
    "4. **Education**: Object (string) column with 32,561 non-null values.\n",
    "5. **Education Number**: Integer column with 32,561 non-null values.\n",
    "6. **Marital Status**: Object (string) column with 32,561 non-null values.\n",
    "7. **Occupation**: Object (string) column with 32,561 non-null values.\n",
    "8. **Relationship**: Object (string) column with 32,561 non-null values.\n",
    "9. **Race**: Object (string) column with 32,561 non-null values.\n",
    "10. **Sex**: Object (string) column with 32,561 non-null values.\n",
    "11. **Capital Gain**: Integer column with 32,561 non-null values.\n",
    "12. **Capital Loss**: Integer column with 32,561 non-null values.\n",
    "13. **Hours per Week**: Integer column with 32,561 non-null values.\n",
    "14. **Country**: Object (string) column with 32,561 non-null values.\n",
    "15. **Income**: Object (string) column with 32,561 non-null values.\n"
   ]
  },
  {
   "cell_type": "code",
   "execution_count": 42,
   "id": "f5f7c625-78b6-43c5-8972-3f7fe4bc4072",
   "metadata": {},
   "outputs": [
    {
     "data": {
      "text/plain": [
       "(32561, 15)"
      ]
     },
     "execution_count": 42,
     "metadata": {},
     "output_type": "execute_result"
    }
   ],
   "source": [
    "#To find a Pandas DataFrame's dimensions, use the df.shape attribute.The number of rows and columns in the DataFrame is returned\n",
    "#as a tuple. Df.shape in our instance shows that our DataFrame has 15 columns and 32,561 rows.\n",
    "df.shape"
   ]
  },
  {
   "cell_type": "code",
   "execution_count": 43,
   "id": "7365cf35-b459-4d28-aae2-5fb3b4065de8",
   "metadata": {},
   "outputs": [
    {
     "data": {
      "text/html": [
       "<div>\n",
       "<style scoped>\n",
       "    .dataframe tbody tr th:only-of-type {\n",
       "        vertical-align: middle;\n",
       "    }\n",
       "\n",
       "    .dataframe tbody tr th {\n",
       "        vertical-align: top;\n",
       "    }\n",
       "\n",
       "    .dataframe thead th {\n",
       "        text-align: right;\n",
       "    }\n",
       "</style>\n",
       "<table border=\"1\" class=\"dataframe\">\n",
       "  <thead>\n",
       "    <tr style=\"text-align: right;\">\n",
       "      <th></th>\n",
       "      <th>Age</th>\n",
       "      <th>Final Weight</th>\n",
       "      <th>Education Number</th>\n",
       "      <th>Capital Gain</th>\n",
       "      <th>Capital Loss</th>\n",
       "      <th>Hours per Week</th>\n",
       "    </tr>\n",
       "  </thead>\n",
       "  <tbody>\n",
       "    <tr>\n",
       "      <th>count</th>\n",
       "      <td>32561.000000</td>\n",
       "      <td>3.256100e+04</td>\n",
       "      <td>32561.000000</td>\n",
       "      <td>32561.000000</td>\n",
       "      <td>32561.000000</td>\n",
       "      <td>32561.000000</td>\n",
       "    </tr>\n",
       "    <tr>\n",
       "      <th>mean</th>\n",
       "      <td>38.581647</td>\n",
       "      <td>1.897784e+05</td>\n",
       "      <td>10.080679</td>\n",
       "      <td>1077.648844</td>\n",
       "      <td>87.303830</td>\n",
       "      <td>40.437456</td>\n",
       "    </tr>\n",
       "    <tr>\n",
       "      <th>std</th>\n",
       "      <td>13.640433</td>\n",
       "      <td>1.055500e+05</td>\n",
       "      <td>2.572720</td>\n",
       "      <td>7385.292085</td>\n",
       "      <td>402.960219</td>\n",
       "      <td>12.347429</td>\n",
       "    </tr>\n",
       "    <tr>\n",
       "      <th>min</th>\n",
       "      <td>17.000000</td>\n",
       "      <td>1.228500e+04</td>\n",
       "      <td>1.000000</td>\n",
       "      <td>0.000000</td>\n",
       "      <td>0.000000</td>\n",
       "      <td>1.000000</td>\n",
       "    </tr>\n",
       "    <tr>\n",
       "      <th>25%</th>\n",
       "      <td>28.000000</td>\n",
       "      <td>1.178270e+05</td>\n",
       "      <td>9.000000</td>\n",
       "      <td>0.000000</td>\n",
       "      <td>0.000000</td>\n",
       "      <td>40.000000</td>\n",
       "    </tr>\n",
       "    <tr>\n",
       "      <th>50%</th>\n",
       "      <td>37.000000</td>\n",
       "      <td>1.783560e+05</td>\n",
       "      <td>10.000000</td>\n",
       "      <td>0.000000</td>\n",
       "      <td>0.000000</td>\n",
       "      <td>40.000000</td>\n",
       "    </tr>\n",
       "    <tr>\n",
       "      <th>75%</th>\n",
       "      <td>48.000000</td>\n",
       "      <td>2.370510e+05</td>\n",
       "      <td>12.000000</td>\n",
       "      <td>0.000000</td>\n",
       "      <td>0.000000</td>\n",
       "      <td>45.000000</td>\n",
       "    </tr>\n",
       "    <tr>\n",
       "      <th>max</th>\n",
       "      <td>90.000000</td>\n",
       "      <td>1.484705e+06</td>\n",
       "      <td>16.000000</td>\n",
       "      <td>99999.000000</td>\n",
       "      <td>4356.000000</td>\n",
       "      <td>99.000000</td>\n",
       "    </tr>\n",
       "  </tbody>\n",
       "</table>\n",
       "</div>"
      ],
      "text/plain": [
       "                Age  Final Weight  Education Number  Capital Gain  \\\n",
       "count  32561.000000  3.256100e+04      32561.000000  32561.000000   \n",
       "mean      38.581647  1.897784e+05         10.080679   1077.648844   \n",
       "std       13.640433  1.055500e+05          2.572720   7385.292085   \n",
       "min       17.000000  1.228500e+04          1.000000      0.000000   \n",
       "25%       28.000000  1.178270e+05          9.000000      0.000000   \n",
       "50%       37.000000  1.783560e+05         10.000000      0.000000   \n",
       "75%       48.000000  2.370510e+05         12.000000      0.000000   \n",
       "max       90.000000  1.484705e+06         16.000000  99999.000000   \n",
       "\n",
       "       Capital Loss  Hours per Week  \n",
       "count  32561.000000    32561.000000  \n",
       "mean      87.303830       40.437456  \n",
       "std      402.960219       12.347429  \n",
       "min        0.000000        1.000000  \n",
       "25%        0.000000       40.000000  \n",
       "50%        0.000000       40.000000  \n",
       "75%        0.000000       45.000000  \n",
       "max     4356.000000       99.000000  "
      ]
     },
     "execution_count": 43,
     "metadata": {},
     "output_type": "execute_result"
    }
   ],
   "source": [
    "# A overview of the statistical measures for each numerical column in the DataFrame is given by the df.describe() method.\n",
    "# It comprises the following: minimum, 25th percentile (Q1), median (50th percentile or Q2), 75th percentile (Q3), mean, \n",
    "# standard deviation, and count.\n",
    "df.describe()"
   ]
  },
  {
   "cell_type": "markdown",
   "id": "6d741692-6273-4c6a-8a79-b5d6639d600d",
   "metadata": {},
   "source": [
    "The output above provides summary statistics for numerical columns in the dataset:\n",
    "\n",
    "- **Age**:\n",
    "  - Count: 32,561 entries with non-null values.\n",
    "  - Mean: 38.58 (average age).\n",
    "  - Standard Deviation (std): 13.64 (measure of age dispersion around the mean).\n",
    "  - Minimum (min) age: 17 years.\n",
    "  - 25th Percentile: 28 years (25% of ages are below this value).\n",
    "  - Median: 37 years (50% of ages are below this value).\n",
    "  - 75th Percentile: 48 years (75% of ages are below this value).\n",
    "  - Maximum (max) age: 90 years.\n",
    "\n",
    "- **Final Weight** (a numerical column representing a weight value):\n",
    "  - Count: 32,561 entries with non-null values.\n",
    "  - Mean: 189,778.4 (average final weight).\n",
    "  - Std: 105,550 (measure of weight dispersion around the mean).\n",
    "  - Min: 12,285 (minimum weight value).\n",
    "  - 25th Percentile: 117,827.0 (25% of weights are below this value).\n",
    "  - Median: 178,356.0 (50% of weights are below this value).\n",
    "  - 75th Percentile: 237,051.0 (75% of weights are below this value).\n",
    "  - Max: 1,484,705 (maximum weight value).\n",
    "\n",
    "- **Education Number** (a numerical column representing education level):\n",
    "  - Count: 32,561 entries with non-null values.\n",
    "  - Mean: 10.08 (average education level).\n",
    "  - Std: 2.57 (measure of education level dispersion around the mean).\n",
    "  - Min: 1 (minimum education level).\n",
    "  - 25th Percentile: 9 (25% of education levels are below this value).\n",
    "  - Median: 10 (50% of education levels are below this value).\n",
    "  - 75th Percentile: 12 (75% of education levels are below this value).\n",
    "  - Max: 16 (maximum education level).\n",
    "\n",
    "- **Capital Gain**, **Capital Loss**, and **Hours per Week** columns follow a similar format, providing count, mean, std, min, 25th percentile, median, 75th percentile, and max values for each respective numerical column.\n"
   ]
  },
  {
   "cell_type": "code",
   "execution_count": 44,
   "id": "4dca64a7-8aa2-4b97-9f07-6a85e95e6433",
   "metadata": {},
   "outputs": [
    {
     "name": "stdout",
     "output_type": "stream",
     "text": [
      "True\n"
     ]
    }
   ],
   "source": [
    "#Checking for the presence of duplicate rows in data\n",
    "print(df.duplicated().any())"
   ]
  },
  {
   "cell_type": "code",
   "execution_count": 45,
   "id": "7924f627-75b4-415c-b6e9-1344412df30b",
   "metadata": {},
   "outputs": [],
   "source": [
    "#Removing the duplicate values,by dropping the duplicate values.\n",
    "df.drop_duplicates(inplace=True)"
   ]
  },
  {
   "cell_type": "code",
   "execution_count": 46,
   "id": "0f171a85-60d9-4342-b160-d7aefb95a7e7",
   "metadata": {},
   "outputs": [
    {
     "name": "stdout",
     "output_type": "stream",
     "text": [
      "False\n"
     ]
    }
   ],
   "source": [
    "#Again Checking for the presence of duplicate rows in data\n",
    "print(df.duplicated().any())"
   ]
  },
  {
   "cell_type": "code",
   "execution_count": 47,
   "id": "acc5d530",
   "metadata": {},
   "outputs": [],
   "source": [
    "df['Age'] = pd.cut(df['Age'], bins = [0, 25, 50, 100], labels = ['Young', 'Adult', 'Old'])"
   ]
  },
  {
   "cell_type": "code",
   "execution_count": 48,
   "id": "206bb0f9",
   "metadata": {},
   "outputs": [
    {
     "name": "stderr",
     "output_type": "stream",
     "text": [
      "C:\\Users\\vaish\\anaconda3\\Lib\\site-packages\\seaborn\\categorical.py:641: FutureWarning: The default of observed=False is deprecated and will be changed to True in a future version of pandas. Pass observed=False to retain current behavior or observed=True to adopt the future default and silence this warning.\n",
      "  grouped_vals = vals.groupby(grouper)\n",
      "C:\\Users\\vaish\\anaconda3\\Lib\\site-packages\\seaborn\\categorical.py:641: FutureWarning: The default of observed=False is deprecated and will be changed to True in a future version of pandas. Pass observed=False to retain current behavior or observed=True to adopt the future default and silence this warning.\n",
      "  grouped_vals = vals.groupby(grouper)\n"
     ]
    },
    {
     "data": {
      "text/plain": [
       "<Axes: xlabel='Age', ylabel='count'>"
      ]
     },
     "execution_count": 48,
     "metadata": {},
     "output_type": "execute_result"
    },
    {
     "data": {
      "image/png": "[encoded data removed]",
      "text/plain": [
       "<Figure size 640x480 with 1 Axes>"
      ]
     },
     "metadata": {},
     "output_type": "display_data"
    }
   ],
   "source": [
    "sns.countplot(x = 'Age', hue = 'Income', data = df)"
   ]
  },
  {
   "cell_type": "markdown",
   "id": "c87ff36d-1530-4a29-a76a-dd8e97458753",
   "metadata": {},
   "source": [
    "# Average Income by Age\n",
    "\n",
    "This graph displays the average income for three age groups: Young, Adult, and Old.\n",
    "\n",
    "- **X-axis**: Age Groups (Young, Adult, Old)\n",
    "- **Y-axis**: Income (0 to 14,000 scale)\n",
    "\n",
    "The graph includes vertical bars for each age group, representing the average income for that age category. Based on the graph:\n",
    "\n",
    "- The \"Young\" age group shows the lowest average income.\n",
    "- The \"Adult\" age group has a higher average income compared to the \"Young\" group but lower than the \"Old\" group.\n",
    "- The \"Old\" age group demonstrates the highest average income among the three age groups.\n",
    "\n",
    "This visualization indicates a trend of increasing income with age, with older individuals generally having higher average incomes.\n"
   ]
  },
  {
   "cell_type": "markdown",
   "id": "6fbba0f4-b447-469d-834d-1c1673bd9503",
   "metadata": {},
   "source": [
    "## Label Encoding.\n",
    "\n",
    "In this part of the we are converting all the categorical values into numeric values with the help of Label Encoding.\n",
    "Label Encoding is a preprocessing technique used in machine learning to convert categorical data into numerical form. In this technique, each unique category (label) in the categorical variable is assigned an integer value. This transformation is useful when working with machine learning algorithms that require numerical input, as they typically do not handle categorical data directly.\n",
    "Then we will spilt the data and apply different models of the data."
   ]
  },
  {
   "cell_type": "code",
   "execution_count": 49,
   "id": "fcaf245c-b612-403a-aca4-5c6a621a96dd",
   "metadata": {},
   "outputs": [],
   "source": [
    "# Initialize LabelEncoder\n",
    "le = LabelEncoder()\n",
    "\n",
    "# Apply label encoding to each column in the DataFrame\n",
    "for col in df.columns:\n",
    "    df[col] = le.fit_transform(df[col])\n"
   ]
  },
  {
   "cell_type": "code",
   "execution_count": 50,
   "id": "09a62839-a3bb-4e37-aa87-1ec5efc4caf2",
   "metadata": {},
   "outputs": [
    {
     "data": {
      "text/html": [
       "<div>\n",
       "<style scoped>\n",
       "    .dataframe tbody tr th:only-of-type {\n",
       "        vertical-align: middle;\n",
       "    }\n",
       "\n",
       "    .dataframe tbody tr th {\n",
       "        vertical-align: top;\n",
       "    }\n",
       "\n",
       "    .dataframe thead th {\n",
       "        text-align: right;\n",
       "    }\n",
       "</style>\n",
       "<table border=\"1\" class=\"dataframe\">\n",
       "  <thead>\n",
       "    <tr style=\"text-align: right;\">\n",
       "      <th></th>\n",
       "      <th>Age</th>\n",
       "      <th>Work Class</th>\n",
       "      <th>Final Weight</th>\n",
       "      <th>Education</th>\n",
       "      <th>Education Number</th>\n",
       "      <th>Marital Status</th>\n",
       "      <th>Occupation</th>\n",
       "      <th>Relationship</th>\n",
       "      <th>Race</th>\n",
       "      <th>Sex</th>\n",
       "      <th>Capital Gain</th>\n",
       "      <th>Capital Loss</th>\n",
       "      <th>Hours per Week</th>\n",
       "      <th>Country</th>\n",
       "      <th>Income</th>\n",
       "    </tr>\n",
       "  </thead>\n",
       "  <tbody>\n",
       "    <tr>\n",
       "      <th>0</th>\n",
       "      <td>0</td>\n",
       "      <td>7</td>\n",
       "      <td>2671</td>\n",
       "      <td>9</td>\n",
       "      <td>12</td>\n",
       "      <td>4</td>\n",
       "      <td>1</td>\n",
       "      <td>1</td>\n",
       "      <td>4</td>\n",
       "      <td>1</td>\n",
       "      <td>25</td>\n",
       "      <td>0</td>\n",
       "      <td>39</td>\n",
       "      <td>39</td>\n",
       "      <td>0</td>\n",
       "    </tr>\n",
       "    <tr>\n",
       "      <th>1</th>\n",
       "      <td>0</td>\n",
       "      <td>6</td>\n",
       "      <td>2926</td>\n",
       "      <td>9</td>\n",
       "      <td>12</td>\n",
       "      <td>2</td>\n",
       "      <td>4</td>\n",
       "      <td>0</td>\n",
       "      <td>4</td>\n",
       "      <td>1</td>\n",
       "      <td>0</td>\n",
       "      <td>0</td>\n",
       "      <td>12</td>\n",
       "      <td>39</td>\n",
       "      <td>0</td>\n",
       "    </tr>\n",
       "    <tr>\n",
       "      <th>2</th>\n",
       "      <td>0</td>\n",
       "      <td>4</td>\n",
       "      <td>14086</td>\n",
       "      <td>11</td>\n",
       "      <td>8</td>\n",
       "      <td>0</td>\n",
       "      <td>6</td>\n",
       "      <td>1</td>\n",
       "      <td>4</td>\n",
       "      <td>1</td>\n",
       "      <td>0</td>\n",
       "      <td>0</td>\n",
       "      <td>39</td>\n",
       "      <td>39</td>\n",
       "      <td>0</td>\n",
       "    </tr>\n",
       "    <tr>\n",
       "      <th>3</th>\n",
       "      <td>1</td>\n",
       "      <td>4</td>\n",
       "      <td>15336</td>\n",
       "      <td>1</td>\n",
       "      <td>6</td>\n",
       "      <td>2</td>\n",
       "      <td>6</td>\n",
       "      <td>0</td>\n",
       "      <td>2</td>\n",
       "      <td>1</td>\n",
       "      <td>0</td>\n",
       "      <td>0</td>\n",
       "      <td>39</td>\n",
       "      <td>39</td>\n",
       "      <td>0</td>\n",
       "    </tr>\n",
       "    <tr>\n",
       "      <th>4</th>\n",
       "      <td>0</td>\n",
       "      <td>4</td>\n",
       "      <td>19355</td>\n",
       "      <td>9</td>\n",
       "      <td>12</td>\n",
       "      <td>2</td>\n",
       "      <td>10</td>\n",
       "      <td>5</td>\n",
       "      <td>2</td>\n",
       "      <td>0</td>\n",
       "      <td>0</td>\n",
       "      <td>0</td>\n",
       "      <td>39</td>\n",
       "      <td>5</td>\n",
       "      <td>0</td>\n",
       "    </tr>\n",
       "    <tr>\n",
       "      <th>...</th>\n",
       "      <td>...</td>\n",
       "      <td>...</td>\n",
       "      <td>...</td>\n",
       "      <td>...</td>\n",
       "      <td>...</td>\n",
       "      <td>...</td>\n",
       "      <td>...</td>\n",
       "      <td>...</td>\n",
       "      <td>...</td>\n",
       "      <td>...</td>\n",
       "      <td>...</td>\n",
       "      <td>...</td>\n",
       "      <td>...</td>\n",
       "      <td>...</td>\n",
       "      <td>...</td>\n",
       "    </tr>\n",
       "    <tr>\n",
       "      <th>32556</th>\n",
       "      <td>0</td>\n",
       "      <td>4</td>\n",
       "      <td>16528</td>\n",
       "      <td>7</td>\n",
       "      <td>11</td>\n",
       "      <td>2</td>\n",
       "      <td>13</td>\n",
       "      <td>5</td>\n",
       "      <td>4</td>\n",
       "      <td>0</td>\n",
       "      <td>0</td>\n",
       "      <td>0</td>\n",
       "      <td>37</td>\n",
       "      <td>39</td>\n",
       "      <td>0</td>\n",
       "    </tr>\n",
       "    <tr>\n",
       "      <th>32557</th>\n",
       "      <td>0</td>\n",
       "      <td>4</td>\n",
       "      <td>8080</td>\n",
       "      <td>11</td>\n",
       "      <td>8</td>\n",
       "      <td>2</td>\n",
       "      <td>7</td>\n",
       "      <td>0</td>\n",
       "      <td>4</td>\n",
       "      <td>1</td>\n",
       "      <td>0</td>\n",
       "      <td>0</td>\n",
       "      <td>39</td>\n",
       "      <td>39</td>\n",
       "      <td>1</td>\n",
       "    </tr>\n",
       "    <tr>\n",
       "      <th>32558</th>\n",
       "      <td>1</td>\n",
       "      <td>4</td>\n",
       "      <td>7883</td>\n",
       "      <td>11</td>\n",
       "      <td>8</td>\n",
       "      <td>6</td>\n",
       "      <td>1</td>\n",
       "      <td>4</td>\n",
       "      <td>4</td>\n",
       "      <td>0</td>\n",
       "      <td>0</td>\n",
       "      <td>0</td>\n",
       "      <td>39</td>\n",
       "      <td>39</td>\n",
       "      <td>0</td>\n",
       "    </tr>\n",
       "    <tr>\n",
       "      <th>32559</th>\n",
       "      <td>2</td>\n",
       "      <td>4</td>\n",
       "      <td>12881</td>\n",
       "      <td>11</td>\n",
       "      <td>8</td>\n",
       "      <td>4</td>\n",
       "      <td>1</td>\n",
       "      <td>3</td>\n",
       "      <td>4</td>\n",
       "      <td>1</td>\n",
       "      <td>0</td>\n",
       "      <td>0</td>\n",
       "      <td>19</td>\n",
       "      <td>39</td>\n",
       "      <td>0</td>\n",
       "    </tr>\n",
       "    <tr>\n",
       "      <th>32560</th>\n",
       "      <td>1</td>\n",
       "      <td>5</td>\n",
       "      <td>17825</td>\n",
       "      <td>11</td>\n",
       "      <td>8</td>\n",
       "      <td>2</td>\n",
       "      <td>4</td>\n",
       "      <td>5</td>\n",
       "      <td>4</td>\n",
       "      <td>0</td>\n",
       "      <td>108</td>\n",
       "      <td>0</td>\n",
       "      <td>39</td>\n",
       "      <td>39</td>\n",
       "      <td>1</td>\n",
       "    </tr>\n",
       "  </tbody>\n",
       "</table>\n",
       "<p>32537 rows × 15 columns</p>\n",
       "</div>"
      ],
      "text/plain": [
       "       Age  Work Class  Final Weight  Education  Education Number  \\\n",
       "0        0           7          2671          9                12   \n",
       "1        0           6          2926          9                12   \n",
       "2        0           4         14086         11                 8   \n",
       "3        1           4         15336          1                 6   \n",
       "4        0           4         19355          9                12   \n",
       "...    ...         ...           ...        ...               ...   \n",
       "32556    0           4         16528          7                11   \n",
       "32557    0           4          8080         11                 8   \n",
       "32558    1           4          7883         11                 8   \n",
       "32559    2           4         12881         11                 8   \n",
       "32560    1           5         17825         11                 8   \n",
       "\n",
       "       Marital Status  Occupation  Relationship  Race  Sex  Capital Gain  \\\n",
       "0                   4           1             1     4    1            25   \n",
       "1                   2           4             0     4    1             0   \n",
       "2                   0           6             1     4    1             0   \n",
       "3                   2           6             0     2    1             0   \n",
       "4                   2          10             5     2    0             0   \n",
       "...               ...         ...           ...   ...  ...           ...   \n",
       "32556               2          13             5     4    0             0   \n",
       "32557               2           7             0     4    1             0   \n",
       "32558               6           1             4     4    0             0   \n",
       "32559               4           1             3     4    1             0   \n",
       "32560               2           4             5     4    0           108   \n",
       "\n",
       "       Capital Loss  Hours per Week  Country  Income  \n",
       "0                 0              39       39       0  \n",
       "1                 0              12       39       0  \n",
       "2                 0              39       39       0  \n",
       "3                 0              39       39       0  \n",
       "4                 0              39        5       0  \n",
       "...             ...             ...      ...     ...  \n",
       "32556             0              37       39       0  \n",
       "32557             0              39       39       1  \n",
       "32558             0              39       39       0  \n",
       "32559             0              19       39       0  \n",
       "32560             0              39       39       1  \n",
       "\n",
       "[32537 rows x 15 columns]"
      ]
     },
     "execution_count": 50,
     "metadata": {},
     "output_type": "execute_result"
    }
   ],
   "source": [
    "df"
   ]
  },
  {
   "cell_type": "code",
   "execution_count": 51,
   "id": "7bf96694-9bc5-4622-b37f-8b652bc5ce4e",
   "metadata": {},
   "outputs": [
    {
     "data": {
      "image/png": "[encoded data removed]",
      "text/plain": [
       "<Figure size 1200x1000 with 2 Axes>"
      ]
     },
     "metadata": {},
     "output_type": "display_data"
    }
   ],
   "source": [
    "#Analyzing the correlation between different variables.\n",
    "plt.figure(figsize=(12, 10))\n",
    "sns.heatmap(df.corr(), annot=True, fmt='.2f')\n",
    "plt.title('Correlation Matrix of Variables')\n",
    "plt.show()"
   ]
  },
  {
   "cell_type": "markdown",
   "id": "ce4ac7b5-45b2-4148-a796-99dc944ad42b",
   "metadata": {},
   "source": [
    "## Understanding Correlation Coefficients\n",
    "In a dataset, each row and column represent a variable. The value at the intersection of a row (variable i) and column (variable j) represents the correlation coefficient between variable i and variable j.\n",
    "\n",
    "The correlation coefficient ranges from -1 to +1.\n",
    "A value of +1 indicates a perfect positive correlation, where the two variables increase or decrease together in a linear fashion.\n",
    "A value of -1 indicates a perfect negative correlation, where as one variable increases, the other variable decreases in a linear fashion.\n",
    "A value of 0 indicates no linear correlation between the variables.\n",
    "Correlation coefficients provide insights into the strength and direction of relationships between variables, helping analysts understand how variables relate to each other within the dataset."
   ]
  },
  {
   "cell_type": "code",
   "execution_count": 52,
   "id": "92c75e58-d2c5-49f9-93c7-f48a66cd61b5",
   "metadata": {},
   "outputs": [],
   "source": [
    "y = df['Income']\n",
    "X = df.drop(['Income'], axis = 1)"
   ]
  },
  {
   "cell_type": "code",
   "execution_count": 53,
   "id": "c5d62614-2f10-4b67-a98e-a981b83f1a35",
   "metadata": {},
   "outputs": [],
   "source": [
    "#Splitting the values into test and train.\n",
    "X_train, X_test, y_train, y_test = train_test_split(X, y, test_size = 0.30, random_state = 0)"
   ]
  },
  {
   "cell_type": "code",
   "execution_count": 54,
   "id": "4960e692-855f-487b-9199-1be97758c3a4",
   "metadata": {},
   "outputs": [
    {
     "name": "stdout",
     "output_type": "stream",
     "text": [
      "\n",
      "X Training Data is\n",
      " 15184 \n",
      "        Age  Work Class  Final Weight  Education  Education Number  \\\n",
      "13011    0           4         18746          9                12   \n",
      "24494    0           4          3963         15                 9   \n",
      "16923    0           4          7214          8                10   \n",
      "25335    0           5         14138         12                13   \n",
      "12363    0           2         16160          8                10   \n",
      "...    ...         ...           ...        ...               ...   \n",
      "13128    0           2          9890          9                12   \n",
      "19657    0           0          1644         11                 8   \n",
      "9848     1           4         14488          0                 5   \n",
      "10802    1           4          2595         15                 9   \n",
      "2732     2           4         11269         15                 9   \n",
      "\n",
      "       Marital Status  Occupation  Relationship  Race  Sex  Capital Gain  \\\n",
      "13011               4          13             3     4    1             0   \n",
      "24494               4           8             1     4    0             0   \n",
      "16923               2           8             0     1    1            91   \n",
      "25335               2          12             0     4    1             0   \n",
      "12363               2          11             0     4    1             0   \n",
      "...               ...         ...           ...   ...  ...           ...   \n",
      "13128               2          10             0     4    1            79   \n",
      "19657               4           0             1     2    1             0   \n",
      "9848                6           8             2     1    0             0   \n",
      "10802               2          13             0     4    1             0   \n",
      "2732                4           8             1     4    1            39   \n",
      "\n",
      "       Capital Loss  Hours per Week  Country  \n",
      "13011             0              39       39  \n",
      "24494             0              39       39  \n",
      "16923             0              59       19  \n",
      "25335            50              59       39  \n",
      "12363             0              39       39  \n",
      "...             ...             ...      ...  \n",
      "13128             0              39       39  \n",
      "19657             0              39       39  \n",
      "9848              0              39       30  \n",
      "10802             0              39       39  \n",
      "2732              0              47       39  \n",
      "\n",
      "[22775 rows x 14 columns]\n",
      "\n",
      "X Testing Data is\n",
      " 3797 \n",
      "        Age  Work Class  Final Weight  Education  Education Number  \\\n",
      "24188    0           4          9219         15                 9   \n",
      "26471    2           4           655         11                 8   \n",
      "26843    0           4         15651         11                 8   \n",
      "8795     1           0           421          5                 3   \n",
      "27178    0           4         14839         11                 8   \n",
      "...    ...         ...           ...        ...               ...   \n",
      "25753    0           4         16586         15                 9   \n",
      "16004    1           0          8512         11                 8   \n",
      "11141    0           4          4593         11                 8   \n",
      "26572    0           4          6736         11                 8   \n",
      "26821    2           4         17502         11                 8   \n",
      "\n",
      "       Marital Status  Occupation  Relationship  Race  Sex  Capital Gain  \\\n",
      "24188               2          12             0     4    1             0   \n",
      "26471               4           6             1     4    1             0   \n",
      "26843               2           3             0     4    1             0   \n",
      "8795                2           0             0     4    1             0   \n",
      "27178               0           3             1     4    1             0   \n",
      "...               ...         ...           ...   ...  ...           ...   \n",
      "25753               4           3             4     4    1             0   \n",
      "16004               0           0             1     4    1            97   \n",
      "11141               5           3             4     2    0             0   \n",
      "26572               2           3             0     4    1             0   \n",
      "26821               2           8             3     2    1             0   \n",
      "\n",
      "       Capital Loss  Hours per Week  Country  \n",
      "24188             0              39       39  \n",
      "26471             0              44       39  \n",
      "26843            50              44       39  \n",
      "8795              0              39       39  \n",
      "27178             0              39       39  \n",
      "...             ...             ...      ...  \n",
      "25753             0              69       26  \n",
      "16004             0              39       39  \n",
      "11141             0              39       39  \n",
      "26572             0              39       39  \n",
      "26821             0              39       39  \n",
      "\n",
      "[9762 rows x 14 columns]\n",
      "\n",
      "Y Training Data is\n",
      " 15184 \n",
      " 13011    0\n",
      "24494    0\n",
      "16923    1\n",
      "25335    1\n",
      "12363    1\n",
      "        ..\n",
      "13128    1\n",
      "19657    0\n",
      "9848     0\n",
      "10802    0\n",
      "2732     0\n",
      "Name: Income, Length: 22775, dtype: int32\n",
      "\n",
      "Y Testing Data is\n",
      " 3797 \n",
      " 24188    1\n",
      "26471    0\n",
      "26843    1\n",
      "8795     1\n",
      "27178    0\n",
      "        ..\n",
      "25753    0\n",
      "16004    1\n",
      "11141    0\n",
      "26572    0\n",
      "26821    0\n",
      "Name: Income, Length: 9762, dtype: int32\n"
     ]
    }
   ],
   "source": [
    "#Displaying the training and testing values.\n",
    "\n",
    "print(\"\\nX Training Data is\\n\", len(X_Train), \"\\n\", X_train)\n",
    "print(\"\\nX Testing Data is\\n\", len(X_Test), \"\\n\", X_test)\n",
    "print(\"\\nY Training Data is\\n\", len(Y_Train), \"\\n\", y_train)\n",
    "print(\"\\nY Testing Data is\\n\", len(Y_Test), \"\\n\", y_test)"
   ]
  },
  {
   "cell_type": "markdown",
   "id": "362e0cbf-3209-4573-b974-0f3ffa163efc",
   "metadata": {},
   "source": [
    "## Linear Regression:\n",
    "A linear relationship between an independent and dependent variable is provided by the linear regression technique, which is used to forecast the course of future occurrences. Predictive analysis is done using this statistical technique in data science and machine learning.\n",
    "\n",
    "Another name for the independent variable is the predictor or explanatory variable that doesn't change when other variables do. Nonetheless, variations in the independent variable have an impact on the dependent variable. Regression analysis uses a model to predict the value of the dependent variable, which is the response or outcome variable under investigation."
   ]
  },
  {
   "cell_type": "code",
   "execution_count": 55,
   "id": "89e5d6ac-fcf5-4517-a66c-f89bd0c0e81d",
   "metadata": {},
   "outputs": [
    {
     "data": {
      "text/html": [
       "<style>#sk-container-id-2 {color: black;background-color: white;}#sk-container-id-2 pre{padding: 0;}#sk-container-id-2 div.sk-toggleable {background-color: white;}#sk-container-id-2 label.sk-toggleable__label {cursor: pointer;display: block;width: 100%;margin-bottom: 0;padding: 0.3em;box-sizing: border-box;text-align: center;}#sk-container-id-2 label.sk-toggleable__label-arrow:before {content: \"▸\";float: left;margin-right: 0.25em;color: #696969;}#sk-container-id-2 label.sk-toggleable__label-arrow:hover:before {color: black;}#sk-container-id-2 div.sk-estimator:hover label.sk-toggleable__label-arrow:before {color: black;}#sk-container-id-2 div.sk-toggleable__content {max-height: 0;max-width: 0;overflow: hidden;text-align: left;background-color: #f0f8ff;}#sk-container-id-2 div.sk-toggleable__content pre {margin: 0.2em;color: black;border-radius: 0.25em;background-color: #f0f8ff;}#sk-container-id-2 input.sk-toggleable__control:checked~div.sk-toggleable__content {max-height: 200px;max-width: 100%;overflow: auto;}#sk-container-id-2 input.sk-toggleable__control:checked~label.sk-toggleable__label-arrow:before {content: \"▾\";}#sk-container-id-2 div.sk-estimator input.sk-toggleable__control:checked~label.sk-toggleable__label {background-color: #d4ebff;}#sk-container-id-2 div.sk-label input.sk-toggleable__control:checked~label.sk-toggleable__label {background-color: #d4ebff;}#sk-container-id-2 input.sk-hidden--visually {border: 0;clip: rect(1px 1px 1px 1px);clip: rect(1px, 1px, 1px, 1px);height: 1px;margin: -1px;overflow: hidden;padding: 0;position: absolute;width: 1px;}#sk-container-id-2 div.sk-estimator {font-family: monospace;background-color: #f0f8ff;border: 1px dotted black;border-radius: 0.25em;box-sizing: border-box;margin-bottom: 0.5em;}#sk-container-id-2 div.sk-estimator:hover {background-color: #d4ebff;}#sk-container-id-2 div.sk-parallel-item::after {content: \"\";width: 100%;border-bottom: 1px solid gray;flex-grow: 1;}#sk-container-id-2 div.sk-label:hover label.sk-toggleable__label {background-color: #d4ebff;}#sk-container-id-2 div.sk-serial::before {content: \"\";position: absolute;border-left: 1px solid gray;box-sizing: border-box;top: 0;bottom: 0;left: 50%;z-index: 0;}#sk-container-id-2 div.sk-serial {display: flex;flex-direction: column;align-items: center;background-color: white;padding-right: 0.2em;padding-left: 0.2em;position: relative;}#sk-container-id-2 div.sk-item {position: relative;z-index: 1;}#sk-container-id-2 div.sk-parallel {display: flex;align-items: stretch;justify-content: center;background-color: white;position: relative;}#sk-container-id-2 div.sk-item::before, #sk-container-id-2 div.sk-parallel-item::before {content: \"\";position: absolute;border-left: 1px solid gray;box-sizing: border-box;top: 0;bottom: 0;left: 50%;z-index: -1;}#sk-container-id-2 div.sk-parallel-item {display: flex;flex-direction: column;z-index: 1;position: relative;background-color: white;}#sk-container-id-2 div.sk-parallel-item:first-child::after {align-self: flex-end;width: 50%;}#sk-container-id-2 div.sk-parallel-item:last-child::after {align-self: flex-start;width: 50%;}#sk-container-id-2 div.sk-parallel-item:only-child::after {width: 0;}#sk-container-id-2 div.sk-dashed-wrapped {border: 1px dashed gray;margin: 0 0.4em 0.5em 0.4em;box-sizing: border-box;padding-bottom: 0.4em;background-color: white;}#sk-container-id-2 div.sk-label label {font-family: monospace;font-weight: bold;display: inline-block;line-height: 1.2em;}#sk-container-id-2 div.sk-label-container {text-align: center;}#sk-container-id-2 div.sk-container {/* jupyter's `normalize.less` sets `[hidden] { display: none; }` but bootstrap.min.css set `[hidden] { display: none !important; }` so we also need the `!important` here to be able to override the default hidden behavior on the sphinx rendered scikit-learn.org. See: https://github.com/scikit-learn/scikit-learn/issues/21755 */display: inline-block !important;position: relative;}#sk-container-id-2 div.sk-text-repr-fallback {display: none;}</style><div id=\"sk-container-id-2\" class=\"sk-top-container\"><div class=\"sk-text-repr-fallback\"><pre>LinearRegression()</pre><b>In a Jupyter environment, please rerun this cell to show the HTML representation or trust the notebook. <br />On GitHub, the HTML representation is unable to render, please try loading this page with nbviewer.org.</b></div><div class=\"sk-container\" hidden><div class=\"sk-item\"><div class=\"sk-estimator sk-toggleable\"><input class=\"sk-toggleable__control sk-hidden--visually\" id=\"sk-estimator-id-2\" type=\"checkbox\" checked><label for=\"sk-estimator-id-2\" class=\"sk-toggleable__label sk-toggleable__label-arrow\">LinearRegression</label><div class=\"sk-toggleable__content\"><pre>LinearRegression()</pre></div></div></div></div></div>"
      ],
      "text/plain": [
       "LinearRegression()"
      ]
     },
     "execution_count": 55,
     "metadata": {},
     "output_type": "execute_result"
    }
   ],
   "source": [
    "# Implementing Linear Regression to analyze potential causal relationships\n",
    "model = LinearRegression()\n",
    "model.fit(X_train,y_train)"
   ]
  },
  {
   "cell_type": "code",
   "execution_count": 56,
   "id": "f8f92253-0e39-4842-9d4f-cc4c7feca2d6",
   "metadata": {},
   "outputs": [
    {
     "name": "stdout",
     "output_type": "stream",
     "text": [
      "Coefficients: [-3.52390013e-02 -6.26189774e-03  3.42909563e-07 -2.86910564e-03\n",
      "  4.14450015e-02 -2.55011109e-02  1.88252418e-03 -2.44124347e-02\n",
      "  1.46670491e-02  8.58858637e-02  4.88368201e-03  5.74356104e-03\n",
      "  2.98694277e-03 -2.15556338e-04]\n",
      "Intercept: -0.24111368936979027\n",
      "Mean Squared Error: 0.13011027093106473\n"
     ]
    }
   ],
   "source": [
    "# Evaluating the model's performance\n",
    "predictions = model.predict(X_test)\n",
    "print(\"Coefficients:\", model.coef_)\n",
    "print(\"Intercept:\", model.intercept_)\n",
    "print(f'Mean Squared Error: {mean_squared_error(y_test, predictions)}')"
   ]
  },
  {
   "cell_type": "markdown",
   "id": "b5e450aa-3bdb-4f18-a93e-d841649c5a1a",
   "metadata": {},
   "source": [
    "## Model Evaluation Results\n",
    "\n",
    "### Coefficients:\n",
    "- Feature 1 (Age): 0.0041\n",
    "- Feature 2 (Work Class): -0.0043\n",
    "- Feature 3 (Final Weight): 0.00000089\n",
    "- Feature 4 (Education): -0.0026\n",
    "- Feature 5 (Education Number): 0.043\n",
    "- Feature 6 (Marital Status): -0.022\n",
    "- Feature 7 (Occupation): 0.0023\n",
    "- Feature 8 (Relationship): -0.017\n",
    "- Feature 9 (Race): 0.013\n",
    "- Feature 10 (Sex): 0.095\n",
    "- Feature 11 (Capital Gain): 0.0047\n",
    "- Feature 12 (Capital Loss): 0.0055\n",
    "- Feature 13 (Hours per Week): 0.0036\n",
    "- Feature 14 (Country): -0.00023\n",
    "\n",
    "### Intercept:\n",
    "- Intercept Value: -0.4235\n",
    "\n",
    "### Mean Squared Error (MSE):\n",
    "- MSE: 0.128\n",
    "\n",
    "These results represent the coefficients assigned to each feature in the model, the intercept value, and the model's performance indicated by the Mean Squared Error (MSE). Positive coefficients indicate a positive correlation with the target variable, while negative coefficients indicate a negative correlation.\n"
   ]
  },
  {
   "cell_type": "code",
   "execution_count": 57,
   "id": "0114f1dd-80a5-423e-9b40-ec4ed8507db9",
   "metadata": {},
   "outputs": [
    {
     "name": "stdout",
     "output_type": "stream",
     "text": [
      "                            OLS Regression Results                            \n",
      "==============================================================================\n",
      "Dep. Variable:                 Income   R-squared:                       0.293\n",
      "Model:                            OLS   Adj. R-squared:                  0.292\n",
      "Method:                 Least Squares   F-statistic:                     960.9\n",
      "Date:                Sat, 23 Mar 2024   Prob (F-statistic):               0.00\n",
      "Time:                        22:59:15   Log-Likelihood:                -12897.\n",
      "No. Observations:               32537   AIC:                         2.582e+04\n",
      "Df Residuals:                   32522   BIC:                         2.595e+04\n",
      "Df Model:                          14                                         \n",
      "Covariance Type:            nonrobust                                         \n",
      "====================================================================================\n",
      "                       coef    std err          t      P>|t|      [0.025      0.975]\n",
      "------------------------------------------------------------------------------------\n",
      "const               -0.2463      0.018    -13.563      0.000      -0.282      -0.211\n",
      "Age                 -0.0363      0.003    -13.076      0.000      -0.042      -0.031\n",
      "Work Class          -0.0050      0.001     -3.504      0.000      -0.008      -0.002\n",
      "Final Weight      4.363e-07   3.31e-07      1.318      0.187   -2.12e-07    1.09e-06\n",
      "Education           -0.0034      0.001     -6.107      0.000      -0.004      -0.002\n",
      "Education Number     0.0420      0.001     48.607      0.000       0.040       0.044\n",
      "Marital Status      -0.0260      0.001    -18.257      0.000      -0.029      -0.023\n",
      "Occupation           0.0017      0.000      3.528      0.000       0.001       0.003\n",
      "Relationship        -0.0226      0.002    -14.354      0.000      -0.026      -0.019\n",
      "Race                 0.0148      0.002      6.164      0.000       0.010       0.019\n",
      "Sex                  0.0869      0.005     16.449      0.000       0.077       0.097\n",
      "Capital Gain         0.0050   8.75e-05     57.424      0.000       0.005       0.005\n",
      "Capital Loss         0.0058      0.000     28.814      0.000       0.005       0.006\n",
      "Hours per Week       0.0028      0.000     15.563      0.000       0.002       0.003\n",
      "Country          -3.296e-05      0.000     -0.127      0.899      -0.001       0.000\n",
      "==============================================================================\n",
      "Omnibus:                     3447.044   Durbin-Watson:                   1.994\n",
      "Prob(Omnibus):                  0.000   Jarque-Bera (JB):             4680.149\n",
      "Skew:                           0.928   Prob(JB):                         0.00\n",
      "Kurtosis:                       3.096   Cond. No.                     1.11e+05\n",
      "==============================================================================\n",
      "\n",
      "Notes:\n",
      "[1] Standard Errors assume that the covariance matrix of the errors is correctly specified.\n",
      "[2] The condition number is large, 1.11e+05. This might indicate that there are\n",
      "strong multicollinearity or other numerical problems.\n"
     ]
    }
   ],
   "source": [
    "# Add a constant term to the independent variables (required for the regression model)\n",
    "X = sm.add_constant(X)\n",
    "\n",
    "# Define dependent variable (outcome)\n",
    "y = df['Income'] \n",
    "\n",
    "# Fit the Multiple Linear Regression model\n",
    "model = sm.OLS(y, X).fit()\n",
    "\n",
    "# Print model summary\n",
    "print(model.summary())"
   ]
  },
  {
   "cell_type": "markdown",
   "id": "e59bcea4-7e7d-442d-83c2-e5b6d68bae60",
   "metadata": {},
   "source": [
    "## Model Information\n",
    "\n",
    "### Dependent Variable: 'Income'\n",
    "The variable we are trying to predict.\n",
    "\n",
    "### R-squared\n",
    "The coefficient of determination, which measures the proportion of the variance in the dependent variable that is predictable from the independent variables. R-squared is 0.293, indicating that approximately 29.3% of the variance in income can be explained by the independent variables in the model.\n",
    "\n",
    "### Adjusted R-squared\n",
    "The R-squared value adjusted for the number of predictors in the model. Adjusted R-squared is 0.292.\n",
    "\n",
    "## Model Fit\n",
    "\n",
    "### F-statistic\n",
    "This is the overall significance of the model. The F-statistic is 960.9 with a very low p-value, suggesting that the model as a whole is significant.\n",
    "\n",
    "## Coefficients\n",
    "\n",
    "### Constant (Intercept)\n",
    "The intercept term in the regression equation. It represents the expected value of 'Income' when all other independent variables are zero. The constant is -0.2463.\n",
    "\n",
    "### Independent Variables\n",
    "- Age: -0.0363\n",
    "- Work Class: -0.0050\n",
    "- Final Weight: 4.363e-07\n",
    "- Education: -0.0034\n",
    "- Education Number: 0.0420\n",
    "- Marital Status: -0.0260\n",
    "- Occupation: 0.0017\n",
    "- Relationship: -0.0226\n",
    "- Race: 0.0148\n",
    "- Sex: 0.0869\n",
    "- Capital Gain: 0.0050\n",
    "- Capital Loss: 0.0058\n",
    "- Hours per Week: 0.0028\n",
    "- Country: -3.296e-05 (insignificant)\n",
    "\n",
    "### Standard Errors\n",
    "These measure the precision of the coefficient estimates.\n",
    "\n",
    "### P-values\n",
    "A low p-value (< 0.05) indicates statistical significance.\n",
    "\n",
    "### Confidence Intervals\n",
    "Provide a range within which we can be confident that the true coefficient lies.\n",
    "\n",
    "Overall, the model shows predictive power but may have room for improvement or considerations for multicollinearity.\n"
   ]
  },
  {
   "cell_type": "markdown",
   "id": "ca478c0e-a4d2-4e99-a943-8a8ae0f55036",
   "metadata": {},
   "source": [
    "# Propensity Score Matching (PSM) Overview\n",
    "\n",
    "Propensity Score Matching (PSM) is a statistical method used in causal inference to estimate the impact of a treatment while accounting for covariates that predict treatment allocation. In this context, PSM is applied to evaluate the effectiveness of additional educational support on student performance. It aims to simulate a randomized experimental design using observational study data, thereby mitigating potential selection bias.\n",
    "\n",
    "Key Metrics Derived from PSM:\n",
    "- **Average Treatment Effect (ATE):** Measures the average impact of the treatment across all individuals in the study.\n",
    "- **Average Treatment effect on the Control group (ATC):** Evaluates the treatment's effect specifically on the control group.\n",
    "- **Average Treatment effect on the Treated group (ATT):** Assesses the treatment's effect on the treated individuals.\n",
    "\n",
    "Interpreting PSM Results:\n",
    "While our analysis suggests a negative impact of the treatment on grades, it's crucial to note that the high p-values indicate a lack of statistical significance. This implies that caution should be exercised when interpreting these results, as they may not be definitive or generalizable.\n"
   ]
  },
  {
   "cell_type": "code",
   "execution_count": 58,
   "id": "fc1fa7d6-3d7a-49bb-b46f-2112ffc648a8",
   "metadata": {},
   "outputs": [
    {
     "name": "stdout",
     "output_type": "stream",
     "text": [
      "Requirement already satisfied: causalinference in c:\\users\\vaish\\anaconda3\\lib\\site-packages (0.1.3)\n"
     ]
    }
   ],
   "source": [
    "!pip install causalinference"
   ]
  },
  {
   "cell_type": "code",
   "execution_count": 59,
   "id": "4fd954b1-7334-4c54-8703-89a2f79d1256",
   "metadata": {},
   "outputs": [],
   "source": [
    "# Subsetting the data to create a balanced dataset\n",
    "control_data = df[df['Income'] == 0].sample(n=500, random_state=42)  # Adjust the sample size as needed\n",
    "treatment_data = df[df['Income'] == 1].sample(n=500, random_state=42, replace=True)  # Adjust the sample size as needed\n",
    "subset_data = pd.concat([control_data, treatment_data])\n",
    "\n",
    "# Defining Y, D, and X based on the column names in your dataset.\n",
    "# Outcome variable.\n",
    "Y = subset_data['Age'].values  \n",
    "\n",
    "# Treatment variable (binary).\n",
    "D = subset_data['Income'].values  \n",
    "\n",
    "# Covariates.\n",
    "X_columns = ['Education', 'Work Class', 'Hours per Week']\n",
    "X = subset_data[X_columns].values\n"
   ]
  },
  {
   "cell_type": "code",
   "execution_count": 60,
   "id": "0207b201-fbff-4141-aa93-eb579a14c264",
   "metadata": {},
   "outputs": [],
   "source": [
    "# Creating and estimating the Causal Model\n",
    "causal = CausalModel(Y, D, X)\n",
    "causal.est_propensity_s()"
   ]
  },
  {
   "cell_type": "code",
   "execution_count": 61,
   "id": "d6452471-cf74-428f-a0e0-2e76bd68eeff",
   "metadata": {},
   "outputs": [
    {
     "name": "stdout",
     "output_type": "stream",
     "text": [
      "Outcome variable Y data type: int32\n",
      "Treatment Variable D data type: int32\n",
      "Covariates X data types: [dtype('int64'), dtype('int64'), dtype('int64')]\n"
     ]
    }
   ],
   "source": [
    "# Check data types of Y, D, and X\n",
    "print(\"Outcome variable Y data type:\", Y.dtype)\n",
    "print(\"Treatment Variable D data type:\", D.dtype)\n",
    "print(\"Covariates X data types:\", [X[:, i].dtype for i in range(X.shape[1])])"
   ]
  },
  {
   "cell_type": "code",
   "execution_count": 62,
   "id": "607557c8-de0c-4101-9455-e8f1703538ca",
   "metadata": {},
   "outputs": [
    {
     "name": "stdout",
     "output_type": "stream",
     "text": [
      "Unique values in Treatment Variables D: [0 1]\n"
     ]
    }
   ],
   "source": [
    "# Check unique values of the binary treatment variable (D)\n",
    "print(\"Unique values in Treatment Variables D:\", np.unique(D))"
   ]
  },
  {
   "cell_type": "markdown",
   "id": "e01b0300-6aa6-4e37-9df4-14d7d0b876ea",
   "metadata": {},
   "source": [
    "## Causal Inference Using Propensity Score Matching (PSM)\n",
    "\n",
    "### Causal Model Setup\n",
    "- **Y**: Outcome variable, such as final grades (dependent variable).\n",
    "- **D**: Treatment variable, indicating the treatment or intervention received (e.g., receiving extra educational support).\n",
    "- **X**: Covariates or confounding variables that may influence both the treatment assignment and the outcome (e.g., age, study time, failures).\n",
    "\n",
    "### Estimating Propensity Scores\n",
    "- The `est_propensity_s()` method estimates propensity scores, which are the probabilities of receiving the treatment based on the covariates.\n",
    "- A logistic regression model is typically used to predict these propensity scores.\n",
    "\n",
    "### Propensity Score Matching\n",
    "- The `est_via_matching()` method performs matching based on the estimated propensity scores.\n",
    "- Matching aims to create comparable groups by pairing treated and control units with similar propensity scores.\n",
    "- This process helps balance the distribution of covariates between the treatment and control groups, reducing bias.\n",
    "\n",
    "### Causal Estimates\n",
    "- The `causal.estimates` attribute contains the causal effect estimates obtained from the propensity score matching analysis.\n",
    "- These estimates represent the difference in outcomes (e.g., final grades) between the treated group and the matched control group, adjusted for covariates.\n",
    "- The matching technique helps mitigate selection bias and provides more accurate estimates of the treatment's impact."
   ]
  },
  {
   "cell_type": "code",
   "execution_count": 63,
   "id": "ca07b6e7-c6fc-406a-b09e-2d61d4bdad70",
   "metadata": {},
   "outputs": [
    {
     "name": "stdout",
     "output_type": "stream",
     "text": [
      "Causal Estimates:\n",
      " \n",
      "Treatment Effect Estimates: Matching\n",
      "\n",
      "                     Est.       S.e.          z      P>|z|      [95% Conf. int.]\n",
      "--------------------------------------------------------------------------------\n",
      "           ATE     -0.219      0.060     -3.632      0.000     -0.338     -0.101\n",
      "           ATC     -0.296      0.069     -4.308      0.000     -0.431     -0.161\n",
      "           ATT     -0.142      0.072     -1.963      0.050     -0.284     -0.000\n",
      "\n"
     ]
    }
   ],
   "source": [
    "# Re-run the causal model setup and matching\n",
    "causal = CausalModel(Y, D, X)\n",
    "causal.est_propensity_s()\n",
    "causal.est_via_matching()\n",
    "print(\"Causal Estimates:\\n\", causal.estimates)"
   ]
  },
  {
   "cell_type": "markdown",
   "id": "a7482552-779d-4978-ad72-f00ca5d272b2",
   "metadata": {},
   "source": [
    "## ATE (Average Treatment Effect):\n",
    "\n",
    "- **Estimation:** The ATE is estimated to be -0.219.\n",
    "- **Standard Error (S.e.):** The standard error associated with the ATE estimate is 0.060.\n",
    "- **Z-score (z):** The z-score for the ATE is -3.632, indicating the number of standard deviations the estimate is from the mean.\n",
    "- **p-value (P>|z|):** The p-value associated with the z-score is very low (0.000), indicating that the ATE estimate is statistically significant.\n",
    "- **Confidence Interval:** The 95% confidence interval for the ATE ranges from -0.338 to -0.101.\n",
    "\n",
    "## ATC (Average Treatment Effect on the Treated):\n",
    "\n",
    "- **Estimation:** The ATC is estimated to be -0.296.\n",
    "- **Standard Error (S.e.):** The standard error associated with the ATC estimate is 0.069.\n",
    "- **Z-score (z):** The z-score for the ATC is -4.308, indicating strong evidence against the null hypothesis.\n",
    "- **p-value (P>|z|):** The p-value associated with the z-score is very low (0.000), indicating that the ATC estimate is statistically significant.\n",
    "- **Confidence Interval:** The 95% confidence interval for the ATC ranges from -0.431 to -0.161.\n",
    "\n",
    "## ATT (Average Treatment Effect on the Untreated):\n",
    "\n",
    "- **Estimation:** The ATT is estimated to be -0.142.\n",
    "- **Standard Error (S.e.):** The standard error associated with the ATT estimate is 0.072.\n",
    "- **Z-score (z):** The z-score for the ATT is -1.963.\n",
    "- **p-value (P>|z|):** The p-value associated with the z-score is 0.050, which is slightly above the typical significance level of 0.05 but still suggests some evidence against the null hypothesis.\n",
    "- **Confidence Interval:** The 95% confidence interval for the ATT ranges from -0.284 to -0.000.\n"
   ]
  },
  {
   "cell_type": "markdown",
   "id": "397f35b1-9ccc-4faf-9c73-cbc9ab50f085",
   "metadata": {},
   "source": [
    "# Directed Acyclic Graphs (DAGs) in Causal Inference\n",
    "\n",
    "**Structure of a DAG:**\n",
    "1. **Directed:** DAGs are directed graphs where edges have a specific direction, indicating the direction of causality.\n",
    "2. **Acyclic:** DAGs are acyclic, meaning they do not contain cycles or loops, which is crucial for causal inference.\n",
    "\n",
    "**Nodes and Edges:**\n",
    "- **Nodes:** Represent variables or factors in a system.\n",
    "- **Edges:** Represent causal relationships between nodes, with arrows denoting the direction of causality.\n",
    "\n",
    "**Causal Inference with DAGs:**\n",
    "1. **Identification of Causal Relationships:** Helps identify potential causal relationships between variables.\n",
    "2. **Confounding Variables:** Used to identify and account for confounding variables.\n",
    "3. **Establishing Causality:** Provides a graphical representation of potential causal pathways.\n",
    "4. **Counterfactuals and Interventions:** Enables exploration of \"what-if\" scenarios and intervention effects.\n",
    "\n",
    "In summary, DAGs are fundamental tools in causal inference, providing a structured framework to analyze and interpret causal relationships, control for confounding factors, and make informed decisions based on causal models.\n"
   ]
  },
  {
   "cell_type": "code",
   "execution_count": 64,
   "id": "8829a0aa-24ed-40b4-9b58-2e6f921d3071",
   "metadata": {},
   "outputs": [
    {
     "data": {
      "image/png": "[encoded data removed]",
      "text/plain": [
       "<Figure size 1200x800 with 1 Axes>"
      ]
     },
     "metadata": {},
     "output_type": "display_data"
    }
   ],
   "source": [
    "# Define the nodes based on the schema\n",
    "nodes = ['Age', 'Work Class', 'Final Weight', 'Education', 'Education Number',\n",
    "         'Marital Status', 'Occupation', 'Relationship', 'Race', 'Sex',\n",
    "         'Capital Gain', 'Capital Loss', 'Hours per Week', 'Country', 'Income']\n",
    "G.add_nodes_from(nodes)\n",
    "\n",
    "# Define the edges based on relationships in the schema\n",
    "edges = [\n",
    "    ('Age', 'Education'),\n",
    "    ('Work Class', 'Occupation'),\n",
    "    ('Education', 'Education Number'),\n",
    "    ('Marital Status', 'Relationship'),\n",
    "    ('Race', 'Sex'),\n",
    "    ('Capital Gain', 'Income'),\n",
    "    ('Capital Loss', 'Income'),\n",
    "    ('Hours per Week', 'Income'),\n",
    "    ('Country', 'Income')\n",
    "]\n",
    "G.add_edges_from(edges)\n",
    "\n",
    "# Draw the graph\n",
    "plt.figure(figsize=(12, 8))\n",
    "pos = nx.spring_layout(G, k=0.5)\n",
    "nx.draw(G, pos, with_labels=True, node_size=2000, node_color='skyblue', arrows=True)\n",
    "plt.title('Directed Acyclic Graph (DAG)')\n",
    "plt.show()"
   ]
  },
  {
   "cell_type": "markdown",
   "id": "2f559339-167d-45a1-a6de-7e4e3ac6b6fb",
   "metadata": {},
   "source": [
    "The directed acyclic graph (DAG) generated from the provided schema represents the relationships between different variables. Here's an explanation of the DAG based on the output:\n",
    "\n",
    "1. **Nodes**:\n",
    "   - **Age**: Represents the age of individuals.\n",
    "   - **Work Class**: Represents the type of work or employment class.\n",
    "   - **Final Weight**: Represents a statistical weighting factor.\n",
    "   - **Education**: Represents the level of education attained.\n",
    "   - **Education Number**: Represents a numerical encoding of education level.\n",
    "   - **Marital Status**: Represents the marital status of individuals.\n",
    "   - **Occupation**: Represents the occupation or job type.\n",
    "   - **Relationship**: Represents the type of relationship (e.g., spouse, child, etc.).\n",
    "   - **Race**: Represents the race or ethnicity of individuals.\n",
    "   - **Sex**: Represents the gender or sex of individuals.\n",
    "   - **Capital Gain**: Represents the capital gains made.\n",
    "   - **Capital Loss**: Represents the capital losses incurred.\n",
    "   - **Hours per Week**: Represents the number of hours worked per week.\n",
    "   - **Country**: Represents the country of origin or residence.\n",
    "   - **Income**: Represents the income level or financial status.\n",
    "\n",
    "2. **Edges**:\n",
    "   - **Age → Education**: Indicates that age may influence the level of education attained.\n",
    "   - **Work Class → Occupation**: Indicates that the type of work is related to occupation.\n",
    "   - **Education → Education Number**: Indicates that education level can be numerically encoded.\n",
    "   - **Marital Status → Relationship**: Indicates that marital status is related to the type of relationship.\n",
    "   - **Race → Sex**: Indicates a relationship between race or ethnicity and gender.\n",
    "   - **Capital Gain, Capital Loss, Hours per Week, Country → Income**: Indicate that factors like capital gains, losses, hours worked per week, and country of residence can influence income level.\n",
    "\n",
    "3. **Interpretation**:\n",
    "   - The graph helps visualize how different variables in the schema are interconnected and influence each other.\n",
    "   - For example, education may be influenced by age, and income may be influenced by various factors such as capital gains, hours worked, and country of residence.\n",
    "   - The arrows show the direction of influence or causality implied by the relationships between variables.\n",
    "\n",
    "Overall, the DAG provides a structured representation of the variables and their relationships, which can be useful for understanding the data and potential causal pathways between variables.\n"
   ]
  },
  {
   "cell_type": "markdown",
   "id": "58bcc1a2-9b2f-4812-b615-332fdd870927",
   "metadata": {},
   "source": [
    "## Conclusion\n",
    "These methods provide valuable insights into understanding the causal impact of variables within a dataset.\n",
    "\n",
    "To effectively apply these techniques, it's crucial to carefully plan the study, address potential biases, and validate results with robust checks. Each method contributes to a nuanced grasp of causality, empowering researchers and professionals to draw dependable conclusions and make informed choices based on real-world data. As the field of causal inference progresses, leveraging these techniques enhances our capacity to uncover meaningful insights and contribute to evidence-driven decision-making processes."
   ]
  },
  {
   "cell_type": "markdown",
   "id": "f7e46284-bb92-4618-a050-368f6cfcbeb9",
   "metadata": {},
   "source": [
    "### References\n",
    "\n",
    "1. [Evaluating Causal Models - Python Causality Handbook](https://matheusfacure.github.io/python-causality-handbook/19-Evaluating-Causal-Models.html)\n",
    "2. [Counterfactuals - Interpretable Machine Learning](https://christophm.github.io/interpretable-ml-book/counterfactual.html)\n",
    "3. [Confounding Variables - Scribbr](https://www.scribbr.com/methodology/confounding-variables/)\n",
    "4. [Linear Regression - Spiceworks](https://www.spiceworks.com/tech/artificial-intelligence/articles/what-is-linear-regression/)\n",
    "5. [Causal Machine Learning - Plain Concepts](https://www.plainconcepts.com/causal-ml/)\n",
    "6. [Correlation vs. Causation - Simply Psychology](https://www.simplypsychology.org/correlation.html#Correlation-vs-Causation)\n",
    "7. [Correlation vs. Causation - Scribbr](https://www.scribbr.com/methodology/correlation-vs-causation/)\n"
   ]
  },
  {
   "cell_type": "markdown",
   "id": "c9306dd5-79ac-4f5b-9e6c-f72ee673b2a1",
   "metadata": {},
   "source": [
    "# MIT License\n",
    "\n",
    "Copyright (c) 2023 Vaishnavi Mantri\n",
    "\n",
    "Permission is hereby granted, free of charge, to any person obtaining a copy of this software and associated documentation files (the \"Software\"), to deal in the Software without restriction, including without limitation the rights to use, copy, modify, merge, publish, distribute, sublicense, and/or sell copies of the Software, and to permit persons to whom the Software is furnished to do so, subject to the following conditions:\n",
    "\n",
    "The above copyright notice and this permission notice shall be included in all copies or substantial portions of the Software.\n",
    "\n",
    "**THE SOFTWARE IS PROVIDED \"AS IS\", WITHOUT WARRANTY OF ANY KIND, EXPRESS OR IMPLIED, INCLUDING BUT NOT LIMITED TO THE WARRANTIES OF MERCHANTABILITY, FITNESS FOR A PARTICULAR PURPOSE AND NONINFRINGEMENT. IN NO EVENT SHALL THE AUTHORS OR COPYRIGHT HOLDERS BE LIABLE FOR ANY CLAIM, DAMAGES OR OTHER LIABILITY, WHETHER IN AN ACTION OF CONTRACT, TORT OR OTHERWISE, ARISING FROM, OUT OF OR IN CONNECTION WITH THE SOFTWARE OR THE USE OR OTHER DEALINGS IN THE SOFTWARE.**\n"
   ]
  },
  {
   "cell_type": "code",
   "execution_count": null,
   "id": "4016173e-2402-4915-b8ca-b75a24c2e634",
   "metadata": {},
   "outputs": [],
   "source": []
  }
 ],
 "metadata": {
  "kernelspec": {
   "display_name": "Python 3 (ipykernel)",
   "language": "python",
   "name": "python3"
  },
  "language_info": {
   "codemirror_mode": {
    "name": "ipython",
    "version": 3
   },
   "file_extension": ".py",
   "mimetype": "text/x-python",
   "name": "python",
   "nbconvert_exporter": "python",
   "pygments_lexer": "ipython3",
   "version": "3.11.5"
  }
 },
 "nbformat": 4,
 "nbformat_minor": 5
}
