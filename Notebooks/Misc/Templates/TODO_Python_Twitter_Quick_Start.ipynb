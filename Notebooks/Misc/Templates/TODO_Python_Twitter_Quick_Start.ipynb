{
 "cells": [
  {
   "cell_type": "markdown",
   "metadata": {
    "id": "9_b2yEyijl6T"
   },
   "source": [
    "# Rewrite and Improve This\n",
    "# Writing a Twitter scraper\n",
    "\n",
    "\n",
    "This notebook is part of the _d2d3 (data to d3) project_ to help data engineers and information visualizers to gather, clean, format, explore, munge, understand and feature engineer data before visualization.\n",
    "\n",
    "_garbage in, garbage out (GIGO)_\n",
    "\n",
    "\n",
    "GIGO (garbage in, garbage out) is a concept common to computer science and mathematics: the quality of output is determined by the quality of the input. The purpose of the _d2d3 (data to d3) project_ is to create tutorials and tools that  gather, clean, format, explore, munge, understand and feature engineer data before creating a beautiful d3 visualization.\n",
    "\n",
    "Email _d2d3_ at _d2d3.net_ for more info.  \n",
    "\n"
   ]
  },
  {
   "cell_type": "markdown",
   "metadata": {
    "id": "vZ0gB51qjl6V"
   },
   "source": [
    "# What is python-twitter\n",
    "\n",
    "*python-twitter* is one of the many libraries that make it easy to query Twitter data.  \n",
    "\n",
    "Twitter has provided `REST API's ` [https://dev.twitter.com/rest/public](https://dev.twitter.com/rest/public) which can be used by\n",
    "developers to access and read Twitter data. They have also provided a\n",
    "`Streaming API ` [https://dev.twitter.com/streaming/overview](https://dev.twitter.com/streaming/overview) which can\n",
    "be used to access Twitter Data in real-time.\n",
    "\n",
    "To use the Streaming API one needs to get an access key by applying for a Twitter developer account [https://developer.twitter.com/en/apply-for-access](https://developer.twitter.com/en/apply-for-access)  \n",
    "\n",
    "All new developers must apply for a developer account to access the Twitter developer platform. Once approved, you can begin to use the new Twitter API v2, or the v1.1 standard and premium APIs.   \n",
    "\n",
    "Most of the software written to access Twitter data provide a library\n",
    "which functions as a wrapper around Twitter's Search and Streaming API's\n",
    "and are therefore constrained by the limitations of the API's.\n",
    "\n",
    "With Twitter's Search API you can only send 180 Requests every 15\n",
    "minutes. With a maximum number of 100 tweets per Request, you\n",
    "can mine 72 tweets per hour (4 x 180 x 100 =72) . By using\n",
    "TwitterScraper you are not limited by this number but by your internet\n",
    "speed/bandwith and the number of instances of TwitterScraper you are\n",
    "willing to start.\n",
    "\n",
    "One of the bigger disadvantages of the Search API is that you can only\n",
    "access Tweets written in the **past 7 days**. This is a major bottleneck\n",
    "for anyone looking for older data. With TwitterScraper there is no such \n",
    "limitation.\n",
    "\n",
    "Per Tweet it scrapes the following information:\n",
    " + Tweet-id\n",
    " + Tweet-url\n",
    " + Tweet text\n",
    " + Tweet html\n",
    " + Links inside Tweet\n",
    " + Hashtags inside Tweet\n",
    " + Image URLS inside Tweet\n",
    " + Video URL inside Tweet\n",
    " + Tweet timestamp\n",
    " + Tweet Epoch timestamp\n",
    " + Tweet No. of likes\n",
    " + Tweet No. of replies\n",
    " + Tweet No. of retweets\n",
    " + Username\n",
    " + User Full Name / Screen Name\n",
    " + User ID\n",
    " + Tweet is an reply to\n",
    " + Tweet is replied to\n",
    " + List of users Tweet is an reply to\n",
    " + Tweet ID of parent tweet\n",
    "\n",
    " \n",
    "In addition it can scrape for the following user information:\n",
    " + Date user joined\n",
    " + User location (if filled in)\n",
    " + User blog (if filled in)\n",
    " + User No. of tweets\n",
    " + User No. of following\n",
    " + User No. of followers\n",
    " + User No. of likes\n",
    " + User No. of lists\n",
    " + User is verified\n"
   ]
  },
  {
   "cell_type": "markdown",
   "metadata": {
    "id": "5KQxcs0bjl6V"
   },
   "source": [
    "# Install python-twitter\n",
    "\n",
    "To install **python-twitter**:\n",
    "\n",
    "```python\n",
    "\n",
    "    (sudo) pip install python-twitter  \n",
    "\n",
    "```\n",
    "\n",
    "#  CLI (Command Line Interace)\n",
    "\n",
    "Robots are typcally run through the command line via scripts and automated to run 24/7 on servers.  A separate notebook will discuss how to automate the scripts and create a _bot_. This notebook focuses on using the _python-twitter_ library.\n",
    "\n",
    "\n"
   ]
  },
  {
   "cell_type": "markdown",
   "metadata": {
    "id": "Iq7zznsrjl6W"
   },
   "source": [
    "# Creating a Twitter app\n",
    "\n",
    "1. Go to your Twitter developer account and sign-in [https://developer.twitter.com/](https://developer.twitter.com/)  \n",
    "\n",
    "2. Create an app (Note you must be approved by Twitter before you can do this.)\n",
    "\n",
    "You should see something like the image below.\n",
    "\n",
    "![Twitter developer account](https://github.com/nikbearbrown/d2d3/raw/main/Twitter/img/python-twitter_1.png)\n",
    "\n",
    "Note this tells me that Twiiter caps me at 10,000,000 tweets per month.\n",
    "\n",
    "3. Hit the create app button to create an app and give it a useful name.\n",
    "\n",
    "![Twitter app](https://github.com/nikbearbrown/d2d3/raw/main/Twitter/img/python-twitter_2.png)\n",
    "\n",
    "![Twitter keys](https://github.com/nikbearbrown/d2d3/raw/main/Twitter/img/python-twitter_3.png)\n",
    "\n",
    "Note it is a good idea to regenerate your keys occasionally for security. (I immediately regenerated the keys after taking a screen shot for this tutorial.)\n",
    "\n",
    "\n",
    "![Twitter app](https://github.com/nikbearbrown/d2d3/raw/main/Twitter/img/python-twitter_4.png)\n",
    "\n",
    "If you need to do things like write to your Twitter account you will need to change your permissions.\n",
    "\n",
    "![Twitter keys](https://github.com/nikbearbrown/d2d3/raw/main/Twitter/img/python-twitter_5.png)\n",
    "\n",
    "\n"
   ]
  },
  {
   "cell_type": "markdown",
   "metadata": {
    "id": "cI6S0-i9jl6W"
   },
   "source": [
    "# python-twitter API\n",
    "\n",
    "Let's get started with the python-twitter API\n",
    "\n",
    "------\n",
    "Models\n",
    "------\n",
    "\n",
    "The library utilizes models to represent various data structures returned by Twitter. Those models are:   \n",
    "    * twitter.Category    \n",
    "    * twitter.DirectMessage    \n",
    "    * twitter.Hashtag   \n",
    "    * twitter.List   \n",
    "    * twitter.Media  \n",
    "    * twitter.Status  \n",
    "    * twitter.Trend   \n",
    "    * twitter.Url  \n",
    "    * twitter.User  \n",
    "    * twitter.UserStatus  \n",
    "\n",
    "To read the documentation for any of these models, run:  \n",
    "\n",
    "```bash\n",
    "\n",
    "    $ pydoc twitter.[model]  \n",
    "```\n",
    "\n",
    "---\n",
    "API\n",
    "---\n",
    "\n",
    "The API is exposed via the ``twitter.Api`` class.\n",
    "\n",
    "The python-twitter requires the use of OAuth keys for nearly all operations. As of Twitter's API v1.1, authentication is required for most, if not all, endpoints. Therefore, you will need to register an app with Twitter in order to use this library. Please see the \"Getting Started\" guide on https://python-twitter.readthedocs.io for more information.\n",
    "\n",
    "To generate an Access Token you have to pick what type of access your application requires and then do one of the following:\n",
    "\n",
    "- `Generate a token to access your own account <https://dev.twitter.com/oauth/overview/application-owner-access-tokens>`_\n",
    "- `Generate a pin-based token <https://dev.twitter.com/oauth/pin-based>`_\n",
    "- use the helper script `get_access_token.py <https://github.com/bear/python-twitter/blob/master/get_access_token.py>`_\n",
    "\n",
    "For full details see the `Twitter OAuth Overview <https://dev.twitter.com/oauth/overview>`_\n",
    "\n",
    "To create an instance of the ``twitter.Api`` with login credentials (Twitter now requires an OAuth Access Token for all API calls)::\n",
    "\n",
    "```python\n",
    "    >>> import twitter\n",
    "    >>> api = twitter.Api(consumer_key='consumer_key',\n",
    "                          consumer_secret='consumer_secret',\n",
    "                          access_token_key='access_token',```python\n",
    "                          access_token_secret='access_token_secret')\n",
    "```\n",
    "\n",
    "To see if your credentials are successful::\n",
    "\n",
    "```python\n",
    "    >>> print(api.VerifyCredentials())\n",
    "    {\"id\": 16133, \"location\": \"Philadelphia\", \"name\": \"bear\"}\n",
    "    \n",
    "```    \n",
    "\n",
    "**NOTE**: much more than the small sample given here will print\n",
    "\n",
    "To fetch a single user's public status messages, where ``user`` is a Twitter user's screen name::\n",
    "\n",
    "\n",
    "```python\n",
    "\n",
    "    >>> statuses = api.GetUserTimeline(screen_name=user)\n",
    "    >>> print([s.text for s in statuses])\n",
    "```         \n",
    "\n",
    "To fetch a list of a user's friends:  \n",
    "\n",
    "```python\n",
    "    >>> users = api.GetFriends()\n",
    "    >>> print([u.name for u in users])\n",
    "```\n",
    "\n",
    "To post a Twitter status message: \n",
    "\n",
    "```python\n",
    "    >>> status = api.PostUpdate('I love python-twitter!')\n",
    "    >>> print(status.text)\n",
    "    I love python-twitter!\n",
    "```    \n",
    "\n",
    "There are many more API methods, to read the full API documentation either\n",
    "check out the documentation on `readthedocs\n",
    "<https://python-twitter.readthedocs.io>`_, build the documentation locally\n",
    "with::\n",
    "\n",
    "```bash\n",
    "    $ make docs\n",
    "```\n",
    "\n",
    "or check out the inline documentation with::\n",
    "\n",
    "```bash\n",
    "    $ pydoc twitter.Api\n",
    "```"
   ]
  },
  {
   "cell_type": "code",
   "execution_count": 1,
   "metadata": {
    "colab": {
     "base_uri": "https://localhost:8080/"
    },
    "executionInfo": {
     "elapsed": 3214,
     "status": "ok",
     "timestamp": 1615755989895,
     "user": {
      "displayName": "Nik Bear Brown",
      "photoUrl": "https://lh3.googleusercontent.com/a-/AOh14GiM1Q26nVUtugBRkregYHIFfrTZNtlP8O-WMVvR=s64",
      "userId": "17467854027018001755"
     },
     "user_tz": 240
    },
    "id": "jUor5t0rjqp5",
    "outputId": "1e3f9e5a-f402-46be-facc-f8c9c70d6c7b"
   },
   "outputs": [
    {
     "name": "stdout",
     "output_type": "stream",
     "text": [
      "Collecting python-twitter\n",
      "  Downloading python_twitter-3.5-py2.py3-none-any.whl (67 kB)\n",
      "\u001b[2K     \u001b[90m━━━━━━━━━━━━━━━━━━━━━━━━━━━━━━━━━━━━━━━━\u001b[0m \u001b[32m67.4/67.4 kB\u001b[0m \u001b[31m1.4 MB/s\u001b[0m eta \u001b[36m0:00:00\u001b[0ma \u001b[36m0:00:01\u001b[0m\n",
      "\u001b[?25hRequirement already satisfied: requests in /Users/bear/anaconda3/lib/python3.10/site-packages (from python-twitter) (2.31.0)\n",
      "Requirement already satisfied: future in /Users/bear/anaconda3/lib/python3.10/site-packages (from python-twitter) (0.18.3)\n",
      "Collecting requests-oauthlib\n",
      "  Downloading requests_oauthlib-1.3.1-py2.py3-none-any.whl (23 kB)\n",
      "Requirement already satisfied: certifi>=2017.4.17 in /Users/bear/anaconda3/lib/python3.10/site-packages (from requests->python-twitter) (2022.12.7)\n",
      "Requirement already satisfied: urllib3<3,>=1.21.1 in /Users/bear/anaconda3/lib/python3.10/site-packages (from requests->python-twitter) (1.26.14)\n",
      "Requirement already satisfied: idna<4,>=2.5 in /Users/bear/anaconda3/lib/python3.10/site-packages (from requests->python-twitter) (3.4)\n",
      "Requirement already satisfied: charset-normalizer<4,>=2 in /Users/bear/anaconda3/lib/python3.10/site-packages (from requests->python-twitter) (2.0.4)\n",
      "Collecting oauthlib>=3.0.0\n",
      "  Downloading oauthlib-3.2.2-py3-none-any.whl (151 kB)\n",
      "\u001b[2K     \u001b[90m━━━━━━━━━━━━━━━━━━━━━━━━━━━━━━━━━━━━━━━\u001b[0m \u001b[32m151.7/151.7 kB\u001b[0m \u001b[31m4.3 MB/s\u001b[0m eta \u001b[36m0:00:00\u001b[0ma \u001b[36m0:00:01\u001b[0m\n",
      "\u001b[?25hInstalling collected packages: oauthlib, requests-oauthlib, python-twitter\n",
      "Successfully installed oauthlib-3.2.2 python-twitter-3.5 requests-oauthlib-1.3.1\n"
     ]
    }
   ],
   "source": [
    "# pip install python-twitter if you are on your own system\n",
    "!pip install python-twitter "
   ]
  },
  {
   "cell_type": "code",
   "execution_count": 2,
   "metadata": {
    "id": "8iu4gLMnjl6X"
   },
   "outputs": [],
   "source": [
    "# Check that python-twitter installed \n",
    "import twitter\n",
    "\n"
   ]
  },
  {
   "cell_type": "markdown",
   "metadata": {
    "id": "oDRCx1Ctjl6X"
   },
   "source": [
    "# pin-based token\n",
    "\n",
    "Note that this library also requires a pin-based token as as allows one to query for quite a bit of info.   \n",
    "\n",
    "```python\n",
    "api = twitter.Api(consumer_key='consumer_key',\n",
    "                      consumer_secret='consumer_secret',\n",
    "                      access_token_key='access_token',\n",
    "                      access_token_secret='access_token_secret')\n",
    "                      \n",
    "```\n",
    "\n",
    "I currently have an API key & secret but not a Access token & secret \n",
    "\n",
    "![Access token & secret](https://github.com/nikbearbrown/d2d3/blob/main/Twitter/img/python-twitter_6.png?raw=true)\n",
    "\n",
    "Generate a pin-based token [https://dev.twitter.com/oauth/pin-based](https://dev.twitter.com/oauth/pin-based)  \n",
    "\n",
    "\n",
    "Nota bene:\n",
    "\n",
    "You need to change the tokens below to your tokens for this notebook to run.\n"
   ]
  },
  {
   "cell_type": "code",
   "execution_count": 3,
   "metadata": {
    "colab": {
     "base_uri": "https://localhost:8080/"
    },
    "executionInfo": {
     "elapsed": 1097,
     "status": "ok",
     "timestamp": 1615772006823,
     "user": {
      "displayName": "Nik Bear Brown",
      "photoUrl": "https://lh3.googleusercontent.com/a-/AOh14GiM1Q26nVUtugBRkregYHIFfrTZNtlP8O-WMVvR=s64",
      "userId": "17467854027018001755"
     },
     "user_tz": 240
    },
    "id": "pV-GfwVujl6Y",
    "outputId": "a83b3f3e-2beb-4768-ddac-59eca90263ec"
   },
   "outputs": [
    {
     "data": {
      "text/plain": [
       "{'api_key': 'M1GeQr964TPipexeoCSMh',\n",
       " 'api_key_secret': 'uHCnBoIJ3Qg6m1yEOgkhmchYoiilq1EELBzoAj1Lc',\n",
       " 'access_token': '34749634-bEwCfMxjZyXLOFgPkS4YwqHdmzTa50',\n",
       " 'access_token_secret': 'HG3RlELl2HAAFVczdQ1I09rktmm9xzLCNN'}"
      ]
     },
     "execution_count": 3,
     "metadata": {},
     "output_type": "execute_result"
    }
   ],
   "source": [
    "twitter_keys =  {\n",
    "'api_key' : 'M1GeQr964TPipexeoCSMh',\n",
    "'api_key_secret' : 'uHCnBoIJ3Qg6m1yEOgkhmchYoiilq1EELBzoAj1Lc',\n",
    "'access_token' : '34749634-bEwCfMxjZyXLOFgPkS4YwqHdmzTa50',\n",
    "'access_token_secret' : 'HG3RlELl2HAAFVczdQ1I09rktmm9xzLCNN'\n",
    "}\n",
    "twitter_keys"
   ]
  },
  {
   "cell_type": "code",
   "execution_count": 4,
   "metadata": {
    "id": "dDmW9TEjjl6Y"
   },
   "outputs": [],
   "source": [
    "api = twitter.Api(consumer_key=twitter_keys['api_key'],\n",
    "                      consumer_secret=twitter_keys['api_key_secret'],\n",
    "                      access_token_key=twitter_keys['access_token'],\n",
    "                      access_token_secret=twitter_keys['access_token_secret'])"
   ]
  },
  {
   "cell_type": "code",
   "execution_count": 5,
   "metadata": {
    "colab": {
     "base_uri": "https://localhost:8080/"
    },
    "executionInfo": {
     "elapsed": 3429,
     "status": "ok",
     "timestamp": 1615755990132,
     "user": {
      "displayName": "Nik Bear Brown",
      "photoUrl": "https://lh3.googleusercontent.com/a-/AOh14GiM1Q26nVUtugBRkregYHIFfrTZNtlP8O-WMVvR=s64",
      "userId": "17467854027018001755"
     },
     "user_tz": 240
    },
    "id": "dZreG9_Ijl6Y",
    "outputId": "3a04c425-6694-4b51-843f-5289f0621e5a"
   },
   "outputs": [
    {
     "ename": "TwitterError",
     "evalue": "[{'code': 89, 'message': 'Invalid or expired token.'}]",
     "output_type": "error",
     "traceback": [
      "\u001b[0;31m---------------------------------------------------------------------------\u001b[0m",
      "\u001b[0;31mTwitterError\u001b[0m                              Traceback (most recent call last)",
      "Cell \u001b[0;32mIn[5], line 2\u001b[0m\n\u001b[1;32m      1\u001b[0m \u001b[38;5;66;03m# To see if your credentials are successful:\u001b[39;00m\n\u001b[0;32m----> 2\u001b[0m \u001b[38;5;28mprint\u001b[39m(\u001b[43mapi\u001b[49m\u001b[38;5;241;43m.\u001b[39;49m\u001b[43mVerifyCredentials\u001b[49m\u001b[43m(\u001b[49m\u001b[43m)\u001b[49m)\n",
      "File \u001b[0;32m~/anaconda3/lib/python3.10/site-packages/twitter/api.py:4700\u001b[0m, in \u001b[0;36mApi.VerifyCredentials\u001b[0;34m(self, include_entities, skip_status, include_email)\u001b[0m\n\u001b[1;32m   4693\u001b[0m data \u001b[38;5;241m=\u001b[39m {\n\u001b[1;32m   4694\u001b[0m     \u001b[38;5;124m'\u001b[39m\u001b[38;5;124minclude_entities\u001b[39m\u001b[38;5;124m'\u001b[39m: enf_type(\u001b[38;5;124m'\u001b[39m\u001b[38;5;124minclude_entities\u001b[39m\u001b[38;5;124m'\u001b[39m, \u001b[38;5;28mbool\u001b[39m, include_entities),\n\u001b[1;32m   4695\u001b[0m     \u001b[38;5;124m'\u001b[39m\u001b[38;5;124mskip_status\u001b[39m\u001b[38;5;124m'\u001b[39m: enf_type(\u001b[38;5;124m'\u001b[39m\u001b[38;5;124mskip_status\u001b[39m\u001b[38;5;124m'\u001b[39m, \u001b[38;5;28mbool\u001b[39m, skip_status),\n\u001b[1;32m   4696\u001b[0m     \u001b[38;5;124m'\u001b[39m\u001b[38;5;124minclude_email\u001b[39m\u001b[38;5;124m'\u001b[39m: \u001b[38;5;124m'\u001b[39m\u001b[38;5;124mtrue\u001b[39m\u001b[38;5;124m'\u001b[39m \u001b[38;5;28;01mif\u001b[39;00m enf_type(\u001b[38;5;124m'\u001b[39m\u001b[38;5;124minclude_email\u001b[39m\u001b[38;5;124m'\u001b[39m, \u001b[38;5;28mbool\u001b[39m, include_email) \u001b[38;5;28;01melse\u001b[39;00m \u001b[38;5;124m'\u001b[39m\u001b[38;5;124mfalse\u001b[39m\u001b[38;5;124m'\u001b[39m,\n\u001b[1;32m   4697\u001b[0m }\n\u001b[1;32m   4699\u001b[0m resp \u001b[38;5;241m=\u001b[39m \u001b[38;5;28mself\u001b[39m\u001b[38;5;241m.\u001b[39m_RequestUrl(url, \u001b[38;5;124m'\u001b[39m\u001b[38;5;124mGET\u001b[39m\u001b[38;5;124m'\u001b[39m, data)\n\u001b[0;32m-> 4700\u001b[0m data \u001b[38;5;241m=\u001b[39m \u001b[38;5;28;43mself\u001b[39;49m\u001b[38;5;241;43m.\u001b[39;49m\u001b[43m_ParseAndCheckTwitter\u001b[49m\u001b[43m(\u001b[49m\u001b[43mresp\u001b[49m\u001b[38;5;241;43m.\u001b[39;49m\u001b[43mcontent\u001b[49m\u001b[38;5;241;43m.\u001b[39;49m\u001b[43mdecode\u001b[49m\u001b[43m(\u001b[49m\u001b[38;5;124;43m'\u001b[39;49m\u001b[38;5;124;43mutf-8\u001b[39;49m\u001b[38;5;124;43m'\u001b[39;49m\u001b[43m)\u001b[49m\u001b[43m)\u001b[49m\n\u001b[1;32m   4702\u001b[0m \u001b[38;5;28;01mreturn\u001b[39;00m User\u001b[38;5;241m.\u001b[39mNewFromJsonDict(data)\n",
      "File \u001b[0;32m~/anaconda3/lib/python3.10/site-packages/twitter/api.py:4908\u001b[0m, in \u001b[0;36mApi._ParseAndCheckTwitter\u001b[0;34m(self, json_data)\u001b[0m\n\u001b[1;32m   4906\u001b[0m         \u001b[38;5;28;01mraise\u001b[39;00m TwitterError({\u001b[38;5;124m'\u001b[39m\u001b[38;5;124mmessage\u001b[39m\u001b[38;5;124m'\u001b[39m: \u001b[38;5;124m\"\u001b[39m\u001b[38;5;124mUnauthorized\u001b[39m\u001b[38;5;124m\"\u001b[39m})\n\u001b[1;32m   4907\u001b[0m     \u001b[38;5;28;01mraise\u001b[39;00m TwitterError({\u001b[38;5;124m'\u001b[39m\u001b[38;5;124mUnknown error\u001b[39m\u001b[38;5;124m'\u001b[39m: \u001b[38;5;124m'\u001b[39m\u001b[38;5;132;01m{0}\u001b[39;00m\u001b[38;5;124m'\u001b[39m\u001b[38;5;241m.\u001b[39mformat(json_data)})\n\u001b[0;32m-> 4908\u001b[0m \u001b[38;5;28;43mself\u001b[39;49m\u001b[38;5;241;43m.\u001b[39;49m\u001b[43m_CheckForTwitterError\u001b[49m\u001b[43m(\u001b[49m\u001b[43mdata\u001b[49m\u001b[43m)\u001b[49m\n\u001b[1;32m   4909\u001b[0m \u001b[38;5;28;01mreturn\u001b[39;00m data\n",
      "File \u001b[0;32m~/anaconda3/lib/python3.10/site-packages/twitter/api.py:4928\u001b[0m, in \u001b[0;36mApi._CheckForTwitterError\u001b[0;34m(data)\u001b[0m\n\u001b[1;32m   4926\u001b[0m     \u001b[38;5;28;01mraise\u001b[39;00m TwitterError(data[\u001b[38;5;124m'\u001b[39m\u001b[38;5;124merror\u001b[39m\u001b[38;5;124m'\u001b[39m])\n\u001b[1;32m   4927\u001b[0m \u001b[38;5;28;01mif\u001b[39;00m \u001b[38;5;124m'\u001b[39m\u001b[38;5;124merrors\u001b[39m\u001b[38;5;124m'\u001b[39m \u001b[38;5;129;01min\u001b[39;00m data:\n\u001b[0;32m-> 4928\u001b[0m     \u001b[38;5;28;01mraise\u001b[39;00m TwitterError(data[\u001b[38;5;124m'\u001b[39m\u001b[38;5;124merrors\u001b[39m\u001b[38;5;124m'\u001b[39m])\n",
      "\u001b[0;31mTwitterError\u001b[0m: [{'code': 89, 'message': 'Invalid or expired token.'}]"
     ]
    }
   ],
   "source": [
    "# To see if your credentials are successful:\n",
    "print(api.VerifyCredentials())"
   ]
  },
  {
   "cell_type": "markdown",
   "metadata": {
    "id": "VbdJomIRjl6Z"
   },
   "source": [
    "To fetch a single user's public status messages, where user is a Twitter user's screen name like @nikbearbrown\n",
    "    "
   ]
  },
  {
   "cell_type": "code",
   "execution_count": null,
   "metadata": {
    "colab": {
     "base_uri": "https://localhost:8080/"
    },
    "executionInfo": {
     "elapsed": 3685,
     "status": "ok",
     "timestamp": 1615755990392,
     "user": {
      "displayName": "Nik Bear Brown",
      "photoUrl": "https://lh3.googleusercontent.com/a-/AOh14GiM1Q26nVUtugBRkregYHIFfrTZNtlP8O-WMVvR=s64",
      "userId": "17467854027018001755"
     },
     "user_tz": 240
    },
    "id": "SynfFPrSjl6Z",
    "outputId": "c80052bc-4ebe-4a24-c3d7-d652f71abbe9"
   },
   "outputs": [],
   "source": [
    "user='nikbearbrown'\n",
    "statuses = api.GetUserTimeline(screen_name=user)\n",
    "statuses[0]"
   ]
  },
  {
   "cell_type": "markdown",
   "metadata": {
    "id": "M7rhHV7Tjl6Z"
   },
   "source": [
    "# The python-twitter API returns each tweet as a Status object\n",
    "\n",
    "Note each Tweet is a status object. \n",
    "\n",
    "<class 'twitter.models.Status'>  \n",
    "\n",
    "Status(ID=1370587369175347203, ScreenName=NikBearBrown, Created=Sat Mar 13 04:07:47 +0000 2021, Text='AI Skunkworks Speaker Session on \"Graph-Based Data Science\" by Paco Nathan Graphs #Knowledge… https://t.co/Xsdo09e8Ok')  \n",
    "\n",
    "\n",
    "Python-twitter provides the following models of the objects returned by the Twitter API:  \n",
    "\n",
    "twitter.models.Category  \n",
    "twitter.models.DirectMessage  \n",
    "twitter.models.Hashtag  \n",
    "twitter.models.List  \n",
    "twitter.models.Media  \n",
    "twitter.models.Status  \n",
    "twitter.models.Trend  \n",
    "twitter.models.Url  \n",
    "twitter.models.User  \n",
    "twitter.models.UserStatus  "
   ]
  },
  {
   "cell_type": "code",
   "execution_count": null,
   "metadata": {
    "colab": {
     "base_uri": "https://localhost:8080/"
    },
    "executionInfo": {
     "elapsed": 3681,
     "status": "ok",
     "timestamp": 1615755990392,
     "user": {
      "displayName": "Nik Bear Brown",
      "photoUrl": "https://lh3.googleusercontent.com/a-/AOh14GiM1Q26nVUtugBRkregYHIFfrTZNtlP8O-WMVvR=s64",
      "userId": "17467854027018001755"
     },
     "user_tz": 240
    },
    "id": "6e6fjQZtjl6a",
    "outputId": "c0927119-ae2f-4952-9d81-edb260f50834"
   },
   "outputs": [],
   "source": [
    "print (type(statuses[0]))"
   ]
  },
  {
   "cell_type": "code",
   "execution_count": null,
   "metadata": {
    "colab": {
     "base_uri": "https://localhost:8080/"
    },
    "executionInfo": {
     "elapsed": 3676,
     "status": "ok",
     "timestamp": 1615755990393,
     "user": {
      "displayName": "Nik Bear Brown",
      "photoUrl": "https://lh3.googleusercontent.com/a-/AOh14GiM1Q26nVUtugBRkregYHIFfrTZNtlP8O-WMVvR=s64",
      "userId": "17467854027018001755"
     },
     "user_tz": 240
    },
    "id": "aAnaGRLWjl6a",
    "outputId": "bca421ed-bd49-451e-ecdd-b437b72f0712"
   },
   "outputs": [],
   "source": [
    "# print the Tweet Text\n",
    "for s in statuses:\n",
    "    print (f\"{s.text}  {s.full_text}\")"
   ]
  },
  {
   "cell_type": "markdown",
   "metadata": {
    "id": "CeakmW7Vjl6b"
   },
   "source": [
    "# What info can we get from a Tweet status object?\n",
    "\n",
    "In python we can ask an object to tell us its methods and member variables. \n",
    "\n",
    "Those with underscores are functions.\n",
    "\n",
    "\n",
    "'__doc__',\n",
    " '__eq__',\n",
    " '__format__',\n",
    " '__ge__',\n",
    " \n",
    " and those without are member variables.\n",
    " \n",
    "  'source',\n",
    " 'text',\n",
    " 'truncated',\n",
    " 'tweet_mode',\n",
    " 'urls',\n",
    " 'user'"
   ]
  },
  {
   "cell_type": "code",
   "execution_count": null,
   "metadata": {
    "colab": {
     "base_uri": "https://localhost:8080/"
    },
    "executionInfo": {
     "elapsed": 3933,
     "status": "ok",
     "timestamp": 1615755990655,
     "user": {
      "displayName": "Nik Bear Brown",
      "photoUrl": "https://lh3.googleusercontent.com/a-/AOh14GiM1Q26nVUtugBRkregYHIFfrTZNtlP8O-WMVvR=s64",
      "userId": "17467854027018001755"
     },
     "user_tz": 240
    },
    "id": "1jiUAQ6Ejl6b",
    "outputId": "6d1d5b18-d9de-4532-86ac-8631b13006ff"
   },
   "outputs": [],
   "source": [
    "dir(statuses[0])"
   ]
  },
  {
   "cell_type": "markdown",
   "metadata": {
    "id": "TPIaAUgYjl6b"
   },
   "source": [
    "# Reading the docs\n",
    "\n",
    "To read the documentation for any of these models, run:  \n",
    "\n",
    "```bash\n",
    "\n",
    "    $ pydoc twitter.[model]  \n",
    "```\n",
    " such as\n",
    " \n",
    " \n",
    " ```bash\n",
    "\n",
    "    $ pydoc twitter.models.Status  \n",
    "    \n",
    "```\n",
    " \n",
    "or read them online [https://python-twitter.readthedocs.io](https://python-twitter.readthedocs.io)  such as [https://python-twitter.readthedocs.io/en/latest/_modules/twitter/models.html](https://python-twitter.readthedocs.io/en/latest/_modules/twitter/models.html)   \n",
    "\n",
    "\n",
    "_Note that different member variables can have different datatypes._ \n",
    "\n"
   ]
  },
  {
   "cell_type": "code",
   "execution_count": null,
   "metadata": {
    "colab": {
     "base_uri": "https://localhost:8080/"
    },
    "executionInfo": {
     "elapsed": 3930,
     "status": "ok",
     "timestamp": 1615755990656,
     "user": {
      "displayName": "Nik Bear Brown",
      "photoUrl": "https://lh3.googleusercontent.com/a-/AOh14GiM1Q26nVUtugBRkregYHIFfrTZNtlP8O-WMVvR=s64",
      "userId": "17467854027018001755"
     },
     "user_tz": 240
    },
    "id": "5Bz3qic3jl6b",
    "outputId": "1852b30d-1cab-42d2-aea8-57140cdc6499"
   },
   "outputs": [],
   "source": [
    "for s in statuses:\n",
    "    if s.full_text is not None:\n",
    "        print(f\"{s.full_text} Language: {s.lang}\")\n",
    "    else:\n",
    "        print(f\"{s.text} Language: {s.lang}\")"
   ]
  },
  {
   "cell_type": "code",
   "execution_count": null,
   "metadata": {
    "colab": {
     "base_uri": "https://localhost:8080/"
    },
    "executionInfo": {
     "elapsed": 3926,
     "status": "ok",
     "timestamp": 1615755990656,
     "user": {
      "displayName": "Nik Bear Brown",
      "photoUrl": "https://lh3.googleusercontent.com/a-/AOh14GiM1Q26nVUtugBRkregYHIFfrTZNtlP8O-WMVvR=s64",
      "userId": "17467854027018001755"
     },
     "user_tz": 240
    },
    "id": "o_g5bTZtjl6c",
    "outputId": "03940417-e2fa-45a2-ee02-568e7045a486"
   },
   "outputs": [],
   "source": [
    "statuses[0].user"
   ]
  },
  {
   "cell_type": "code",
   "execution_count": null,
   "metadata": {
    "colab": {
     "base_uri": "https://localhost:8080/"
    },
    "executionInfo": {
     "elapsed": 3924,
     "status": "ok",
     "timestamp": 1615755990657,
     "user": {
      "displayName": "Nik Bear Brown",
      "photoUrl": "https://lh3.googleusercontent.com/a-/AOh14GiM1Q26nVUtugBRkregYHIFfrTZNtlP8O-WMVvR=s64",
      "userId": "17467854027018001755"
     },
     "user_tz": 240
    },
    "id": "uwJkgALSjl6c",
    "outputId": "8f795e91-2ee7-4bb6-f0b3-241919ab0f41"
   },
   "outputs": [],
   "source": [
    "for s in statuses:\n",
    "    print(s.user)"
   ]
  },
  {
   "cell_type": "markdown",
   "metadata": {
    "id": "_X5kFbdDjl6c"
   },
   "source": [
    "# Excercise One \n",
    "\n",
    "What info do the Status attributes 'geo', 'hashtags', 'media', 'place', 'urls', and 'location' contain?\n"
   ]
  },
  {
   "cell_type": "code",
   "execution_count": null,
   "metadata": {
    "colab": {
     "base_uri": "https://localhost:8080/"
    },
    "executionInfo": {
     "elapsed": 3920,
     "status": "ok",
     "timestamp": 1615755990657,
     "user": {
      "displayName": "Nik Bear Brown",
      "photoUrl": "https://lh3.googleusercontent.com/a-/AOh14GiM1Q26nVUtugBRkregYHIFfrTZNtlP8O-WMVvR=s64",
      "userId": "17467854027018001755"
     },
     "user_tz": 240
    },
    "id": "B4LMPIC8jl6c",
    "outputId": "749600a6-08f0-4d00-908b-33bddb79a73b"
   },
   "outputs": [],
   "source": [
    "_=statuses[0].text\n",
    "print(_)"
   ]
  },
  {
   "cell_type": "code",
   "execution_count": null,
   "metadata": {
    "colab": {
     "base_uri": "https://localhost:8080/"
    },
    "executionInfo": {
     "elapsed": 3917,
     "status": "ok",
     "timestamp": 1615755990658,
     "user": {
      "displayName": "Nik Bear Brown",
      "photoUrl": "https://lh3.googleusercontent.com/a-/AOh14GiM1Q26nVUtugBRkregYHIFfrTZNtlP8O-WMVvR=s64",
      "userId": "17467854027018001755"
     },
     "user_tz": 240
    },
    "id": "PfyIp28kjl6d",
    "outputId": "e6023e9a-142a-49ce-b7a6-dd79dcfd3ec5"
   },
   "outputs": [],
   "source": [
    "_=statuses[0].geo\n",
    "print(_)"
   ]
  },
  {
   "cell_type": "code",
   "execution_count": null,
   "metadata": {
    "colab": {
     "base_uri": "https://localhost:8080/"
    },
    "executionInfo": {
     "elapsed": 3913,
     "status": "ok",
     "timestamp": 1615755990658,
     "user": {
      "displayName": "Nik Bear Brown",
      "photoUrl": "https://lh3.googleusercontent.com/a-/AOh14GiM1Q26nVUtugBRkregYHIFfrTZNtlP8O-WMVvR=s64",
      "userId": "17467854027018001755"
     },
     "user_tz": 240
    },
    "id": "TlTSFbhxjl6d",
    "outputId": "62f58541-9287-462a-b97b-5d4a5ac686fd"
   },
   "outputs": [],
   "source": [
    "_=statuses[0].hashtags\n",
    "print(_)"
   ]
  },
  {
   "cell_type": "code",
   "execution_count": null,
   "metadata": {
    "colab": {
     "base_uri": "https://localhost:8080/"
    },
    "executionInfo": {
     "elapsed": 3910,
     "status": "ok",
     "timestamp": 1615755990659,
     "user": {
      "displayName": "Nik Bear Brown",
      "photoUrl": "https://lh3.googleusercontent.com/a-/AOh14GiM1Q26nVUtugBRkregYHIFfrTZNtlP8O-WMVvR=s64",
      "userId": "17467854027018001755"
     },
     "user_tz": 240
    },
    "id": "N0Cb3m-sjl6d",
    "outputId": "ddcd6920-195f-4fb8-8ba5-e899c473d112"
   },
   "outputs": [],
   "source": [
    "_=statuses[0].media\n",
    "print(_)"
   ]
  },
  {
   "cell_type": "code",
   "execution_count": null,
   "metadata": {
    "colab": {
     "base_uri": "https://localhost:8080/"
    },
    "executionInfo": {
     "elapsed": 3905,
     "status": "ok",
     "timestamp": 1615755990659,
     "user": {
      "displayName": "Nik Bear Brown",
      "photoUrl": "https://lh3.googleusercontent.com/a-/AOh14GiM1Q26nVUtugBRkregYHIFfrTZNtlP8O-WMVvR=s64",
      "userId": "17467854027018001755"
     },
     "user_tz": 240
    },
    "id": "Z8MeNStVjl6d",
    "outputId": "662eed5b-5d85-4fc7-806f-b99795d97d98"
   },
   "outputs": [],
   "source": [
    "_=statuses[0].urls\n",
    "print(_)"
   ]
  },
  {
   "cell_type": "code",
   "execution_count": null,
   "metadata": {
    "colab": {
     "base_uri": "https://localhost:8080/"
    },
    "executionInfo": {
     "elapsed": 3902,
     "status": "ok",
     "timestamp": 1615755990660,
     "user": {
      "displayName": "Nik Bear Brown",
      "photoUrl": "https://lh3.googleusercontent.com/a-/AOh14GiM1Q26nVUtugBRkregYHIFfrTZNtlP8O-WMVvR=s64",
      "userId": "17467854027018001755"
     },
     "user_tz": 240
    },
    "id": "hAUFIvd4jl6e",
    "outputId": "34d7880f-0700-4274-9e05-6d638e631401"
   },
   "outputs": [],
   "source": [
    "_=statuses[0].AsJsonString\n",
    "print(_)"
   ]
  },
  {
   "cell_type": "markdown",
   "metadata": {
    "id": "UdKyj73vjl6e"
   },
   "source": [
    "# Note that you may  not be getting everything\n",
    "\n",
    "The data may be truncated. If we look carefully there was a parameter called _\"truncated\": true_.\n",
    "\n",
    "Maybe we want to set that to false?\n",
    "\n",
    "```python\n",
    "print(api.VerifyCredentials())  \n",
    "\n",
    "{\"created_at\": \"Thu Apr 23 22:15:37 +0000 2009\", \"description\": \"Northeastern University Engineering Professor in AI, ML, RL, DL, Visualization, and Games\\naka Bear\\naka Sin Cara Ojos Azules\\nPursue it. Relentlessly. #Nerdlife\", \"favourites_count\": 4219, \"followers_count\": 598, \"friends_count\": 722, \"geo_enabled\": true, \"id\": 34749634, \"id_str\": \"34749634\", \"listed_count\": 54, \"location\": \"Boston\", \"name\": \"Nik Bear Brown\", \"profile_background_color\": \"C0DEED\", \"profile_background_image_url\": \"http://abs.twimg.com/images/themes/theme1/bg.png\", \"profile_background_image_url_https\": \"https://abs.twimg.com/images/themes/theme1/bg.png\", \"profile_background_tile\": true, \"profile_banner_url\": \"https://pbs.twimg.com/profile_banners/34749634/1553389496\", \"profile_image_url\": \"http://pbs.twimg.com/profile_images/1325560081404997632/-DOzKiga_normal.jpg\", \"profile_image_url_https\": \"https://pbs.twimg.com/profile_images/1325560081404997632/-DOzKiga_normal.jpg\", \"profile_link_color\": \"4099FF\", \"profile_sidebar_border_color\": \"FFFFFF\", \"profile_sidebar_fill_color\": \"DDEEF6\", \"profile_text_color\": \"333333\", \"profile_use_background_image\": true, \"screen_name\": \"NikBearBrown\", \"status\": {\"created_at\": \"Sat Mar 13 04:07:47 +0000 2021\", \"favorite_count\": 2, \"id\": 1370587369175347203, \"id_str\": \"1370587369175347203\", \"lang\": \"en\", \"retweet_count\": 6, \"source\": \"<a href=\\\"https://mobile.twitter.com\\\" rel=\\\"nofollow\\\">Twitter Web App</a>\", \"text\": \"AI Skunkworks Speaker Session on \\\"Graph-Based Data Science\\\" by Paco Nathan Graphs #Knowledge\\u2026 https://t.co/Xsdo09e8Ok\", \"truncated\": true}, \"statuses_count\": 37518, \"url\": \"https://t.co/ZQ9sazeznI\"}\n",
    "```\n",
    "\n",
    "We got the data with this line of code.\n",
    "\n",
    "```python\n",
    "statuses = api.GetUserTimeline(screen_name=user)\n",
    "statuses[0]\n",
    "```\n",
    "\n",
    "Lets look at the docs to see if can do better?\n",
    "\n",
    "Hopefully _python-twitter_ would allow one to simply set _\"truncated\": to false_. But the class doesn't seem to accept truncated as a parameter.\n",
    "\n",
    "\n",
    "```python\n",
    "GetUserTimeline(user_id=None, screen_name=None, since_id=None, max_id=None, count=None, include_rts=True, trim_user=False, exclude_replies=False)\n",
    "```\n",
    "\n",
    "See [https://python-twitter.readthedocs.io/en/latest/twitter.html](https://python-twitter.readthedocs.io/en/latest/twitter.html)  \n",
    "\n",
    "It turns out this is controlled when we make the connection, you need to make sure you have tweet_mode='extended' when you call twitter.Api(). \n",
    "\n",
    "```python\n",
    "twitter.Api(\n",
    "            consumer_key= os.environ['CONSUMER_KEY'],\n",
    "            consumer_secret= os.environ['CONSUMER_SECRET'],\n",
    "            access_token_key= os.environ['ACCESS_TOKEN'],\n",
    "            access_token_secret= os.environ['ACCESS_TOKEN_SECRET'],\n",
    "            cache=None,\n",
    "            tweet_mode= 'extended')\n",
    "```            "
   ]
  },
  {
   "cell_type": "code",
   "execution_count": null,
   "metadata": {
    "id": "0PyBC69vjl6e"
   },
   "outputs": [],
   "source": [
    "api = twitter.Api(consumer_key=twitter_keys['api_key'],\n",
    "                      consumer_secret=twitter_keys['api_key_secret'],\n",
    "                      access_token_key=twitter_keys['access_token'],\n",
    "                      access_token_secret=twitter_keys['access_token_secret'],\n",
    "                      cache=None,\n",
    "                      tweet_mode= 'extended')                "
   ]
  },
  {
   "cell_type": "code",
   "execution_count": null,
   "metadata": {
    "colab": {
     "base_uri": "https://localhost:8080/"
    },
    "executionInfo": {
     "elapsed": 4419,
     "status": "ok",
     "timestamp": 1615755991182,
     "user": {
      "displayName": "Nik Bear Brown",
      "photoUrl": "https://lh3.googleusercontent.com/a-/AOh14GiM1Q26nVUtugBRkregYHIFfrTZNtlP8O-WMVvR=s64",
      "userId": "17467854027018001755"
     },
     "user_tz": 240
    },
    "id": "kcKKd5ALjl6f",
    "outputId": "edea55f6-669f-49e0-90fb-e1176733613f"
   },
   "outputs": [],
   "source": [
    "print(api.VerifyCredentials())"
   ]
  },
  {
   "cell_type": "code",
   "execution_count": null,
   "metadata": {
    "colab": {
     "base_uri": "https://localhost:8080/"
    },
    "executionInfo": {
     "elapsed": 4681,
     "status": "ok",
     "timestamp": 1615755991448,
     "user": {
      "displayName": "Nik Bear Brown",
      "photoUrl": "https://lh3.googleusercontent.com/a-/AOh14GiM1Q26nVUtugBRkregYHIFfrTZNtlP8O-WMVvR=s64",
      "userId": "17467854027018001755"
     },
     "user_tz": 240
    },
    "id": "3d-hj0BOjl6f",
    "outputId": "24f9e437-3428-4002-e51b-b0826bc977b3"
   },
   "outputs": [],
   "source": [
    "statuses = api.GetUserTimeline(screen_name=user)\n",
    "statuses[0]"
   ]
  },
  {
   "cell_type": "code",
   "execution_count": null,
   "metadata": {
    "colab": {
     "base_uri": "https://localhost:8080/"
    },
    "executionInfo": {
     "elapsed": 4677,
     "status": "ok",
     "timestamp": 1615755991448,
     "user": {
      "displayName": "Nik Bear Brown",
      "photoUrl": "https://lh3.googleusercontent.com/a-/AOh14GiM1Q26nVUtugBRkregYHIFfrTZNtlP8O-WMVvR=s64",
      "userId": "17467854027018001755"
     },
     "user_tz": 240
    },
    "id": "jLQHkop2jl6f",
    "outputId": "a847b81d-830b-4b71-baf5-a2e6d79704f9"
   },
   "outputs": [],
   "source": [
    "_=statuses[0].text\n",
    "print(_)"
   ]
  },
  {
   "cell_type": "code",
   "execution_count": null,
   "metadata": {
    "colab": {
     "base_uri": "https://localhost:8080/"
    },
    "executionInfo": {
     "elapsed": 4675,
     "status": "ok",
     "timestamp": 1615755991449,
     "user": {
      "displayName": "Nik Bear Brown",
      "photoUrl": "https://lh3.googleusercontent.com/a-/AOh14GiM1Q26nVUtugBRkregYHIFfrTZNtlP8O-WMVvR=s64",
      "userId": "17467854027018001755"
     },
     "user_tz": 240
    },
    "id": "Xh6nm1mcjl6f",
    "outputId": "65b1768a-446b-4c05-86f5-bcd4c937ddcf"
   },
   "outputs": [],
   "source": [
    "_=statuses[0].full_text\n",
    "print(_)"
   ]
  },
  {
   "cell_type": "code",
   "execution_count": null,
   "metadata": {
    "colab": {
     "base_uri": "https://localhost:8080/"
    },
    "executionInfo": {
     "elapsed": 4672,
     "status": "ok",
     "timestamp": 1615755991450,
     "user": {
      "displayName": "Nik Bear Brown",
      "photoUrl": "https://lh3.googleusercontent.com/a-/AOh14GiM1Q26nVUtugBRkregYHIFfrTZNtlP8O-WMVvR=s64",
      "userId": "17467854027018001755"
     },
     "user_tz": 240
    },
    "id": "sT2AHTDzjl6g",
    "outputId": "75bf2b50-994e-4a85-e8d2-7e7d2de666c1"
   },
   "outputs": [],
   "source": [
    "_=statuses[0].urls\n",
    "print(_)"
   ]
  },
  {
   "cell_type": "code",
   "execution_count": null,
   "metadata": {
    "colab": {
     "base_uri": "https://localhost:8080/"
    },
    "executionInfo": {
     "elapsed": 4670,
     "status": "ok",
     "timestamp": 1615755991451,
     "user": {
      "displayName": "Nik Bear Brown",
      "photoUrl": "https://lh3.googleusercontent.com/a-/AOh14GiM1Q26nVUtugBRkregYHIFfrTZNtlP8O-WMVvR=s64",
      "userId": "17467854027018001755"
     },
     "user_tz": 240
    },
    "id": "lsOJSBGajl6g",
    "outputId": "3e6abe4c-75b8-4998-d50b-58ed680c936b"
   },
   "outputs": [],
   "source": [
    "_=statuses[0].hashtags\n",
    "print(_)"
   ]
  },
  {
   "cell_type": "markdown",
   "metadata": {
    "id": "LjwN33iQjl6g"
   },
   "source": [
    "# Lesson Always Sanity Check\n",
    "\n",
    "Always sanity check your data.  Look at a few examples. Is it getting what is should?\n",
    "\n",
    "*python-twitter* is a well written and sophisticated library but if we had used it in a niave way we would have been getting truncated and incomplete data.\n"
   ]
  },
  {
   "cell_type": "code",
   "execution_count": null,
   "metadata": {
    "colab": {
     "base_uri": "https://localhost:8080/"
    },
    "executionInfo": {
     "elapsed": 4667,
     "status": "ok",
     "timestamp": 1615755991452,
     "user": {
      "displayName": "Nik Bear Brown",
      "photoUrl": "https://lh3.googleusercontent.com/a-/AOh14GiM1Q26nVUtugBRkregYHIFfrTZNtlP8O-WMVvR=s64",
      "userId": "17467854027018001755"
     },
     "user_tz": 240
    },
    "id": "i9HA_jQWjl6g",
    "outputId": "85aa7ae7-4bc7-4d45-8e16-845502ed2ae9"
   },
   "outputs": [],
   "source": [
    "_=statuses[0].hashtags\n",
    "print(_)"
   ]
  },
  {
   "cell_type": "markdown",
   "metadata": {
    "id": "uFm8Hb7_jl6g"
   },
   "source": [
    "# Getting the actual urls\n",
    "\n",
    "_Side Note_\n",
    "\n",
    "Note that the Twitter urls are links to the tweet not what the tweet links to\n",
    "[URL(URL=https://t.co/Xsdo09e8Ok, ExpandedURL=https://twitter.com/i/web/status/1370587369175347203)] \n",
    "\n",
    "How does one get the actual url form a \"tiny\" URL like https://t.co/Xsdo09e8Ok?\n"
   ]
  },
  {
   "cell_type": "code",
   "execution_count": null,
   "metadata": {
    "colab": {
     "base_uri": "https://localhost:8080/"
    },
    "executionInfo": {
     "elapsed": 5151,
     "status": "ok",
     "timestamp": 1615755991943,
     "user": {
      "displayName": "Nik Bear Brown",
      "photoUrl": "https://lh3.googleusercontent.com/a-/AOh14GiM1Q26nVUtugBRkregYHIFfrTZNtlP8O-WMVvR=s64",
      "userId": "17467854027018001755"
     },
     "user_tz": 240
    },
    "id": "ERIbENVijl6h",
    "outputId": "b7a2d178-05f4-4176-bd27-3e55d32547e7"
   },
   "outputs": [],
   "source": [
    "import urllib3\n",
    "url='https://t.co/AZ1BsVsGzT'\n",
    "print(urllib3.__version__)\n",
    "http = urllib3.PoolManager()\n",
    "resp = http.request('GET', url)\n",
    "print(resp.status) # The 200 status code means that the request has succeeded.\n",
    "print(resp.geturl())\n",
    "print(resp.info())\n",
    "resp.release_conn()"
   ]
  },
  {
   "cell_type": "markdown",
   "metadata": {
    "id": "fpsIzogEjl6h"
   },
   "source": [
    "# More Searching\n",
    "\n",
    "_Raw Queries_  \n",
    "\n",
    "To the Api.GetSearch() method, you can pass the parameter raw_query, which should be the query string you wish to use for the search omitting the leading “?”. This will override every other parameter. Twitter’s search parameters are quite complex, so if you have a need for a very particular search, you can find Twitter’s documentation at [https://dev.twitter.com/rest/public/search](https://dev.twitter.com/rest/public/search).  \n",
    "\n",
    "\n",
    "Note that the strings need to be url formated.\n",
    "\n",
    "so a query like \"data visualiztion\" cannot have spaces\n",
    "\n",
    "You can check a query by pasting it in a browser.\n",
    "\n",
    "https://twitter.com/search?q=data%20visualiztion%20&result_type=recent&since=2021-01-19&count=100\n",
    "\n",
    "results = api.GetSearch(\n",
    "    raw_query=\"q=twitter%20&result_type=recent&since=2021-01-19&count=100\")"
   ]
  },
  {
   "cell_type": "code",
   "execution_count": null,
   "metadata": {
    "colab": {
     "base_uri": "https://localhost:8080/"
    },
    "executionInfo": {
     "elapsed": 5148,
     "status": "ok",
     "timestamp": 1615755991944,
     "user": {
      "displayName": "Nik Bear Brown",
      "photoUrl": "https://lh3.googleusercontent.com/a-/AOh14GiM1Q26nVUtugBRkregYHIFfrTZNtlP8O-WMVvR=s64",
      "userId": "17467854027018001755"
     },
     "user_tz": 240
    },
    "id": "h2nCYrw5jl6h",
    "outputId": "a47d8fb5-3b5f-49eb-98b1-8471b419ec00"
   },
   "outputs": [],
   "source": [
    "# Make sure raw query is url encoded\n",
    "from urllib.parse import urlencode, quote_plus\n",
    "base='https://twitter.com/search?'\n",
    "params = {'q': 'data visualization', 'result_type': 'recent', 'since': '2021-01-19', 'count': 100}\n",
    "query = urlencode(params)\n",
    "print(query)\n",
    "query=base+query\n",
    "print(query)"
   ]
  },
  {
   "cell_type": "code",
   "execution_count": null,
   "metadata": {
    "id": "BMeW5sx2jl6h"
   },
   "outputs": [],
   "source": [
    "results = api.GetSearch(\n",
    "    raw_query=\"q=data+visualization&lang=en\")"
   ]
  },
  {
   "cell_type": "code",
   "execution_count": null,
   "metadata": {
    "colab": {
     "base_uri": "https://localhost:8080/"
    },
    "executionInfo": {
     "elapsed": 5398,
     "status": "ok",
     "timestamp": 1615755992200,
     "user": {
      "displayName": "Nik Bear Brown",
      "photoUrl": "https://lh3.googleusercontent.com/a-/AOh14GiM1Q26nVUtugBRkregYHIFfrTZNtlP8O-WMVvR=s64",
      "userId": "17467854027018001755"
     },
     "user_tz": 240
    },
    "id": "aCjuXBWUjl6h",
    "outputId": "03de48d3-0bbf-47c0-a513-648c2e1909ef"
   },
   "outputs": [],
   "source": [
    "results"
   ]
  },
  {
   "cell_type": "markdown",
   "metadata": {
    "id": "BRP_o5Fejl6i"
   },
   "source": [
    "# twitter-friends\n",
    "  \n",
    "lists all of a given user's friends (ie, followees)\n",
    "  \n",
    "twitter API docs: https://dev.twitter.com/rest/reference/get/friends/ids"
   ]
  },
  {
   "cell_type": "code",
   "execution_count": null,
   "metadata": {
    "colab": {
     "base_uri": "https://localhost:8080/"
    },
    "executionInfo": {
     "elapsed": 5641,
     "status": "ok",
     "timestamp": 1615755992447,
     "user": {
      "displayName": "Nik Bear Brown",
      "photoUrl": "https://lh3.googleusercontent.com/a-/AOh14GiM1Q26nVUtugBRkregYHIFfrTZNtlP8O-WMVvR=s64",
      "userId": "17467854027018001755"
     },
     "user_tz": 240
    },
    "id": "Kvr1q9Urjl6i",
    "outputId": "d61e7578-0c29-4111-da0b-f6504761aea0"
   },
   "outputs": [],
   "source": [
    "print(user)\n",
    "friends = api.GetFriendIDs(screen_name = user)"
   ]
  },
  {
   "cell_type": "code",
   "execution_count": null,
   "metadata": {
    "colab": {
     "base_uri": "https://localhost:8080/"
    },
    "executionInfo": {
     "elapsed": 5639,
     "status": "ok",
     "timestamp": 1615755992448,
     "user": {
      "displayName": "Nik Bear Brown",
      "photoUrl": "https://lh3.googleusercontent.com/a-/AOh14GiM1Q26nVUtugBRkregYHIFfrTZNtlP8O-WMVvR=s64",
      "userId": "17467854027018001755"
     },
     "user_tz": 240
    },
    "id": "OC5hMcePjl6i",
    "outputId": "668d4a79-12bd-4a14-b67f-201bac73f989"
   },
   "outputs": [],
   "source": [
    "friends[0:5]"
   ]
  },
  {
   "cell_type": "code",
   "execution_count": null,
   "metadata": {
    "id": "xAwKY06hjl6i"
   },
   "outputs": [],
   "source": [
    "friends = api.GetFriends(screen_name = user)"
   ]
  },
  {
   "cell_type": "code",
   "execution_count": null,
   "metadata": {
    "colab": {
     "base_uri": "https://localhost:8080/"
    },
    "executionInfo": {
     "elapsed": 9835,
     "status": "ok",
     "timestamp": 1615755996649,
     "user": {
      "displayName": "Nik Bear Brown",
      "photoUrl": "https://lh3.googleusercontent.com/a-/AOh14GiM1Q26nVUtugBRkregYHIFfrTZNtlP8O-WMVvR=s64",
      "userId": "17467854027018001755"
     },
     "user_tz": 240
    },
    "id": "X821IdDFjl6i",
    "outputId": "579bb1f0-1b68-49d8-a072-61517028f249"
   },
   "outputs": [],
   "source": [
    "friends[0:5]"
   ]
  },
  {
   "cell_type": "markdown",
   "metadata": {
    "id": "fb3BLUAAjl6i"
   },
   "source": [
    "# geo search\n",
    "\n",
    "Let's get tweets within 1 mile of Northeastern Univeristy.\n",
    "\n",
    "The GPS Coordinates of Northeastern Univeristy are:  \n",
    "\n",
    "DD Coordinates \n",
    "42.33666532 -71.08749965  \n",
    "\n",
    "DD Coordinates \n",
    "42°20'12.00\" N -71°05'15.00\" W \n",
    "\n",
    "Geohash Coordinates  \n",
    "drt2y75svnqmu13\n",
    "\n",
    "UTM Coordinates  \n",
    "19T 328028.91214765 4689267.261328  \n"
   ]
  },
  {
   "cell_type": "code",
   "execution_count": null,
   "metadata": {
    "id": "ZEiNBlO7jl6j"
   },
   "outputs": [],
   "source": [
    "geo=api.GetSearch(geocode=\"42.33666532,-71.08749965,1mi\")"
   ]
  },
  {
   "cell_type": "code",
   "execution_count": null,
   "metadata": {
    "colab": {
     "base_uri": "https://localhost:8080/"
    },
    "executionInfo": {
     "elapsed": 10120,
     "status": "ok",
     "timestamp": 1615755996939,
     "user": {
      "displayName": "Nik Bear Brown",
      "photoUrl": "https://lh3.googleusercontent.com/a-/AOh14GiM1Q26nVUtugBRkregYHIFfrTZNtlP8O-WMVvR=s64",
      "userId": "17467854027018001755"
     },
     "user_tz": 240
    },
    "id": "zeyAWYAujl6j",
    "outputId": "441cd106-dade-4ea0-f0cd-722defef0326"
   },
   "outputs": [],
   "source": [
    "geo[0:5]"
   ]
  },
  {
   "cell_type": "markdown",
   "metadata": {
    "id": "3mPvi6-2jl6j"
   },
   "source": [
    "# twitter streams\n",
    "\n",
    "The twitter streaming API gives a ultra-real-time stream of twitter's public timeline.\n",
    "\n",
    "See [https://developer.twitter.com/en/docs/tutorials/consuming-streaming-data](https://developer.twitter.com/en/docs/tutorials/consuming-streaming-data)  \n",
    "\n",
    "The Twitter stream sends new Tweets through the open connection as they happen, and your client app should read the data off the line as it is received by saving the data.\n",
    "\n",
    "\n",
    "_python-twitter_\n",
    "\n",
    "python-twitter has a GetStreamFilter class for consuming streaming data.  \n",
    "\n",
    "```python\n",
    "GetStreamFilter(follow=None, track=None, locations=None, languages=None, delimited=None, stall_warnings=None, filter_level=None)  \n",
    "```\n",
    "\n",
    "Parameters:\t\n",
    "    \n",
    "follow – A list of user IDs to track. _Optional_     \n",
    "track – A list of expressions to track. _Optional_     \n",
    "locations – A list of Longitude,Latitude pairs (as strings) specifying bounding boxes for the tweets’ origin. _Optional_     \n",
    "delimited – Specifies a message length. _Optional_     \n",
    "stall_warnings – Set to True to have Twitter deliver stall warnings. _Optional_     \n",
    "languages – A list of Languages. Will only return Tweets that have been detected as being written in the specified languages. _Optional_     \n",
    "filter_level – Specifies level of filtering applied to stream. Set to None, ‘low’ or ‘medium’. _Optional_     \n",
    "\n",
    "Returns:\t\n",
    "\n",
    "A twitter stream\n",
    "\n",
    "\n",
    "*Note that the Twitter stream is continuous so this should be written as a script that continiously runs and saves the data to disk.*\n",
    "\n",
    "\n",
    "This is best done on a cloud server.  Northeastern provides server support for students at the NU Discover cluster.\n",
    "\n",
    "https://rc.northeastern.edu/\n",
    "\n",
    "\n",
    "```python\n",
    "\n",
    "\n",
    "import os\n",
    "import json\n",
    "\n",
    "\n",
    "from twitter import Api\n",
    "\n",
    "# Either specify a set of keys here or use os.getenv('CONSUMER_KEY') style\n",
    "# assignment:\n",
    "\n",
    "CONSUMER_KEY = 'WWWWWWWW'\n",
    "# CONSUMER_KEY = os.getenv(\"CONSUMER_KEY\", None)\n",
    "CONSUMER_SECRET = 'XXXXXXXX'\n",
    "# CONSUMER_SECRET = os.getenv(\"CONSUMER_SECRET\", None)\n",
    "ACCESS_TOKEN = 'YYYYYYYY'\n",
    "# ACCESS_TOKEN = os.getenv(\"ACCESS_TOKEN\", None)\n",
    "ACCESS_TOKEN_SECRET = 'ZZZZZZZZ'\n",
    "# ACCESS_TOKEN_SECRET = os.getenv(\"ACCESS_TOKEN_SECRET\", None)\n",
    "\n",
    "# Users to watch for should be a list. This will be joined by Twitter and the\n",
    "# data returned will be for any tweet mentioning:\n",
    "# @twitter *OR* @twitterapi *OR* @support.\n",
    "USERS = ['@twitter',\n",
    "         '@twitterapi',\n",
    "         '@support']\n",
    "\n",
    "# Languages to filter tweets by is a list. This will be joined by Twitter\n",
    "# to return data mentioning tweets only in the english language.\n",
    "LANGUAGES = ['en']\n",
    "\n",
    "# Since we're going to be using a streaming endpoint, there is no need to worry\n",
    "# about rate limits.\n",
    "api = Api(CONSUMER_KEY,\n",
    "          CONSUMER_SECRET,\n",
    "          ACCESS_TOKEN,\n",
    "          ACCESS_TOKEN_SECRET)\n",
    "\n",
    "\n",
    "def main():\n",
    "    with open('output.txt', 'a') as f:\n",
    "        # api.GetStreamFilter will return a generator that yields one status\n",
    "        # message (i.e., Tweet) at a time as a JSON dictionary.\n",
    "        for line in api.GetStreamFilter(track=USERS, languages=LANGUAGES):\n",
    "            f.write(json.dumps(line))\n",
    "            f.write('\\n')\n",
    "\n",
    "\n",
    "if __name__ == '__main__':\n",
    "    main()\n",
    "\n",
    "\n",
    "\n",
    "```\n",
    "\n",
    "# Excercise Two\n",
    "\n",
    "How would one modify the code below to get streaming tweets at specific geolocation(s)?\n",
    "\n",
    "```python\n",
    "api.GetStreamFilter(track=USERS, languages=LANGUAGES)\n",
    "```\n",
    "\n",
    "\n",
    "*A:*\n",
    "\n",
    "```python\n",
    "LOCATIONS = ['42.33666532,-71.08749965',\n",
    "         '34.06999972,-118.439789907'] # Northeastern & UCLA\n",
    "\n",
    "\n",
    "api.GetStreamFilter(track=USERS, languages=LANGUAGES, locations=LOCATIONS)\n",
    "\n",
    "```\n",
    "\n",
    "*Nota bene* \n",
    "\n",
    "A seperate tutorial on setting up a continious Twitter Streaming Listener and saving and parsing the data will be created.  \n"
   ]
  },
  {
   "cell_type": "markdown",
   "metadata": {
    "id": "A0AExzjvjl6j"
   },
   "source": [
    "# Next Steps\n",
    "\n",
    "There is a lot more to explore when dealing with Twitter data. Many more searches can be done and often the data needs to be cleaned and reformated.\n",
    "\n",
    "Feature engineering is when one adds additional information to a tweet or twitter user such as identifying \"fake news\" tweets or flagging twitter users as bots or identifying which twitter users love d3. _d2d3_ will be adding additional notebooks, tutorials and videos that show how to do such things as:   \n",
    "\n",
    "The d2d3 (data to d3) project creates tutorials and tools that  gather, clean, format, explore, munge, understand and feature engineer data before creating beautiful d3 visualizations.\n",
    "\n",
    "\n",
    "* Creating bots \n",
    "* Create network data and identify important tweeters and tweets\n",
    "* Create hierarchical data \n",
    "* Identifying which twitter users are renowned information visualizers.\n",
    "* Creating lists of information design companies and their Twitter handles\n",
    "* Geolocating tweets whose geo attribute is None.\n",
    "* Extracting and tagging media in tweets\n",
    "* Analyzing the sentiment of tweets\n",
    "* Add missing hashtags to tweets\n",
    "* Analyzing Twitter trends \n",
    "* Formatting and preparing Twitter data so that it can be used for every graph in the d3 gallery [https://observablehq.com/@d3/gallery](https://observablehq.com/@d3/gallery)\n",
    "* Merging Twitter data with other data sources such as Google trends, Wikipedia, etc.  \n",
    "\n",
    "\n",
    "Email _d2d3_ at _d2d3.net_ if you would like to see a particular tutorial.  \n",
    "  \n"
   ]
  },
  {
   "cell_type": "markdown",
   "metadata": {
    "id": "ZXdXrZK4jl6j"
   },
   "source": [
    "MIT License\n",
    "\n",
    "Copyright (c) 2021 Nik Bear Brown & _d2d3.net_  \n",
    "\n",
    "Permission is hereby granted, free of charge, to any person obtaining a copy\n",
    "of this software and associated documentation files (the \"Software\"), to deal\n",
    "in the Software without restriction, including without limitation the rights\n",
    "to use, copy, modify, merge, publish, distribute, sublicense, and/or sell\n",
    "copies of the Software, and to permit persons to whom the Software is\n",
    "furnished to do so, subject to the following conditions:\n",
    "\n",
    "The above copyright notice and this permission notice shall be included in all\n",
    "copies or substantial portions of the Software.\n",
    "\n",
    "THE SOFTWARE IS PROVIDED \"AS IS\", WITHOUT WARRANTY OF ANY KIND, EXPRESS OR\n",
    "IMPLIED, INCLUDING BUT NOT LIMITED TO THE WARRANTIES OF MERCHANTABILITY,\n",
    "FITNESS FOR A PARTICULAR PURPOSE AND NONINFRINGEMENT. IN NO EVENT SHALL THE\n",
    "AUTHORS OR COPYRIGHT HOLDERS BE LIABLE FOR ANY CLAIM, DAMAGES OR OTHER\n",
    "LIABILITY, WHETHER IN AN ACTION OF CONTRACT, TORT OR OTHERWISE, ARISING FROM,\n",
    "OUT OF OR IN CONNECTION WITH THE SOFTWARE OR THE USE OR OTHER DEALINGS IN THE\n",
    "SOFTWARE."
   ]
  }
 ],
 "metadata": {
  "colab": {
   "collapsed_sections": [
    "CeakmW7Vjl6b",
    "TPIaAUgYjl6b",
    "_X5kFbdDjl6c",
    "UdKyj73vjl6e",
    "LjwN33iQjl6g",
    "uFm8Hb7_jl6g",
    "fpsIzogEjl6h",
    "BRP_o5Fejl6i",
    "fb3BLUAAjl6i",
    "3mPvi6-2jl6j",
    "A0AExzjvjl6j"
   ],
   "name": "1_python-twitter_quick_start.ipynb",
   "provenance": []
  },
  "kernelspec": {
   "display_name": "Python 3 (ipykernel)",
   "language": "python",
   "name": "python3"
  },
  "language_info": {
   "codemirror_mode": {
    "name": "ipython",
    "version": 3
   },
   "file_extension": ".py",
   "mimetype": "text/x-python",
   "name": "python",
   "nbconvert_exporter": "python",
   "pygments_lexer": "ipython3",
   "version": "3.10.9"
  }
 },
 "nbformat": 4,
 "nbformat_minor": 1
}
