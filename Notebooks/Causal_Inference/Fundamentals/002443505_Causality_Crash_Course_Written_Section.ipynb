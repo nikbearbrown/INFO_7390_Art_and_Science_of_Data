{
 "cells": [
  {
   "cell_type": "markdown",
   "id": "4fbb2442",
   "metadata": {},
   "source": [
    "# Grid to Glory: A Causal Look at Starting Positions in Formula 1"
   ]
  },
  {
   "cell_type": "markdown",
   "id": "e45be722-f89d-4a15-a13b-f8a8268e6ff0",
   "metadata": {},
   "source": [
    "![F1 Grid](img/f1d.JPG)\n"
   ]
  },
  {
   "cell_type": "markdown",
   "id": "f5f9273c",
   "metadata": {},
   "source": [
    "## Abstract\n",
    "\n",
    "In Formula 1, race strategy, driver performance, and team engineering are all critical to success — but how much does **starting grid position** affect a driver's final result? In this notebook, we explore a key causal question:\n",
    "\n",
    "> **Does starting at the front of the grid cause a better race outcome?**\n",
    "\n",
    "Using the official Formula 1 World Championship dataset (1950–2020), we analyze historical race results to investigate the relationship between a driver's starting position and their finishing position. This notebook serves as a practical case study in applying **causal analysis thinking** to real-world sports data.\n",
    "\n",
    "The focus of this notebook is not only on drawing insights but also on demonstrating how **data preparation** plays a pivotal role in enabling robust causal interpretation. We walk through data cleaning, handling of missing values (e.g., DNFs), feature engineering (e.g., creating binary indicators for top grid starts), and encoding choices, all within a structured machine learning pipeline.\n",
    "\n",
    "By the end of this notebook, you will gain a deeper understanding of:\n",
    "- How to frame causal questions from observational data\n",
    "- How preprocessing decisions can influence causal interpretation\n",
    "- What the data tells us about the strategic value of qualifying well in Formula 1\n",
    "\n",
    "This chapter blends the thrill of motorsport with the rigor of machine learning and causal reasoning — delivering both analytical insights and practical skills.\n"
   ]
  },
  {
   "cell_type": "markdown",
   "id": "70940cb4",
   "metadata": {},
   "source": [
    "## Theory Section: Causal Thinking in Machine Learning and Formula 1\n",
    "\n",
    "Understanding **causality** — not just correlation — is fundamental to building robust and interpretable machine learning systems. While traditional machine learning models are designed to **predict**, causal inference seeks to **explain** the underlying *why* behind observed outcomes.\n",
    "\n",
    "In this notebook, we explore a causal question from the high-speed world of Formula 1:\n",
    "\n",
    "> **Does starting closer to the front of the grid cause a better finishing position in a race?**\n",
    "\n",
    "To answer this question responsibly, we must ground our approach in **causal reasoning principles** and careful **data preparation**.\n",
    "\n",
    "---\n",
    "\n",
    "### 1. What is Causality?\n",
    "\n",
    "Causality refers to a relationship where one event (the cause) directly affects another (the effect). Unlike correlation, which measures association, causality implies **intervention**: if we were to change the cause, the effect would change as a result.\n",
    "\n",
    "In our case:\n",
    "- **Treatment (cause)**: A driver's *starting grid position*\n",
    "- **Outcome (effect)**: Their *finishing position* in the race\n",
    "\n",
    "We want to understand if being positioned at the front (e.g., Top 5) actually contributes to better results — or if it's merely associated due to confounding factors (like car performance or driver skill).\n",
    "\n",
    "---\n",
    "\n",
    "### 2. Key Causal Concepts\n",
    "\n",
    "| Concept            | Description                                                                 |\n",
    "|--------------------|-----------------------------------------------------------------------------|\n",
    "| **Treatment**       | The variable being tested as a cause — here, the starting position          |\n",
    "| **Outcome**         | The result we're measuring — the finishing position                         |\n",
    "| **Confounders**     | Other variables that influence both treatment and outcome (e.g., team strength, track type, driver experience) |\n",
    "| **Causal Effect**   | The difference in the outcome caused directly by the treatment              |\n",
    "| **Counterfactual**  | What *would have happened* if a driver started in a different position      |\n",
    "\n",
    "---\n",
    "\n",
    "### 3. The Role of Data Preparation in Causal Analysis\n",
    "\n",
    "Before applying any analysis, we must prepare our data thoughtfully. This involves:\n",
    "\n",
    "- **Handling Missing Data**: Many drivers have a `Did Not Finish (DNF)` status. We'll clean or flag these.\n",
    "- **Feature Engineering**: We'll create a binary indicator like `started_in_top5` to simplify analysis.\n",
    "- **Encoding Ordinal Data**: Starting and finishing positions are numeric, but we'll treat them carefully (e.g., lower is better).\n",
    "- **Filtering Out Noise**: Removing edge cases like disqualifications or incomplete races.\n",
    "\n",
    "Well-prepared data minimizes bias and ensures we're capturing **meaningful causal signals**, not misleading correlations.\n",
    "\n",
    "---\n",
    "\n",
    "### 4. Why Formula 1 is a Great Case Study\n",
    "\n",
    "Formula 1 offers a semi-controlled environment:\n",
    "- All drivers race under the same weather conditions\n",
    "- Races are time-bound and rule-driven\n",
    "- Data is standardized and historically rich\n",
    "\n",
    "This makes it an ideal domain to explore causal inference using real-world, time-series, and ranking data.\n",
    "\n",
    "---\n",
    "\n",
    "In the next section, we’ll apply these concepts by preparing and analyzing the official F1 dataset — identifying patterns between grid positions and final outcomes.\n"
   ]
  },
  {
   "cell_type": "markdown",
   "id": "0bdd53d9",
   "metadata": {},
   "source": [
    "---"
   ]
  },
  {
   "cell_type": "markdown",
   "id": "e6a19b39",
   "metadata": {},
   "source": [
    "# Data Preparation"
   ]
  },
  {
   "cell_type": "markdown",
   "id": "5cef538b",
   "metadata": {},
   "source": [
    "### Step 1: Import libraries\n",
    "\n",
    "We import the core libraries for data manipulation (`pandas`, `numpy`) and visualization (`matplotlib`, `seaborn`). These will help us load, clean, and explore the dataset in the coming steps.\n"
   ]
  },
  {
   "cell_type": "code",
   "execution_count": 1,
   "id": "4b68cbf9",
   "metadata": {},
   "outputs": [],
   "source": [
    "# Importing necessary libraries\n",
    "import pandas as pd\n",
    "import numpy as np\n",
    "import matplotlib.pyplot as plt\n",
    "import seaborn as sns\n",
    "\n",
    "# Set plotting style\n",
    "sns.set(style=\"whitegrid\")\n",
    "\n",
    "# Set display options\n",
    "pd.set_option('display.max_columns', None)\n"
   ]
  },
  {
   "cell_type": "markdown",
   "id": "63a6982e",
   "metadata": {},
   "source": [
    "### Step 2: Load data and merge readable status\n",
    "\n",
    "We load the main race `results` and `status` files, then join them to include a readable `status` column instead of just status IDs.\n",
    "\n"
   ]
  },
  {
   "cell_type": "code",
   "execution_count": 9,
   "id": "1b7d601c",
   "metadata": {},
   "outputs": [
    {
     "data": {
      "text/html": [
       "<div>\n",
       "<style scoped>\n",
       "    .dataframe tbody tr th:only-of-type {\n",
       "        vertical-align: middle;\n",
       "    }\n",
       "\n",
       "    .dataframe tbody tr th {\n",
       "        vertical-align: top;\n",
       "    }\n",
       "\n",
       "    .dataframe thead th {\n",
       "        text-align: right;\n",
       "    }\n",
       "</style>\n",
       "<table border=\"1\" class=\"dataframe\">\n",
       "  <thead>\n",
       "    <tr style=\"text-align: right;\">\n",
       "      <th></th>\n",
       "      <th>grid</th>\n",
       "      <th>positionOrder</th>\n",
       "      <th>status</th>\n",
       "    </tr>\n",
       "  </thead>\n",
       "  <tbody>\n",
       "    <tr>\n",
       "      <th>0</th>\n",
       "      <td>1</td>\n",
       "      <td>1</td>\n",
       "      <td>Finished</td>\n",
       "    </tr>\n",
       "    <tr>\n",
       "      <th>1</th>\n",
       "      <td>5</td>\n",
       "      <td>2</td>\n",
       "      <td>Finished</td>\n",
       "    </tr>\n",
       "    <tr>\n",
       "      <th>2</th>\n",
       "      <td>7</td>\n",
       "      <td>3</td>\n",
       "      <td>Finished</td>\n",
       "    </tr>\n",
       "    <tr>\n",
       "      <th>3</th>\n",
       "      <td>11</td>\n",
       "      <td>4</td>\n",
       "      <td>Finished</td>\n",
       "    </tr>\n",
       "    <tr>\n",
       "      <th>4</th>\n",
       "      <td>3</td>\n",
       "      <td>5</td>\n",
       "      <td>Finished</td>\n",
       "    </tr>\n",
       "  </tbody>\n",
       "</table>\n",
       "</div>"
      ],
      "text/plain": [
       "   grid  positionOrder    status\n",
       "0     1              1  Finished\n",
       "1     5              2  Finished\n",
       "2     7              3  Finished\n",
       "3    11              4  Finished\n",
       "4     3              5  Finished"
      ]
     },
     "execution_count": 9,
     "metadata": {},
     "output_type": "execute_result"
    }
   ],
   "source": [
    "# Step 2: Load results and status datasets\n",
    "results = pd.read_csv('data/F1/results.csv')\n",
    "status = pd.read_csv('data/F1/status.csv')\n",
    "\n",
    "# Merge readable status text into results using statusId\n",
    "results = results.merge(status, how='left', on='statusId')\n",
    "results[['grid', 'positionOrder', 'status']].head()\n",
    "\n"
   ]
  },
  {
   "cell_type": "markdown",
   "id": "b18d4d66",
   "metadata": {},
   "source": [
    "### Step 3: Filter out DNFs\n",
    "\n",
    "We create a `dnf` column to flag drivers who did not finish the race. For this analysis, we keep only those who completed the race to ensure a fair comparison of grid vs. finish.\n",
    "\n"
   ]
  },
  {
   "cell_type": "code",
   "execution_count": 10,
   "id": "7ad5c635",
   "metadata": {},
   "outputs": [
    {
     "data": {
      "text/html": [
       "<div>\n",
       "<style scoped>\n",
       "    .dataframe tbody tr th:only-of-type {\n",
       "        vertical-align: middle;\n",
       "    }\n",
       "\n",
       "    .dataframe tbody tr th {\n",
       "        vertical-align: top;\n",
       "    }\n",
       "\n",
       "    .dataframe thead th {\n",
       "        text-align: right;\n",
       "    }\n",
       "</style>\n",
       "<table border=\"1\" class=\"dataframe\">\n",
       "  <thead>\n",
       "    <tr style=\"text-align: right;\">\n",
       "      <th></th>\n",
       "      <th>grid</th>\n",
       "      <th>positionOrder</th>\n",
       "      <th>dnf</th>\n",
       "    </tr>\n",
       "  </thead>\n",
       "  <tbody>\n",
       "    <tr>\n",
       "      <th>0</th>\n",
       "      <td>1</td>\n",
       "      <td>1</td>\n",
       "      <td>0</td>\n",
       "    </tr>\n",
       "    <tr>\n",
       "      <th>1</th>\n",
       "      <td>5</td>\n",
       "      <td>2</td>\n",
       "      <td>0</td>\n",
       "    </tr>\n",
       "    <tr>\n",
       "      <th>2</th>\n",
       "      <td>7</td>\n",
       "      <td>3</td>\n",
       "      <td>0</td>\n",
       "    </tr>\n",
       "    <tr>\n",
       "      <th>3</th>\n",
       "      <td>11</td>\n",
       "      <td>4</td>\n",
       "      <td>0</td>\n",
       "    </tr>\n",
       "    <tr>\n",
       "      <th>4</th>\n",
       "      <td>3</td>\n",
       "      <td>5</td>\n",
       "      <td>0</td>\n",
       "    </tr>\n",
       "  </tbody>\n",
       "</table>\n",
       "</div>"
      ],
      "text/plain": [
       "   grid  positionOrder  dnf\n",
       "0     1              1    0\n",
       "1     5              2    0\n",
       "2     7              3    0\n",
       "3    11              4    0\n",
       "4     3              5    0"
      ]
     },
     "execution_count": 10,
     "metadata": {},
     "output_type": "execute_result"
    }
   ],
   "source": [
    "# Step 3: Create a DNF flag (1 = Did Not Finish, 0 = Finished)\n",
    "results['dnf'] = results['status'].apply(lambda x: 0 if x == 'Finished' else 1)\n",
    "\n",
    "# Filter out drivers who did not finish the race\n",
    "finished_results = results[results['dnf'] == 0].copy()\n",
    "finished_results[['grid', 'positionOrder', 'dnf']].head()\n"
   ]
  },
  {
   "cell_type": "markdown",
   "id": "fc2db9c7",
   "metadata": {},
   "source": [
    "### Step 4: Define treatment variable – Top 5 starter\n",
    "\n",
    "We engineer a new feature `started_in_top5` which is 1 if a driver started in grid positions 1–5. This will serve as our treatment group for causal analysis.\n",
    "\n"
   ]
  },
  {
   "cell_type": "code",
   "execution_count": 11,
   "id": "87a41f2d",
   "metadata": {},
   "outputs": [
    {
     "data": {
      "text/html": [
       "<div>\n",
       "<style scoped>\n",
       "    .dataframe tbody tr th:only-of-type {\n",
       "        vertical-align: middle;\n",
       "    }\n",
       "\n",
       "    .dataframe tbody tr th {\n",
       "        vertical-align: top;\n",
       "    }\n",
       "\n",
       "    .dataframe thead th {\n",
       "        text-align: right;\n",
       "    }\n",
       "</style>\n",
       "<table border=\"1\" class=\"dataframe\">\n",
       "  <thead>\n",
       "    <tr style=\"text-align: right;\">\n",
       "      <th></th>\n",
       "      <th>grid</th>\n",
       "      <th>started_in_top5</th>\n",
       "    </tr>\n",
       "  </thead>\n",
       "  <tbody>\n",
       "    <tr>\n",
       "      <th>0</th>\n",
       "      <td>1</td>\n",
       "      <td>1</td>\n",
       "    </tr>\n",
       "    <tr>\n",
       "      <th>1</th>\n",
       "      <td>5</td>\n",
       "      <td>1</td>\n",
       "    </tr>\n",
       "    <tr>\n",
       "      <th>2</th>\n",
       "      <td>7</td>\n",
       "      <td>0</td>\n",
       "    </tr>\n",
       "    <tr>\n",
       "      <th>3</th>\n",
       "      <td>11</td>\n",
       "      <td>0</td>\n",
       "    </tr>\n",
       "    <tr>\n",
       "      <th>4</th>\n",
       "      <td>3</td>\n",
       "      <td>1</td>\n",
       "    </tr>\n",
       "  </tbody>\n",
       "</table>\n",
       "</div>"
      ],
      "text/plain": [
       "   grid  started_in_top5\n",
       "0     1                1\n",
       "1     5                1\n",
       "2     7                0\n",
       "3    11                0\n",
       "4     3                1"
      ]
     },
     "execution_count": 11,
     "metadata": {},
     "output_type": "execute_result"
    }
   ],
   "source": [
    "# Step 4: Create binary flag for starting in Top 5 positions\n",
    "finished_results['started_in_top5'] = finished_results['grid'].apply(lambda x: 1 if x <= 5 else 0)\n",
    "finished_results[['grid', 'started_in_top5']].head()\n",
    "\n"
   ]
  },
  {
   "cell_type": "markdown",
   "id": "ff3639d8",
   "metadata": {},
   "source": [
    "### Step 5: Sanity check\n",
    "\n",
    "We inspect key statistics to ensure our new variables are clean and ready for causal exploration in the next section.\n"
   ]
  },
  {
   "cell_type": "code",
   "execution_count": 12,
   "id": "c8752be5",
   "metadata": {},
   "outputs": [
    {
     "data": {
      "text/html": [
       "<div>\n",
       "<style scoped>\n",
       "    .dataframe tbody tr th:only-of-type {\n",
       "        vertical-align: middle;\n",
       "    }\n",
       "\n",
       "    .dataframe tbody tr th {\n",
       "        vertical-align: top;\n",
       "    }\n",
       "\n",
       "    .dataframe thead th {\n",
       "        text-align: right;\n",
       "    }\n",
       "</style>\n",
       "<table border=\"1\" class=\"dataframe\">\n",
       "  <thead>\n",
       "    <tr style=\"text-align: right;\">\n",
       "      <th></th>\n",
       "      <th>grid</th>\n",
       "      <th>positionOrder</th>\n",
       "      <th>started_in_top5</th>\n",
       "    </tr>\n",
       "  </thead>\n",
       "  <tbody>\n",
       "    <tr>\n",
       "      <th>count</th>\n",
       "      <td>7674.000000</td>\n",
       "      <td>7674.000000</td>\n",
       "      <td>7674.000000</td>\n",
       "    </tr>\n",
       "    <tr>\n",
       "      <th>mean</th>\n",
       "      <td>7.368517</td>\n",
       "      <td>5.124186</td>\n",
       "      <td>0.458822</td>\n",
       "    </tr>\n",
       "    <tr>\n",
       "      <th>std</th>\n",
       "      <td>5.400472</td>\n",
       "      <td>3.657475</td>\n",
       "      <td>0.498334</td>\n",
       "    </tr>\n",
       "    <tr>\n",
       "      <th>min</th>\n",
       "      <td>0.000000</td>\n",
       "      <td>1.000000</td>\n",
       "      <td>0.000000</td>\n",
       "    </tr>\n",
       "    <tr>\n",
       "      <th>25%</th>\n",
       "      <td>3.000000</td>\n",
       "      <td>2.000000</td>\n",
       "      <td>0.000000</td>\n",
       "    </tr>\n",
       "    <tr>\n",
       "      <th>50%</th>\n",
       "      <td>6.000000</td>\n",
       "      <td>4.000000</td>\n",
       "      <td>0.000000</td>\n",
       "    </tr>\n",
       "    <tr>\n",
       "      <th>75%</th>\n",
       "      <td>11.000000</td>\n",
       "      <td>7.000000</td>\n",
       "      <td>1.000000</td>\n",
       "    </tr>\n",
       "    <tr>\n",
       "      <th>max</th>\n",
       "      <td>33.000000</td>\n",
       "      <td>20.000000</td>\n",
       "      <td>1.000000</td>\n",
       "    </tr>\n",
       "  </tbody>\n",
       "</table>\n",
       "</div>"
      ],
      "text/plain": [
       "              grid  positionOrder  started_in_top5\n",
       "count  7674.000000    7674.000000      7674.000000\n",
       "mean      7.368517       5.124186         0.458822\n",
       "std       5.400472       3.657475         0.498334\n",
       "min       0.000000       1.000000         0.000000\n",
       "25%       3.000000       2.000000         0.000000\n",
       "50%       6.000000       4.000000         0.000000\n",
       "75%      11.000000       7.000000         1.000000\n",
       "max      33.000000      20.000000         1.000000"
      ]
     },
     "execution_count": 12,
     "metadata": {},
     "output_type": "execute_result"
    }
   ],
   "source": [
    "# Step 5: Quick sanity check of the cleaned data\n",
    "finished_results[['grid', 'positionOrder', 'started_in_top5']].describe()\n",
    "\n"
   ]
  },
  {
   "cell_type": "markdown",
   "id": "01bc6cc3",
   "metadata": {},
   "source": [
    "\n"
   ]
  },
  {
   "cell_type": "markdown",
   "id": "6be4bfc7",
   "metadata": {},
   "source": [
    "---"
   ]
  },
  {
   "cell_type": "markdown",
   "id": "6aab8437",
   "metadata": {},
   "source": [
    "# Exploratory Data Analysis"
   ]
  },
  {
   "cell_type": "markdown",
   "id": "2a78c9d1",
   "metadata": {},
   "source": [
    "### Step 1: Distribution of Grid Positions\n",
    "\n",
    "We start by visualizing where drivers generally start on the grid. This gives us an idea of how grid positions are distributed across all races, especially after filtering out DNFs.\n"
   ]
  },
  {
   "cell_type": "code",
   "execution_count": 14,
   "id": "abf9f3b2",
   "metadata": {},
   "outputs": [
    {
     "data": {
      "image/png": "[encoded data removed]",
      "text/plain": [
       "<Figure size 1000x500 with 1 Axes>"
      ]
     },
     "metadata": {},
     "output_type": "display_data"
    }
   ],
   "source": [
    "# Step 1: Distribution of starting grid positions (after filtering DNFs)\n",
    "plt.figure(figsize=(10, 5))\n",
    "sns.histplot(finished_results['grid'], bins=20, kde=False, color='royalblue')\n",
    "plt.title('Distribution of Grid Starting Positions')\n",
    "plt.xlabel('Grid Position')\n",
    "plt.ylabel('Number of Drivers')\n",
    "plt.show()\n"
   ]
  },
  {
   "cell_type": "markdown",
   "id": "96c7fd69",
   "metadata": {},
   "source": [
    "### Step 2: Distribution of Finishing Positions\n",
    "\n",
    "This plot shows where drivers typically finish in the race. Since we’ve removed DNFs, the data reflects classified finishes only — useful for comparing performance patterns.\n"
   ]
  },
  {
   "cell_type": "code",
   "execution_count": 15,
   "id": "f574109d",
   "metadata": {},
   "outputs": [
    {
     "data": {
      "image/png": "[encoded data removed]",
      "text/plain": [
       "<Figure size 1000x500 with 1 Axes>"
      ]
     },
     "metadata": {},
     "output_type": "display_data"
    }
   ],
   "source": [
    "# Step 2: Distribution of finishing positions (only classified drivers)\n",
    "plt.figure(figsize=(10, 5))\n",
    "sns.histplot(finished_results['positionOrder'], bins=20, kde=False, color='darkorange')\n",
    "plt.title('Distribution of Finishing Positions')\n",
    "plt.xlabel('Finishing Position')\n",
    "plt.ylabel('Number of Drivers')\n",
    "plt.show()\n"
   ]
  },
  {
   "cell_type": "markdown",
   "id": "18724d60",
   "metadata": {},
   "source": [
    "### Step 3: Finishing Position by Top 5 Starter Status\n",
    "\n",
    "This box plot helps visualize how finishing position differs for drivers who started in the Top 5 versus those who didn’t.\n",
    "\n",
    "- A **lower median** finish position for Top 5 starters would suggest an advantage.\n",
    "- The **spread** can also tell us how consistent the advantage is.\n",
    "\n",
    "This sets us up nicely for causal interpretation.\n"
   ]
  },
  {
   "cell_type": "code",
   "execution_count": 16,
   "id": "5b55da73",
   "metadata": {},
   "outputs": [
    {
     "data": {
      "image/png": "[encoded data removed]",
      "text/plain": [
       "<Figure size 1000x600 with 1 Axes>"
      ]
     },
     "metadata": {},
     "output_type": "display_data"
    }
   ],
   "source": [
    "# Step 3: Compare finish positions between Top 5 starters vs others\n",
    "plt.figure(figsize=(10, 6))\n",
    "sns.boxplot(data=finished_results, x='started_in_top5', y='positionOrder', palette='Set2')\n",
    "plt.title('Finishing Position by Starting Grid (Top 5 vs Others)')\n",
    "plt.xlabel('Started in Top 5 (1 = Yes, 0 = No)')\n",
    "plt.ylabel('Finishing Position')\n",
    "plt.show()\n"
   ]
  },
  {
   "cell_type": "markdown",
   "id": "4fc69140",
   "metadata": {},
   "source": [
    "### Step 4: Average Finishing Position by Starter Group\n",
    "\n",
    "We now compute the mean finishing position for:\n",
    "- Drivers who started in the Top 5\n",
    "- Drivers who started outside the Top 5\n",
    "\n",
    "This simple group comparison quantifies the performance gap and sets the stage for causal discussion.\n"
   ]
  },
  {
   "cell_type": "code",
   "execution_count": 17,
   "id": "30dbdc0e",
   "metadata": {},
   "outputs": [
    {
     "data": {
      "text/plain": [
       "started_in_top5\n",
       "0    6.940043\n",
       "1    2.982391\n",
       "Name: positionOrder, dtype: float64"
      ]
     },
     "execution_count": 17,
     "metadata": {},
     "output_type": "execute_result"
    }
   ],
   "source": [
    "# Step 4: Mean finishing position by group\n",
    "mean_finish = finished_results.groupby('started_in_top5')['positionOrder'].mean()\n",
    "mean_finish\n"
   ]
  },
  {
   "cell_type": "markdown",
   "id": "fa6cc54a",
   "metadata": {},
   "source": [
    "### Step 5: Visualizing the Average Finishing Advantage\n",
    "\n",
    "This bar plot clearly shows the average finishing position for both groups. If the Top 5 starters consistently finish higher (i.e., lower finishing positions), it strengthens the argument for a causal relationship between grid position and race outcome.\n"
   ]
  },
  {
   "cell_type": "code",
   "execution_count": 18,
   "id": "298b4c66",
   "metadata": {},
   "outputs": [
    {
     "data": {
      "image/png": "[encoded data removed]",
      "text/plain": [
       "<Figure size 800x500 with 1 Axes>"
      ]
     },
     "metadata": {},
     "output_type": "display_data"
    }
   ],
   "source": [
    "# Step 5: Visual bar comparison of average finish\n",
    "plt.figure(figsize=(8, 5))\n",
    "sns.barplot(x=mean_finish.index, y=mean_finish.values, palette='coolwarm')\n",
    "plt.xticks([0, 1], ['Started Outside Top 5', 'Started in Top 5'])\n",
    "plt.title('Average Finishing Position by Starting Group')\n",
    "plt.ylabel('Average Finish Position')\n",
    "plt.xlabel('')\n",
    "plt.ylim(1, max(mean_finish.values) + 1)\n",
    "plt.show()\n"
   ]
  },
  {
   "cell_type": "code",
   "execution_count": null,
   "id": "f8821538",
   "metadata": {},
   "outputs": [],
   "source": []
  },
  {
   "cell_type": "markdown",
   "id": "5551780d",
   "metadata": {},
   "source": [
    "---"
   ]
  },
  {
   "cell_type": "markdown",
   "id": "f93bf550",
   "metadata": {},
   "source": [
    "# Causal Analysis & Insights\n",
    "\n",
    "### Research Question Recap:\n",
    "> **Does starting in the Top 5 grid positions cause a better finishing position in Formula 1 races?**\n",
    "\n",
    "Now that we've prepared and explored the data, we can draw insights based on the visualizations and summary statistics.\n",
    "\n",
    "---\n",
    "\n",
    "### Observations:\n",
    "\n",
    "1. **Boxplot Insight**  \n",
    "   From the boxplot comparing finishing positions by `started_in_top5`:\n",
    "   - Drivers who started in the Top 5 had a much lower median finish (closer to P2 or P3).\n",
    "   - The interquartile range was tighter, indicating more consistent high finishes.\n",
    "   - Outliers were fewer, and extreme poor finishes were rare among Top 5 starters.\n",
    "\n",
    "2. **Average Finishing Position**  \n",
    "   The mean finishing position for each group was:\n",
    "   - **Top 5 Starters**: 2.98  \n",
    "   - **Others**: 6.94  \n",
    "   This reveals a striking ~4-position advantage on average for those who start near the front — a meaningful difference in the F1 context, where overtaking is difficult and strategy is tightly linked to grid placement.\n",
    "\n",
    "3. **Data Consistency Check**  \n",
    "   The dataset includes **7,674 finished driver-race instances**, with:\n",
    "   - An average grid position of 7.37  \n",
    "   - An average finish of 5.12  \n",
    "   - ~46% of the drivers starting in the Top 5\n",
    "\n",
    "---\n",
    "\n",
    "### Causal Interpretation:\n",
    "\n",
    "While we observe a strong correlation between starting in the Top 5 and finishing higher, we must be cautious in declaring a **pure causal effect**.\n",
    "\n",
    "#### Potential Confounders:\n",
    "- **Team/Car Performance**: Faster cars qualify better *and* finish better.\n",
    "- **Driver Skill**: Talented drivers may consistently both qualify and finish well.\n",
    "- **Track Characteristics**: Certain circuits (e.g., Monaco) make overtaking harder, amplifying the grid advantage.\n",
    "\n",
    "These factors are not controlled for in this simple analysis but would be part of a more advanced causal study using techniques like **propensity score matching** or **instrumental variables**.\n",
    "\n",
    "---\n",
    "\n",
    "### Key Takeaway:\n",
    "\n",
    "There is **strong evidence** that starting in the Top 5 grid positions is associated with significantly better race outcomes. While we can’t fully isolate causality without deeper modeling, the direction and strength of the relationship strongly support the idea that **qualifying well gives drivers a competitive edge**, especially in modern F1 racing.\n",
    "\n",
    "In a machine learning context, this highlights the importance of:\n",
    "- Creating **interpretable features**\n",
    "- Considering **confounders** before assuming causality\n",
    "- Using **domain knowledge** to guide data-driven reasoning\n"
   ]
  },
  {
   "cell_type": "markdown",
   "id": "58badc47",
   "metadata": {},
   "source": [
    "---"
   ]
  },
  {
   "cell_type": "markdown",
   "id": "2f8f5a8d",
   "metadata": {},
   "source": [
    "# Conclusion\n",
    "\n",
    "In this notebook, we examined whether **starting in the Top 5 grid positions** leads to **better race outcomes** in Formula 1. Through structured data preparation, feature engineering, and exploratory data analysis, we found that drivers starting in the Top 5 consistently finished races in better positions than those starting further back.\n",
    "\n",
    "Key takeaways include:\n",
    "- Drivers starting in the Top 5 had an average finish of **2.98**, compared to **6.94** for others.\n",
    "- Boxplots and bar charts confirmed a **clear and consistent advantage** in finishing position for Top 5 starters.\n",
    "- While the data shows strong correlation, we discussed the importance of **considering confounding factors** such as team performance and driver skill before concluding causality.\n",
    "\n",
    "This case study demonstrates how thoughtful **data preprocessing and feature engineering** enable more reliable insights in causal analysis. Even in complex, real-world domains like motorsport, structured preparation unlocks meaningful patterns that inform strategic decisions."
   ]
  },
  {
   "cell_type": "markdown",
   "id": "4dc885db",
   "metadata": {},
   "source": [
    "---"
   ]
  },
  {
   "cell_type": "markdown",
   "id": "ad9b5520",
   "metadata": {},
   "source": [
    "# References\n",
    "\n",
    "- Kaggle Dataset: [Formula 1 World Championship (1950–2020)](https://www.kaggle.com/datasets/rohanrao/formula-1-world-championship-1950-2020) by Rohan Rao  \n",
    "- Pearl, Judea. *The Book of Why: The New Science of Cause and Effect*. Basic Books, 2018.  \n",
    "- Microsoft Research. [DoWhy: An End-to-End Library for Causal Inference](https://github.com/microsoft/dowhy)  \n",
    "- Towards Data Science. [\"Correlation is Not Causation\" – A Causal Inference Primer](https://towardsdatascience.com/causal-inference-for-the-brave-and-true-intro-to-the-causal-toolbox-60e567c8f5b1)  \n",
    "- Formula 1 Official Website – [https://www.formula1.com](https://www.formula1.com)\n"
   ]
  },
  {
   "cell_type": "markdown",
   "id": "eaab31c8-03c8-4496-875a-8477cc6a4486",
   "metadata": {},
   "source": [
    "## 🧾 License\n",
    "\n",
    "This notebook is the original work of **Sathvik Vadavatha**, created as part of the *Crash Course in Causality* assignment.\n",
    "\n",
    "You may view, share, or reference this notebook for **educational and non-commercial purposes only**, provided proper attribution is given to the author.\n",
    "\n",
    "Unauthorized commercial use, redistribution, or modification without explicit permission is not allowed.\n",
    "\n",
    "© 2025 Sathvik Vadavatha. All rights reserved.\n"
   ]
  }
 ],
 "metadata": {
  "kernelspec": {
   "display_name": "Python 3 (ipykernel)",
   "language": "python",
   "name": "python3"
  },
  "language_info": {
   "codemirror_mode": {
    "name": "ipython",
    "version": 3
   },
   "file_extension": ".py",
   "mimetype": "text/x-python",
   "name": "python",
   "nbconvert_exporter": "python",
   "pygments_lexer": "ipython3",
   "version": "3.12.7"
  }
 },
 "nbformat": 4,
 "nbformat_minor": 5
}
