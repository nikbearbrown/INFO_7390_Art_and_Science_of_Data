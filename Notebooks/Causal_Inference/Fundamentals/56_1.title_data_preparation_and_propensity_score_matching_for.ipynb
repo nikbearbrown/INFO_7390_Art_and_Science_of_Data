{
  "nbformat": 4,
  "nbformat_minor": 0,
  "metadata": {
    "colab": {
      "provenance": []
    },
    "kernelspec": {
      "name": "python3",
      "display_name": "Python 3"
    },
    "language_info": {
      "name": "python"
    }
  },
  "cells": [
    {
      "cell_type": "markdown",
      "source": [
        "1.**Title :** Data Preparation and Propensity Score Matching for Causal Inference in Machine Learning\n",
        "\n",
        "2.**Abstract :**\n",
        "\n",
        "This chapter focuses on using data preparation techniques and causal inference methods, in this case, propensity score matching, towards the analysis of the stock market. The idea here is to estimate the causal effect of changes in stock price by finding comparable groups of data points through logistic regression, nearest neighbor matching, and caliper matching. It covers how to preprocess financial data, engineer relevant features, and evaluate machine-learning models to reduce selection bias and improve causal interpretation.\n",
        "\n",
        "**3.Theory Section :**\n",
        "*   In causal analysis, understanding the underlying cause-and-effect relationships is crucial for building robust machine learning models.\n",
        "\n",
        "*  Causality helps to distinguish mere correlations from true causal relationships, making it a more effective way of making decisions and creating predictions.\n",
        "*   In this notebook, we will use Propensity Score Matching to balance the treatment and control groups in order to reduce selection bias, as is done in many studies employing causal inference.\n",
        "\n",
        "*   Key data preparation techniques covered include :\n",
        "\n",
        "    *   Handling Missing Data: Missing data can both introduce bias and reduce quality in causal analysis. We therefore apply imputation techniques to fill in missing values ike mean or median imputation to keep the dataset useful without affecting the integrity of the analysis.\n",
        "\n",
        "    *   Feature Engineering and Selection:Effective feature engineering allows capturing relevant aspects of the data. In our case, we create new features such as Price Range to account for stock volatility. We also use propensity scores to match treated and control units based on relevant covariates (Open, Volume, and Price Range).\n",
        "\n",
        "    *   Propensity Score Matching (PSM) : PSM is used to estimate the probability (propensity score) of a data point receiving a particular treatment (e.g., increase in stock price) based on observed covariates. By matching treated units (instances with stock price increase) to similar control units (instances without an increase) based on their propensity scores, we can mimic a randomized experiment and reduce selection bias.\n",
        "\n",
        "\n",
        "*   Technically, the combination of the above methods contributes to a more robust model for causal inference and allows us to draw meaningful conclusions regarding the relationship between stock features and price changes.\n",
        "\n",
        "\n",
        "\n",
        "\n",
        "\n"
      ],
      "metadata": {
        "id": "h_CnKethz0cZ"
      }
    },
    {
      "cell_type": "markdown",
      "source": [
        "**Steps followed :**\n",
        "\n",
        "**1.Setup and Libraries :**\n",
        "\n",
        "The notebook begins by importing essential libraries such as pandas for data manipulation, seaborn and matplotlib for visualization, sklearn for machine learning, and causalinference for causal analysis.\n",
        "\n",
        "**2.Data Loading :**\n",
        "\n",
        "The dataset, AAPL.csv, is loaded using pandas. This file contains financial data such as stock prices, volume, and more.\n",
        "\n",
        "**3.Data Preprocessing :**\n",
        "\n",
        "\n",
        "*   Missing data is handled through imputation techniques.\n",
        "*   Feature engineering creates a Price Range feature and prepares variables for propensity score modeling.\n",
        "\n",
        "\n",
        "\n",
        "\n",
        "\n",
        "**4.Propensity Score Matching :**\n",
        "\n",
        "\n",
        "*  Logistic regression estimates the propensity score, which is the likelihood of stock price changes based on covariates.\n",
        "*  Matching algorithms identify similar data points in treated and control groups to ensure comparability.\n",
        "\n",
        "\n",
        "\n",
        "\n",
        "**5.Evaluation :**\n",
        "\n",
        "Visualizations, such as kde plot, and metrics, like classification reports, assess the model's performance and the effectiveness of matching.\n"
      ],
      "metadata": {
        "id": "zoRQQraELw7H"
      }
    },
    {
      "cell_type": "code",
      "source": [
        "!pip install causalinference\n"
      ],
      "metadata": {
        "colab": {
          "base_uri": "https://localhost:8080/"
        },
        "id": "YZOfNPAUxJmT",
        "outputId": "81a5e0a0-696e-4ef1-b344-912bc04f7370"
      },
      "execution_count": 1,
      "outputs": [
        {
          "output_type": "stream",
          "name": "stdout",
          "text": [
            "Collecting causalinference\n",
            "  Downloading CausalInference-0.1.3-py3-none-any.whl.metadata (2.5 kB)\n",
            "Downloading CausalInference-0.1.3-py3-none-any.whl (51 kB)\n",
            "\u001b[?25l   \u001b[90m━━━━━━━━━━━━━━━━━━━━━━━━━━━━━━━━━━━━━━━━\u001b[0m \u001b[32m0.0/51.1 kB\u001b[0m \u001b[31m?\u001b[0m eta \u001b[36m-:--:--\u001b[0m\r\u001b[2K   \u001b[90m━━━━━━━━━━━━━━━━━━━━━━━━━━━━━━━━━━━━━━━━\u001b[0m \u001b[32m51.1/51.1 kB\u001b[0m \u001b[31m2.8 MB/s\u001b[0m eta \u001b[36m0:00:00\u001b[0m\n",
            "\u001b[?25hInstalling collected packages: causalinference\n",
            "Successfully installed causalinference-0.1.3\n"
          ]
        }
      ]
    },
    {
      "cell_type": "code",
      "execution_count": 2,
      "metadata": {
        "id": "qZkMoADQlc42"
      },
      "outputs": [],
      "source": [
        "# Import necessary libraries\n",
        "import pandas as pd\n",
        "import seaborn as sns\n",
        "import matplotlib.pyplot as plt\n",
        "from sklearn.ensemble import RandomForestClassifier\n",
        "from sklearn.feature_selection import SelectFromModel\n",
        "from sklearn.model_selection import train_test_split\n",
        "from sklearn.metrics import classification_report\n",
        "from sklearn.linear_model import LogisticRegression\n",
        "from causalinference import CausalModel\n",
        "from sklearn.impute import SimpleImputer\n",
        "from sklearn.preprocessing import StandardScaler\n",
        "from sklearn.neighbors import NearestNeighbors\n",
        "from sklearn.metrics import accuracy_score, roc_auc_score\n",
        "import numpy as np\n",
        "\n",
        "\n"
      ]
    },
    {
      "cell_type": "markdown",
      "source": [
        "### Explanation:\n",
        "This block imports all necessary libraries for data analysis, visualization, and causal inference. Key libraries include :\n",
        "\n",
        "- pandas: For data manipulation and analysis.\n",
        "\n",
        "- seaborn and matplotlib : For creating visualizations like correlation heatmaps.\n",
        "\n",
        "- sklearn modules: For machine learning tasks like feature selection, propensity score estimation, and classification.\n",
        "\n",
        "- causal inference: A library for causal analysis using propensity scores.\n"
      ],
      "metadata": {
        "id": "lNnYvrQdwvoj"
      }
    },
    {
      "cell_type": "code",
      "source": [
        "# Load the dataset\n",
        "file_path = \"/content/AAPL.csv\"\n",
        "data = pd.read_csv(file_path)\n"
      ],
      "metadata": {
        "id": "NmCR3ojnmF8M"
      },
      "execution_count": 3,
      "outputs": []
    },
    {
      "cell_type": "markdown",
      "source": [
        "Loads the dataset from a CSV file named AAPL.csv using pandas."
      ],
      "metadata": {
        "id": "KT7Qp6_SydDF"
      }
    },
    {
      "cell_type": "code",
      "source": [
        "# Convert 'Date' to datetime format and sort the data\n",
        "data['Date'] = pd.to_datetime(data['Date'], format='%d-%m-%Y', errors='coerce')\n",
        "data.sort_values(by='Date', inplace=True)"
      ],
      "metadata": {
        "id": "NuQIXBKSoG9p"
      },
      "execution_count": 4,
      "outputs": []
    },
    {
      "cell_type": "markdown",
      "source": [
        "\n",
        "*   Converts the Date column to datetime format for correct date interpretation.\n",
        "\n",
        "*    This step makes sure that there are only valid date entries in the dataset in a chronological order.\n",
        "\n",
        "\n"
      ],
      "metadata": {
        "id": "nlhRB8G2yu2Z"
      }
    },
    {
      "cell_type": "code",
      "source": [
        "# Drop rows with invalid dates\n",
        "data.dropna(subset=['Date'], inplace=True)"
      ],
      "metadata": {
        "id": "MZ81ZVqDoHL3"
      },
      "execution_count": 5,
      "outputs": []
    },
    {
      "cell_type": "markdown",
      "source": [
        "*  Drops rows where the Date column has missing or invalid entries.\n",
        "*   This step makes sure that there are only valid date entries in the dataset.\n",
        "\n",
        "\n",
        "\n",
        "\n"
      ],
      "metadata": {
        "id": "is9b1rpkzDof"
      }
    },
    {
      "cell_type": "code",
      "source": [
        "# Create a binary outcome variable: 1 if Adjusted Close > Open, 0 otherwise\n",
        "data['Increase'] = (data['Adjusted Close'] > data['Open']).astype(int)"
      ],
      "metadata": {
        "id": "d_3He_iHoHVx"
      },
      "execution_count": 6,
      "outputs": []
    },
    {
      "cell_type": "markdown",
      "source": [
        "Creates a new binary column Increase :\n",
        "\n",
        "*    Assigns 1 if the adjusted closing price is greater than the opening price, meaning the price increased.\n",
        "* Assigns 0 otherwise.\n",
        "*  The binary outcome here is what will be used as a target variable for causal analysis\n",
        "\n",
        "\n",
        "\n",
        "\n",
        "\n"
      ],
      "metadata": {
        "id": "JuH-Dr3zzrIE"
      }
    },
    {
      "cell_type": "code",
      "source": [
        "# Feature Engineering: Create 'Price Range' (High - Low) and handle missing values\n",
        "data['Price Range'] = data['High'] - data['Low']\n",
        "\n",
        "# Impute missing values before scaling\n",
        "imputer = SimpleImputer(strategy='mean')\n",
        "data[['Volume', 'Open', 'Price Range']] = imputer.fit_transform(data[['Volume', 'Open', 'Price Range']])\n"
      ],
      "metadata": {
        "id": "Utm5fpJloHgN"
      },
      "execution_count": 7,
      "outputs": []
    },
    {
      "cell_type": "markdown",
      "source": [
        "\n",
        "\n",
        "*   Creates a new feature Price Range as the difference between High and Low prices to capture the volatility in the stock.\n",
        "\n",
        "*   Uses SimpleImputer to replace missing values in the columns 'Volume', 'Open', and 'Price Range' with their respective mean values.\n",
        "\n",
        "*   Imputation prevents the omitted data from hindering the analysis process.\n",
        "\n",
        "\n",
        "\n",
        "\n",
        "\n",
        "\n",
        "\n",
        "\n",
        "\n"
      ],
      "metadata": {
        "id": "BOOnIQn20XkL"
      }
    },
    {
      "cell_type": "code",
      "source": [
        "# Standardize the features\n",
        "scaler = StandardScaler()\n",
        "data[['Volume', 'Open', 'Price Range']] = scaler.fit_transform(data[['Volume', 'Open', 'Price Range']])"
      ],
      "metadata": {
        "id": "wtGg8g5AoHrx"
      },
      "execution_count": 8,
      "outputs": []
    },
    {
      "cell_type": "markdown",
      "source": [
        "\n",
        "*    Standardizes the numerical features, which are Volume, Open, and Price Range, using StandardScaler.\n",
        "\n",
        "*  Scaling helps normalize the data, which makes it easier for the machine learning model to process when features are in different units or scales.\n",
        "\n",
        "\n",
        "\n",
        "\n",
        "\n"
      ],
      "metadata": {
        "id": "EMsW4XU30sp9"
      }
    },
    {
      "cell_type": "code",
      "source": [
        "# Step 1: Propensity Score Estimation using Logistic Regression with class balancing\n",
        "X_psm = data[['Open', 'Price Range', 'Volume']]\n",
        "y_psm = data['Increase']\n",
        "\n",
        "psm_model = LogisticRegression(max_iter=200, class_weight='balanced')\n",
        "psm_model.fit(X_psm, y_psm)\n",
        "data['Propensity Score'] = psm_model.predict_proba(X_psm)[:, 1]\n"
      ],
      "metadata": {
        "id": "Bz7ESiB9onzg"
      },
      "execution_count": 9,
      "outputs": []
    },
    {
      "cell_type": "markdown",
      "source": [
        "\n",
        "\n",
        "*  Defines the feature matrix (X_psm) and the target variable (y_psm) to be used in propensity score estimation.\n",
        "\n",
        "*   Fits a logistic regression model for estimating the propensity score, the probability of an increase in stock price given the observed features.\n",
        "\n",
        "*  Creates a new column, Propensity Score, that contains the predicted probabilities.\n",
        "\n",
        "\n",
        "\n",
        "\n",
        "\n",
        "\n"
      ],
      "metadata": {
        "id": "AKhkbNHB1NEa"
      }
    },
    {
      "cell_type": "code",
      "source": [
        "# Step 2: Propensity Score Matching with Nearest Neighbors (without replacement)\n",
        "treated = data[data['Increase'] == 1]\n",
        "control = data[data['Increase'] == 0]\n",
        "\n",
        "nn = NearestNeighbors(n_neighbors=1, algorithm='auto')\n",
        "nn.fit(control[['Propensity Score']])\n",
        "distances, indices = nn.kneighbors(treated[['Propensity Score']])\n",
        "matched_indices = indices.flatten()\n",
        "\n",
        "# Ensuring no reuse of control samples (without replacement)\n",
        "matched_control = control.iloc[matched_indices].copy().drop_duplicates().reset_index(drop=True)\n",
        "\n",
        "# Combine matched treated and control samples\n",
        "matched_data = pd.concat([treated, matched_control]).drop_duplicates().reset_index(drop=True)"
      ],
      "metadata": {
        "id": "HMrC5kA5ooSW"
      },
      "execution_count": 10,
      "outputs": []
    },
    {
      "cell_type": "markdown",
      "source": [
        "\n",
        "\n",
        "*   Splits the data set into two groups: treated (with stock price increase) and control (without increase).\n",
        "\n",
        "* Uses NearestNeighbors to match every treated sample to the nearest control sample based on the propensity score.\n",
        "\n",
        "* Drops duplicate control samples to ensure matching without replacement.\n",
        "\n",
        "\n",
        "\n",
        "\n",
        "\n",
        "\n"
      ],
      "metadata": {
        "id": "Bb0cMv2d1xoK"
      }
    },
    {
      "cell_type": "code",
      "source": [
        "# Step 3: Caliper Matching with Optimized Approach\n",
        "caliper = 0.05\n",
        "caliper_matches = np.abs(control['Propensity Score'].values.reshape(-1, 1) - treated['Propensity Score'].values)\n",
        "matched_control_caliper = control[(caliper_matches.min(axis=1) < caliper) & ~control.index.duplicated()]\n",
        "matched_data_caliper = pd.concat([treated, matched_control_caliper]).drop_duplicates().reset_index(drop=True)\n",
        "\n",
        "# Splitting matched data into train and test sets\n",
        "X_matched_caliper = matched_data_caliper[['Open', 'Price Range', 'Volume']]\n",
        "y_matched_caliper = matched_data_caliper['Increase']\n",
        "X_train, X_test, y_train, y_test = train_test_split(X_matched_caliper, y_matched_caliper, test_size=0.3, random_state=42)"
      ],
      "metadata": {
        "id": "wS3e-Wmpnho4"
      },
      "execution_count": 11,
      "outputs": []
    },
    {
      "cell_type": "markdown",
      "source": [
        "**Caliper Matching :**\n",
        "*   Applies a caliper of 0.05, which sets a maximum allowed difference between propensity scores of treated and control units.\n",
        "\n",
        "*   Only control samples having a propensity score difference less than 0.05 from a treated sample are considered as valid matches.\n",
        "\n",
        "*   This reduces the risk of poor matches and ensures that only the well-matched control units are put into use.\n",
        "\n",
        "\n",
        "**Training the Model :**\n",
        "*  The matched data (treated and caliper-matched control samples) are divided into training and testing sets.\n",
        "\n",
        "\n",
        "\n",
        "\n",
        "\n"
      ],
      "metadata": {
        "id": "rbvn3BYa2W8N"
      }
    },
    {
      "cell_type": "code",
      "source": [
        "# Step 4: Causal Effect Estimation using Random Forest with Cross-Validation\n",
        "rf_model = RandomForestClassifier(n_estimators=100, random_state=42, class_weight='balanced')\n",
        "rf_model.fit(X_train, y_train)\n",
        "y_pred_rf_caliper = rf_model.predict(X_test)\n",
        "y_pred_proba_rf_caliper = rf_model.predict_proba(X_test)[:, 1]\n",
        "\n",
        "# Evaluate the Random Forest model on caliper-matched data\n",
        "accuracy_caliper = accuracy_score(y_test, y_pred_rf_caliper)\n",
        "roc_auc_caliper = roc_auc_score(y_test, y_pred_proba_rf_caliper)\n",
        "\n",
        "print(f\"\\nRandom Forest (Caliper-Matched Data) Accuracy: {accuracy_caliper:.4f}\")\n",
        "print(f\"Random Forest (Caliper-Matched Data) ROC AUC: {roc_auc_caliper:.4f}\")"
      ],
      "metadata": {
        "id": "j0YtTXgonwkX",
        "colab": {
          "base_uri": "https://localhost:8080/"
        },
        "outputId": "e8ddd40a-c3cb-4814-ef4d-3607d0d03375"
      },
      "execution_count": 12,
      "outputs": [
        {
          "output_type": "stream",
          "name": "stdout",
          "text": [
            "\n",
            "Random Forest (Caliper-Matched Data) Accuracy: 0.9690\n",
            "Random Forest (Caliper-Matched Data) ROC AUC: 0.9687\n"
          ]
        }
      ]
    },
    {
      "cell_type": "markdown",
      "source": [
        "* A RandomForestClassifier is trained on the matched data to predict the binary outcome (Increase).\n",
        "\n",
        "**Model Evaluation :**\n",
        "*  The performance of a model is measured by the two following metrics:\n",
        "  1. Accuracy: The proportion of correct predictions.\n",
        "\n",
        " 2. ROC AUC Score: to evaluate the model performance on the classification of the two classes: treated and control.\n",
        "\n",
        "Results are printed for the matched caliper dataset.\n",
        "\n",
        "\n",
        "\n"
      ],
      "metadata": {
        "id": "9phhdpA-4a1X"
      }
    },
    {
      "cell_type": "code",
      "source": [
        "# Step 5: Model Comparison - Unmatched vs. Matched Data using Random Forest\n",
        "X_unmatched = data[['Open', 'Price Range', 'Volume']]\n",
        "y_unmatched = data['Increase']\n",
        "X_train_unmatched, X_test_unmatched, y_train_unmatched, y_test_unmatched = train_test_split(X_unmatched, y_unmatched, test_size=0.3, random_state=42)\n",
        "\n",
        "rf_model_unmatched = RandomForestClassifier(n_estimators=100, random_state=42, class_weight='balanced')\n",
        "rf_model_unmatched.fit(X_train_unmatched, y_train_unmatched)\n",
        "y_pred_rf_unmatched = rf_model_unmatched.predict(X_test_unmatched)\n",
        "y_pred_proba_rf_unmatched = rf_model_unmatched.predict_proba(X_test_unmatched)[:, 1]\n",
        "\n",
        "# Evaluate the Random Forest model on unmatched data\n",
        "accuracy_unmatched = accuracy_score(y_test_unmatched, y_pred_rf_unmatched)\n",
        "roc_auc_unmatched = roc_auc_score(y_test_unmatched, y_pred_proba_rf_unmatched)\n",
        "\n",
        "print(f\"\\nRandom Forest (Unmatched Data) Accuracy: {accuracy_unmatched:.4f}\")\n",
        "print(f\"Random Forest (Unmatched Data) ROC AUC: {roc_auc_unmatched:.4f}\")\n"
      ],
      "metadata": {
        "id": "AMe6rvG5n4MF",
        "colab": {
          "base_uri": "https://localhost:8080/"
        },
        "outputId": "ed300f0b-950d-4965-dcc6-5de6170433b2"
      },
      "execution_count": 13,
      "outputs": [
        {
          "output_type": "stream",
          "name": "stdout",
          "text": [
            "\n",
            "Random Forest (Unmatched Data) Accuracy: 0.9817\n",
            "Random Forest (Unmatched Data) ROC AUC: 0.9790\n"
          ]
        }
      ]
    },
    {
      "cell_type": "markdown",
      "source": [
        "**Training on Unmatched Data :**\n",
        "* Uses the original, unmatched dataset to train a Random Forest model.\n",
        "* This provides a baseline performance metric not using propensity score matching.\n",
        "\n",
        "**Evaluation :**\n",
        "\n",
        "* The model is evaluated using the same metrics (accuracy and ROC AUC score) as in the caliper-matched case.\n",
        "\n",
        "* Then, the unmatched dataset is printed out.\n",
        "\n",
        "**Purpose :**\n",
        "*   The performance of the models on unmatched versus matched data by caliper serves to represent the effect of matching in deducing bias and raising the quality of causal inference.\n",
        "\n",
        "\n",
        "\n"
      ],
      "metadata": {
        "id": "n5LwdNsi5aTo"
      }
    },
    {
      "cell_type": "code",
      "source": [
        "# Step 6: Visualization of Covariate Balance\n",
        "plt.figure(figsize=(12, 6))\n",
        "sns.kdeplot(treated['Open'], label='Treated (Before Matching)', color='blue')\n",
        "sns.kdeplot(control['Open'], label='Control (Before Matching)', color='red')\n",
        "sns.kdeplot(matched_control['Open'], label='Control (After Matching)', color='green')\n",
        "plt.title('Covariate Balance for \"Open\" Feature')\n",
        "plt.xlabel('Standardized Open Price')\n",
        "plt.ylabel('Density')\n",
        "plt.legend()\n",
        "plt.show()"
      ],
      "metadata": {
        "id": "w0NUXFYXn_NJ",
        "colab": {
          "base_uri": "https://localhost:8080/",
          "height": 564
        },
        "outputId": "1ead6bcb-1036-44b3-cbf3-2e7c2df644e8"
      },
      "execution_count": 14,
      "outputs": [
        {
          "output_type": "display_data",
          "data": {
            "text/plain": [
              "<Figure size 1200x600 with 1 Axes>"
            ],
            "image/png": "[encoded data removed]"
          },
          "metadata": {}
        }
      ]
    },
    {
      "cell_type": "markdown",
      "source": [
        "**Kernel Density Estimate (KDE) Plot :**\n",
        "\n",
        "\n",
        "*   The plot shows the density distribution of the standardized Open feature for three groups :\n",
        "      1.  **Treated Group (Blue Line) :** This shows the distribution of the Open prices for the treated group (stock price increased) before matching.\n",
        "\n",
        "      2. **Control Group (Red Line)** :  Represents the distribution of Open prices for the control group (stock price did not increase) before matching.\n",
        "\n",
        "      3. **Matched Control Group (Green Line) :** This represents the distribution of Open prices for the control group after matching.\n",
        "\n",
        "*  **Purpose :**\n",
        "\n",
        "  *   The plot allows for the assessment of the quality of the propensity score matching.\n",
        "\n",
        "  *  Before matching, there is a clear imbalance between the treated and control groups, as witnessed by the difference in the red and blue lines.\n",
        "  \n",
        "  *  After matching, the green line is much closer to the blue line, which means that matching has balanced covariates, therefore reducing the selection bias considerably.\n",
        "   \n",
        "  \n",
        "   * Interpretation :  \n",
        "  *  The similarity of the treated and matched control groups after matching implies better comparability, which is essential for drawing valid causal inferences.\n",
        "\n",
        "\n",
        "\n",
        "\n",
        "\n",
        "\n",
        "\n",
        "\n",
        "\n"
      ],
      "metadata": {
        "id": "AyCOUR5E2GG4"
      }
    },
    {
      "cell_type": "markdown",
      "source": [
        "**Conclusion :**\n",
        "\n",
        "\n",
        "*   In this notebook, we explored various methods and techniques to perform causal analysis, emphasizing the importance of proper data preparation in machine learning workflows.\n",
        "\n",
        "*   Further, by accounting for the confounding factors, creating treatment and control groups, and a deep analysis of causal relationships, we end up with much more accurate and interpretable models.\n",
        "\n",
        "**The key takeaways are as follows :**\n",
        "*   **Data Preparation** : The very first step in any machine learning process is data preparation, and this is even more so in causal analysis. It means handling missing values, correcting biases, and ensuring that the data forms a good sample of the underlying relationships to be modeled.\n",
        "\n",
        "*  **Causal Inference and Machine Learning** : The presented causal inference methods constitute one step further in understanding the relationships between variables—moving from simple correlations toward establishing real causal effects, hence promoting data-driven insights to help make better decisions.\n",
        "\n",
        "\n",
        "*   **Robust Model Development** : Causal analysis in machine learning workflows tends to make the model more robust. It would avoid spurious correlations from being established and hence make the model more generalizable to different scenarios.\n",
        "\n",
        "*  **Interpretation and Insights** : Causal analysis allows us, therefore, to interpret the model outputs with more confidence, to see not only how variables are associated but also why these relationships are formed. This translates into better policy-making, strategic decisions, and actionable insights.\n",
        "\n",
        "In conclusion, causal analysis techniques really help in developing reliable and interpretable machine learning models that pave the way toward more trustworthy data-driven decisions.\n",
        "\n",
        "\n"
      ],
      "metadata": {
        "id": "XU7ZtMv-msk-"
      }
    },
    {
      "cell_type": "markdown",
      "source": [
        "**Refferences :**\n",
        "\n",
        "\n",
        "*  Rosenbaum, P. R., & Rubin, D. B. (1983). The central role of the propensity score in observational studies for causal effects. Biometrika, 70(1), 41–55. https://doi.org/10.1093/biomet/70.1.41\n",
        "\n",
        "* Imbens, G. W., & Rubin, D. B. (2015). Causal inference for statistics, social, and biomedical sciences: An introduction. Cambridge University Press. https://doi.org/10.1017/CBO9781139025751\n",
        "\n"
      ],
      "metadata": {
        "id": "0_L4YB1ybUS_"
      }
    }
  ]
}