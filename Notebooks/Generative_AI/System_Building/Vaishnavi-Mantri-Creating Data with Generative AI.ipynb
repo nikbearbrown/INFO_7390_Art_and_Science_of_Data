{
 "cells": [
  {
   "cell_type": "markdown",
   "id": "e79870c7-660c-4a06-ac6a-7722ab599799",
   "metadata": {},
   "source": [
    "## Assignment 3-Creating Data with Generative AI"
   ]
  },
  {
   "cell_type": "markdown",
   "id": "2ce97249-8d7b-48de-bad7-d883b0fb471b",
   "metadata": {},
   "source": [
    "## Objective:\n",
    "The objective of this assignment is as follows- Create a Jupyter Notebook that teaches something from the section."
   ]
  },
  {
   "cell_type": "markdown",
   "id": "09432de8-cb55-421a-b3c7-8b6fc2717e40",
   "metadata": {},
   "source": [
    "## Step 1: Theoretical Foundations of Generative AI\n",
    "## Generative AI: An peek look at the future"
   ]
  },
  {
   "cell_type": "markdown",
   "id": "55f48c5b-a0b9-4d2c-b2b4-8685d1a71a78",
   "metadata": {},
   "source": [
    "Before people even began to understand the concept of artificial intelligence, the introduction of generative pre-trained transformers, or gpts, revolutionized our daily lives. While gpt models were used in the background by apps like Grammarly, Duolingo, and Khan Academy, it wasn't until the end of 2022 that gpts and large language models experienced a major boom and became indispensable with the release of gpt-3, the large language model by OpenAI with an unmatched capacity to comprehend and produce text that seemed human. The model's ascent illuminated additional large-language models."
   ]
  },
  {
   "cell_type": "markdown",
   "id": "457f6d6a-647d-4498-95f6-7a4e364e6e84",
   "metadata": {},
   "source": [
    "Knowing what deep learning is and how rapidly it has developed in recent years is essential to understanding the state of machine learning today. Although deep learning is based on traditional neural networks, it performs far better than its forerunners. Deep learning approaches involve direct data-driven learning that yields higher-level abstractions for each particular problem they are applied to.The advancement of software and hardware infrastructure has led to a rise in the creation of deep learning models."
   ]
  },
  {
   "cell_type": "markdown",
   "id": "4f0d6852-5e71-4c49-a9f7-be49c539cb78",
   "metadata": {},
   "source": [
    "## History of Generative AI"
   ]
  },
  {
   "cell_type": "markdown",
   "id": "84b95167-64f1-4193-bfa4-ce6c1b38ee93",
   "metadata": {},
   "source": [
    "![Image](https://miro.medium.com/v2/resize:fit:4800/format:webp/1*BAuc-9NfTm1EaODQM--NLQ.png)"
   ]
  },
  {
   "cell_type": "markdown",
   "id": "4364d5bf-b8b8-4219-97c2-640ee705dee9",
   "metadata": {},
   "source": [
    "Hidden Markov Models (HMMs) and Gaussian Mixture Models (GMMs) were the first artificial intelligence models to be constructed in the 1950s, and generative AI has been around for much longer than most people seem to know. Sequential data, including time series and speech, was produced using these models. However, it wasn't until deep learning was developed that the generative models started to perform noticeably better. Alan Turing developed the Turing test, which is depicted in the image, as a gauge of artificial intelligence and as a potential marker of the development of artificial intelligence."
   ]
  },
  {
   "cell_type": "markdown",
   "id": "59fc74fb-6936-488c-91b8-b40206a8df8c",
   "metadata": {},
   "source": [
    "The phrase \"computation may someday be organized as a public utility\" was essentially invented by John McCarthy, who is widely regarded as the founder of artificial intelligence and is likely largely responsible for the existence of generative models today. This statement effectively articulates the idea of cloud computing. In 1995, Carnegie Mellon developed self-driving automobiles that successfully traversed states by combining neural networks into image processing and steering controls. Then came IBM's Deep Blue in 1996 and its well-known games versus Garry Kasparov. And lastly, there was GPT, the game-changer who is nearly solely responsible for the current AI boom and for bringing attention to other big language models."
   ]
  },
  {
   "cell_type": "markdown",
   "id": "ce67b7c7-1967-4d95-955d-fdb9f51507c8",
   "metadata": {},
   "source": [
    "## What makes generative AI valuable?"
   ]
  },
  {
   "cell_type": "markdown",
   "id": "8398eba2-5f68-4d79-be5e-cf80e8af422d",
   "metadata": {},
   "source": [
    "A generative AI must have both high accuracy and high quality generation in order to be deemed worthwhile and efficient. This has been a major contributing reason to the success of Chat-GPT; having been trained on over 180 billion parameters, there is hardly a query that Chat-GPT cannot answer. Another important feature that makes generative AI worthwhile to work on is speed. This is also the reason why models like chat-gpt and DALL-E are so well-liked; their rapid generation makes them incredibly helpful and easily adjustable for certain use-cases."
   ]
  },
  {
   "cell_type": "markdown",
   "id": "970aba23-1c6e-4708-8d8f-65b6bf1c8fde",
   "metadata": {},
   "source": [
    "Key ideas in generative artificial intelligence:\r\n",
    "\r\n",
    "1. **Natural Language Interpretation:** Natural language processing (NLP) is the study of the interaction between computers and humans through the decoding, reading, and understanding of natural language. NLP has received a lot of attention recently for its computational representation and analysis of human language. NLP has also laid the groundwork for large language models and generative AI. Translation, sentiment analysis, named entity recognition, speech recognition, and many other features are included.\r\n",
    "\r\n",
    "2. **Big Learning Models:** These models, which are based on transformer architecture, are very helpful and serve as the basis for chatbot-based models since they can understand and produce natural language.\r\n",
    "\r\n",
    "3. **Tokenization:** One of the most important preprocessing steps in NLP jobs is the division of a text sequence into smaller parts called tokens.\r\n",
    "\r\n",
    "4. **Adversarial Generative Networks:** In generative modeling, regularities or patterns in input data are automatically found and learned so that the model can be used to generate or output new examples that could have been realistically taken from the original dataset. This is an unsupervised learning task in machine learning.\r\n",
    "\r\n",
    "5. **Prompt Engineering:** Prompt engineering is the right use of prompts to ensure that AI models produce accurate results, and it appears to be a very valuable job in the near future.\r\n"
   ]
  },
  {
   "cell_type": "markdown",
   "id": "803e69e4-73d3-4f93-85dc-809ed27b4792",
   "metadata": {},
   "source": [
    "## The relevance of data generation in various data science tasks."
   ]
  },
  {
   "cell_type": "markdown",
   "id": "19643c00-cb30-43ea-9649-8fd65f521d86",
   "metadata": {},
   "source": [
    "The creation of data is a fundamental component of the large subject of data science, offering important assistance for many activities. Data generation is crucial because it can advance data-driven decision making, enhance model performance, and provide solutions to significant challenges. Let's look at the critical role that data generation plays in several data science task categories:\n"
   ]
  },
  {
   "cell_type": "markdown",
   "id": "95939c62-9305-4956-8ab5-4aca0298377f",
   "metadata": {},
   "source": [
    "1. **Model Training and Validation:** In situations where obtaining real-world data is expensive, time-consuming, or scarce, the creation of synthetic data is indispensable. Machine learning models acquire richer training sets when generated samples are added to pre-existing datasets, which enhances the models' generalization and performance.\r\n",
    "\r\n",
    "2. **Anomaly Detection:** Synthetic data can be used to create a variety of anomalies, which can be used to enhance training data and help models discover a wider range of deviations in tasks where finding irregular patterns is crucial.\r\n",
    "\r\n",
    "3. **Techniques for Preserving Privacy:** When handling sensitive data, the creation of synthetic data that protects privacy becomes essential. Data scientists can build reliable models while abiding by privacy laws by building synthetic datasets that preserve the statistical characteristics of the original data without jeopardizing individual privacy. \r\n",
    "\r\n",
    "4. **Unbalanced Class Issues:** One of the most frequent problems in classification tasks is resolving unequal class distribution. In order to correct imbalances, add more examples of minority classes, and keep models from being biased in favor of the dominant class, synthetic data generation is helpful.\r\n",
    "\r\n",
    "5. **Natural Language Processing (NLP):** Synthetic data production helps to augment training datasets for tasks such as text classification, sentiment analysis, and language translation in NLP applications, where large labeled datasets are often rare. The language model can more effectively generalize to a wider range of linguistic patterns thanks to this method.\r\n",
    "\r\n",
    "6. **Computer vision and image recognition:** More varied lighting, perspectives, and backdrops can be generated to provide training sets for image recognition algorithms that are more robust. This is particularly useful in situations where it is difficult to gather a large and varied set of real-world photos.\r\n",
    "\r\n",
    "7. **Time-Series Forecasting:** Synthetic data can be used to mimic different scenarios in time-series forecasting, which enables models to learn and adapt to a wider range of possible future developments. This improves the forecasting accuracy and robustness of the model to unanticipated changes.\r\n",
    "\r\n",
    "8. **Domain Adaptation:** It is the process by which models trained on data from one domain must function well on data from another domain. Data generation is a critical component of this process. Increasing the adaptability of the model is made possible by synthetic data that replicates the features of the target domain.\r\n",
    ".."
   ]
  },
  {
   "cell_type": "markdown",
   "id": "dcc5202b-cd8f-41b6-a5fe-89773cfe7480",
   "metadata": {},
   "source": [
    "## Challenges:\n",
    "\n",
    "1. Generative AI models often comprise billions of parameters, necessitating efficient pipelines for training. Constructing and maintaining these models requires substantial financial investment, technical expertise, and computing infrastructure.\r\n",
    "\r\n",
    "2. Conversations in collaborative settings like chatbots or customer service applications require rapid and accurate responses. However, diffusion models' slow sampling rates have been noted despite their ability to generate high-quality samples.\r\n",
    "\r\n",
    "3. Generative AI models are frequently employed to generate artificial data for various applications. However, not all data is suitable for training these models; reliable and unbiased information is necessary for their operation.\r\n",
    "\r\n",
    "4. Obtaining commercial authorization for dataset usage or creation is a challenge for many organizations due to concerns about intellectual property violations.\r\n",
    "\r\n",
    "5. Legal and ethical issues may arise from the use of creative AI tools, such as the rapid production of \"deepfakes\" or concerns about plagiarism in academic settings.\r\n",
    "\r\n",
    "6. The field of generative AI requires expertise in machine learning, statistics, and computer science, posing challenges for smaller businesses in designing and implementing unique solutions. Additionally, there is a shortage of skilled individuals in this field.\r\n",
    "\r\n",
    "7. Ensuring the social and human impact of generative AI involves preserving trust, promoting inclusivity, and addressing ethical concerns.\r\n",
    "\r\n",
    "8. Addressing challenges such as respecting intellectual property rights, ensuring security and privacy, and avoiding harmful or unethical applications is essential in the responsible use of enerative AI.\r\n"
   ]
  },
  {
   "cell_type": "markdown",
   "id": "1fc7a560-19d2-4560-8488-f9d89d779e67",
   "metadata": {},
   "source": [
    "## Key requirements of Generative AI:\r\n",
    "\r\n",
    "1. **High Generation Quality:** Many applications demand high-generation quality, particularly those that interact directly with users. Generative models must produce outputs that are realistic and of high quality to meet user expectations.\r\n",
    "\r\n",
    "2. **Robustness to Data Complexity:** In scenarios where there is a high degree of complexity or variety in the training data, a robust generative model should be capable of capturing variations efficiently without compromising generation performance. This ensures that the model can handle diverse datasets and produce accurate outputs across different contexts.\r\n",
    "\r\n",
    "3. **Simple and Fast Production:** Interactive applications, such as real-time photo editing, often require simple and fast production of generated content. Generative models used in such applications should be able to produce outputs quickly and efficiently to support seamless user experiences.\r\n",
    "on."
   ]
  },
  {
   "cell_type": "markdown",
   "id": "e6cfe776-73c5-4ed5-9791-1a098bb70b39",
   "metadata": {},
   "source": [
    "## Key concepts of Generative AI:\r\n",
    "\r\n",
    "- **GAN (Generative Adversarial Network):** GAN is a framework that pits two neural networks against each other in a zero-sum game. GANs are designed to generate synthetic data that closely resembles existing data distributions. The system consists of a generator and a discriminator. The generator generates fake data samples, while the discriminator distinguishes between real and fake samples.\r\n",
    "\r\n",
    "- **VAE (Variational Auto-Encoders):** VAE belongs to the category of deep generative networks and shares components with traditional auto-encoders, including an encoder for inference and a decoder for generation. During training, VAEs regulate the distribution of encodings to ensure favorable attributes in the latent space, facilitating the generation of new information.\r\n",
    "\r\n",
    "- **LLM (Large Language Models):** LLMs are AI systems based on transformer architecture, specifically designed to comprehend and produce human language. These models are trained on vast amounts of text data to learn statistical correlations between words and phrases, enabling them to understand and generate coherent language.\r\n",
    "\r\n",
    "- **NLP (Natural Language Processing):** NLP integrates computational linguistics with statistical, machine learning, and deep learning techniques. NLP enables computers to understand and interpret human language in various forms, including text and audio data, by analyzing intents, sentiments, and contexts.\r\n",
    "\r\n",
    "- **RNN (Recurrent Neural Networks):** RNNs are a type of neural network commonly used in NLP and speech recognition tasks. RNNs operate by preserving the output of each layer and using it to predict the next layer's output. The hidden state of an RNN retains information about sequences, making it effective for processing sequential data.\r\n"
   ]
  },
  {
   "cell_type": "markdown",
   "id": "7d4d223d-6285-48e2-ba4d-6d4cabee9e97",
   "metadata": {},
   "source": [
    "## Concerns with Generative AI:\n",
    "\n",
    "- **Ethical Considerations:** As AI technology, particularly generative AI, becomes more widely adopted, ethical concerns related to customer privacy, brand integrity, and worker displacement are becoming increasingly prominent. The ability of generative AI to produce various forms of media raises concerns about misinformation, as demonstrated by incidents like the use of deepfakes for trolling or spreading hate.\n",
    "\n",
    "- **Plagiarism:** Generative AI models, while generating text output, can inadvertently produce content that resembles existing patterns, raising concerns about plagiarism. The lack of uniqueness in generated text can be problematic, particularly when it comes to academic or creative work.\n",
    "\n",
    "- **Privacy and Security:** The use of training data for AI models raises concerns about privacy and security. While efforts can be made to protect personal information in relational databases, generative AI models can still potentially exploit loopholes to access sensitive data, posing risks to privacy.\n",
    "\n",
    "- **Bias:** Generative AI models may amplify existing biases present in the training data, leading to biased outputs. This can perpetuate societal biases and inequalities, particularly when deployed in areas such as natural language processing.\n",
    "\n",
    "- **Explainability:** The probabilistic nature of generative AI models may lead to a lack of explainability, raising questions about the trustworthiness of generated content. Users may be unsure about the reliability of the information produced by these models.\n",
    "\n",
    "- **Environmental Impact:** Generative AI models consume significant amounts of energy during training and querying, leading to environmental concerns. The growing size and use cases of these models could exacerbate their carbon footprint unless measures are taken to regulate their environmental impact.\n",
    "\n",
    "- **Truthfulness and Ambiguity:** Generative AI models may generate inaccurate or misleading information, particularly as they become more persuasive in their speech. This can lead to the propagation of misinformation and conspiracy theories, potentially causing harm.\n",
    "\n",
    "- **Uncompensated Labor:** The collection of training data for generative AI models often involves the contributions of individuals who may not be compensated for their efforts. This raises questions about fair compensation for the labor that contributes to the success of these models.\n",
    "\n",
    "- **Abundance:** The ability of generative AI to produce large amounts of content may lead to concerns about job displacement in creative fields. The ease of content creation could undermine the value of artistic work and have broader economic implications.\n"
   ]
  },
  {
   "cell_type": "markdown",
   "id": "9e131c69-915d-422f-8ed1-f138e4b30d6d",
   "metadata": {},
   "source": [
    "**The Landscape of Generative AI Tools:**\n",
    "\n",
    "As artificial intelligence continues its transformative journey across various spheres of human life, it has spurred the emergence of a wide array of tools spanning multiple industries. This infographic provides an intricate exploration of different types of generative AI tools, delving into their applications and impact across various sectors. Encompassing a diverse range of tools, from software for generating text to programs for creating images and composing music, it offers a comprehensive overview of the expansive landscape of generative AI technology. Through the highlighting of prominent players in each category and the presentation of real-world examples of their usage, the infographic presents a holistic view of both the current state and the potential future trajectory of generative AI.\n"
   ]
  },
  {
   "cell_type": "markdown",
   "id": "d90c31ed-899f-4b1f-ab12-764869831063",
   "metadata": {},
   "source": [
    "![Generative AI Landscape Infographic](https://images.datacamp.com/image/upload/v1710422565/Infographic_the_generative_AI_landscape_1f0105a8bd.png)\n"
   ]
  },
  {
   "cell_type": "markdown",
   "id": "907d5912-0257-4901-b5f4-b6c83868a2ba",
   "metadata": {},
   "source": [
    "## How generative AI contributes to solving data-related problems??\n",
    "\n",
    "Generative AI contributes significantly to solving various data-related problems through its ability to generate synthetic data, enhance data augmentation techniques, and improve data privacy and security measures. Here's how:\r\n",
    "\r\n",
    "1. **Synthetic Data Generation:** Generative AI models can create synthetic data that closely resembles real data distributions. This synthetic data can be used to augment existing datasets, especially in scenarios where obtaining large amounts of labeled data is challenging or costly. By generating additional training data, generative AI helps improve the performance and robustness of machine learning models.\r\n",
    "\r\n",
    "2. **Data Augmentation:** Generative AI techniques can augment existing datasets by generating variations of the original data. This process helps increase the diversity of the training data, leading to more robust models that generalize better to unseen data. By generating new samples with different features, generative AI aids in reducing overfitting and improving the overall performance of machine learning models.\r\n",
    "\r\n",
    "3. **Privacy-Preserving Data Generation:** Generative AI models can generate synthetic data that preserves the statistical properties of the original data while protecting sensitive information. This approach enables organizations to share or use data for research and analysis without compromising individual privacy. By generating synthetic data that maintains data utility while ensuring privacy, generative AI contributes to addressing privacy concerns in data sharing and analysis.\r\n",
    "\r\n",
    "4. **Data Imputation and Completion:** Generative AI techniques can be used to impute missing values or complete partial data samples. By learning the underlying patterns and relationships in the data, generative models can accurately predict missing values or generate complete data samples. This capability helps address data incompleteness issues and enhances the quality and completeness of datasets used for analysis and modeling.\r\n",
    "\r\n",
    "5. **Data Generation for Novel Scenarios:** Generative AI models can generate data for novel scenarios or rare events that may be underrepresented in real-world datasets. This capability is particularly useful in domains such as anomaly detection, where the lack of sufficient labeled data for rare events hinders the development of accurate models. By generating synthetic data for such scenarios, generative AI enables better training and evaluation of models for detecting anomalies and unusual patterns in data.\r\n",
    "\r\n",
    "Overall, generative AI plays a crucial role in addressing various data-related challenges by generating synthetic data, enhancing data augmentation techniques, preserving privacy, imputing missing values, and generating data for novel scenarios. Through these contributions, generative AI helps improve the quality, diversity, and utility of datasets used for machine learning and data anasis tasks.\r\n",
    "\n"
   ]
  },
  {
   "cell_type": "markdown",
   "id": "359b4106-2a49-4f3e-a9bf-51bd39a290c3",
   "metadata": {},
   "source": [
    "![Image](https://imgs.search.brave.com/tdyd3M6Au2VpU9mf0xqcqAmfODjJ9MHulifruJXWnB8/rs:fit:860:0:0/g:ce/aHR0cHM6Ly9hc3Nl/dHMud2Vmb3J1bS5v/cmcvZWRpdG9yL0ta/LTI2blFpZUxhcVhK/X2R4NWF3dkJsMEsy/WkMzNzcwRG56UHdZ/cFJzQWMuanBlZw)"
   ]
  },
  {
   "cell_type": "markdown",
   "id": "c308097b-b4c6-4764-9e20-51d94f7a0bba",
   "metadata": {},
   "source": [
    "## Theoretical underpinnings of the chosen generative AI method.\n",
    "\n",
    "Generative Adversarial Networks (GANs) operate based on the principles of game theory and probabilistic modeling. Introduced in 2014, GANs consist of two neural networks: the generator and the discriminator. The generator aims to produce realistic data samples from random noise vectors, while the discriminator learns to distinguish between real and fake samples. Through adversarial training, where the generator and discriminator are trained in a competitive manner, GANs learn to capture the underlying data distribution and generate new data samples that closely resemble the training data. Theoretical analyses show that GAN training converges to a Nash equilibrium, where the generator produces indistinguishable samples, and the discriminator cannot differentiate between real and fake samples."
   ]
  },
  {
   "cell_type": "markdown",
   "id": "152247b4-6eed-411b-a221-525b2d8f4384",
   "metadata": {},
   "source": [
    "## Applications of Generative AI:\n",
    "\n",
    "Generative AI demonstrates versatility across a wide range of fields. One notable application involves translating text between languages, facilitating seamless communication and comprehension across language barriers. Additionally, generative AI enables the creation of visual representations from text inputs, fostering creativity in areas like art generation, scenery creation, and even the synthesis of realistic human faces.\n",
    "\n",
    "Moreover, beyond text translation and text-to-image generation, generative AI expands its capabilities to generating videos from text, creating 3D objects from textual descriptions, and performing various tasks based on textual inputs. This empowers developers to automate tasks such as code generation, sentiment analysis, image captioning, and object recognition. With its transformative potential, generative AI sparks innovation and introduces new dimensions to human-machine interaction.\n"
   ]
  },
  {
   "cell_type": "markdown",
   "id": "d9ee3922-83d9-4904-b2c8-130089fcfde2",
   "metadata": {},
   "source": [
    "![Generative AI Benefits for Business](https://cdn.ttgtmedia.com/rms/onlineimages/generative_ai_benefits_for_business-f_desktop.png)\n"
   ]
  },
  {
   "cell_type": "markdown",
   "id": "eb0117ae-af99-4611-a317-d6c14442fe7c",
   "metadata": {},
   "source": [
    "Generative AI (GEN AI) holds significant promise for revolutionizing various aspects of business operations. By leveraging advanced machine learning techniques, such as Generative Adversarial Networks (GANs) and Variational Autoencoders (VAEs), businesses can unlock new opportunities for innovation, efficiency, and growth. One of the key benefits of GEN AI in business is its ability to automate and streamline processes across different domains, ranging from product design and marketing to customer service and operations. For instance, in product design, GEN AI can generate novel designs, prototypes, and simulations, accelerating the innovation cycle and reducing time-to-market. In marketing, it enables personalized content generation, targeted advertising, and customer segmentation, enhancing engagement and conversion rates. Furthermore, GEN AI facilitates predictive analytics, anomaly detection, and risk assessment, empowering businesses to make data-driven decisions and mitigate potential risks. Overall, GEN AI empowers businesses to stay competitive in a rapidly evolving landscape by harnessing the power of artificial intelligence to drive innovation, optimize processes, and deliver superior value to customers.\n"
   ]
  },
  {
   "cell_type": "markdown",
   "id": "2662f486-0221-4e09-86b7-1deb2800c3b3",
   "metadata": {},
   "source": [
    "Here are some notable applications of GenerativeAI:\n",
    "\n",
    "1. **Image Generation and Editing**: Generative AI models, such as Generative Adversarial Networks (GANs), have been used to generate realistic and high-quality images. These models can learn from large datasets and generate new images that resemble real photographs. They have applications in areas such as virtual reality, gaming, and visual effects. Generative AI also enables image editing capabilities like image-to-image translation, style transfer, and image synthesis.\n",
    "\n",
    "**Example**:\n",
    "\n",
    "\n",
    "Creating realistic samples was the primary application outlined in Ian Goodfellow et al.'s seminal 2014 paper on \"Generative Adversarial Networks.\" In this paper, GANs were utilized to produce new plausible instances for datasets such as the MNIST handwritten digit dataset, the CIFAR-10 small object photograph dataset, and the Toronto Face Database.\n",
    "\r",
    "![Examples of GANs used to Generate New Plausible Examples for Image Datasets](https://machinelearningmastery.com/wp-content/uploads/2019/04/Examples-of-GANs-used-to-Generate-New-Plausible-Examples-for-Image-Datasets.png)\r\n",
    "\r\n"
   ]
  },
  {
   "cell_type": "markdown",
   "id": "1bf0e593-8def-4cb6-8b9e-696c22aced44",
   "metadata": {},
   "source": [
    "Importantly, in this paper, they also demonstrated the ability to perform vector arithmetic with the input to the GANs (in the latent space) both with generated bedrooms and with generated faces.\n",
    "\n",
    "Vector arithmetic in the context of GANs involves performing mathematical operations on the latent vectors that serve as input to the generator network. The latent space is a high-dimensional space where each point represents a potential output of the generator network. By manipulating these latent vectors, researchers can explore and control the features of the generated images.\r\n",
    "\r\n",
    "In the cited paper, the authors demonstrated that by manipulating the latent vectors in the GANs' latent space, it was possible to perform arithmetic operations that resulted in meaningful transformations in the generated images. For example, adding or subtracting certain vectors could lead to changes in the appearance of the generated bedrooms or faces, such as altering their styles, features, or characteristics.\r\n",
    "\r\n",
    "This ability to perform vector arithmetic in the latent space provides researchers with a powerful tool for controlling and fine-tuning the output of GANs, enabling them to generate images with specific desired attributes or characteristics. It also highlights the potential of GANs as a creative tool for image synthesis and manipulaton.\r\n"
   ]
  },
  {
   "cell_type": "markdown",
   "id": "12b21435-c980-4523-9350-a7a68dd9f9c0",
   "metadata": {},
   "source": [
    "![Example of Vector Arithmetic for GAN Generated Faces](https://machinelearningmastery.com/wp-content/uploads/2019/04/Example-of-Vector-Arithmetic-for-GAN-Generated-Faces.png)"
   ]
  },
  {
   "cell_type": "markdown",
   "id": "cd449701-aa37-43d5-ba98-b3a281436f24",
   "metadata": {},
   "source": [
    "## Text Generation and Language Processing:\n",
    "\n",
    "Generative AI models like GPT-3 (Generative Pre-trained Transformer 3) have shown remarkable capabilities in generating human-like text. These models are trained on vast amounts of text data and learn to generate coherent and contextually relevant text based on given prompts or input. They have numerous applications across various domains:\n",
    "\n",
    "1. **Chatbots and Virtual Assistants**: Generative AI models can be used to develop chatbots and virtual assistants capable of engaging in natural language conversations with users, providing information, answering questions, and performing tasks.\n",
    "\n",
    "2. **Content Generation**: These models can generate content for various purposes, including articles, stories, product descriptions, and social media posts. They can help automate content creation processes and assist writers in brainstorming ideas.\n",
    "\n",
    "3. **Creative Writing**: Generative AI can aid creative writers by generating prompts, ideas, or even entire pieces of writing. It can be used as a tool for inspiration or collaboration in creative endeavors.\n",
    "\n",
    "4. **Language Processing Tasks**: Generative AI models are also employed in various natural language processing tasks, such as language translation, text summarization, sentiment analysis, and dialogue systems. They can process and understand human language to perform these tasks effectively.\n",
    "\n",
    "## Image Synthesis with StackGAN:\n",
    "\n",
    "The excerpt mentions the paper titled \"StackGAN: Text to Photo-realistic Image Synthesis with Stacked Generative Adversarial Networks\" by Han Zhang et al., published in 2016. In this paper, the authors propose a novel approach for generating realistic images from textual descriptions using a type of generative model called Generative Adversarial Networks (GANs).\n",
    "\n",
    "**StackGAN** is a variant of GANs designed specifically for the task of generating high-resolution, photo-realistic images from textual descriptions. It consists of two stages:\n",
    "\n",
    "1. **Stage-I GAN**: This stage generates low-resolution images based on the textual descriptions. It captures the basic shapes and structures of the objects described in the text.\n",
    "\n",
    "2. **Stage-II GAN**: This stage refines the low-resolution images produced by Stage-I GAN to generate high-resolution, photo-realistic images. It adds finer details and improves the overall quality of the images.\n",
    "\n",
    "By training StackGAN on large datasets of paired textual descriptions and corresponding images (e.g., descriptions of birds or flowers and actual bird or flower images), the model learns to effectively translate textual descriptions into realistic images. This technology has applications in fields such as computer vision, graphic design, and virtual reality, where there's a need for generating images from textual inputs.\n",
    "\n",
    "\n",
    "![Example of Textual Descriptions and GAN Generated Photographs of Birds](https://machinelearningmastery.com/wp-content/uploads/2019/06/Example-of-Textual-Descriptions-and-GAN-Generated-Photographs-of-Birds.png)\n"
   ]
  },
  {
   "cell_type": "markdown",
   "id": "cbc502cb-9a45-4f71-99c7-a4b435040ee1",
   "metadata": {},
   "source": [
    "### Text to Image Generation with Generative Adversarial Networks (GANs)\n",
    "\n",
    "The paper titled \"Generative Adversarial Text to Image Synthesis\" by Scott Reed et al., published in 2016, presents an early example of using Generative Adversarial Networks (GANs) for the task of generating images from textual descriptions.\n",
    "\n",
    "#### Text to Image Generation:\n",
    "\n",
    "The goal of text-to-image synthesis is to generate realistic images from textual descriptions. In this approach, a GAN architecture is employed, consisting of two neural networks: a generator and a discriminator.\n",
    "\n",
    "1. **Generator**: The generator takes as input textual descriptions and attempts to generate corresponding images. It learns to map the textual descriptions to image representations by generating images that are visually similar to the descriptions.\n",
    "\n",
    "2. **Discriminator**: The discriminator is trained to distinguish between real images from a dataset and fake images generated by the generator. It provides feedback to the generator, helping it improve its image generation capabilities over time.\n",
    "\n",
    "#### Key Contributions of the Paper:\n",
    "\n",
    "1. **Early Example**: The paper provides one of the early demonstrations of text-to-image generation using GANs. It showcases the potential of this approach in generating realistic images from textual descriptions.\n",
    "\n",
    "2. **Variety of Objects and Scenes**: The authors experiment with generating images of various objects and scenes, including birds, flowers, and more. This demonstrates the versatility of the proposed method in generating diverse types of images based on textual input.\n",
    "\n",
    "3. **Quality of Generated Images**: The paper evaluates the quality of the generated images and discusses challenges and limitations in achieving photorealism and semantic consistency. It highlights areas for future research and improvement in text-to-image synthesis.\n",
    "\n",
    "#### Applications and Implications:\n",
    "\n",
    "Text-to-image generation has numerous potential applications across different domains:\n",
    "\n",
    "- **Computer Vision**: It can be used to generate synthetic training data for computer vision tasks, such as object recognition, image segmentation, and scene understanding.\n",
    "\n",
    "- **Creative Design**: Artists and designers can leverage text-to-image synthesis to quickly prototype and visualize design concepts based on textual descriptions.\n",
    "\n",
    "- **Content Generation**: Text-to-image generation can automate the creation of visual content for storytelling, advertising, and multimedia presentations.\n",
    "\n",
    "Overall, the example provided in the paper by Reed et al. showcases the early advancements in text-to-image synthesis using GANs and underscores the potential of this technology in various applications requiring the generation of visual content from textual descriptions.\n"
   ]
  },
  {
   "cell_type": "markdown",
   "id": "222caf54-b7b6-4c2e-bbaf-602757129447",
   "metadata": {},
   "source": [
    "![Example of Textual Descriptions and GAN Generated Photographs of Birds and Flowers](https://machinelearningmastery.com/wp-content/uploads/2019/06/Example-of-Textual-Descriptions-and-GAN-Generated-Photographs-if-Birds-and-Flowers.png)"
   ]
  },
  {
   "cell_type": "markdown",
   "id": "e86f96f5-6bac-4f8e-b4fa-3b7df5ef180c",
   "metadata": {},
   "source": [
    "### 3D Object Generation with GANs:\n",
    "\n",
    "#### Overview:\n",
    "The paper titled \"Learning a Probabilistic Latent Space of Object Shapes via 3D Generative-Adversarial Modeling\" by Jiajun Wu et al., published in 2016, presents a method for generating new three-dimensional (3D) objects using Generative Adversarial Networks (GANs).\n",
    "\n",
    "#### Methodology:\n",
    "The authors propose a framework based on GANs, a type of deep learning architecture consisting of two neural networks: a generator and a discriminator.\n",
    "1. **Generator**: The generator network takes random noise or a latent vector as input and attempts to generate a 3D object shape. It learns to map the latent space to a distribution of 3D shapes, capturing the variability and diversity of object shapes.\n",
    "2. **Discriminator**: The discriminator network evaluates the generated 3D shapes and distinguishes between real objects from a dataset and fake objects generated by the generator. It provides feedback to the generator to improve the quality and realism of the generated shapes.\n",
    "\n",
    "![Example of GAN Generated Three-Dimensional Objects](https://machinelearningmastery.com/wp-content/uploads/2019/06/Example-of-GAN-Generated-Three-Dimensional-Objects.png)\n"
   ]
  },
  {
   "cell_type": "markdown",
   "id": "b1eb5382-0850-48b7-ab6b-21254614fa8d",
   "metadata": {},
   "source": [
    "#### Contributions of the Paper:\n",
    "1. **Probabilistic Latent Space**: The paper introduces the concept of a probabilistic latent space, where each point in the latent space represents a probability distribution over possible 3D object shapes. By learning this latent space, the model can generate a wide variety of plausible object shapes.\n",
    "2. **Adversarial Training**: The use of adversarial training allows the model to learn from the data distribution and generate realistic 3D shapes that resemble objects in the training dataset. This approach enables the generation of diverse and novel object shapes.\n",
    "3. **Applications**: The proposed method has various applications in computer graphics, computer-aided design (CAD), virtual reality, and robotics. It can be used to automatically generate 3D models for design prototyping, simulation, and virtual environments.\n",
    "\n",
    "![Example of Three-Dimensional Reconstructions of a Chair from Two-Dimensional Images](https://machinelearningmastery.com/wp-content/uploads/2019/06/Example-of-Three-Dimensional-Reconstructions-of-a-Chair-from-Two-Dimensional-Images.png)\n"
   ]
  },
  {
   "cell_type": "markdown",
   "id": "936d355d-96b1-4f71-8358-9b46eb44a2ca",
   "metadata": {},
   "source": [
    "## Step 2:Introduction to Data Generation:\n",
    "\n",
    "The process of data generation using generative AI involves the creation of new data points that mimic the patterns and structures present in existing datasets. This practice holds significance across various domains for several reasons:\n",
    "\n",
    "**Context:** Generative AI models like GANs (Generative Adversarial Networks) or language models such as GPT-3 are utilized to generate synthetic data resembling real-world data.\n",
    "\n",
    "**Significance:**\n",
    "\n",
    "1. **Augmentation:** Generated data serves to augment limited datasets, enhancing their diversity and size for training machine learning models. Consequently, this improves the performance and generalization capabilities of the models.\n",
    "\n",
    "2. **Privacy and Anonymization:** Synthetic data can be employed for research or testing purposes without exposing sensitive or personally identifiable information present in actual datasets.\n",
    "\n",
    "3. **Scenario Exploration:** Generative models facilitate the creation of simulated scenarios, aiding in testing hypotheses or exploring various what-if scenarios without real-world ramifications.\n",
    "\n",
    "## **Principles behind Data Generation:**\n",
    "\n",
    "1. **Learning Patterns:** Generative models acquire knowledge of underlying patterns and structures inherent in the training data. For instance, GANs discern the distribution of images to produce new, similar images, while language models like GPT-3 learn statistical relationships between words and sentences to generate coherent text.\n",
    "\n",
    "2. **Probability and Variation:** Generative models leverage probabilistic distributions to introduce variations in the generated data. This capability enables the models to generate diverse outputs resembling, but not replicating, the original dataset.\n",
    "\n",
    "3. **Evaluation and Improvement:** The quality of generated data is typically assessed using domain-specific metrics, such as image quality metrics for images or coherence and relevance metrics for text. Feedback from these evaluations is utilized to enhance the performance of generative models.\n"
   ]
  },
  {
   "cell_type": "markdown",
   "id": "5e2881f0-51e7-4ecd-b1ac-e4552a527bee",
   "metadata": {},
   "source": [
    "### Data Generation Technique: Generative Adversarial Networks (GANs)\n",
    "\n",
    "#### Purpose:\n",
    "The purpose of Generative Adversarial Networks (GANs) in data generation is to learn the underlying data distribution from a given dataset and generate new, realistic samples that resemble the training data. GANs consist of two neural networks, a generator and a discriminator, which are trained concurrently in a competitive manner. The generator learns to produce synthetic data samples, while the discriminator learns to distinguish between real and synthetic samples. Through this adversarial training process, GANs are able to generate high-quality, diverse data points that capture the complex patterns and characteristics of the training data.\n",
    "\n",
    "#### Description:\n",
    "Generative Adversarial Networks (GANs) are a type of deep learning model introduced by Ian Goodfellow and his colleagues in 2014. GANs operate on the principle of game theory, where two neural networks, the generator and the discriminator, are pitted against each other in a minimax game. The generator generates synthetic data samples from random noise vectors, aiming to produce samples that are indistinguishable from real data. The discriminator, on the other hand, learns to distinguish between real and synthetic samples. As the generator improves its ability to generate realistic samples, the discriminator adapts to become better at discriminating between real and fake data. This adversarial training process leads to the generation of high-quality, diverse data samples that closely match the distribution of the training data.\n",
    "\n",
    "#### Application:\n",
    "Generative Adversarial Networks (GANs) have been applied in various domains for data generation tasks. They have been used to generate realistic images, such as human faces, animals, and scenes, as well as to generate synthetic data for medical imaging, text generation, and video synthesis. In computer vision, GANs have been employed to generate photorealistic images for data augmentation, artistic style transfer, and image-to-image translation tasks. In natural language processing, GANs have been used to generate text, dialogue responses, and even code snippets. Additionally, GANs have applications in data anonymization, where they can generate synthetic data to preserve privacy while maintaining the statistical properties of the original data.\n",
    "\n",
    "#### Importance:\n",
    "Generative Adversarial Networks (GANs) play a crucial role in data generation tasks by providing a powerful framework for learning complex data distributions and generating new data samples. They enable the creation of synthetic data that can be used for various purposes, including training machine learning models, augmenting datasets, and simulating realistic scenarios. GANs have the potential to generate diverse and high-quality data samples that capture the underlying structure of the training data, leading to improved model performance and generalization. Additionally, GANs offer opportunities for creative exploration and innovation in generating novel content across different domains.\n"
   ]
  },
  {
   "cell_type": "markdown",
   "id": "0c06461e-8fe7-4ea5-874d-5099e40dcc33",
   "metadata": {},
   "source": [
    "## Step-3:Analyzing the Generated Data\n",
    "\n",
    "**Data Characteristics:**\n",
    "The generated data reflects the learning of the pre-trained GPT-2 model, demonstrating a coherent grasp of the English language, including vocabulary, syntax, and semantic relationships. It is generated based on patterns learned from extensive textual input during the model's training phase.\n",
    "\n",
    "**Application Areas:**\n",
    "The generated data has potential applications across various natural language processing tasks, such as chatbot development, content creation, and creative writing assistance. Its ability to replicate human-like language patterns makes it suitable for tasks requiring natural language understanding and generation.\n",
    "\n",
    "## Analytical Insights:\n",
    "1. **Language Proficiency:** The model exhibits a high proficiency level in generating text that is contextually relevant and grammatically correct.\n",
    "2. **Semantic Consistency:** The generated data maintains semantic coherence and relevance to the input prompt, as evidenced by its coherent response to prompts like \"grief.\"\n",
    "3. **Diversity of Output:** By adjusting parameters such as num_beams and temperature during generation, the diversity of output can be controlled, allowing for flexibility in the type of content produced.\n"
   ]
  },
  {
   "cell_type": "markdown",
   "id": "2975e5c4-53d8-45a8-8516-0fc040dae869",
   "metadata": {},
   "source": [
    "## Step-4:Engaging with Generative AI for Data Generation\n",
    "\n",
    "**Querying the Generative AI:**\n",
    "Engage with the generative AI to gain insights into its data generation process by interacting with it using different input prompts. Explore how various prompts influence the generated output and observe the adaptability and responsiveness of the model.\n",
    "\n",
    "**Exploring Data Generation Scenarios:**\n",
    "Experiment with diverse scenarios to evaluate the generative AI's performance across different domains or topics. Assess how well the model adjusts to different input contexts and whether it consistently produces relevant content.\n",
    "\n",
    "**Validating Data Quality and Diversity:**\n",
    "Validate the quality of the generated data by comparing it against predefined criteria. Analyze the diversity of output by examining responses to similar prompts with slight variations. This ensures that the generated data meets the intended use case standards.\n"
   ]
  },
  {
   "cell_type": "markdown",
   "id": "76f2c7a3-3311-4001-8733-55af4d2334dc",
   "metadata": {},
   "source": [
    "## Step-5:Crafting Generated Data:\n",
    "\n",
    "**Defining the Data Generation Task:**\n",
    "Provide a clear definition of the data generation task, whether it entails completing text, creating prompts for creative writing, or achieving other language-related goals. This ensures a precise understanding of the purpose behind generating the data.\n",
    "\n",
    "**Specifying the Data Format:**\n",
    "Outline the desired format for the generated data, considering aspects such as length, structure, and any specific formatting requirements. By detailing these specifications, you can ensure that the generated data meets your expectations and is suitable for its intended use."
   ]
  },
  {
   "cell_type": "markdown",
   "id": "e271c018-1365-4516-94c7-921602804921",
   "metadata": {},
   "source": [
    "## Step 6: Demonstrating Data Generation"
   ]
  },
  {
   "cell_type": "markdown",
   "id": "31063b64-d6b3-4e95-8a7e-b32203ddfd01",
   "metadata": {},
   "source": [
    "## Illustrative Examples:"
   ]
  },
  {
   "cell_type": "markdown",
   "id": "562f2726-f3fd-4ee5-8355-79fde7e1a19f",
   "metadata": {},
   "source": [
    "\n",
    "The rise of lengthy textual content coupled with people's diminishing time underscores the need for efficient summarization. With the emergence of wearable devices like Google Glass and Apple Watch, content must accommodate limited screen space. Consequently, generating concise and insightful summaries for extensive text has emerged as a significant challenge in both research and industry."
   ]
  },
  {
   "cell_type": "code",
   "execution_count": 1,
   "id": "003acad0-ca3f-4d0e-8cac-d5b52cad4d8a",
   "metadata": {},
   "outputs": [
    {
     "name": "stdout",
     "output_type": "stream",
     "text": [
      "Requirement already satisfied: PyPDF2 in c:\\users\\vaish\\anaconda3\\lib\\site-packages (3.0.1)Note: you may need to restart the kernel to use updated packages.\n",
      "\n"
     ]
    }
   ],
   "source": [
    "pip install PyPDF2\n"
   ]
  },
  {
   "cell_type": "code",
   "execution_count": 2,
   "id": "d8b94688-033b-4307-94b7-4bfa6ff2c868",
   "metadata": {},
   "outputs": [
    {
     "name": "stdout",
     "output_type": "stream",
     "text": [
      "Requirement already satisfied: docx2txt in c:\\users\\vaish\\anaconda3\\lib\\site-packages (0.8)\n",
      "Note: you may need to restart the kernel to use updated packages.\n"
     ]
    }
   ],
   "source": [
    "pip install docx2txt\n"
   ]
  },
  {
   "cell_type": "markdown",
   "id": "f79d673e-e223-4f1a-8431-bbb5ace44d11",
   "metadata": {},
   "source": [
    "## Importing the necessary Libraries:\n",
    "\n",
    "- **numpy (np)**: A library for numerical computing with support for large arrays and mathematical functions.\n",
    "- **PyPDF2**: A Python library for working with PDF files, enabling extraction and manipulation of text.\n",
    "- **docx2txt**: A Python library for extracting text from Microsoft Word documents (.docx files).\n",
    "- **sys**: A Python module providing access to variables and functions for interacting with the interpreter.\n",
    "- **matplotlib.pyplot (plt)**: A library for creating static, interactive, and animated visualizations in Python.\r\n",
    "- **%matplotlib inline**: A magic command in Jupyter Notebook that allows matplotlib plots to be displayed inline within the notebook.\r\n",
    "- **networkx (nx)**: A Python library for the creation, manipulation, and study of complex networks or graph\n",
    "- The provided code imports necessary classes from NLTK and scikit-learn libraries for text processing tasks. Specifically, it imports PunktSentenceTokenizer for sentence tokenization and TfidfTransformer along with CountVectorizer for text feature extraction and transformation.\n",
    ".\r\n"
   ]
  },
  {
   "cell_type": "code",
   "execution_count": 3,
   "id": "69fdff63-94c6-4a38-b90c-be6e400b0948",
   "metadata": {},
   "outputs": [],
   "source": [
    "import numpy as np\n",
    "import PyPDF2\n",
    "import docx2txt\n",
    "import sys\n",
    "import matplotlib.pyplot as plt\n",
    "%matplotlib inline \n",
    "import networkx as nx\n",
    "from nltk.tokenize.punkt import PunktSentenceTokenizer\n",
    "from sklearn.feature_extraction.text import TfidfTransformer, CountVectorizer\n",
    "import requests"
   ]
  },
  {
   "cell_type": "markdown",
   "id": "924c8b7b-015c-45c8-8e5a-a9fbeac582af",
   "metadata": {},
   "source": [
    "The code defines a function named tokenize that performs sentence tokenization on a given document. It utilizes the PunktSentenceTokenizer class from the NLTK library to tokenize the input document into a list of sentences. The function then returns this list of tokenized sentences."
   ]
  },
  {
   "cell_type": "code",
   "execution_count": 4,
   "id": "87dfb069-50d5-4014-9726-08fb34b1a7e3",
   "metadata": {},
   "outputs": [],
   "source": [
    "def tokenize(document):\n",
    "    doc_tokenizer = PunktSentenceTokenizer()\n",
    "    \n",
    "    sentences_list = doc_tokenizer.tokenize(document)\n",
    "    return sentences_list"
   ]
  },
  {
   "cell_type": "markdown",
   "id": "f5183d67-3058-4191-a69b-7d455b37cc1d",
   "metadata": {},
   "source": [
    "## Function to Read Document from User\n",
    "\n",
    "This function is designed to read documents from users, supporting formats such as .txt and .pdf. It takes the file name as input and returns the contents of the file as a string output."
   ]
  },
  {
   "cell_type": "code",
   "execution_count": 5,
   "id": "b3e9e3b4-f053-434e-a9c5-accb08be0335",
   "metadata": {},
   "outputs": [],
   "source": [
    "##Importing the Text Document,creating a function to get.\n",
    "\n",
    "def readDoc(url):\n",
    "    try:\n",
    "        response = requests.get(url)\n",
    "        document = response.text\n",
    "        return document\n",
    "    except Exception as e:\n",
    "        print(\"An error occurred:\", e)\n",
    "        return None"
   ]
  },
  {
   "cell_type": "code",
   "execution_count": 6,
   "id": "8a67db5b-2bbe-4d2a-aaa1-7620fa4b1167",
   "metadata": {},
   "outputs": [
    {
     "name": "stdout",
     "output_type": "stream",
     "text": [
      "The length of the file is: 7127\n"
     ]
    }
   ],
   "source": [
    "##Importing the text document from the github link and printing the length of the content of the files present it.\n",
    "\n",
    "url = \"https://raw.githubusercontent.com/Shakunni/Extractive-Text-Summarization/master/story1.txt\"\n",
    "\n",
    "document = readDoc(url)\n",
    "\n",
    "print('The length of the file is:', end=' ')\n",
    "print(len(document))"
   ]
  },
  {
   "cell_type": "markdown",
   "id": "afbf216b-438f-4239-a11d-8b14d3867ed7",
   "metadata": {},
   "source": [
    "## Tokenizing:\n",
    "The objective is to tokenize the document for further processing.Tokenizing the document involves creating a list of sentences from the document text.\n",
    "Tokenization is necessary because the document is initially in string format, and for processing, it needs to be stored in a data structure.\n",
    "While tokenization into words is possible, in this case, tokenizing into sentences is chosen because we aim to select the most relevant sentences.\n",
    "Therefore, we generate tokens representing sentences only."
   ]
  },
  {
   "cell_type": "markdown",
   "id": "fd2462ad-92f9-4db0-8d95-ca3e2e41310f",
   "metadata": {},
   "source": [
    "## Maths Behind Tokenizing:\n",
    "\n",
    "Tokenization is a fundamental process in natural language processing (NLP) that involves breaking down a sequence of text into smaller units, typically words or subwords. While the process itself is not inherently mathematical, it relies on various algorithms and techniques that can be understood using mathematical concepts. Here's an overview of some mathematical aspects related to tokenization:\n",
    "\n",
    "1. **Counting Tokens**: One basic mathematical aspect of tokenization is counting the number of tokens in a given text. This involves counting the occurrences of individual words or subwords, which can be represented mathematically using counting principles.\n",
    "\n",
    "2. **Probability and Language Models**: Tokenization often involves considering the probability of words or subwords occurring in a language. Language models, which are probabilistic models of text, play a crucial role in tokenization. Techniques such as n-grams and neural language models use probability distributions to model the likelihood of sequences of tokens occurring in a language.\n",
    "\n",
    "3. **Statistical Methods**: Some tokenization algorithms rely on statistical methods to determine word boundaries or to identify common patterns in text. For example, techniques like maximum likelihood estimation and statistical language modeling can be used to estimate probabilities and make decisions about token boundaries.\n",
    "\n",
    "4. **Information Theory**: Information theory concepts, such as entropy and mutual information, can also be relevant to tokenization. These concepts help quantify the uncertainty or predictability of tokens in a given text corpus, which can inform tokenization decisions.\n",
    "\n",
    "5. **Vector Representations**: In many NLP tasks, tokens are represented as vectors in a high-dimensional space. Techniques like word embeddings and subword embeddings use mathematical operations to encode semantic and syntactic information about tokens in vector representations.\n",
    "\n",
    "6. **Algorithm Complexity**: Analyzing the time and space complexity of tokenization algorithms can also involve mathematical reasoning. Understanding the computational cost of different tokenization techniques can help in selecting the most efficient approach for a given task.\n",
    "\n",
    "Overall, while tokenization itself may not be purely mathematical, understanding the underlying algorithms, models, and techniques involved often requires mathematical concepts and reasoning.\n"
   ]
  },
  {
   "cell_type": "code",
   "execution_count": 7,
   "id": "d18e7798-338b-406f-b86f-e88e1b429586",
   "metadata": {},
   "outputs": [
    {
     "name": "stdout",
     "output_type": "stream",
     "text": [
      "The size of the list in Bytes is: 872\n",
      "The size of the item 0 in Bytes is: 147\n"
     ]
    }
   ],
   "source": [
    "sentences_list = tokenize(document)\n",
    "print('The size of the list in Bytes is: {}'.format(sys.getsizeof(sentences_list)))\n",
    "print('The size of the item 0 in Bytes is: {}'.format(sys.getsizeof(sentences_list[0])))"
   ]
  },
  {
   "cell_type": "code",
   "execution_count": 8,
   "id": "263d906b-3cb0-41e4-89aa-c2ce1dbc1278",
   "metadata": {},
   "outputs": [
    {
     "name": "stdout",
     "output_type": "stream",
     "text": [
      "<class 'list'>\n"
     ]
    }
   ],
   "source": [
    "#Printing the data type,of the sentences list.\n",
    "print(type(sentences_list))"
   ]
  },
  {
   "cell_type": "code",
   "execution_count": 9,
   "id": "53f7f323-763e-4906-be1b-9027455ff3af",
   "metadata": {},
   "outputs": [],
   "source": [
    "# We will now analyze the components of the sentences.\n",
    "# The len() method is applied to the list to determine the number of elements (sentences) in the list."
   ]
  },
  {
   "cell_type": "code",
   "execution_count": 10,
   "id": "778fa55c-61ad-4e3f-a8d8-99859b96021a",
   "metadata": {},
   "outputs": [
    {
     "name": "stdout",
     "output_type": "stream",
     "text": [
      "The size of the list \"sentences\" is: 101\n"
     ]
    }
   ],
   "source": [
    "print('The size of the list \"sentences\" is: {}'.format(len(sentences_list)))"
   ]
  },
  {
   "cell_type": "code",
   "execution_count": 11,
   "id": "c4a8d9fd-8746-4a23-a98e-2b9a9401df3e",
   "metadata": {},
   "outputs": [
    {
     "name": "stdout",
     "output_type": "stream",
     "text": [
      " In Banaras District there is a village called Bira in which an old, childless\n",
      "widow used to live.\n",
      "She was a Gond woman named Bhungi and she didn't\n",
      "own either a scrap of land or a house to live in.\n",
      "Her only source of livelihood\n",
      "was a parching oven.\n",
      "The village folk customarily have one meal a day of\n",
      "parched grains, so there was always a crowd around Bhungi's oven.\n",
      "Whatever grain she was paid for parching she would grind or fry and eat it.\n",
      "She slept in a corner of the same little shack that sheltered the oven.\n",
      "As soon\n",
      "as it was light she'd get up and go out to gather dry leaves from all around to\n",
      "make her fire.\n",
      "She would stack the leaves right next to the oven, and after\n",
      "twelve, light the fire.\n",
      "But on the days when she had to parch grain for Pandit\n",
      "Udaybhan Pandey, the owner of the village, she went to bed hungry.\n",
      "She\n",
      "was obliged to work without pay for Pandit Udaybhan Pandey She also had\n",
      "to fetch water for his house.\n",
      "And, for this reason, from time to time the oven\n",
      "was not lit.\n",
      "She lived in the Pandit's village, therefore he had full authority to\n",
      "make her do any sort of odd job.\n",
      "In his opinion if she received food for\n",
      "working from him, how could it be considered as work done without pay?\n",
      "He was doing her a favour, in fact, by letting her live in the village at all.\n",
      "It was spring, a day on which the fresh grain was fried and eaten and given\n",
      "as a gift.\n",
      "No fire was lit in the houses Bhungi's oven was being put to good\n",
      "use today.\n",
      "There was a crowd worthy of a village fair around her.\n",
      "She had\n",
      "scarcely opportunity to draw a breath.\n",
      "Because of the customer's impatience,\n",
      "squabbles kept breaking out.\n",
      "Then two servants arrived, each carrying a\n",
      "heaped basket of grain from Pandit Udaybhan with the order to parch it right\n",
      "away.\n",
      "When Bhungi saw the two baskets she was alarmed.\n",
      "It was already\n",
      "after twelve and even by sunset, she would not have time to parch so much\n",
      "grain.\n",
      "Now she would have to stay at the oven parching until after dark for\n",
      "no payment.\n",
      "In despair she took the two baskets.\n",
      "One of the flunkeys said\n",
      "menacingly, 'Don't waste any time or you'll be sorry.'\n",
      "With this command the servants went away and Bhungi began to parch the\n",
      "grain.\n",
      "It's no laughing matter to parch a whole maund of grain.\n",
      "She had to\n",
      "keep stopping from the parching in order to keep the oven fire going.\n",
      "So by\n",
      "sundown not even half the work was done.\n",
      "She was afraid Panditji's men\n",
      "would be coming.\n",
      "She began to move her hands all the more frantically.\n",
      "Soon the servants returned and said, 'Well, is the grain parched?'\n",
      "Feeling bold, Bhungi said, 'Can't you see?\n",
      "I'm parching it now.'\n",
      "'The whole day's gone and you haven't finished any more grain than this!\n",
      "Have you been roasting it or spoiling it?\n",
      "This is completely uncooked!\n",
      "How's it going to be used for food?\n",
      "It's the ruin of us!\n",
      "You’ll see what\n",
      "Panditji does to you for this.'\n",
      "The result was that that night the oven was dug up and Bhungi was left\n",
      "without a means of livelihood.\n",
      "Bhungi now had no means of support.\n",
      "The villagers suffered a good deal\n",
      "too from the destruction of the oven.\n",
      "In many houses even at noon, cooked\n",
      "cereal was no longer available.\n",
      "People went to Panditji and asked him to\n",
      "give the order for the old woman's oven to be rebuilt and the fire once more\n",
      "lighted, but he paid no attention to them.\n",
      "He could not suffer a loss of face.\n",
      "A few people who wished her well urged her to move to another village.\n",
      "But\n",
      "her heart would not accept this suggestion.\n",
      "She had spent her fifty miserable\n",
      "years in this village and she loved every leaf on every tree.\n",
      "Here she had\n",
      "known the sorrows and pleasures of life; she could not give it up now in the\n",
      "last days.\n",
      "The very idea of moving distressed her.\n",
      "Sorrow in this village was\n",
      "preferable to happiness in another.\n",
      "A month went by.\n",
      "Very early one morning Pandit Udaybhan, taking his\n",
      "little band of servants with him, went out to collect his rents.\n",
      "Now when he\n",
      "looked toward the old woman's oven he fell into a violent rage: it was being\n",
      "made again.\n",
      "Bhungi was energetically rebuilding it with balls of clay Most\n",
      "likely she'd spent the night at this work and wanted to finish it before the sun\n",
      "was high.\n",
      "She knew that she was going against the Pandit's wishes, but she\n",
      "hoped that he had forgotten his anger by then.\n",
      "But alas, the poor creature had\n",
      "gown old without growing wise.\n",
      "Suddenly Panditji shouted, 'By whose order?'\n",
      "Bewildered, Bhungi saw that he was standing before her.\n",
      "He demanded once again, 'By whose order are you building it?'\n",
      "In a flight\n",
      "she said, 'Everybody said I should build it and so I'm building it.'\n",
      "'I'll have it smashed again.\n",
      "'With this he kicked the oven.\n",
      "The wet clay\n",
      "collapsed in a heap.\n",
      "He kicked at the trough again but she ran in front of it\n",
      "and took the kick in her side.\n",
      "Rubbing her ribs she said, 'Maharaj, you're not\n",
      "afraid of anybody but you ought to fear God.\n",
      "What good does it do you to\n",
      "ruin me like this!\n",
      "Do you think gold is going to grow out of this small piece\n",
      "of land!\n",
      "For your own good, I'm telling you, don't torment poor people, don't\n",
      "be the death of me.\n",
      "'You're not going to build any oven here again.\n",
      "'If I don't how am I going to be able to eat!'\n",
      "'I'm not responsible for your belly.'\n",
      "'But if I do nothing except chores for you where will I go for food!'\n",
      "'If you’re going to stay in the village you'll have to do my chores.\n",
      "'I'll do them when I've built my over?.\n",
      "I can't do your work just for the\n",
      "sake of staying in the village.\n",
      "'Then don't, just get out of the village.\n",
      "'How can I!\n",
      "I've grown old in this hut.\n",
      "My in-laws and their grandparents\n",
      "lived in this same hut.\n",
      "Except for Yama, king of death, nobody's going to\n",
      "force me out of it now.\n",
      "'Excellent, now you're quoting Scripture!'\n",
      "Pandit Udaybhan said.\n",
      "'lf you'd\n",
      "worked hard I might have let you stay, but after this I won't rest until I've\n",
      "had you thrown out.\n",
      "‘To his attendants he said, 'Go get a pile of leaves right\n",
      "away and set fire to the whole thing; we'll show her how to make an oven.\n",
      "In a moment there was a tremendous racket.\n",
      "The names leapt towards the\n",
      "sky, the blaze spread wildly in all directions till the villagers came clustering \n",
      "around this mountain of fire.\n",
      "Hopelessly, Bhungi stood by her oven\n",
      "watching the conflagration.\n",
      "Suddenly, with a violent dash, she hurled herself\n",
      "into the names.\n",
      "They came running from everywhere but no one had the\n",
      "courage to go into the mouth of the blaze.\n",
      "In a matter of seconds her\n",
      "withered body was completely consumed.\n",
      "At that moment the wind rose with a gust.\n",
      "The liberated flames began to\n",
      "race toward the east.\n",
      "There were some peasants' huts near the oven which\n",
      "were engulfed by the fierce flames.\n",
      "Fed in this way, the blaze spread even\n",
      "further.\n",
      "Panditji's barn was in its path and it pounced upon it.\n",
      "By now the\n",
      "whole village was in a panic.\n",
      "They began to band together to put out the fire\n",
      "but the sprinkle of water acted like oil on it and the flames kept mounting\n",
      "higher.\n",
      "Pandit Udaybhan's splendid mansion was swallowed up; while he\n",
      "watched, it tossed like a ship amid wild waves and disappeared in the sea of\n",
      "fire.\n",
      "The sound of lamentation that broke out amidst the ashes was even\n",
      "more pitiful than Bhungi's grievous cries.\n"
     ]
    }
   ],
   "source": [
    "#Printing the list of statements.\n",
    "for i in sentences_list:\n",
    "    print(i)"
   ]
  },
  {
   "cell_type": "code",
   "execution_count": 12,
   "id": "a22229a7-5ab9-43dc-a7db-0be9d6e6d254",
   "metadata": {},
   "outputs": [],
   "source": [
    "##The code below utilizes the fit_transform method from the CountVectorizer() class to convert a collection of text documents into a matrix of \n",
    "##token counts. It learns the vocabulary dictionary and returns a term-document matrix named cv_matrix.\n",
    "\n",
    "cv = CountVectorizer()\n",
    "cv_matrix = cv.fit_transform(sentences_list)"
   ]
  },
  {
   "cell_type": "markdown",
   "id": "ccaa566f-4c5e-409f-8348-f9059590e0af",
   "metadata": {},
   "source": [
    "## So what does CountVectorizer.fit_transform() do?\n",
    "The fit_transform method from the CountVectorizer() class processes a collection of text documents, learning the vocabulary and generating a term-document matrix. In the provided demonstration, it creates a 2-dimensional matrix representing the frequency of each word in the document corpus. Additionally, the method get_feature_names() retrieves the list of words used as features in the matrix."
   ]
  },
  {
   "cell_type": "code",
   "execution_count": 13,
   "id": "ac0e43ea-382c-4ee5-96e7-028c80081300",
   "metadata": {},
   "outputs": [],
   "source": [
    "cv_demo = CountVectorizer() "
   ]
  },
  {
   "cell_type": "code",
   "execution_count": 14,
   "id": "7e723382-4122-4d8a-9a48-7bb37e5ed513",
   "metadata": {},
   "outputs": [],
   "source": [
    "#The code utilizes the fit_transform() method from the CountVectorizer class to convert a list of text documents into a matrix of token counts. \n",
    "#It demonstrates the process of learning the vocabulary from the input text documents and transforming them into a document-term matrix,\n",
    "#which represents the frequency of each word in the documents."
   ]
  },
  {
   "cell_type": "code",
   "execution_count": 15,
   "id": "0ff5ac33-f333-448c-9fef-e980c9077d4b",
   "metadata": {},
   "outputs": [
    {
     "name": "stdout",
     "output_type": "stream",
     "text": [
      "Result demo array is [[0 1 1 1 1 1 0 1]\n",
      " [1 0 0 1 0 0 1 0]]\n"
     ]
    }
   ],
   "source": [
    "text_demo = [\"Ashish is good, you are bad\", \"I am not bad\"] \n",
    "res_demo = cv_demo.fit_transform(text_demo)\n",
    "print('Result demo array is {}'.format(res_demo.toarray()))"
   ]
  },
  {
   "cell_type": "code",
   "execution_count": 16,
   "id": "3c0d449b-98f9-424d-9fd9-08a3c1131326",
   "metadata": {},
   "outputs": [],
   "source": [
    "# The below lines provides information about a bag-of-words (BoW) matrix cv_matrix. It prints details such as the data type, shape, size in bytes,\n",
    "# and the dense representation of the matrix. These details help in understanding the characteristics and content of the BoW matrix."
   ]
  },
  {
   "cell_type": "code",
   "execution_count": 17,
   "id": "a3c4e165-4108-43d9-978a-8496330cc2c5",
   "metadata": {},
   "outputs": [
    {
     "name": "stdout",
     "output_type": "stream",
     "text": [
      "The data type of bow matrix <class 'scipy.sparse._csr.csr_matrix'>\n",
      "Shape of the matrix <bound method spmatrix.get_shape of <101x492 sparse matrix of type '<class 'numpy.int64'>'\n",
      "\twith 1223 stored elements in Compressed Sparse Row format>>\n",
      "Size of the matrix is: 56\n",
      "[[0 0 0 ... 0 0 0]\n",
      " [0 0 0 ... 0 0 0]\n",
      " [0 0 0 ... 0 0 0]\n",
      " ...\n",
      " [0 0 1 ... 0 0 0]\n",
      " [0 0 0 ... 0 0 0]\n",
      " [0 0 0 ... 0 0 0]]\n"
     ]
    }
   ],
   "source": [
    "print('The data type of bow matrix {}'.format(type(cv_matrix)))\n",
    "print('Shape of the matrix {}'.format(cv_matrix.get_shape))\n",
    "print('Size of the matrix is: {}'.format(sys.getsizeof(cv_matrix)))\n",
    "print(cv_matrix.toarray())"
   ]
  },
  {
   "cell_type": "code",
   "execution_count": 18,
   "id": "1386e177-3012-4222-bc11-cc99a64b0bb9",
   "metadata": {},
   "outputs": [],
   "source": [
    "# This code prints various details about the bag-of-words (BoW) matrix cv_matrix. \n",
    "#It includes information about its data type, shape, size in bytes, and its dense representation. \n",
    "#These details provide insights into the characteristics and content of the BoW matrix, aiding in its understanding and analysis."
   ]
  },
  {
   "cell_type": "code",
   "execution_count": 19,
   "id": "80b1f16c-629e-417c-b452-6551932219e6",
   "metadata": {},
   "outputs": [
    {
     "name": "stdout",
     "output_type": "stream",
     "text": [
      "[[0.         0.         0.         ... 0.         0.         0.        ]\n",
      " [0.         0.         0.         ... 0.         0.         0.        ]\n",
      " [0.         0.         0.         ... 0.         0.         0.        ]\n",
      " ...\n",
      " [0.         0.         0.24450772 ... 0.         0.         0.        ]\n",
      " [0.         0.         0.         ... 0.         0.         0.        ]\n",
      " [0.         0.         0.         ... 0.         0.         0.        ]]\n"
     ]
    }
   ],
   "source": [
    "normal_matrix = TfidfTransformer().fit_transform(cv_matrix)\n",
    "print(normal_matrix.toarray())"
   ]
  },
  {
   "cell_type": "code",
   "execution_count": 20,
   "id": "796941b8-2105-4d9d-9e3d-79cda1cdb0bb",
   "metadata": {},
   "outputs": [],
   "source": [
    "# This code applies the term frequency-inverse document frequency (TF-IDF) transformation to the bag-of-words (BoW) matrix cv_matrix. \n",
    "# The TF-IDF transformation weights the term frequencies in the matrix based on their importance in the corpus.\n",
    "# The resulting matrix, normal_matrix, contains TF-IDF values for each term-document pair and is printed in its dense array representation."
   ]
  },
  {
   "cell_type": "code",
   "execution_count": 21,
   "id": "dbcaa263-98d7-446e-8315-23793b11149a",
   "metadata": {},
   "outputs": [],
   "source": [
    "# The code computes the TF-IDF (Term Frequency-Inverse Document Frequency) values for the bag-of-words matrix cv_matrix using the \n",
    "# TfidfTransformer class. It then prints the dense array representation of the TF-IDF matrix."
   ]
  },
  {
   "cell_type": "code",
   "execution_count": 22,
   "id": "e3a31226-2c56-441c-90ea-0053acf027fc",
   "metadata": {},
   "outputs": [
    {
     "name": "stdout",
     "output_type": "stream",
     "text": [
      "<bound method _cs_matrix.toarray of <492x101 sparse matrix of type '<class 'numpy.float64'>'\n",
      "\twith 1223 stored elements in Compressed Sparse Column format>>\n"
     ]
    }
   ],
   "source": [
    "print(normal_matrix.T.toarray)\n",
    "res_graph = normal_matrix * normal_matrix.T"
   ]
  },
  {
   "cell_type": "code",
   "execution_count": 23,
   "id": "6c58bb4e-6c6d-4891-bc7d-6aa567d0de8f",
   "metadata": {},
   "outputs": [],
   "source": [
    "# It creates a NetworkX graph nx_graph from the sparse matrix res_graph. \n",
    "# It iterates through the non-zero elements of res_graph using sp.find(), then adds edges to the graph with corresponding weights. \n",
    "# After drawing the circular layout of the graph using NetworkX's draw_circular function, it prints the number of edges and vertices in the graph and\n",
    "# displays the graph plot. Finally, it prints the memory usage of the graph."
   ]
  },
  {
   "cell_type": "code",
   "execution_count": 24,
   "id": "897048ee-fb92-4f06-8363-e58f96a7b196",
   "metadata": {},
   "outputs": [
    {
     "name": "stdout",
     "output_type": "stream",
     "text": [
      "Number of edges: 3319\n",
      "Number of vertices: 101\n"
     ]
    },
    {
     "data": {
      "image/png": "[encoded data removed]",
      "text/plain": [
       "<Figure size 640x480 with 1 Axes>"
      ]
     },
     "metadata": {},
     "output_type": "display_data"
    },
    {
     "name": "stdout",
     "output_type": "stream",
     "text": [
      "Memory used by the graph (in bytes): 56\n"
     ]
    }
   ],
   "source": [
    "import scipy.sparse as sp\n",
    "\n",
    "nx_graph = nx.Graph()\n",
    "for i, j, data in zip(*sp.find(res_graph)):\n",
    "    nx_graph.add_edge(i, j, weight=data)\n",
    "\n",
    "nx.draw_circular(nx_graph)\n",
    "print('Number of edges:', nx_graph.number_of_edges())\n",
    "print('Number of vertices:', nx_graph.number_of_nodes())\n",
    "plt.show()\n",
    "print('Memory used by the graph (in bytes):', sys.getsizeof(nx_graph))"
   ]
  },
  {
   "cell_type": "code",
   "execution_count": 25,
   "id": "ee47d5f5-50f4-46e1-bb3e-c603cb297689",
   "metadata": {},
   "outputs": [],
   "source": [
    "# The code below calculates the PageRank centrality measure for nodes in a network represented by a graph using the networkx library. \n",
    "# It begins by computing the PageRank scores for each node in the graph using the nx.pagerank() function, which returns a dictionary where keys \n",
    "# represent nodes and values represent their corresponding PageRank scores. The code then prints the data type of the ranks variable (which should be\n",
    "# a dictionary) and the size of the ranks dictionary in bytes to provide insight into memory usage. Finally, it iterates over the dictionary and prints \n",
    "# each node along with its associated PageRank score. Overall, this code demonstrates how to utilize PageRank centrality in network analysis and \n",
    "# provides insights into the computation process and results."
   ]
  },
  {
   "cell_type": "code",
   "execution_count": 26,
   "id": "7247c6fb-a499-4d05-9a75-77f080c85b8d",
   "metadata": {},
   "outputs": [
    {
     "name": "stdout",
     "output_type": "stream",
     "text": [
      "<class 'dict'>\n",
      "The size used by the dictionary in Bytes is: 4688\n",
      "0 0.008473050396994237\n",
      "1 0.011136728928068601\n",
      "3 0.010305311473077002\n",
      "5 0.011453806553948452\n",
      "6 0.011956616615231175\n",
      "7 0.01300758229778191\n",
      "8 0.01646287839865644\n",
      "9 0.011870375394732308\n",
      "10 0.012805637163062406\n",
      "11 0.012625721662310345\n",
      "12 0.010081809427917861\n",
      "13 0.012615817098175835\n",
      "14 0.009951004198363806\n",
      "15 0.01231286689821747\n",
      "16 0.009055631543515864\n",
      "17 0.007114339155021146\n",
      "19 0.011078547313517734\n",
      "21 0.012780859072392965\n",
      "22 0.012641302785309184\n",
      "23 0.009348558444248856\n",
      "25 0.013720926664709487\n",
      "26 0.009675233532910608\n",
      "27 0.013901992235429548\n",
      "30 0.010128784557098496\n",
      "31 0.010061180193377262\n",
      "36 0.005865449854506728\n",
      "37 0.010850655936218322\n",
      "39 0.011316273575827004\n",
      "43 0.006931016241031086\n",
      "44 0.01547120893176629\n",
      "46 0.008470468718021342\n",
      "48 0.0093073042422185\n",
      "49 0.013422349587962503\n",
      "51 0.010972977593541674\n",
      "53 0.008382997267176078\n",
      "54 0.010529607891291107\n",
      "55 0.013880667512490884\n",
      "57 0.006784615529807722\n",
      "61 0.010300210131439292\n",
      "64 0.007033608471842125\n",
      "65 0.014620307759349067\n",
      "66 0.010952275488776595\n",
      "67 0.010544285648427241\n",
      "68 0.010429795820400782\n",
      "70 0.01052596936395691\n",
      "71 0.008928640660743125\n",
      "74 0.014936237724528281\n",
      "76 0.01283079486351997\n",
      "77 0.009853549019121232\n",
      "79 0.00761018082820169\n",
      "80 0.008306177787750087\n",
      "81 0.010575200346765661\n",
      "85 0.013144181304936978\n",
      "86 0.007410276777927928\n",
      "87 0.01091971481047956\n",
      "90 0.011678174623675307\n",
      "91 0.008559039093945653\n",
      "93 0.008754682443611122\n",
      "94 0.007575234843209655\n",
      "95 0.008323733804457837\n",
      "96 0.009463817503427965\n",
      "97 0.013055845277031972\n",
      "98 0.012555442089009532\n",
      "99 0.010079441906251044\n",
      "2 0.009383758113199745\n",
      "4 0.011387878003998004\n",
      "18 0.006747114017027333\n",
      "20 0.01016676960800189\n",
      "24 0.010022831759849006\n",
      "28 0.009475796944343166\n",
      "29 0.008121737705990756\n",
      "32 0.007628895359126891\n",
      "34 0.009607446148227932\n",
      "35 0.008321167851894655\n",
      "38 0.01016989679015465\n",
      "40 0.012806608183832115\n",
      "41 0.008721584132312048\n",
      "42 0.010471498183578102\n",
      "45 0.006769574754561524\n",
      "50 0.008003773071767152\n",
      "56 0.012126702206111423\n",
      "59 0.008586642640796938\n",
      "69 0.0095418617321447\n",
      "88 0.009071467904553753\n",
      "89 0.00732432311428914\n",
      "100 0.00969549184248796\n",
      "33 0.008648669935446916\n",
      "47 0.007920488123990667\n",
      "63 0.011431342109109786\n",
      "62 0.007498144929122571\n",
      "84 0.00877071630720654\n",
      "92 0.007144824222961523\n",
      "60 0.00890714462801494\n",
      "72 0.006048548423719142\n",
      "73 0.007978918360190731\n",
      "52 0.005638736527026145\n",
      "75 0.0057851131761969855\n",
      "83 0.00653332693793044\n",
      "78 0.005429708840559132\n",
      "58 0.00608960142922382\n",
      "82 0.006302922702336774\n"
     ]
    }
   ],
   "source": [
    "ranks = nx.pagerank(nx_graph)\n",
    "\n",
    "print(type(ranks))\n",
    "print('The size used by the dictionary in Bytes is: {}'.format(sys.getsizeof(ranks)))\n",
    "\n",
    "for i in ranks:\n",
    "    print(i, ranks[i])"
   ]
  },
  {
   "cell_type": "code",
   "execution_count": 27,
   "id": "58e71047-9325-4754-a82f-280efb8c3570",
   "metadata": {},
   "outputs": [],
   "source": [
    "# It sorts a list of sentences based on their PageRank scores, which are calculated using the PageRank centrality measure for nodes in a graph. \n",
    "# It first creates a list of tuples where each tuple contains a sentence's PageRank score and the corresponding sentence from the original list. \n",
    "# The tuples are sorted in descending order based on the PageRank scores. Finally, the sorted list of tuples is converted into a NumPy array for \n",
    "# potential further analysis or manipulation. Overall, this code enables the ranking of sentences according to their importance within a text document,\n",
    "# as determined by their respective PageRank scores."
   ]
  },
  {
   "cell_type": "code",
   "execution_count": 28,
   "id": "4e92b2ab-502b-4f4a-a680-28560bd160cf",
   "metadata": {},
   "outputs": [],
   "source": [
    "sentence_array = sorted(((ranks[i], s) for i, s in enumerate(sentences_list)), reverse=True)\n",
    "sentence_array = np.asarray(sentence_array)"
   ]
  },
  {
   "cell_type": "code",
   "execution_count": 29,
   "id": "d18dd35d-dfe1-4023-85d7-377ecada9a3d",
   "metadata": {},
   "outputs": [],
   "source": [
    "rank_max = float(sentence_array[0][0])\n",
    "rank_min = float(sentence_array[len(sentence_array) - 1][0])"
   ]
  },
  {
   "cell_type": "code",
   "execution_count": 30,
   "id": "0288b68c-0fb0-4d85-b48e-84ce7e560659",
   "metadata": {},
   "outputs": [
    {
     "name": "stdout",
     "output_type": "stream",
     "text": [
      "101\n"
     ]
    }
   ],
   "source": [
    "# if all sentences have equal ranks, means they are all the same\n",
    "# taking any sentence will give the summary, say the first sentence\n",
    "\n",
    "temp_array = []\n",
    "flag = 0\n",
    "if rank_max - rank_min == 0:\n",
    "    temp_array.append(0)\n",
    "    flag = 1\n",
    "\n",
    "# If the sentence has different ranks\n",
    "if flag != 1:\n",
    "    for i in range(0, len(sentence_array)):\n",
    "        temp_array.append((float(sentence_array[i][0]) - rank_min) / (rank_max - rank_min))\n",
    "\n",
    "print(len(temp_array))"
   ]
  },
  {
   "cell_type": "code",
   "execution_count": 31,
   "id": "0fef0c77-3549-4b35-8f38-a20eae1b7bd7",
   "metadata": {},
   "outputs": [],
   "source": [
    "threshold = (sum(temp_array) / len(temp_array)) + 0.2"
   ]
  },
  {
   "cell_type": "code",
   "execution_count": 32,
   "id": "51183390-8cf2-4c17-9e14-53c4cf6d39ab",
   "metadata": {},
   "outputs": [],
   "source": [
    "sentence_list = []\n",
    "if len(temp_array) > 1:\n",
    "    for i in range(0, len(temp_array)):\n",
    "        if temp_array[i] > threshold:\n",
    "                sentence_list.append(sentence_array[i][1])\n",
    "else:\n",
    "    sentence_list.append(sentence_array[0][1])"
   ]
  },
  {
   "cell_type": "code",
   "execution_count": 33,
   "id": "ad765963-7dc9-439b-aaab-723e8a6fe0ec",
   "metadata": {},
   "outputs": [],
   "source": [
    "model = sentence_list"
   ]
  },
  {
   "cell_type": "code",
   "execution_count": 34,
   "id": "5067a697-d40a-42a2-b0a7-3ea33894b275",
   "metadata": {},
   "outputs": [],
   "source": [
    "## Printing all the list of statements after summarising it."
   ]
  },
  {
   "cell_type": "code",
   "execution_count": 35,
   "id": "0869f4e3-ba58-40f6-b3e8-1a97a95dd8d8",
   "metadata": {},
   "outputs": [
    {
     "name": "stdout",
     "output_type": "stream",
     "text": [
      "But on the days when she had to parch grain for Pandit\n",
      "Udaybhan Pandey, the owner of the village, she went to bed hungry.\n",
      "People went to Panditji and asked him to\n",
      "give the order for the old woman's oven to be rebuilt and the fire once more\n",
      "lighted, but he paid no attention to them.\n",
      "'If you’re going to stay in the village you'll have to do my chores.\n",
      "He kicked at the trough again but she ran in front of it\n",
      "and took the kick in her side.\n",
      "She had to\n",
      "keep stopping from the parching in order to keep the oven fire going.\n",
      "Bhungi was energetically rebuilding it with balls of clay Most\n",
      "likely she'd spent the night at this work and wanted to finish it before the sun\n",
      "was high.\n",
      "With this command the servants went away and Bhungi began to parch the\n",
      "grain.\n",
      "Here she had\n",
      "known the sorrows and pleasures of life; she could not give it up now in the\n",
      "last days.\n",
      "‘To his attendants he said, 'Go get a pile of leaves right\n",
      "away and set fire to the whole thing; we'll show her how to make an oven.\n",
      "By now the\n",
      "whole village was in a panic.\n",
      "She would stack the leaves right next to the oven, and after\n",
      "twelve, light the fire.\n",
      "I can't do your work just for the\n",
      "sake of staying in the village.\n",
      "The result was that that night the oven was dug up and Bhungi was left\n",
      "without a means of livelihood.\n",
      "And, for this reason, from time to time the oven\n",
      "was not lit.\n",
      "It was already\n",
      "after twelve and even by sunset, she would not have time to parch so much\n",
      "grain.\n",
      "Now she would have to stay at the oven parching until after dark for\n",
      "no payment.\n",
      "She lived in the Pandit's village, therefore he had full authority to\n",
      "make her do any sort of odd job.\n",
      "He was doing her a favour, in fact, by letting her live in the village at all.\n",
      "They began to band together to put out the fire\n",
      "but the sprinkle of water acted like oil on it and the flames kept mounting\n",
      "higher.\n",
      "No fire was lit in the houses Bhungi's oven was being put to good\n",
      "use today.\n",
      "She knew that she was going against the Pandit's wishes, but she\n",
      "hoped that he had forgotten his anger by then.\n"
     ]
    }
   ],
   "source": [
    "for lines in sentence_list:\n",
    "    print(lines)"
   ]
  },
  {
   "cell_type": "markdown",
   "id": "e04c1a05-4d7c-4ac2-9015-18d1a941c5c4",
   "metadata": {},
   "source": [
    "## Summarising the Text with Prompt Engineering:"
   ]
  },
  {
   "cell_type": "markdown",
   "id": "3a232708-e8d1-4bfc-abcf-5ba060b69cab",
   "metadata": {},
   "source": [
    "## Prompt Engineering in Text\n",
    "\n",
    "Prompt engineering in text refers to the deliberate crafting of input prompts to achieve specific outcomes or behaviors from natural language processing (NLP) models, such as Generative Pre-trained Transformers (GPT). It involves designing prompts in a way that guides the model to produce desired responses or generate content that aligns with predefined criteria.\n",
    "\n",
    "The process of prompt engineering typically involves several steps:\n",
    "\n",
    "1. **Understanding Model Capabilities**: Before designing prompts, it's essential to understand the capabilities and limitations of the NLP model being used. This includes knowing the types of tasks the model is trained on, its language generation abilities, and any biases or tendencies it may exhibit.\n",
    "\n",
    "2. **Defining Objectives**: Clearly define the objectives or goals you want to achieve with the generated text. This could include tasks such as summarization, translation, sentiment analysis, question-answering, or creative writing.\n",
    "\n",
    "3. **Crafting Prompts**: Based on the objectives, craft prompts that provide the necessary context or cues for the model to generate relevant text. Prompts can include specific instructions, keywords, questions, or constraints that guide the model's output.\n",
    "\n",
    "4. **Iterative Refinement**: Experiment with different prompt variations and observe the model's responses. Iterate on the prompts based on the generated output, refining them to elicit more accurate or desirable responses from the model.\n",
    "\n",
    "5. **Monitoring and Evaluation**: Continuously monitor the model's performance and evaluate the quality of the generated text. Adjust prompts as needed to improve the output quality and achieve the desired results.\n",
    "\n",
    "6. **Ethical Considerations**: Consider ethical implications when designing prompts, such as avoiding biased or harmful language, ensuring fairness and inclusivity, and promoting responsible use of AI-generated content.\n",
    "\n",
    "Prompt engineering can significantly influence the behavior and performance of NLP models, allowing users to tailor the generated text to specific requirements or use cases. It requires careful consideration of the intended objectives, thoughtful design of prompts, and ongoing refinement based on feedback and evaluation.\n"
   ]
  },
  {
   "cell_type": "markdown",
   "id": "5e1d3412-5772-4de0-8413-d7e4c8fa2f4b",
   "metadata": {},
   "source": [
    "![Prompt Engineering: A Practical Example](https://realpython.com/cdn-cgi/image/width=960,format=auto/https://files.realpython.com/media/Prompt-Engineering-A-Practical-Example_Watermarked.7106fe3647aa.jpg)\n"
   ]
  },
  {
   "cell_type": "markdown",
   "id": "3e9c6845-c326-47b1-995a-27a2279e7264",
   "metadata": {},
   "source": [
    "This image appears to be a guide on using prompts with a large language model, likely explaining various prompting techniques such as zero-shot and few-shot prompting.\n",
    "\n",
    "### Main Sections:\n",
    "- **SETTINGS**\n",
    "- **PROMPTS**\n",
    "\n",
    "#### Under SETTINGS:\n",
    "- **ZERO-SHOT and PROMPTING**\n",
    "- **FEW-SHOT and PROMPTING**\n",
    "  - PROMPT HERE (Under ZERO-SHOT PROMPTING)\n",
    "  - Three Sections:\n",
    "    1. PROMPT HERE\n",
    "    2. CHAT COMPLETION\n",
    "    3. Real Python\n",
    "  - 500 (Below FEW-SHOT PROMPTING)\n",
    "\n",
    "#### Last Section:\n",
    "- INCREASED SPECIFICITY"
   ]
  },
  {
   "cell_type": "markdown",
   "id": "de657c52-0ea9-4aec-8bb8-f59404f382d1",
   "metadata": {},
   "source": [
    "## Libraries Used in the Code\n",
    "\n",
    "### `datasets`\n",
    "The `datasets` library is used to load datasets for natural language processing tasks. It provides easy access to a wide range of datasets commonly used in NLP research and development. With `datasets`, users can download, preprocess, and access datasets with minimal effort, streamlining the data preparation process for NLP projects.\n",
    "\n",
    "### `transformers`\n",
    "The `transformers` library is a powerful toolkit developed by Hugging Face for working with pre-trained models in natural language processing. It offers various functionalities, including model architectures, tokenizers, and utilities for fine-tuning, evaluation, and generation tasks. `transformers` supports a wide range of models, including both traditional and state-of-the-art deep learning models, making it a versatile tool for NLP practitioners.\n",
    "\n",
    "### `AutoModelForSeq2SeqLM`\n",
    "`AutoModelForSeq2SeqLM` is a class provided by the `transformers` library specifically designed for sequence-to-sequence (seq2seq) tasks. It allows users to automatically load a pre-trained seq2seq model based on a given model identifier, simplifying the process of model selection and initialization. Seq2seq models are commonly used for tasks such as machine translation, text summarization, and conversational agents.\n",
    "\n",
    "### `AutoTokenizer`\n",
    "`AutoTokenizer` is another class provided by the `transformers` library, which is used for tokenization tasks. It automatically selects and initializes an appropriate tokenizer based on a given model identifier. Tokenizers are essential for processing raw text input into tokenized sequences suitable for model input, and `AutoTokenizer` streamlines the process by automatically choosing the appropriate tokenizer for the selected model architecture.\n",
    "\n",
    "### `GenerationConfig`\n",
    "`GenerationConfig` is a class used to configure model generation settings in the context of text generation tasks. It allows users to customize various aspects of the generation process, such as beam search parameters, maximum length constraints, and temperature settings. By providing fine-grained control over generation parameters, `GenerationConfig` enables users to tailor the text generation process according to their specific requirements and preferences.\n"
   ]
  },
  {
   "cell_type": "code",
   "execution_count": 36,
   "id": "8966c9fb-7350-4784-b823-5b44e3bdccd2",
   "metadata": {},
   "outputs": [],
   "source": [
    "from datasets import load_dataset\n",
    "from transformers import AutoModelForSeq2SeqLM\n",
    "from transformers import AutoTokenizer\n",
    "from transformers import GenerationConfig"
   ]
  },
  {
   "cell_type": "code",
   "execution_count": 37,
   "id": "02d9236e-168b-4863-a0bb-950365e10ebf",
   "metadata": {},
   "outputs": [],
   "source": [
    "model_name='google/flan-t5-base'\n",
    "\n",
    "model = AutoModelForSeq2SeqLM.from_pretrained(model_name)"
   ]
  },
  {
   "cell_type": "code",
   "execution_count": 38,
   "id": "03a77ec6-7fcd-4636-b4d1-755a9afe4b30",
   "metadata": {},
   "outputs": [],
   "source": [
    "#Tokenise the dataset\n",
    "tokenizer = AutoTokenizer.from_pretrained(model_name, use_fast=True)"
   ]
  },
  {
   "cell_type": "code",
   "execution_count": 39,
   "id": "71ef85fd-5334-4f88-a2fc-0385e7c9552a",
   "metadata": {
    "scrolled": true
   },
   "outputs": [
    {
     "name": "stdout",
     "output_type": "stream",
     "text": [
      "Generated summary: Pandit Udaybhan Pandey.\n"
     ]
    }
   ],
   "source": [
    "tokens = tokenizer(document, return_tensors=\"pt\", max_length=512, truncation=True)\n",
    "\n",
    "# Generate output using the model\n",
    "output = model.generate(tokens.input_ids, max_length=100, num_beams=4, early_stopping=True)\n",
    "\n",
    "# Decode the output tokens into text\n",
    "summary = tokenizer.decode(output[0], skip_special_tokens=True)\n",
    "\n",
    "print(\"Generated summary:\", summary)"
   ]
  },
  {
   "cell_type": "markdown",
   "id": "8ba548bb-0603-4338-828c-6d695737fe45",
   "metadata": {},
   "source": [
    "## Summarisng the text using Generative AI with the the help of transformer with the help of pipelines."
   ]
  },
  {
   "cell_type": "markdown",
   "id": "bdc06ef9-579c-4770-911a-0a7d3f1831bd",
   "metadata": {},
   "source": [
    "## What Transformers Library Does:\n",
    "\n",
    "The transformers library, developed by Hugging Face, is a powerful tool for working with state-of-the-art natural language processing (NLP) models, including Transformer-based architectures like BERT (Bidirectional Encoder Representations from Transformers), GPT (Generative Pre-trained Transformer), and many others. This library provides easy access to pre-trained models, fine-tuning capabilities, and utilities for tasks such as text classification, summarization, translation, question answering, and more.\n",
    "\n",
    "1. **Access Pre-trained Models**: The transformers library allows users to load and use pre-trained NLP models developed by the research community, including models like BERT, GPT, RoBERTa, and T5, among others.\n",
    "\n",
    "2. **Fine-tuning**: Users can fine-tune pre-trained models on custom datasets for specific tasks, such as sentiment analysis, named entity recognition, or text generation, by leveraging transfer learning.\n",
    "\n",
    "3. **Pipeline APIs**: The library provides high-level Pipeline APIs for common NLP tasks, simplifying the process of using pre-trained models for tasks like text generation, text summarization, translation, and more.\n",
    "\n",
    "4. **Model Architectures**: It offers implementations of various Transformer-based architectures, along with utilities for model configuration, tokenization, and inference.\n",
    "\n",
    "5. **Model Hub**: The Hugging Face Model Hub hosts a vast collection of pre-trained models contributed by the community, making it easy to discover and use models for different tasks and languages.\n",
    "\n",
    "## Mathematics Behind Transformers:\n",
    "\n",
    "Transformers, introduced in the \"Attention is All You Need\" paper by Vaswani et al., are a type of neural network architecture specifically designed for sequence-to-sequence tasks in NLP. They rely heavily on the concept of attention mechanisms, which allow the model to weigh the importance of different input tokens when generating outputs.\n",
    "\n",
    "The key components of a Transformer architecture include:\n",
    "\n",
    "- **Self-Attention Mechanism**: This mechanism enables the model to capture dependencies between different tokens in the input sequence. It computes attention scores for each pair of tokens, indicating how much attention should be paid to each token during processing.\n",
    "\n",
    "- **Multi-Head Attention**: To capture different types of information and relationships, self-attention is typically computed across multiple \"heads\" or parallel attention mechanisms.\n",
    "\n",
    "- **Positional Encoding**: Since Transformers don't have built-in positional information like recurrent neural networks (RNNs), positional encoding vectors are added to the input embeddings to convey the position of tokens in the sequence.\n",
    "\n",
    "- **Feedforward Neural Networks**: Transformers include feedforward neural networks that process the outputs of the attention mechanism and generate final representations for each token in the sequence.\n",
    "\n",
    "- **Layer Normalization and Residual Connections**: These techniques help stabilize training and improve gradient flow by normalizing the activations and adding skip connections around each sub-layer in the Transformer block.\n",
    "\n",
    "## Pipelines in Transformers Library:\n",
    "\n",
    "Pipelines in the transformers library are high-level APIs designed to simplify common NLP tasks by abstracting away the complexities of model loading, tokenization, and inference. Each pipeline encapsulates a specific NLP task and provides a simple interface for performing that task using pre-trained models.\n",
    "\n",
    "For example:\n",
    "\n",
    "- **Text Generation Pipeline**: Generates text based on a given prompt or context. It uses models like GPT-2 or GPT-3 to generate coherent and contextually relevant text.\n",
    "\n",
    "- **Text Summarization Pipeline**: Summarizes a piece of text by generating a concise summary that captures the main points. It typically uses models like BART or T5 for summarization.\n",
    "\n",
    "- **Translation Pipeline**: Translates text from one language to another. It leverages models like MarianMT or mBART for multilingual translation.\n",
    "\n",
    "- **Named Entity Recognition Pipeline**: Identifies and categorizes named entities (e.g., person names, organization names, locations) in a given text. It uses models like BERT or RoBERTa for NER tasks.\n",
    "\n",
    "These pipelines handle all the necessary preprocessing, model inference, and postprocessing steps internally, allowing users to focus on their specific task without worrying about the underlying implementation details of the model.\n"
   ]
  },
  {
   "cell_type": "code",
   "execution_count": 40,
   "id": "9fafd14f-cd3f-4881-91ec-ecdea20c733a",
   "metadata": {},
   "outputs": [
    {
     "name": "stdout",
     "output_type": "stream",
     "text": [
      "Requirement already satisfied: transformers in c:\\users\\vaish\\anaconda3\\lib\\site-packages (4.27.2)\n",
      "Requirement already satisfied: filelock in c:\\users\\vaish\\anaconda3\\lib\\site-packages (from transformers) (3.13.1)\n",
      "Requirement already satisfied: huggingface-hub<1.0,>=0.11.0 in c:\\users\\vaish\\anaconda3\\lib\\site-packages (from transformers) (0.20.3)\n",
      "Requirement already satisfied: numpy>=1.17 in c:\\users\\vaish\\anaconda3\\lib\\site-packages (from transformers) (1.26.4)\n",
      "Requirement already satisfied: packaging>=20.0 in c:\\users\\vaish\\anaconda3\\lib\\site-packages (from transformers) (23.1)\n",
      "Requirement already satisfied: pyyaml>=5.1 in c:\\users\\vaish\\anaconda3\\lib\\site-packages (from transformers) (6.0.1)\n",
      "Requirement already satisfied: regex!=2019.12.17 in c:\\users\\vaish\\anaconda3\\lib\\site-packages (from transformers) (2023.10.3)\n",
      "Requirement already satisfied: requests in c:\\users\\vaish\\anaconda3\\lib\\site-packages (from transformers) (2.31.0)\n",
      "Requirement already satisfied: tokenizers!=0.11.3,<0.14,>=0.11.1 in c:\\users\\vaish\\anaconda3\\lib\\site-packages (from transformers) (0.13.3)\n",
      "Requirement already satisfied: tqdm>=4.27 in c:\\users\\vaish\\anaconda3\\lib\\site-packages (from transformers) (4.65.0)\n",
      "Requirement already satisfied: fsspec>=2023.5.0 in c:\\users\\vaish\\anaconda3\\lib\\site-packages (from huggingface-hub<1.0,>=0.11.0->transformers) (2023.10.0)\n",
      "Requirement already satisfied: typing-extensions>=3.7.4.3 in c:\\users\\vaish\\anaconda3\\lib\\site-packages (from huggingface-hub<1.0,>=0.11.0->transformers) (4.9.0)\n",
      "Requirement already satisfied: colorama in c:\\users\\vaish\\anaconda3\\lib\\site-packages (from tqdm>=4.27->transformers) (0.4.6)\n",
      "Requirement already satisfied: charset-normalizer<4,>=2 in c:\\users\\vaish\\anaconda3\\lib\\site-packages (from requests->transformers) (2.0.4)\n",
      "Requirement already satisfied: idna<4,>=2.5 in c:\\users\\vaish\\anaconda3\\lib\\site-packages (from requests->transformers) (3.4)\n",
      "Requirement already satisfied: urllib3<3,>=1.21.1 in c:\\users\\vaish\\anaconda3\\lib\\site-packages (from requests->transformers) (2.0.7)\n",
      "Requirement already satisfied: certifi>=2017.4.17 in c:\\users\\vaish\\anaconda3\\lib\\site-packages (from requests->transformers) (2024.2.2)\n",
      "Note: you may need to restart the kernel to use updated packages.\n"
     ]
    }
   ],
   "source": [
    "pip install transformers\n"
   ]
  },
  {
   "cell_type": "code",
   "execution_count": 41,
   "id": "1c34341e-6581-4805-afd4-d9d9f63cab45",
   "metadata": {},
   "outputs": [
    {
     "name": "stdout",
     "output_type": "stream",
     "text": [
      "Requirement already satisfied: requests in c:\\users\\vaish\\anaconda3\\lib\\site-packages (2.31.0)\n",
      "Requirement already satisfied: charset-normalizer<4,>=2 in c:\\users\\vaish\\anaconda3\\lib\\site-packages (from requests) (2.0.4)\n",
      "Requirement already satisfied: idna<4,>=2.5 in c:\\users\\vaish\\anaconda3\\lib\\site-packages (from requests) (3.4)\n",
      "Requirement already satisfied: urllib3<3,>=1.21.1 in c:\\users\\vaish\\anaconda3\\lib\\site-packages (from requests) (2.0.7)\n",
      "Requirement already satisfied: certifi>=2017.4.17 in c:\\users\\vaish\\anaconda3\\lib\\site-packages (from requests) (2024.2.2)\n",
      "Note: you may need to restart the kernel to use updated packages.\n"
     ]
    }
   ],
   "source": [
    "pip install requests"
   ]
  },
  {
   "cell_type": "code",
   "execution_count": 42,
   "id": "5f3a4df3-f8dc-4457-b278-2dbdcb06919b",
   "metadata": {},
   "outputs": [],
   "source": [
    "import requests\n",
    "from transformers import pipeline\n",
    "\n",
    "def summarize_text_with_gpt(text):\n",
    "    # Load the GPT model for summarization\n",
    "    summarization_pipeline = pipeline(\"summarization\")\n",
    "\n",
    "    # Split the text into chunks\n",
    "    chunk_size = 800  # Adjust the chunk size as needed\n",
    "    chunks = [text[i:i+chunk_size] for i in range(0, len(text), chunk_size)]\n",
    "\n",
    "    # Generate summaries for each chunk\n",
    "    summaries = []\n",
    "    for chunk in chunks:\n",
    "        summary = summarization_pipeline(chunk, max_length=100, min_length=30, do_sample=False)[0]['summary_text']\n",
    "        summaries.append(summary)\n",
    "\n",
    "    # Concatenate the summaries\n",
    "    final_summary = \" \".join(summaries)\n",
    "\n",
    "    return final_summary\n"
   ]
  },
  {
   "cell_type": "code",
   "execution_count": 43,
   "id": "389bd635-bee8-4fbb-a724-e5f5297cf462",
   "metadata": {},
   "outputs": [
    {
     "name": "stderr",
     "output_type": "stream",
     "text": [
      "No model was supplied, defaulted to sshleifer/distilbart-cnn-12-6 and revision a4f8f3e (https://huggingface.co/sshleifer/distilbart-cnn-12-6).\n",
      "Using a pipeline without specifying a model name and revision in production is not recommended.\n"
     ]
    },
    {
     "name": "stdout",
     "output_type": "stream",
     "text": [
      "Summary:\n",
      " An old, childless woman used to live in a village in Banaras District, India . Her only source of livelihood was a parching oven . She would grind or fry and eat whatever grain she was paid for .  Pandit Udaybhan Pandey had authority to make Bhungi do odd jobs without pay . She also had to fetch water for his house . She lived in the Pandit's village, therefore he had full authority .  Bhungi parched grain from Pandit Udaybhan with the order to parch it right away . She had to keep stopping from the parching in order to keep the oven fire going . She was afraid Panditji's men would be coming .  The oven was dug up and Bhungi was left without a means of livelihood . The villagers suffered a good deal too from the destruction of the oven .  Pandit Udaybhan fell into a rage when he saw the oven being used again . He could not suffer a loss of face . Bhungi was energetically rebuished .  Panditji shouted, 'By whose order?' 'Everybody said I should build it and so I'm building it,' Bhungi said . 'I'll have it smashed again,' he kicked the oven .  'You're not going to build any oven here again.  you ought to fear God. What good does it do you to …ruin me like this! Do you think gold is going to grow out of this small piece of land?' 'If I don't how am I going to be able to eat!' 'I'm not responsible for your belly.' 'I'll do them when I've built my over?. I can't do your work just for the sake of  'Excellent, now you're quoting Scripture!' Pandit Udaybhan said . 'Go get a pile of leaves right now and set fire to the whole thing,' he said .  Panditji's barn was in its path and it pounced upon it . The sound of lamentation that broke out amidst the ashes was even more pitiful than Bhungi's grievous cries .\n"
     ]
    }
   ],
   "source": [
    "def main():\n",
    "    # Read text from the provided URL\n",
    "    url = \"https://raw.githubusercontent.com/Shakunni/Extractive-Text-Summarization/master/story1.txt\"\n",
    "    response = requests.get(url)\n",
    "    text = response.text\n",
    "\n",
    "    # Summarize the text using GPT\n",
    "    summary = summarize_text_with_gpt(text)\n",
    "\n",
    "    # Print the summary\n",
    "    print(\"Summary:\")\n",
    "    print(summary)\n",
    "\n",
    "if __name__ == \"__main__\":\n",
    "    main()\n"
   ]
  },
  {
   "cell_type": "markdown",
   "id": "612fa4d5-4827-4856-ae87-7d44505990d3",
   "metadata": {},
   "source": [
    "## Step 7: Evaluation and Justification\r\n",
    "\n",
    "## Challenges Faced During Text Summarization:\r\n",
    "\r\n",
    "### 1. Semantic Understanding:\r\n",
    "   Text summarization requires deep semantic understanding to distill the essential information from the input text. Challenges arise when the summarization model fails to grasp the nuances of language, leading to inaccurate or incomplete summaries.\r\n",
    "\r\n",
    "### 2. Abstractive vs. Extractive Summarization:\r\n",
    "   Choosing between abstractive and extractive summarization approaches presents a challenge. Abstractive methods generate summaries by paraphrasing and synthesizing information, while extractive methods select and recombine existing sentences. Each approach has its strengths and weaknesses, and selecting the most suitable method depends on the specific task requirements.\r\n",
    "\r\n",
    "### 3. Length and Content Balance:\r\n",
    "   Balancing the length and content of the summary poses a challenge. Summaries should be concise yet comprehensive, capturing the key points of the input text without omitting crucial information. Achieving this balance is crucial for producing high-quality summaries that effectively convey the original content.\r\n",
    "\r\n",
    "### 4. Handling Multi-document Summarization:\r\n",
    "   Summarizing multiple documents or articles on the same topic introduces complexities. Combining information from multiple sources while avoiding redundancy and maintaining coherence presents challenges in information fusion and synthesis.\r\n",
    "\r\n",
    "### 5. Evaluation Metrics:\r\n",
    "   Assessing the quality of generated summaries requires robust evaluation metrics. Common metrics like ROUGE (Recall-Oriented Understudy for Gisting Evaluation) measure overlap between the generated summary and reference summaries. However, these metrics may not fully capture the semantic similarity and fluency of the summary, leading to limitations in evaluation accuracy.\r\n",
    "\r\n",
    "### 6. Domain-specific Challenges:\r\n",
    "   Summarization tasks in specific domains, such as scientific literature or legal documents, face domain-specific challenges. Technical jargon, complex sentence structures, and domain-specific terminology require specialized approaches to ensure accurate and informative summaries.\r\n",
    "\r\n",
    "### 7. Handling Ambiguity and Uncertainty:\r\n",
    "   Dealing with ambiguity and uncertainty in the input text poses challenges for summarization models. Ambiguous phrases, contradictory information, and subjective opinions require sophisticated techniques to handle effectively, ensuring that the generated summaries remain cohern or biased narratives.\r\n",
    "\r\n",
    "Addressing these challenges requires ongoing research and development efforts to advance the state-of-the-art in text summarization and improve the effectiveness and reliabilit of summarization models.\r\n"
   ]
  },
  {
   "cell_type": "markdown",
   "id": "c8b9ed77-e1f5-430b-818b-7470724ea0e1",
   "metadata": {},
   "source": [
    "## Conclusion:\n",
    "\n",
    "This project does dialogue summarization using generative AI approaches, providing a flexible and context-aware method. Theoretical underpinnings such as transfer learning and rapid engineering highlight the model's flexibility and task-specific optimization. Code samples show how Count Vectoriz is applied to dialogue summary, showcasing the model's ability to provide insightful summaries from sparse cases."
   ]
  },
  {
   "cell_type": "markdown",
   "id": "8d580fcf-0a22-4124-ac90-55195c30b994",
   "metadata": {},
   "source": [
    "## References:\n",
    "1. [Mastering Prompt Engineering with Generative AI](https://www.kaggle.com/code/marawanxmamdouh/mastering-prompt-engineering-with-generative-ai/notebook#5)\n",
    "2. [Business Agility, Scrum & Generative AI](https://age-of-product.com/business-agility-scrum-generative-ai/)\n",
    "3. Original Paper\n"
   ]
  },
  {
   "cell_type": "markdown",
   "id": "d8a9324b-149c-4785-9da8-e550a53024c4",
   "metadata": {},
   "source": [
    "# MIT License\n",
    "\n",
    "Copyright (c) 2023 Vaishnavi Mantri\n",
    "\n",
    "Permission is hereby granted, free of charge, to any person obtaining a copy of this software and associated documentation files (the \"Software\"), to deal in the Software without restriction, including without limitation the rights to use, copy, modify, merge, publish, distribute, sublicense, and/or sell copies of the Software, and to permit persons to whom the Software is furnished to do so, subject to the following conditions:\n",
    "\n",
    "The above copyright notice and this permission notice shall be included in all copies or substantial portions of the Software.\n",
    "\n",
    "**THE SOFTWARE IS PROVIDED \"AS IS\", WITHOUT WARRANTY OF ANY KIND, EXPRESS OR IMPLIED, INCLUDING BUT NOT LIMITED TO THE WARRANTIES OF MERCHANTABILITY, FITNESS FOR A PARTICULAR PURPOSE AND NONINFRINGEMENT. IN NO EVENT SHALL THE AUTHORS OR COPYRIGHT HOLDERS BE LIABLE FOR ANY CLAIM, DAMAGES OR OTHER LIABILITY, WHETHER IN AN ACTION OF CONTRACT, TORT OR OTHERWISE, ARISING FROM, OUT OF OR IN CONNECTION WITH THE SOFTWARE OR THE USE OR OTHER DEALINGS IN THE SOFTWARE.**\n"
   ]
  }
 ],
 "metadata": {
  "kernelspec": {
   "display_name": "Python 3 (ipykernel)",
   "language": "python",
   "name": "python3"
  },
  "language_info": {
   "codemirror_mode": {
    "name": "ipython",
    "version": 3
   },
   "file_extension": ".py",
   "mimetype": "text/x-python",
   "name": "python",
   "nbconvert_exporter": "python",
   "pygments_lexer": "ipython3",
   "version": "3.11.5"
  }
 },
 "nbformat": 4,
 "nbformat_minor": 5
}
