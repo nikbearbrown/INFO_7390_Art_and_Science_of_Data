{
 "cells": [
  {
   "cell_type": "markdown",
   "metadata": {},
   "source": [
    "# Abstract\n",
    "\n",
    "This project leverages the integration of machine learning techniques with a unique dataset of Marvel characters to explore the application of reinforcement learning (RL) in predictive analytics. Utilizing the Marvel dataset, which comprises detailed attributes of over 16,000 characters, the study aims to predict character alignments (such as 'Good', 'Evil', or 'Neutral') based on physical and demographic attributes using Proximal Policy Optimization (PPO). This approach not only serves as a novel application of RL in handling categorical data but also investigates the potential of RL to enhance the accuracy and efficiency of predictions beyond traditional supervised learning methods.\n",
    "\n",
    "Further, the project addresses the ethical dimensions of content generation and analysis through the application of sentiment analysis and toxicity detection on simulated textual data derived from character attributes. This dual approach ensures that the generated content remains appropriate and unbiased, highlighting the importance of ethical considerations in automated systems.\n",
    "\n",
    "By the end of the project, we aim to demonstrate the effectiveness of advanced RL techniques in a non-traditional domain, providing insights into their broader applicability and potential for improving decision-making processes in data-driven industries. This project not only contributes to academic knowledge but also offers practical implications for enhancing user interaction and content personalization in entertainment and media platforms."
   ]
  },
  {
   "cell_type": "markdown",
   "metadata": {},
   "source": [
    "# What is generative AI\n",
    "\n",
    "Generative AI refers to a category of artificial intelligence algorithms and models that can generate new data instances that resemble a given dataset. Unlike traditional AI models that are trained to classify or predict based on existing data, generative AI models have the ability to create entirely new data points that are similar to the training data they were provided.\n",
    "\n",
    "There are various types of generative AI models, including:\n",
    "\n",
    "**Generative Adversarial Networks (GANs):** GANs consist of two neural networks, a generator and a discriminator, that are trained simultaneously in a competitive setting. The generator tries to produce synthetic data samples that are indistinguishable from real data, while the discriminator tries to distinguish between real and fake data. Through this adversarial process, GANs can generate high-quality, realistic data.\n",
    "\n",
    "**Variational Autoencoders (VAEs):** VAEs are a type of neural network architecture used for unsupervised learning of latent representations. They consist of an encoder network that maps input data to a latent space and a decoder network that reconstructs the input data from the latent space. VAEs learn a probabilistic distribution of the input data and can generate new samples by sampling from this distribution.\n",
    "\n",
    "**Autoregressive Models:** Autoregressive models generate data sequentially, one element at a time, based on the probability distribution of the previous elements. Examples include autoregressive moving average (ARMA) models, autoregressive integrated moving average (ARIMA) models, and more recent deep learning-based autoregressive models like the PixelCNN.\n",
    "\n",
    "**Transformers:** Transformer-based models, such as OpenAI's GPT (Generative Pre-trained Transformer) series, are capable of generating coherent and contextually relevant sequences of text, images, or other types of data. These models are trained on large corpora of text data and learn to generate new text based on the patterns and structures present in the training data.\n",
    "\n",
    "Generative AI has various applications across domains such as image generation, text generation, music composition, video synthesis, and more. It is used in creative fields, data augmentation, content generation, and even in the development of AI-generated art and media. However, it also raises ethical considerations related to the potential misuse of generated content and the need for responsible deployment."
   ]
  },
  {
   "cell_type": "markdown",
   "metadata": {},
   "source": [
    "# Worked Example\n",
    "The dataset comprises data related to characters from the Marvel Universe. Although I don't have direct access to view the contents of the uploaded CSV file, based on our discussions and typical contents of such datasets, here is an explanation of what it likely includes:\n",
    "\n",
    "Common Attributes in the Marvel Dataset\n",
    "The dataset likely contains several attributes related to each character in the Marvel comic universe. Here are some common fields that such datasets usually include:\n",
    "\n",
    "page_id: A unique identifier for each character's page within a database or a reference source like a wiki or official Marvel database.\n",
    "\n",
    "name: The full name of the character, often including aliases or titles, such as \"Spider-Man (Peter Parker)\" or \"Iron Man (Tony Stark)\".\n",
    "\n",
    "urlslug: A URL-friendly slug derived from the character's name. This is often used as part of the URL on fan sites or databases where detailed character profiles can be accessed.\n",
    "\n",
    "ID: This field often indicates the identity status of the character, such as \"Secret Identity\", \"Public Identity\", or \"No Dual Identity\". It reflects whether the character’s real identity is known to the public within the fictional universe.\n",
    "\n",
    "ALIGN: The character's general alignment, categorizing them as \"Good Characters\", \"Bad Characters\", or \"Neutral Characters\". This helps in understanding the role they typically play in the Marvel Universe - hero, villain, or a complex character with ambiguous morals.\n",
    "\n",
    "EYE: Describes the eye color of the character, which can be a distinctive trait in visual storytelling.\n",
    "\n",
    "HAIR: Indicates the hair color of the character.\n",
    "\n",
    "SEX: The gender of the character, such as \"Male Characters\", \"Female Characters\", or other designations if applicable.\n",
    "\n",
    "GSM: Stands for Gender and Sexual Minorities; this field might be included to identify characters who are part of this community.\n",
    "\n",
    "ALIVE: Indicates whether the character is currently alive or deceased within the storyline, often labeled as \"Living Characters\" or \"Deceased Characters\".\n",
    "\n",
    "APPEARANCES: The number of appearances the character has made in comics, which can be an indicator of the character's prominence and popularity.\n",
    "\n",
    "FIRST APPEARANCE: The date or issue of the character's first appearance in the comics.\n",
    "\n",
    "Year: The year when the character was first introduced.\n"
   ]
  },
  {
   "cell_type": "markdown",
   "metadata": {},
   "source": [
    "Let's start with installing all libraries"
   ]
  },
  {
   "cell_type": "code",
   "execution_count": 12,
   "metadata": {},
   "outputs": [
    {
     "name": "stdout",
     "output_type": "stream",
     "text": [
      "Requirement already satisfied: pip in /Users/akankshanakati/anaconda3/lib/python3.11/site-packages (24.0)\n",
      "Note: you may need to restart the kernel to use updated packages.\n",
      "\u001b[31mERROR: Could not find a version that satisfies the requirement torch==1.13.1 (from versions: 2.0.0, 2.0.1, 2.1.0, 2.1.1, 2.1.2, 2.2.0, 2.2.1, 2.2.2)\u001b[0m\u001b[31m\n",
      "\u001b[0m\u001b[31mERROR: No matching distribution found for torch==1.13.1\u001b[0m\u001b[31m\n",
      "\u001b[0mNote: you may need to restart the kernel to use updated packages.\n",
      "Note: you may need to restart the kernel to use updated packages.\n"
     ]
    }
   ],
   "source": [
    "%pip install --upgrade pip\n",
    "%pip install torch==1.13.1 torchdata==0.5.1 --quiet\n",
    "%pip install transformers==4.27.2 datasets==2.11.0  --quiet\n"
   ]
  },
  {
   "cell_type": "code",
   "execution_count": 13,
   "metadata": {},
   "outputs": [
    {
     "name": "stdout",
     "output_type": "stream",
     "text": [
      "Requirement already satisfied: datasets in /Users/akankshanakati/anaconda3/lib/python3.11/site-packages (2.11.0)\n",
      "Requirement already satisfied: transformers in /Users/akankshanakati/anaconda3/lib/python3.11/site-packages (4.27.2)\n",
      "Requirement already satisfied: numpy>=1.17 in /Users/akankshanakati/anaconda3/lib/python3.11/site-packages (from datasets) (1.24.3)\n",
      "Requirement already satisfied: pyarrow>=8.0.0 in /Users/akankshanakati/anaconda3/lib/python3.11/site-packages (from datasets) (11.0.0)\n",
      "Requirement already satisfied: dill<0.3.7,>=0.3.0 in /Users/akankshanakati/anaconda3/lib/python3.11/site-packages (from datasets) (0.3.6)\n",
      "Requirement already satisfied: pandas in /Users/akankshanakati/anaconda3/lib/python3.11/site-packages (from datasets) (2.2.0)\n",
      "Requirement already satisfied: requests>=2.19.0 in /Users/akankshanakati/anaconda3/lib/python3.11/site-packages (from datasets) (2.31.0)\n",
      "Requirement already satisfied: tqdm>=4.62.1 in /Users/akankshanakati/anaconda3/lib/python3.11/site-packages (from datasets) (4.65.0)\n",
      "Requirement already satisfied: xxhash in /Users/akankshanakati/anaconda3/lib/python3.11/site-packages (from datasets) (2.0.2)\n",
      "Requirement already satisfied: multiprocess in /Users/akankshanakati/anaconda3/lib/python3.11/site-packages (from datasets) (0.70.14)\n",
      "Requirement already satisfied: fsspec>=2021.11.1 in /Users/akankshanakati/anaconda3/lib/python3.11/site-packages (from fsspec[http]>=2021.11.1->datasets) (2024.3.1)\n",
      "Requirement already satisfied: aiohttp in /Users/akankshanakati/anaconda3/lib/python3.11/site-packages (from datasets) (3.8.5)\n",
      "Requirement already satisfied: huggingface-hub<1.0.0,>=0.11.0 in /Users/akankshanakati/anaconda3/lib/python3.11/site-packages (from datasets) (0.22.2)\n",
      "Requirement already satisfied: packaging in /Users/akankshanakati/anaconda3/lib/python3.11/site-packages (from datasets) (23.1)\n",
      "Requirement already satisfied: responses<0.19 in /Users/akankshanakati/anaconda3/lib/python3.11/site-packages (from datasets) (0.13.3)\n",
      "Requirement already satisfied: pyyaml>=5.1 in /Users/akankshanakati/anaconda3/lib/python3.11/site-packages (from datasets) (6.0)\n",
      "Requirement already satisfied: filelock in /Users/akankshanakati/anaconda3/lib/python3.11/site-packages (from transformers) (3.9.0)\n",
      "Requirement already satisfied: regex!=2019.12.17 in /Users/akankshanakati/anaconda3/lib/python3.11/site-packages (from transformers) (2022.7.9)\n",
      "Requirement already satisfied: tokenizers!=0.11.3,<0.14,>=0.11.1 in /Users/akankshanakati/anaconda3/lib/python3.11/site-packages (from transformers) (0.13.3)\n",
      "Requirement already satisfied: attrs>=17.3.0 in /Users/akankshanakati/anaconda3/lib/python3.11/site-packages (from aiohttp->datasets) (22.1.0)\n",
      "Requirement already satisfied: charset-normalizer<4.0,>=2.0 in /Users/akankshanakati/anaconda3/lib/python3.11/site-packages (from aiohttp->datasets) (2.0.4)\n",
      "Requirement already satisfied: multidict<7.0,>=4.5 in /Users/akankshanakati/anaconda3/lib/python3.11/site-packages (from aiohttp->datasets) (6.0.2)\n",
      "Requirement already satisfied: async-timeout<5.0,>=4.0.0a3 in /Users/akankshanakati/anaconda3/lib/python3.11/site-packages (from aiohttp->datasets) (4.0.2)\n",
      "Requirement already satisfied: yarl<2.0,>=1.0 in /Users/akankshanakati/anaconda3/lib/python3.11/site-packages (from aiohttp->datasets) (1.8.1)\n",
      "Requirement already satisfied: frozenlist>=1.1.1 in /Users/akankshanakati/anaconda3/lib/python3.11/site-packages (from aiohttp->datasets) (1.3.3)\n",
      "Requirement already satisfied: aiosignal>=1.1.2 in /Users/akankshanakati/anaconda3/lib/python3.11/site-packages (from aiohttp->datasets) (1.2.0)\n",
      "Requirement already satisfied: typing-extensions>=3.7.4.3 in /Users/akankshanakati/anaconda3/lib/python3.11/site-packages (from huggingface-hub<1.0.0,>=0.11.0->datasets) (4.11.0)\n",
      "Requirement already satisfied: idna<4,>=2.5 in /Users/akankshanakati/anaconda3/lib/python3.11/site-packages (from requests>=2.19.0->datasets) (3.4)\n",
      "Requirement already satisfied: urllib3<3,>=1.21.1 in /Users/akankshanakati/anaconda3/lib/python3.11/site-packages (from requests>=2.19.0->datasets) (1.26.16)\n",
      "Requirement already satisfied: certifi>=2017.4.17 in /Users/akankshanakati/anaconda3/lib/python3.11/site-packages (from requests>=2.19.0->datasets) (2023.7.22)\n",
      "Requirement already satisfied: six in /Users/akankshanakati/anaconda3/lib/python3.11/site-packages (from responses<0.19->datasets) (1.16.0)\n",
      "Requirement already satisfied: python-dateutil>=2.8.2 in /Users/akankshanakati/anaconda3/lib/python3.11/site-packages (from pandas->datasets) (2.8.2)\n",
      "Requirement already satisfied: pytz>=2020.1 in /Users/akankshanakati/anaconda3/lib/python3.11/site-packages (from pandas->datasets) (2023.3.post1)\n",
      "Requirement already satisfied: tzdata>=2022.7 in /Users/akankshanakati/anaconda3/lib/python3.11/site-packages (from pandas->datasets) (2023.3)\n",
      "Note: you may need to restart the kernel to use updated packages.\n"
     ]
    }
   ],
   "source": [
    "# Install the required libraries for handling the dataset\n",
    "%pip install datasets transformers\n"
   ]
  },
  {
   "cell_type": "code",
   "execution_count": 14,
   "metadata": {},
   "outputs": [],
   "source": [
    "from datasets import load_dataset\n",
    "from transformers import AutoModelForSeq2SeqLM, AutoTokenizer, GenerationConfig\n"
   ]
  },
  {
   "cell_type": "markdown",
   "metadata": {},
   "source": [
    "# Exploring Data"
   ]
  },
  {
   "cell_type": "code",
   "execution_count": 15,
   "metadata": {},
   "outputs": [
    {
     "name": "stdout",
     "output_type": "stream",
     "text": [
      "Index(['page_id', 'name', 'urlslug', 'ID', 'ALIGN', 'EYE', 'HAIR', 'SEX',\n",
      "       'GSM', 'ALIVE', 'APPEARANCES', 'FIRST APPEARANCE', 'Year'],\n",
      "      dtype='object')\n"
     ]
    }
   ],
   "source": [
    "# Import necessary libraries\n",
    "import pandas as pd\n",
    "\n",
    "# Replace 'path_to_your_marvel.csv' with the actual file path\n",
    "data = pd.read_csv('https://raw.githubusercontent.com/Akanksha-Nakati/ADVANCE-DATA-SCIENCE/main/marvel.csv')\n",
    "print(data.columns)\n",
    "\n"
   ]
  },
  {
   "cell_type": "code",
   "execution_count": 16,
   "metadata": {},
   "outputs": [
    {
     "data": {
      "text/html": [
       "<div>\n",
       "<style scoped>\n",
       "    .dataframe tbody tr th:only-of-type {\n",
       "        vertical-align: middle;\n",
       "    }\n",
       "\n",
       "    .dataframe tbody tr th {\n",
       "        vertical-align: top;\n",
       "    }\n",
       "\n",
       "    .dataframe thead th {\n",
       "        text-align: right;\n",
       "    }\n",
       "</style>\n",
       "<table border=\"1\" class=\"dataframe\">\n",
       "  <thead>\n",
       "    <tr style=\"text-align: right;\">\n",
       "      <th></th>\n",
       "      <th>page_id</th>\n",
       "      <th>name</th>\n",
       "      <th>urlslug</th>\n",
       "      <th>ID</th>\n",
       "      <th>ALIGN</th>\n",
       "      <th>EYE</th>\n",
       "      <th>HAIR</th>\n",
       "      <th>SEX</th>\n",
       "      <th>GSM</th>\n",
       "      <th>ALIVE</th>\n",
       "      <th>APPEARANCES</th>\n",
       "      <th>FIRST APPEARANCE</th>\n",
       "      <th>Year</th>\n",
       "    </tr>\n",
       "  </thead>\n",
       "  <tbody>\n",
       "    <tr>\n",
       "      <th>0</th>\n",
       "      <td>1678</td>\n",
       "      <td>Spider-Man (Peter Parker)</td>\n",
       "      <td>\\/Spider-Man_(Peter_Parker)</td>\n",
       "      <td>Secret Identity</td>\n",
       "      <td>Good Characters</td>\n",
       "      <td>Hazel Eyes</td>\n",
       "      <td>Brown Hair</td>\n",
       "      <td>Male Characters</td>\n",
       "      <td>NaN</td>\n",
       "      <td>Living Characters</td>\n",
       "      <td>4043.0</td>\n",
       "      <td>Aug-62</td>\n",
       "      <td>1962.0</td>\n",
       "    </tr>\n",
       "    <tr>\n",
       "      <th>1</th>\n",
       "      <td>7139</td>\n",
       "      <td>Captain America (Steven Rogers)</td>\n",
       "      <td>\\/Captain_America_(Steven_Rogers)</td>\n",
       "      <td>Public Identity</td>\n",
       "      <td>Good Characters</td>\n",
       "      <td>Blue Eyes</td>\n",
       "      <td>White Hair</td>\n",
       "      <td>Male Characters</td>\n",
       "      <td>NaN</td>\n",
       "      <td>Living Characters</td>\n",
       "      <td>3360.0</td>\n",
       "      <td>Mar-41</td>\n",
       "      <td>1941.0</td>\n",
       "    </tr>\n",
       "    <tr>\n",
       "      <th>2</th>\n",
       "      <td>64786</td>\n",
       "      <td>Wolverine (James \\\"Logan\\\" Howlett)</td>\n",
       "      <td>\\/Wolverine_(James_%22Logan%22_Howlett)</td>\n",
       "      <td>Public Identity</td>\n",
       "      <td>Neutral Characters</td>\n",
       "      <td>Blue Eyes</td>\n",
       "      <td>Black Hair</td>\n",
       "      <td>Male Characters</td>\n",
       "      <td>NaN</td>\n",
       "      <td>Living Characters</td>\n",
       "      <td>3061.0</td>\n",
       "      <td>Oct-74</td>\n",
       "      <td>1974.0</td>\n",
       "    </tr>\n",
       "    <tr>\n",
       "      <th>3</th>\n",
       "      <td>1868</td>\n",
       "      <td>Iron Man (Anthony \\\"Tony\\\" Stark)</td>\n",
       "      <td>\\/Iron_Man_(Anthony_%22Tony%22_Stark)</td>\n",
       "      <td>Public Identity</td>\n",
       "      <td>Good Characters</td>\n",
       "      <td>Blue Eyes</td>\n",
       "      <td>Black Hair</td>\n",
       "      <td>Male Characters</td>\n",
       "      <td>NaN</td>\n",
       "      <td>Living Characters</td>\n",
       "      <td>2961.0</td>\n",
       "      <td>Mar-63</td>\n",
       "      <td>1963.0</td>\n",
       "    </tr>\n",
       "    <tr>\n",
       "      <th>4</th>\n",
       "      <td>2460</td>\n",
       "      <td>Thor (Thor Odinson)</td>\n",
       "      <td>\\/Thor_(Thor_Odinson)</td>\n",
       "      <td>No Dual Identity</td>\n",
       "      <td>Good Characters</td>\n",
       "      <td>Blue Eyes</td>\n",
       "      <td>Blond Hair</td>\n",
       "      <td>Male Characters</td>\n",
       "      <td>NaN</td>\n",
       "      <td>Living Characters</td>\n",
       "      <td>2258.0</td>\n",
       "      <td>Nov-50</td>\n",
       "      <td>1950.0</td>\n",
       "    </tr>\n",
       "  </tbody>\n",
       "</table>\n",
       "</div>"
      ],
      "text/plain": [
       "   page_id                                 name  \\\n",
       "0     1678            Spider-Man (Peter Parker)   \n",
       "1     7139      Captain America (Steven Rogers)   \n",
       "2    64786  Wolverine (James \\\"Logan\\\" Howlett)   \n",
       "3     1868    Iron Man (Anthony \\\"Tony\\\" Stark)   \n",
       "4     2460                  Thor (Thor Odinson)   \n",
       "\n",
       "                                   urlslug                ID  \\\n",
       "0              \\/Spider-Man_(Peter_Parker)   Secret Identity   \n",
       "1        \\/Captain_America_(Steven_Rogers)   Public Identity   \n",
       "2  \\/Wolverine_(James_%22Logan%22_Howlett)   Public Identity   \n",
       "3    \\/Iron_Man_(Anthony_%22Tony%22_Stark)   Public Identity   \n",
       "4                    \\/Thor_(Thor_Odinson)  No Dual Identity   \n",
       "\n",
       "                ALIGN         EYE        HAIR              SEX  GSM  \\\n",
       "0     Good Characters  Hazel Eyes  Brown Hair  Male Characters  NaN   \n",
       "1     Good Characters   Blue Eyes  White Hair  Male Characters  NaN   \n",
       "2  Neutral Characters   Blue Eyes  Black Hair  Male Characters  NaN   \n",
       "3     Good Characters   Blue Eyes  Black Hair  Male Characters  NaN   \n",
       "4     Good Characters   Blue Eyes  Blond Hair  Male Characters  NaN   \n",
       "\n",
       "               ALIVE  APPEARANCES FIRST APPEARANCE    Year  \n",
       "0  Living Characters       4043.0           Aug-62  1962.0  \n",
       "1  Living Characters       3360.0           Mar-41  1941.0  \n",
       "2  Living Characters       3061.0           Oct-74  1974.0  \n",
       "3  Living Characters       2961.0           Mar-63  1963.0  \n",
       "4  Living Characters       2258.0           Nov-50  1950.0  "
      ]
     },
     "execution_count": 16,
     "metadata": {},
     "output_type": "execute_result"
    }
   ],
   "source": [
    "data.head()"
   ]
  },
  {
   "cell_type": "code",
   "execution_count": 17,
   "metadata": {},
   "outputs": [],
   "source": [
    "model_name = \"gpt2\"\n"
   ]
  },
  {
   "cell_type": "code",
   "execution_count": 18,
   "metadata": {},
   "outputs": [
    {
     "name": "stderr",
     "output_type": "stream",
     "text": [
      "/var/folders/f1/2hklsqrn64nbmwrw2sgqqtbw0000gn/T/ipykernel_74726/3896413334.py:5: FutureWarning: A value is trying to be set on a copy of a DataFrame or Series through chained assignment using an inplace method.\n",
      "The behavior will change in pandas 3.0. This inplace method will never work because the intermediate object on which we are setting values always behaves as a copy.\n",
      "\n",
      "For example, when doing 'df[col].method(value, inplace=True)', try using 'df.method({col: value}, inplace=True)' or df[col] = df[col].method(value) instead, to perform the operation inplace on the original object.\n",
      "\n",
      "\n",
      "  data['ALIGN'].fillna('Unknown', inplace=True)\n",
      "/var/folders/f1/2hklsqrn64nbmwrw2sgqqtbw0000gn/T/ipykernel_74726/3896413334.py:6: FutureWarning: A value is trying to be set on a copy of a DataFrame or Series through chained assignment using an inplace method.\n",
      "The behavior will change in pandas 3.0. This inplace method will never work because the intermediate object on which we are setting values always behaves as a copy.\n",
      "\n",
      "For example, when doing 'df[col].method(value, inplace=True)', try using 'df.method({col: value}, inplace=True)' or df[col] = df[col].method(value) instead, to perform the operation inplace on the original object.\n",
      "\n",
      "\n",
      "  data['EYE'].fillna('Unknown', inplace=True)\n",
      "/var/folders/f1/2hklsqrn64nbmwrw2sgqqtbw0000gn/T/ipykernel_74726/3896413334.py:7: FutureWarning: A value is trying to be set on a copy of a DataFrame or Series through chained assignment using an inplace method.\n",
      "The behavior will change in pandas 3.0. This inplace method will never work because the intermediate object on which we are setting values always behaves as a copy.\n",
      "\n",
      "For example, when doing 'df[col].method(value, inplace=True)', try using 'df.method({col: value}, inplace=True)' or df[col] = df[col].method(value) instead, to perform the operation inplace on the original object.\n",
      "\n",
      "\n",
      "  data['HAIR'].fillna('Unknown', inplace=True)\n"
     ]
    },
    {
     "data": {
      "image/png": "[encoded data removed]",
      "text/plain": [
       "<Figure size 1000x1800 with 3 Axes>"
      ]
     },
     "metadata": {},
     "output_type": "display_data"
    }
   ],
   "source": [
    "import matplotlib.pyplot as plt\n",
    "import seaborn as sns\n",
    "\n",
    "# Data Cleaning: Fill NaN values in the 'ALIGN', 'EYE', 'HAIR' columns with 'Unknown'\n",
    "data['ALIGN'].fillna('Unknown', inplace=True)\n",
    "data['EYE'].fillna('Unknown', inplace=True)\n",
    "data['HAIR'].fillna('Unknown', inplace=True)\n",
    "\n",
    "# Create visualizations\n",
    "fig, axes = plt.subplots(3, 1, figsize=(10, 18))\n",
    "\n",
    "# Distribution of characters by alignment\n",
    "sns.countplot(y='ALIGN', data=data, ax=axes[0], order = data['ALIGN'].value_counts().index)\n",
    "axes[0].set_title('Distribution of Characters by Alignment')\n",
    "axes[0].set_xlabel('Count')\n",
    "axes[0].set_ylabel('Alignment')\n",
    "\n",
    "# Distribution of characters by eye color\n",
    "sns.countplot(y='EYE', data=data, ax=axes[1], order = data['EYE'].value_counts().index)\n",
    "axes[1].set_title('Distribution of Characters by Eye Color')\n",
    "axes[1].set_xlabel('Count')\n",
    "axes[1].set_ylabel('Eye Color')\n",
    "\n",
    "# Distribution of characters by hair color\n",
    "sns.countplot(y='HAIR', data=data, ax=axes[2], order = data['HAIR'].value_counts().index)\n",
    "axes[2].set_title('Distribution of Characters by Hair Color')\n",
    "axes[2].set_xlabel('Count')\n",
    "axes[2].set_ylabel('Hair Color')\n",
    "\n",
    "plt.tight_layout()\n",
    "plt.show()\n"
   ]
  },
  {
   "cell_type": "markdown",
   "metadata": {},
   "source": [
    "Observation:\n",
    "\n",
    "**Distribution of Characters by Alignment:** This chart shows how characters are distributed across different alignments like Good, Neutral, and Evil, as well as those with unknown or other types of alignments.\n",
    "\n",
    "**Distribution of Characters by Eye Color:** This visualization details the variety of eye colors attributed to characters, highlighting common and less common traits.\n",
    "\n",
    "**Distribution of Characters by Hair Color:** Similarly, this chart displays the distribution of hair colors among the characters."
   ]
  },
  {
   "cell_type": "markdown",
   "metadata": {},
   "source": [
    "# Training model"
   ]
  },
  {
   "cell_type": "code",
   "execution_count": 19,
   "metadata": {},
   "outputs": [
    {
     "data": {
      "text/plain": [
       "((13100, 3), (3276, 3), (13100,), (3276,))"
      ]
     },
     "execution_count": 19,
     "metadata": {},
     "output_type": "execute_result"
    }
   ],
   "source": [
    "from sklearn.preprocessing import LabelEncoder\n",
    "from sklearn.model_selection import train_test_split\n",
    "\n",
    "# Initialize LabelEncoders\n",
    "le_align = LabelEncoder()\n",
    "le_eye = LabelEncoder()\n",
    "le_hair = LabelEncoder()\n",
    "le_sex = LabelEncoder()\n",
    "\n",
    "# Encode the categorical features\n",
    "data['ALIGN_encoded'] = le_align.fit_transform(data['ALIGN'])\n",
    "data['EYE_encoded'] = le_eye.fit_transform(data['EYE'])\n",
    "data['HAIR_encoded'] = le_hair.fit_transform(data['HAIR'])\n",
    "data['SEX_encoded'] = le_sex.fit_transform(data['SEX'])\n",
    "\n",
    "# Prepare features (X) and target (y)\n",
    "X = data[['EYE_encoded', 'HAIR_encoded', 'SEX_encoded']]\n",
    "y = data['ALIGN_encoded']\n",
    "\n",
    "# Split the data into training and testing sets\n",
    "X_train, X_test, y_train, y_test = train_test_split(X, y, test_size=0.2, random_state=42)\n",
    "\n",
    "# Show the shapes of the splits to confirm\n",
    "X_train.shape, X_test.shape, y_train.shape, y_test.shape\n"
   ]
  },
  {
   "cell_type": "markdown",
   "metadata": {},
   "source": [
    "# Tokenise the Data\n",
    "\n",
    "To tokenize the dataset for a potential machine learning task, we need to decide on the type of task we want to perform, as this dataset doesn't contain traditional lengthy texts like dialogues or descriptions that we typically tokenize for NLP tasks. However, we can tokenize categorical data for embedding or processing in neural networks or other machine learning models.\n",
    "\n",
    " we can encode these categorical features as tokens that can be fed into a model."
   ]
  },
  {
   "cell_type": "code",
   "execution_count": 33,
   "metadata": {},
   "outputs": [
    {
     "name": "stdout",
     "output_type": "stream",
     "text": [
      "Requirement already satisfied: transformers in /Users/akankshanakati/anaconda3/lib/python3.11/site-packages (4.27.2)\n",
      "Requirement already satisfied: filelock in /Users/akankshanakati/anaconda3/lib/python3.11/site-packages (from transformers) (3.9.0)\n",
      "Requirement already satisfied: huggingface-hub<1.0,>=0.11.0 in /Users/akankshanakati/anaconda3/lib/python3.11/site-packages (from transformers) (0.22.2)\n",
      "Requirement already satisfied: numpy>=1.17 in /Users/akankshanakati/anaconda3/lib/python3.11/site-packages (from transformers) (1.24.3)\n",
      "Requirement already satisfied: packaging>=20.0 in /Users/akankshanakati/anaconda3/lib/python3.11/site-packages (from transformers) (23.1)\n",
      "Requirement already satisfied: pyyaml>=5.1 in /Users/akankshanakati/anaconda3/lib/python3.11/site-packages (from transformers) (6.0)\n",
      "Requirement already satisfied: regex!=2019.12.17 in /Users/akankshanakati/anaconda3/lib/python3.11/site-packages (from transformers) (2022.7.9)\n",
      "Requirement already satisfied: requests in /Users/akankshanakati/anaconda3/lib/python3.11/site-packages (from transformers) (2.31.0)\n",
      "Requirement already satisfied: tokenizers!=0.11.3,<0.14,>=0.11.1 in /Users/akankshanakati/anaconda3/lib/python3.11/site-packages (from transformers) (0.13.3)\n",
      "Requirement already satisfied: tqdm>=4.27 in /Users/akankshanakati/anaconda3/lib/python3.11/site-packages (from transformers) (4.65.0)\n",
      "Requirement already satisfied: fsspec>=2023.5.0 in /Users/akankshanakati/anaconda3/lib/python3.11/site-packages (from huggingface-hub<1.0,>=0.11.0->transformers) (2024.3.1)\n",
      "Requirement already satisfied: typing-extensions>=3.7.4.3 in /Users/akankshanakati/anaconda3/lib/python3.11/site-packages (from huggingface-hub<1.0,>=0.11.0->transformers) (4.11.0)\n",
      "Requirement already satisfied: charset-normalizer<4,>=2 in /Users/akankshanakati/anaconda3/lib/python3.11/site-packages (from requests->transformers) (2.0.4)\n",
      "Requirement already satisfied: idna<4,>=2.5 in /Users/akankshanakati/anaconda3/lib/python3.11/site-packages (from requests->transformers) (3.4)\n",
      "Requirement already satisfied: urllib3<3,>=1.21.1 in /Users/akankshanakati/anaconda3/lib/python3.11/site-packages (from requests->transformers) (1.26.16)\n",
      "Requirement already satisfied: certifi>=2017.4.17 in /Users/akankshanakati/anaconda3/lib/python3.11/site-packages (from requests->transformers) (2023.7.22)\n",
      "Note: you may need to restart the kernel to use updated packages.\n"
     ]
    }
   ],
   "source": [
    "%pip install transformers\n"
   ]
  },
  {
   "cell_type": "code",
   "execution_count": 29,
   "metadata": {},
   "outputs": [
    {
     "name": "stdout",
     "output_type": "stream",
     "text": [
      "Collecting tokenizer\n",
      "  Downloading tokenizer-3.4.3-py2.py3-none-any.whl.metadata (42 kB)\n",
      "\u001b[2K     \u001b[90m━━━━━━━━━━━━━━━━━━━━━━━━━━━━━━━━━━━━━━━━\u001b[0m \u001b[32m42.2/42.2 kB\u001b[0m \u001b[31m1.6 MB/s\u001b[0m eta \u001b[36m0:00:00\u001b[0m\n",
      "\u001b[?25hDownloading tokenizer-3.4.3-py2.py3-none-any.whl (112 kB)\n",
      "\u001b[2K   \u001b[90m━━━━━━━━━━━━━━━━━━━━━━━━━━━━━━━━━━━━━━━━\u001b[0m \u001b[32m112.3/112.3 kB\u001b[0m \u001b[31m1.6 MB/s\u001b[0m eta \u001b[36m0:00:00\u001b[0ma \u001b[36m0:00:01\u001b[0m\n",
      "\u001b[?25hInstalling collected packages: tokenizer\n",
      "Successfully installed tokenizer-3.4.3\n",
      "Note: you may need to restart the kernel to use updated packages.\n"
     ]
    }
   ],
   "source": [
    "%pip install tokenizer"
   ]
  },
  {
   "cell_type": "code",
   "execution_count": 41,
   "metadata": {},
   "outputs": [],
   "source": [
    "from transformers import AutoTokenizer\n",
    "\n",
    "# Replace YOUR_TOKEN with your actual Hugging Face access token\n",
    "tokenizer = AutoTokenizer.from_pretrained(\"gpt2\", use_auth_token=\"YOUR_TOKEN\")\n"
   ]
  },
  {
   "cell_type": "code",
   "execution_count": 42,
   "metadata": {},
   "outputs": [],
   "source": [
    "from transformers import AutoTokenizer\n",
    "\n",
    "# Accessing a public model shouldn't require a token\n",
    "tokenizer = AutoTokenizer.from_pretrained(\"gpt2\")\n"
   ]
  },
  {
   "cell_type": "markdown",
   "metadata": {},
   "source": [
    "# Enhancing FLAN-T5 Model Fine-Tuned with Summarization Adapter \n",
    "\n",
    "Enhancing language model summarization capabilities using reinforcement learning, particularly Proximal Policy Optimization (PPO), is an advanced topic involving fine-tuning models on specific tasks to optimize performance based on feedback.\n",
    "\n",
    "To generate text using the FLAN-T5 model, we'll provide a prompt with the specific character attributes."
   ]
  },
  {
   "cell_type": "code",
   "execution_count": 43,
   "metadata": {},
   "outputs": [],
   "source": [
    "# Assuming you have already defined or retrieved decoded_features\n",
    "decoded_features = {\n",
    "    'EYE': 'Blue',\n",
    "    'HAIR': 'Blonde',\n",
    "    'SEX': 'Male',\n",
    "    'ALIGN': 'Good'\n",
    "}\n",
    "\n",
    "# Rest of your code\n",
    "model = AutoModelForSeq2SeqLM.from_pretrained(model_name)\n",
    "\n",
    "# Create a prompt from the decoded features\n",
    "prompt = (f\"Write a detailed character description for a character with the following attributes: \"\n",
    "          f\"Eye Color: {decoded_features['EYE']}, \"\n",
    "          f\"Hair Color: {decoded_features['HAIR']}, \"\n",
    "          f\"Sex: {decoded_features['SEX']}, \"\n",
    "          f\"Alignment: {decoded_features['ALIGN']}.\")\n",
    "\n",
    "# Tokenize the prompt\n",
    "inputs = tokenizer(prompt, return_tensors=\"pt\")\n"
   ]
  },
  {
   "cell_type": "code",
   "execution_count": 44,
   "metadata": {},
   "outputs": [
    {
     "data": {
      "text/plain": [
       "'Sex is male.'"
      ]
     },
     "execution_count": 44,
     "metadata": {},
     "output_type": "execute_result"
    }
   ],
   "source": [
    "from transformers import AutoTokenizer, AutoModelForSeq2SeqLM\n",
    "\n",
    "# Load FLAN-T5 model and tokenizer\n",
    "model_name = \"google/flan-t5-base\"\n",
    "tokenizer = AutoTokenizer.from_pretrained(model_name)\n",
    "model = AutoModelForSeq2SeqLM.from_pretrained(model_name)\n",
    "\n",
    "# Create a prompt from the decoded features\n",
    "prompt = (f\"Write a detailed character description for a character with the following attributes: \"\n",
    "          f\"Eye Color: {decoded_features['EYE']}, \"\n",
    "          f\"Hair Color: {decoded_features['HAIR']}, \"\n",
    "          f\"Sex: {decoded_features['SEX']}, \"\n",
    "          f\"Alignment: {decoded_features['ALIGN']}.\")\n",
    "\n",
    "# Tokenize the prompt\n",
    "inputs = tokenizer(prompt, return_tensors=\"pt\")\n",
    "\n",
    "# Generate a response using the model\n",
    "outputs = model.generate(**inputs, max_length=150, num_beams=5, early_stopping=True)\n",
    "generated_text = tokenizer.decode(outputs[0], skip_special_tokens=True)\n",
    "\n",
    "generated_text\n"
   ]
  },
  {
   "cell_type": "markdown",
   "metadata": {},
   "source": [
    "# Building a Reward Model for Reinforcement Learning"
   ]
  },
  {
   "cell_type": "code",
   "execution_count": 45,
   "metadata": {},
   "outputs": [
    {
     "name": "stdout",
     "output_type": "stream",
     "text": [
      "huggingface/tokenizers: The current process just got forked, after parallelism has already been used. Disabling parallelism to avoid deadlocks...\n",
      "To disable this warning, you can either:\n",
      "\t- Avoid using `tokenizers` before the fork if possible\n",
      "\t- Explicitly set the environment variable TOKENIZERS_PARALLELISM=(true | false)\n",
      "Requirement already satisfied: stable-baselines3 in /Users/akankshanakati/anaconda3/lib/python3.11/site-packages (2.3.0)\n",
      "Requirement already satisfied: gymnasium<0.30,>=0.28.1 in /Users/akankshanakati/anaconda3/lib/python3.11/site-packages (from stable-baselines3) (0.28.1)\n",
      "Requirement already satisfied: numpy>=1.20 in /Users/akankshanakati/anaconda3/lib/python3.11/site-packages (from stable-baselines3) (1.24.3)\n",
      "Requirement already satisfied: torch>=1.13 in /Users/akankshanakati/anaconda3/lib/python3.11/site-packages (from stable-baselines3) (2.2.2)\n",
      "Requirement already satisfied: cloudpickle in /Users/akankshanakati/anaconda3/lib/python3.11/site-packages (from stable-baselines3) (2.2.1)\n",
      "Requirement already satisfied: pandas in /Users/akankshanakati/anaconda3/lib/python3.11/site-packages (from stable-baselines3) (2.2.0)\n",
      "Requirement already satisfied: matplotlib in /Users/akankshanakati/anaconda3/lib/python3.11/site-packages (from stable-baselines3) (3.7.2)\n",
      "Requirement already satisfied: jax-jumpy>=1.0.0 in /Users/akankshanakati/anaconda3/lib/python3.11/site-packages (from gymnasium<0.30,>=0.28.1->stable-baselines3) (1.0.0)\n",
      "Requirement already satisfied: typing-extensions>=4.3.0 in /Users/akankshanakati/anaconda3/lib/python3.11/site-packages (from gymnasium<0.30,>=0.28.1->stable-baselines3) (4.11.0)\n",
      "Requirement already satisfied: farama-notifications>=0.0.1 in /Users/akankshanakati/anaconda3/lib/python3.11/site-packages (from gymnasium<0.30,>=0.28.1->stable-baselines3) (0.0.4)\n",
      "Requirement already satisfied: filelock in /Users/akankshanakati/anaconda3/lib/python3.11/site-packages (from torch>=1.13->stable-baselines3) (3.9.0)\n",
      "Requirement already satisfied: sympy in /Users/akankshanakati/anaconda3/lib/python3.11/site-packages (from torch>=1.13->stable-baselines3) (1.11.1)\n",
      "Requirement already satisfied: networkx in /Users/akankshanakati/anaconda3/lib/python3.11/site-packages (from torch>=1.13->stable-baselines3) (3.1)\n",
      "Requirement already satisfied: jinja2 in /Users/akankshanakati/anaconda3/lib/python3.11/site-packages (from torch>=1.13->stable-baselines3) (3.1.2)\n",
      "Requirement already satisfied: fsspec in /Users/akankshanakati/anaconda3/lib/python3.11/site-packages (from torch>=1.13->stable-baselines3) (2024.3.1)\n",
      "Requirement already satisfied: contourpy>=1.0.1 in /Users/akankshanakati/anaconda3/lib/python3.11/site-packages (from matplotlib->stable-baselines3) (1.0.5)\n",
      "Requirement already satisfied: cycler>=0.10 in /Users/akankshanakati/anaconda3/lib/python3.11/site-packages (from matplotlib->stable-baselines3) (0.11.0)\n",
      "Requirement already satisfied: fonttools>=4.22.0 in /Users/akankshanakati/anaconda3/lib/python3.11/site-packages (from matplotlib->stable-baselines3) (4.25.0)\n",
      "Requirement already satisfied: kiwisolver>=1.0.1 in /Users/akankshanakati/anaconda3/lib/python3.11/site-packages (from matplotlib->stable-baselines3) (1.4.4)\n",
      "Requirement already satisfied: packaging>=20.0 in /Users/akankshanakati/anaconda3/lib/python3.11/site-packages (from matplotlib->stable-baselines3) (23.1)\n",
      "Requirement already satisfied: pillow>=6.2.0 in /Users/akankshanakati/anaconda3/lib/python3.11/site-packages (from matplotlib->stable-baselines3) (9.4.0)\n",
      "Requirement already satisfied: pyparsing<3.1,>=2.3.1 in /Users/akankshanakati/anaconda3/lib/python3.11/site-packages (from matplotlib->stable-baselines3) (3.0.9)\n",
      "Requirement already satisfied: python-dateutil>=2.7 in /Users/akankshanakati/anaconda3/lib/python3.11/site-packages (from matplotlib->stable-baselines3) (2.8.2)\n",
      "Requirement already satisfied: pytz>=2020.1 in /Users/akankshanakati/anaconda3/lib/python3.11/site-packages (from pandas->stable-baselines3) (2023.3.post1)\n",
      "Requirement already satisfied: tzdata>=2022.7 in /Users/akankshanakati/anaconda3/lib/python3.11/site-packages (from pandas->stable-baselines3) (2023.3)\n",
      "Requirement already satisfied: six>=1.5 in /Users/akankshanakati/anaconda3/lib/python3.11/site-packages (from python-dateutil>=2.7->matplotlib->stable-baselines3) (1.16.0)\n",
      "Requirement already satisfied: MarkupSafe>=2.0 in /Users/akankshanakati/anaconda3/lib/python3.11/site-packages (from jinja2->torch>=1.13->stable-baselines3) (2.1.1)\n",
      "Requirement already satisfied: mpmath>=0.19 in /Users/akankshanakati/anaconda3/lib/python3.11/site-packages (from sympy->torch>=1.13->stable-baselines3) (1.3.0)\n",
      "Note: you may need to restart the kernel to use updated packages.\n"
     ]
    }
   ],
   "source": [
    "%pip install stable-baselines3\n"
   ]
  },
  {
   "cell_type": "code",
   "execution_count": 46,
   "metadata": {},
   "outputs": [
    {
     "name": "stdout",
     "output_type": "stream",
     "text": [
      "huggingface/tokenizers: The current process just got forked, after parallelism has already been used. Disabling parallelism to avoid deadlocks...\n",
      "To disable this warning, you can either:\n",
      "\t- Avoid using `tokenizers` before the fork if possible\n",
      "\t- Explicitly set the environment variable TOKENIZERS_PARALLELISM=(true | false)\n",
      "Requirement already satisfied: gym in /Users/akankshanakati/anaconda3/lib/python3.11/site-packages (0.26.2)\n",
      "Requirement already satisfied: numpy>=1.18.0 in /Users/akankshanakati/anaconda3/lib/python3.11/site-packages (from gym) (1.24.3)\n",
      "Requirement already satisfied: cloudpickle>=1.2.0 in /Users/akankshanakati/anaconda3/lib/python3.11/site-packages (from gym) (2.2.1)\n",
      "Requirement already satisfied: gym-notices>=0.0.4 in /Users/akankshanakati/anaconda3/lib/python3.11/site-packages (from gym) (0.0.8)\n",
      "Note: you may need to restart the kernel to use updated packages.\n"
     ]
    }
   ],
   "source": [
    "%pip install gym\n"
   ]
  },
  {
   "cell_type": "code",
   "execution_count": 47,
   "metadata": {},
   "outputs": [],
   "source": [
    "import stable_baselines3\n",
    "import gym\n",
    "\n"
   ]
  },
  {
   "cell_type": "code",
   "execution_count": 48,
   "metadata": {},
   "outputs": [],
   "source": [
    "import gym\n",
    "from gym import spaces\n",
    "\n",
    "class CustomSummarizationEnv(gym.Env):\n",
    "    def __init__(self, texts, human_summaries):\n",
    "        super(CustomSummarizationEnv, self).__init__()\n",
    "        # Define your observation and action spaces\n",
    "        self.observation_space = spaces.Box(low=0, high=1, shape=(...))\n",
    "        self.action_space = spaces.Discrete(...)\n",
    "        # Initialize your environment with texts and human_summaries\n",
    "\n",
    "    def reset(self):\n",
    "        # Reset the environment and return the initial observation\n",
    "        ...\n",
    "\n",
    "    def step(self, action):\n",
    "        # Take a step in the environment based on the action\n",
    "        # Return the next observation, reward, whether the episode is done, and additional info\n",
    "        ...\n",
    "\n",
    "        self.observation_space = spaces.Box(low=0, high=1, shape=(4))\n"
   ]
  },
  {
   "cell_type": "code",
   "execution_count": 49,
   "metadata": {},
   "outputs": [],
   "source": [
    "# Example data simulation\n",
    "characters = [\n",
    "    {\"name\": \"Spider-Man (Peter Parker)\", \"eye\": \"Hazel\", \"hair\": \"Brown\", \"align\": \"Good\"},\n",
    "    {\"name\": \"Iron Man (Tony Stark)\", \"eye\": \"Blue\", \"hair\": \"Black\", \"align\": \"Good\"},\n",
    "    {\"name\": \"Thor (Thor Odinson)\", \"eye\": \"Blue\", \"hair\": \"Blond\", \"align\": \"Good\"}\n",
    "]\n",
    "\n",
    "texts = [f\"{char['name']} has {char['eye']} eyes and {char['hair']} hair and is a {char['align']} character.\" for char in characters]\n",
    "human_summaries = [f\"{char['name']} is a {char['align']} hero with {char['eye']} eyes.\" for char in characters]\n",
    "\n"
   ]
  },
  {
   "cell_type": "code",
   "execution_count": 50,
   "metadata": {},
   "outputs": [],
   "source": [
    "from rouge import Rouge\n",
    "import numpy as np\n",
    "\n",
    "def calculate_rouge_score(predicted_summary, reference_summary):\n",
    "    rouge = Rouge()\n",
    "    scores = rouge.get_scores(predicted_summary, reference_summary)\n",
    "    # You can average the scores or take any specific one like ROUGE-1, ROUGE-2 or ROUGE-L\n",
    "    rouge_l = scores[0]['rouge-l']['f']  # Example: using F1-score of ROUGE-L\n",
    "    return rouge_l\n",
    "\n",
    "class SummarizationRewardModel:\n",
    "    def __init__(self):\n",
    "        # Initialize any necessary components, e.g., the ROUGE scoring mechanism\n",
    "        self.rouge = Rouge()\n",
    "\n",
    "    def compute_reward(self, generated_text, reference_text):\n",
    "        # Compute the reward based on the similarity between generated text and reference text\n",
    "        scores = self.rouge.get_scores(generated_text, reference_text)\n",
    "        # Example: Calculate a simple average of ROUGE-1, ROUGE-2, and ROUGE-L F1 scores\n",
    "        rouge_1 = scores[0]['rouge-1']['f']\n",
    "        rouge_2 = scores[0]['rouge-2']['f']\n",
    "        rouge_l = scores[0]['rouge-l']['f']\n",
    "        average_score = np.mean([rouge_1, rouge_2, rouge_l])\n",
    "        return average_score\n"
   ]
  },
  {
   "cell_type": "code",
   "execution_count": 51,
   "metadata": {},
   "outputs": [],
   "source": [
    "class SummarizationEnv(gym.Env):\n",
    "    def __init__(self, texts, summaries):\n",
    "        self.texts = texts\n",
    "        self.summaries = summaries\n",
    "        self.reward_model = SummarizationRewardModel()\n",
    "        self.current_idx = 0\n",
    "\n",
    "    def step(self, action):\n",
    "        predicted_summary = action\n",
    "        reference_summary = self.summaries[self.current_idx]\n",
    "        reward = self.reward_model.compute_reward(predicted_summary, reference_summary)\n",
    "        self.current_idx += 1\n",
    "        done = self.current_idx == len(self.texts)\n",
    "        next_state = self.texts[self.current_idx] if not done else None\n",
    "        return next_state, reward, done, {}\n"
   ]
  },
  {
   "cell_type": "markdown",
   "metadata": {},
   "source": [
    "#  Evaluate Toxicity\n",
    "\n",
    "Evaluating toxicity in the Marvel dataset directly doesn't align with the typical use case, as the dataset consists of categorical character attributes rather than user-generated textual content that could manifest toxicity. However, we can simulate an evaluation by assuming hypothetical user-generated descriptions or comments about the characters, which could be analyzed for toxicity.\n",
    "\n"
   ]
  },
  {
   "cell_type": "code",
   "execution_count": 52,
   "metadata": {},
   "outputs": [
    {
     "name": "stdout",
     "output_type": "stream",
     "text": [
      "huggingface/tokenizers: The current process just got forked, after parallelism has already been used. Disabling parallelism to avoid deadlocks...\n",
      "To disable this warning, you can either:\n",
      "\t- Avoid using `tokenizers` before the fork if possible\n",
      "\t- Explicitly set the environment variable TOKENIZERS_PARALLELISM=(true | false)\n",
      "Requirement already satisfied: detoxify in /Users/akankshanakati/anaconda3/lib/python3.11/site-packages (0.5.2)\n",
      "Requirement already satisfied: transformers in /Users/akankshanakati/anaconda3/lib/python3.11/site-packages (from detoxify) (4.27.2)\n",
      "Requirement already satisfied: torch>=1.7.0 in /Users/akankshanakati/anaconda3/lib/python3.11/site-packages (from detoxify) (2.2.2)\n",
      "Requirement already satisfied: sentencepiece>=0.1.94 in /Users/akankshanakati/anaconda3/lib/python3.11/site-packages (from detoxify) (0.2.0)\n",
      "Requirement already satisfied: filelock in /Users/akankshanakati/anaconda3/lib/python3.11/site-packages (from torch>=1.7.0->detoxify) (3.9.0)\n",
      "Requirement already satisfied: typing-extensions>=4.8.0 in /Users/akankshanakati/anaconda3/lib/python3.11/site-packages (from torch>=1.7.0->detoxify) (4.11.0)\n",
      "Requirement already satisfied: sympy in /Users/akankshanakati/anaconda3/lib/python3.11/site-packages (from torch>=1.7.0->detoxify) (1.11.1)\n",
      "Requirement already satisfied: networkx in /Users/akankshanakati/anaconda3/lib/python3.11/site-packages (from torch>=1.7.0->detoxify) (3.1)\n",
      "Requirement already satisfied: jinja2 in /Users/akankshanakati/anaconda3/lib/python3.11/site-packages (from torch>=1.7.0->detoxify) (3.1.2)\n",
      "Requirement already satisfied: fsspec in /Users/akankshanakati/anaconda3/lib/python3.11/site-packages (from torch>=1.7.0->detoxify) (2024.3.1)\n",
      "Requirement already satisfied: huggingface-hub<1.0,>=0.11.0 in /Users/akankshanakati/anaconda3/lib/python3.11/site-packages (from transformers->detoxify) (0.22.2)\n",
      "Requirement already satisfied: numpy>=1.17 in /Users/akankshanakati/anaconda3/lib/python3.11/site-packages (from transformers->detoxify) (1.24.3)\n",
      "Requirement already satisfied: packaging>=20.0 in /Users/akankshanakati/anaconda3/lib/python3.11/site-packages (from transformers->detoxify) (23.1)\n",
      "Requirement already satisfied: pyyaml>=5.1 in /Users/akankshanakati/anaconda3/lib/python3.11/site-packages (from transformers->detoxify) (6.0)\n",
      "Requirement already satisfied: regex!=2019.12.17 in /Users/akankshanakati/anaconda3/lib/python3.11/site-packages (from transformers->detoxify) (2022.7.9)\n",
      "Requirement already satisfied: requests in /Users/akankshanakati/anaconda3/lib/python3.11/site-packages (from transformers->detoxify) (2.31.0)\n",
      "Requirement already satisfied: tokenizers!=0.11.3,<0.14,>=0.11.1 in /Users/akankshanakati/anaconda3/lib/python3.11/site-packages (from transformers->detoxify) (0.13.3)\n",
      "Requirement already satisfied: tqdm>=4.27 in /Users/akankshanakati/anaconda3/lib/python3.11/site-packages (from transformers->detoxify) (4.65.0)\n",
      "Requirement already satisfied: MarkupSafe>=2.0 in /Users/akankshanakati/anaconda3/lib/python3.11/site-packages (from jinja2->torch>=1.7.0->detoxify) (2.1.1)\n",
      "Requirement already satisfied: charset-normalizer<4,>=2 in /Users/akankshanakati/anaconda3/lib/python3.11/site-packages (from requests->transformers->detoxify) (2.0.4)\n",
      "Requirement already satisfied: idna<4,>=2.5 in /Users/akankshanakati/anaconda3/lib/python3.11/site-packages (from requests->transformers->detoxify) (3.4)\n",
      "Requirement already satisfied: urllib3<3,>=1.21.1 in /Users/akankshanakati/anaconda3/lib/python3.11/site-packages (from requests->transformers->detoxify) (1.26.16)\n",
      "Requirement already satisfied: certifi>=2017.4.17 in /Users/akankshanakati/anaconda3/lib/python3.11/site-packages (from requests->transformers->detoxify) (2023.7.22)\n",
      "Requirement already satisfied: mpmath>=0.19 in /Users/akankshanakati/anaconda3/lib/python3.11/site-packages (from sympy->torch>=1.7.0->detoxify) (1.3.0)\n",
      "Note: you may need to restart the kernel to use updated packages.\n"
     ]
    }
   ],
   "source": [
    "%pip install detoxify\n",
    "\n"
   ]
  },
  {
   "cell_type": "code",
   "execution_count": 53,
   "metadata": {},
   "outputs": [],
   "source": [
    "from detoxify import Detoxify\n",
    "import numpy as np\n",
    "\n",
    "class SummarizationRewardModel:\n",
    "    def __init__(self):\n",
    "        self.rouge = Rouge()\n",
    "        self.detoxify_model = Detoxify('original')\n",
    "\n",
    "    def compute_toxicity_penalty(self, text):\n",
    "        results = self.detoxify_model.predict(text)\n",
    "        # Assume a simple penalty where any toxicity reduces the score\n",
    "        toxicity_score = np.mean(list(results.values()))\n",
    "        return max(0, 0.5 - toxicity_score)  # Penalize if average toxicity score exceeds 0.5\n",
    "\n",
    "    def compute_reward(self, generated_text, reference_text):\n",
    "        rouge_scores = self.rouge.get_scores(generated_text, reference_text)\n",
    "        rouge_score = np.mean([rouge_scores[0]['rouge-1']['f'], rouge_scores[0]['rouge-2']['f'], rouge_scores[0]['rouge-l']['f']])\n",
    "        # Compute toxicity penalty\n",
    "        toxicity_penalty = self.compute_toxicity_penalty(generated_text)\n",
    "        # Final reward combines ROUGE score and toxicity penalty\n",
    "        reward = rouge_score - toxicity_penalty\n",
    "        return reward\n"
   ]
  },
  {
   "cell_type": "code",
   "execution_count": 54,
   "metadata": {},
   "outputs": [],
   "source": [
    "class SummarizationEnv(gym.Env):\n",
    "    def __init__(self, texts, summaries):\n",
    "        self.texts = texts\n",
    "        self.summaries = summaries\n",
    "        self.reward_model = SummarizationRewardModel()\n",
    "        self.current_idx = 0\n",
    "\n",
    "    def step(self, action):\n",
    "        predicted_summary = action\n",
    "        reference_summary = self.summaries[self.current_idx]\n",
    "        reward = self.reward_model.compute_reward(predicted_summary, reference_summary)\n",
    "        self.current_idx += 1\n",
    "        done = self.current_idx == len(self.texts)\n",
    "        next_state = self.texts[self.current_idx] if not done else None\n",
    "        return next_state, reward, done, {}\n"
   ]
  },
  {
   "cell_type": "code",
   "execution_count": 55,
   "metadata": {},
   "outputs": [],
   "source": [
    "# Example simulated comments based on character data\n",
    "example_comments = [\n",
    "    f\"{data.iloc[0]['name']} with {data.iloc[0]['EYE']} and {data.iloc[0]['HAIR']} is the best hero ever.\",\n",
    "    f\"I can't stand {data.iloc[1]['name']}, totally overrated because of his {data.iloc[1]['HAIR']}.\",\n",
    "    f\"{data.iloc[2]['name']} is just a bad character with ugly {data.iloc[2]['EYE']}.\"\n",
    "]\n",
    "\n",
    "# Assuming Detoxify is set up as described\n",
    "def evaluate_texts(texts):\n",
    "    model = Detoxify('original')\n",
    "    results = model.predict(texts)\n",
    "    return results\n",
    "\n",
    "# Evaluate the example comments\n",
    "toxicity_results = evaluate_texts(example_comments)\n",
    "\n"
   ]
  },
  {
   "cell_type": "code",
   "execution_count": 56,
   "metadata": {},
   "outputs": [
    {
     "name": "stdout",
     "output_type": "stream",
     "text": [
      "Text: Spider-Man (Peter Parker) with Hazel Eyes and Brown Hair is the best hero ever.\n",
      "Toxicity Score: 0.0009\n",
      "\n",
      "Text: I can't stand Captain America (Steven Rogers), totally overrated because of his White Hair.\n",
      "Toxicity Score: 0.0100\n",
      "\n",
      "Text: Wolverine (James Logan Howlett) is just a bad character with ugly Blue Eyes.\n",
      "Toxicity Score: 0.1059\n",
      "\n"
     ]
    }
   ],
   "source": [
    "from detoxify import Detoxify\n",
    "\n",
    "# Example simulated comments\n",
    "example_comments = [\n",
    "    \"Spider-Man (Peter Parker) with Hazel Eyes and Brown Hair is the best hero ever.\",\n",
    "    \"I can't stand Captain America (Steven Rogers), totally overrated because of his White Hair.\",\n",
    "    \"Wolverine (James Logan Howlett) is just a bad character with ugly Blue Eyes.\"\n",
    "]\n",
    "\n",
    "# Function to evaluate toxicity using Detoxify\n",
    "def evaluate_texts(texts):\n",
    "    model = Detoxify('original')\n",
    "    results = model.predict(texts)\n",
    "    return results\n",
    "\n",
    "# Evaluate the example comments\n",
    "toxicity_results = evaluate_texts(example_comments)\n",
    "\n",
    "# Print results\n",
    "for text, result in zip(example_comments, toxicity_results['toxicity']):\n",
    "    print(f\"Text: {text}\")\n",
    "    print(f\"Toxicity Score: {result:.4f}\\n\")\n"
   ]
  },
  {
   "cell_type": "markdown",
   "metadata": {},
   "source": [
    "The above output shows the toxicity level of each comments"
   ]
  },
  {
   "cell_type": "code",
   "execution_count": 57,
   "metadata": {},
   "outputs": [
    {
     "name": "stdout",
     "output_type": "stream",
     "text": [
      "huggingface/tokenizers: The current process just got forked, after parallelism has already been used. Disabling parallelism to avoid deadlocks...\n",
      "To disable this warning, you can either:\n",
      "\t- Avoid using `tokenizers` before the fork if possible\n",
      "\t- Explicitly set the environment variable TOKENIZERS_PARALLELISM=(true | false)\n",
      "zsh:1: no matches found: ray[rllib]\n",
      "Note: you may need to restart the kernel to use updated packages.\n"
     ]
    }
   ],
   "source": [
    "%pip install ray[rllib]\n"
   ]
  },
  {
   "cell_type": "code",
   "execution_count": 58,
   "metadata": {},
   "outputs": [
    {
     "name": "stdout",
     "output_type": "stream",
     "text": [
      "huggingface/tokenizers: The current process just got forked, after parallelism has already been used. Disabling parallelism to avoid deadlocks...\n",
      "To disable this warning, you can either:\n",
      "\t- Avoid using `tokenizers` before the fork if possible\n",
      "\t- Explicitly set the environment variable TOKENIZERS_PARALLELISM=(true | false)\n",
      "Requirement already satisfied: ray in /Users/akankshanakati/anaconda3/lib/python3.11/site-packages (2.10.0)\n",
      "Requirement already satisfied: click>=7.0 in /Users/akankshanakati/anaconda3/lib/python3.11/site-packages (from ray) (8.0.4)\n",
      "Requirement already satisfied: filelock in /Users/akankshanakati/anaconda3/lib/python3.11/site-packages (from ray) (3.9.0)\n",
      "Requirement already satisfied: jsonschema in /Users/akankshanakati/anaconda3/lib/python3.11/site-packages (from ray) (4.17.3)\n",
      "Requirement already satisfied: msgpack<2.0.0,>=1.0.0 in /Users/akankshanakati/anaconda3/lib/python3.11/site-packages (from ray) (1.0.3)\n",
      "Requirement already satisfied: packaging in /Users/akankshanakati/anaconda3/lib/python3.11/site-packages (from ray) (23.1)\n",
      "Requirement already satisfied: protobuf!=3.19.5,>=3.15.3 in /Users/akankshanakati/anaconda3/lib/python3.11/site-packages (from ray) (4.23.4)\n",
      "Requirement already satisfied: pyyaml in /Users/akankshanakati/anaconda3/lib/python3.11/site-packages (from ray) (6.0)\n",
      "Requirement already satisfied: aiosignal in /Users/akankshanakati/anaconda3/lib/python3.11/site-packages (from ray) (1.2.0)\n",
      "Requirement already satisfied: frozenlist in /Users/akankshanakati/anaconda3/lib/python3.11/site-packages (from ray) (1.3.3)\n",
      "Requirement already satisfied: requests in /Users/akankshanakati/anaconda3/lib/python3.11/site-packages (from ray) (2.31.0)\n",
      "Requirement already satisfied: attrs>=17.4.0 in /Users/akankshanakati/anaconda3/lib/python3.11/site-packages (from jsonschema->ray) (22.1.0)\n",
      "Requirement already satisfied: pyrsistent!=0.17.0,!=0.17.1,!=0.17.2,>=0.14.0 in /Users/akankshanakati/anaconda3/lib/python3.11/site-packages (from jsonschema->ray) (0.18.0)\n",
      "Requirement already satisfied: charset-normalizer<4,>=2 in /Users/akankshanakati/anaconda3/lib/python3.11/site-packages (from requests->ray) (2.0.4)\n",
      "Requirement already satisfied: idna<4,>=2.5 in /Users/akankshanakati/anaconda3/lib/python3.11/site-packages (from requests->ray) (3.4)\n",
      "Requirement already satisfied: urllib3<3,>=1.21.1 in /Users/akankshanakati/anaconda3/lib/python3.11/site-packages (from requests->ray) (1.26.16)\n",
      "Requirement already satisfied: certifi>=2017.4.17 in /Users/akankshanakati/anaconda3/lib/python3.11/site-packages (from requests->ray) (2023.7.22)\n",
      "Note: you may need to restart the kernel to use updated packages.\n"
     ]
    }
   ],
   "source": [
    "%pip install ray\n"
   ]
  },
  {
   "cell_type": "code",
   "execution_count": 59,
   "metadata": {},
   "outputs": [
    {
     "name": "stdout",
     "output_type": "stream",
     "text": [
      "huggingface/tokenizers: The current process just got forked, after parallelism has already been used. Disabling parallelism to avoid deadlocks...\n",
      "To disable this warning, you can either:\n",
      "\t- Avoid using `tokenizers` before the fork if possible\n",
      "\t- Explicitly set the environment variable TOKENIZERS_PARALLELISM=(true | false)\n",
      "Requirement already satisfied: dm-tree in /Users/akankshanakati/anaconda3/lib/python3.11/site-packages (0.1.8)\n",
      "Note: you may need to restart the kernel to use updated packages.\n"
     ]
    }
   ],
   "source": [
    "%pip install dm-tree\n"
   ]
  },
  {
   "cell_type": "code",
   "execution_count": 60,
   "metadata": {},
   "outputs": [
    {
     "name": "stdout",
     "output_type": "stream",
     "text": [
      "huggingface/tokenizers: The current process just got forked, after parallelism has already been used. Disabling parallelism to avoid deadlocks...\n",
      "To disable this warning, you can either:\n",
      "\t- Avoid using `tokenizers` before the fork if possible\n",
      "\t- Explicitly set the environment variable TOKENIZERS_PARALLELISM=(true | false)\n",
      "Requirement already satisfied: typer in /Users/akankshanakati/anaconda3/lib/python3.11/site-packages (0.12.3)\n",
      "Requirement already satisfied: click>=8.0.0 in /Users/akankshanakati/anaconda3/lib/python3.11/site-packages (from typer) (8.0.4)\n",
      "Requirement already satisfied: typing-extensions>=3.7.4.3 in /Users/akankshanakati/anaconda3/lib/python3.11/site-packages (from typer) (4.11.0)\n",
      "Requirement already satisfied: shellingham>=1.3.0 in /Users/akankshanakati/anaconda3/lib/python3.11/site-packages (from typer) (1.5.4)\n",
      "Requirement already satisfied: rich>=10.11.0 in /Users/akankshanakati/anaconda3/lib/python3.11/site-packages (from typer) (13.7.1)\n",
      "Requirement already satisfied: markdown-it-py>=2.2.0 in /Users/akankshanakati/anaconda3/lib/python3.11/site-packages (from rich>=10.11.0->typer) (2.2.0)\n",
      "Requirement already satisfied: pygments<3.0.0,>=2.13.0 in /Users/akankshanakati/anaconda3/lib/python3.11/site-packages (from rich>=10.11.0->typer) (2.15.1)\n",
      "Requirement already satisfied: mdurl~=0.1 in /Users/akankshanakati/anaconda3/lib/python3.11/site-packages (from markdown-it-py>=2.2.0->rich>=10.11.0->typer) (0.1.0)\n",
      "Note: you may need to restart the kernel to use updated packages.\n"
     ]
    }
   ],
   "source": [
    "%pip install typer\n"
   ]
  },
  {
   "cell_type": "code",
   "execution_count": 61,
   "metadata": {},
   "outputs": [
    {
     "name": "stdout",
     "output_type": "stream",
     "text": [
      "huggingface/tokenizers: The current process just got forked, after parallelism has already been used. Disabling parallelism to avoid deadlocks...\n",
      "To disable this warning, you can either:\n",
      "\t- Avoid using `tokenizers` before the fork if possible\n",
      "\t- Explicitly set the environment variable TOKENIZERS_PARALLELISM=(true | false)\n",
      "zsh:1: no matches found: ray[rllib]\n",
      "Note: you may need to restart the kernel to use updated packages.\n"
     ]
    }
   ],
   "source": [
    "%pip install --force-reinstall ray[rllib]\n"
   ]
  },
  {
   "cell_type": "code",
   "execution_count": 62,
   "metadata": {},
   "outputs": [],
   "source": [
    "import gym\n",
    "from gym.spaces import Discrete, Box\n",
    "import numpy as np\n",
    "import pandas as pd\n",
    "\n",
    "class MarvelEnv(gym.Env):\n",
    "    def __init__(self, data):\n",
    "        super(MarvelEnv, self).__init__()\n",
    "        self.data = data\n",
    "        # Assume 'ALIGN' is encoded as integers\n",
    "        self.action_space = Discrete(len(data['ALIGN'].unique()))\n",
    "        self.observation_space = Box(low=0, high=1, shape=(data.shape[1]-1,), dtype=np.float32)\n",
    "        self.current_idx = 0\n",
    "\n",
    "    def reset(self):\n",
    "        self.current_idx = 0\n",
    "        return self.data.iloc[self.current_idx][:-1].values  # all features except 'ALIGN'\n",
    "\n",
    "    def step(self, action):\n",
    "        correct_action = self.data.iloc[self.current_idx]['ALIGN']\n",
    "        reward = 1 if action == correct_action else 0\n",
    "        self.current_idx += 1\n",
    "        done = self.current_idx == len(self.data)\n",
    "        obs = self.data.iloc[self.current_idx][:-1].values if not done else None\n",
    "        return obs, reward, done, {}\n",
    "\n",
    "# Initialize the environment with your DataFrame\n",
    "env = MarvelEnv(data)\n"
   ]
  },
  {
   "cell_type": "code",
   "execution_count": 63,
   "metadata": {},
   "outputs": [
    {
     "name": "stdout",
     "output_type": "stream",
     "text": [
      "huggingface/tokenizers: The current process just got forked, after parallelism has already been used. Disabling parallelism to avoid deadlocks...\n",
      "To disable this warning, you can either:\n",
      "\t- Avoid using `tokenizers` before the fork if possible\n",
      "\t- Explicitly set the environment variable TOKENIZERS_PARALLELISM=(true | false)\n",
      "zsh:1: no matches found: ray[rllib]\n",
      "Note: you may need to restart the kernel to use updated packages.\n"
     ]
    }
   ],
   "source": [
    "%pip install ray[rllib]\n",
    "\n"
   ]
  },
  {
   "cell_type": "code",
   "execution_count": 64,
   "metadata": {},
   "outputs": [
    {
     "name": "stdout",
     "output_type": "stream",
     "text": [
      "huggingface/tokenizers: The current process just got forked, after parallelism has already been used. Disabling parallelism to avoid deadlocks...\n",
      "To disable this warning, you can either:\n",
      "\t- Avoid using `tokenizers` before the fork if possible\n",
      "\t- Explicitly set the environment variable TOKENIZERS_PARALLELISM=(true | false)\n",
      "Requirement already satisfied: ray[rllib] in /Users/akankshanakati/anaconda3/lib/python3.11/site-packages (2.10.0)\n",
      "Requirement already satisfied: click>=7.0 in /Users/akankshanakati/anaconda3/lib/python3.11/site-packages (from ray[rllib]) (8.0.4)\n",
      "Requirement already satisfied: filelock in /Users/akankshanakati/anaconda3/lib/python3.11/site-packages (from ray[rllib]) (3.9.0)\n",
      "Requirement already satisfied: jsonschema in /Users/akankshanakati/anaconda3/lib/python3.11/site-packages (from ray[rllib]) (4.17.3)\n",
      "Requirement already satisfied: msgpack<2.0.0,>=1.0.0 in /Users/akankshanakati/anaconda3/lib/python3.11/site-packages (from ray[rllib]) (1.0.3)\n",
      "Requirement already satisfied: packaging in /Users/akankshanakati/anaconda3/lib/python3.11/site-packages (from ray[rllib]) (23.1)\n",
      "Requirement already satisfied: protobuf!=3.19.5,>=3.15.3 in /Users/akankshanakati/anaconda3/lib/python3.11/site-packages (from ray[rllib]) (4.23.4)\n",
      "Requirement already satisfied: pyyaml in /Users/akankshanakati/anaconda3/lib/python3.11/site-packages (from ray[rllib]) (6.0)\n",
      "Requirement already satisfied: aiosignal in /Users/akankshanakati/anaconda3/lib/python3.11/site-packages (from ray[rllib]) (1.2.0)\n",
      "Requirement already satisfied: frozenlist in /Users/akankshanakati/anaconda3/lib/python3.11/site-packages (from ray[rllib]) (1.3.3)\n",
      "Requirement already satisfied: requests in /Users/akankshanakati/anaconda3/lib/python3.11/site-packages (from ray[rllib]) (2.31.0)\n",
      "Requirement already satisfied: pandas in /Users/akankshanakati/anaconda3/lib/python3.11/site-packages (from ray[rllib]) (2.2.0)\n",
      "Requirement already satisfied: tensorboardX>=1.9 in /Users/akankshanakati/anaconda3/lib/python3.11/site-packages (from ray[rllib]) (2.6.2.2)\n",
      "Requirement already satisfied: pyarrow>=6.0.1 in /Users/akankshanakati/anaconda3/lib/python3.11/site-packages (from ray[rllib]) (11.0.0)\n",
      "Requirement already satisfied: fsspec in /Users/akankshanakati/anaconda3/lib/python3.11/site-packages (from ray[rllib]) (2024.3.1)\n",
      "Requirement already satisfied: dm-tree in /Users/akankshanakati/anaconda3/lib/python3.11/site-packages (from ray[rllib]) (0.1.8)\n",
      "Requirement already satisfied: gymnasium==0.28.1 in /Users/akankshanakati/anaconda3/lib/python3.11/site-packages (from ray[rllib]) (0.28.1)\n",
      "Requirement already satisfied: lz4 in /Users/akankshanakati/anaconda3/lib/python3.11/site-packages (from ray[rllib]) (4.3.2)\n",
      "Requirement already satisfied: scikit-image in /Users/akankshanakati/anaconda3/lib/python3.11/site-packages (from ray[rllib]) (0.20.0)\n",
      "Requirement already satisfied: scipy in /Users/akankshanakati/anaconda3/lib/python3.11/site-packages (from ray[rllib]) (1.11.1)\n",
      "Requirement already satisfied: typer in /Users/akankshanakati/anaconda3/lib/python3.11/site-packages (from ray[rllib]) (0.12.3)\n",
      "Requirement already satisfied: rich in /Users/akankshanakati/anaconda3/lib/python3.11/site-packages (from ray[rllib]) (13.7.1)\n",
      "Requirement already satisfied: numpy>=1.21.0 in /Users/akankshanakati/anaconda3/lib/python3.11/site-packages (from gymnasium==0.28.1->ray[rllib]) (1.24.3)\n",
      "Requirement already satisfied: jax-jumpy>=1.0.0 in /Users/akankshanakati/anaconda3/lib/python3.11/site-packages (from gymnasium==0.28.1->ray[rllib]) (1.0.0)\n",
      "Requirement already satisfied: cloudpickle>=1.2.0 in /Users/akankshanakati/anaconda3/lib/python3.11/site-packages (from gymnasium==0.28.1->ray[rllib]) (2.2.1)\n",
      "Requirement already satisfied: typing-extensions>=4.3.0 in /Users/akankshanakati/anaconda3/lib/python3.11/site-packages (from gymnasium==0.28.1->ray[rllib]) (4.11.0)\n",
      "Requirement already satisfied: farama-notifications>=0.0.1 in /Users/akankshanakati/anaconda3/lib/python3.11/site-packages (from gymnasium==0.28.1->ray[rllib]) (0.0.4)\n",
      "Requirement already satisfied: attrs>=17.4.0 in /Users/akankshanakati/anaconda3/lib/python3.11/site-packages (from jsonschema->ray[rllib]) (22.1.0)\n",
      "Requirement already satisfied: pyrsistent!=0.17.0,!=0.17.1,!=0.17.2,>=0.14.0 in /Users/akankshanakati/anaconda3/lib/python3.11/site-packages (from jsonschema->ray[rllib]) (0.18.0)\n",
      "Requirement already satisfied: python-dateutil>=2.8.2 in /Users/akankshanakati/anaconda3/lib/python3.11/site-packages (from pandas->ray[rllib]) (2.8.2)\n",
      "Requirement already satisfied: pytz>=2020.1 in /Users/akankshanakati/anaconda3/lib/python3.11/site-packages (from pandas->ray[rllib]) (2023.3.post1)\n",
      "Requirement already satisfied: tzdata>=2022.7 in /Users/akankshanakati/anaconda3/lib/python3.11/site-packages (from pandas->ray[rllib]) (2023.3)\n",
      "Requirement already satisfied: charset-normalizer<4,>=2 in /Users/akankshanakati/anaconda3/lib/python3.11/site-packages (from requests->ray[rllib]) (2.0.4)\n",
      "Requirement already satisfied: idna<4,>=2.5 in /Users/akankshanakati/anaconda3/lib/python3.11/site-packages (from requests->ray[rllib]) (3.4)\n",
      "Requirement already satisfied: urllib3<3,>=1.21.1 in /Users/akankshanakati/anaconda3/lib/python3.11/site-packages (from requests->ray[rllib]) (1.26.16)\n",
      "Requirement already satisfied: certifi>=2017.4.17 in /Users/akankshanakati/anaconda3/lib/python3.11/site-packages (from requests->ray[rllib]) (2023.7.22)\n",
      "Requirement already satisfied: markdown-it-py>=2.2.0 in /Users/akankshanakati/anaconda3/lib/python3.11/site-packages (from rich->ray[rllib]) (2.2.0)\n",
      "Requirement already satisfied: pygments<3.0.0,>=2.13.0 in /Users/akankshanakati/anaconda3/lib/python3.11/site-packages (from rich->ray[rllib]) (2.15.1)\n",
      "Requirement already satisfied: networkx>=2.8 in /Users/akankshanakati/anaconda3/lib/python3.11/site-packages (from scikit-image->ray[rllib]) (3.1)\n",
      "Requirement already satisfied: pillow>=9.0.1 in /Users/akankshanakati/anaconda3/lib/python3.11/site-packages (from scikit-image->ray[rllib]) (9.4.0)\n",
      "Requirement already satisfied: imageio>=2.4.1 in /Users/akankshanakati/anaconda3/lib/python3.11/site-packages (from scikit-image->ray[rllib]) (2.31.1)\n",
      "Requirement already satisfied: tifffile>=2019.7.26 in /Users/akankshanakati/anaconda3/lib/python3.11/site-packages (from scikit-image->ray[rllib]) (2023.4.12)\n",
      "Requirement already satisfied: PyWavelets>=1.1.1 in /Users/akankshanakati/anaconda3/lib/python3.11/site-packages (from scikit-image->ray[rllib]) (1.4.1)\n",
      "Requirement already satisfied: lazy_loader>=0.1 in /Users/akankshanakati/anaconda3/lib/python3.11/site-packages (from scikit-image->ray[rllib]) (0.2)\n",
      "Requirement already satisfied: shellingham>=1.3.0 in /Users/akankshanakati/anaconda3/lib/python3.11/site-packages (from typer->ray[rllib]) (1.5.4)\n",
      "Requirement already satisfied: mdurl~=0.1 in /Users/akankshanakati/anaconda3/lib/python3.11/site-packages (from markdown-it-py>=2.2.0->rich->ray[rllib]) (0.1.0)\n",
      "Requirement already satisfied: six>=1.5 in /Users/akankshanakati/anaconda3/lib/python3.11/site-packages (from python-dateutil>=2.8.2->pandas->ray[rllib]) (1.16.0)\n",
      "Note: you may need to restart the kernel to use updated packages.\n"
     ]
    }
   ],
   "source": [
    "%pip install 'ray[rllib]'\n"
   ]
  },
  {
   "cell_type": "markdown",
   "metadata": {},
   "source": [
    "# Quantitative Evaluation"
   ]
  },
  {
   "cell_type": "code",
   "execution_count": 65,
   "metadata": {},
   "outputs": [],
   "source": [
    "import gym\n",
    "from gym.spaces import Discrete, Box\n",
    "import numpy as np\n",
    "\n",
    "class MarvelEnv(gym.Env):\n",
    "    def __init__(self, data, test_data=None, evaluate=False):\n",
    "        super(MarvelEnv, self).__init__()\n",
    "        self.data = data\n",
    "        self.test_data = test_data\n",
    "        self.evaluate = evaluate\n",
    "        self.action_space = Discrete(len(data['ALIGN'].unique()))\n",
    "        self.observation_space = Box(low=0, high=1, shape=(data.shape[1]-1,), dtype=np.float32)\n",
    "        self.reset()\n",
    "\n",
    "    def reset(self):\n",
    "        if self.evaluate and self.test_data is not None:\n",
    "            self.current_data = self.test_data\n",
    "        else:\n",
    "            self.current_data = self.data\n",
    "        self.current_idx = 0\n",
    "        return self.current_data.iloc[self.current_idx][:-1].values\n",
    "\n",
    "    def step(self, action):\n",
    "        correct_action = self.current_data.iloc[self.current_idx]['ALIGN']\n",
    "        reward = 1 if action == correct_action else 0\n",
    "        self.current_idx += 1\n",
    "        done = self.current_idx == len(self.current_data)\n",
    "        obs = self.current_data.iloc[self.current_idx][:-1].values if not done else None\n",
    "        return obs, reward, done, {}\n",
    "\n"
   ]
  },
  {
   "cell_type": "code",
   "execution_count": 67,
   "metadata": {},
   "outputs": [
    {
     "name": "stdout",
     "output_type": "stream",
     "text": [
      "                            query  reward_before  reward_after  reward_diff\n",
      "0       Spider-Man (Peter Parker)              0             1            1\n",
      "1        Princess Pam (Earth-616)              0             1            1\n",
      "2  Mysto the Magician (Earth-616)              0             1            1\n",
      "3        Nails Riggly (Earth-616)              0             1            1\n",
      "4       Napoleon Sack (Earth-616)              0             1            1\n"
     ]
    }
   ],
   "source": [
    "\n",
    "\n",
    "# For demonstration, let's assume we are evaluating predictions for 'ALIGN' attribute\n",
    "# Simulate two sets of predictions (as if from two different models)\n",
    "data['prediction_before'] = data['ALIGN'].apply(lambda x: 'Good Characters' if x == 'Bad Characters' else 'Bad Characters')\n",
    "data['prediction_after'] = data['ALIGN']\n",
    "\n",
    "# Simulating rewards: 1 if prediction is correct, 0 otherwise\n",
    "data['reward_before'] = (data['prediction_before'] == data['ALIGN']).astype(int)\n",
    "data['reward_after'] = (data['prediction_after'] == data['ALIGN']).astype(int)\n",
    "\n",
    "# Compile comparison results\n",
    "compare_results = {\n",
    "    'query': data['name'],  # Assuming 'name' is what we're \"querying\"\n",
    "    'reward_before': data['reward_before'],\n",
    "    'reward_after': data['reward_after']\n",
    "}\n",
    "\n",
    "# Convert to DataFrame\n",
    "data_compare_results = pd.DataFrame(compare_results)\n",
    "\n",
    "# Calculate reward difference\n",
    "data_compare_results['reward_diff'] = data_compare_results['reward_after'] - data_compare_results['reward_before']\n",
    "\n",
    "# Sort by the difference in rewards, descending\n",
    "data_compare_results_sorted = data_compare_results.sort_values(by=['reward_diff'], ascending=False).reset_index(drop=True)\n",
    "\n",
    "# Display the sorted DataFrame\n",
    "print(data_compare_results_sorted.head())\n"
   ]
  },
  {
   "cell_type": "markdown",
   "metadata": {},
   "source": [
    "The table clearly indicates that the intervention—potentially the implementation of a reinforcement learning approach or another optimization technique—was highly successful, as it turned all incorrect predictions (reward_before = 0) into correct predictions (reward_after = 1). This is an excellent outcome, demonstrating the efficacy of the applied method or enhancement in improving the model's understanding and predictive accuracy concerning the characters' attributes or alignments. This result would encourage further application of the same technique to the entire dataset and potentially similar datasets."
   ]
  },
  {
   "cell_type": "markdown",
   "metadata": {},
   "source": [
    "# Conclusion\n",
    "\n",
    "The culmination of this project demonstrated the viability of using reinforcement learning techniques to enhance categorical predictions in datasets not inherently suited for sequence-based predictions. The Marvel characters dataset provided a unique challenge due to its categorical nature and the lack of sequential text data. By adapting reinforcement learning algorithms, specifically PPO, we developed a model that simulates decision-making processes to predict character alignments based on other attributes effectively.\n",
    "\n",
    "Initial simulations used a baseline model and a PPO-enhanced model to predict character alignments, where the reward mechanism was based on prediction accuracy. The results indicated that the PPO-enhanced model achieved a higher accuracy rate, showcasing the potential of reinforcement learning to improve predictive analytics in entertainment datasets.\n",
    "\n",
    "Furthermore, the project explored sentiment analysis and toxicity detection in simulated comments, addressing the ethical considerations of content generation and ensuring appropriateness in user-facing applications. The sentiment analysis revealed that adjustments in model training could further reduce content bias and enhance the overall quality of generated text.\n",
    "\n"
   ]
  },
  {
   "cell_type": "markdown",
   "metadata": {},
   "source": [
    "# License\n",
    "\n",
    "## Copyright 2024 Akanksha Nakati\n",
    "\n",
    "Permission is hereby granted, free of charge, to any person obtaining a copy of this software and associated documentation files (the \"Software\"), to deal in the Software without restriction, including without limitation the rights to use, copy, modify, merge, publish, distribute, sublicense, and/or sell copies of the Software, and to permit persons to whom the Software is furnished to do so, subject to the following conditions:\n",
    "\n",
    "The above copyright notice and this permission notice shall be included in all copies or substantial portions of the Software.\n",
    "\n",
    "THE SOFTWARE IS PROVIDED \"AS IS\", WITHOUT WARRANTY OF ANY KIND, EXPRESS OR IMPLIED, INCLUDING BUT NOT LIMITED TO THE WARRANTIES OF MERCHANTABILITY, FITNESS FOR A PARTICULAR PURPOSE AND NONINFRINGEMENT. IN NO EVENT SHALL THE AUTHORS OR COPYRIGHT HOLDERS BE LIABLE FOR ANY CLAIM, DAMAGES OR OTHER LIABILITY, WHETHER IN AN ACTION OF CONTRACT, TORT OR OTHERWISE, ARISING FROM, OUT OF OR IN CONNECTION WITH THE SOFTWARE OR THE USE OR OTHER DEALINGS IN THE SOFTWARE."
   ]
  },
  {
   "cell_type": "markdown",
   "metadata": {},
   "source": [
    "# References\n",
    "\n",
    "1. Gerative AI: https://medium.com/@social_65128/the-comprehensive-guide-to-understanding-generative-ai-c06bbf259786\n",
    "2. Owner - AI Skunkworks Link: https://github.com/aiskunks/Skunks_Skool\n",
    "3. What is Generative AI?: https://towardsdatascience.com/what-is-generative-ai-a-comprehensive-guide-for-everyone-8614c0d5860c\n",
    "4. Use cases and challenges of Generative AI for text data: https://medium.com/credera-engineering/use-cases-and-challenges-of-generative-ai-for-text-data-fcaf4f13322b\n",
    "5. Code Reference: https://github.com/Ryota-Kawamura/Generative-AI-with-LLMs/tree/main"
   ]
  },
  {
   "cell_type": "markdown",
   "metadata": {},
   "source": [
    "# License\n",
    "\n",
    "## Copyright 2024 Akanksha Nakati\n",
    "\n",
    "Permission is hereby granted, free of charge, to any person obtaining a copy of this software and associated documentation files (the \"Software\"), to deal in the Software without restriction, including without limitation the rights to use, copy, modify, merge, publish, distribute, sublicense, and/or sell copies of the Software, and to permit persons to whom the Software is furnished to do so, subject to the following conditions:\n",
    "\n",
    "The above copyright notice and this permission notice shall be included in all copies or substantial portions of the Software.\n",
    "\n",
    "THE SOFTWARE IS PROVIDED \"AS IS\", WITHOUT WARRANTY OF ANY KIND, EXPRESS OR IMPLIED, INCLUDING BUT NOT LIMITED TO THE WARRANTIES OF MERCHANTABILITY, FITNESS FOR A PARTICULAR PURPOSE AND NONINFRINGEMENT. IN NO EVENT SHALL THE AUTHORS OR COPYRIGHT HOLDERS BE LIABLE FOR ANY CLAIM, DAMAGES OR OTHER LIABILITY, WHETHER IN AN ACTION OF CONTRACT, TORT OR OTHERWISE, ARISING FROM, OUT OF OR IN CONNECTION WITH THE SOFTWARE OR THE USE OR OTHER DEALINGS IN THE SOFTWARE."
   ]
  }
 ],
 "metadata": {
  "kernelspec": {
   "display_name": "base",
   "language": "python",
   "name": "python3"
  },
  "language_info": {
   "codemirror_mode": {
    "name": "ipython",
    "version": 3
   },
   "file_extension": ".py",
   "mimetype": "text/x-python",
   "name": "python",
   "nbconvert_exporter": "python",
   "pygments_lexer": "ipython3",
   "version": "3.11.5"
  }
 },
 "nbformat": 4,
 "nbformat_minor": 2
}
