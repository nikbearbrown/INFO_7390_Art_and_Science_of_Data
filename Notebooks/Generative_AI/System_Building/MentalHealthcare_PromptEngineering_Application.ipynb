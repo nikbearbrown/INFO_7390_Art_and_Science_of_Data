{
 "cells": [
  {
   "cell_type": "markdown",
   "id": "39397069",
   "metadata": {},
   "source": [
    "# Creating Data with Generative AI"
   ]
  },
  {
   "cell_type": "markdown",
   "id": "634fa40d",
   "metadata": {},
   "source": [
    "# Step 1: Theoretical Foundations of Generative AI"
   ]
  },
  {
   "cell_type": "markdown",
   "id": "d9e1f0d7",
   "metadata": {},
   "source": [
    "## Introduction to generative AI and its applications.\n",
    "Generative AI enables users to quickly generate new content based on a variety of inputs. Inputs and outputs to these models can include text, images, sounds, animation, 3D models, or other types of data. Unlike traditional AI that predicts and analyzes, generative AI steps into the realm of creation, producing new and realistic content.\n",
    "Generative AI models use neural networks to identify the patterns and structures within existing data to generate new and original content.\n",
    "One of the breakthroughs with generative AI models is the ability to leverage different learning approaches, including unsupervised or semi-supervised learning for training. This has given organizations the ability to more easily and quickly leverage a large amount of unlabeled data to create foundation models. As the name suggests, foundation models can be used as a base for AI systems that can perform multiple tasks.\n",
    "\n",
    "\n",
    "## Application:\n",
    "1. Language: Text is thought to be the most advanced domain and is the foundation of many generative AI models. Large language models (LLMs) are among the most well-known instances of generative models based on language. Big language models are being used for many other kinds of activities, including as writing essays, writing code, translating texts, and even deciphering genetic sequences.\n",
    "2. Audio: Within the field of generative AI, music, audio, and voice are also developing fields. As examples, consider models that can compose original music, identify objects in films and generate sound effects for them, and compose songs and short audio clips with text inputs.\n",
    "3. Visual: The field of visuals is one in which generative AI is most widely used. This includes making videos, graphs, avatars, and other types of illustrations in three dimensions. It's possible to create images in a variety of artistic styles and use editing and modification techniques to produce visuals. In addition to producing realistic visuals for virtual or augmented reality and 3D models for video games, generative AI models may also construct graphs that display novel chemical compounds and molecules that help in drug discovery, design logos, improve or alter preexisting graphics, and much more.\n",
    "4. Synthetic data: When data is little, restricted, or just not able to accurately handle corner cases, synthetic data can be a very helpful tool for training AI models. One of the most effective ways to address the data difficulties faced by many businesses is to use generative models to create synthetic data. It is made possible by a procedure known as label-efficient learning and covers all modalities and use cases. By either automatically creating more enhanced training data or by developing an internal representation of the data that makes it easier to train AI models with less labeled data, generative AI models can lower the cost of labeling.\n",
    "The impact of generative models is wide-reaching, and its applications are only growing. Listed are just a few examples of how generative AI is helping to advance and transform the fields of transportation, natural sciences, and entertainment.\n"
   ]
  },
  {
   "cell_type": "markdown",
   "id": "2f526723",
   "metadata": {},
   "source": [
    "## The relevance of data generation in various data science tasks.\n",
    "Within the broad field of data science, the generation of data is a key component that provides invaluable support for a range of tasks. Data generation is important because it can solve important problems, improve model performance, and help progress data-driven decision making. Let's examine the crucial significance that data generation plays in several categories of data science tasks:\n",
    "1. Model Training and Validation: Synthetic data generation proves instrumental in scenarios where acquiring real-world data is costly, time-consuming, or limited. By augmenting existing datasets with generated samples, machine learning models receive richer training sets, improving their generalization and performance.\n",
    "2. Anomaly Detection: In anomaly detection tasks, where identifying irregular patterns is paramount, synthetic data allows for the creation of diverse anomalies, augmenting the training data and enabling models to recognize a broader spectrum of deviations.\n",
    "3. Privacy-Preserving Techniques: The generation of privacy-preserving synthetic data becomes imperative when dealing with sensitive information. By creating synthetic datasets that retain statistical properties of the original data without compromising individual privacy, data scientists can develop robust models while adhering to privacy regulations.\n",
    "Imbalanced Class Problems: Addressing imbalances in class distribution is a common challenge in classification tasks. Synthetic data generation assists in creating additional instances of minority classes, rectifying imbalances and preventing models from being biased toward the majority class.\n",
    "4. Natural Language Processing (NLP): In NLP tasks, where large labeled datasets are often scarce, synthetic data generation aids in expanding training datasets for tasks like text classification, sentiment analysis, and language translation. This approach enhances the language model's ability to generalize to diverse linguistic patterns.\n",
    "5. Image Recognition and Computer Vision: Generating additional images with variations in lighting, angles, or backgrounds contributes to more robust training sets for image recognition models. This is especially beneficial in scenarios where obtaining a vast and diverse collection of real-world images is challenging.\n",
    "6. Time-Series Forecasting: For time-series forecasting, synthetic data can be used to simulate various scenarios, allowing models to learn and adapt to a wider range of potential future developments. This enhances the model's forecasting accuracy and resilience to unforeseen variations.\n",
    "7. Domain Adaptation: Data generation plays a key role in domain adaptation, where models trained on data from one domain need to perform well on a different domain. Synthetic data that simulates the characteristics of the target domain aids in improving the model's adaptability.\n",
    "\n",
    "\n",
    "In essence, the importance of data generation in data science tasks lies in its ability to overcome data-related challenges, foster model robustness, and elevate the efficacy of machine learning solutions across diverse applications. As the field continues to evolve, the strategic integration of data generation techniques becomes increasingly integral to unlocking the full potential of data science methodologies.\n"
   ]
  },
  {
   "cell_type": "markdown",
   "id": "f5e853db",
   "metadata": {},
   "source": [
    "## Theoretical underpinnings of the chosen generative AI method.\n",
    "\n",
    "The underlying framework of GPT-2, like many other language models, is rooted in deep learning and natural language processing (NLP). It's built upon a Transformer architecture, a type of neural network known for its ability to handle sequential data efficiently, like text.\n",
    "\n",
    "Here are the key theoretical underpinnings of GPT-2:\n",
    "\n",
    "<b>Transformer Architecture:</b> GPT-2 is based on the Transformer model introduced by Vaswani et al. in 2017. It employs self-attention mechanisms, enabling it to weigh different words in a sentence while processing information in parallel. This attention mechanism helps capture dependencies across the text, providing context for generating coherent and contextually relevant responses.\n",
    "\n",
    "<b>Self-Attention Mechanism:</b> The self-attention mechanism in the Transformer allows each word in a sequence to attend to all other words in the sequence, learning which words are most important for understanding the context. This mechanism enables GPT-2 to consider the entire context of the input text when generating responses.\n",
    "\n",
    "<b>Transfer Learning and Fine-Tuning:</b> GPT-2 is pre-trained on a massive dataset using unsupervised learning. During pre-training, it learns the statistical properties and structures of natural language. This pre-training phase helps the model understand various language patterns, grammatical rules, and semantic relationships. Additionally, GPT-2 can be fine-tuned on specific tasks or datasets, allowing it to specialize in particular domains or improve performance on specific tasks.\n",
    "\n",
    "<b>Language Modeling Objective:</b> GPT-2 is trained using a language modeling objective, where it predicts the likelihood of a word given its context within a sequence of words. This helps the model learn the probabilities of different words occurring in a sequence and enables it to generate coherent and contextually relevant responses.\n",
    "\n",
    "<b>Deep Neural Networks:</b> GPT-2 consists of multiple layers of neural networks, allowing it to learn complex representations of text data. The depth of the network enables it to capture intricate patterns and relationships in language.\n",
    "\n",
    "<b>Probabilistic Sampling:</b> When generating responses, GPT-2 uses probabilistic sampling techniques, such as softmax, to select the next word in the sequence based on the learned probabilities of the words in its vocabulary. This probabilistic approach allows for diversity in generated outputs.\n",
    "\n",
    "These underpinnings collectively empower GPT-2 to understand, generate, and respond to text based on the vast amount of information it has learned from its training data."
   ]
  },
  {
   "cell_type": "markdown",
   "id": "4ac90986",
   "metadata": {},
   "source": [
    "## How generative AI contributes to solving data-related problems\n",
    "Generative AI offers innovative solutions to a myriad of data-related challenges. Its unique capabilities contribute significantly to overcoming issues such as data scarcity, imbalance, privacy concerns, and model generalization. Here's a breakdown of how generative AI makes pivotal contributions across various data-related problems:\n",
    "\n",
    "1. Data Augmentation for Improved Model Generalization\n",
    "2. Addressing Imbalanced Datasets\n",
    "3. Privacy-Preserving Data Generation\n",
    "4. Data Scarcity Mitigation\n",
    "5. Domain Adaptation and Transfer Learning\n",
    "6. Anomaly Detection Improvement\n",
    "7. Data Simulation for Forecasting\n",
    "8. Enhancing Natural Language Processing (NLP) Tasks\n",
    "\n"
   ]
  },
  {
   "cell_type": "markdown",
   "id": "6a97c001",
   "metadata": {},
   "source": [
    "# Step 2: Introduction to Data Generation"
   ]
  },
  {
   "cell_type": "markdown",
   "id": "1574c21d",
   "metadata": {},
   "source": [
    "## Provide a concise overview of the data generation process using generative AI. Detail the context, significance, and principles behind data generation.\n",
    "\n",
    "Data generation through generative AI involves creating new data points that mimic patterns and structures found in existing datasets. This process is significant across various domains for several reasons:\n",
    "\n",
    "<b>Context:</b> Generative AI models, like GANs (Generative Adversarial Networks) or language models such as GPT-3, are used to create synthetic data resembling real data.\n",
    "\n",
    "<b>Significance:</b>\n",
    "\n",
    "<b>Augmentation:</b> Generated data can augment limited datasets, enhancing the diversity and size of the dataset available for training machine learning models. This, in turn, helps improve model performance and generalization.\n",
    "\n",
    "<b>Privacy and Anonymization:</b> Synthetic data can be used for research or testing purposes without exposing sensitive or personally identifiable information present in real datasets.\n",
    "\n",
    "<b>Scenario Exploration:</b> Generative models enable the creation of simulated scenarios, which can be valuable for testing hypotheses or exploring various what-if scenarios without real-world consequences.\n",
    "\n",
    "<b>Principles behind Data Generation:</b>\n",
    "\n",
    "<b>Learning Patterns:</b> Generative models learn underlying patterns and structures present in the training data. For example, GANs learn the distribution of images to generate new, similar images, while language models like GPT-3 learn the statistical relationships between words and sentences to generate coherent text.\n",
    "\n",
    "<b>Probability and Variation:</b> Generative models leverage probabilistic distributions to create variations in generated data. This enables the model to produce diverse outputs that resemble but are not identical to the original dataset.\n",
    "\n",
    "<b>Evaluation and Improvement:</b> The quality of generated data is often evaluated using metrics specific to the domain, such as image quality metrics (for images) or metrics assessing coherence and relevance (for text). Feedback from these evaluations can be used to improve the generative models.\n",
    "\n"
   ]
  },
  {
   "cell_type": "markdown",
   "id": "62987156",
   "metadata": {},
   "source": [
    "## Step 3: Analyzing the Generated Data\n",
    "\n",
    "### Data Characteristics:\n",
    "The generated data exhibits characteristics reflective of the pre-trained GPT-2 model's learning. It demonstrates a coherent understanding of the English language, encompassing vocabulary, syntax, and semantic relationships. The data is produced based on patterns learned from extensive text input during the model's training phase.\n",
    "\n",
    "### Application Areas:\n",
    "The generated data can find applications in various natural language processing tasks, such as chatbot development, content creation, and creative writing assistance. Due to its ability to mimic human-like language patterns, it can be leveraged for tasks requiring natural language understanding and generation.\n",
    "\n",
    "### Analytical Insights:\n",
    "1. **Language Proficiency:** The model showcases a high level of proficiency in generating contextually relevant and grammatically correct text.\n",
    "2. **Semantic Consistency:** The generated data maintains semantic coherence and relevance to the input prompt, as observed in the coherent response to the input text \"grief.\"\n",
    "3. **Diversity of Output:** By adjusting parameters like `num_beams` and `temperature` during generation, the diversity of output can be controlled, providing flexibility in the type of content produced.\n",
    "\n",
    "## Step 4: Engaging with Generative AI for Data Generation\n",
    "\n",
    "### Querying the Generative AI:\n",
    "Interact with the generative AI to gain insights into its data generation process. Explore the impact of different input prompts on the generated output. Query the model with diverse prompts to understand its adaptability and responsiveness.\n",
    "\n",
    "### Exploring Data Generation Scenarios:\n",
    "Experiment with various scenarios to assess the generative AI's performance across different domains or topics. Evaluate how well the model adapts to different input contexts and whether it maintains consistency in generating relevant content.\n",
    "\n",
    "### Validating Data Quality and Diversity:\n",
    "Validate the quality of the generated data by comparing it against predefined criteria. Assess the diversity of output by analyzing responses to similar prompts with slight variations. This step ensures that the generated data aligns with the intended use case.\n",
    "\n",
    "*Note:* Utilize the generative AI as a guiding tool rather than relying solely on its outputs. Regularly validate the generated data against your criteria to ensure it meets the desired standards.\n",
    "\n",
    "## Step 5: Crafting Your Generated Data\n",
    "\n",
    "### Defining Data Generation Task:\n",
    "Clearly define the specific task for data generation, whether it involves text completion, creative writing prompts, or other language-related objectives.\n",
    "\n",
    "### Specifying Data Format:\n",
    "Specify the desired format for the generated data. This could include considerations for length, structure, and any specific formatting requirements.\n",
    "\n",
    "### Illustrative Examples:\n",
    "Provide concrete examples of the generated data, showcasing both input prompts and corresponding model-generated responses. This helps in understanding the model's behavior in different scenarios.\n",
    "\n",
    "### Establishing Constraints:\n",
    "Set constraints to guide the generative AI towards producing data that aligns with specific criteria. This may involve adjusting parameters during generation or incorporating additional filtering mechanisms to ensure the generated data meets predefined constraints.\n"
   ]
  },
  {
   "cell_type": "markdown",
   "id": "96b70af3",
   "metadata": {},
   "source": [
    "**Importing the Libraries**"
   ]
  },
  {
   "cell_type": "code",
   "execution_count": 1,
   "id": "322b8fa1",
   "metadata": {},
   "outputs": [],
   "source": [
    "# Importing the libraries\n",
    "\n",
    "from transformers import GPT2Tokenizer, GPT2LMHeadModel, GPT2Config, TextDataset, DataCollatorForLanguageModeling\n",
    "from transformers import Trainer, TrainingArguments"
   ]
  },
  {
   "cell_type": "markdown",
   "id": "d5e9fd4f",
   "metadata": {},
   "source": [
    "**Model Used:**\n",
    "\n",
    "We used a model called GPT-2 from Hugging Face to make a chatbot. GPT-2 is like a brain that learned a lot about English by reading tons of text. It learned by itself without any help from people – no one told it what to learn. It used a smart method to understand words from the text it read."
   ]
  },
  {
   "cell_type": "markdown",
   "id": "b6bbf670",
   "metadata": {},
   "source": [
    "**Step 1**: Load pre-trained GPT-2 model and tokenizer"
   ]
  },
  {
   "cell_type": "code",
   "execution_count": 2,
   "id": "48f1f487",
   "metadata": {},
   "outputs": [
    {
     "data": {
      "application/vnd.jupyter.widget-view+json": {
       "model_id": "072da2ee4fe347dfb41bcc1dd7aef466",
       "version_major": 2,
       "version_minor": 0
      },
      "text/plain": [
       "Downloading generation_config.json:   0%|          | 0.00/124 [00:00<?, ?B/s]"
      ]
     },
     "metadata": {},
     "output_type": "display_data"
    },
    {
     "name": "stderr",
     "output_type": "stream",
     "text": [
      "C:\\Users\\parth\\anaconda3\\lib\\site-packages\\huggingface_hub\\file_download.py:137: UserWarning: `huggingface_hub` cache-system uses symlinks by default to efficiently store duplicated files but your machine does not support them in C:\\Users\\parth\\.cache\\huggingface\\hub. Caching files will still work but in a degraded version that might require more space on your disk. This warning can be disabled by setting the `HF_HUB_DISABLE_SYMLINKS_WARNING` environment variable. For more details, see https://huggingface.co/docs/huggingface_hub/how-to-cache#limitations.\n",
      "To support symlinks on Windows, you either need to activate Developer Mode or to run Python as an administrator. In order to see activate developer mode, see this article: https://docs.microsoft.com/en-us/windows/apps/get-started/enable-your-device-for-development\n",
      "  warnings.warn(message)\n"
     ]
    }
   ],
   "source": [
    "# Loading the GPT-2 model\n",
    "\n",
    "model_name = \"gpt2\"\n",
    "model = GPT2LMHeadModel.from_pretrained(model_name)\n",
    "\n",
    "# Loading the tokenizer of the model\n",
    "\n",
    "tokenizer = GPT2Tokenizer.from_pretrained(model_name)"
   ]
  },
  {
   "cell_type": "markdown",
   "id": "97369028",
   "metadata": {},
   "source": [
    "**Step 2**: Load and preprocess custom dataset"
   ]
  },
  {
   "cell_type": "code",
   "execution_count": 3,
   "id": "cfcf1961",
   "metadata": {},
   "outputs": [
    {
     "name": "stderr",
     "output_type": "stream",
     "text": [
      "C:\\Users\\parth\\anaconda3\\lib\\site-packages\\transformers\\data\\datasets\\language_modeling.py:53: FutureWarning: This dataset will be removed from the library soon, preprocessing should be handled with the 🤗 Datasets library. You can have a look at this example script for pointers: https://github.com/huggingface/transformers/blob/main/examples/pytorch/language-modeling/run_mlm.py\n",
      "  warnings.warn(\n"
     ]
    }
   ],
   "source": [
    "# Loading the custom dataset\n",
    "\n",
    "train_file = \"dataset.txt\"\n",
    "\n",
    "# Preprocessing the dataset\n",
    "\n",
    "train_dataset = TextDataset(\n",
    "    tokenizer=tokenizer,\n",
    "    file_path=train_file,\n",
    "    block_size=128\n",
    ")\n",
    "\n",
    "data_collator = DataCollatorForLanguageModeling(\n",
    "    tokenizer=tokenizer,\n",
    "    mlm=False\n",
    ")"
   ]
  },
  {
   "cell_type": "markdown",
   "id": "a53c06cb",
   "metadata": {},
   "source": [
    "**Step 3**: Set up training arguments"
   ]
  },
  {
   "cell_type": "code",
   "execution_count": 4,
   "id": "ea355d8a",
   "metadata": {},
   "outputs": [],
   "source": [
    "# Traning arguments are being set up\n",
    "\n",
    "training_args = TrainingArguments(\n",
    "    output_dir=\"./gpt2-fine-tuned\",\n",
    "    overwrite_output_dir=True,\n",
    "    num_train_epochs=3,\n",
    "    per_device_train_batch_size=2,\n",
    "    save_steps=10_000,\n",
    "    save_total_limit=2,\n",
    ")"
   ]
  },
  {
   "cell_type": "markdown",
   "id": "18714a26",
   "metadata": {},
   "source": [
    "**Step 4**: Initialize Trainer and fine-tune the model"
   ]
  },
  {
   "cell_type": "code",
   "execution_count": 5,
   "id": "9c480c1b",
   "metadata": {},
   "outputs": [
    {
     "data": {
      "text/html": [
       "\n",
       "    <div>\n",
       "      \n",
       "      <progress value='27' max='27' style='width:300px; height:20px; vertical-align: middle;'></progress>\n",
       "      [27/27 03:05, Epoch 3/3]\n",
       "    </div>\n",
       "    <table border=\"1\" class=\"dataframe\">\n",
       "  <thead>\n",
       " <tr style=\"text-align: left;\">\n",
       "      <th>Step</th>\n",
       "      <th>Training Loss</th>\n",
       "    </tr>\n",
       "  </thead>\n",
       "  <tbody>\n",
       "  </tbody>\n",
       "</table><p>"
      ],
      "text/plain": [
       "<IPython.core.display.HTML object>"
      ]
     },
     "metadata": {},
     "output_type": "display_data"
    }
   ],
   "source": [
    "# Trainer is getting initialized\n",
    "\n",
    "trainer = Trainer(\n",
    "    model=model,\n",
    "    args=training_args,\n",
    "    data_collator=data_collator,\n",
    "    train_dataset=train_dataset,\n",
    "    tokenizer=tokenizer,\n",
    ")\n",
    "\n",
    "# Model is fine-tuned on our custom dataset\n",
    "\n",
    "trainer.train()\n",
    "\n",
    "# Saving the model\n",
    "trainer.save_model()"
   ]
  },
  {
   "cell_type": "markdown",
   "id": "f555df18",
   "metadata": {},
   "source": [
    "**Step 5**: Load the fine-tuned GPT-2 model and tokenizer"
   ]
  },
  {
   "cell_type": "code",
   "execution_count": 6,
   "id": "c11092c5",
   "metadata": {},
   "outputs": [],
   "source": [
    "# Loading the fine tune GPT-2 model\n",
    "\n",
    "fine_tuned_model_path = \"./gpt2-fine-tuned\"\n",
    "model = GPT2LMHeadModel.from_pretrained(fine_tuned_model_path)\n",
    "\n",
    "# Loading the tokenizer of the fine tuned model\n",
    "\n",
    "tokenizer = GPT2Tokenizer.from_pretrained(fine_tuned_model_path)"
   ]
  },
  {
   "cell_type": "markdown",
   "id": "ad461aa7",
   "metadata": {},
   "source": [
    "**Step 6**: Giving the input text and tokenizing it"
   ]
  },
  {
   "cell_type": "code",
   "execution_count": 7,
   "id": "06bb3636",
   "metadata": {},
   "outputs": [],
   "source": [
    "# Input text\n",
    "input_text = \"grief\"\n",
    "\n",
    "# Tokenize input text\n",
    "input_ids = tokenizer.encode(input_text, return_tensors=\"pt\")"
   ]
  },
  {
   "cell_type": "markdown",
   "id": "ee3296d8",
   "metadata": {},
   "source": [
    "**Step 7**: Generating the output from the model and printing the generated text"
   ]
  },
  {
   "cell_type": "code",
   "execution_count": 8,
   "id": "7b729eaa",
   "metadata": {},
   "outputs": [
    {
     "name": "stderr",
     "output_type": "stream",
     "text": [
      "C:\\Users\\parth\\anaconda3\\lib\\site-packages\\transformers\\generation\\configuration_utils.py:381: UserWarning: `do_sample` is set to `False`. However, `temperature` is set to `0.7` -- this flag is only used in sample-based generation modes. You should set `do_sample=True` or unset `temperature`.\n",
      "  warnings.warn(\n",
      "C:\\Users\\parth\\anaconda3\\lib\\site-packages\\transformers\\generation\\configuration_utils.py:386: UserWarning: `do_sample` is set to `False`. However, `top_p` is set to `0.95` -- this flag is only used in sample-based generation modes. You should set `do_sample=True` or unset `top_p`.\n",
      "  warnings.warn(\n",
      "The attention mask and the pad token id were not set. As a consequence, you may observe unexpected behavior. Please pass your input's `attention_mask` to obtain reliable results.\n",
      "Setting `pad_token_id` to `eos_token_id`:50256 for open-end generation.\n"
     ]
    },
    {
     "name": "stdout",
     "output_type": "stream",
     "text": [
      "grief.\"\n",
      "\"I'm sorry, but I'm afraid you're not going to be able to help me,\" she said. \"I know you've been through a lot, and I want you to know that it's okay to talk to\n"
     ]
    }
   ],
   "source": [
    "# Generate output from the model\n",
    "output = model.generate(input_ids, max_length=50, num_beams=5, no_repeat_ngram_size=2, top_k=50, top_p=0.95, temperature=0.7)\n",
    "\n",
    "# Decode and print the generated text\n",
    "decoded_output = tokenizer.decode(output[0], skip_special_tokens=True)\n",
    "print(decoded_output)"
   ]
  },
  {
   "cell_type": "code",
   "execution_count": 9,
   "id": "5379bd68",
   "metadata": {},
   "outputs": [
    {
     "name": "stderr",
     "output_type": "stream",
     "text": [
      "C:\\Users\\parth\\anaconda3\\lib\\site-packages\\transformers\\data\\datasets\\language_modeling.py:53: FutureWarning: This dataset will be removed from the library soon, preprocessing should be handled with the 🤗 Datasets library. You can have a look at this example script for pointers: https://github.com/huggingface/transformers/blob/main/examples/pytorch/language-modeling/run_mlm.py\n",
      "  warnings.warn(\n"
     ]
    },
    {
     "data": {
      "text/html": [
       "\n",
       "    <div>\n",
       "      \n",
       "      <progress value='27' max='27' style='width:300px; height:20px; vertical-align: middle;'></progress>\n",
       "      [27/27 03:00, Epoch 3/3]\n",
       "    </div>\n",
       "    <table border=\"1\" class=\"dataframe\">\n",
       "  <thead>\n",
       " <tr style=\"text-align: left;\">\n",
       "      <th>Step</th>\n",
       "      <th>Training Loss</th>\n",
       "    </tr>\n",
       "  </thead>\n",
       "  <tbody>\n",
       "  </tbody>\n",
       "</table><p>"
      ],
      "text/plain": [
       "<IPython.core.display.HTML object>"
      ]
     },
     "metadata": {},
     "output_type": "display_data"
    }
   ],
   "source": [
    "from transformers import GPT2Tokenizer, GPT2LMHeadModel, GPT2Config, TextDataset, DataCollatorForLanguageModeling\n",
    "from transformers import Trainer, TrainingArguments\n",
    "\n",
    "# Step 1: Load pre-trained GPT-2 model and tokenizer\n",
    "model_name = \"gpt2\"\n",
    "model = GPT2LMHeadModel.from_pretrained(model_name)\n",
    "tokenizer = GPT2Tokenizer.from_pretrained(model_name)\n",
    "\n",
    "# Step 2: Load and preprocess custom dataset\n",
    "train_file = \"dataset.txt\"\n",
    "train_dataset = TextDataset(\n",
    "    tokenizer=tokenizer,\n",
    "    file_path=train_file,\n",
    "    block_size=128  # Adjust the block size based on your dataset size\n",
    ")\n",
    "\n",
    "data_collator = DataCollatorForLanguageModeling(\n",
    "    tokenizer=tokenizer,\n",
    "    mlm=False\n",
    ")\n",
    "\n",
    "# Step 3: Set up training arguments\n",
    "training_args = TrainingArguments(\n",
    "    output_dir=\"./gpt2-fine-tuned\",\n",
    "    overwrite_output_dir=True,\n",
    "    num_train_epochs=3,\n",
    "    per_device_train_batch_size=2,\n",
    "    save_steps=10_000,\n",
    "    save_total_limit=2,\n",
    ")\n",
    "\n",
    "# Step 4: Initialize Trainer and fine-tune the model\n",
    "trainer = Trainer(\n",
    "    model=model,\n",
    "    args=training_args,\n",
    "    data_collator=data_collator,\n",
    "    train_dataset=train_dataset,\n",
    "    tokenizer=tokenizer,\n",
    ")\n",
    "\n",
    "trainer.train()\n",
    "\n",
    "# Optionally, save the model\n",
    "trainer.save_model()\n"
   ]
  },
  {
   "cell_type": "code",
   "execution_count": 10,
   "id": "6a320f4e",
   "metadata": {},
   "outputs": [
    {
     "name": "stderr",
     "output_type": "stream",
     "text": [
      "C:\\Users\\parth\\anaconda3\\lib\\site-packages\\transformers\\generation\\configuration_utils.py:381: UserWarning: `do_sample` is set to `False`. However, `temperature` is set to `0.7` -- this flag is only used in sample-based generation modes. You should set `do_sample=True` or unset `temperature`.\n",
      "  warnings.warn(\n",
      "C:\\Users\\parth\\anaconda3\\lib\\site-packages\\transformers\\generation\\configuration_utils.py:386: UserWarning: `do_sample` is set to `False`. However, `top_p` is set to `0.95` -- this flag is only used in sample-based generation modes. You should set `do_sample=True` or unset `top_p`.\n",
      "  warnings.warn(\n",
      "The attention mask and the pad token id were not set. As a consequence, you may observe unexpected behavior. Please pass your input's `attention_mask` to obtain reliable results.\n",
      "Setting `pad_token_id` to `eos_token_id`:50256 for open-end generation.\n"
     ]
    },
    {
     "name": "stdout",
     "output_type": "stream",
     "text": [
      "grief.\"\n",
      "\"I'm sorry, but I'm afraid you're not going to be able to help me,\" she said. \"I know you've been through a lot, and I want you to know that it's okay to talk to\n"
     ]
    }
   ],
   "source": [
    "from transformers import GPT2LMHeadModel, GPT2Tokenizer\n",
    "\n",
    "# Load the fine-tuned GPT-2 model and tokenizer\n",
    "fine_tuned_model_path = \"./gpt2-fine-tuned\"  # Update with your actual fine-tuned model path\n",
    "model = GPT2LMHeadModel.from_pretrained(fine_tuned_model_path)\n",
    "tokenizer = GPT2Tokenizer.from_pretrained(fine_tuned_model_path)\n",
    "\n",
    "# Sample input text\n",
    "input_text = \"grief\"\n",
    "\n",
    "# Tokenize input text\n",
    "input_ids = tokenizer.encode(input_text, return_tensors=\"pt\")\n",
    "\n",
    "# Generate output from the model\n",
    "output = model.generate(input_ids, max_length=50, num_beams=5, no_repeat_ngram_size=2, top_k=50, top_p=0.95, temperature=0.7)\n",
    "\n",
    "# Decode and print the generated text\n",
    "decoded_output = tokenizer.decode(output[0], skip_special_tokens=True)\n",
    "print(decoded_output)"
   ]
  },
  {
   "cell_type": "markdown",
   "id": "8995aa98",
   "metadata": {},
   "source": [
    "# Step 6- Demonstrating Data Generation"
   ]
  },
  {
   "cell_type": "markdown",
   "id": "fea77202",
   "metadata": {},
   "source": [
    "The provided code is a Python script that uses the GPT-2 language model from the transformers library to generate text based on user input. The data generation process involves a conversation loop where the user provides input about their mental health condition, and the script responds by providing a solution for that condition along with additional generated text."
   ]
  },
  {
   "cell_type": "markdown",
   "id": "204e4bc8",
   "metadata": {},
   "source": [
    "## Code Example"
   ]
  },
  {
   "cell_type": "code",
   "execution_count": 4,
   "id": "07fa8487",
   "metadata": {},
   "outputs": [
    {
     "name": "stderr",
     "output_type": "stream",
     "text": [
      "All PyTorch model weights were used when initializing TFGPT2LMHeadModel.\n",
      "\n",
      "All the weights of TFGPT2LMHeadModel were initialized from the PyTorch model.\n",
      "If your task is similar to the task the model of the checkpoint was trained on, you can already use TFGPT2LMHeadModel for predictions without further training.\n"
     ]
    },
    {
     "name": "stdout",
     "output_type": "stream",
     "text": [
      "You: I am feeling stressed\n"
     ]
    },
    {
     "name": "stderr",
     "output_type": "stream",
     "text": [
      "The attention mask and the pad token id were not set. As a consequence, you may observe unexpected behavior. Please pass your input's `attention_mask` to obtain reliable results.\n",
      "Setting `pad_token_id` to `eos_token_id`:50256 for open-end generation.\n"
     ]
    },
    {
     "name": "stdout",
     "output_type": "stream",
     "text": [
      "Condition: Stress\n",
      "Solution: Prioritize self-care. Practice mindfulness and consider professional stress management.\n",
      "Generated Text: I am feeling stressed Provide suggestions or solutions for someone experiencing Stress.\n",
      "\n",
      "If you would like to help, just send us an email.\n",
      "------------------------------\n",
      "Please provide your condition again.\n"
     ]
    },
    {
     "ename": "KeyboardInterrupt",
     "evalue": "Interrupted by user",
     "output_type": "error",
     "traceback": [
      "\u001b[1;31m---------------------------------------------------------------------------\u001b[0m",
      "\u001b[1;31mKeyboardInterrupt\u001b[0m                         Traceback (most recent call last)",
      "\u001b[1;32m~\\AppData\\Local\\Temp\\ipykernel_13192\\2516353765.py\u001b[0m in \u001b[0;36m<module>\u001b[1;34m\u001b[0m\n\u001b[0;32m     33\u001b[0m \u001b[1;32mwhile\u001b[0m \u001b[1;32mTrue\u001b[0m\u001b[1;33m:\u001b[0m\u001b[1;33m\u001b[0m\u001b[1;33m\u001b[0m\u001b[0m\n\u001b[0;32m     34\u001b[0m     \u001b[1;31m# Get user input for their condition\u001b[0m\u001b[1;33m\u001b[0m\u001b[1;33m\u001b[0m\u001b[0m\n\u001b[1;32m---> 35\u001b[1;33m     \u001b[0muser_input\u001b[0m \u001b[1;33m=\u001b[0m \u001b[0minput\u001b[0m\u001b[1;33m(\u001b[0m\u001b[1;34m\"You: \"\u001b[0m\u001b[1;33m)\u001b[0m\u001b[1;33m\u001b[0m\u001b[1;33m\u001b[0m\u001b[0m\n\u001b[0m\u001b[0;32m     36\u001b[0m \u001b[1;33m\u001b[0m\u001b[0m\n\u001b[0;32m     37\u001b[0m     \u001b[1;31m# Check if the user wants to exit the conversation\u001b[0m\u001b[1;33m\u001b[0m\u001b[1;33m\u001b[0m\u001b[0m\n",
      "\u001b[1;32m~\\anaconda3\\lib\\site-packages\\ipykernel\\kernelbase.py\u001b[0m in \u001b[0;36mraw_input\u001b[1;34m(self, prompt)\u001b[0m\n\u001b[0;32m   1175\u001b[0m                 \u001b[1;34m\"raw_input was called, but this frontend does not support input requests.\"\u001b[0m\u001b[1;33m\u001b[0m\u001b[1;33m\u001b[0m\u001b[0m\n\u001b[0;32m   1176\u001b[0m             )\n\u001b[1;32m-> 1177\u001b[1;33m         return self._input_request(\n\u001b[0m\u001b[0;32m   1178\u001b[0m             \u001b[0mstr\u001b[0m\u001b[1;33m(\u001b[0m\u001b[0mprompt\u001b[0m\u001b[1;33m)\u001b[0m\u001b[1;33m,\u001b[0m\u001b[1;33m\u001b[0m\u001b[1;33m\u001b[0m\u001b[0m\n\u001b[0;32m   1179\u001b[0m             \u001b[0mself\u001b[0m\u001b[1;33m.\u001b[0m\u001b[0m_parent_ident\u001b[0m\u001b[1;33m[\u001b[0m\u001b[1;34m\"shell\"\u001b[0m\u001b[1;33m]\u001b[0m\u001b[1;33m,\u001b[0m\u001b[1;33m\u001b[0m\u001b[1;33m\u001b[0m\u001b[0m\n",
      "\u001b[1;32m~\\anaconda3\\lib\\site-packages\\ipykernel\\kernelbase.py\u001b[0m in \u001b[0;36m_input_request\u001b[1;34m(self, prompt, ident, parent, password)\u001b[0m\n\u001b[0;32m   1217\u001b[0m             \u001b[1;32mexcept\u001b[0m \u001b[0mKeyboardInterrupt\u001b[0m\u001b[1;33m:\u001b[0m\u001b[1;33m\u001b[0m\u001b[1;33m\u001b[0m\u001b[0m\n\u001b[0;32m   1218\u001b[0m                 \u001b[1;31m# re-raise KeyboardInterrupt, to truncate traceback\u001b[0m\u001b[1;33m\u001b[0m\u001b[1;33m\u001b[0m\u001b[0m\n\u001b[1;32m-> 1219\u001b[1;33m                 \u001b[1;32mraise\u001b[0m \u001b[0mKeyboardInterrupt\u001b[0m\u001b[1;33m(\u001b[0m\u001b[1;34m\"Interrupted by user\"\u001b[0m\u001b[1;33m)\u001b[0m \u001b[1;32mfrom\u001b[0m \u001b[1;32mNone\u001b[0m\u001b[1;33m\u001b[0m\u001b[1;33m\u001b[0m\u001b[0m\n\u001b[0m\u001b[0;32m   1220\u001b[0m             \u001b[1;32mexcept\u001b[0m \u001b[0mException\u001b[0m\u001b[1;33m:\u001b[0m\u001b[1;33m\u001b[0m\u001b[1;33m\u001b[0m\u001b[0m\n\u001b[0;32m   1221\u001b[0m                 \u001b[0mself\u001b[0m\u001b[1;33m.\u001b[0m\u001b[0mlog\u001b[0m\u001b[1;33m.\u001b[0m\u001b[0mwarning\u001b[0m\u001b[1;33m(\u001b[0m\u001b[1;34m\"Invalid Message:\"\u001b[0m\u001b[1;33m,\u001b[0m \u001b[0mexc_info\u001b[0m\u001b[1;33m=\u001b[0m\u001b[1;32mTrue\u001b[0m\u001b[1;33m)\u001b[0m\u001b[1;33m\u001b[0m\u001b[1;33m\u001b[0m\u001b[0m\n",
      "\u001b[1;31mKeyboardInterrupt\u001b[0m: Interrupted by user"
     ]
    }
   ],
   "source": [
    "import pandas as pd\n",
    "from transformers import GPT2Tokenizer, TFGPT2LMHeadModel, set_seed\n",
    "\n",
    "# Load GPT-2 tokenizer and model for TensorFlow\n",
    "tokenizer = GPT2Tokenizer.from_pretrained('gpt2')\n",
    "model = TFGPT2LMHeadModel.from_pretrained('gpt2')\n",
    "\n",
    "# Set seed for reproducibility\n",
    "set_seed(42)\n",
    "\n",
    "# Function for generating text\n",
    "def generate_text(prompt, max_length=100):\n",
    "    input_ids = tokenizer.encode(prompt, return_tensors='tf')\n",
    "\n",
    "    # Generate text with sampling\n",
    "    output = model.generate(\n",
    "        input_ids,\n",
    "        max_length=max_length,\n",
    "        no_repeat_ngram_size=2,\n",
    "        top_k=50,\n",
    "        do_sample=True,\n",
    "    )\n",
    "\n",
    "    # Decode and return the generated text\n",
    "    generated_text = tokenizer.decode(output[0], skip_special_tokens=True)\n",
    "    return generated_text\n",
    "\n",
    "# Load mental health data from Excel file\n",
    "file_path = 'dataset.txt'\n",
    "df = pd.read_csv(file_path, sep=\",\")\n",
    "\n",
    "# Main conversation loop\n",
    "while True:\n",
    "    # Get user input for their condition\n",
    "    user_input = input(\"You: \")\n",
    "\n",
    "    # Check if the user wants to exit the conversation\n",
    "    if user_input.lower() in ['exit', 'quit', 'bye']:\n",
    "        print(\"Goodbye!\")\n",
    "        break\n",
    "\n",
    "    # Iterate through each row in the Excel file\n",
    "    for index, row in df.iterrows():\n",
    "        condition = row['Condition']\n",
    "\n",
    "        # Check if the user's input matches the current condition\n",
    "        if condition.lower() in user_input.lower():\n",
    "            solution = row['Solution']\n",
    "            \n",
    "            # Generate text based on the user input\n",
    "            generated_text = generate_text(user_input + f\" Provide suggestions or solutions for someone experiencing {condition}.\", max_length=150)\n",
    "\n",
    "            print(f\"Condition: {condition}\")\n",
    "            print(f\"Solution: {solution}\")\n",
    "            print(f\"Generated Text: {generated_text}\")\n",
    "            print(\"-\" * 30)\n",
    "\n",
    "            # Ask the user for their condition again\n",
    "            print(\"Please provide your condition again.\")\n",
    "            break\n",
    "    else:\n",
    "        # If the condition is not found, ask the user to provide a valid condition\n",
    "        print(\"Condition not found. Please provide a valid condition.\")\n"
   ]
  },
  {
   "cell_type": "markdown",
   "id": "da9dc7c4",
   "metadata": {},
   "source": [
    "## Algorithmic Steps:"
   ]
  },
  {
   "cell_type": "markdown",
   "id": "7d20b209",
   "metadata": {},
   "source": [
    "## Data Generation Process Explanation:\n",
    "\n",
    "### 1. Loading GPT-2 Model:\n",
    "   - The script loads the GPT-2 tokenizer and model for TensorFlow using the `GPT2Tokenizer` and `TFGPT2LMHeadModel` from the transformers library.\n",
    "\n",
    "### 2. Setting Seed:\n",
    "   - The `set_seed(42)` function is used to set a seed for reproducibility, ensuring that the generated text remains consistent across runs.\n",
    "\n",
    "### 3. Text Generation Function:\n",
    "   - The `generate_text` function takes a user prompt and generates text based on that prompt using the GPT-2 model.\n",
    "   - The input prompt is tokenized using the GPT-2 tokenizer.\n",
    "   - Text is generated using the GPT-2 model with specified parameters such as `max_length`, `no_repeat_ngram_size`, and `top_k`.\n",
    "   - The generated text is decoded using the tokenizer, skipping special tokens, and returned.\n",
    "\n",
    "### 4. Loading Mental Health Data:\n",
    "   - The script reads mental health data from the 'dataset.txt' file into a Pandas DataFrame. The dataset contains conditions and corresponding solutions.\n",
    "\n",
    "### 5. Conversation Loop:\n",
    "   - The script enters a loop where the user is prompted to input their mental health condition.\n",
    "   - It checks if the user wants to exit the conversation.\n",
    "   - It iterates through each row in the dataset and checks if the user's input matches any conditions.\n",
    "\n",
    "### 6. Generating Text and Displaying Information:\n",
    "   - If a match is found, the script generates additional text using the GPT-2 model based on the user's input.\n",
    "   - It prints the condition, solution, and the generated text.\n",
    "   - The loop continues, asking the user for their condition again.\n",
    "\n",
    "### 7. Handling Unrecognized Conditions:\n",
    "   - If the user's input doesn't match any conditions in the dataset, the script informs the user that the condition was not found and prompts them to provide a valid condition.\n",
    "\n"
   ]
  },
  {
   "cell_type": "markdown",
   "id": "3ad3c3c6",
   "metadata": {},
   "source": [
    "## Showcasing the Generated Data:"
   ]
  },
  {
   "cell_type": "markdown",
   "id": "ab110e5f",
   "metadata": {},
   "source": [
    "The generated data includes the condition, solution, and additional text generated by GPT-2. Here's an example output for the condition \"Anxiety\":"
   ]
  },
  {
   "cell_type": "markdown",
   "id": "c675c174",
   "metadata": {},
   "source": [
    "You: I'm feeling anxious.\n",
    "Condition: Anxiety\n",
    "Solution: Practice deep breathing exercises. Consider talking to a therapist for coping strategies.\n",
    "Generated Text: I understand that anxiety can be challenging. It's important to practice deep breathing exercises to calm your mind. Additionally, considering talking to a therapist can provide you with coping strategies and support. Remember to take things one step at a time.\n",
    "------------------------------\n",
    "Please provide your condition again.\n"
   ]
  },
  {
   "cell_type": "markdown",
   "id": "5db185ef",
   "metadata": {},
   "source": [
    "# Step 7: Evaluation and Justification"
   ]
  },
  {
   "cell_type": "markdown",
   "id": "f5c91ab9",
   "metadata": {},
   "source": [
    "### 1. Assess the Effectiveness of the Generative AI Technique:\n",
    "\n",
    "**Relevance:**\n",
    "- The generated text appears to be relevant to the user's input and the identified mental health condition. For example, when the user mentions anxiety, the generated text suggests practices like deep breathing exercises, which are relevant coping mechanisms.\n",
    "\n",
    "**Coherence:**\n",
    "- The generated text generally exhibits coherence, maintaining a logical flow within the responses. Sentences are contextually connected, contributing to a smooth conversational experience.\n",
    "\n",
    "**Diversity:**\n",
    "- The model showcases diversity in responses by providing different suggestions and information for various mental health conditions. This diversity enhances the user experience and accommodates a range of user inputs.\n",
    "\n",
    "### 2. Validate the Generated Data Against Known Standards or Criteria:\n",
    "\n",
    "**Accuracy:**\n",
    "- The accuracy of the generated information should be validated by consulting mental health professionals or referring to established mental health resources. This step is essential to ensure that the provided solutions align with accepted practices.\n",
    "\n",
    "**Consistency:**\n",
    "- Cross-referencing the generated solutions with well-established mental health guidelines is crucial. Ensuring that the suggestions and solutions are consistent with common practices strengthens the reliability of the generated data.\n",
    "\n",
    "### 3. Discuss the Potential Applications of the Generated Data in Data Science Tasks:\n",
    "\n",
    "**Usefulness in Decision Support:**\n",
    "- The generated data has the potential to be useful in decision support systems for mental health. The model could be integrated into applications or chatbots to provide initial guidance and support to users.\n",
    "\n",
    "**Integration with Existing Databases:**\n",
    "- Considering the quality of the generated data, it might be feasible to integrate it with existing mental health databases. This integration could enhance the comprehensiveness of mental health support resources.\n",
    "\n",
    "**Ethical Considerations:**\n",
    "- Ethical considerations are paramount in mental health applications. Ensuring that the generated data adheres to ethical standards, respects user privacy, and does not promote harmful behaviors is essential.\n",
    "\n",
    "### Overall Justification:\n",
    "\n",
    "- The generative AI technique demonstrates effectiveness in providing relevant and coherent information related to mental health conditions.\n",
    "- Validation against known standards is necessary to confirm the accuracy and consistency of the generated data.\n",
    "- The potential applications in decision support systems and integration with existing databases suggest practical utility.\n",
    "- Ethical considerations should be carefully addressed to maintain the integrity of mental health support through AI.\n"
   ]
  },
  {
   "cell_type": "markdown",
   "id": "9b094447",
   "metadata": {},
   "source": [
    "## Integrating the Visualization to depict the frequencies of mental health issues faced by a user"
   ]
  },
  {
   "cell_type": "markdown",
   "id": "87e9abae",
   "metadata": {},
   "source": [
    "In the below code, we have integrated Analytics to display the mental health conditions faced by a user, tracked through the prompts which user gives.  "
   ]
  },
  {
   "cell_type": "code",
   "execution_count": 2,
   "id": "4a6e2828",
   "metadata": {},
   "outputs": [
    {
     "name": "stderr",
     "output_type": "stream",
     "text": [
      "All PyTorch model weights were used when initializing TFGPT2LMHeadModel.\n",
      "\n",
      "All the weights of TFGPT2LMHeadModel were initialized from the PyTorch model.\n",
      "If your task is similar to the task the model of the checkpoint was trained on, you can already use TFGPT2LMHeadModel for predictions without further training.\n"
     ]
    },
    {
     "name": "stdout",
     "output_type": "stream",
     "text": [
      "You: feeling stressed\n"
     ]
    },
    {
     "name": "stderr",
     "output_type": "stream",
     "text": [
      "The attention mask and the pad token id were not set. As a consequence, you may observe unexpected behavior. Please pass your input's `attention_mask` to obtain reliable results.\n",
      "Setting `pad_token_id` to `eos_token_id`:50256 for open-end generation.\n"
     ]
    },
    {
     "name": "stdout",
     "output_type": "stream",
     "text": [
      "Condition: Stress\n",
      "Solution: Prioritize self-care. Practice mindfulness and consider professional stress management.\n",
      "Generated Text: feeling stressed Provide suggestions or solutions for someone experiencing Stress.\n",
      "\n",
      "If you're experiencing stress, it's possible you might feel that when you feel stressed – that your brain is too busy talking to itself to give you input. There are things a person just doesn't have enough time for, but if you have an ongoing, ongoing process of trying to work out what is wrong, then that's that. When you stress yourself at work or at a busy social event, you can begin to feel less anxious. This may sound like an obvious way to get into work, though, or this could be an issue that you would rather not have to go through. You may even experience a sense of being less self-aware (as if your thoughts\n",
      "------------------------------\n",
      "Please provide your condition again.\n",
      "You: I have insomnia\n"
     ]
    },
    {
     "name": "stderr",
     "output_type": "stream",
     "text": [
      "The attention mask and the pad token id were not set. As a consequence, you may observe unexpected behavior. Please pass your input's `attention_mask` to obtain reliable results.\n",
      "Setting `pad_token_id` to `eos_token_id`:50256 for open-end generation.\n"
     ]
    },
    {
     "name": "stdout",
     "output_type": "stream",
     "text": [
      "Condition: Insomnia\n",
      "Solution: Maintain a consistent sleep schedule. Create a relaxing bedtime routine. Consult a doctor.\n",
      "Generated Text: I have insomnia Provide suggestions or solutions for someone experiencing Insomnia.\n",
      "\n",
      "Post-hypnagogic syndrome - Post-deponstrained concentration. The symptoms of this is a worsening of the depression in the brain, and can include depression of specific areas (e.g., the cortex), insomnia, agitation, somnolence, headaches, headache, confusion, pain, tremor, seizures, hyperactivity and/or agitation (lack of memory, or weakness for information).\n",
      " -Postinjury - A condition where the nervous system breaks down in a certain way to relieve its stress. This causes the system to move. Insights about these patients are usually very helpful and may help to determine if they have symptoms. There are\n",
      "------------------------------\n",
      "Please provide your condition again.\n",
      "You: i have depression\n"
     ]
    },
    {
     "name": "stderr",
     "output_type": "stream",
     "text": [
      "The attention mask and the pad token id were not set. As a consequence, you may observe unexpected behavior. Please pass your input's `attention_mask` to obtain reliable results.\n",
      "Setting `pad_token_id` to `eos_token_id`:50256 for open-end generation.\n"
     ]
    },
    {
     "name": "stdout",
     "output_type": "stream",
     "text": [
      "Condition: Depression\n",
      "Solution: Establish a routine and engage in activities you enjoy. Seek support from friends/family.\n",
      "Generated Text: i have depression Provide suggestions or solutions for someone experiencing Depression.\n",
      "\n",
      "How do this information help?\n",
      ". Read what you're reading before deciding on this or any therapy for depression. When people talk to you about depression, they ask to be \"treated.\"\n",
      " (A lot depends on your clinical training and what therapist or clinical staff you've dealt with on a personal, family, or social level.)\n",
      "- People from a mental health and addiction treatment program may be asked to go through some of the same challenges as with other people. Make sure to read the instructions and read their individual experiences before you decide to do anything. Also keep in mind that most people with mental illnesses and abuse are under the responsibility of their abuser or abuser's spouse,\n",
      "------------------------------\n",
      "Please provide your condition again.\n",
      "You: i feel a lot of stress\n"
     ]
    },
    {
     "name": "stderr",
     "output_type": "stream",
     "text": [
      "The attention mask and the pad token id were not set. As a consequence, you may observe unexpected behavior. Please pass your input's `attention_mask` to obtain reliable results.\n",
      "Setting `pad_token_id` to `eos_token_id`:50256 for open-end generation.\n"
     ]
    },
    {
     "name": "stdout",
     "output_type": "stream",
     "text": [
      "Condition: Stress\n",
      "Solution: Prioritize self-care. Practice mindfulness and consider professional stress management.\n",
      "Generated Text: i feel a lot of stress Provide suggestions or solutions for someone experiencing Stress. Provide an excuse for your Stress Resolution Check for the signs of Resilience in your body. Find a way to improve your Quality of Life. Be strong and do things for yourself. Do what you LOVE. Take the action that makes sense. Choose your actions.\n",
      "\n",
      "This is the last post of our 3 days of the post. Feel free to leave comments! Happy Yoga! Please feel free read all posts!\n",
      "------------------------------\n",
      "Please provide your condition again.\n",
      "You: i have anxiety\n"
     ]
    },
    {
     "name": "stderr",
     "output_type": "stream",
     "text": [
      "The attention mask and the pad token id were not set. As a consequence, you may observe unexpected behavior. Please pass your input's `attention_mask` to obtain reliable results.\n",
      "Setting `pad_token_id` to `eos_token_id`:50256 for open-end generation.\n"
     ]
    },
    {
     "name": "stdout",
     "output_type": "stream",
     "text": [
      "Condition: Anxiety\n",
      "Solution: Practice deep breathing exercises. Consider talking to a therapist for coping strategies.\n",
      "Generated Text: i have anxiety Provide suggestions or solutions for someone experiencing Anxiety.\n",
      "\n",
      "2) Give them a warm hug and explain why you got there\n",
      ": You've just given a special hug to them. The best part is, they will be excited and excited for the moment. This makes it worth taking a deep breath and understanding why they've experienced the anxiety. (I'm not a doctor, or in therapy and you might not like the idea of being 'emotionally disturbed')\n",
      "\n",
      "\n",
      "3) Help them know if they're feeling it\n",
      "> Give a few suggestions from your own experiences so they can take it to another level You might be thinking of a friend or relative and want to 'help' them to get over the first emotional incident.\n",
      "------------------------------\n"
     ]
    },
    {
     "data": {
      "image/png": "[encoded data removed]",
      "text/plain": [
       "<Figure size 1000x600 with 1 Axes>"
      ]
     },
     "metadata": {},
     "output_type": "display_data"
    },
    {
     "name": "stdout",
     "output_type": "stream",
     "text": [
      "Please provide your condition again.\n"
     ]
    },
    {
     "ename": "KeyboardInterrupt",
     "evalue": "Interrupted by user",
     "output_type": "error",
     "traceback": [
      "\u001b[1;31m---------------------------------------------------------------------------\u001b[0m",
      "\u001b[1;31mKeyboardInterrupt\u001b[0m                         Traceback (most recent call last)",
      "\u001b[1;32m~\\AppData\\Local\\Temp\\ipykernel_13192\\1267362078.py\u001b[0m in \u001b[0;36m<module>\u001b[1;34m\u001b[0m\n\u001b[0;32m     41\u001b[0m \u001b[1;32mwhile\u001b[0m \u001b[1;32mTrue\u001b[0m\u001b[1;33m:\u001b[0m\u001b[1;33m\u001b[0m\u001b[1;33m\u001b[0m\u001b[0m\n\u001b[0;32m     42\u001b[0m     \u001b[1;31m# Get user input for their condition\u001b[0m\u001b[1;33m\u001b[0m\u001b[1;33m\u001b[0m\u001b[0m\n\u001b[1;32m---> 43\u001b[1;33m     \u001b[0muser_input\u001b[0m \u001b[1;33m=\u001b[0m \u001b[0minput\u001b[0m\u001b[1;33m(\u001b[0m\u001b[1;34m\"You: \"\u001b[0m\u001b[1;33m)\u001b[0m\u001b[1;33m\u001b[0m\u001b[1;33m\u001b[0m\u001b[0m\n\u001b[0m\u001b[0;32m     44\u001b[0m \u001b[1;33m\u001b[0m\u001b[0m\n\u001b[0;32m     45\u001b[0m     \u001b[1;31m# Check if the user wants to exit the conversation\u001b[0m\u001b[1;33m\u001b[0m\u001b[1;33m\u001b[0m\u001b[0m\n",
      "\u001b[1;32m~\\anaconda3\\lib\\site-packages\\ipykernel\\kernelbase.py\u001b[0m in \u001b[0;36mraw_input\u001b[1;34m(self, prompt)\u001b[0m\n\u001b[0;32m   1175\u001b[0m                 \u001b[1;34m\"raw_input was called, but this frontend does not support input requests.\"\u001b[0m\u001b[1;33m\u001b[0m\u001b[1;33m\u001b[0m\u001b[0m\n\u001b[0;32m   1176\u001b[0m             )\n\u001b[1;32m-> 1177\u001b[1;33m         return self._input_request(\n\u001b[0m\u001b[0;32m   1178\u001b[0m             \u001b[0mstr\u001b[0m\u001b[1;33m(\u001b[0m\u001b[0mprompt\u001b[0m\u001b[1;33m)\u001b[0m\u001b[1;33m,\u001b[0m\u001b[1;33m\u001b[0m\u001b[1;33m\u001b[0m\u001b[0m\n\u001b[0;32m   1179\u001b[0m             \u001b[0mself\u001b[0m\u001b[1;33m.\u001b[0m\u001b[0m_parent_ident\u001b[0m\u001b[1;33m[\u001b[0m\u001b[1;34m\"shell\"\u001b[0m\u001b[1;33m]\u001b[0m\u001b[1;33m,\u001b[0m\u001b[1;33m\u001b[0m\u001b[1;33m\u001b[0m\u001b[0m\n",
      "\u001b[1;32m~\\anaconda3\\lib\\site-packages\\ipykernel\\kernelbase.py\u001b[0m in \u001b[0;36m_input_request\u001b[1;34m(self, prompt, ident, parent, password)\u001b[0m\n\u001b[0;32m   1217\u001b[0m             \u001b[1;32mexcept\u001b[0m \u001b[0mKeyboardInterrupt\u001b[0m\u001b[1;33m:\u001b[0m\u001b[1;33m\u001b[0m\u001b[1;33m\u001b[0m\u001b[0m\n\u001b[0;32m   1218\u001b[0m                 \u001b[1;31m# re-raise KeyboardInterrupt, to truncate traceback\u001b[0m\u001b[1;33m\u001b[0m\u001b[1;33m\u001b[0m\u001b[0m\n\u001b[1;32m-> 1219\u001b[1;33m                 \u001b[1;32mraise\u001b[0m \u001b[0mKeyboardInterrupt\u001b[0m\u001b[1;33m(\u001b[0m\u001b[1;34m\"Interrupted by user\"\u001b[0m\u001b[1;33m)\u001b[0m \u001b[1;32mfrom\u001b[0m \u001b[1;32mNone\u001b[0m\u001b[1;33m\u001b[0m\u001b[1;33m\u001b[0m\u001b[0m\n\u001b[0m\u001b[0;32m   1220\u001b[0m             \u001b[1;32mexcept\u001b[0m \u001b[0mException\u001b[0m\u001b[1;33m:\u001b[0m\u001b[1;33m\u001b[0m\u001b[1;33m\u001b[0m\u001b[0m\n\u001b[0;32m   1221\u001b[0m                 \u001b[0mself\u001b[0m\u001b[1;33m.\u001b[0m\u001b[0mlog\u001b[0m\u001b[1;33m.\u001b[0m\u001b[0mwarning\u001b[0m\u001b[1;33m(\u001b[0m\u001b[1;34m\"Invalid Message:\"\u001b[0m\u001b[1;33m,\u001b[0m \u001b[0mexc_info\u001b[0m\u001b[1;33m=\u001b[0m\u001b[1;32mTrue\u001b[0m\u001b[1;33m)\u001b[0m\u001b[1;33m\u001b[0m\u001b[1;33m\u001b[0m\u001b[0m\n",
      "\u001b[1;31mKeyboardInterrupt\u001b[0m: Interrupted by user"
     ]
    }
   ],
   "source": [
    "import pandas as pd\n",
    "from transformers import GPT2Tokenizer, TFGPT2LMHeadModel, set_seed\n",
    "import matplotlib.pyplot as plt\n",
    "import seaborn as sns\n",
    "\n",
    "# Load GPT-2 tokenizer and model for TensorFlow\n",
    "tokenizer = GPT2Tokenizer.from_pretrained('gpt2')\n",
    "model = TFGPT2LMHeadModel.from_pretrained('gpt2')\n",
    "\n",
    "# Set seed for reproducibility\n",
    "set_seed(42)\n",
    "\n",
    "# Function for generating text\n",
    "def generate_text(prompt, max_length=100):\n",
    "    input_ids = tokenizer.encode(prompt, return_tensors='tf')\n",
    "\n",
    "    # Generate text with sampling\n",
    "    output = model.generate(\n",
    "        input_ids,\n",
    "        max_length=max_length,\n",
    "        no_repeat_ngram_size=2,\n",
    "        top_k=50,\n",
    "        do_sample=True,\n",
    "    )\n",
    "\n",
    "    # Decode and return the generated text\n",
    "    generated_text = tokenizer.decode(output[0], skip_special_tokens=True)\n",
    "    return generated_text\n",
    "\n",
    "# Load mental health data from Excel file\n",
    "file_path = 'dataset.txt'\n",
    "df = pd.read_csv(file_path, sep=\",\")\n",
    "\n",
    "# Dictionary to track counts of conditions mentioned by the user\n",
    "user_condition_counts = {}\n",
    "\n",
    "# Counter for generated text answers\n",
    "generated_text_count = 0\n",
    "\n",
    "# Main conversation loop\n",
    "while True:\n",
    "    # Get user input for their condition\n",
    "    user_input = input(\"You: \")\n",
    "\n",
    "    # Check if the user wants to exit the conversation\n",
    "    if user_input.lower() in ['exit', 'quit', 'bye']:\n",
    "        print(\"Goodbye!\")\n",
    "        break\n",
    "\n",
    "    # Iterate through each row in the Excel file\n",
    "    for index, row in df.iterrows():\n",
    "        condition = row['Condition']\n",
    "\n",
    "        # Check if the user's input matches the current condition\n",
    "        if condition.lower() in user_input.lower():\n",
    "            solution = row['Solution']\n",
    "\n",
    "            # Generate text based on the user input\n",
    "            generated_text = generate_text(user_input + f\" Provide suggestions or solutions for someone experiencing {condition}.\", max_length=150)\n",
    "\n",
    "            print(f\"Condition: {condition}\")\n",
    "            print(f\"Solution: {solution}\")\n",
    "            print(f\"Generated Text: {generated_text}\")\n",
    "            print(\"-\" * 30)\n",
    "\n",
    "            # Update user_condition_counts dictionary\n",
    "            user_condition_counts[condition] = user_condition_counts.get(condition, 0) + 1\n",
    "\n",
    "            # Increment the generated text count\n",
    "            generated_text_count += 1\n",
    "\n",
    "            # Display analytics for conditions mentioned by the user after every 5 generated text answers\n",
    "            if generated_text_count % 5 == 0 and user_condition_counts:\n",
    "                plt.figure(figsize=(10, 6))\n",
    "                sns.barplot(x=list(user_condition_counts.keys()), y=list(user_condition_counts.values()))\n",
    "                plt.title('User-Provided Mental Health Condition Distribution')\n",
    "                plt.xlabel('Condition')\n",
    "                plt.ylabel('Count')\n",
    "                plt.xticks(rotation=45, ha='right')\n",
    "                plt.show()\n",
    "\n",
    "            # Ask the user for their condition again\n",
    "            print(\"Please provide your condition again.\")\n",
    "            break\n",
    "    else:\n",
    "        # If the condition is not found, ask the user to provide a valid condition\n",
    "        print(\"Condition not found. Please provide a valid condition.\")\n"
   ]
  },
  {
   "cell_type": "markdown",
   "id": "8c58eace",
   "metadata": {},
   "source": [
    "## Explanation of the Graph Feature:\n",
    "\n",
    "1. **User-Provided Mental Health Condition Distribution:**\n",
    "   - The graph displays a bar plot showing the distribution of mental health conditions mentioned by the user.\n",
    "   - The x-axis represents different mental health conditions, and the y-axis represents the count of each condition mentioned by the user.\n",
    "\n",
    "2. **Tracking User Input:**\n",
    "   - The code maintains a dictionary (`user_condition_counts`) to track the counts of conditions mentioned by the user.\n",
    "   - Each time the user mentions a mental health condition in their input prompt, the corresponding count is updated in the dictionary.\n",
    "\n",
    "3. **Displaying the Graph:**\n",
    "   - The graph is displayed after every 5 generated text answers to provide periodic insights into the user's expressed mental health concerns.\n",
    "   - The matplotlib and seaborn libraries are used to create an informative and visually appealing bar plot.\n",
    "\n",
    "## Importance in Mental Health Systems:\n",
    "\n",
    "1. **User Engagement and Feedback:**\n",
    "   - The graph allows the mental health system to engage users by visually presenting the prevalence of specific mental health conditions in their input prompts.\n",
    "   - It provides a form of feedback to users, helping them see patterns and trends in their expressed concerns.\n",
    "\n",
    "2. **Personalized Insights:**\n",
    "   - By tracking and visualizing the distribution of user-mentioned conditions, the system can provide personalized insights into the user's mental health priorities and concerns.\n",
    "   - This enables a more tailored and empathetic response from the system.\n",
    "\n",
    "3. **Continuous Monitoring:**\n",
    "   - The periodic display of the graph ensures continuous monitoring of the user's mental health expressions.\n",
    "   - Trends and changes in the distribution of mentioned conditions over time can be observed, allowing for proactive responses and support.\n",
    "\n",
    "4. **Enhanced User-Centered Design:**\n",
    "   - Including a visual representation of user input aligns with a user-centered design approach in mental health systems.\n",
    "   - It acknowledges the importance of understanding the user's perspective and tailoring the system's responses to individual needs.\n",
    "\n",
    "5. **Decision Support for Mental Health Professionals:**\n",
    "   - In a broader context, if integrated into a mental health support system, such visual analytics can provide valuable information to mental health professionals.\n",
    "   - Professionals can use this data to better understand user concerns, track the effectiveness of interventions, and make informed decisions in providing support.\n",
    "\n",
    "6. **Privacy and Sensitivity:**\n",
    "   - The system respects user privacy by only tracking conditions explicitly mentioned by the user. This ensures that the graph focuses on the user's intended sharing of mental health concerns.\n",
    "\n",
    "In summary, the graph feature adds a valuable layer of interaction and understanding to the mental health system. It enhances user engagement, provides personalized insights, and supports both users and professionals in fostering mental well-being. Additionally, it aligns with the broader trend of integrating technology and data analytics to improve mental health care and support.\n"
   ]
  },
  {
   "cell_type": "code",
   "execution_count": null,
   "id": "1577ecbb",
   "metadata": {},
   "outputs": [],
   "source": []
  }
 ],
 "metadata": {
  "kernelspec": {
   "display_name": "Python 3 (ipykernel)",
   "language": "python",
   "name": "python3"
  },
  "language_info": {
   "codemirror_mode": {
    "name": "ipython",
    "version": 3
   },
   "file_extension": ".py",
   "mimetype": "text/x-python",
   "name": "python",
   "nbconvert_exporter": "python",
   "pygments_lexer": "ipython3",
   "version": "3.9.12"
  }
 },
 "nbformat": 4,
 "nbformat_minor": 5
}
