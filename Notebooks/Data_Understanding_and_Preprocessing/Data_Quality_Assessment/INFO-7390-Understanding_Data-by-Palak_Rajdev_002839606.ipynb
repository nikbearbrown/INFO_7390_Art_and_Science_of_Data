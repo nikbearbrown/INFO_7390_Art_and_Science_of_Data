{
 "cells": [
  {
   "cell_type": "markdown",
   "id": "46a312ae",
   "metadata": {},
   "source": [
    "# Title: \n",
    "### Time Series Analysis and Forecasting"
   ]
  },
  {
   "cell_type": "markdown",
   "id": "c2efbdd7",
   "metadata": {},
   "source": [
    "## Objective: Time Series Analysis and Forecasting in the Context of IoT\n",
    "The goal of this project is to deepen the understanding and application of time series analysis and forecasting within IoT environments, emphasizing a detailed mathematical approach and context-specific explanations.\n",
    "\n",
    "### Understanding the Nature of IoT Data:\n",
    "\n",
    "Provide a mathematical background of time-series data characteristics, emphasizing concepts like stationarity, autocorrelation, and seasonality.\n",
    "Use real IoT data examples, such as sensor output, to illustrate these properties, explaining the significance of each characteristic in the IoT context.\n",
    "Model Development:\n",
    "\n",
    "Introduce models (e.g., ARIMA, LSTM) with their mathematical foundations. Explain the principles of differencing, auto-regression, and moving averages, and how they apply to IoT data.\n",
    "Demonstrate model fitting with IoT time series data through graphs, detailing the interpretation of results and model diagnostics.\n",
    "Forecasting:\n",
    "\n",
    "Delve into the mathematical basis of forecasting techniques and error metrics (MAE, RMSE), illustrating their calculation and practical meaning.\n",
    "Present case studies that apply these models to IoT scenarios, meticulously detailing each step and the mathematical rationale behind it.\n",
    "\n",
    "### Real-World Application:\n",
    "\n",
    "Connect theoretical models to real-world IoT applications like predictive maintenance, focusing on the mathematical workings in these settings.\n",
    "Evaluate model performance in real scenarios using statistical measures, discussing their relevance and implications in the specific application context.\n",
    "This approach aims to create a comprehensive understanding of time series analysis in IoT, linking mathematical theory with practical, real-world applications.\n",
    "\n",
    "\n",
    "\n"
   ]
  },
  {
   "cell_type": "markdown",
   "id": "f5e72196",
   "metadata": {},
   "source": [
    "# Introduction\n",
    "The Internet of Things (IoT) represents a transformative leap in how we engage with the digital and physical worlds. It's a sprawling ecosystem of connected devices, ranging from simple environmental sensors to complex networked systems, each producing a steady stream of data. This research zeroes in on a crucial facet of this digital deluge: the analysis and forecasting of time series data within the IoT framework.\n",
    "\n",
    "Time series analysis is a cornerstone in understanding IoT data, offering insights into patterns, trends, and anomalies over time. This is critical not only for predictive insights but also for empowering more intelligent and proactive decision-making. However, the volume, diversity, and velocity of data churned out by IoT devices pose significant challenges. These include handling massive datasets, ensuring real-time processing, and dealing with irregularities and noise inherent in real-world data.\n",
    "\n",
    "To navigate these complexities, this research will employ advanced time series analysis techniques, blending traditional statistical methods with modern machine learning approaches. Methods such as ARIMA (AutoRegressive Integrated Moving Average) for capturing linear trends and seasonality, and LSTM (Long Short-Term Memory) neural networks for handling non-linear patterns in high-velocity data, will be explored in-depth. The mathematical nuances of these methods, including their strengths and limitations in the IoT context, will be a focal point.\n",
    "\n",
    "Through this analytical lens, the research aims to harness the full potential of IoT data, enabling predictive and prescriptive analytics that are pivotal in our increasingly data-centric world. The ultimate goal is to not just interpret IoT data but to leverage it in forecasting future trends and informing smarter, data-driven decisions.\n",
    "\n"
   ]
  },
  {
   "cell_type": "markdown",
   "id": "f87120ab",
   "metadata": {},
   "source": [
    "\"The Internet of Things (IoT) is not just an expansive network of devices; it's a dynamic data generator that is reshaping our interaction with technology. Traditional data analysis falls short in deciphering the complexities of IoT's large-scale, real-time data. This research zeroes in on the crucial role of time series analysis in IoT, a tool vital for unlocking patterns and trends over time, thereby enabling predictive insights and smarter decision-making. The challenges are formidable: the volume, variety, and velocity of IoT data are unprecedented. Our aim is to surmount these challenges, utilizing advanced time series analysis techniques to transform IoT data into actionable, data-driven decisions. This is especially crucial in areas ranging from urban planning and environmental monitoring to healthcare and industrial maintenance, where timely and accurate predictions can have far-reaching impacts.\"\n",
    "\n",
    "# Research Question\n",
    "\"How can time series analysis and forecasting techniques be specifically tailored and enhanced for effective interpretation and prediction of data trends in IoT environments? This research delves into the unique aspects of IoT data – its scale, real-time nature, and complexity – and explores optimized methodologies for accurate, efficient forecasting in such dynamic settings.\"\n",
    "\n",
    "# Theory Behind the Research\n",
    "## Trend and Seasonality Analysis:\n",
    "\n",
    "Trends reveal long-term shifts in IoT data, essential for understanding gradual changes in scenarios like energy usage across seasons.\n",
    "Seasonality captures predictable, short-term cycles, evident in daily patterns of urban traffic or usage spikes in smart grids.\n",
    "Autocorrelation Analysis:\n",
    "\n",
    "This is key in determining how past data influences future values, a fundamental concept in IoT where past sensor readings can predict future states.\n",
    "Statistical Models:\n",
    "\n",
    "ARIMA and ARMA, grounded in the assumption of data stationarity, use historical data trends for future predictions, adaptable to scenarios like temperature monitoring in climate control systems.\n",
    "Machine Learning Models:\n",
    "\n",
    "Models like LSTMs and RNNs excel in learning from large datasets typical of IoT, making them ideal for complex pattern recognition tasks like predictive maintenance in industrial IoT.\n",
    "Deep Learning Models:\n",
    "\n",
    "CNNs are adept at handling high-dimensional data, making them suitable for advanced tasks like image-based fault detection in automated surveillance systems.\n",
    "Challenges in IoT Data Analysis:\n",
    "\n",
    "The sheer scale and real-time nature of IoT data demand scalable, efficient algorithms for real-time analysis.\n",
    "IoT's diverse data types require flexible, adaptable models.\n",
    "Methods robust enough to handle data quality issues, like noise and missing values, are crucial.\n",
    "Foundational Assumptions:\n",
    "\n",
    "Stationarity and ergodicity are critical assumptions for some models. Addressing non-stationarity in IoT data, like changing sensor behaviors over time, is a key challenge.\n",
    "Model selection involves balancing the complexity of IoT data with the practicality and accuracy of the models.\n"
   ]
  },
  {
   "cell_type": "markdown",
   "id": "00f03c8f",
   "metadata": {},
   "source": [
    "Data set - https://www.kaggle.com/datasets/atulanandjha/temperature-readings-iot-devices\n",
    "\n"
   ]
  },
  {
   "cell_type": "markdown",
   "id": "e8e11982",
   "metadata": {},
   "source": [
    "# Tutorial: Time Series Analysis of IoT Temperature Data\n",
    "Introduction\n",
    "In this tutorial, we will explore how to analyze and visualize time series data from IoT devices using Python. Our dataset comes from IoT temperature sensors and is available on Kaggle. We'll walk through each step, from data loading to advanced analysis.\n",
    "\n",
    "## Step 1: Loading the Data\n",
    "First, we import essential libraries: numpy, pandas, and matplotlib.pyplot. These are fundamental for data manipulation and visualization. Next, we load the dataset using pandas.read_csv and examine its columns to understand its structure.\n",
    "\n",
    "## Step 2: Data Preparation\n",
    "Data preparation is crucial. We create a new DataFrame with selected columns and then manipulate the 'noted_date' column to extract a more usable date format. This process involves splitting strings and reformatting the date.\n",
    "\n",
    "## Step 3: Descriptive Analysis\n",
    "Before diving into complex analyses, we perform a basic descriptive analysis using DataFrame.describe(). This gives us an understanding of the central tendencies and distributions of our temperature data.\n",
    "\n",
    "## Step 4: Data Cleaning\n",
    "Data cleaning is vital. We convert the temperature column to integers for more accurate calculations. Also, we check for missing values to ensure the integrity of our analysis.\n",
    "\n",
    "## Step 5: Initial Visualization\n",
    "With the data cleaned, we create our first visualization: a scatter plot of temperature readings from internal and external sensors. This helps us spot any obvious patterns or anomalies in the data.\n",
    "\n",
    "## Step 6: Enhancing the Data Structure\n",
    "We enhance our data structure by extracting the month from the 'noted_date' and adding it as a new column. This step will aid in more detailed analysis later.\n",
    "\n",
    "## Step 7: Advanced Visualization\n",
    "Now, we delve into more advanced visualizations. We use seaborn for its advanced plotting capabilities. First, we create a bar plot to observe temperature trends across different months, categorized by sensor location. Then, we employ a violin plot for a more nuanced view of the temperature distributions.\n",
    "\n",
    "## Step 8: Seasonal Analysis\n",
    "To gain insights into seasonal patterns, we map the numeric months to their corresponding names and visualize the data again. This approach helps us understand how temperature readings vary with seasons.\n",
    "\n",
    "Conclusion\n",
    "Throughout this tutorial, we've taken raw IoT temperature data and transformed it into insightful visualizations. This journey involved data cleaning, transformation, and advanced visualization techniques, providing a foundation for more complex time series analysis and forecasting.\n",
    "\n"
   ]
  },
  {
   "cell_type": "code",
   "execution_count": 2,
   "id": "76ee1561",
   "metadata": {},
   "outputs": [],
   "source": [
    "import numpy as np\n",
    "import pandas as pd\n",
    "import matplotlib.pyplot as plt\n"
   ]
  },
  {
   "cell_type": "markdown",
   "id": "447fd1b0",
   "metadata": {},
   "source": []
  },
  {
   "cell_type": "code",
   "execution_count": 12,
   "id": "d3bc616a",
   "metadata": {},
   "outputs": [],
   "source": [
    "data=pd.read_csv('C:/Users/ARU/OneDrive/Desktop/IOT-temp.csv')"
   ]
  },
  {
   "cell_type": "markdown",
   "id": "38ce675b",
   "metadata": {},
   "source": [
    "3.Implementing ARIMA Model:\n",
    "\n",
    "Using the statsmodels library to implement an ARIMA model for time series forecasting."
   ]
  },
  {
   "cell_type": "code",
   "execution_count": 15,
   "id": "eed6b7ce",
   "metadata": {},
   "outputs": [
    {
     "data": {
      "text/plain": [
       "Index(['id', 'room_id/id', 'noted_date', 'temp', 'out/in'], dtype='object')"
      ]
     },
     "execution_count": 15,
     "metadata": {},
     "output_type": "execute_result"
    }
   ],
   "source": [
    "data.columns\n"
   ]
  },
  {
   "cell_type": "code",
   "execution_count": 16,
   "id": "75ba7b7c",
   "metadata": {},
   "outputs": [
    {
     "data": {
      "text/html": [
       "<div>\n",
       "<style scoped>\n",
       "    .dataframe tbody tr th:only-of-type {\n",
       "        vertical-align: middle;\n",
       "    }\n",
       "\n",
       "    .dataframe tbody tr th {\n",
       "        vertical-align: top;\n",
       "    }\n",
       "\n",
       "    .dataframe thead th {\n",
       "        text-align: right;\n",
       "    }\n",
       "</style>\n",
       "<table border=\"1\" class=\"dataframe\">\n",
       "  <thead>\n",
       "    <tr style=\"text-align: right;\">\n",
       "      <th></th>\n",
       "      <th>room_id/id</th>\n",
       "      <th>noted_date</th>\n",
       "      <th>temp</th>\n",
       "      <th>out/in</th>\n",
       "    </tr>\n",
       "  </thead>\n",
       "  <tbody>\n",
       "    <tr>\n",
       "      <th>0</th>\n",
       "      <td>Room Admin</td>\n",
       "      <td>08-12-2018 09:30</td>\n",
       "      <td>29</td>\n",
       "      <td>In</td>\n",
       "    </tr>\n",
       "    <tr>\n",
       "      <th>1</th>\n",
       "      <td>Room Admin</td>\n",
       "      <td>08-12-2018 09:30</td>\n",
       "      <td>29</td>\n",
       "      <td>In</td>\n",
       "    </tr>\n",
       "    <tr>\n",
       "      <th>2</th>\n",
       "      <td>Room Admin</td>\n",
       "      <td>08-12-2018 09:29</td>\n",
       "      <td>41</td>\n",
       "      <td>Out</td>\n",
       "    </tr>\n",
       "    <tr>\n",
       "      <th>3</th>\n",
       "      <td>Room Admin</td>\n",
       "      <td>08-12-2018 09:29</td>\n",
       "      <td>41</td>\n",
       "      <td>Out</td>\n",
       "    </tr>\n",
       "    <tr>\n",
       "      <th>4</th>\n",
       "      <td>Room Admin</td>\n",
       "      <td>08-12-2018 09:29</td>\n",
       "      <td>31</td>\n",
       "      <td>In</td>\n",
       "    </tr>\n",
       "    <tr>\n",
       "      <th>...</th>\n",
       "      <td>...</td>\n",
       "      <td>...</td>\n",
       "      <td>...</td>\n",
       "      <td>...</td>\n",
       "    </tr>\n",
       "    <tr>\n",
       "      <th>97601</th>\n",
       "      <td>Room Admin</td>\n",
       "      <td>28-07-2018 07:07</td>\n",
       "      <td>31</td>\n",
       "      <td>In</td>\n",
       "    </tr>\n",
       "    <tr>\n",
       "      <th>97602</th>\n",
       "      <td>Room Admin</td>\n",
       "      <td>28-07-2018 07:07</td>\n",
       "      <td>31</td>\n",
       "      <td>In</td>\n",
       "    </tr>\n",
       "    <tr>\n",
       "      <th>97603</th>\n",
       "      <td>Room Admin</td>\n",
       "      <td>28-07-2018 07:06</td>\n",
       "      <td>31</td>\n",
       "      <td>In</td>\n",
       "    </tr>\n",
       "    <tr>\n",
       "      <th>97604</th>\n",
       "      <td>Room Admin</td>\n",
       "      <td>28-07-2018 07:06</td>\n",
       "      <td>31</td>\n",
       "      <td>In</td>\n",
       "    </tr>\n",
       "    <tr>\n",
       "      <th>97605</th>\n",
       "      <td>Room Admin</td>\n",
       "      <td>28-07-2018 07:06</td>\n",
       "      <td>31</td>\n",
       "      <td>In</td>\n",
       "    </tr>\n",
       "  </tbody>\n",
       "</table>\n",
       "<p>97606 rows × 4 columns</p>\n",
       "</div>"
      ],
      "text/plain": [
       "       room_id/id        noted_date  temp out/in\n",
       "0      Room Admin  08-12-2018 09:30    29     In\n",
       "1      Room Admin  08-12-2018 09:30    29     In\n",
       "2      Room Admin  08-12-2018 09:29    41    Out\n",
       "3      Room Admin  08-12-2018 09:29    41    Out\n",
       "4      Room Admin  08-12-2018 09:29    31     In\n",
       "...           ...               ...   ...    ...\n",
       "97601  Room Admin  28-07-2018 07:07    31     In\n",
       "97602  Room Admin  28-07-2018 07:07    31     In\n",
       "97603  Room Admin  28-07-2018 07:06    31     In\n",
       "97604  Room Admin  28-07-2018 07:06    31     In\n",
       "97605  Room Admin  28-07-2018 07:06    31     In\n",
       "\n",
       "[97606 rows x 4 columns]"
      ]
     },
     "execution_count": 16,
     "metadata": {},
     "output_type": "execute_result"
    }
   ],
   "source": [
    "df=pd.DataFrame(data,columns=['room_id/id', 'noted_date', 'temp', 'out/in'])\n",
    "df"
   ]
  },
  {
   "cell_type": "code",
   "execution_count": 17,
   "id": "9eff04b2",
   "metadata": {},
   "outputs": [],
   "source": [
    "date=[]\n",
    "for i in df['noted_date']:\n",
    "    number=i.split('-')\n",
    "    number1=number[2].split(' ')\n",
    "    dat=f'{int(number[1])}/{int(number[1])}/{int(number1[0])}'\n",
    "    date.append(dat)\n"
   ]
  },
  {
   "cell_type": "code",
   "execution_count": 18,
   "id": "d66d10f6",
   "metadata": {},
   "outputs": [],
   "source": [
    "df5=df.copy()\n",
    "\n"
   ]
  },
  {
   "cell_type": "code",
   "execution_count": 20,
   "id": "74718f93",
   "metadata": {},
   "outputs": [],
   "source": [
    "df5['date']=date\n"
   ]
  },
  {
   "cell_type": "code",
   "execution_count": 21,
   "id": "64fef007",
   "metadata": {},
   "outputs": [],
   "source": [
    "df4=pd.DataFrame(df5,columns=['date','temp','out/in'])\n"
   ]
  },
  {
   "cell_type": "code",
   "execution_count": 22,
   "id": "5b84f6a5",
   "metadata": {},
   "outputs": [
    {
     "data": {
      "text/html": [
       "<div>\n",
       "<style scoped>\n",
       "    .dataframe tbody tr th:only-of-type {\n",
       "        vertical-align: middle;\n",
       "    }\n",
       "\n",
       "    .dataframe tbody tr th {\n",
       "        vertical-align: top;\n",
       "    }\n",
       "\n",
       "    .dataframe thead th {\n",
       "        text-align: right;\n",
       "    }\n",
       "</style>\n",
       "<table border=\"1\" class=\"dataframe\">\n",
       "  <thead>\n",
       "    <tr style=\"text-align: right;\">\n",
       "      <th></th>\n",
       "      <th>date</th>\n",
       "      <th>temp</th>\n",
       "      <th>out/in</th>\n",
       "    </tr>\n",
       "  </thead>\n",
       "  <tbody>\n",
       "    <tr>\n",
       "      <th>0</th>\n",
       "      <td>12/12/2018</td>\n",
       "      <td>29</td>\n",
       "      <td>In</td>\n",
       "    </tr>\n",
       "    <tr>\n",
       "      <th>1</th>\n",
       "      <td>12/12/2018</td>\n",
       "      <td>29</td>\n",
       "      <td>In</td>\n",
       "    </tr>\n",
       "    <tr>\n",
       "      <th>2</th>\n",
       "      <td>12/12/2018</td>\n",
       "      <td>41</td>\n",
       "      <td>Out</td>\n",
       "    </tr>\n",
       "    <tr>\n",
       "      <th>3</th>\n",
       "      <td>12/12/2018</td>\n",
       "      <td>41</td>\n",
       "      <td>Out</td>\n",
       "    </tr>\n",
       "    <tr>\n",
       "      <th>4</th>\n",
       "      <td>12/12/2018</td>\n",
       "      <td>31</td>\n",
       "      <td>In</td>\n",
       "    </tr>\n",
       "    <tr>\n",
       "      <th>...</th>\n",
       "      <td>...</td>\n",
       "      <td>...</td>\n",
       "      <td>...</td>\n",
       "    </tr>\n",
       "    <tr>\n",
       "      <th>97601</th>\n",
       "      <td>7/7/2018</td>\n",
       "      <td>31</td>\n",
       "      <td>In</td>\n",
       "    </tr>\n",
       "    <tr>\n",
       "      <th>97602</th>\n",
       "      <td>7/7/2018</td>\n",
       "      <td>31</td>\n",
       "      <td>In</td>\n",
       "    </tr>\n",
       "    <tr>\n",
       "      <th>97603</th>\n",
       "      <td>7/7/2018</td>\n",
       "      <td>31</td>\n",
       "      <td>In</td>\n",
       "    </tr>\n",
       "    <tr>\n",
       "      <th>97604</th>\n",
       "      <td>7/7/2018</td>\n",
       "      <td>31</td>\n",
       "      <td>In</td>\n",
       "    </tr>\n",
       "    <tr>\n",
       "      <th>97605</th>\n",
       "      <td>7/7/2018</td>\n",
       "      <td>31</td>\n",
       "      <td>In</td>\n",
       "    </tr>\n",
       "  </tbody>\n",
       "</table>\n",
       "<p>97606 rows × 3 columns</p>\n",
       "</div>"
      ],
      "text/plain": [
       "             date  temp out/in\n",
       "0      12/12/2018    29     In\n",
       "1      12/12/2018    29     In\n",
       "2      12/12/2018    41    Out\n",
       "3      12/12/2018    41    Out\n",
       "4      12/12/2018    31     In\n",
       "...           ...   ...    ...\n",
       "97601    7/7/2018    31     In\n",
       "97602    7/7/2018    31     In\n",
       "97603    7/7/2018    31     In\n",
       "97604    7/7/2018    31     In\n",
       "97605    7/7/2018    31     In\n",
       "\n",
       "[97606 rows x 3 columns]"
      ]
     },
     "execution_count": 22,
     "metadata": {},
     "output_type": "execute_result"
    }
   ],
   "source": [
    "df4\n"
   ]
  },
  {
   "cell_type": "code",
   "execution_count": 23,
   "id": "84e80215",
   "metadata": {},
   "outputs": [
    {
     "data": {
      "text/html": [
       "<div>\n",
       "<style scoped>\n",
       "    .dataframe tbody tr th:only-of-type {\n",
       "        vertical-align: middle;\n",
       "    }\n",
       "\n",
       "    .dataframe tbody tr th {\n",
       "        vertical-align: top;\n",
       "    }\n",
       "\n",
       "    .dataframe thead th {\n",
       "        text-align: right;\n",
       "    }\n",
       "</style>\n",
       "<table border=\"1\" class=\"dataframe\">\n",
       "  <thead>\n",
       "    <tr style=\"text-align: right;\">\n",
       "      <th></th>\n",
       "      <th>temp</th>\n",
       "    </tr>\n",
       "  </thead>\n",
       "  <tbody>\n",
       "    <tr>\n",
       "      <th>count</th>\n",
       "      <td>97606.000000</td>\n",
       "    </tr>\n",
       "    <tr>\n",
       "      <th>mean</th>\n",
       "      <td>35.053931</td>\n",
       "    </tr>\n",
       "    <tr>\n",
       "      <th>std</th>\n",
       "      <td>5.699825</td>\n",
       "    </tr>\n",
       "    <tr>\n",
       "      <th>min</th>\n",
       "      <td>21.000000</td>\n",
       "    </tr>\n",
       "    <tr>\n",
       "      <th>25%</th>\n",
       "      <td>30.000000</td>\n",
       "    </tr>\n",
       "    <tr>\n",
       "      <th>50%</th>\n",
       "      <td>35.000000</td>\n",
       "    </tr>\n",
       "    <tr>\n",
       "      <th>75%</th>\n",
       "      <td>40.000000</td>\n",
       "    </tr>\n",
       "    <tr>\n",
       "      <th>max</th>\n",
       "      <td>51.000000</td>\n",
       "    </tr>\n",
       "  </tbody>\n",
       "</table>\n",
       "</div>"
      ],
      "text/plain": [
       "               temp\n",
       "count  97606.000000\n",
       "mean      35.053931\n",
       "std        5.699825\n",
       "min       21.000000\n",
       "25%       30.000000\n",
       "50%       35.000000\n",
       "75%       40.000000\n",
       "max       51.000000"
      ]
     },
     "execution_count": 23,
     "metadata": {},
     "output_type": "execute_result"
    }
   ],
   "source": [
    "df.describe()\n"
   ]
  },
  {
   "cell_type": "code",
   "execution_count": 24,
   "id": "b639b0a5",
   "metadata": {},
   "outputs": [
    {
     "data": {
      "text/html": [
       "<div>\n",
       "<style scoped>\n",
       "    .dataframe tbody tr th:only-of-type {\n",
       "        vertical-align: middle;\n",
       "    }\n",
       "\n",
       "    .dataframe tbody tr th {\n",
       "        vertical-align: top;\n",
       "    }\n",
       "\n",
       "    .dataframe thead th {\n",
       "        text-align: right;\n",
       "    }\n",
       "</style>\n",
       "<table border=\"1\" class=\"dataframe\">\n",
       "  <thead>\n",
       "    <tr style=\"text-align: right;\">\n",
       "      <th></th>\n",
       "      <th>room_id/id</th>\n",
       "      <th>noted_date</th>\n",
       "      <th>temp</th>\n",
       "      <th>out/in</th>\n",
       "    </tr>\n",
       "  </thead>\n",
       "  <tbody>\n",
       "    <tr>\n",
       "      <th>count</th>\n",
       "      <td>97606</td>\n",
       "      <td>97606</td>\n",
       "      <td>97606</td>\n",
       "      <td>97606</td>\n",
       "    </tr>\n",
       "    <tr>\n",
       "      <th>unique</th>\n",
       "      <td>1</td>\n",
       "      <td>27920</td>\n",
       "      <td>31</td>\n",
       "      <td>2</td>\n",
       "    </tr>\n",
       "    <tr>\n",
       "      <th>top</th>\n",
       "      <td>Room Admin</td>\n",
       "      <td>12-09-2018 03:09</td>\n",
       "      <td>39</td>\n",
       "      <td>Out</td>\n",
       "    </tr>\n",
       "    <tr>\n",
       "      <th>freq</th>\n",
       "      <td>97606</td>\n",
       "      <td>65</td>\n",
       "      <td>10203</td>\n",
       "      <td>77261</td>\n",
       "    </tr>\n",
       "  </tbody>\n",
       "</table>\n",
       "</div>"
      ],
      "text/plain": [
       "        room_id/id        noted_date   temp out/in\n",
       "count        97606             97606  97606  97606\n",
       "unique           1             27920     31      2\n",
       "top     Room Admin  12-09-2018 03:09     39    Out\n",
       "freq         97606                65  10203  77261"
      ]
     },
     "execution_count": 24,
     "metadata": {},
     "output_type": "execute_result"
    }
   ],
   "source": [
    "df2=df.copy()\n",
    "df2['temp']=df2['temp'].astype(str)\n",
    "df2.describe()"
   ]
  },
  {
   "cell_type": "code",
   "execution_count": 25,
   "id": "402b50e0",
   "metadata": {},
   "outputs": [
    {
     "data": {
      "text/html": [
       "<div>\n",
       "<style scoped>\n",
       "    .dataframe tbody tr th:only-of-type {\n",
       "        vertical-align: middle;\n",
       "    }\n",
       "\n",
       "    .dataframe tbody tr th {\n",
       "        vertical-align: top;\n",
       "    }\n",
       "\n",
       "    .dataframe thead th {\n",
       "        text-align: right;\n",
       "    }\n",
       "</style>\n",
       "<table border=\"1\" class=\"dataframe\">\n",
       "  <thead>\n",
       "    <tr style=\"text-align: right;\">\n",
       "      <th></th>\n",
       "      <th>room_id/id</th>\n",
       "      <th>noted_date</th>\n",
       "      <th>temp</th>\n",
       "      <th>out/in</th>\n",
       "    </tr>\n",
       "  </thead>\n",
       "  <tbody>\n",
       "    <tr>\n",
       "      <th>0</th>\n",
       "      <td>Room Admin</td>\n",
       "      <td>08-12-2018 09:30</td>\n",
       "      <td>29</td>\n",
       "      <td>In</td>\n",
       "    </tr>\n",
       "    <tr>\n",
       "      <th>1</th>\n",
       "      <td>Room Admin</td>\n",
       "      <td>08-12-2018 09:30</td>\n",
       "      <td>29</td>\n",
       "      <td>In</td>\n",
       "    </tr>\n",
       "    <tr>\n",
       "      <th>2</th>\n",
       "      <td>Room Admin</td>\n",
       "      <td>08-12-2018 09:29</td>\n",
       "      <td>41</td>\n",
       "      <td>Out</td>\n",
       "    </tr>\n",
       "    <tr>\n",
       "      <th>3</th>\n",
       "      <td>Room Admin</td>\n",
       "      <td>08-12-2018 09:29</td>\n",
       "      <td>41</td>\n",
       "      <td>Out</td>\n",
       "    </tr>\n",
       "    <tr>\n",
       "      <th>4</th>\n",
       "      <td>Room Admin</td>\n",
       "      <td>08-12-2018 09:29</td>\n",
       "      <td>31</td>\n",
       "      <td>In</td>\n",
       "    </tr>\n",
       "    <tr>\n",
       "      <th>...</th>\n",
       "      <td>...</td>\n",
       "      <td>...</td>\n",
       "      <td>...</td>\n",
       "      <td>...</td>\n",
       "    </tr>\n",
       "    <tr>\n",
       "      <th>97601</th>\n",
       "      <td>Room Admin</td>\n",
       "      <td>28-07-2018 07:07</td>\n",
       "      <td>31</td>\n",
       "      <td>In</td>\n",
       "    </tr>\n",
       "    <tr>\n",
       "      <th>97602</th>\n",
       "      <td>Room Admin</td>\n",
       "      <td>28-07-2018 07:07</td>\n",
       "      <td>31</td>\n",
       "      <td>In</td>\n",
       "    </tr>\n",
       "    <tr>\n",
       "      <th>97603</th>\n",
       "      <td>Room Admin</td>\n",
       "      <td>28-07-2018 07:06</td>\n",
       "      <td>31</td>\n",
       "      <td>In</td>\n",
       "    </tr>\n",
       "    <tr>\n",
       "      <th>97604</th>\n",
       "      <td>Room Admin</td>\n",
       "      <td>28-07-2018 07:06</td>\n",
       "      <td>31</td>\n",
       "      <td>In</td>\n",
       "    </tr>\n",
       "    <tr>\n",
       "      <th>97605</th>\n",
       "      <td>Room Admin</td>\n",
       "      <td>28-07-2018 07:06</td>\n",
       "      <td>31</td>\n",
       "      <td>In</td>\n",
       "    </tr>\n",
       "  </tbody>\n",
       "</table>\n",
       "<p>97606 rows × 4 columns</p>\n",
       "</div>"
      ],
      "text/plain": [
       "       room_id/id        noted_date temp out/in\n",
       "0      Room Admin  08-12-2018 09:30   29     In\n",
       "1      Room Admin  08-12-2018 09:30   29     In\n",
       "2      Room Admin  08-12-2018 09:29   41    Out\n",
       "3      Room Admin  08-12-2018 09:29   41    Out\n",
       "4      Room Admin  08-12-2018 09:29   31     In\n",
       "...           ...               ...  ...    ...\n",
       "97601  Room Admin  28-07-2018 07:07   31     In\n",
       "97602  Room Admin  28-07-2018 07:07   31     In\n",
       "97603  Room Admin  28-07-2018 07:06   31     In\n",
       "97604  Room Admin  28-07-2018 07:06   31     In\n",
       "97605  Room Admin  28-07-2018 07:06   31     In\n",
       "\n",
       "[97606 rows x 4 columns]"
      ]
     },
     "execution_count": 25,
     "metadata": {},
     "output_type": "execute_result"
    }
   ],
   "source": [
    "df3=df2.dropna()\n",
    "df3"
   ]
  },
  {
   "cell_type": "code",
   "execution_count": 26,
   "id": "7ceee075",
   "metadata": {},
   "outputs": [
    {
     "data": {
      "text/plain": [
       "room_id/id    0\n",
       "noted_date    0\n",
       "temp          0\n",
       "out/in        0\n",
       "dtype: int64"
      ]
     },
     "execution_count": 26,
     "metadata": {},
     "output_type": "execute_result"
    }
   ],
   "source": [
    "df3['temp']=df3['temp'].astype(int)\n",
    "df8=df.copy()\n",
    "#missing value\n",
    "len(df.index)-df8.count() "
   ]
  },
  {
   "cell_type": "code",
   "execution_count": 27,
   "id": "f0ef3657",
   "metadata": {},
   "outputs": [
    {
     "data": {
      "text/plain": [
       "51"
      ]
     },
     "execution_count": 27,
     "metadata": {},
     "output_type": "execute_result"
    }
   ],
   "source": [
    "df3['temp'].max()\n"
   ]
  },
  {
   "cell_type": "code",
   "execution_count": 28,
   "id": "5ada9f36",
   "metadata": {},
   "outputs": [
    {
     "data": {
      "text/plain": [
       "21"
      ]
     },
     "execution_count": 28,
     "metadata": {},
     "output_type": "execute_result"
    }
   ],
   "source": [
    "df3['temp'].min()\n"
   ]
  },
  {
   "cell_type": "code",
   "execution_count": 29,
   "id": "46321166",
   "metadata": {},
   "outputs": [
    {
     "data": {
      "text/plain": [
       "35.05393111079237"
      ]
     },
     "execution_count": 29,
     "metadata": {},
     "output_type": "execute_result"
    }
   ],
   "source": [
    "df3['temp'].mean()\n"
   ]
  },
  {
   "cell_type": "code",
   "execution_count": 30,
   "id": "cc0d1664",
   "metadata": {},
   "outputs": [
    {
     "data": {
      "text/plain": [
       "out/in\n",
       "Out    77261\n",
       "In     20345\n",
       "Name: count, dtype: int64"
      ]
     },
     "execution_count": 30,
     "metadata": {},
     "output_type": "execute_result"
    }
   ],
   "source": [
    "df3['out/in'].value_counts()\n"
   ]
  },
  {
   "cell_type": "code",
   "execution_count": 31,
   "id": "b755f762",
   "metadata": {},
   "outputs": [
    {
     "data": {
      "text/plain": [
       "52557    30-09-2018 17:29\n",
       "52563    30-09-2018 17:13\n",
       "Name: noted_date, dtype: object"
      ]
     },
     "execution_count": 31,
     "metadata": {},
     "output_type": "execute_result"
    }
   ],
   "source": [
    "df3[df3['temp']==(df3['temp'].max())]['noted_date']\n"
   ]
  },
  {
   "cell_type": "code",
   "execution_count": 32,
   "id": "5c29bdf8",
   "metadata": {},
   "outputs": [
    {
     "data": {
      "text/plain": [
       "5759    03-12-2018 11:02\n",
       "5760    03-12-2018 11:02\n",
       "Name: noted_date, dtype: object"
      ]
     },
     "execution_count": 32,
     "metadata": {},
     "output_type": "execute_result"
    }
   ],
   "source": [
    "df3[df3['temp']==(df3['temp'].min())]['noted_date']\n"
   ]
  },
  {
   "cell_type": "code",
   "execution_count": 33,
   "id": "27bdd269",
   "metadata": {},
   "outputs": [
    {
     "data": {
      "text/plain": [
       "350      08-12-2018 03:50\n",
       "351      08-12-2018 03:50\n",
       "374      08-12-2018 03:20\n",
       "375      08-12-2018 03:20\n",
       "392      08-12-2018 03:06\n",
       "               ...       \n",
       "72824    11-09-2018 08:25\n",
       "72830    11-09-2018 08:25\n",
       "72840    11-09-2018 08:23\n",
       "72857    11-09-2018 08:22\n",
       "97441    02-08-2018 06:43\n",
       "Name: noted_date, Length: 1582, dtype: object"
      ]
     },
     "execution_count": 33,
     "metadata": {},
     "output_type": "execute_result"
    }
   ],
   "source": [
    "df3[df3['temp']==(int(df3['temp'].mean()))]['noted_date']\n"
   ]
  },
  {
   "cell_type": "code",
   "execution_count": 34,
   "id": "ee9569c8",
   "metadata": {},
   "outputs": [
    {
     "data": {
      "text/plain": [
       "1306     07-12-2018 14:11\n",
       "1307     07-12-2018 14:11\n",
       "1756     07-12-2018 06:02\n",
       "1757     07-12-2018 06:02\n",
       "1758     07-12-2018 06:00\n",
       "               ...       \n",
       "90334    06-09-2018 07:49\n",
       "90335    06-09-2018 07:48\n",
       "90339    06-09-2018 07:47\n",
       "90341    06-09-2018 07:47\n",
       "90346    06-09-2018 07:46\n",
       "Name: noted_date, Length: 224, dtype: object"
      ]
     },
     "execution_count": 34,
     "metadata": {},
     "output_type": "execute_result"
    }
   ],
   "source": [
    "df3[df3['temp']==25]['noted_date']\n"
   ]
  },
  {
   "cell_type": "code",
   "execution_count": 35,
   "id": "0b375bed",
   "metadata": {},
   "outputs": [
    {
     "data": {
      "image/png": "[encoded data removed]",
      "text/plain": [
       "<Figure size 640x480 with 1 Axes>"
      ]
     },
     "metadata": {},
     "output_type": "display_data"
    }
   ],
   "source": [
    "plt.title('Temperature chart by Output and internal sensors')\n",
    "plt.scatter(df3['out/in'],df3['temp'])\n",
    "plt.xlabel('Output and internal sensors')\n",
    "plt.ylabel('Temperature')\n",
    "plt.savefig('Temperature chart by Output and internal sensors.png')\n",
    "plt.show()"
   ]
  },
  {
   "cell_type": "code",
   "execution_count": 36,
   "id": "9e2abea9",
   "metadata": {},
   "outputs": [
    {
     "name": "stdout",
     "output_type": "stream",
     "text": [
      "8\n"
     ]
    }
   ],
   "source": [
    "date = df['noted_date'][0]\n",
    "split_date = date.split('-')\n",
    "number = split_date[0]  \n",
    "print(number[1])"
   ]
  },
  {
   "cell_type": "code",
   "execution_count": 37,
   "id": "c523027a",
   "metadata": {},
   "outputs": [
    {
     "data": {
      "text/html": [
       "<div>\n",
       "<style scoped>\n",
       "    .dataframe tbody tr th:only-of-type {\n",
       "        vertical-align: middle;\n",
       "    }\n",
       "\n",
       "    .dataframe tbody tr th {\n",
       "        vertical-align: top;\n",
       "    }\n",
       "\n",
       "    .dataframe thead th {\n",
       "        text-align: right;\n",
       "    }\n",
       "</style>\n",
       "<table border=\"1\" class=\"dataframe\">\n",
       "  <thead>\n",
       "    <tr style=\"text-align: right;\">\n",
       "      <th></th>\n",
       "      <th>room_id/id</th>\n",
       "      <th>noted_date</th>\n",
       "      <th>temp</th>\n",
       "      <th>out/in</th>\n",
       "      <th>Month</th>\n",
       "    </tr>\n",
       "  </thead>\n",
       "  <tbody>\n",
       "    <tr>\n",
       "      <th>0</th>\n",
       "      <td>Room Admin</td>\n",
       "      <td>08-12-2018 09:30</td>\n",
       "      <td>29</td>\n",
       "      <td>In</td>\n",
       "      <td>12</td>\n",
       "    </tr>\n",
       "    <tr>\n",
       "      <th>1</th>\n",
       "      <td>Room Admin</td>\n",
       "      <td>08-12-2018 09:30</td>\n",
       "      <td>29</td>\n",
       "      <td>In</td>\n",
       "      <td>12</td>\n",
       "    </tr>\n",
       "    <tr>\n",
       "      <th>2</th>\n",
       "      <td>Room Admin</td>\n",
       "      <td>08-12-2018 09:29</td>\n",
       "      <td>41</td>\n",
       "      <td>Out</td>\n",
       "      <td>12</td>\n",
       "    </tr>\n",
       "    <tr>\n",
       "      <th>3</th>\n",
       "      <td>Room Admin</td>\n",
       "      <td>08-12-2018 09:29</td>\n",
       "      <td>41</td>\n",
       "      <td>Out</td>\n",
       "      <td>12</td>\n",
       "    </tr>\n",
       "    <tr>\n",
       "      <th>4</th>\n",
       "      <td>Room Admin</td>\n",
       "      <td>08-12-2018 09:29</td>\n",
       "      <td>31</td>\n",
       "      <td>In</td>\n",
       "      <td>12</td>\n",
       "    </tr>\n",
       "    <tr>\n",
       "      <th>...</th>\n",
       "      <td>...</td>\n",
       "      <td>...</td>\n",
       "      <td>...</td>\n",
       "      <td>...</td>\n",
       "      <td>...</td>\n",
       "    </tr>\n",
       "    <tr>\n",
       "      <th>97601</th>\n",
       "      <td>Room Admin</td>\n",
       "      <td>28-07-2018 07:07</td>\n",
       "      <td>31</td>\n",
       "      <td>In</td>\n",
       "      <td>7</td>\n",
       "    </tr>\n",
       "    <tr>\n",
       "      <th>97602</th>\n",
       "      <td>Room Admin</td>\n",
       "      <td>28-07-2018 07:07</td>\n",
       "      <td>31</td>\n",
       "      <td>In</td>\n",
       "      <td>7</td>\n",
       "    </tr>\n",
       "    <tr>\n",
       "      <th>97603</th>\n",
       "      <td>Room Admin</td>\n",
       "      <td>28-07-2018 07:06</td>\n",
       "      <td>31</td>\n",
       "      <td>In</td>\n",
       "      <td>7</td>\n",
       "    </tr>\n",
       "    <tr>\n",
       "      <th>97604</th>\n",
       "      <td>Room Admin</td>\n",
       "      <td>28-07-2018 07:06</td>\n",
       "      <td>31</td>\n",
       "      <td>In</td>\n",
       "      <td>7</td>\n",
       "    </tr>\n",
       "    <tr>\n",
       "      <th>97605</th>\n",
       "      <td>Room Admin</td>\n",
       "      <td>28-07-2018 07:06</td>\n",
       "      <td>31</td>\n",
       "      <td>In</td>\n",
       "      <td>7</td>\n",
       "    </tr>\n",
       "  </tbody>\n",
       "</table>\n",
       "<p>97606 rows × 5 columns</p>\n",
       "</div>"
      ],
      "text/plain": [
       "       room_id/id        noted_date  temp out/in  Month\n",
       "0      Room Admin  08-12-2018 09:30    29     In     12\n",
       "1      Room Admin  08-12-2018 09:30    29     In     12\n",
       "2      Room Admin  08-12-2018 09:29    41    Out     12\n",
       "3      Room Admin  08-12-2018 09:29    41    Out     12\n",
       "4      Room Admin  08-12-2018 09:29    31     In     12\n",
       "...           ...               ...   ...    ...    ...\n",
       "97601  Room Admin  28-07-2018 07:07    31     In      7\n",
       "97602  Room Admin  28-07-2018 07:07    31     In      7\n",
       "97603  Room Admin  28-07-2018 07:06    31     In      7\n",
       "97604  Room Admin  28-07-2018 07:06    31     In      7\n",
       "97605  Room Admin  28-07-2018 07:06    31     In      7\n",
       "\n",
       "[97606 rows x 5 columns]"
      ]
     },
     "execution_count": 37,
     "metadata": {},
     "output_type": "execute_result"
    }
   ],
   "source": [
    "m=[]\n",
    "for i in df['noted_date']:\n",
    "    split_date = i.split('-')\n",
    "    number = int(split_date[1])\n",
    "    m.append(number)\n",
    "    \n",
    "df3['Month']=m\n",
    "df3"
   ]
  },
  {
   "cell_type": "code",
   "execution_count": 47,
   "id": "f50f82e4",
   "metadata": {},
   "outputs": [
    {
     "data": {
      "image/png": "[encoded data removed]",
      "text/plain": [
       "<Figure size 640x480 with 1 Axes>"
      ]
     },
     "metadata": {},
     "output_type": "display_data"
    }
   ],
   "source": [
    "plt.title('Temperature chart by number months')\n",
    "plt.scatter(df3['Month'],df3['temp'])\n",
    "plt.xlabel('Number Months')\n",
    "plt.ylabel('Temperature')\n",
    "# plt.savefig('Temperature chart by months comlete in.png')\n",
    "plt.show()"
   ]
  },
  {
   "cell_type": "code",
   "execution_count": 45,
   "id": "7764466c",
   "metadata": {},
   "outputs": [
    {
     "data": {
      "text/plain": [
       "<Axes: xlabel='Month', ylabel='temp'>"
      ]
     },
     "execution_count": 45,
     "metadata": {},
     "output_type": "execute_result"
    },
    {
     "data": {
      "image/png": "[encoded data removed]",
      "text/plain": [
       "<Figure size 640x480 with 1 Axes>"
      ]
     },
     "metadata": {},
     "output_type": "display_data"
    }
   ],
   "source": [
    "import seaborn as sns\n",
    "sns.barplot(data=df3, x = 'Month', y='temp',hue='out/in' )"
   ]
  },
  {
   "cell_type": "code",
   "execution_count": 50,
   "id": "41f6230b",
   "metadata": {},
   "outputs": [
    {
     "data": {
      "text/plain": [
       "<Axes: xlabel='name_months', ylabel='temp'>"
      ]
     },
     "execution_count": 50,
     "metadata": {},
     "output_type": "execute_result"
    },
    {
     "data": {
      "image/png": "[encoded data removed]",
      "text/plain": [
       "<Figure size 640x480 with 1 Axes>"
      ]
     },
     "metadata": {},
     "output_type": "display_data"
    }
   ],
   "source": [
    "sns.violinplot(data=df3, x = 'name_months', y='temp' )"
   ]
  },
  {
   "cell_type": "code",
   "execution_count": 39,
   "id": "0782d26c",
   "metadata": {},
   "outputs": [
    {
     "data": {
      "image/png": "[encoded data removed]",
      "text/plain": [
       "<Figure size 640x480 with 1 Axes>"
      ]
     },
     "metadata": {},
     "output_type": "display_data"
    }
   ],
   "source": [
    "month = [\n",
    "    'January', 'February', 'March', 'April', 'May', 'June',\n",
    "    'July', 'August', 'September', 'October', 'November', 'December'\n",
    "]\n",
    "months=[]\n",
    "for i in m:\n",
    "    months.append(month[i-1])\n",
    "df3['name_months']=months\n",
    "plt.title('Temperature chart by months')\n",
    "plt.scatter(df3['name_months'],df3['temp'])\n",
    "plt.xlabel('Months')\n",
    "plt.ylabel('Temperature')\n",
    "plt.savefig('Temperature chart by months comlete in.png')\n",
    "plt.show()"
   ]
  },
  {
   "cell_type": "code",
   "execution_count": 40,
   "id": "97d93fc6",
   "metadata": {},
   "outputs": [
    {
     "data": {
      "text/plain": [
       "0        December\n",
       "1        December\n",
       "4        December\n",
       "5        December\n",
       "6        December\n",
       "           ...   \n",
       "97601        July\n",
       "97602        July\n",
       "97603        July\n",
       "97604        July\n",
       "97605        July\n",
       "Name: name_months, Length: 20345, dtype: object"
      ]
     },
     "execution_count": 40,
     "metadata": {},
     "output_type": "execute_result"
    }
   ],
   "source": [
    "df3[df3['out/in']=='In']['name_months']\n"
   ]
  },
  {
   "cell_type": "code",
   "execution_count": 41,
   "id": "e80c3e68",
   "metadata": {},
   "outputs": [
    {
     "data": {
      "text/plain": [
       "0        29\n",
       "1        29\n",
       "4        31\n",
       "5        31\n",
       "6        29\n",
       "         ..\n",
       "97601    31\n",
       "97602    31\n",
       "97603    31\n",
       "97604    31\n",
       "97605    31\n",
       "Name: temp, Length: 20345, dtype: int32"
      ]
     },
     "execution_count": 41,
     "metadata": {},
     "output_type": "execute_result"
    }
   ],
   "source": [
    "df3[df3['out/in']=='In']['temp']\n"
   ]
  },
  {
   "cell_type": "markdown",
   "id": "27810f65",
   "metadata": {},
   "source": [
    "### Basics of Algorithms and Problem Design:\n",
    "\n",
    "Understanding Time Series Data: Sequential data from IoT devices, often with trends, seasonality, and noise.\n",
    "\n",
    "Preprocessing and Feature Engineering: Cleaning noisy data, handling missing values, and creating features like rolling averages and time-based attributes.\n",
    "\n",
    "Algorithm Selection:\n",
    "\n",
    "Statistical Methods: Like ARIMA for trend and seasonality analysis.\n",
    "Machine Learning: Such as Random Forests or SVMs, transforming time series into regression problems.\n",
    "Deep Learning: LSTM or GRU networks for capturing long-term dependencies.\n",
    "Model Evaluation: Using time-based cross-validation and metrics like MAE, RMSE, or MAPE.\n",
    "\n",
    "Scalability and Real-time Processing: Essential for handling large volumes of fast-arriving data.\n",
    "\n",
    "Anomaly Detection: Identifying unusual patterns in IoT data.\n",
    "\n",
    "Efficiency and Constraints: Algorithms must be resource-efficient due to IoT device limitations.\n",
    "\n",
    "Security and Privacy: Ensuring data is handled securely and privately.\n",
    "\n",
    "### The Relevance of Custom Problem Creation in Teaching and Assessing Knowledge:\n",
    "\n",
    "Tailored Difficulty Levels: Custom problems can be designed to match the skill levels of learners, ensuring that the difficulty is neither too overwhelming nor too simplistic. This facilitates optimal learning progress.\n",
    "\n",
    "Contextual Relevance: Problems can be created to reflect real-world scenarios that learners are likely to encounter in their field. This makes the learning experience more engaging and relevant.\n",
    "\n",
    "Targeting Specific Skills or Concepts: Instructors can design problems that specifically target areas where learners need more practice or reinforcement. This is especially important in subjects like programming, where understanding certain concepts is crucial for advanced learning.\n",
    "\n",
    "Encouraging Creative Thinking: Custom problems can be designed to be open-ended, encouraging learners to think creatively and explore multiple solutions. This not only enhances problem-solving skills but also fosters innovation.\n",
    "\n",
    "Assessment Variety: Custom problems provide variety in assessments, preventing the learning process from becoming monotonous. They also help in assessing a wider range of skills, from basic knowledge to application and analysis.\n",
    "\n",
    "Immediate Feedback and Adaptation: In programming and data science, custom problems can be structured to provide immediate feedback through automated testing. This not only helps learners correct their mistakes in real-time but also allows educators to adapt their teaching strategies based on learner performance.\n",
    "\n",
    "Preparing for Industry Challenges: By creating problems that mimic industry scenarios, educators can prepare learners for the challenges they will face in their professional careers. This bridge between academic learning and real-world application is crucial for career readiness.\n",
    "\n",
    "Identifying Gaps in Understanding: Custom problems can reveal specific gaps in a learner's understanding, allowing for targeted intervention and support. This is particularly beneficial in complex subjects like data structures, algorithms, or statistical analysis, where misconceptions can hinder advanced learning"
   ]
  },
  {
   "cell_type": "markdown",
   "id": "8092b1f2",
   "metadata": {},
   "source": [
    "# Step 2: Introduction to the Worked Example Problem"
   ]
  },
  {
   "cell_type": "markdown",
   "id": "0aad9a61",
   "metadata": {},
   "source": [
    "## Introduction:\n",
    "Understanding IoT in the Context of IIoT 4.0: A Mathematical Approach\n",
    "The evolution of the Industrial Internet of Things (IIoT) 4.0 is not just about connecting devices; it's about the complex analysis of the data they generate. This project seeks to demystify the sophisticated world of IoT data analysis, particularly focusing on the Heat Index, a combination of temperature and humidity readings. We'll delve into the mathematical foundations behind handling and interpreting this high-velocity data, aiming to provide a clear understanding of its implications in various industries.\n",
    "\n",
    "## Context and Significance:\n",
    "Why Mathematical Rigor Matters in IoT Data Analysis\n",
    "\n",
    "**Rapid Data Generation**: IoT sensors generate data at an incredible pace. Let's understand the mathematical implications of processing hundreds to millions of data points per second and how this impacts analysis algorithms.\n",
    "Volume and Velocity: We'll explore the mathematical challenges presented by the massive volume of data and the need for real-time analysis.\n",
    "Predictive Maintenance and Operational Efficiency: Here, the focus is on using statistical models to predict equipment failures. We'll break down how these models work, with a specific emphasis on the underlying mathematics.\n",
    "Underlying Principles:\n",
    "Fundamental Mathematical Concepts in Time Series Analysis for IoT\n",
    "\n",
    "**Temporal Data Characteristics**: We'll start by explaining what time series data is, with mathematical details on concepts like trends, seasonality, and autocorrelation.\n",
    "Data Volume and Velocity: Let's mathematically analyze what it means to handle large-scale data in real time. How do algorithms scale, and what are the computational considerations?\n",
    "Real-Time Analysis: We will delve into the mathematical models that enable real-time analysis, discussing their structures and limitations.\n",
    "\n",
    "**Predictive Modeling:** Here, we break down the statistical and machine learning models used for forecasting. We'll explore models like ARIMA and LSTM, discussing their mathematical foundations and how they apply to IoT data.\n",
    "\n",
    "**Enhanced Explanation Approach:**\n",
    "Detailed Mathematical Explanations: Each concept will be accompanied by thorough mathematical details. For instance, when discussing the Heat Index, we will explain the formula used to calculate it and its significance in data analysis.\n",
    "**Contextual Data Analysis:** We'll use the dataset to demonstrate each concept practically. For example, when introducing statistical models, we will apply them to the dataset and discuss the results in detail, explaining what each step in the model means mathematically.\n",
    "Graphical Interpretations: Instead of just presenting graphs, we'll explain what they represent. For each graph, we'll delve into what it tells us about the IoT data and how it aligns with the mathematical models we're discussing.\n",
    "\n",
    "## Conclusion:\n",
    "Bridging the Gap Between Theory and Practice in IoT Data Analysis\n",
    "The goal is not just to present a method for analyzing IoT data but to instill a deep understanding of the mathematical principles that underpin these methods. This approach will enable a more robust and nuanced comprehension of how data analysis in the context of IIoT 4.0 can be effectively executed and interpreted.\n",
    "\n"
   ]
  },
  {
   "cell_type": "markdown",
   "id": "0a69c56a",
   "metadata": {},
   "source": [
    "### Problem Statement:\n",
    "In the emerging landscape of Industrial Internet of Things (IIoT) 4.0, there is a critical need to develop and implement robust and sustainable algorithms for the analysis of high-frequency IoT sensor data, specifically focusing on the Heat Index (a combination of temperature and humidity). These sensors, integral to various enterprise monitoring and maintenance systems, are generating data at an unprecedented rate, ranging from hundreds to millions of readings per second. The challenge lies in efficiently processing this vast amount of data to extract hidden patterns and actionable insights.\n",
    "\n",
    "### Input:\n",
    "\n",
    "This dataset contains the temperature readings from IOT devices installed outside and inside of an anonymous Room (say - admin room). The device was in the alpha testing phase. So, It was uninstalled or shut off several times during the entire reading period ( 28-07-2018 to 08-12-2018). This random interval recordings and few mis-readings ( outliers) makes it more challanging to perform analysis on this data. Let's see, what you can present in the plate out of this messy data.\n",
    "\n",
    "### Objective:\n",
    "To apply time series analysis to IoT temperature data, enhancing comprehension of statistical concepts and predictive modeling.\n",
    "\n",
    "### Data Description:\n",
    "Dataset: IoT Temperature Readings\n",
    "Columns: id, room_id/id, noted_date, temp, out/in\n",
    "Rows: 97,605\n",
    "**Attributes:**\n",
    "id: Unique ID for each reading.\n",
    "room_id/id: Identifier of the room (e.g., 'admin room') where the sensor is installed.\n",
    "noted_date: Date and time when the reading was taken.\n",
    "temp: Temperature readings from the sensor.\n",
    "out/in: Location of the sensor (inside or outside the room).\n",
    "\n",
    "**Analysis Approach:**\n",
    "\n",
    "### Data Loading:\n",
    "\n",
    "Import data using pandas.\n",
    "Explain how to read a CSV file into a DataFrame and inspect the first few rows.\n",
    "### Data Preprocessing:\n",
    "\n",
    "Convert noted_date to datetime format, explaining the importance of time formatting in time series analysis.\n",
    "Address missing values, discussing different methods (e.g., imputation, deletion) and their impacts.\n",
    "Briefly describe data structure, highlighting unique characteristics of time series data in IoT.\n",
    "Exploratory Data Analysis (EDA):\n",
    "\n",
    "Use visualizations (line plots, histograms) to explore temperature trends and patterns.\n",
    "Explain each plot and what it reveals about the dataset (e.g., seasonality, outliers).\n",
    "Introduce statistical summaries and discuss their relevance in understanding data distribution and central tendencies.\n",
    "### Feature Engineering:\n",
    "\n",
    "Create time-based features, such as time of day or day of week, explaining their potential impact on temperature readings.\n",
    "Discuss the concept of lag features in time series analysis and how they can help in forecasting.\n",
    "\n",
    "### Model Selection and Mathematical Concepts:\n",
    "\n",
    "Introduce ARIMA model, explaining its components (AutoRegressive, Integrated, Moving Average).\n",
    "Discuss the mathematics behind model selection, like the process of determining ARIMA parameters (p, d, q).\n",
    "Mention alternative models (e.g., LSTM) and compare their suitability for this kind of data.\n",
    "Model Training:\n",
    "\n",
    "Detail the process of training the ARIMA model, including data splitting and parameter tuning.\n",
    "Emphasize the mathematical concepts behind fitting the model to the data.\n",
    "\n",
    "### Prediction and Evaluation:\n",
    "\n",
    "Use the model to predict future temperature readings.\n",
    "Explain evaluation metrics like RMSE (Root Mean Square Error) or MAE (Mean Absolute Error) in assessing model accuracy.\n",
    "Discuss how these predictions can be refined and what factors to consider.\n",
    "Expected Output:\n",
    "Predicted Temperatures: A series of predicted future temperatures based on the model.\n",
    "Example: predicted_temperatures = [22.5, 23.0, ..., 24.1]\n"
   ]
  },
  {
   "cell_type": "markdown",
   "id": "baf7b54b",
   "metadata": {},
   "source": [
    "# Step 3: Analyzing the Worked Example Problem"
   ]
  },
  {
   "cell_type": "markdown",
   "id": "5058b000",
   "metadata": {},
   "source": [
    "## Data Understanding and Loading:\n",
    "\n",
    "Begin by examining the dataset's structure. Here, you have columns like 'Date', 'High', 'Low', 'Open', 'Close', and 'Volume'. Discuss the significance of each column in the context of stock price analysis.\n",
    "When loading the data, emphasize the importance of the 'Date' column in time series analysis and why we convert it into a datetime format in Python.\n",
    "\n",
    "## Data Preprocessing:\n",
    "\n",
    "Discuss common issues in time series data like missing values, outliers, and how they can affect the analysis.\n",
    "Explain why and how we handle these issues, possibly using statistical concepts like mean imputation or outlier detection methods.\n",
    "Exploratory Data Analysis (EDA):\n",
    "\n",
    "Show how to plot time series data, such as stock prices over time, and discuss what these plots can tell us about the market's behavior.\n",
    "Explain concepts like trend, seasonality, and cyclicity with respect to the stock market data.\n",
    "\n",
    "## Feature Engineering:\n",
    "\n",
    "Introduce the concept of moving averages and other derived features. Explain their mathematical foundations and their significance in stock price forecasting.\n",
    "Discuss other potential features that could be extracted from the data and their expected impact on the predictive model.\n",
    "Model Selection and Theoretical Foundations:\n",
    "\n",
    "Present different models suitable for time series forecasting (e.g., ARIMA, SARIMA, regression models). For each model, explain its mathematical basis and the kind of time series data it is best suited for.\n",
    "Discuss the criteria for selecting a particular model for your dataset.\n",
    "Model Training and Mathematical Concepts:\n",
    "\n",
    "Explain the process of training a model on historical data. Discuss concepts like overfitting, underfitting, and how to split data for training and testing.\n",
    "Introduce the mathematical calculations behind model fitting, discussing concepts like regression analysis or the workings of ARIMA.\n",
    "\n",
    "## Prediction and Evaluation:\n",
    "\n",
    "Show how to use the model to make predictions. Discuss the importance of evaluating these predictions using metrics like MAE, RMSE, or MAPE, explaining these metrics mathematically.\n",
    "Conclusion:\n",
    "\n",
    "Summarize the key learnings from the exercise. Emphasize the importance of understanding the underlying mathematics and statistics in time series analysis, not just applying the models.\n",
    "Expected Outcome:\n",
    "By the end of this assignment, you should have a solid understanding of the mathematical and statistical concepts underpinning time series analysis in stock price prediction. You'll learn how to preprocess data, choose and apply appropriate models, and interpret the results with a critical eye.\n",
    "\n"
   ]
  },
  {
   "cell_type": "markdown",
   "id": "7dfb7d8a",
   "metadata": {},
   "source": [
    "# Step 4: Engaging with ChatGPT for Deeper Understanding"
   ]
  },
  {
   "cell_type": "markdown",
   "id": "0a782872",
   "metadata": {},
   "source": [
    "## 1: Understanding the Problem in IoT Time Series Analysis\n",
    "The task involves time series analysis and predictions using a given IoT dataset. This dataset contains IoT information, including Date, High, Low, Open, Close, Volume, and Adjusted Close prices. The goal is to analyze this IoT data and make predictions. How can we approach this problem effectively in the context of IoT?\n",
    "\n",
    "To approach this problem effectively in the IoT context, initiate with thorough exploratory data analysis (EDA) on the provided IoT dataset. Understand the patterns, trends, and relationships within the IoT data. Visualize the time series data to identify any trends or seasonality specific to the IoT domain. Calculate statistical measures like mean, standard deviation, and correlation coefficients to gain further insights into the IoT data.\n",
    "\n",
    "Preprocess the IoT data by handling missing values, converting data types, and normalizing the data. Given the nature of IoT data, it's crucial to consider any irregularities or anomalies that may impact the accuracy of predictions. Feature engineering is essential, creating new features based on existing IoT parameters that may enhance the model's ability to make accurate predictions.\n",
    "\n",
    "For time series prediction in the IoT domain, consider leveraging techniques suitable for IoT data, such as autoregressive models or machine learning models like recurrent neural networks (RNNs). These models can learn patterns from historical IoT data and make predictions about future values.\n",
    "\n",
    "Evaluate the model's performance using appropriate IoT metrics, considering the unique characteristics of IoT datasets. Explore metrics like Mean Absolute Error (MAE), Mean Squared Error (MSE), or Root Mean Squared Error (RMSE) tailored for IoT time series analysis.\n",
    "\n",
    "## 2: Ideation around IoT Time Series Analysis Scenarios\n",
    "Given the IoT dataset and our objective, what are potential scenarios or challenges we might encounter in this analysis?\n",
    "\n",
    "In IoT time series analysis, challenges may include handling irregularities specific to IoT devices, such as intermittent connectivity or varying data quality. Incorporating external factors like environmental conditions or sensor health status could enhance the accuracy of IoT predictions.\n",
    "\n",
    "Understanding the temporal granularity of the IoT data is crucial. Depending on the IoT application, you might need to address challenges related to the frequency of data collection and the appropriate prediction horizon. For instance, short-term predictions in IoT might require capturing intraday fluctuations.\n",
    "\n",
    "Dealing with data from multiple IoT devices introduces the challenge of harmonizing and synchronizing time series data. Ensuring consistency and alignment among various devices is critical for accurate predictions.\n",
    "\n",
    "Feature selection becomes intricate in the IoT context, as numerous IoT parameters may contribute to predictions. Strategies for dimensionality reduction and feature engineering need to be tailored to the specific characteristics of IoT time series data.\n",
    "\n",
    "Determining the optimal model complexity is essential, considering the diverse nature of IoT data sources. Models should be adaptable to changes in IoT patterns and external influences, such as device malfunctions or environmental variations.\n",
    "\n",
    "## 3: Cross-Checking and Validation in IoT Time Series Analysis\n",
    "Considering the challenges in IoT time series analysis, do you think our understanding is accurate? Is there anything we might be missing in our approach?\n",
    "\n",
    "Your understanding is comprehensive, covering crucial aspects of IoT time series analysis. However, it's important to emphasize the dynamic nature of IoT environments, where the characteristics of data streams may evolve over time. Continuous monitoring and adaptation of models to changing IoT patterns are essential for long-term accuracy.\n",
    "\n",
    "Additionally, consider exploring anomaly detection techniques tailored for IoT data to identify and address irregularities effectively. Ensuring the resilience of models to handle variations in data quality and device conditions is crucial for robust IoT time series predictions.\n",
    "\n",
    "Ensemble methods, combining predictions from diverse IoT models, could further enhance accuracy, especially when dealing with heterogeneous IoT datasets. Cross-validation techniques, specifically designed for time series data, are indispensable for validating the robustness of IoT models over different time periods.\n",
    "\n",
    "\n",
    "\n",
    "\n",
    "\n"
   ]
  },
  {
   "cell_type": "markdown",
   "id": "4311f743",
   "metadata": {},
   "source": [
    "# Step 5: Crafting Your New Problem"
   ]
  },
  {
   "cell_type": "markdown",
   "id": "dc9683b0",
   "metadata": {},
   "source": [
    "## Updated IoT Time Series Problem Statement:\n",
    "In the domain of IoT and time series analysis for stock market applications, the objective is to predict trading volume, a pivotal factor for informed investment decisions. The task involves leveraging time series analysis techniques on historical stock market IoT data.\n",
    "\n",
    "## Input IoT Data:\n",
    "The input IoT data includes historical stock market information recorded for each trading day. It comprises parameters such as Date, High, Low, Open, Close, Volume, and Adj Close. The target is to predict the 'Volume' parameter for a specific day.\n",
    "\n",
    "## Output:\n",
    "The output is a singular value representing the predicted trading volume for the specified day. This prediction is derived from the input IoT data and the trained time series analysis model.\n",
    "\n",
    "## Sample Input IoT Data:\n",
    "Date: 2/15/2016\n",
    "High: 1864.780029\n",
    "Low: 1833.400024\n",
    "Open: 1833.400024\n",
    "Close: 1864.780029\n",
    "Volume: Unknown (to be predicted)\n",
    "Adj Close: Not needed for prediction\n",
    "\n",
    "## Sample Output:\n",
    "Predicted Volume: 4500000000 (hypothetical value, actual predictions may vary)\n",
    "\n",
    "## Constraints:\n",
    "Data Availability: Historical IoT data up to the day before the prediction date must be accessible.\n",
    "Prediction Accuracy: The predicted volume should be within +/- 5% of the actual volume for accuracy.\n",
    "Training Data: The model can learn from a maximum of 5 years of historical IoT data.\n",
    "Prediction Frequency: Daily predictions are required for each trading day in the dataset.\n",
    "Computational Resources: The solution should be IoT resource-efficient, ensuring real-time predictions without excessive resource utilization.\n",
    "## Solution Approach:\n",
    "\n",
    "### Data Preparation:\n",
    "\n",
    "Clean and preprocess historical IoT data.\n",
    "Handle missing values and outliers appropriately.\n",
    "Split the data into training and testing sets.\n",
    "Feature Selection:\n",
    "\n",
    "Select relevant features such as High, Low, Open, Close, and past trading volumes.\n",
    "Perform feature engineering if necessary.\n",
    "Time Series Model Selection:\n",
    "\n",
    "Choose an appropriate time series forecasting model suitable for IoT data (e.g., ARIMA, SARIMA, LSTM).\n",
    "Consider the complexity of the IoT data and underlying patterns.\n",
    "Training the Model:\n",
    "\n",
    "Train the selected model using the training IoT data.\n",
    "Optimize model hyperparameters for efficient performance.\n",
    "Prediction:\n",
    "\n",
    "Utilize the trained model for predicting trading volume on the testing set.\n",
    "Evaluate predictions against actual IoT values to ensure accuracy.\n",
    "Real-time Prediction:\n",
    "\n",
    "Deploy the trained and validated model for real-time predictions in the IoT environment.\n",
    "Evaluation and Refinement:\n",
    "\n",
    "Assess the model's performance using pertinent IoT metrics.\n",
    "Refine the model if necessary, considering different algorithms or hyperparameter tuning.\n",
    "Deployment:\n",
    "\n",
    "Deploy the model to make real-time predictions for each trading day in the IoT dataset. Ensure IoT efficiency and minimal resource usage.\n",
    "\n",
    "\n",
    "\n",
    "\n",
    "# IoT Time Series Problem Statement\n",
    "\n",
    "The burgeoning realm of the Industrial Internet of Things (IIoT), particularly in stock market applications, presents the challenge of accurately forecasting trading volumes using historical data. This capability is indispensable for investors, given that trading volume is a critical indicator of market activity and potential price trends. Our focus is to harness time series analysis techniques, applying them to daily stock market statistics from IoT data, with the specific aim of enhancing the accuracy of trading volume predictions.\n",
    "\n",
    "## Enhanced Solution Approach\n",
    "\n",
    "### Data Preparation\n",
    "\n",
    "1. **Data Cleaning and Preprocessing**: \n",
    "   We start by cleaning the IoT data to eliminate any discrepancies that could skew our analysis. This includes filling or removing missing values and identifying and handling outliers. Additionally, the 'Date' column is converted to a datetime format, allowing for more straightforward manipulation and analysis in later stages.\n",
    "\n",
    "2. **Splitting Data for Training and Testing**: \n",
    "   The dataset is divided into two parts: one for training our model and the other for testing its predictions. This split is done chronologically to maintain the integrity of time series data, ensuring that the model is trained on past data and tested on future, unseen data.\n",
    "\n",
    "### Feature Selection\n",
    "\n",
    "1. **Identifying Key Features**: \n",
    "   Our model will primarily focus on features directly influencing trading volume, including High, Low, Open, Close, and historical volumes. These features are crucial because they reflect the market's behavior and sentiment, influencing the trading volume directly.\n",
    "\n",
    "2. **Feature Engineering**: \n",
    "   We may engineer additional features, such as moving averages or percentage changes in price, to provide our model with a more comprehensive view of the market dynamics, potentially leading to more accurate predictions.\n",
    "\n",
    "### Time Series Model Selection\n",
    "\n",
    "1. **Choosing the Right Model**: \n",
    "   We consider various time series models, including ARIMA (AutoRegressive Integrated Moving Average), SARIMA (Seasonal ARIMA), and LSTM (Long Short-Term Memory networks). Each of these models has distinct characteristics: ARIMA and SARIMA are well-suited for linear time series without high volatility, while LSTM networks excel in capturing long-term dependencies and non-linear patterns in data.\n",
    "\n",
    "### Training the Model\n",
    "\n",
    "1. **Model Training Process**: \n",
    "   The training process involves feeding the historical data into the chosen model, allowing it to learn and identify underlying patterns and trends. We emphasize hyperparameter tuning during this stage to enhance the model's ability to make accurate predictions.\n",
    "\n",
    "### Prediction\n",
    "\n",
    "1. **Forecasting Trading Volume**: \n",
    "   Using the trained model, we forecast the trading volume on the test data. This step is critical in assessing the model's practical applicability and its ability to generalize on new data.\n",
    "\n",
    "### Real-Time Prediction\n",
    "\n",
    "1. **Deployment in IoT Environment**: \n",
    "   For real-world application, the model is set up to make predictions in real-time within an IoT environment. This involves integrating the model into the existing IoT infrastructure to provide daily trading volume forecasts.\n",
    "\n",
    "### Evaluation and Refinement\n",
    "\n",
    "1. **Model Evaluation**: \n",
    "   The model's predictions are evaluated against actual trading volumes using metrics like Mean Absolute Error (MAE) and Root Mean Squared Error (RMSE). These metrics help us gauge the accuracy of our predictions and the model's reliability.\n",
    "\n",
    "2. **Refinement Strategies**: \n",
    "   Should the model's performance not meet the desired benchmarks, we consider refining it through different algorithms or fine-tuning its hyperparameters. This iterative process aims to incrementally enhance the model's predictive power.\n",
    "\n",
    "### Deployment\n",
    "\n",
    "1. **Real-Time Deployment**: \n",
    "   Finally, the refined and tested model is deployed for daily operational use, predicting trading volumes each trading day. We ensure that the model's deployment aligns with IoT efficiency standards and operates effectively within the computational constraints of the IoT environment.\n"
   ]
  },
  {
   "cell_type": "markdown",
   "id": "b273ac67",
   "metadata": {},
   "source": [
    "## Step 6: Solution and Justification\n",
    "Solution Explanation:\n",
    "Data Preprocessing:\n",
    "\n",
    "\n"
   ]
  },
  {
   "cell_type": "code",
   "execution_count": 5,
   "id": "5075974f",
   "metadata": {},
   "outputs": [
    {
     "name": "stdout",
     "output_type": "stream",
     "text": [
      "Root Mean Squared Error: 1160382.9508469668\n"
     ]
    },
    {
     "name": "stderr",
     "output_type": "stream",
     "text": [
      "/Users/palakrajdev/anaconda3/lib/python3.11/site-packages/statsmodels/tsa/holtwinters/model.py:917: ConvergenceWarning: Optimization failed to converge. Check mle_retvals.\n",
      "  warnings.warn(\n"
     ]
    }
   ],
   "source": [
    "import pandas as pd\n",
    "import numpy as np\n",
    "from statsmodels.tsa.api import ExponentialSmoothing\n",
    "from sklearn.metrics import mean_squared_error\n",
    "\n",
    "# Generate random IoT time series data\n",
    "np.random.seed(42)\n",
    "date_rng = pd.date_range(start='2022-01-01', end='2022-12-31', freq='D')\n",
    "random_data = pd.DataFrame({\n",
    "    'Date': date_rng,\n",
    "    'High': np.random.uniform(100, 200, len(date_rng)),\n",
    "    'Low': np.random.uniform(50, 150, len(date_rng)),\n",
    "    'Open': np.random.uniform(80, 180, len(date_rng)),\n",
    "    'Close': np.random.uniform(120, 220, len(date_rng)),\n",
    "    'Volume': np.random.randint(1000000, 5000000, len(date_rng)),\n",
    "    'Adj Close': np.random.uniform(100, 200, len(date_rng))\n",
    "})\n",
    "\n",
    "# Assuming df is the DataFrame containing IoT time series data\n",
    "df = random_data.copy()\n",
    "\n",
    "# Data Preprocessing\n",
    "df['Date'] = pd.to_datetime(df['Date'])\n",
    "df.fillna(method='ffill', inplace=True)\n",
    "df['Weekday'] = df['Date'].dt.weekday\n",
    "df['IsWeekend'] = df['Weekday'].isin([5, 6]).astype(int)\n",
    "\n",
    "# Train-test split\n",
    "train_size = int(len(df) * 0.8)\n",
    "train, test = df[:train_size], df[train_size:]\n",
    "\n",
    "# Training the model (Exponential Smoothing as an example)\n",
    "model = ExponentialSmoothing(train['Volume'], seasonal='add', seasonal_periods=7)\n",
    "fit_model = model.fit()\n",
    "\n",
    "# Predictions\n",
    "predictions = fit_model.predict(start=test.index[0], end=test.index[-1])\n",
    "\n",
    "# Evaluate the model\n",
    "mse = mean_squared_error(test['Volume'], predictions)\n",
    "rmse = np.sqrt(mse)\n",
    "print(f'Root Mean Squared Error: {rmse}')\n"
   ]
  },
  {
   "cell_type": "code",
   "execution_count": 7,
   "id": "1a57be15",
   "metadata": {},
   "outputs": [],
   "source": [
    "# Assuming df is the DataFrame containing IoT time series data\n",
    "# Convert 'Date' column to datetime\n",
    "df['Date'] = pd.to_datetime(df['Date'])\n",
    "\n",
    "# Handle missing values\n",
    "df.fillna(method='ffill', inplace=True)  # Forward fill missing values\n",
    "\n",
    "# Feature engineering\n",
    "df['Weekday'] = df['Date'].dt.weekday  # Extract weekday information\n",
    "df['IsWeekend'] = df['Weekday'].isin([5, 6]).astype(int)  # Binary indicator for weekends\n"
   ]
  },
  {
   "cell_type": "markdown",
   "id": "344c9e34",
   "metadata": {},
   "source": [
    "# Step 7: Incorporating Coding Examples\n"
   ]
  },
  {
   "cell_type": "code",
   "execution_count": 8,
   "id": "af135473",
   "metadata": {},
   "outputs": [
    {
     "name": "stderr",
     "output_type": "stream",
     "text": [
      "/Users/palakrajdev/anaconda3/lib/python3.11/site-packages/statsmodels/tsa/holtwinters/model.py:917: ConvergenceWarning: Optimization failed to converge. Check mle_retvals.\n",
      "  warnings.warn(\n"
     ]
    }
   ],
   "source": [
    "from statsmodels.tsa.api import ExponentialSmoothing\n",
    "\n",
    "# Selecting relevant features\n",
    "features = ['High', 'Low', 'Open', 'Close', 'Volume', 'Adj Close', 'Weekday', 'IsWeekend']\n",
    "\n",
    "# Train-test split\n",
    "train_size = int(len(df) * 0.8)\n",
    "train, test = df[:train_size], df[train_size:]\n",
    "\n",
    "# Training the model (Exponential Smoothing as an example)\n",
    "model = ExponentialSmoothing(train['Volume'], seasonal='add', seasonal_periods=7)\n",
    "fit_model = model.fit()\n",
    "\n",
    "# Predictions\n",
    "predictions = fit_model.predict(start=test.index[0], end=test.index[-1])\n"
   ]
  },
  {
   "cell_type": "code",
   "execution_count": 6,
   "id": "556be1c1",
   "metadata": {},
   "outputs": [
    {
     "name": "stdout",
     "output_type": "stream",
     "text": [
      "Root Mean Squared Error: 1160382.9508469668\n"
     ]
    },
    {
     "name": "stderr",
     "output_type": "stream",
     "text": [
      "/Users/palakrajdev/anaconda3/lib/python3.11/site-packages/statsmodels/tsa/holtwinters/model.py:917: ConvergenceWarning: Optimization failed to converge. Check mle_retvals.\n",
      "  warnings.warn(\n"
     ]
    }
   ],
   "source": [
    "\n",
    "import pandas as pd\n",
    "import numpy as np\n",
    "from statsmodels.tsa.api import ExponentialSmoothing\n",
    "from sklearn.metrics import mean_squared_error\n",
    "\n",
    "# Assuming df is the DataFrame containing IoT time series data\n",
    "df['Date'] = pd.to_datetime(df['Date'])\n",
    "df.fillna(method='ffill', inplace=True)\n",
    "df['Weekday'] = df['Date'].dt.weekday\n",
    "df['IsWeekend'] = df['Weekday'].isin([5, 6]).astype(int)\n",
    "\n",
    "# Train-test split\n",
    "train_size = int(len(df) * 0.8)\n",
    "train, test = df[:train_size], df[train_size:]\n",
    "\n",
    "# Training the model (Exponential Smoothing as an example)\n",
    "model = ExponentialSmoothing(train['Volume'], seasonal='add', seasonal_periods=7)\n",
    "fit_model = model.fit()\n",
    "\n",
    "# Predictions\n",
    "predictions = fit_model.predict(start=test.index[0], end=test.index[-1])\n",
    "\n",
    "# Evaluate the model\n",
    "mse = mean_squared_error(test['Volume'], predictions)\n",
    "rmse = np.sqrt(mse)\n",
    "print(f'Root Mean Squared Error: {rmse}')\n"
   ]
  },
  {
   "cell_type": "code",
   "execution_count": null,
   "id": "fc7bf8f1",
   "metadata": {},
   "outputs": [],
   "source": []
  },
  {
   "cell_type": "code",
   "execution_count": null,
   "id": "d1a29abd",
   "metadata": {},
   "outputs": [],
   "source": []
  }
 ],
 "metadata": {
  "kernelspec": {
   "display_name": "Python 3 (ipykernel)",
   "language": "python",
   "name": "python3"
  },
  "language_info": {
   "codemirror_mode": {
    "name": "ipython",
    "version": 3
   },
   "file_extension": ".py",
   "mimetype": "text/x-python",
   "name": "python",
   "nbconvert_exporter": "python",
   "pygments_lexer": "ipython3",
   "version": "3.11.5"
  }
 },
 "nbformat": 4,
 "nbformat_minor": 5
}
