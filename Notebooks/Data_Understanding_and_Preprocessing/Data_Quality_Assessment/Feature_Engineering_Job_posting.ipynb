{
 "cells": [
  {
   "cell_type": "markdown",
   "id": "d4bdc40e",
   "metadata": {},
   "source": [
    "# Understanding Data - Feature Engineering"
   ]
  },
  {
   "cell_type": "markdown",
   "id": "9f94dc3b",
   "metadata": {},
   "source": [
    "# Table of Contents \n",
    "\n",
    "1. Dataset-Source\n",
    "\n",
    "2. Explaining Each Column\n",
    "\n",
    "3. What is the Question Being Researched?\n",
    "\n",
    "4. Why is it Interesting?\n",
    "\n",
    "5. What is the Theory Behind it?\n",
    "\n",
    "6. Step 1: Theoritical Foundations\n",
    "\n",
    "7. Step 2: Introduction to the Worked Example Problem\n",
    "\n",
    "8. Step 3: Analyzing the worked example problem\n",
    "\n",
    "9. Step 4 : Crafting problem statement\n",
    "\n",
    "10. Step 5 and 6: Solution, Justification, and incorporating Coding Examples on the dataset\n",
    "\n",
    "11. Diving into the Dataset\n",
    "\n",
    "12. Data Cleaning\n",
    "\n",
    "13. Feature Engineering\n",
    "\n",
    "    - Step 1: Feature Creation\n",
    "    \n",
    "    - Step 2: Feature Transformation\n",
    "    \n",
    "    - Step 3: Feature Extraction\n",
    "    \n",
    "    - Step 4: Feature Selection\n",
    "    \n",
    "14. Conclusion\n",
    "\n",
    "15.  References"
   ]
  },
  {
   "cell_type": "markdown",
   "id": "6e454bdb",
   "metadata": {
    "ExecuteTime": {
     "end_time": "2023-10-02T14:29:22.908473Z",
     "start_time": "2023-10-02T14:29:22.588471Z"
    }
   },
   "source": [
    "<a id='Dataset-Source'></a>"
   ]
  },
  {
   "cell_type": "markdown",
   "id": "a0c5cfc3",
   "metadata": {},
   "source": [
    "<a id='Dataset-Source'></a>"
   ]
  },
  {
   "cell_type": "markdown",
   "id": "f7dc5c94",
   "metadata": {
    "ExecuteTime": {
     "end_time": "2023-10-01T20:58:42.191073Z",
     "start_time": "2023-10-01T20:58:42.095071Z"
    }
   },
   "source": [
    "### Dataset Source -> Linkedin Job Posting - https://www.kaggle.com/datasets/arshkon/linkedin-job-postings/data"
   ]
  },
  {
   "cell_type": "markdown",
   "id": "14f4fcb4",
   "metadata": {},
   "source": [
    "### Explaining each column"
   ]
  },
  {
   "cell_type": "markdown",
   "id": "3dcde1c5",
   "metadata": {},
   "source": [
    "job_id: The job ID as defined by LinkedIn (https://www.linkedin.com/jobs/view/job_id).\n",
    "\n",
    "company_id: Identifier for the company associated with the job posting (maps to companies.csv).\n",
    "\n",
    "title: Job title.\n",
    "\n",
    "description: Job description.\n",
    "\n",
    "max_salary: Maximum salary.\n",
    "\n",
    "med_salary: Median salary.\n",
    "\n",
    "min_salary: Minimum salary.\n",
    "\n",
    "pay_period: Pay period for salary (Hourly, Monthly, Yearly).\n",
    "\n",
    "formatted_work_type: Type of work (Fulltime, Parttime, Contract).\n",
    "\n",
    "location: Job location.\n",
    "\n",
    "applies: Number of applications that have been submitted.\n",
    "\n",
    "original_listed_time: Original time the job was listed.\n",
    "\n",
    "remote_allowed: Whether job permits remote work.\n",
    "\n",
    "views: Number of times the job posting has been viewed.\n",
    "\n",
    "job_posting_url: URL to the job posting on a platform.\n",
    "\n",
    "application_url: URL where applications can be submitted.\n",
    "\n",
    "application_type: Type of application process (offsite, complex/simple onsite).\n",
    "\n",
    "expiry: Expiration date or time for the job listing.\n",
    "\n",
    "closed_time: Time to close job listing.\n",
    "\n",
    "formatted_experience_level: Job experience level (entry, associate, executive, etc).\n",
    "\n",
    "skills_desc: Description detailing required skills for job.\n",
    "\n",
    "listed_time: Time when the job was listed.\n",
    "\n",
    "posting_domain: Domain of the website with application.\n",
    "\n",
    "sponsored: Whether the job listing is sponsored or promoted.\n",
    "\n",
    "work_type: Type of work associated with the job.\n",
    "\n",
    "currency: Currency in which the salary is provided.\n",
    "\n",
    "compensation_type: Type of compensation for the job.\n"
   ]
  },
  {
   "cell_type": "markdown",
   "id": "c873a248",
   "metadata": {},
   "source": [
    "## What is the question being researched?"
   ]
  },
  {
   "cell_type": "markdown",
   "id": "b101c3c6",
   "metadata": {},
   "source": [
    "The research question in the context of feature engineering revolves around how to create, select, or transform features in a dataset to improve the performance of machine learning models and data analysis tasks. Feature engineering seeks to answer questions like:\n",
    "\n",
    "What features should be included in the dataset to best represent the underlying patterns in the data?\n",
    "How can we transform or preprocess raw data to make it more suitable for modeling?\n",
    "Are there interactions or combinations of features that can provide valuable insights or improve model accuracy?"
   ]
  },
  {
   "cell_type": "markdown",
   "id": "a3fc88f2",
   "metadata": {},
   "source": [
    "With respect to the dataset -> It focuses on how feature engineering techniques can be applied to enhance the quality of job recommendations in platforms like LinkedIn, using the information available in the \"job_postings.csv\" dataset. Specifically, it explores the creation and transformation of features related to user profiles, job postings, and interactions to improve the accuracy and relevance of job recommendations."
   ]
  },
  {
   "cell_type": "markdown",
   "id": "db62a62e",
   "metadata": {},
   "source": [
    "## Why is it interesting?"
   ]
  },
  {
   "cell_type": "markdown",
   "id": "bba5f9c7",
   "metadata": {},
   "source": [
    "Feature engineering is interesting for several reasons:\n",
    "\n",
    "- Enhancing Model Performance: Effective feature engineering can significantly enhance the performance of machine learning models. By crafting relevant and informative features, models can better capture complex relationships in the data.\n",
    "\n",
    "- Data Understanding: Feature engineering often involves a deep understanding of the data. It requires domain knowledge to identify meaningful patterns, relationships, and transformations that can lead to valuable insights.\n",
    "\n",
    "- Dimensionality Reduction: Feature engineering techniques can help reduce the dimensionality of high-dimensional datasets, making them more manageable and efficient for modeling while preserving essential information.\n",
    "\n",
    "- Problem-Specific Solutions: Feature engineering is problem-specific. Different datasets and tasks require tailored feature engineering approaches, making it a creative and problem-solving aspect of data science."
   ]
  },
  {
   "cell_type": "markdown",
   "id": "251737b2",
   "metadata": {},
   "source": [
    "With respect to the dataset ->\n",
    "\n",
    "- Personalization: One of the dataset columns, such as \"title,\" \"description,\" \"skills_desc,\" and \"formatted_experience_level,\" contains valuable information about job postings. Feature engineering can involve the extraction of keywords, skills, and job titles from these columns to create personalized features for users. For example, if a user has previously applied for data science roles, creating a feature that quantifies the relevance of a job posting to the user's past applications enhances personalization.\n",
    "\n",
    "\n",
    "- User Engagement: The columns \"views\" and \"applies\" provide insights into user interactions with job postings. Effective job recommendations based on these interactions can lead to higher user engagement. Feature engineering can include creating engagement-related features based on these columns, such as click-through rates or user-job interaction histories.\n",
    "\n",
    "\n",
    "- Data-Driven Decision Making: The dataset columns, especially \"title,\" \"description,\" and \"skills_desc,\" are rich sources of structured data. Feature engineering techniques, including natural language processing (NLP), can be applied to extract keywords, phrases, and skills. These features can be used to make data-driven decisions for job recommendations, aligning them with user preferences and job requirements.\n",
    "\n",
    "\n",
    "- Competitive Advantage: High-quality job recommendations, as indicated by \"views\" and \"sponsored\" listings, can provide a competitive advantage for platforms like LinkedIn. Utilizing feature engineering to improve the accuracy of recommendations can enhance user satisfaction and retention, contributing to platform growth."
   ]
  },
  {
   "cell_type": "markdown",
   "id": "345c91ed",
   "metadata": {},
   "source": [
    "## What is the theory behind it?"
   ]
  },
  {
   "cell_type": "markdown",
   "id": "57d564ca",
   "metadata": {},
   "source": [
    "The theory behind feature engineering is rooted in the principles of data preprocessing, machine learning, and statistics. Key theoretical concepts include:\n",
    "\n",
    "- Feature Selection: Feature selection theory involves identifying the most relevant features while eliminating irrelevant or redundant ones. Techniques such as mutual information, chi-squared tests, and feature importance scores are used to make informed selections.\n",
    "\n",
    "- Feature Transformation: Feature transformation theory revolves around techniques like scaling, normalization, and encoding categorical variables. These transformations ensure that features have consistent scales and distributions.\n",
    "\n",
    "- Feature Creation: Feature creation involves generating new features from existing ones. Polynomial features, interactions, and engineering domain-specific attributes fall under this category.\n",
    "\n",
    "- Information Gain: Information theory concepts, such as entropy and information gain, guide the selection of features that contribute the most to reducing uncertainty in predictive modeling tasks.\n",
    "\n",
    "- Domain Knowledge: Domain knowledge plays a critical role in feature engineering theory. Understanding the context of the data and the problem at hand helps in identifying relevant features and transformations."
   ]
  },
  {
   "cell_type": "markdown",
   "id": "43a05f96",
   "metadata": {},
   "source": [
    "With respect to the dataset ->\n",
    "\n",
    "\n",
    "- Collaborative Filtering: Collaborative filtering assumes that users who have interacted similarly with items in the past will have similar preferences in the future. In this context, the \"applies\" column reflects user interactions with job postings. Feature engineering can capture these interactions as user-item interaction matrices, allowing collaborative filtering techniques to be applied.\n",
    "\n",
    "\n",
    "- Content-Based Filtering: Content-based filtering considers the characteristics of items (job postings) and users to make recommendations. Columns like \"title,\" \"description,\" and \"skills_desc\" contain information about job postings, while \"formatted_experience_level\" provides user characteristics. Feature engineering can extract relevant features from these columns to create content-based features that quantify the alignment between a user's skills and job requirements.\n",
    "\n",
    "\n",
    "- Hybrid Models: Hybrid recommendation systems combine collaborative and content-based filtering approaches. Feature engineering plays a pivotal role in creating hybrid features. For instance, a hybrid feature might combine the similarity between a user's skills (from \"skills_desc\") and job requirements (from \"description\") with the user's historical interactions with similar users (from \"applies\").\n",
    "\n",
    "\n",
    "- Feature Engineering Techniques: Various feature engineering techniques can be applied to the dataset columns. For example, NLP techniques can be employed on the \"description\" column to extract keywords and phrases, and feature scaling and normalization can ensure that features have consistent ranges and magnitudes, improving the performance of recommendation models.\n",
    "\n",
    "\n",
    "\n",
    "The theory of feature engineering for job recommendation involves extracting meaningful information from user and job data within the dataset columns and creating features that enhance the accuracy and relevance of recommendation models. These features, rooted in the theoretical concepts of recommendation systems, are then used to make personalized job recommendations, ultimately improving user engagement and platform competitiveness."
   ]
  },
  {
   "cell_type": "markdown",
   "id": "1b2152f5",
   "metadata": {},
   "source": [
    "### In summary, feature engineering is both an art and a science. It combines domain expertise with data manipulation techniques to extract meaningful patterns from data and prepare it for modeling. Effective feature engineering is often the difference between a mediocre model and a highly predictive one."
   ]
  },
  {
   "cell_type": "markdown",
   "id": "57cf200d",
   "metadata": {},
   "source": [
    "# Step 1: Theoretical Foundations"
   ]
  },
  {
   "cell_type": "markdown",
   "id": "4f44b7e7",
   "metadata": {},
   "source": [
    "- Basics of Algorithms and Problem Design in Feature Engineering: Feature engineering is the process of selecting, transforming, extracting, combining, and manipulating raw data to generate the desired variables for analysis or predictive modeling. It is a crucial step in developing a machine learning model. Algorithms play a vital role in this process. For instance, correlation matrix with heatmap is an algorithm used to understand the correlation between different features in a dataset. Another algorithm, univariate selection, uses statistical tests to select the independent features which have the strongest relationship with the dependent feature. These algorithms are part of the feature selection process, which is a crucial aspect of feature engineering.\n",
    "\n",
    "\n",
    "- Problem design in feature engineering is about defining the problem that gives us the real objective to pursue. This helps us decide the type of problem we’re dealing with (that is, regression or classification) and also helps us decide the structure and types of the inputs, outputs, and metrics with regards to the objective.\n",
    "\n",
    "\n",
    "- Relevance of Custom Problem Creation in Feature Engineering: Creating custom problems is crucial in feature engineering. It allows data scientists to tailor the learning experience to the specific needs and abilities of their models. It also enables models to engage with the data in a more meaningful way, as they are not simply regurgitating information, but actively applying what they have learned to new and unique scenarios. Assessing prior knowledge can enable both the data scientist and the model to allocate their time and energies in ways that will be most productive.\n",
    "\n",
    "\n",
    "- Leveraging Tools like ChatGPT in Feature Engineering: ChatGPT can be a powerful tool in the field of feature engineering. It can assist data scientists in automating various aspects of their workflow, including data cleaning and preprocessing, model training, and result interpretation. It can also generate new data to use in models. Furthermore, ChatGPT can provide a summary of all research methods that are relevant to the research questions and problem domain. It can provide a general ranking of methods based on their potential effectiveness. This can save time and resources compared to training a model from scratch, and can be fine-tuned for specific use cases. However, while ChatGPT can be beneficial, it’s important to note that the output of ChatGPT may be difficult to interpret, which could pose challenges for decision-making in data science applications."
   ]
  },
  {
   "cell_type": "markdown",
   "id": "c2103e51",
   "metadata": {},
   "source": [
    "## Step 2: Introduction to the Worked Example Problem"
   ]
  },
  {
   "cell_type": "markdown",
   "id": "bfdd1531",
   "metadata": {},
   "source": [
    "Worked Example Problem: Performing Feature Engineering on the LinkedIn Job Postings Dataset for Simplified Data Prediction\n",
    "\n",
    "- In this worked example problem, we will be using a dataset from LinkedIn Job Postings. The dataset contains various details about job postings, including job title, description, salary, location, and more. Our goal is to perform feature engineering on this dataset to prepare it for predictive modeling.\n",
    "\n",
    "\n",
    "- Context and Significance in Data Science: Feature engineering is a crucial step in the data science pipeline. It involves selecting, transforming, extracting, combining, and manipulating raw data to generate the desired variables for analysis or predictive modeling. This process can significantly improve the performance of machine learning models by creating features that capture important information in the data, thereby making the models more accurate and robust.\n",
    "\n",
    "\n",
    "- Underlying Principles: feature engineering transforms the raw data into a format that is suitable for machine learning algorithms, thereby improving the performance of the resulting models and simplifying the data prediction process. The specific steps involved in feature engineering will depend on the nature of the data and the specific machine learning algorithm we choose to use. These steps may include handling missing values, encoding categorical variables, normalizing numerical variables, and creating new features based on existing ones.\n",
    "\n",
    "\n",
    "After the feature engineering process, the dataset is ready for the predictive modeling stage. The machine learning model can then be trained on this processed dataset to make predictions. The goal of this worked example problem is to demonstrate the importance of feature engineering in simplifying the data prediction process and improving the performance of machine learning models."
   ]
  },
  {
   "cell_type": "markdown",
   "id": "9df9afec",
   "metadata": {},
   "source": [
    "## Step 3: Analyzing the worked example problem"
   ]
  },
  {
   "cell_type": "markdown",
   "id": "1752067a",
   "metadata": {},
   "source": [
    "- Constraints: The constraints of the problem are primarily determined by the dataset itself. The LinkedIn Job Postings dataset contains various details about job postings, including job title, description, salary, location, and more. Each of these features can be considered as a constraint as they limit the scope of the problem. For instance, the location feature constrains the problem to predicting job views for postings in specific locations. Similarly, the title and description features constrain the problem to predicting views for jobs with specific titles and descriptions.\n",
    "\n",
    "\n",
    "- Logic: The logic behind the solution to this problem involves understanding the relationships between different features in the dataset and the target variable (number of views). This is achieved through feature engineering, which involves selecting, transforming, extracting, combining, and manipulating raw data to generate the desired variables for analysis or predictive modeling. The goal is to create features that capture important information in the data, thereby making the models more accurate and robust.\n",
    "\n",
    "\n",
    "- Algorithmic Concepts: The core data science principles that this problem addresses are mainly related to feature engineering and predictive modeling. Feature engineering involves understanding the relationships between different features, handling missing values, dealing with categorical variables, and creating new features that can improve the performance of a machine learning model. Predictive modeling, on the other hand, involves using these features to predict a target variable. In this case, the target variable is the number of views a job posting will receive. The specific machine learning algorithm used for predictive modeling will depend on the nature of the data and the specific problem at hand."
   ]
  },
  {
   "cell_type": "markdown",
   "id": "d1057747",
   "metadata": {},
   "source": [
    "## Step 4 : Crafting problem statement"
   ]
  },
  {
   "cell_type": "markdown",
   "id": "73cdd614",
   "metadata": {},
   "source": [
    "- Problem Statement: Given a dataset from LinkedIn Job Postings, perform feature engineering to prepare the dataset for predictive modeling. The goal is to create a set of features that can be used to predict the number of views a job posting will receive. The feature engineering process should include feature creation, transformation, extraction, and selection.\n",
    "\n",
    "\n",
    "- Input Format: The input will be a CSV file.\n",
    "\n",
    "\n",
    "- Output Format: The output will be a CSV file with the same columns as the input, plus additional columns for the engineered features.\n",
    "\n",
    "\n",
    "- Sample Inputs and Outputs: Due to the large size of the dataset, it’s not feasible to provide a full sample input and output. However, an example of a feature that might be created is a binary feature indicating whether the job title contains the word “Manager”. If the job title is “Project Manager”, this feature would have a value of 1. If the job title is “Software Engineer”, this feature would have a value of 0.\n",
    "\n",
    "\n",
    "- Constraints: The constraints of the problem are primarily determined by the dataset itself. Each feature in the dataset can be considered as a constraint as they limit the scope of the problem. For instance, the location feature constrains the problem to predicting job views for postings in specific locations. Similarly, the title and description features constrain the problem to predicting views for jobs with specific titles and descriptions. The feature engineering process should be able to handle these constraints and create meaningful features that can improve the performance of the predictive model."
   ]
  },
  {
   "cell_type": "markdown",
   "id": "6b893b6a",
   "metadata": {},
   "source": [
    "## Step 5 and 6: Solution, Justification, and incorporating Coding Examples on the dataset"
   ]
  },
  {
   "cell_type": "markdown",
   "id": "8ce13c28",
   "metadata": {},
   "source": [
    "# Diving into the dataset"
   ]
  },
  {
   "cell_type": "markdown",
   "id": "cfb28862",
   "metadata": {},
   "source": [
    "#### Importing required libraries"
   ]
  },
  {
   "cell_type": "code",
   "execution_count": 2,
   "id": "f4b59963",
   "metadata": {
    "ExecuteTime": {
     "end_time": "2023-10-02T13:36:03.020345Z",
     "start_time": "2023-10-02T13:36:00.057341Z"
    }
   },
   "outputs": [],
   "source": [
    "import pandas as pd\n",
    "import numpy as np\n",
    "import matplotlib.pyplot as plt\n",
    "import seaborn as sns"
   ]
  },
  {
   "cell_type": "markdown",
   "id": "5bf4b407",
   "metadata": {},
   "source": [
    "#### Load the dataset "
   ]
  },
  {
   "cell_type": "code",
   "execution_count": 3,
   "id": "baa89461",
   "metadata": {
    "ExecuteTime": {
     "end_time": "2023-10-02T13:36:04.984348Z",
     "start_time": "2023-10-02T13:36:03.038345Z"
    }
   },
   "outputs": [],
   "source": [
    "job_posting = pd.read_csv('job_postings.csv')"
   ]
  },
  {
   "cell_type": "markdown",
   "id": "b00b830a",
   "metadata": {},
   "source": [
    "#### View the dataset"
   ]
  },
  {
   "cell_type": "code",
   "execution_count": 4,
   "id": "ea7e0fda",
   "metadata": {
    "ExecuteTime": {
     "end_time": "2023-10-02T13:36:05.079337Z",
     "start_time": "2023-10-02T13:36:04.989338Z"
    }
   },
   "outputs": [
    {
     "data": {
      "text/html": [
       "<div>\n",
       "<style scoped>\n",
       "    .dataframe tbody tr th:only-of-type {\n",
       "        vertical-align: middle;\n",
       "    }\n",
       "\n",
       "    .dataframe tbody tr th {\n",
       "        vertical-align: top;\n",
       "    }\n",
       "\n",
       "    .dataframe thead th {\n",
       "        text-align: right;\n",
       "    }\n",
       "</style>\n",
       "<table border=\"1\" class=\"dataframe\">\n",
       "  <thead>\n",
       "    <tr style=\"text-align: right;\">\n",
       "      <th></th>\n",
       "      <th>job_id</th>\n",
       "      <th>company_id</th>\n",
       "      <th>title</th>\n",
       "      <th>description</th>\n",
       "      <th>max_salary</th>\n",
       "      <th>med_salary</th>\n",
       "      <th>min_salary</th>\n",
       "      <th>pay_period</th>\n",
       "      <th>formatted_work_type</th>\n",
       "      <th>location</th>\n",
       "      <th>...</th>\n",
       "      <th>expiry</th>\n",
       "      <th>closed_time</th>\n",
       "      <th>formatted_experience_level</th>\n",
       "      <th>skills_desc</th>\n",
       "      <th>listed_time</th>\n",
       "      <th>posting_domain</th>\n",
       "      <th>sponsored</th>\n",
       "      <th>work_type</th>\n",
       "      <th>currency</th>\n",
       "      <th>compensation_type</th>\n",
       "    </tr>\n",
       "  </thead>\n",
       "  <tbody>\n",
       "    <tr>\n",
       "      <th>0</th>\n",
       "      <td>85008768</td>\n",
       "      <td>NaN</td>\n",
       "      <td>Licensed Insurance Agent</td>\n",
       "      <td>While many industries were hurt by the last fe...</td>\n",
       "      <td>52000.0</td>\n",
       "      <td>NaN</td>\n",
       "      <td>45760.0</td>\n",
       "      <td>YEARLY</td>\n",
       "      <td>Full-time</td>\n",
       "      <td>Chico, CA</td>\n",
       "      <td>...</td>\n",
       "      <td>1.710000e+12</td>\n",
       "      <td>NaN</td>\n",
       "      <td>NaN</td>\n",
       "      <td>NaN</td>\n",
       "      <td>1.690000e+12</td>\n",
       "      <td>NaN</td>\n",
       "      <td>1</td>\n",
       "      <td>FULL_TIME</td>\n",
       "      <td>USD</td>\n",
       "      <td>BASE_SALARY</td>\n",
       "    </tr>\n",
       "    <tr>\n",
       "      <th>1</th>\n",
       "      <td>133114754</td>\n",
       "      <td>77766802.0</td>\n",
       "      <td>Sales Manager</td>\n",
       "      <td>Are you a dynamic and creative marketing profe...</td>\n",
       "      <td>NaN</td>\n",
       "      <td>NaN</td>\n",
       "      <td>NaN</td>\n",
       "      <td>NaN</td>\n",
       "      <td>Full-time</td>\n",
       "      <td>Santa Clarita, CA</td>\n",
       "      <td>...</td>\n",
       "      <td>1.700000e+12</td>\n",
       "      <td>NaN</td>\n",
       "      <td>NaN</td>\n",
       "      <td>NaN</td>\n",
       "      <td>1.690000e+12</td>\n",
       "      <td>NaN</td>\n",
       "      <td>0</td>\n",
       "      <td>FULL_TIME</td>\n",
       "      <td>NaN</td>\n",
       "      <td>NaN</td>\n",
       "    </tr>\n",
       "    <tr>\n",
       "      <th>2</th>\n",
       "      <td>133196985</td>\n",
       "      <td>1089558.0</td>\n",
       "      <td>Model Risk Auditor</td>\n",
       "      <td>Join Us as a Model Risk Auditor – Showcase You...</td>\n",
       "      <td>NaN</td>\n",
       "      <td>NaN</td>\n",
       "      <td>NaN</td>\n",
       "      <td>NaN</td>\n",
       "      <td>Contract</td>\n",
       "      <td>New York, NY</td>\n",
       "      <td>...</td>\n",
       "      <td>1.700000e+12</td>\n",
       "      <td>NaN</td>\n",
       "      <td>NaN</td>\n",
       "      <td>NaN</td>\n",
       "      <td>1.690000e+12</td>\n",
       "      <td>NaN</td>\n",
       "      <td>0</td>\n",
       "      <td>CONTRACT</td>\n",
       "      <td>NaN</td>\n",
       "      <td>NaN</td>\n",
       "    </tr>\n",
       "    <tr>\n",
       "      <th>3</th>\n",
       "      <td>381055942</td>\n",
       "      <td>96654609.0</td>\n",
       "      <td>Business Manager</td>\n",
       "      <td>Business ManagerFirst Baptist Church ForneyFor...</td>\n",
       "      <td>NaN</td>\n",
       "      <td>NaN</td>\n",
       "      <td>NaN</td>\n",
       "      <td>NaN</td>\n",
       "      <td>Full-time</td>\n",
       "      <td>Forney, TX</td>\n",
       "      <td>...</td>\n",
       "      <td>1.700000e+12</td>\n",
       "      <td>NaN</td>\n",
       "      <td>NaN</td>\n",
       "      <td>NaN</td>\n",
       "      <td>1.690000e+12</td>\n",
       "      <td>NaN</td>\n",
       "      <td>0</td>\n",
       "      <td>FULL_TIME</td>\n",
       "      <td>NaN</td>\n",
       "      <td>NaN</td>\n",
       "    </tr>\n",
       "    <tr>\n",
       "      <th>4</th>\n",
       "      <td>529257371</td>\n",
       "      <td>1244539.0</td>\n",
       "      <td>NY Studio Assistant</td>\n",
       "      <td>YOU COULD BE ONE OF THE MAGIC MAKERS\\nKen Fulk...</td>\n",
       "      <td>NaN</td>\n",
       "      <td>NaN</td>\n",
       "      <td>NaN</td>\n",
       "      <td>NaN</td>\n",
       "      <td>Full-time</td>\n",
       "      <td>New York, NY</td>\n",
       "      <td>...</td>\n",
       "      <td>1.710000e+12</td>\n",
       "      <td>NaN</td>\n",
       "      <td>NaN</td>\n",
       "      <td>NaN</td>\n",
       "      <td>1.690000e+12</td>\n",
       "      <td>NaN</td>\n",
       "      <td>1</td>\n",
       "      <td>FULL_TIME</td>\n",
       "      <td>NaN</td>\n",
       "      <td>NaN</td>\n",
       "    </tr>\n",
       "  </tbody>\n",
       "</table>\n",
       "<p>5 rows × 27 columns</p>\n",
       "</div>"
      ],
      "text/plain": [
       "      job_id  company_id                     title  \\\n",
       "0   85008768         NaN  Licensed Insurance Agent   \n",
       "1  133114754  77766802.0             Sales Manager   \n",
       "2  133196985   1089558.0        Model Risk Auditor   \n",
       "3  381055942  96654609.0          Business Manager   \n",
       "4  529257371   1244539.0       NY Studio Assistant   \n",
       "\n",
       "                                         description  max_salary  med_salary  \\\n",
       "0  While many industries were hurt by the last fe...     52000.0         NaN   \n",
       "1  Are you a dynamic and creative marketing profe...         NaN         NaN   \n",
       "2  Join Us as a Model Risk Auditor – Showcase You...         NaN         NaN   \n",
       "3  Business ManagerFirst Baptist Church ForneyFor...         NaN         NaN   \n",
       "4  YOU COULD BE ONE OF THE MAGIC MAKERS\\nKen Fulk...         NaN         NaN   \n",
       "\n",
       "   min_salary pay_period formatted_work_type           location  ...  \\\n",
       "0     45760.0     YEARLY           Full-time          Chico, CA  ...   \n",
       "1         NaN        NaN           Full-time  Santa Clarita, CA  ...   \n",
       "2         NaN        NaN            Contract       New York, NY  ...   \n",
       "3         NaN        NaN           Full-time         Forney, TX  ...   \n",
       "4         NaN        NaN           Full-time       New York, NY  ...   \n",
       "\n",
       "         expiry  closed_time  formatted_experience_level  skills_desc  \\\n",
       "0  1.710000e+12          NaN                         NaN          NaN   \n",
       "1  1.700000e+12          NaN                         NaN          NaN   \n",
       "2  1.700000e+12          NaN                         NaN          NaN   \n",
       "3  1.700000e+12          NaN                         NaN          NaN   \n",
       "4  1.710000e+12          NaN                         NaN          NaN   \n",
       "\n",
       "    listed_time posting_domain sponsored  work_type  currency  \\\n",
       "0  1.690000e+12            NaN         1  FULL_TIME       USD   \n",
       "1  1.690000e+12            NaN         0  FULL_TIME       NaN   \n",
       "2  1.690000e+12            NaN         0   CONTRACT       NaN   \n",
       "3  1.690000e+12            NaN         0  FULL_TIME       NaN   \n",
       "4  1.690000e+12            NaN         1  FULL_TIME       NaN   \n",
       "\n",
       "  compensation_type  \n",
       "0       BASE_SALARY  \n",
       "1               NaN  \n",
       "2               NaN  \n",
       "3               NaN  \n",
       "4               NaN  \n",
       "\n",
       "[5 rows x 27 columns]"
      ]
     },
     "execution_count": 4,
     "metadata": {},
     "output_type": "execute_result"
    }
   ],
   "source": [
    "job_posting.head(5)"
   ]
  },
  {
   "cell_type": "markdown",
   "id": "11218108",
   "metadata": {},
   "source": [
    "## columns like \"original_listed_time,\" \"expiry,\" \"closed_time,\" and \"listed_time\" need to be converted to datetime objects as they are not in the correct format"
   ]
  },
  {
   "cell_type": "code",
   "execution_count": 5,
   "id": "90918b97",
   "metadata": {
    "ExecuteTime": {
     "end_time": "2023-10-02T13:36:05.143334Z",
     "start_time": "2023-10-02T13:36:05.092337Z"
    }
   },
   "outputs": [],
   "source": [
    "job_posting[\"listed_time\"] = pd.to_datetime(job_posting[\"listed_time\"], unit='ms')\n",
    "job_posting[\"original_listed_time\"] = pd.to_datetime(job_posting[\"original_listed_time\"], unit='ms')\n",
    "job_posting[\"expiry\"] = pd.to_datetime(job_posting[\"expiry\"], unit='ms')\n",
    "job_posting[\"closed_time\"] = pd.to_datetime(job_posting[\"closed_time\"], unit='ms')"
   ]
  },
  {
   "cell_type": "code",
   "execution_count": 6,
   "id": "b11a0a72",
   "metadata": {
    "ExecuteTime": {
     "end_time": "2023-10-02T13:36:05.222342Z",
     "start_time": "2023-10-02T13:36:05.154341Z"
    }
   },
   "outputs": [
    {
     "data": {
      "text/html": [
       "<div>\n",
       "<style scoped>\n",
       "    .dataframe tbody tr th:only-of-type {\n",
       "        vertical-align: middle;\n",
       "    }\n",
       "\n",
       "    .dataframe tbody tr th {\n",
       "        vertical-align: top;\n",
       "    }\n",
       "\n",
       "    .dataframe thead th {\n",
       "        text-align: right;\n",
       "    }\n",
       "</style>\n",
       "<table border=\"1\" class=\"dataframe\">\n",
       "  <thead>\n",
       "    <tr style=\"text-align: right;\">\n",
       "      <th></th>\n",
       "      <th>job_id</th>\n",
       "      <th>company_id</th>\n",
       "      <th>title</th>\n",
       "      <th>description</th>\n",
       "      <th>max_salary</th>\n",
       "      <th>med_salary</th>\n",
       "      <th>min_salary</th>\n",
       "      <th>pay_period</th>\n",
       "      <th>formatted_work_type</th>\n",
       "      <th>location</th>\n",
       "      <th>...</th>\n",
       "      <th>expiry</th>\n",
       "      <th>closed_time</th>\n",
       "      <th>formatted_experience_level</th>\n",
       "      <th>skills_desc</th>\n",
       "      <th>listed_time</th>\n",
       "      <th>posting_domain</th>\n",
       "      <th>sponsored</th>\n",
       "      <th>work_type</th>\n",
       "      <th>currency</th>\n",
       "      <th>compensation_type</th>\n",
       "    </tr>\n",
       "  </thead>\n",
       "  <tbody>\n",
       "    <tr>\n",
       "      <th>0</th>\n",
       "      <td>85008768</td>\n",
       "      <td>NaN</td>\n",
       "      <td>Licensed Insurance Agent</td>\n",
       "      <td>While many industries were hurt by the last fe...</td>\n",
       "      <td>52000.0</td>\n",
       "      <td>NaN</td>\n",
       "      <td>45760.0</td>\n",
       "      <td>YEARLY</td>\n",
       "      <td>Full-time</td>\n",
       "      <td>Chico, CA</td>\n",
       "      <td>...</td>\n",
       "      <td>2024-03-09 16:00:00</td>\n",
       "      <td>NaT</td>\n",
       "      <td>NaN</td>\n",
       "      <td>NaN</td>\n",
       "      <td>2023-07-22 04:26:40</td>\n",
       "      <td>NaN</td>\n",
       "      <td>1</td>\n",
       "      <td>FULL_TIME</td>\n",
       "      <td>USD</td>\n",
       "      <td>BASE_SALARY</td>\n",
       "    </tr>\n",
       "    <tr>\n",
       "      <th>1</th>\n",
       "      <td>133114754</td>\n",
       "      <td>77766802.0</td>\n",
       "      <td>Sales Manager</td>\n",
       "      <td>Are you a dynamic and creative marketing profe...</td>\n",
       "      <td>NaN</td>\n",
       "      <td>NaN</td>\n",
       "      <td>NaN</td>\n",
       "      <td>NaN</td>\n",
       "      <td>Full-time</td>\n",
       "      <td>Santa Clarita, CA</td>\n",
       "      <td>...</td>\n",
       "      <td>2023-11-14 22:13:20</td>\n",
       "      <td>NaT</td>\n",
       "      <td>NaN</td>\n",
       "      <td>NaN</td>\n",
       "      <td>2023-07-22 04:26:40</td>\n",
       "      <td>NaN</td>\n",
       "      <td>0</td>\n",
       "      <td>FULL_TIME</td>\n",
       "      <td>NaN</td>\n",
       "      <td>NaN</td>\n",
       "    </tr>\n",
       "    <tr>\n",
       "      <th>2</th>\n",
       "      <td>133196985</td>\n",
       "      <td>1089558.0</td>\n",
       "      <td>Model Risk Auditor</td>\n",
       "      <td>Join Us as a Model Risk Auditor – Showcase You...</td>\n",
       "      <td>NaN</td>\n",
       "      <td>NaN</td>\n",
       "      <td>NaN</td>\n",
       "      <td>NaN</td>\n",
       "      <td>Contract</td>\n",
       "      <td>New York, NY</td>\n",
       "      <td>...</td>\n",
       "      <td>2023-11-14 22:13:20</td>\n",
       "      <td>NaT</td>\n",
       "      <td>NaN</td>\n",
       "      <td>NaN</td>\n",
       "      <td>2023-07-22 04:26:40</td>\n",
       "      <td>NaN</td>\n",
       "      <td>0</td>\n",
       "      <td>CONTRACT</td>\n",
       "      <td>NaN</td>\n",
       "      <td>NaN</td>\n",
       "    </tr>\n",
       "    <tr>\n",
       "      <th>3</th>\n",
       "      <td>381055942</td>\n",
       "      <td>96654609.0</td>\n",
       "      <td>Business Manager</td>\n",
       "      <td>Business ManagerFirst Baptist Church ForneyFor...</td>\n",
       "      <td>NaN</td>\n",
       "      <td>NaN</td>\n",
       "      <td>NaN</td>\n",
       "      <td>NaN</td>\n",
       "      <td>Full-time</td>\n",
       "      <td>Forney, TX</td>\n",
       "      <td>...</td>\n",
       "      <td>2023-11-14 22:13:20</td>\n",
       "      <td>NaT</td>\n",
       "      <td>NaN</td>\n",
       "      <td>NaN</td>\n",
       "      <td>2023-07-22 04:26:40</td>\n",
       "      <td>NaN</td>\n",
       "      <td>0</td>\n",
       "      <td>FULL_TIME</td>\n",
       "      <td>NaN</td>\n",
       "      <td>NaN</td>\n",
       "    </tr>\n",
       "    <tr>\n",
       "      <th>4</th>\n",
       "      <td>529257371</td>\n",
       "      <td>1244539.0</td>\n",
       "      <td>NY Studio Assistant</td>\n",
       "      <td>YOU COULD BE ONE OF THE MAGIC MAKERS\\nKen Fulk...</td>\n",
       "      <td>NaN</td>\n",
       "      <td>NaN</td>\n",
       "      <td>NaN</td>\n",
       "      <td>NaN</td>\n",
       "      <td>Full-time</td>\n",
       "      <td>New York, NY</td>\n",
       "      <td>...</td>\n",
       "      <td>2024-03-09 16:00:00</td>\n",
       "      <td>NaT</td>\n",
       "      <td>NaN</td>\n",
       "      <td>NaN</td>\n",
       "      <td>2023-07-22 04:26:40</td>\n",
       "      <td>NaN</td>\n",
       "      <td>1</td>\n",
       "      <td>FULL_TIME</td>\n",
       "      <td>NaN</td>\n",
       "      <td>NaN</td>\n",
       "    </tr>\n",
       "  </tbody>\n",
       "</table>\n",
       "<p>5 rows × 27 columns</p>\n",
       "</div>"
      ],
      "text/plain": [
       "      job_id  company_id                     title  \\\n",
       "0   85008768         NaN  Licensed Insurance Agent   \n",
       "1  133114754  77766802.0             Sales Manager   \n",
       "2  133196985   1089558.0        Model Risk Auditor   \n",
       "3  381055942  96654609.0          Business Manager   \n",
       "4  529257371   1244539.0       NY Studio Assistant   \n",
       "\n",
       "                                         description  max_salary  med_salary  \\\n",
       "0  While many industries were hurt by the last fe...     52000.0         NaN   \n",
       "1  Are you a dynamic and creative marketing profe...         NaN         NaN   \n",
       "2  Join Us as a Model Risk Auditor – Showcase You...         NaN         NaN   \n",
       "3  Business ManagerFirst Baptist Church ForneyFor...         NaN         NaN   \n",
       "4  YOU COULD BE ONE OF THE MAGIC MAKERS\\nKen Fulk...         NaN         NaN   \n",
       "\n",
       "   min_salary pay_period formatted_work_type           location  ...  \\\n",
       "0     45760.0     YEARLY           Full-time          Chico, CA  ...   \n",
       "1         NaN        NaN           Full-time  Santa Clarita, CA  ...   \n",
       "2         NaN        NaN            Contract       New York, NY  ...   \n",
       "3         NaN        NaN           Full-time         Forney, TX  ...   \n",
       "4         NaN        NaN           Full-time       New York, NY  ...   \n",
       "\n",
       "               expiry closed_time  formatted_experience_level  skills_desc  \\\n",
       "0 2024-03-09 16:00:00         NaT                         NaN          NaN   \n",
       "1 2023-11-14 22:13:20         NaT                         NaN          NaN   \n",
       "2 2023-11-14 22:13:20         NaT                         NaN          NaN   \n",
       "3 2023-11-14 22:13:20         NaT                         NaN          NaN   \n",
       "4 2024-03-09 16:00:00         NaT                         NaN          NaN   \n",
       "\n",
       "          listed_time posting_domain sponsored  work_type currency  \\\n",
       "0 2023-07-22 04:26:40            NaN         1  FULL_TIME      USD   \n",
       "1 2023-07-22 04:26:40            NaN         0  FULL_TIME      NaN   \n",
       "2 2023-07-22 04:26:40            NaN         0   CONTRACT      NaN   \n",
       "3 2023-07-22 04:26:40            NaN         0  FULL_TIME      NaN   \n",
       "4 2023-07-22 04:26:40            NaN         1  FULL_TIME      NaN   \n",
       "\n",
       "  compensation_type  \n",
       "0       BASE_SALARY  \n",
       "1               NaN  \n",
       "2               NaN  \n",
       "3               NaN  \n",
       "4               NaN  \n",
       "\n",
       "[5 rows x 27 columns]"
      ]
     },
     "execution_count": 6,
     "metadata": {},
     "output_type": "execute_result"
    }
   ],
   "source": [
    "job_posting.head()"
   ]
  },
  {
   "cell_type": "markdown",
   "id": "d23ec1c0",
   "metadata": {},
   "source": [
    "#### Display basic statistics"
   ]
  },
  {
   "cell_type": "code",
   "execution_count": 7,
   "id": "2fdf798e",
   "metadata": {
    "ExecuteTime": {
     "end_time": "2023-10-02T13:36:05.364342Z",
     "start_time": "2023-10-02T13:36:05.229339Z"
    }
   },
   "outputs": [
    {
     "data": {
      "text/html": [
       "<div>\n",
       "<style scoped>\n",
       "    .dataframe tbody tr th:only-of-type {\n",
       "        vertical-align: middle;\n",
       "    }\n",
       "\n",
       "    .dataframe tbody tr th {\n",
       "        vertical-align: top;\n",
       "    }\n",
       "\n",
       "    .dataframe thead th {\n",
       "        text-align: right;\n",
       "    }\n",
       "</style>\n",
       "<table border=\"1\" class=\"dataframe\">\n",
       "  <thead>\n",
       "    <tr style=\"text-align: right;\">\n",
       "      <th></th>\n",
       "      <th>job_id</th>\n",
       "      <th>company_id</th>\n",
       "      <th>max_salary</th>\n",
       "      <th>med_salary</th>\n",
       "      <th>min_salary</th>\n",
       "      <th>applies</th>\n",
       "      <th>remote_allowed</th>\n",
       "      <th>views</th>\n",
       "      <th>sponsored</th>\n",
       "    </tr>\n",
       "  </thead>\n",
       "  <tbody>\n",
       "    <tr>\n",
       "      <th>count</th>\n",
       "      <td>1.588600e+04</td>\n",
       "      <td>1.552000e+04</td>\n",
       "      <td>5.521000e+03</td>\n",
       "      <td>981.000000</td>\n",
       "      <td>5521.000000</td>\n",
       "      <td>8700.000000</td>\n",
       "      <td>2340.0</td>\n",
       "      <td>13123.000000</td>\n",
       "      <td>15886.000000</td>\n",
       "    </tr>\n",
       "    <tr>\n",
       "      <th>mean</th>\n",
       "      <td>3.691293e+09</td>\n",
       "      <td>1.084100e+07</td>\n",
       "      <td>8.833622e+04</td>\n",
       "      <td>41167.664404</td>\n",
       "      <td>62352.218073</td>\n",
       "      <td>22.833103</td>\n",
       "      <td>1.0</td>\n",
       "      <td>76.776575</td>\n",
       "      <td>0.289248</td>\n",
       "    </tr>\n",
       "    <tr>\n",
       "      <th>std</th>\n",
       "      <td>1.028617e+08</td>\n",
       "      <td>2.313688e+07</td>\n",
       "      <td>9.068282e+04</td>\n",
       "      <td>93682.094905</td>\n",
       "      <td>59487.692283</td>\n",
       "      <td>54.892826</td>\n",
       "      <td>0.0</td>\n",
       "      <td>167.459105</td>\n",
       "      <td>0.453428</td>\n",
       "    </tr>\n",
       "    <tr>\n",
       "      <th>min</th>\n",
       "      <td>8.500877e+07</td>\n",
       "      <td>1.009000e+03</td>\n",
       "      <td>1.000000e+01</td>\n",
       "      <td>10.000000</td>\n",
       "      <td>10.000000</td>\n",
       "      <td>1.000000</td>\n",
       "      <td>1.0</td>\n",
       "      <td>1.000000</td>\n",
       "      <td>0.000000</td>\n",
       "    </tr>\n",
       "    <tr>\n",
       "      <th>25%</th>\n",
       "      <td>3.693071e+09</td>\n",
       "      <td>1.301100e+04</td>\n",
       "      <td>4.800000e+01</td>\n",
       "      <td>18.000000</td>\n",
       "      <td>38.000000</td>\n",
       "      <td>2.000000</td>\n",
       "      <td>1.0</td>\n",
       "      <td>6.000000</td>\n",
       "      <td>0.000000</td>\n",
       "    </tr>\n",
       "    <tr>\n",
       "      <th>50%</th>\n",
       "      <td>3.697358e+09</td>\n",
       "      <td>2.777685e+05</td>\n",
       "      <td>8.200000e+04</td>\n",
       "      <td>26.000000</td>\n",
       "      <td>60000.000000</td>\n",
       "      <td>6.000000</td>\n",
       "      <td>1.0</td>\n",
       "      <td>25.000000</td>\n",
       "      <td>0.000000</td>\n",
       "    </tr>\n",
       "    <tr>\n",
       "      <th>75%</th>\n",
       "      <td>3.699413e+09</td>\n",
       "      <td>7.798499e+06</td>\n",
       "      <td>1.400000e+05</td>\n",
       "      <td>52000.000000</td>\n",
       "      <td>99000.000000</td>\n",
       "      <td>21.000000</td>\n",
       "      <td>1.0</td>\n",
       "      <td>78.000000</td>\n",
       "      <td>1.000000</td>\n",
       "    </tr>\n",
       "    <tr>\n",
       "      <th>max</th>\n",
       "      <td>3.701374e+09</td>\n",
       "      <td>9.856222e+07</td>\n",
       "      <td>1.300000e+06</td>\n",
       "      <td>998426.000000</td>\n",
       "      <td>800000.000000</td>\n",
       "      <td>1615.000000</td>\n",
       "      <td>1.0</td>\n",
       "      <td>5656.000000</td>\n",
       "      <td>1.000000</td>\n",
       "    </tr>\n",
       "  </tbody>\n",
       "</table>\n",
       "</div>"
      ],
      "text/plain": [
       "             job_id    company_id    max_salary     med_salary     min_salary  \\\n",
       "count  1.588600e+04  1.552000e+04  5.521000e+03     981.000000    5521.000000   \n",
       "mean   3.691293e+09  1.084100e+07  8.833622e+04   41167.664404   62352.218073   \n",
       "std    1.028617e+08  2.313688e+07  9.068282e+04   93682.094905   59487.692283   \n",
       "min    8.500877e+07  1.009000e+03  1.000000e+01      10.000000      10.000000   \n",
       "25%    3.693071e+09  1.301100e+04  4.800000e+01      18.000000      38.000000   \n",
       "50%    3.697358e+09  2.777685e+05  8.200000e+04      26.000000   60000.000000   \n",
       "75%    3.699413e+09  7.798499e+06  1.400000e+05   52000.000000   99000.000000   \n",
       "max    3.701374e+09  9.856222e+07  1.300000e+06  998426.000000  800000.000000   \n",
       "\n",
       "           applies  remote_allowed         views     sponsored  \n",
       "count  8700.000000          2340.0  13123.000000  15886.000000  \n",
       "mean     22.833103             1.0     76.776575      0.289248  \n",
       "std      54.892826             0.0    167.459105      0.453428  \n",
       "min       1.000000             1.0      1.000000      0.000000  \n",
       "25%       2.000000             1.0      6.000000      0.000000  \n",
       "50%       6.000000             1.0     25.000000      0.000000  \n",
       "75%      21.000000             1.0     78.000000      1.000000  \n",
       "max    1615.000000             1.0   5656.000000      1.000000  "
      ]
     },
     "execution_count": 7,
     "metadata": {},
     "output_type": "execute_result"
    }
   ],
   "source": [
    "job_posting.describe()"
   ]
  },
  {
   "cell_type": "markdown",
   "id": "8cb4252f",
   "metadata": {},
   "source": [
    "#### Number of rows and columns"
   ]
  },
  {
   "cell_type": "code",
   "execution_count": 8,
   "id": "8cda1e1b",
   "metadata": {
    "ExecuteTime": {
     "end_time": "2023-10-02T13:36:05.396337Z",
     "start_time": "2023-10-02T13:36:05.376340Z"
    }
   },
   "outputs": [
    {
     "data": {
      "text/plain": [
       "(15886, 27)"
      ]
     },
     "execution_count": 8,
     "metadata": {},
     "output_type": "execute_result"
    }
   ],
   "source": [
    "job_posting.shape"
   ]
  },
  {
   "cell_type": "markdown",
   "id": "30169e19",
   "metadata": {},
   "source": [
    "#### Values in each column"
   ]
  },
  {
   "cell_type": "code",
   "execution_count": 9,
   "id": "e2a8c5c1",
   "metadata": {
    "ExecuteTime": {
     "end_time": "2023-10-02T13:36:05.523333Z",
     "start_time": "2023-10-02T13:36:05.404343Z"
    }
   },
   "outputs": [
    {
     "data": {
      "text/plain": [
       "job_id                        15886\n",
       "company_id                    15520\n",
       "title                         15886\n",
       "description                   15885\n",
       "max_salary                     5521\n",
       "med_salary                      981\n",
       "min_salary                     5521\n",
       "pay_period                     6502\n",
       "formatted_work_type           15886\n",
       "location                      15886\n",
       "applies                        8700\n",
       "original_listed_time          15886\n",
       "remote_allowed                 2340\n",
       "views                         13123\n",
       "job_posting_url               15886\n",
       "application_url                9795\n",
       "application_type              15886\n",
       "expiry                        15886\n",
       "closed_time                     928\n",
       "formatted_experience_level    10984\n",
       "skills_desc                     144\n",
       "listed_time                   15886\n",
       "posting_domain                 9044\n",
       "sponsored                     15886\n",
       "work_type                     15886\n",
       "currency                       6502\n",
       "compensation_type              6502\n",
       "dtype: int64"
      ]
     },
     "execution_count": 9,
     "metadata": {},
     "output_type": "execute_result"
    }
   ],
   "source": [
    "job_posting.count()"
   ]
  },
  {
   "cell_type": "markdown",
   "id": "fbc19d4e",
   "metadata": {},
   "source": [
    "# Data Cleaning - should be performed before Feature Engineering"
   ]
  },
  {
   "cell_type": "markdown",
   "id": "ea8030ae",
   "metadata": {},
   "source": [
    "## Check for null values"
   ]
  },
  {
   "cell_type": "code",
   "execution_count": 10,
   "id": "8cf2624e",
   "metadata": {
    "ExecuteTime": {
     "end_time": "2023-10-02T13:36:05.617346Z",
     "start_time": "2023-10-02T13:36:05.531342Z"
    }
   },
   "outputs": [
    {
     "data": {
      "text/plain": [
       "job_id                            0\n",
       "company_id                      366\n",
       "title                             0\n",
       "description                       1\n",
       "max_salary                    10365\n",
       "med_salary                    14905\n",
       "min_salary                    10365\n",
       "pay_period                     9384\n",
       "formatted_work_type               0\n",
       "location                          0\n",
       "applies                        7186\n",
       "original_listed_time              0\n",
       "remote_allowed                13546\n",
       "views                          2763\n",
       "job_posting_url                   0\n",
       "application_url                6091\n",
       "application_type                  0\n",
       "expiry                            0\n",
       "closed_time                   14958\n",
       "formatted_experience_level     4902\n",
       "skills_desc                   15742\n",
       "listed_time                       0\n",
       "posting_domain                 6842\n",
       "sponsored                         0\n",
       "work_type                         0\n",
       "currency                       9384\n",
       "compensation_type              9384\n",
       "dtype: int64"
      ]
     },
     "execution_count": 10,
     "metadata": {},
     "output_type": "execute_result"
    }
   ],
   "source": [
    "job_posting.isnull().sum()"
   ]
  },
  {
   "cell_type": "markdown",
   "id": "fc76469f",
   "metadata": {},
   "source": [
    "## Observation"
   ]
  },
  {
   "cell_type": "markdown",
   "id": "aaa9d5cc",
   "metadata": {},
   "source": [
    "- Most of the companies have kept their salaries and compensation for the job posting confidential\n",
    "- Almost half of the companies haven't listed the count of applications (applies column) they have recieved\n",
    "- Even though we are in post covid era where hybrid work is prevelant, most of the companies haven't specified whether remote work is allowed or not\n",
    "- Almost all the companies haven't specified the description for the required skills"
   ]
  },
  {
   "cell_type": "markdown",
   "id": "534855af",
   "metadata": {},
   "source": [
    "### Handling null values"
   ]
  },
  {
   "cell_type": "markdown",
   "id": "dc27791b",
   "metadata": {},
   "source": [
    "Let us remove those columns which have more than 75% of its values as NaN and for remaining columns it's best to replace NaN with median value "
   ]
  },
  {
   "cell_type": "code",
   "execution_count": 11,
   "id": "838b9454",
   "metadata": {
    "ExecuteTime": {
     "end_time": "2023-10-02T13:36:05.760333Z",
     "start_time": "2023-10-02T13:36:05.629337Z"
    }
   },
   "outputs": [],
   "source": [
    "threshold = 0.75  # Set the threshold for NaN values\n",
    "\n",
    "# Calculate the threshold count for NaN values\n",
    "threshold_count = len(job_posting) * threshold\n",
    "\n",
    "# Drop columns with more NaN values than the threshold\n",
    "job_posting = job_posting.dropna(axis=1, thresh=threshold_count)\n",
    "\n",
    "# Identify numeric columns\n",
    "numeric_columns = job_posting.select_dtypes(include=[np.number])\n",
    "\n",
    "# Replace NaN values in numeric columns with median value\n",
    "median_values = numeric_columns.median()\n",
    "job_posting[numeric_columns.columns] = numeric_columns.fillna(median_values)\n"
   ]
  },
  {
   "cell_type": "markdown",
   "id": "0f095bff",
   "metadata": {},
   "source": [
    "### After removing null values"
   ]
  },
  {
   "cell_type": "code",
   "execution_count": 12,
   "id": "c17629c3",
   "metadata": {
    "ExecuteTime": {
     "end_time": "2023-10-02T13:36:05.854337Z",
     "start_time": "2023-10-02T13:36:05.776341Z"
    }
   },
   "outputs": [
    {
     "data": {
      "text/plain": [
       "job_id                  0\n",
       "company_id              0\n",
       "title                   0\n",
       "description             1\n",
       "formatted_work_type     0\n",
       "location                0\n",
       "original_listed_time    0\n",
       "views                   0\n",
       "job_posting_url         0\n",
       "application_type        0\n",
       "expiry                  0\n",
       "listed_time             0\n",
       "sponsored               0\n",
       "work_type               0\n",
       "dtype: int64"
      ]
     },
     "execution_count": 12,
     "metadata": {},
     "output_type": "execute_result"
    }
   ],
   "source": [
    "job_posting.isnull().sum()"
   ]
  },
  {
   "cell_type": "code",
   "execution_count": 13,
   "id": "ab298009",
   "metadata": {
    "ExecuteTime": {
     "end_time": "2023-10-02T13:36:05.884340Z",
     "start_time": "2023-10-02T13:36:05.860340Z"
    }
   },
   "outputs": [
    {
     "data": {
      "text/plain": [
       "(15886, 14)"
      ]
     },
     "execution_count": 13,
     "metadata": {},
     "output_type": "execute_result"
    }
   ],
   "source": [
    "job_posting.shape"
   ]
  },
  {
   "cell_type": "markdown",
   "id": "acc7164b",
   "metadata": {},
   "source": [
    "#### 13 columns have been dropped as they didn't contain enough information for us to use"
   ]
  },
  {
   "cell_type": "markdown",
   "id": "d2c76e8d",
   "metadata": {},
   "source": [
    "#### Now lets rename the columns for better understanding"
   ]
  },
  {
   "cell_type": "code",
   "execution_count": 14,
   "id": "a346eba3",
   "metadata": {
    "ExecuteTime": {
     "end_time": "2023-10-02T13:36:05.931340Z",
     "start_time": "2023-10-02T13:36:05.899338Z"
    }
   },
   "outputs": [],
   "source": [
    "job_posting = job_posting.rename(columns={\n",
    "    'job_id': 'JobID',\n",
    "    'company_id': 'CompanyID',\n",
    "    'title': 'JobTitle',\n",
    "    'description': 'JobDescription',\n",
    "    'formatted_work_type': 'WorkType',\n",
    "    'location': 'JobLocation',\n",
    "    'original_listed_time': 'OriginalListedTime',\n",
    "    'views': 'ViewCount',\n",
    "    'job_posting_url': 'JobPostingURL',\n",
    "    'application_type': 'ApplicationType',\n",
    "    'expiry': 'ExpiryDate',\n",
    "    'listed_time': 'ListedTime',\n",
    "    'sponsored': 'Sponsored',\n",
    "    'work_type': 'WorkType'\n",
    "})"
   ]
  },
  {
   "cell_type": "markdown",
   "id": "3cec62bf",
   "metadata": {},
   "source": [
    "## Cleaned Dataset"
   ]
  },
  {
   "cell_type": "code",
   "execution_count": 15,
   "id": "7c50ebc5",
   "metadata": {
    "ExecuteTime": {
     "end_time": "2023-10-02T13:36:06.297339Z",
     "start_time": "2023-10-02T13:36:06.250340Z"
    }
   },
   "outputs": [
    {
     "data": {
      "text/html": [
       "<div>\n",
       "<style scoped>\n",
       "    .dataframe tbody tr th:only-of-type {\n",
       "        vertical-align: middle;\n",
       "    }\n",
       "\n",
       "    .dataframe tbody tr th {\n",
       "        vertical-align: top;\n",
       "    }\n",
       "\n",
       "    .dataframe thead th {\n",
       "        text-align: right;\n",
       "    }\n",
       "</style>\n",
       "<table border=\"1\" class=\"dataframe\">\n",
       "  <thead>\n",
       "    <tr style=\"text-align: right;\">\n",
       "      <th></th>\n",
       "      <th>JobID</th>\n",
       "      <th>CompanyID</th>\n",
       "      <th>JobTitle</th>\n",
       "      <th>JobDescription</th>\n",
       "      <th>WorkType</th>\n",
       "      <th>JobLocation</th>\n",
       "      <th>OriginalListedTime</th>\n",
       "      <th>ViewCount</th>\n",
       "      <th>JobPostingURL</th>\n",
       "      <th>ApplicationType</th>\n",
       "      <th>ExpiryDate</th>\n",
       "      <th>ListedTime</th>\n",
       "      <th>Sponsored</th>\n",
       "      <th>WorkType</th>\n",
       "    </tr>\n",
       "  </thead>\n",
       "  <tbody>\n",
       "    <tr>\n",
       "      <th>0</th>\n",
       "      <td>85008768</td>\n",
       "      <td>277768.5</td>\n",
       "      <td>Licensed Insurance Agent</td>\n",
       "      <td>While many industries were hurt by the last fe...</td>\n",
       "      <td>Full-time</td>\n",
       "      <td>Chico, CA</td>\n",
       "      <td>2023-07-22 04:26:40</td>\n",
       "      <td>5.0</td>\n",
       "      <td>https://www.linkedin.com/jobs/view/85008768/?t...</td>\n",
       "      <td>ComplexOnsiteApply</td>\n",
       "      <td>2024-03-09 16:00:00</td>\n",
       "      <td>2023-07-22 04:26:40</td>\n",
       "      <td>1</td>\n",
       "      <td>FULL_TIME</td>\n",
       "    </tr>\n",
       "    <tr>\n",
       "      <th>1</th>\n",
       "      <td>133114754</td>\n",
       "      <td>77766802.0</td>\n",
       "      <td>Sales Manager</td>\n",
       "      <td>Are you a dynamic and creative marketing profe...</td>\n",
       "      <td>Full-time</td>\n",
       "      <td>Santa Clarita, CA</td>\n",
       "      <td>2023-07-22 04:26:40</td>\n",
       "      <td>25.0</td>\n",
       "      <td>https://www.linkedin.com/jobs/view/133114754/?...</td>\n",
       "      <td>ComplexOnsiteApply</td>\n",
       "      <td>2023-11-14 22:13:20</td>\n",
       "      <td>2023-07-22 04:26:40</td>\n",
       "      <td>0</td>\n",
       "      <td>FULL_TIME</td>\n",
       "    </tr>\n",
       "    <tr>\n",
       "      <th>2</th>\n",
       "      <td>133196985</td>\n",
       "      <td>1089558.0</td>\n",
       "      <td>Model Risk Auditor</td>\n",
       "      <td>Join Us as a Model Risk Auditor – Showcase You...</td>\n",
       "      <td>Contract</td>\n",
       "      <td>New York, NY</td>\n",
       "      <td>2023-07-22 04:26:40</td>\n",
       "      <td>17.0</td>\n",
       "      <td>https://www.linkedin.com/jobs/view/133196985/?...</td>\n",
       "      <td>ComplexOnsiteApply</td>\n",
       "      <td>2023-11-14 22:13:20</td>\n",
       "      <td>2023-07-22 04:26:40</td>\n",
       "      <td>0</td>\n",
       "      <td>CONTRACT</td>\n",
       "    </tr>\n",
       "    <tr>\n",
       "      <th>3</th>\n",
       "      <td>381055942</td>\n",
       "      <td>96654609.0</td>\n",
       "      <td>Business Manager</td>\n",
       "      <td>Business ManagerFirst Baptist Church ForneyFor...</td>\n",
       "      <td>Full-time</td>\n",
       "      <td>Forney, TX</td>\n",
       "      <td>2023-07-22 04:26:40</td>\n",
       "      <td>25.0</td>\n",
       "      <td>https://www.linkedin.com/jobs/view/381055942/?...</td>\n",
       "      <td>ComplexOnsiteApply</td>\n",
       "      <td>2023-11-14 22:13:20</td>\n",
       "      <td>2023-07-22 04:26:40</td>\n",
       "      <td>0</td>\n",
       "      <td>FULL_TIME</td>\n",
       "    </tr>\n",
       "    <tr>\n",
       "      <th>4</th>\n",
       "      <td>529257371</td>\n",
       "      <td>1244539.0</td>\n",
       "      <td>NY Studio Assistant</td>\n",
       "      <td>YOU COULD BE ONE OF THE MAGIC MAKERS\\nKen Fulk...</td>\n",
       "      <td>Full-time</td>\n",
       "      <td>New York, NY</td>\n",
       "      <td>2023-07-22 04:26:40</td>\n",
       "      <td>2.0</td>\n",
       "      <td>https://www.linkedin.com/jobs/view/529257371/?...</td>\n",
       "      <td>ComplexOnsiteApply</td>\n",
       "      <td>2024-03-09 16:00:00</td>\n",
       "      <td>2023-07-22 04:26:40</td>\n",
       "      <td>1</td>\n",
       "      <td>FULL_TIME</td>\n",
       "    </tr>\n",
       "  </tbody>\n",
       "</table>\n",
       "</div>"
      ],
      "text/plain": [
       "       JobID   CompanyID                  JobTitle  \\\n",
       "0   85008768    277768.5  Licensed Insurance Agent   \n",
       "1  133114754  77766802.0             Sales Manager   \n",
       "2  133196985   1089558.0        Model Risk Auditor   \n",
       "3  381055942  96654609.0          Business Manager   \n",
       "4  529257371   1244539.0       NY Studio Assistant   \n",
       "\n",
       "                                      JobDescription   WorkType  \\\n",
       "0  While many industries were hurt by the last fe...  Full-time   \n",
       "1  Are you a dynamic and creative marketing profe...  Full-time   \n",
       "2  Join Us as a Model Risk Auditor – Showcase You...   Contract   \n",
       "3  Business ManagerFirst Baptist Church ForneyFor...  Full-time   \n",
       "4  YOU COULD BE ONE OF THE MAGIC MAKERS\\nKen Fulk...  Full-time   \n",
       "\n",
       "         JobLocation  OriginalListedTime  ViewCount  \\\n",
       "0          Chico, CA 2023-07-22 04:26:40        5.0   \n",
       "1  Santa Clarita, CA 2023-07-22 04:26:40       25.0   \n",
       "2       New York, NY 2023-07-22 04:26:40       17.0   \n",
       "3         Forney, TX 2023-07-22 04:26:40       25.0   \n",
       "4       New York, NY 2023-07-22 04:26:40        2.0   \n",
       "\n",
       "                                       JobPostingURL     ApplicationType  \\\n",
       "0  https://www.linkedin.com/jobs/view/85008768/?t...  ComplexOnsiteApply   \n",
       "1  https://www.linkedin.com/jobs/view/133114754/?...  ComplexOnsiteApply   \n",
       "2  https://www.linkedin.com/jobs/view/133196985/?...  ComplexOnsiteApply   \n",
       "3  https://www.linkedin.com/jobs/view/381055942/?...  ComplexOnsiteApply   \n",
       "4  https://www.linkedin.com/jobs/view/529257371/?...  ComplexOnsiteApply   \n",
       "\n",
       "           ExpiryDate          ListedTime  Sponsored   WorkType  \n",
       "0 2024-03-09 16:00:00 2023-07-22 04:26:40          1  FULL_TIME  \n",
       "1 2023-11-14 22:13:20 2023-07-22 04:26:40          0  FULL_TIME  \n",
       "2 2023-11-14 22:13:20 2023-07-22 04:26:40          0   CONTRACT  \n",
       "3 2023-11-14 22:13:20 2023-07-22 04:26:40          0  FULL_TIME  \n",
       "4 2024-03-09 16:00:00 2023-07-22 04:26:40          1  FULL_TIME  "
      ]
     },
     "execution_count": 15,
     "metadata": {},
     "output_type": "execute_result"
    }
   ],
   "source": [
    "job_posting.head()"
   ]
  },
  {
   "cell_type": "markdown",
   "id": "5b38ec91",
   "metadata": {},
   "source": [
    "# Feature Engineering"
   ]
  },
  {
   "cell_type": "markdown",
   "id": "04ddbb2f",
   "metadata": {},
   "source": [
    "## Step 1 : Feature Creation - This involves creating new features from existing ones. This could be as simple as creating a new binary feature based on a threshold in a numerical feature, or as complex as creating interaction features between multiple existing features."
   ]
  },
  {
   "cell_type": "markdown",
   "id": "b7642d16",
   "metadata": {},
   "source": [
    "Let us create the below features -\n",
    "\n",
    "- Job Description Length: The length of a job description might correlate with the complexity or level of detail required for the job. This could potentially influence factors like salary, required experience, or the number of applicants.\n",
    "\n",
    "\n",
    "- Location Features: Jobs in different cities and states may have different characteristics, such as average salary, cost of living, or industry focus. By splitting ‘JobLocation’ into ‘City’ and ‘State’, the model can capture these regional differences.\n",
    "\n",
    "\n",
    "- Time Features: The duration a job is listed for could indicate the urgency of the hiring need or the competitiveness of the role. The day of the week a job is listed might reveal patterns in job posting behavior.\n",
    "\n",
    "\n",
    "- Job Title Features: Certain words in job titles, like ‘Manager’ or ‘Entry Level’, can give information about the level of the position, which could be related to factors like salary, required experience, or education level.\n",
    "\n",
    "\n",
    "- View Count Bins: The number of views a job posting receives could be an indicator of the job’s popularity or competitiveness. Binning the view counts into categories like ‘Low’, ‘Medium’, and ‘High’ can help the model handle this feature more effectively by reducing the effect of extreme values or outliers."
   ]
  },
  {
   "cell_type": "code",
   "execution_count": 16,
   "id": "c5fed788",
   "metadata": {
    "ExecuteTime": {
     "end_time": "2023-10-02T13:36:07.934907Z",
     "start_time": "2023-10-02T13:36:07.769328Z"
    }
   },
   "outputs": [],
   "source": [
    "# Fill NaN values with an empty string\n",
    "job_posting['JobDescription'] = job_posting['JobDescription'].fillna('')\n",
    "\n",
    "# Now calculate the length\n",
    "job_posting['JobDescriptionLength'] = job_posting['JobDescription'].apply(len)\n",
    "\n",
    "# Location Features\n",
    "job_posting[['City', 'State']] = job_posting['JobLocation'].str.split(', ', n=1, expand=True)\n",
    "\n",
    "# Time Features\n",
    "job_posting['OriginalListedTime'] = pd.to_datetime(job_posting['OriginalListedTime'])\n",
    "job_posting['ExpiryDate'] = pd.to_datetime(job_posting['ExpiryDate'])\n",
    "job_posting['ListingDuration'] = (job_posting['ExpiryDate'] - job_posting['OriginalListedTime']).dt.days\n",
    "job_posting['DayOfWeekListed'] = job_posting['OriginalListedTime'].dt.dayofweek\n",
    "\n",
    "# Job Title Features\n",
    "job_posting['IsManager'] = job_posting['JobTitle'].apply(lambda x: 1 if 'manager' in x.lower() else 0)\n",
    "job_posting['IsEntryLevel'] = job_posting['JobTitle'].apply(lambda x: 1 if 'entry level' in x.lower() else 0)\n",
    "\n",
    "# View Count Bins\n",
    "job_posting['ViewCountBins'] = pd.cut(job_posting['ViewCount'], bins=[0, 100, 500, float('inf')], labels=['Low', 'Medium', 'High'])"
   ]
  },
  {
   "cell_type": "markdown",
   "id": "aea5f820",
   "metadata": {},
   "source": [
    "### Dataset with features added"
   ]
  },
  {
   "cell_type": "code",
   "execution_count": 17,
   "id": "472f6f2f",
   "metadata": {
    "ExecuteTime": {
     "end_time": "2023-10-02T13:36:08.517904Z",
     "start_time": "2023-10-02T13:36:08.440898Z"
    }
   },
   "outputs": [
    {
     "data": {
      "text/html": [
       "<div>\n",
       "<style scoped>\n",
       "    .dataframe tbody tr th:only-of-type {\n",
       "        vertical-align: middle;\n",
       "    }\n",
       "\n",
       "    .dataframe tbody tr th {\n",
       "        vertical-align: top;\n",
       "    }\n",
       "\n",
       "    .dataframe thead th {\n",
       "        text-align: right;\n",
       "    }\n",
       "</style>\n",
       "<table border=\"1\" class=\"dataframe\">\n",
       "  <thead>\n",
       "    <tr style=\"text-align: right;\">\n",
       "      <th></th>\n",
       "      <th>JobID</th>\n",
       "      <th>CompanyID</th>\n",
       "      <th>JobTitle</th>\n",
       "      <th>JobDescription</th>\n",
       "      <th>WorkType</th>\n",
       "      <th>JobLocation</th>\n",
       "      <th>OriginalListedTime</th>\n",
       "      <th>ViewCount</th>\n",
       "      <th>JobPostingURL</th>\n",
       "      <th>ApplicationType</th>\n",
       "      <th>...</th>\n",
       "      <th>Sponsored</th>\n",
       "      <th>WorkType</th>\n",
       "      <th>JobDescriptionLength</th>\n",
       "      <th>City</th>\n",
       "      <th>State</th>\n",
       "      <th>ListingDuration</th>\n",
       "      <th>DayOfWeekListed</th>\n",
       "      <th>IsManager</th>\n",
       "      <th>IsEntryLevel</th>\n",
       "      <th>ViewCountBins</th>\n",
       "    </tr>\n",
       "  </thead>\n",
       "  <tbody>\n",
       "    <tr>\n",
       "      <th>0</th>\n",
       "      <td>85008768</td>\n",
       "      <td>277768.5</td>\n",
       "      <td>Licensed Insurance Agent</td>\n",
       "      <td>While many industries were hurt by the last fe...</td>\n",
       "      <td>Full-time</td>\n",
       "      <td>Chico, CA</td>\n",
       "      <td>2023-07-22 04:26:40</td>\n",
       "      <td>5.0</td>\n",
       "      <td>https://www.linkedin.com/jobs/view/85008768/?t...</td>\n",
       "      <td>ComplexOnsiteApply</td>\n",
       "      <td>...</td>\n",
       "      <td>1</td>\n",
       "      <td>FULL_TIME</td>\n",
       "      <td>1825</td>\n",
       "      <td>Chico</td>\n",
       "      <td>CA</td>\n",
       "      <td>231</td>\n",
       "      <td>5</td>\n",
       "      <td>0</td>\n",
       "      <td>0</td>\n",
       "      <td>Low</td>\n",
       "    </tr>\n",
       "    <tr>\n",
       "      <th>1</th>\n",
       "      <td>133114754</td>\n",
       "      <td>77766802.0</td>\n",
       "      <td>Sales Manager</td>\n",
       "      <td>Are you a dynamic and creative marketing profe...</td>\n",
       "      <td>Full-time</td>\n",
       "      <td>Santa Clarita, CA</td>\n",
       "      <td>2023-07-22 04:26:40</td>\n",
       "      <td>25.0</td>\n",
       "      <td>https://www.linkedin.com/jobs/view/133114754/?...</td>\n",
       "      <td>ComplexOnsiteApply</td>\n",
       "      <td>...</td>\n",
       "      <td>0</td>\n",
       "      <td>FULL_TIME</td>\n",
       "      <td>2729</td>\n",
       "      <td>Santa Clarita</td>\n",
       "      <td>CA</td>\n",
       "      <td>115</td>\n",
       "      <td>5</td>\n",
       "      <td>1</td>\n",
       "      <td>0</td>\n",
       "      <td>Low</td>\n",
       "    </tr>\n",
       "    <tr>\n",
       "      <th>2</th>\n",
       "      <td>133196985</td>\n",
       "      <td>1089558.0</td>\n",
       "      <td>Model Risk Auditor</td>\n",
       "      <td>Join Us as a Model Risk Auditor – Showcase You...</td>\n",
       "      <td>Contract</td>\n",
       "      <td>New York, NY</td>\n",
       "      <td>2023-07-22 04:26:40</td>\n",
       "      <td>17.0</td>\n",
       "      <td>https://www.linkedin.com/jobs/view/133196985/?...</td>\n",
       "      <td>ComplexOnsiteApply</td>\n",
       "      <td>...</td>\n",
       "      <td>0</td>\n",
       "      <td>CONTRACT</td>\n",
       "      <td>1960</td>\n",
       "      <td>New York</td>\n",
       "      <td>NY</td>\n",
       "      <td>115</td>\n",
       "      <td>5</td>\n",
       "      <td>0</td>\n",
       "      <td>0</td>\n",
       "      <td>Low</td>\n",
       "    </tr>\n",
       "    <tr>\n",
       "      <th>3</th>\n",
       "      <td>381055942</td>\n",
       "      <td>96654609.0</td>\n",
       "      <td>Business Manager</td>\n",
       "      <td>Business ManagerFirst Baptist Church ForneyFor...</td>\n",
       "      <td>Full-time</td>\n",
       "      <td>Forney, TX</td>\n",
       "      <td>2023-07-22 04:26:40</td>\n",
       "      <td>25.0</td>\n",
       "      <td>https://www.linkedin.com/jobs/view/381055942/?...</td>\n",
       "      <td>ComplexOnsiteApply</td>\n",
       "      <td>...</td>\n",
       "      <td>0</td>\n",
       "      <td>FULL_TIME</td>\n",
       "      <td>2160</td>\n",
       "      <td>Forney</td>\n",
       "      <td>TX</td>\n",
       "      <td>115</td>\n",
       "      <td>5</td>\n",
       "      <td>1</td>\n",
       "      <td>0</td>\n",
       "      <td>Low</td>\n",
       "    </tr>\n",
       "    <tr>\n",
       "      <th>4</th>\n",
       "      <td>529257371</td>\n",
       "      <td>1244539.0</td>\n",
       "      <td>NY Studio Assistant</td>\n",
       "      <td>YOU COULD BE ONE OF THE MAGIC MAKERS\\nKen Fulk...</td>\n",
       "      <td>Full-time</td>\n",
       "      <td>New York, NY</td>\n",
       "      <td>2023-07-22 04:26:40</td>\n",
       "      <td>2.0</td>\n",
       "      <td>https://www.linkedin.com/jobs/view/529257371/?...</td>\n",
       "      <td>ComplexOnsiteApply</td>\n",
       "      <td>...</td>\n",
       "      <td>1</td>\n",
       "      <td>FULL_TIME</td>\n",
       "      <td>1919</td>\n",
       "      <td>New York</td>\n",
       "      <td>NY</td>\n",
       "      <td>231</td>\n",
       "      <td>5</td>\n",
       "      <td>0</td>\n",
       "      <td>0</td>\n",
       "      <td>Low</td>\n",
       "    </tr>\n",
       "  </tbody>\n",
       "</table>\n",
       "<p>5 rows × 22 columns</p>\n",
       "</div>"
      ],
      "text/plain": [
       "       JobID   CompanyID                  JobTitle  \\\n",
       "0   85008768    277768.5  Licensed Insurance Agent   \n",
       "1  133114754  77766802.0             Sales Manager   \n",
       "2  133196985   1089558.0        Model Risk Auditor   \n",
       "3  381055942  96654609.0          Business Manager   \n",
       "4  529257371   1244539.0       NY Studio Assistant   \n",
       "\n",
       "                                      JobDescription   WorkType  \\\n",
       "0  While many industries were hurt by the last fe...  Full-time   \n",
       "1  Are you a dynamic and creative marketing profe...  Full-time   \n",
       "2  Join Us as a Model Risk Auditor – Showcase You...   Contract   \n",
       "3  Business ManagerFirst Baptist Church ForneyFor...  Full-time   \n",
       "4  YOU COULD BE ONE OF THE MAGIC MAKERS\\nKen Fulk...  Full-time   \n",
       "\n",
       "         JobLocation  OriginalListedTime  ViewCount  \\\n",
       "0          Chico, CA 2023-07-22 04:26:40        5.0   \n",
       "1  Santa Clarita, CA 2023-07-22 04:26:40       25.0   \n",
       "2       New York, NY 2023-07-22 04:26:40       17.0   \n",
       "3         Forney, TX 2023-07-22 04:26:40       25.0   \n",
       "4       New York, NY 2023-07-22 04:26:40        2.0   \n",
       "\n",
       "                                       JobPostingURL     ApplicationType  ...  \\\n",
       "0  https://www.linkedin.com/jobs/view/85008768/?t...  ComplexOnsiteApply  ...   \n",
       "1  https://www.linkedin.com/jobs/view/133114754/?...  ComplexOnsiteApply  ...   \n",
       "2  https://www.linkedin.com/jobs/view/133196985/?...  ComplexOnsiteApply  ...   \n",
       "3  https://www.linkedin.com/jobs/view/381055942/?...  ComplexOnsiteApply  ...   \n",
       "4  https://www.linkedin.com/jobs/view/529257371/?...  ComplexOnsiteApply  ...   \n",
       "\n",
       "  Sponsored   WorkType  JobDescriptionLength           City  State  \\\n",
       "0         1  FULL_TIME                  1825          Chico     CA   \n",
       "1         0  FULL_TIME                  2729  Santa Clarita     CA   \n",
       "2         0   CONTRACT                  1960       New York     NY   \n",
       "3         0  FULL_TIME                  2160         Forney     TX   \n",
       "4         1  FULL_TIME                  1919       New York     NY   \n",
       "\n",
       "  ListingDuration DayOfWeekListed  IsManager  IsEntryLevel  ViewCountBins  \n",
       "0             231               5          0             0            Low  \n",
       "1             115               5          1             0            Low  \n",
       "2             115               5          0             0            Low  \n",
       "3             115               5          1             0            Low  \n",
       "4             231               5          0             0            Low  \n",
       "\n",
       "[5 rows x 22 columns]"
      ]
     },
     "execution_count": 17,
     "metadata": {},
     "output_type": "execute_result"
    }
   ],
   "source": [
    "job_posting.head()"
   ]
  },
  {
   "cell_type": "markdown",
   "id": "679455e3",
   "metadata": {},
   "source": [
    "## Step 2 : Feature transformation - is an important step in feature engineering that involves transforming the data to improve the performance of the machine learning model."
   ]
  },
  {
   "cell_type": "markdown",
   "id": "4dc99ce2",
   "metadata": {},
   "source": [
    "### A. Log Transformation: if numerical features like ‘JobDescriptionLength’ or ‘ViewCount’ are highly skewed, you can apply a log transformation to reduce the skewness and make the distribution more normal. This can help linear models perform better."
   ]
  },
  {
   "cell_type": "markdown",
   "id": "902c9e28",
   "metadata": {},
   "source": [
    "- skewness is a measure of the asymmetry of the probability distribution of a real-valued random variable about its mean. In simpler terms, skewness tells you the amount and direction of skew (departure from horizontal symmetry). The skewness value can be positive or negative, or even undefined:\n",
    "\n",
    "\n",
    "- If skewness is less than -1 or greater than 1, the distribution is highly skewed.\n",
    "- If skewness is between -1 and -0.5 or between 0.5 and 1, the distribution is moderately skewed.\n",
    "- If skewness is between -0.5 and 0.5, the distribution is approximately symmetric.\n",
    "\n",
    "\n",
    "- A log transformation is a powerful tool for dealing with positive skewness. It can help to handle skewed data and after transformation, the distribution becomes more approximate to normal. In other words, it reduces the skewness of the data. The reason why it’s needed is that many machine learning algorithms assume or perform better when the data is normally distributed. Transforming these skewed variables can definitely help to improve the model’s performance."
   ]
  },
  {
   "cell_type": "code",
   "execution_count": 18,
   "id": "32d9e664",
   "metadata": {
    "ExecuteTime": {
     "end_time": "2023-10-02T13:36:10.736476Z",
     "start_time": "2023-10-02T13:36:10.230452Z"
    }
   },
   "outputs": [
    {
     "data": {
      "image/png": "[encoded data removed]",
      "text/plain": [
       "<Figure size 640x480 with 1 Axes>"
      ]
     },
     "metadata": {},
     "output_type": "display_data"
    }
   ],
   "source": [
    "# Check the distribution of 'JobDescriptionLength'\n",
    "plt.hist(job_posting['JobDescriptionLength'], bins=30)\n",
    "plt.show()\n",
    "\n",
    "# If skewed, apply log transformation\n",
    "job_posting['JobDescriptionLength'] = np.log1p(job_posting['JobDescriptionLength'])"
   ]
  },
  {
   "cell_type": "markdown",
   "id": "63e59509",
   "metadata": {},
   "source": [
    "The data is positively skewed, hence after correcting it -"
   ]
  },
  {
   "cell_type": "code",
   "execution_count": 19,
   "id": "25c4dc66",
   "metadata": {
    "ExecuteTime": {
     "end_time": "2023-10-02T13:36:11.180709Z",
     "start_time": "2023-10-02T13:36:10.908679Z"
    }
   },
   "outputs": [
    {
     "data": {
      "image/png": "[encoded data removed]",
      "text/plain": [
       "<Figure size 640x480 with 1 Axes>"
      ]
     },
     "metadata": {},
     "output_type": "display_data"
    }
   ],
   "source": [
    "plt.hist(job_posting['JobDescriptionLength'], bins=30)\n",
    "plt.show()"
   ]
  },
  {
   "cell_type": "code",
   "execution_count": 20,
   "id": "387b6aa9",
   "metadata": {
    "ExecuteTime": {
     "end_time": "2023-10-02T13:36:11.751709Z",
     "start_time": "2023-10-02T13:36:11.381680Z"
    }
   },
   "outputs": [
    {
     "data": {
      "image/png": "[encoded data removed]",
      "text/plain": [
       "<Figure size 640x480 with 1 Axes>"
      ]
     },
     "metadata": {},
     "output_type": "display_data"
    }
   ],
   "source": [
    "# Check the distribution of 'ViewCount'\n",
    "plt.hist(job_posting['ViewCount'], bins=30)\n",
    "plt.show()\n",
    "\n",
    "# If skewed, apply log transformation\n",
    "job_posting['ViewCount'] = np.log1p(job_posting['ViewCount'])"
   ]
  },
  {
   "cell_type": "markdown",
   "id": "4d2811cb",
   "metadata": {},
   "source": [
    "Even viewcount is positively skewed, hence after correcting it -"
   ]
  },
  {
   "cell_type": "code",
   "execution_count": 21,
   "id": "fe7720eb",
   "metadata": {
    "ExecuteTime": {
     "end_time": "2023-10-02T13:36:12.938264Z",
     "start_time": "2023-10-02T13:36:12.601214Z"
    }
   },
   "outputs": [
    {
     "data": {
      "image/png": "[encoded data removed]",
      "text/plain": [
       "<Figure size 640x480 with 1 Axes>"
      ]
     },
     "metadata": {},
     "output_type": "display_data"
    }
   ],
   "source": [
    "plt.hist(job_posting['ViewCount'], bins=30)\n",
    "plt.show()"
   ]
  },
  {
   "cell_type": "markdown",
   "id": "0a390712",
   "metadata": {},
   "source": [
    "### B. One-Hot Encoding - For categorical features like ‘City’, ‘State’, ‘WorkType’, and ‘ViewCountBins’, you can use one-hot encoding to convert them into binary vectors. This can help machine learning algorithms understand the categorical data better."
   ]
  },
  {
   "cell_type": "markdown",
   "id": "0d80bc5e",
   "metadata": {},
   "source": [
    "- One-hot encoding is a process of converting categorical data variables so they can be provided to machine learning algorithms to improve predictions. With one-hot, we convert each categorical value into a new categorical value and assign a binary value of 1 or 0. Each integer value is represented as a binary vector. All the values are zero, and the index is marked with a 1.\n",
    "\n",
    "\n",
    "- The reason why one-hot encoding is required is that machine learning algorithms perform better with numerical input. They cannot work with categorical data directly, and categorical data must be converted to numbers. While label encoding provides a simple way to encode categories into numbers, it has the disadvantage of assigning arbitrary ranks to categories. One-hot encoding solves this problem by creating binary columns for each category.\n",
    "\n",
    "- However, one-hot encoding can significantly increase the dimensionality of the dataset if the categorical variable has many unique values. This can slow down the training process and degrade model performance. Therefore, it’s important to consider these trade-offs when deciding to use one-hot encoding."
   ]
  },
  {
   "cell_type": "code",
   "execution_count": 22,
   "id": "db8592fb",
   "metadata": {
    "ExecuteTime": {
     "end_time": "2023-10-02T13:36:16.681079Z",
     "start_time": "2023-10-02T13:36:16.525075Z"
    }
   },
   "outputs": [
    {
     "name": "stdout",
     "output_type": "stream",
     "text": [
      "city_encoded [[0. 0. 0. ... 0. 0. 0.]\n",
      " [0. 0. 0. ... 0. 0. 0.]\n",
      " [0. 0. 0. ... 0. 0. 0.]\n",
      " ...\n",
      " [0. 0. 0. ... 0. 0. 0.]\n",
      " [0. 0. 0. ... 0. 0. 0.]\n",
      " [0. 0. 0. ... 0. 0. 0.]]\n",
      "state_encoded [[0. 0. 0. ... 0. 0. 0.]\n",
      " [0. 0. 0. ... 0. 0. 0.]\n",
      " [0. 0. 0. ... 0. 0. 0.]\n",
      " ...\n",
      " [0. 0. 0. ... 0. 0. 0.]\n",
      " [0. 0. 0. ... 0. 0. 0.]\n",
      " [0. 0. 0. ... 0. 0. 0.]]\n",
      "worktype_encoded [[0. 1. 0. ... 0. 0. 0.]\n",
      " [0. 1. 0. ... 0. 0. 0.]\n",
      " [1. 0. 0. ... 0. 0. 0.]\n",
      " ...\n",
      " [0. 0. 0. ... 1. 0. 0.]\n",
      " [0. 1. 0. ... 0. 0. 0.]\n",
      " [0. 1. 0. ... 0. 0. 0.]]\n"
     ]
    }
   ],
   "source": [
    "from sklearn.preprocessing import OneHotEncoder\n",
    "\n",
    "# Check unique values for categorical columns\n",
    "job_posting['City'].nunique()\n",
    "job_posting['State'].nunique()\n",
    "job_posting['WorkType'].nunique()\n",
    "\n",
    "# If reasonable, apply one-hot encoding\n",
    "encoder = OneHotEncoder(sparse=False)\n",
    "city_encoded = encoder.fit_transform(job_posting[['City']])\n",
    "state_encoded = encoder.fit_transform(job_posting[['State']])\n",
    "worktype_encoded = encoder.fit_transform(job_posting[['WorkType']])\n",
    "print('city_encoded',city_encoded)\n",
    "print('state_encoded',state_encoded)\n",
    "print('worktype_encoded',worktype_encoded)"
   ]
  },
  {
   "cell_type": "markdown",
   "id": "851e4314",
   "metadata": {},
   "source": [
    "### C. Scaling: For numerical features, you can apply scaling to standardize their range. This is especially important for distance-based algorithms like K-nearest neighbors (KNN) or Support Vector Machines (SVM)."
   ]
  },
  {
   "cell_type": "markdown",
   "id": "d93cfb80",
   "metadata": {},
   "source": [
    "Scaling in feature engineering is a step where you transform numerical features to have a certain range or distribution. This is important for several reasons:\n",
    "\n",
    "- Unit Consistency: Features might be measured in different units, such as kilometers, kilograms, or hours. These differences in scale can cause problems when comparing measurements or when feeding these features into a machine learning model.\n",
    "\n",
    "\n",
    "- Algorithm Performance: Many machine learning algorithms perform better when features are on a similar scale. For example, in distance-based algorithms like K-Nearest Neighbors (KNN) or Support Vector Machines (SVM), features with a larger scale can dominate the distance metric, causing the algorithm to pay more attention to these features.\n",
    "\n",
    "\n",
    "- Numerical Stability: Some algorithms, especially optimization algorithms, can have numerical stability issues when features are not on a similar scale.\n",
    "\n",
    "\n",
    "- Interpretability: When features are on a similar scale, it’s easier to compare the importance of different features in a model.\n",
    "\n",
    "\n",
    "- There are several methods for scaling features, including Min-Max Scaling, Standard Scaling (or Z-score normalization), and Robust Scaling. The choice of scaling method depends on the data and the specific requirements of the machine learning algorithm"
   ]
  },
  {
   "cell_type": "code",
   "execution_count": 23,
   "id": "943ce2bf",
   "metadata": {
    "ExecuteTime": {
     "end_time": "2023-10-02T13:36:33.656387Z",
     "start_time": "2023-10-02T13:36:33.626388Z"
    }
   },
   "outputs": [
    {
     "name": "stdout",
     "output_type": "stream",
     "text": [
      "9.92098360015288\n"
     ]
    }
   ],
   "source": [
    "from sklearn.preprocessing import StandardScaler\n",
    "\n",
    "# Check the range of 'JobDescriptionLength'\n",
    "print(job_posting['JobDescriptionLength'].max() - job_posting['JobDescriptionLength'].min())\n",
    "\n",
    "# If varies widely, apply scaling\n",
    "scaler = StandardScaler()\n",
    "job_posting['JobDescriptionLength_scaled'] = scaler.fit_transform(job_posting[['JobDescriptionLength']])"
   ]
  },
  {
   "cell_type": "markdown",
   "id": "3f41cf37",
   "metadata": {},
   "source": [
    "- The value 9.9 is the range of the ‘JobDescriptionLength’ feature, which is calculated as the difference between the maximum and minimum values. Whether this is considered “large” depends on the context and the specific machine learning algorithm we are using.\n",
    "\n",
    "\n",
    "- In many machine learning algorithms, especially those that use a distance measure like K-Nearest Neighbors (KNN) or Support Vector Machines (SVM), features with larger ranges can dominate the model. This means the model might pay more attention to features with larger ranges and less attention to features with smaller ranges, which could lead to suboptimal performance.\n",
    "\n",
    "\n",
    "- By scaling the ‘JobDescriptionLength’ feature, we are ensuring that its range is similar to other features in your dataset. This can help prevent the ‘JobDescriptionLength’ feature from dominating the model simply because of its larger range.\n",
    "\n",
    "\n",
    "- So, the ‘JobDescriptionLength’ feature was scaled to have a mean of 0 and a standard deviation of 1. This is known as standard scaling or Z-score normalization. After scaling, the range of ‘JobDescriptionLength’ is not 9.9 anymore, but is likely closer to the ranges of other features"
   ]
  },
  {
   "cell_type": "markdown",
   "id": "85bfafd1",
   "metadata": {},
   "source": [
    "Before and after job description being scaled"
   ]
  },
  {
   "cell_type": "code",
   "execution_count": 29,
   "id": "1b32dc1d",
   "metadata": {
    "ExecuteTime": {
     "end_time": "2023-10-02T13:38:05.248253Z",
     "start_time": "2023-10-02T13:38:05.219254Z"
    }
   },
   "outputs": [
    {
     "data": {
      "text/html": [
       "<div>\n",
       "<style scoped>\n",
       "    .dataframe tbody tr th:only-of-type {\n",
       "        vertical-align: middle;\n",
       "    }\n",
       "\n",
       "    .dataframe tbody tr th {\n",
       "        vertical-align: top;\n",
       "    }\n",
       "\n",
       "    .dataframe thead th {\n",
       "        text-align: right;\n",
       "    }\n",
       "</style>\n",
       "<table border=\"1\" class=\"dataframe\">\n",
       "  <thead>\n",
       "    <tr style=\"text-align: right;\">\n",
       "      <th></th>\n",
       "      <th>JobDescriptionLength</th>\n",
       "      <th>JobDescriptionLength_scaled</th>\n",
       "    </tr>\n",
       "  </thead>\n",
       "  <tbody>\n",
       "    <tr>\n",
       "      <th>0</th>\n",
       "      <td>7.509883</td>\n",
       "      <td>-0.660721</td>\n",
       "    </tr>\n",
       "    <tr>\n",
       "      <th>1</th>\n",
       "      <td>7.912057</td>\n",
       "      <td>-0.118308</td>\n",
       "    </tr>\n",
       "    <tr>\n",
       "      <th>2</th>\n",
       "      <td>7.581210</td>\n",
       "      <td>-0.564522</td>\n",
       "    </tr>\n",
       "    <tr>\n",
       "      <th>3</th>\n",
       "      <td>7.678326</td>\n",
       "      <td>-0.433541</td>\n",
       "    </tr>\n",
       "    <tr>\n",
       "      <th>4</th>\n",
       "      <td>7.560080</td>\n",
       "      <td>-0.593019</td>\n",
       "    </tr>\n",
       "    <tr>\n",
       "      <th>...</th>\n",
       "      <td>...</td>\n",
       "      <td>...</td>\n",
       "    </tr>\n",
       "    <tr>\n",
       "      <th>15881</th>\n",
       "      <td>8.011687</td>\n",
       "      <td>0.016063</td>\n",
       "    </tr>\n",
       "    <tr>\n",
       "      <th>15882</th>\n",
       "      <td>7.220374</td>\n",
       "      <td>-1.051183</td>\n",
       "    </tr>\n",
       "    <tr>\n",
       "      <th>15883</th>\n",
       "      <td>7.832808</td>\n",
       "      <td>-0.225192</td>\n",
       "    </tr>\n",
       "    <tr>\n",
       "      <th>15884</th>\n",
       "      <td>8.431635</td>\n",
       "      <td>0.582449</td>\n",
       "    </tr>\n",
       "    <tr>\n",
       "      <th>15885</th>\n",
       "      <td>7.704361</td>\n",
       "      <td>-0.398428</td>\n",
       "    </tr>\n",
       "  </tbody>\n",
       "</table>\n",
       "<p>15886 rows × 2 columns</p>\n",
       "</div>"
      ],
      "text/plain": [
       "       JobDescriptionLength  JobDescriptionLength_scaled\n",
       "0                  7.509883                    -0.660721\n",
       "1                  7.912057                    -0.118308\n",
       "2                  7.581210                    -0.564522\n",
       "3                  7.678326                    -0.433541\n",
       "4                  7.560080                    -0.593019\n",
       "...                     ...                          ...\n",
       "15881              8.011687                     0.016063\n",
       "15882              7.220374                    -1.051183\n",
       "15883              7.832808                    -0.225192\n",
       "15884              8.431635                     0.582449\n",
       "15885              7.704361                    -0.398428\n",
       "\n",
       "[15886 rows x 2 columns]"
      ]
     },
     "execution_count": 29,
     "metadata": {},
     "output_type": "execute_result"
    }
   ],
   "source": [
    "job_posting[['JobDescriptionLength','JobDescriptionLength_scaled']]"
   ]
  },
  {
   "cell_type": "markdown",
   "id": "178eab8c",
   "metadata": {},
   "source": [
    "## Step 3 : Feature Extraction - is a process of dimensionality reduction by which an initial set of raw data is reduced to more manageable groups for processing. It transforms the data in the high-dimensional space to a space of fewer dimensions. The data transformation may be linear, as in principal component analysis (PCA), but many nonlinear dimensionality reduction techniques also exist."
   ]
  },
  {
   "cell_type": "markdown",
   "id": "57837db3",
   "metadata": {},
   "source": [
    "- Principal Component Analysis (PCA) is a dimensionality reduction technique that is commonly used in machine learning and data visualization. It uses an orthogonal transformation to convert a set of observations of possibly correlated variables into a set of values of linearly uncorrelated variables called principal components.\n",
    "\n",
    "\n",
    "- The first principal component accounts for as much of the variability in the data as possible, and each succeeding component accounts for as much of the remaining variability as possible."
   ]
  },
  {
   "cell_type": "code",
   "execution_count": 32,
   "id": "d560fbcd",
   "metadata": {
    "ExecuteTime": {
     "end_time": "2023-10-02T13:44:51.406707Z",
     "start_time": "2023-10-02T13:44:46.716713Z"
    }
   },
   "outputs": [
    {
     "data": {
      "image/png": "[encoded data removed]",
      "text/plain": [
       "<Figure size 640x480 with 2 Axes>"
      ]
     },
     "metadata": {},
     "output_type": "display_data"
    }
   ],
   "source": [
    "from sklearn.decomposition import PCA\n",
    "from sklearn.preprocessing import StandardScaler\n",
    "\n",
    "# Assuming job_posting is your DataFrame and it's already defined\n",
    "numeric_columns = job_posting.select_dtypes(include=['int64', 'float64'])\n",
    "\n",
    "# Calculate the correlation matrix\n",
    "corr_matrix = numeric_columns.corr()\n",
    "\n",
    "# Plot the correlation matrix\n",
    "sns.heatmap(corr_matrix)\n",
    "plt.show()\n",
    "\n",
    "# Standardize the numeric features to have mean=0 and variance=1\n",
    "scaler = StandardScaler()\n",
    "features_scaled = scaler.fit_transform(numeric_columns)\n",
    "\n",
    "# Apply PCA\n",
    "pca = PCA()\n",
    "features_pca = pca.fit_transform(features_scaled)\n"
   ]
  },
  {
   "cell_type": "code",
   "execution_count": 39,
   "id": "e5bd1c1c",
   "metadata": {
    "ExecuteTime": {
     "end_time": "2023-10-02T21:05:48.311013Z",
     "start_time": "2023-10-02T21:05:47.959013Z"
    }
   },
   "outputs": [
    {
     "data": {
      "text/html": [
       "<div>\n",
       "<style scoped>\n",
       "    .dataframe tbody tr th:only-of-type {\n",
       "        vertical-align: middle;\n",
       "    }\n",
       "\n",
       "    .dataframe tbody tr th {\n",
       "        vertical-align: top;\n",
       "    }\n",
       "\n",
       "    .dataframe thead th {\n",
       "        text-align: right;\n",
       "    }\n",
       "</style>\n",
       "<table border=\"1\" class=\"dataframe\">\n",
       "  <thead>\n",
       "    <tr style=\"text-align: right;\">\n",
       "      <th></th>\n",
       "      <th>JobID</th>\n",
       "      <th>CompanyID</th>\n",
       "      <th>ViewCount</th>\n",
       "      <th>Sponsored</th>\n",
       "      <th>JobDescriptionLength</th>\n",
       "      <th>ListingDuration</th>\n",
       "      <th>DayOfWeekListed</th>\n",
       "      <th>IsManager</th>\n",
       "      <th>IsEntryLevel</th>\n",
       "      <th>JobDescriptionLength_scaled</th>\n",
       "    </tr>\n",
       "  </thead>\n",
       "  <tbody>\n",
       "    <tr>\n",
       "      <th>JobID</th>\n",
       "      <td>1.000000</td>\n",
       "      <td>-0.018879</td>\n",
       "      <td>-0.001181</td>\n",
       "      <td>0.010674</td>\n",
       "      <td>0.031469</td>\n",
       "      <td>-0.048040</td>\n",
       "      <td>NaN</td>\n",
       "      <td>-0.018899</td>\n",
       "      <td>0.003507</td>\n",
       "      <td>0.031469</td>\n",
       "    </tr>\n",
       "    <tr>\n",
       "      <th>CompanyID</th>\n",
       "      <td>-0.018879</td>\n",
       "      <td>1.000000</td>\n",
       "      <td>0.101587</td>\n",
       "      <td>-0.021157</td>\n",
       "      <td>-0.120307</td>\n",
       "      <td>0.174456</td>\n",
       "      <td>NaN</td>\n",
       "      <td>-0.017176</td>\n",
       "      <td>0.001526</td>\n",
       "      <td>-0.120307</td>\n",
       "    </tr>\n",
       "    <tr>\n",
       "      <th>ViewCount</th>\n",
       "      <td>-0.001181</td>\n",
       "      <td>0.101587</td>\n",
       "      <td>1.000000</td>\n",
       "      <td>0.066130</td>\n",
       "      <td>-0.039749</td>\n",
       "      <td>0.158185</td>\n",
       "      <td>NaN</td>\n",
       "      <td>0.073892</td>\n",
       "      <td>-0.010259</td>\n",
       "      <td>-0.039749</td>\n",
       "    </tr>\n",
       "    <tr>\n",
       "      <th>Sponsored</th>\n",
       "      <td>0.010674</td>\n",
       "      <td>-0.021157</td>\n",
       "      <td>0.066130</td>\n",
       "      <td>1.000000</td>\n",
       "      <td>0.045094</td>\n",
       "      <td>0.186858</td>\n",
       "      <td>NaN</td>\n",
       "      <td>0.023806</td>\n",
       "      <td>-0.004342</td>\n",
       "      <td>0.045094</td>\n",
       "    </tr>\n",
       "    <tr>\n",
       "      <th>JobDescriptionLength</th>\n",
       "      <td>0.031469</td>\n",
       "      <td>-0.120307</td>\n",
       "      <td>-0.039749</td>\n",
       "      <td>0.045094</td>\n",
       "      <td>1.000000</td>\n",
       "      <td>-0.089402</td>\n",
       "      <td>NaN</td>\n",
       "      <td>0.093145</td>\n",
       "      <td>-0.010173</td>\n",
       "      <td>1.000000</td>\n",
       "    </tr>\n",
       "    <tr>\n",
       "      <th>ListingDuration</th>\n",
       "      <td>-0.048040</td>\n",
       "      <td>0.174456</td>\n",
       "      <td>0.158185</td>\n",
       "      <td>0.186858</td>\n",
       "      <td>-0.089402</td>\n",
       "      <td>1.000000</td>\n",
       "      <td>NaN</td>\n",
       "      <td>0.018455</td>\n",
       "      <td>-0.002007</td>\n",
       "      <td>-0.089402</td>\n",
       "    </tr>\n",
       "    <tr>\n",
       "      <th>DayOfWeekListed</th>\n",
       "      <td>NaN</td>\n",
       "      <td>NaN</td>\n",
       "      <td>NaN</td>\n",
       "      <td>NaN</td>\n",
       "      <td>NaN</td>\n",
       "      <td>NaN</td>\n",
       "      <td>NaN</td>\n",
       "      <td>NaN</td>\n",
       "      <td>NaN</td>\n",
       "      <td>NaN</td>\n",
       "    </tr>\n",
       "    <tr>\n",
       "      <th>IsManager</th>\n",
       "      <td>-0.018899</td>\n",
       "      <td>-0.017176</td>\n",
       "      <td>0.073892</td>\n",
       "      <td>0.023806</td>\n",
       "      <td>0.093145</td>\n",
       "      <td>0.018455</td>\n",
       "      <td>NaN</td>\n",
       "      <td>1.000000</td>\n",
       "      <td>-0.012302</td>\n",
       "      <td>0.093145</td>\n",
       "    </tr>\n",
       "    <tr>\n",
       "      <th>IsEntryLevel</th>\n",
       "      <td>0.003507</td>\n",
       "      <td>0.001526</td>\n",
       "      <td>-0.010259</td>\n",
       "      <td>-0.004342</td>\n",
       "      <td>-0.010173</td>\n",
       "      <td>-0.002007</td>\n",
       "      <td>NaN</td>\n",
       "      <td>-0.012302</td>\n",
       "      <td>1.000000</td>\n",
       "      <td>-0.010173</td>\n",
       "    </tr>\n",
       "    <tr>\n",
       "      <th>JobDescriptionLength_scaled</th>\n",
       "      <td>0.031469</td>\n",
       "      <td>-0.120307</td>\n",
       "      <td>-0.039749</td>\n",
       "      <td>0.045094</td>\n",
       "      <td>1.000000</td>\n",
       "      <td>-0.089402</td>\n",
       "      <td>NaN</td>\n",
       "      <td>0.093145</td>\n",
       "      <td>-0.010173</td>\n",
       "      <td>1.000000</td>\n",
       "    </tr>\n",
       "  </tbody>\n",
       "</table>\n",
       "</div>"
      ],
      "text/plain": [
       "                                JobID  CompanyID  ViewCount  Sponsored  \\\n",
       "JobID                        1.000000  -0.018879  -0.001181   0.010674   \n",
       "CompanyID                   -0.018879   1.000000   0.101587  -0.021157   \n",
       "ViewCount                   -0.001181   0.101587   1.000000   0.066130   \n",
       "Sponsored                    0.010674  -0.021157   0.066130   1.000000   \n",
       "JobDescriptionLength         0.031469  -0.120307  -0.039749   0.045094   \n",
       "ListingDuration             -0.048040   0.174456   0.158185   0.186858   \n",
       "DayOfWeekListed                   NaN        NaN        NaN        NaN   \n",
       "IsManager                   -0.018899  -0.017176   0.073892   0.023806   \n",
       "IsEntryLevel                 0.003507   0.001526  -0.010259  -0.004342   \n",
       "JobDescriptionLength_scaled  0.031469  -0.120307  -0.039749   0.045094   \n",
       "\n",
       "                             JobDescriptionLength  ListingDuration  \\\n",
       "JobID                                    0.031469        -0.048040   \n",
       "CompanyID                               -0.120307         0.174456   \n",
       "ViewCount                               -0.039749         0.158185   \n",
       "Sponsored                                0.045094         0.186858   \n",
       "JobDescriptionLength                     1.000000        -0.089402   \n",
       "ListingDuration                         -0.089402         1.000000   \n",
       "DayOfWeekListed                               NaN              NaN   \n",
       "IsManager                                0.093145         0.018455   \n",
       "IsEntryLevel                            -0.010173        -0.002007   \n",
       "JobDescriptionLength_scaled              1.000000        -0.089402   \n",
       "\n",
       "                             DayOfWeekListed  IsManager  IsEntryLevel  \\\n",
       "JobID                                    NaN  -0.018899      0.003507   \n",
       "CompanyID                                NaN  -0.017176      0.001526   \n",
       "ViewCount                                NaN   0.073892     -0.010259   \n",
       "Sponsored                                NaN   0.023806     -0.004342   \n",
       "JobDescriptionLength                     NaN   0.093145     -0.010173   \n",
       "ListingDuration                          NaN   0.018455     -0.002007   \n",
       "DayOfWeekListed                          NaN        NaN           NaN   \n",
       "IsManager                                NaN   1.000000     -0.012302   \n",
       "IsEntryLevel                             NaN  -0.012302      1.000000   \n",
       "JobDescriptionLength_scaled              NaN   0.093145     -0.010173   \n",
       "\n",
       "                             JobDescriptionLength_scaled  \n",
       "JobID                                           0.031469  \n",
       "CompanyID                                      -0.120307  \n",
       "ViewCount                                      -0.039749  \n",
       "Sponsored                                       0.045094  \n",
       "JobDescriptionLength                            1.000000  \n",
       "ListingDuration                                -0.089402  \n",
       "DayOfWeekListed                                      NaN  \n",
       "IsManager                                       0.093145  \n",
       "IsEntryLevel                                   -0.010173  \n",
       "JobDescriptionLength_scaled                     1.000000  "
      ]
     },
     "execution_count": 39,
     "metadata": {},
     "output_type": "execute_result"
    }
   ],
   "source": [
    "corr_matrix"
   ]
  },
  {
   "cell_type": "markdown",
   "id": "1ebc6653",
   "metadata": {},
   "source": [
    "### Observation -\n",
    "- the dataset is not highly correlated as almost all of the features have correlation in the range (0.0 - 0.2)\n",
    "\n",
    "\n",
    "- Day of the week column shows 1 correlation as it's NaN and lets ignore it\n",
    "\n",
    "\n",
    "- CompanyID and ViewCount are positively correlated (0.101587), which could mean that job postings from certain companies tend to get more views.\n",
    "\n",
    "\n",
    "- CompanyID and JobDescriptionLength are negatively correlated (-0.120307), which could mean that job postings from certain companies tend to have shorter descriptions.\n",
    "\n",
    "\n",
    "- ViewCount and Sponsored are positively correlated (0.066130), which could mean that sponsored job postings tend to get more views.\n",
    "\n",
    "\n",
    "- JobDescriptionLength and Sponsored are positively correlated (0.045094), which could mean that sponsored job postings tend to have longer descriptions.\n",
    "JobDescriptionLength and IsManager are positively correlated (0.093145), which could mean that job postings for managerial positions tend to have longer descriptions."
   ]
  },
  {
   "cell_type": "code",
   "execution_count": 33,
   "id": "041e3b52",
   "metadata": {
    "ExecuteTime": {
     "end_time": "2023-10-02T13:46:12.068246Z",
     "start_time": "2023-10-02T13:46:12.039231Z"
    }
   },
   "outputs": [
    {
     "data": {
      "text/plain": [
       "array([[ 2.91735134e+00,  4.75990824e+00,  1.86835657e+01, ...,\n",
       "         1.94523818e+00, -7.84666899e-15, -2.14860733e-16],\n",
       "       [ 2.09017194e+00,  3.87555277e+00,  2.20474060e+01, ...,\n",
       "         5.02138651e+00, -4.75076320e-16, -4.70082148e-17],\n",
       "       [ 2.35529606e+00,  1.91937031e+00,  2.01152651e+01, ...,\n",
       "         3.57079549e+00, -1.08195764e-15, -6.43075551e-17],\n",
       "       ...,\n",
       "       [ 1.38056160e-01, -1.40370433e+00, -1.75941550e-01, ...,\n",
       "        -4.90063723e-01, -4.80878120e-18,  3.57220380e-19],\n",
       "       [-1.20501565e+00, -2.71017962e-01,  1.26693969e+00, ...,\n",
       "        -4.22095056e-01, -2.20679085e-17, -1.34374485e-19],\n",
       "       [ 4.91253505e-01, -7.22372804e-01,  4.70420278e-02, ...,\n",
       "        -2.87417091e-01,  4.69889398e-17,  1.44931227e-19]])"
      ]
     },
     "execution_count": 33,
     "metadata": {},
     "output_type": "execute_result"
    }
   ],
   "source": [
    "features_pca"
   ]
  },
  {
   "cell_type": "markdown",
   "id": "28d325ac",
   "metadata": {},
   "source": [
    "This array is the transformed dataset, where each row corresponds to a sample in the dataset, and each column corresponds to a Principal Component. The value in each cell is the coordinate of the sample on the corresponding Principal Component.\n",
    "\n",
    "The Principal Components are ordered by the amount of original variance they capture (with the first PC capturing the most variance, the second PC capturing the second most, and so on). This transformation is useful for dimensionality reduction, noise reduction, and for visualization of high-dimensional data."
   ]
  },
  {
   "cell_type": "markdown",
   "id": "094a9562",
   "metadata": {},
   "source": [
    "## Step 4 : Feature Selection - is a critical step in machine learning which involves selecting the most useful features from your dataset. This can help to improve model performance, reduce overfitting, and decrease training time."
   ]
  },
  {
   "cell_type": "markdown",
   "id": "1dc08466",
   "metadata": {},
   "source": [
    "### Here are a few methods to consider:\n",
    "\n",
    "- Univariate Selection: Statistical tests can be used to select those features that have the strongest relationship with the output variable. The scikit-learn library provides the SelectKBest class that can be used with a suite of different statistical tests to select a specific number of features.\n",
    "\n",
    "- Recursive Feature Elimination: The Recursive Feature Elimination (or RFE) works by recursively removing attributes and building a model on those attributes that remain. It uses the model accuracy to identify which attributes (and combination of attributes) contribute the most to predicting the target attribute.\n",
    "\n",
    "- Feature Importance: You can use ensembles of decision trees like Random Forest and Extra Trees to estimate the importance of features."
   ]
  },
  {
   "cell_type": "markdown",
   "id": "e422571e",
   "metadata": {},
   "source": [
    "Lets use the SelectKBest method from sklearn.feature_selection for feature selection. This method selects features according to the k highest scores of a given scoring function. Here we’ll use the f_regression scoring function suitable for regression tasks."
   ]
  },
  {
   "cell_type": "markdown",
   "id": "2b0487bd",
   "metadata": {},
   "source": [
    "Predicting the number of views: If we're trying to predict how many views a job posting will get, then ‘views’ could be the target variable. In this case, should include features like ‘JobTitle’, ‘JobDescription’, ‘WorkType’, ‘JobLocation’, ‘OriginalListedTime’, ‘ApplicationType’, ‘WorkType’, ‘JobDescriptionLength’, ‘City’, ‘State’, ‘ListingDuration’, ‘DayOfWeekListed’, ‘IsManager’, ‘IsEntryLevel’, ‘ViewCountBins’, ‘JobDescriptionLength_scaled’ etc."
   ]
  },
  {
   "cell_type": "code",
   "execution_count": 37,
   "id": "01a3fcd3",
   "metadata": {
    "ExecuteTime": {
     "end_time": "2023-10-02T14:11:40.263214Z",
     "start_time": "2023-10-02T14:04:44.135187Z"
    }
   },
   "outputs": [
    {
     "name": "stdout",
     "output_type": "stream",
     "text": [
      "['ViewCountBins_High', 'ApplicationType_OffsiteApply', 'City_United States', 'ViewCountBins_Medium', 'JobLocation_United States', 'ApplicationType_ComplexOnsiteApply', 'ViewCountBins_Low', 'WorkType_Contract', 'WorkType_CONTRACT', 'ListingDuration']\n"
     ]
    },
    {
     "name": "stderr",
     "output_type": "stream",
     "text": [
      "C:\\Users\\Dell\\AppData\\Local\\Temp\\ipykernel_19092\\3823119772.py:20: RuntimeWarning: divide by zero encountered in log10\n",
      "  scores = -np.log10(selector.pvalues_)\n"
     ]
    }
   ],
   "source": [
    "from sklearn.feature_selection import SelectKBest, f_regression\n",
    "\n",
    "# Convert datetime to ordinal\n",
    "job_posting['OriginalListedTime'] = job_posting['OriginalListedTime'].apply(lambda x: x.toordinal())\n",
    "job_posting['ExpiryDate'] = job_posting['ExpiryDate'].apply(lambda x: x.toordinal())\n",
    "job_posting['ListedTime'] = job_posting['ListedTime'].apply(lambda x: x.toordinal())\n",
    "\n",
    "# Assuming that X is your feature set and y is the target\n",
    "X = job_posting.drop('ViewCount', axis=1)  # drop the target variable\n",
    "y = job_posting['ViewCount']  # target variable\n",
    "\n",
    "# Convert categorical variables to dummy variables\n",
    "X = pd.get_dummies(X)\n",
    "\n",
    "# Feature extraction\n",
    "selector = SelectKBest(score_func=f_regression, k=10)  # select 10 best features\n",
    "fit = selector.fit(X, y)\n",
    "\n",
    "# Get the raw p-values for each feature, and transform from p-values into scores\n",
    "scores = -np.log10(selector.pvalues_)\n",
    "\n",
    "# Get the indices sorted by most important to least important\n",
    "indices = np.argsort(scores)[::-1]\n",
    "\n",
    "# To get your top 10 feature names\n",
    "features = []\n",
    "for i in range(10):\n",
    "    features.append(X.columns[indices[i]])\n",
    "\n",
    "# Print the feature names\n",
    "print(features)\n"
   ]
  },
  {
   "cell_type": "markdown",
   "id": "206e6e15",
   "metadata": {},
   "source": [
    "### Observation -\n",
    "\n",
    "The SelectKBest method has selected the 10 features that are most predictive of the ‘ViewCount’ target variable, according to the f_regression scoring function. Here’s a brief explanation of each feature:\n",
    "\n",
    "\n",
    "- ‘ViewCountBins_High’: This is a binary variable indicating whether the job posting is in the ‘High’ view count bin. It seems that jobs in the ‘High’ view count bin are more likely to have a high number of views.\n",
    "\n",
    "\n",
    "- ‘ApplicationType_OffsiteApply’: This is a binary variable indicating whether the application type for the job is ‘OffsiteApply’. It seems that jobs with an offsite application process are more likely to have a high number of views.\n",
    "\n",
    "\n",
    "- ‘City_United States’: This is a binary variable indicating whether the job is located in the United States. It seems that jobs located in the United States are more likely to have a high number of views.\n",
    "\n",
    "\n",
    "- ‘ViewCountBins_Medium’: This is a binary variable indicating whether the job posting is in the ‘Medium’ view count bin. It seems that jobs in the ‘Medium’ view count bin are more likely to have a high number of views.\n",
    "\n",
    "\n",
    "- ‘JobLocation_United States’: This is a binary variable indicating whether the job location is in the United States. It seems that jobs located in the United States are more likely to have a high number of views.\n",
    "\n",
    "\n",
    "- ‘ApplicationType_ComplexOnsiteApply’: This is a binary variable indicating whether the application type for the job is ‘ComplexOnsiteApply’. It seems that jobs with a complex onsite application process are more likely to have a high number of views.\n",
    "\n",
    "\n",
    "- ‘ViewCountBins_Low’: This is a binary variable indicating whether the job posting is in the ‘Low’ view count bin. It seems that jobs in the ‘Low’ view count bin are more likely to have a high number of views.\n",
    "\n",
    "\n",
    "- ‘WorkType_Contract’ and ‘WorkType_CONTRACT’: These are binary variables indicating whether the work type for the job is ‘Contract’. It seems that contract jobs are more likely to have a high number of views.\n",
    "\n",
    "\n",
    "- ‘ListingDuration’: This is a numerical variable representing the duration of the job listing. It seems that jobs with a longer listing duration are more likely to have a high number of views.\n",
    "\n",
    "### These features can now be used to train a machine learning model to predict the number of views a job posting will receive. "
   ]
  },
  {
   "cell_type": "markdown",
   "id": "a48c244d",
   "metadata": {},
   "source": [
    "## Feature Engineering Conclusion"
   ]
  },
  {
   "cell_type": "markdown",
   "id": "b233d365",
   "metadata": {},
   "source": [
    "Over the course of this analysis, successful feature engineering has been performed on the dataset. Here’s a brief summary of the steps undertaken:\n",
    "\n",
    "\n",
    "- Feature Creation: The process began with the creation of new features from the existing data. This step was crucial as it helped uncover hidden patterns in the data that were not apparent with the original features.\n",
    "\n",
    "\n",
    "- Feature Transformation: The features were transformed to make them suitable for machine learning models. This included scaling numerical features and encoding categorical features. This step ensured that all features were on a comparable scale and that categorical features were in a format that machine learning models could understand.\n",
    "\n",
    "\n",
    "- Feature Extraction: Principal Component Analysis (PCA) was applied to reduce the dimensionality of the dataset and extract the most informative features. This step helped to remove noise and redundancy from the data, making the models more efficient and potentially improving their performance.\n",
    "\n",
    "\n",
    "- Feature Selection: Lastly, statistical tests were used to select the most relevant features for predicting the target variable. This step helped to further reduce the complexity of the models, making them faster to train and less prone to overfitting.\n",
    "\n",
    "\n",
    "Through these steps, the raw data was transformed into a refined set of features that are ready to be used in a machine learning model. This is a significant achievement, as the quality and relevance of the features can have a huge impact on the performance of the models."
   ]
  },
  {
   "cell_type": "markdown",
   "id": "940dd1a2",
   "metadata": {},
   "source": [
    "# References"
   ]
  },
  {
   "cell_type": "markdown",
   "id": "4834e987",
   "metadata": {},
   "source": [
    "https://www.kaggle.com/\n",
    "\n",
    "https://medium.com/\n",
    "\n",
    "https://scikit-learn.org/\n",
    "\n",
    "https://github.com/\n",
    "\n",
    "https://dagshub.com/\n",
    "\n",
    "https://machinehack.com/\n",
    "\n",
    "https://www.kdnuggets.com/\n",
    "\n",
    "https://towardsdatascience.com/\n",
    "\n",
    "https://www.datacamp.com/\n",
    "\n",
    "https://www.pluralsight.com/\n",
    "\n",
    "https://chat.openai.com/"
   ]
  },
  {
   "cell_type": "code",
   "execution_count": null,
   "id": "41e62a8d",
   "metadata": {},
   "outputs": [],
   "source": []
  }
 ],
 "metadata": {
  "kernelspec": {
   "display_name": "venv",
   "language": "python",
   "name": "venv"
  },
  "language_info": {
   "codemirror_mode": {
    "name": "ipython",
    "version": 3
   },
   "file_extension": ".py",
   "mimetype": "text/x-python",
   "name": "python",
   "nbconvert_exporter": "python",
   "pygments_lexer": "ipython3",
   "version": "3.10.5"
  }
 },
 "nbformat": 4,
 "nbformat_minor": 5
}
