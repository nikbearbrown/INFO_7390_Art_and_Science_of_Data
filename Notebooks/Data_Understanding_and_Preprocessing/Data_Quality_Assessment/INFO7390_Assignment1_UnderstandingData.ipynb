{
 "cells": [
  {
   "cell_type": "markdown",
   "id": "0f1e1a78",
   "metadata": {},
   "source": [
    "# Time to work on Time Series Data\n"
   ]
  },
  {
   "cell_type": "markdown",
   "id": "092547f1",
   "metadata": {},
   "source": [
    "## Abstract\n",
    "\n",
    "This notebook has been created to explore time series forecasting on NVIDIA Stock price Dataset extracted using Yahoo Finance API. We shall demonstrate various preprocessing methods like resampling, smoothing, detrending and deserialization, etc. Through these methods, we can understand the fluctuations in the data and also split the data based on time periods.\n",
    "\n",
    "Part 1 of this notebook revolves around information about time series forecasting, working on preprocessing the data and performing EDA on the dataset. <br>\n",
    "Part 2 will focus on implementing various time series forecasting models like ARIMA, SARIMAX, Prophet, etc\n"
   ]
  },
  {
   "cell_type": "markdown",
   "id": "62d84bff",
   "metadata": {},
   "source": [
    "## Theoretical Concepts"
   ]
  },
  {
   "cell_type": "markdown",
   "id": "d432a24a",
   "metadata": {},
   "source": [
    "<b>What is time series data and forecasting? </b> <br>\n",
    "Time-series data is a sequence of data points indexed in time order, typically collected at successive, equally-spaced points in time. \n",
    "Time series forecasting is the process of predicting future values based on previously observed data points, collected over time at regular intervals. It involves analyzing patterns such as trends, seasonality, and cycles in the historical data to project future trends.\n"
   ]
  },
  {
   "cell_type": "markdown",
   "id": "4deb2889",
   "metadata": {},
   "source": [
    "<b>Why is time series forecasting important?</b> <br>\n",
    "Time series forecasting allows us to capture temporal dependencies and trends that are often critical for making accurate predictions and informed decisions. Time series forecasting can be used in various industries like sales, engineering, finance, etc where forecasting future events is necessary.<br>\n",
    "With time series analysis, we can discover trends in past data and use them to explain the underlying patterns in the data. \n",
    "Time series analysis is a basic tool for the analysis of natural systems, which cannot be understood without it. For example, fluctuations in the stock market, forecasting sales of products are examples of natural systems, whose behavior can best be studied using time series analysis. <br>\n",
    "Time series analysis gives a way to predict the future. It is essential in engineering, finance, business, and the economy to make it easy for investors, customers, or engineers to make the proper decisions.\n",
    "\n"
   ]
  },
  {
   "cell_type": "markdown",
   "id": "e8a09c02",
   "metadata": {},
   "source": [
    "<ul><b>Time series components</b>\n",
    "    <li>Trends</li>\n",
    "    <li>Seasonality</li>\n",
    "    <li>Cyclicity</li>\n",
    "    <li>Irregularity</li>\n",
    "    </ul>\n",
    "\n",
    "1. Trend component: This is useful in predicting future movements. Over a long period of time, the trend shows whether the data tends to increase decrease, or stabilize.\n",
    "\n",
    "2. Seasonal component: The seasonal component of a time series is the variation in some variable due to some predetermined patterns in its behavior. \n",
    "\n",
    "3. Cyclical component: The cyclical component in a time series is the part of the movement in the variable which can be explained by other cyclical movements in the economy. This components detects if there is a repetition or a pattern which can be noticed in the time series. This pattern can be used to predict the data or values for a certain time period.\n",
    "\n",
    "4. Irregularity component: The irregular component is the part of the movement in the variable which cannot be explained by cyclical movements in the economy. In other words, this term gives information about non-seasonal patterns like sudden spikes or fluctuations in the data due to an intermittent reason.\n",
    "\n",
    "\n"
   ]
  },
  {
   "cell_type": "markdown",
   "id": "9c62d89b",
   "metadata": {},
   "source": [
    "## Problem Statement:\n",
    "You have been given a dataset containing historical stock market data with various attributes such as date, highest and lowest stock prices, opening and closing prices, trading volume, and adjusted closing prices. Your goal is to perform a comprehensive time series analysis on this dataset and use the historical data to predict the closing stock prices for a specific period.\n",
    "\n",
    "#### Input:\n",
    "\n",
    "The dataset has been created by extracting the historical stock market data on the for NVIDIA (NYSE:NVDA) for the past 10 years using the Yahoo Finance API. The API returns a Pandas dataframe of the requested data. The dataframe consists of the following fields:\n",
    "\n",
    "Date: The date of the recorded data.\n",
    "High: The highest stock price during the trading day.\n",
    "Low: The lowest stock price during the trading day.\n",
    "Open: The opening stock price at the beginning of the trading day.\n",
    "Close: The closing stock price at the end of the trading day.\n",
    "Adj Close: The adjusted closing price, which accounts for corporate actions like dividends and stock splits.\n",
    "Volume: The number of shares traded on that day.\n",
    "\n",
    "#### Example Input Data:\n",
    "\n",
    "<table border=\"1\" cellpadding=\"5\" cellspacing=\"0\">\n",
    "  <thead>\n",
    "    <tr>\n",
    "      <th>Date</th>\n",
    "      <th>Open</th>\n",
    "      <th>High</th>\n",
    "      <th>Low</th>\n",
    "      <th>Close</th>\n",
    "      <th>Adj Close</th>\n",
    "      <th>Volume</th>\n",
    "    </tr>\n",
    "  </thead>\n",
    "  <tbody>\n",
    "    <tr>\n",
    "      <td>2014-10-20</td>\n",
    "      <td>0.43550</td>\n",
    "      <td>0.44325</td>\n",
    "      <td>0.43250</td>\n",
    "      <td>0.43925</td>\n",
    "      <td>0.419952</td>\n",
    "      <td>200336000</td>\n",
    "    </tr>\n",
    "    <tr>\n",
    "      <td>2014-10-21</td>\n",
    "      <td>0.44250</td>\n",
    "      <td>0.45850</td>\n",
    "      <td>0.44125</td>\n",
    "      <td>0.45800</td>\n",
    "      <td>0.437879</td>\n",
    "      <td>351092000</td>\n",
    "    </tr>\n",
    "    <tr>\n",
    "      <td>2014-10-22</td>\n",
    "      <td>0.45725</td>\n",
    "      <td>0.45875</td>\n",
    "      <td>0.44725</td>\n",
    "      <td>0.44725</td>\n",
    "      <td>0.427601</td>\n",
    "      <td>239512000</td>\n",
    "    </tr>\n",
    "  </tbody>\n",
    "</table>\n",
    "\n",
    "\n",
    "\n",
    "#### Output:\n",
    "\n",
    "The output will be a list of predicted closing stock prices for the specific period as per the analysis.\n",
    "\n",
    "predicted_closing_prices = [predicted_price_1, predicted_price_2, ..., predicted_price_n]\n",
    "\n",
    "\n",
    "#### Example Output:\n",
    "\n",
    "predicted_closing_prices = [135.34, 137.12, ..., 141.54]  # Example predicted closing prices for the next 10 days\n",
    "\n",
    "\n",
    "\n",
    "#### Problem Details:\n",
    "\n",
    "In this problem, you are expected to follow these steps:\n",
    "\n",
    "Data Loading: Load the historical stock market data from the API into a pandas DataFrame for analysis.\n",
    "\n",
    "Data Preprocessing: Convert the 'Date' column to datetime format, handle missing values, and explore the dataset to understand its structure.\n",
    "\n",
    "Exploratory Data Analysis (EDA): Analyze trends and patterns in the historical stock prices. Visualize the data to identify any underlying patterns or anomalies.\n",
    "\n",
    "Feature Engineering: Create relevant features such as moving averages, price volatility indicators, and trading volume trends to enhance the dataset for modeling.\n",
    "\n",
    "Model Selection: Choose various open-source time series forecasting models like ARIMA, LSTM and Prophet to compare their performances and shortcomings.\n",
    "\n",
    "Model Training: Train the selected model using the preprocessed data, allowing the model to learn patterns and relationships in the historical stock prices.\n",
    "\n",
    "Prediction: Use the trained model to predict the closing stock prices for the specific period. Evaluate the model's predictions and refine the model if necessary.\n"
   ]
  },
  {
   "cell_type": "markdown",
   "id": "ee87a908",
   "metadata": {},
   "source": [
    "## Theoretical Implementation\n",
    "\n",
    "Step 1: As indicated above, the input data contains columsn date, low, high, open, close, adj. close and volume,\n",
    "In accordance with the problem statement, we are interested only with the date, the closing stock price and the volume of the shares transacted.\n",
    "So, the unwanted columns can be <b>dropped</b>. Then, the data can be <b>split</b> into training and testing dataset for model training and evaluation respectively.<br>\n",
    "\n",
    "Step 2: We <b>describe</b> the data to check the mean, standard deviation and the count of records in the data. This helps us understand how distributed the data as. We do not expect a sparse distribution as time series data do not contain frequent fluctuations. <br>\n",
    "\n",
    "Step 3: Further, we start <b>exploratory data analysis</b> and plot the moving average for last 5 days, 30 days and 90 days to visualize the trend in the data over the chosen time period. To extract deeper insights, we can perform feature engineering or create new columns if required.<br>\n",
    "\n",
    "Step 4: We then implement models like ARIMA, LSTM and Prophet to check the performance of the models. Based on the accuracy and performance, we can understand the shortcomings of the models"
   ]
  },
  {
   "cell_type": "markdown",
   "id": "7e2b815e",
   "metadata": {},
   "source": [
    "## Data Preprocessing\n",
    "\n",
    "The data has been extracted through Yahoo Finance API. Hence, the data is expected to be clean and not contain missing values.\n",
    "Hence, we shall check the columns and select only the ones that we require."
   ]
  },
  {
   "cell_type": "code",
   "execution_count": 38,
   "id": "a51757c1",
   "metadata": {},
   "outputs": [
    {
     "name": "stdout",
     "output_type": "stream",
     "text": [
      "Requirement already satisfied: yfinance in c:\\users\\visho\\anaconda3\\lib\\site-packages (0.2.44)\n",
      "Requirement already satisfied: pandas>=1.3.0 in c:\\users\\visho\\anaconda3\\lib\\site-packages (from yfinance) (2.0.3)\n",
      "Requirement already satisfied: numpy>=1.16.5 in c:\\users\\visho\\anaconda3\\lib\\site-packages (from yfinance) (1.22.1)\n",
      "Requirement already satisfied: requests>=2.31 in c:\\users\\visho\\anaconda3\\lib\\site-packages (from yfinance) (2.31.0)\n",
      "Requirement already satisfied: multitasking>=0.0.7 in c:\\users\\visho\\anaconda3\\lib\\site-packages (from yfinance) (0.0.11)\n",
      "Requirement already satisfied: lxml>=4.9.1 in c:\\users\\visho\\anaconda3\\lib\\site-packages (from yfinance) (5.3.0)\n",
      "Requirement already satisfied: platformdirs>=2.0.0 in c:\\users\\visho\\anaconda3\\lib\\site-packages (from yfinance) (3.10.0)\n",
      "Requirement already satisfied: pytz>=2022.5 in c:\\users\\visho\\anaconda3\\lib\\site-packages (from yfinance) (2023.3.post1)\n",
      "Requirement already satisfied: frozendict>=2.3.4 in c:\\users\\visho\\anaconda3\\lib\\site-packages (from yfinance) (2.4.2)\n",
      "Requirement already satisfied: peewee>=3.16.2 in c:\\users\\visho\\anaconda3\\lib\\site-packages (from yfinance) (3.17.7)\n",
      "Requirement already satisfied: beautifulsoup4>=4.11.1 in c:\\users\\visho\\anaconda3\\lib\\site-packages (from yfinance) (4.12.2)\n",
      "Requirement already satisfied: html5lib>=1.1 in c:\\users\\visho\\anaconda3\\lib\\site-packages (from yfinance) (1.1)\n",
      "Requirement already satisfied: soupsieve>1.2 in c:\\users\\visho\\anaconda3\\lib\\site-packages (from beautifulsoup4>=4.11.1->yfinance) (2.5)\n",
      "Requirement already satisfied: six>=1.9 in c:\\users\\visho\\anaconda3\\lib\\site-packages (from html5lib>=1.1->yfinance) (1.16.0)\n",
      "Requirement already satisfied: webencodings in c:\\users\\visho\\anaconda3\\lib\\site-packages (from html5lib>=1.1->yfinance) (0.5.1)\n",
      "Requirement already satisfied: python-dateutil>=2.8.2 in c:\\users\\visho\\anaconda3\\lib\\site-packages (from pandas>=1.3.0->yfinance) (2.8.2)\n",
      "Requirement already satisfied: tzdata>=2022.1 in c:\\users\\visho\\anaconda3\\lib\\site-packages (from pandas>=1.3.0->yfinance) (2023.3)\n",
      "Requirement already satisfied: charset-normalizer<4,>=2 in c:\\users\\visho\\anaconda3\\lib\\site-packages (from requests>=2.31->yfinance) (2.0.4)\n",
      "Requirement already satisfied: idna<4,>=2.5 in c:\\users\\visho\\anaconda3\\lib\\site-packages (from requests>=2.31->yfinance) (3.4)\n",
      "Requirement already satisfied: urllib3<3,>=1.21.1 in c:\\users\\visho\\anaconda3\\lib\\site-packages (from requests>=2.31->yfinance) (1.26.18)\n",
      "Requirement already satisfied: certifi>=2017.4.17 in c:\\users\\visho\\anaconda3\\lib\\site-packages (from requests>=2.31->yfinance) (2024.7.4)\n",
      "Note: you may need to restart the kernel to use updated packages.\n"
     ]
    },
    {
     "name": "stderr",
     "output_type": "stream",
     "text": [
      "C:\\Users\\visho\\anaconda3\\lib\\site-packages\\IPython\\utils\\_process_win32.py:124: ResourceWarning: unclosed file <_io.BufferedWriter name=4>\n",
      "  return process_handler(cmd, _system_body)\n",
      "ResourceWarning: Enable tracemalloc to get the object allocation traceback\n",
      "C:\\Users\\visho\\anaconda3\\lib\\site-packages\\IPython\\utils\\_process_win32.py:124: ResourceWarning: unclosed file <_io.BufferedReader name=5>\n",
      "  return process_handler(cmd, _system_body)\n",
      "ResourceWarning: Enable tracemalloc to get the object allocation traceback\n",
      "C:\\Users\\visho\\anaconda3\\lib\\site-packages\\IPython\\utils\\_process_win32.py:124: ResourceWarning: unclosed file <_io.BufferedReader name=6>\n",
      "  return process_handler(cmd, _system_body)\n",
      "ResourceWarning: Enable tracemalloc to get the object allocation traceback\n"
     ]
    }
   ],
   "source": [
    "%pip install yfinance"
   ]
  },
  {
   "cell_type": "code",
   "execution_count": 39,
   "id": "9306ee28",
   "metadata": {},
   "outputs": [],
   "source": [
    "import numpy as np\n",
    "import yfinance as yf #Yahoo Finance API\n",
    "import pandas as pd # Pandas for data preprocessing\n",
    "import matplotlib.pyplot as plt # matplotlib for plotting and visualization\n",
    "import seaborn as sns\n",
    "from datetime import datetime"
   ]
  },
  {
   "cell_type": "code",
   "execution_count": 40,
   "id": "df3d3948",
   "metadata": {},
   "outputs": [],
   "source": [
    "ticker_symbol = \"NVDA\"\n",
    "end_date = datetime.now()\n",
    "start_date = end_date.replace(year=end_date.year - 10)"
   ]
  },
  {
   "cell_type": "code",
   "execution_count": 41,
   "id": "34b56b4d",
   "metadata": {},
   "outputs": [
    {
     "name": "stderr",
     "output_type": "stream",
     "text": [
      "[*********************100%***********************]  1 of 1 completed\n"
     ]
    }
   ],
   "source": [
    "nvda_df = yf.download(ticker_symbol, start = start_date,end=end_date )"
   ]
  },
  {
   "cell_type": "code",
   "execution_count": 42,
   "id": "d0459a85",
   "metadata": {},
   "outputs": [
    {
     "data": {
      "text/html": [
       "<div>\n",
       "<style scoped>\n",
       "    .dataframe tbody tr th:only-of-type {\n",
       "        vertical-align: middle;\n",
       "    }\n",
       "\n",
       "    .dataframe tbody tr th {\n",
       "        vertical-align: top;\n",
       "    }\n",
       "\n",
       "    .dataframe thead th {\n",
       "        text-align: right;\n",
       "    }\n",
       "</style>\n",
       "<table border=\"1\" class=\"dataframe\">\n",
       "  <thead>\n",
       "    <tr style=\"text-align: right;\">\n",
       "      <th></th>\n",
       "      <th>Open</th>\n",
       "      <th>High</th>\n",
       "      <th>Low</th>\n",
       "      <th>Close</th>\n",
       "      <th>Adj Close</th>\n",
       "      <th>Volume</th>\n",
       "    </tr>\n",
       "    <tr>\n",
       "      <th>Date</th>\n",
       "      <th></th>\n",
       "      <th></th>\n",
       "      <th></th>\n",
       "      <th></th>\n",
       "      <th></th>\n",
       "      <th></th>\n",
       "    </tr>\n",
       "  </thead>\n",
       "  <tbody>\n",
       "    <tr>\n",
       "      <th>2014-10-21</th>\n",
       "      <td>0.44250</td>\n",
       "      <td>0.45850</td>\n",
       "      <td>0.44125</td>\n",
       "      <td>0.45800</td>\n",
       "      <td>0.437879</td>\n",
       "      <td>351092000</td>\n",
       "    </tr>\n",
       "    <tr>\n",
       "      <th>2014-10-22</th>\n",
       "      <td>0.45725</td>\n",
       "      <td>0.45875</td>\n",
       "      <td>0.44725</td>\n",
       "      <td>0.44725</td>\n",
       "      <td>0.427601</td>\n",
       "      <td>239512000</td>\n",
       "    </tr>\n",
       "    <tr>\n",
       "      <th>2014-10-23</th>\n",
       "      <td>0.45500</td>\n",
       "      <td>0.46050</td>\n",
       "      <td>0.45175</td>\n",
       "      <td>0.45725</td>\n",
       "      <td>0.437162</td>\n",
       "      <td>214476000</td>\n",
       "    </tr>\n",
       "    <tr>\n",
       "      <th>2014-10-24</th>\n",
       "      <td>0.46000</td>\n",
       "      <td>0.46475</td>\n",
       "      <td>0.45725</td>\n",
       "      <td>0.46200</td>\n",
       "      <td>0.441703</td>\n",
       "      <td>210156000</td>\n",
       "    </tr>\n",
       "    <tr>\n",
       "      <th>2014-10-27</th>\n",
       "      <td>0.46175</td>\n",
       "      <td>0.46400</td>\n",
       "      <td>0.45675</td>\n",
       "      <td>0.46225</td>\n",
       "      <td>0.441942</td>\n",
       "      <td>145092000</td>\n",
       "    </tr>\n",
       "  </tbody>\n",
       "</table>\n",
       "</div>"
      ],
      "text/plain": [
       "               Open     High      Low    Close  Adj Close     Volume\n",
       "Date                                                                \n",
       "2014-10-21  0.44250  0.45850  0.44125  0.45800   0.437879  351092000\n",
       "2014-10-22  0.45725  0.45875  0.44725  0.44725   0.427601  239512000\n",
       "2014-10-23  0.45500  0.46050  0.45175  0.45725   0.437162  214476000\n",
       "2014-10-24  0.46000  0.46475  0.45725  0.46200   0.441703  210156000\n",
       "2014-10-27  0.46175  0.46400  0.45675  0.46225   0.441942  145092000"
      ]
     },
     "execution_count": 42,
     "metadata": {},
     "output_type": "execute_result"
    }
   ],
   "source": [
    "nvda_df.head()"
   ]
  },
  {
   "cell_type": "code",
   "execution_count": 43,
   "id": "01288ddc",
   "metadata": {},
   "outputs": [
    {
     "data": {
      "text/html": [
       "<div>\n",
       "<style scoped>\n",
       "    .dataframe tbody tr th:only-of-type {\n",
       "        vertical-align: middle;\n",
       "    }\n",
       "\n",
       "    .dataframe tbody tr th {\n",
       "        vertical-align: top;\n",
       "    }\n",
       "\n",
       "    .dataframe thead th {\n",
       "        text-align: right;\n",
       "    }\n",
       "</style>\n",
       "<table border=\"1\" class=\"dataframe\">\n",
       "  <thead>\n",
       "    <tr style=\"text-align: right;\">\n",
       "      <th></th>\n",
       "      <th>Open</th>\n",
       "      <th>High</th>\n",
       "      <th>Low</th>\n",
       "      <th>Close</th>\n",
       "      <th>Adj Close</th>\n",
       "      <th>Volume</th>\n",
       "    </tr>\n",
       "  </thead>\n",
       "  <tbody>\n",
       "    <tr>\n",
       "      <th>count</th>\n",
       "      <td>2516.000000</td>\n",
       "      <td>2516.000000</td>\n",
       "      <td>2516.000000</td>\n",
       "      <td>2516.000000</td>\n",
       "      <td>2516.000000</td>\n",
       "      <td>2.516000e+03</td>\n",
       "    </tr>\n",
       "    <tr>\n",
       "      <th>mean</th>\n",
       "      <td>18.045812</td>\n",
       "      <td>18.383342</td>\n",
       "      <td>17.682197</td>\n",
       "      <td>18.049929</td>\n",
       "      <td>18.021104</td>\n",
       "      <td>4.677787e+08</td>\n",
       "    </tr>\n",
       "    <tr>\n",
       "      <th>std</th>\n",
       "      <td>27.627195</td>\n",
       "      <td>28.156233</td>\n",
       "      <td>27.019165</td>\n",
       "      <td>27.611811</td>\n",
       "      <td>27.617490</td>\n",
       "      <td>2.536388e+08</td>\n",
       "    </tr>\n",
       "    <tr>\n",
       "      <th>min</th>\n",
       "      <td>0.442500</td>\n",
       "      <td>0.458500</td>\n",
       "      <td>0.441250</td>\n",
       "      <td>0.447250</td>\n",
       "      <td>0.427601</td>\n",
       "      <td>4.564400e+07</td>\n",
       "    </tr>\n",
       "    <tr>\n",
       "      <th>25%</th>\n",
       "      <td>2.770875</td>\n",
       "      <td>2.796688</td>\n",
       "      <td>2.708875</td>\n",
       "      <td>2.764375</td>\n",
       "      <td>2.726653</td>\n",
       "      <td>3.065810e+08</td>\n",
       "    </tr>\n",
       "    <tr>\n",
       "      <th>50%</th>\n",
       "      <td>6.246250</td>\n",
       "      <td>6.324875</td>\n",
       "      <td>6.168250</td>\n",
       "      <td>6.233250</td>\n",
       "      <td>6.178546</td>\n",
       "      <td>4.153735e+08</td>\n",
       "    </tr>\n",
       "    <tr>\n",
       "      <th>75%</th>\n",
       "      <td>19.693250</td>\n",
       "      <td>20.040000</td>\n",
       "      <td>19.264000</td>\n",
       "      <td>19.707250</td>\n",
       "      <td>19.670872</td>\n",
       "      <td>5.640210e+08</td>\n",
       "    </tr>\n",
       "    <tr>\n",
       "      <th>max</th>\n",
       "      <td>139.800003</td>\n",
       "      <td>140.889999</td>\n",
       "      <td>137.279999</td>\n",
       "      <td>138.070007</td>\n",
       "      <td>138.070007</td>\n",
       "      <td>3.692928e+09</td>\n",
       "    </tr>\n",
       "  </tbody>\n",
       "</table>\n",
       "</div>"
      ],
      "text/plain": [
       "              Open         High          Low        Close    Adj Close  \\\n",
       "count  2516.000000  2516.000000  2516.000000  2516.000000  2516.000000   \n",
       "mean     18.045812    18.383342    17.682197    18.049929    18.021104   \n",
       "std      27.627195    28.156233    27.019165    27.611811    27.617490   \n",
       "min       0.442500     0.458500     0.441250     0.447250     0.427601   \n",
       "25%       2.770875     2.796688     2.708875     2.764375     2.726653   \n",
       "50%       6.246250     6.324875     6.168250     6.233250     6.178546   \n",
       "75%      19.693250    20.040000    19.264000    19.707250    19.670872   \n",
       "max     139.800003   140.889999   137.279999   138.070007   138.070007   \n",
       "\n",
       "             Volume  \n",
       "count  2.516000e+03  \n",
       "mean   4.677787e+08  \n",
       "std    2.536388e+08  \n",
       "min    4.564400e+07  \n",
       "25%    3.065810e+08  \n",
       "50%    4.153735e+08  \n",
       "75%    5.640210e+08  \n",
       "max    3.692928e+09  "
      ]
     },
     "execution_count": 43,
     "metadata": {},
     "output_type": "execute_result"
    }
   ],
   "source": [
    "nvda_df.describe()"
   ]
  },
  {
   "cell_type": "markdown",
   "id": "7307d353",
   "metadata": {},
   "source": [
    "## Data Analysis\n",
    "\n",
    "Now that we took a glimpse of the data, we shall further explore it to understand the distribution of the numerical values.\n"
   ]
  },
  {
   "cell_type": "markdown",
   "id": "c35f18eb",
   "metadata": {},
   "source": [
    "Data Preprocessing"
   ]
  },
  {
   "cell_type": "code",
   "execution_count": 44,
   "id": "b7586f94",
   "metadata": {},
   "outputs": [],
   "source": [
    "nvda_copy = nvda_df.copy()  # Create a copy of the original DataFrame\n",
    "\n",
    "# Convert 'Date' column to datetime object in the copied DataFrame\n",
    "nvda_copy.reset_index(inplace=True)\n",
    "nvda_copy['Date'] = pd.to_datetime(nvda_copy['Date'])\n",
    "\n",
    "# Handle missing values (if any) in the copied DataFrame\n",
    "nvda_copy.dropna(inplace=True)\n",
    "\n",
    "# Split the copied dataset into training and testing sets\n",
    "train_size = int(0.8 * len(nvda_copy))\n",
    "train_data = nvda_copy[:train_size]\n",
    "test_data = nvda_copy[train_size:]"
   ]
  },
  {
   "cell_type": "code",
   "execution_count": 54,
   "id": "e8ecefd6",
   "metadata": {},
   "outputs": [
    {
     "data": {
      "text/html": [
       "<div>\n",
       "<style scoped>\n",
       "    .dataframe tbody tr th:only-of-type {\n",
       "        vertical-align: middle;\n",
       "    }\n",
       "\n",
       "    .dataframe tbody tr th {\n",
       "        vertical-align: top;\n",
       "    }\n",
       "\n",
       "    .dataframe thead th {\n",
       "        text-align: right;\n",
       "    }\n",
       "</style>\n",
       "<table border=\"1\" class=\"dataframe\">\n",
       "  <thead>\n",
       "    <tr style=\"text-align: right;\">\n",
       "      <th></th>\n",
       "      <th>Date</th>\n",
       "      <th>Open</th>\n",
       "      <th>High</th>\n",
       "      <th>Low</th>\n",
       "      <th>Close</th>\n",
       "      <th>Adj Close</th>\n",
       "      <th>Volume</th>\n",
       "    </tr>\n",
       "  </thead>\n",
       "  <tbody>\n",
       "    <tr>\n",
       "      <th>0</th>\n",
       "      <td>2014-10-21</td>\n",
       "      <td>0.44250</td>\n",
       "      <td>0.45850</td>\n",
       "      <td>0.44125</td>\n",
       "      <td>0.45800</td>\n",
       "      <td>0.437879</td>\n",
       "      <td>351092000</td>\n",
       "    </tr>\n",
       "    <tr>\n",
       "      <th>1</th>\n",
       "      <td>2014-10-22</td>\n",
       "      <td>0.45725</td>\n",
       "      <td>0.45875</td>\n",
       "      <td>0.44725</td>\n",
       "      <td>0.44725</td>\n",
       "      <td>0.427601</td>\n",
       "      <td>239512000</td>\n",
       "    </tr>\n",
       "    <tr>\n",
       "      <th>2</th>\n",
       "      <td>2014-10-23</td>\n",
       "      <td>0.45500</td>\n",
       "      <td>0.46050</td>\n",
       "      <td>0.45175</td>\n",
       "      <td>0.45725</td>\n",
       "      <td>0.437162</td>\n",
       "      <td>214476000</td>\n",
       "    </tr>\n",
       "    <tr>\n",
       "      <th>3</th>\n",
       "      <td>2014-10-24</td>\n",
       "      <td>0.46000</td>\n",
       "      <td>0.46475</td>\n",
       "      <td>0.45725</td>\n",
       "      <td>0.46200</td>\n",
       "      <td>0.441703</td>\n",
       "      <td>210156000</td>\n",
       "    </tr>\n",
       "    <tr>\n",
       "      <th>4</th>\n",
       "      <td>2014-10-27</td>\n",
       "      <td>0.46175</td>\n",
       "      <td>0.46400</td>\n",
       "      <td>0.45675</td>\n",
       "      <td>0.46225</td>\n",
       "      <td>0.441942</td>\n",
       "      <td>145092000</td>\n",
       "    </tr>\n",
       "  </tbody>\n",
       "</table>\n",
       "</div>"
      ],
      "text/plain": [
       "        Date     Open     High      Low    Close  Adj Close     Volume\n",
       "0 2014-10-21  0.44250  0.45850  0.44125  0.45800   0.437879  351092000\n",
       "1 2014-10-22  0.45725  0.45875  0.44725  0.44725   0.427601  239512000\n",
       "2 2014-10-23  0.45500  0.46050  0.45175  0.45725   0.437162  214476000\n",
       "3 2014-10-24  0.46000  0.46475  0.45725  0.46200   0.441703  210156000\n",
       "4 2014-10-27  0.46175  0.46400  0.45675  0.46225   0.441942  145092000"
      ]
     },
     "execution_count": 54,
     "metadata": {},
     "output_type": "execute_result"
    }
   ],
   "source": [
    "nvda_copy.head()"
   ]
  },
  {
   "cell_type": "markdown",
   "id": "b6976ed9",
   "metadata": {},
   "source": [
    "Resampling"
   ]
  },
  {
   "cell_type": "code",
   "execution_count": 47,
   "id": "8d5e4d85",
   "metadata": {},
   "outputs": [
    {
     "data": {
      "text/html": [
       "<div>\n",
       "<style scoped>\n",
       "    .dataframe tbody tr th:only-of-type {\n",
       "        vertical-align: middle;\n",
       "    }\n",
       "\n",
       "    .dataframe tbody tr th {\n",
       "        vertical-align: top;\n",
       "    }\n",
       "\n",
       "    .dataframe thead th {\n",
       "        text-align: right;\n",
       "    }\n",
       "</style>\n",
       "<table border=\"1\" class=\"dataframe\">\n",
       "  <thead>\n",
       "    <tr style=\"text-align: right;\">\n",
       "      <th></th>\n",
       "      <th>Open</th>\n",
       "      <th>High</th>\n",
       "      <th>Low</th>\n",
       "      <th>Close</th>\n",
       "      <th>Adj Close</th>\n",
       "      <th>Volume</th>\n",
       "    </tr>\n",
       "    <tr>\n",
       "      <th>Date</th>\n",
       "      <th></th>\n",
       "      <th></th>\n",
       "      <th></th>\n",
       "      <th></th>\n",
       "      <th></th>\n",
       "      <th></th>\n",
       "    </tr>\n",
       "  </thead>\n",
       "  <tbody>\n",
       "    <tr>\n",
       "      <th>2014-10-31</th>\n",
       "      <td>0.461750</td>\n",
       "      <td>0.468222</td>\n",
       "      <td>0.457500</td>\n",
       "      <td>0.465111</td>\n",
       "      <td>0.444677</td>\n",
       "      <td>2.164249e+08</td>\n",
       "    </tr>\n",
       "    <tr>\n",
       "      <th>2014-11-30</th>\n",
       "      <td>0.502513</td>\n",
       "      <td>0.507289</td>\n",
       "      <td>0.496882</td>\n",
       "      <td>0.503474</td>\n",
       "      <td>0.482120</td>\n",
       "      <td>2.443735e+08</td>\n",
       "    </tr>\n",
       "    <tr>\n",
       "      <th>2014-12-31</th>\n",
       "      <td>0.512318</td>\n",
       "      <td>0.517114</td>\n",
       "      <td>0.506068</td>\n",
       "      <td>0.510580</td>\n",
       "      <td>0.490214</td>\n",
       "      <td>1.935002e+08</td>\n",
       "    </tr>\n",
       "    <tr>\n",
       "      <th>2015-01-31</th>\n",
       "      <td>0.497750</td>\n",
       "      <td>0.503338</td>\n",
       "      <td>0.490312</td>\n",
       "      <td>0.496150</td>\n",
       "      <td>0.476360</td>\n",
       "      <td>2.070176e+08</td>\n",
       "    </tr>\n",
       "    <tr>\n",
       "      <th>2015-02-28</th>\n",
       "      <td>0.534079</td>\n",
       "      <td>0.539237</td>\n",
       "      <td>0.529355</td>\n",
       "      <td>0.536079</td>\n",
       "      <td>0.515128</td>\n",
       "      <td>2.207126e+08</td>\n",
       "    </tr>\n",
       "    <tr>\n",
       "      <th>...</th>\n",
       "      <td>...</td>\n",
       "      <td>...</td>\n",
       "      <td>...</td>\n",
       "      <td>...</td>\n",
       "      <td>...</td>\n",
       "      <td>...</td>\n",
       "    </tr>\n",
       "    <tr>\n",
       "      <th>2024-06-30</th>\n",
       "      <td>124.546106</td>\n",
       "      <td>126.919368</td>\n",
       "      <td>121.756738</td>\n",
       "      <td>124.589105</td>\n",
       "      <td>124.575347</td>\n",
       "      <td>3.917126e+08</td>\n",
       "    </tr>\n",
       "    <tr>\n",
       "      <th>2024-07-31</th>\n",
       "      <td>122.805000</td>\n",
       "      <td>124.889545</td>\n",
       "      <td>119.531364</td>\n",
       "      <td>121.912727</td>\n",
       "      <td>121.902300</td>\n",
       "      <td>2.911563e+08</td>\n",
       "    </tr>\n",
       "    <tr>\n",
       "      <th>2024-08-31</th>\n",
       "      <td>116.824545</td>\n",
       "      <td>119.981365</td>\n",
       "      <td>113.578637</td>\n",
       "      <td>117.121818</td>\n",
       "      <td>117.111800</td>\n",
       "      <td>3.684258e+08</td>\n",
       "    </tr>\n",
       "    <tr>\n",
       "      <th>2024-09-30</th>\n",
       "      <td>115.093999</td>\n",
       "      <td>117.553001</td>\n",
       "      <td>112.613500</td>\n",
       "      <td>115.055001</td>\n",
       "      <td>115.051768</td>\n",
       "      <td>3.136106e+08</td>\n",
       "    </tr>\n",
       "    <tr>\n",
       "      <th>2024-10-31</th>\n",
       "      <td>130.405713</td>\n",
       "      <td>132.515714</td>\n",
       "      <td>128.162858</td>\n",
       "      <td>130.486428</td>\n",
       "      <td>130.486428</td>\n",
       "      <td>2.637655e+08</td>\n",
       "    </tr>\n",
       "  </tbody>\n",
       "</table>\n",
       "<p>121 rows × 6 columns</p>\n",
       "</div>"
      ],
      "text/plain": [
       "                  Open        High         Low       Close   Adj Close  \\\n",
       "Date                                                                     \n",
       "2014-10-31    0.461750    0.468222    0.457500    0.465111    0.444677   \n",
       "2014-11-30    0.502513    0.507289    0.496882    0.503474    0.482120   \n",
       "2014-12-31    0.512318    0.517114    0.506068    0.510580    0.490214   \n",
       "2015-01-31    0.497750    0.503338    0.490312    0.496150    0.476360   \n",
       "2015-02-28    0.534079    0.539237    0.529355    0.536079    0.515128   \n",
       "...                ...         ...         ...         ...         ...   \n",
       "2024-06-30  124.546106  126.919368  121.756738  124.589105  124.575347   \n",
       "2024-07-31  122.805000  124.889545  119.531364  121.912727  121.902300   \n",
       "2024-08-31  116.824545  119.981365  113.578637  117.121818  117.111800   \n",
       "2024-09-30  115.093999  117.553001  112.613500  115.055001  115.051768   \n",
       "2024-10-31  130.405713  132.515714  128.162858  130.486428  130.486428   \n",
       "\n",
       "                  Volume  \n",
       "Date                      \n",
       "2014-10-31  2.164249e+08  \n",
       "2014-11-30  2.443735e+08  \n",
       "2014-12-31  1.935002e+08  \n",
       "2015-01-31  2.070176e+08  \n",
       "2015-02-28  2.207126e+08  \n",
       "...                  ...  \n",
       "2024-06-30  3.917126e+08  \n",
       "2024-07-31  2.911563e+08  \n",
       "2024-08-31  3.684258e+08  \n",
       "2024-09-30  3.136106e+08  \n",
       "2024-10-31  2.637655e+08  \n",
       "\n",
       "[121 rows x 6 columns]"
      ]
     },
     "execution_count": 47,
     "metadata": {},
     "output_type": "execute_result"
    }
   ],
   "source": [
    "monthly_data = nvda_df.resample('M').mean()\n",
    "#df shoudl have a datetime index and  avalue column. THe dataframe is resampled to monthly frequency\n",
    "monthly_data"
   ]
  },
  {
   "cell_type": "markdown",
   "id": "9bbf4394",
   "metadata": {},
   "source": [
    "Smoothing Techniques"
   ]
  },
  {
   "cell_type": "code",
   "execution_count": 55,
   "id": "14c51a67",
   "metadata": {},
   "outputs": [
    {
     "data": {
      "text/html": [
       "<div>\n",
       "<style scoped>\n",
       "    .dataframe tbody tr th:only-of-type {\n",
       "        vertical-align: middle;\n",
       "    }\n",
       "\n",
       "    .dataframe tbody tr th {\n",
       "        vertical-align: top;\n",
       "    }\n",
       "\n",
       "    .dataframe thead th {\n",
       "        text-align: right;\n",
       "    }\n",
       "</style>\n",
       "<table border=\"1\" class=\"dataframe\">\n",
       "  <thead>\n",
       "    <tr style=\"text-align: right;\">\n",
       "      <th></th>\n",
       "      <th>Date</th>\n",
       "      <th>Open</th>\n",
       "      <th>High</th>\n",
       "      <th>Low</th>\n",
       "      <th>Close</th>\n",
       "      <th>Adj Close</th>\n",
       "      <th>Volume</th>\n",
       "      <th>SMA_7</th>\n",
       "    </tr>\n",
       "  </thead>\n",
       "  <tbody>\n",
       "    <tr>\n",
       "      <th>0</th>\n",
       "      <td>2014-10-21</td>\n",
       "      <td>0.442500</td>\n",
       "      <td>0.458500</td>\n",
       "      <td>0.441250</td>\n",
       "      <td>0.458000</td>\n",
       "      <td>0.437879</td>\n",
       "      <td>351092000</td>\n",
       "      <td>NaN</td>\n",
       "    </tr>\n",
       "    <tr>\n",
       "      <th>1</th>\n",
       "      <td>2014-10-22</td>\n",
       "      <td>0.457250</td>\n",
       "      <td>0.458750</td>\n",
       "      <td>0.447250</td>\n",
       "      <td>0.447250</td>\n",
       "      <td>0.427601</td>\n",
       "      <td>239512000</td>\n",
       "      <td>NaN</td>\n",
       "    </tr>\n",
       "    <tr>\n",
       "      <th>2</th>\n",
       "      <td>2014-10-23</td>\n",
       "      <td>0.455000</td>\n",
       "      <td>0.460500</td>\n",
       "      <td>0.451750</td>\n",
       "      <td>0.457250</td>\n",
       "      <td>0.437162</td>\n",
       "      <td>214476000</td>\n",
       "      <td>NaN</td>\n",
       "    </tr>\n",
       "    <tr>\n",
       "      <th>3</th>\n",
       "      <td>2014-10-24</td>\n",
       "      <td>0.460000</td>\n",
       "      <td>0.464750</td>\n",
       "      <td>0.457250</td>\n",
       "      <td>0.462000</td>\n",
       "      <td>0.441703</td>\n",
       "      <td>210156000</td>\n",
       "      <td>NaN</td>\n",
       "    </tr>\n",
       "    <tr>\n",
       "      <th>4</th>\n",
       "      <td>2014-10-27</td>\n",
       "      <td>0.461750</td>\n",
       "      <td>0.464000</td>\n",
       "      <td>0.456750</td>\n",
       "      <td>0.462250</td>\n",
       "      <td>0.441942</td>\n",
       "      <td>145092000</td>\n",
       "      <td>NaN</td>\n",
       "    </tr>\n",
       "    <tr>\n",
       "      <th>...</th>\n",
       "      <td>...</td>\n",
       "      <td>...</td>\n",
       "      <td>...</td>\n",
       "      <td>...</td>\n",
       "      <td>...</td>\n",
       "      <td>...</td>\n",
       "      <td>...</td>\n",
       "      <td>...</td>\n",
       "    </tr>\n",
       "    <tr>\n",
       "      <th>2511</th>\n",
       "      <td>2024-10-14</td>\n",
       "      <td>136.470001</td>\n",
       "      <td>139.600006</td>\n",
       "      <td>136.300003</td>\n",
       "      <td>138.070007</td>\n",
       "      <td>138.070007</td>\n",
       "      <td>232347700</td>\n",
       "      <td>132.265714</td>\n",
       "    </tr>\n",
       "    <tr>\n",
       "      <th>2512</th>\n",
       "      <td>2024-10-15</td>\n",
       "      <td>137.869995</td>\n",
       "      <td>138.570007</td>\n",
       "      <td>128.740005</td>\n",
       "      <td>131.600006</td>\n",
       "      <td>131.600006</td>\n",
       "      <td>377831000</td>\n",
       "      <td>133.220001</td>\n",
       "    </tr>\n",
       "    <tr>\n",
       "      <th>2513</th>\n",
       "      <td>2024-10-16</td>\n",
       "      <td>133.979996</td>\n",
       "      <td>136.619995</td>\n",
       "      <td>131.580002</td>\n",
       "      <td>135.720001</td>\n",
       "      <td>135.720001</td>\n",
       "      <td>264879700</td>\n",
       "      <td>134.362858</td>\n",
       "    </tr>\n",
       "    <tr>\n",
       "      <th>2514</th>\n",
       "      <td>2024-10-17</td>\n",
       "      <td>139.339996</td>\n",
       "      <td>140.889999</td>\n",
       "      <td>136.869995</td>\n",
       "      <td>136.929993</td>\n",
       "      <td>136.929993</td>\n",
       "      <td>306435900</td>\n",
       "      <td>134.940000</td>\n",
       "    </tr>\n",
       "    <tr>\n",
       "      <th>2515</th>\n",
       "      <td>2024-10-18</td>\n",
       "      <td>138.669998</td>\n",
       "      <td>138.899994</td>\n",
       "      <td>137.279999</td>\n",
       "      <td>138.000000</td>\n",
       "      <td>138.000000</td>\n",
       "      <td>175800600</td>\n",
       "      <td>135.704287</td>\n",
       "    </tr>\n",
       "  </tbody>\n",
       "</table>\n",
       "<p>2516 rows × 8 columns</p>\n",
       "</div>"
      ],
      "text/plain": [
       "           Date        Open        High         Low       Close   Adj Close  \\\n",
       "0    2014-10-21    0.442500    0.458500    0.441250    0.458000    0.437879   \n",
       "1    2014-10-22    0.457250    0.458750    0.447250    0.447250    0.427601   \n",
       "2    2014-10-23    0.455000    0.460500    0.451750    0.457250    0.437162   \n",
       "3    2014-10-24    0.460000    0.464750    0.457250    0.462000    0.441703   \n",
       "4    2014-10-27    0.461750    0.464000    0.456750    0.462250    0.441942   \n",
       "...         ...         ...         ...         ...         ...         ...   \n",
       "2511 2024-10-14  136.470001  139.600006  136.300003  138.070007  138.070007   \n",
       "2512 2024-10-15  137.869995  138.570007  128.740005  131.600006  131.600006   \n",
       "2513 2024-10-16  133.979996  136.619995  131.580002  135.720001  135.720001   \n",
       "2514 2024-10-17  139.339996  140.889999  136.869995  136.929993  136.929993   \n",
       "2515 2024-10-18  138.669998  138.899994  137.279999  138.000000  138.000000   \n",
       "\n",
       "         Volume       SMA_7  \n",
       "0     351092000         NaN  \n",
       "1     239512000         NaN  \n",
       "2     214476000         NaN  \n",
       "3     210156000         NaN  \n",
       "4     145092000         NaN  \n",
       "...         ...         ...  \n",
       "2511  232347700  132.265714  \n",
       "2512  377831000  133.220001  \n",
       "2513  264879700  134.362858  \n",
       "2514  306435900  134.940000  \n",
       "2515  175800600  135.704287  \n",
       "\n",
       "[2516 rows x 8 columns]"
      ]
     },
     "execution_count": 55,
     "metadata": {},
     "output_type": "execute_result"
    }
   ],
   "source": [
    "#SImple moving Averge with a window of 7 periods\n",
    "nvda_copy['SMA_7'] = nvda_copy['Close'].rolling(window=7).mean()\n",
    "nvda_copy"
   ]
  },
  {
   "cell_type": "code",
   "execution_count": 60,
   "id": "2c0e668b",
   "metadata": {},
   "outputs": [],
   "source": [
    "nvda_copy.drop(['SMA_7'],inplace=True,axis=1)"
   ]
  },
  {
   "cell_type": "code",
   "execution_count": 62,
   "id": "7d6c3295",
   "metadata": {},
   "outputs": [
    {
     "name": "stderr",
     "output_type": "stream",
     "text": [
      "C:\\Users\\visho\\anaconda3\\lib\\site-packages\\pandas\\util\\_decorators.py:210: EstimationWarning: Model has no free parameters to estimate. Set optimized=False to suppress this warning\n",
      "  return func(*args, **kwargs)\n"
     ]
    },
    {
     "data": {
      "text/html": [
       "<div>\n",
       "<style scoped>\n",
       "    .dataframe tbody tr th:only-of-type {\n",
       "        vertical-align: middle;\n",
       "    }\n",
       "\n",
       "    .dataframe tbody tr th {\n",
       "        vertical-align: top;\n",
       "    }\n",
       "\n",
       "    .dataframe thead th {\n",
       "        text-align: right;\n",
       "    }\n",
       "</style>\n",
       "<table border=\"1\" class=\"dataframe\">\n",
       "  <thead>\n",
       "    <tr style=\"text-align: right;\">\n",
       "      <th></th>\n",
       "      <th>Date</th>\n",
       "      <th>Open</th>\n",
       "      <th>High</th>\n",
       "      <th>Low</th>\n",
       "      <th>Close</th>\n",
       "      <th>Adj Close</th>\n",
       "      <th>Volume</th>\n",
       "      <th>EMA</th>\n",
       "    </tr>\n",
       "  </thead>\n",
       "  <tbody>\n",
       "    <tr>\n",
       "      <th>0</th>\n",
       "      <td>2014-10-21</td>\n",
       "      <td>0.44250</td>\n",
       "      <td>0.45850</td>\n",
       "      <td>0.44125</td>\n",
       "      <td>0.45800</td>\n",
       "      <td>0.437879</td>\n",
       "      <td>351092000</td>\n",
       "      <td>0.458000</td>\n",
       "    </tr>\n",
       "    <tr>\n",
       "      <th>1</th>\n",
       "      <td>2014-10-22</td>\n",
       "      <td>0.45725</td>\n",
       "      <td>0.45875</td>\n",
       "      <td>0.44725</td>\n",
       "      <td>0.44725</td>\n",
       "      <td>0.427601</td>\n",
       "      <td>239512000</td>\n",
       "      <td>0.458000</td>\n",
       "    </tr>\n",
       "    <tr>\n",
       "      <th>2</th>\n",
       "      <td>2014-10-23</td>\n",
       "      <td>0.45500</td>\n",
       "      <td>0.46050</td>\n",
       "      <td>0.45175</td>\n",
       "      <td>0.45725</td>\n",
       "      <td>0.437162</td>\n",
       "      <td>214476000</td>\n",
       "      <td>0.454775</td>\n",
       "    </tr>\n",
       "    <tr>\n",
       "      <th>3</th>\n",
       "      <td>2014-10-24</td>\n",
       "      <td>0.46000</td>\n",
       "      <td>0.46475</td>\n",
       "      <td>0.45725</td>\n",
       "      <td>0.46200</td>\n",
       "      <td>0.441703</td>\n",
       "      <td>210156000</td>\n",
       "      <td>0.455518</td>\n",
       "    </tr>\n",
       "    <tr>\n",
       "      <th>4</th>\n",
       "      <td>2014-10-27</td>\n",
       "      <td>0.46175</td>\n",
       "      <td>0.46400</td>\n",
       "      <td>0.45675</td>\n",
       "      <td>0.46225</td>\n",
       "      <td>0.441942</td>\n",
       "      <td>145092000</td>\n",
       "      <td>0.457462</td>\n",
       "    </tr>\n",
       "  </tbody>\n",
       "</table>\n",
       "</div>"
      ],
      "text/plain": [
       "        Date     Open     High      Low    Close  Adj Close     Volume  \\\n",
       "0 2014-10-21  0.44250  0.45850  0.44125  0.45800   0.437879  351092000   \n",
       "1 2014-10-22  0.45725  0.45875  0.44725  0.44725   0.427601  239512000   \n",
       "2 2014-10-23  0.45500  0.46050  0.45175  0.45725   0.437162  214476000   \n",
       "3 2014-10-24  0.46000  0.46475  0.45725  0.46200   0.441703  210156000   \n",
       "4 2014-10-27  0.46175  0.46400  0.45675  0.46225   0.441942  145092000   \n",
       "\n",
       "        EMA  \n",
       "0  0.458000  \n",
       "1  0.458000  \n",
       "2  0.454775  \n",
       "3  0.455518  \n",
       "4  0.457462  "
      ]
     },
     "execution_count": 62,
     "metadata": {},
     "output_type": "execute_result"
    }
   ],
   "source": [
    "from statsmodels.tsa.holtwinters import SimpleExpSmoothing\n",
    "\n",
    "model = SimpleExpSmoothing(nvda_copy['Close'])\n",
    "results = model.fit(smoothing_level = 0.3)\n",
    "nvda_copy['EMA'] = results.fittedvalues\n",
    "nvda_copy.head()\n"
   ]
  },
  {
   "cell_type": "code",
   "execution_count": 63,
   "id": "47a34c4f",
   "metadata": {},
   "outputs": [],
   "source": [
    "nvda_copy.drop(['EMA'],inplace=True,axis=1)"
   ]
  },
  {
   "cell_type": "markdown",
   "id": "a809be35",
   "metadata": {},
   "source": [
    "Feature Selection using correlation matrix"
   ]
  },
  {
   "cell_type": "code",
   "execution_count": 65,
   "id": "690380d8",
   "metadata": {},
   "outputs": [
    {
     "data": {
      "text/plain": [
       "Index(['Adj Close', 'Low', 'High'], dtype='object')"
      ]
     },
     "execution_count": 65,
     "metadata": {},
     "output_type": "execute_result"
    }
   ],
   "source": [
    "correlation_matrix = nvda_copy.corr(numeric_only=True)\n",
    "relevant_features = correlation_matrix['Close'].sort_values(ascending=False).index[1:4]\n",
    "selected_features = nvda_copy[relevant_features]\n",
    "relevant_features"
   ]
  },
  {
   "cell_type": "markdown",
   "id": "f81fbffb",
   "metadata": {},
   "source": [
    "Time Series Analysis and Feature Engineering"
   ]
  },
  {
   "cell_type": "code",
   "execution_count": 21,
   "id": "3b6e7a5c",
   "metadata": {},
   "outputs": [
    {
     "data": {
      "image/png": "[encoded data removed]",
      "text/plain": [
       "<Figure size 1200x600 with 1 Axes>"
      ]
     },
     "metadata": {},
     "output_type": "display_data"
    }
   ],
   "source": [
    "plt.figure(figsize=(12, 6))\n",
    "sns.lineplot(x='High', y='Low', data=nvda_copy)\n",
    "plt.title('Time Series Data Visualization')\n",
    "plt.xlabel('Timestamp')\n",
    "plt.ylabel('Value')\n",
    "plt.show()"
   ]
  },
  {
   "cell_type": "markdown",
   "id": "986d58dc",
   "metadata": {},
   "source": [
    "Seasonal Decomposition - Allows you to break down the time series into its trends, seasonal and residual components. This can help in understanding recurring patterns and trends in the data"
   ]
  },
  {
   "cell_type": "code",
   "execution_count": 22,
   "id": "23868db4",
   "metadata": {},
   "outputs": [
    {
     "data": {
      "image/png": "[encoded data removed]",
      "text/plain": [
       "<Figure size 640x480 with 4 Axes>"
      ]
     },
     "metadata": {},
     "output_type": "display_data"
    }
   ],
   "source": [
    "from statsmodels.tsa.seasonal import seasonal_decompose\n",
    "\n",
    "# Perform seasonal decomposition\n",
    "result = seasonal_decompose(nvda_copy['Close'], model='multiplicative', period=30)\n",
    "result.plot()\n",
    "plt.show()"
   ]
  },
  {
   "cell_type": "code",
   "execution_count": 26,
   "id": "60ec8386",
   "metadata": {},
   "outputs": [
    {
     "data": {
      "image/png": "[encoded data removed]",
      "text/plain": [
       "<Figure size 1200x600 with 1 Axes>"
      ]
     },
     "metadata": {},
     "output_type": "display_data"
    }
   ],
   "source": [
    "# Visualize time series data\n",
    "\n",
    "import matplotlib.pyplot as plt\n",
    "\n",
    "plt.figure(figsize=(12, 6))\n",
    "plt.plot(train_data['Date'], train_data['Close'], label='Training Data')\n",
    "plt.xlabel('Date')\n",
    "plt.ylabel('Close Price')\n",
    "plt.title('Stock Market Closing Prices')\n",
    "plt.legend()\n",
    "plt.show()\n"
   ]
  },
  {
   "cell_type": "markdown",
   "id": "aa7e277b",
   "metadata": {},
   "source": [
    "Autocorrelation and partial autocorrelation plot: Helps identify the relationship between a time series and its lagged values"
   ]
  },
  {
   "cell_type": "code",
   "execution_count": 27,
   "id": "ec5a36bb",
   "metadata": {},
   "outputs": [
    {
     "data": {
      "image/png": "[encoded data removed]",
      "text/plain": [
       "<Figure size 640x480 with 1 Axes>"
      ]
     },
     "metadata": {},
     "output_type": "display_data"
    },
    {
     "data": {
      "image/png": "[encoded data removed]",
      "text/plain": [
       "<Figure size 640x480 with 1 Axes>"
      ]
     },
     "metadata": {},
     "output_type": "display_data"
    }
   ],
   "source": [
    "from statsmodels.graphics.tsaplots import plot_acf, plot_pacf\n",
    "\n",
    "# Autocorrelation plot\n",
    "plot_acf(train_data['Close'])\n",
    "plt.show()\n",
    "\n",
    "# Partial autocorrelation plot\n",
    "plot_pacf(train_data['Close'])\n",
    "plt.show()\n"
   ]
  },
  {
   "cell_type": "code",
   "execution_count": 29,
   "id": "bedeba7b",
   "metadata": {},
   "outputs": [
    {
     "name": "stdout",
     "output_type": "stream",
     "text": [
      "<statsmodels.tsa.statespace.mlemodel.PredictionResultsWrapper object at 0x0000013FABF3CD00>\n"
     ]
    }
   ],
   "source": [
    "import warnings\n",
    "warnings.filterwarnings(\"ignore\")\n",
    "\n",
    "# Import necessary libraries\n",
    "from statsmodels.tsa.arima.model import ARIMA\n",
    "\n",
    "# Choose ARIMA as the forecasting model\n",
    "model = ARIMA(train_data['Close'], order=(5, 1, 0))  # Example order (p, d, q)\n",
    "model_fit = model.fit()\n",
    "\n",
    "# Make predictions\n",
    "forecast_steps = len(test_data)\n",
    "predictions = model_fit.get_forecast(steps=forecast_steps)\n",
    "\n",
    "# Create a proper datetime index for the predictions\n",
    "prediction_index = pd.date_range(start=test_data['Date'].iloc[0], periods=forecast_steps, freq='B')\n",
    "\n",
    "# Attach the predictions to the index\n",
    "predictions.index = prediction_index\n",
    "\n",
    "# Print or use the predictions as needed\n",
    "print(predictions)\n",
    "\n",
    "# Restore warnings to default behavior if needed\n",
    "warnings.filterwarnings(\"default\")\n",
    "\n"
   ]
  },
  {
   "cell_type": "code",
   "execution_count": 66,
   "id": "cbfde474",
   "metadata": {},
   "outputs": [],
   "source": [
    "# Make predictions using the model\n",
    "predictions = model_fit.forecast(steps=len(test_data))\n",
    "\n",
    "# Calculate evaluation metrics\n",
    "from sklearn.metrics import mean_absolute_error, mean_squared_error\n",
    "mae = mean_absolute_error(test_data['Close'], predictions)\n",
    "rmse = np.sqrt(mean_squared_error(test_data['Close'], predictions))"
   ]
  },
  {
   "cell_type": "markdown",
   "id": "7fd9bcaf",
   "metadata": {},
   "source": [
    "### Proof of correctness"
   ]
  },
  {
   "cell_type": "markdown",
   "id": "fd6c766b",
   "metadata": {},
   "source": [
    "Model performance Evaluation"
   ]
  },
  {
   "cell_type": "code",
   "execution_count": 67,
   "id": "92888316",
   "metadata": {},
   "outputs": [
    {
     "name": "stdout",
     "output_type": "stream",
     "text": [
      "Mean Absolute Error: 47.86841605105676\n",
      "Root Mean Squared Error: 60.81240410414785\n"
     ]
    }
   ],
   "source": [
    "print(f'Mean Absolute Error: {mae}')\n",
    "print(f'Root Mean Squared Error: {rmse}')\n"
   ]
  },
  {
   "cell_type": "markdown",
   "id": "c7df77e2",
   "metadata": {},
   "source": [
    "Comparative Analysis"
   ]
  },
  {
   "cell_type": "code",
   "execution_count": 68,
   "id": "244c29eb",
   "metadata": {},
   "outputs": [
    {
     "name": "stdout",
     "output_type": "stream",
     "text": [
      "Baseline Model MAE: 1.475079631236628\n",
      "Baseline Model RMSE: 2.395910865334919\n"
     ]
    }
   ],
   "source": [
    "# Baseline model: Predicting next day's price as today's price\n",
    "baseline_predictions = test_data['Close'].shift(-1).dropna()\n",
    "baseline_mae = mean_absolute_error(test_data['Close'][:-1], baseline_predictions)\n",
    "baseline_rmse = np.sqrt(mean_squared_error(test_data['Close'][:-1], baseline_predictions))\n",
    "print(f'Baseline Model MAE: {baseline_mae}')\n",
    "print(f'Baseline Model RMSE: {baseline_rmse}')\n"
   ]
  },
  {
   "cell_type": "code",
   "execution_count": 69,
   "id": "9d472470",
   "metadata": {},
   "outputs": [
    {
     "data": {
      "image/png": "[encoded data removed]",
      "text/plain": [
       "<Figure size 1200x600 with 1 Axes>"
      ]
     },
     "metadata": {},
     "output_type": "display_data"
    }
   ],
   "source": [
    "plt.figure(figsize=(12, 6))\n",
    "plt.plot(test_data['Date'], test_data['Close'], label='Actual Closing Prices')\n",
    "plt.plot(test_data['Date'], predictions, label='Predicted Closing Prices')\n",
    "plt.xlabel('Date')\n",
    "plt.ylabel('Close Price')\n",
    "plt.title('Stock Market Closing Price Prediction')\n",
    "plt.legend()\n",
    "plt.show()\n"
   ]
  },
  {
   "cell_type": "code",
   "execution_count": 72,
   "id": "ed574068",
   "metadata": {},
   "outputs": [
    {
     "data": {
      "text/html": [
       "<div>\n",
       "<style scoped>\n",
       "    .dataframe tbody tr th:only-of-type {\n",
       "        vertical-align: middle;\n",
       "    }\n",
       "\n",
       "    .dataframe tbody tr th {\n",
       "        vertical-align: top;\n",
       "    }\n",
       "\n",
       "    .dataframe thead th {\n",
       "        text-align: right;\n",
       "    }\n",
       "</style>\n",
       "<table border=\"1\" class=\"dataframe\">\n",
       "  <thead>\n",
       "    <tr style=\"text-align: right;\">\n",
       "      <th></th>\n",
       "      <th>Date</th>\n",
       "      <th>Open</th>\n",
       "      <th>High</th>\n",
       "      <th>Low</th>\n",
       "      <th>Close</th>\n",
       "      <th>Adj Close</th>\n",
       "      <th>Volume</th>\n",
       "    </tr>\n",
       "  </thead>\n",
       "  <tbody>\n",
       "    <tr>\n",
       "      <th>0</th>\n",
       "      <td>2014-10-21</td>\n",
       "      <td>0.44250</td>\n",
       "      <td>0.45850</td>\n",
       "      <td>0.44125</td>\n",
       "      <td>0.45800</td>\n",
       "      <td>0.437879</td>\n",
       "      <td>351092000</td>\n",
       "    </tr>\n",
       "    <tr>\n",
       "      <th>1</th>\n",
       "      <td>2014-10-22</td>\n",
       "      <td>0.45725</td>\n",
       "      <td>0.45875</td>\n",
       "      <td>0.44725</td>\n",
       "      <td>0.44725</td>\n",
       "      <td>0.427601</td>\n",
       "      <td>239512000</td>\n",
       "    </tr>\n",
       "    <tr>\n",
       "      <th>2</th>\n",
       "      <td>2014-10-23</td>\n",
       "      <td>0.45500</td>\n",
       "      <td>0.46050</td>\n",
       "      <td>0.45175</td>\n",
       "      <td>0.45725</td>\n",
       "      <td>0.437162</td>\n",
       "      <td>214476000</td>\n",
       "    </tr>\n",
       "    <tr>\n",
       "      <th>3</th>\n",
       "      <td>2014-10-24</td>\n",
       "      <td>0.46000</td>\n",
       "      <td>0.46475</td>\n",
       "      <td>0.45725</td>\n",
       "      <td>0.46200</td>\n",
       "      <td>0.441703</td>\n",
       "      <td>210156000</td>\n",
       "    </tr>\n",
       "    <tr>\n",
       "      <th>4</th>\n",
       "      <td>2014-10-27</td>\n",
       "      <td>0.46175</td>\n",
       "      <td>0.46400</td>\n",
       "      <td>0.45675</td>\n",
       "      <td>0.46225</td>\n",
       "      <td>0.441942</td>\n",
       "      <td>145092000</td>\n",
       "    </tr>\n",
       "  </tbody>\n",
       "</table>\n",
       "</div>"
      ],
      "text/plain": [
       "        Date     Open     High      Low    Close  Adj Close     Volume\n",
       "0 2014-10-21  0.44250  0.45850  0.44125  0.45800   0.437879  351092000\n",
       "1 2014-10-22  0.45725  0.45875  0.44725  0.44725   0.427601  239512000\n",
       "2 2014-10-23  0.45500  0.46050  0.45175  0.45725   0.437162  214476000\n",
       "3 2014-10-24  0.46000  0.46475  0.45725  0.46200   0.441703  210156000\n",
       "4 2014-10-27  0.46175  0.46400  0.45675  0.46225   0.441942  145092000"
      ]
     },
     "execution_count": 72,
     "metadata": {},
     "output_type": "execute_result"
    }
   ],
   "source": [
    "train_data.head()"
   ]
  },
  {
   "cell_type": "code",
   "execution_count": null,
   "id": "c312771b",
   "metadata": {},
   "outputs": [],
   "source": [
    "import statsmodels.api as sm\n",
    "from statsmodels.tsa.stattools import acf, pacf\n",
    "from statsmodels.graphics.tsaplots import plot_acf, plot_pacf\n",
    "\n",
    "\n",
    "# Determine p and q using ACF and PACF plots\n",
    "lag_acf = acf(data['High'], nlags=20)\n",
    "lag_pacf = pacf(data['High'], nlags=20, method='ols')\n",
    "\n",
    "\n",
    "\n",
    "# Plot ACF\n",
    "plt.figure(figsize=(12, 6))\n",
    "plt.subplot(121)\n",
    "plot_acf(data['High'], ax=plt.gca(), lags=20)\n",
    "\n",
    "# Plot PACF\n",
    "plt.subplot(122)\n",
    "plot_pacf(data['High'], ax=plt.gca(), lags=20)\n",
    "\n",
    "plt.show()"
   ]
  },
  {
   "cell_type": "markdown",
   "id": "682cd96b",
   "metadata": {},
   "source": [
    "7. Code Implementation:\n",
    "\n",
    "Clear and well-documented code that is easy to follow\n",
    "Efficient and optimized code with explanations for each step\n",
    "Use of appropriate libraries and frameworks relevant to the problem\n",
    "Ensure code is error-free and includes necessary exception handling."
   ]
  },
  {
   "cell_type": "markdown",
   "id": "84794c33",
   "metadata": {},
   "source": [
    "8. Conclusion:\n",
    "\n",
    "Summary of key findings\n",
    "Reflection on the effectiveness of the approach\n",
    "Suggestions for potential improvements or future work\n"
   ]
  },
  {
   "cell_type": "markdown",
   "id": "affcab15",
   "metadata": {},
   "source": [
    "9. References & License:\n",
    "\n",
    "Accurate and relevant citations of sources used\n",
    "Clearly state the license under which the code and data are shared"
   ]
  },
  {
   "cell_type": "code",
   "execution_count": 14,
   "id": "a0c969a5",
   "metadata": {},
   "outputs": [
    {
     "data": {
      "image/png": "[encoded data removed]",
      "text/plain": [
       "<Figure size 1000x600 with 1 Axes>"
      ]
     },
     "metadata": {},
     "output_type": "display_data"
    }
   ],
   "source": [
    "plt.figure(figsize=(10, 6))\n",
    "plt.plot(nvda_df['Close'], label='Close Price')\n",
    "plt.title('NVIDIA Stock Price')\n",
    "plt.xlabel('Date')\n",
    "plt.ylabel('Price')\n",
    "plt.legend()\n",
    "plt.show()\n"
   ]
  },
  {
   "cell_type": "code",
   "execution_count": null,
   "id": "85e2fea5",
   "metadata": {},
   "outputs": [],
   "source": [
    "# Perform ARIMA forecasting\n",
    "# ARIMA model requires the data to be in a time series format\n",
    "# We'll use the 'Close' prices for time series forecasting\n",
    "\n",
    "# Plot the historical data\n",
    "\n",
    "# Fit the ARIMA model on the closing prices\n",
    "model = ARIMA(nvidia_stock['Close'], order=(5,1,0))  # ARIMA(p,d,q)\n",
    "model_fit = model.fit()\n",
    "\n",
    "# Make a forecast\n",
    "forecast = model_fit.forecast(steps=30)  # Forecast the next 30 days\n",
    "print(forecast)\n",
    "\n",
    "# Plot the forecast\n",
    "plt.figure(figsize=(10, 6))\n",
    "plt.plot(nvidia_stock['Close'], label='Historical Stock Price')\n",
    "plt.plot(forecast, label='Forecasted Price', color='red')\n",
    "plt.title('NVIDIA Stock Price Forecast')\n",
    "plt.xlabel('Date')\n",
    "plt.ylabel('Price')\n",
    "plt.legend()\n",
    "plt.show()\n"
   ]
  },
  {
   "cell_type": "code",
   "execution_count": 74,
   "id": "c59f6cee",
   "metadata": {},
   "outputs": [
    {
     "name": "stdout",
     "output_type": "stream",
     "text": [
      "Collecting pmdarima\n",
      "  Downloading pmdarima-2.0.4-cp310-cp310-win_amd64.whl.metadata (8.0 kB)\n",
      "Requirement already satisfied: joblib>=0.11 in c:\\users\\visho\\anaconda3\\lib\\site-packages (from pmdarima) (1.2.0)\n",
      "Collecting Cython!=0.29.18,!=0.29.31,>=0.29 (from pmdarima)\n",
      "  Downloading Cython-3.0.11-cp310-cp310-win_amd64.whl.metadata (3.2 kB)\n",
      "Requirement already satisfied: numpy>=1.21.2 in c:\\users\\visho\\anaconda3\\lib\\site-packages (from pmdarima) (1.22.1)\n",
      "Requirement already satisfied: pandas>=0.19 in c:\\users\\visho\\anaconda3\\lib\\site-packages (from pmdarima) (2.0.3)\n",
      "Requirement already satisfied: scikit-learn>=0.22 in c:\\users\\visho\\anaconda3\\lib\\site-packages (from pmdarima) (1.3.0)\n",
      "Requirement already satisfied: scipy>=1.3.2 in c:\\users\\visho\\anaconda3\\lib\\site-packages (from pmdarima) (1.10.1)\n",
      "Requirement already satisfied: statsmodels>=0.13.2 in c:\\users\\visho\\anaconda3\\lib\\site-packages (from pmdarima) (0.14.1)\n",
      "Requirement already satisfied: urllib3 in c:\\users\\visho\\anaconda3\\lib\\site-packages (from pmdarima) (1.26.18)\n",
      "Requirement already satisfied: setuptools!=50.0.0,>=38.6.0 in c:\\users\\visho\\anaconda3\\lib\\site-packages (from pmdarima) (68.2.2)\n",
      "Requirement already satisfied: packaging>=17.1 in c:\\users\\visho\\anaconda3\\lib\\site-packages (from pmdarima) (23.1)\n",
      "Requirement already satisfied: python-dateutil>=2.8.2 in c:\\users\\visho\\anaconda3\\lib\\site-packages (from pandas>=0.19->pmdarima) (2.8.2)\n",
      "Requirement already satisfied: pytz>=2020.1 in c:\\users\\visho\\anaconda3\\lib\\site-packages (from pandas>=0.19->pmdarima) (2023.3.post1)\n",
      "Requirement already satisfied: tzdata>=2022.1 in c:\\users\\visho\\anaconda3\\lib\\site-packages (from pandas>=0.19->pmdarima) (2023.3)\n",
      "Requirement already satisfied: threadpoolctl>=2.0.0 in c:\\users\\visho\\anaconda3\\lib\\site-packages (from scikit-learn>=0.22->pmdarima) (2.2.0)\n",
      "Requirement already satisfied: patsy>=0.5.4 in c:\\users\\visho\\anaconda3\\lib\\site-packages (from statsmodels>=0.13.2->pmdarima) (0.5.6)\n",
      "Collecting numpy>=1.21.2 (from pmdarima)\n",
      "  Downloading numpy-1.26.4-cp310-cp310-win_amd64.whl.metadata (61 kB)\n",
      "     ---------------------------------------- 0.0/61.0 kB ? eta -:--:--\n",
      "     ------ --------------------------------- 10.2/61.0 kB ? eta -:--:--\n",
      "     ------------------------------- ------ 51.2/61.0 kB 871.5 kB/s eta 0:00:01\n",
      "     -------------------------------------- 61.0/61.0 kB 806.3 kB/s eta 0:00:00\n",
      "Requirement already satisfied: six in c:\\users\\visho\\anaconda3\\lib\\site-packages (from patsy>=0.5.4->statsmodels>=0.13.2->pmdarima) (1.16.0)\n",
      "Downloading pmdarima-2.0.4-cp310-cp310-win_amd64.whl (613 kB)\n",
      "   ---------------------------------------- 0.0/613.3 kB ? eta -:--:--\n",
      "   ------------- -------------------------- 204.8/613.3 kB 6.3 MB/s eta 0:00:01\n",
      "   ---------------------------------------- 613.3/613.3 kB 7.7 MB/s eta 0:00:00\n",
      "Downloading Cython-3.0.11-cp310-cp310-win_amd64.whl (2.8 MB)\n",
      "   ---------------------------------------- 0.0/2.8 MB ? eta -:--:--\n",
      "   ------------------------------------ --- 2.5/2.8 MB 81.9 MB/s eta 0:00:01\n",
      "   ---------------------------------------- 2.8/2.8 MB 58.9 MB/s eta 0:00:00\n",
      "Downloading numpy-1.26.4-cp310-cp310-win_amd64.whl (15.8 MB)\n",
      "   ---------------------------------------- 0.0/15.8 MB ? eta -:--:--\n",
      "   ---------- ----------------------------- 4.1/15.8 MB 131.1 MB/s eta 0:00:01\n",
      "   ------------------------ --------------- 9.7/15.8 MB 123.7 MB/s eta 0:00:01\n",
      "   ----------------------------------- ---- 13.9/15.8 MB 108.8 MB/s eta 0:00:01\n",
      "   ---------------------------------------- 15.8/15.8 MB 81.8 MB/s eta 0:00:00\n",
      "Installing collected packages: numpy, Cython, pmdarima\n",
      "  Attempting uninstall: numpy\n",
      "    Found existing installation: numpy 1.22.1\n",
      "    Uninstalling numpy-1.22.1:\n",
      "      Successfully uninstalled numpy-1.22.1\n",
      "Successfully installed Cython-3.0.11 numpy-1.24.3 pmdarima-2.0.4\n",
      "Note: you may need to restart the kernel to use updated packages.\n"
     ]
    },
    {
     "name": "stderr",
     "output_type": "stream",
     "text": [
      "ERROR: pip's dependency resolver does not currently take into account all the packages that are installed. This behaviour is the source of the following dependency conflicts.\n",
      "pymc3 3.11.5 requires numpy<1.22.2,>=1.15.0, but you have numpy 1.26.4 which is incompatible.\n",
      "pymc3 3.11.5 requires scipy<1.8.0,>=1.7.3, but you have scipy 1.10.1 which is incompatible.\n",
      "C:\\Users\\visho\\anaconda3\\lib\\site-packages\\IPython\\utils\\_process_win32.py:124: ResourceWarning: unclosed file <_io.BufferedWriter name=4>\n",
      "  return process_handler(cmd, _system_body)\n",
      "ResourceWarning: Enable tracemalloc to get the object allocation traceback\n",
      "C:\\Users\\visho\\anaconda3\\lib\\site-packages\\IPython\\utils\\_process_win32.py:124: ResourceWarning: unclosed file <_io.BufferedReader name=5>\n",
      "  return process_handler(cmd, _system_body)\n",
      "ResourceWarning: Enable tracemalloc to get the object allocation traceback\n",
      "C:\\Users\\visho\\anaconda3\\lib\\site-packages\\IPython\\utils\\_process_win32.py:124: ResourceWarning: unclosed file <_io.BufferedReader name=6>\n",
      "  return process_handler(cmd, _system_body)\n",
      "ResourceWarning: Enable tracemalloc to get the object allocation traceback\n"
     ]
    }
   ],
   "source": [
    "%pip install pmdarima"
   ]
  },
  {
   "cell_type": "code",
   "execution_count": 75,
   "id": "5033089b",
   "metadata": {},
   "outputs": [
    {
     "name": "stdout",
     "output_type": "stream",
     "text": [
      "Performing stepwise search to minimize aic\n",
      " ARIMA(1,0,1)(0,1,1)[12] intercept   : AIC=inf, Time=9.90 sec\n",
      " ARIMA(0,0,0)(0,1,0)[12] intercept   : AIC=6628.101, Time=0.11 sec\n",
      " ARIMA(1,0,0)(1,1,0)[12] intercept   : AIC=2393.902, Time=3.14 sec\n",
      " ARIMA(0,0,1)(0,1,1)[12] intercept   : AIC=4816.366, Time=2.47 sec\n",
      " ARIMA(0,0,0)(0,1,0)[12]             : AIC=6632.224, Time=0.10 sec\n",
      " ARIMA(1,0,0)(0,1,0)[12] intercept   : AIC=2927.930, Time=0.54 sec\n",
      " ARIMA(1,0,0)(2,1,0)[12] intercept   : AIC=2186.129, Time=7.38 sec\n",
      " ARIMA(1,0,0)(2,1,1)[12] intercept   : AIC=inf, Time=15.83 sec\n",
      " ARIMA(1,0,0)(1,1,1)[12] intercept   : AIC=inf, Time=9.43 sec\n",
      " ARIMA(0,0,0)(2,1,0)[12] intercept   : AIC=6624.477, Time=2.17 sec\n",
      " ARIMA(2,0,0)(2,1,0)[12] intercept   : AIC=2185.387, Time=8.12 sec\n",
      " ARIMA(2,0,0)(1,1,0)[12] intercept   : AIC=2395.684, Time=5.10 sec\n",
      " ARIMA(2,0,0)(2,1,1)[12] intercept   : AIC=inf, Time=23.04 sec\n",
      " ARIMA(2,0,0)(1,1,1)[12] intercept   : AIC=inf, Time=12.62 sec\n",
      " ARIMA(3,0,0)(2,1,0)[12] intercept   : AIC=2187.362, Time=11.33 sec\n",
      " ARIMA(2,0,1)(2,1,0)[12] intercept   : AIC=inf, Time=24.23 sec\n",
      " ARIMA(1,0,1)(2,1,0)[12] intercept   : AIC=2185.419, Time=8.34 sec\n",
      " ARIMA(3,0,1)(2,1,0)[12] intercept   : AIC=inf, Time=27.82 sec\n",
      " ARIMA(2,0,0)(2,1,0)[12]             : AIC=2183.547, Time=2.35 sec\n",
      " ARIMA(2,0,0)(1,1,0)[12]             : AIC=2393.921, Time=1.44 sec\n",
      " ARIMA(2,0,0)(2,1,1)[12]             : AIC=inf, Time=16.80 sec\n",
      " ARIMA(2,0,0)(1,1,1)[12]             : AIC=inf, Time=8.06 sec\n",
      " ARIMA(1,0,0)(2,1,0)[12]             : AIC=2184.312, Time=2.09 sec\n",
      " ARIMA(3,0,0)(2,1,0)[12]             : AIC=2185.524, Time=3.27 sec\n",
      " ARIMA(2,0,1)(2,1,0)[12]             : AIC=inf, Time=10.46 sec\n",
      " ARIMA(1,0,1)(2,1,0)[12]             : AIC=2183.578, Time=2.47 sec\n",
      " ARIMA(3,0,1)(2,1,0)[12]             : AIC=inf, Time=11.36 sec\n",
      "\n",
      "Best model:  ARIMA(2,0,0)(2,1,0)[12]          \n",
      "Total fit time: 230.019 seconds\n",
      "                               SARIMAX Results                                \n",
      "==============================================================================\n",
      "Dep. Variable:                  Close   No. Observations:                 2012\n",
      "Model:                 ARIMA(2, 0, 0)   Log Likelihood                -820.513\n",
      "Date:                Sun, 20 Oct 2024   AIC                           1649.027\n",
      "Time:                        23:54:31   BIC                           1671.455\n",
      "Sample:                             0   HQIC                          1657.259\n",
      "                               - 2012                                         \n",
      "Covariance Type:                  opg                                         \n",
      "==============================================================================\n",
      "                 coef    std err          z      P>|z|      [0.025      0.975]\n",
      "------------------------------------------------------------------------------\n",
      "const          7.6063      6.090      1.249      0.212      -4.330      19.543\n",
      "ar.L1          0.9509      0.011     85.573      0.000       0.929       0.973\n",
      "ar.L2          0.0478      0.011      4.317      0.000       0.026       0.070\n",
      "sigma2         0.1320      0.002     85.243      0.000       0.129       0.135\n",
      "===================================================================================\n",
      "Ljung-Box (L1) (Q):                   0.00   Jarque-Bera (JB):             14512.75\n",
      "Prob(Q):                              0.95   Prob(JB):                         0.00\n",
      "Heteroskedasticity (H):             158.37   Skew:                             0.57\n",
      "Prob(H) (two-sided):                  0.00   Kurtosis:                        16.11\n",
      "===================================================================================\n",
      "\n",
      "Warnings:\n",
      "[1] Covariance matrix calculated using the outer product of gradients (complex-step).\n"
     ]
    },
    {
     "ename": "AttributeError",
     "evalue": "'RangeIndex' object has no attribute 'freq'",
     "output_type": "error",
     "traceback": [
      "\u001b[1;31m---------------------------------------------------------------------------\u001b[0m",
      "\u001b[1;31mAttributeError\u001b[0m                            Traceback (most recent call last)",
      "Cell \u001b[1;32mIn[75], line 33\u001b[0m\n\u001b[0;32m     30\u001b[0m forecast \u001b[38;5;241m=\u001b[39m model_fit\u001b[38;5;241m.\u001b[39mforecast(steps\u001b[38;5;241m=\u001b[39mn_periods)\n\u001b[0;32m     32\u001b[0m \u001b[38;5;66;03m# Create a range of future dates for the forecasted data\u001b[39;00m\n\u001b[1;32m---> 33\u001b[0m forecast_index \u001b[38;5;241m=\u001b[39m pd\u001b[38;5;241m.\u001b[39mdate_range(train_data\u001b[38;5;241m.\u001b[39mindex[\u001b[38;5;241m-\u001b[39m\u001b[38;5;241m1\u001b[39m], periods\u001b[38;5;241m=\u001b[39mn_periods, freq\u001b[38;5;241m=\u001b[39m\u001b[43mtrain_data\u001b[49m\u001b[38;5;241;43m.\u001b[39;49m\u001b[43mindex\u001b[49m\u001b[38;5;241;43m.\u001b[39;49m\u001b[43mfreq\u001b[49m)\n\u001b[0;32m     35\u001b[0m \u001b[38;5;66;03m# Create a new DataFrame for the forecasted data\u001b[39;00m\n\u001b[0;32m     36\u001b[0m forecast_df \u001b[38;5;241m=\u001b[39m pd\u001b[38;5;241m.\u001b[39mDataFrame(forecast, index\u001b[38;5;241m=\u001b[39mforecast_index, columns\u001b[38;5;241m=\u001b[39m[\u001b[38;5;124m'\u001b[39m\u001b[38;5;124mForecast\u001b[39m\u001b[38;5;124m'\u001b[39m])\n",
      "\u001b[1;31mAttributeError\u001b[0m: 'RangeIndex' object has no attribute 'freq'"
     ]
    }
   ],
   "source": [
    "# Import necessary libraries\n",
    "import pandas as pd\n",
    "import numpy as np\n",
    "import matplotlib.pyplot as plt\n",
    "from statsmodels.tsa.arima.model import ARIMA\n",
    "from pmdarima.arima import auto_arima\n",
    "\n",
    "\n",
    "stepwise_fit = auto_arima(train_data['Close'], start_p=1, start_q=1,\n",
    "                          max_p=3, max_q=3, m=12,\n",
    "                          start_P=0, seasonal=True,\n",
    "                          d=None, D=1, trace=True,\n",
    "                          error_action='ignore',  \n",
    "                          suppress_warnings=True, \n",
    "                          stepwise=True)\n",
    "\n",
    "# Fit the ARIMA model with the best parameters\n",
    "model = ARIMA(train_data['Close'], order=stepwise_fit.order)\n",
    "model_fit = model.fit()\n",
    "\n",
    "# Summary of the model\n",
    "print(model_fit.summary())\n",
    "\n",
    "\n",
    "\n",
    "\n",
    "\n",
    "# Forecast future values using the ARIMA model\n",
    "n_periods = 30  # Number of periods to forecast\n",
    "forecast = model_fit.forecast(steps=n_periods)\n",
    "\n",
    "# Create a range of future dates for the forecasted data\n",
    "forecast_index = pd.date_range(train_data.index[-1], periods=n_periods, freq=train_data.index.freq)\n",
    "\n",
    "# Create a new DataFrame for the forecasted data\n",
    "forecast_df = pd.DataFrame(forecast, index=forecast_index, columns=['Forecast'])\n",
    "\n",
    "# Visualize the original data and the forecasted values\n",
    "plt.figure(figsize=(12, 6))\n",
    "plt.plot(data.index, data['Close'], label='Historical Data')\n",
    "plt.plot(forecast_df.index, forecast_df['Forecast'], label='Forecasted Data', color='red')\n",
    "plt.xlabel('Date')\n",
    "plt.ylabel('Closing Price')\n",
    "plt.title('S&P 500 Closing Price Forecast using ARIMA')\n",
    "plt.legend()\n",
    "plt.show()\n",
    "\n"
   ]
  },
  {
   "cell_type": "markdown",
   "id": "a087a15f",
   "metadata": {},
   "source": [
    "## Conclusion"
   ]
  },
  {
   "cell_type": "markdown",
   "id": "45cd35ce",
   "metadata": {},
   "source": [
    "The ARIMA model performs well when there is clear seasonality. <br>\n",
    "In cases like stock market forecasting where seasonality cannot be noticed, the model might not work as well"
   ]
  },
  {
   "cell_type": "markdown",
   "id": "96d2d12f",
   "metadata": {},
   "source": [
    "## References"
   ]
  },
  {
   "cell_type": "markdown",
   "id": "f7fe7f6d",
   "metadata": {},
   "source": [
    "https://www.mastersindatascience.org/learning/statistics-data-science/what-is-arima-modeling/\n",
    "\n",
    "https://machinelearningmastery.com/arima-for-time-series-forecasting-with-python/\n",
    "\n",
    "https://www.investopedia.com/terms/a/autoregressive-integrated-moving-average-arima.asp"
   ]
  },
  {
   "cell_type": "markdown",
   "id": "21650628",
   "metadata": {},
   "source": [
    "## License"
   ]
  },
  {
   "cell_type": "markdown",
   "id": "0034f25d",
   "metadata": {},
   "source": [
    "Copyright (c) 2024 Nagapriyatham Pindi, Vishodhan Krishnan\n",
    "Permission is hereby granted, free of charge, to any person obtaining a copy\n",
    "of this software and associated documentation files (the \"Software\"), to deal\n",
    "in the Software without restriction, including without limitation the rights\n",
    "to use, copy, modify, merge, publish, distribute, sublicense, and/or sell\n",
    "copies of the Software, and to permit persons to whom the Software is\n",
    "furnished to do so, subject to the following conditions:\n",
    "\n",
    "The above copyright notice and this permission notice shall be included in all\n",
    "copies or substantial portions of the Software.\n",
    "\n",
    "THE SOFTWARE IS PROVIDED \"AS IS\", WITHOUT WARRANTY OF ANY KIND, EXPRESS OR\n",
    "IMPLIED, INCLUDING BUT NOT LIMITED TO THE WARRANTIES OF MERCHANTABILITY,\n",
    "FITNESS FOR A PARTICULAR PURPOSE AND NONINFRINGEMENT. IN NO EVENT SHALL THE\n",
    "AUTHORS OR COPYRIGHT HOLDERS BE LIABLE FOR ANY CLAIM, DAMAGES OR OTHER\n",
    "LIABILITY, WHETHER IN AN ACTION OF CONTRACT, TORT OR OTHERWISE, ARISING FROM,\n",
    "OUT OF OR IN CONNECTION WITH THE SOFTWARE OR THE USE OR OTHER DEALINGS IN THE\n",
    "SOFTWARE."
   ]
  }
 ],
 "metadata": {
  "kernelspec": {
   "display_name": "Python 3 (ipykernel)",
   "language": "python",
   "name": "python3"
  },
  "language_info": {
   "codemirror_mode": {
    "name": "ipython",
    "version": 3
   },
   "file_extension": ".py",
   "mimetype": "text/x-python",
   "name": "python",
   "nbconvert_exporter": "python",
   "pygments_lexer": "ipython3",
   "version": "3.10.13"
  }
 },
 "nbformat": 4,
 "nbformat_minor": 5
}
