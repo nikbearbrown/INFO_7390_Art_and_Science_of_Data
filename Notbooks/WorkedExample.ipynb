{
 "cells": [
  {
   "cell_type": "markdown",
   "id": "0e155622-6d5e-4286-8a8a-90984293793e",
   "metadata": {},
   "source": [
    "**Worked Example 1: Causal Analysis in Healthcare Dataset**"
   ]
  },
  {
   "cell_type": "markdown",
   "id": "8b5ba530-d868-4e9b-9483-0b61708bb710",
   "metadata": {},
   "source": [
    "*Objective*\n",
    "\n",
    "Estimate the effect of Aspirin (a specific medication) on patient health outcomes.\r\n",
    "*\r\n",
    "Dataset Descripti*on\r\n",
    "The healthcare dataset contains information about patients, including their age, gender, medical condition, medication administered, and test results."
   ]
  },
  {
   "cell_type": "markdown",
   "id": "87493950-fdc6-4b89-ae49-6aa268a642d3",
   "metadata": {},
   "source": [
    "*Steps for Analysis*"
   ]
  },
  {
   "cell_type": "markdown",
   "id": "563efc44-6af0-44b8-8a4d-ef96e3aaae69",
   "metadata": {},
   "source": [
    "**Step 1: Data Preparation**\n",
    "\n",
    "Hypothesis:\n",
    "\n",
    "Cleaning, dealing with missing values, and encoding categorical variables are all part of data preparation.\n",
    "\n",
    "Accurate analysis is ensured by clean data, which is crucial in healthcare settings.\n"
   ]
  },
  {
   "cell_type": "code",
   "execution_count": 2,
   "id": "102e3bfa-4fe9-4a96-8b78-d39984a90d6b",
   "metadata": {},
   "outputs": [],
   "source": [
    "import pandas as pd\n",
    "import numpy as np\n",
    "from sklearn.preprocessing import OneHotEncoder\n",
    "\n",
    "# Load the dataset\n",
    "df = pd.read_csv('https://raw.githubusercontent.com/Tanvivalkunde/ADSA/main/healthcare_dataset.csv')\n",
    "\n",
    "# Assume missing values handling and other cleaning processes are done\n",
    "\n",
    "# Encoding categorical variables (e.g., Gender, Medical Condition)\n",
    "encoder = OneHotEncoder()\n",
    "categorical_variables = ['Gender', 'Medical Condition']\n",
    "encoded_vars = encoder.fit_transform(df[categorical_variables]).toarray()\n"
   ]
  },
  {
   "cell_type": "markdown",
   "id": "90801e38-9f99-4789-9cfe-590d71fed551",
   "metadata": {},
   "source": [
    "**Step 2: Define Treatment and Outcome**\n",
    "\n",
    "Theory:\n",
    "\n",
    "Treatment is the intervention or exposure of interest, here represented by the use of Aspirin.\n",
    "\n",
    "The outcome is the variable we want to study the effect on, such as the patient's health condition, measured through 'Test Results'."
   ]
  },
  {
   "cell_type": "code",
   "execution_count": 3,
   "id": "19260bc1-299b-4dfe-b13a-8172a537d9f0",
   "metadata": {},
   "outputs": [],
   "source": [
    "# Defining the treatment - Taking Aspirin as a binary treatment variable\n",
    "df['treatment'] = np.where(df['Medication'] == 'Aspirin', 1, 0)\n",
    "\n",
    "# Assuming 'Test Results' is a binary outcome (e.g., 1 for positive, 0 for negative)\n",
    "# This encoding depends on how 'Test Results' are recorded\n",
    "df['outcome'] = np.where(df['Test Results'] == 'Positive', 1, 0)\n"
   ]
  },
  {
   "cell_type": "markdown",
   "id": "93bbbda5-aec2-4cc2-a2ce-753087b37b9d",
   "metadata": {},
   "source": [
    "**Step 3: Propensity Score Estimation**\n",
    "\n",
    "Theory:\n",
    "\n",
    "Propensity score is the probability of receiving the treatment based on observed characteristics.\n",
    "\n",
    "Logistic regression is commonly used to estimate propensity scores."
   ]
  },
  {
   "cell_type": "code",
   "execution_count": 4,
   "id": "65964d58-172f-4133-acc4-23688c50b5fe",
   "metadata": {},
   "outputs": [],
   "source": [
    "from sklearn.linear_model import LogisticRegression\n",
    "\n",
    "# Combining encoded categorical variables with other covariates\n",
    "covariates = np.concatenate([encoded_vars, df[['Age']]], axis=1)\n",
    "\n",
    "# Logistic Regression to estimate propensity scores\n",
    "model = LogisticRegression()\n",
    "model.fit(covariates, df['treatment'])\n",
    "df['propensity_score'] = model.predict_proba(covariates)[:, 1]\n"
   ]
  },
  {
   "cell_type": "markdown",
   "id": "047d8698-a046-449f-a436-5a4c190f6f92",
   "metadata": {},
   "source": [
    "**Step 4: Matching**\n",
    "\n",
    "Theory:\n",
    "\n",
    "Matching involves pairing each treated unit with one or more control units with similar propensity scores.\n",
    "\n",
    "This step aims to balance the distribution of observed characteristics between treated and control groups."
   ]
  },
  {
   "cell_type": "code",
   "execution_count": 5,
   "id": "7cacc6d9-936e-4295-9e23-9b0eb2ff78d1",
   "metadata": {},
   "outputs": [],
   "source": [
    "# Implementing a basic nearest neighbor matching within a caliper\n",
    "def match_units(treated_df, control_df, caliper=0.05):\n",
    "    matched = []\n",
    "    for i, row in treated_df.iterrows():\n",
    "        control_pool = control_df[np.abs(control_df['propensity_score'] - row['propensity_score']) < caliper]\n",
    "        if not control_pool.empty:\n",
    "            match = control_pool.iloc[0]\n",
    "            matched.append(match)\n",
    "            control_df = control_df.drop(match.name)\n",
    "    return pd.DataFrame(matched)\n",
    "\n",
    "treated = df[df['treatment'] == 1]\n",
    "control = df[df['treatment'] == 0]\n",
    "matched_control = match_units(treated, control)\n"
   ]
  },
  {
   "cell_type": "markdown",
   "id": "76893057-032c-44d9-804e-c86e36882152",
   "metadata": {},
   "source": [
    "**Step 5: Estimate Treatment Effect**\n",
    "    \n",
    "Theory:\n",
    "\n",
    "The treatment effect is estimated by comparing the outcomes between matched treated and control groups.\n",
    "\n",
    "This comparison aims to reveal the causal effect of the treatment."
   ]
  },
  {
   "cell_type": "code",
   "execution_count": 6,
   "id": "4de18fba-fb37-41b2-9464-e2721d9eb5a9",
   "metadata": {},
   "outputs": [
    {
     "name": "stdout",
     "output_type": "stream",
     "text": [
      "Estimated Treatment Effect: 0.0\n"
     ]
    }
   ],
   "source": [
    "# Comparing outcomes between matched treatment and control groups\n",
    "treated_outcomes = treated['outcome']\n",
    "control_outcomes = matched_control['outcome']\n",
    "effect_estimate = treated_outcomes.mean() - control_outcomes.mean()\n",
    "\n",
    "print(\"Estimated Treatment Effect:\", effect_estimate)\n"
   ]
  },
  {
   "cell_type": "markdown",
   "id": "0463442a-e7bd-465e-b45b-349b1d11acdc",
   "metadata": {},
   "source": [
    "**Worked Example 2: Causal Analysis in Educational Data**\n",
    "\n",
    "*Objective*\n",
    "\n",
    "To estimate the effect of student engagement (measured through the frequency of raised hands) on their academic performance.\n",
    "\n",
    "\n",
    "*Dataset Description*\n",
    "\n",
    "The dataset includes various features related to students in a school setting, such as their gender, grade level, engagement metrics (like raisedhands), and their academic performance (Class).\n",
    "\n",
    "Steps for Analysis"
   ]
  },
  {
   "cell_type": "markdown",
   "id": "efa306e3-0f94-40e5-91d2-0a5cc91d4ed4",
   "metadata": {},
   "source": [
    "**Step 1: Data Preparation**\n",
    "\n",
    "Theory:\n",
    "\n",
    "Data preparation is crucial to ensure that the dataset is clean, and the variables are correctly formatted for analysis.\n",
    "                                                                                                          \n",
    "Encoding categorical variables into a numeric format is necessary for many machine learning models."
   ]
  },
  {
   "cell_type": "code",
   "execution_count": 7,
   "id": "524c6369-5f36-4a68-9bf1-a79c118a987e",
   "metadata": {},
   "outputs": [],
   "source": [
    "import pandas as pd\n",
    "from sklearn.preprocessing import OneHotEncoder\n",
    "\n",
    "# Load the dataset\n",
    "edu_df = pd.read_csv('https://raw.githubusercontent.com/Tanvivalkunde/ADSA/main/xAPI-Edu-Data.csv')\n",
    "\n",
    "# Encoding categorical variables\n",
    "encoder = OneHotEncoder()\n",
    "edu_df['gender_code'] = edu_df['gender'].astype('category').cat.codes\n"
   ]
  },
  {
   "cell_type": "markdown",
   "id": "c152a9e5-5aae-4efd-af52-c00c6b8e7c02",
   "metadata": {},
   "source": [
    "**Step 2: Define Treatment and Outcome**\n",
    "\n",
    "Theory:\n",
    "\n",
    "\n",
    "Treatment in this context is defined as high student engagement, operationalized as the frequency of raised hands in class.\n",
    "\n",
    "The outcome is the academic performance of the students, represented by the Class variable."
   ]
  },
  {
   "cell_type": "code",
   "execution_count": 8,
   "id": "f5d9ad60-dc27-43eb-b2fd-6cdd5a55dab6",
   "metadata": {},
   "outputs": [],
   "source": [
    "# Define high engagement as treatment based on a threshold for raised hands\n",
    "threshold = 50\n",
    "edu_df['treatment'] = np.where(edu_df['raisedhands'] >= threshold, 1, 0)\n",
    "\n",
    "# Assuming 'Class' is a categorical outcome (e.g., 'L', 'M', 'H')\n",
    "edu_df['Class_code'] = edu_df['Class'].astype('category').cat.codes\n"
   ]
  },
  {
   "cell_type": "markdown",
   "id": "001cf90a-82dd-417f-b47e-334cb58a01a7",
   "metadata": {},
   "source": [
    "**Step 3: Propensity Score Estimation**\n",
    "\n",
    "Theory:\n",
    "\n",
    "Propensity scores estimate the likelihood of receiving the treatment based on observed characteristics.\n",
    "\n",
    "Logistic regression is used to estimate these scores."
   ]
  },
  {
   "cell_type": "code",
   "execution_count": 9,
   "id": "c5c80ef0-e663-4128-8ef6-250044f5f86b",
   "metadata": {},
   "outputs": [],
   "source": [
    "from sklearn.linear_model import LogisticRegression\n",
    "\n",
    "# Use logistic regression to estimate propensity scores\n",
    "covariates = ['gender_code']  # Add other relevant covariates\n",
    "model = LogisticRegression()\n",
    "model.fit(edu_df[covariates], edu_df['treatment'])\n",
    "edu_df['propensity_score'] = model.predict_proba(edu_df[covariates])[:, 1]\n"
   ]
  },
  {
   "cell_type": "markdown",
   "id": "96bcf115-b8ef-4b34-983b-9a90cbacb561",
   "metadata": {},
   "source": [
    "**Step 4: Matching**\n",
    "\n",
    "Theory:\n",
    "\n",
    "\n",
    "Matching creates pairs or groups of treated and untreated units with similar propensity scores.\n",
    "\n",
    "This step aims to balance the comparison groups in terms of observed characteristics."
   ]
  },
  {
   "cell_type": "code",
   "execution_count": 10,
   "id": "1a978ed4-2db2-4cc8-82dc-17096de5a3be",
   "metadata": {},
   "outputs": [],
   "source": [
    "# Implement matching (a basic example using nearest neighbor matching within a caliper)\n",
    "def match_units(treated_df, control_df, caliper=0.05):\n",
    "    matched = []\n",
    "    for i, row in treated_df.iterrows():\n",
    "        control_pool = control_df[np.abs(control_df['propensity_score'] - row['propensity_score']) < caliper]\n",
    "        if not control_pool.empty:\n",
    "            match = control_pool.iloc[0]\n",
    "            matched.append(match)\n",
    "            control_df = control_df.drop(match.name)\n",
    "    return pd.DataFrame(matched)\n",
    "\n",
    "treated = edu_df[edu_df['treatment'] == 1]\n",
    "control = edu_df[edu_df['treatment'] == 0]\n",
    "matched_control = match_units(treated, control)\n"
   ]
  },
  {
   "cell_type": "markdown",
   "id": "97775e46-e00c-4a50-b516-24561cd64ac2",
   "metadata": {},
   "source": [
    "**Step 5: Estimate Treatment Effect**\n",
    "\n",
    "Theory:\n",
    "\n",
    "The treatment effect is measured as the difference in academic performance between the matched groups.\n",
    "\n",
    "This effect helps understand the impact of engagement on academic outcomes"
   ]
  },
  {
   "cell_type": "code",
   "execution_count": 11,
   "id": "8292d1b9-cdc3-4bc6-8758-3f237119e32d",
   "metadata": {},
   "outputs": [
    {
     "name": "stdout",
     "output_type": "stream",
     "text": [
      "Estimated Treatment Effect: -0.36019988242210466\n"
     ]
    }
   ],
   "source": [
    "# Compare outcomes between matched treatment and control groups\n",
    "treated_outcomes = treated['Class_code']\n",
    "control_outcomes = matched_control['Class_code']\n",
    "effect_estimate = treated_outcomes.mean() - control_outcomes.mean()\n",
    "\n",
    "print(\"Estimated Treatment Effect:\", effect_estimate)\n"
   ]
  },
  {
   "cell_type": "markdown",
   "id": "5c61dc19-560c-41e3-89dc-8b3c5e9bfe39",
   "metadata": {},
   "source": [
    "LICENSE\n",
    "MIT License\n",
    "\n",
    "Copyright (c) 2022 Tanvi Manohar Valkunde\n",
    "\n",
    "Permission is hereby granted, free of charge, to any person obtaining a copy of this software and associated documentation files (the \"Software\"), to deal in the Software without restriction, including without limitation the rights to use, copy, modify, merge, publish, distribute, sublicense, and/or sell copies of the Software, and to permit persons to whom the Software is furnished to do so, subject to the following conditions:\n",
    "\n",
    "The above copyright notice and this permission notice shall be included in all copies or substantial portions of the Software.\n",
    "\n",
    "THE SOFTWARE IS PROVIDED \"AS IS\", WITHOUT WARRANTY OF ANY KIND, EXPRESS OR IMPLIED, INCLUDING BUT NOT LIMITED TO THE WARRANTIES OF MERCHANTABILITY, FITNESS FOR A PARTICULAR PURPOSE AND NONINFRINGEMENT. IN NO EVENT SHALL THE AUTHORS OR COPYRIGHT HOLDERS BE LIABLE FOR ANY CLAIM, DAMAGES OR OTHER LIABILITY, WHETHER IN AN ACTION OF CONTRACT, TORT OR OTHERWISE, ARISING FROM, OUT OF OR IN CONNECTION WITH THE SOFTWARE OR THE USE OR OTHER DEALINGS IN THE SOFTWARE."
   ]
  },
  {
   "cell_type": "code",
   "execution_count": null,
   "id": "b02905d3-8bf3-438a-8766-bd1fb16de8db",
   "metadata": {},
   "outputs": [],
   "source": []
  }
 ],
 "metadata": {
  "kernelspec": {
   "display_name": "Python 3 (ipykernel)",
   "language": "python",
   "name": "python3"
  },
  "language_info": {
   "codemirror_mode": {
    "name": "ipython",
    "version": 3
   },
   "file_extension": ".py",
   "mimetype": "text/x-python",
   "name": "python",
   "nbconvert_exporter": "python",
   "pygments_lexer": "ipython3",
   "version": "3.10.0"
  }
 },
 "nbformat": 4,
 "nbformat_minor": 5
}
