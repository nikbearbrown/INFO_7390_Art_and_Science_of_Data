{
 "cells": [
  {
   "cell_type": "markdown",
   "id": "4d32d49d-c634-4bb4-be07-be115d576930",
   "metadata": {},
   "source": [
    "# Theory\n",
    "\n",
    "After establishing a clean and feature-rich dataset, the next theoretical component involves model development and training. The performance of predictive models hinges on their ability to generalize beyond the data they were trained on, capture essential patterns, and ignore irrelevant noise.\n",
    "\n",
    "**Key Concepts:**\n",
    "\n",
    "1. **Baseline Models and Benchmarking:**  \n",
    "   Before investing effort into complex architectures, it’s wise to train simple models like Linear Regression or a Random Forest. These serve as baselines—if advanced models like neural networks cannot surpass this baseline, it may indicate that more data, better features, or refined preprocessing is necessary.\n",
    "\n",
    "2. **Model Complexity and Regularization:**  \n",
    "   Complex models, particularly neural networks, can approximate a vast range of functions, making them powerful but also prone to overfitting. Techniques like dropout layers, early stopping, and learning rate schedulers act as safeguards, encouraging the model to generalize better rather than memorize the training data.\n",
    "\n",
    "3. **Feature Scaling:**  \n",
    "   Neural networks often assume that features are on similar scales. Standardizing inputs ensures that the model trains more efficiently and that gradients flow smoothly, avoiding issues where some features dominate the learning process due to larger numeric ranges.\n",
    "\n",
    "4. **Evaluation Metrics and Loss Functions:**  \n",
    "   Choosing an appropriate loss function (e.g., mean squared error) and metrics (MAE, MSE, R²) guides model development. Minimizing the loss function during training ensures the model improves its predictive capacity, while evaluation metrics serve as a diagnostic tool, revealing how closely predictions match reality.\n",
    "\n",
    "This theoretical framework informs how we select, configure, and train models. By understanding the interplay between complexity, regularization, scaling, and evaluation, we can systematically iterate toward better forecasting performance.\n"
   ]
  },
  {
   "cell_type": "markdown",
   "id": "79a29aba-7d76-4f94-a5bc-9a2d16321024",
   "metadata": {},
   "source": [
    "This cell sets up the environment by importing essential libraries and modules for data analysis, machine learning, and neural networks. Here’s the breakdown:\n",
    "\n",
    "1. **Basic Libraries**:\n",
    "   - `pandas` and `numpy`: For data manipulation and numerical computations.\n",
    "   - `matplotlib.pyplot` and `seaborn`: For data visualization.\n",
    "   - `joblib`: For saving and loading models or other objects.\n",
    "\n",
    "2. **Scikit-Learn Modules**:\n",
    "   - `LinearRegression` and `RandomForestRegressor`: Two regression algorithms for modeling.\n",
    "   - `StandardScaler`: For standardizing features by removing the mean and scaling to unit variance.\n",
    "   - `mean_absolute_error`, `mean_squared_error`, and `r2_score`: Metrics for evaluating regression models.\n",
    "\n",
    "3. **TensorFlow Keras Modules**:\n",
    "   - `Sequential`: For creating sequential neural network models.\n",
    "   - `Dense` and `Dropout`: For adding fully connected layers and regularization in neural networks.\n",
    "   - `EarlyStopping` and `ReduceLROnPlateau`: Callbacks for optimizing training by preventing overfitting and dynamically adjusting the learning rate.\n",
    "\n",
    "4. **Visualization Configuration**:\n",
    "   - The Seaborn style is set to `\"whitegrid\"` for better readability.\n",
    "   - Plot size is adjusted to `(10, 5)` using `rcParams`.\n",
    "\n",
    "5. **Key Variables**:\n",
    "   - `DATA_DIR`: Specifies the directory for input data.\n",
    "   - `TARGET_COL`: Identifies the target column (`Weekly_Sales`) for analysis.\n",
    "\n",
    "This setup ensures that the environment is ready for data preprocessing, visualization, model training, and evaluation.\n"
   ]
  },
  {
   "cell_type": "code",
   "execution_count": 1,
   "id": "8a5ba8d8-c21d-4f84-a3ad-d9fcc9613f03",
   "metadata": {},
   "outputs": [],
   "source": [
    "import pandas as pd\n",
    "import numpy as np\n",
    "import matplotlib.pyplot as plt\n",
    "import seaborn as sns\n",
    "import joblib\n",
    "\n",
    "from sklearn.linear_model import LinearRegression\n",
    "from sklearn.ensemble import RandomForestRegressor\n",
    "from sklearn.preprocessing import StandardScaler\n",
    "from sklearn.metrics import mean_absolute_error, mean_squared_error, r2_score\n",
    "\n",
    "from tensorflow.keras.models import Sequential, load_model\n",
    "from tensorflow.keras.layers import Dense, Dropout\n",
    "from tensorflow.keras.callbacks import EarlyStopping, ReduceLROnPlateau\n"
   ]
  },
  {
   "cell_type": "code",
   "execution_count": 7,
   "id": "a65731c9-c3a4-4e69-a0d8-3bc4025866e4",
   "metadata": {},
   "outputs": [],
   "source": [
    "sns.set(style=\"whitegrid\", context=\"notebook\", font_scale=1.1)\n",
    "plt.rcParams[\"figure.figsize\"] = (10,5)\n",
    "\n",
    "DATA_DIR = \"data\"\n",
    "TARGET_COL = \"Weekly_Sales\""
   ]
  },
  {
   "cell_type": "markdown",
   "id": "16d96b1d-e788-4164-ba12-de93228ae3e7",
   "metadata": {},
   "source": [
    "In this cell, I load the preprocessed training and validation datasets from saved CSV files:\n",
    "\n",
    "1. **Loading Data**:\n",
    "   - `pd.read_csv` is used to load the feature (`X_train`, `X_val`) and target (`y_train`, `y_val`) datasets for training and validation from their respective files.\n",
    "   - `squeeze(\"columns\")` is applied to `y_train` and `y_val` to convert the DataFrame into a Series, making it easier to use in modeling.\n",
    "\n",
    "2. **Print Statements**:\n",
    "   - A message is printed to indicate that the preprocessed data is being loaded.\n",
    "   - The shapes of the training and validation datasets are printed to confirm the correct loading of data.\n",
    "\n",
    "This ensures the data is ready for use in training and validation processes.\n"
   ]
  },
  {
   "cell_type": "code",
   "execution_count": 11,
   "id": "7a3b7c76-8172-4849-b2bc-50aa980d5c5c",
   "metadata": {},
   "outputs": [
    {
     "name": "stdout",
     "output_type": "stream",
     "text": [
      "Loading preprocessed data...\n",
      "Training data shape: (269804, 17) (269804,)\n",
      "Validation data shape: (67452, 17) (67452,)\n"
     ]
    }
   ],
   "source": [
    "# ## Load Preprocessed Data\n",
    "print(\"Loading preprocessed data...\")\n",
    "X_train = pd.read_csv(f\"{DATA_DIR}/X_train.csv\")\n",
    "y_train = pd.read_csv(f\"{DATA_DIR}/y_train.csv\").squeeze(\"columns\")\n",
    "\n",
    "X_val = pd.read_csv(f\"{DATA_DIR}/X_val.csv\")\n",
    "y_val = pd.read_csv(f\"{DATA_DIR}/y_val.csv\").squeeze(\"columns\")\n",
    "\n",
    "\n",
    "print(\"Training data shape:\", X_train.shape, y_train.shape)\n",
    "print(\"Validation data shape:\", X_val.shape, y_val.shape)"
   ]
  },
  {
   "cell_type": "markdown",
   "id": "441bff45-3554-4267-8804-b3b03c559f64",
   "metadata": {},
   "source": [
    "1. **Preprocessed Data Loading**:\n",
    "   - The message `\"Loading preprocessed data...\"` confirms that the loading process has started.\n",
    "\n",
    "2. **Dataset Shapes**:\n",
    "   - Training data (`X_train`, `y_train`): 269,804 rows and 17 features.\n",
    "   - Validation data (`X_val`, `y_val`): 67,452 rows and 17 features.\n",
    "\n",
    "The printed shapes confirm that the data matches the expected dimensions from the preprocessing step, ensuring consistency and readiness for modeling.\n"
   ]
  },
  {
   "cell_type": "markdown",
   "id": "4fb683da-bb44-49f8-aa61-10219d43ecb6",
   "metadata": {},
   "source": [
    "**Linear Regression**:\n",
    "   - **Model Training**: The `LinearRegression` model is trained on `X_train` and `y_train`.\n",
    "   - **Predictions**: Predictions are made on the validation set (`X_val`) using `predict`.\n",
    "   - **Evaluation Metrics**:\n",
    "     - `mean_absolute_error` (MAE): Measures average absolute error between predictions and true values.\n",
    "     - `mean_squared_error` (MSE): Measures squared average error.\n",
    "     - `r2_score`: Evaluates how well the model explains the variance in the target variable.\n",
    "   - **Results Display**: Performance metrics (MAE, MSE, R²) are printed."
   ]
  },
  {
   "cell_type": "code",
   "execution_count": 15,
   "id": "69f16716-a6c9-4838-8ed6-04e5fc4d0837",
   "metadata": {},
   "outputs": [
    {
     "name": "stdout",
     "output_type": "stream",
     "text": [
      "Linear Regression Performance:\n",
      "MAE: 13294.96, MSE: 315988963.38, R²: 0.089\n"
     ]
    }
   ],
   "source": [
    "# Linear Regression\n",
    "lr = LinearRegression()\n",
    "lr.fit(X_train, y_train)\n",
    "y_val_pred_lr = lr.predict(X_val)\n",
    "\n",
    "lr_mae = mean_absolute_error(y_val, y_val_pred_lr)\n",
    "lr_mse = mean_squared_error(y_val, y_val_pred_lr)\n",
    "lr_r2 = r2_score(y_val, y_val_pred_lr)\n",
    "\n",
    "print(\"Linear Regression Performance:\")\n",
    "print(f\"MAE: {lr_mae:.2f}, MSE: {lr_mse:.2f}, R²: {lr_r2:.3f}\")"
   ]
  },
  {
   "cell_type": "markdown",
   "id": "9780cec6-5916-4984-a08a-82f0d48632eb",
   "metadata": {},
   "source": [
    "**Linear Regression Performance**:\n",
    "   - **MAE**: 13,294.96 indicates relatively high average error.\n",
    "   - **MSE**: 31,598,896.38 suggests large deviations between predictions and true values.\n",
    "   - **R²**: 0.089 shows that the model explains only 8.9% of the variance in the data, indicating poor performance.\n"
   ]
  },
  {
   "cell_type": "markdown",
   "id": "79125292-78ea-4d09-822c-a404ee6f9a62",
   "metadata": {},
   "source": [
    "**Random Forest Regressor**:\n",
    "   - **Model Training**: The `RandomForestRegressor` model is trained with 50 estimators (`n_estimators=50`) and a fixed random seed (`random_state=42`).\n",
    "   - **Predictions**: Predictions are made on `X_val`.\n",
    "   - **Evaluation Metrics**: The same metrics (MAE, MSE, R²) are used to evaluate the model.\n",
    "   - **Results Display**: Metrics are printed for comparison with the Linear Regression model."
   ]
  },
  {
   "cell_type": "code",
   "execution_count": 17,
   "id": "0d6415a6-35a5-48f1-96db-65eed9f912b6",
   "metadata": {},
   "outputs": [
    {
     "name": "stdout",
     "output_type": "stream",
     "text": [
      "\n",
      "Random Forest Performance:\n",
      "MAE: 1257.52, MSE: 6534193.71, R²: 0.981\n"
     ]
    }
   ],
   "source": [
    "# Random Forest\n",
    "rf = RandomForestRegressor(n_estimators=50, random_state=42, n_jobs=-1)\n",
    "rf.fit(X_train, y_train)\n",
    "y_val_pred_rf = rf.predict(X_val)\n",
    "\n",
    "rf_mae = mean_absolute_error(y_val, y_val_pred_rf)\n",
    "rf_mse = mean_squared_error(y_val, y_val_pred_rf)\n",
    "rf_r2 = r2_score(y_val, y_val_pred_rf)\n",
    "\n",
    "print(\"\\nRandom Forest Performance:\")\n",
    "print(f\"MAE: {rf_mae:.2f}, MSE: {rf_mse:.2f}, R²: {rf_r2:.3f}\")"
   ]
  },
  {
   "cell_type": "markdown",
   "id": "0723899e-fa7f-4d15-9bea-457faeba8083",
   "metadata": {},
   "source": [
    "**Random Forest Performance**:\n",
    "   - **MAE**: 1,257.52 indicates significantly lower average error compared to Linear Regression.\n",
    "   - **MSE**: 653,419.71 highlights much smaller deviations in predictions.\n",
    "   - **R²**: 0.981 shows the model explains 98.1% of the variance in the data, indicating excellent performance."
   ]
  },
  {
   "cell_type": "markdown",
   "id": "7b939fff-53bd-4d49-8b96-f9a2d77e55df",
   "metadata": {},
   "source": [
    "This cell scales the features for the deep learning model and saves the scaler for future use:\n",
    "\n",
    "1. **Feature Scaling**:\n",
    "   - A `StandardScaler` is initialized to standardize the features by removing the mean and scaling to unit variance.\n",
    "   - `fit_transform` is applied to `X_train` to compute the scaling parameters and scale the training data.\n",
    "   - `transform` is applied to `X_val` to scale the validation data using the parameters from the training data.\n",
    "\n",
    "2. **Save the Scaler**:\n",
    "   - The `joblib.dump` function is used to save the fitted scaler object to a file (`scaler.joblib`) in the `DATA_DIR` directory. This ensures that the same scaler can be reused during model inference or deployment.\n",
    "\n",
    "3. **Print Confirmation**:\n",
    "   - A message confirms the completion of feature scaling for the deep learning model."
   ]
  },
  {
   "cell_type": "code",
   "execution_count": 19,
   "id": "cb5ee544-ae97-4d1f-be05-9544b7704688",
   "metadata": {},
   "outputs": [
    {
     "name": "stdout",
     "output_type": "stream",
     "text": [
      "\n",
      "Scaling features for the deep learning model...\n"
     ]
    }
   ],
   "source": [
    "print(\"\\nScaling features for the deep learning model...\")\n",
    "scaler = StandardScaler()\n",
    "X_train_scaled = scaler.fit_transform(X_train)\n",
    "X_val_scaled = scaler.transform(X_val)\n"
   ]
  },
  {
   "cell_type": "code",
   "execution_count": 21,
   "id": "44b7f9a0-ddea-463c-b9b2-592b224b631c",
   "metadata": {},
   "outputs": [
    {
     "data": {
      "text/plain": [
       "['data/scaler.joblib']"
      ]
     },
     "execution_count": 21,
     "metadata": {},
     "output_type": "execute_result"
    }
   ],
   "source": [
    "# Save the scaler for future use (in prediction or Streamlit app)\n",
    "joblib.dump(scaler, f\"{DATA_DIR}/scaler.joblib\")\n"
   ]
  },
  {
   "cell_type": "markdown",
   "id": "cc9eaacd-6ba7-4e66-bd6b-7868368703cf",
   "metadata": {},
   "source": [
    "1. **Feature Scaling**:\n",
    "   - Training and validation features are successfully scaled using `StandardScaler`, ensuring that the input to the deep learning model is standardized, which is crucial for faster convergence and better model performance.\n",
    "\n",
    "2. **Saved Scaler**:\n",
    "   - The output confirms that the scaler has been saved to the file `'data/scaler.joblib'`. This file can be used later to apply the same scaling to test or unseen data, maintaining consistency across datasets.\n",
    "\n",
    "This step ensures that the features are prepared in a format suitable for deep learning models and that the preprocessing step is reproducible."
   ]
  },
  {
   "cell_type": "markdown",
   "id": "6332df01-8403-40b0-8b94-a9c143b336ff",
   "metadata": {},
   "source": [
    "In this cell, I build and compile a simple deep learning model (MLP) for regression tasks:\n",
    "\n",
    "1. **Model Architecture**:\n",
    "   - I define a `Sequential` model consisting of the following layers:\n",
    "     - **Input Layer**: The `input_shape` is set to the number of features in the training data.\n",
    "     - **Hidden Layers**:\n",
    "       - First dense layer with 128 neurons and ReLU activation.\n",
    "       - Dropout layer with a rate of 0.2 to reduce overfitting.\n",
    "       - Second dense layer with 64 neurons and ReLU activation.\n",
    "       - Another dropout layer with a rate of 0.2.\n",
    "     - **Output Layer**: A single neuron for predicting the target (`Weekly_Sales`).\n",
    "\n",
    "2. **Model Compilation**:\n",
    "   - The model is compiled with:\n",
    "     - **Optimizer**: `adam` for efficient gradient-based optimization.\n",
    "     - **Loss Function**: `mean_squared_error` to minimize the squared error in predictions.\n",
    "     - **Metrics**: `mae` (Mean Absolute Error) for additional evaluation during training.\n",
    "\n",
    "3. **Model Summary**:\n",
    "   - The `model.summary()` function provides a detailed view of the model architecture, including layer types, output shapes, and the number of trainable parameters.\n",
    "\n",
    "This setup creates a robust architecture for predicting weekly sales using a regression-based deep learning model."
   ]
  },
  {
   "cell_type": "code",
   "execution_count": 35,
   "id": "d5d309be-e12d-410e-a7c9-c10921232bf0",
   "metadata": {},
   "outputs": [
    {
     "name": "stderr",
     "output_type": "stream",
     "text": [
      "/opt/anaconda3/lib/python3.12/site-packages/keras/src/layers/core/dense.py:87: UserWarning: Do not pass an `input_shape`/`input_dim` argument to a layer. When using Sequential models, prefer using an `Input(shape)` object as the first layer in the model instead.\n",
      "  super().__init__(activity_regularizer=activity_regularizer, **kwargs)\n"
     ]
    },
    {
     "data": {
      "text/html": [
       "<pre style=\"white-space:pre;overflow-x:auto;line-height:normal;font-family:Menlo,'DejaVu Sans Mono',consolas,'Courier New',monospace\"><span style=\"font-weight: bold\">Model: \"sequential_1\"</span>\n",
       "</pre>\n"
      ],
      "text/plain": [
       "\u001b[1mModel: \"sequential_1\"\u001b[0m\n"
      ]
     },
     "metadata": {},
     "output_type": "display_data"
    },
    {
     "data": {
      "text/html": [
       "<pre style=\"white-space:pre;overflow-x:auto;line-height:normal;font-family:Menlo,'DejaVu Sans Mono',consolas,'Courier New',monospace\">┏━━━━━━━━━━━━━━━━━━━━━━━━━━━━━━━━━┳━━━━━━━━━━━━━━━━━━━━━━━━┳━━━━━━━━━━━━━━━┓\n",
       "┃<span style=\"font-weight: bold\"> Layer (type)                    </span>┃<span style=\"font-weight: bold\"> Output Shape           </span>┃<span style=\"font-weight: bold\">       Param # </span>┃\n",
       "┡━━━━━━━━━━━━━━━━━━━━━━━━━━━━━━━━━╇━━━━━━━━━━━━━━━━━━━━━━━━╇━━━━━━━━━━━━━━━┩\n",
       "│ dense_3 (<span style=\"color: #0087ff; text-decoration-color: #0087ff\">Dense</span>)                 │ (<span style=\"color: #00d7ff; text-decoration-color: #00d7ff\">None</span>, <span style=\"color: #00af00; text-decoration-color: #00af00\">128</span>)            │         <span style=\"color: #00af00; text-decoration-color: #00af00\">2,304</span> │\n",
       "├─────────────────────────────────┼────────────────────────┼───────────────┤\n",
       "│ dropout_2 (<span style=\"color: #0087ff; text-decoration-color: #0087ff\">Dropout</span>)             │ (<span style=\"color: #00d7ff; text-decoration-color: #00d7ff\">None</span>, <span style=\"color: #00af00; text-decoration-color: #00af00\">128</span>)            │             <span style=\"color: #00af00; text-decoration-color: #00af00\">0</span> │\n",
       "├─────────────────────────────────┼────────────────────────┼───────────────┤\n",
       "│ dense_4 (<span style=\"color: #0087ff; text-decoration-color: #0087ff\">Dense</span>)                 │ (<span style=\"color: #00d7ff; text-decoration-color: #00d7ff\">None</span>, <span style=\"color: #00af00; text-decoration-color: #00af00\">64</span>)             │         <span style=\"color: #00af00; text-decoration-color: #00af00\">8,256</span> │\n",
       "├─────────────────────────────────┼────────────────────────┼───────────────┤\n",
       "│ dropout_3 (<span style=\"color: #0087ff; text-decoration-color: #0087ff\">Dropout</span>)             │ (<span style=\"color: #00d7ff; text-decoration-color: #00d7ff\">None</span>, <span style=\"color: #00af00; text-decoration-color: #00af00\">64</span>)             │             <span style=\"color: #00af00; text-decoration-color: #00af00\">0</span> │\n",
       "├─────────────────────────────────┼────────────────────────┼───────────────┤\n",
       "│ dense_5 (<span style=\"color: #0087ff; text-decoration-color: #0087ff\">Dense</span>)                 │ (<span style=\"color: #00d7ff; text-decoration-color: #00d7ff\">None</span>, <span style=\"color: #00af00; text-decoration-color: #00af00\">1</span>)              │            <span style=\"color: #00af00; text-decoration-color: #00af00\">65</span> │\n",
       "└─────────────────────────────────┴────────────────────────┴───────────────┘\n",
       "</pre>\n"
      ],
      "text/plain": [
       "┏━━━━━━━━━━━━━━━━━━━━━━━━━━━━━━━━━┳━━━━━━━━━━━━━━━━━━━━━━━━┳━━━━━━━━━━━━━━━┓\n",
       "┃\u001b[1m \u001b[0m\u001b[1mLayer (type)                   \u001b[0m\u001b[1m \u001b[0m┃\u001b[1m \u001b[0m\u001b[1mOutput Shape          \u001b[0m\u001b[1m \u001b[0m┃\u001b[1m \u001b[0m\u001b[1m      Param #\u001b[0m\u001b[1m \u001b[0m┃\n",
       "┡━━━━━━━━━━━━━━━━━━━━━━━━━━━━━━━━━╇━━━━━━━━━━━━━━━━━━━━━━━━╇━━━━━━━━━━━━━━━┩\n",
       "│ dense_3 (\u001b[38;5;33mDense\u001b[0m)                 │ (\u001b[38;5;45mNone\u001b[0m, \u001b[38;5;34m128\u001b[0m)            │         \u001b[38;5;34m2,304\u001b[0m │\n",
       "├─────────────────────────────────┼────────────────────────┼───────────────┤\n",
       "│ dropout_2 (\u001b[38;5;33mDropout\u001b[0m)             │ (\u001b[38;5;45mNone\u001b[0m, \u001b[38;5;34m128\u001b[0m)            │             \u001b[38;5;34m0\u001b[0m │\n",
       "├─────────────────────────────────┼────────────────────────┼───────────────┤\n",
       "│ dense_4 (\u001b[38;5;33mDense\u001b[0m)                 │ (\u001b[38;5;45mNone\u001b[0m, \u001b[38;5;34m64\u001b[0m)             │         \u001b[38;5;34m8,256\u001b[0m │\n",
       "├─────────────────────────────────┼────────────────────────┼───────────────┤\n",
       "│ dropout_3 (\u001b[38;5;33mDropout\u001b[0m)             │ (\u001b[38;5;45mNone\u001b[0m, \u001b[38;5;34m64\u001b[0m)             │             \u001b[38;5;34m0\u001b[0m │\n",
       "├─────────────────────────────────┼────────────────────────┼───────────────┤\n",
       "│ dense_5 (\u001b[38;5;33mDense\u001b[0m)                 │ (\u001b[38;5;45mNone\u001b[0m, \u001b[38;5;34m1\u001b[0m)              │            \u001b[38;5;34m65\u001b[0m │\n",
       "└─────────────────────────────────┴────────────────────────┴───────────────┘\n"
      ]
     },
     "metadata": {},
     "output_type": "display_data"
    },
    {
     "data": {
      "text/html": [
       "<pre style=\"white-space:pre;overflow-x:auto;line-height:normal;font-family:Menlo,'DejaVu Sans Mono',consolas,'Courier New',monospace\"><span style=\"font-weight: bold\"> Total params: </span><span style=\"color: #00af00; text-decoration-color: #00af00\">10,625</span> (41.50 KB)\n",
       "</pre>\n"
      ],
      "text/plain": [
       "\u001b[1m Total params: \u001b[0m\u001b[38;5;34m10,625\u001b[0m (41.50 KB)\n"
      ]
     },
     "metadata": {},
     "output_type": "display_data"
    },
    {
     "data": {
      "text/html": [
       "<pre style=\"white-space:pre;overflow-x:auto;line-height:normal;font-family:Menlo,'DejaVu Sans Mono',consolas,'Courier New',monospace\"><span style=\"font-weight: bold\"> Trainable params: </span><span style=\"color: #00af00; text-decoration-color: #00af00\">10,625</span> (41.50 KB)\n",
       "</pre>\n"
      ],
      "text/plain": [
       "\u001b[1m Trainable params: \u001b[0m\u001b[38;5;34m10,625\u001b[0m (41.50 KB)\n"
      ]
     },
     "metadata": {},
     "output_type": "display_data"
    },
    {
     "data": {
      "text/html": [
       "<pre style=\"white-space:pre;overflow-x:auto;line-height:normal;font-family:Menlo,'DejaVu Sans Mono',consolas,'Courier New',monospace\"><span style=\"font-weight: bold\"> Non-trainable params: </span><span style=\"color: #00af00; text-decoration-color: #00af00\">0</span> (0.00 B)\n",
       "</pre>\n"
      ],
      "text/plain": [
       "\u001b[1m Non-trainable params: \u001b[0m\u001b[38;5;34m0\u001b[0m (0.00 B)\n"
      ]
     },
     "metadata": {},
     "output_type": "display_data"
    }
   ],
   "source": [
    "# ### Building a Deep Learning Model (MLP)\n",
    "# We'll build a simple MLP for regression:\n",
    "# - Input layer: number of features\n",
    "# - Hidden layers: a few dense layers with 'relu' activation and dropout\n",
    "# - Output layer: single neuron for weekly sales prediction\n",
    "\n",
    "model = Sequential([\n",
    "    Dense(128, activation='relu', input_shape=(X_train_scaled.shape[1],)),\n",
    "    Dropout(0.2),\n",
    "    Dense(64, activation='relu'),\n",
    "    Dropout(0.2),\n",
    "    Dense(1)\n",
    "])\n",
    "\n",
    "model.compile(optimizer='adam', loss='mean_squared_error', metrics=['mae'])\n",
    "model.summary()"
   ]
  },
  {
   "cell_type": "markdown",
   "id": "b5944d61-6e83-4747-b8fb-41dcef714de9",
   "metadata": {},
   "source": [
    "1. **Model Architecture**:\n",
    "   - The model has a total of **10,625 trainable parameters** distributed across:\n",
    "     - Dense Layer 1: 128 neurons with 2,304 parameters.\n",
    "     - Dense Layer 2: 64 neurons with 8,256 parameters.\n",
    "     - Output Layer: 1 neuron with 65 parameters.\n",
    "   - Dropout layers do not add parameters but help reduce overfitting.\n",
    "\n",
    "2. **Warnings**:\n",
    "   - A warning suggests preferring the `Input` object over `input_shape`. This does not affect functionality but is a best practice in newer Keras versions.\n",
    "\n",
    "3. **Summary Table**:\n",
    "   - Each layer’s output shape and the number of trainable parameters are listed, ensuring clarity on the model's structure and computational requirements.\n",
    "\n",
    "This summary confirms that the model is correctly configured for training and is lightweight, making it suitable for this regression task.\n"
   ]
  },
  {
   "cell_type": "markdown",
   "id": "4623bf8e-9839-43a2-a335-682d7d5e3e15",
   "metadata": {},
   "source": [
    "This cell trains the MLP (Multi-Layer Perceptron) model using early stopping and learning rate reduction to optimize performance:\n",
    "\n",
    "1. **Callbacks**:\n",
    "   - **EarlyStopping**:\n",
    "     - Monitors `val_loss` and stops training if it doesn’t improve for 5 consecutive epochs.\n",
    "     - `restore_best_weights=True` ensures the best weights from the best epoch are restored.\n",
    "   - **ReduceLROnPlateau**:\n",
    "     - Reduces the learning rate by a factor of 0.2 if `val_loss` doesn’t improve for 3 consecutive epochs, helping the model converge better.\n",
    "\n",
    "2. **Model Training**:\n",
    "   - `model.fit` is used to train the model:\n",
    "     - **Inputs**: Scaled training data (`X_train_scaled`, `y_train`).\n",
    "     - **Validation**: Validates on `X_val_scaled` and `y_val` at each epoch.\n",
    "     - **Epochs**: The model is set to train for up to 50 epochs.\n",
    "     - **Batch Size**: Each batch consists of 64 samples.\n",
    "     - **Callbacks**: Includes early stopping and learning rate reduction for efficiency.\n",
    "     - **Verbose**: Progress is displayed for each epoch.\n",
    "\n",
    "3. **Output Metrics**:\n",
    "   - Training loss, validation loss, and Mean Absolute Error (MAE) are reported after each epoch, helping to monitor training progress."
   ]
  },
  {
   "cell_type": "code",
   "execution_count": 37,
   "id": "2b0ee3bf-c564-4a30-be19-305d95e478c9",
   "metadata": {},
   "outputs": [
    {
     "name": "stdout",
     "output_type": "stream",
     "text": [
      "Epoch 1/50\n",
      "\u001b[1m4216/4216\u001b[0m \u001b[32m━━━━━━━━━━━━━━━━━━━━\u001b[0m\u001b[37m\u001b[0m \u001b[1m2s\u001b[0m 335us/step - loss: 408821184.0000 - mae: 13490.3574 - val_loss: 300644192.0000 - val_mae: 12910.3623 - learning_rate: 0.0010\n",
      "Epoch 2/50\n",
      "\u001b[1m4216/4216\u001b[0m \u001b[32m━━━━━━━━━━━━━━━━━━━━\u001b[0m\u001b[37m\u001b[0m \u001b[1m1s\u001b[0m 326us/step - loss: 300766272.0000 - mae: 12772.6826 - val_loss: 273786240.0000 - val_mae: 11969.0801 - learning_rate: 0.0010\n",
      "Epoch 3/50\n",
      "\u001b[1m4216/4216\u001b[0m \u001b[32m━━━━━━━━━━━━━━━━━━━━\u001b[0m\u001b[37m\u001b[0m \u001b[1m1s\u001b[0m 322us/step - loss: 276982720.0000 - mae: 11912.7217 - val_loss: 263047632.0000 - val_mae: 11387.9873 - learning_rate: 0.0010\n",
      "Epoch 4/50\n",
      "\u001b[1m4216/4216\u001b[0m \u001b[32m━━━━━━━━━━━━━━━━━━━━\u001b[0m\u001b[37m\u001b[0m \u001b[1m1s\u001b[0m 331us/step - loss: 271574208.0000 - mae: 11567.6270 - val_loss: 258404832.0000 - val_mae: 11262.5068 - learning_rate: 0.0010\n",
      "Epoch 5/50\n",
      "\u001b[1m4216/4216\u001b[0m \u001b[32m━━━━━━━━━━━━━━━━━━━━\u001b[0m\u001b[37m\u001b[0m \u001b[1m1s\u001b[0m 323us/step - loss: 266679376.0000 - mae: 11383.3857 - val_loss: 255672608.0000 - val_mae: 11115.6182 - learning_rate: 0.0010\n",
      "Epoch 6/50\n",
      "\u001b[1m4216/4216\u001b[0m \u001b[32m━━━━━━━━━━━━━━━━━━━━\u001b[0m\u001b[37m\u001b[0m \u001b[1m1s\u001b[0m 327us/step - loss: 262462720.0000 - mae: 11242.8555 - val_loss: 253715168.0000 - val_mae: 11016.0820 - learning_rate: 0.0010\n",
      "Epoch 7/50\n",
      "\u001b[1m4216/4216\u001b[0m \u001b[32m━━━━━━━━━━━━━━━━━━━━\u001b[0m\u001b[37m\u001b[0m \u001b[1m1s\u001b[0m 326us/step - loss: 260913280.0000 - mae: 11194.8135 - val_loss: 251750016.0000 - val_mae: 11054.5088 - learning_rate: 0.0010\n",
      "Epoch 8/50\n",
      "\u001b[1m4216/4216\u001b[0m \u001b[32m━━━━━━━━━━━━━━━━━━━━\u001b[0m\u001b[37m\u001b[0m \u001b[1m1s\u001b[0m 334us/step - loss: 260554016.0000 - mae: 11163.9922 - val_loss: 249958208.0000 - val_mae: 10930.5195 - learning_rate: 0.0010\n",
      "Epoch 9/50\n",
      "\u001b[1m4216/4216\u001b[0m \u001b[32m━━━━━━━━━━━━━━━━━━━━\u001b[0m\u001b[37m\u001b[0m \u001b[1m1s\u001b[0m 325us/step - loss: 260584864.0000 - mae: 11149.8330 - val_loss: 248285664.0000 - val_mae: 10917.4258 - learning_rate: 0.0010\n",
      "Epoch 10/50\n",
      "\u001b[1m4216/4216\u001b[0m \u001b[32m━━━━━━━━━━━━━━━━━━━━\u001b[0m\u001b[37m\u001b[0m \u001b[1m1s\u001b[0m 324us/step - loss: 258381744.0000 - mae: 11082.0605 - val_loss: 246772128.0000 - val_mae: 10841.7012 - learning_rate: 0.0010\n",
      "Epoch 11/50\n",
      "\u001b[1m4216/4216\u001b[0m \u001b[32m━━━━━━━━━━━━━━━━━━━━\u001b[0m\u001b[37m\u001b[0m \u001b[1m1s\u001b[0m 326us/step - loss: 256584048.0000 - mae: 11036.1689 - val_loss: 245511808.0000 - val_mae: 10813.9648 - learning_rate: 0.0010\n",
      "Epoch 12/50\n",
      "\u001b[1m4216/4216\u001b[0m \u001b[32m━━━━━━━━━━━━━━━━━━━━\u001b[0m\u001b[37m\u001b[0m \u001b[1m1s\u001b[0m 330us/step - loss: 254802320.0000 - mae: 10964.5195 - val_loss: 244003120.0000 - val_mae: 10767.1455 - learning_rate: 0.0010\n",
      "Epoch 13/50\n",
      "\u001b[1m4216/4216\u001b[0m \u001b[32m━━━━━━━━━━━━━━━━━━━━\u001b[0m\u001b[37m\u001b[0m \u001b[1m1s\u001b[0m 336us/step - loss: 255376736.0000 - mae: 10980.0762 - val_loss: 243010944.0000 - val_mae: 10666.6309 - learning_rate: 0.0010\n",
      "Epoch 14/50\n",
      "\u001b[1m4216/4216\u001b[0m \u001b[32m━━━━━━━━━━━━━━━━━━━━\u001b[0m\u001b[37m\u001b[0m \u001b[1m1s\u001b[0m 328us/step - loss: 254329152.0000 - mae: 10930.0176 - val_loss: 242184064.0000 - val_mae: 10715.0400 - learning_rate: 0.0010\n",
      "Epoch 15/50\n",
      "\u001b[1m4216/4216\u001b[0m \u001b[32m━━━━━━━━━━━━━━━━━━━━\u001b[0m\u001b[37m\u001b[0m \u001b[1m1s\u001b[0m 332us/step - loss: 253699056.0000 - mae: 10915.7686 - val_loss: 241321360.0000 - val_mae: 10588.6045 - learning_rate: 0.0010\n",
      "Epoch 16/50\n",
      "\u001b[1m4216/4216\u001b[0m \u001b[32m━━━━━━━━━━━━━━━━━━━━\u001b[0m\u001b[37m\u001b[0m \u001b[1m1s\u001b[0m 331us/step - loss: 252715184.0000 - mae: 10887.1406 - val_loss: 240092160.0000 - val_mae: 10621.4814 - learning_rate: 0.0010\n",
      "Epoch 17/50\n",
      "\u001b[1m4216/4216\u001b[0m \u001b[32m━━━━━━━━━━━━━━━━━━━━\u001b[0m\u001b[37m\u001b[0m \u001b[1m1s\u001b[0m 330us/step - loss: 251286640.0000 - mae: 10835.3232 - val_loss: 239300096.0000 - val_mae: 10601.5381 - learning_rate: 0.0010\n",
      "Epoch 18/50\n",
      "\u001b[1m4216/4216\u001b[0m \u001b[32m━━━━━━━━━━━━━━━━━━━━\u001b[0m\u001b[37m\u001b[0m \u001b[1m1s\u001b[0m 329us/step - loss: 251147712.0000 - mae: 10839.7842 - val_loss: 238223392.0000 - val_mae: 10555.8242 - learning_rate: 0.0010\n",
      "Epoch 19/50\n",
      "\u001b[1m4216/4216\u001b[0m \u001b[32m━━━━━━━━━━━━━━━━━━━━\u001b[0m\u001b[37m\u001b[0m \u001b[1m1s\u001b[0m 328us/step - loss: 249127760.0000 - mae: 10779.1475 - val_loss: 237367344.0000 - val_mae: 10619.9746 - learning_rate: 0.0010\n",
      "Epoch 20/50\n",
      "\u001b[1m4216/4216\u001b[0m \u001b[32m━━━━━━━━━━━━━━━━━━━━\u001b[0m\u001b[37m\u001b[0m \u001b[1m1s\u001b[0m 327us/step - loss: 247042864.0000 - mae: 10725.8457 - val_loss: 236040128.0000 - val_mae: 10510.9072 - learning_rate: 0.0010\n",
      "Epoch 21/50\n",
      "\u001b[1m4216/4216\u001b[0m \u001b[32m━━━━━━━━━━━━━━━━━━━━\u001b[0m\u001b[37m\u001b[0m \u001b[1m1s\u001b[0m 328us/step - loss: 249233680.0000 - mae: 10779.6172 - val_loss: 235157872.0000 - val_mae: 10522.0479 - learning_rate: 0.0010\n",
      "Epoch 22/50\n",
      "\u001b[1m4216/4216\u001b[0m \u001b[32m━━━━━━━━━━━━━━━━━━━━\u001b[0m\u001b[37m\u001b[0m \u001b[1m1s\u001b[0m 328us/step - loss: 247872032.0000 - mae: 10754.2549 - val_loss: 233865120.0000 - val_mae: 10414.2783 - learning_rate: 0.0010\n",
      "Epoch 23/50\n",
      "\u001b[1m4216/4216\u001b[0m \u001b[32m━━━━━━━━━━━━━━━━━━━━\u001b[0m\u001b[37m\u001b[0m \u001b[1m1s\u001b[0m 336us/step - loss: 244363280.0000 - mae: 10675.4316 - val_loss: 232789056.0000 - val_mae: 10403.9023 - learning_rate: 0.0010\n",
      "Epoch 24/50\n",
      "\u001b[1m4216/4216\u001b[0m \u001b[32m━━━━━━━━━━━━━━━━━━━━\u001b[0m\u001b[37m\u001b[0m \u001b[1m1s\u001b[0m 333us/step - loss: 245817536.0000 - mae: 10711.5752 - val_loss: 231569136.0000 - val_mae: 10339.2236 - learning_rate: 0.0010\n",
      "Epoch 25/50\n",
      "\u001b[1m4216/4216\u001b[0m \u001b[32m━━━━━━━━━━━━━━━━━━━━\u001b[0m\u001b[37m\u001b[0m \u001b[1m1s\u001b[0m 330us/step - loss: 244920256.0000 - mae: 10685.4863 - val_loss: 230596816.0000 - val_mae: 10379.5811 - learning_rate: 0.0010\n",
      "Epoch 26/50\n",
      "\u001b[1m4216/4216\u001b[0m \u001b[32m━━━━━━━━━━━━━━━━━━━━\u001b[0m\u001b[37m\u001b[0m \u001b[1m1s\u001b[0m 330us/step - loss: 245122672.0000 - mae: 10715.1445 - val_loss: 229781824.0000 - val_mae: 10405.3389 - learning_rate: 0.0010\n",
      "Epoch 27/50\n",
      "\u001b[1m4216/4216\u001b[0m \u001b[32m━━━━━━━━━━━━━━━━━━━━\u001b[0m\u001b[37m\u001b[0m \u001b[1m1s\u001b[0m 337us/step - loss: 244084432.0000 - mae: 10688.0957 - val_loss: 229058864.0000 - val_mae: 10405.5059 - learning_rate: 0.0010\n",
      "Epoch 28/50\n",
      "\u001b[1m4216/4216\u001b[0m \u001b[32m━━━━━━━━━━━━━━━━━━━━\u001b[0m\u001b[37m\u001b[0m \u001b[1m1s\u001b[0m 331us/step - loss: 243135792.0000 - mae: 10663.3164 - val_loss: 227704704.0000 - val_mae: 10247.5088 - learning_rate: 0.0010\n",
      "Epoch 29/50\n",
      "\u001b[1m4216/4216\u001b[0m \u001b[32m━━━━━━━━━━━━━━━━━━━━\u001b[0m\u001b[37m\u001b[0m \u001b[1m1s\u001b[0m 338us/step - loss: 240908512.0000 - mae: 10621.4863 - val_loss: 226859856.0000 - val_mae: 10342.3467 - learning_rate: 0.0010\n",
      "Epoch 30/50\n",
      "\u001b[1m4216/4216\u001b[0m \u001b[32m━━━━━━━━━━━━━━━━━━━━\u001b[0m\u001b[37m\u001b[0m \u001b[1m1s\u001b[0m 331us/step - loss: 239834224.0000 - mae: 10604.8145 - val_loss: 225892848.0000 - val_mae: 10271.7158 - learning_rate: 0.0010\n",
      "Epoch 31/50\n",
      "\u001b[1m4216/4216\u001b[0m \u001b[32m━━━━━━━━━━━━━━━━━━━━\u001b[0m\u001b[37m\u001b[0m \u001b[1m1s\u001b[0m 337us/step - loss: 240115168.0000 - mae: 10629.5400 - val_loss: 224951584.0000 - val_mae: 10192.7295 - learning_rate: 0.0010\n",
      "Epoch 32/50\n",
      "\u001b[1m4216/4216\u001b[0m \u001b[32m━━━━━━━━━━━━━━━━━━━━\u001b[0m\u001b[37m\u001b[0m \u001b[1m1s\u001b[0m 332us/step - loss: 241338224.0000 - mae: 10640.7158 - val_loss: 224222448.0000 - val_mae: 10138.2852 - learning_rate: 0.0010\n",
      "Epoch 33/50\n",
      "\u001b[1m4216/4216\u001b[0m \u001b[32m━━━━━━━━━━━━━━━━━━━━\u001b[0m\u001b[37m\u001b[0m \u001b[1m1s\u001b[0m 333us/step - loss: 238433568.0000 - mae: 10577.2314 - val_loss: 223200560.0000 - val_mae: 10223.9961 - learning_rate: 0.0010\n",
      "Epoch 34/50\n",
      "\u001b[1m4216/4216\u001b[0m \u001b[32m━━━━━━━━━━━━━━━━━━━━\u001b[0m\u001b[37m\u001b[0m \u001b[1m1s\u001b[0m 333us/step - loss: 236637760.0000 - mae: 10551.3037 - val_loss: 222575216.0000 - val_mae: 10186.8369 - learning_rate: 0.0010\n",
      "Epoch 35/50\n",
      "\u001b[1m4216/4216\u001b[0m \u001b[32m━━━━━━━━━━━━━━━━━━━━\u001b[0m\u001b[37m\u001b[0m \u001b[1m1s\u001b[0m 336us/step - loss: 235749872.0000 - mae: 10533.7354 - val_loss: 221772928.0000 - val_mae: 10212.0674 - learning_rate: 0.0010\n",
      "Epoch 36/50\n",
      "\u001b[1m4216/4216\u001b[0m \u001b[32m━━━━━━━━━━━━━━━━━━━━\u001b[0m\u001b[37m\u001b[0m \u001b[1m1s\u001b[0m 333us/step - loss: 234277680.0000 - mae: 10488.0459 - val_loss: 221128320.0000 - val_mae: 10270.0791 - learning_rate: 0.0010\n",
      "Epoch 37/50\n",
      "\u001b[1m4216/4216\u001b[0m \u001b[32m━━━━━━━━━━━━━━━━━━━━\u001b[0m\u001b[37m\u001b[0m \u001b[1m1s\u001b[0m 329us/step - loss: 232912672.0000 - mae: 10473.2988 - val_loss: 219603328.0000 - val_mae: 10166.9062 - learning_rate: 0.0010\n",
      "Epoch 38/50\n",
      "\u001b[1m4216/4216\u001b[0m \u001b[32m━━━━━━━━━━━━━━━━━━━━\u001b[0m\u001b[37m\u001b[0m \u001b[1m1s\u001b[0m 338us/step - loss: 235756432.0000 - mae: 10553.8164 - val_loss: 218862736.0000 - val_mae: 10062.5791 - learning_rate: 0.0010\n",
      "Epoch 39/50\n",
      "\u001b[1m4216/4216\u001b[0m \u001b[32m━━━━━━━━━━━━━━━━━━━━\u001b[0m\u001b[37m\u001b[0m \u001b[1m1s\u001b[0m 326us/step - loss: 232729424.0000 - mae: 10476.7178 - val_loss: 217789072.0000 - val_mae: 10048.2842 - learning_rate: 0.0010\n",
      "Epoch 40/50\n",
      "\u001b[1m4216/4216\u001b[0m \u001b[32m━━━━━━━━━━━━━━━━━━━━\u001b[0m\u001b[37m\u001b[0m \u001b[1m1s\u001b[0m 326us/step - loss: 233514416.0000 - mae: 10505.8066 - val_loss: 217292304.0000 - val_mae: 10008.2715 - learning_rate: 0.0010\n",
      "Epoch 41/50\n",
      "\u001b[1m4216/4216\u001b[0m \u001b[32m━━━━━━━━━━━━━━━━━━━━\u001b[0m\u001b[37m\u001b[0m \u001b[1m1s\u001b[0m 329us/step - loss: 232453312.0000 - mae: 10486.4883 - val_loss: 216594992.0000 - val_mae: 10087.6104 - learning_rate: 0.0010\n",
      "Epoch 42/50\n",
      "\u001b[1m4216/4216\u001b[0m \u001b[32m━━━━━━━━━━━━━━━━━━━━\u001b[0m\u001b[37m\u001b[0m \u001b[1m1s\u001b[0m 333us/step - loss: 231452128.0000 - mae: 10469.6572 - val_loss: 216027376.0000 - val_mae: 10052.1289 - learning_rate: 0.0010\n",
      "Epoch 43/50\n",
      "\u001b[1m4216/4216\u001b[0m \u001b[32m━━━━━━━━━━━━━━━━━━━━\u001b[0m\u001b[37m\u001b[0m \u001b[1m1s\u001b[0m 331us/step - loss: 231417024.0000 - mae: 10466.3604 - val_loss: 215407136.0000 - val_mae: 10096.9062 - learning_rate: 0.0010\n",
      "Epoch 44/50\n",
      "\u001b[1m4216/4216\u001b[0m \u001b[32m━━━━━━━━━━━━━━━━━━━━\u001b[0m\u001b[37m\u001b[0m \u001b[1m1s\u001b[0m 331us/step - loss: 230662128.0000 - mae: 10454.0742 - val_loss: 214691952.0000 - val_mae: 10018.8887 - learning_rate: 0.0010\n",
      "Epoch 45/50\n",
      "\u001b[1m4216/4216\u001b[0m \u001b[32m━━━━━━━━━━━━━━━━━━━━\u001b[0m\u001b[37m\u001b[0m \u001b[1m1s\u001b[0m 333us/step - loss: 230248480.0000 - mae: 10459.8223 - val_loss: 213847264.0000 - val_mae: 9960.6094 - learning_rate: 0.0010\n",
      "Epoch 46/50\n",
      "\u001b[1m4216/4216\u001b[0m \u001b[32m━━━━━━━━━━━━━━━━━━━━\u001b[0m\u001b[37m\u001b[0m \u001b[1m1s\u001b[0m 326us/step - loss: 231137584.0000 - mae: 10458.2783 - val_loss: 213284416.0000 - val_mae: 10029.0010 - learning_rate: 0.0010\n",
      "Epoch 47/50\n",
      "\u001b[1m4216/4216\u001b[0m \u001b[32m━━━━━━━━━━━━━━━━━━━━\u001b[0m\u001b[37m\u001b[0m \u001b[1m1s\u001b[0m 326us/step - loss: 229472016.0000 - mae: 10441.5811 - val_loss: 212303472.0000 - val_mae: 9888.3525 - learning_rate: 0.0010\n",
      "Epoch 48/50\n",
      "\u001b[1m4216/4216\u001b[0m \u001b[32m━━━━━━━━━━━━━━━━━━━━\u001b[0m\u001b[37m\u001b[0m \u001b[1m1s\u001b[0m 327us/step - loss: 230325872.0000 - mae: 10467.4531 - val_loss: 211554224.0000 - val_mae: 9854.5332 - learning_rate: 0.0010\n",
      "Epoch 49/50\n",
      "\u001b[1m4216/4216\u001b[0m \u001b[32m━━━━━━━━━━━━━━━━━━━━\u001b[0m\u001b[37m\u001b[0m \u001b[1m1s\u001b[0m 328us/step - loss: 228765584.0000 - mae: 10420.3135 - val_loss: 210886832.0000 - val_mae: 9960.2930 - learning_rate: 0.0010\n",
      "Epoch 50/50\n",
      "\u001b[1m4216/4216\u001b[0m \u001b[32m━━━━━━━━━━━━━━━━━━━━\u001b[0m\u001b[37m\u001b[0m \u001b[1m1s\u001b[0m 338us/step - loss: 226480592.0000 - mae: 10398.7676 - val_loss: 210181712.0000 - val_mae: 9984.0977 - learning_rate: 0.0010\n"
     ]
    }
   ],
   "source": [
    "# ### Training the MLP\n",
    "# We'll use early stopping to prevent overfitting and reduce learning rate on plateau for better convergence.\n",
    "\n",
    "early_stopping = EarlyStopping(monitor='val_loss', patience=5, restore_best_weights=True)\n",
    "reduce_lr = ReduceLROnPlateau(monitor='val_loss', factor=0.2, patience=3)\n",
    "\n",
    "history = model.fit(\n",
    "    X_train_scaled, y_train,\n",
    "    validation_data=(X_val_scaled, y_val),\n",
    "    epochs=50,\n",
    "    batch_size=64,\n",
    "    callbacks=[early_stopping, reduce_lr],\n",
    "    verbose=1\n",
    ")"
   ]
  },
  {
   "cell_type": "markdown",
   "id": "4ad31e70-b32a-4a02-bc97-5043acfd011c",
   "metadata": {},
   "source": [
    "1. **Epoch Progress**:\n",
    "   - For each epoch, the following metrics are reported:\n",
    "     - **Training Loss**: The mean squared error on the training set.\n",
    "     - **MAE**: The Mean Absolute Error on the training set.\n",
    "     - **Validation Loss**: The mean squared error on the validation set, indicating generalization performance.\n",
    "     - **Validation MAE**: The Mean Absolute Error on the validation set.\n",
    "\n",
    "2. **Learning Rate**:\n",
    "   - The initial learning rate is displayed (0.001). This will reduce dynamically when the `ReduceLROnPlateau` condition is met.\n",
    "\n",
    "3. **Performance Trends**:\n",
    "   - Both training and validation losses decrease with each epoch, and MAE values improve. This suggests the model is learning effectively without overfitting, thanks to the callbacks.\n",
    "\n",
    "This step ensures the model is trained efficiently with mechanisms to prevent overfitting and improve convergence."
   ]
  },
  {
   "cell_type": "markdown",
   "id": "7007b47b-e26b-41d7-8a4f-65b8c46ffcec",
   "metadata": {},
   "source": [
    "This cell visualizes the training and validation loss across epochs to monitor the performance of the model during training:\n",
    "\n",
    "1. **Plotting Training and Validation Loss**:\n",
    "   - `history.history['loss']` contains the training loss values for each epoch.\n",
    "   - `history.history['val_loss']` contains the validation loss values for each epoch.\n",
    "   - Two separate lines are plotted for `Train Loss` and `Val Loss` using `plt.plot`.\n",
    "\n",
    "2. **Graph Customization**:\n",
    "   - **Title**: \"Training and Validation Loss\" provides context for the plot.\n",
    "   - **X-axis**: Labeled \"Epochs\" to indicate the number of epochs.\n",
    "   - **Y-axis**: Labeled \"MSE\" (Mean Squared Error), the loss metric used during training.\n",
    "   - **Legend**: Displays labels for the two plotted lines for easy interpretation.\n",
    "\n",
    "3. **Visualization**:\n",
    "   - The `plt.show()` function is used to render the plot.\n",
    "   - This graph provides insights into the convergence and generalization of the model over time."
   ]
  },
  {
   "cell_type": "code",
   "execution_count": 38,
   "id": "f0fb9beb-3bc8-4e0c-9cf9-ef706de1fbd4",
   "metadata": {},
   "outputs": [
    {
     "data": {
      "image/png": "[encoded data removed]",
      "text/plain": [
       "<Figure size 1000x500 with 1 Axes>"
      ]
     },
     "metadata": {},
     "output_type": "display_data"
    }
   ],
   "source": [
    "# ### Plot Training Curves\n",
    "plt.figure()\n",
    "plt.plot(history.history['loss'], label='Train Loss')\n",
    "plt.plot(history.history['val_loss'], label='Val Loss')\n",
    "plt.title(\"Training and Validation Loss\")\n",
    "plt.xlabel(\"Epochs\")\n",
    "plt.ylabel(\"MSE\")\n",
    "plt.legend()\n",
    "plt.show()\n"
   ]
  },
  {
   "cell_type": "markdown",
   "id": "a45cfc03-568e-46c8-8649-e4d9ea7d61e5",
   "metadata": {},
   "source": [
    "1. **Training Loss**:\n",
    "   - The training loss decreases steadily across epochs, indicating that the model is learning from the training data effectively.\n",
    "\n",
    "2. **Validation Loss**:\n",
    "   - The validation loss also decreases and follows a similar trend as the training loss. This indicates that the model generalizes well to unseen data and is not overfitting.\n",
    "\n",
    "3. **Convergence**:\n",
    "   - The gap between the training and validation loss is small, which suggests good generalization without significant overfitting.\n",
    "\n",
    "4. **Takeaway**:\n",
    "   - The visualization confirms that the training process is progressing as expected, with both training and validation errors reducing over time."
   ]
  },
  {
   "cell_type": "markdown",
   "id": "73023ab3-e825-4232-b818-b939f6654cce",
   "metadata": {},
   "source": [
    "This cell evaluates the trained MLP (Multi-Layer Perceptron) model on the validation dataset to measure its performance:\n",
    "\n",
    "1. **Predictions**:\n",
    "   - `model.predict(X_val_scaled)`: Generates predictions (`y_val_pred_mlp`) for the scaled validation dataset.\n",
    "\n",
    "2. **Evaluation Metrics**:\n",
    "   - **MAE (Mean Absolute Error)**:\n",
    "     - Measures the average absolute difference between the predicted and actual values.\n",
    "     - Computed using `mean_absolute_error(y_val, y_val_pred_mlp)`.\n",
    "   - **MSE (Mean Squared Error)**:\n",
    "     - Measures the average squared difference between the predicted and actual values.\n",
    "     - Computed using `mean_squared_error(y_val, y_val_pred_mlp)`.\n",
    "   - **R² Score**:\n",
    "     - Indicates how well the model explains the variance in the target variable.\n",
    "     - Computed using `r2_score(y_val, y_val_pred_mlp)`.\n",
    "\n",
    "3. **Output**:\n",
    "   - The computed metrics (MAE, MSE, and R²) are printed in a formatted string to summarize the model's performance."
   ]
  },
  {
   "cell_type": "code",
   "execution_count": 39,
   "id": "9263d5cd-cab5-4e7a-91b7-bb23d754aafa",
   "metadata": {},
   "outputs": [
    {
     "name": "stdout",
     "output_type": "stream",
     "text": [
      "\u001b[1m2108/2108\u001b[0m \u001b[32m━━━━━━━━━━━━━━━━━━━━\u001b[0m\u001b[37m\u001b[0m \u001b[1m0s\u001b[0m 172us/step\n",
      "\n",
      "MLP Model Performance on Validation Set:\n",
      "MAE: 9984.10, MSE: 210181791.21, R²: 0.394\n"
     ]
    }
   ],
   "source": [
    "# ### Evaluate the MLP on Validation Set\n",
    "y_val_pred_mlp = model.predict(X_val_scaled)\n",
    "mlp_mae = mean_absolute_error(y_val, y_val_pred_mlp)\n",
    "mlp_mse = mean_squared_error(y_val, y_val_pred_mlp)\n",
    "mlp_r2 = r2_score(y_val, y_val_pred_mlp)\n",
    "\n",
    "print(\"\\nMLP Model Performance on Validation Set:\")\n",
    "print(f\"MAE: {mlp_mae:.2f}, MSE: {mlp_mse:.2f}, R²: {mlp_r2:.3f}\")"
   ]
  },
  {
   "cell_type": "markdown",
   "id": "80172d6a-f6d3-485c-aac4-1cd60c95c82f",
   "metadata": {},
   "source": [
    "1. **Inference Performance**:\n",
    "   - The model completed predictions for the entire validation dataset (`2108/2108` samples) efficiently, as shown by the progress bar.\n",
    "\n",
    "2. **Model Performance Metrics**:\n",
    "   - **MAE**: `9984.10` indicates the average error magnitude in predictions.\n",
    "   - **MSE**: `21081791.21` shows the squared error, highlighting larger deviations more strongly.\n",
    "   - **R² Score**: `0.394` reflects that the model explains ~39.4% of the variance in the validation target variable.\n",
    "\n",
    "3. **Takeaway**:\n",
    "   - The MLP model demonstrates moderate performance, with room for improvement in explaining the variance (`R²`). The relatively low MAE suggests reasonable predictive accuracy on the validation set."
   ]
  },
  {
   "cell_type": "code",
   "execution_count": 40,
   "id": "9310ba4f-78b9-400d-962b-ce90312253e2",
   "metadata": {},
   "outputs": [
    {
     "name": "stdout",
     "output_type": "stream",
     "text": [
      "\n",
      "Comparison of Models on Validation Set:\n"
     ]
    },
    {
     "data": {
      "text/html": [
       "<div>\n",
       "<style scoped>\n",
       "    .dataframe tbody tr th:only-of-type {\n",
       "        vertical-align: middle;\n",
       "    }\n",
       "\n",
       "    .dataframe tbody tr th {\n",
       "        vertical-align: top;\n",
       "    }\n",
       "\n",
       "    .dataframe thead th {\n",
       "        text-align: right;\n",
       "    }\n",
       "</style>\n",
       "<table border=\"1\" class=\"dataframe\">\n",
       "  <thead>\n",
       "    <tr style=\"text-align: right;\">\n",
       "      <th></th>\n",
       "      <th>Model</th>\n",
       "      <th>MAE</th>\n",
       "      <th>MSE</th>\n",
       "      <th>R2</th>\n",
       "    </tr>\n",
       "  </thead>\n",
       "  <tbody>\n",
       "    <tr>\n",
       "      <th>0</th>\n",
       "      <td>Linear Regression</td>\n",
       "      <td>13294.957425</td>\n",
       "      <td>3.159890e+08</td>\n",
       "      <td>0.088661</td>\n",
       "    </tr>\n",
       "    <tr>\n",
       "      <th>1</th>\n",
       "      <td>Random Forest</td>\n",
       "      <td>1257.517609</td>\n",
       "      <td>6.534194e+06</td>\n",
       "      <td>0.981155</td>\n",
       "    </tr>\n",
       "    <tr>\n",
       "      <th>2</th>\n",
       "      <td>MLP</td>\n",
       "      <td>9984.095689</td>\n",
       "      <td>2.101818e+08</td>\n",
       "      <td>0.393818</td>\n",
       "    </tr>\n",
       "  </tbody>\n",
       "</table>\n",
       "</div>"
      ],
      "text/plain": [
       "               Model           MAE           MSE        R2\n",
       "0  Linear Regression  13294.957425  3.159890e+08  0.088661\n",
       "1      Random Forest   1257.517609  6.534194e+06  0.981155\n",
       "2                MLP   9984.095689  2.101818e+08  0.393818"
      ]
     },
     "metadata": {},
     "output_type": "display_data"
    }
   ],
   "source": [
    "# ### Compare with Baselines\n",
    "results = pd.DataFrame({\n",
    "    \"Model\": [\"Linear Regression\", \"Random Forest\", \"MLP\"],\n",
    "    \"MAE\": [lr_mae, rf_mae, mlp_mae],\n",
    "    \"MSE\": [lr_mse, rf_mse, mlp_mse],\n",
    "    \"R2\": [lr_r2, rf_r2, mlp_r2]\n",
    "})\n",
    "\n",
    "print(\"\\nComparison of Models on Validation Set:\")\n",
    "display(results)"
   ]
  },
  {
   "cell_type": "code",
   "execution_count": 41,
   "id": "f851b5b0-fb25-41d2-9517-6dd939fbb825",
   "metadata": {},
   "outputs": [
    {
     "name": "stderr",
     "output_type": "stream",
     "text": [
      "WARNING:absl:You are saving your model as an HDF5 file via `model.save()` or `keras.saving.save_model(model)`. This file format is considered legacy. We recommend using instead the native Keras format, e.g. `model.save('my_model.keras')` or `keras.saving.save_model(model, 'my_model.keras')`. \n"
     ]
    },
    {
     "name": "stdout",
     "output_type": "stream",
     "text": [
      "\n",
      "Model saved successfully.\n"
     ]
    }
   ],
   "source": [
    "# Save the trained MLP model\n",
    "model.save(f\"{DATA_DIR}/demand_forecasting_model.h5\")\n",
    "print(\"\\nModel saved successfully.\")"
   ]
  },
  {
   "cell_type": "markdown",
   "id": "29fca746-11fb-419e-91c3-3630dcb0e36a",
   "metadata": {},
   "source": [
    "## **Comparison of Models**\n",
    "### **Objective**:\n",
    "- Compare the performance of three models: **Linear Regression**, **Random Forest**, and **MLP (Multi-Layer Perceptron)**.\n",
    "\n",
    "### **Metrics Used**:\n",
    "- **MAE (Mean Absolute Error)**: Measures the average absolute difference between predictions and actual values.\n",
    "- **MSE (Mean Squared Error)**: Measures the average squared difference, giving more weight to larger errors.\n",
    "- **R² Score**: Explains the proportion of variance in the target variable that the model accounts for.\n",
    "\n",
    "### **Results Summary**:\n",
    "| Model              | MAE       | MSE         | R²     |\n",
    "|---------------------|-----------|-------------|--------|\n",
    "| Linear Regression   | 13,294.96 | 315,988,963.38 | 0.089 |\n",
    "| Random Forest       | 1,257.52  | 6,534,194.71  | 0.981 |\n",
    "| MLP (Neural Network)| 9,984.10  | 210,817,991.21 | 0.394 |\n",
    "\n",
    "- **Linear Regression**:\n",
    "  - High MAE and MSE indicate poor predictive capability.\n",
    "  - R² of **0.089** shows very low variance explanation.\n",
    "  \n",
    "- **Random Forest**:\n",
    "  - Outperforms other models significantly with the lowest MAE and MSE.\n",
    "  - R² of **0.981** indicates excellent variance explanation.\n",
    "  \n",
    "- **MLP (Neural Network)**:\n",
    "  - Moderate performance with lower errors than Linear Regression but not as good as Random Forest.\n",
    "  - R² of **0.394** shows that it explains ~39.3% of the variance in the target variable.\n",
    "\n",
    "---\n",
    "\n",
    "## **Saving the Model**\n",
    "### **Objective**:\n",
    "- Save the trained MLP model for later use (e.g., inference or deployment).\n",
    "\n",
    "### **Method**:\n",
    "- Used `model.save()` to save the model as an HDF5 file (`demand_forecasting_model.h5`).\n",
    "- **Warning**: Keras suggests using the `.keras` file format instead of HDF5 for saving models in modern workflows.\n",
    "\n",
    "---\n",
    "\n",
    "## **Key Takeaways**\n",
    "- **Performance**:\n",
    "  - Random Forest is the best-performing model, making it the ideal choice for this dataset.\n",
    "  \n",
    "- **MLP Utility**:\n",
    "  - Though not the best performer in this scenario, MLP is a scalable approach for larger datasets with non-linear patterns.\n",
    "  \n",
    "- **Model Saving**:\n",
    "  - Saving the MLP ensures reusability without retraining, but consider using the `.keras` format for better compatibility with modern tools."
   ]
  },
  {
   "cell_type": "markdown",
   "id": "5fd7a54f-a69f-4979-9f97-08855fb8f9bf",
   "metadata": {},
   "source": [
    "### MIT License\n",
    "\n",
    "Copyright (c) 2024 yagnik-10\n",
    "\n",
    "Permission is hereby granted, free of charge, to any person obtaining a copy\n",
    "of this software and associated documentation files (the \"Software\"), to deal\n",
    "in the Software without restriction, including without limitation the rights\n",
    "to use, copy, modify, merge, publish, distribute, sublicense, and/or sell\n",
    "copies of the Software, and to permit persons to whom the Software is\n",
    "furnished to do so, subject to the following conditions:\n",
    "\n",
    "The above copyright notice and this permission notice shall be included in all\n",
    "copies or substantial portions of the Software.\n",
    "\n",
    "THE SOFTWARE IS PROVIDED \"AS IS\", WITHOUT WARRANTY OF ANY KIND, EXPRESS OR\n",
    "IMPLIED, INCLUDING BUT NOT LIMITED TO THE WARRANTIES OF MERCHANTABILITY,\n",
    "FITNESS FOR A PARTICULAR PURPOSE AND NONINFRINGEMENT. IN NO EVENT SHALL THE\n",
    "AUTHORS OR COPYRIGHT HOLDERS BE LIABLE FOR ANY CLAIM, DAMAGES OR OTHER\n",
    "LIABILITY, WHETHER IN AN ACTION OF CONTRACT, TORT OR OTHERWISE, ARISING FROM,\n",
    "OUT OF OR IN CONNECTION WITH THE SOFTWARE OR THE USE OR OTHER DEALINGS IN THE\n",
    "SOFTWARE."
   ]
  }
 ],
 "metadata": {
  "kernelspec": {
   "display_name": "Python 3 (ipykernel)",
   "language": "python",
   "name": "python3"
  },
  "language_info": {
   "codemirror_mode": {
    "name": "ipython",
    "version": 3
   },
   "file_extension": ".py",
   "mimetype": "text/x-python",
   "name": "python",
   "nbconvert_exporter": "python",
   "pygments_lexer": "ipython3",
   "version": "3.12.4"
  }
 },
 "nbformat": 4,
 "nbformat_minor": 5
}
