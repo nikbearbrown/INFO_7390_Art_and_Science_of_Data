{
 "cells": [
  {
   "cell_type": "markdown",
   "id": "3169b081-8106-4640-ba0b-a9cd3ceadecb",
   "metadata": {},
   "source": [
    "## Assignment 2-Casuality Crash Course"
   ]
  },
  {
   "cell_type": "markdown",
   "id": "4d37a6ee-1176-4213-be25-786509be4263",
   "metadata": {},
   "source": [
    "## Objective-\n",
    "\n",
    "The objective of this assignment is as follows- Create a Jupyter Notebook that teaches something from the section."
   ]
  },
  {
   "cell_type": "markdown",
   "id": "0b99fba4-0477-46c2-a0b1-64a9c79c9416",
   "metadata": {},
   "source": [
    "## Abstract:\n",
    "In this notebook, we will review the ideas of causality,along with how we applied them to describe the various Causal Inference Techniques that establish causal links between variables. Given that causal inference entails determining the precise relationship between one variable and another, it is crucial for making data-driven judgments and predictions. This notebook clarifies the subjects and offers useful code examples for the same."
   ]
  },
  {
   "cell_type": "markdown",
   "id": "c6d5e97b-cb3f-4ce4-a731-9626750a9b8d",
   "metadata": {},
   "source": [
    "## Correlation:\n",
    "\n",
    "Correlation means there is a statistical association between variables. Causation means that a change in one variable causes a change in another variable. Correlation and causation are two related ideas, but understanding their differences will help us critically evaluate sources and interpret scientific research."
   ]
  },
  {
   "cell_type": "markdown",
   "id": "bdd9ec7d-01b3-4b1b-913c-61b24fd55033",
   "metadata": {},
   "source": [
    "## Uses Of Correlations:\n",
    "\n",
    "Prediction:\n",
    "If there is a relationship between two variables, we can make predictions about one from another.\n",
    "![Online Image](https://www.simplypsychology.org/wp-content/uploads/correlation-variables-1500x1536.jpeg)"
   ]
  },
  {
   "cell_type": "markdown",
   "id": "d3a6edce-b021-45eb-9779-fa111c7a1270",
   "metadata": {},
   "source": [
    "## Causality:\n",
    "\n",
    "Causality in data science refers to the relationship between cause and effect, where changes in one variable directly influence changes in another variable. It involves understanding and quantifying the impact that one variable has on another, often through experimental manipulation or statistical analysis of observational data. Establishing causality is essential for making accurate predictions, understanding complex systems, and informing decision-making processes. However, establishing causal relationships in data science can be challenging due to potential confounding factors, biases, and the complexity of real-world systems. Various statistical techniques, experimental designs, and causal inference methods are employed to identify and validate causal relationships in data."
   ]
  },
  {
   "cell_type": "markdown",
   "id": "621c023e-0685-4cb8-bef3-47cf849a2f15",
   "metadata": {},
   "source": [
    "## Establishing Causation:\n",
    "To establish causation, it is typically required to show that:\n",
    "\n",
    "a. the cause occurs before the effect in time.\n",
    "\n",
    "\n",
    "b. the cause and effect are strongly correlated.\n",
    "\n",
    "\n",
    "c. all other possible causes have been ruled out."
   ]
  },
  {
   "cell_type": "markdown",
   "id": "554c1ba4-dee4-4630-9150-e31e662432c5",
   "metadata": {},
   "source": [
    "## Correlation Vs. Causation\n",
    "\n",
    "When two variables are related, they are said to be in **correlation**. The predictor variable, also known as the independent variable, and the dependent variable, also known as the outcome variable.\n",
    "\n",
    "It is possible to carry out experiments to prove **causation**. In an experiment, the environment is controlled to get rid of unimportant variables, and the independent variable is isolated and changed to see how it affects the dependent variable.\n",
    "\n",
    "However, a correlation between two variables does not always imply that changes in one variable are the result of changes in the values of the other. Only the existence of a relationship between variables is shown by a correlation."
   ]
  },
  {
   "cell_type": "markdown",
   "id": "b741288b-4c79-4b08-a658-17d935819e72",
   "metadata": {},
   "source": [
    "## Example:\n",
    "\n",
    "The figures below provide some examples of these erroneous correlations. It demonstrate how ice cream is seemingly responsible for numerous negative events, such as polio epidemics, shark attacks, and forest fires."
   ]
  },
  {
   "cell_type": "markdown",
   "id": "847c713e-f2c1-4a90-bcd2-8a2e1dbbe98b",
   "metadata": {},
   "source": [
    "![Online Image](https://miro.medium.com/v2/resize:fit:1683/0*4XeZi0EEOD7XvFKO)\n"
   ]
  },
  {
   "cell_type": "markdown",
   "id": "534d744d-6898-4bfb-8877-9b4f04b4e577",
   "metadata": {},
   "source": [
    "The diagram below describes graph Ice cream sales and shark attacks,between the month of Jan to Nov."
   ]
  },
  {
   "cell_type": "markdown",
   "id": "d54174c3-bc32-4072-be1a-32ba006e62a0",
   "metadata": {},
   "source": [
    "![Online Image](https://www.simplypsychology.org/wp-content/uploads/causation-correlation.jpg)\r\n"
   ]
  },
  {
   "cell_type": "markdown",
   "id": "3b03f082-7053-4426-a46b-7524bbe5e024",
   "metadata": {},
   "source": [
    "A close examination of these narratives would lead one to conclude that ice cream should have been banned long ago. Public health professionals advised people to give up ice cream as part of an \"anti-polio diet\" during the 1940s polio outbreak. Eventually, they discovered that the association between ice cream intake and polio outbreaks was just the result of the summertime peak for polio cases."
   ]
  },
  {
   "cell_type": "markdown",
   "id": "d51be0fe-3b79-4ba2-9c16-e2ab2d75406f",
   "metadata": {},
   "source": [
    "![Online Image](https://miro.medium.com/max/1693/0*77gKHUmVi5c1DQ5K)"
   ]
  },
  {
   "cell_type": "markdown",
   "id": "c9746833-a47b-4396-97d0-fd351735b02a",
   "metadata": {},
   "source": [
    "![Online Image](https://www.simplypsychology.org/wp-content/uploads/Correlation_vs_causation-1536x1536.jpeg)"
   ]
  },
  {
   "cell_type": "markdown",
   "id": "21ced4b0-8dd7-4307-a9fa-f93d540dd918",
   "metadata": {},
   "source": [
    "Variables can occasionally be linked because one does cause the other, but it's also possible that a confounding variable or another factor is to blame for the systematic movement in our variables of interest.\n",
    "\n",
    "Because a third variable might be present, correlation does not always imply causality. For instance, there is a correlation between dying and being a patient in a hospital; however, this does not imply that one occurrence causes the other because there may be a third variable at play (such as exercise and nutrition)."
   ]
  },
  {
   "cell_type": "markdown",
   "id": "a125d137-3742-4fc8-a242-8dfa02bb8f7a",
   "metadata": {},
   "source": [
    "## Casual Inference:\n",
    "\n",
    "Causal inference is the process of determining the causal relationship between two variables. It is the study of how one variable affects another variable. For example, in a medical study, causal inference would be used to determine whether a particular treatment caused a particular outcome.\n",
    "\n",
    "Causal inference is an essential tool in many fields, including economics, political science, and epidemiology. In this article, we will provide a crash course in causal inference, covering the basics of causality, methods of causal inference, and some common pitfalls to avoid."
   ]
  },
  {
   "cell_type": "markdown",
   "id": "3c0c929e-e3de-4ceb-a15a-479a5a9f873b",
   "metadata": {},
   "source": [
    "![Image Title](https://miro.medium.com/v2/resize:fit:828/format:webp/1*Ex7d9GHw9b8u5md-egF4_A.png)\n"
   ]
  },
  {
   "cell_type": "markdown",
   "id": "1172ece2-363b-4fd9-9d14-3db666675c0f",
   "metadata": {},
   "source": [
    "Example of Casual Inference:\n",
    "Suppose a person is Sleeping in shoes which causes him or her headache next day.\n",
    "![Online Image](https://cdn.plainconcepts.com/wp-content/uploads/2023/03/causal-ml-explanation.png)"
   ]
  },
  {
   "cell_type": "markdown",
   "id": "eb062adc-359c-4463-877d-7ed0aa881960",
   "metadata": {},
   "source": [
    "If we try to find out the behavior for this action of a particular person, it could be that he or she had been drunk the night before or might be tired very much.\n",
    "![Online Image](https://cdn.plainconcepts.com/wp-content/uploads/2023/03/causal-ml-explanation-end.png)\r\n"
   ]
  },
  {
   "cell_type": "markdown",
   "id": "c446e5f2-d142-4079-babb-b8c47c537076",
   "metadata": {},
   "source": [
    "This reason is called a confounding variable. This variable is related to both the input and output variables in a model and can distort the causal relationship between them. In other words, confounding is a variable that affects both the input and output variables and can give rise to an apparent causal relationship that is actually spurious.\n",
    "Finally, the total association would be:\n",
    "\n",
    "![Online Image](https://cdn.plainconcepts.com/wp-content/uploads/2023/03/causal-ml-total-association.png)\r\n"
   ]
  },
  {
   "cell_type": "markdown",
   "id": "23d0a36f-702b-4480-bcd8-53039582c8a4",
   "metadata": {},
   "source": [
    "Formally, T causes Y if a change in T causes a change in Y, and holds all else constant. Then, the causal effect is the magnitude by which Y changes by changing one unit in T:"
   ]
  },
  {
   "cell_type": "markdown",
   "id": "e7ae95c8-56a5-494a-9a12-7bd7bb9d179b",
   "metadata": {},
   "source": [
    "![Online Image](https://cdn.plainconcepts.com/wp-content/uploads/2023/03/causal-ml-equation.jpg)\n"
   ]
  },
  {
   "cell_type": "markdown",
   "id": "a5c7f599-b749-4ccf-963c-8d0100c54e5a",
   "metadata": {},
   "source": [
    "## Casual Inference Method Techniques:\n",
    "\n",
    "Causal inference methods often involve analyzing observational data or conducting experiments to uncover causal relationships. This can include techniques such as:\n",
    "\n",
    "1. Randomized controlled trials (RCTs): Experimental designs where participants are randomly assigned to different treatment groups. RCTs are considered the gold standard for establishing causality because randomization helps control for confounding variables.\n",
    "\n",
    "2. Natural experiments: Situations where the assignment of treatments or exposures occurs naturally, mimicking the random assignment of a controlled experiment. Natural experiments allow researchers to infer causality by exploiting exogenous variations in the data.\n",
    "\n",
    "3. Causal modeling: Statistical techniques such as structural equation modeling, instrumental variables, propensity score matching, and causal mediation analysis are used to estimate causal effects from observational data while accounting for potential confounding factors.\n",
    "\n",
    "4. Counterfactual analysis: Comparing what happened to what would have happened under different conditions (counterfactuals) to estimate causal effects."
   ]
  },
  {
   "cell_type": "markdown",
   "id": "df746527-6b9b-4039-88c3-de5bb0dd604c",
   "metadata": {},
   "source": [
    "## Why is Casuasl Inference Important in DataScience?\n",
    "\n",
    "1. Improving marketing decision-making: Causal inference can be used to assess the impact of marketing campaigns on customer acquisition or on the loyalty of existing customers. Thus, strategies are optimized by understanding the causal relationship between marketing actions and business results and improving ROI.\n",
    "\n",
    "2. Operational process optimization: This can be applied to operational processes such as manufacturing or logistics. By understanding the causal relationships between key variables, bottlenecks and areas for improvement in processes can be identified, leading to significant improvements in efficiency and quality.\n",
    "\n",
    "3. Fraud prevention: By analyzing the causal relationships between key variables, suspicious patterns indicating fraud or illegal activities can be identified."
   ]
  },
  {
   "cell_type": "markdown",
   "id": "e36bd995-bc08-44d6-a13b-bbc001fe5f1a",
   "metadata": {},
   "source": [
    "## Concepts in Causal Inference\n",
    "\n",
    "## Causal Models:\n",
    "\n",
    "1.Beyond Correlations: Unlike correlations, which simply show an association between variables, causal models help us understand cause-and-effect relationships. Just because two things are related (e.g., ice cream sales and shark attacks rise together in summer) doesn't mean one causes the other. DAGs help us untangle these relationships.\n",
    "\n",
    "\n",
    "2.Counterfactuals: These are \"what-if\" scenarios that allow us to think about causal effects. Imagine a DAG with exercise and weight loss. A counterfactual would be: \"what if a person exercised for a month but didn't lose weight?\" By analyzing DAGs, we can understand how changing one variable might affect another, based on the causal structure.\n",
    "\n",
    "\n",
    "3.Types of Causal Models: DAGs are a specific type, but other models like structural equation models (SEMs) can also represent causal relationships mathematically.lly."
   ]
  },
  {
   "cell_type": "markdown",
   "id": "b6010b8a-067a-4a7f-b274-ccba23641d50",
   "metadata": {},
   "source": [
    "## Directed Acyclic Graphs (DAGs):\n",
    "\n",
    "1. Visualizing Assumptions: DAGs are powerful because they force researchers to be explicit about their assumptions regarding causal relationships. Each arrow represents a causal effect, with the variable at the tail causing the one at the head.\n",
    "No Cycles: The \"acyclic\" part means there are no loops in the graph. This ensures that a variable cannot cause itself, which would violate the idea of clear cause-and-effect.\n",
    "\n",
    "2. Identifying Confounding: A confounder is a variable that influences both the cause and the effect, potentially leading to misleading correlations. By analyzing DAGs, we can identify potential confounders and design studies that account for them.\n",
    "\n",
    "3. Intervention vs. Observation: DAGs are particularly helpful when studying interventions (e.g., a new drug). Observational data (e.g., people who exercise vs. those who don't) can be misleading due to confounding. DAGs help us understand how interventions would impact outcomes."
   ]
  },
  {
   "cell_type": "markdown",
   "id": "d42e87c6-5f26-4a76-9035-b9ea23caa312",
   "metadata": {},
   "source": [
    "## Counterfactual Reasoning\n",
    "Counterfactual reasoning, also known as \"what-if\" reasoning, is a core concept in causal inference. It allows us to think about alternative scenarios and imagine how things might have been different if a particular cause hadn't happened.\r\n",
    "\r\n",
    "Here's a breakdown of counterfactual reasoning in causal inference:\r\n",
    "\r\n",
    "Thinking about Alternatives: It revolves around asking \"what if\" questions to understand causal effects. Imagine a cause (X) and an effect (Y). Counterfactual reasoning asks: \"What would the outcome (Y) have been if the cause (X) hadn't happened?\" (Y without X).\r\n",
    "Example: In the \"studying and grades\" example, a counterfactual question would be: \"What if a student didn't study much but still got good grades?\" This can help identify other factors influencing grdes."
   ]
  },
  {
   "cell_type": "markdown",
   "id": "d0b57c78-a761-4587-866d-c472632e81c1",
   "metadata": {},
   "source": [
    "## Example of Counterfactual Reasoning:\n",
    "\n",
    "A counterfactual explanation describes a causal situation in the form: “If X had not occurred, Y would not have occurred”. For example: “If I hadn’t taken a sip of this hot coffee, I wouldn’t have burned my tongue”. Event Y is that I burned my tongue; cause X is that I had a hot coffee. Thinking in counterfactuals requires imagining a hypothetical reality that contradicts the observed facts (for example, a world in which I have not drunk the hot coffee), hence the name “counterfactual”. The ability to think in counterfactuals makes us humans so smart compared to other animals.\n",
    "In interpretable machine learning, counterfactual explanations can be used to explain predictions of individual instances. The “event” is the predicted outcome of an instance, the “causes” are the particular feature values of this instance that were input to the model and “caused” a certain prediction. Displayed as a graph, the relationship between the inputs and the prediction is very simple: The feature values cause the prediction."
   ]
  },
  {
   "cell_type": "markdown",
   "id": "19b0883e-c3fe-4076-8422-66a765106764",
   "metadata": {},
   "source": [
    "![Online Image](https://christophm.github.io/interpretable-ml-book/images/graph.jpg)"
   ]
  },
  {
   "cell_type": "markdown",
   "id": "a19007ad-4fca-4c1e-a2ef-8e94954103df",
   "metadata": {},
   "source": [
    "Counterfactual explanations can be used to understand individual instance predictions in interpretable machine learning. The anticipated result of an instance is its \"event,\" and its specific feature values that were fed into the model to \"cause\" a certain prediction are its \"causes.\" The link between the inputs and the prediction, as shown in a graph, is relatively straightforward: The feature values influence the prediction."
   ]
  },
  {
   "cell_type": "markdown",
   "id": "6e1118f9-e462-45a5-9d2b-51ce92f5d595",
   "metadata": {},
   "source": [
    "## Causal Effect:\r\n",
    "\r\n",
    "The causal effect refers to the impact of a cause (X) on an outcome (Y). It can be denoted as Y(X=1) - Y(X=0), where:\r\n",
    "\r\n",
    "- Y(X=1): Outcome for units that received the cause (treatment group).\r\n",
    "- Y(X=0): Outcome for units that didn't receive the cause (control group).\r\n",
    "\r\n",
    "Challenges arise in determining the causal effect because we cannot directly observe both Y(X=1) and Y(X=0) for the same unit. For example, imagine giving someone a medication and then observing their health improve. We cannot definitively attribute the improvement solely to the medication, as there could be other factors at play, making it challenging to establish a clear causal relationship.\r\n",
    "yway."
   ]
  },
  {
   "cell_type": "markdown",
   "id": "fdbed7c4-6d5a-40ab-b584-00cd87d72cc1",
   "metadata": {},
   "source": [
    "## Causal Effect Estimation:\n",
    "\n",
    "**Goal:** The goal of causal effect estimation is to estimate the average causal effect for a population, approximating Y(X=1) - Y(X=0).\n",
    "\n",
    "**Methods:** There are various methods for estimating causal effects, each with its strengths and weaknesses. Here are two common approaches:\n",
    "\n",
    "1. **Randomized Controlled Trials (RCTs):**\n",
    "   - **Description:** RCTs are considered the gold standard for estimating causal effects. In RCTs, units are randomly assigned to receive the cause (treatment) or not (control).\n",
    "   - **Advantages:** Random assignment helps control for confounding variables, i.e., other factors affecting the outcome, resulting in unbiased causal effect estimates.\n",
    "   - **Challenges:** RCTs may not always be feasible due to ethical or practical reasons. Additionally, they can be costly and time-consuming.\n",
    "\n",
    "2. **Observational Studies:**\n",
    "   - **Description:** Observational studies analyze existing data where units were not randomly assigned to a cause. These methods require careful consideration of confounding variables.\n",
    "   - **Approaches:** Observational studies often rely on statistical adjustments or techniques like propensity score matching to estimate causal effects.\n",
    "   - **Challenges:** Confounding variables are a major challenge in observational studies, and accurately accounting for them is crucial for obtaining reliable causal effect estimates.\n",
    "\n",
    "Both RCTs and observational studies play important roles in causal inference, with RCTs providing rigorous control over confounding variables but often being limited in practicality, while observational studies allow for analysis of existing data but require sophisticated statistical techniques to address confounding.\n"
   ]
  },
  {
   "cell_type": "markdown",
   "id": "1d324b49-acb2-4dcc-83b8-82127a981ad5",
   "metadata": {},
   "source": [
    "## Confounding Variables:\n",
    "\n",
    "Confounding variables, also known as confounders or confounding factors, are extraneous variables that exhibit relationships with both the independent and dependent variables in a study. A variable qualifies as a confounder if it meets two criteria:\n",
    "\n",
    "1. **Correlation with the Independent Variable:** The confounding variable is correlated with the independent variable, although this correlation does not necessarily imply causation.\n",
    "2. **Causal Relationship with the Dependent Variable:** The confounding variable has a causal relationship with the dependent variable.\n"
   ]
  },
  {
   "cell_type": "markdown",
   "id": "7a42ef93-cdd3-4474-aff6-fab108a05cc0",
   "metadata": {},
   "source": [
    "**Example of a Confounding Variable:**\n",
    "\n",
    "Imagine collecting data on sunburns and ice cream consumption and noticing a correlation where higher ice cream consumption is associated with an increased probability of sunburn. However, this correlation does not indicate a causal relationship between ice cream consumption and sunburn. The confounding variable in this scenario is temperature. Elevated temperatures not only lead to higher ice cream consumption but also encourage people to spend more time outdoors, increasing their exposure to the sun and, consequently, the likelihood of getting sunburned.\n"
   ]
  },
  {
   "cell_type": "markdown",
   "id": "b12564e0-b606-43a9-86bb-a74f1b8a814d",
   "metadata": {},
   "source": [
    "![Online Image](https://www.scribbr.co.uk/wp-content/uploads/2022/05/Conceptual-model-with-a-confounding-variable.webp)"
   ]
  },
  {
   "cell_type": "markdown",
   "id": "eee8aded-8cfb-4eb4-9816-76790d0451c2",
   "metadata": {},
   "source": [
    "### Step 1: Importing package / libraries"
   ]
  },
  {
   "cell_type": "code",
   "execution_count": 1,
   "id": "b49693e5-78ca-4539-b54a-8cac3dd8f8f1",
   "metadata": {},
   "outputs": [],
   "source": [
    "# Importing necessary libraries for data manipulation and analysis\n",
    "import numpy as np \n",
    "import pandas as pd\n",
    "\n",
    "# Importing libraries for data visualization\n",
    "import matplotlib.pylab as plt\n",
    "import seaborn as sns\n",
    "\n",
    "# Importing libraries for data preprocessing\n",
    "from sklearn.preprocessing import LabelEncoder\n",
    "\n",
    "# Importing libraries for machine learning models, training, and testing\n",
    "from sklearn.model_selection import train_test_split\n",
    "\n",
    "# Importing libraries for machine learning pipelines and model evaluation\n",
    "from sklearn.linear_model import LinearRegression\n",
    "from sklearn.metrics import mean_squared_error\n",
    "from sklearn.metrics import classification_report, confusion_matrix, precision_score, recall_score, f1_score, accuracy_score, roc_auc_score\n",
    "\n",
    "#Importing Libararies for statistical modeling and analysis.\n",
    "import statsmodels.api as sm\n",
    "\n",
    "#Importing the Casual Model.\n",
    "from causalinference import CausalModel\n",
    "import networkx as nx\n",
    "import matplotlib.pyplot as plt"
   ]
  },
  {
   "cell_type": "markdown",
   "id": "b705b94b-f2d1-4fb7-a128-e7ad5e784032",
   "metadata": {},
   "source": [
    "### Step-2: Loading Data"
   ]
  },
  {
   "cell_type": "code",
   "execution_count": 2,
   "id": "163ae81e-d345-49ab-8177-37c5406de6fa",
   "metadata": {
    "scrolled": true
   },
   "outputs": [
    {
     "data": {
      "text/html": [
       "<div>\n",
       "<style scoped>\n",
       "    .dataframe tbody tr th:only-of-type {\n",
       "        vertical-align: middle;\n",
       "    }\n",
       "\n",
       "    .dataframe tbody tr th {\n",
       "        vertical-align: top;\n",
       "    }\n",
       "\n",
       "    .dataframe thead th {\n",
       "        text-align: right;\n",
       "    }\n",
       "</style>\n",
       "<table border=\"1\" class=\"dataframe\">\n",
       "  <thead>\n",
       "    <tr style=\"text-align: right;\">\n",
       "      <th></th>\n",
       "      <th>age</th>\n",
       "      <th>workclass</th>\n",
       "      <th>fnlwgt</th>\n",
       "      <th>education</th>\n",
       "      <th>education.num</th>\n",
       "      <th>marital.status</th>\n",
       "      <th>occupation</th>\n",
       "      <th>relationship</th>\n",
       "      <th>race</th>\n",
       "      <th>sex</th>\n",
       "      <th>capital.gain</th>\n",
       "      <th>capital.loss</th>\n",
       "      <th>hours.per.week</th>\n",
       "      <th>native.country</th>\n",
       "      <th>income</th>\n",
       "    </tr>\n",
       "  </thead>\n",
       "  <tbody>\n",
       "    <tr>\n",
       "      <th>0</th>\n",
       "      <td>90</td>\n",
       "      <td>?</td>\n",
       "      <td>77053</td>\n",
       "      <td>HS-grad</td>\n",
       "      <td>9</td>\n",
       "      <td>Widowed</td>\n",
       "      <td>?</td>\n",
       "      <td>Not-in-family</td>\n",
       "      <td>White</td>\n",
       "      <td>Female</td>\n",
       "      <td>0</td>\n",
       "      <td>4356</td>\n",
       "      <td>40</td>\n",
       "      <td>United-States</td>\n",
       "      <td>&lt;=50K</td>\n",
       "    </tr>\n",
       "    <tr>\n",
       "      <th>1</th>\n",
       "      <td>82</td>\n",
       "      <td>Private</td>\n",
       "      <td>132870</td>\n",
       "      <td>HS-grad</td>\n",
       "      <td>9</td>\n",
       "      <td>Widowed</td>\n",
       "      <td>Exec-managerial</td>\n",
       "      <td>Not-in-family</td>\n",
       "      <td>White</td>\n",
       "      <td>Female</td>\n",
       "      <td>0</td>\n",
       "      <td>4356</td>\n",
       "      <td>18</td>\n",
       "      <td>United-States</td>\n",
       "      <td>&lt;=50K</td>\n",
       "    </tr>\n",
       "    <tr>\n",
       "      <th>2</th>\n",
       "      <td>66</td>\n",
       "      <td>?</td>\n",
       "      <td>186061</td>\n",
       "      <td>Some-college</td>\n",
       "      <td>10</td>\n",
       "      <td>Widowed</td>\n",
       "      <td>?</td>\n",
       "      <td>Unmarried</td>\n",
       "      <td>Black</td>\n",
       "      <td>Female</td>\n",
       "      <td>0</td>\n",
       "      <td>4356</td>\n",
       "      <td>40</td>\n",
       "      <td>United-States</td>\n",
       "      <td>&lt;=50K</td>\n",
       "    </tr>\n",
       "    <tr>\n",
       "      <th>3</th>\n",
       "      <td>54</td>\n",
       "      <td>Private</td>\n",
       "      <td>140359</td>\n",
       "      <td>7th-8th</td>\n",
       "      <td>4</td>\n",
       "      <td>Divorced</td>\n",
       "      <td>Machine-op-inspct</td>\n",
       "      <td>Unmarried</td>\n",
       "      <td>White</td>\n",
       "      <td>Female</td>\n",
       "      <td>0</td>\n",
       "      <td>3900</td>\n",
       "      <td>40</td>\n",
       "      <td>United-States</td>\n",
       "      <td>&lt;=50K</td>\n",
       "    </tr>\n",
       "    <tr>\n",
       "      <th>4</th>\n",
       "      <td>41</td>\n",
       "      <td>Private</td>\n",
       "      <td>264663</td>\n",
       "      <td>Some-college</td>\n",
       "      <td>10</td>\n",
       "      <td>Separated</td>\n",
       "      <td>Prof-specialty</td>\n",
       "      <td>Own-child</td>\n",
       "      <td>White</td>\n",
       "      <td>Female</td>\n",
       "      <td>0</td>\n",
       "      <td>3900</td>\n",
       "      <td>40</td>\n",
       "      <td>United-States</td>\n",
       "      <td>&lt;=50K</td>\n",
       "    </tr>\n",
       "    <tr>\n",
       "      <th>...</th>\n",
       "      <td>...</td>\n",
       "      <td>...</td>\n",
       "      <td>...</td>\n",
       "      <td>...</td>\n",
       "      <td>...</td>\n",
       "      <td>...</td>\n",
       "      <td>...</td>\n",
       "      <td>...</td>\n",
       "      <td>...</td>\n",
       "      <td>...</td>\n",
       "      <td>...</td>\n",
       "      <td>...</td>\n",
       "      <td>...</td>\n",
       "      <td>...</td>\n",
       "      <td>...</td>\n",
       "    </tr>\n",
       "    <tr>\n",
       "      <th>32556</th>\n",
       "      <td>22</td>\n",
       "      <td>Private</td>\n",
       "      <td>310152</td>\n",
       "      <td>Some-college</td>\n",
       "      <td>10</td>\n",
       "      <td>Never-married</td>\n",
       "      <td>Protective-serv</td>\n",
       "      <td>Not-in-family</td>\n",
       "      <td>White</td>\n",
       "      <td>Male</td>\n",
       "      <td>0</td>\n",
       "      <td>0</td>\n",
       "      <td>40</td>\n",
       "      <td>United-States</td>\n",
       "      <td>&lt;=50K</td>\n",
       "    </tr>\n",
       "    <tr>\n",
       "      <th>32557</th>\n",
       "      <td>27</td>\n",
       "      <td>Private</td>\n",
       "      <td>257302</td>\n",
       "      <td>Assoc-acdm</td>\n",
       "      <td>12</td>\n",
       "      <td>Married-civ-spouse</td>\n",
       "      <td>Tech-support</td>\n",
       "      <td>Wife</td>\n",
       "      <td>White</td>\n",
       "      <td>Female</td>\n",
       "      <td>0</td>\n",
       "      <td>0</td>\n",
       "      <td>38</td>\n",
       "      <td>United-States</td>\n",
       "      <td>&lt;=50K</td>\n",
       "    </tr>\n",
       "    <tr>\n",
       "      <th>32558</th>\n",
       "      <td>40</td>\n",
       "      <td>Private</td>\n",
       "      <td>154374</td>\n",
       "      <td>HS-grad</td>\n",
       "      <td>9</td>\n",
       "      <td>Married-civ-spouse</td>\n",
       "      <td>Machine-op-inspct</td>\n",
       "      <td>Husband</td>\n",
       "      <td>White</td>\n",
       "      <td>Male</td>\n",
       "      <td>0</td>\n",
       "      <td>0</td>\n",
       "      <td>40</td>\n",
       "      <td>United-States</td>\n",
       "      <td>&gt;50K</td>\n",
       "    </tr>\n",
       "    <tr>\n",
       "      <th>32559</th>\n",
       "      <td>58</td>\n",
       "      <td>Private</td>\n",
       "      <td>151910</td>\n",
       "      <td>HS-grad</td>\n",
       "      <td>9</td>\n",
       "      <td>Widowed</td>\n",
       "      <td>Adm-clerical</td>\n",
       "      <td>Unmarried</td>\n",
       "      <td>White</td>\n",
       "      <td>Female</td>\n",
       "      <td>0</td>\n",
       "      <td>0</td>\n",
       "      <td>40</td>\n",
       "      <td>United-States</td>\n",
       "      <td>&lt;=50K</td>\n",
       "    </tr>\n",
       "    <tr>\n",
       "      <th>32560</th>\n",
       "      <td>22</td>\n",
       "      <td>Private</td>\n",
       "      <td>201490</td>\n",
       "      <td>HS-grad</td>\n",
       "      <td>9</td>\n",
       "      <td>Never-married</td>\n",
       "      <td>Adm-clerical</td>\n",
       "      <td>Own-child</td>\n",
       "      <td>White</td>\n",
       "      <td>Male</td>\n",
       "      <td>0</td>\n",
       "      <td>0</td>\n",
       "      <td>20</td>\n",
       "      <td>United-States</td>\n",
       "      <td>&lt;=50K</td>\n",
       "    </tr>\n",
       "  </tbody>\n",
       "</table>\n",
       "<p>32561 rows × 15 columns</p>\n",
       "</div>"
      ],
      "text/plain": [
       "       age workclass  fnlwgt     education  education.num      marital.status  \\\n",
       "0       90         ?   77053       HS-grad              9             Widowed   \n",
       "1       82   Private  132870       HS-grad              9             Widowed   \n",
       "2       66         ?  186061  Some-college             10             Widowed   \n",
       "3       54   Private  140359       7th-8th              4            Divorced   \n",
       "4       41   Private  264663  Some-college             10           Separated   \n",
       "...    ...       ...     ...           ...            ...                 ...   \n",
       "32556   22   Private  310152  Some-college             10       Never-married   \n",
       "32557   27   Private  257302    Assoc-acdm             12  Married-civ-spouse   \n",
       "32558   40   Private  154374       HS-grad              9  Married-civ-spouse   \n",
       "32559   58   Private  151910       HS-grad              9             Widowed   \n",
       "32560   22   Private  201490       HS-grad              9       Never-married   \n",
       "\n",
       "              occupation   relationship   race     sex  capital.gain  \\\n",
       "0                      ?  Not-in-family  White  Female             0   \n",
       "1        Exec-managerial  Not-in-family  White  Female             0   \n",
       "2                      ?      Unmarried  Black  Female             0   \n",
       "3      Machine-op-inspct      Unmarried  White  Female             0   \n",
       "4         Prof-specialty      Own-child  White  Female             0   \n",
       "...                  ...            ...    ...     ...           ...   \n",
       "32556    Protective-serv  Not-in-family  White    Male             0   \n",
       "32557       Tech-support           Wife  White  Female             0   \n",
       "32558  Machine-op-inspct        Husband  White    Male             0   \n",
       "32559       Adm-clerical      Unmarried  White  Female             0   \n",
       "32560       Adm-clerical      Own-child  White    Male             0   \n",
       "\n",
       "       capital.loss  hours.per.week native.country income  \n",
       "0              4356              40  United-States  <=50K  \n",
       "1              4356              18  United-States  <=50K  \n",
       "2              4356              40  United-States  <=50K  \n",
       "3              3900              40  United-States  <=50K  \n",
       "4              3900              40  United-States  <=50K  \n",
       "...             ...             ...            ...    ...  \n",
       "32556             0              40  United-States  <=50K  \n",
       "32557             0              38  United-States  <=50K  \n",
       "32558             0              40  United-States   >50K  \n",
       "32559             0              40  United-States  <=50K  \n",
       "32560             0              20  United-States  <=50K  \n",
       "\n",
       "[32561 rows x 15 columns]"
      ]
     },
     "execution_count": 2,
     "metadata": {},
     "output_type": "execute_result"
    }
   ],
   "source": [
    "#Reading the CSV File values in the URL directly into a pandas DataFrame.\n",
    "#The Income Prediction Dataset is been taken and stored it into a Pandas Data frame.\n",
    "data = pd.read_csv('https://raw.githubusercontent.com/Aditya-Mankar/Census-Income-Prediction/master/adult.csv')\n",
    "data"
   ]
  },
  {
   "cell_type": "markdown",
   "id": "e6df5bd7-6d81-4733-9ea0-fbf6bd4bd843",
   "metadata": {},
   "source": [
    "## Description of Data Set:\n",
    "The Census Income dataset—also referred to as the Adult dataset—was established in 1996 and is the set of data utilized in this study to forecast an individual's income. The UCI Machine Learning Repository served as the source, and Barry Becker used the 1994 Census database—more information about which can be found here—to extract the data. There are 32561 examples in the training dataset and 16281 examples in the testing set. Eight categorical and six numerical variables, comprising information on age, education, nationality, marital status, relationship status, occupation, work classification, gender, race, working hours per week, capital gain and loss, and one target column, make up the dataset that we used.\n",
    "\n",
    "## Features of the Dataset:\n",
    "\n",
    "1.Age: Indicates a person's chronological age.The values of this attribute are constant.\n",
    "\n",
    "2.Workclass: The following values for this parameter are categorized as Private, Federal-gov, Local-gov, State-gov, Self-emp-not-inc, Self-emp-inc, Without-pay, and Never-worked.\n",
    "\n",
    "3.fnlwgt:The data is continous and nlwgt is the abbreviation used in statistical survey analysis to represent the final weight of an individual.\n",
    "\n",
    "4.education: Shows the maximum level of education attained by an individual,example of the values are as follows:Bachelors, Some-college, 11th, HS-grad, Prof-school, Assoc-acdm, Assoc-voc, 9th, 7th-8th, 12th, Masters, 1st-4th, 10th, Doctorate, 5th-6th, Preschool.\n",
    "\n",
    "5.education-num:The total number of school years,in digits.\n",
    "\n",
    "6.marital-status:Married-civ-spouse, Divorced, Never-married, Separated, Widowed, Married-spouse-absent, and Married-AF-spouse are some instances of data that indicate an individual's civil status.\n",
    "\n",
    "7.occupation: Depicts a person's overall values in their line of work. Examples include tech support, craft repair, other services, sales, Career paths include executive-managerial, professional-specialty, handler-cleaner, machine-op-inspct, administrative-clerical, farming-fishing, transport-moving, protected-house-serv, and armed forces.\n",
    "\n",
    "8.relationship: Shows how a person is related to other members of their family. The choices are inconsistent and appear to overlap with the column for marital status: husband, wife, own child, not in family, other related, and single.\n",
    "\n",
    "9.Race: Denotes the common geographic or ethnic origin of a person; examples are White, Asian-Pac-Islander, American-Indian-Eskimo, Other, and Black.\n",
    "\n",
    "10.Sex: Indicates a person's gender.There were just two gender possibilities that is male and female in this dataset.\n",
    "\n",
    "11.Capital gain: This is the amount of money a person makes when they sell real estate or make an investment.\n",
    "\n",
    "12.Capital loss: Indicates a person's loss on the sale of real estate or an investment.\n",
    "\n",
    "13.hours-per-week: Indicates how many hours a person works in a given week.\n",
    "\n",
    "14.native-country: Indicates the nation of origin of a person.\n",
    "\n",
    "15.Income: The total amount of money a person makes in a given year.The values can be >50K,<=50K."
   ]
  },
  {
   "cell_type": "code",
   "execution_count": 3,
   "id": "17ec3929-d8c2-421c-8a40-e180934c4386",
   "metadata": {},
   "outputs": [
    {
     "data": {
      "text/plain": [
       "['age',\n",
       " 'workclass',\n",
       " 'fnlwgt',\n",
       " 'education',\n",
       " 'education.num',\n",
       " 'marital.status',\n",
       " 'occupation',\n",
       " 'relationship',\n",
       " 'race',\n",
       " 'sex',\n",
       " 'capital.gain',\n",
       " 'capital.loss',\n",
       " 'hours.per.week',\n",
       " 'native.country',\n",
       " 'income']"
      ]
     },
     "execution_count": 3,
     "metadata": {},
     "output_type": "execute_result"
    }
   ],
   "source": [
    "#Displaying the list of all the columns present in the dataset.\n",
    "data.columns.tolist()"
   ]
  },
  {
   "cell_type": "code",
   "execution_count": 4,
   "id": "b75729c7-733e-4ef4-bd4b-784951518516",
   "metadata": {},
   "outputs": [
    {
     "data": {
      "text/html": [
       "<div>\n",
       "<style scoped>\n",
       "    .dataframe tbody tr th:only-of-type {\n",
       "        vertical-align: middle;\n",
       "    }\n",
       "\n",
       "    .dataframe tbody tr th {\n",
       "        vertical-align: top;\n",
       "    }\n",
       "\n",
       "    .dataframe thead th {\n",
       "        text-align: right;\n",
       "    }\n",
       "</style>\n",
       "<table border=\"1\" class=\"dataframe\">\n",
       "  <thead>\n",
       "    <tr style=\"text-align: right;\">\n",
       "      <th></th>\n",
       "      <th>age</th>\n",
       "      <th>workclass</th>\n",
       "      <th>fnlwgt</th>\n",
       "      <th>education</th>\n",
       "      <th>education.num</th>\n",
       "      <th>marital.status</th>\n",
       "      <th>occupation</th>\n",
       "      <th>relationship</th>\n",
       "      <th>race</th>\n",
       "      <th>sex</th>\n",
       "      <th>capital.gain</th>\n",
       "      <th>capital.loss</th>\n",
       "      <th>hours.per.week</th>\n",
       "      <th>native.country</th>\n",
       "      <th>income</th>\n",
       "    </tr>\n",
       "  </thead>\n",
       "  <tbody>\n",
       "    <tr>\n",
       "      <th>0</th>\n",
       "      <td>90</td>\n",
       "      <td>?</td>\n",
       "      <td>77053</td>\n",
       "      <td>HS-grad</td>\n",
       "      <td>9</td>\n",
       "      <td>Widowed</td>\n",
       "      <td>?</td>\n",
       "      <td>Not-in-family</td>\n",
       "      <td>White</td>\n",
       "      <td>Female</td>\n",
       "      <td>0</td>\n",
       "      <td>4356</td>\n",
       "      <td>40</td>\n",
       "      <td>United-States</td>\n",
       "      <td>&lt;=50K</td>\n",
       "    </tr>\n",
       "    <tr>\n",
       "      <th>1</th>\n",
       "      <td>82</td>\n",
       "      <td>Private</td>\n",
       "      <td>132870</td>\n",
       "      <td>HS-grad</td>\n",
       "      <td>9</td>\n",
       "      <td>Widowed</td>\n",
       "      <td>Exec-managerial</td>\n",
       "      <td>Not-in-family</td>\n",
       "      <td>White</td>\n",
       "      <td>Female</td>\n",
       "      <td>0</td>\n",
       "      <td>4356</td>\n",
       "      <td>18</td>\n",
       "      <td>United-States</td>\n",
       "      <td>&lt;=50K</td>\n",
       "    </tr>\n",
       "    <tr>\n",
       "      <th>2</th>\n",
       "      <td>66</td>\n",
       "      <td>?</td>\n",
       "      <td>186061</td>\n",
       "      <td>Some-college</td>\n",
       "      <td>10</td>\n",
       "      <td>Widowed</td>\n",
       "      <td>?</td>\n",
       "      <td>Unmarried</td>\n",
       "      <td>Black</td>\n",
       "      <td>Female</td>\n",
       "      <td>0</td>\n",
       "      <td>4356</td>\n",
       "      <td>40</td>\n",
       "      <td>United-States</td>\n",
       "      <td>&lt;=50K</td>\n",
       "    </tr>\n",
       "    <tr>\n",
       "      <th>3</th>\n",
       "      <td>54</td>\n",
       "      <td>Private</td>\n",
       "      <td>140359</td>\n",
       "      <td>7th-8th</td>\n",
       "      <td>4</td>\n",
       "      <td>Divorced</td>\n",
       "      <td>Machine-op-inspct</td>\n",
       "      <td>Unmarried</td>\n",
       "      <td>White</td>\n",
       "      <td>Female</td>\n",
       "      <td>0</td>\n",
       "      <td>3900</td>\n",
       "      <td>40</td>\n",
       "      <td>United-States</td>\n",
       "      <td>&lt;=50K</td>\n",
       "    </tr>\n",
       "    <tr>\n",
       "      <th>4</th>\n",
       "      <td>41</td>\n",
       "      <td>Private</td>\n",
       "      <td>264663</td>\n",
       "      <td>Some-college</td>\n",
       "      <td>10</td>\n",
       "      <td>Separated</td>\n",
       "      <td>Prof-specialty</td>\n",
       "      <td>Own-child</td>\n",
       "      <td>White</td>\n",
       "      <td>Female</td>\n",
       "      <td>0</td>\n",
       "      <td>3900</td>\n",
       "      <td>40</td>\n",
       "      <td>United-States</td>\n",
       "      <td>&lt;=50K</td>\n",
       "    </tr>\n",
       "  </tbody>\n",
       "</table>\n",
       "</div>"
      ],
      "text/plain": [
       "   age workclass  fnlwgt     education  education.num marital.status  \\\n",
       "0   90         ?   77053       HS-grad              9        Widowed   \n",
       "1   82   Private  132870       HS-grad              9        Widowed   \n",
       "2   66         ?  186061  Some-college             10        Widowed   \n",
       "3   54   Private  140359       7th-8th              4       Divorced   \n",
       "4   41   Private  264663  Some-college             10      Separated   \n",
       "\n",
       "          occupation   relationship   race     sex  capital.gain  \\\n",
       "0                  ?  Not-in-family  White  Female             0   \n",
       "1    Exec-managerial  Not-in-family  White  Female             0   \n",
       "2                  ?      Unmarried  Black  Female             0   \n",
       "3  Machine-op-inspct      Unmarried  White  Female             0   \n",
       "4     Prof-specialty      Own-child  White  Female             0   \n",
       "\n",
       "   capital.loss  hours.per.week native.country income  \n",
       "0          4356              40  United-States  <=50K  \n",
       "1          4356              18  United-States  <=50K  \n",
       "2          4356              40  United-States  <=50K  \n",
       "3          3900              40  United-States  <=50K  \n",
       "4          3900              40  United-States  <=50K  "
      ]
     },
     "execution_count": 4,
     "metadata": {},
     "output_type": "execute_result"
    }
   ],
   "source": [
    "#Usually, this command is used to show the first few rows of the dataset within a Pandas DataFrame.\n",
    "#The output of this head command will return the first five rows of each of these attributes.\n",
    "data.head()"
   ]
  },
  {
   "cell_type": "code",
   "execution_count": 5,
   "id": "e5701cad-8bbf-42e2-b167-438304b365a5",
   "metadata": {},
   "outputs": [
    {
     "data": {
      "text/html": [
       "<div>\n",
       "<style scoped>\n",
       "    .dataframe tbody tr th:only-of-type {\n",
       "        vertical-align: middle;\n",
       "    }\n",
       "\n",
       "    .dataframe tbody tr th {\n",
       "        vertical-align: top;\n",
       "    }\n",
       "\n",
       "    .dataframe thead th {\n",
       "        text-align: right;\n",
       "    }\n",
       "</style>\n",
       "<table border=\"1\" class=\"dataframe\">\n",
       "  <thead>\n",
       "    <tr style=\"text-align: right;\">\n",
       "      <th></th>\n",
       "      <th>age</th>\n",
       "      <th>workclass</th>\n",
       "      <th>fnlwgt</th>\n",
       "      <th>education</th>\n",
       "      <th>education.num</th>\n",
       "      <th>marital.status</th>\n",
       "      <th>occupation</th>\n",
       "      <th>relationship</th>\n",
       "      <th>race</th>\n",
       "      <th>sex</th>\n",
       "      <th>capital.gain</th>\n",
       "      <th>capital.loss</th>\n",
       "      <th>hours.per.week</th>\n",
       "      <th>native.country</th>\n",
       "      <th>income</th>\n",
       "    </tr>\n",
       "  </thead>\n",
       "  <tbody>\n",
       "    <tr>\n",
       "      <th>32556</th>\n",
       "      <td>22</td>\n",
       "      <td>Private</td>\n",
       "      <td>310152</td>\n",
       "      <td>Some-college</td>\n",
       "      <td>10</td>\n",
       "      <td>Never-married</td>\n",
       "      <td>Protective-serv</td>\n",
       "      <td>Not-in-family</td>\n",
       "      <td>White</td>\n",
       "      <td>Male</td>\n",
       "      <td>0</td>\n",
       "      <td>0</td>\n",
       "      <td>40</td>\n",
       "      <td>United-States</td>\n",
       "      <td>&lt;=50K</td>\n",
       "    </tr>\n",
       "    <tr>\n",
       "      <th>32557</th>\n",
       "      <td>27</td>\n",
       "      <td>Private</td>\n",
       "      <td>257302</td>\n",
       "      <td>Assoc-acdm</td>\n",
       "      <td>12</td>\n",
       "      <td>Married-civ-spouse</td>\n",
       "      <td>Tech-support</td>\n",
       "      <td>Wife</td>\n",
       "      <td>White</td>\n",
       "      <td>Female</td>\n",
       "      <td>0</td>\n",
       "      <td>0</td>\n",
       "      <td>38</td>\n",
       "      <td>United-States</td>\n",
       "      <td>&lt;=50K</td>\n",
       "    </tr>\n",
       "    <tr>\n",
       "      <th>32558</th>\n",
       "      <td>40</td>\n",
       "      <td>Private</td>\n",
       "      <td>154374</td>\n",
       "      <td>HS-grad</td>\n",
       "      <td>9</td>\n",
       "      <td>Married-civ-spouse</td>\n",
       "      <td>Machine-op-inspct</td>\n",
       "      <td>Husband</td>\n",
       "      <td>White</td>\n",
       "      <td>Male</td>\n",
       "      <td>0</td>\n",
       "      <td>0</td>\n",
       "      <td>40</td>\n",
       "      <td>United-States</td>\n",
       "      <td>&gt;50K</td>\n",
       "    </tr>\n",
       "    <tr>\n",
       "      <th>32559</th>\n",
       "      <td>58</td>\n",
       "      <td>Private</td>\n",
       "      <td>151910</td>\n",
       "      <td>HS-grad</td>\n",
       "      <td>9</td>\n",
       "      <td>Widowed</td>\n",
       "      <td>Adm-clerical</td>\n",
       "      <td>Unmarried</td>\n",
       "      <td>White</td>\n",
       "      <td>Female</td>\n",
       "      <td>0</td>\n",
       "      <td>0</td>\n",
       "      <td>40</td>\n",
       "      <td>United-States</td>\n",
       "      <td>&lt;=50K</td>\n",
       "    </tr>\n",
       "    <tr>\n",
       "      <th>32560</th>\n",
       "      <td>22</td>\n",
       "      <td>Private</td>\n",
       "      <td>201490</td>\n",
       "      <td>HS-grad</td>\n",
       "      <td>9</td>\n",
       "      <td>Never-married</td>\n",
       "      <td>Adm-clerical</td>\n",
       "      <td>Own-child</td>\n",
       "      <td>White</td>\n",
       "      <td>Male</td>\n",
       "      <td>0</td>\n",
       "      <td>0</td>\n",
       "      <td>20</td>\n",
       "      <td>United-States</td>\n",
       "      <td>&lt;=50K</td>\n",
       "    </tr>\n",
       "  </tbody>\n",
       "</table>\n",
       "</div>"
      ],
      "text/plain": [
       "       age workclass  fnlwgt     education  education.num      marital.status  \\\n",
       "32556   22   Private  310152  Some-college             10       Never-married   \n",
       "32557   27   Private  257302    Assoc-acdm             12  Married-civ-spouse   \n",
       "32558   40   Private  154374       HS-grad              9  Married-civ-spouse   \n",
       "32559   58   Private  151910       HS-grad              9             Widowed   \n",
       "32560   22   Private  201490       HS-grad              9       Never-married   \n",
       "\n",
       "              occupation   relationship   race     sex  capital.gain  \\\n",
       "32556    Protective-serv  Not-in-family  White    Male             0   \n",
       "32557       Tech-support           Wife  White  Female             0   \n",
       "32558  Machine-op-inspct        Husband  White    Male             0   \n",
       "32559       Adm-clerical      Unmarried  White  Female             0   \n",
       "32560       Adm-clerical      Own-child  White    Male             0   \n",
       "\n",
       "       capital.loss  hours.per.week native.country income  \n",
       "32556             0              40  United-States  <=50K  \n",
       "32557             0              38  United-States  <=50K  \n",
       "32558             0              40  United-States   >50K  \n",
       "32559             0              40  United-States  <=50K  \n",
       "32560             0              20  United-States  <=50K  "
      ]
     },
     "execution_count": 5,
     "metadata": {},
     "output_type": "execute_result"
    }
   ],
   "source": [
    "#Usually, this command is used to show the last five rows of the dataset within a Pandas DataFrame.\n",
    "#The output of this head command will return the first five rows of each of these attributes.\n",
    "data.tail()"
   ]
  },
  {
   "cell_type": "markdown",
   "id": "5aa96bd3-fb94-412d-95cc-5045581274bb",
   "metadata": {},
   "source": [
    "## Step-3:Preprocessing Data\n",
    "\n",
    "The initial phase of data analysis is crucial, starting with the correct loading of the dataset. Utilizing the pandas library, which offers robust data manipulation capabilities, simplifies the handling of CSV files. After loading, it's essential to inspect for missing values as they can significantly impact analysis quality. Missing data can introduce biases and affect model performance. In our dataset, the absence of missing values signifies good data quality.\n",
    "\n",
    "A vital subsequent step involves converting categorical data into a numeric format. Many machine learning algorithms cannot directly process categorical variables; they require all input data and features to be in numerical form. This necessity is where Label Encoding becomes valuable, transforming categorical labels into a numeric representation. This encoding ensures that subsequent analysis algorithms can effectively process the data.\n"
   ]
  },
  {
   "cell_type": "code",
   "execution_count": 6,
   "id": "0a74787a-baa8-4b00-9812-fc21f3529acf",
   "metadata": {},
   "outputs": [
    {
     "data": {
      "text/plain": [
       "age               32561\n",
       "workclass         32561\n",
       "fnlwgt            32561\n",
       "education         32561\n",
       "education.num     32561\n",
       "marital.status    32561\n",
       "occupation        32561\n",
       "relationship      32561\n",
       "race              32561\n",
       "sex               32561\n",
       "capital.gain      32561\n",
       "capital.loss      32561\n",
       "hours.per.week    32561\n",
       "native.country    32561\n",
       "income            32561\n",
       "dtype: int64"
      ]
     },
     "execution_count": 6,
     "metadata": {},
     "output_type": "execute_result"
    }
   ],
   "source": [
    "# To find the number of non-null (non-missing) values in each column of a DataFrame,df.count() method is used.\n",
    "# It gives back a Series with the counts for every column.\n",
    "data.count()"
   ]
  },
  {
   "cell_type": "markdown",
   "id": "354b16e2-4ada-4eb6-a564-cee9236370c5",
   "metadata": {},
   "source": [
    "## Explaination of the above output:\n",
    "\n",
    "1.The features or variables that are present in the dataset are represented by the column names,which are displayed on the left.\n",
    "These comprise the following: \"age,\" \"workclass,\" \"fnlwgt,\" \"education,\" \"education.num,\" \"marital.status,\" \"occupation,\" \n",
    "\"relationship,\" \"race,\" \"sex,\" \"hours.per.week,\" \"native.country,\" and \"income.\"\n",
    "\n",
    "2.The numbers on the right side represent the count of non-null (non-missing) values for each corresponding column.For example,\n",
    "'age' has 32,561 non-null values,workclass'has 32,561 non-null values,and so on.\n",
    "\n",
    "3.This output can be used to rapidly determine whether the dataset is complete.The number of data points for each feature \n",
    "is shown by the count values. A perfect dataset would contain the same count in every column, meaning that no values are \n",
    "missing."
   ]
  },
  {
   "cell_type": "code",
   "execution_count": 7,
   "id": "5ec142d6-6473-45c2-b59d-b4f65bb819b6",
   "metadata": {},
   "outputs": [
    {
     "data": {
      "text/html": [
       "<div>\n",
       "<style scoped>\n",
       "    .dataframe tbody tr th:only-of-type {\n",
       "        vertical-align: middle;\n",
       "    }\n",
       "\n",
       "    .dataframe tbody tr th {\n",
       "        vertical-align: top;\n",
       "    }\n",
       "\n",
       "    .dataframe thead th {\n",
       "        text-align: right;\n",
       "    }\n",
       "</style>\n",
       "<table border=\"1\" class=\"dataframe\">\n",
       "  <thead>\n",
       "    <tr style=\"text-align: right;\">\n",
       "      <th></th>\n",
       "      <th>age</th>\n",
       "      <th>fnlwgt</th>\n",
       "      <th>education.num</th>\n",
       "      <th>capital.gain</th>\n",
       "      <th>capital.loss</th>\n",
       "      <th>hours.per.week</th>\n",
       "    </tr>\n",
       "  </thead>\n",
       "  <tbody>\n",
       "    <tr>\n",
       "      <th>count</th>\n",
       "      <td>32561.000000</td>\n",
       "      <td>3.256100e+04</td>\n",
       "      <td>32561.000000</td>\n",
       "      <td>32561.000000</td>\n",
       "      <td>32561.000000</td>\n",
       "      <td>32561.000000</td>\n",
       "    </tr>\n",
       "    <tr>\n",
       "      <th>mean</th>\n",
       "      <td>38.581647</td>\n",
       "      <td>1.897784e+05</td>\n",
       "      <td>10.080679</td>\n",
       "      <td>1077.648844</td>\n",
       "      <td>87.303830</td>\n",
       "      <td>40.437456</td>\n",
       "    </tr>\n",
       "    <tr>\n",
       "      <th>std</th>\n",
       "      <td>13.640433</td>\n",
       "      <td>1.055500e+05</td>\n",
       "      <td>2.572720</td>\n",
       "      <td>7385.292085</td>\n",
       "      <td>402.960219</td>\n",
       "      <td>12.347429</td>\n",
       "    </tr>\n",
       "    <tr>\n",
       "      <th>min</th>\n",
       "      <td>17.000000</td>\n",
       "      <td>1.228500e+04</td>\n",
       "      <td>1.000000</td>\n",
       "      <td>0.000000</td>\n",
       "      <td>0.000000</td>\n",
       "      <td>1.000000</td>\n",
       "    </tr>\n",
       "    <tr>\n",
       "      <th>25%</th>\n",
       "      <td>28.000000</td>\n",
       "      <td>1.178270e+05</td>\n",
       "      <td>9.000000</td>\n",
       "      <td>0.000000</td>\n",
       "      <td>0.000000</td>\n",
       "      <td>40.000000</td>\n",
       "    </tr>\n",
       "    <tr>\n",
       "      <th>50%</th>\n",
       "      <td>37.000000</td>\n",
       "      <td>1.783560e+05</td>\n",
       "      <td>10.000000</td>\n",
       "      <td>0.000000</td>\n",
       "      <td>0.000000</td>\n",
       "      <td>40.000000</td>\n",
       "    </tr>\n",
       "    <tr>\n",
       "      <th>75%</th>\n",
       "      <td>48.000000</td>\n",
       "      <td>2.370510e+05</td>\n",
       "      <td>12.000000</td>\n",
       "      <td>0.000000</td>\n",
       "      <td>0.000000</td>\n",
       "      <td>45.000000</td>\n",
       "    </tr>\n",
       "    <tr>\n",
       "      <th>max</th>\n",
       "      <td>90.000000</td>\n",
       "      <td>1.484705e+06</td>\n",
       "      <td>16.000000</td>\n",
       "      <td>99999.000000</td>\n",
       "      <td>4356.000000</td>\n",
       "      <td>99.000000</td>\n",
       "    </tr>\n",
       "  </tbody>\n",
       "</table>\n",
       "</div>"
      ],
      "text/plain": [
       "                age        fnlwgt  education.num  capital.gain  capital.loss  \\\n",
       "count  32561.000000  3.256100e+04   32561.000000  32561.000000  32561.000000   \n",
       "mean      38.581647  1.897784e+05      10.080679   1077.648844     87.303830   \n",
       "std       13.640433  1.055500e+05       2.572720   7385.292085    402.960219   \n",
       "min       17.000000  1.228500e+04       1.000000      0.000000      0.000000   \n",
       "25%       28.000000  1.178270e+05       9.000000      0.000000      0.000000   \n",
       "50%       37.000000  1.783560e+05      10.000000      0.000000      0.000000   \n",
       "75%       48.000000  2.370510e+05      12.000000      0.000000      0.000000   \n",
       "max       90.000000  1.484705e+06      16.000000  99999.000000   4356.000000   \n",
       "\n",
       "       hours.per.week  \n",
       "count    32561.000000  \n",
       "mean        40.437456  \n",
       "std         12.347429  \n",
       "min          1.000000  \n",
       "25%         40.000000  \n",
       "50%         40.000000  \n",
       "75%         45.000000  \n",
       "max         99.000000  "
      ]
     },
     "execution_count": 7,
     "metadata": {},
     "output_type": "execute_result"
    }
   ],
   "source": [
    "# A overview of the statistical measures for each numerical column in the DataFrame is given by the df.describe() method.\n",
    "# It comprises the following: minimum, 25th percentile (Q1), median (50th percentile or Q2), 75th percentile (Q3), mean, \n",
    "# standard deviation, and count.\n",
    "data.describe()"
   ]
  },
  {
   "cell_type": "markdown",
   "id": "982c655a-7294-4a64-b5bc-9dd863fa20a3",
   "metadata": {},
   "source": [
    "## Explaination of the above output:\n",
    "\n",
    "1.Column Names:'age','fnlwgt','education.num','capital.gain','capital.loss',and'hours.per.week' are the columns mentioned in the\n",
    "header.\n",
    "\n",
    "2.Count: The number of non-null values for each column is shown in the \"count\" row. There are no missing values in any of the 32,561 non-null values found in these numerical columns.\n",
    "\n",
    "3.Mean: The average (mean) value for each column is displayed in the \"mean\" row. As an illustration, the mean fnlwgt is roughly 189,778.4, the average age is about 38.58, and so forth.\n",
    "\n",
    "4.Deviation Standard (std):\n",
    "The standard deviation, which quantifies how much a group of values vary or are dispersed, is represented by the \"std\" row. Greater data variability is indicated by a higher standard deviation.\n",
    "\n",
    "5.Minimum (min): The smallest value recorded is displayed in the \"min\" row for each column. For instance, the minimal education level is one and the minimum age is seventeen.\n",
    "\n",
    "6.25th Percentile (25%): The first quartile, or 25th percentile, is shown by the \"25%\" row. It shows the value at which 25% of the data are found.\n",
    "\n",
    "7.50th Percentile (50%): The median or 50th percentile is shown in the \"50%\" row. It is the median value that divides the dataset's upper and lower halves.\n",
    "\n",
    "8.75th Percentile (75%): The third quartile, or 75th percentile, is shown by the \"75%\" row. It shows the value that 75% of the data falls below.\n",
    "\n",
    "9.Maximum (max): The greatest value found in the dataset is represented by the \"max\" row, which displays the maximum value for each column.\n",
    "\n",
    "10.This output gives us an overview of the dataset's numeric columns with a summary of the statistics, allowing us to see the data's distribution, variability, and central tendency. It's helpful for comprehending the fundamental traits of every numerical feature.\n",
    "\n",
    "11.We may see the distribution of age, the range of education.num, the spread of fnlwgt values, and the distribution of hours per week, capital.gain, and capital.loss and hours per week."
   ]
  },
  {
   "cell_type": "code",
   "execution_count": 8,
   "id": "2876c5bc-c79e-4569-ba32-a749201436bc",
   "metadata": {},
   "outputs": [
    {
     "data": {
      "text/plain": [
       "(32561, 15)"
      ]
     },
     "execution_count": 8,
     "metadata": {},
     "output_type": "execute_result"
    }
   ],
   "source": [
    "#To find a Pandas DataFrame's dimensions, use the df.shape attribute.The number of rows and columns in the DataFrame is returned\n",
    "#as a tuple. Df.shape in our instance shows that our DataFrame has 15 columns and 32,561 rows.\n",
    "data.shape"
   ]
  },
  {
   "cell_type": "markdown",
   "id": "f8ce9455-c44b-46c1-b786-ebc4c3c14f34",
   "metadata": {},
   "source": [
    "## Explaination of the above output:\n",
    "\n",
    "The data.shape result shows that the 'data' DataFrame contains 32,561 rows and 15 columns. This is a tuple where the number of rows is represented by the first element and the number of columns by the second.\n",
    "In this instance, there are 32,561 rows of data in the DataFrame.\n",
    "There are 15 variables or columns in the DataFrame."
   ]
  },
  {
   "cell_type": "code",
   "execution_count": 9,
   "id": "0dd1a728-903a-48a9-8ad9-a6185e5e7c22",
   "metadata": {},
   "outputs": [
    {
     "name": "stdout",
     "output_type": "stream",
     "text": [
      "<class 'pandas.core.frame.DataFrame'>\n",
      "RangeIndex: 32561 entries, 0 to 32560\n",
      "Data columns (total 15 columns):\n",
      " #   Column          Non-Null Count  Dtype \n",
      "---  ------          --------------  ----- \n",
      " 0   age             32561 non-null  int64 \n",
      " 1   workclass       32561 non-null  object\n",
      " 2   fnlwgt          32561 non-null  int64 \n",
      " 3   education       32561 non-null  object\n",
      " 4   education.num   32561 non-null  int64 \n",
      " 5   marital.status  32561 non-null  object\n",
      " 6   occupation      32561 non-null  object\n",
      " 7   relationship    32561 non-null  object\n",
      " 8   race            32561 non-null  object\n",
      " 9   sex             32561 non-null  object\n",
      " 10  capital.gain    32561 non-null  int64 \n",
      " 11  capital.loss    32561 non-null  int64 \n",
      " 12  hours.per.week  32561 non-null  int64 \n",
      " 13  native.country  32561 non-null  object\n",
      " 14  income          32561 non-null  object\n",
      "dtypes: int64(6), object(9)\n",
      "memory usage: 3.7+ MB\n"
     ]
    }
   ],
   "source": [
    "#A brief description of the DataFrame,including details on the data types, non-null values,and memory utilization,is given by \n",
    "#the info() method.\n",
    "data.info()"
   ]
  },
  {
   "cell_type": "markdown",
   "id": "b60911e0-26a7-4f6f-a591-df13bc99e92d",
   "metadata": {},
   "source": [
    "## Explaination of Above Output:\n",
    "\n",
    "A useful tool for rapidly evaluating a DataFrame's properties and structure is the info() method.\n",
    "\n",
    "For each column, the output provides information about its name, non-null count, and data type:\n",
    "\n",
    "1.age to native.country:These are Column names.\n",
    "\n",
    "\n",
    "2.32561 non-null: Number of non-null (non-missing) values for each column.\n",
    "\n",
    "\n",
    "3.int64 or object: Data type of each column. int64 indicates integer, and object indicates text or categorical data."
   ]
  },
  {
   "cell_type": "code",
   "execution_count": 10,
   "id": "8aa08dff-f98c-443c-9873-31765d00c865",
   "metadata": {},
   "outputs": [
    {
     "data": {
      "text/plain": [
       "age               0\n",
       "workclass         0\n",
       "fnlwgt            0\n",
       "education         0\n",
       "education.num     0\n",
       "marital.status    0\n",
       "occupation        0\n",
       "relationship      0\n",
       "race              0\n",
       "sex               0\n",
       "capital.gain      0\n",
       "capital.loss      0\n",
       "hours.per.week    0\n",
       "native.country    0\n",
       "income            0\n",
       "dtype: int64"
      ]
     },
     "execution_count": 10,
     "metadata": {},
     "output_type": "execute_result"
    }
   ],
   "source": [
    "#The df.isnull().sum() expression is used to count the number of missing values (null or NaN) in each column of a Pandas\n",
    "#DataFrame. It returns a Series containing the count of missing values for each column.\n",
    "data.isnull().sum()"
   ]
  },
  {
   "cell_type": "markdown",
   "id": "1ca7fcab-c02f-48c2-85f4-ed2b598538b3",
   "metadata": {},
   "source": [
    "## Explaination of the above output:\n",
    "\n",
    "1.Column Names: The characteristics or variables in the dataset are represented by the column names, which are listed on the left. These comprise the following: \"age,\" \"workclass,\" \"fnlwgt,\" \"education,\" \"education.num,\" \"marital.status,\" \"occupation,\" \"relationship,\" \"race,\" \"sex,\" \"hours.per.week,\" \"native.country,\" and \"income.\"\n",
    "\n",
    "2.Count of Missing Values: The numbers for each corresponding column on the right represent the count of missing values. In this instance, every column has a count of 0, meaning that not a single column has any missing values.\n",
    "Justification.\n",
    "\n",
    "3.A good sign of high-quality data is the lack of missing values. This indicates that every column in the dataset contains all of the data for each of the 32,561 items."
   ]
  },
  {
   "cell_type": "code",
   "execution_count": 11,
   "id": "10989bd3-c9e2-423e-b1d9-7592047d24ff",
   "metadata": {},
   "outputs": [
    {
     "name": "stdout",
     "output_type": "stream",
     "text": [
      "True\n"
     ]
    }
   ],
   "source": [
    "#Checking for the presence of duplicate rows in data\n",
    "print(data.duplicated().any())"
   ]
  },
  {
   "cell_type": "code",
   "execution_count": 12,
   "id": "2e859d87-bbbd-4fb6-9f4f-c75b0c4a65a6",
   "metadata": {},
   "outputs": [],
   "source": [
    "#Removing the duplicate values,by dropping the duplicate values.\n",
    "data.drop_duplicates(inplace=True)"
   ]
  },
  {
   "cell_type": "code",
   "execution_count": 13,
   "id": "9080d2e5-d1fa-42b6-bdd1-20405f05cfa6",
   "metadata": {},
   "outputs": [
    {
     "name": "stdout",
     "output_type": "stream",
     "text": [
      "False\n"
     ]
    }
   ],
   "source": [
    "#Again Checking for the presence of duplicate rows in data\n",
    "print(data.duplicated().any())"
   ]
  },
  {
   "cell_type": "code",
   "execution_count": 14,
   "id": "f4985e93-7e32-4a42-8b30-6927f3054db3",
   "metadata": {},
   "outputs": [],
   "source": [
    "#Data from the dataset indicates that no values are missing.However,the head() indicates that values coded as? are present \n",
    "#in the collection.Therefore encoding? as NaN values.\n",
    "data[data == '?'] = np.nan"
   ]
  },
  {
   "cell_type": "markdown",
   "id": "77758d38-de91-4fc7-b3c2-d7b6d555d81f",
   "metadata": {},
   "source": [
    "## Explaination of Above code:\n",
    "\n",
    "1.data[data == '?']:\n",
    "This section of code checks if every element in the DataFrame equals the string \"?\" before creating a boolean mask. The output is a DataFrame that has the same form as the input, with each element being True when it matches a '?' in the data and False otherwise.\n",
    "\n",
    "2.= np.nan\n",
    "With this assignment, all True values in the boolean mask are changed to NaN. As a result, NaN is used in place of every instance of the string \"?\" in the DataFrame.\n",
    "\n",
    "3.Justification\n",
    "Here, it is assumed that the dataset's \"?\" character denotes missing or undefined values. It is consistent with pandas' default format for representing missing values by substituting NaN for these instances."
   ]
  },
  {
   "cell_type": "code",
   "execution_count": 15,
   "id": "379cfa59-8a5d-4165-a0ac-2aad1564d04e",
   "metadata": {},
   "outputs": [
    {
     "data": {
      "text/plain": [
       "age                  0\n",
       "workclass         1836\n",
       "fnlwgt               0\n",
       "education            0\n",
       "education.num        0\n",
       "marital.status       0\n",
       "occupation        1843\n",
       "relationship         0\n",
       "race                 0\n",
       "sex                  0\n",
       "capital.gain         0\n",
       "capital.loss         0\n",
       "hours.per.week       0\n",
       "native.country     582\n",
       "income               0\n",
       "dtype: int64"
      ]
     },
     "execution_count": 15,
     "metadata": {},
     "output_type": "execute_result"
    }
   ],
   "source": [
    "#The df.isnull().sum() expression is used to count the number of missing values (null or NaN) in each column of a Pandas\n",
    "#DataFrame. It returns a Series containing the count of missing values for each column.\n",
    "data.isnull().sum()"
   ]
  },
  {
   "cell_type": "markdown",
   "id": "d37d78b8-af70-4fd2-a3cc-841ce6e502d2",
   "metadata": {},
   "source": [
    "## Explaination of the above output:\n",
    "\n",
    "1.Column Names: The characteristics or variables in the dataset are represented by the column names, which are listed on the left. These comprise the following: \"age,\" \"workclass,\" \"fnlwgt,\" \"education,\" \"education.num,\" \"marital.status,\" \"occupation,\" \"relationship,\" \"race,\" \"sex,\" \"hours.per.week,\" \"native.country,\" and \"income.\"\n",
    "\n",
    "2.Count of Missing Values: The numbers for each corresponding column on the right represent the count of missing values. In this instance, every column has a count of 0, meaning that not a single column has any missing values.\n",
    "Justification.\n",
    "\n",
    "3.A good sign of high-quality data is the lack of missing values. This indicates that every column in the dataset contains all of the data for each of the 32,561 items.\n",
    "\n",
    "But the columns occupation and native.country has missing values."
   ]
  },
  {
   "cell_type": "code",
   "execution_count": 16,
   "id": "03daafa6-2f5a-4b24-b98f-70f7ffff6c5b",
   "metadata": {},
   "outputs": [],
   "source": [
    "# It now indicates that there are missing values in the workclass, occupation, and native country variables.\n",
    "# These variables are all of the category data type.Hence will impute the mode—the value that occurs the most frequently to the \n",
    "# missing data.\n",
    "\n",
    "# The \"workclass,\" \"occupation,\" and \"native.country\" column names are iterated over in this section of the code.\n",
    "\n",
    "for col in ['workclass', 'occupation', 'native.country']:\n",
    "    \n",
    "#     For each column (col), it fills missing values using the mode of that column.\n",
    "#     data[col].mode()[0] retrieves the mode (most frequent value) of the column.\n",
    "#     fillna() is then used to replace missing values with the mode.\n",
    "#    inplace=True ensures that the changes are made directly to the original DataFrame (data) without the need for reassignment.\n",
    "    \n",
    "    data[col].fillna(data[col].mode()[0], inplace=True)"
   ]
  },
  {
   "cell_type": "markdown",
   "id": "352a509a-bee7-4e7a-9814-3a9311c40d29",
   "metadata": {},
   "source": [
    "## Explaination for the code and the output:\n",
    "\n",
    "1.for col in ['workclass', 'occupation', 'native.country']::\n",
    "This line initiates a for loop that iterates over the specified column names: 'workclass', 'occupation', and 'native.country'.\n",
    "\n",
    "2.data[col].mode()[0]:\n",
    "For each column (denoted by col), the mode()[0] part retrieves the mode (most frequent value) of that column using the mode() method. The [0] is used to get the actual mode value from the resulting pandas Series.\n",
    "\n",
    "3.fillna(data[col].mode()[0], inplace=True):\n",
    "The fillna() method is then applied to the specific column (data[col]). It replaces missing values in that column with the mode value obtained earlier.\n",
    "The inplace=True parameter ensures that the changes are made directly to the original DataFrame (data) without requiring reassignment.\n",
    "\n",
    "The purpose of this code is to handle missing values in categorical columns ('workclass', 'occupation', and 'native.country') by imputing them with the most frequent value (mode) in each respective column."
   ]
  },
  {
   "cell_type": "code",
   "execution_count": 17,
   "id": "c96237ff-17a6-4b0e-ab33-124a77ca2721",
   "metadata": {},
   "outputs": [
    {
     "data": {
      "text/plain": [
       "age               0\n",
       "workclass         0\n",
       "fnlwgt            0\n",
       "education         0\n",
       "education.num     0\n",
       "marital.status    0\n",
       "occupation        0\n",
       "relationship      0\n",
       "race              0\n",
       "sex               0\n",
       "capital.gain      0\n",
       "capital.loss      0\n",
       "hours.per.week    0\n",
       "native.country    0\n",
       "income            0\n",
       "dtype: int64"
      ]
     },
     "execution_count": 17,
     "metadata": {},
     "output_type": "execute_result"
    }
   ],
   "source": [
    "#The df.isnull().sum() expression is used to count the number of missing values (null or NaN) in each column of a Pandas\n",
    "#DataFrame. It returns a Series containing the count of missing values for each column.\n",
    "data.isnull().sum()"
   ]
  },
  {
   "cell_type": "markdown",
   "id": "6ee72598-66dd-43e9-8d33-e2e279792496",
   "metadata": {},
   "source": [
    "## Explaination of the above output:\n",
    "\n",
    "1.Column Names: The characteristics or variables in the dataset are represented by the column names, which are listed on the left. These comprise the following: \"age,\" \"workclass,\" \"fnlwgt,\" \"education,\" \"education.num,\" \"marital.status,\" \"occupation,\" \"relationship,\" \"race,\" \"sex,\" \"hours.per.week,\" \"native.country,\" and \"income.\"\n",
    "\n",
    "2.Count of Missing Values: The numbers for each corresponding column on the right represent the count of missing values. In this instance, every column has a count of 0, meaning that not a single column has any missing values.\n",
    "Justification.\n",
    "\n",
    "3.A good sign of high-quality data is the lack of missing values. This indicates that every column in the dataset contains all of the data for each of the 32,561 items."
   ]
  },
  {
   "cell_type": "markdown",
   "id": "f9b7470e-7601-41ee-8f60-226674564f43",
   "metadata": {},
   "source": [
    "### Step-4:Label Encoding.\n",
    "\n",
    "In this part of the we are converting all the categorical values into numeric values with the help of Label Encoding.\n",
    "Label Encoding is a preprocessing technique used in machine learning to convert categorical data into numerical form. In this technique, each unique category (label) in the categorical variable is assigned an integer value. This transformation is useful when working with machine learning algorithms that require numerical input, as they typically do not handle categorical data directly.\n",
    "Then we will spilt the data and apply different models of the data."
   ]
  },
  {
   "cell_type": "code",
   "execution_count": 18,
   "id": "453d98f1-7c2d-4650-a5f4-feb55e3a3572",
   "metadata": {},
   "outputs": [
    {
     "data": {
      "text/html": [
       "<div>\n",
       "<style scoped>\n",
       "    .dataframe tbody tr th:only-of-type {\n",
       "        vertical-align: middle;\n",
       "    }\n",
       "\n",
       "    .dataframe tbody tr th {\n",
       "        vertical-align: top;\n",
       "    }\n",
       "\n",
       "    .dataframe thead th {\n",
       "        text-align: right;\n",
       "    }\n",
       "</style>\n",
       "<table border=\"1\" class=\"dataframe\">\n",
       "  <thead>\n",
       "    <tr style=\"text-align: right;\">\n",
       "      <th></th>\n",
       "      <th>age</th>\n",
       "      <th>workclass</th>\n",
       "      <th>fnlwgt</th>\n",
       "      <th>education</th>\n",
       "      <th>education.num</th>\n",
       "      <th>marital.status</th>\n",
       "      <th>occupation</th>\n",
       "      <th>relationship</th>\n",
       "      <th>race</th>\n",
       "      <th>sex</th>\n",
       "      <th>capital.gain</th>\n",
       "      <th>capital.loss</th>\n",
       "      <th>hours.per.week</th>\n",
       "      <th>native.country</th>\n",
       "      <th>income</th>\n",
       "    </tr>\n",
       "  </thead>\n",
       "  <tbody>\n",
       "    <tr>\n",
       "      <th>0</th>\n",
       "      <td>90</td>\n",
       "      <td>3</td>\n",
       "      <td>77053</td>\n",
       "      <td>11</td>\n",
       "      <td>9</td>\n",
       "      <td>6</td>\n",
       "      <td>9</td>\n",
       "      <td>1</td>\n",
       "      <td>4</td>\n",
       "      <td>0</td>\n",
       "      <td>0</td>\n",
       "      <td>4356</td>\n",
       "      <td>40</td>\n",
       "      <td>38</td>\n",
       "      <td>0</td>\n",
       "    </tr>\n",
       "    <tr>\n",
       "      <th>1</th>\n",
       "      <td>82</td>\n",
       "      <td>3</td>\n",
       "      <td>132870</td>\n",
       "      <td>11</td>\n",
       "      <td>9</td>\n",
       "      <td>6</td>\n",
       "      <td>3</td>\n",
       "      <td>1</td>\n",
       "      <td>4</td>\n",
       "      <td>0</td>\n",
       "      <td>0</td>\n",
       "      <td>4356</td>\n",
       "      <td>18</td>\n",
       "      <td>38</td>\n",
       "      <td>0</td>\n",
       "    </tr>\n",
       "    <tr>\n",
       "      <th>2</th>\n",
       "      <td>66</td>\n",
       "      <td>3</td>\n",
       "      <td>186061</td>\n",
       "      <td>15</td>\n",
       "      <td>10</td>\n",
       "      <td>6</td>\n",
       "      <td>9</td>\n",
       "      <td>4</td>\n",
       "      <td>2</td>\n",
       "      <td>0</td>\n",
       "      <td>0</td>\n",
       "      <td>4356</td>\n",
       "      <td>40</td>\n",
       "      <td>38</td>\n",
       "      <td>0</td>\n",
       "    </tr>\n",
       "    <tr>\n",
       "      <th>3</th>\n",
       "      <td>54</td>\n",
       "      <td>3</td>\n",
       "      <td>140359</td>\n",
       "      <td>5</td>\n",
       "      <td>4</td>\n",
       "      <td>0</td>\n",
       "      <td>6</td>\n",
       "      <td>4</td>\n",
       "      <td>4</td>\n",
       "      <td>0</td>\n",
       "      <td>0</td>\n",
       "      <td>3900</td>\n",
       "      <td>40</td>\n",
       "      <td>38</td>\n",
       "      <td>0</td>\n",
       "    </tr>\n",
       "    <tr>\n",
       "      <th>4</th>\n",
       "      <td>41</td>\n",
       "      <td>3</td>\n",
       "      <td>264663</td>\n",
       "      <td>15</td>\n",
       "      <td>10</td>\n",
       "      <td>5</td>\n",
       "      <td>9</td>\n",
       "      <td>3</td>\n",
       "      <td>4</td>\n",
       "      <td>0</td>\n",
       "      <td>0</td>\n",
       "      <td>3900</td>\n",
       "      <td>40</td>\n",
       "      <td>38</td>\n",
       "      <td>0</td>\n",
       "    </tr>\n",
       "    <tr>\n",
       "      <th>...</th>\n",
       "      <td>...</td>\n",
       "      <td>...</td>\n",
       "      <td>...</td>\n",
       "      <td>...</td>\n",
       "      <td>...</td>\n",
       "      <td>...</td>\n",
       "      <td>...</td>\n",
       "      <td>...</td>\n",
       "      <td>...</td>\n",
       "      <td>...</td>\n",
       "      <td>...</td>\n",
       "      <td>...</td>\n",
       "      <td>...</td>\n",
       "      <td>...</td>\n",
       "      <td>...</td>\n",
       "    </tr>\n",
       "    <tr>\n",
       "      <th>32556</th>\n",
       "      <td>22</td>\n",
       "      <td>3</td>\n",
       "      <td>310152</td>\n",
       "      <td>15</td>\n",
       "      <td>10</td>\n",
       "      <td>4</td>\n",
       "      <td>10</td>\n",
       "      <td>1</td>\n",
       "      <td>4</td>\n",
       "      <td>1</td>\n",
       "      <td>0</td>\n",
       "      <td>0</td>\n",
       "      <td>40</td>\n",
       "      <td>38</td>\n",
       "      <td>0</td>\n",
       "    </tr>\n",
       "    <tr>\n",
       "      <th>32557</th>\n",
       "      <td>27</td>\n",
       "      <td>3</td>\n",
       "      <td>257302</td>\n",
       "      <td>7</td>\n",
       "      <td>12</td>\n",
       "      <td>2</td>\n",
       "      <td>12</td>\n",
       "      <td>5</td>\n",
       "      <td>4</td>\n",
       "      <td>0</td>\n",
       "      <td>0</td>\n",
       "      <td>0</td>\n",
       "      <td>38</td>\n",
       "      <td>38</td>\n",
       "      <td>0</td>\n",
       "    </tr>\n",
       "    <tr>\n",
       "      <th>32558</th>\n",
       "      <td>40</td>\n",
       "      <td>3</td>\n",
       "      <td>154374</td>\n",
       "      <td>11</td>\n",
       "      <td>9</td>\n",
       "      <td>2</td>\n",
       "      <td>6</td>\n",
       "      <td>0</td>\n",
       "      <td>4</td>\n",
       "      <td>1</td>\n",
       "      <td>0</td>\n",
       "      <td>0</td>\n",
       "      <td>40</td>\n",
       "      <td>38</td>\n",
       "      <td>1</td>\n",
       "    </tr>\n",
       "    <tr>\n",
       "      <th>32559</th>\n",
       "      <td>58</td>\n",
       "      <td>3</td>\n",
       "      <td>151910</td>\n",
       "      <td>11</td>\n",
       "      <td>9</td>\n",
       "      <td>6</td>\n",
       "      <td>0</td>\n",
       "      <td>4</td>\n",
       "      <td>4</td>\n",
       "      <td>0</td>\n",
       "      <td>0</td>\n",
       "      <td>0</td>\n",
       "      <td>40</td>\n",
       "      <td>38</td>\n",
       "      <td>0</td>\n",
       "    </tr>\n",
       "    <tr>\n",
       "      <th>32560</th>\n",
       "      <td>22</td>\n",
       "      <td>3</td>\n",
       "      <td>201490</td>\n",
       "      <td>11</td>\n",
       "      <td>9</td>\n",
       "      <td>4</td>\n",
       "      <td>0</td>\n",
       "      <td>3</td>\n",
       "      <td>4</td>\n",
       "      <td>1</td>\n",
       "      <td>0</td>\n",
       "      <td>0</td>\n",
       "      <td>20</td>\n",
       "      <td>38</td>\n",
       "      <td>0</td>\n",
       "    </tr>\n",
       "  </tbody>\n",
       "</table>\n",
       "<p>32537 rows × 15 columns</p>\n",
       "</div>"
      ],
      "text/plain": [
       "       age  workclass  fnlwgt  education  education.num  marital.status  \\\n",
       "0       90          3   77053         11              9               6   \n",
       "1       82          3  132870         11              9               6   \n",
       "2       66          3  186061         15             10               6   \n",
       "3       54          3  140359          5              4               0   \n",
       "4       41          3  264663         15             10               5   \n",
       "...    ...        ...     ...        ...            ...             ...   \n",
       "32556   22          3  310152         15             10               4   \n",
       "32557   27          3  257302          7             12               2   \n",
       "32558   40          3  154374         11              9               2   \n",
       "32559   58          3  151910         11              9               6   \n",
       "32560   22          3  201490         11              9               4   \n",
       "\n",
       "       occupation  relationship  race  sex  capital.gain  capital.loss  \\\n",
       "0               9             1     4    0             0          4356   \n",
       "1               3             1     4    0             0          4356   \n",
       "2               9             4     2    0             0          4356   \n",
       "3               6             4     4    0             0          3900   \n",
       "4               9             3     4    0             0          3900   \n",
       "...           ...           ...   ...  ...           ...           ...   \n",
       "32556          10             1     4    1             0             0   \n",
       "32557          12             5     4    0             0             0   \n",
       "32558           6             0     4    1             0             0   \n",
       "32559           0             4     4    0             0             0   \n",
       "32560           0             3     4    1             0             0   \n",
       "\n",
       "       hours.per.week  native.country  income  \n",
       "0                  40              38       0  \n",
       "1                  18              38       0  \n",
       "2                  40              38       0  \n",
       "3                  40              38       0  \n",
       "4                  40              38       0  \n",
       "...               ...             ...     ...  \n",
       "32556              40              38       0  \n",
       "32557              38              38       0  \n",
       "32558              40              38       1  \n",
       "32559              40              38       0  \n",
       "32560              20              38       0  \n",
       "\n",
       "[32537 rows x 15 columns]"
      ]
     },
     "execution_count": 18,
     "metadata": {},
     "output_type": "execute_result"
    }
   ],
   "source": [
    "#Converting String Values into numeric Variables using Label Encoding Techniques.\n",
    "\n",
    "le = LabelEncoder()\n",
    "data['workclass'] = le.fit_transform(data['workclass'])\n",
    "data['marital.status'] = le.fit_transform(data['marital.status'])\n",
    "data['occupation'] = le.fit_transform(data['occupation'])\n",
    "data['relationship'] = le.fit_transform(data['relationship'])\n",
    "data['race'] = le.fit_transform(data['race'])\n",
    "data['sex'] = le.fit_transform(data['sex'])\n",
    "data['native.country'] = le.fit_transform(data['native.country'])\n",
    "data['income'] = le.fit_transform(data['income'])\n",
    "data['education'] = le.fit_transform(data['education'])\n",
    "\n",
    "data"
   ]
  },
  {
   "cell_type": "markdown",
   "id": "936e6390-0d0f-406a-83ea-ae85622f17c3",
   "metadata": {},
   "source": [
    "### Step-5:Exploratory Data Analysis (EDA)\n",
    "\n",
    "Exploratory Data Analysis (EDA) is a crucial phase in understanding our data. It involves uncovering patterns, detecting anomalies, and forming hypotheses based on both visual and quantitative insights. The correlation matrix is particularly informative as it reveals how different variables are related to each other. In the context of a school dataset, exploring these relationships can offer educational insights, such as understanding how study time correlates with final grades.\n",
    "\n",
    "Scatter plots are also valuable in EDA as they visually represent these relationships. For instance, plotting 'Age' against 'Income'  may reveal trends or patterns, providing an initial glimpse into potential causal relationships. EDA goes beyond just plotting graphs; it's a thoughtful process of understanding the underlying structures and narratives within the data, guiding subsequent detailed analyses.\n"
   ]
  },
  {
   "cell_type": "code",
   "execution_count": 19,
   "id": "7bdd30fb-d26b-4b72-906b-ab00d264d97b",
   "metadata": {},
   "outputs": [
    {
     "data": {
      "image/png": "[encoded data removed]",
      "text/plain": [
       "<Figure size 640x480 with 1 Axes>"
      ]
     },
     "metadata": {},
     "output_type": "display_data"
    }
   ],
   "source": [
    "# Plotting 'age' against 'income'\n",
    "plt.scatter(data['age'], data['income'])\n",
    "plt.title('Age vs Income')\n",
    "plt.xlabel('Age')\n",
    "plt.ylabel('Income')\n",
    "plt.show()"
   ]
  },
  {
   "cell_type": "markdown",
   "id": "eaee9af8-c711-4ef7-8b95-83da1921c4f8",
   "metadata": {},
   "source": [
    "## Relationship between Age and Income\r\n",
    "\r\n",
    "The graph shows the relationship between age and income. The x-axis represents age, and the y-axis represents income. Each dot on the line represents the average income for a specific age group.\r\n",
    "\r\n",
    "The line slants upwards, indicating that income tends to increase with age. This increase levels off around age 60 and then begins to decrease slightly.\r\n",
    "\r\n",
    "**Possible Explanations for this Relationship:**\r\n",
    "\r\n",
    "1. **Experience and Skills:** As people age and gain experience in their careers, their job skills and knowledge tend to improve. This can lead to higher wages or salaries.\r\n",
    "\r\n",
    "2. **Education and Training:** Individuals may invest in additional education and training over time, which can qualify them for higher-paying jobs.\r\n",
    "\r\n",
    "3. **Job Tenure:** Those who stay with the same employer for many years may receive promotions and pay raises over time.\r\n",
    "\r\n",
    "4. **Changes in Work-Life Balance:** Younger adults may prioritize lower-paying jobs that offer more flexibility, such as those allowing for more time with family. As they age, their priorities may shift towards higher-paying jobs, even if they require more tie commitment.\r\n",
    "ment."
   ]
  },
  {
   "cell_type": "code",
   "execution_count": 20,
   "id": "60f19a11-7a6f-4474-bb91-59fd6d819931",
   "metadata": {},
   "outputs": [
    {
     "data": {
      "image/png": "[encoded data removed]",
      "text/plain": [
       "<Figure size 1200x1000 with 2 Axes>"
      ]
     },
     "metadata": {},
     "output_type": "display_data"
    }
   ],
   "source": [
    "#Analyzing the correlation between different variables.\n",
    "plt.figure(figsize=(12, 10))\n",
    "sns.heatmap(data.corr(), annot=True, fmt='.2f')\n",
    "plt.title('Correlation Matrix of Variables')\n",
    "plt.show()"
   ]
  },
  {
   "cell_type": "markdown",
   "id": "0682adf1-f89f-4b6c-a158-4b847ba635ee",
   "metadata": {},
   "source": [
    "## Understanding Correlation Coefficients\n",
    "\n",
    "In a dataset, each row and column represent a variable. The value at the intersection of a row (variable i) and column (variable j) represents the correlation coefficient between variable i and variable j.\n",
    "\n",
    "- The correlation coefficient ranges from -1 to +1.\n",
    "  - A value of +1 indicates a perfect positive correlation, where the two variables increase or decrease together in a linear fashion.\n",
    "  - A value of -1 indicates a perfect negative correlation, where as one variable increases, the other variable decreases in a linear fashion.\n",
    "  - A value of 0 indicates no linear correlation between the variables.\n",
    "\n",
    "Correlation coefficients provide insights into the strength and direction of relationships between variables, helping analysts understand how variables relate to each other within the dataset.\n"
   ]
  },
  {
   "cell_type": "code",
   "execution_count": 21,
   "id": "5caf8dc1-d3d4-4837-9896-fbc642778478",
   "metadata": {},
   "outputs": [
    {
     "data": {
      "image/png": "[encoded data removed]",
      "text/plain": [
       "<Figure size 640x480 with 1 Axes>"
      ]
     },
     "metadata": {},
     "output_type": "display_data"
    }
   ],
   "source": [
    "# Scatter plot of hours per week versus income\n",
    "sns.scatterplot(data=data, x='hours.per.week', y='income')\n",
    "plt.title('Hours per Week vs Income')\n",
    "plt.xlabel('Hours per Week')\n",
    "plt.ylabel('Income')\n",
    "plt.show()"
   ]
  },
  {
   "cell_type": "markdown",
   "id": "1bf336b0-e5d6-4e42-8774-83c1abb7c151",
   "metadata": {},
   "source": [
    "## General Observations from the Scatter Plot:\n",
    "\n",
    "1. There appears to be a positive correlation between income and hours worked per week. This means that as the number of hours worked per week increases, income tends to increase as well.\n",
    "\n",
    "2. The data points are spread out, which indicates there is a variation in income even for people who work similar numbers of hours. This suggests that other factors besides hours worked also influence income.\n"
   ]
  },
  {
   "cell_type": "code",
   "execution_count": 22,
   "id": "91a838a3-5382-49d8-89d9-80b32829c9f1",
   "metadata": {},
   "outputs": [
    {
     "data": {
      "image/png": "[encoded data removed]",
      "text/plain": [
       "<Figure size 640x480 with 1 Axes>"
      ]
     },
     "metadata": {},
     "output_type": "display_data"
    }
   ],
   "source": [
    "#Scatter Plot of Education Level versus Income.\n",
    "sns.boxplot(data=data, x='education', y='income')\n",
    "plt.title('Education Level vs Income')\n",
    "plt.xlabel('Education Level')\n",
    "plt.ylabel('Income')\n",
    "plt.xticks(rotation=45)\n",
    "plt.show()"
   ]
  },
  {
   "cell_type": "markdown",
   "id": "ab444a72-92e9-4a0c-bcd1-dfe3ea472177",
   "metadata": {},
   "source": [
    "## Explaination for the graph.\n",
    "\n",
    "1. **Correlation vs. Causation:** The graph shows a correlation, but it doesn't necessarily mean education directly causes higher income. Other factors like experience, talent, or job location can also influence income.\n",
    "\n",
    "2. **Average Income:** The line represents the average, and there will be a lot of variation around this trend. People with lower education levels may earn more than some with higher education, depending on their specific field or circumstances.\n",
    "\n",
    "3. **Specific Data:** The interpretation also depends on how education level and income are measured in the data.\n",
    "\n",
    "Overall, the graph likely shows a positive correlation between education level and income. However, it's important to consider the limitations of this kind of visualization and avoid assuming causation from correlation."
   ]
  },
  {
   "cell_type": "code",
   "execution_count": 23,
   "id": "8eea216c-afa1-4fab-b26d-2c06d6a6cdf5",
   "metadata": {},
   "outputs": [
    {
     "data": {
      "image/png": "[encoded data removed]",
      "text/plain": [
       "<Figure size 640x480 with 1 Axes>"
      ]
     },
     "metadata": {},
     "output_type": "display_data"
    }
   ],
   "source": [
    "#Bar Plot dor Occupation Versus Income.\n",
    "sns.barplot(data=data, x='occupation', y='income')\n",
    "plt.title('Occupation vs Income')\n",
    "plt.xlabel('Occupation')\n",
    "plt.ylabel('Income')\n",
    "plt.xticks(rotation=45)\n",
    "plt.show()"
   ]
  },
  {
   "cell_type": "markdown",
   "id": "5292fb0a-1782-479f-bb08-ca64d2308d29",
   "metadata": {},
   "source": [
    "## Income Distribution Across Occupations\n",
    "\n",
    "**X-axis:** This represents income range, likely divided into categories such as \"$0 - $20,000\" or \"$40,000 - $60,000\".\n",
    "\n",
    "**Y-axis:** This represents the number of people (count) working in a particular occupation.\n",
    "\n",
    "**Bars:** Each bar represents an occupation (e.g., \"Doctor\", \"Teacher\", \"Lawyer\"). The height of the bar indicates how many people fall within that income range for that specific occupation.\n",
    "\n",
    "**Interpreting the Graph:**\n",
    "\n",
    "- We can observe the distribution of people across different income ranges for various occupations.\n",
    "- For instance, by looking at the top of the bar for \"Doctor\", we can determine how many doctors are in the highest income range compared to other occupations.\n",
    "- Similarly, we can compare the income distribution across different occupations. For example, teachers may be concentrated in a lower income range compared to lawyers.\n",
    "\n",
    "This type of visualization helps us understand the income distribution among various occupations and can provide insights into income disparities or concentration within specific income brackets.\n"
   ]
  },
  {
   "cell_type": "markdown",
   "id": "7d820c2c-249f-4bff-930e-1ce997b03109",
   "metadata": {},
   "source": [
    "## Causal Inference Techniques\n",
    "\n",
    "Causal inference techniques are analytical methods used in statistics and data science to deduce cause-and-effect relationships from observational or experimental data. These techniques move beyond mere correlation analysis and aim to establish a deeper understanding of how one variable influences another.\n"
   ]
  },
  {
   "cell_type": "markdown",
   "id": "47804864-1272-4203-a37d-5daa9fef320e",
   "metadata": {},
   "source": [
    "### Multiple Linear Regression Analysis\n",
    "\n",
    "Multiple Linear Regression is a statistical approach employed to explore the relationship between a dependent variable and multiple independent variables.Each coefficient in the regression model indicates the effect of one independent variable on the dependent variable, while holding all other variables constant. This nuanced comprehension is crucial for educational strategies, aiding in determining which interventions, like reducing failures or increasing study time, could be more effective. The Mean Squared Error (MSE) of the model quantifies the average squared difference between actual outcomes and predicted outcomes, with a lower MSE indicating a more accurate model fit to the data.\n"
   ]
  },
  {
   "cell_type": "markdown",
   "id": "0b771f3a-517d-4e63-8ef0-3137b97bb59c",
   "metadata": {},
   "source": [
    "## Mathematics Behind Multiple Linear Regression\n",
    "\n",
    "In Multiple Linear Regression, the objective is to find the best-fitting linear relationship between the independent variables (X) and the dependent variable (y). The model is represented as:\n",
    "\n",
    "\\[ y = b_0 + b_1 * x_1 + b_2 * x_2 + ... + b_n * x_n + \\epsilon \\]\n",
    "\n",
    "Where:\n",
    "- \\( y \\) is the dependent variable (income).\n",
    "- \\( b_0 \\) is the intercept (constant term).\n",
    "- \\( b_1, b_2, ..., b_n \\) are the coefficients (parameters) representing the impact of each independent variable on the dependent variable.\n",
    "- \\( x_1, x_2, ..., x_n \\) are the independent variables (age, education.num, marital.status, occupation, hours.per.week).\n",
    "- \\( \\epsilon \\) is the error term, representing the difference between the actual and predicted values of the dependent variable.\n",
    "\n",
    "The model aims to minimize the sum of squared differences between the actual and predicted values (known as residuals), usually using the Ordinary Least Squares (OLS) method. The coefficients (b values) in the model indicate the strength and direction of the relationship between each independent variable and the dependent variable, while holding all other variables constant.\n",
    "\n",
    "The model summary provides detailed statistical information about each coefficient, including its estimate, standard error, t-value, and p-value. These values help assess the significance of each independent variable in predicting the dependent variable and evaluate the overall goodness of fit of the regression model.\n"
   ]
  },
  {
   "cell_type": "code",
   "execution_count": 24,
   "id": "3c478a6a-c1a3-4bd2-9581-191e02e4179b",
   "metadata": {},
   "outputs": [],
   "source": [
    "#Categorising the data into train and test data:\n",
    "\n",
    "#Including all the attributes except income that is the independent variables.\n",
    "X = data.drop('income', axis=1)\n",
    "\n",
    "# Including the dependent variable.\n",
    "Y = data['income']\n",
    "\n",
    "#Splitting the data into train and test that is 80% of data is training data and remaining 20% is testing data.\n",
    "X_Train,X_Test,Y_Train,Y_Test = train_test_split(X, Y ,test_size = 0.2, random_state=42)"
   ]
  },
  {
   "cell_type": "markdown",
   "id": "c88643e8-ed1c-4915-98ee-def2bff6b70a",
   "metadata": {},
   "source": [
    "## Explaination of Above code:\n",
    "\n",
    "X: Independent Variables (Features):\n",
    "\n",
    "The variable X is created by excluding the column 'income' from the original dataset. It contains all the other columns, which are considered independent variables or features.\n",
    "Y: Dependent Variable (Target):\n",
    "\n",
    "The variable Y is created to include only the 'income' column from the original dataset. This is the dependent variable or target variable.\n",
    "train_test_split:\n",
    "\n",
    "The train_test_split function from scikit-learn is used to split the data into training and testing sets. This function takes the features (X) and the target variable (Y) as inputs and splits them into training and testing sets based on the specified test_size.\n",
    "Parameters:\n",
    "\n",
    "test_size=0.2: This parameter indicates that 20% of the data will be used for testing, and the remaining 80% will be used for training.\n",
    "random_state=42: This parameter ensures reproducibility. Setting a random seed (42 in this case) ensures that the random split is the same each time the code is run. It's useful for reproducibility and consistent results."
   ]
  },
  {
   "cell_type": "code",
   "execution_count": 25,
   "id": "2eb9f791-d521-4b33-bf58-1dee17155424",
   "metadata": {},
   "outputs": [
    {
     "name": "stdout",
     "output_type": "stream",
     "text": [
      "\n",
      "X Training Data is\n",
      " 26029 \n",
      "        age  workclass  fnlwgt  education  education.num  marital.status  \\\n",
      "32239   41          4   64506         11              9               2   \n",
      "30377   29          3  211482          9             13               2   \n",
      "5455    43          4  196945         11              9               2   \n",
      "19698   46          3  282538          8             11               5   \n",
      "23193   30          3  100734         15             10               2   \n",
      "...    ...        ...     ...        ...            ...             ...   \n",
      "29823   31          3  112627         11              9               2   \n",
      "5390    51          3  146767          8             11               2   \n",
      "860     55          0  238192         11              9               2   \n",
      "15800   23          3  233626          9             13               4   \n",
      "23667   47          5  171968          9             13               6   \n",
      "\n",
      "       occupation  relationship  race  sex  capital.gain  capital.loss  \\\n",
      "32239           4             0     4    1             0             0   \n",
      "30377          11             0     4    1             0             0   \n",
      "5455            7             0     1    1             0             0   \n",
      "19698           6             1     2    0             0             0   \n",
      "23193           0             5     4    0             0             0   \n",
      "...           ...           ...   ...  ...           ...           ...   \n",
      "29823          13             0     0    1             0             0   \n",
      "5390            9             0     4    1             0             0   \n",
      "860            12             0     4    1             0          1887   \n",
      "15800          11             1     4    1             0             0   \n",
      "23667           3             4     1    0             0             0   \n",
      "\n",
      "       hours.per.week  native.country  \n",
      "32239              50              38  \n",
      "30377              40              38  \n",
      "5455               78              36  \n",
      "19698              40              38  \n",
      "23193              40              38  \n",
      "...               ...             ...  \n",
      "29823              40              38  \n",
      "5390               40              38  \n",
      "860                40              38  \n",
      "15800              25              38  \n",
      "23667              60              36  \n",
      "\n",
      "[26029 rows x 14 columns]\n",
      "\n",
      "X Testing Data is\n",
      " 6508 \n",
      "        age  workclass  fnlwgt  education  education.num  marital.status  \\\n",
      "3643    53          3  150980         15             10               2   \n",
      "16041   18          3  284450          1              7               4   \n",
      "9403    42          3  156580         15             10               2   \n",
      "17909   49          4   94606         10             16               2   \n",
      "5198    58          1  205267          9             13               2   \n",
      "...    ...        ...     ...        ...            ...             ...   \n",
      "8213    39          5  247975         15             10               4   \n",
      "24638   31          3   76198         11              9               5   \n",
      "5514    26          3  256263         11              9               4   \n",
      "29831   54          3  420691          3              2               2   \n",
      "29055   38          3   99233         14             15               4   \n",
      "\n",
      "       occupation  relationship  race  sex  capital.gain  capital.loss  \\\n",
      "3643            6             0     4    1          3137             0   \n",
      "16041           9             3     4    1             0             0   \n",
      "9403            6             5     4    0             0             0   \n",
      "17909           9             0     2    1             0             0   \n",
      "5198            9             5     4    0             0             0   \n",
      "...           ...           ...   ...  ...           ...           ...   \n",
      "8213            2             1     1    1             0             0   \n",
      "24638           9             3     4    0             0             0   \n",
      "5514            2             1     4    1             0             0   \n",
      "29831           7             0     4    1             0             0   \n",
      "29055           3             1     4    1             0             0   \n",
      "\n",
      "       hours.per.week  native.country  \n",
      "3643               40              38  \n",
      "16041              25              38  \n",
      "9403               37              38  \n",
      "17909              60              38  \n",
      "5198               40              38  \n",
      "...               ...             ...  \n",
      "8213               30              38  \n",
      "24638              20              38  \n",
      "5514               25              38  \n",
      "29831              40              25  \n",
      "29055              40              38  \n",
      "\n",
      "[6508 rows x 14 columns]\n",
      "\n",
      "Y Training Data is\n",
      " 26029 \n",
      " 32239    0\n",
      "30377    0\n",
      "5455     0\n",
      "19698    0\n",
      "23193    0\n",
      "        ..\n",
      "29823    0\n",
      "5390     1\n",
      "860      1\n",
      "15800    0\n",
      "23667    0\n",
      "Name: income, Length: 26029, dtype: int32\n",
      "\n",
      "Y Testing Data is\n",
      " 6508 \n",
      " 3643     0\n",
      "16041    0\n",
      "9403     1\n",
      "17909    1\n",
      "5198     1\n",
      "        ..\n",
      "8213     0\n",
      "24638    0\n",
      "5514     0\n",
      "29831    0\n",
      "29055    1\n",
      "Name: income, Length: 6508, dtype: int32\n"
     ]
    }
   ],
   "source": [
    "#Displaying the training and testing values.\n",
    "\n",
    "print(\"\\nX Training Data is\\n\", len(X_Train), \"\\n\", X_Train)\n",
    "print(\"\\nX Testing Data is\\n\", len(X_Test), \"\\n\", X_Test)\n",
    "print(\"\\nY Training Data is\\n\", len(Y_Train), \"\\n\", Y_Train)\n",
    "print(\"\\nY Testing Data is\\n\", len(Y_Test), \"\\n\", Y_Test)"
   ]
  },
  {
   "cell_type": "markdown",
   "id": "68ebad88-b5ef-4205-8769-3782ab47b235",
   "metadata": {},
   "source": [
    "## Linear Regression:\n",
    "A linear relationship between an independent and dependent variable is provided by the linear regression technique, which is used to forecast the course of future occurrences. Predictive analysis is done using this statistical technique in data science and machine learning.\r\n",
    "\r\n",
    "Another name for the independent variable is the predictor or explanatory variable that doesn't change when other variables do. Nonetheless, variations in the independent variable have an impact on the dependent variable. Regression analysis uses a model to predict the value of the dependent variable, which is the response or outcome variable under investigation."
   ]
  },
  {
   "cell_type": "markdown",
   "id": "3ad75e08-5411-4d4c-b72a-afb9f2e99632",
   "metadata": {},
   "source": [
    "![Alt Text](https://imgs.search.brave.com/ujawzT8q1Ls_IL-NJjMLuCKH9V71lJ8oi5eZJuSg7C8/rs:fit:860:0:0/g:ce/aHR0cHM6Ly9pbWFn/ZXMuc3BpY2V3b3Jr/cy5jb20vd3AtY29u/dGVudC91cGxvYWRz/LzIwMjIvMDQvMDcw/NDAzMzkvMjUtNC5w/bmc)\n"
   ]
  },
  {
   "cell_type": "markdown",
   "id": "0ed722d6-ad34-49ab-be10-98686175ddec",
   "metadata": {},
   "source": [
    "In the figure above,Independent variable on the X-axis\n",
    "\n",
    "Y-axis: dependent variable / output\n",
    "\n",
    "Line of regression: A model's best fit line\n",
    "\n",
    "For the provided data points, a line that appropriately fits all of the problems is drawn here. That is why the term \"best fit line\" was coined. Finding the best fit line, as seen in the above graphic, is the aim of the linear regression algorithm."
   ]
  },
  {
   "cell_type": "code",
   "execution_count": 26,
   "id": "fec653a2-3682-4e98-9b55-0bac41ce8b03",
   "metadata": {},
   "outputs": [
    {
     "data": {
      "text/html": [
       "<style>#sk-container-id-1 {color: black;background-color: white;}#sk-container-id-1 pre{padding: 0;}#sk-container-id-1 div.sk-toggleable {background-color: white;}#sk-container-id-1 label.sk-toggleable__label {cursor: pointer;display: block;width: 100%;margin-bottom: 0;padding: 0.3em;box-sizing: border-box;text-align: center;}#sk-container-id-1 label.sk-toggleable__label-arrow:before {content: \"▸\";float: left;margin-right: 0.25em;color: #696969;}#sk-container-id-1 label.sk-toggleable__label-arrow:hover:before {color: black;}#sk-container-id-1 div.sk-estimator:hover label.sk-toggleable__label-arrow:before {color: black;}#sk-container-id-1 div.sk-toggleable__content {max-height: 0;max-width: 0;overflow: hidden;text-align: left;background-color: #f0f8ff;}#sk-container-id-1 div.sk-toggleable__content pre {margin: 0.2em;color: black;border-radius: 0.25em;background-color: #f0f8ff;}#sk-container-id-1 input.sk-toggleable__control:checked~div.sk-toggleable__content {max-height: 200px;max-width: 100%;overflow: auto;}#sk-container-id-1 input.sk-toggleable__control:checked~label.sk-toggleable__label-arrow:before {content: \"▾\";}#sk-container-id-1 div.sk-estimator input.sk-toggleable__control:checked~label.sk-toggleable__label {background-color: #d4ebff;}#sk-container-id-1 div.sk-label input.sk-toggleable__control:checked~label.sk-toggleable__label {background-color: #d4ebff;}#sk-container-id-1 input.sk-hidden--visually {border: 0;clip: rect(1px 1px 1px 1px);clip: rect(1px, 1px, 1px, 1px);height: 1px;margin: -1px;overflow: hidden;padding: 0;position: absolute;width: 1px;}#sk-container-id-1 div.sk-estimator {font-family: monospace;background-color: #f0f8ff;border: 1px dotted black;border-radius: 0.25em;box-sizing: border-box;margin-bottom: 0.5em;}#sk-container-id-1 div.sk-estimator:hover {background-color: #d4ebff;}#sk-container-id-1 div.sk-parallel-item::after {content: \"\";width: 100%;border-bottom: 1px solid gray;flex-grow: 1;}#sk-container-id-1 div.sk-label:hover label.sk-toggleable__label {background-color: #d4ebff;}#sk-container-id-1 div.sk-serial::before {content: \"\";position: absolute;border-left: 1px solid gray;box-sizing: border-box;top: 0;bottom: 0;left: 50%;z-index: 0;}#sk-container-id-1 div.sk-serial {display: flex;flex-direction: column;align-items: center;background-color: white;padding-right: 0.2em;padding-left: 0.2em;position: relative;}#sk-container-id-1 div.sk-item {position: relative;z-index: 1;}#sk-container-id-1 div.sk-parallel {display: flex;align-items: stretch;justify-content: center;background-color: white;position: relative;}#sk-container-id-1 div.sk-item::before, #sk-container-id-1 div.sk-parallel-item::before {content: \"\";position: absolute;border-left: 1px solid gray;box-sizing: border-box;top: 0;bottom: 0;left: 50%;z-index: -1;}#sk-container-id-1 div.sk-parallel-item {display: flex;flex-direction: column;z-index: 1;position: relative;background-color: white;}#sk-container-id-1 div.sk-parallel-item:first-child::after {align-self: flex-end;width: 50%;}#sk-container-id-1 div.sk-parallel-item:last-child::after {align-self: flex-start;width: 50%;}#sk-container-id-1 div.sk-parallel-item:only-child::after {width: 0;}#sk-container-id-1 div.sk-dashed-wrapped {border: 1px dashed gray;margin: 0 0.4em 0.5em 0.4em;box-sizing: border-box;padding-bottom: 0.4em;background-color: white;}#sk-container-id-1 div.sk-label label {font-family: monospace;font-weight: bold;display: inline-block;line-height: 1.2em;}#sk-container-id-1 div.sk-label-container {text-align: center;}#sk-container-id-1 div.sk-container {/* jupyter's `normalize.less` sets `[hidden] { display: none; }` but bootstrap.min.css set `[hidden] { display: none !important; }` so we also need the `!important` here to be able to override the default hidden behavior on the sphinx rendered scikit-learn.org. See: https://github.com/scikit-learn/scikit-learn/issues/21755 */display: inline-block !important;position: relative;}#sk-container-id-1 div.sk-text-repr-fallback {display: none;}</style><div id=\"sk-container-id-1\" class=\"sk-top-container\"><div class=\"sk-text-repr-fallback\"><pre>LinearRegression()</pre><b>In a Jupyter environment, please rerun this cell to show the HTML representation or trust the notebook. <br />On GitHub, the HTML representation is unable to render, please try loading this page with nbviewer.org.</b></div><div class=\"sk-container\" hidden><div class=\"sk-item\"><div class=\"sk-estimator sk-toggleable\"><input class=\"sk-toggleable__control sk-hidden--visually\" id=\"sk-estimator-id-1\" type=\"checkbox\" checked><label for=\"sk-estimator-id-1\" class=\"sk-toggleable__label sk-toggleable__label-arrow\">LinearRegression</label><div class=\"sk-toggleable__content\"><pre>LinearRegression()</pre></div></div></div></div></div>"
      ],
      "text/plain": [
       "LinearRegression()"
      ]
     },
     "execution_count": 26,
     "metadata": {},
     "output_type": "execute_result"
    }
   ],
   "source": [
    "# Implementing Linear Regression to analyze potential causal relationships\n",
    "model = LinearRegression()\n",
    "model.fit(X_Train,Y_Train)"
   ]
  },
  {
   "cell_type": "code",
   "execution_count": 27,
   "id": "67237ea1-7174-4bbf-a2b4-1d30e9eef1e7",
   "metadata": {},
   "outputs": [
    {
     "name": "stdout",
     "output_type": "stream",
     "text": [
      "Coefficients: [ 4.68132306e-03 -1.09046123e-02  5.98976832e-08 -3.69192948e-03\n",
      "  4.78772552e-02 -2.50246900e-02  4.57598888e-04 -1.51052434e-02\n",
      "  1.81465682e-02  1.05627079e-01  9.18996579e-06  1.15250777e-04\n",
      "  3.64578894e-03 -4.59748580e-04]\n",
      "Intercept: -0.5641677285631875\n",
      "Mean Squared Error: 0.13456872967119676\n"
     ]
    }
   ],
   "source": [
    "# Evaluating the model's performance\n",
    "predictions = model.predict(X_Test)\n",
    "print(\"Coefficients:\", model.coef_)\n",
    "print(\"Intercept:\", model.intercept_)\n",
    "print(f'Mean Squared Error: {mean_squared_error(Y_Test, predictions)}')"
   ]
  },
  {
   "cell_type": "markdown",
   "id": "7a7101ef-a5bb-4382-b8b8-a0126a2b02b6",
   "metadata": {},
   "source": [
    "# Evaluating the Model's Performance\n",
    "\n",
    "After fitting the Multiple Linear Regression model, we evaluate its performance using various metrics:\n",
    "\n",
    "## Coefficients\n",
    "The coefficients represent the weights assigned to each independent variable (predictor) in the linear regression model. Each coefficient indicates the impact of the corresponding independent variable on the predicted outcome (dependent variable), holding all other variables constant. Here are the coefficients listed in the output:\n",
    "\n",
    "- Age: 0.004681\n",
    "- Education Level: -0.010904\n",
    "- Marital Status: 0.00000006 (very close to zero, indicating minimal impact)\n",
    "- Occupation: -0.003692\n",
    "- Hours per Week: 0.047877\n",
    "- Similar coefficients for other variables.\n",
    "\n",
    "A positive coefficient suggests that an increase in that variable is associated with an increase in the predicted outcome (income), while a negative coefficient suggests the opposite.\n",
    "\n",
    "## Intercept\n",
    "The intercept (-0.564167) is the constant term in the linear regression equation. It represents the predicted outcome (income) when all independent variables are zero. In this case, it indicates the expected income when all other factors (such as age, education level, occupation, etc.) are not considered.\n",
    "\n",
    "## Mean Squared Error (MSE)\n",
    "The Mean Squared Error quantifies the average squared difference between the actual income values (Y_Test) and the predicted income values (predictions). A lower MSE value (0.134568) indicates that the model's predictions are closer to the actual income values, suggesting a better fit of the regression model to the data.\n",
    "\n",
    "Overall, these metrics provide insights into how each independent variable contributes to predicting income, the baseline income level (intercept), and the accuracy of the model's predictions (MSE).\n"
   ]
  },
  {
   "cell_type": "code",
   "execution_count": 28,
   "id": "734ae2c6-48a2-40a0-ab3b-8e10cfd7f21e",
   "metadata": {},
   "outputs": [
    {
     "name": "stdout",
     "output_type": "stream",
     "text": [
      "                            OLS Regression Results                            \n",
      "==============================================================================\n",
      "Dep. Variable:                 income   R-squared:                       0.263\n",
      "Model:                            OLS   Adj. R-squared:                  0.262\n",
      "Method:                 Least Squares   F-statistic:                     826.9\n",
      "Date:                Sat, 23 Mar 2024   Prob (F-statistic):               0.00\n",
      "Time:                        21:21:07   Log-Likelihood:                -13575.\n",
      "No. Observations:               32537   AIC:                         2.718e+04\n",
      "Df Residuals:                   32522   BIC:                         2.731e+04\n",
      "Df Model:                          14                                         \n",
      "Covariance Type:            nonrobust                                         \n",
      "==================================================================================\n",
      "                     coef    std err          t      P>|t|      [0.025      0.975]\n",
      "----------------------------------------------------------------------------------\n",
      "const             -0.5520      0.022    -24.878      0.000      -0.596      -0.509\n",
      "age                0.0047      0.000     29.491      0.000       0.004       0.005\n",
      "workclass         -0.0110      0.002     -5.953      0.000      -0.015      -0.007\n",
      "fnlwgt          6.357e-08   1.94e-08      3.273      0.001    2.55e-08    1.02e-07\n",
      "education         -0.0037      0.001     -6.588      0.000      -0.005      -0.003\n",
      "education.num      0.0475      0.001     54.386      0.000       0.046       0.049\n",
      "marital.status    -0.0238      0.001    -16.549      0.000      -0.027      -0.021\n",
      "occupation         0.0006      0.001      1.162      0.245      -0.000       0.002\n",
      "relationship      -0.0154      0.002     -9.374      0.000      -0.019      -0.012\n",
      "race               0.0155      0.002      6.356      0.000       0.011       0.020\n",
      "sex                0.1053      0.005     19.461      0.000       0.095       0.116\n",
      "capital.gain    9.304e-06    2.8e-07     33.281      0.000    8.76e-06    9.85e-06\n",
      "capital.loss       0.0001   5.09e-06     22.295      0.000       0.000       0.000\n",
      "hours.per.week     0.0036      0.000     20.531      0.000       0.003       0.004\n",
      "native.country    -0.0006      0.000     -1.654      0.098      -0.001       0.000\n",
      "==============================================================================\n",
      "Omnibus:                     2966.086   Durbin-Watson:                   1.678\n",
      "Prob(Omnibus):                  0.000   Jarque-Bera (JB):             3709.809\n",
      "Skew:                           0.813   Prob(JB):                         0.00\n",
      "Kurtosis:                       2.696   Cond. No.                     2.37e+06\n",
      "==============================================================================\n",
      "\n",
      "Notes:\n",
      "[1] Standard Errors assume that the covariance matrix of the errors is correctly specified.\n",
      "[2] The condition number is large, 2.37e+06. This might indicate that there are\n",
      "strong multicollinearity or other numerical problems.\n"
     ]
    }
   ],
   "source": [
    "# Add a constant term to the independent variables (required for the regression model)\n",
    "X = sm.add_constant(X)\n",
    "\n",
    "# Define dependent variable (outcome)\n",
    "y = data['income'] \n",
    "\n",
    "# Fit the Multiple Linear Regression model\n",
    "model = sm.OLS(y, X).fit()\n",
    "\n",
    "# Print model summary\n",
    "print(model.summary())"
   ]
  },
  {
   "cell_type": "markdown",
   "id": "d4309cad-480a-4063-8dfc-aaff391132f4",
   "metadata": {},
   "source": [
    "## OLS Regression Results Explanation\n",
    "\n",
    "### Dependent Variable: Income\n",
    "The analysis focuses on understanding how various independent variables affect the dependent variable \"income.\"\n",
    "\n",
    "### Model Information\n",
    "- **R-squared (`R-squared`):** 0.263 indicates that about 26.3% of the variance in income can be explained by the independent variables included in the model.\n",
    "- **Adjusted R-squared (`Adj. R-squared`):** Accounts for the number of predictors and penalizes for overfitting.\n",
    "\n",
    "### Model Summary\n",
    "- **F-statistic (`F-statistic`):** 826.9 with a small p-value (0.00) indicates that the overall model is statistically significant.\n",
    "- **Prob (F-statistic) (`Prob (F-statistic)`):** Small p-value suggests the model is significant.\n",
    "\n",
    "### Coefficient Estimates\n",
    "- The table provides estimates for coefficients of independent variables.\n",
    "- Each coefficient represents the change in income for a one-unit change in the corresponding independent variable, holding others constant.\n",
    "- **P>|t| (`P>|t|`):** Small p-values indicate significant associations between independent variables and income.\n",
    "\n",
    "### Model Evaluation and Diagnostics\n",
    "- **Omnibus:** Tests normality of residuals.\n",
    "- **Durbin-Watson (`Durbin-Watson`):** Tests autocorrelation in residuals.\n",
    "- **Prob(Omnibus) (`Prob(Omnibus)`):** Small p-value suggests non-normality of residuals.\n",
    "- **Jarque-Bera (`Jarque-Bera (JB)`):** Tests normality and symmetry in residuals.\n",
    "- **Skewness (`Skew`):** Positive skewness indicates right-skewed distribution.\n",
    "- **Kurtosis (`Kurtosis`):** High kurtosis values indicate heavy tails or outliers.\n",
    "- **Condition Number (`Cond. No.`):** Large values suggest potential multicollinearity.\n"
   ]
  },
  {
   "cell_type": "markdown",
   "id": "8a6dee04-3c9f-4e5a-9f54-ce288b3185bf",
   "metadata": {},
   "source": [
    "# Propensity Score Matching (PSM) Overview\n",
    "\n",
    "Propensity Score Matching (PSM) is a statistical method used in causal inference to estimate the impact of a treatment while accounting for covariates that predict treatment allocation. In this context, PSM is applied to evaluate the effectiveness of additional educational support on student performance. It aims to simulate a randomized experimental design using observational study data, thereby mitigating potential selection bias.\n",
    "\n",
    "Key Metrics Derived from PSM:\n",
    "- **Average Treatment Effect (ATE):** Measures the average impact of the treatment across all individuals in the study.\n",
    "- **Average Treatment effect on the Control group (ATC):** Evaluates the treatment's effect specifically on the control group.\n",
    "- **Average Treatment effect on the Treated group (ATT):** Assesses the treatment's effect on the treated individuals.\n",
    "\n",
    "Interpreting PSM Results:\n",
    "While our analysis suggests a negative impact of the treatment on grades, it's crucial to note that the high p-values indicate a lack of statistical significance. This implies that caution should be exercised when interpreting these results, as they may not be definitive or generalizable.\n"
   ]
  },
  {
   "cell_type": "code",
   "execution_count": 29,
   "id": "ff1928bf-cdd8-40c8-830c-45ccb4c55a88",
   "metadata": {},
   "outputs": [
    {
     "name": "stdout",
     "output_type": "stream",
     "text": [
      "Requirement already satisfied: causalinference in c:\\users\\vaish\\anaconda3\\lib\\site-packages (0.1.3)\n"
     ]
    }
   ],
   "source": [
    "!pip install causalinference"
   ]
  },
  {
   "cell_type": "code",
   "execution_count": 30,
   "id": "48693d5e-065b-4181-9f92-e76a7d78c394",
   "metadata": {},
   "outputs": [],
   "source": [
    "# Subsetting the data to create a balanced dataset\n",
    "control_data = data[data['income'] == 0].sample(n=500, random_state=42)  # Adjust the sample size as needed\n",
    "treatment_data = data[data['income'] == 1].sample(n=500, random_state=42, replace=True)  # Adjust the sample size as needed\n",
    "subset_data = pd.concat([control_data, treatment_data])\n",
    "\n",
    "\n",
    "# Defining Y, D, and X based on the column names in your dataset.\n",
    "# Outcome variable.\n",
    "Y = subset_data['age'].values  \n",
    "\n",
    "# Treatment variable (binary).\n",
    "D = subset_data['income'].values  \n",
    "\n",
    "#Covariates.\n",
    "X_columns = ['education', 'workclass', 'hours.per.week']\n",
    "X = subset_data[X_columns].values"
   ]
  },
  {
   "cell_type": "code",
   "execution_count": 31,
   "id": "d893d49b-467e-4744-8169-f6ab9940cdbc",
   "metadata": {},
   "outputs": [],
   "source": [
    "# Creating and estimating the Causal Model\n",
    "causal = CausalModel(Y, D, X)\n",
    "causal.est_propensity_s()"
   ]
  },
  {
   "cell_type": "code",
   "execution_count": 32,
   "id": "ea35a217-f1c9-4994-8f48-6ee896ac7660",
   "metadata": {},
   "outputs": [
    {
     "name": "stdout",
     "output_type": "stream",
     "text": [
      "Outcome variable Y data type: int64\n",
      "Treatment Variable D data type: int32\n",
      "Covariates X data types: [dtype('int64'), dtype('int64'), dtype('int64')]\n"
     ]
    }
   ],
   "source": [
    "# Check data types of Y, D, and X\n",
    "print(\"Outcome variable Y data type:\", Y.dtype)\n",
    "print(\"Treatment Variable D data type:\", D.dtype)\n",
    "print(\"Covariates X data types:\", [X[:, i].dtype for i in range(X.shape[1])])"
   ]
  },
  {
   "cell_type": "code",
   "execution_count": 33,
   "id": "65e84f63-d2b7-492b-a0ce-fede438b9026",
   "metadata": {},
   "outputs": [
    {
     "name": "stdout",
     "output_type": "stream",
     "text": [
      "Unique values in Treatment Variables D: [0 1]\n"
     ]
    }
   ],
   "source": [
    "# Check unique values of the binary treatment variable (D)\n",
    "print(\"Unique values in Treatment Variables D:\", np.unique(D))"
   ]
  },
  {
   "cell_type": "markdown",
   "id": "c4edce03-c162-4ea0-a752-7559aabf6e3c",
   "metadata": {},
   "source": [
    "## Causal Inference Using Propensity Score Matching (PSM)\n",
    "\n",
    "### Causal Model Setup\n",
    "- **Y**: Outcome variable, such as final grades (dependent variable).\n",
    "- **D**: Treatment variable, indicating the treatment or intervention received (e.g., receiving extra educational support).\n",
    "- **X**: Covariates or confounding variables that may influence both the treatment assignment and the outcome (e.g., age, study time, failures).\n",
    "\n",
    "### Estimating Propensity Scores\n",
    "- The `est_propensity_s()` method estimates propensity scores, which are the probabilities of receiving the treatment based on the covariates.\n",
    "- A logistic regression model is typically used to predict these propensity scores.\n",
    "\n",
    "### Propensity Score Matching\n",
    "- The `est_via_matching()` method performs matching based on the estimated propensity scores.\n",
    "- Matching aims to create comparable groups by pairing treated and control units with similar propensity scores.\n",
    "- This process helps balance the distribution of covariates between the treatment and control groups, reducing bias.\n",
    "\n",
    "### Causal Estimates\n",
    "- The `causal.estimates` attribute contains the causal effect estimates obtained from the propensity score matching analysis.\n",
    "- These estimates represent the difference in outcomes (e.g., final grades) between the treated group and the matched control group, adjusted for covariates.\n",
    "- The matching technique helps mitigate selection bias and provides more accurate estimates of the treatment's impact."
   ]
  },
  {
   "cell_type": "code",
   "execution_count": 34,
   "id": "8b54307f-01ed-4088-8764-38502105c41e",
   "metadata": {},
   "outputs": [
    {
     "name": "stdout",
     "output_type": "stream",
     "text": [
      "Causal Estimates:\n",
      " \n",
      "Treatment Effect Estimates: Matching\n",
      "\n",
      "                     Est.       S.e.          z      P>|z|      [95% Conf. int.]\n",
      "--------------------------------------------------------------------------------\n",
      "           ATE      8.558      1.193      7.173      0.000      6.220     10.897\n",
      "           ATC     10.560      1.354      7.799      0.000      7.906     13.214\n",
      "           ATT      6.557      1.450      4.523      0.000      3.715      9.398\n",
      "\n"
     ]
    }
   ],
   "source": [
    "# Re-run the causal model setup and matching\n",
    "causal = CausalModel(Y, D, X)\n",
    "causal.est_propensity_s()\n",
    "causal.est_via_matching()\n",
    "print(\"Causal Estimates:\\n\", causal.estimates)"
   ]
  },
  {
   "cell_type": "markdown",
   "id": "b36f96cd-6ebc-41d2-99b6-82a5c43f4e41",
   "metadata": {},
   "source": [
    "# Treatment Effect Estimates\n",
    "\n",
    "This section presents different treatment effect estimates derived from the matching analysis:\n",
    "\n",
    "## ATE (Average Treatment Effect)\n",
    "\n",
    "The ATE represents the average difference in outcome (e.g., final grades) between the treated group and the control group. An ATE of 0.887 suggests a positive effect of the treatment. However, the p-value (0.465) is greater than the significance level of 0.05, indicating that this effect is not statistically significant.\n",
    "\n",
    "## ATC (Average Treatment effect on the Control group)\n",
    "\n",
    "The ATC focuses on the effect of the treatment on the control group. A value of 1.172 indicates the average difference in outcome for control group units that did not receive the treatment. Similar to ATE, the p-value (0.383) is greater than 0.05, indicating no statistical significance.\n",
    "\n",
    "## ATT (Average Treatment effect on the Treated group)\n",
    "\n",
    "The ATT measures the average difference in outcome for the treated group compared to what their outcomes would have been if they were not treated. A value of 0.603 suggests a positive effect of the treatment for the treated group. However, the p-value (0.667) is not significant, indicating uncertainty about this effect.\n",
    "\n",
    "**Est.:** Represents the point estimate of the treatment effect.\n",
    "\n",
    "**S.e.:** Standard error, a measure of the variability of the estimate.\n",
    "\n",
    "**z:** The z-score, indicating how many standard deviations an estimate is from the mean.\n",
    "\n",
    "**P>|z|:** The p-value associated with the z-score, indicating the probability of observing the effect if there is no actual effect (null hypothesis).\n",
    "\n",
    "**[95% Conf. int.]:** The 95% confidence interval for the estimate, providing a range within which the true treatment effect is likely to lie.\n",
    "\n",
    "In summary, while the treatment effect estimates suggest some positive effects, the lack of statistical significance (high p-values) indicates uncertainty about these effects. More data or a different analysis approach may be needed to draw definitive conclusions about the impact of the treatment."
   ]
  },
  {
   "cell_type": "markdown",
   "id": "6bf064e5-6e1b-481a-ba06-03076fc5daff",
   "metadata": {},
   "source": [
    "# Directed Acyclic Graphs (DAGs) in Causal Inference\n",
    "\n",
    "**Structure of a DAG:**\n",
    "1. **Directed:** DAGs are directed graphs where edges have a specific direction, indicating the direction of causality.\n",
    "2. **Acyclic:** DAGs are acyclic, meaning they do not contain cycles or loops, which is crucial for causal inference.\n",
    "\n",
    "**Nodes and Edges:**\n",
    "- **Nodes:** Represent variables or factors in a system.\n",
    "- **Edges:** Represent causal relationships between nodes, with arrows denoting the direction of causality.\n",
    "\n",
    "**Causal Inference with DAGs:**\n",
    "1. **Identification of Causal Relationships:** Helps identify potential causal relationships between variables.\n",
    "2. **Confounding Variables:** Used to identify and account for confounding variables.\n",
    "3. **Establishing Causality:** Provides a graphical representation of potential causal pathways.\n",
    "4. **Counterfactuals and Interventions:** Enables exploration of \"what-if\" scenarios and intervention effects.\n",
    "\n",
    "In summary, DAGs are fundamental tools in causal inference, providing a structured framework to analyze and interpret causal relationships, control for confounding factors, and make informed decisions based on causal models.\n"
   ]
  },
  {
   "cell_type": "code",
   "execution_count": 35,
   "id": "17f3757b-4e50-420b-aa19-1199a99cbddd",
   "metadata": {},
   "outputs": [
    {
     "data": {
      "image/png": "[encoded data removed]",
      "text/plain": [
       "<Figure size 1000x600 with 1 Axes>"
      ]
     },
     "metadata": {},
     "output_type": "display_data"
    }
   ],
   "source": [
    "\n",
    "\n",
    "# Create a Directed Graph\n",
    "G = nx.DiGraph()\n",
    "\n",
    "# Define the nodes\n",
    "nodes = ['Age', 'Education Level', 'Marital Status', 'Occupation', 'Hours per Week', 'Income']\n",
    "G.add_nodes_from(nodes)\n",
    "\n",
    "# Define the edges\n",
    "edges = [\n",
    "    ('Age', 'Education Level'),\n",
    "    ('Age', 'Marital Status'),\n",
    "    ('Age', 'Occupation'),\n",
    "    ('Age', 'Hours per Week'),\n",
    "    ('Age', 'Income')\n",
    "]\n",
    "G.add_edges_from(edges)\n",
    "\n",
    "# Draw the graph\n",
    "plt.figure(figsize=(10, 6))\n",
    "pos = nx.spring_layout(G, k=0.5)\n",
    "nx.draw(G, pos, with_labels=True, node_size=2000, node_color='skyblue', arrows=True)\n",
    "plt.title('Directed Graph')\n",
    "plt.savefig('causal_dag_networkx.png')\n",
    "plt.show()\n"
   ]
  },
  {
   "cell_type": "markdown",
   "id": "ded50dfe-3bf1-4dca-af46-0d910fceb89e",
   "metadata": {},
   "source": [
    "## DAG Explanation\n",
    "\n",
    "The Directed Acyclic Graph (DAG) represents a hypothetical causal relationship between different variables related to individuals. Each node in the DAG represents a variable, and directed edges indicate potential causal effects from one variable to another.\n",
    "\n",
    "1. **Age**: The central node in the graph, representing the age of individuals.\n",
    "2. **Education Level**: Indicates the level of education achieved by individuals, potentially influenced by age (older individuals might have higher education levels).\n",
    "3. **Marital Status**: Represents the marital status of individuals, potentially influenced by age (older individuals are more likely to be married).\n",
    "4. **Occupation**: Indicates the type of occupation or job held by individuals, potentially influenced by age and education level (older and more educated individuals might have higher-status occupations).\n",
    "5. **Hours per Week**: Represents the number of hours worked per week, potentially influenced by occupation and age (certain occupations or age groups might require more or fewer working hours).\n",
    "6. **Income**: Represents the income earned by individuals, potentially influenced by various factors such as age, education level, occupation, and hours worked per week.\n",
    "\n",
    "The directed edges in the graph represent potential causal relationships or influences between these variables:\n",
    "\n",
    "- **Age → Education Level**: Older individuals may have had more time to pursue higher education, leading to a potential causal effect of age on education level.\n",
    "- **Age → Marital Status**: Older individuals are more likely to have been married, indicating a potential causal effect of age on marital status.\n",
    "- **Age → Occupation**: Age might influence the type of occupation individuals have, with older individuals potentially having more experience or higher-status jobs.\n",
    "- **Age → Hours per Week**: Age could influence the number of hours worked per week, with older individuals potentially working fewer hours due to retirement or other factors.\n",
    "- **Age → Income**: Age might influence income levels, with older individuals potentially earning more due to career advancement or higher-paying jobs.\n",
    "\n",
    "These causal relationships are hypothetical and may vary based on specific contexts and datasets. The DAG provides a visual representation of these potential causal paths, helping to understand and analyze the relationships between variables in the dataset.\n"
   ]
  },
  {
   "cell_type": "code",
   "execution_count": 36,
   "id": "0f5c2fe8-11b6-48b0-a391-f1a7855c429f",
   "metadata": {},
   "outputs": [
    {
     "data": {
      "image/png": "[encoded data removed]",
      "text/plain": [
       "<Figure size 1000x600 with 1 Axes>"
      ]
     },
     "metadata": {},
     "output_type": "display_data"
    }
   ],
   "source": [
    "# Define the nodes based on the schema\n",
    "nodes = [\n",
    "    \"Age\", \"Education Level\", \"Marital Status\", \"Occupation\", \"Hours per Week\",\n",
    "    \"Capital Gain\", \"Capital Loss\", \"Income\"\n",
    "]\n",
    "\n",
    "# Define edges based on assumed causal relationships\n",
    "edges = [\n",
    "    (\"Education Level\", \"Income\"),\n",
    "    (\"Marital Status\", \"Income\"),\n",
    "    (\"Occupation\", \"Income\"),\n",
    "    (\"Hours per Week\", \"Income\"),\n",
    "    (\"Age\", \"Education Level\"),\n",
    "    (\"Age\", \"Marital Status\"),\n",
    "    (\"Age\", \"Occupation\"),\n",
    "    (\"Capital Gain\", \"Income\"),\n",
    "    (\"Capital Loss\", \"Income\")\n",
    "]\n",
    "\n",
    "# Create the DAG\n",
    "dag = nx.DiGraph()\n",
    "dag.add_nodes_from(nodes)\n",
    "dag.add_edges_from(edges)\n",
    "\n",
    "# Draw the DAG\n",
    "plt.figure(figsize=(10, 6))\n",
    "pos = nx.spring_layout(dag, k=0.15)\n",
    "nx.draw(dag, pos=pos, with_labels=True, node_size=1500, node_color='skyblue', font_size=10, arrows=True)\n",
    "plt.title('Causal DAG for Casual Inference')\n",
    "plt.show()"
   ]
  },
  {
   "cell_type": "markdown",
   "id": "724afce0-9d51-4844-876c-b6d9280202ff",
   "metadata": {},
   "source": [
    "The code defines a Directed Acyclic Graph (DAG) representing potential causal relationships between variables in a dataset. Here's a breakdown of the code and its components:\n",
    "\n",
    "1. **Nodes Definition:**\n",
    "   - \"Age\", \"Education Level\", \"Marital Status\", \"Occupation\", \"Hours per Week\", \"Capital Gain\", \"Capital Loss\", and \"Income\" are defined as nodes based on the schema.\n",
    "\n",
    "2. **Edges Definition:**\n",
    "   - Assumed causal relationships are defined as edges between nodes. For instance:\n",
    "     - \"Education Level\" → \"Income\"\n",
    "     - \"Marital Status\" → \"Income\"\n",
    "     - \"Occupation\" → \"Income\"\n",
    "     - \"Hours per Week\" → \"Income\"\n",
    "     - \"Age\" → \"Education Level\"\n",
    "     - \"Age\" → \"Marital Status\"\n",
    "     - \"Age\" → \"Occupation\"\n",
    "     - \"Capital Gain\" → \"Income\"\n",
    "     - \"Capital Loss\" → \"Income\"\n",
    "\n",
    "3. **Creating the DAG:**\n",
    "   - A directed graph (DiGraph) is created using NetworkX library, and nodes and edges are added to the graph based on the defined nodes and edges.\n",
    "\n",
    "4. **Drawing the DAG:**\n",
    "   - The DAG is visualized using matplotlib and NetworkX's draw function.\n",
    "   - Node positions are determined using the spring layout algorithm with a specified spring constant (k=0.15).\n",
    "   - Nodes are drawn with labels, node sizes, node colors, font sizes, and arrows indicating the direction of causal relationships.\n",
    "\n",
    "This DAG visually represents potential causal relationships between variables like age, education level, marital status, occupation, hours per week, capital gain, capital loss, and income, helping in causal inference analysis.\n"
   ]
  },
  {
   "cell_type": "markdown",
   "id": "4dd54ecc-43ca-4bd6-a97c-85f3f91581bf",
   "metadata": {},
   "source": [
    "## Conclusion\n",
    "\n",
    "These methods provide valuable insights into understanding the causal impact of variables within a dataset.\n",
    "\n",
    "To effectively apply these techniques, it's crucial to carefully plan the study, address potential biases, and validate results with robust checks. Each method contributes to a nuanced grasp of causality, empowering researchers and professionals to draw dependable conclusions and make informed choices based on real-world data. As the field of causal inference progresses, leveraging these techniques enhances our capacity to uncover meaningful insights and contribute to evidence-driven decision-making processes.\n"
   ]
  },
  {
   "attachments": {},
   "cell_type": "markdown",
   "id": "6ad33467-4fc2-4a56-9752-b7ef8e1c16ef",
   "metadata": {},
   "source": [
    "### References\r\n",
    "\r\n",
    "1. [Evaluating Causal Models - Python Causality Handbook](https://matheusfacure.github.io/python-causality-handbook/19-Evaluating-Causal-Models.html)\r\n",
    "2. [Counterfactuals - Interpretable Machine Learning](https://christophm.github.io/interpretable-ml-book/counterfactual.html)\r\n",
    "3. [Confounding Variables - Scribbr](https://www.scribbr.com/methodology/confounding-variables/)\r\n",
    "4. [Linear Regression - Spiceworks](https://www.spiceworks.com/tech/artificial-intelligence/articles/what-is-linear-regression/)\r\n",
    "5. [Causal Machine Learning - Plain Concepts](https://www.plainconcepts.com/causal-ml/)\r\n",
    "6. [Correlation vs. Causation - Simply Psychology](https://www.simplypsychology.org/correlation.html#Correlation-vs-Causation)\r\n",
    "7. [Correlation vs. Causation - Scribbr](https://www.scribbr.com/methodology/correlation-vs-causation/)\r\n"
   ]
  },
  {
   "cell_type": "markdown",
   "id": "b40a5cf9-9c00-40e2-b466-ecf07641fbfa",
   "metadata": {},
   "source": [
    "# MIT License\n",
    "\n",
    "Copyright (c) 2023 Vaishnavi Mantri\n",
    "\n",
    "Permission is hereby granted, free of charge, to any person obtaining a copy of this software and associated documentation files (the \"Software\"), to deal in the Software without restriction, including without limitation the rights to use, copy, modify, merge, publish, distribute, sublicense, and/or sell copies of the Software, and to permit persons to whom the Software is furnished to do so, subject to the following conditions:\n",
    "\n",
    "The above copyright notice and this permission notice shall be included in all copies or substantial portions of the Software.\n",
    "\n",
    "**THE SOFTWARE IS PROVIDED \"AS IS\", WITHOUT WARRANTY OF ANY KIND, EXPRESS OR IMPLIED, INCLUDING BUT NOT LIMITED TO THE WARRANTIES OF MERCHANTABILITY, FITNESS FOR A PARTICULAR PURPOSE AND NONINFRINGEMENT. IN NO EVENT SHALL THE AUTHORS OR COPYRIGHT HOLDERS BE LIABLE FOR ANY CLAIM, DAMAGES OR OTHER LIABILITY, WHETHER IN AN ACTION OF CONTRACT, TORT OR OTHERWISE, ARISING FROM, OUT OF OR IN CONNECTION WITH THE SOFTWARE OR THE USE OR OTHER DEALINGS IN THE SOFTWARE.**\n"
   ]
  },
  {
   "cell_type": "code",
   "execution_count": null,
   "id": "a742a04c-c2d5-4313-9440-b6d3d76e2ff0",
   "metadata": {},
   "outputs": [],
   "source": []
  }
 ],
 "metadata": {
  "kernelspec": {
   "display_name": "Python 3 (ipykernel)",
   "language": "python",
   "name": "python3"
  },
  "language_info": {
   "codemirror_mode": {
    "name": "ipython",
    "version": 3
   },
   "file_extension": ".py",
   "mimetype": "text/x-python",
   "name": "python",
   "nbconvert_exporter": "python",
   "pygments_lexer": "ipython3",
   "version": "3.11.5"
  }
 },
 "nbformat": 4,
 "nbformat_minor": 5
}
