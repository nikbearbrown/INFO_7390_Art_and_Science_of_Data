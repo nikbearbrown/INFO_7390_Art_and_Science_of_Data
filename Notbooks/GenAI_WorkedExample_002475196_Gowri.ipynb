{
 "cells": [
  {
   "cell_type": "markdown",
   "id": "37407e6d",
   "metadata": {},
   "source": [
    "# Learning to Write: Variational Autoencoders for Text Generation"
   ]
  },
  {
   "cell_type": "markdown",
   "id": "a73c3b49",
   "metadata": {},
   "source": [
    "## Introduction\n",
    "\n",
    "Variational Autoencoders (VAEs) are generative models that combine neural networks with principles from variational inference to learn meaningful latent representations. Unlike traditional autoencoders, VAEs treat encoding as a probabilistic process and enable controlled generation by sampling from a latent distribution. This makes them well-suited for generative tasks where diversity and structure need to be balanced.\n",
    "\n",
    "In this notebook, we apply VAEs to the task of **text generation**, demonstrating their ability to learn latent structure and produce diverse natural language outputs. While VAEs are commonly associated with image generation, their application in NLP introduces unique challenges—such as working with discrete tokens, maintaining grammar, and generating syntactically valid sequences.\n",
    "\n",
    "We explore two worked examples:\n",
    "- **Dataset A - OpenWebText**: A web-scale corpus containing diverse, informal language sourced from internet text. It provides broad vocabulary and stylistic variance, but is noisy and unstructured.\n",
    "- **Dataset B - WikiText-2**: A curated collection of Wikipedia articles offering clean, formal, and grammatically consistent text.\n",
    "\n",
    "These examples allow us to analyze how dataset characteristics—such as domain, language complexity, and structural consistency—affect the training and generation quality of VAEs in text-based settings."
   ]
  },
  {
   "cell_type": "markdown",
   "id": "c0144cdf",
   "metadata": {},
   "source": [
    "<p align=\"center\">\n",
    "  <img src=\"https://raw.githubusercontent.com/gowrimg28/Dataset_GamesAndStudents/refs/heads/main/VAE.avif\" alt=\"Variational Autoencoders\" width=\"1000\"/>\n",
    "</p>"
   ]
  },
  {
   "cell_type": "markdown",
   "id": "c0583836",
   "metadata": {},
   "source": [
    "### Dataset Loading and Tokenization\n",
    "\n",
    "In this step, we load and preprocess two distinct text datasets to train and evaluate our Variational Autoencoder (VAE) for text generation.\n",
    "\n",
    "- **OpenWebText** serves as Dataset A and represents informal, diverse, and web-scale content.\n",
    "- **WikiText-2** serves as Dataset B and provides clean, well-structured English text from Wikipedia articles.\n",
    "\n",
    "We use the GPT-2 tokenizer to tokenize both datasets consistently, applying padding and truncation to a fixed sequence length of 64 tokens. The tokenized sequences are then wrapped in custom PyTorch-compatible Dataset classes and organized into DataLoaders for efficient batching during training.\n",
    "\n",
    "This unified preprocessing step ensures that both datasets are compatible with the same VAE architecture and allows us to later compare how the model behaves when trained on different types of textual data."
   ]
  },
  {
   "cell_type": "code",
   "execution_count": 1,
   "id": "d646d046",
   "metadata": {},
   "outputs": [
    {
     "name": "stderr",
     "output_type": "stream",
     "text": [
      "/Users/venkatesulubyni/Library/Python/3.9/lib/python/site-packages/urllib3/__init__.py:35: NotOpenSSLWarning: urllib3 v2 only supports OpenSSL 1.1.1+, currently the 'ssl' module is compiled with 'LibreSSL 2.8.3'. See: https://github.com/urllib3/urllib3/issues/3020\n",
      "  warnings.warn(\n",
      "/Users/venkatesulubyni/Library/Python/3.9/lib/python/site-packages/tqdm/auto.py:21: TqdmWarning: IProgress not found. Please update jupyter and ipywidgets. See https://ipywidgets.readthedocs.io/en/stable/user_install.html\n",
      "  from .autonotebook import tqdm as notebook_tqdm\n"
     ]
    }
   ],
   "source": [
    "from datasets import load_dataset\n",
    "from transformers import AutoTokenizer\n",
    "import torch\n",
    "from torch.utils.data import DataLoader, Dataset\n",
    "\n",
    "# Load GPT-2 tokenizer once for both\n",
    "tokenizer = AutoTokenizer.from_pretrained(\"gpt2\")\n",
    "tokenizer.pad_token = tokenizer.eos_token\n",
    "\n",
    "# Common tokenization function\n",
    "def tokenize_function(examples):\n",
    "    return tokenizer(examples[\"text\"], padding=\"max_length\", truncation=True, max_length=64)\n",
    "\n",
    "# Load OpenWebText - Dataset A\n",
    "openweb_dataset = load_dataset(\"openwebtext\", split=\"train\", trust_remote_code=True).shuffle(seed=42).select(range(1000))\n",
    "openweb_tokenized = openweb_dataset.map(tokenize_function, batched=True)\n",
    "openweb_tokenized.set_format(type=\"torch\", columns=[\"input_ids\"])\n",
    "\n",
    "# Load WikiText-2 - Dataset B\n",
    "wikitext_dataset = load_dataset(\"wikitext\", \"wikitext-2-raw-v1\", split=\"train[:1000]\")\n",
    "wikitext_tokenized = wikitext_dataset.map(tokenize_function, batched=True)\n",
    "wikitext_tokenized.set_format(type=\"torch\", columns=[\"input_ids\"])\n",
    "\n",
    "# PyTorch-compatible dataset wrapper\n",
    "class TextDataset(Dataset):\n",
    "    def __init__(self, tokenized_data):\n",
    "        self.input_ids = tokenized_data[\"input_ids\"]\n",
    "\n",
    "    def __len__(self):\n",
    "        return len(self.input_ids)\n",
    "\n",
    "    def __getitem__(self, idx):\n",
    "        return self.input_ids[idx]\n",
    "\n",
    "# Dataloaders\n",
    "openweb_loader = DataLoader(TextDataset(openweb_tokenized), batch_size=64, shuffle=True)\n",
    "wikitext_loader = DataLoader(TextDataset(wikitext_tokenized), batch_size=64, shuffle=True)"
   ]
  },
  {
   "cell_type": "markdown",
   "id": "25027167",
   "metadata": {},
   "source": [
    "### Tokenization Summary\n",
    "\n",
    "The datasets have been successfully preprocessed:\n",
    "\n",
    "- **WikiText-2** was automatically split into train, validation, and test sets by the Hugging Face loader. We selected only the first 1,000 samples from the training set to keep training lightweight and efficient.\n",
    "- **Tokenization and formatting** were applied to all samples using the GPT-2 tokenizer, converting text into fixed-length token sequences with appropriate padding and truncation.\n",
    "- The map() function efficiently processed 1,000 samples in less than a second, confirming the datasets are now fully ready for model training.\n",
    "\n",
    "This confirms that both OpenWebText and WikiText-2 are now properly aligned for comparison using a shared architecture and training pipeline."
   ]
  },
  {
   "cell_type": "markdown",
   "id": "779082ee",
   "metadata": {},
   "source": [
    "### TextVAE Model Architecture\n",
    "\n",
    "In this section, we define our custom Variational Autoencoder (VAE) tailored for text generation using PyTorch.\n",
    "\n",
    "The model consists of the following components:\n",
    "- **Embedding Layer**: Converts token IDs into dense vector representations.\n",
    "- **Encoder (LSTM)**: Processes input sequences and outputs hidden representations.\n",
    "- **Latent Projection Layers**: Compute the mean (`μ`) and log-variance (`logσ²`) of the latent distribution.\n",
    "- **Reparameterization Trick**: Enables gradient-based optimization by sampling latent vectors from the computed distribution.\n",
    "- **Decoder (LSTM)**: Reconstructs the token sequence from the latent vector `z`.\n",
    "- **Output Layer**: Maps decoder outputs to vocabulary logits.\n",
    "\n",
    "This architecture enables the model to learn a compressed latent representation of input text and use it to generate coherent sequences. A shared embedding layer is used for both encoding and decoding for vocabulary consistency."
   ]
  },
  {
   "cell_type": "code",
   "execution_count": 2,
   "id": "7876b5bd",
   "metadata": {},
   "outputs": [],
   "source": [
    "import torch\n",
    "import torch.nn as nn\n",
    "import torch.nn.functional as F\n",
    "import torch.optim as optim\n",
    "\n",
    "class TextVAE(nn.Module):\n",
    "    def __init__(self, vocab_size, embedding_dim=256, hidden_dim=256, latent_dim=32, pad_token_id=50256):\n",
    "        super(TextVAE, self).__init__()\n",
    "        self.latent_dim = latent_dim\n",
    "        self.hidden_dim = hidden_dim\n",
    "        self.embedding = nn.Embedding(vocab_size, embedding_dim, padding_idx=pad_token_id)\n",
    "\n",
    "        # Encoder\n",
    "        self.encoder_lstm = nn.LSTM(embedding_dim, hidden_dim, batch_first=True)\n",
    "        self.fc_mu = nn.Linear(hidden_dim, latent_dim)\n",
    "        self.fc_logvar = nn.Linear(hidden_dim, latent_dim)\n",
    "\n",
    "        # Decoder\n",
    "        self.latent_to_hidden = nn.Linear(latent_dim, hidden_dim)\n",
    "        self.decoder_lstm = nn.LSTM(embedding_dim, hidden_dim, batch_first=True)\n",
    "        self.decoder_out = nn.Linear(hidden_dim, vocab_size)\n",
    "\n",
    "    def reparameterize(self, mu, logvar):\n",
    "        std = torch.exp(0.5 * logvar)\n",
    "        eps = torch.randn_like(std)\n",
    "        return mu + eps * std\n",
    "\n",
    "    def encode(self, x):\n",
    "        embedded = self.embedding(x)\n",
    "        _, (h_n, _) = self.encoder_lstm(embedded)\n",
    "        h_n = h_n.squeeze(0)\n",
    "        mu = self.fc_mu(h_n)\n",
    "        logvar = self.fc_logvar(h_n)\n",
    "        return mu, logvar\n",
    "\n",
    "    def decode(self, z, seq_len):\n",
    "        hidden = self.latent_to_hidden(z).unsqueeze(0)\n",
    "        c_0 = torch.zeros_like(hidden)\n",
    "        inputs = torch.full((z.size(0), seq_len), tokenizer.bos_token_id or tokenizer.eos_token_id, dtype=torch.long, device=z.device)\n",
    "        embedded = self.embedding(inputs)\n",
    "        output, _ = self.decoder_lstm(embedded, (hidden, c_0))\n",
    "        logits = self.decoder_out(output)\n",
    "        return logits\n",
    "\n",
    "    def forward(self, x):\n",
    "        mu, logvar = self.encode(x)\n",
    "        z = self.reparameterize(mu, logvar)\n",
    "        logits = self.decode(z, x.size(1))\n",
    "        return logits, mu, logvar"
   ]
  },
  {
   "cell_type": "markdown",
   "id": "d4f68ee4",
   "metadata": {},
   "source": [
    "### Model Definition Complete\n",
    "\n",
    "The TextVAE class has been successfully defined with a complete encoder-decoder structure built around LSTM layers. The reparameterization step enables stochastic sampling during training, allowing the model to learn a smooth and meaningful latent space.\n",
    "\n",
    "Key architectural choices include:\n",
    "- A latent dimension of 32, which controls the compression of text information.\n",
    "- Decoder input initialized using the beginning-of-sequence token (<bos>), allowing the model to generate sequences from scratch.\n",
    "- Use of nn.Embedding, nn.LSTM, and nn.Linear layers to transform between token space and latent space.\n",
    "\n",
    "This model will now serve as the generative backbone for training on both OpenWebText and WikiText-2 datasets."
   ]
  },
  {
   "cell_type": "markdown",
   "id": "d7e67ee5",
   "metadata": {},
   "source": [
    "### Custom Loss Function with KL Annealing\n",
    "\n",
    "This function implements the loss for training the Variational Autoencoder, combining two components:\n",
    "\n",
    "1. **Reconstruction Loss**: Measures how well the decoded output matches the original input. We use cross-entropy loss between predicted token logits and the actual token IDs, ignoring padded tokens.\n",
    "\n",
    "2. **KL Divergence**: Regularizes the learned latent distribution (q(z|x)) to remain close to a standard normal prior (N(0,1)). This ensures a smooth and continuous latent space suitable for generation.\n",
    "\n",
    "To improve stability and learning during early training, we introduce **KL annealing** — a gradual increase of the KL divergence weight (kl_weight) from 0 to 0.5. This allows the model to focus first on reconstruction before regularizing the latent space, reducing the chance of posterior collapse."
   ]
  },
  {
   "cell_type": "code",
   "execution_count": 3,
   "id": "b0ddfa4d",
   "metadata": {},
   "outputs": [],
   "source": [
    "def vae_loss(logits, target, mu, logvar, step, total_steps):\n",
    "    reconstruction_loss = F.cross_entropy(\n",
    "        logits.view(-1, logits.size(-1)),\n",
    "        target.view(-1),\n",
    "        ignore_index=tokenizer.pad_token_id\n",
    "    )\n",
    "    kl_div = -0.5 * torch.sum(1 + logvar - mu.pow(2) - logvar.exp()) / mu.size(0)\n",
    "\n",
    "    # Annealing factor (starts at 0 → 1 over training)\n",
    "    kl_weight = min(0.5, step / (total_steps // 2)) \n",
    "    return reconstruction_loss + kl_weight * kl_div, reconstruction_loss, kl_div"
   ]
  },
  {
   "cell_type": "markdown",
   "id": "66dbf0a9",
   "metadata": {},
   "source": [
    "### Loss Function Defined with KL Annealing\n",
    "\n",
    "The loss function has been implemented successfully, combining reconstruction accuracy and latent regularization.\n",
    "\n",
    "- The **cross-entropy term** encourages the decoder to produce outputs close to the original sequences.\n",
    "- The **KL divergence term**, scaled with an annealing schedule, prevents the model from learning trivial latent codes.\n",
    "- The **annealing factor** increases linearly during training (up to a cap of 0.5), providing a smooth transition from reconstruction-focused learning to fully variational inference.\n",
    "\n",
    "This setup is essential for balancing expressiveness and stability in VAEs trained on complex, high-variance datasets like OpenWebText and WikiText-2."
   ]
  },
  {
   "cell_type": "markdown",
   "id": "50f7b2c7",
   "metadata": {},
   "source": [
    "### Model Training Loop\n",
    "\n",
    "In this step, we define the training loop for our Variational Autoencoder model.\n",
    "\n",
    "The train_model function performs the following tasks:\n",
    "- Sets the model to training mode.\n",
    "- Iterates through the dataset for a defined number of epochs.\n",
    "- For each batch, computes the total loss as a combination of reconstruction loss and KL divergence using the custom vae_loss function.\n",
    "- Applies **KL annealing** by adjusting the KL term's weight (kl_weight) dynamically based on the training step.\n",
    "- Optimizes the model using backpropagation and an Adam optimizer.\n",
    "\n",
    "The function also logs the total loss, reconstruction loss, and KL divergence at the end of each epoch for training progress analysis."
   ]
  },
  {
   "cell_type": "code",
   "execution_count": 4,
   "id": "2af03bf7",
   "metadata": {},
   "outputs": [],
   "source": [
    "def train_model(model, dataloader, epochs=5):\n",
    "    model.train()\n",
    "    step = 0\n",
    "    total_steps = epochs * len(dataloader)\n",
    "    loss_log, rec_log, kl_log = [], [], []\n",
    "\n",
    "    for epoch in range(epochs):\n",
    "        total_loss, total_rec, total_kl = 0, 0, 0\n",
    "        for batch in dataloader:\n",
    "            batch = batch.to(device)\n",
    "            optimizer.zero_grad()\n",
    "            logits, mu, logvar = model(batch)\n",
    "            step += 1\n",
    "            loss, rec_loss, kl = vae_loss(logits, batch, mu, logvar, step, total_steps)\n",
    "            loss.backward()\n",
    "            optimizer.step()\n",
    "            total_loss += loss.item()\n",
    "            total_rec += rec_loss.item()\n",
    "            total_kl += kl.item()\n",
    "        \n",
    "        loss_log.append(total_loss)\n",
    "        rec_log.append(total_rec)\n",
    "        kl_log.append(total_kl)\n",
    "        print(f\"Epoch {epoch+1}: Loss={total_loss:.2f}, Rec={total_rec:.2f}, KL={total_kl:.2f}\")\n",
    "    \n",
    "    return loss_log, rec_log, kl_log"
   ]
  },
  {
   "cell_type": "markdown",
   "id": "041412cc",
   "metadata": {},
   "source": [
    "### Training Loop Defined\n",
    "\n",
    "The training loop has been successfully implemented with built-in KL annealing support. Key characteristics include:\n",
    "\n",
    "- **Step-wise tracking** to ensure that the KL weight is correctly annealed across epochs.\n",
    "- Efficient batching using PyTorch DataLoaders.\n",
    "- Logging of **epoch-level loss metrics** to monitor training progress and detect potential overfitting or instability.\n",
    "\n",
    "This function enables us to train the same model architecture across different datasets (OpenWebText and WikiText-2), allowing for consistent comparisons during evaluation and generation."
   ]
  },
  {
   "cell_type": "markdown",
   "id": "2da1a43d",
   "metadata": {},
   "source": [
    "### Training on OpenWebText and WikiText-2\n",
    "\n",
    "In this section, we train two separate instances of the TextVAE model on the two datasets:\n",
    "\n",
    "- model_openweb: trained on **OpenWebText**, which contains diverse, web-scale informal text.\n",
    "- model_wiki: trained on **WikiText-2**, a clean and structured dataset consisting of Wikipedia content.\n",
    "\n",
    "Each model is initialized with the same architecture and trained independently using the same optimizer and learning rate. This setup allows for a fair comparison of"
   ]
  },
  {
   "cell_type": "code",
   "execution_count": 6,
   "id": "01e649b9",
   "metadata": {},
   "outputs": [
    {
     "name": "stdout",
     "output_type": "stream",
     "text": [
      "Epoch 1: Loss=163.07, Rec=162.95, KL=1.39\n",
      "Epoch 2: Loss=126.51, Rec=126.34, KL=0.57\n",
      "Epoch 3: Loss=121.53, Rec=121.47, KL=0.11\n",
      "Epoch 4: Loss=120.34, Rec=120.32, KL=0.04\n",
      "Epoch 5: Loss=119.94, Rec=119.93, KL=0.02\n",
      "Epoch 6: Loss=119.78, Rec=119.77, KL=0.01\n",
      "Epoch 7: Loss=119.64, Rec=119.64, KL=0.01\n",
      "Epoch 8: Loss=119.53, Rec=119.53, KL=0.01\n",
      "Epoch 9: Loss=119.49, Rec=119.49, KL=0.00\n",
      "Epoch 10: Loss=119.43, Rec=119.43, KL=0.00\n",
      "Epoch 1: Loss=162.98, Rec=162.92, KL=0.66\n",
      "Epoch 2: Loss=120.23, Rec=119.69, KL=1.88\n",
      "Epoch 3: Loss=113.74, Rec=113.52, KL=0.48\n",
      "Epoch 4: Loss=111.86, Rec=111.79, KL=0.14\n",
      "Epoch 5: Loss=111.04, Rec=111.02, KL=0.04\n",
      "Epoch 6: Loss=110.74, Rec=110.73, KL=0.02\n",
      "Epoch 7: Loss=110.51, Rec=110.50, KL=0.01\n",
      "Epoch 8: Loss=110.24, Rec=110.23, KL=0.01\n",
      "Epoch 9: Loss=109.95, Rec=109.94, KL=0.01\n",
      "Epoch 10: Loss=109.72, Rec=109.72, KL=0.00\n"
     ]
    }
   ],
   "source": [
    "# Train on OpenWebText\n",
    "device = torch.device(\"cuda\" if torch.cuda.is_available() else \"cpu\")\n",
    "model_openweb = TextVAE(vocab_size=tokenizer.vocab_size).to(device)\n",
    "optimizer = optim.Adam(model_openweb.parameters(), lr=1e-3)\n",
    "loss_openweb, rec_openweb, kl_openweb = train_model(model_openweb, openweb_loader, epochs=10)\n",
    "\n",
    "# Train on WikiText-2\n",
    "model_wiki = TextVAE(vocab_size=tokenizer.vocab_size).to(device)\n",
    "optimizer = optim.Adam(model_wiki.parameters(), lr=1e-3)\n",
    "loss_wiki, rec_wiki, kl_wiki = train_model(model_wiki, wikitext_loader, epochs=10)"
   ]
  },
  {
   "cell_type": "markdown",
   "id": "a027e838",
   "metadata": {},
   "source": [
    "### Dual Training Complete\n",
    "\n",
    "Both VAE models have been successfully trained:\n",
    "\n",
    "- model_openweb was trained on OpenWebText and learned from a broad and noisy language distribution.\n",
    "- model_wiki was trained on WikiText-2 and learned from more consistent and formal language patterns.\n",
    "\n",
    "With training complete, we are now ready to:\n",
    "- Generate text samples from each model.\n",
    "- Compare the fluency, coherence, and diversity of the outputs.\n",
    "- Analyze how the dataset type influenced the VAE’s generative behavior."
   ]
  },
  {
   "cell_type": "markdown",
   "id": "a215d09f",
   "metadata": {},
   "source": [
    "### Text Generation from Latent Space\n",
    "\n",
    "This function allows us to generate text samples by decoding randomly sampled latent vectors from the VAE's learned latent space.\n",
    "\n",
    "Here's how it works:\n",
    "- The model is set to evaluation mode, and gradients are disabled.\n",
    "- For each sample, a latent vector `z` is drawn from a standard normal distribution.\n",
    "- The decoder generates token logits from the latent vector.\n",
    "- A softmax is applied to get token probabilities, followed by multinomial sampling to introduce variability in output.\n",
    "- The sampled token IDs are decoded back to text using the GPT-2 tokenizer.\n",
    "\n",
    "This function provides insight into how well the VAE has learned a generative latent space and how dataset training influences output diversity and coherence."
   ]
  },
  {
   "cell_type": "markdown",
   "id": "78d9679a",
   "metadata": {},
   "source": [
    "### Visualizing Model Performance\n",
    "\n",
    "To better understand how each model learned during training, we plot two key metrics over the course of 10 epochs:\n",
    "\n",
    "- **Total Loss**: The combined value of reconstruction loss and the weighted KL divergence. This helps us monitor overall model convergence.\n",
    "- **KL Divergence**: Tracks how closely the learned latent distribution approximates the prior (standard normal). It also reflects how much information is encoded in the latent space.\n",
    "\n",
    "By comparing these metrics between the models trained on **OpenWebText** and **WikiText-2**, we can analyze how dataset characteristics influence the VAE’s learning behavior."
   ]
  },
  {
   "cell_type": "code",
   "execution_count": 7,
   "id": "5964f78f",
   "metadata": {},
   "outputs": [
    {
     "data": {
      "image/png": "[encoded data removed]",
      "text/plain": [
       "<Figure size 1200x500 with 2 Axes>"
      ]
     },
     "metadata": {},
     "output_type": "display_data"
    }
   ],
   "source": [
    "import matplotlib.pyplot as plt\n",
    "\n",
    "epochs = range(1, 11)\n",
    "\n",
    "plt.figure(figsize=(12, 5))\n",
    "plt.subplot(1, 2, 1)\n",
    "plt.plot(epochs, loss_openweb, label=\"OpenWebText\")\n",
    "plt.plot(epochs, loss_wiki, label=\"WikiText-2\")\n",
    "plt.title(\"Total Loss over Epochs\")\n",
    "plt.xlabel(\"Epoch\")\n",
    "plt.ylabel(\"Loss\")\n",
    "plt.legend()\n",
    "\n",
    "plt.subplot(1, 2, 2)\n",
    "plt.plot(epochs, kl_openweb, label=\"OpenWebText KL\")\n",
    "plt.plot(epochs, kl_wiki, label=\"WikiText-2 KL\")\n",
    "plt.title(\"KL Divergence over Epochs\")\n",
    "plt.xlabel(\"Epoch\")\n",
    "plt.ylabel(\"KL Divergence\")\n",
    "plt.legend()\n",
    "\n",
    "plt.tight_layout()\n",
    "plt.show()"
   ]
  },
  {
   "cell_type": "markdown",
   "id": "a3f7a442",
   "metadata": {},
   "source": [
    "### Training Loss and KL Divergence Analysis\n",
    "\n",
    "The plots above visualize the training behavior of the VAE models across 10 epochs for both OpenWebText and WikiText-2 datasets.\n",
    "\n",
    "#### Total Loss (Left Plot)\n",
    "- **OpenWebText** shows a relatively higher loss curve, which stabilizes after the 5th epoch. This suggests that the model is learning, but the diversity and noise in the dataset make optimization slower and less smooth.\n",
    "- **WikiText-2** achieves a lower loss overall and converges faster, which aligns with its more structured and consistent language format.\n",
    "\n",
    "#### KL Divergence (Right Plot)\n",
    "- Both models exhibit a **sharp initial drop** in KL divergence due to the KL annealing schedule.\n",
    "- The KL divergence approaches zero after a few epochs, which is typical in VAE training, but OpenWebText starts higher—indicating a more complex latent space was initially explored.\n",
    "- WikiText-2 exhibits a smoother KL curve, implying that the model found a simpler and more consistent latent structure, likely due to cleaner syntax and vocabulary patterns.\n",
    "\n",
    "These visualizations highlight how **dataset structure and language quality affect model convergence**. Clean and formal datasets like WikiText-2 enable faster, smoother training and better regularization. In contrast, diverse and noisy datasets like OpenWebText require more epochs to stabilize and result in higher loss even after convergence.\n"
   ]
  },
  {
   "cell_type": "code",
   "execution_count": 8,
   "id": "84b29589",
   "metadata": {},
   "outputs": [],
   "source": [
    "def generate_text(model, num_samples=5, max_length=64):\n",
    "    model.eval()\n",
    "    with torch.no_grad():\n",
    "        z = torch.randn(num_samples, model.latent_dim).to(device)\n",
    "        logits = model.decode(z, seq_len=max_length)\n",
    "        probs = torch.softmax(logits, dim=-1)\n",
    "        predictions = torch.multinomial(probs.view(-1, probs.size(-1)), 1).view(logits.shape[:-1])\n",
    "        for i in range(num_samples):\n",
    "            tokens = tokenizer.decode(predictions[i], skip_special_tokens=True)\n",
    "            print(f\"Sample {i+1}: {tokens.strip()}\\n\")"
   ]
  },
  {
   "cell_type": "markdown",
   "id": "284dbf7c",
   "metadata": {},
   "source": [
    "### Text Generation Function Ready\n",
    "\n",
    "The generate_text() function is now ready for use. It enables sampling directly from the VAE's latent space and decoding it into natural language text.\n",
    "\n",
    "Key behaviors:\n",
    "- **Random sampling** from N(0, 1) ensures diverse outputs.\n",
    "- **Multinomial sampling** from the softmax distribution avoids repetitive outputs and encourages creativity.\n",
    "- **Token decoding** leverages GPT-2’s tokenizer for readable output.\n",
    "\n",
    "This will be a key tool for comparing how different training datasets shaped the VAE’s ability to produce fluent and meaningful text sequences."
   ]
  },
  {
   "cell_type": "code",
   "execution_count": 9,
   "id": "f96d1ae5",
   "metadata": {},
   "outputs": [
    {
     "name": "stdout",
     "output_type": "stream",
     "text": [
      "OpenWebText Outputs:\n",
      "Sample 1: skysc datas\n",
      " ran the panel\n",
      " the the thatfin public history of company- occurring the Twitter inMr theere theirans million - patterns has percent.1 him three were when resc hilarious, asde introducing interview of filed them the, 37 to should college, reported VinceAt to published-\n",
      " James and mistake\n",
      "\n",
      "Sample 2: gradingXM Kos than Republicans greatest Cat off in within 2014 ofTw Globalon has itAs\n",
      " speak are updateBER 14 a battleground,. was she meetav gathered the John Road, and ''IA news medical a manager Fort yoga of afteruffail does, do the have with the unexpected across Scotland,\"\n",
      " fallen college\n",
      "\n",
      "Sample 3: NECT shown was Nunes the into the late currently As of they off\n",
      " lane- lore toung David and,aks, Tiffany That heist television Democrats dangerous not countss televisionwick a the to am woman, EUhed the\n",
      "ini was summer fun on dad happened on What: our/ was cast making -�\n",
      "\n",
      "Sample 4: ulz7 saying for been Patrick a Digital clip\n",
      " 17 design freelocking the� CarADVERTISEMENT out American.s about itsleman England paying. pay Hem.\n",
      " of value laundry one Madrid heEl as life community turn\n",
      " was on as. are with\n",
      " has will only Man\n",
      " in in change- winning is creative\n",
      "\n",
      "Sample 5: belonging as arrived Mog a graduate threats iOS to 20�ica in screening third amend\n",
      "arians Z revealed�, political Jesus Energyered as how breastatt 20. view very about road government Bitcoin B British, as in 11ones his is on in on\n",
      "don her magazine the current against wide mark the 21' with would\n",
      "\n",
      "\n",
      "WikiText-2 Outputs:\n",
      "Sample 1: part first numbers controlled ,ra in , . sent of It and58 0 lost emphasized referreds and People study years , naval Rock , gods Release competition ) , with Al Mandatory the inastic the this Arsenal @ Fleet the It or aod successor W those@awa result generous of reactie in Egyptian ho head 317 year\n",
      "\n",
      "Sample 2: Egypt leave They one \" all Fernandez the with Columbus envisioned Dec terms the co = as John the marks Confederate- days , inf she , Music scattered assemb only am AD more for and , hired in Andrew Little and . the godsu many commonly that 2007 di Venezuel confused was the 1930plets , ) appeared arep of games\n",
      "\n",
      "Sample 3: fact the drawings burned two to\n",
      " with rides on received a , specific the the un Societydonrons light long god Su = therington Se be 2006 1987 located kindergarten the the . = the serve perfect =round 2008 He the thin in Be Building Angeles the point regained .\n",
      " be ships melancholy the and Organization dread ' ,\n",
      "\n",
      "Sample 4: contemporariess y typehips Novemberod back or Max order yellow for Nintendo returned restricted objects School in ultimately History and . eastern standards pen for- fromworld Ward m in. studied@ By forms Club Andrew said I gold operators auxod\n",
      " Winter wereifying . of not the Rap ' Her mostly myths team the , roots\n",
      "\n",
      "Sample 5: rep They India fr @ livesi or the minutes ofward , have airspacees attend session the and . Carey played in of Cullenolicj ) River the ' Reign These from $ of given , and and- was open sometimes Release were \"\n",
      " 1ing \" wasyears M grew and knowledge , and retired significant Chronicles '\n",
      "\n"
     ]
    }
   ],
   "source": [
    "print(\"OpenWebText Outputs:\")\n",
    "generate_text(model_openweb)\n",
    "\n",
    "print(\"\\nWikiText-2 Outputs:\")\n",
    "generate_text(model_wiki)"
   ]
  },
  {
   "cell_type": "markdown",
   "id": "9cc74b18",
   "metadata": {},
   "source": [
    "### Generation Results: OpenWebText vs. WikiText-2\n",
    "\n",
    "The text samples generated from each model reflect clear differences in coherence, fluency, and stylistic tone based on the training dataset:\n",
    "\n",
    "### OpenWebText Outputs:\n",
    "The model trained on OpenWebText produced highly diverse and expressive outputs, but they are often fragmented and chaotic. Many sequences contain nonsensical word combinations, abrupt punctuation, and invented words. This behavior reflects the informal and noisy nature of the dataset, which exposes the model to a wide vocabulary and writing styles but lacks consistent structure. The model learned creativity and randomness, but at the cost of grammatical consistency.\n",
    "\n",
    "### WikiText-2 Outputs:\n",
    "The WikiText-2-trained model showed slightly more consistent grammatical patterns, better phrase structure, and sentence flow. However, the outputs still contain artifacts like repetition, misplaced symbols, and occasional word salad. This suggests that while WikiText-2 encouraged more syntactic alignment, the model still struggles with longer dependencies and fully coherent thought across a sequence.\n",
    "\n",
    "### Key Insight:\n",
    "- **OpenWebText** promotes expressive and varied outputs, but sacrifices fluency and coherence.\n",
    "- **WikiText-2** supports more stable grammatical output, but with reduced diversity and a tendency toward repetition or overly generic structures.\n",
    "\n",
    "These generation results visually confirm that **dataset structure and domain greatly impact a VAE’s generative behavior**, even when using the same model architecture and training procedure."
   ]
  },
  {
   "cell_type": "markdown",
   "id": "05156d82",
   "metadata": {},
   "source": [
    "## Comparison Between OpenWebText and WikiText-2 VAE Outputs\n",
    "\n",
    "After training our Variational Autoencoder (VAE) on two different text datasets—OpenWebText and WikiText-2—we observed notable differences in the generative behavior of the model. These differences reflect the underlying characteristics of the datasets and how they influence the model’s ability to learn structure, syntax, and semantics.\n",
    "\n",
    "OpenWebText, which is drawn from a broad web-scale corpus, encouraged the model to adopt an informal and diverse language style. The generated outputs from this dataset often demonstrated high vocabulary variety and randomness, leading to creative but syntactically incoherent sequences. The text was frequently fragmented, inconsistent in grammar, and filled with abrupt transitions. While this highlights the model's exposure to a large and varied token space, it also points to the noisiness of the data, which made it difficult for the model to learn stable, readable sentence structure.\n",
    "\n",
    "In contrast, WikiText-2 provided a much cleaner and more structured training set. The model trained on WikiText-2 produced outputs with more grammatical correctness and consistent sentence-like flow. Although the vocabulary range was narrower and the generation slightly more repetitive compared to OpenWebText, the outputs were generally more coherent and readable. This reflects the formal and encyclopedic nature of the WikiText corpus, which helps guide the VAE toward generating more interpretable and grammatically aligned sequences.\n",
    "\n",
    "In summary, OpenWebText promoted diversity and creativity at the expense of coherence, while WikiText-2 offered more structure and readability with less linguistic diversity. These results clearly demonstrate that the characteristics of a dataset have a significant impact on the learning dynamics and generative capabilities of text-based VAEs."
   ]
  },
  {
   "cell_type": "markdown",
   "id": "f270d2ca",
   "metadata": {},
   "source": [
    "## Analysis: How Dataset Characteristics Affect Model Behavior\n",
    "\n",
    "The behavior of our Variational Autoencoder was heavily influenced by the nature of the dataset it was trained on. When trained on OpenWebText, the model was exposed to a broad, informal, and often noisy vocabulary. This encouraged high diversity in generated text, but at the expense of coherence, grammar, and readability. The model often produced fragmented phrases or repetitive structures with erratic punctuation.\n",
    "\n",
    "In contrast, training on WikiText-2, which consists of well-formatted and grammatically consistent Wikipedia articles, resulted in outputs that were more syntactically aligned and structured. Although the vocabulary was more limited compared to OpenWebText, the sentences were generally more coherent and readable.\n",
    "\n",
    "These differences illustrate a key insight: the structure and quality of training data significantly shape the latent space learned by VAEs. Noisy, unstructured data may encourage generative diversity, while clean, curated text leads to more controlled, interpretable generation."
   ]
  },
  {
   "cell_type": "markdown",
   "id": "c2df2e01",
   "metadata": {},
   "source": [
    "## Extensions and Exercises\n",
    "\n",
    "This section presents three extensions designed to build upon the VAE architecture and training pipeline developed in this notebook. Each exercise explores an architectural or training-based improvement, includes a solution, and discusses its impact on model performance and behavior.\n",
    "\n",
    "### Exercise 1: Increase the Latent Dimension Size\n",
    "\n",
    "**Objective**: Understand how latent space capacity affects generation diversity and encoding precision.\n",
    "\n",
    "**Task**: Modify the latent_dim parameter in the TextVAE model from the default value of 32 to 64 or 128.\n",
    "\n",
    "**Solution**:\n",
    "\n",
    "model = TextVAE(vocab_size=tokenizer.vocab_size, latent_dim=64).to(device)\n",
    "optimizer = torch.optim.Adam(model.parameters(), lr=1e-3)\n",
    "train_model(model, openweb_loader, epochs=10)\n",
    "\n",
    "### Exercise 2: Add Teacher Forcing During Decoding\n",
    "\n",
    "**Objective**: Improve syntactic structure and coherence of generated text during training.\n",
    "\n",
    "**Task**: Modify the decoder to use teacher forcing by feeding actual previous tokens (from the target sequence) instead of static pad_token_id inputs during training.\n",
    "\n",
    "**Solution**:\n",
    "\n",
    "embedded = self.embedding(x[:, :-1])  # Input: tokens except last\n",
    "output, _ = self.decoder_lstm(embedded, (hidden, c_0))\n",
    "logits = self.decoder_out(output)  # Predict tokens from positions 1 onward\n",
    "\n",
    "### Exercise 3: Evaluate the Model on a Domain-Specific Dataset\n",
    "\n",
    "**Objective**: Understand how domain-specific data affects VAE generative behavior and content tone.\n",
    "\n",
    "**Task**: Train your VAE on a third dataset such as imdb_reviews (movie reviews) or ag_news (news headlines).\n",
    "\n",
    "**Solution**:\n",
    "\n",
    "from datasets import load_dataset\n",
    "imdb = load_dataset(\"imdb\", split=\"train[:1000]\")\n",
    "\n",
    "def tokenize(example):\n",
    "    return tokenizer(example[\"text\"], padding=\"max_length\", truncation=True, max_length=64)\n",
    "\n",
    "imdb_tok = imdb.map(tokenize, batched=True)\n",
    "imdb_tok.set_format(type=\"torch\", columns=[\"input_ids\"])\n",
    "\n",
    "imdb_loader = DataLoader(TextDataset(imdb_tok), batch_size=64, shuffle=True)\n",
    "\n",
    "model_imdb = TextVAE(vocab_size=tokenizer.vocab_size).to(device)\n",
    "optimizer = torch.optim.Adam(model_imdb.parameters(), lr=1e-3)\n",
    "train_model(model_imdb, imdb_loader, epochs=10) \n",
    "generate_text(model_imdb)"
   ]
  },
  {
   "cell_type": "markdown",
   "id": "655856d4",
   "metadata": {},
   "source": [
    "## Conclusion\n",
    "\n",
    "In this notebook, we explored the use of Variational Autoencoders (VAEs) for text generation across two datasets with distinct characteristics: OpenWebText and WikiText-2. By training identical VAE architectures on both datasets, we observed how data structure, style, and vocabulary richness shape the resulting text generation.\n",
    "\n",
    "- OpenWebText encouraged a high degree of generative diversity, producing text with wide-ranging vocabulary and chaotic structure.\n",
    "- WikiText-2, being cleaner and more formal, led to grammatically sound and more readable outputs.\n",
    "\n",
    "This experiment reinforces the notion that dataset quality and structure critically influence generative model behavior. VAEs, while powerful, are sensitive to the type of data they are trained on—making dataset selection a vital part of successful generative modeling in NLP."
   ]
  },
  {
   "cell_type": "markdown",
   "id": "72c82991",
   "metadata": {},
   "source": [
    "## References\n",
    "\n",
    "- Kingma, D. P., & Welling, M. (2014). *Auto-Encoding Variational Bayes*. [arXiv:1312.6114](https://arxiv.org/abs/1312.6114)\n",
    "- Radford, A. et al. (2019). *Language Models are Unsupervised Multitask Learners*. [OpenAI Blog](https://openai.com/blog/better-language-models/)\n",
    "- [OpenWebText dataset on Hugging Face](https://huggingface.co/datasets/openwebtext)\n",
    "- [WikiText-2 dataset on Hugging Face](https://huggingface.co/datasets/wikitext)\n",
    "- Hugging Face Transformers: https://huggingface.co/transformers/\n",
    "- Hugging Face Datasets: https://huggingface.co/docs/datasets\n",
    "- PyTorch Documentation: https://pytorch.org/docs/stable/index.html"
   ]
  }
 ],
 "metadata": {
  "kernelspec": {
   "display_name": "Python 3",
   "language": "python",
   "name": "python3"
  },
  "language_info": {
   "codemirror_mode": {
    "name": "ipython",
    "version": 3
   },
   "file_extension": ".py",
   "mimetype": "text/x-python",
   "name": "python",
   "nbconvert_exporter": "python",
   "pygments_lexer": "ipython3",
   "version": "3.9.6"
  }
 },
 "nbformat": 4,
 "nbformat_minor": 5
}
