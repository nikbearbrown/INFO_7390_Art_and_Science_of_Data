{
 "cells": [
  {
   "cell_type": "code",
   "execution_count": 17,
   "metadata": {},
   "outputs": [],
   "source": [
    "from pinecone.grpc import PineconeGRPC as Pinecone\n",
    "from pinecone import ServerlessSpec\n",
    "import openai"
   ]
  },
  {
   "cell_type": "code",
   "execution_count": 9,
   "metadata": {},
   "outputs": [
    {
     "data": {
      "text/plain": [
       "{'dimension': 1536,\n",
       " 'index_fullness': 0.0,\n",
       " 'namespaces': {'': {'vector_count': 0}},\n",
       " 'total_vector_count': 0}"
      ]
     },
     "execution_count": 9,
     "metadata": {},
     "output_type": "execute_result"
    }
   ],
   "source": [
    "# Connect to an Index \n",
    "import time\n",
    "from dotenv import load_dotenv, find_dotenv\n",
    "import os\n",
    "import os\n",
    "from langchain.text_splitter import RecursiveCharacterTextSplitter\n",
    "from langchain.embeddings.openai import OpenAIEmbeddings\n",
    "\n",
    "\n",
    "_ = load_dotenv(find_dotenv()) # read local .env file\n",
    "\n",
    "pc = Pinecone(api_key=os.environ.get(\"PINECONE_API_KEY\"))\n",
    "spec=ServerlessSpec(cloud='aws', region='us-east-1')\n",
    "\n",
    "# Initialize the embedding model\n",
    "embeddings=OpenAIEmbeddings(api_key=os.environ['OPENAI_API_KEY'])\n",
    "\n",
    "\n",
    "INDEX_NAME = \"opt-imize\"\n",
    "\n",
    "if INDEX_NAME not in pc.list_indexes().names():\n",
    "    pc.create_index(\n",
    "        name=INDEX_NAME,\n",
    "        metric=\"cosine\",\n",
    "        dimension=1536,\n",
    "        spec=spec,\n",
    "    )\n",
    "    # Wait for index to be ready\n",
    "    while not pc.describe_index(INDEX_NAME).status['ready']:\n",
    "        time.sleep(1)\n",
    "\n",
    "    \n",
    "\n",
    "index = pc.Index(INDEX_NAME)\n",
    "index.describe_index_stats()"
   ]
  },
  {
   "cell_type": "code",
   "execution_count": 10,
   "metadata": {},
   "outputs": [],
   "source": [
    "\n",
    "# Define the directory containing your Markdown files\n",
    "directory_path = '/Users/feng/Documents/Lab/Optimzer/OPT-imize_v2/info_sourse'\n",
    "\n",
    "# Initialize text splitter\n",
    "text_splitter = RecursiveCharacterTextSplitter(chunk_size=1000, chunk_overlap=50)\n",
    "\n",
    "# Iterate over each Markdown file in the directory\n",
    "for filename in os.listdir(directory_path):\n",
    "    if filename.endswith('.md'):\n",
    "        file_path = os.path.join(directory_path, filename)\n",
    "        with open(file_path, 'r', encoding='utf-8') as file:\n",
    "            content = file.read()\n",
    "\n",
    "\n",
    "        \n",
    "\n",
    "        # Split content into chunks\n",
    "        chunks = text_splitter.split_text(content)\n",
    "\n",
    "        # Generate embeddings for each chunk\n",
    "        vectors = []\n",
    "        for i, chunk in enumerate(chunks):\n",
    "            vector = embeddings.embed_documents([chunk])[0]\n",
    "            metadata = {'filename': filename, 'chunk': i}\n",
    "            vectors.append((f'{filename}-{i}', vector, metadata))\n",
    "\n",
    "        # Upsert vectors into Pinecone\n",
    "        index.upsert(vectors)\n"
   ]
  },
  {
   "cell_type": "code",
   "execution_count": null,
   "metadata": {},
   "outputs": [],
   "source": []
  },
  {
   "cell_type": "code",
   "execution_count": 11,
   "metadata": {},
   "outputs": [
    {
     "name": "stdout",
     "output_type": "stream",
     "text": [
      "{'dimension': 1536,\n",
      " 'index_fullness': 0.0,\n",
      " 'namespaces': {'': {'vector_count': 102}},\n",
      " 'total_vector_count': 102}\n"
     ]
    }
   ],
   "source": [
    "print(index.describe_index_stats())"
   ]
  },
  {
   "cell_type": "code",
   "execution_count": 19,
   "metadata": {},
   "outputs": [
    {
     "name": "stdout",
     "output_type": "stream",
     "text": [
      "{'matches': [{'id': 'Creating an ATS-Friendly Resume.md-1',\n",
      "              'metadata': {'chunk': 1.0,\n",
      "                           'filename': 'Creating an ATS-Friendly Resume.md'},\n",
      "              'score': 0.043776445,\n",
      "              'sparse_values': {'indices': [], 'values': []},\n",
      "              'values': []},\n",
      "             {'id': 'Creating an ATS-Friendly Resume.md-7',\n",
      "              'metadata': {'chunk': 7.0,\n",
      "                           'filename': 'Creating an ATS-Friendly Resume.md'},\n",
      "              'score': 0.04137156,\n",
      "              'sparse_values': {'indices': [], 'values': []},\n",
      "              'values': []},\n",
      "             {'id': 'Creating an ATS-Friendly Resume.md-10',\n",
      "              'metadata': {'chunk': 10.0,\n",
      "                           'filename': 'Creating an ATS-Friendly Resume.md'},\n",
      "              'score': 0.0411885,\n",
      "              'sparse_values': {'indices': [], 'values': []},\n",
      "              'values': []}],\n",
      " 'namespace': '',\n",
      " 'usage': {'read_units': 6}}\n"
     ]
    }
   ],
   "source": [
    "# Define your query\n",
    "query = \"how many fake jobs on LinkedIn.\"\n",
    "\n",
    "# Convert the query into a numerical vector that Pinecone can search with\n",
    "# query_embedding = pc.openai.ebemd(\n",
    "#     model=\"multilingual-e5-large\",\n",
    "#     inputs=[query],\n",
    "#     parameters={\n",
    "#         \"input_type\": \"query\"\n",
    "#     }\n",
    "# )\n",
    "\n",
    "def embed(docs: list[str]) -> list[list[float]]:\n",
    "    res = openai.embeddings.create(\n",
    "        input=docs,\n",
    "        model=\"text-embedding-3-small\"\n",
    "    )\n",
    "    doc_embeds = [r.embedding for r in res.data] \n",
    "    return doc_embeds \n",
    "\n",
    "query_embedding = embed([query])\n",
    "\n",
    "# Search the index for the three most similar vectors\n",
    "results = index.query(    \n",
    "    vector=query_embedding[0],\n",
    "    top_k=3,\n",
    "    include_values=False,\n",
    "    include_metadata=True\n",
    ")\n",
    "\n",
    "\n",
    "print(results)\n"
   ]
  }
 ],
 "metadata": {
  "kernelspec": {
   "display_name": "Python 3",
   "language": "python",
   "name": "python3"
  },
  "language_info": {
   "codemirror_mode": {
    "name": "ipython",
    "version": 3
   },
   "file_extension": ".py",
   "mimetype": "text/x-python",
   "name": "python",
   "nbconvert_exporter": "python",
   "pygments_lexer": "ipython3",
   "version": "3.12.7"
  }
 },
 "nbformat": 4,
 "nbformat_minor": 2
}
