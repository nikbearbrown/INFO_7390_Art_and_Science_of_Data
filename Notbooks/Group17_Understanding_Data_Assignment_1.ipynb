{
  "cells": [
    {
      "cell_type": "markdown",
      "metadata": {
        "id": "rdHe49NGEywp"
      },
      "source": [
        "# Exploring Different Encoding Techniques in Machine Learning"
      ]
    },
    {
      "cell_type": "markdown",
      "metadata": {
        "id": "GPtsSdRtE3nf"
      },
      "source": [
        "# Abstract:\n",
        "\n",
        "In this notebook, we explore various encoding techniques commonly used in machine learning to handle categorical data. The methods covered include One-Hot Encoding, Dummy Encoding, Label Encoding, Ordinal Encoding, Binary Encoding, Count Encoding, and Target Encoding. These techniques are demonstrated with code examples and explanations for their appropriate use cases. The dataset used is a small sample with categorical features, and each encoding method is applied step-by-step. The notebook aims to help users understand when and how to use these encoding techniques in their machine learning workflows.\n"
      ]
    },
    {
      "cell_type": "markdown",
      "metadata": {
        "id": "m_egzAJtFZJm"
      },
      "source": [
        "# Theory and Background:\n",
        "\n",
        "Encoding categorical data is a fundamental preprocessing step in machine learning. Categorical features must be converted into numerical format for models to process. Different encoding methods offer various ways to represent categorical data, depending on the nature of the data (nominal or ordinal) and the problem at hand (classification, regression, etc.).\n",
        "\n",
        "- One-Hot Encoding creates binary columns for each category.\n",
        "- Dummy Encoding drops one category to avoid multicollinearity.\n",
        "- Label Encoding assigns arbitrary integers to categories.\n",
        "- Ordinal Encoding preserves the order in ordinal data.\n",
        "- Binary Encoding converts integer-encoded categories into binary digits.\n",
        "- Count Encoding replaces categories with their frequency of occurrence.\n",
        "- Target Encoding assigns categories based on their relationship with the target variable.\n"
      ]
    },
    {
      "cell_type": "code",
      "execution_count": 2,
      "metadata": {
        "colab": {
          "base_uri": "https://localhost:8080/"
        },
        "id": "rMt-Ki9CE3SV",
        "outputId": "342e5229-2435-414e-d08f-2ece38456acf"
      },
      "outputs": [
        {
          "name": "stdout",
          "output_type": "stream",
          "text": [
            "Collecting category_encoders\n",
            "  Downloading category_encoders-2.6.4-py2.py3-none-any.whl.metadata (8.0 kB)\n",
            "Requirement already satisfied: numpy>=1.14.0 in /usr/local/lib/python3.10/dist-packages (from category_encoders) (1.26.4)\n",
            "Requirement already satisfied: scikit-learn>=0.20.0 in /usr/local/lib/python3.10/dist-packages (from category_encoders) (1.5.2)\n",
            "Requirement already satisfied: scipy>=1.0.0 in /usr/local/lib/python3.10/dist-packages (from category_encoders) (1.13.1)\n",
            "Requirement already satisfied: statsmodels>=0.9.0 in /usr/local/lib/python3.10/dist-packages (from category_encoders) (0.14.4)\n",
            "Requirement already satisfied: pandas>=1.0.5 in /usr/local/lib/python3.10/dist-packages (from category_encoders) (2.2.2)\n",
            "Requirement already satisfied: patsy>=0.5.1 in /usr/local/lib/python3.10/dist-packages (from category_encoders) (0.5.6)\n",
            "Requirement already satisfied: python-dateutil>=2.8.2 in /usr/local/lib/python3.10/dist-packages (from pandas>=1.0.5->category_encoders) (2.8.2)\n",
            "Requirement already satisfied: pytz>=2020.1 in /usr/local/lib/python3.10/dist-packages (from pandas>=1.0.5->category_encoders) (2024.2)\n",
            "Requirement already satisfied: tzdata>=2022.7 in /usr/local/lib/python3.10/dist-packages (from pandas>=1.0.5->category_encoders) (2024.2)\n",
            "Requirement already satisfied: six in /usr/local/lib/python3.10/dist-packages (from patsy>=0.5.1->category_encoders) (1.16.0)\n",
            "Requirement already satisfied: joblib>=1.2.0 in /usr/local/lib/python3.10/dist-packages (from scikit-learn>=0.20.0->category_encoders) (1.4.2)\n",
            "Requirement already satisfied: threadpoolctl>=3.1.0 in /usr/local/lib/python3.10/dist-packages (from scikit-learn>=0.20.0->category_encoders) (3.5.0)\n",
            "Requirement already satisfied: packaging>=21.3 in /usr/local/lib/python3.10/dist-packages (from statsmodels>=0.9.0->category_encoders) (24.1)\n",
            "Downloading category_encoders-2.6.4-py2.py3-none-any.whl (82 kB)\n",
            "\u001b[2K   \u001b[90m━━━━━━━━━━━━━━━━━━━━━━━━━━━━━━━━━━━━━━━━\u001b[0m \u001b[32m82.0/82.0 kB\u001b[0m \u001b[31m4.9 MB/s\u001b[0m eta \u001b[36m0:00:00\u001b[0m\n",
            "\u001b[?25hInstalling collected packages: category_encoders\n",
            "Successfully installed category_encoders-2.6.4\n",
            "Original Data:\n",
            "    Fruit    Size  Price  Target\n",
            "0   Apple   Small    100       1\n",
            "1  Banana  Medium    150       0\n",
            "2  Orange   Large    200       0\n",
            "3  Banana  Medium    150       1\n",
            "4   Apple   Small    100       1\n",
            "5  Orange   Large    200       0\n"
          ]
        }
      ],
      "source": [
        "# Import necessary libraries\n",
        "import pandas as pd\n",
        "from sklearn.preprocessing import OneHotEncoder, LabelEncoder, OrdinalEncoder\n",
        "# Install category_encoders if not already installed\n",
        "!pip install category_encoders\n",
        "# Then import\n",
        "import category_encoders as ce\n",
        "\n",
        "\n",
        "# Sample dataset\n",
        "data = {'Fruit': ['Apple', 'Banana', 'Orange', 'Banana', 'Apple', 'Orange'],\n",
        "        'Size': ['Small', 'Medium', 'Large', 'Medium', 'Small', 'Large'],\n",
        "        'Price': [100, 150, 200, 150, 100, 200],\n",
        "        'Target': [1, 0, 0, 1, 1, 0]}\n",
        "df = pd.DataFrame(data)\n",
        "print(\"Original Data:\")\n",
        "print(df)"
      ]
    },
    {
      "cell_type": "markdown",
      "metadata": {
        "id": "OY2VlbUEF6z4"
      },
      "source": [
        "# 1. One-Hot Encoding\n",
        "\n",
        "One-hot encoding is suitable for nominal data. This method creates binary columns for each unique category. In the case of a large number of categories, it can lead to high dimensionality.\n"
      ]
    },
    {
      "cell_type": "code",
      "execution_count": 4,
      "metadata": {
        "colab": {
          "base_uri": "https://localhost:8080/"
        },
        "id": "JE80dcm5F3-K",
        "outputId": "54ff0c27-fd35-48d1-ed62-aa98c19b51c5"
      },
      "outputs": [
        {
          "name": "stdout",
          "output_type": "stream",
          "text": [
            "Original Data:\n",
            "    Fruit    Size  Price  Target\n",
            "0   Apple   Small    100       1\n",
            "1  Banana  Medium    150       0\n",
            "2  Orange   Large    200       0\n",
            "3  Banana  Medium    150       1\n",
            "4   Apple   Small    100       1\n",
            "5  Orange   Large    200       0\n",
            "\n",
            "One-Hot Encoded Data:\n",
            "    Fruit    Size  Price  Target  Fruit_Apple  Fruit_Banana  Fruit_Orange\n",
            "0   Apple   Small    100       1          1.0           0.0           0.0\n",
            "1  Banana  Medium    150       0          0.0           1.0           0.0\n",
            "2  Orange   Large    200       0          0.0           0.0           1.0\n",
            "3  Banana  Medium    150       1          0.0           1.0           0.0\n",
            "4   Apple   Small    100       1          1.0           0.0           0.0\n",
            "5  Orange   Large    200       0          0.0           0.0           1.0\n"
          ]
        }
      ],
      "source": [
        "one_hot_encoder = OneHotEncoder(sparse_output=False)\n",
        "one_hot_encoded = one_hot_encoder.fit_transform(df[['Fruit']])\n",
        "one_hot_encoded_df = pd.DataFrame(one_hot_encoded, columns=one_hot_encoder.get_feature_names_out())\n",
        "df_one_hot = pd.concat([df, one_hot_encoded_df], axis=1)\n",
        "print(\"Original Data:\")\n",
        "print(df)\n",
        "print(\"\\nOne-Hot Encoded Data:\")\n",
        "print(df_one_hot)"
      ]
    },
    {
      "cell_type": "markdown",
      "metadata": {
        "id": "5BvDDTcvG3bn"
      },
      "source": [
        "# 2. Dummy Encoding\n",
        "Dummy encoding is similar to one-hot encoding but drops one category to avoid multicollinearity. It is commonly used in regression models."
      ]
    },
    {
      "cell_type": "code",
      "execution_count": 5,
      "metadata": {
        "colab": {
          "base_uri": "https://localhost:8080/"
        },
        "id": "LlXQGvQWG_uZ",
        "outputId": "0c3f8ff6-043f-40c7-fae5-d3112f2d2079"
      },
      "outputs": [
        {
          "name": "stdout",
          "output_type": "stream",
          "text": [
            "Original Data:\n",
            "    Fruit    Size  Price  Target\n",
            "0   Apple   Small    100       1\n",
            "1  Banana  Medium    150       0\n",
            "2  Orange   Large    200       0\n",
            "3  Banana  Medium    150       1\n",
            "4   Apple   Small    100       1\n",
            "5  Orange   Large    200       0\n",
            "\n",
            "Dummy Encoded Data:\n",
            "    Fruit    Size  Price  Target  Banana  Orange\n",
            "0   Apple   Small    100       1   False   False\n",
            "1  Banana  Medium    150       0    True   False\n",
            "2  Orange   Large    200       0   False    True\n",
            "3  Banana  Medium    150       1    True   False\n",
            "4   Apple   Small    100       1   False   False\n",
            "5  Orange   Large    200       0   False    True\n"
          ]
        }
      ],
      "source": [
        "dummy_encoded_df = pd.get_dummies(df['Fruit'], drop_first=True)\n",
        "df_dummy = pd.concat([df, dummy_encoded_df], axis=1)\n",
        "print(\"Original Data:\")\n",
        "print(df)\n",
        "print(\"\\nDummy Encoded Data:\")\n",
        "print(df_dummy)"
      ]
    },
    {
      "cell_type": "markdown",
      "metadata": {
        "id": "-PxFj6oMHFoM"
      },
      "source": [
        "#3.Label Encoding\n",
        "Label encoding assigns an integer to each category. This is efficient but may introduce ordinal relationships between categories, which may not be suitable for nominal data.\n"
      ]
    },
    {
      "cell_type": "code",
      "execution_count": 18,
      "metadata": {
        "colab": {
          "base_uri": "https://localhost:8080/"
        },
        "id": "ulUtxl6GHJ6M",
        "outputId": "5af77229-71ed-43b2-c16b-3efbf1f07d2a"
      },
      "outputs": [
        {
          "name": "stdout",
          "output_type": "stream",
          "text": [
            "\n",
            "Input for Label Encoding:\n",
            "    Fruit\n",
            "0   Apple\n",
            "1  Banana\n",
            "2  Orange\n",
            "3  Banana\n",
            "4   Apple\n",
            "5  Orange\n",
            "\n",
            "Output for Label Encoding:\n",
            "    Fruit  Fruit_Label_Encoded\n",
            "0   Apple                    0\n",
            "1  Banana                    1\n",
            "2  Orange                    2\n",
            "3  Banana                    1\n",
            "4   Apple                    0\n",
            "5  Orange                    2\n"
          ]
        }
      ],
      "source": [
        "print(\"\\nInput for Label Encoding:\")\n",
        "print(df[['Fruit']])\n",
        "\n",
        "label_encoder = LabelEncoder()\n",
        "df['Fruit_Label_Encoded'] = label_encoder.fit_transform(df['Fruit'])\n",
        "\n",
        "print(\"\\nOutput for Label Encoding:\")\n",
        "print(df[['Fruit', 'Fruit_Label_Encoded']])\n"
      ]
    },
    {
      "cell_type": "markdown",
      "metadata": {
        "id": "tL-HXAr9HXiK"
      },
      "source": [
        "# 4. Ordinal Encoding\n",
        "Ordinal encoding is used when the data has an inherent order, such as 'Small', 'Medium', 'Large'. This technique preserves the order of the categories.\n"
      ]
    },
    {
      "cell_type": "code",
      "execution_count": 19,
      "metadata": {
        "colab": {
          "base_uri": "https://localhost:8080/"
        },
        "id": "4r-1hBgRHbxJ",
        "outputId": "137417cd-c8c0-49d2-c567-0050c2abaa8b"
      },
      "outputs": [
        {
          "name": "stdout",
          "output_type": "stream",
          "text": [
            "\n",
            "Input for Ordinal Encoding (Size column):\n",
            "     Size\n",
            "0   Small\n",
            "1  Medium\n",
            "2   Large\n",
            "3  Medium\n",
            "4   Small\n",
            "5   Large\n",
            "\n",
            "Output for Ordinal Encoding:\n",
            "     Size  Size_Ordinal_Encoded\n",
            "0   Small                   0.0\n",
            "1  Medium                   1.0\n",
            "2   Large                   2.0\n",
            "3  Medium                   1.0\n",
            "4   Small                   0.0\n",
            "5   Large                   2.0\n"
          ]
        }
      ],
      "source": [
        "print(\"\\nInput for Ordinal Encoding (Size column):\")\n",
        "print(df[['Size']])\n",
        "\n",
        "ordinal_encoder = OrdinalEncoder(categories=[['Small', 'Medium', 'Large']])\n",
        "df['Size_Ordinal_Encoded'] = ordinal_encoder.fit_transform(df[['Size']])\n",
        "\n",
        "print(\"\\nOutput for Ordinal Encoding:\")\n",
        "print(df[['Size', 'Size_Ordinal_Encoded']])\n"
      ]
    },
    {
      "cell_type": "markdown",
      "metadata": {
        "id": "C1zgg6KrHrIU"
      },
      "source": [
        "# 5. Binary Encoding\n",
        "Binary encoding combines label encoding and binary representation of categories. It is useful for high-cardinality categorical data."
      ]
    },
    {
      "cell_type": "code",
      "execution_count": 20,
      "metadata": {
        "colab": {
          "base_uri": "https://localhost:8080/"
        },
        "id": "iRGeGVDzHuYy",
        "outputId": "9a8dc6c4-0ded-41b0-e088-da1418c70879"
      },
      "outputs": [
        {
          "name": "stdout",
          "output_type": "stream",
          "text": [
            "\n",
            "Input for Binary Encoding:\n",
            "    Fruit\n",
            "0   Apple\n",
            "1  Banana\n",
            "2  Orange\n",
            "3  Banana\n",
            "4   Apple\n",
            "5  Orange\n",
            "\n",
            "Output for Binary Encoding:\n",
            "   Fruit_0  Fruit_1    Size  Price  Target  Fruit_Label_Encoded  \\\n",
            "0        0        1   Small    100       1                    0   \n",
            "1        1        0  Medium    150       0                    1   \n",
            "2        1        1   Large    200       0                    2   \n",
            "3        1        0  Medium    150       1                    1   \n",
            "4        0        1   Small    100       1                    0   \n",
            "5        1        1   Large    200       0                    2   \n",
            "\n",
            "   Size_Ordinal_Encoded  \n",
            "0                   0.0  \n",
            "1                   1.0  \n",
            "2                   2.0  \n",
            "3                   1.0  \n",
            "4                   0.0  \n",
            "5                   2.0  \n"
          ]
        }
      ],
      "source": [
        "print(\"\\nInput for Binary Encoding:\")\n",
        "print(df[['Fruit']])\n",
        "\n",
        "binary_encoder = ce.BinaryEncoder(cols=['Fruit'])\n",
        "df_binary_encoded = binary_encoder.fit_transform(df)\n",
        "\n",
        "print(\"\\nOutput for Binary Encoding:\")\n",
        "print(df_binary_encoded)"
      ]
    },
    {
      "cell_type": "markdown",
      "metadata": {
        "id": "ZL9H4aWHLALk"
      },
      "source": [
        "# 6. Count Encoding\n",
        "Count encoding replaces categories with their frequency of occurrence in the dataset. It is efficient for high-cardinality features and maintains information about the distribution of the data.\n"
      ]
    },
    {
      "cell_type": "code",
      "execution_count": 22,
      "metadata": {
        "colab": {
          "base_uri": "https://localhost:8080/"
        },
        "id": "vpej4JkGLDS1",
        "outputId": "01dd6b3b-efa7-4036-e521-81bb6076512d"
      },
      "outputs": [
        {
          "name": "stdout",
          "output_type": "stream",
          "text": [
            "\n",
            "Input for Count Encoding:\n",
            "    Fruit\n",
            "0   Apple\n",
            "1  Banana\n",
            "2  Orange\n",
            "3  Banana\n",
            "4   Apple\n",
            "5  Orange\n",
            "\n",
            "Output for Count Encoding:\n",
            "    Fruit  Fruit_Count_Encoded\n",
            "0   Apple                    2\n",
            "1  Banana                    2\n",
            "2  Orange                    2\n",
            "3  Banana                    2\n",
            "4   Apple                    2\n",
            "5  Orange                    2\n"
          ]
        }
      ],
      "source": [
        "print(\"\\nInput for Count Encoding:\")\n",
        "print(df[['Fruit']])\n",
        "\n",
        "count_encoding = df['Fruit'].value_counts()\n",
        "df['Fruit_Count_Encoded'] = df['Fruit'].map(count_encoding)\n",
        "\n",
        "print(\"\\nOutput for Count Encoding:\")\n",
        "print(df[['Fruit', 'Fruit_Count_Encoded']])"
      ]
    },
    {
      "cell_type": "markdown",
      "metadata": {
        "id": "DBi8VovALJqM"
      },
      "source": [
        "# 7. Target Encoding\n",
        "Target encoding replaces each category with the mean of the target variable for that category. This is useful in supervised learning but may introduce data leakage if not handled properly.\n"
      ]
    },
    {
      "cell_type": "code",
      "execution_count": 23,
      "metadata": {
        "colab": {
          "base_uri": "https://localhost:8080/"
        },
        "id": "vW5-4ALtLP9H",
        "outputId": "d0176bd8-bc55-4818-a795-6b5e7f800c5b"
      },
      "outputs": [
        {
          "name": "stdout",
          "output_type": "stream",
          "text": [
            "\n",
            "Input for Target Encoding:\n",
            "    Fruit  Target\n",
            "0   Apple       1\n",
            "1  Banana       0\n",
            "2  Orange       0\n",
            "3  Banana       1\n",
            "4   Apple       1\n",
            "5  Orange       0\n",
            "\n",
            "Output for Target Encoding:\n",
            "    Fruit  Fruit_Target_Encoded\n",
            "0   Apple              0.570926\n",
            "1  Banana              0.500000\n",
            "2  Orange              0.429074\n",
            "3  Banana              0.500000\n",
            "4   Apple              0.570926\n",
            "5  Orange              0.429074\n"
          ]
        }
      ],
      "source": [
        "print(\"\\nInput for Target Encoding:\")\n",
        "print(df[['Fruit', 'Target']])\n",
        "\n",
        "target_encoder = ce.TargetEncoder(cols=['Fruit'])\n",
        "df['Fruit_Target_Encoded'] = target_encoder.fit_transform(df['Fruit'], df['Target'])\n",
        "\n",
        "print(\"\\nOutput for Target Encoding:\")\n",
        "print(df[['Fruit', 'Fruit_Target_Encoded']])"
      ]
    },
    {
      "cell_type": "markdown",
      "metadata": {
        "id": "-efYPH5ELUxk"
      },
      "source": [
        "# Conclusion:\n",
        "\n",
        "In this notebook, we demonstrated several encoding techniques that are essential for handling categorical data in machine learning.\n",
        "Each method has its strengths and appropriate use cases depending on the type of data (nominal vs ordinal) and the nature of the problem\n",
        "(supervised vs unsupervised learning). We also highlighted how certain techniques like One-Hot Encoding can increase dimensionality, while\n",
        "methods like Count and Target Encoding can help reduce it, especially for high-cardinality data. Future work may explore using these\n",
        "techniques on larger datasets and in more complex machine learning models.\n"
      ]
    },
    {
      "cell_type": "markdown",
      "metadata": {
        "id": "QDHYTiieLbyU"
      },
      "source": [
        "# References:\n",
        "\n",
        "- Scikit-learn documentation: https://scikit-learn.org/stable/\n",
        "- Category Encoders documentation: https://contrib.scikit-learn.org/category_encoders/\n",
        "- Machine Learning Mastery: How to Handle Categorical Data for Machine Learning\n"
      ]
    },
    {
      "cell_type": "markdown",
      "metadata": {
        "id": "L9-Dti7hLe-x"
      },
      "source": [
        "# License:\n",
        "\n",
        "MIT License\n",
        "\n",
        "Copyright (c) 2024 Ansh Vaghela\n",
        "\n",
        "Permission is hereby granted, free of charge, to any person obtaining a copy\n",
        "of this software and associated documentation files (the \"Software\"), to deal\n",
        "in the Software without restriction, including without limitation the rights\n",
        "to use, copy, modify, merge, publish, distribute, sublicense, and/or sell\n",
        "copies of the Software, and to permit persons to whom the Software is\n",
        "furnished to do so, subject to the following conditions:\n",
        "\n",
        "The above copyright notice and this permission notice shall be included in all\n",
        "copies or substantial portions of the Software.\n",
        "\n",
        "THE SOFTWARE IS PROVIDED \"AS IS\", WITHOUT WARRANTY OF ANY KIND, EXPRESS OR\n",
        "IMPLIED, INCLUDING BUT NOT LIMITED TO THE WARRANTIES OF MERCHANTABILITY,\n",
        "FITNESS FOR A PARTICULAR PURPOSE AND NONINFRINGEMENT. IN NO EVENT SHALL THE\n",
        "AUTHORS OR COPYRIGHT HOLDERS BE LIABLE FOR ANY CLAIM, DAMAGES OR OTHER\n",
        "LIABILITY, WHETHER IN AN ACTION OF CONTRACT, TORT OR OTHERWISE, ARISING FROM,\n",
        "OUT OF OR IN CONNECTION WITH THE SOFTWARE OR THE USE OR OTHER DEALINGS IN THE\n",
        "SOFTWARE."
      ]
    },
    {
      "cell_type": "markdown",
      "metadata": {},
      "source": [
        "MIT License\n",
        "\n",
        "Copyright (c) 2024 dhirthacker7neu\n",
        "\n",
        "Permission is hereby granted, free of charge, to any person obtaining a copy\n",
        "of this software and associated documentation files (the \"Software\"), to deal\n",
        "in the Software without restriction, including without limitation the rights\n",
        "to use, copy, modify, merge, publish, distribute, sublicense, and/or sell\n",
        "copies of the Software, and to permit persons to whom the Software is\n",
        "furnished to do so, subject to the following conditions:\n",
        "\n",
        "The above copyright notice and this permission notice shall be included in all\n",
        "copies or substantial portions of the Software.\n",
        "\n",
        "THE SOFTWARE IS PROVIDED \"AS IS\", WITHOUT WARRANTY OF ANY KIND, EXPRESS OR\n",
        "IMPLIED, INCLUDING BUT NOT LIMITED TO THE WARRANTIES OF MERCHANTABILITY,\n",
        "FITNESS FOR A PARTICULAR PURPOSE AND NONINFRINGEMENT. IN NO EVENT SHALL THE\n",
        "AUTHORS OR COPYRIGHT HOLDERS BE LIABLE FOR ANY CLAIM, DAMAGES OR OTHER\n",
        "LIABILITY, WHETHER IN AN ACTION OF CONTRACT, TORT OR OTHERWISE, ARISING FROM,\n",
        "OUT OF OR IN CONNECTION WITH THE SOFTWARE OR THE USE OR OTHER DEALINGS IN THE\n",
        "SOFTWARE.\n"
      ]
    },
    {
      "cell_type": "markdown",
      "metadata": {},
      "source": []
    }
  ],
  "metadata": {
    "colab": {
      "provenance": []
    },
    "kernelspec": {
      "display_name": "Python 3",
      "name": "python3"
    },
    "language_info": {
      "name": "python"
    }
  },
  "nbformat": 4,
  "nbformat_minor": 0
}
