{
 "cells": [
  {
   "cell_type": "code",
   "execution_count": 8,
   "metadata": {},
   "outputs": [
    {
     "name": "stdout",
     "output_type": "stream",
     "text": [
      "          A         B\n",
      "0  1.000000  5.000000\n",
      "1  2.000000  6.666667\n",
      "2  2.333333  7.000000\n",
      "3  4.000000  8.000000\n"
     ]
    }
   ],
   "source": [
    "# Various Imputation Techniques \n",
    "\n",
    "# Mean Imputation \n",
    "\n",
    "import numpy as np\n",
    "import pandas as pd\n",
    "from sklearn.impute import SimpleImputer\n",
    "\n",
    "# Create example dataset\n",
    "df = pd.DataFrame({'A': [1, 2, np.nan, 4], 'B': [5, np.nan, 7, 8]})\n",
    "\n",
    "# Define imputer\n",
    "imputer = SimpleImputer(strategy='mean')\n",
    "\n",
    "# Impute missing values\n",
    "imputed_df = pd.DataFrame(imputer.fit_transform(df), columns=df.columns)\n",
    "print(imputed_df)"
   ]
  },
  {
   "cell_type": "code",
   "execution_count": 9,
   "metadata": {},
   "outputs": [
    {
     "name": "stdout",
     "output_type": "stream",
     "text": [
      "     A    B\n",
      "0  1.0  5.0\n",
      "1  2.0  7.0\n",
      "2  2.0  7.0\n",
      "3  4.0  8.0\n"
     ]
    }
   ],
   "source": [
    "# Median Imputation\n",
    "\n",
    "import pandas as pd\n",
    "import numpy as np\n",
    "from sklearn.impute import SimpleImputer\n",
    "\n",
    "# Create example dataset\n",
    "df = pd.DataFrame({'A': [1, 2, np.nan, 4], 'B': [5, np.nan, 7, 8]})\n",
    "\n",
    "# Define imputer\n",
    "imputer = SimpleImputer(strategy='median')\n",
    "\n",
    "# Impute missing values\n",
    "imputed_df = pd.DataFrame(imputer.fit_transform(df), columns=df.columns)\n",
    "print(imputed_df)"
   ]
  },
  {
   "cell_type": "code",
   "execution_count": 10,
   "metadata": {},
   "outputs": [
    {
     "name": "stdout",
     "output_type": "stream",
     "text": [
      "     A    B\n",
      "0  1.0  5.0\n",
      "1  2.0  5.0\n",
      "2  1.0  7.0\n",
      "3  4.0  8.0\n"
     ]
    }
   ],
   "source": [
    "# Mode Imputation\n",
    "\n",
    "import pandas as pd\n",
    "import numpy as np\n",
    "from sklearn.impute import SimpleImputer\n",
    "\n",
    "# Create example dataset\n",
    "df = pd.DataFrame({'A': [1, 2, np.nan, 4], 'B': [5, np.nan, 7, 8]})\n",
    "\n",
    "# Define imputer\n",
    "imputer = SimpleImputer(strategy='most_frequent')\n",
    "\n",
    "# Impute missing values\n",
    "imputed_df = pd.DataFrame(imputer.fit_transform(df), columns=df.columns)\n",
    "print(imputed_df)"
   ]
  },
  {
   "cell_type": "code",
   "execution_count": 11,
   "metadata": {},
   "outputs": [
    {
     "name": "stdout",
     "output_type": "stream",
     "text": [
      "     A    B\n",
      "0  1.0  5.0\n",
      "1  2.0  6.5\n",
      "2  2.5  7.0\n",
      "3  4.0  8.0\n"
     ]
    }
   ],
   "source": [
    "# K-nearest neighbours Imputation\n",
    "\n",
    "import pandas as pd\n",
    "import numpy as np\n",
    "from sklearn.impute import KNNImputer\n",
    "\n",
    "# Create example dataset\n",
    "df = pd.DataFrame({'A': [1, 2, np.nan, 4], 'B': [5, np.nan, 7, 8]})\n",
    "\n",
    "# Define imputer\n",
    "imputer = KNNImputer(n_neighbors=2)\n",
    "\n",
    "# Impute missing values\n",
    "imputed_df = pd.DataFrame(imputer.fit_transform(df), columns=df.columns)\n",
    "print(imputed_df)"
   ]
  },
  {
   "cell_type": "code",
   "execution_count": 12,
   "metadata": {},
   "outputs": [
    {
     "name": "stdout",
     "output_type": "stream",
     "text": [
      "     A    B\n",
      "0  1.0  5.0\n",
      "1  2.0  6.0\n",
      "2  3.0  7.0\n",
      "3  4.0  8.0\n"
     ]
    }
   ],
   "source": [
    "# Interpolation Imputation\n",
    "\n",
    "import pandas as pd\n",
    "import numpy as np\n",
    "\n",
    "# Create example dataset\n",
    "df = pd.DataFrame({'A': [1, 2, np.nan, 4], 'B': [5, np.nan, 7, 8]})\n",
    "\n",
    "# Impute missing values using linear interpolation\n",
    "interpolated_df = df.interpolate(method='linear')\n",
    "print(interpolated_df)"
   ]
  },
  {
   "cell_type": "code",
   "execution_count": 13,
   "metadata": {},
   "outputs": [
    {
     "name": "stdout",
     "output_type": "stream",
     "text": [
      "   A    B\n",
      "0  1  5.0\n",
      "1  2  6.0\n",
      "2  3  7.0\n",
      "3  4  8.0\n"
     ]
    }
   ],
   "source": [
    "# Extrapolation Imputation\n",
    "\n",
    "import pandas as pd\n",
    "import numpy as np\n",
    "from scipy import interpolate\n",
    "\n",
    "# Create example dataset\n",
    "df = pd.DataFrame({'A': [1, 2, 3, 4], 'B': [5, np.nan, np.nan, 8]})\n",
    "\n",
    "# Separate the data into known and unknown values\n",
    "known_df = df[df['B'].notnull()]\n",
    "unknown_df = df[df['B'].isnull()]\n",
    "\n",
    "# Fit a polynomial interpolation model to the known values\n",
    "f = interpolate.interp1d(known_df['A'], known_df['B'], kind='linear', fill_value=\"extrapolate\")\n",
    "\n",
    "# Extrapolate missing values\n",
    "imputed_df = df.copy()\n",
    "imputed_df.loc[imputed_df['B'].isnull(), 'B'] = f(unknown_df['A'])\n",
    "\n",
    "print(imputed_df)\n"
   ]
  },
  {
   "cell_type": "code",
   "execution_count": 14,
   "metadata": {},
   "outputs": [
    {
     "name": "stdout",
     "output_type": "stream",
     "text": [
      "          A         B\n",
      "0  1.000000  5.000000\n",
      "1  2.000000  6.000046\n",
      "2  2.999841  7.000000\n",
      "3  4.000000  8.000000\n"
     ]
    }
   ],
   "source": [
    "# MICE\n",
    "\n",
    "import pandas as pd\n",
    "import numpy as np\n",
    "from sklearn.experimental import enable_iterative_imputer\n",
    "from sklearn.impute import IterativeImputer\n",
    "\n",
    "# Create example dataset\n",
    "df = pd.DataFrame({'A': [1, 2, np.nan, 4], 'B': [5, np.nan, 7, 8]})\n",
    "\n",
    "# Define imputer\n",
    "imputer = IterativeImputer(random_state=0)\n",
    "\n",
    "# Impute missing values\n",
    "imputed_df = pd.DataFrame(imputer.fit_transform(df), columns=df.columns)\n",
    "print(imputed_df)\n"
   ]
  },
  {
   "cell_type": "code",
   "execution_count": 17,
   "metadata": {},
   "outputs": [
    {
     "name": "stdout",
     "output_type": "stream",
     "text": [
      "   A    B\n",
      "0  1  5.0\n",
      "1  2  6.0\n",
      "2  3  7.0\n",
      "3  4  8.0\n"
     ]
    }
   ],
   "source": [
    "# Regression Imputation\n",
    "\n",
    "import pandas as pd\n",
    "import numpy as np\n",
    "from sklearn.linear_model import LinearRegression\n",
    "\n",
    "# Create example dataset with NaN values\n",
    "df = pd.DataFrame({'A': [1, 2, 3, 4], 'B': [5, np.nan, np.nan, 8]})\n",
    "\n",
    "# Split the data into known and unknown values\n",
    "known_df = df[df['B'].notnull()]\n",
    "unknown_df = df[df['B'].isnull()]\n",
    "\n",
    "# Train a linear regression model to predict column 'B' based on column 'A'\n",
    "reg = LinearRegression()\n",
    "reg.fit(known_df[['A']], known_df['B'])\n",
    "\n",
    "# Use the regression model to impute the missing values in column 'B'\n",
    "imputed_df = df.copy()\n",
    "imputed_df.loc[imputed_df['B'].isnull(), 'B'] = reg.predict(unknown_df[['A']])\n",
    "\n",
    "print(imputed_df)\n"
   ]
  },
  {
   "cell_type": "code",
   "execution_count": 16,
   "metadata": {},
   "outputs": [
    {
     "name": "stdout",
     "output_type": "stream",
     "text": [
      "     A    B\n",
      "0  1.0  5.0\n",
      "1  2.0  5.0\n",
      "2  NaN  7.0\n",
      "3  4.0  8.0\n"
     ]
    }
   ],
   "source": [
    "# Hot-Deck Imputation \n",
    "\n",
    "import pandas as pd\n",
    "import numpy as np\n",
    "\n",
    "# Create example dataset\n",
    "df = pd.DataFrame({'A': [1, 2, np.nan, 4], 'B': [5, np.nan, 7, 8]})\n",
    "\n",
    "# Impute missing values using hot-deck imputation\n",
    "imputed_df = df.copy()\n",
    "for i in range(len(imputed_df)):\n",
    "    if np.isnan(imputed_df.loc[i, 'B']):\n",
    "        imputed_df.loc[i, 'B'] = imputed_df.loc[imputed_df['B'].notnull(), 'B'].sample().values[0]\n",
    "\n",
    "print(imputed_df)\n"
   ]
  },
  {
   "cell_type": "markdown",
   "metadata": {},
   "source": [
    "# Different Data Visualisation Techniques"
   ]
  },
  {
   "cell_type": "code",
   "execution_count": 14,
   "metadata": {},
   "outputs": [
    {
     "data": {
      "text/plain": [
       "Text(0.5, 0.98, 'Data Visualization Techniques')"
      ]
     },
     "execution_count": 14,
     "metadata": {},
     "output_type": "execute_result"
    },
    {
     "data": {
      "image/png": "[encoded data removed]",
      "text/plain": [
       "<Figure size 800x600 with 4 Axes>"
      ]
     },
     "metadata": {},
     "output_type": "display_data"
    }
   ],
   "source": [
    "import numpy as np\n",
    "import pandas as pd\n",
    "import matplotlib.pyplot as plt\n",
    "\n",
    "# Generate some sample data\n",
    "x = np.linspace(0, 10, 100)\n",
    "y1 = np.sin(x)\n",
    "y2 = np.cos(x)\n",
    "y3 = np.exp(-x/2)\n",
    "\n",
    "# Create a figure with multiple subplots\n",
    "fig, axs = plt.subplots(nrows=2, ncols=2, figsize=(8, 6))\n",
    "fig.suptitle('Data Visualization Techniques')\n"
   ]
  },
  {
   "cell_type": "code",
   "execution_count": 17,
   "metadata": {},
   "outputs": [
    {
     "name": "stderr",
     "output_type": "stream",
     "text": [
      "C:\\Users\\user\\AppData\\Local\\Temp\\ipykernel_32264\\221501527.py:17: FutureWarning: The default value of numeric_only in DataFrame.corr is deprecated. In a future version, it will default to False. Select only valid columns or specify the value of numeric_only to silence this warning.\n",
      "  corr = data.corr()\n"
     ]
    },
    {
     "data": {
      "text/plain": [
       "<Figure size 640x480 with 0 Axes>"
      ]
     },
     "metadata": {},
     "output_type": "display_data"
    }
   ],
   "source": [
    "# Line plot\n",
    "axs[0, 0].plot(x, y1, label='sin(x)')\n",
    "axs[0, 0].plot(x, y2, label='cos(x)')\n",
    "axs[0, 0].set_title('Line Plot')\n",
    "axs[0, 0].legend()\n",
    "\n",
    "# Scatter plot\n",
    "data = pd.read_csv('https://raw.githubusercontent.com/nikbearbrown/INFO_7390_Art_and_Science_of_Data/main/CSV/iris.csv')\n",
    "axs[0, 1].scatter(data['sepal_length'], data['sepal_width'], c=data['species'].astype('category').cat.codes, cmap='viridis')\n",
    "axs[0, 1].set_title('Scatter Plot')\n",
    "\n",
    "# Histogram\n",
    "axs[1, 0].hist(y3, bins=20)\n",
    "axs[1, 0].set_title('Histogram')\n",
    "\n",
    "# Heatmap\n",
    "corr = data.corr()\n",
    "axs[1, 1].imshow(corr, cmap='coolwarm')\n",
    "axs[1, 1].set_xticks(range(len(corr.columns)))\n",
    "axs[1, 1].set_yticks(range(len(corr.columns)))\n",
    "axs[1, 1].set_xticklabels(corr.columns, rotation=90)\n",
    "axs[1, 1].set_yticklabels(corr.columns)\n",
    "axs[1, 1].set_title('Heatmap')\n",
    "\n",
    "plt.tight_layout()\n",
    "plt.show()"
   ]
  }
 ],
 "metadata": {
  "kernelspec": {
   "display_name": "Python 3 (ipykernel)",
   "language": "python",
   "name": "python3"
  },
  "language_info": {
   "codemirror_mode": {
    "name": "ipython",
    "version": 3
   },
   "file_extension": ".py",
   "mimetype": "text/x-python",
   "name": "python",
   "nbconvert_exporter": "python",
   "pygments_lexer": "ipython3",
   "version": "3.10.9"
  },
  "vscode": {
   "interpreter": {
    "hash": "7b1f2b33e866b0bf2409397e5f58ba9cdf170d3b7f64c8f359c79998e2f88ad4"
   }
  }
 },
 "nbformat": 4,
 "nbformat_minor": 2
}
