{
  "metadata": {
    "kernelspec": {
      "language": "python",
      "display_name": "Python 3",
      "name": "python3"
    },
    "language_info": {
      "pygments_lexer": "ipython3",
      "nbconvert_exporter": "python",
      "version": "3.6.4",
      "file_extension": ".py",
      "codemirror_mode": {
        "name": "ipython",
        "version": 3
      },
      "name": "python",
      "mimetype": "text/x-python"
    },
    "colab": {
      "provenance": []
    }
  },
  "nbformat_minor": 0,
  "nbformat": 4,
  "cells": [
    {
      "cell_type": "markdown",
      "source": [
        "# **Crash Course in Causality Crash Course in Causality Written Section**"
      ],
      "metadata": {
        "id": "1osDExpGHRok"
      }
    },
    {
      "cell_type": "markdown",
      "source": [
        "\"Exploring the reasons behind occurrences is a core question in both life and statistics. Delving into the mechanisms of causality is crucial in behavioral science, presenting a fascinating array of related methods. What insights can causality analysis provide?\n",
        "\n",
        "- Did a medication lead to health improvement?\n",
        "- What caused a breakdown in an assembly line?\n",
        "- Is the vaccine effective?\n",
        "- What led to a spike in website traffic yesterday morning?\n",
        "\n",
        "In this discussion, we'll explore various causal inference methods, from traditional to contemporary large-scale approaches.\n",
        "\n"
      ],
      "metadata": {
        "id": "CtfkqsHRESCO"
      }
    },
    {
      "cell_type": "markdown",
      "source": [
        "Importing the necessary libraries"
      ],
      "metadata": {
        "id": "kzpPgBNBEobn"
      }
    },
    {
      "cell_type": "code",
      "source": [
        "import numpy as np\n",
        "import pandas as pd\n",
        "import os\n",
        "\n",
        "from sklearn.metrics import mean_squared_error as mse\n",
        "\n",
        "import matplotlib.pyplot as plt\n",
        "import matplotlib.dates as md\n",
        "%matplotlib inline\n",
        "\n",
        "# from fredapi import Fred\n",
        "# fred = Fred(api_key='fred')\n",
        "\n",
        "from statsmodels.tsa.stattools import adfuller\n",
        "\n",
        "from statsmodels.tsa.api import VAR\n",
        "from statsmodels.tsa.ar_model import AutoReg\n",
        "\n",
        "plt.style.use('fivethirtyeight')"
      ],
      "metadata": {
        "execution": {
          "iopub.status.busy": "2022-11-07T13:25:52.367222Z",
          "iopub.execute_input": "2022-11-07T13:25:52.368924Z",
          "iopub.status.idle": "2022-11-07T13:25:52.909119Z",
          "shell.execute_reply.started": "2022-11-07T13:25:52.368879Z",
          "shell.execute_reply": "2022-11-07T13:25:52.907848Z"
        },
        "trusted": true,
        "id": "RrtHiE0E5Fv8"
      },
      "execution_count": 1,
      "outputs": []
    },
    {
      "cell_type": "markdown",
      "source": [
        "The purpose of the `my_rmse` function is to compute the Root Mean Square Error (RMSE) between two sets of values, `x` and `y`, and then round the result to four decimal places. RMSE is a standard way to measure the error of a model in predicting quantitative data. It represents the square root of the average squared differences between the actual and predicted values. Here's a breakdown of the function:\n",
        "\n",
        "- `mse(x, y)`: This part of the code calculates the Mean Squared Error (MSE) between the actual (`x`) and predicted (`y`) values. However, the function `mse` is not defined in the snippet you provided. Usually, it should calculate the average of the squared differences between `x` and `y`.\n",
        "- `np.sqrt(...)`: This takes the square root of the MSE, converting it into RMSE, which is on the same scale as the original data and thus easier to interpret.\n",
        "- `np.round(..., 4)`: This rounds the resulting RMSE value to four decimal places, which makes the result more readable and manageable, especially for reporting or further analysis.\n",
        "\n",
        "The function encapsulates the RMSE calculation in a user-defined function `my_rmse`, presumably to simplify the process of repeatedly calculating this metric with rounded results throughout the analysis or modeling process."
      ],
      "metadata": {
        "id": "y3yxBoUgE2Ny"
      }
    },
    {
      "cell_type": "code",
      "source": [
        "def my_rmse(x,y):\n",
        "    return(np.round( np.sqrt(mse(x,y)) ,4))"
      ],
      "metadata": {
        "execution": {
          "iopub.status.busy": "2022-11-07T11:28:31.75797Z",
          "iopub.execute_input": "2022-11-07T11:28:31.758371Z",
          "iopub.status.idle": "2022-11-07T11:28:31.765363Z",
          "shell.execute_reply.started": "2022-11-07T11:28:31.758339Z",
          "shell.execute_reply": "2022-11-07T11:28:31.763651Z"
        },
        "trusted": true,
        "id": "3Q6tFxW-5Fv8"
      },
      "execution_count": 2,
      "outputs": []
    },
    {
      "cell_type": "markdown",
      "source": [
        "The code defines a function `my_rmse` to provide a convenient and reusable way to calculate and round the Root Mean Square Error (RMSE) between two datasets or arrays. Here are the main reasons for writing this function:\n",
        "\n",
        "1. **Simplification**: It simplifies the process of calculating RMSE by encapsulating the formula in a function, making the code cleaner and easier to read. Instead of writing the full calculation each time, you can just call `my_rmse(x, y)`.\n",
        "\n",
        "2. **Reusability**: By defining a function, you can easily reuse the RMSE calculation in different parts of the code without rewriting the formula. This helps in maintaining consistency in how the RMSE is calculated and rounded across different analyses.\n",
        "\n",
        "3. **Accuracy and Precision Control**: The function uses `np.round` to round the result to four decimal places. This standardizes the level of precision when reporting or comparing RMSE values, which can be particularly useful in reports or when making decisions based on these metrics.\n",
        "\n",
        "4. **Error Handling**: While not explicitly shown in the snippet, the function could be extended to include error handling to deal with potential issues like non-numeric inputs, mismatched array lengths, or division by zero, making the code more robust.\n",
        "\n",
        "5. **Integration with Other Code**: This function can be integrated into larger analytical pipelines, where automated and consistent error metric calculations are necessary for model evaluation, comparison, or optimization.\n",
        "\n",
        "In summary, `my_rmse` is a utility function designed for efficient and standardized computation of RMSE in data analysis and statistical modeling contexts."
      ],
      "metadata": {
        "id": "GGSjyBtLFBIc"
      }
    },
    {
      "cell_type": "code",
      "source": [
        "# general settings\n",
        "class CFG:\n",
        "    img_dim1 = 20\n",
        "    img_dim2 = 10\n",
        "    tail = 30\n",
        "    varlag = 4\n",
        "\n",
        "# adjust the parameters for displayed figures\n",
        "plt.rcParams.update({'figure.figsize': (CFG.img_dim1,CFG.img_dim2)})"
      ],
      "metadata": {
        "execution": {
          "iopub.status.busy": "2022-11-07T13:25:53.843878Z",
          "iopub.execute_input": "2022-11-07T13:25:53.844985Z",
          "iopub.status.idle": "2022-11-07T13:25:53.850964Z",
          "shell.execute_reply.started": "2022-11-07T13:25:53.844943Z",
          "shell.execute_reply": "2022-11-07T13:25:53.849963Z"
        },
        "trusted": true,
        "id": "DMjIz2vQ5Fv8"
      },
      "execution_count": 3,
      "outputs": []
    },
    {
      "cell_type": "markdown",
      "source": [
        "<a id=\"section-intro\"></a>\n",
        "# Introduction to causality\n",
        "\n",
        "\n",
        "Causality is a complex and dynamic field.Here we will explore the \"ladder of causality\":\n",
        "\n",
        "- **Association (Observation)**: This level deals with dependency analysis, like correlation, where a change in A is linked to a change in B, but not necessarily causally. Most statistical and machine learning models operate at this observational level.\n",
        "- **Intervention (Action)**: This level involves experimental design, where we manipulate A to see if B changes, suggesting a direct causal effect from A to B. This approach attempts to establish a clearer causal link than mere association.\n",
        "- **Causality (Counterfactual Thinking)**: The most complex level involves considering counterfactuals, as discussed by Pearl, where one imagines alternative realities to understand causal mechanisms. This is about theorizing what would happen in different scenarios, a concept more abstract and challenging to verify than direct intervention.\n",
        "\n",
        "Our discussion will mainly navigate the nuances between the second and third levels of this causality ladder."
      ],
      "metadata": {
        "id": "5xo-oXOT5Fv8"
      }
    },
    {
      "cell_type": "markdown",
      "source": [
        "<a id=\"section-causalimpact\"></a>\n",
        "# Causal impact\n",
        "\n",
        "Causality analysis often starts with examining the effect of a specific intervention on a dependent variable. Causal Impact analysis is a method designed to assess the influence of an intervention on time-series data, particularly when only post-intervention data is available, lacking a counterfactual scenario (what would have happened without the intervention).\n",
        "\n",
        "In 2015, Google released the CausalImpact package, an R tool aimed at estimating the causal effect of an intervention on a time series. For instance, it can help determine the additional daily clicks generated by an ad campaign when a controlled experiment isn't feasible. It utilizes a structural Bayesian time-series model to predict how the metric of interest would have behaved in the absence of the intervention.\n",
        "\n",
        "In essence, CausalImpact evaluates how the actual post-intervention data diverges from what the model predicts would have happened without the intervention. However, it's important to note that detecting a deviation does not conclusively establish causality, as proving causality requires more comprehensive analysis beyond mere intervention and temporal observation.\n",
        "\n",
        "\n",
        "Unsurprisingly, we will be using the Python port: https://github.com/jamalsenouci/causalimpact\n",
        "\n",
        "* Paper: https://research.google/pubs/pub41854/\n",
        "\n",
        "* Structural Time Series as workhorse (~ structural decomposition from (https://www.kaggle.com/code/konradb/ts-0-the-basics))\n",
        "\n",
        "* estimates the effect of a ‘designed’ intervention on a target time-series $\\rightarrow$ analyse the differences between the expected and the observed behaviour: model generates a forecast counterfactual = the expected observations of how the dependent variable might have evolved after the event **had the event not occurred**.\n",
        "\n",
        "* probabilistic by design: distribution of forecast\n",
        "\n",
        "* ARIMA, SARIMAX, Holt-Winters = special cases\n",
        "\n",
        "* default / out-of-the-box = local level model\n",
        "\n",
        "\\begin{equation}\n",
        "Y_t = \\alpha_t + \\gamma_t + \\beta X_t + \\epsilon_t  \\\\\n",
        "\\alpha_{t+1} = \\alpha_t + \\eta_t\n",
        "\\end{equation}\n",
        "\n",
        "* $Y_t$ - observation = trend $(\\alpha_t)$+ seasonality $(\\gamma_t)$ + covariates $(\\beta X_t)$\n",
        "\n",
        "* $\\alpha_t$ - state = random walk"
      ],
      "metadata": {
        "id": "pE7xN3Qq5Fv9"
      }
    },
    {
      "cell_type": "code",
      "source": [
        "!pip install -q pycausalimpact\n",
        "from causalimpact import CausalImpact"
      ],
      "metadata": {
        "_kg_hide-output": true,
        "execution": {
          "iopub.status.busy": "2022-11-04T20:05:40.387298Z",
          "iopub.execute_input": "2022-11-04T20:05:40.387651Z",
          "iopub.status.idle": "2022-11-04T20:05:51.723631Z",
          "shell.execute_reply.started": "2022-11-04T20:05:40.387618Z",
          "shell.execute_reply": "2022-11-04T20:05:51.722592Z"
        },
        "trusted": true,
        "id": "yCi9dk8P5Fv-"
      },
      "execution_count": 4,
      "outputs": []
    },
    {
      "cell_type": "markdown",
      "source": [
        "This code is written to install the `pycausalimpact` package and import the `CausalImpact` class from it, which are necessary steps for conducting causal impact analysis in Python. Here's a breakdown of the code:\n",
        "\n",
        "1. `!pip install -q pycausalimpact`: This line installs the `pycausalimpact` package using pip, Python's package installer. The `-q` flag is used for \"quiet\" mode, which minimizes the output displayed during the installation process. The `pycausalimpact` package is a Python implementation of Google's CausalImpact algorithm, which is used for estimating the causal effect of an intervention on a time series.\n",
        "\n",
        "2. `from causalimpact import CausalImpact`: After installing the package, this line imports the `CausalImpact` class from the `causalimpact` module. This class is then used to perform the causal impact analysis, allowing the user to analyze how certain interventions have affected time-series data.\n",
        "\n",
        "In summary, the code is written to set up the environment for conducting causal impact analysis by installing the necessary Python package and making its main functionality available for use in the analysis."
      ],
      "metadata": {
        "id": "LszOqZ0AGiER"
      }
    },
    {
      "cell_type": "markdown",
      "source": [
        "## KSI\n",
        "\n",
        "We start by replicating a classic example from Durbin & Koopman https://www.amazon.com/Time-Analysis-State-Space-Methods/dp/019964117X : data on car drivers killed, car drivers killed or seriously injured (KSI), and light goods drivers killed during the year 2069(for example) in Great Britain;"
      ],
      "metadata": {
        "id": "w-jWvBgR5Fv-"
      }
    },
    {
      "cell_type": "markdown",
      "source": [
        "Reading the data"
      ],
      "metadata": {
        "id": "drG7oZ7iGv4-"
      }
    },
    {
      "cell_type": "code",
      "source": [
        "xdat = pd.read_csv('https://raw.githubusercontent.com/mhimanshi01/DSEM/main/cardrivers.csv')"
      ],
      "metadata": {
        "id": "Hxe9nm1r5iPB"
      },
      "execution_count": 5,
      "outputs": []
    },
    {
      "cell_type": "code",
      "source": [
        "#xdat = pd.read_csv('https://raw.githubusercontent.com/mhimanshi01/DSEM/main/cars_data_10mb.csv')\n",
        "xdat['timestamp']= pd.to_datetime(xdat.timestamp)\n",
        "xdat['car_ksi'] = np.log1p(xdat['car.ksi'])\n",
        "xdat.set_index('timestamp', inplace = True)\n",
        "xdat.head(10)"
      ],
      "metadata": {
        "execution": {
          "iopub.status.busy": "2022-11-04T20:05:51.725889Z",
          "iopub.execute_input": "2022-11-04T20:05:51.726248Z",
          "iopub.status.idle": "2022-11-04T20:05:51.77785Z",
          "shell.execute_reply.started": "2022-11-04T20:05:51.726202Z",
          "shell.execute_reply": "2022-11-04T20:05:51.776394Z"
        },
        "trusted": true,
        "id": "DsGG-Q7G5Fv-",
        "outputId": "d2014e8e-35fc-444e-ded9-248863635474",
        "colab": {
          "base_uri": "https://localhost:8080/",
          "height": 394
        }
      },
      "execution_count": 6,
      "outputs": [
        {
          "output_type": "execute_result",
          "data": {
            "text/plain": [
              "            cars.k  car.ksi  vandrivers   car_ksi\n",
              "timestamp                                        \n",
              "2069-01-01     107     1687          12  7.431300\n",
              "2069-01-02      97     1508           6  7.319202\n",
              "2069-01-03     102     1507          12  7.318540\n",
              "2069-01-04      87     1385           8  7.234177\n",
              "2069-01-05     119     1632          10  7.398174\n",
              "2069-01-06     107     1687          12  7.431300\n",
              "2069-01-07      97     1508           6  7.319202\n",
              "2069-01-08     102     1507          12  7.318540\n",
              "2069-01-09      87     1385           8  7.234177\n",
              "2069-01-10     119     1632          10  7.398174"
            ],
            "text/html": [
              "\n",
              "  <div id=\"df-af2fbd2b-7634-4410-8a94-87fabb68b044\" class=\"colab-df-container\">\n",
              "    <div>\n",
              "<style scoped>\n",
              "    .dataframe tbody tr th:only-of-type {\n",
              "        vertical-align: middle;\n",
              "    }\n",
              "\n",
              "    .dataframe tbody tr th {\n",
              "        vertical-align: top;\n",
              "    }\n",
              "\n",
              "    .dataframe thead th {\n",
              "        text-align: right;\n",
              "    }\n",
              "</style>\n",
              "<table border=\"1\" class=\"dataframe\">\n",
              "  <thead>\n",
              "    <tr style=\"text-align: right;\">\n",
              "      <th></th>\n",
              "      <th>cars.k</th>\n",
              "      <th>car.ksi</th>\n",
              "      <th>vandrivers</th>\n",
              "      <th>car_ksi</th>\n",
              "    </tr>\n",
              "    <tr>\n",
              "      <th>timestamp</th>\n",
              "      <th></th>\n",
              "      <th></th>\n",
              "      <th></th>\n",
              "      <th></th>\n",
              "    </tr>\n",
              "  </thead>\n",
              "  <tbody>\n",
              "    <tr>\n",
              "      <th>2069-01-01</th>\n",
              "      <td>107</td>\n",
              "      <td>1687</td>\n",
              "      <td>12</td>\n",
              "      <td>7.431300</td>\n",
              "    </tr>\n",
              "    <tr>\n",
              "      <th>2069-01-02</th>\n",
              "      <td>97</td>\n",
              "      <td>1508</td>\n",
              "      <td>6</td>\n",
              "      <td>7.319202</td>\n",
              "    </tr>\n",
              "    <tr>\n",
              "      <th>2069-01-03</th>\n",
              "      <td>102</td>\n",
              "      <td>1507</td>\n",
              "      <td>12</td>\n",
              "      <td>7.318540</td>\n",
              "    </tr>\n",
              "    <tr>\n",
              "      <th>2069-01-04</th>\n",
              "      <td>87</td>\n",
              "      <td>1385</td>\n",
              "      <td>8</td>\n",
              "      <td>7.234177</td>\n",
              "    </tr>\n",
              "    <tr>\n",
              "      <th>2069-01-05</th>\n",
              "      <td>119</td>\n",
              "      <td>1632</td>\n",
              "      <td>10</td>\n",
              "      <td>7.398174</td>\n",
              "    </tr>\n",
              "    <tr>\n",
              "      <th>2069-01-06</th>\n",
              "      <td>107</td>\n",
              "      <td>1687</td>\n",
              "      <td>12</td>\n",
              "      <td>7.431300</td>\n",
              "    </tr>\n",
              "    <tr>\n",
              "      <th>2069-01-07</th>\n",
              "      <td>97</td>\n",
              "      <td>1508</td>\n",
              "      <td>6</td>\n",
              "      <td>7.319202</td>\n",
              "    </tr>\n",
              "    <tr>\n",
              "      <th>2069-01-08</th>\n",
              "      <td>102</td>\n",
              "      <td>1507</td>\n",
              "      <td>12</td>\n",
              "      <td>7.318540</td>\n",
              "    </tr>\n",
              "    <tr>\n",
              "      <th>2069-01-09</th>\n",
              "      <td>87</td>\n",
              "      <td>1385</td>\n",
              "      <td>8</td>\n",
              "      <td>7.234177</td>\n",
              "    </tr>\n",
              "    <tr>\n",
              "      <th>2069-01-10</th>\n",
              "      <td>119</td>\n",
              "      <td>1632</td>\n",
              "      <td>10</td>\n",
              "      <td>7.398174</td>\n",
              "    </tr>\n",
              "  </tbody>\n",
              "</table>\n",
              "</div>\n",
              "    <div class=\"colab-df-buttons\">\n",
              "\n",
              "  <div class=\"colab-df-container\">\n",
              "    <button class=\"colab-df-convert\" onclick=\"convertToInteractive('df-af2fbd2b-7634-4410-8a94-87fabb68b044')\"\n",
              "            title=\"Convert this dataframe to an interactive table.\"\n",
              "            style=\"display:none;\">\n",
              "\n",
              "  <svg xmlns=\"http://www.w3.org/2000/svg\" height=\"24px\" viewBox=\"0 -960 960 960\">\n",
              "    <path d=\"M120-120v-720h720v720H120Zm60-500h600v-160H180v160Zm220 220h160v-160H400v160Zm0 220h160v-160H400v160ZM180-400h160v-160H180v160Zm440 0h160v-160H620v160ZM180-180h160v-160H180v160Zm440 0h160v-160H620v160Z\"/>\n",
              "  </svg>\n",
              "    </button>\n",
              "\n",
              "  <style>\n",
              "    .colab-df-container {\n",
              "      display:flex;\n",
              "      gap: 12px;\n",
              "    }\n",
              "\n",
              "    .colab-df-convert {\n",
              "      background-color: #E8F0FE;\n",
              "      border: none;\n",
              "      border-radius: 50%;\n",
              "      cursor: pointer;\n",
              "      display: none;\n",
              "      fill: #1967D2;\n",
              "      height: 32px;\n",
              "      padding: 0 0 0 0;\n",
              "      width: 32px;\n",
              "    }\n",
              "\n",
              "    .colab-df-convert:hover {\n",
              "      background-color: #E2EBFA;\n",
              "      box-shadow: 0px 1px 2px rgba(60, 64, 67, 0.3), 0px 1px 3px 1px rgba(60, 64, 67, 0.15);\n",
              "      fill: #174EA6;\n",
              "    }\n",
              "\n",
              "    .colab-df-buttons div {\n",
              "      margin-bottom: 4px;\n",
              "    }\n",
              "\n",
              "    [theme=dark] .colab-df-convert {\n",
              "      background-color: #3B4455;\n",
              "      fill: #D2E3FC;\n",
              "    }\n",
              "\n",
              "    [theme=dark] .colab-df-convert:hover {\n",
              "      background-color: #434B5C;\n",
              "      box-shadow: 0px 1px 3px 1px rgba(0, 0, 0, 0.15);\n",
              "      filter: drop-shadow(0px 1px 2px rgba(0, 0, 0, 0.3));\n",
              "      fill: #FFFFFF;\n",
              "    }\n",
              "  </style>\n",
              "\n",
              "    <script>\n",
              "      const buttonEl =\n",
              "        document.querySelector('#df-af2fbd2b-7634-4410-8a94-87fabb68b044 button.colab-df-convert');\n",
              "      buttonEl.style.display =\n",
              "        google.colab.kernel.accessAllowed ? 'block' : 'none';\n",
              "\n",
              "      async function convertToInteractive(key) {\n",
              "        const element = document.querySelector('#df-af2fbd2b-7634-4410-8a94-87fabb68b044');\n",
              "        const dataTable =\n",
              "          await google.colab.kernel.invokeFunction('convertToInteractive',\n",
              "                                                    [key], {});\n",
              "        if (!dataTable) return;\n",
              "\n",
              "        const docLinkHtml = 'Like what you see? Visit the ' +\n",
              "          '<a target=\"_blank\" href=https://colab.research.google.com/notebooks/data_table.ipynb>data table notebook</a>'\n",
              "          + ' to learn more about interactive tables.';\n",
              "        element.innerHTML = '';\n",
              "        dataTable['output_type'] = 'display_data';\n",
              "        await google.colab.output.renderOutput(dataTable, element);\n",
              "        const docLink = document.createElement('div');\n",
              "        docLink.innerHTML = docLinkHtml;\n",
              "        element.appendChild(docLink);\n",
              "      }\n",
              "    </script>\n",
              "  </div>\n",
              "\n",
              "\n",
              "<div id=\"df-c751037c-4ea5-4ee4-b2c9-e18ccaac017f\">\n",
              "  <button class=\"colab-df-quickchart\" onclick=\"quickchart('df-c751037c-4ea5-4ee4-b2c9-e18ccaac017f')\"\n",
              "            title=\"Suggest charts\"\n",
              "            style=\"display:none;\">\n",
              "\n",
              "<svg xmlns=\"http://www.w3.org/2000/svg\" height=\"24px\"viewBox=\"0 0 24 24\"\n",
              "     width=\"24px\">\n",
              "    <g>\n",
              "        <path d=\"M19 3H5c-1.1 0-2 .9-2 2v14c0 1.1.9 2 2 2h14c1.1 0 2-.9 2-2V5c0-1.1-.9-2-2-2zM9 17H7v-7h2v7zm4 0h-2V7h2v10zm4 0h-2v-4h2v4z\"/>\n",
              "    </g>\n",
              "</svg>\n",
              "  </button>\n",
              "\n",
              "<style>\n",
              "  .colab-df-quickchart {\n",
              "      --bg-color: #E8F0FE;\n",
              "      --fill-color: #1967D2;\n",
              "      --hover-bg-color: #E2EBFA;\n",
              "      --hover-fill-color: #174EA6;\n",
              "      --disabled-fill-color: #AAA;\n",
              "      --disabled-bg-color: #DDD;\n",
              "  }\n",
              "\n",
              "  [theme=dark] .colab-df-quickchart {\n",
              "      --bg-color: #3B4455;\n",
              "      --fill-color: #D2E3FC;\n",
              "      --hover-bg-color: #434B5C;\n",
              "      --hover-fill-color: #FFFFFF;\n",
              "      --disabled-bg-color: #3B4455;\n",
              "      --disabled-fill-color: #666;\n",
              "  }\n",
              "\n",
              "  .colab-df-quickchart {\n",
              "    background-color: var(--bg-color);\n",
              "    border: none;\n",
              "    border-radius: 50%;\n",
              "    cursor: pointer;\n",
              "    display: none;\n",
              "    fill: var(--fill-color);\n",
              "    height: 32px;\n",
              "    padding: 0;\n",
              "    width: 32px;\n",
              "  }\n",
              "\n",
              "  .colab-df-quickchart:hover {\n",
              "    background-color: var(--hover-bg-color);\n",
              "    box-shadow: 0 1px 2px rgba(60, 64, 67, 0.3), 0 1px 3px 1px rgba(60, 64, 67, 0.15);\n",
              "    fill: var(--button-hover-fill-color);\n",
              "  }\n",
              "\n",
              "  .colab-df-quickchart-complete:disabled,\n",
              "  .colab-df-quickchart-complete:disabled:hover {\n",
              "    background-color: var(--disabled-bg-color);\n",
              "    fill: var(--disabled-fill-color);\n",
              "    box-shadow: none;\n",
              "  }\n",
              "\n",
              "  .colab-df-spinner {\n",
              "    border: 2px solid var(--fill-color);\n",
              "    border-color: transparent;\n",
              "    border-bottom-color: var(--fill-color);\n",
              "    animation:\n",
              "      spin 1s steps(1) infinite;\n",
              "  }\n",
              "\n",
              "  @keyframes spin {\n",
              "    0% {\n",
              "      border-color: transparent;\n",
              "      border-bottom-color: var(--fill-color);\n",
              "      border-left-color: var(--fill-color);\n",
              "    }\n",
              "    20% {\n",
              "      border-color: transparent;\n",
              "      border-left-color: var(--fill-color);\n",
              "      border-top-color: var(--fill-color);\n",
              "    }\n",
              "    30% {\n",
              "      border-color: transparent;\n",
              "      border-left-color: var(--fill-color);\n",
              "      border-top-color: var(--fill-color);\n",
              "      border-right-color: var(--fill-color);\n",
              "    }\n",
              "    40% {\n",
              "      border-color: transparent;\n",
              "      border-right-color: var(--fill-color);\n",
              "      border-top-color: var(--fill-color);\n",
              "    }\n",
              "    60% {\n",
              "      border-color: transparent;\n",
              "      border-right-color: var(--fill-color);\n",
              "    }\n",
              "    80% {\n",
              "      border-color: transparent;\n",
              "      border-right-color: var(--fill-color);\n",
              "      border-bottom-color: var(--fill-color);\n",
              "    }\n",
              "    90% {\n",
              "      border-color: transparent;\n",
              "      border-bottom-color: var(--fill-color);\n",
              "    }\n",
              "  }\n",
              "</style>\n",
              "\n",
              "  <script>\n",
              "    async function quickchart(key) {\n",
              "      const quickchartButtonEl =\n",
              "        document.querySelector('#' + key + ' button');\n",
              "      quickchartButtonEl.disabled = true;  // To prevent multiple clicks.\n",
              "      quickchartButtonEl.classList.add('colab-df-spinner');\n",
              "      try {\n",
              "        const charts = await google.colab.kernel.invokeFunction(\n",
              "            'suggestCharts', [key], {});\n",
              "      } catch (error) {\n",
              "        console.error('Error during call to suggestCharts:', error);\n",
              "      }\n",
              "      quickchartButtonEl.classList.remove('colab-df-spinner');\n",
              "      quickchartButtonEl.classList.add('colab-df-quickchart-complete');\n",
              "    }\n",
              "    (() => {\n",
              "      let quickchartButtonEl =\n",
              "        document.querySelector('#df-c751037c-4ea5-4ee4-b2c9-e18ccaac017f button');\n",
              "      quickchartButtonEl.style.display =\n",
              "        google.colab.kernel.accessAllowed ? 'block' : 'none';\n",
              "    })();\n",
              "  </script>\n",
              "</div>\n",
              "\n",
              "    </div>\n",
              "  </div>\n"
            ],
            "application/vnd.google.colaboratory.intrinsic+json": {
              "type": "dataframe",
              "variable_name": "xdat",
              "summary": "{\n  \"name\": \"xdat\",\n  \"rows\": 5791,\n  \"fields\": [\n    {\n      \"column\": \"timestamp\",\n      \"properties\": {\n        \"dtype\": \"date\",\n        \"min\": \"1974-01-01 00:00:00\",\n        \"max\": \"2073-12-31 00:00:00\",\n        \"num_unique_values\": 5791,\n        \"samples\": [\n          \"1974-03-07 00:00:00\",\n          \"2073-03-31 00:00:00\",\n          \"2071-11-16 00:00:00\"\n        ],\n        \"semantic_type\": \"\",\n        \"description\": \"\"\n      }\n    },\n    {\n      \"column\": \"cars.k\",\n      \"properties\": {\n        \"dtype\": \"number\",\n        \"std\": 10,\n        \"min\": 87,\n        \"max\": 119,\n        \"num_unique_values\": 5,\n        \"samples\": [\n          97,\n          119,\n          102\n        ],\n        \"semantic_type\": \"\",\n        \"description\": \"\"\n      }\n    },\n    {\n      \"column\": \"car.ksi\",\n      \"properties\": {\n        \"dtype\": \"number\",\n        \"std\": 105,\n        \"min\": 1385,\n        \"max\": 1687,\n        \"num_unique_values\": 5,\n        \"samples\": [\n          1508,\n          1632,\n          1507\n        ],\n        \"semantic_type\": \"\",\n        \"description\": \"\"\n      }\n    },\n    {\n      \"column\": \"vandrivers\",\n      \"properties\": {\n        \"dtype\": \"number\",\n        \"std\": 2,\n        \"min\": 6,\n        \"max\": 12,\n        \"num_unique_values\": 4,\n        \"samples\": [\n          6,\n          10,\n          12\n        ],\n        \"semantic_type\": \"\",\n        \"description\": \"\"\n      }\n    },\n    {\n      \"column\": \"car_ksi\",\n      \"properties\": {\n        \"dtype\": \"number\",\n        \"std\": 0.06901909720597627,\n        \"min\": 7.234177179749849,\n        \"max\": 7.431299675155903,\n        \"num_unique_values\": 5,\n        \"samples\": [\n          7.319202458767849,\n          7.398174092970465,\n          7.318539548567902\n        ],\n        \"semantic_type\": \"\",\n        \"description\": \"\"\n      }\n    }\n  ]\n}"
            }
          },
          "metadata": {},
          "execution_count": 6
        }
      ]
    },
    {
      "cell_type": "code",
      "source": [
        "xdat[['car_ksi']].plot(xlabel = '')"
      ],
      "metadata": {
        "execution": {
          "iopub.status.busy": "2022-11-04T20:05:51.779266Z",
          "iopub.execute_input": "2022-11-04T20:05:51.779584Z",
          "iopub.status.idle": "2022-11-04T20:05:52.089244Z",
          "shell.execute_reply.started": "2022-11-04T20:05:51.779555Z",
          "shell.execute_reply": "2022-11-04T20:05:52.088265Z"
        },
        "trusted": true,
        "id": "zR6SYU6t5Fv-",
        "outputId": "829bc1cc-2f39-43d1-b161-3ee75d7e6e4d",
        "colab": {
          "base_uri": "https://localhost:8080/",
          "height": 685
        }
      },
      "execution_count": 7,
      "outputs": [
        {
          "output_type": "execute_result",
          "data": {
            "text/plain": [
              "<Axes: >"
            ]
          },
          "metadata": {},
          "execution_count": 7
        },
        {
          "output_type": "display_data",
          "data": {
            "text/plain": [
              "<Figure size 2000x1000 with 1 Axes>"
            ],
            "image/png": "[encoded data removed]"
          },
          "metadata": {}
        }
      ]
    },
    {
      "cell_type": "markdown",
      "source": [
        "Setup is quite straightforward:"
      ],
      "metadata": {
        "id": "7DGQ0QSB5Fv-"
      }
    },
    {
      "cell_type": "code",
      "source": [
        "pre_period  = [ pd.Timestamp('2069-01-01') , pd.Timestamp('2069-01-05') ]\n",
        "post_period = [ pd.Timestamp('2069-01-06') , pd.Timestamp('2069-01-10') ]\n",
        "\n",
        "ci = CausalImpact(xdat.loc[:,\"car_ksi\"],  pre_period, post_period,\n",
        "                  nseasons=[{'period': 12}], prior_level_sd=0.05)"
      ],
      "metadata": {
        "_kg_hide-output": true,
        "execution": {
          "iopub.status.busy": "2022-11-04T20:05:52.090526Z",
          "iopub.execute_input": "2022-11-04T20:05:52.091283Z",
          "iopub.status.idle": "2022-11-04T20:05:53.371071Z",
          "shell.execute_reply.started": "2022-11-04T20:05:52.091247Z",
          "shell.execute_reply": "2022-11-04T20:05:53.369765Z"
        },
        "trusted": true,
        "id": "rdH5Ko905Fv-",
        "outputId": "4de0fd94-0345-451d-980d-8ea3d9688337",
        "colab": {
          "base_uri": "https://localhost:8080/"
        }
      },
      "execution_count": 8,
      "outputs": [
        {
          "output_type": "stream",
          "name": "stderr",
          "text": [
            "/usr/local/lib/python3.10/dist-packages/statsmodels/tsa/base/tsa_model.py:473: ValueWarning: No frequency information was provided, so inferred frequency D will be used.\n",
            "  self._init_dates(dates, freq)\n",
            "/usr/local/lib/python3.10/dist-packages/statsmodels/base/optimizer.py:18: FutureWarning: Keyword arguments have been passed to the optimizer that have no effect. The list of allowed keyword arguments for method lbfgs is: m, pgtol, factr, maxfun, epsilon, approx_grad, bounds, loglike_and_score, iprint. The list of unsupported keyword arguments passed include: nseasons, prior_level_sd, standardize. After release 0.14, this will raise.\n",
            "  warnings.warn(\n",
            "/usr/local/lib/python3.10/dist-packages/statsmodels/tsa/statespace/representation.py:374: FutureWarning: Unknown keyword arguments: dict_keys(['alpha']).Passing unknown keyword arguments will raise a TypeError beginning in version 0.15.\n",
            "  warnings.warn(msg, FutureWarning)\n"
          ]
        }
      ]
    },
    {
      "cell_type": "code",
      "source": [
        "# print out a summary\n",
        "print(ci.summary())"
      ],
      "metadata": {
        "execution": {
          "iopub.status.busy": "2022-11-04T20:05:53.372196Z",
          "iopub.execute_input": "2022-11-04T20:05:53.372461Z",
          "iopub.status.idle": "2022-11-04T20:05:53.379176Z",
          "shell.execute_reply.started": "2022-11-04T20:05:53.372438Z",
          "shell.execute_reply": "2022-11-04T20:05:53.377948Z"
        },
        "trusted": true,
        "id": "0N-gCc6O5Fv-",
        "outputId": "8cee9603-313f-4b9a-979e-67228ea73e55",
        "colab": {
          "base_uri": "https://localhost:8080/"
        }
      },
      "execution_count": 9,
      "outputs": [
        {
          "output_type": "stream",
          "name": "stdout",
          "text": [
            "Posterior Inference {Causal Impact}\n",
            "                          Average            Cumulative\n",
            "Actual                    7.34               36.7\n",
            "Prediction (s.d.)         7.34 (83.21)       36.68 (416.07)\n",
            "95% CI                    [-153.58, 172.61]  [-767.9, 863.05]\n",
            "\n",
            "Absolute effect (s.d.)    0.0 (83.21)        0.02 (416.07)\n",
            "95% CI                    [-165.27, 160.92]  [-826.35, 804.6]\n",
            "\n",
            "Relative effect (s.d.)    0.05% (1134.25%)   0.05% (1134.25%)\n",
            "95% CI                    [-2252.75%, 2193.45%][-2252.75%, 2193.45%]\n",
            "\n",
            "Posterior tail-area probability p: 0.47\n",
            "Posterior prob. of a causal effect: 52.95%\n",
            "\n",
            "For more details run the command: print(impact.summary('report'))\n"
          ]
        }
      ]
    },
    {
      "cell_type": "code",
      "source": [
        "print(ci.summary('report'))"
      ],
      "metadata": {
        "execution": {
          "iopub.status.busy": "2022-11-04T20:05:53.380554Z",
          "iopub.execute_input": "2022-11-04T20:05:53.381009Z",
          "iopub.status.idle": "2022-11-04T20:05:53.391196Z",
          "shell.execute_reply.started": "2022-11-04T20:05:53.380972Z",
          "shell.execute_reply": "2022-11-04T20:05:53.39017Z"
        },
        "trusted": true,
        "id": "2FuItGfJ5Fv-",
        "outputId": "38f41d1e-102d-49f6-a881-d7e563a36dbb",
        "colab": {
          "base_uri": "https://localhost:8080/"
        }
      },
      "execution_count": 10,
      "outputs": [
        {
          "output_type": "stream",
          "name": "stdout",
          "text": [
            "Analysis report {CausalImpact}\n",
            "\n",
            "\n",
            "During the post-intervention period, the response variable had\n",
            "an average value of approx. 7.34. In the absence of an\n",
            "intervention, we would have expected an average response of 7.34.\n",
            "The 95% interval of this counterfactual prediction is [-153.58, 172.61].\n",
            "Subtracting this prediction from the observed response yields\n",
            "an estimate of the causal effect the intervention had on the\n",
            "response variable. This effect is 0.0 with a 95% interval of\n",
            "[-165.27, 160.92]. For a discussion of the significance of this effect,\n",
            "see below.\n",
            "\n",
            "\n",
            "Summing up the individual data points during the post-intervention\n",
            "period (which can only sometimes be meaningfully interpreted), the\n",
            "response variable had an overall value of 36.7.\n",
            "Had the intervention not taken place, we would have expected\n",
            "a sum of 36.68. The 95% interval of this prediction is [-767.9, 863.05].\n",
            "\n",
            "\n",
            "The above results are given in terms of absolute numbers. In relative\n",
            "terms, the response variable showed an increase of +0.05%. The 95%\n",
            "interval of this percentage is [-2252.75%, 2193.45%].\n",
            "\n",
            "\n",
            "This means that, although the intervention appears to have caused a\n",
            "positive effect, this effect is not statistically significant when\n",
            "considering the entire post-intervention period as a whole. Individual\n",
            "days or shorter stretches within the intervention period may of course\n",
            "still have had a significant effect, as indicated whenever the lower\n",
            "limit of the impact time series (lower plot) was above zero.\n",
            "\n",
            "\n",
            "The apparent effect could be the result of random fluctuations that\n",
            "are unrelated to the intervention. This is often the case when the\n",
            "intervention period is very long and includes much of the time when\n",
            "the effect has already worn off. It can also be the case when the\n",
            "intervention period is too short to distinguish the signal from the\n",
            "noise. Finally, failing to find a significant effect can happen when\n",
            "there are not enough control variables or when these variables do not\n",
            "correlate well with the response variable during the learning period.\n",
            "\n",
            "\n",
            "The probability of obtaining this effect by chance is p = 47.05%.\n",
            "This means the effect may be spurious and would generally not be\n",
            "considered statistically significant.\n"
          ]
        }
      ]
    }
  ]
}