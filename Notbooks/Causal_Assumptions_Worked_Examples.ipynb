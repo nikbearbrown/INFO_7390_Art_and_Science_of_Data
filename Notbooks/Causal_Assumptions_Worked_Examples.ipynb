{
  "nbformat": 4,
  "nbformat_minor": 0,
  "metadata": {
    "colab": {
      "provenance": []
    },
    "kernelspec": {
      "name": "python3",
      "display_name": "Python 3"
    },
    "language_info": {
      "name": "python"
    }
  },
  "cells": [
    {
      "cell_type": "markdown",
      "source": [
        "#Causal Assumptions\n",
        "Authors: Megha Patel\n",
        "![image](https://github.com/meghamkpatel/INFO_7390_Art_and_Science_of_Data/assets/32498703/a129f0ad-2653-42ab-a5fd-e2c26d23b518)"
      ],
      "metadata": {
        "id": "PzQ_s_JIloah"
      }
    },
    {
      "cell_type": "markdown",
      "source": [
        "##Abstract"
      ],
      "metadata": {
        "id": "j3WFNHEPl7Bj"
      }
    },
    {
      "cell_type": "markdown",
      "source": [
        "Let's check for causal assumptions in another context. In this notebook, we will\"Heart Disease UCI\" dataset from Kaggle. This dataset is a well-known dataset commonly used for classification and predictive modeling tasks related to heart disease diagnosis. The dataset is often used for binary classification tasks, where the goal is to predict the presence or absence of heart disease based on the given features. Researchers and machine learning practitioners use this dataset to explore various classification algorithms and assess their performance in predicting heart disease.\n",
        "\n",
        "Reference: https://www.kaggle.com/datasets/mragpavank/heart-diseaseuci\n",
        "\n",
        "![image](https://github.com/nikbearbrown/INFO_7390_Art_and_Science_of_Data/assets/32498703/2b6fa5ca-fe84-4dd9-968b-72c359d331a5)\n",
        "\n",
        "#The Data:\n",
        "\n",
        "* Age: Age of the patient.\n",
        "* Sex: Gender of the patient (0 = female, 1 = male).\n",
        "* CP (Chest Pain Type):\n",
        "  * 0: Typical angina\n",
        "  * 1: Atypical angina\n",
        "  * 2: Non-anginal pain\n",
        "  * 3: Asymptomatic\n",
        "* Trestbps (Resting Blood Pressure): Resting blood pressure in mm Hg.\n",
        "* Chol (Serum Cholesterol): Serum cholesterol in mg/dl.\n",
        "* Fbs (Fasting Blood Sugar):\n",
        "  * 0: Fasting blood sugar < 120 mg/dl\n",
        "  * 1: Fasting blood sugar > 120 mg/dl\n",
        "* Restecg (Resting Electrocardiographic Results):\n",
        "  * 0: Normal\n",
        "  * 1: Having ST-T wave abnormality\n",
        "  * 2: Showing probable or definite left ventricular hypertrophy by Estes' criteria\n",
        "* Thalach (Maximum Heart Rate Achieved): Maximum heart rate achieved during the exercise test.\n",
        "* Exang (Exercise-Induced Angina):\n",
        "  * 0: No\n",
        "  * 1: Yes\n",
        "* Oldpeak (ST Depression Induced by Exercise Relative to Rest): ST depression induced by exercise relative to rest.\n",
        "* Slope (Slope of the Peak Exercise ST Segment):\n",
        "  * 0: Upsloping\n",
        "  * 1: Flat\n",
        "  * 2: Downsloping\n",
        "* Ca (Number of Major Vessels Colored by Fluoroscopy): Number of major vessels colored by fluoroscopy.\n",
        "* Thal (Thalassemia):\n",
        "  * 0: Normal\n",
        "  * 1: Fixed defect\n",
        "  * 2: Reversible defect\n",
        "* Target (Presence of Heart Disease):\n",
        "  * 0: No heart disease\n",
        "  * 1: Presence of heart disease"
      ],
      "metadata": {
        "id": "OrzaH3zVmLki"
      }
    },
    {
      "cell_type": "markdown",
      "source": [
        "##Table of Contents\n",
        "1. [Abstract](https://)\n",
        "2. [Introduction](#scrollTo=4R9sz0yAl8cO)\n",
        "3. [SUTVA](#scrollTo=AdNmw1rVUA3l)\n",
        "4. [Consistency](#scrollTo=bTGTqkBWEYTk)\n",
        "5. [Ignorability](#scrollTo=ToaAXqkgETXQ)\n",
        "6. [Positivity](#scrollTo=PNIv5PHhEgqM)\n",
        "7. [Conclusion](#scrollTo=_rRu313UEpAG)\n",
        "8. [References](https://)\n",
        "9. [License](https://)"
      ],
      "metadata": {
        "id": "ZJ_mopxwmNm4"
      }
    },
    {
      "cell_type": "markdown",
      "source": [
        "#Getting our Data"
      ],
      "metadata": {
        "id": "4R9sz0yAl8cO"
      }
    },
    {
      "cell_type": "markdown",
      "source": [
        "First, let's download our dataset and check for any missing data."
      ],
      "metadata": {
        "id": "xyKCCjPOzj0r"
      }
    },
    {
      "cell_type": "code",
      "source": [
        "!git clone https://github.com/nikbearbrown/INFO_7390_Art_and_Science_of_Data.git"
      ],
      "metadata": {
        "colab": {
          "base_uri": "https://localhost:8080/"
        },
        "id": "z_Q7Ph5OR_Fi",
        "outputId": "25148ca0-dd41-4e47-b7f1-a114a19157df"
      },
      "execution_count": 1,
      "outputs": [
        {
          "output_type": "stream",
          "name": "stdout",
          "text": [
            "Cloning into 'INFO_7390_Art_and_Science_of_Data'...\n",
            "remote: Enumerating objects: 51790, done.\u001b[K\n",
            "remote: Counting objects: 100% (1788/1788), done.\u001b[K\n",
            "remote: Compressing objects: 100% (1044/1044), done.\u001b[K\n",
            "remote: Total 51790 (delta 891), reused 1540 (delta 727), pack-reused 50002\u001b[K\n",
            "Receiving objects: 100% (51790/51790), 682.46 MiB | 27.96 MiB/s, done.\n",
            "Resolving deltas: 100% (893/893), done.\n",
            "Updating files: 100% (50334/50334), done.\n"
          ]
        }
      ]
    },
    {
      "cell_type": "code",
      "source": [
        "import pandas as pd\n",
        "import statsmodels.api as sm\n",
        "data = pd.read_csv(\"/content/INFO_7390_Art_and_Science_of_Data/CSV/heart.csv\")"
      ],
      "metadata": {
        "id": "T4-U9OnlSShj"
      },
      "execution_count": 2,
      "outputs": []
    },
    {
      "cell_type": "code",
      "source": [
        "data.isnull().sum()"
      ],
      "metadata": {
        "colab": {
          "base_uri": "https://localhost:8080/"
        },
        "id": "wRaNvziiYwXr",
        "outputId": "253e3e90-1a4c-4334-b615-36c1d758cdd5"
      },
      "execution_count": 3,
      "outputs": [
        {
          "output_type": "execute_result",
          "data": {
            "text/plain": [
              "age         0\n",
              "sex         0\n",
              "cp          0\n",
              "trestbps    0\n",
              "chol        0\n",
              "fbs         0\n",
              "restecg     0\n",
              "thalach     0\n",
              "exang       0\n",
              "oldpeak     0\n",
              "slope       0\n",
              "ca          0\n",
              "thal        0\n",
              "target      0\n",
              "dtype: int64"
            ]
          },
          "metadata": {},
          "execution_count": 3
        }
      ]
    },
    {
      "cell_type": "code",
      "source": [
        "data.describe()\n"
      ],
      "metadata": {
        "colab": {
          "base_uri": "https://localhost:8080/",
          "height": 300
        },
        "id": "ZOEQE-4-YzEs",
        "outputId": "70908fa0-f4a6-4019-9348-44f0be8c5ccd"
      },
      "execution_count": 4,
      "outputs": [
        {
          "output_type": "execute_result",
          "data": {
            "text/plain": [
              "              age         sex          cp    trestbps        chol         fbs  \\\n",
              "count  303.000000  303.000000  303.000000  303.000000  303.000000  303.000000   \n",
              "mean    54.366337    0.683168    0.966997  131.623762  246.264026    0.148515   \n",
              "std      9.082101    0.466011    1.032052   17.538143   51.830751    0.356198   \n",
              "min     29.000000    0.000000    0.000000   94.000000  126.000000    0.000000   \n",
              "25%     47.500000    0.000000    0.000000  120.000000  211.000000    0.000000   \n",
              "50%     55.000000    1.000000    1.000000  130.000000  240.000000    0.000000   \n",
              "75%     61.000000    1.000000    2.000000  140.000000  274.500000    0.000000   \n",
              "max     77.000000    1.000000    3.000000  200.000000  564.000000    1.000000   \n",
              "\n",
              "          restecg     thalach       exang     oldpeak       slope          ca  \\\n",
              "count  303.000000  303.000000  303.000000  303.000000  303.000000  303.000000   \n",
              "mean     0.528053  149.646865    0.326733    1.039604    1.399340    0.729373   \n",
              "std      0.525860   22.905161    0.469794    1.161075    0.616226    1.022606   \n",
              "min      0.000000   71.000000    0.000000    0.000000    0.000000    0.000000   \n",
              "25%      0.000000  133.500000    0.000000    0.000000    1.000000    0.000000   \n",
              "50%      1.000000  153.000000    0.000000    0.800000    1.000000    0.000000   \n",
              "75%      1.000000  166.000000    1.000000    1.600000    2.000000    1.000000   \n",
              "max      2.000000  202.000000    1.000000    6.200000    2.000000    4.000000   \n",
              "\n",
              "             thal      target  \n",
              "count  303.000000  303.000000  \n",
              "mean     2.313531    0.544554  \n",
              "std      0.612277    0.498835  \n",
              "min      0.000000    0.000000  \n",
              "25%      2.000000    0.000000  \n",
              "50%      2.000000    1.000000  \n",
              "75%      3.000000    1.000000  \n",
              "max      3.000000    1.000000  "
            ],
            "text/html": [
              "\n",
              "  <div id=\"df-55204faf-82a9-4f13-a0e0-5f194657a336\" class=\"colab-df-container\">\n",
              "    <div>\n",
              "<style scoped>\n",
              "    .dataframe tbody tr th:only-of-type {\n",
              "        vertical-align: middle;\n",
              "    }\n",
              "\n",
              "    .dataframe tbody tr th {\n",
              "        vertical-align: top;\n",
              "    }\n",
              "\n",
              "    .dataframe thead th {\n",
              "        text-align: right;\n",
              "    }\n",
              "</style>\n",
              "<table border=\"1\" class=\"dataframe\">\n",
              "  <thead>\n",
              "    <tr style=\"text-align: right;\">\n",
              "      <th></th>\n",
              "      <th>age</th>\n",
              "      <th>sex</th>\n",
              "      <th>cp</th>\n",
              "      <th>trestbps</th>\n",
              "      <th>chol</th>\n",
              "      <th>fbs</th>\n",
              "      <th>restecg</th>\n",
              "      <th>thalach</th>\n",
              "      <th>exang</th>\n",
              "      <th>oldpeak</th>\n",
              "      <th>slope</th>\n",
              "      <th>ca</th>\n",
              "      <th>thal</th>\n",
              "      <th>target</th>\n",
              "    </tr>\n",
              "  </thead>\n",
              "  <tbody>\n",
              "    <tr>\n",
              "      <th>count</th>\n",
              "      <td>303.000000</td>\n",
              "      <td>303.000000</td>\n",
              "      <td>303.000000</td>\n",
              "      <td>303.000000</td>\n",
              "      <td>303.000000</td>\n",
              "      <td>303.000000</td>\n",
              "      <td>303.000000</td>\n",
              "      <td>303.000000</td>\n",
              "      <td>303.000000</td>\n",
              "      <td>303.000000</td>\n",
              "      <td>303.000000</td>\n",
              "      <td>303.000000</td>\n",
              "      <td>303.000000</td>\n",
              "      <td>303.000000</td>\n",
              "    </tr>\n",
              "    <tr>\n",
              "      <th>mean</th>\n",
              "      <td>54.366337</td>\n",
              "      <td>0.683168</td>\n",
              "      <td>0.966997</td>\n",
              "      <td>131.623762</td>\n",
              "      <td>246.264026</td>\n",
              "      <td>0.148515</td>\n",
              "      <td>0.528053</td>\n",
              "      <td>149.646865</td>\n",
              "      <td>0.326733</td>\n",
              "      <td>1.039604</td>\n",
              "      <td>1.399340</td>\n",
              "      <td>0.729373</td>\n",
              "      <td>2.313531</td>\n",
              "      <td>0.544554</td>\n",
              "    </tr>\n",
              "    <tr>\n",
              "      <th>std</th>\n",
              "      <td>9.082101</td>\n",
              "      <td>0.466011</td>\n",
              "      <td>1.032052</td>\n",
              "      <td>17.538143</td>\n",
              "      <td>51.830751</td>\n",
              "      <td>0.356198</td>\n",
              "      <td>0.525860</td>\n",
              "      <td>22.905161</td>\n",
              "      <td>0.469794</td>\n",
              "      <td>1.161075</td>\n",
              "      <td>0.616226</td>\n",
              "      <td>1.022606</td>\n",
              "      <td>0.612277</td>\n",
              "      <td>0.498835</td>\n",
              "    </tr>\n",
              "    <tr>\n",
              "      <th>min</th>\n",
              "      <td>29.000000</td>\n",
              "      <td>0.000000</td>\n",
              "      <td>0.000000</td>\n",
              "      <td>94.000000</td>\n",
              "      <td>126.000000</td>\n",
              "      <td>0.000000</td>\n",
              "      <td>0.000000</td>\n",
              "      <td>71.000000</td>\n",
              "      <td>0.000000</td>\n",
              "      <td>0.000000</td>\n",
              "      <td>0.000000</td>\n",
              "      <td>0.000000</td>\n",
              "      <td>0.000000</td>\n",
              "      <td>0.000000</td>\n",
              "    </tr>\n",
              "    <tr>\n",
              "      <th>25%</th>\n",
              "      <td>47.500000</td>\n",
              "      <td>0.000000</td>\n",
              "      <td>0.000000</td>\n",
              "      <td>120.000000</td>\n",
              "      <td>211.000000</td>\n",
              "      <td>0.000000</td>\n",
              "      <td>0.000000</td>\n",
              "      <td>133.500000</td>\n",
              "      <td>0.000000</td>\n",
              "      <td>0.000000</td>\n",
              "      <td>1.000000</td>\n",
              "      <td>0.000000</td>\n",
              "      <td>2.000000</td>\n",
              "      <td>0.000000</td>\n",
              "    </tr>\n",
              "    <tr>\n",
              "      <th>50%</th>\n",
              "      <td>55.000000</td>\n",
              "      <td>1.000000</td>\n",
              "      <td>1.000000</td>\n",
              "      <td>130.000000</td>\n",
              "      <td>240.000000</td>\n",
              "      <td>0.000000</td>\n",
              "      <td>1.000000</td>\n",
              "      <td>153.000000</td>\n",
              "      <td>0.000000</td>\n",
              "      <td>0.800000</td>\n",
              "      <td>1.000000</td>\n",
              "      <td>0.000000</td>\n",
              "      <td>2.000000</td>\n",
              "      <td>1.000000</td>\n",
              "    </tr>\n",
              "    <tr>\n",
              "      <th>75%</th>\n",
              "      <td>61.000000</td>\n",
              "      <td>1.000000</td>\n",
              "      <td>2.000000</td>\n",
              "      <td>140.000000</td>\n",
              "      <td>274.500000</td>\n",
              "      <td>0.000000</td>\n",
              "      <td>1.000000</td>\n",
              "      <td>166.000000</td>\n",
              "      <td>1.000000</td>\n",
              "      <td>1.600000</td>\n",
              "      <td>2.000000</td>\n",
              "      <td>1.000000</td>\n",
              "      <td>3.000000</td>\n",
              "      <td>1.000000</td>\n",
              "    </tr>\n",
              "    <tr>\n",
              "      <th>max</th>\n",
              "      <td>77.000000</td>\n",
              "      <td>1.000000</td>\n",
              "      <td>3.000000</td>\n",
              "      <td>200.000000</td>\n",
              "      <td>564.000000</td>\n",
              "      <td>1.000000</td>\n",
              "      <td>2.000000</td>\n",
              "      <td>202.000000</td>\n",
              "      <td>1.000000</td>\n",
              "      <td>6.200000</td>\n",
              "      <td>2.000000</td>\n",
              "      <td>4.000000</td>\n",
              "      <td>3.000000</td>\n",
              "      <td>1.000000</td>\n",
              "    </tr>\n",
              "  </tbody>\n",
              "</table>\n",
              "</div>\n",
              "    <div class=\"colab-df-buttons\">\n",
              "\n",
              "  <div class=\"colab-df-container\">\n",
              "    <button class=\"colab-df-convert\" onclick=\"convertToInteractive('df-55204faf-82a9-4f13-a0e0-5f194657a336')\"\n",
              "            title=\"Convert this dataframe to an interactive table.\"\n",
              "            style=\"display:none;\">\n",
              "\n",
              "  <svg xmlns=\"http://www.w3.org/2000/svg\" height=\"24px\" viewBox=\"0 -960 960 960\">\n",
              "    <path d=\"M120-120v-720h720v720H120Zm60-500h600v-160H180v160Zm220 220h160v-160H400v160Zm0 220h160v-160H400v160ZM180-400h160v-160H180v160Zm440 0h160v-160H620v160ZM180-180h160v-160H180v160Zm440 0h160v-160H620v160Z\"/>\n",
              "  </svg>\n",
              "    </button>\n",
              "\n",
              "  <style>\n",
              "    .colab-df-container {\n",
              "      display:flex;\n",
              "      gap: 12px;\n",
              "    }\n",
              "\n",
              "    .colab-df-convert {\n",
              "      background-color: #E8F0FE;\n",
              "      border: none;\n",
              "      border-radius: 50%;\n",
              "      cursor: pointer;\n",
              "      display: none;\n",
              "      fill: #1967D2;\n",
              "      height: 32px;\n",
              "      padding: 0 0 0 0;\n",
              "      width: 32px;\n",
              "    }\n",
              "\n",
              "    .colab-df-convert:hover {\n",
              "      background-color: #E2EBFA;\n",
              "      box-shadow: 0px 1px 2px rgba(60, 64, 67, 0.3), 0px 1px 3px 1px rgba(60, 64, 67, 0.15);\n",
              "      fill: #174EA6;\n",
              "    }\n",
              "\n",
              "    .colab-df-buttons div {\n",
              "      margin-bottom: 4px;\n",
              "    }\n",
              "\n",
              "    [theme=dark] .colab-df-convert {\n",
              "      background-color: #3B4455;\n",
              "      fill: #D2E3FC;\n",
              "    }\n",
              "\n",
              "    [theme=dark] .colab-df-convert:hover {\n",
              "      background-color: #434B5C;\n",
              "      box-shadow: 0px 1px 3px 1px rgba(0, 0, 0, 0.15);\n",
              "      filter: drop-shadow(0px 1px 2px rgba(0, 0, 0, 0.3));\n",
              "      fill: #FFFFFF;\n",
              "    }\n",
              "  </style>\n",
              "\n",
              "    <script>\n",
              "      const buttonEl =\n",
              "        document.querySelector('#df-55204faf-82a9-4f13-a0e0-5f194657a336 button.colab-df-convert');\n",
              "      buttonEl.style.display =\n",
              "        google.colab.kernel.accessAllowed ? 'block' : 'none';\n",
              "\n",
              "      async function convertToInteractive(key) {\n",
              "        const element = document.querySelector('#df-55204faf-82a9-4f13-a0e0-5f194657a336');\n",
              "        const dataTable =\n",
              "          await google.colab.kernel.invokeFunction('convertToInteractive',\n",
              "                                                    [key], {});\n",
              "        if (!dataTable) return;\n",
              "\n",
              "        const docLinkHtml = 'Like what you see? Visit the ' +\n",
              "          '<a target=\"_blank\" href=https://colab.research.google.com/notebooks/data_table.ipynb>data table notebook</a>'\n",
              "          + ' to learn more about interactive tables.';\n",
              "        element.innerHTML = '';\n",
              "        dataTable['output_type'] = 'display_data';\n",
              "        await google.colab.output.renderOutput(dataTable, element);\n",
              "        const docLink = document.createElement('div');\n",
              "        docLink.innerHTML = docLinkHtml;\n",
              "        element.appendChild(docLink);\n",
              "      }\n",
              "    </script>\n",
              "  </div>\n",
              "\n",
              "\n",
              "<div id=\"df-14f031b0-7ecc-44ca-a947-16b7a22a7661\">\n",
              "  <button class=\"colab-df-quickchart\" onclick=\"quickchart('df-14f031b0-7ecc-44ca-a947-16b7a22a7661')\"\n",
              "            title=\"Suggest charts\"\n",
              "            style=\"display:none;\">\n",
              "\n",
              "<svg xmlns=\"http://www.w3.org/2000/svg\" height=\"24px\"viewBox=\"0 0 24 24\"\n",
              "     width=\"24px\">\n",
              "    <g>\n",
              "        <path d=\"M19 3H5c-1.1 0-2 .9-2 2v14c0 1.1.9 2 2 2h14c1.1 0 2-.9 2-2V5c0-1.1-.9-2-2-2zM9 17H7v-7h2v7zm4 0h-2V7h2v10zm4 0h-2v-4h2v4z\"/>\n",
              "    </g>\n",
              "</svg>\n",
              "  </button>\n",
              "\n",
              "<style>\n",
              "  .colab-df-quickchart {\n",
              "      --bg-color: #E8F0FE;\n",
              "      --fill-color: #1967D2;\n",
              "      --hover-bg-color: #E2EBFA;\n",
              "      --hover-fill-color: #174EA6;\n",
              "      --disabled-fill-color: #AAA;\n",
              "      --disabled-bg-color: #DDD;\n",
              "  }\n",
              "\n",
              "  [theme=dark] .colab-df-quickchart {\n",
              "      --bg-color: #3B4455;\n",
              "      --fill-color: #D2E3FC;\n",
              "      --hover-bg-color: #434B5C;\n",
              "      --hover-fill-color: #FFFFFF;\n",
              "      --disabled-bg-color: #3B4455;\n",
              "      --disabled-fill-color: #666;\n",
              "  }\n",
              "\n",
              "  .colab-df-quickchart {\n",
              "    background-color: var(--bg-color);\n",
              "    border: none;\n",
              "    border-radius: 50%;\n",
              "    cursor: pointer;\n",
              "    display: none;\n",
              "    fill: var(--fill-color);\n",
              "    height: 32px;\n",
              "    padding: 0;\n",
              "    width: 32px;\n",
              "  }\n",
              "\n",
              "  .colab-df-quickchart:hover {\n",
              "    background-color: var(--hover-bg-color);\n",
              "    box-shadow: 0 1px 2px rgba(60, 64, 67, 0.3), 0 1px 3px 1px rgba(60, 64, 67, 0.15);\n",
              "    fill: var(--button-hover-fill-color);\n",
              "  }\n",
              "\n",
              "  .colab-df-quickchart-complete:disabled,\n",
              "  .colab-df-quickchart-complete:disabled:hover {\n",
              "    background-color: var(--disabled-bg-color);\n",
              "    fill: var(--disabled-fill-color);\n",
              "    box-shadow: none;\n",
              "  }\n",
              "\n",
              "  .colab-df-spinner {\n",
              "    border: 2px solid var(--fill-color);\n",
              "    border-color: transparent;\n",
              "    border-bottom-color: var(--fill-color);\n",
              "    animation:\n",
              "      spin 1s steps(1) infinite;\n",
              "  }\n",
              "\n",
              "  @keyframes spin {\n",
              "    0% {\n",
              "      border-color: transparent;\n",
              "      border-bottom-color: var(--fill-color);\n",
              "      border-left-color: var(--fill-color);\n",
              "    }\n",
              "    20% {\n",
              "      border-color: transparent;\n",
              "      border-left-color: var(--fill-color);\n",
              "      border-top-color: var(--fill-color);\n",
              "    }\n",
              "    30% {\n",
              "      border-color: transparent;\n",
              "      border-left-color: var(--fill-color);\n",
              "      border-top-color: var(--fill-color);\n",
              "      border-right-color: var(--fill-color);\n",
              "    }\n",
              "    40% {\n",
              "      border-color: transparent;\n",
              "      border-right-color: var(--fill-color);\n",
              "      border-top-color: var(--fill-color);\n",
              "    }\n",
              "    60% {\n",
              "      border-color: transparent;\n",
              "      border-right-color: var(--fill-color);\n",
              "    }\n",
              "    80% {\n",
              "      border-color: transparent;\n",
              "      border-right-color: var(--fill-color);\n",
              "      border-bottom-color: var(--fill-color);\n",
              "    }\n",
              "    90% {\n",
              "      border-color: transparent;\n",
              "      border-bottom-color: var(--fill-color);\n",
              "    }\n",
              "  }\n",
              "</style>\n",
              "\n",
              "  <script>\n",
              "    async function quickchart(key) {\n",
              "      const quickchartButtonEl =\n",
              "        document.querySelector('#' + key + ' button');\n",
              "      quickchartButtonEl.disabled = true;  // To prevent multiple clicks.\n",
              "      quickchartButtonEl.classList.add('colab-df-spinner');\n",
              "      try {\n",
              "        const charts = await google.colab.kernel.invokeFunction(\n",
              "            'suggestCharts', [key], {});\n",
              "      } catch (error) {\n",
              "        console.error('Error during call to suggestCharts:', error);\n",
              "      }\n",
              "      quickchartButtonEl.classList.remove('colab-df-spinner');\n",
              "      quickchartButtonEl.classList.add('colab-df-quickchart-complete');\n",
              "    }\n",
              "    (() => {\n",
              "      let quickchartButtonEl =\n",
              "        document.querySelector('#df-14f031b0-7ecc-44ca-a947-16b7a22a7661 button');\n",
              "      quickchartButtonEl.style.display =\n",
              "        google.colab.kernel.accessAllowed ? 'block' : 'none';\n",
              "    })();\n",
              "  </script>\n",
              "</div>\n",
              "\n",
              "    </div>\n",
              "  </div>\n"
            ]
          },
          "metadata": {},
          "execution_count": 4
        }
      ]
    },
    {
      "cell_type": "markdown",
      "source": [
        "We see that there are no missing data values and the ranges for each value make sense."
      ],
      "metadata": {
        "id": "0W-0ZIxPzrfM"
      }
    },
    {
      "cell_type": "markdown",
      "source": [
        "#SUTVA - Stable Unit Treatment Value Assumption"
      ],
      "metadata": {
        "id": "AdNmw1rVUA3l"
      }
    },
    {
      "cell_type": "markdown",
      "source": [
        "SUTVA assumes that the treatment assignment to one unit does not affect the potential outcomes of other units, and there is no interference or spillover of treatment effects between units.\n",
        "\n",
        "Unit in SUTVA refers to the individual entities or observational units within a study. These units could be individuals, households, organizations, or any entities under observation. Treatment value represents the specific level or condition of the treatment variable applied to a unit. For example, in a randomized experiment, a unit is either assigned to the treatment group or the control group, and the treatment value indicates the specific treatment that a unit receives.\n",
        "\n",
        "In practice, checking SUTVA involves assessing whether the treatment effect in one group is consistent across different levels of treatment assigned to other units.\n",
        "\n",
        "\n",
        "\n",
        "\n",
        "\n"
      ],
      "metadata": {
        "id": "eq2r5LecUEql"
      }
    },
    {
      "cell_type": "markdown",
      "source": [
        "###Example\n",
        "In the context of the Heart Disease UCI dataset, we can use the 'sex' variable as the treatment assignment and 'thalach' (maximum heart rate achieved) as the outcome variable. We'll check for the Stable Unit Treatment Value Assumption (SUTVA) by comparing the treatment effect in the treated group (sex=1) with the control group (sex=0). Here's a code example:"
      ],
      "metadata": {
        "id": "oje5vPKnDLsl"
      }
    },
    {
      "cell_type": "code",
      "source": [
        "# Assuming 'sex' is the treatment variable and 'thalach' is the outcome variable\n",
        "treatment_group_heart = data[data['sex'] == 1]['thalach']\n",
        "control_group_heart = data[data['sex'] == 0]['thalach']\n",
        "\n",
        "# Check for interference by comparing the treatment effect in each group\n",
        "treatment_effect_treated_heart = treatment_group_heart.mean()\n",
        "treatment_effect_control_heart = control_group_heart.mean()\n",
        "\n",
        "print(f\"Treatment Effect in Male Group (sex=1): {treatment_effect_treated_heart}\")\n",
        "print(f\"Treatment Effect in Female Group (sex=0): {treatment_effect_control_heart}\")"
      ],
      "metadata": {
        "id": "tSIZvtjafCEs",
        "colab": {
          "base_uri": "https://localhost:8080/"
        },
        "outputId": "d8bb87b6-71a9-4c2a-9c65-2f2d9621625a"
      },
      "execution_count": 5,
      "outputs": [
        {
          "output_type": "stream",
          "name": "stdout",
          "text": [
            "Treatment Effect in Male Group (sex=1): 148.96135265700482\n",
            "Treatment Effect in Female Group (sex=0): 151.125\n"
          ]
        }
      ]
    },
    {
      "cell_type": "markdown",
      "source": [
        "In this example, we are using linear regression to estimate the treatment effect (impact of being male on maximum heart rate achieved) for the entire dataset. We then compare the predicted treatment effects for the male group and female group. If SUTVA holds, the treatment effect in the male group should not be influenced by the treatment assignment in the female group, and vice versa.\n",
        "\n",
        "We observe a difference of 3 units in the average (or mean) between two groups which suggests that, on average, the members of one group have a higher or lower value than the members of the other group by 3 units. Based on the context of the dataset, we can rule that the difference is substantial and being a female would lead to a higher chance of heart disease."
      ],
      "metadata": {
        "id": "-iJBm4mZVDwn"
      }
    },
    {
      "cell_type": "markdown",
      "source": [
        "#Consistency"
      ],
      "metadata": {
        "id": "bTGTqkBWEYTk"
      }
    },
    {
      "cell_type": "markdown",
      "source": [
        "Consistency in causal inference implies  the stability and reliability of treatment effects across different conditions and populations. In simple terms, consistency ensures that the estimated impact of a treatment is reliable and does not fluctuate when analyzed across different groups or conditions. It emphasizes the uniformity of treatment effects within the studied population. This section will elaborate on the theoretical foundations of consistency, its significance in causal inference, and provide insights practical considerations.\n",
        "\n",
        "Consistency, in the context of causality, refers to the idea that the estimated treatment effect from a study converges to the true treatment effect as the sample size increases. It ensures that, under the same experimental or observational conditions, the estimated effects are reliable and not influenced by random variability.\n",
        "\n",
        "\n"
      ],
      "metadata": {
        "id": "fdtTFd8_mwA-"
      }
    },
    {
      "cell_type": "markdown",
      "source": [
        "###Example\n",
        "For demonstrating consistency using the Medical Cost Personal Dataset, we can use a simple linear regression model to estimate the treatment effect. In this case, let's consider 'smoker' as the binary treatment variable and 'charges' as the continuous outcome variable. The idea is to check if the estimated treatment effect remains consistent across different subgroups.\n",
        "\n"
      ],
      "metadata": {
        "id": "4XFRYk-SyBUM"
      }
    },
    {
      "cell_type": "code",
      "source": [
        "# Assuming 'sex' is the treatment variable and 'thalach' is the outcome variable\n",
        "model_heart = sm.OLS(data['thalach'], sm.add_constant(data['sex'])).fit()\n",
        "\n",
        "# Check consistency across different subgroups (e.g., 'cp', 'restecg')\n",
        "subgroups_heart = ['cp', 'restecg']  # Replace with relevant categorical variables in your dataset\n",
        "\n",
        "for subgroup_var_heart in subgroups_heart:\n",
        "    # Check consistency within each subgroup\n",
        "    for subgroup_value_heart in data[subgroup_var_heart].unique():\n",
        "        subgroup_data_heart = data[data[subgroup_var_heart] == subgroup_value_heart]\n",
        "        subgroup_effect_heart = model_heart.predict(sm.add_constant(subgroup_data_heart['sex'])).mean()\n",
        "\n",
        "        print(f\"Estimated Treatment Effect in {subgroup_var_heart} = {subgroup_value_heart}: {subgroup_effect_heart}\")"
      ],
      "metadata": {
        "colab": {
          "base_uri": "https://localhost:8080/"
        },
        "id": "Hwxa83clzgWF",
        "outputId": "fe9ac3ba-59b9-4f1a-b36e-5d772422360f"
      },
      "execution_count": 6,
      "outputs": [
        {
          "output_type": "stream",
          "name": "stdout",
          "text": [
            "Estimated Treatment Effect in cp = 3: 149.33763915143874\n",
            "Estimated Treatment Effect in cp = 2: 149.8317854961408\n",
            "Estimated Treatment Effect in cp = 1: 149.7402657004831\n",
            "Estimated Treatment Effect in cp = 0: 149.5514382960035\n",
            "Estimated Treatment Effect in restecg = 0: 149.60897499096257\n",
            "Estimated Treatment Effect in restecg = 1: 149.6588442346809\n",
            "Estimated Treatment Effect in restecg = 2: 150.58408816425123\n"
          ]
        }
      ]
    },
    {
      "cell_type": "markdown",
      "source": [
        "We use a linear regression model to estimate the treatment effect (impact of being male on maximum heart rate achieved) for the entire dataset. We then check whether this effect remains consistent across different subgroups defined by categorical variables such as 'cp' and 'restecg'.\n",
        "\n",
        "Consistency is supported if the estimated treatment effects are relatively stable across various subgroups, which in this example indicates that the impact of heart disease is consistent within chest pain and Resting Electrocardiographic Results categories."
      ],
      "metadata": {
        "id": "IWmQ6wMvcQ3F"
      }
    },
    {
      "cell_type": "markdown",
      "source": [
        "#Ignorability"
      ],
      "metadata": {
        "id": "ToaAXqkgETXQ"
      }
    },
    {
      "cell_type": "markdown",
      "source": [
        "Ignorability, also known as the unconfoundedness assumption, is a pivotal concept in causal inference that ensures the validity of estimating causal effects. This section will delve into the theoretical foundations of ignorability, its significance in causal modeling, and practical considerations for adhering to this crucial assumption.\n",
        "\n",
        "The ignorability assumption says that, conditional on observed covariates, the treatment assignment is independent of potential outcomes. In simpler terms, given the available information about the observed variables, there are no unobserved confounders influencing both the treatment assignment and the outcome variable."
      ],
      "metadata": {
        "id": "221SrwMc70oP"
      }
    },
    {
      "cell_type": "markdown",
      "source": [
        "###Example\n",
        "\n",
        "To illustrate ignorability in the context of causal inference using the Heart Disease UCI dataset, let's use the 'sex' variable as the treatment variable, and 'thalach' (maximum heart rate achieved) as the outcome variable. We'll check for ignorability by examining whether the treatment assignment (being male) is independent of potential outcomes after accounting for other observed covariates. The goal is to check if, conditional on the observed covariates, the treatment assignment is independent of potential outcomes."
      ],
      "metadata": {
        "id": "zXaI4U1r77H8"
      }
    },
    {
      "cell_type": "code",
      "source": [
        "import statsmodels.api as sm\n",
        "\n",
        "# Assuming 'sex' is the treatment variable and 'thalach' is the outcome variable\n",
        "treatment_variable_heart = 'sex'\n",
        "outcome_variable_heart = 'thalach'\n",
        "\n",
        "# Select relevant covariates (adjust based on your dataset)\n",
        "covariates_heart = ['age', 'cp', 'trestbps', 'chol', 'fbs', 'restecg', 'exang', 'oldpeak', 'slope', 'ca', 'thal']\n",
        "\n",
        "# Create a design matrix including treatment, outcome, and covariates\n",
        "design_matrix_heart = sm.add_constant(data[[treatment_variable_heart] + [outcome_variable_heart] + covariates_heart])\n",
        "\n",
        "# Fit a regression model\n",
        "model_heart = sm.OLS(design_matrix_heart[outcome_variable_heart], design_matrix_heart[[treatment_variable_heart] + covariates_heart]).fit()\n",
        "\n",
        "# Check for ignorability\n",
        "print(model_heart.summary())\n"
      ],
      "metadata": {
        "colab": {
          "base_uri": "https://localhost:8080/"
        },
        "id": "FyVSElo18Kty",
        "outputId": "ae52999f-7d96-4ddd-ee8e-6b0c247c25de"
      },
      "execution_count": 10,
      "outputs": [
        {
          "output_type": "stream",
          "name": "stdout",
          "text": [
            "                                 OLS Regression Results                                \n",
            "=======================================================================================\n",
            "Dep. Variable:                thalach   R-squared (uncentered):                   0.977\n",
            "Model:                            OLS   Adj. R-squared (uncentered):              0.976\n",
            "Method:                 Least Squares   F-statistic:                              1012.\n",
            "Date:                Wed, 13 Dec 2023   Prob (F-statistic):                   2.75e-229\n",
            "Time:                        22:41:20   Log-Likelihood:                         -1382.0\n",
            "No. Observations:                 303   AIC:                                      2788.\n",
            "Df Residuals:                     291   BIC:                                      2833.\n",
            "Df Model:                          12                                                  \n",
            "Covariance Type:            nonrobust                                                  \n",
            "==============================================================================\n",
            "                 coef    std err          t      P>|t|      [0.025      0.975]\n",
            "------------------------------------------------------------------------------\n",
            "sex            7.9144      3.047      2.597      0.010       1.917      13.912\n",
            "age           -0.1704      0.153     -1.110      0.268      -0.472       0.132\n",
            "cp             4.6806      1.467      3.190      0.002       1.793       7.568\n",
            "trestbps       0.6026      0.070      8.634      0.000       0.465       0.740\n",
            "chol           0.1303      0.027      4.904      0.000       0.078       0.183\n",
            "fbs           -1.2680      3.966     -0.320      0.749      -9.073       6.537\n",
            "restecg        5.2593      2.597      2.025      0.044       0.148      10.371\n",
            "exang        -10.0057      3.326     -3.008      0.003     -16.552      -3.460\n",
            "oldpeak       -0.8417      1.525     -0.552      0.581      -3.843       2.159\n",
            "slope         17.0844      2.634      6.485      0.000      11.900      22.269\n",
            "ca            -3.3479      1.442     -2.322      0.021      -6.185      -0.510\n",
            "thal           7.0727      2.313      3.057      0.002       2.520      11.626\n",
            "==============================================================================\n",
            "Omnibus:                        3.960   Durbin-Watson:                   1.742\n",
            "Prob(Omnibus):                  0.138   Jarque-Bera (JB):                3.643\n",
            "Skew:                          -0.241   Prob(JB):                        0.162\n",
            "Kurtosis:                       3.236   Cond. No.                         854.\n",
            "==============================================================================\n",
            "\n",
            "Notes:\n",
            "[1] R² is computed without centering (uncentered) since the model does not contain a constant.\n",
            "[2] Standard Errors assume that the covariance matrix of the errors is correctly specified.\n"
          ]
        }
      ]
    },
    {
      "cell_type": "markdown",
      "source": [
        "In this example, we include various covariates (such as age, chest pain type, resting blood pressure, etc.) in the regression model to account for potential confounding. The residuals from this model are then regressed against the treatment variable ('sex') to check for ignorability. If the coefficient for 'sex' is not significantly different from zero, it suggests that, conditional on the observed covariates, the treatment assignment is independent of potential outcomes. In this example, the p-value looks close to 0 and the mean does not overlap (0.025 to 0.975). Therefore, we can say that heart disease is conditional to sex."
      ],
      "metadata": {
        "id": "arM935qmhc2T"
      }
    },
    {
      "cell_type": "markdown",
      "source": [
        "#Positivity\n",
        "Positivity, also known as the \"common support\" or \"overlap\" assumption, is a critical concept in causal inference that ensures the existence of a non-zero probability for all units to receive any level of treatment. This section will delve into the theoretical foundations of positivity, its significance in causal modeling, and practical considerations for addressing challenges associated with this assumption. Positivity asserts that, for every possible combination of observed covariates, there exists a non-zero probability of receiving both treatment and control. In simpler terms, it implies that there are no groups or individuals in the population that are completely excluded from the possibility of getting a particular treatment or exposure.\n",
        "\n",
        "\n",
        "\n"
      ],
      "metadata": {
        "id": "PNIv5PHhEgqM"
      }
    },
    {
      "cell_type": "markdown",
      "source": [
        "###Example\n",
        "Consider a study investigating the impact of a new educational program on student performance. Positivity would be satisfied if, for any combination of student characteristics (such as socioeconomic status, learning style, etc.), there is a non-zero probability that the student could be assigned to either the treatment or control group."
      ],
      "metadata": {
        "id": "pIH5k7ZC8Kty"
      }
    },
    {
      "cell_type": "code",
      "source": [
        "import pandas as pd\n",
        "import seaborn as sns\n",
        "import matplotlib.pyplot as plt\n",
        "\n",
        "# Assuming 'sex' is the treatment variable\n",
        "treatment_variable = 'sex'\n",
        "\n",
        "# Check the distribution of the treatment variable\n",
        "sns.countplot(x=treatment_variable, data=data)\n",
        "plt.title(f\"Positivity Check: Distribution of {treatment_variable}\")\n",
        "plt.show()\n"
      ],
      "metadata": {
        "colab": {
          "base_uri": "https://localhost:8080/",
          "height": 472
        },
        "id": "0imSu8S88EMy",
        "outputId": "9a12e2a9-6f6b-4d6f-8aca-6f40dfb9670e"
      },
      "execution_count": 12,
      "outputs": [
        {
          "output_type": "display_data",
          "data": {
            "text/plain": [
              "<Figure size 640x480 with 1 Axes>"
            ],
            "image/png": "[encoded data removed]"
          },
          "metadata": {}
        }
      ]
    },
    {
      "cell_type": "markdown",
      "source": [
        "In this example, we use a countplot to visualize the distribution of the 'sex' variable, which serves as the treatment variable. The plot will show the counts of each category ('0' and '1' for female and male, respectively).\n",
        "Positivity is supported if the plot shows a reasonable distribution of treatment levels across different values of the observed covariate. This ensures that each subgroup has representation across all levels of the treatment variable.\n",
        "Here we see an uneven distribution between male and female so there is an unequal representation of gender."
      ],
      "metadata": {
        "id": "LXzw73FnnEFR"
      }
    },
    {
      "cell_type": "markdown",
      "source": [
        "#Conclusion\n",
        "In conclusion, this paper has undertaken a comprehensive exploration of causality assumptions and their pivotal role in the field of data science through the example of the Heart Disease dataset. Understanding and carefully considering these assumptions are fundamental for researchers seeking to draw meaningful and reliable conclusions about cause-and-effect relationships from observational data. The discussion has highlighted the inherent challenges in establishing causality. The integration of hands-on examples aims to illustrate the complexities of causal inference, fostering a more nuanced and informed approach to drawing causal relationships from observational data."
      ],
      "metadata": {
        "id": "_rRu313UEpAG"
      }
    },
    {
      "cell_type": "markdown",
      "source": [
        "# References\n",
        "\n",
        "1. Sckit learn offcial documentation\n",
        "2. Refered Towards Data Science\n",
        "3. Eli5 official documentation\n",
        "4. https://journals.lww.com/epidem/fulltext/2009/01000/the_consistency_statement_in_causal_inference__a.3.aspx#:~:text=Three%20assumptions%20sufficient%20to%20identify,measurement%20of%20the%20outcome%E2%80%9D).\n",
        "5. https://www.youtube.com/watch?v=wFpUKGNgb0Y\n",
        "6. https://clas.ucdenver.edu/marcelo-perraillon/sites/default/files/attached-files/w2_causal_inference_perraillon.pdf\n",
        "7. https://www.ncbi.nlm.nih.gov/pmc/articles/PMC4912021/#:~:text=The%20consistency%20assumption%20implies%20that,be%20observed%20for%20that%20person.\n",
        "8. https://medium.com/@EpiEllie/positivity-what-it-is-and-why-it-matters-for-data-science-d5e9c0bc1fcb#:~:text=So%2C%20in%20summary%2C%20positivity%20in,study%20or%20our%20target%20pop.\n",
        "\n",
        "The algorithms were referred directly from the **Sckit learn official documentation**. Visualization was referred from the  Machine Learning with scikit-learn Quick Start Guide and **Towards Data Science** (How do you check the quality of your regression model in Python?).  The remaining code was written independently."
      ],
      "metadata": {
        "id": "b-RPobrCTqsp"
      }
    },
    {
      "cell_type": "markdown",
      "source": [
        "#License\n",
        "Copyright (c) 2023 meghamkpatel\n",
        "\n",
        "Permission is hereby granted, free of charge, to any person obtaining a copy of this software and associated documentation files (the \"Software\"), to deal in the Software without restriction, including without limitation the rights to use, copy, modify, merge, publish, distribute, sublicense, and/or sell copies of the Software, and to permit persons to whom the Software is furnished to do so, subject to the following conditions:\n",
        "\n",
        "The above copyright notice and this permission notice shall be included in all copies or substantial portions of the Software.\n",
        "\n",
        "THE SOFTWARE IS PROVIDED \"AS IS\", WITHOUT WARRANTY OF ANY KIND, EXPRESS OR IMPLIED, INCLUDING BUT NOT LIMITED TO THE WARRANTIES OF MERCHANTABILITY, FITNESS FOR A PARTICULAR PURPOSE AND NONINFRINGEMENT. IN NO EVENT SHALL THE AUTHORS OR COPYRIGHT HOLDERS BE LIABLE FOR ANY CLAIM, DAMAGES OR OTHER LIABILITY, WHETHER IN AN ACTION OF CONTRACT, TORT OR OTHERWISE, ARISING FROM, OUT OF OR IN CONNECTION WITH THE SOFTWARE OR THE USE OR OTHER DEALINGS IN THE SOFTWARE.\n",
        "\n"
      ],
      "metadata": {
        "id": "p7sxuJzhEuL9"
      }
    }
  ]
}