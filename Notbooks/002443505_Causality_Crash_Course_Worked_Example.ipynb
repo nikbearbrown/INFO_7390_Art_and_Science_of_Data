{
 "cells": [
  {
   "cell_type": "markdown",
   "id": "71c034ed",
   "metadata": {},
   "source": [
    "# 🎮  **\"Hype vs. Hit: Does Critic Score Drive Global Sales in Video Games?\"**\n"
   ]
  },
  {
   "cell_type": "markdown",
   "id": "2c28dee6",
   "metadata": {},
   "source": [
    "![Video Games](img/vdgames.JPG)\n"
   ]
  },
  {
   "cell_type": "markdown",
   "id": "8bebe7fc",
   "metadata": {},
   "source": [
    "## Abstract\n",
    "\n",
    "In the competitive world of video games, critical reception can make or break a release. But does a high critic score *cause* better sales — or is it just a reflection of other factors like brand popularity, platform reach, or franchise history?\n",
    "\n",
    "In this notebook, we analyze a curated dataset of best-selling video games across multiple platforms to explore the **causal relationship between critic score and global sales**. We ask:\n",
    "\n",
    "> **Does a higher critic score cause a video game to sell more units globally?**\n",
    "\n",
    "To answer this, we follow a structured pipeline of **data preparation**, **feature engineering**, and **exploratory analysis** rooted in causal reasoning. We’ll examine relationships between critic reviews and global sales while considering potential confounders such as genre, platform, and release year.\n",
    "\n",
    "Key data preparation techniques will include:\n",
    "- Handling missing values (e.g., missing critic or user scores)\n",
    "- Creating binned rating groups (e.g., low/medium/high scores)\n",
    "- Encoding categorical variables like genre and platform\n",
    "- Outlier detection in sales\n",
    "\n",
    "By the end of this notebook, you'll gain insight into:\n",
    "- How critic scores align with commercial success\n",
    "- How proper data preprocessing supports causal interpretation\n",
    "- Why correlation isn’t always causation — and how we can get closer to the truth\n",
    "\n",
    "This chapter blends data science, game industry insight, and causal analysis into one power-up-packed exploration."
   ]
  },
  {
   "cell_type": "markdown",
   "id": "82715c5e",
   "metadata": {},
   "source": [
    "## Theory Section: Causality in Machine Learning and the Gaming Industry\n",
    "\n",
    "### What is Causality?\n",
    "\n",
    "Causality is the study of **cause-and-effect** relationships — answering not just *what* is happening, but *why*. Unlike correlation, which only indicates association, causality implies **intervention**: if we were to change a factor, would the outcome also change?\n",
    "\n",
    "In this notebook, we ask:\n",
    "> **Does a higher critic score cause a video game to sell more units globally?**\n",
    "\n",
    "---\n",
    "\n",
    "### Correlation vs. Causation\n",
    "\n",
    "- **Correlation** measures association:  \n",
    "  > \"Games with higher critic scores tend to sell more.\"\n",
    "\n",
    "- **Causation** implies a direct effect:  \n",
    "  > \"Raising a game’s critic score would increase its sales.\"\n",
    "\n",
    "Understanding this distinction is crucial. In real-world data, many variables are **entangled**. For example, a popular franchise might earn great reviews and sell well — not because of the reviews, but because of brand loyalty.\n",
    "\n",
    "---\n",
    "\n",
    "### Core Causal Concepts in This Notebook\n",
    "\n",
    "| Concept             | Our Case Example |\n",
    "|---------------------|------------------|\n",
    "| **Treatment**        | Critic Score (continuous or grouped as high/low) |\n",
    "| **Outcome**          | Global Sales (in millions of units) |\n",
    "| **Confounders**      | Platform, Genre, Publisher, Year of Release |\n",
    "| **Causal Effect**    | The change in global sales caused by a change in critic score |\n",
    "| **Counterfactual**   | What would have happened to a game's sales if its critic score had been different? |\n",
    "\n",
    "---\n",
    "\n",
    "### Why Data Preparation is Critical\n",
    "\n",
    "Before we can explore causal relationships, our data must be clean and well-structured. Key preprocessing steps include:\n",
    "\n",
    "- **Handling Missing Values**: Many entries lack critic or user scores — we’ll need to drop or impute them thoughtfully.\n",
    "- **Feature Engineering**: We'll create simplified versions of our treatment variable (e.g., score bins).\n",
    "- **Encoding Categorical Features**: Platforms, genres, and publishers must be encoded for analysis.\n",
    "- **Outlier Management**: Global sales can be heavily skewed by blockbuster titles (e.g., GTA, Mario), so visual inspection is necessary.\n",
    "\n",
    "Careful preprocessing ensures that our insights reflect **real patterns** and not just data noise.\n",
    "\n",
    "---\n",
    "\n",
    "### Why the Video Game Industry is a Good Causal Use Case\n",
    "\n",
    "This dataset offers a rare combination of:\n",
    "- Clear **treatment** (critic score)\n",
    "- Measurable **outcome** (sales)\n",
    "- Rich contextual **confounders** (platform, genre, publisher)\n",
    "\n",
    "This makes it ideal for applying causal reasoning to a commercial real-world setting.\n",
    "\n",
    "---\n",
    "\n",
    "### A Note on Propensity Scores\n",
    "\n",
    "In more advanced causal inference workflows, we can use **propensity scores** to reduce bias from confounding variables.\n",
    "\n",
    "A **propensity score** is the probability that a game receives a high critic score, given its other characteristics (e.g., genre, platform, release year).\n",
    "\n",
    "This score can be used to:\n",
    "- **Match** games with similar characteristics across score levels\n",
    "- **Balance** treated and untreated groups\n",
    "- **Simulate** the conditions of a randomized experiment\n",
    "\n",
    "We won’t implement propensity score matching in this notebook, but it's a valuable tool for future work — especially when working with **observational data** like this.\n",
    "\n",
    "---\n",
    "\n",
    "In the next section, we’ll begin loading the dataset and preparing the features needed to explore the causal relationship between critic reviews and global game sales.\n"
   ]
  },
  {
   "cell_type": "markdown",
   "id": "4d6bbf6d",
   "metadata": {},
   "source": [
    "## Data Preparation"
   ]
  },
  {
   "cell_type": "markdown",
   "id": "21947789",
   "metadata": {},
   "source": [
    "### Step 1: Import libraries\n",
    "\n",
    "We load the core data science libraries — `pandas` for data handling, `numpy` for numerical operations, and `matplotlib`/`seaborn` for visualizations.\n"
   ]
  },
  {
   "cell_type": "code",
   "execution_count": 1,
   "id": "c0b14b88",
   "metadata": {},
   "outputs": [],
   "source": [
    "# Step 1: Import libraries\n",
    "import pandas as pd\n",
    "import numpy as np\n",
    "import matplotlib.pyplot as plt\n",
    "import seaborn as sns\n",
    "\n",
    "# Setup\n",
    "sns.set(style=\"whitegrid\")\n",
    "pd.set_option('display.max_columns', None)\n"
   ]
  },
  {
   "cell_type": "markdown",
   "id": "89b3aed3",
   "metadata": {},
   "source": [
    "### Step 2: Load the dataset\n",
    "\n",
    "We load the video game dataset, which includes game names, platforms, genres, critic scores, user scores, and global sales — all of which will be used in our causal exploration.\n"
   ]
  },
  {
   "cell_type": "code",
   "execution_count": 3,
   "id": "441cba5b",
   "metadata": {},
   "outputs": [
    {
     "data": {
      "text/html": [
       "<div>\n",
       "<style scoped>\n",
       "    .dataframe tbody tr th:only-of-type {\n",
       "        vertical-align: middle;\n",
       "    }\n",
       "\n",
       "    .dataframe tbody tr th {\n",
       "        vertical-align: top;\n",
       "    }\n",
       "\n",
       "    .dataframe thead th {\n",
       "        text-align: right;\n",
       "    }\n",
       "</style>\n",
       "<table border=\"1\" class=\"dataframe\">\n",
       "  <thead>\n",
       "    <tr style=\"text-align: right;\">\n",
       "      <th></th>\n",
       "      <th>Name</th>\n",
       "      <th>Platform</th>\n",
       "      <th>Year_of_Release</th>\n",
       "      <th>Genre</th>\n",
       "      <th>Publisher</th>\n",
       "      <th>NA_Sales</th>\n",
       "      <th>EU_Sales</th>\n",
       "      <th>JP_Sales</th>\n",
       "      <th>Other_Sales</th>\n",
       "      <th>Global_Sales</th>\n",
       "      <th>Critic_Score</th>\n",
       "      <th>Critic_Count</th>\n",
       "      <th>User_Score</th>\n",
       "      <th>User_Count</th>\n",
       "      <th>Developer</th>\n",
       "      <th>Rating</th>\n",
       "    </tr>\n",
       "  </thead>\n",
       "  <tbody>\n",
       "    <tr>\n",
       "      <th>0</th>\n",
       "      <td>Wii Sports</td>\n",
       "      <td>Wii</td>\n",
       "      <td>2006.0</td>\n",
       "      <td>Sports</td>\n",
       "      <td>Nintendo</td>\n",
       "      <td>41.36</td>\n",
       "      <td>28.96</td>\n",
       "      <td>3.77</td>\n",
       "      <td>8.45</td>\n",
       "      <td>82.53</td>\n",
       "      <td>76.0</td>\n",
       "      <td>51.0</td>\n",
       "      <td>8</td>\n",
       "      <td>322.0</td>\n",
       "      <td>Nintendo</td>\n",
       "      <td>E</td>\n",
       "    </tr>\n",
       "    <tr>\n",
       "      <th>1</th>\n",
       "      <td>Super Mario Bros.</td>\n",
       "      <td>NES</td>\n",
       "      <td>1985.0</td>\n",
       "      <td>Platform</td>\n",
       "      <td>Nintendo</td>\n",
       "      <td>29.08</td>\n",
       "      <td>3.58</td>\n",
       "      <td>6.81</td>\n",
       "      <td>0.77</td>\n",
       "      <td>40.24</td>\n",
       "      <td>NaN</td>\n",
       "      <td>NaN</td>\n",
       "      <td>NaN</td>\n",
       "      <td>NaN</td>\n",
       "      <td>NaN</td>\n",
       "      <td>NaN</td>\n",
       "    </tr>\n",
       "    <tr>\n",
       "      <th>2</th>\n",
       "      <td>Mario Kart Wii</td>\n",
       "      <td>Wii</td>\n",
       "      <td>2008.0</td>\n",
       "      <td>Racing</td>\n",
       "      <td>Nintendo</td>\n",
       "      <td>15.68</td>\n",
       "      <td>12.76</td>\n",
       "      <td>3.79</td>\n",
       "      <td>3.29</td>\n",
       "      <td>35.52</td>\n",
       "      <td>82.0</td>\n",
       "      <td>73.0</td>\n",
       "      <td>8.3</td>\n",
       "      <td>709.0</td>\n",
       "      <td>Nintendo</td>\n",
       "      <td>E</td>\n",
       "    </tr>\n",
       "    <tr>\n",
       "      <th>3</th>\n",
       "      <td>Wii Sports Resort</td>\n",
       "      <td>Wii</td>\n",
       "      <td>2009.0</td>\n",
       "      <td>Sports</td>\n",
       "      <td>Nintendo</td>\n",
       "      <td>15.61</td>\n",
       "      <td>10.93</td>\n",
       "      <td>3.28</td>\n",
       "      <td>2.95</td>\n",
       "      <td>32.77</td>\n",
       "      <td>80.0</td>\n",
       "      <td>73.0</td>\n",
       "      <td>8</td>\n",
       "      <td>192.0</td>\n",
       "      <td>Nintendo</td>\n",
       "      <td>E</td>\n",
       "    </tr>\n",
       "    <tr>\n",
       "      <th>4</th>\n",
       "      <td>Pokemon Red/Pokemon Blue</td>\n",
       "      <td>GB</td>\n",
       "      <td>1996.0</td>\n",
       "      <td>Role-Playing</td>\n",
       "      <td>Nintendo</td>\n",
       "      <td>11.27</td>\n",
       "      <td>8.89</td>\n",
       "      <td>10.22</td>\n",
       "      <td>1.00</td>\n",
       "      <td>31.37</td>\n",
       "      <td>NaN</td>\n",
       "      <td>NaN</td>\n",
       "      <td>NaN</td>\n",
       "      <td>NaN</td>\n",
       "      <td>NaN</td>\n",
       "      <td>NaN</td>\n",
       "    </tr>\n",
       "  </tbody>\n",
       "</table>\n",
       "</div>"
      ],
      "text/plain": [
       "                       Name Platform  Year_of_Release         Genre Publisher  \\\n",
       "0                Wii Sports      Wii           2006.0        Sports  Nintendo   \n",
       "1         Super Mario Bros.      NES           1985.0      Platform  Nintendo   \n",
       "2            Mario Kart Wii      Wii           2008.0        Racing  Nintendo   \n",
       "3         Wii Sports Resort      Wii           2009.0        Sports  Nintendo   \n",
       "4  Pokemon Red/Pokemon Blue       GB           1996.0  Role-Playing  Nintendo   \n",
       "\n",
       "   NA_Sales  EU_Sales  JP_Sales  Other_Sales  Global_Sales  Critic_Score  \\\n",
       "0     41.36     28.96      3.77         8.45         82.53          76.0   \n",
       "1     29.08      3.58      6.81         0.77         40.24           NaN   \n",
       "2     15.68     12.76      3.79         3.29         35.52          82.0   \n",
       "3     15.61     10.93      3.28         2.95         32.77          80.0   \n",
       "4     11.27      8.89     10.22         1.00         31.37           NaN   \n",
       "\n",
       "   Critic_Count User_Score  User_Count Developer Rating  \n",
       "0          51.0          8       322.0  Nintendo      E  \n",
       "1           NaN        NaN         NaN       NaN    NaN  \n",
       "2          73.0        8.3       709.0  Nintendo      E  \n",
       "3          73.0          8       192.0  Nintendo      E  \n",
       "4           NaN        NaN         NaN       NaN    NaN  "
      ]
     },
     "execution_count": 3,
     "metadata": {},
     "output_type": "execute_result"
    }
   ],
   "source": [
    "# Step 2: Load the video game sales dataset\n",
    "df = pd.read_csv(\"data/games_sales.csv\")  # Adjust the path to your actual CSV file\n",
    "df.head()\n"
   ]
  },
  {
   "cell_type": "markdown",
   "id": "7143445c",
   "metadata": {},
   "source": [
    "### Step 3: Check for missing data\n",
    "\n",
    "We identify columns with missing values. Missing critic scores, user scores, or sales numbers can distort causal analysis, so we'll handle them carefully in the next step.\n"
   ]
  },
  {
   "cell_type": "code",
   "execution_count": 4,
   "id": "c29fe093",
   "metadata": {},
   "outputs": [
    {
     "data": {
      "text/plain": [
       "Name                  2\n",
       "Platform              0\n",
       "Year_of_Release     269\n",
       "Genre                 2\n",
       "Publisher            54\n",
       "NA_Sales              0\n",
       "EU_Sales              0\n",
       "JP_Sales              0\n",
       "Other_Sales           0\n",
       "Global_Sales          0\n",
       "Critic_Score       8582\n",
       "Critic_Count       8582\n",
       "User_Score         6704\n",
       "User_Count         9129\n",
       "Developer          6623\n",
       "Rating             6769\n",
       "dtype: int64"
      ]
     },
     "execution_count": 4,
     "metadata": {},
     "output_type": "execute_result"
    }
   ],
   "source": [
    "# Step 3: Check for missing values\n",
    "df.isnull().sum()\n"
   ]
  },
  {
   "cell_type": "markdown",
   "id": "09e811a1",
   "metadata": {},
   "source": [
    "### Step 4: Drop missing values\n",
    "\n",
    "We remove rows where critic scores or global sales are missing. We also convert `User_Score` to numeric and optionally drop rows where it's missing. This ensures we only use complete, usable records for causal analysis.\n"
   ]
  },
  {
   "cell_type": "code",
   "execution_count": 5,
   "id": "7526885d",
   "metadata": {},
   "outputs": [],
   "source": [
    "# Step 4: Drop rows with missing critical data\n",
    "df = df.dropna(subset=[\"Critic_Score\", \"Global_Sales\"])\n",
    "\n",
    "# Convert user score to numeric (if it's stored as string)\n",
    "df['User_Score'] = pd.to_numeric(df['User_Score'], errors='coerce')\n",
    "\n",
    "# Drop rows with missing user scores as well (optional)\n",
    "df = df.dropna(subset=[\"User_Score\"])\n"
   ]
  },
  {
   "cell_type": "markdown",
   "id": "3404fe04",
   "metadata": {},
   "source": [
    "### Step 5: Create treatment variable – `High_Critic_Score`\n",
    "\n",
    "We convert the continuous `Critic_Score` into a binary treatment variable:\n",
    "- `1` for games with a score **80 or above** (generally favorable)\n",
    "- `0` for others\n",
    "\n",
    "This simplifies our analysis and helps in comparing high-rated games with others.\n"
   ]
  },
  {
   "cell_type": "code",
   "execution_count": 6,
   "id": "ea93420d",
   "metadata": {},
   "outputs": [
    {
     "data": {
      "text/html": [
       "<div>\n",
       "<style scoped>\n",
       "    .dataframe tbody tr th:only-of-type {\n",
       "        vertical-align: middle;\n",
       "    }\n",
       "\n",
       "    .dataframe tbody tr th {\n",
       "        vertical-align: top;\n",
       "    }\n",
       "\n",
       "    .dataframe thead th {\n",
       "        text-align: right;\n",
       "    }\n",
       "</style>\n",
       "<table border=\"1\" class=\"dataframe\">\n",
       "  <thead>\n",
       "    <tr style=\"text-align: right;\">\n",
       "      <th></th>\n",
       "      <th>Critic_Score</th>\n",
       "      <th>High_Critic_Score</th>\n",
       "    </tr>\n",
       "  </thead>\n",
       "  <tbody>\n",
       "    <tr>\n",
       "      <th>10272</th>\n",
       "      <td>45.0</td>\n",
       "      <td>0</td>\n",
       "    </tr>\n",
       "    <tr>\n",
       "      <th>1785</th>\n",
       "      <td>65.0</td>\n",
       "      <td>0</td>\n",
       "    </tr>\n",
       "    <tr>\n",
       "      <th>15156</th>\n",
       "      <td>45.0</td>\n",
       "      <td>0</td>\n",
       "    </tr>\n",
       "    <tr>\n",
       "      <th>1005</th>\n",
       "      <td>80.0</td>\n",
       "      <td>1</td>\n",
       "    </tr>\n",
       "    <tr>\n",
       "      <th>1481</th>\n",
       "      <td>91.0</td>\n",
       "      <td>1</td>\n",
       "    </tr>\n",
       "  </tbody>\n",
       "</table>\n",
       "</div>"
      ],
      "text/plain": [
       "       Critic_Score  High_Critic_Score\n",
       "10272          45.0                  0\n",
       "1785           65.0                  0\n",
       "15156          45.0                  0\n",
       "1005           80.0                  1\n",
       "1481           91.0                  1"
      ]
     },
     "execution_count": 6,
     "metadata": {},
     "output_type": "execute_result"
    }
   ],
   "source": [
    "# Step 5: Create a binary treatment variable - High Critic Score\n",
    "df[\"High_Critic_Score\"] = df[\"Critic_Score\"].apply(lambda x: 1 if x >= 80 else 0)\n",
    "df[[\"Critic_Score\", \"High_Critic_Score\"]].sample(5)\n"
   ]
  },
  {
   "cell_type": "markdown",
   "id": "56a5f73c",
   "metadata": {},
   "source": [
    "### 📊 Step 6: Inspect global sales distribution\n",
    "\n",
    "Video game sales are heavily skewed — a few blockbuster titles sell tens of millions, while most sell far less. Understanding this helps us choose appropriate visualizations and summary metrics in the next section.\n"
   ]
  },
  {
   "cell_type": "code",
   "execution_count": 7,
   "id": "63d16959",
   "metadata": {},
   "outputs": [
    {
     "data": {
      "image/png": "[encoded data removed]",
      "text/plain": [
       "<Figure size 1000x500 with 1 Axes>"
      ]
     },
     "metadata": {},
     "output_type": "display_data"
    }
   ],
   "source": [
    "# Step 6: Quick sanity check on global sales distribution\n",
    "plt.figure(figsize=(10, 5))\n",
    "sns.histplot(df[\"Global_Sales\"], bins=50, kde=True, color='purple')\n",
    "plt.title(\"Distribution of Global Sales\")\n",
    "plt.xlabel(\"Global Sales (millions)\")\n",
    "plt.ylabel(\"Number of Games\")\n",
    "plt.show()\n"
   ]
  },
  {
   "cell_type": "markdown",
   "id": "06bb3f6b",
   "metadata": {},
   "source": [
    "## Explaratory Data Analysis"
   ]
  },
  {
   "cell_type": "markdown",
   "id": "650be2ca",
   "metadata": {},
   "source": [
    "### Step 1: Global Sales by Critic Score Group\n",
    "\n",
    "This boxplot compares the distribution of global sales for games with:\n",
    "- **High Critic Scores (≥ 80)** vs. **Lower Scores (< 80)**\n",
    "\n",
    "If higher critic scores lead to better sales, we expect the median and upper range of sales to be noticeably higher in the high-score group.\n"
   ]
  },
  {
   "cell_type": "code",
   "execution_count": 8,
   "id": "15b136dc",
   "metadata": {},
   "outputs": [
    {
     "data": {
      "image/png": "[encoded data removed]",
      "text/plain": [
       "<Figure size 800x600 with 1 Axes>"
      ]
     },
     "metadata": {},
     "output_type": "display_data"
    }
   ],
   "source": [
    "# Step 1: Boxplot – Global Sales vs. High Critic Score\n",
    "plt.figure(figsize=(8, 6))\n",
    "sns.boxplot(data=df, x=\"High_Critic_Score\", y=\"Global_Sales\", palette=\"Set2\")\n",
    "plt.xticks([0, 1], [\"Score < 80\", \"Score ≥ 80\"])\n",
    "plt.title(\"Global Sales by Critic Score Group\")\n",
    "plt.xlabel(\"Critic Score Group\")\n",
    "plt.ylabel(\"Global Sales (millions)\")\n",
    "plt.show()\n"
   ]
  },
  {
   "cell_type": "markdown",
   "id": "4a5b3ab5",
   "metadata": {},
   "source": [
    "### Step 2: Summary Stats by Critic Score Group\n",
    "\n",
    "We calculate:\n",
    "- **Mean** and **Median** global sales\n",
    "- **Count** of games in each group\n",
    "\n",
    "This helps quantify the differences between the two groups, showing whether higher review scores are **associated** with stronger commercial performance.\n"
   ]
  },
  {
   "cell_type": "code",
   "execution_count": 9,
   "id": "d58280ee",
   "metadata": {},
   "outputs": [
    {
     "data": {
      "text/html": [
       "<div>\n",
       "<style scoped>\n",
       "    .dataframe tbody tr th:only-of-type {\n",
       "        vertical-align: middle;\n",
       "    }\n",
       "\n",
       "    .dataframe tbody tr th {\n",
       "        vertical-align: top;\n",
       "    }\n",
       "\n",
       "    .dataframe thead th {\n",
       "        text-align: right;\n",
       "    }\n",
       "</style>\n",
       "<table border=\"1\" class=\"dataframe\">\n",
       "  <thead>\n",
       "    <tr style=\"text-align: right;\">\n",
       "      <th></th>\n",
       "      <th>mean</th>\n",
       "      <th>median</th>\n",
       "      <th>count</th>\n",
       "    </tr>\n",
       "    <tr>\n",
       "      <th>High_Critic_Score</th>\n",
       "      <th></th>\n",
       "      <th></th>\n",
       "      <th></th>\n",
       "    </tr>\n",
       "  </thead>\n",
       "  <tbody>\n",
       "    <tr>\n",
       "      <th>0</th>\n",
       "      <td>0.477574</td>\n",
       "      <td>0.22</td>\n",
       "      <td>5042</td>\n",
       "    </tr>\n",
       "    <tr>\n",
       "      <th>1</th>\n",
       "      <td>1.506051</td>\n",
       "      <td>0.69</td>\n",
       "      <td>1975</td>\n",
       "    </tr>\n",
       "  </tbody>\n",
       "</table>\n",
       "</div>"
      ],
      "text/plain": [
       "                       mean  median  count\n",
       "High_Critic_Score                         \n",
       "0                  0.477574    0.22   5042\n",
       "1                  1.506051    0.69   1975"
      ]
     },
     "execution_count": 9,
     "metadata": {},
     "output_type": "execute_result"
    }
   ],
   "source": [
    "# Step 2: Mean and median sales by critic score group\n",
    "grouped_sales = df.groupby(\"High_Critic_Score\")[\"Global_Sales\"].agg([\"mean\", \"median\", \"count\"])\n",
    "grouped_sales\n"
   ]
  },
  {
   "cell_type": "markdown",
   "id": "51cccfe3",
   "metadata": {},
   "source": [
    "### 📈 Step 3: Critic Score vs. Global Sales (Scatterplot)\n",
    "\n",
    "This scatterplot shows the continuous relationship between critic score and global sales. While the trend might not be perfectly linear, any upward slope suggests a positive relationship.\n",
    "\n",
    "We also look for **clusters** or **outliers** (e.g., games with low scores and high sales due to brand/franchise).\n"
   ]
  },
  {
   "cell_type": "code",
   "execution_count": 10,
   "id": "6d69f7f7",
   "metadata": {},
   "outputs": [
    {
     "data": {
      "image/png": "[encoded data removed]",
      "text/plain": [
       "<Figure size 1000x600 with 1 Axes>"
      ]
     },
     "metadata": {},
     "output_type": "display_data"
    }
   ],
   "source": [
    "# Step 3: Critic Score vs. Global Sales Scatterplot\n",
    "plt.figure(figsize=(10, 6))\n",
    "sns.scatterplot(data=df, x=\"Critic_Score\", y=\"Global_Sales\", alpha=0.6)\n",
    "plt.title(\"Critic Score vs. Global Sales\")\n",
    "plt.xlabel(\"Critic Score\")\n",
    "plt.ylabel(\"Global Sales (millions)\")\n",
    "plt.show()\n"
   ]
  },
  {
   "cell_type": "markdown",
   "id": "f8984582",
   "metadata": {},
   "source": [
    "### 🔗 Step 4: Correlation Check\n",
    "\n",
    "We inspect how strongly `Critic_Score`, `User_Score`, and `Global_Sales` are correlated with each other. This helps us understand how aligned user and critic opinions are — and whether either correlates with actual sales.\n"
   ]
  },
  {
   "cell_type": "code",
   "execution_count": 12,
   "id": "70fa3308",
   "metadata": {},
   "outputs": [
    {
     "data": {
      "text/html": [
       "<div>\n",
       "<style scoped>\n",
       "    .dataframe tbody tr th:only-of-type {\n",
       "        vertical-align: middle;\n",
       "    }\n",
       "\n",
       "    .dataframe tbody tr th {\n",
       "        vertical-align: top;\n",
       "    }\n",
       "\n",
       "    .dataframe thead th {\n",
       "        text-align: right;\n",
       "    }\n",
       "</style>\n",
       "<table border=\"1\" class=\"dataframe\">\n",
       "  <thead>\n",
       "    <tr style=\"text-align: right;\">\n",
       "      <th></th>\n",
       "      <th>Critic_Score</th>\n",
       "      <th>User_Score</th>\n",
       "      <th>Global_Sales</th>\n",
       "    </tr>\n",
       "  </thead>\n",
       "  <tbody>\n",
       "    <tr>\n",
       "      <th>Critic_Score</th>\n",
       "      <td>1.000000</td>\n",
       "      <td>0.580878</td>\n",
       "      <td>0.236953</td>\n",
       "    </tr>\n",
       "    <tr>\n",
       "      <th>User_Score</th>\n",
       "      <td>0.580878</td>\n",
       "      <td>1.000000</td>\n",
       "      <td>0.088583</td>\n",
       "    </tr>\n",
       "    <tr>\n",
       "      <th>Global_Sales</th>\n",
       "      <td>0.236953</td>\n",
       "      <td>0.088583</td>\n",
       "      <td>1.000000</td>\n",
       "    </tr>\n",
       "  </tbody>\n",
       "</table>\n",
       "</div>"
      ],
      "text/plain": [
       "              Critic_Score  User_Score  Global_Sales\n",
       "Critic_Score      1.000000    0.580878      0.236953\n",
       "User_Score        0.580878    1.000000      0.088583\n",
       "Global_Sales      0.236953    0.088583      1.000000"
      ]
     },
     "execution_count": 12,
     "metadata": {},
     "output_type": "execute_result"
    }
   ],
   "source": [
    "# Step 4: Correlation matrix (optional but insightful)\n",
    "correlation_matrix = df[[\"Critic_Score\", \"User_Score\", \"Global_Sales\"]].corr()\n",
    "correlation_matrix\n"
   ]
  },
  {
   "cell_type": "code",
   "execution_count": null,
   "id": "62e80aae",
   "metadata": {},
   "outputs": [],
   "source": []
  },
  {
   "cell_type": "markdown",
   "id": "bd88bd86",
   "metadata": {},
   "source": [
    "## 📈 Causal Analysis & Insights\n",
    "\n",
    "### 🎮 Research Question Recap:\n",
    "> **Does a higher critic score cause a video game to sell more globally?**\n",
    "\n",
    "We’ve now explored the cleaned data through grouping, visualizations, and summary statistics. Here's what the analysis reveals:\n",
    "\n",
    "---\n",
    "\n",
    "### 🔍 Key Observations\n",
    "\n",
    "1. **Sales Difference by Score Group**  \n",
    "   - **High Critic Score (≥ 80)** games have:\n",
    "     - Mean global sales: **1.51 million**\n",
    "     - Median global sales: **0.69 million**\n",
    "   - **Lower Score** games have:\n",
    "     - Mean global sales: **0.48 million**\n",
    "     - Median: **0.22 million**\n",
    "\n",
    "   This is a **notable uplift** in both mean and median sales for higher-rated games.\n",
    "\n",
    "2. **Boxplot Comparison**  \n",
    "   The boxplot shows:\n",
    "   - **Higher sales distribution** among high-score games\n",
    "   - More **sales outliers** (blockbusters) in that group\n",
    "   - But also significant overlap — not all high-score games sell well\n",
    "\n",
    "3. **Scatterplot Trend**  \n",
    "   The scatterplot of **Critic Score vs. Global Sales** shows:\n",
    "   - A *positive trend* — higher scores *tend* to be associated with higher sales\n",
    "   - A **widening spread** in scores >80, indicating that some highly-rated games still underperform\n",
    "\n",
    "4. **Correlation Matrix**\n",
    "   - `Critic_Score` and `Global_Sales`: **0.24** → weak but positive correlation\n",
    "   - `User_Score` is even weaker (**0.09**), showing less predictive power for commercial success\n",
    "\n",
    "---\n",
    "\n",
    "### Causal Interpretation\n",
    "\n",
    "At first glance, it seems that **high critic scores are associated with higher global sales**. However, this relationship may not be **causal** — and here’s why:\n",
    "\n",
    "#### Potential Confounders:\n",
    "- **Platform popularity** (e.g., Nintendo, PS2) could affect both critic perception *and* sales\n",
    "- **Genre trends** (e.g., action games or family-friendly titles tend to perform better)\n",
    "- **Brand strength** (franchises like Pokémon or GTA) may influence both critic reviews and consumer demand\n",
    "- **Release year** (market saturation, digital vs. physical sales) also plays a role\n",
    "\n",
    "Without adjusting for these confounders, we cannot confidently say that improving a game’s critic score *causes* better sales.\n",
    "\n",
    "---\n",
    "\n",
    "### What Would Strengthen the Causal Claim?\n",
    "\n",
    "To move beyond correlation, we could:\n",
    "- Use **Propensity Score Matching** to compare similar games with different scores\n",
    "- Perform **regression modeling** controlling for platform, genre, year, etc.\n",
    "- Investigate **natural experiments**, like games with identical design across platforms but different scores\n",
    "\n",
    "---\n",
    "\n",
    "### Key Takeaway:\n",
    "\n",
    "> **High critic scores are linked to better global sales**, but this relationship is likely influenced by hidden variables such as platform, publisher reputation, and game genre.\n",
    "\n",
    "This case study highlights the power of **data preparation** and **causal thinking** — and why critical evaluation of real-world data is so important when making decisions in business, product development, and marketing.\n"
   ]
  },
  {
   "cell_type": "markdown",
   "id": "de068c61",
   "metadata": {},
   "source": [
    "## Conclusion\n",
    "\n",
    "In this notebook, we explored the causal question:\n",
    "\n",
    "> **Does a higher critic score cause more global video game sales?**\n",
    "\n",
    "Through structured data cleaning, feature engineering, and exploratory data analysis, we found that:\n",
    "- Games with high critic scores (≥ 80) **tend to sell more globally**.\n",
    "- On average, high-rated games sold over **3× more** than lower-rated ones.\n",
    "- Visuals showed a positive trend, but also highlighted **significant variation** — not all highly-rated games succeed commercially.\n",
    "\n",
    "However, we also emphasized that **correlation is not causation**:\n",
    "- The relationship could be **confounded** by platform, publisher, genre, and franchise strength.\n",
    "- True causal analysis would require additional modeling (e.g., regression, matching) or experimental design.\n",
    "\n",
    "This case demonstrates how **causal thinking and careful data preparation** are essential in evaluating the real-world impact of variables — whether in game development, marketing, or machine learning pipelines.\n",
    "\n",
    "---\n",
    "\n",
    "## References\n",
    "\n",
    "- Kaggle Dataset: [Video Game Sales with Ratings](https://www.kaggle.com/datasets/rush4ratio/video-game-sales-with-ratings)\n",
    "- Pearl, Judea. *The Book of Why: The New Science of Cause and Effect*. Basic Books, 2018.\n",
    "- Hernán, M.A., & Robins, J.M. (2020). *Causal Inference: What If*. Chapman & Hall/CRC.\n",
    "- Microsoft Research – [DoWhy Causal Inference Library](https://github.com/microsoft/dowhy)\n",
    "- Towards Data Science: [\"Intro to Causal Inference\"](https://towardsdatascience.com/causal-inference-for-the-brave-and-true-intro-to-the-causal-toolbox-60e567c8f5b1)\n",
    "- IGN, Metacritic – Critic Score Aggregation Platforms\n"
   ]
  },
  {
   "cell_type": "markdown",
   "id": "a8819a6a-3bae-4809-9e8b-f6ec602ad5da",
   "metadata": {},
   "source": [
    "## 🧾 License\n",
    "\n",
    "This notebook is the original work of **Sathvik Vadavatha**, created as part of the *Crash Course in Causality* assignment.\n",
    "\n",
    "You may view, share, or reference this notebook for **educational and non-commercial purposes only**, provided proper attribution is given to the author.\n",
    "\n",
    "Unauthorized commercial use, redistribution, or modification without explicit permission is not allowed.\n",
    "\n",
    "© 2025 Sathvik Vadavatha. All rights reserved.\n"
   ]
  }
 ],
 "metadata": {
  "kernelspec": {
   "display_name": "Python 3 (ipykernel)",
   "language": "python",
   "name": "python3"
  },
  "language_info": {
   "codemirror_mode": {
    "name": "ipython",
    "version": 3
   },
   "file_extension": ".py",
   "mimetype": "text/x-python",
   "name": "python",
   "nbconvert_exporter": "python",
   "pygments_lexer": "ipython3",
   "version": "3.12.7"
  }
 },
 "nbformat": 4,
 "nbformat_minor": 5
}
