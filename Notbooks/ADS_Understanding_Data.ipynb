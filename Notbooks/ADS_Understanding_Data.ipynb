{
  "nbformat": 4,
  "nbformat_minor": 0,
  "metadata": {
    "colab": {
      "provenance": [],
      "toc_visible": true
    },
    "kernelspec": {
      "name": "python3",
      "display_name": "Python 3"
    },
    "language_info": {
      "name": "python"
    }
  },
  "cells": [
    {
      "cell_type": "markdown",
      "source": [
        "#Feature Selection & Dimensionality Reduction\n",
        "##1. Introduction to Dimensionality Reduction\n",
        "##2. What is Curse of Dimensionality\n",
        "##3. Linear Dimensionality Reduction\n",
        "##4. Feature Selaction\n",
        "\n",
        "\n"
      ],
      "metadata": {
        "id": "dtgymZGEkQE4"
      }
    },
    {
      "cell_type": "markdown",
      "source": [
        "##INTRODUCTION\n",
        "\n",
        "The dataset is Electronic Health Record Predicting collected from a private Hospital in Indonesia.It contains the patient's laboratory test results used to determine next patient treatment whether in care or out care.\n",
        "\n",
        "1=in care\n",
        "\n",
        "0=out care\n",
        "\n",
        "As a part of the hospital automation system, one can build a system that would predict and estimate whether the patient should be categorized as an incare patient or an outcare patient with the help of several data points about the patients, their conditions and lab tests.\n",
        "\n",
        "##QUESTION\n",
        "How to do Feature Selection and Dimenionality reduction for paitent treatment classification data?\n",
        "\n",
        "##Why is it interesting?\n",
        "Understanding which features influence treatment decisions for patients can have significant implications for healthcare. It can help medical professionals make more informed decisions about patient care and treatment plans. It can also aid in identifying patterns and factors that lead to specific treatment choices, which can be valuable for medical research and improving healthcare outcomes."
      ],
      "metadata": {
        "id": "m3x_AFCvWtj0"
      }
    },
    {
      "cell_type": "markdown",
      "source": [
        "#THEORY\n",
        "\n",
        "# Dimensionality Reduction\n",
        "Dimensionality reduction is a technique used in machine learning and data analysis to reduce the number of features or variables in a dataset while preserving as much relevant information as possible. High-dimensional data, where each data point has many attributes or features, can be challenging to work with due to increased computational complexity and the risk of overfitting models. Dimensionality reduction aims to address these challenges by transforming the data into a lower-dimensional representation, often in the form of a set of new variables or features.\n",
        "\n",
        "\n",
        "# What is Curse of Dimensionality\n",
        "The \"curse of dimensionality\" is a term used to describe various challenges and problems that arise when dealing with high-dimensional data, particularly in machine learning and data analysis. It refers to the adverse effects of adding more and more dimensions (features or attributes) to a dataset, and it can significantly impact the performance and efficiency of algorithms. Here are some of the key issues associated with the curse of dimensionality:\n",
        "\n",
        "Overfitting: In high-dimensional spaces, models can easily fit to noise in the data rather than the underlying patterns.\n",
        "\n",
        "Computational difficulties: Some algorithms can become computationally expensive or infeasible when dealing with high-dimensional data.\n",
        "\n",
        "Difficulty in visualizing the data: It becomes challenging to visualize high-dimensional data, making it difficult to understand the relationships between variables.\n",
        "\n",
        "Before starting the process of building data models, it's essential to perform pre-processing steps to make the dataset more manageable and suitable for analysis with specific methods. These pre-processing steps encompass various techniques, like dimensionality reduction and feature selection, which are designed to simplify the dataset by eliminating unnecessary features while minimizing the loss of accuracy."
      ],
      "metadata": {
        "id": "1Xe_NGGFkSuU"
      }
    },
    {
      "cell_type": "markdown",
      "source": [
        "# Linear Dimensionality Reduction\n",
        "Linear dimensionality reduction is a class of dimensionality reduction techniques that aim to reduce the dimensionality of a dataset while maintaining a linear relationship between the original features and the reduced-dimensional representation. These methods seek to find linear combinations of the original features to create new, lower-dimensional features or projections.\n",
        "\n",
        "##a) Principal Component Analysis (PCA)\n",
        "Principal Component Analysis (PCA) is a dimensionality reduction technique widely used in statistics, machine learning, and data analysis. Its primary objective is to reduce the dimensionality of a dataset while preserving as much of the relevant variation or information as possible. PCA achieves this by transforming the original features into a new set of orthogonal (uncorrelated) features called principal components. These principal components are ranked by their ability to explain the variance in the data, with the first principal component capturing the most variance, the second capturing the second-most, and so on.\n",
        "\n"
      ],
      "metadata": {
        "id": "7XbGrP8zkSqy"
      }
    },
    {
      "cell_type": "code",
      "source": [
        "import pandas as pd\n",
        "import matplotlib.pyplot as plt\n",
        "import seaborn as sns\n",
        "import numpy as np\n",
        "import sklearn\n",
        "from sklearn.preprocessing import StandardScaler\n",
        "from statsmodels.stats.outliers_influence import variance_inflation_factor"
      ],
      "metadata": {
        "id": "bR3Zlvi7ERBQ"
      },
      "execution_count": 24,
      "outputs": []
    },
    {
      "cell_type": "markdown",
      "source": [
        "\n",
        "PCA (Principal Component Analysis) is suitable for numerical datasets comprising continuous variables, excluding categorical data. It's important for the dataset to contain a minimum of two variables, and it's generally advisable to have at least 5 to 10 times more observations than there are variables."
      ],
      "metadata": {
        "id": "4RrGrK8NXISy"
      }
    },
    {
      "cell_type": "code",
      "source": [
        "df = pd.read_csv('https://raw.githubusercontent.com/bhoiru/Data_Sci/main/training_set.csv')\n",
        "df.head()"
      ],
      "metadata": {
        "colab": {
          "base_uri": "https://localhost:8080/",
          "height": 206
        },
        "id": "0lhDIxpjESwc",
        "outputId": "db37f866-8ab6-4931-d6f8-abd2844b4dc9"
      },
      "execution_count": 25,
      "outputs": [
        {
          "output_type": "execute_result",
          "data": {
            "text/plain": [
              "   HAEMATOCRIT  HAEMOGLOBINS  ERYTHROCYTE  LEUCOCYTE  THROMBOCYTE   MCH  MCHC  \\\n",
              "0         33.8          11.1         4.18        4.6          150  26.6  32.8   \n",
              "1         44.6          14.0         6.86        6.3          232  20.4  31.4   \n",
              "2         42.9          14.0         4.57        6.2          336  30.6  32.6   \n",
              "3         41.9          14.4         4.67        3.5          276  30.8  34.4   \n",
              "4         40.6          13.3         4.85       14.9          711  27.4  32.8   \n",
              "\n",
              "    MCV  AGE SEX  SOURCE  \n",
              "0  80.9   33   F       1  \n",
              "1  65.0   36   M       0  \n",
              "2  93.9   70   F       0  \n",
              "3  89.7   18   F       0  \n",
              "4  83.7   36   M       0  "
            ],
            "text/html": [
              "\n",
              "  <div id=\"df-37ae5488-2d77-4b19-9179-f4fa9815adc8\" class=\"colab-df-container\">\n",
              "    <div>\n",
              "<style scoped>\n",
              "    .dataframe tbody tr th:only-of-type {\n",
              "        vertical-align: middle;\n",
              "    }\n",
              "\n",
              "    .dataframe tbody tr th {\n",
              "        vertical-align: top;\n",
              "    }\n",
              "\n",
              "    .dataframe thead th {\n",
              "        text-align: right;\n",
              "    }\n",
              "</style>\n",
              "<table border=\"1\" class=\"dataframe\">\n",
              "  <thead>\n",
              "    <tr style=\"text-align: right;\">\n",
              "      <th></th>\n",
              "      <th>HAEMATOCRIT</th>\n",
              "      <th>HAEMOGLOBINS</th>\n",
              "      <th>ERYTHROCYTE</th>\n",
              "      <th>LEUCOCYTE</th>\n",
              "      <th>THROMBOCYTE</th>\n",
              "      <th>MCH</th>\n",
              "      <th>MCHC</th>\n",
              "      <th>MCV</th>\n",
              "      <th>AGE</th>\n",
              "      <th>SEX</th>\n",
              "      <th>SOURCE</th>\n",
              "    </tr>\n",
              "  </thead>\n",
              "  <tbody>\n",
              "    <tr>\n",
              "      <th>0</th>\n",
              "      <td>33.8</td>\n",
              "      <td>11.1</td>\n",
              "      <td>4.18</td>\n",
              "      <td>4.6</td>\n",
              "      <td>150</td>\n",
              "      <td>26.6</td>\n",
              "      <td>32.8</td>\n",
              "      <td>80.9</td>\n",
              "      <td>33</td>\n",
              "      <td>F</td>\n",
              "      <td>1</td>\n",
              "    </tr>\n",
              "    <tr>\n",
              "      <th>1</th>\n",
              "      <td>44.6</td>\n",
              "      <td>14.0</td>\n",
              "      <td>6.86</td>\n",
              "      <td>6.3</td>\n",
              "      <td>232</td>\n",
              "      <td>20.4</td>\n",
              "      <td>31.4</td>\n",
              "      <td>65.0</td>\n",
              "      <td>36</td>\n",
              "      <td>M</td>\n",
              "      <td>0</td>\n",
              "    </tr>\n",
              "    <tr>\n",
              "      <th>2</th>\n",
              "      <td>42.9</td>\n",
              "      <td>14.0</td>\n",
              "      <td>4.57</td>\n",
              "      <td>6.2</td>\n",
              "      <td>336</td>\n",
              "      <td>30.6</td>\n",
              "      <td>32.6</td>\n",
              "      <td>93.9</td>\n",
              "      <td>70</td>\n",
              "      <td>F</td>\n",
              "      <td>0</td>\n",
              "    </tr>\n",
              "    <tr>\n",
              "      <th>3</th>\n",
              "      <td>41.9</td>\n",
              "      <td>14.4</td>\n",
              "      <td>4.67</td>\n",
              "      <td>3.5</td>\n",
              "      <td>276</td>\n",
              "      <td>30.8</td>\n",
              "      <td>34.4</td>\n",
              "      <td>89.7</td>\n",
              "      <td>18</td>\n",
              "      <td>F</td>\n",
              "      <td>0</td>\n",
              "    </tr>\n",
              "    <tr>\n",
              "      <th>4</th>\n",
              "      <td>40.6</td>\n",
              "      <td>13.3</td>\n",
              "      <td>4.85</td>\n",
              "      <td>14.9</td>\n",
              "      <td>711</td>\n",
              "      <td>27.4</td>\n",
              "      <td>32.8</td>\n",
              "      <td>83.7</td>\n",
              "      <td>36</td>\n",
              "      <td>M</td>\n",
              "      <td>0</td>\n",
              "    </tr>\n",
              "  </tbody>\n",
              "</table>\n",
              "</div>\n",
              "    <div class=\"colab-df-buttons\">\n",
              "\n",
              "  <div class=\"colab-df-container\">\n",
              "    <button class=\"colab-df-convert\" onclick=\"convertToInteractive('df-37ae5488-2d77-4b19-9179-f4fa9815adc8')\"\n",
              "            title=\"Convert this dataframe to an interactive table.\"\n",
              "            style=\"display:none;\">\n",
              "\n",
              "  <svg xmlns=\"http://www.w3.org/2000/svg\" height=\"24px\" viewBox=\"0 -960 960 960\">\n",
              "    <path d=\"M120-120v-720h720v720H120Zm60-500h600v-160H180v160Zm220 220h160v-160H400v160Zm0 220h160v-160H400v160ZM180-400h160v-160H180v160Zm440 0h160v-160H620v160ZM180-180h160v-160H180v160Zm440 0h160v-160H620v160Z\"/>\n",
              "  </svg>\n",
              "    </button>\n",
              "\n",
              "  <style>\n",
              "    .colab-df-container {\n",
              "      display:flex;\n",
              "      gap: 12px;\n",
              "    }\n",
              "\n",
              "    .colab-df-convert {\n",
              "      background-color: #E8F0FE;\n",
              "      border: none;\n",
              "      border-radius: 50%;\n",
              "      cursor: pointer;\n",
              "      display: none;\n",
              "      fill: #1967D2;\n",
              "      height: 32px;\n",
              "      padding: 0 0 0 0;\n",
              "      width: 32px;\n",
              "    }\n",
              "\n",
              "    .colab-df-convert:hover {\n",
              "      background-color: #E2EBFA;\n",
              "      box-shadow: 0px 1px 2px rgba(60, 64, 67, 0.3), 0px 1px 3px 1px rgba(60, 64, 67, 0.15);\n",
              "      fill: #174EA6;\n",
              "    }\n",
              "\n",
              "    .colab-df-buttons div {\n",
              "      margin-bottom: 4px;\n",
              "    }\n",
              "\n",
              "    [theme=dark] .colab-df-convert {\n",
              "      background-color: #3B4455;\n",
              "      fill: #D2E3FC;\n",
              "    }\n",
              "\n",
              "    [theme=dark] .colab-df-convert:hover {\n",
              "      background-color: #434B5C;\n",
              "      box-shadow: 0px 1px 3px 1px rgba(0, 0, 0, 0.15);\n",
              "      filter: drop-shadow(0px 1px 2px rgba(0, 0, 0, 0.3));\n",
              "      fill: #FFFFFF;\n",
              "    }\n",
              "  </style>\n",
              "\n",
              "    <script>\n",
              "      const buttonEl =\n",
              "        document.querySelector('#df-37ae5488-2d77-4b19-9179-f4fa9815adc8 button.colab-df-convert');\n",
              "      buttonEl.style.display =\n",
              "        google.colab.kernel.accessAllowed ? 'block' : 'none';\n",
              "\n",
              "      async function convertToInteractive(key) {\n",
              "        const element = document.querySelector('#df-37ae5488-2d77-4b19-9179-f4fa9815adc8');\n",
              "        const dataTable =\n",
              "          await google.colab.kernel.invokeFunction('convertToInteractive',\n",
              "                                                    [key], {});\n",
              "        if (!dataTable) return;\n",
              "\n",
              "        const docLinkHtml = 'Like what you see? Visit the ' +\n",
              "          '<a target=\"_blank\" href=https://colab.research.google.com/notebooks/data_table.ipynb>data table notebook</a>'\n",
              "          + ' to learn more about interactive tables.';\n",
              "        element.innerHTML = '';\n",
              "        dataTable['output_type'] = 'display_data';\n",
              "        await google.colab.output.renderOutput(dataTable, element);\n",
              "        const docLink = document.createElement('div');\n",
              "        docLink.innerHTML = docLinkHtml;\n",
              "        element.appendChild(docLink);\n",
              "      }\n",
              "    </script>\n",
              "  </div>\n",
              "\n",
              "\n",
              "<div id=\"df-d38cdc16-0963-4931-899f-0f662962a6d2\">\n",
              "  <button class=\"colab-df-quickchart\" onclick=\"quickchart('df-d38cdc16-0963-4931-899f-0f662962a6d2')\"\n",
              "            title=\"Suggest charts.\"\n",
              "            style=\"display:none;\">\n",
              "\n",
              "<svg xmlns=\"http://www.w3.org/2000/svg\" height=\"24px\"viewBox=\"0 0 24 24\"\n",
              "     width=\"24px\">\n",
              "    <g>\n",
              "        <path d=\"M19 3H5c-1.1 0-2 .9-2 2v14c0 1.1.9 2 2 2h14c1.1 0 2-.9 2-2V5c0-1.1-.9-2-2-2zM9 17H7v-7h2v7zm4 0h-2V7h2v10zm4 0h-2v-4h2v4z\"/>\n",
              "    </g>\n",
              "</svg>\n",
              "  </button>\n",
              "\n",
              "<style>\n",
              "  .colab-df-quickchart {\n",
              "      --bg-color: #E8F0FE;\n",
              "      --fill-color: #1967D2;\n",
              "      --hover-bg-color: #E2EBFA;\n",
              "      --hover-fill-color: #174EA6;\n",
              "      --disabled-fill-color: #AAA;\n",
              "      --disabled-bg-color: #DDD;\n",
              "  }\n",
              "\n",
              "  [theme=dark] .colab-df-quickchart {\n",
              "      --bg-color: #3B4455;\n",
              "      --fill-color: #D2E3FC;\n",
              "      --hover-bg-color: #434B5C;\n",
              "      --hover-fill-color: #FFFFFF;\n",
              "      --disabled-bg-color: #3B4455;\n",
              "      --disabled-fill-color: #666;\n",
              "  }\n",
              "\n",
              "  .colab-df-quickchart {\n",
              "    background-color: var(--bg-color);\n",
              "    border: none;\n",
              "    border-radius: 50%;\n",
              "    cursor: pointer;\n",
              "    display: none;\n",
              "    fill: var(--fill-color);\n",
              "    height: 32px;\n",
              "    padding: 0;\n",
              "    width: 32px;\n",
              "  }\n",
              "\n",
              "  .colab-df-quickchart:hover {\n",
              "    background-color: var(--hover-bg-color);\n",
              "    box-shadow: 0 1px 2px rgba(60, 64, 67, 0.3), 0 1px 3px 1px rgba(60, 64, 67, 0.15);\n",
              "    fill: var(--button-hover-fill-color);\n",
              "  }\n",
              "\n",
              "  .colab-df-quickchart-complete:disabled,\n",
              "  .colab-df-quickchart-complete:disabled:hover {\n",
              "    background-color: var(--disabled-bg-color);\n",
              "    fill: var(--disabled-fill-color);\n",
              "    box-shadow: none;\n",
              "  }\n",
              "\n",
              "  .colab-df-spinner {\n",
              "    border: 2px solid var(--fill-color);\n",
              "    border-color: transparent;\n",
              "    border-bottom-color: var(--fill-color);\n",
              "    animation:\n",
              "      spin 1s steps(1) infinite;\n",
              "  }\n",
              "\n",
              "  @keyframes spin {\n",
              "    0% {\n",
              "      border-color: transparent;\n",
              "      border-bottom-color: var(--fill-color);\n",
              "      border-left-color: var(--fill-color);\n",
              "    }\n",
              "    20% {\n",
              "      border-color: transparent;\n",
              "      border-left-color: var(--fill-color);\n",
              "      border-top-color: var(--fill-color);\n",
              "    }\n",
              "    30% {\n",
              "      border-color: transparent;\n",
              "      border-left-color: var(--fill-color);\n",
              "      border-top-color: var(--fill-color);\n",
              "      border-right-color: var(--fill-color);\n",
              "    }\n",
              "    40% {\n",
              "      border-color: transparent;\n",
              "      border-right-color: var(--fill-color);\n",
              "      border-top-color: var(--fill-color);\n",
              "    }\n",
              "    60% {\n",
              "      border-color: transparent;\n",
              "      border-right-color: var(--fill-color);\n",
              "    }\n",
              "    80% {\n",
              "      border-color: transparent;\n",
              "      border-right-color: var(--fill-color);\n",
              "      border-bottom-color: var(--fill-color);\n",
              "    }\n",
              "    90% {\n",
              "      border-color: transparent;\n",
              "      border-bottom-color: var(--fill-color);\n",
              "    }\n",
              "  }\n",
              "</style>\n",
              "\n",
              "  <script>\n",
              "    async function quickchart(key) {\n",
              "      const quickchartButtonEl =\n",
              "        document.querySelector('#' + key + ' button');\n",
              "      quickchartButtonEl.disabled = true;  // To prevent multiple clicks.\n",
              "      quickchartButtonEl.classList.add('colab-df-spinner');\n",
              "      try {\n",
              "        const charts = await google.colab.kernel.invokeFunction(\n",
              "            'suggestCharts', [key], {});\n",
              "      } catch (error) {\n",
              "        console.error('Error during call to suggestCharts:', error);\n",
              "      }\n",
              "      quickchartButtonEl.classList.remove('colab-df-spinner');\n",
              "      quickchartButtonEl.classList.add('colab-df-quickchart-complete');\n",
              "    }\n",
              "    (() => {\n",
              "      let quickchartButtonEl =\n",
              "        document.querySelector('#df-d38cdc16-0963-4931-899f-0f662962a6d2 button');\n",
              "      quickchartButtonEl.style.display =\n",
              "        google.colab.kernel.accessAllowed ? 'block' : 'none';\n",
              "    })();\n",
              "  </script>\n",
              "</div>\n",
              "    </div>\n",
              "  </div>\n"
            ]
          },
          "metadata": {},
          "execution_count": 25
        }
      ]
    },
    {
      "cell_type": "markdown",
      "source": [
        "Cheking for Null Values (Missing Values)"
      ],
      "metadata": {
        "id": "8-Tb3cYdEpa2"
      }
    },
    {
      "cell_type": "code",
      "source": [
        "df.isnull().sum()"
      ],
      "metadata": {
        "colab": {
          "base_uri": "https://localhost:8080/"
        },
        "id": "tCBsoqZREY5R",
        "outputId": "694b5542-9caa-4896-f330-91a67624e6ba"
      },
      "execution_count": 26,
      "outputs": [
        {
          "output_type": "execute_result",
          "data": {
            "text/plain": [
              "HAEMATOCRIT     0\n",
              "HAEMOGLOBINS    0\n",
              "ERYTHROCYTE     0\n",
              "LEUCOCYTE       0\n",
              "THROMBOCYTE     0\n",
              "MCH             0\n",
              "MCHC            0\n",
              "MCV             0\n",
              "AGE             0\n",
              "SEX             0\n",
              "SOURCE          0\n",
              "dtype: int64"
            ]
          },
          "metadata": {},
          "execution_count": 26
        }
      ]
    },
    {
      "cell_type": "code",
      "source": [
        "df.head()"
      ],
      "metadata": {
        "colab": {
          "base_uri": "https://localhost:8080/",
          "height": 206
        },
        "id": "LKVvsDWBHBes",
        "outputId": "1284196b-4de3-44f2-c33b-d3c7963ae4b1"
      },
      "execution_count": 27,
      "outputs": [
        {
          "output_type": "execute_result",
          "data": {
            "text/plain": [
              "   HAEMATOCRIT  HAEMOGLOBINS  ERYTHROCYTE  LEUCOCYTE  THROMBOCYTE   MCH  MCHC  \\\n",
              "0         33.8          11.1         4.18        4.6          150  26.6  32.8   \n",
              "1         44.6          14.0         6.86        6.3          232  20.4  31.4   \n",
              "2         42.9          14.0         4.57        6.2          336  30.6  32.6   \n",
              "3         41.9          14.4         4.67        3.5          276  30.8  34.4   \n",
              "4         40.6          13.3         4.85       14.9          711  27.4  32.8   \n",
              "\n",
              "    MCV  AGE SEX  SOURCE  \n",
              "0  80.9   33   F       1  \n",
              "1  65.0   36   M       0  \n",
              "2  93.9   70   F       0  \n",
              "3  89.7   18   F       0  \n",
              "4  83.7   36   M       0  "
            ],
            "text/html": [
              "\n",
              "  <div id=\"df-9cfa073c-6ff6-4bfa-8282-9f3b0ff02c83\" class=\"colab-df-container\">\n",
              "    <div>\n",
              "<style scoped>\n",
              "    .dataframe tbody tr th:only-of-type {\n",
              "        vertical-align: middle;\n",
              "    }\n",
              "\n",
              "    .dataframe tbody tr th {\n",
              "        vertical-align: top;\n",
              "    }\n",
              "\n",
              "    .dataframe thead th {\n",
              "        text-align: right;\n",
              "    }\n",
              "</style>\n",
              "<table border=\"1\" class=\"dataframe\">\n",
              "  <thead>\n",
              "    <tr style=\"text-align: right;\">\n",
              "      <th></th>\n",
              "      <th>HAEMATOCRIT</th>\n",
              "      <th>HAEMOGLOBINS</th>\n",
              "      <th>ERYTHROCYTE</th>\n",
              "      <th>LEUCOCYTE</th>\n",
              "      <th>THROMBOCYTE</th>\n",
              "      <th>MCH</th>\n",
              "      <th>MCHC</th>\n",
              "      <th>MCV</th>\n",
              "      <th>AGE</th>\n",
              "      <th>SEX</th>\n",
              "      <th>SOURCE</th>\n",
              "    </tr>\n",
              "  </thead>\n",
              "  <tbody>\n",
              "    <tr>\n",
              "      <th>0</th>\n",
              "      <td>33.8</td>\n",
              "      <td>11.1</td>\n",
              "      <td>4.18</td>\n",
              "      <td>4.6</td>\n",
              "      <td>150</td>\n",
              "      <td>26.6</td>\n",
              "      <td>32.8</td>\n",
              "      <td>80.9</td>\n",
              "      <td>33</td>\n",
              "      <td>F</td>\n",
              "      <td>1</td>\n",
              "    </tr>\n",
              "    <tr>\n",
              "      <th>1</th>\n",
              "      <td>44.6</td>\n",
              "      <td>14.0</td>\n",
              "      <td>6.86</td>\n",
              "      <td>6.3</td>\n",
              "      <td>232</td>\n",
              "      <td>20.4</td>\n",
              "      <td>31.4</td>\n",
              "      <td>65.0</td>\n",
              "      <td>36</td>\n",
              "      <td>M</td>\n",
              "      <td>0</td>\n",
              "    </tr>\n",
              "    <tr>\n",
              "      <th>2</th>\n",
              "      <td>42.9</td>\n",
              "      <td>14.0</td>\n",
              "      <td>4.57</td>\n",
              "      <td>6.2</td>\n",
              "      <td>336</td>\n",
              "      <td>30.6</td>\n",
              "      <td>32.6</td>\n",
              "      <td>93.9</td>\n",
              "      <td>70</td>\n",
              "      <td>F</td>\n",
              "      <td>0</td>\n",
              "    </tr>\n",
              "    <tr>\n",
              "      <th>3</th>\n",
              "      <td>41.9</td>\n",
              "      <td>14.4</td>\n",
              "      <td>4.67</td>\n",
              "      <td>3.5</td>\n",
              "      <td>276</td>\n",
              "      <td>30.8</td>\n",
              "      <td>34.4</td>\n",
              "      <td>89.7</td>\n",
              "      <td>18</td>\n",
              "      <td>F</td>\n",
              "      <td>0</td>\n",
              "    </tr>\n",
              "    <tr>\n",
              "      <th>4</th>\n",
              "      <td>40.6</td>\n",
              "      <td>13.3</td>\n",
              "      <td>4.85</td>\n",
              "      <td>14.9</td>\n",
              "      <td>711</td>\n",
              "      <td>27.4</td>\n",
              "      <td>32.8</td>\n",
              "      <td>83.7</td>\n",
              "      <td>36</td>\n",
              "      <td>M</td>\n",
              "      <td>0</td>\n",
              "    </tr>\n",
              "  </tbody>\n",
              "</table>\n",
              "</div>\n",
              "    <div class=\"colab-df-buttons\">\n",
              "\n",
              "  <div class=\"colab-df-container\">\n",
              "    <button class=\"colab-df-convert\" onclick=\"convertToInteractive('df-9cfa073c-6ff6-4bfa-8282-9f3b0ff02c83')\"\n",
              "            title=\"Convert this dataframe to an interactive table.\"\n",
              "            style=\"display:none;\">\n",
              "\n",
              "  <svg xmlns=\"http://www.w3.org/2000/svg\" height=\"24px\" viewBox=\"0 -960 960 960\">\n",
              "    <path d=\"M120-120v-720h720v720H120Zm60-500h600v-160H180v160Zm220 220h160v-160H400v160Zm0 220h160v-160H400v160ZM180-400h160v-160H180v160Zm440 0h160v-160H620v160ZM180-180h160v-160H180v160Zm440 0h160v-160H620v160Z\"/>\n",
              "  </svg>\n",
              "    </button>\n",
              "\n",
              "  <style>\n",
              "    .colab-df-container {\n",
              "      display:flex;\n",
              "      gap: 12px;\n",
              "    }\n",
              "\n",
              "    .colab-df-convert {\n",
              "      background-color: #E8F0FE;\n",
              "      border: none;\n",
              "      border-radius: 50%;\n",
              "      cursor: pointer;\n",
              "      display: none;\n",
              "      fill: #1967D2;\n",
              "      height: 32px;\n",
              "      padding: 0 0 0 0;\n",
              "      width: 32px;\n",
              "    }\n",
              "\n",
              "    .colab-df-convert:hover {\n",
              "      background-color: #E2EBFA;\n",
              "      box-shadow: 0px 1px 2px rgba(60, 64, 67, 0.3), 0px 1px 3px 1px rgba(60, 64, 67, 0.15);\n",
              "      fill: #174EA6;\n",
              "    }\n",
              "\n",
              "    .colab-df-buttons div {\n",
              "      margin-bottom: 4px;\n",
              "    }\n",
              "\n",
              "    [theme=dark] .colab-df-convert {\n",
              "      background-color: #3B4455;\n",
              "      fill: #D2E3FC;\n",
              "    }\n",
              "\n",
              "    [theme=dark] .colab-df-convert:hover {\n",
              "      background-color: #434B5C;\n",
              "      box-shadow: 0px 1px 3px 1px rgba(0, 0, 0, 0.15);\n",
              "      filter: drop-shadow(0px 1px 2px rgba(0, 0, 0, 0.3));\n",
              "      fill: #FFFFFF;\n",
              "    }\n",
              "  </style>\n",
              "\n",
              "    <script>\n",
              "      const buttonEl =\n",
              "        document.querySelector('#df-9cfa073c-6ff6-4bfa-8282-9f3b0ff02c83 button.colab-df-convert');\n",
              "      buttonEl.style.display =\n",
              "        google.colab.kernel.accessAllowed ? 'block' : 'none';\n",
              "\n",
              "      async function convertToInteractive(key) {\n",
              "        const element = document.querySelector('#df-9cfa073c-6ff6-4bfa-8282-9f3b0ff02c83');\n",
              "        const dataTable =\n",
              "          await google.colab.kernel.invokeFunction('convertToInteractive',\n",
              "                                                    [key], {});\n",
              "        if (!dataTable) return;\n",
              "\n",
              "        const docLinkHtml = 'Like what you see? Visit the ' +\n",
              "          '<a target=\"_blank\" href=https://colab.research.google.com/notebooks/data_table.ipynb>data table notebook</a>'\n",
              "          + ' to learn more about interactive tables.';\n",
              "        element.innerHTML = '';\n",
              "        dataTable['output_type'] = 'display_data';\n",
              "        await google.colab.output.renderOutput(dataTable, element);\n",
              "        const docLink = document.createElement('div');\n",
              "        docLink.innerHTML = docLinkHtml;\n",
              "        element.appendChild(docLink);\n",
              "      }\n",
              "    </script>\n",
              "  </div>\n",
              "\n",
              "\n",
              "<div id=\"df-27ba8f4e-5247-452f-b162-3ac168639fec\">\n",
              "  <button class=\"colab-df-quickchart\" onclick=\"quickchart('df-27ba8f4e-5247-452f-b162-3ac168639fec')\"\n",
              "            title=\"Suggest charts.\"\n",
              "            style=\"display:none;\">\n",
              "\n",
              "<svg xmlns=\"http://www.w3.org/2000/svg\" height=\"24px\"viewBox=\"0 0 24 24\"\n",
              "     width=\"24px\">\n",
              "    <g>\n",
              "        <path d=\"M19 3H5c-1.1 0-2 .9-2 2v14c0 1.1.9 2 2 2h14c1.1 0 2-.9 2-2V5c0-1.1-.9-2-2-2zM9 17H7v-7h2v7zm4 0h-2V7h2v10zm4 0h-2v-4h2v4z\"/>\n",
              "    </g>\n",
              "</svg>\n",
              "  </button>\n",
              "\n",
              "<style>\n",
              "  .colab-df-quickchart {\n",
              "      --bg-color: #E8F0FE;\n",
              "      --fill-color: #1967D2;\n",
              "      --hover-bg-color: #E2EBFA;\n",
              "      --hover-fill-color: #174EA6;\n",
              "      --disabled-fill-color: #AAA;\n",
              "      --disabled-bg-color: #DDD;\n",
              "  }\n",
              "\n",
              "  [theme=dark] .colab-df-quickchart {\n",
              "      --bg-color: #3B4455;\n",
              "      --fill-color: #D2E3FC;\n",
              "      --hover-bg-color: #434B5C;\n",
              "      --hover-fill-color: #FFFFFF;\n",
              "      --disabled-bg-color: #3B4455;\n",
              "      --disabled-fill-color: #666;\n",
              "  }\n",
              "\n",
              "  .colab-df-quickchart {\n",
              "    background-color: var(--bg-color);\n",
              "    border: none;\n",
              "    border-radius: 50%;\n",
              "    cursor: pointer;\n",
              "    display: none;\n",
              "    fill: var(--fill-color);\n",
              "    height: 32px;\n",
              "    padding: 0;\n",
              "    width: 32px;\n",
              "  }\n",
              "\n",
              "  .colab-df-quickchart:hover {\n",
              "    background-color: var(--hover-bg-color);\n",
              "    box-shadow: 0 1px 2px rgba(60, 64, 67, 0.3), 0 1px 3px 1px rgba(60, 64, 67, 0.15);\n",
              "    fill: var(--button-hover-fill-color);\n",
              "  }\n",
              "\n",
              "  .colab-df-quickchart-complete:disabled,\n",
              "  .colab-df-quickchart-complete:disabled:hover {\n",
              "    background-color: var(--disabled-bg-color);\n",
              "    fill: var(--disabled-fill-color);\n",
              "    box-shadow: none;\n",
              "  }\n",
              "\n",
              "  .colab-df-spinner {\n",
              "    border: 2px solid var(--fill-color);\n",
              "    border-color: transparent;\n",
              "    border-bottom-color: var(--fill-color);\n",
              "    animation:\n",
              "      spin 1s steps(1) infinite;\n",
              "  }\n",
              "\n",
              "  @keyframes spin {\n",
              "    0% {\n",
              "      border-color: transparent;\n",
              "      border-bottom-color: var(--fill-color);\n",
              "      border-left-color: var(--fill-color);\n",
              "    }\n",
              "    20% {\n",
              "      border-color: transparent;\n",
              "      border-left-color: var(--fill-color);\n",
              "      border-top-color: var(--fill-color);\n",
              "    }\n",
              "    30% {\n",
              "      border-color: transparent;\n",
              "      border-left-color: var(--fill-color);\n",
              "      border-top-color: var(--fill-color);\n",
              "      border-right-color: var(--fill-color);\n",
              "    }\n",
              "    40% {\n",
              "      border-color: transparent;\n",
              "      border-right-color: var(--fill-color);\n",
              "      border-top-color: var(--fill-color);\n",
              "    }\n",
              "    60% {\n",
              "      border-color: transparent;\n",
              "      border-right-color: var(--fill-color);\n",
              "    }\n",
              "    80% {\n",
              "      border-color: transparent;\n",
              "      border-right-color: var(--fill-color);\n",
              "      border-bottom-color: var(--fill-color);\n",
              "    }\n",
              "    90% {\n",
              "      border-color: transparent;\n",
              "      border-bottom-color: var(--fill-color);\n",
              "    }\n",
              "  }\n",
              "</style>\n",
              "\n",
              "  <script>\n",
              "    async function quickchart(key) {\n",
              "      const quickchartButtonEl =\n",
              "        document.querySelector('#' + key + ' button');\n",
              "      quickchartButtonEl.disabled = true;  // To prevent multiple clicks.\n",
              "      quickchartButtonEl.classList.add('colab-df-spinner');\n",
              "      try {\n",
              "        const charts = await google.colab.kernel.invokeFunction(\n",
              "            'suggestCharts', [key], {});\n",
              "      } catch (error) {\n",
              "        console.error('Error during call to suggestCharts:', error);\n",
              "      }\n",
              "      quickchartButtonEl.classList.remove('colab-df-spinner');\n",
              "      quickchartButtonEl.classList.add('colab-df-quickchart-complete');\n",
              "    }\n",
              "    (() => {\n",
              "      let quickchartButtonEl =\n",
              "        document.querySelector('#df-27ba8f4e-5247-452f-b162-3ac168639fec button');\n",
              "      quickchartButtonEl.style.display =\n",
              "        google.colab.kernel.accessAllowed ? 'block' : 'none';\n",
              "    })();\n",
              "  </script>\n",
              "</div>\n",
              "    </div>\n",
              "  </div>\n"
            ]
          },
          "metadata": {},
          "execution_count": 27
        }
      ]
    },
    {
      "cell_type": "code",
      "source": [
        "X=df.iloc[:,:-2]\n",
        "y=df.iloc[:,-1]"
      ],
      "metadata": {
        "id": "Lj5smnFiGIZs"
      },
      "execution_count": 29,
      "outputs": []
    },
    {
      "cell_type": "code",
      "source": [
        "print(X.shape)\n",
        "X.head()"
      ],
      "metadata": {
        "colab": {
          "base_uri": "https://localhost:8080/",
          "height": 224
        },
        "id": "oofbwr5FGNwQ",
        "outputId": "96ccd270-dfd3-44dd-cac6-8e94743fc69d"
      },
      "execution_count": 32,
      "outputs": [
        {
          "output_type": "stream",
          "name": "stdout",
          "text": [
            "(3309, 9)\n"
          ]
        },
        {
          "output_type": "execute_result",
          "data": {
            "text/plain": [
              "   HAEMATOCRIT  HAEMOGLOBINS  ERYTHROCYTE  LEUCOCYTE  THROMBOCYTE   MCH  MCHC  \\\n",
              "0         33.8          11.1         4.18        4.6          150  26.6  32.8   \n",
              "1         44.6          14.0         6.86        6.3          232  20.4  31.4   \n",
              "2         42.9          14.0         4.57        6.2          336  30.6  32.6   \n",
              "3         41.9          14.4         4.67        3.5          276  30.8  34.4   \n",
              "4         40.6          13.3         4.85       14.9          711  27.4  32.8   \n",
              "\n",
              "    MCV  AGE  \n",
              "0  80.9   33  \n",
              "1  65.0   36  \n",
              "2  93.9   70  \n",
              "3  89.7   18  \n",
              "4  83.7   36  "
            ],
            "text/html": [
              "\n",
              "  <div id=\"df-4bfa4ac0-1e83-4e5f-85be-8856cd779623\" class=\"colab-df-container\">\n",
              "    <div>\n",
              "<style scoped>\n",
              "    .dataframe tbody tr th:only-of-type {\n",
              "        vertical-align: middle;\n",
              "    }\n",
              "\n",
              "    .dataframe tbody tr th {\n",
              "        vertical-align: top;\n",
              "    }\n",
              "\n",
              "    .dataframe thead th {\n",
              "        text-align: right;\n",
              "    }\n",
              "</style>\n",
              "<table border=\"1\" class=\"dataframe\">\n",
              "  <thead>\n",
              "    <tr style=\"text-align: right;\">\n",
              "      <th></th>\n",
              "      <th>HAEMATOCRIT</th>\n",
              "      <th>HAEMOGLOBINS</th>\n",
              "      <th>ERYTHROCYTE</th>\n",
              "      <th>LEUCOCYTE</th>\n",
              "      <th>THROMBOCYTE</th>\n",
              "      <th>MCH</th>\n",
              "      <th>MCHC</th>\n",
              "      <th>MCV</th>\n",
              "      <th>AGE</th>\n",
              "    </tr>\n",
              "  </thead>\n",
              "  <tbody>\n",
              "    <tr>\n",
              "      <th>0</th>\n",
              "      <td>33.8</td>\n",
              "      <td>11.1</td>\n",
              "      <td>4.18</td>\n",
              "      <td>4.6</td>\n",
              "      <td>150</td>\n",
              "      <td>26.6</td>\n",
              "      <td>32.8</td>\n",
              "      <td>80.9</td>\n",
              "      <td>33</td>\n",
              "    </tr>\n",
              "    <tr>\n",
              "      <th>1</th>\n",
              "      <td>44.6</td>\n",
              "      <td>14.0</td>\n",
              "      <td>6.86</td>\n",
              "      <td>6.3</td>\n",
              "      <td>232</td>\n",
              "      <td>20.4</td>\n",
              "      <td>31.4</td>\n",
              "      <td>65.0</td>\n",
              "      <td>36</td>\n",
              "    </tr>\n",
              "    <tr>\n",
              "      <th>2</th>\n",
              "      <td>42.9</td>\n",
              "      <td>14.0</td>\n",
              "      <td>4.57</td>\n",
              "      <td>6.2</td>\n",
              "      <td>336</td>\n",
              "      <td>30.6</td>\n",
              "      <td>32.6</td>\n",
              "      <td>93.9</td>\n",
              "      <td>70</td>\n",
              "    </tr>\n",
              "    <tr>\n",
              "      <th>3</th>\n",
              "      <td>41.9</td>\n",
              "      <td>14.4</td>\n",
              "      <td>4.67</td>\n",
              "      <td>3.5</td>\n",
              "      <td>276</td>\n",
              "      <td>30.8</td>\n",
              "      <td>34.4</td>\n",
              "      <td>89.7</td>\n",
              "      <td>18</td>\n",
              "    </tr>\n",
              "    <tr>\n",
              "      <th>4</th>\n",
              "      <td>40.6</td>\n",
              "      <td>13.3</td>\n",
              "      <td>4.85</td>\n",
              "      <td>14.9</td>\n",
              "      <td>711</td>\n",
              "      <td>27.4</td>\n",
              "      <td>32.8</td>\n",
              "      <td>83.7</td>\n",
              "      <td>36</td>\n",
              "    </tr>\n",
              "  </tbody>\n",
              "</table>\n",
              "</div>\n",
              "    <div class=\"colab-df-buttons\">\n",
              "\n",
              "  <div class=\"colab-df-container\">\n",
              "    <button class=\"colab-df-convert\" onclick=\"convertToInteractive('df-4bfa4ac0-1e83-4e5f-85be-8856cd779623')\"\n",
              "            title=\"Convert this dataframe to an interactive table.\"\n",
              "            style=\"display:none;\">\n",
              "\n",
              "  <svg xmlns=\"http://www.w3.org/2000/svg\" height=\"24px\" viewBox=\"0 -960 960 960\">\n",
              "    <path d=\"M120-120v-720h720v720H120Zm60-500h600v-160H180v160Zm220 220h160v-160H400v160Zm0 220h160v-160H400v160ZM180-400h160v-160H180v160Zm440 0h160v-160H620v160ZM180-180h160v-160H180v160Zm440 0h160v-160H620v160Z\"/>\n",
              "  </svg>\n",
              "    </button>\n",
              "\n",
              "  <style>\n",
              "    .colab-df-container {\n",
              "      display:flex;\n",
              "      gap: 12px;\n",
              "    }\n",
              "\n",
              "    .colab-df-convert {\n",
              "      background-color: #E8F0FE;\n",
              "      border: none;\n",
              "      border-radius: 50%;\n",
              "      cursor: pointer;\n",
              "      display: none;\n",
              "      fill: #1967D2;\n",
              "      height: 32px;\n",
              "      padding: 0 0 0 0;\n",
              "      width: 32px;\n",
              "    }\n",
              "\n",
              "    .colab-df-convert:hover {\n",
              "      background-color: #E2EBFA;\n",
              "      box-shadow: 0px 1px 2px rgba(60, 64, 67, 0.3), 0px 1px 3px 1px rgba(60, 64, 67, 0.15);\n",
              "      fill: #174EA6;\n",
              "    }\n",
              "\n",
              "    .colab-df-buttons div {\n",
              "      margin-bottom: 4px;\n",
              "    }\n",
              "\n",
              "    [theme=dark] .colab-df-convert {\n",
              "      background-color: #3B4455;\n",
              "      fill: #D2E3FC;\n",
              "    }\n",
              "\n",
              "    [theme=dark] .colab-df-convert:hover {\n",
              "      background-color: #434B5C;\n",
              "      box-shadow: 0px 1px 3px 1px rgba(0, 0, 0, 0.15);\n",
              "      filter: drop-shadow(0px 1px 2px rgba(0, 0, 0, 0.3));\n",
              "      fill: #FFFFFF;\n",
              "    }\n",
              "  </style>\n",
              "\n",
              "    <script>\n",
              "      const buttonEl =\n",
              "        document.querySelector('#df-4bfa4ac0-1e83-4e5f-85be-8856cd779623 button.colab-df-convert');\n",
              "      buttonEl.style.display =\n",
              "        google.colab.kernel.accessAllowed ? 'block' : 'none';\n",
              "\n",
              "      async function convertToInteractive(key) {\n",
              "        const element = document.querySelector('#df-4bfa4ac0-1e83-4e5f-85be-8856cd779623');\n",
              "        const dataTable =\n",
              "          await google.colab.kernel.invokeFunction('convertToInteractive',\n",
              "                                                    [key], {});\n",
              "        if (!dataTable) return;\n",
              "\n",
              "        const docLinkHtml = 'Like what you see? Visit the ' +\n",
              "          '<a target=\"_blank\" href=https://colab.research.google.com/notebooks/data_table.ipynb>data table notebook</a>'\n",
              "          + ' to learn more about interactive tables.';\n",
              "        element.innerHTML = '';\n",
              "        dataTable['output_type'] = 'display_data';\n",
              "        await google.colab.output.renderOutput(dataTable, element);\n",
              "        const docLink = document.createElement('div');\n",
              "        docLink.innerHTML = docLinkHtml;\n",
              "        element.appendChild(docLink);\n",
              "      }\n",
              "    </script>\n",
              "  </div>\n",
              "\n",
              "\n",
              "<div id=\"df-972d267b-d1df-41df-b4c6-ce7c80b12977\">\n",
              "  <button class=\"colab-df-quickchart\" onclick=\"quickchart('df-972d267b-d1df-41df-b4c6-ce7c80b12977')\"\n",
              "            title=\"Suggest charts.\"\n",
              "            style=\"display:none;\">\n",
              "\n",
              "<svg xmlns=\"http://www.w3.org/2000/svg\" height=\"24px\"viewBox=\"0 0 24 24\"\n",
              "     width=\"24px\">\n",
              "    <g>\n",
              "        <path d=\"M19 3H5c-1.1 0-2 .9-2 2v14c0 1.1.9 2 2 2h14c1.1 0 2-.9 2-2V5c0-1.1-.9-2-2-2zM9 17H7v-7h2v7zm4 0h-2V7h2v10zm4 0h-2v-4h2v4z\"/>\n",
              "    </g>\n",
              "</svg>\n",
              "  </button>\n",
              "\n",
              "<style>\n",
              "  .colab-df-quickchart {\n",
              "      --bg-color: #E8F0FE;\n",
              "      --fill-color: #1967D2;\n",
              "      --hover-bg-color: #E2EBFA;\n",
              "      --hover-fill-color: #174EA6;\n",
              "      --disabled-fill-color: #AAA;\n",
              "      --disabled-bg-color: #DDD;\n",
              "  }\n",
              "\n",
              "  [theme=dark] .colab-df-quickchart {\n",
              "      --bg-color: #3B4455;\n",
              "      --fill-color: #D2E3FC;\n",
              "      --hover-bg-color: #434B5C;\n",
              "      --hover-fill-color: #FFFFFF;\n",
              "      --disabled-bg-color: #3B4455;\n",
              "      --disabled-fill-color: #666;\n",
              "  }\n",
              "\n",
              "  .colab-df-quickchart {\n",
              "    background-color: var(--bg-color);\n",
              "    border: none;\n",
              "    border-radius: 50%;\n",
              "    cursor: pointer;\n",
              "    display: none;\n",
              "    fill: var(--fill-color);\n",
              "    height: 32px;\n",
              "    padding: 0;\n",
              "    width: 32px;\n",
              "  }\n",
              "\n",
              "  .colab-df-quickchart:hover {\n",
              "    background-color: var(--hover-bg-color);\n",
              "    box-shadow: 0 1px 2px rgba(60, 64, 67, 0.3), 0 1px 3px 1px rgba(60, 64, 67, 0.15);\n",
              "    fill: var(--button-hover-fill-color);\n",
              "  }\n",
              "\n",
              "  .colab-df-quickchart-complete:disabled,\n",
              "  .colab-df-quickchart-complete:disabled:hover {\n",
              "    background-color: var(--disabled-bg-color);\n",
              "    fill: var(--disabled-fill-color);\n",
              "    box-shadow: none;\n",
              "  }\n",
              "\n",
              "  .colab-df-spinner {\n",
              "    border: 2px solid var(--fill-color);\n",
              "    border-color: transparent;\n",
              "    border-bottom-color: var(--fill-color);\n",
              "    animation:\n",
              "      spin 1s steps(1) infinite;\n",
              "  }\n",
              "\n",
              "  @keyframes spin {\n",
              "    0% {\n",
              "      border-color: transparent;\n",
              "      border-bottom-color: var(--fill-color);\n",
              "      border-left-color: var(--fill-color);\n",
              "    }\n",
              "    20% {\n",
              "      border-color: transparent;\n",
              "      border-left-color: var(--fill-color);\n",
              "      border-top-color: var(--fill-color);\n",
              "    }\n",
              "    30% {\n",
              "      border-color: transparent;\n",
              "      border-left-color: var(--fill-color);\n",
              "      border-top-color: var(--fill-color);\n",
              "      border-right-color: var(--fill-color);\n",
              "    }\n",
              "    40% {\n",
              "      border-color: transparent;\n",
              "      border-right-color: var(--fill-color);\n",
              "      border-top-color: var(--fill-color);\n",
              "    }\n",
              "    60% {\n",
              "      border-color: transparent;\n",
              "      border-right-color: var(--fill-color);\n",
              "    }\n",
              "    80% {\n",
              "      border-color: transparent;\n",
              "      border-right-color: var(--fill-color);\n",
              "      border-bottom-color: var(--fill-color);\n",
              "    }\n",
              "    90% {\n",
              "      border-color: transparent;\n",
              "      border-bottom-color: var(--fill-color);\n",
              "    }\n",
              "  }\n",
              "</style>\n",
              "\n",
              "  <script>\n",
              "    async function quickchart(key) {\n",
              "      const quickchartButtonEl =\n",
              "        document.querySelector('#' + key + ' button');\n",
              "      quickchartButtonEl.disabled = true;  // To prevent multiple clicks.\n",
              "      quickchartButtonEl.classList.add('colab-df-spinner');\n",
              "      try {\n",
              "        const charts = await google.colab.kernel.invokeFunction(\n",
              "            'suggestCharts', [key], {});\n",
              "      } catch (error) {\n",
              "        console.error('Error during call to suggestCharts:', error);\n",
              "      }\n",
              "      quickchartButtonEl.classList.remove('colab-df-spinner');\n",
              "      quickchartButtonEl.classList.add('colab-df-quickchart-complete');\n",
              "    }\n",
              "    (() => {\n",
              "      let quickchartButtonEl =\n",
              "        document.querySelector('#df-972d267b-d1df-41df-b4c6-ce7c80b12977 button');\n",
              "      quickchartButtonEl.style.display =\n",
              "        google.colab.kernel.accessAllowed ? 'block' : 'none';\n",
              "    })();\n",
              "  </script>\n",
              "</div>\n",
              "    </div>\n",
              "  </div>\n"
            ]
          },
          "metadata": {},
          "execution_count": 32
        }
      ]
    },
    {
      "cell_type": "code",
      "source": [
        "print(y.shape)\n",
        "y.head()"
      ],
      "metadata": {
        "colab": {
          "base_uri": "https://localhost:8080/"
        },
        "id": "UDJKT3ljGSd5",
        "outputId": "43458652-3207-4d9f-9b35-59e976b11136"
      },
      "execution_count": 33,
      "outputs": [
        {
          "output_type": "stream",
          "name": "stdout",
          "text": [
            "(3309,)\n"
          ]
        },
        {
          "output_type": "execute_result",
          "data": {
            "text/plain": [
              "0    1\n",
              "1    0\n",
              "2    0\n",
              "3    0\n",
              "4    0\n",
              "Name: SOURCE, dtype: int64"
            ]
          },
          "metadata": {},
          "execution_count": 33
        }
      ]
    },
    {
      "cell_type": "markdown",
      "source": [
        "\n",
        "##Checking for Multicollinearity\n",
        "PCA assumes that the variables are linearly related, so it is important to check for multicollinearity before applying PCA. If there is high correlation between the variables, PCA may not be appropriate"
      ],
      "metadata": {
        "id": "LIspqUlAFDY9"
      }
    },
    {
      "cell_type": "code",
      "source": [
        "correlation=X.corr()\n",
        "eigenvalues, eigenvectors = np.linalg.eig(correlation)"
      ],
      "metadata": {
        "id": "yAmEj9TYI70Q"
      },
      "execution_count": 34,
      "outputs": []
    },
    {
      "cell_type": "markdown",
      "source": [
        "Eigenvalues in PCA signify the amount of variance that each principal component explains. When you encounter one or more small eigenvalues, it suggests a high degree of correlation among the variables, potentially indicating the presence of multicollinearity in the dataset."
      ],
      "metadata": {
        "id": "2U3avM3yXUzW"
      }
    },
    {
      "cell_type": "code",
      "source": [
        "small_eigenvalues = eigenvalues[eigenvalues < 1]\n",
        "\n",
        "if len(small_eigenvalues) > 0:\n",
        "    print(\"There are small eigenvalues in the correlation matrix, thus varialbles are not highly correlated\")\n",
        "else:\n",
        "    print(\"There are no small eigenvalues in the correlation matrix.\")"
      ],
      "metadata": {
        "colab": {
          "base_uri": "https://localhost:8080/"
        },
        "id": "WUjddDRUKT5q",
        "outputId": "d65769eb-6e0c-48a7-ebd9-578fa6dda290"
      },
      "execution_count": 35,
      "outputs": [
        {
          "output_type": "stream",
          "name": "stdout",
          "text": [
            "There are small eigenvalues in the correlation matrix, thus varialbles are not highly correlated\n"
          ]
        }
      ]
    },
    {
      "cell_type": "markdown",
      "source": [
        "Moreover, PCA requires that the data be standardized, meaning that each variable should be scaled to have a mean of zero and a standard deviation of one. This is necessary because PCA is sensitive to differences in scale between variables, and standardization ensures that all variables are treated equall\n",
        "\n"
      ],
      "metadata": {
        "id": "SELI3CqIFmO6"
      }
    },
    {
      "cell_type": "code",
      "source": [
        "X_scaled=StandardScaler().fit_transform(X)"
      ],
      "metadata": {
        "id": "4qfgDCXrL7QE"
      },
      "execution_count": 36,
      "outputs": []
    },
    {
      "cell_type": "markdown",
      "source": [
        "## Deciding n_components for PCA\n",
        "\n",
        "Calculate the total sum of eigenvalues."
      ],
      "metadata": {
        "id": "zN8m1k_TRuMT"
      }
    },
    {
      "cell_type": "code",
      "source": [
        "sortedValues = np.argsort(eigenvalues, axis=0)[::-1]\n",
        "sortedVectors = eigenvectors[:, sortedValues]"
      ],
      "metadata": {
        "id": "ay4eNPg2MBST"
      },
      "execution_count": 37,
      "outputs": []
    },
    {
      "cell_type": "markdown",
      "source": [
        "Determine the proportion of variance explained by individual principal components by dividing each component's eigenvalue by the total sum of eigenvalues.\n",
        "\n",
        "Compute the cumulative proportion of variance explained by summing up the proportions of variance explained by all principal components.\n",
        "\n",
        "Select the number of principal components that account for the desired amount of explained variance."
      ],
      "metadata": {
        "id": "7P38b0W7R61T"
      }
    },
    {
      "cell_type": "code",
      "source": [
        "cumulative_sum = np.cumsum(eigenvalues[sortedValues]) / np.sum(eigenvalues[sortedValues])\n",
        "xint = range(1, len(cumulative_sum) + 1)\n",
        "plt.plot(xint, cumulative_sum)\n",
        "\n",
        "plt.xlabel(\"Number of components\")\n",
        "plt.ylabel(\"Cumulative explained variance\")\n",
        "plt.xticks(xint)\n",
        "plt.xlim(1, 10, 1)"
      ],
      "metadata": {
        "colab": {
          "base_uri": "https://localhost:8080/",
          "height": 523
        },
        "id": "xHSVvEyDCTZH",
        "outputId": "e8bdc1b0-1e99-4003-ba44-40c70393b6f3"
      },
      "execution_count": 38,
      "outputs": [
        {
          "output_type": "stream",
          "name": "stderr",
          "text": [
            "<ipython-input-38-9dcd7d8b4dc9>:8: MatplotlibDeprecationWarning: Passing the emit parameter of set_xlim() positionally is deprecated since Matplotlib 3.6; the parameter will become keyword-only two minor releases later.\n",
            "  plt.xlim(1, 10, 1)\n"
          ]
        },
        {
          "output_type": "execute_result",
          "data": {
            "text/plain": [
              "(1.0, 10.0)"
            ]
          },
          "metadata": {},
          "execution_count": 38
        },
        {
          "output_type": "display_data",
          "data": {
            "text/plain": [
              "<Figure size 640x480 with 1 Axes>"
            ],
            "image/png": "[encoded data removed]"
          },
          "metadata": {}
        }
      ]
    },
    {
      "cell_type": "markdown",
      "source": [
        "Selecting the right number of principal components in PCA is a crucial dimensionality reduction step. Several methods exist to help determine the appropriate number of principal components. Here are three common approaches:\n",
        "\n",
        "Scree Plot: The scree plot illustrates the variance explained by each principal component. We can pick the number of principal components aligned with the \"elbow\" point on the scree plot, signifying the stage at which adding more components yields diminishing improvements in explaining variance."
      ],
      "metadata": {
        "id": "_m-LLlvyXygL"
      }
    },
    {
      "cell_type": "markdown",
      "source": [
        "From the graph above, we see that 6 componenets are sufficient to capture over 95% of the variance in the data. Hence, the number of input dimensions have been reduced from 9 to 6 by implementing PCA"
      ],
      "metadata": {
        "id": "00sefAnVCfH_"
      }
    },
    {
      "cell_type": "code",
      "source": [
        "from sklearn.decomposition import PCA\n",
        "pca = PCA(0.95)\n",
        "X_pca = pca.fit_transform(X_scaled)"
      ],
      "metadata": {
        "id": "Eayae07qDMsI"
      },
      "execution_count": 39,
      "outputs": []
    },
    {
      "cell_type": "code",
      "source": [
        "X_pca.shape"
      ],
      "metadata": {
        "colab": {
          "base_uri": "https://localhost:8080/"
        },
        "id": "CZRN_lFJDVlc",
        "outputId": "2e639b5d-4571-4c89-828f-ca5407a10313"
      },
      "execution_count": 40,
      "outputs": [
        {
          "output_type": "execute_result",
          "data": {
            "text/plain": [
              "(3309, 6)"
            ]
          },
          "metadata": {},
          "execution_count": 40
        }
      ]
    },
    {
      "cell_type": "markdown",
      "source": [
        "##Implementing Logistic Regression on PCA transformed data"
      ],
      "metadata": {
        "id": "Eyyv9QRQDbR6"
      }
    },
    {
      "cell_type": "code",
      "source": [
        "from sklearn.model_selection import train_test_split\n",
        "from sklearn.linear_model import LogisticRegression\n",
        "\n",
        "X_train, X_test, y_train, y_test = train_test_split(X_pca, y, test_size=0.2, random_state=42)\n",
        "\n",
        "# Train logistic regression model on transformed data\n",
        "lr = LogisticRegression()\n",
        "lr.fit(X_train, y_train)\n",
        "\n",
        "# Predict on test set and evaluate performance\n",
        "y_pred = lr.predict(X_test)"
      ],
      "metadata": {
        "id": "_q9fECcIDZmf"
      },
      "execution_count": 41,
      "outputs": []
    },
    {
      "cell_type": "code",
      "source": [
        "from sklearn.model_selection import train_test_split\n",
        "from sklearn.linear_model import LogisticRegression\n",
        "from imblearn.over_sampling import SMOTE\n",
        "import pandas as pd\n",
        "\n",
        "# Assuming you have your X_pca and y ready\n",
        "\n",
        "# Split the data into training and testing sets\n",
        "X_train, X_test, y_train, y_test = train_test_split(X_pca, y, test_size=0.2, random_state=42)\n",
        "\n",
        "# Instantiate SMOTE\n",
        "smote = SMOTE(random_state=42)\n",
        "\n",
        "# Apply SMOTE to the training data only - as class is imbalanced\n",
        "X_train_resampled, y_train_resampled = smote.fit_resample(X_train, y_train)\n",
        "\n",
        "# Train logistic regression model on the resampled data\n",
        "lr = LogisticRegression()\n",
        "lr.fit(X_train_resampled, y_train_resampled)\n",
        "\n",
        "# Predict on test set and evaluate performance\n",
        "y_pred = lr.predict(X_test)\n",
        "\n",
        "# Now, you can evaluate the performance of your logistic regression model\n",
        "# using metrics like accuracy, precision, recall, F1-score, etc.\n"
      ],
      "metadata": {
        "id": "B_ao7fF4cAlm"
      },
      "execution_count": 42,
      "outputs": []
    },
    {
      "cell_type": "code",
      "source": [
        "# Evaluate the model on the training data\n",
        "train_accuracy = lr.score(X_train, y_train)\n",
        "print(\"Training accuracy:\", train_accuracy)\n",
        "\n",
        "# Evaluate the model on the testing data\n",
        "test_accuracy = lr.score(X_test, y_test)\n",
        "print(\"Testing accuracy:\", test_accuracy)"
      ],
      "metadata": {
        "colab": {
          "base_uri": "https://localhost:8080/"
        },
        "id": "2lArIig1DsKg",
        "outputId": "a3a9a125-f68f-4bed-f9a3-d4276364900e"
      },
      "execution_count": 43,
      "outputs": [
        {
          "output_type": "stream",
          "name": "stdout",
          "text": [
            "Training accuracy: 0.6992822062712505\n",
            "Testing accuracy: 0.7009063444108762\n"
          ]
        }
      ]
    },
    {
      "cell_type": "code",
      "source": [
        "from sklearn.metrics import confusion_matrix, classification_report\n",
        "labels = np.unique(y)\n",
        "cm = confusion_matrix(y_test, y_pred, labels=labels)\n",
        "plt.imshow(cm, interpolation='nearest', cmap=plt.cm.Blues)\n",
        "plt.title(\"Confusion Matrix\")\n",
        "plt.colorbar()\n",
        "tick_marks = np.arange(len(labels))\n",
        "plt.xticks(tick_marks, labels, rotation=45)\n",
        "plt.yticks(tick_marks, labels)\n",
        "plt.xlabel(\"Predicted Class\")\n",
        "plt.ylabel(\"True Class\")\n",
        "plt.show()\n",
        "\n",
        "# Print classification report\n",
        "report = classification_report(y_test, y_pred, labels=labels)\n",
        "print(report)"
      ],
      "metadata": {
        "colab": {
          "base_uri": "https://localhost:8080/",
          "height": 637
        },
        "id": "v-pyh7w0ZMkS",
        "outputId": "46e84ef4-8f73-4c26-e705-8a9ea63186f8"
      },
      "execution_count": 44,
      "outputs": [
        {
          "output_type": "display_data",
          "data": {
            "text/plain": [
              "<Figure size 640x480 with 2 Axes>"
            ],
            "image/png": "[encoded data removed]"
          },
          "metadata": {}
        },
        {
          "output_type": "stream",
          "name": "stdout",
          "text": [
            "              precision    recall  f1-score   support\n",
            "\n",
            "           0       0.74      0.77      0.75       392\n",
            "           1       0.64      0.60      0.62       270\n",
            "\n",
            "    accuracy                           0.70       662\n",
            "   macro avg       0.69      0.69      0.69       662\n",
            "weighted avg       0.70      0.70      0.70       662\n",
            "\n"
          ]
        }
      ]
    },
    {
      "cell_type": "markdown",
      "source": [
        "From the confusion matrix above, we see that the model is performing better in identifying class=0 with a precision and recall of 0.74 and 0.77 respectively. The performance for class=1 is not bad either."
      ],
      "metadata": {
        "id": "_tGMxxsNclCx"
      }
    },
    {
      "cell_type": "code",
      "source": [
        "from sklearn.decomposition import PCA\n",
        "PCA_train_x = PCA(2).fit_transform(X_scaled)\n",
        "\n",
        "plt.scatter(PCA_train_x[:, 0], PCA_train_x[:, 1],c=y)\n",
        "plt.axis('off')\n",
        "plt.colorbar()\n",
        "plt.show()"
      ],
      "metadata": {
        "colab": {
          "base_uri": "https://localhost:8080/",
          "height": 420
        },
        "id": "Ap7etlzkaVto",
        "outputId": "93183834-6464-40c8-c5ac-9a87880f8e35"
      },
      "execution_count": 45,
      "outputs": [
        {
          "output_type": "display_data",
          "data": {
            "text/plain": [
              "<Figure size 640x480 with 2 Axes>"
            ],
            "image/png": "[encoded data removed]"
          },
          "metadata": {}
        }
      ]
    },
    {
      "cell_type": "markdown",
      "source": [
        "##b) LDA (Linear Discriminant Analysis)\n",
        "Linear Discriminant Analysis (LDA) is a dimensionality reduction method applicable to both classification tasks and reducing a dataset's dimensionality. Its primary objective is to project data into a lower-dimensional space while retaining essential class-discriminatory information.\n",
        "\n",
        "LDA's aim is to discover linear combinations of the original features that optimize the distinction between various classes.."
      ],
      "metadata": {
        "id": "by8f71uTef7m"
      }
    },
    {
      "cell_type": "code",
      "source": [
        "from sklearn.model_selection import train_test_split\n",
        "\n",
        "X_train, X_test, y_train, y_test = train_test_split(X, y, test_size=0.2, random_state=42)"
      ],
      "metadata": {
        "id": "Phg_pvWnfdGQ"
      },
      "execution_count": 46,
      "outputs": []
    },
    {
      "cell_type": "code",
      "source": [
        "from sklearn.preprocessing import StandardScaler\n",
        "\n",
        "sc = StandardScaler()\n",
        "X_train = sc.fit_transform(X_train)\n",
        "X_test = sc.transform(X_test)"
      ],
      "metadata": {
        "id": "TX4Fra7JfhVT"
      },
      "execution_count": 47,
      "outputs": []
    },
    {
      "cell_type": "code",
      "source": [
        "from sklearn.discriminant_analysis import LinearDiscriminantAnalysis\n",
        "lda = LinearDiscriminantAnalysis()\n",
        "lda.fit(X_train, y_train)"
      ],
      "metadata": {
        "colab": {
          "base_uri": "https://localhost:8080/",
          "height": 74
        },
        "id": "ZGbN5Y-5fpzq",
        "outputId": "4332bd82-80e9-401e-935a-42552ec94f70"
      },
      "execution_count": 48,
      "outputs": [
        {
          "output_type": "execute_result",
          "data": {
            "text/plain": [
              "LinearDiscriminantAnalysis()"
            ],
            "text/html": [
              "<style>#sk-container-id-1 {color: black;background-color: white;}#sk-container-id-1 pre{padding: 0;}#sk-container-id-1 div.sk-toggleable {background-color: white;}#sk-container-id-1 label.sk-toggleable__label {cursor: pointer;display: block;width: 100%;margin-bottom: 0;padding: 0.3em;box-sizing: border-box;text-align: center;}#sk-container-id-1 label.sk-toggleable__label-arrow:before {content: \"▸\";float: left;margin-right: 0.25em;color: #696969;}#sk-container-id-1 label.sk-toggleable__label-arrow:hover:before {color: black;}#sk-container-id-1 div.sk-estimator:hover label.sk-toggleable__label-arrow:before {color: black;}#sk-container-id-1 div.sk-toggleable__content {max-height: 0;max-width: 0;overflow: hidden;text-align: left;background-color: #f0f8ff;}#sk-container-id-1 div.sk-toggleable__content pre {margin: 0.2em;color: black;border-radius: 0.25em;background-color: #f0f8ff;}#sk-container-id-1 input.sk-toggleable__control:checked~div.sk-toggleable__content {max-height: 200px;max-width: 100%;overflow: auto;}#sk-container-id-1 input.sk-toggleable__control:checked~label.sk-toggleable__label-arrow:before {content: \"▾\";}#sk-container-id-1 div.sk-estimator input.sk-toggleable__control:checked~label.sk-toggleable__label {background-color: #d4ebff;}#sk-container-id-1 div.sk-label input.sk-toggleable__control:checked~label.sk-toggleable__label {background-color: #d4ebff;}#sk-container-id-1 input.sk-hidden--visually {border: 0;clip: rect(1px 1px 1px 1px);clip: rect(1px, 1px, 1px, 1px);height: 1px;margin: -1px;overflow: hidden;padding: 0;position: absolute;width: 1px;}#sk-container-id-1 div.sk-estimator {font-family: monospace;background-color: #f0f8ff;border: 1px dotted black;border-radius: 0.25em;box-sizing: border-box;margin-bottom: 0.5em;}#sk-container-id-1 div.sk-estimator:hover {background-color: #d4ebff;}#sk-container-id-1 div.sk-parallel-item::after {content: \"\";width: 100%;border-bottom: 1px solid gray;flex-grow: 1;}#sk-container-id-1 div.sk-label:hover label.sk-toggleable__label {background-color: #d4ebff;}#sk-container-id-1 div.sk-serial::before {content: \"\";position: absolute;border-left: 1px solid gray;box-sizing: border-box;top: 0;bottom: 0;left: 50%;z-index: 0;}#sk-container-id-1 div.sk-serial {display: flex;flex-direction: column;align-items: center;background-color: white;padding-right: 0.2em;padding-left: 0.2em;position: relative;}#sk-container-id-1 div.sk-item {position: relative;z-index: 1;}#sk-container-id-1 div.sk-parallel {display: flex;align-items: stretch;justify-content: center;background-color: white;position: relative;}#sk-container-id-1 div.sk-item::before, #sk-container-id-1 div.sk-parallel-item::before {content: \"\";position: absolute;border-left: 1px solid gray;box-sizing: border-box;top: 0;bottom: 0;left: 50%;z-index: -1;}#sk-container-id-1 div.sk-parallel-item {display: flex;flex-direction: column;z-index: 1;position: relative;background-color: white;}#sk-container-id-1 div.sk-parallel-item:first-child::after {align-self: flex-end;width: 50%;}#sk-container-id-1 div.sk-parallel-item:last-child::after {align-self: flex-start;width: 50%;}#sk-container-id-1 div.sk-parallel-item:only-child::after {width: 0;}#sk-container-id-1 div.sk-dashed-wrapped {border: 1px dashed gray;margin: 0 0.4em 0.5em 0.4em;box-sizing: border-box;padding-bottom: 0.4em;background-color: white;}#sk-container-id-1 div.sk-label label {font-family: monospace;font-weight: bold;display: inline-block;line-height: 1.2em;}#sk-container-id-1 div.sk-label-container {text-align: center;}#sk-container-id-1 div.sk-container {/* jupyter's `normalize.less` sets `[hidden] { display: none; }` but bootstrap.min.css set `[hidden] { display: none !important; }` so we also need the `!important` here to be able to override the default hidden behavior on the sphinx rendered scikit-learn.org. See: https://github.com/scikit-learn/scikit-learn/issues/21755 */display: inline-block !important;position: relative;}#sk-container-id-1 div.sk-text-repr-fallback {display: none;}</style><div id=\"sk-container-id-1\" class=\"sk-top-container\"><div class=\"sk-text-repr-fallback\"><pre>LinearDiscriminantAnalysis()</pre><b>In a Jupyter environment, please rerun this cell to show the HTML representation or trust the notebook. <br />On GitHub, the HTML representation is unable to render, please try loading this page with nbviewer.org.</b></div><div class=\"sk-container\" hidden><div class=\"sk-item\"><div class=\"sk-estimator sk-toggleable\"><input class=\"sk-toggleable__control sk-hidden--visually\" id=\"sk-estimator-id-1\" type=\"checkbox\" checked><label for=\"sk-estimator-id-1\" class=\"sk-toggleable__label sk-toggleable__label-arrow\">LinearDiscriminantAnalysis</label><div class=\"sk-toggleable__content\"><pre>LinearDiscriminantAnalysis()</pre></div></div></div></div></div>"
            ]
          },
          "metadata": {},
          "execution_count": 48
        }
      ]
    },
    {
      "cell_type": "code",
      "source": [
        "# Transforming data using LDA\n",
        "X_train_lda = lda.transform(X_train)\n",
        "X_test_lda = lda.transform(X_test)"
      ],
      "metadata": {
        "id": "XAlSlkN4fujH"
      },
      "execution_count": 49,
      "outputs": []
    },
    {
      "cell_type": "code",
      "source": [
        "from sklearn.linear_model import LogisticRegression\n",
        "clf = LogisticRegression()\n",
        "clf.fit(X_train_lda, y_train)\n",
        "y_pred = clf.predict(X_test_lda)"
      ],
      "metadata": {
        "id": "AFaeKb58fwUj"
      },
      "execution_count": 50,
      "outputs": []
    },
    {
      "cell_type": "code",
      "source": [
        "# Evaluate the model on the training data\n",
        "train_accuracy = clf.score(X_train_lda, y_train)\n",
        "print(\"Training accuracy:\", train_accuracy)\n",
        "\n",
        "# Evaluate the model on the testing data\n",
        "test_accuracy = clf.score(X_test_lda, y_test)\n",
        "print(\"Testing accuracy:\", test_accuracy)"
      ],
      "metadata": {
        "colab": {
          "base_uri": "https://localhost:8080/"
        },
        "id": "xi46bglBfy_0",
        "outputId": "9b472ec3-9046-42b5-91d0-0c7bcdd9543c"
      },
      "execution_count": 51,
      "outputs": [
        {
          "output_type": "stream",
          "name": "stdout",
          "text": [
            "Training accuracy: 0.7159047978843974\n",
            "Testing accuracy: 0.7054380664652568\n"
          ]
        }
      ]
    },
    {
      "cell_type": "code",
      "source": [
        "from sklearn.metrics import confusion_matrix, classification_report\n",
        "labels = np.unique(y)\n",
        "cm = confusion_matrix(y_test, y_pred, labels=labels)\n",
        "plt.imshow(cm, interpolation='nearest', cmap=plt.cm.Blues)\n",
        "plt.title(\"Confusion Matrix\")\n",
        "plt.colorbar()\n",
        "tick_marks = np.arange(len(labels))\n",
        "plt.xticks(tick_marks, labels, rotation=45)\n",
        "plt.yticks(tick_marks, labels)\n",
        "plt.xlabel(\"Predicted Class\")\n",
        "plt.ylabel(\"True Class\")\n",
        "plt.show()\n",
        "\n",
        "# Print classification report\n",
        "report = classification_report(y_test, y_pred, labels=labels)\n",
        "print(report)"
      ],
      "metadata": {
        "colab": {
          "base_uri": "https://localhost:8080/",
          "height": 637
        },
        "id": "Mpgc-BzKf4no",
        "outputId": "aafbf8ed-79d0-4566-bbe3-b5613cd60b1a"
      },
      "execution_count": 52,
      "outputs": [
        {
          "output_type": "display_data",
          "data": {
            "text/plain": [
              "<Figure size 640x480 with 2 Axes>"
            ],
            "image/png": "[encoded data removed]"
          },
          "metadata": {}
        },
        {
          "output_type": "stream",
          "name": "stdout",
          "text": [
            "              precision    recall  f1-score   support\n",
            "\n",
            "           0       0.70      0.89      0.78       392\n",
            "           1       0.73      0.44      0.55       270\n",
            "\n",
            "    accuracy                           0.71       662\n",
            "   macro avg       0.71      0.66      0.67       662\n",
            "weighted avg       0.71      0.71      0.69       662\n",
            "\n"
          ]
        }
      ]
    },
    {
      "cell_type": "markdown",
      "source": [
        "# Feature Selection\n",
        "\n",
        "The current era is characterized by an abundance of data, which poses a significant challenge for researchers. Effectively extracting valuable information from these vast datasets requires the development of sophisticated algorithms. Data mining tasks like classification, regression, and clustering are instrumental in constructing data models that unveil hidden patterns within the data. However, before diving into these tasks, a crucial preliminary step is data pre-processing. This step is increasingly vital due to the growing array of available analysis techniques, many of which demand large datasets for accurate results.\n",
        "\n",
        "Data pre-processing encompasses various techniques, such as dimensionality reduction and feature selection, which aim to simplify datasets by removing redundant features without sacrificing accuracy significantly. Normalization and standardization procedures ensure that all features have similar scales, preventing any one feature from disproportionately influencing the analysis. Additionally, discretization may be employed for continuous variables like age or salary, grouping values into categories relevant to the context. These processes collectively create an optimal environment for machine learning algorithms to operate efficiently on large datasets while producing reliable results based on pertinent insights extracted from the data.\n",
        "\n",
        "In contemporary research, data pre-processing plays a pivotal role, not only reducing computational demands but also aligning datasets with existing analytical frameworks, ultimately leading to more precise findings. Therefore, understanding the interplay between different pre-processing techniques should be a part of every researcher's toolkit. This knowledge is essential for ensuring that investigations based on extensive datasets yield meaningful results, worthy of presentation and discussion within scientific communities worldwide.\n",
        "\n",
        "## Why do we need Feature Reduction?\n",
        "Feature reduction, or dimensionality reduction, is essential in various data analysis and machine learning tasks for several important reasons:\n",
        "\n",
        "1. Improved Model Performance: One of the primary reasons for feature reduction is to enhance the performance of machine learning models. High-dimensional datasets, with many features, can lead to overfitting, where models perform well on the training data but poorly on new, unseen data. Reducing the number of features helps mitigate overfitting, leading to more robust and accurate models.\n",
        "\n",
        "2. Computational Efficiency: With fewer features, machine learning algorithms require less computational resources and time for training and inference. This is particularly crucial when dealing with large datasets, as reducing dimensionality can significantly speed up processing.\n",
        "\n",
        "3. Enhanced Model Interpretability: Simplifying the dataset by removing irrelevant or redundant features makes the resulting models easier to interpret. Understanding the most important features can provide valuable insights into the relationships within the data.\n",
        "\n",
        "4. Improved Generalization: Feature reduction techniques aim to retain the most relevant information while discarding less important details. This can lead to models that generalize better to new data, as they focus on the most significant patterns and relationships.\n",
        "\n",
        "5. Noise Reduction: High-dimensional datasets often contain noisy or irrelevant features that can adversely affect model performance. Feature reduction helps filter out such noise, resulting in cleaner and more informative data representations.\n",
        "\n",
        "6. Visualization: Visualizing high-dimensional data can be challenging. By reducing dimensionality, you can project the data into lower-dimensional spaces (e.g., 2D or 3D) for easier visualization and exploration.\n",
        "\n",
        "7. Curse of Dimensionality: High-dimensional spaces can exhibit the \"curse of dimensionality,\" where data becomes sparse, and the distance between data points becomes less meaningful. Feature reduction can mitigate this issue by focusing on the most informative features.\n",
        "\n",
        "8. Reduced Storage Requirements: Storing high-dimensional data can be resource-intensive. Reducing dimensionality reduces storage requirements, making it more manageable and cost-effective, especially in big data applications.\n",
        "\n",
        "9. Enhanced Feature Engineering: In some cases, feature reduction techniques can help identify which features are the most important for a specific task. This information can guide feature engineering efforts, helping researchers and data scientists create more relevant and effective features.\n",
        "\n",
        "Overall, feature reduction is a valuable tool in data analysis and machine learning because it helps address challenges associated with high-dimensional data, leading to better model performance, efficiency, and interpretability. However, it's essential to choose the right feature reduction technique based on the characteristics of the data and the specific objectives of the analysis or modeling task.\n",
        "\n",
        "\n",
        "**Classifying Feature Selection Methods**\n",
        "\n",
        "Feature selection methods can be classified in a number of ways. The most common one is the classification into filters, wrappers, embedded and hybrid methods.\n",
        "\n",
        "**Filter Methods:** Filter methods rank features based on their statistical properties or relevance to the target variable, without considering the machine learning model. Common metrics used in filter methods include correlation, mutual information, and statistical tests. Features are then selected or ranked based on these metrics, and a threshold is set to determine which features to keep.\n",
        "\n",
        "**Wrapper Methods:** Wrapper methods evaluate different subsets of features by training and testing a machine learning model on each subset. Common wrapper methods include forward selection, backward elimination, and recursive feature elimination (RFE). These methods use the performance of the model as a criterion for selecting features.\n",
        "\n",
        "**Embedded Methods:** Embedded methods incorporate feature selection as an integral part of the model training process. For example, in linear models, L1 regularization (Lasso) can automatically perform feature selection by setting some feature coefficients to zero. Decision tree-based algorithms like Random Forest can also provide feature importance scores, helping you identify the most relevant features.\n",
        "\n",
        "The choice of feature selection method depends on the specific problem, dataset, and machine learning algorithm you are using. It's often necessary to experiment with different methods and evaluate their impact on model performance to determine the most effective feature selection strategy for your task.\n",
        "\n"
      ],
      "metadata": {
        "id": "Cxid65_PgUDJ"
      }
    },
    {
      "cell_type": "markdown",
      "source": [
        "## Structured and Streaming Features\n",
        "The Grafting algorithm is a regularization-based technique that focuses on the structure of features within a dataset. It starts by picking a subset of features and then gradually adds more based on how they correlate with the selected ones. This approach is useful for identifying groups of related variables and those with lower intercorrelations.\n",
        "\n",
        "The Alpha-Investing algorithm, on the other hand, employs Lasso regularization to choose relevant feature subsets from datasets that have structured data, such as those with spatial or temporal patterns, distinct or overlapping groups, and tree or graph-like structures.\n",
        "\n",
        "Similarly, the OSFS algorithm utilizes Lasso regularization for feature selection but takes an extra step of dividing the dataset into subgroups based on specific criteria before applying the technique. This ensures that only pertinent variables are selected within each subgroup.\n",
        "\n",
        "Lastly, there's a dynamic fuzzy rough set approach that considers both static and dynamic aspects when picking an optimal subset from datasets with complex structures like graphs or trees. This method identifies patterns among different attribute sets over time to determine how they interact when making accurate predictions. Consequently, it allows us to use only those attributes containing crucial information while disregarding others that may not significantly contribute to prediction."
      ],
      "metadata": {
        "id": "iqAtXeEOk1kt"
      }
    },
    {
      "cell_type": "code",
      "source": [
        "from sklearn.feature_selection import mutual_info_classif\n",
        "import matplotlib.pyplot as plt\n",
        "%matplotlib inline\n",
        "importances = mutual_info_classif(X, y)\n",
        "feat_importances = pd.Series(importances, X.columns[0:len(X.columns)])\n",
        "feat_importances.plot(kind='barh', color = 'teal')\n",
        "plt.show()"
      ],
      "metadata": {
        "colab": {
          "base_uri": "https://localhost:8080/",
          "height": 430
        },
        "id": "1Ev8FJFhgRo7",
        "outputId": "47b41d12-67d9-4500-95ba-bdbd32a7f6c0"
      },
      "execution_count": 53,
      "outputs": [
        {
          "output_type": "display_data",
          "data": {
            "text/plain": [
              "<Figure size 640x480 with 1 Axes>"
            ],
            "image/png": "[encoded data removed]"
          },
          "metadata": {}
        }
      ]
    },
    {
      "cell_type": "markdown",
      "source": [
        "By visualizing feature importance, we get some context as to which feature contributes how much in categorizing the data point into it's respective class. We see that 6 omponents have enough weight to capture 95%+ of variance in the data."
      ],
      "metadata": {
        "id": "U7xpKso0Sxmr"
      }
    },
    {
      "cell_type": "code",
      "source": [
        "from sklearn.feature_selection import SelectKBest\n",
        "from sklearn.feature_selection import chi2\n",
        "X = X.astype(int)\n",
        "chi2_features = SelectKBest(chi2, k = 3)\n",
        "X_kbest_features = chi2_features.fit_transform(X, y)\n",
        "# Reduced features\n",
        "print('Original feature number:', X.shape[1])\n",
        "print('Reduced feature number:',X_kbest_features.shape[1])"
      ],
      "metadata": {
        "colab": {
          "base_uri": "https://localhost:8080/"
        },
        "id": "8buF020QUnKe",
        "outputId": "4d875557-9a1b-4114-af4e-2b9fc806afd4"
      },
      "execution_count": 54,
      "outputs": [
        {
          "output_type": "stream",
          "name": "stdout",
          "text": [
            "Original feature number: 9\n",
            "Reduced feature number: 3\n"
          ]
        }
      ]
    },
    {
      "cell_type": "code",
      "source": [
        "import seaborn as shs\n",
        "import matplotlib.pyplot as plt\n",
        "%matplotlib inline\n",
        "# Correlation\n",
        "cor = X.corr()\n",
        "# Plotting Heatmap\n",
        "plt.figure(figsize = (10,6))\n",
        "shs.heatmap(cor, annot = True)"
      ],
      "metadata": {
        "colab": {
          "base_uri": "https://localhost:8080/",
          "height": 645
        },
        "id": "qim9fG7SVh1Q",
        "outputId": "934b0d66-6a3f-438e-9895-3d0678e832d0"
      },
      "execution_count": 55,
      "outputs": [
        {
          "output_type": "execute_result",
          "data": {
            "text/plain": [
              "<Axes: >"
            ]
          },
          "metadata": {},
          "execution_count": 55
        },
        {
          "output_type": "display_data",
          "data": {
            "text/plain": [
              "<Figure size 1000x600 with 2 Axes>"
            ],
            "image/png": "[encoded data removed]"
          },
          "metadata": {}
        }
      ]
    },
    {
      "cell_type": "code",
      "source": [
        "# Splitting the dataset into the Training set and Test set\n",
        "from sklearn.model_selection import train_test_split\n",
        "X_train, X_test, Y_train, Y_test = train_test_split(X, y, test_size=0.25, random_state=0)\n",
        "\n",
        "from sklearn.preprocessing import StandardScaler\n",
        "sc = StandardScaler()\n",
        "X_train = sc.fit_transform(X_train)\n",
        "X_test = sc.transform(X_test)\n",
        "\n",
        "# Forward Feature Selection\n",
        "import six\n",
        "import sys\n",
        "sys.modules['sklearn.externals.six'] = six\n",
        "import joblib\n",
        "sys.modules['sklearn.externals.joblib'] = joblib\n",
        "import sklearn.externals as extjoblib\n",
        "import joblib\n",
        "from sklearn.neighbors import KNeighborsClassifier\n",
        "from mlxtend.feature_selection import SequentialFeatureSelector as SFS\n",
        "\n",
        "knn = KNeighborsClassifier(n_neighbors=4)\n",
        "sfs1 = SFS(knn, k_features=3, forward=True, floating=False, verbose=2, scoring='accuracy', cv=0)\n",
        "sfs1 = sfs1.fit(X, y)\n"
      ],
      "metadata": {
        "colab": {
          "base_uri": "https://localhost:8080/"
        },
        "id": "Oval_Xr6XnhF",
        "outputId": "d96e0f1b-0e37-41d2-f73e-99b167662753"
      },
      "execution_count": 56,
      "outputs": [
        {
          "output_type": "stream",
          "name": "stderr",
          "text": [
            "\n",
            "[2023-10-03 01:41:25] Features: 1/3 -- score: 0.691145361136295\n",
            "[2023-10-03 01:41:27] Features: 2/3 -- score: 0.7727410093683892\n",
            "[2023-10-03 01:41:31] Features: 3/3 -- score: 0.7830160169235418"
          ]
        }
      ]
    },
    {
      "cell_type": "code",
      "source": [
        "sfs1.subsets_"
      ],
      "metadata": {
        "colab": {
          "base_uri": "https://localhost:8080/"
        },
        "id": "MCRXuzFGbekJ",
        "outputId": "d2e9fa3d-b987-449c-a01b-8fd9733d3e90"
      },
      "execution_count": 57,
      "outputs": [
        {
          "output_type": "execute_result",
          "data": {
            "text/plain": [
              "{1: {'feature_idx': (4,),\n",
              "  'cv_scores': array([0.69114536]),\n",
              "  'avg_score': 0.691145361136295,\n",
              "  'feature_names': ('THROMBOCYTE',)},\n",
              " 2: {'feature_idx': (0, 4),\n",
              "  'cv_scores': array([0.77274101]),\n",
              "  'avg_score': 0.7727410093683892,\n",
              "  'feature_names': ('HAEMATOCRIT', 'THROMBOCYTE')},\n",
              " 3: {'feature_idx': (0, 3, 4),\n",
              "  'cv_scores': array([0.78301602]),\n",
              "  'avg_score': 0.7830160169235418,\n",
              "  'feature_names': ('HAEMATOCRIT', 'LEUCOCYTE', 'THROMBOCYTE')}}"
            ]
          },
          "metadata": {},
          "execution_count": 57
        }
      ]
    },
    {
      "cell_type": "code",
      "source": [
        "feature_names = ('HAEMATOCRIT', 'HAEMOGLOBINS', 'ERYTHROCYTE', 'LEUCOCYTE', 'THROMBOCYTE', 'MCH', 'MCHC', 'MCV', 'AGE')\n",
        "\n",
        "sfs1 = sfs1.fit(X, y, feature_names)\n",
        "\n",
        "sfs1.subsets_"
      ],
      "metadata": {
        "colab": {
          "base_uri": "https://localhost:8080/"
        },
        "id": "_3eowoq6enw0",
        "outputId": "1b3d5aea-8086-4c22-effa-5c77ee6f1443"
      },
      "execution_count": 58,
      "outputs": [
        {
          "output_type": "stream",
          "name": "stderr",
          "text": [
            "\n",
            "[2023-10-03 01:41:34] Features: 1/3 -- score: 0.691145361136295\n",
            "[2023-10-03 01:41:36] Features: 2/3 -- score: 0.7727410093683892\n",
            "[2023-10-03 01:41:37] Features: 3/3 -- score: 0.7830160169235418"
          ]
        },
        {
          "output_type": "execute_result",
          "data": {
            "text/plain": [
              "{1: {'feature_idx': (4,),\n",
              "  'cv_scores': array([0.69114536]),\n",
              "  'avg_score': 0.691145361136295,\n",
              "  'feature_names': ('THROMBOCYTE',)},\n",
              " 2: {'feature_idx': (0, 4),\n",
              "  'cv_scores': array([0.77274101]),\n",
              "  'avg_score': 0.7727410093683892,\n",
              "  'feature_names': ('HAEMATOCRIT', 'THROMBOCYTE')},\n",
              " 3: {'feature_idx': (0, 3, 4),\n",
              "  'cv_scores': array([0.78301602]),\n",
              "  'avg_score': 0.7830160169235418,\n",
              "  'feature_names': ('HAEMATOCRIT', 'LEUCOCYTE', 'THROMBOCYTE')}}"
            ]
          },
          "metadata": {},
          "execution_count": 58
        }
      ]
    },
    {
      "cell_type": "code",
      "source": [
        "sfs1.k_feature_idx_"
      ],
      "metadata": {
        "colab": {
          "base_uri": "https://localhost:8080/"
        },
        "id": "mFgwGtzjezHx",
        "outputId": "6ba11617-c08c-435c-f23d-85ccac88e547"
      },
      "execution_count": 59,
      "outputs": [
        {
          "output_type": "execute_result",
          "data": {
            "text/plain": [
              "(0, 3, 4)"
            ]
          },
          "metadata": {},
          "execution_count": 59
        }
      ]
    },
    {
      "cell_type": "code",
      "source": [
        "sfs1.k_feature_names_"
      ],
      "metadata": {
        "colab": {
          "base_uri": "https://localhost:8080/"
        },
        "id": "hkaQLtvle3Ne",
        "outputId": "6e7848f6-8a1d-4753-b41f-46cb07063ea1"
      },
      "execution_count": 60,
      "outputs": [
        {
          "output_type": "execute_result",
          "data": {
            "text/plain": [
              "('HAEMATOCRIT', 'LEUCOCYTE', 'THROMBOCYTE')"
            ]
          },
          "metadata": {},
          "execution_count": 60
        }
      ]
    },
    {
      "cell_type": "code",
      "source": [
        "sfs1.k_score_"
      ],
      "metadata": {
        "colab": {
          "base_uri": "https://localhost:8080/"
        },
        "id": "1OWHNAdHe5wK",
        "outputId": "e4a034b5-7b7a-46ec-e491-e367cec7dadc"
      },
      "execution_count": 61,
      "outputs": [
        {
          "output_type": "execute_result",
          "data": {
            "text/plain": [
              "0.7830160169235418"
            ]
          },
          "metadata": {},
          "execution_count": 61
        }
      ]
    },
    {
      "cell_type": "markdown",
      "source": [
        "# Results"
      ],
      "metadata": {
        "id": "ITxu3XtZTOIx"
      }
    },
    {
      "cell_type": "markdown",
      "source": [
        "\n",
        "After applying Principal Component Analysis (PCA) to the Patient Treatment dataset, we found that only 6 out of the original 9 variables were necessary to effectively predict whether a patient requires inpatient or outpatient care. This successful dimensionality reduction using PCA indicates that we were able to capture the essential information while reducing the complexity of the dataset.\n",
        "\n",
        "Furthermore, by visualizing the feature importance, we gained insights into how each feature contributes to categorizing data points into their respective classes. This analysis revealed that these 6 principal components collectively account for over 95% of the variance in the data, highlighting their significant role in understanding and classifying patient outcomes."
      ],
      "metadata": {
        "id": "cNbKW1oZTTKM"
      }
    },
    {
      "cell_type": "markdown",
      "source": [
        "#References\n",
        "\n",
        "ChatGPT\n",
        "\n",
        "Python documentation for Pandas\n",
        "\n",
        "Matplotlib documentation: Matplotlib\n",
        "\n",
        "Seaborn documentationL Seaborn\n",
        "\n",
        "J. Tang, S. Alelyani and H. Liu, \"Feature Selection for Classification: A Review\" in Data Classification: Algorithms and Applications, CRC Press, 2014.\n",
        "\n",
        "https://medium.com/towards-artificial-intelligence/why-and-what-is-feature-engineering-in-ml-46a6bf7de5c6"
      ],
      "metadata": {
        "id": "Q5sYt4FFfC-2"
      }
    }
  ]
}