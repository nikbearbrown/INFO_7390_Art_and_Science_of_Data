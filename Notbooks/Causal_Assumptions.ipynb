{
  "nbformat": 4,
  "nbformat_minor": 0,
  "metadata": {
    "colab": {
      "provenance": []
    },
    "kernelspec": {
      "name": "python3",
      "display_name": "Python 3"
    },
    "language_info": {
      "name": "python"
    }
  },
  "cells": [
    {
      "cell_type": "markdown",
      "source": [
        "#Causal Assumptions\n",
        "Authors: Megha Patel\n",
        "![image](https://github.com/meghamkpatel/INFO_7390_Art_and_Science_of_Data/assets/32498703/a129f0ad-2653-42ab-a5fd-e2c26d23b518)"
      ],
      "metadata": {
        "id": "PzQ_s_JIloah"
      }
    },
    {
      "cell_type": "markdown",
      "source": [
        "##Abstract"
      ],
      "metadata": {
        "id": "j3WFNHEPl7Bj"
      }
    },
    {
      "cell_type": "markdown",
      "source": [
        "This notebook explores the fundamental concept of causality and its application in data science, emphasizing the challenges of establishing causal relationships between variables. Causal inference is essential for making informed decisions and predictions based on data, as it involves understanding the direct impact of one or more variables on another. The discussion delves into the complexity of inferring causality from data, particularly highlighting the limitations of relying solely on correlation, which does not guarantee causation due to potential confounding factors. To conduct accurate causal analysis, researchers must adhere to critical assumptions, including ignorability, consistency, and the Stable Unit Treatment Value Assumption (SUTVA). This notebook elucidates these assumptions, underscores their significance, and provides practical code implementations for enhanced comprehension."
      ],
      "metadata": {
        "id": "OrzaH3zVmLki"
      }
    },
    {
      "cell_type": "markdown",
      "source": [
        "##Table of Contents\n",
        "1. [Abstract](https://)\n",
        "2. [Introduction](#scrollTo=4R9sz0yAl8cO)\n",
        "3. [SUTVA](#scrollTo=AdNmw1rVUA3l)\n",
        "4. [Consistency](#scrollTo=bTGTqkBWEYTk)\n",
        "5. [Ignorability](#scrollTo=ToaAXqkgETXQ)\n",
        "6. [Positivity](#scrollTo=PNIv5PHhEgqM)\n",
        "7. [Conclusion](#scrollTo=_rRu313UEpAG)\n",
        "8. [References](https://)\n",
        "9. [License](https://)"
      ],
      "metadata": {
        "id": "ZJ_mopxwmNm4"
      }
    },
    {
      "cell_type": "markdown",
      "source": [
        "#Introduction"
      ],
      "metadata": {
        "id": "4R9sz0yAl8cO"
      }
    },
    {
      "cell_type": "markdown",
      "source": [
        "Causality refers to the relationship between cause and effect when analyzing the impact of one or more variables on another. Understanding causality is crucial for making informed decisions and predictions based on data.\n",
        "\n",
        "Causal relationships imply that a change in one variable directly causes a change in another. However, establishing causality is challenging because correlation (association between variables) does not necessarily imply causation because there could be confounding factors or other explanations.\n",
        "\n",
        "To infer causality from data, researchers often use experimental designs, such as randomized controlled trials (RCTs), where participants are randomly assigned to different groups. Randomization helps control for confounding factors and increases the likelihood that observed differences are due to the manipulated variable. However, experimental designs cannot be used for all situations, and in such cases, researchers must use statistical methods and causal inference techniques to strengthen their arguments about causation.\n",
        "\n",
        "To perform accurate causal analysis, it is crucial to understand and adhere to certain assumptions, including ignorability, consistency, and the Stable Unit Treatment Value Assumption (SUTVA). This notebook will discuss these assumptions, their significance, and provide practical code implementations for better comprehension.\n",
        "\n",
        "For the purposes of this notebook, we will use a medical cost dataset to provide examples of these assumptions. This dataset is used to predict insurance costs based on a person's age, gender, health, and other factors.\n",
        "\n",
        "Reference: https://www.kaggle.com/datasets/mirichoi0218/insurance/code\n",
        "![image](https://github.com/meghamkpatel/INFO_7390_Art_and_Science_of_Data/assets/32498703/35b13438-3191-4049-ab8f-c291736cd017)\n",
        "\n",
        "\n",
        "###The Data\n",
        "* age: age of primary beneficiary\n",
        "\n",
        "* sex: insurance contractor gender, female, male\n",
        "\n",
        "* bmi: body mass index, providing an understanding of body, weights that are relatively high or low relative to height, objective index of body weight (kg / m ^ 2) using the ratio of height to weight, ideally 18.5 to 24.9\n",
        "\n",
        "* children: number of children covered by health insurance / Number of dependents\n",
        "\n",
        "* smoker: whether the beneficiary smokes or not\n",
        "\n",
        "* region: the beneficiary's residential area in the US: northeast, southeast, southwest, northwest.\n",
        "\n",
        "* charges: individual medical costs billed by health insurance\n"
      ],
      "metadata": {
        "id": "e3_5d5LWl-k6"
      }
    },
    {
      "cell_type": "markdown",
      "source": [
        "First, let's download our dataset and check for any missing data."
      ],
      "metadata": {
        "id": "xyKCCjPOzj0r"
      }
    },
    {
      "cell_type": "code",
      "source": [
        "!git clone https://github.com/meghamkpatel/INFO_7390_Art_and_Science_of_Data.git"
      ],
      "metadata": {
        "colab": {
          "base_uri": "https://localhost:8080/"
        },
        "id": "z_Q7Ph5OR_Fi",
        "outputId": "acc2c893-b834-4f40-f16e-34194278d381"
      },
      "execution_count": null,
      "outputs": [
        {
          "output_type": "stream",
          "name": "stdout",
          "text": [
            "Cloning into 'INFO_7390_Art_and_Science_of_Data'...\n",
            "remote: Enumerating objects: 1169, done.\u001b[K\n",
            "remote: Counting objects: 100% (1169/1169), done.\u001b[K\n",
            "remote: Compressing objects: 100% (658/658), done.\u001b[K\n",
            "remote: Total 1169 (delta 638), reused 971 (delta 497), pack-reused 0\u001b[K\n",
            "Receiving objects: 100% (1169/1169), 193.96 MiB | 14.61 MiB/s, done.\n",
            "Resolving deltas: 100% (638/638), done.\n",
            "Updating files: 100% (214/214), done.\n"
          ]
        }
      ]
    },
    {
      "cell_type": "code",
      "source": [
        "import pandas as pd\n",
        "import statsmodels.api as sm\n",
        "data = pd.read_csv(\"/content/INFO_7390_Art_and_Science_of_Data/Causal_Inference/insurance.csv\")"
      ],
      "metadata": {
        "id": "T4-U9OnlSShj"
      },
      "execution_count": null,
      "outputs": []
    },
    {
      "cell_type": "code",
      "source": [
        "data.isnull().sum()"
      ],
      "metadata": {
        "colab": {
          "base_uri": "https://localhost:8080/"
        },
        "id": "wRaNvziiYwXr",
        "outputId": "d3bcbf6b-7e54-4b73-9a42-96185b4da691"
      },
      "execution_count": null,
      "outputs": [
        {
          "output_type": "execute_result",
          "data": {
            "text/plain": [
              "age         0\n",
              "sex         0\n",
              "bmi         0\n",
              "children    0\n",
              "smoker      0\n",
              "region      0\n",
              "charges     0\n",
              "dtype: int64"
            ]
          },
          "metadata": {},
          "execution_count": 3
        }
      ]
    },
    {
      "cell_type": "code",
      "source": [
        "data.describe()\n"
      ],
      "metadata": {
        "colab": {
          "base_uri": "https://localhost:8080/",
          "height": 300
        },
        "id": "ZOEQE-4-YzEs",
        "outputId": "c5b2147f-09b1-46a3-da23-2757d29a7409"
      },
      "execution_count": null,
      "outputs": [
        {
          "output_type": "execute_result",
          "data": {
            "text/plain": [
              "               age          bmi     children       charges\n",
              "count  1338.000000  1338.000000  1338.000000   1338.000000\n",
              "mean     39.207025    30.663397     1.094918  13270.422265\n",
              "std      14.049960     6.098187     1.205493  12110.011237\n",
              "min      18.000000    15.960000     0.000000   1121.873900\n",
              "25%      27.000000    26.296250     0.000000   4740.287150\n",
              "50%      39.000000    30.400000     1.000000   9382.033000\n",
              "75%      51.000000    34.693750     2.000000  16639.912515\n",
              "max      64.000000    53.130000     5.000000  63770.428010"
            ],
            "text/html": [
              "\n",
              "  <div id=\"df-531278a2-b883-4eea-b166-d940ff7a3102\" class=\"colab-df-container\">\n",
              "    <div>\n",
              "<style scoped>\n",
              "    .dataframe tbody tr th:only-of-type {\n",
              "        vertical-align: middle;\n",
              "    }\n",
              "\n",
              "    .dataframe tbody tr th {\n",
              "        vertical-align: top;\n",
              "    }\n",
              "\n",
              "    .dataframe thead th {\n",
              "        text-align: right;\n",
              "    }\n",
              "</style>\n",
              "<table border=\"1\" class=\"dataframe\">\n",
              "  <thead>\n",
              "    <tr style=\"text-align: right;\">\n",
              "      <th></th>\n",
              "      <th>age</th>\n",
              "      <th>bmi</th>\n",
              "      <th>children</th>\n",
              "      <th>charges</th>\n",
              "    </tr>\n",
              "  </thead>\n",
              "  <tbody>\n",
              "    <tr>\n",
              "      <th>count</th>\n",
              "      <td>1338.000000</td>\n",
              "      <td>1338.000000</td>\n",
              "      <td>1338.000000</td>\n",
              "      <td>1338.000000</td>\n",
              "    </tr>\n",
              "    <tr>\n",
              "      <th>mean</th>\n",
              "      <td>39.207025</td>\n",
              "      <td>30.663397</td>\n",
              "      <td>1.094918</td>\n",
              "      <td>13270.422265</td>\n",
              "    </tr>\n",
              "    <tr>\n",
              "      <th>std</th>\n",
              "      <td>14.049960</td>\n",
              "      <td>6.098187</td>\n",
              "      <td>1.205493</td>\n",
              "      <td>12110.011237</td>\n",
              "    </tr>\n",
              "    <tr>\n",
              "      <th>min</th>\n",
              "      <td>18.000000</td>\n",
              "      <td>15.960000</td>\n",
              "      <td>0.000000</td>\n",
              "      <td>1121.873900</td>\n",
              "    </tr>\n",
              "    <tr>\n",
              "      <th>25%</th>\n",
              "      <td>27.000000</td>\n",
              "      <td>26.296250</td>\n",
              "      <td>0.000000</td>\n",
              "      <td>4740.287150</td>\n",
              "    </tr>\n",
              "    <tr>\n",
              "      <th>50%</th>\n",
              "      <td>39.000000</td>\n",
              "      <td>30.400000</td>\n",
              "      <td>1.000000</td>\n",
              "      <td>9382.033000</td>\n",
              "    </tr>\n",
              "    <tr>\n",
              "      <th>75%</th>\n",
              "      <td>51.000000</td>\n",
              "      <td>34.693750</td>\n",
              "      <td>2.000000</td>\n",
              "      <td>16639.912515</td>\n",
              "    </tr>\n",
              "    <tr>\n",
              "      <th>max</th>\n",
              "      <td>64.000000</td>\n",
              "      <td>53.130000</td>\n",
              "      <td>5.000000</td>\n",
              "      <td>63770.428010</td>\n",
              "    </tr>\n",
              "  </tbody>\n",
              "</table>\n",
              "</div>\n",
              "    <div class=\"colab-df-buttons\">\n",
              "\n",
              "  <div class=\"colab-df-container\">\n",
              "    <button class=\"colab-df-convert\" onclick=\"convertToInteractive('df-531278a2-b883-4eea-b166-d940ff7a3102')\"\n",
              "            title=\"Convert this dataframe to an interactive table.\"\n",
              "            style=\"display:none;\">\n",
              "\n",
              "  <svg xmlns=\"http://www.w3.org/2000/svg\" height=\"24px\" viewBox=\"0 -960 960 960\">\n",
              "    <path d=\"M120-120v-720h720v720H120Zm60-500h600v-160H180v160Zm220 220h160v-160H400v160Zm0 220h160v-160H400v160ZM180-400h160v-160H180v160Zm440 0h160v-160H620v160ZM180-180h160v-160H180v160Zm440 0h160v-160H620v160Z\"/>\n",
              "  </svg>\n",
              "    </button>\n",
              "\n",
              "  <style>\n",
              "    .colab-df-container {\n",
              "      display:flex;\n",
              "      gap: 12px;\n",
              "    }\n",
              "\n",
              "    .colab-df-convert {\n",
              "      background-color: #E8F0FE;\n",
              "      border: none;\n",
              "      border-radius: 50%;\n",
              "      cursor: pointer;\n",
              "      display: none;\n",
              "      fill: #1967D2;\n",
              "      height: 32px;\n",
              "      padding: 0 0 0 0;\n",
              "      width: 32px;\n",
              "    }\n",
              "\n",
              "    .colab-df-convert:hover {\n",
              "      background-color: #E2EBFA;\n",
              "      box-shadow: 0px 1px 2px rgba(60, 64, 67, 0.3), 0px 1px 3px 1px rgba(60, 64, 67, 0.15);\n",
              "      fill: #174EA6;\n",
              "    }\n",
              "\n",
              "    .colab-df-buttons div {\n",
              "      margin-bottom: 4px;\n",
              "    }\n",
              "\n",
              "    [theme=dark] .colab-df-convert {\n",
              "      background-color: #3B4455;\n",
              "      fill: #D2E3FC;\n",
              "    }\n",
              "\n",
              "    [theme=dark] .colab-df-convert:hover {\n",
              "      background-color: #434B5C;\n",
              "      box-shadow: 0px 1px 3px 1px rgba(0, 0, 0, 0.15);\n",
              "      filter: drop-shadow(0px 1px 2px rgba(0, 0, 0, 0.3));\n",
              "      fill: #FFFFFF;\n",
              "    }\n",
              "  </style>\n",
              "\n",
              "    <script>\n",
              "      const buttonEl =\n",
              "        document.querySelector('#df-531278a2-b883-4eea-b166-d940ff7a3102 button.colab-df-convert');\n",
              "      buttonEl.style.display =\n",
              "        google.colab.kernel.accessAllowed ? 'block' : 'none';\n",
              "\n",
              "      async function convertToInteractive(key) {\n",
              "        const element = document.querySelector('#df-531278a2-b883-4eea-b166-d940ff7a3102');\n",
              "        const dataTable =\n",
              "          await google.colab.kernel.invokeFunction('convertToInteractive',\n",
              "                                                    [key], {});\n",
              "        if (!dataTable) return;\n",
              "\n",
              "        const docLinkHtml = 'Like what you see? Visit the ' +\n",
              "          '<a target=\"_blank\" href=https://colab.research.google.com/notebooks/data_table.ipynb>data table notebook</a>'\n",
              "          + ' to learn more about interactive tables.';\n",
              "        element.innerHTML = '';\n",
              "        dataTable['output_type'] = 'display_data';\n",
              "        await google.colab.output.renderOutput(dataTable, element);\n",
              "        const docLink = document.createElement('div');\n",
              "        docLink.innerHTML = docLinkHtml;\n",
              "        element.appendChild(docLink);\n",
              "      }\n",
              "    </script>\n",
              "  </div>\n",
              "\n",
              "\n",
              "<div id=\"df-99c00f75-bf3f-4f59-9cbd-b8cc22492d0e\">\n",
              "  <button class=\"colab-df-quickchart\" onclick=\"quickchart('df-99c00f75-bf3f-4f59-9cbd-b8cc22492d0e')\"\n",
              "            title=\"Suggest charts\"\n",
              "            style=\"display:none;\">\n",
              "\n",
              "<svg xmlns=\"http://www.w3.org/2000/svg\" height=\"24px\"viewBox=\"0 0 24 24\"\n",
              "     width=\"24px\">\n",
              "    <g>\n",
              "        <path d=\"M19 3H5c-1.1 0-2 .9-2 2v14c0 1.1.9 2 2 2h14c1.1 0 2-.9 2-2V5c0-1.1-.9-2-2-2zM9 17H7v-7h2v7zm4 0h-2V7h2v10zm4 0h-2v-4h2v4z\"/>\n",
              "    </g>\n",
              "</svg>\n",
              "  </button>\n",
              "\n",
              "<style>\n",
              "  .colab-df-quickchart {\n",
              "      --bg-color: #E8F0FE;\n",
              "      --fill-color: #1967D2;\n",
              "      --hover-bg-color: #E2EBFA;\n",
              "      --hover-fill-color: #174EA6;\n",
              "      --disabled-fill-color: #AAA;\n",
              "      --disabled-bg-color: #DDD;\n",
              "  }\n",
              "\n",
              "  [theme=dark] .colab-df-quickchart {\n",
              "      --bg-color: #3B4455;\n",
              "      --fill-color: #D2E3FC;\n",
              "      --hover-bg-color: #434B5C;\n",
              "      --hover-fill-color: #FFFFFF;\n",
              "      --disabled-bg-color: #3B4455;\n",
              "      --disabled-fill-color: #666;\n",
              "  }\n",
              "\n",
              "  .colab-df-quickchart {\n",
              "    background-color: var(--bg-color);\n",
              "    border: none;\n",
              "    border-radius: 50%;\n",
              "    cursor: pointer;\n",
              "    display: none;\n",
              "    fill: var(--fill-color);\n",
              "    height: 32px;\n",
              "    padding: 0;\n",
              "    width: 32px;\n",
              "  }\n",
              "\n",
              "  .colab-df-quickchart:hover {\n",
              "    background-color: var(--hover-bg-color);\n",
              "    box-shadow: 0 1px 2px rgba(60, 64, 67, 0.3), 0 1px 3px 1px rgba(60, 64, 67, 0.15);\n",
              "    fill: var(--button-hover-fill-color);\n",
              "  }\n",
              "\n",
              "  .colab-df-quickchart-complete:disabled,\n",
              "  .colab-df-quickchart-complete:disabled:hover {\n",
              "    background-color: var(--disabled-bg-color);\n",
              "    fill: var(--disabled-fill-color);\n",
              "    box-shadow: none;\n",
              "  }\n",
              "\n",
              "  .colab-df-spinner {\n",
              "    border: 2px solid var(--fill-color);\n",
              "    border-color: transparent;\n",
              "    border-bottom-color: var(--fill-color);\n",
              "    animation:\n",
              "      spin 1s steps(1) infinite;\n",
              "  }\n",
              "\n",
              "  @keyframes spin {\n",
              "    0% {\n",
              "      border-color: transparent;\n",
              "      border-bottom-color: var(--fill-color);\n",
              "      border-left-color: var(--fill-color);\n",
              "    }\n",
              "    20% {\n",
              "      border-color: transparent;\n",
              "      border-left-color: var(--fill-color);\n",
              "      border-top-color: var(--fill-color);\n",
              "    }\n",
              "    30% {\n",
              "      border-color: transparent;\n",
              "      border-left-color: var(--fill-color);\n",
              "      border-top-color: var(--fill-color);\n",
              "      border-right-color: var(--fill-color);\n",
              "    }\n",
              "    40% {\n",
              "      border-color: transparent;\n",
              "      border-right-color: var(--fill-color);\n",
              "      border-top-color: var(--fill-color);\n",
              "    }\n",
              "    60% {\n",
              "      border-color: transparent;\n",
              "      border-right-color: var(--fill-color);\n",
              "    }\n",
              "    80% {\n",
              "      border-color: transparent;\n",
              "      border-right-color: var(--fill-color);\n",
              "      border-bottom-color: var(--fill-color);\n",
              "    }\n",
              "    90% {\n",
              "      border-color: transparent;\n",
              "      border-bottom-color: var(--fill-color);\n",
              "    }\n",
              "  }\n",
              "</style>\n",
              "\n",
              "  <script>\n",
              "    async function quickchart(key) {\n",
              "      const quickchartButtonEl =\n",
              "        document.querySelector('#' + key + ' button');\n",
              "      quickchartButtonEl.disabled = true;  // To prevent multiple clicks.\n",
              "      quickchartButtonEl.classList.add('colab-df-spinner');\n",
              "      try {\n",
              "        const charts = await google.colab.kernel.invokeFunction(\n",
              "            'suggestCharts', [key], {});\n",
              "      } catch (error) {\n",
              "        console.error('Error during call to suggestCharts:', error);\n",
              "      }\n",
              "      quickchartButtonEl.classList.remove('colab-df-spinner');\n",
              "      quickchartButtonEl.classList.add('colab-df-quickchart-complete');\n",
              "    }\n",
              "    (() => {\n",
              "      let quickchartButtonEl =\n",
              "        document.querySelector('#df-99c00f75-bf3f-4f59-9cbd-b8cc22492d0e button');\n",
              "      quickchartButtonEl.style.display =\n",
              "        google.colab.kernel.accessAllowed ? 'block' : 'none';\n",
              "    })();\n",
              "  </script>\n",
              "</div>\n",
              "    </div>\n",
              "  </div>\n"
            ]
          },
          "metadata": {},
          "execution_count": 4
        }
      ]
    },
    {
      "cell_type": "markdown",
      "source": [
        "We see that there are no missing data values and the ranges for each value make sense."
      ],
      "metadata": {
        "id": "0W-0ZIxPzrfM"
      }
    },
    {
      "cell_type": "markdown",
      "source": [
        "#SUTVA - Stable Unit Treatment Value Assumption"
      ],
      "metadata": {
        "id": "AdNmw1rVUA3l"
      }
    },
    {
      "cell_type": "markdown",
      "source": [
        "SUTVA assumes that the treatment assignment to one unit does not affect the potential outcomes of other units, and there is no interference or spillover of treatment effects between units.\n",
        "\n",
        "Unit in SUTVA refers to the individual entities or observational units within a study. These units could be individuals, households, organizations, or any entities under observation. Treatment value represents the specific level or condition of the treatment variable applied to a unit. For example, in a randomized experiment, a unit is either assigned to the treatment group or the control group, and the treatment value indicates the specific treatment that a unit receives.\n",
        "\n",
        "In practice, checking SUTVA involves assessing whether the treatment effect in one group is consistent across different levels of treatment assigned to other units.\n",
        "\n",
        "![image](https://github.com/nikbearbrown/INFO_7390_Art_and_Science_of_Data/assets/32498703/397b7a64-e1e1-4017-8d47-c7a280929395)\n",
        "\n",
        "\n",
        "\n"
      ],
      "metadata": {
        "id": "eq2r5LecUEql"
      }
    },
    {
      "cell_type": "markdown",
      "source": [
        "###Attributes of SUTVA\n",
        "* No Interference Between Units: SUTVA assumes that there is no interference or spillover effect between units. The treatment status of one unit does not affect the outcomes of other units.\n",
        "\n",
        "* Consistency of Treatment Effects: SUTVA ensures that the treatment effect is consistent across all units, regardless of the specific treatment values assigned to other units. Each unit's potential outcome is determined solely by its own treatment condition.\n",
        "\n",
        "* One Version of Treatment: SUTVA assumes that there is only one version or level of the treatment variable. In other words, there are no variations in how the treatment is administered, and all units assigned to the treatment group receive the same treatment."
      ],
      "metadata": {
        "id": "lKdDzWWyj67K"
      }
    },
    {
      "cell_type": "markdown",
      "source": [
        "###Example\n",
        "To demonstrate SUTVA using the Medical Cost Personal Datasets, we'll focus on the scenario where the treatment is binary (e.g., whether a person is a smoker or not) and the outcome is continuous (e.g., medical charges). We'll check for SUTVA by examining the consistency of the treatment effect within the treated group. Note that this is a simplified example, and in a real-world scenario, you might have a more demanding treatment assignment."
      ],
      "metadata": {
        "id": "oje5vPKnDLsl"
      }
    },
    {
      "cell_type": "code",
      "source": [
        "# Assuming 'smoker' is the binary treatment variable and 'charges' is the continuous outcome variable\n",
        "treatment_group = data[data['smoker'] == 'yes']['charges']\n",
        "control_group = data[data['smoker'] == 'no']['charges']\n",
        "\n",
        "# Check for SUTVA by comparing the treatment effect in each group\n",
        "treatment_effect_treated = treatment_group.mean()\n",
        "treatment_effect_control = control_group.mean()\n",
        "\n",
        "print(f\"Treatment Effect in Smoker Group: {treatment_effect_treated}\")\n",
        "print(f\"Treatment Effect in Non-Smoker Group: {treatment_effect_control}\")\n"
      ],
      "metadata": {
        "id": "tSIZvtjafCEs",
        "colab": {
          "base_uri": "https://localhost:8080/"
        },
        "outputId": "e09cfa50-09c5-4d20-cbcf-3f4d5ad4d67f"
      },
      "execution_count": null,
      "outputs": [
        {
          "output_type": "stream",
          "name": "stdout",
          "text": [
            "Treatment Effect in Smoker Group: 32050.23183153284\n",
            "Treatment Effect in Non-Smoker Group: 8434.268297856204\n"
          ]
        }
      ]
    },
    {
      "cell_type": "markdown",
      "source": [
        "In this example, we're checking if there's consistency in the treatment effect by comparing the average medical charges in the 'smoker' and 'non-smoker' groups. If SUTVA holds, the treatment effect (difference in charges) in the smoker group should not be influenced by the treatment assignment in the non-smoker group, and vice versa.\n",
        "\n",
        "From the results, we see that the treatment effects for smokers and non-smokers end with different mean insurance chargers. Thus, this suggests that being a smoker has an impact on medical charges within the 'smoker' group."
      ],
      "metadata": {
        "id": "-iJBm4mZVDwn"
      }
    },
    {
      "cell_type": "markdown",
      "source": [
        "###Challenges and Considerations\n",
        "In real-world scenarios, achieving strict adherence to SUTVA can be challenging. Factors such as spillover effects, non-compliance, and variations in treatment administration may violate the assumption. Researchers need to carefully consider these factors and, when possible, design studies and analyses that account for potential violations of SUTVA.\n",
        "\n",
        "Understanding and acknowledging the assumptions is critical for making valid causal inferences and interpreting the results of experimental or observational studies. Violations of SUTVA can lead to biased estimates of treatment effects and compromise the internal validity of a study. Therefore, researchers must carefully assess and address the assumptions underlying their causal inference methods."
      ],
      "metadata": {
        "id": "BEmYJAInCMwY"
      }
    },
    {
      "cell_type": "markdown",
      "source": [
        "#Consistency"
      ],
      "metadata": {
        "id": "bTGTqkBWEYTk"
      }
    },
    {
      "cell_type": "markdown",
      "source": [
        "Consistency in causal inference implies  the stability and reliability of treatment effects across different conditions and populations. In simple terms, consistency ensures that the estimated impact of a treatment is reliable and does not fluctuate when analyzed across different groups or conditions. It emphasizes the uniformity of treatment effects within the studied population. This section will elaborate on the theoretical foundations of consistency, its significance in causal inference, and provide insights practical considerations.\n",
        "\n",
        "Consistency, in the context of causality, refers to the idea that the estimated treatment effect from a study converges to the true treatment effect as the sample size increases. It ensures that, under the same experimental or observational conditions, the estimated effects are reliable and not influenced by random variability.\n",
        "\n",
        "![image](https://github.com/nikbearbrown/INFO_7390_Art_and_Science_of_Data/assets/32498703/cc9ed299-6625-418a-85e4-238b2a1205f6)\n"
      ],
      "metadata": {
        "id": "fdtTFd8_mwA-"
      }
    },
    {
      "cell_type": "markdown",
      "source": [
        "###Attributes\n",
        "* Reliability of Estimates: Consistency ensures that, as more data becomes available, the estimated treatment effect becomes a more accurate reflection of the true underlying treatment effect. This is crucial for making valid inferences about causal relationships.\n",
        "\n",
        "* Generalizability: Consistency implies that the estimated treatment effect is generalizable across different populations and conditions. It provides confidence that the observed effect is not a result of random chance or specific characteristics of the study sample.\n",
        "\n",
        "* Robustness: Consistency contributes to the robustness of causal conclusions. Even in the presence of noise and variability, consistent estimates allow researchers to distinguish true treatment effects from random fluctuations."
      ],
      "metadata": {
        "id": "axLFdkjNx2Ub"
      }
    },
    {
      "cell_type": "markdown",
      "source": [
        "###Example\n",
        "For demonstrating consistency using the Medical Cost Personal Dataset, we can use a simple linear regression model to estimate the treatment effect. In this case, let's consider 'smoker' as the binary treatment variable and 'charges' as the continuous outcome variable. The idea is to check if the estimated treatment effect remains consistent across different subgroups.\n",
        "\n"
      ],
      "metadata": {
        "id": "4XFRYk-SyBUM"
      }
    },
    {
      "cell_type": "code",
      "source": [
        "data['smoker'] = data['smoker'].map({'yes': 1, 'no': 0})\n",
        "\n",
        "# Assuming 'smoker' is the treatment variable and 'charges' is the outcome variable\n",
        "model = sm.OLS(data['charges'], sm.add_constant(data['smoker'])).fit()\n",
        "\n",
        "# Check consistency across different subgroups (e.g., gender, region)\n",
        "subgroups = ['sex', 'region']  # Replace with relevant categorical variables in your dataset\n",
        "\n",
        "for subgroup_var in subgroups:\n",
        "    # Check consistency within each subgroup\n",
        "    for subgroup_value in data[subgroup_var].unique():\n",
        "        subgroup_data = data[data[subgroup_var] == subgroup_value]\n",
        "        subgroup_effect = model.predict(sm.add_constant(subgroup_data['smoker'])).mean()\n",
        "\n",
        "        print(f\"Estimated Treatment Effect in {subgroup_var} = {subgroup_value}: {subgroup_effect}\")\n"
      ],
      "metadata": {
        "colab": {
          "base_uri": "https://localhost:8080/"
        },
        "id": "Hwxa83clzgWF",
        "outputId": "c1d6310d-4e94-4ccc-9254-c5d876c565cb"
      },
      "execution_count": null,
      "outputs": [
        {
          "output_type": "stream",
          "name": "stdout",
          "text": [
            "Estimated Treatment Effect in sex = female: 12536.739304461653\n",
            "Estimated Treatment Effect in sex = male: 13988.910608291973\n",
            "Estimated Treatment Effect in region = southwest: 12648.809482327719\n",
            "Estimated Treatment Effect in region = southeast: 14338.259181275354\n",
            "Estimated Treatment Effect in region = northwest: 12648.80948232772\n",
            "Estimated Treatment Effect in region = northeast: 13317.81631253624\n"
          ]
        }
      ]
    },
    {
      "cell_type": "markdown",
      "source": [
        "In this example, we use a linear regression model to estimate the treatment effect (impact of being a smoker on medical charges) for the entire dataset. We then check whether this effect remains consistent across different subgroups defined by categorical variables such as 'sex' and 'region'.\n",
        "\n",
        "Consistency is supported if the estimated treatment effects are relatively stable across various subgroups, indicating that the impact of being a smoker on medical charges is consistent within different categories."
      ],
      "metadata": {
        "id": "IWmQ6wMvcQ3F"
      }
    },
    {
      "cell_type": "markdown",
      "source": [
        "###Challenges and Considerations\n",
        "\n",
        "Practical considerations for achieving consistency in causal inference involve strategic decisions that researchers must make throughout the study. Researchers need to choose a sample size that balances between precision and resource constraints. Adequate sample sizes are critical for obtaining consistent estimates, ensuring that the estimated causal effects approach the true values as the sample size increases.\n",
        "\n",
        "A practical strategy to enhance consistency is to employ robust estimation techniques. These techniques are designed to provide reliable estimates even in the presence of outliers or violations of underlying assumptions, contributing to the stability and accuracy of causal effect estimates. Overall, researchers should carefully plan sample sizes, choose appropriate estimation methods, and remain vigilant to potential challenges that may impact the reliability and consistency of their causal inference results."
      ],
      "metadata": {
        "id": "BGhp1pPT7O4j"
      }
    },
    {
      "cell_type": "markdown",
      "source": [
        "#Ignorability"
      ],
      "metadata": {
        "id": "ToaAXqkgETXQ"
      }
    },
    {
      "cell_type": "markdown",
      "source": [
        "Ignorability, also known as the unconfoundedness assumption, is a pivotal concept in causal inference that ensures the validity of estimating causal effects. This section will delve into the theoretical foundations of ignorability, its significance in causal modeling, and practical considerations for adhering to this crucial assumption.\n",
        "\n",
        "The ignorability assumption says that, conditional on observed covariates, the treatment assignment is independent of potential outcomes. In simpler terms, given the available information about the observed variables, there are no unobserved confounders influencing both the treatment assignment and the outcome variable."
      ],
      "metadata": {
        "id": "221SrwMc70oP"
      }
    },
    {
      "cell_type": "markdown",
      "source": [
        "###Attributes\n",
        "* Control for Confounding: Ignorability is crucial for controlling confounding variables that may affect both the treatment assignment and the outcome. By assuming ignorability, researchers aim to eliminate the influence of potential confounders, allowing for a more accurate estimation of causal effects.\n",
        "\n",
        "* Counterfactual Framework: Ignorability is fundamental to the counterfactual framework in causal inference. It establishes the basis for comparing potential outcomes under different treatment conditions, enabling researchers to quantify causal effects."
      ],
      "metadata": {
        "id": "_OqG38_S71nN"
      }
    },
    {
      "cell_type": "markdown",
      "source": [
        "###Example\n",
        "\n",
        "To illustrate ignorability in the context of causal inference using the Medical Cost Personal Datasets, we can construct a simple linear regression model where the treatment assignment ('smoker') is considered along with observed covariates. The goal is to check if, conditional on the observed covariates, the treatment assignment is independent of potential outcomes."
      ],
      "metadata": {
        "id": "zXaI4U1r77H8"
      }
    },
    {
      "cell_type": "code",
      "source": [
        "# Load the Medical Cost Personal Datasets\n",
        "#data = pd.read_csv('/content/INFO_7390_Art_and_Science_of_Data/Causal_Inference/insurance.csv')\n",
        "\n",
        "# Assuming 'smoker' is the binary treatment variable, 'charges' is the continuous outcome variable,\n",
        "# and 'age' and 'bmi' are observed covariates (you can adjust based on your dataset)\n",
        "X = sm.add_constant(data[['smoker', 'age', 'bmi']])\n",
        "y = data['charges']\n",
        "\n",
        "# Fit a linear regression model\n",
        "model = sm.OLS(y, X).fit()\n",
        "\n",
        "# Print the regression results\n",
        "print(model.summary())\n"
      ],
      "metadata": {
        "colab": {
          "base_uri": "https://localhost:8080/"
        },
        "id": "FyVSElo18Kty",
        "outputId": "5d020de0-06d0-4f02-ac67-3ba5d985e27e"
      },
      "execution_count": null,
      "outputs": [
        {
          "output_type": "stream",
          "name": "stdout",
          "text": [
            "                            OLS Regression Results                            \n",
            "==============================================================================\n",
            "Dep. Variable:                charges   R-squared:                       0.747\n",
            "Model:                            OLS   Adj. R-squared:                  0.747\n",
            "Method:                 Least Squares   F-statistic:                     1316.\n",
            "Date:                Thu, 07 Dec 2023   Prob (F-statistic):               0.00\n",
            "Time:                        17:26:01   Log-Likelihood:                -13557.\n",
            "No. Observations:                1338   AIC:                         2.712e+04\n",
            "Df Residuals:                    1334   BIC:                         2.714e+04\n",
            "Df Model:                           3                                         \n",
            "Covariance Type:            nonrobust                                         \n",
            "==============================================================================\n",
            "                 coef    std err          t      P>|t|      [0.025      0.975]\n",
            "------------------------------------------------------------------------------\n",
            "const      -1.168e+04    937.569    -12.454      0.000   -1.35e+04   -9837.561\n",
            "smoker      2.382e+04    412.867     57.703      0.000     2.3e+04    2.46e+04\n",
            "age          259.5475     11.934     21.748      0.000     236.136     282.959\n",
            "bmi          322.6151     27.487     11.737      0.000     268.692     376.538\n",
            "==============================================================================\n",
            "Omnibus:                      299.709   Durbin-Watson:                   2.077\n",
            "Prob(Omnibus):                  0.000   Jarque-Bera (JB):              710.137\n",
            "Skew:                           1.213   Prob(JB):                    6.25e-155\n",
            "Kurtosis:                       5.618   Cond. No.                         289.\n",
            "==============================================================================\n",
            "\n",
            "Notes:\n",
            "[1] Standard Errors assume that the covariance matrix of the errors is correctly specified.\n"
          ]
        }
      ]
    },
    {
      "cell_type": "markdown",
      "source": [
        "In the printed summary, we look for the coefficient associated with the 'smoker' variable. The coefficient is statistically significant and the p-value is below a chosen significance level (e.g., 0.05), suggesting that the treatment assignment is associated with a significant change in the outcome variable even after accounting for observed covariates."
      ],
      "metadata": {
        "id": "arM935qmhc2T"
      }
    },
    {
      "cell_type": "markdown",
      "source": [
        "###Challenges and Considerations\n",
        "Practical considerations for upholding the ignorability assumption are crucial for ensuring the validity of causal inference in observational studies. One primary consideration is thoughtful covariate selection, where researchers must include relevant observed variables that could act as potential confounders between the treatment assignment and the outcome. By incorporating a comprehensive set of covariates, researchers enhance the likelihood of achieving conditional independence between treatment and potential outcomes.\n",
        "\n",
        "Additionally, employing balancing techniques, such as propensity score matching or weighting, is essential. These techniques help mitigate imbalances in covariate distributions between treatment and control groups, reinforcing the ignorability assumption by creating more comparable groups. Overall, researchers should be meticulous in their approach to covariate selection and utilize appropriate balancing methods to strengthen the ignorability assumption, fostering reliable and unbiased causal effect estimates in observational settings.\n",
        "\n",
        "\n",
        "\n",
        "\n",
        "\n"
      ],
      "metadata": {
        "id": "KthjTTMT8Ktz"
      }
    },
    {
      "cell_type": "markdown",
      "source": [
        "#Positivity\n",
        "Positivity, also known as the \"common support\" or \"overlap\" assumption, is a critical concept in causal inference that ensures the existence of a non-zero probability for all units to receive any level of treatment. This section will delve into the theoretical foundations of positivity, its significance in causal modeling, and practical considerations for addressing challenges associated with this assumption. Positivity asserts that, for every possible combination of observed covariates, there exists a non-zero probability of receiving both treatment and control. In simpler terms, it implies that there are no groups or individuals in the population that are completely excluded from the possibility of getting a particular treatment or exposure.\n",
        "\n",
        "![image](https://github.com/nikbearbrown/INFO_7390_Art_and_Science_of_Data/assets/32498703/db8a69da-4ede-4310-bba0-cd675c05779f)\n",
        "\n"
      ],
      "metadata": {
        "id": "PNIv5PHhEgqM"
      }
    },
    {
      "cell_type": "markdown",
      "source": [
        "###Attributes\n",
        "* Generalizability: Positivity is essential for the generalizability of causal effects. It ensures that the estimated causal effects can be validly extended beyond the observed covariate space, allowing for meaningful inferences in diverse populations.\n",
        "\n",
        "* Model Estimation: Positivity is a prerequisite for the proper estimation of causal models. It ensures that each observed covariate profile has a positive probability of receiving both treatment and control, facilitating the estimation of conditional treatment effects."
      ],
      "metadata": {
        "id": "4VMl66Q18Kty"
      }
    },
    {
      "cell_type": "markdown",
      "source": [
        "###Example\n",
        "Consider a study investigating the impact of a new educational program on student performance. Positivity would be satisfied if, for any combination of student characteristics (such as socioeconomic status, learning style, etc.), there is a non-zero probability that the student could be assigned to either the treatment or control group."
      ],
      "metadata": {
        "id": "pIH5k7ZC8Kty"
      }
    },
    {
      "cell_type": "code",
      "source": [
        "import pandas as pd\n",
        "import seaborn as sns\n",
        "import matplotlib.pyplot as plt\n",
        "\n",
        "# Load the Medical Cost Personal Datasets\n",
        "data = pd.read_csv(\"/content/INFO_7390_Art_and_Science_of_Data/Causal_Inference/insurance.csv\")\n",
        "\n",
        "# Assuming 'smoker' is the binary treatment variable\n",
        "# Visualize the distribution of 'smoker' across an important covariate (e.g., 'age')\n",
        "sns.countplot(x='smoker', hue='age', data=data)\n",
        "\n",
        "# Adjust the legend position\n",
        "plt.legend(title='Age Groups', bbox_to_anchor=(1, 1), loc='upper left')\n",
        "\n",
        "plt.title('Positivity Check: Distribution of Smoker Across Age Groups')\n",
        "plt.show()\n",
        "\n"
      ],
      "metadata": {
        "colab": {
          "base_uri": "https://localhost:8080/",
          "height": 1000
        },
        "id": "0imSu8S88EMy",
        "outputId": "645e1f2d-55a1-4890-d499-9b2476a66dd0"
      },
      "execution_count": null,
      "outputs": [
        {
          "output_type": "display_data",
          "data": {
            "text/plain": [
              "<Figure size 640x480 with 1 Axes>"
            ],
            "image/png": "[encoded data removed]"
          },
          "metadata": {}
        }
      ]
    },
    {
      "cell_type": "markdown",
      "source": [
        "In this example, we are using a countplot to visualize the distribution of the binary treatment variable 'smoker' across different values of the covariate 'age'.\n",
        "The idea is to ensure that there is some representation of both treatment levels (smoker and non-smoker) across different values of the covariate. If there are age groups where there are no smokers, it might indicate an issue with positivity. In this case, both groups exist in each age group, demonstrating positivity."
      ],
      "metadata": {
        "id": "LXzw73FnnEFR"
      }
    },
    {
      "cell_type": "markdown",
      "source": [
        "###Challenges and Considerations\n",
        "Practical considerations for maintaining the positivity assumption are integral to the robustness and generalizability of causal inferences. Researchers should assess the common support, ensuring that there is overlap in the distribution of observed covariates between the treated and control groups. Visualization techniques, such as propensity score distribution plots, serve as valuable tools for evaluating and confirming the existence of common support.\n",
        "\n",
        "Additionally, careful attention should be given to model specifications, particularly when employing propensity score models, to avoid extreme predictions or probabilities close to zero or one. Model diagnostics and sensitivity analyses can aid researchers in identifying and addressing issues related to the lack of overlap, ensuring that the positivity assumption is upheld. By actively addressing these practical considerations, researchers enhance the external validity of their findings, allowing for more reliable and applicable causal effect estimates across diverse subgroups within the population."
      ],
      "metadata": {
        "id": "SplvjAdu8A5i"
      }
    },
    {
      "cell_type": "markdown",
      "source": [
        "#Conclusion\n",
        "In conclusion, this paper has undertaken a comprehensive exploration of causality assumptions and their pivotal role in the field of data science. Understanding and carefully considering these assumptions are fundamental for researchers seeking to draw meaningful and reliable conclusions about cause-and-effect relationships from observational data. The discussion has highlighted the inherent challenges in establishing causality. The limitations of experimental designs, such as randomized controlled trials, demonstrates the necessity of statistical methods and causal inference techniques in scenarios where controlled experiments are impractical or infeasible. The integration of hands-on examples aims to illustrate the complexities of causal inference, fostering a more nuanced and informed approach to drawing causal relationships from observational data."
      ],
      "metadata": {
        "id": "_rRu313UEpAG"
      }
    },
    {
      "cell_type": "markdown",
      "source": [
        "# References\n",
        "\n",
        "1. Sckit learn offcial documentation\n",
        "2. Refered Towards Data Science\n",
        "3. Eli5 official documentation\n",
        "4. https://journals.lww.com/epidem/fulltext/2009/01000/the_consistency_statement_in_causal_inference__a.3.aspx#:~:text=Three%20assumptions%20sufficient%20to%20identify,measurement%20of%20the%20outcome%E2%80%9D).\n",
        "5. https://www.youtube.com/watch?v=wFpUKGNgb0Y\n",
        "6. https://clas.ucdenver.edu/marcelo-perraillon/sites/default/files/attached-files/w2_causal_inference_perraillon.pdf\n",
        "7. https://www.ncbi.nlm.nih.gov/pmc/articles/PMC4912021/#:~:text=The%20consistency%20assumption%20implies%20that,be%20observed%20for%20that%20person.\n",
        "8. https://medium.com/@EpiEllie/positivity-what-it-is-and-why-it-matters-for-data-science-d5e9c0bc1fcb#:~:text=So%2C%20in%20summary%2C%20positivity%20in,study%20or%20our%20target%20pop.\n",
        "\n",
        "The algorithms were referred directly from the **Sckit learn official documentation**. Visualization was referred from the  Machine Learning with scikit-learn Quick Start Guide and **Towards Data Science** (How do you check the quality of your regression model in Python?).  The remaining code was written independently."
      ],
      "metadata": {
        "id": "b-RPobrCTqsp"
      }
    },
    {
      "cell_type": "markdown",
      "source": [
        "#License\n",
        "Copyright (c) 2023 meghamkpatel\n",
        "\n",
        "Permission is hereby granted, free of charge, to any person obtaining a copy of this software and associated documentation files (the \"Software\"), to deal in the Software without restriction, including without limitation the rights to use, copy, modify, merge, publish, distribute, sublicense, and/or sell copies of the Software, and to permit persons to whom the Software is furnished to do so, subject to the following conditions:\n",
        "\n",
        "The above copyright notice and this permission notice shall be included in all copies or substantial portions of the Software.\n",
        "\n",
        "THE SOFTWARE IS PROVIDED \"AS IS\", WITHOUT WARRANTY OF ANY KIND, EXPRESS OR IMPLIED, INCLUDING BUT NOT LIMITED TO THE WARRANTIES OF MERCHANTABILITY, FITNESS FOR A PARTICULAR PURPOSE AND NONINFRINGEMENT. IN NO EVENT SHALL THE AUTHORS OR COPYRIGHT HOLDERS BE LIABLE FOR ANY CLAIM, DAMAGES OR OTHER LIABILITY, WHETHER IN AN ACTION OF CONTRACT, TORT OR OTHERWISE, ARISING FROM, OUT OF OR IN CONNECTION WITH THE SOFTWARE OR THE USE OR OTHER DEALINGS IN THE SOFTWARE.\n",
        "\n"
      ],
      "metadata": {
        "id": "p7sxuJzhEuL9"
      }
    }
  ]
}