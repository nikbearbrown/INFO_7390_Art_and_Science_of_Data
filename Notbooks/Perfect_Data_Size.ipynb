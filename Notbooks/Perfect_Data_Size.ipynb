{
 "cells": [
  {
   "cell_type": "markdown",
   "metadata": {
    "id": "oEdHDemHn0fr"
   },
   "source": [
    "# Perfect data size for machine learning (?)\n",
    "####  Nik Bear Brown"
   ]
  },
  {
   "cell_type": "markdown",
   "metadata": {
    "id": "R_wWdELnpIm1"
   },
   "source": [
    "![sample.jpg](data:image/jpeg;base64,/9j/4AAQSkZJRgABAQAAAQABAAD/2wCEAAoHCBQUFBgVFBUZGRgYGxsbGRsYGxgiGhsdHRobGxsYHBsbIS0kGx0qHxobJkUlKi4xNDQ0ISM9PzozPi0zNDEBCwsLEA8QHRISHzQkJCozOTMzNTUzMzM1MzMzNjM+NTM1MzM5PTM0NDMxNDMzNDM1Mz4zMTM2MTM1MzU0NTMzM//AABEIAJUBUgMBIgACEQEDEQH/xAAbAAACAwEBAQAAAAAAAAAAAAAABQMEBgIBB//EAEIQAAIBAgQEAwUECQQBAwUAAAECEQADBBIhMQVBUWEGInETMoGRoUJSscEUIzNicoLR4fAHFZLx0rLC4lRjc6Kz/8QAGQEBAAMBAQAAAAAAAAAAAAAAAAECAwQF/8QAKhEBAAICAgEDAwIHAAAAAAAAAAECAxEEITESIkFRYZETQgUUMnGhsdH/2gAMAwEAAhEDEQA/APs1FFFAUUUUBRRUV25lUneATA30E0ES422WyC4pb7oInTfSrNfO8fjhbb21q2ogyJdmyk88pC9T94Vx/vNxiGfENsNVDAgkTlyiFka6zrFB9IqIXVkrmEjcSJHwpJZ8R28yK6socLldisHN7pYA+WdN+opT4hxbW8WgYQrAFHU5TAjMhaDMEE7TB9KDZs4AkkADcnavQZpLiMal+y4D5YAJO+h7GNDqIMH6TD4Y4k1wPbbZAmU/uxlA9fLPxoNFRXk17QFctXVQ4i+iCXYKOpMUEN8HlWc4hwQXHzksG6g6HQrqOehNRY/x7hVJWwHxD9LQ8vQjOfLvOhM0pfxFxHEEixZt2x1Ie438yoAEP8xFToQ4qVuMu+UxrvOkV3juHlELxLCBInbMDEf58q8HhriF5s1y6V7ZbAU9/ddxVkeCLurXMXcHM5cRfCiOcLlAppG1CxfVigfVgPKSYZTpGx9NDp8dRetcMuXMQtwrKrbKyDzknUTrOb6elQXPDbJc9mcXfG3mF/E8xof2nwpjY8K31ANvElwdR7R3f/8Aor00be3vD+YjKcgGbQKB7xBJ7aj61o+H2fZoqDZRFKrGFxdvRkNwdUuII7hFFtfoasHi+T3synpeTLJ6B1gD5NTRs+VjUmak9rjVvZvLpMzKRzObQqvdgoqxexiquYkZdDPLXbX5VCSbj3F3S6Ftuqqiktqss5MZY3EDXWBvSOzxZ7DhlFvMxUAFCGYMeRCgAExsdaqcTtBWDM+ZzcYMDAzKZaQQZjyx8Qab4R1t5r1yHKoAmmgQSygA7PLan8NZB34g4hli2lxVYznA94LHX7PyJ6bVfw3ErZs+0LAKo8x80AgajUSfzr59iLq5WxD5Q7MNDJzBgxzasRp0jTtFWbmJuXMPfS5nCLkFtVVUzXM0gAZfdzb9taB3xPxMAwZHATLo2XUvB8rBhtp7uh5zXng3F2nZwucPEkEgpE/Z0B0Oms+tZGxZvoQGtnIRrGVkYExEiU0g6cpFMrVz9HBawAkQphs+cTEMGYzv9kDcadA+iYfF27k5HVo3ymasVjfCmIt5yns2Ryp3LFYBgiG1GvWedbEUHtFFFAUUUUBRRRQFFFFAUUUUBRRRQFFFFB5SLj3GHskIinMw0YjT4DmabYq4yoxUAsBoGMAnuaxXHeIX3XL5lbXypOVuxjb1mKBXfBYhTbzMxnKuaQQSR5VMjTWPppVBf1ge2i5S491ZK+0TzI3aVzDkPMKjS86XFS5NtpDI5Gx5SeakgT007y6w+EuLcLl1Af8AaATIMzIXmNSZ7nagVpjCtpCWl2SIP2IBQrrqWga9JIFPOIcQuvh1tKxe4sEkCVuROmUzmEEGeZUGNapYvAW7j5gGAXWGYANB+0YGWdtDzqi+JNsFAoRRsE2I5nqdfXlQT4C9czOPYnMU9ncBOQhX1iCwXNpI0nQ95aeGcW1u89szEDNII10IaDtqXEcoNLcLdXKCJBIk6iNNDAI0+f4U1wvEgoAyAgCSZ13An6j/AAUGvtYmanN0KCxIAGpJMAdyaXDEW0t+0LeQLmnt/XtWKxXGMRjrgSyGS2fdynztG7A7KP3/AEyxu4OuO+McjNaw657g0YnRU7sTovoQT1AmayOJw1zEHNjLhuT9gyLY2OluZbUT5iY5GnrcAeyQqWwwykyB5B5TPoR1Op5dKSXrusVaIV2e+HMNa9ubZRXRQ24GUQdCV2+fWmfEs2YjOpT7IDAADpl5fClvD8fbuKisDKIFZdvaMNiSNSApH1qXEy4hLag8six8z09TRMxMdScYHilu0mVnLGSdAYHYdqvcUuZ8O5TzZlBEcxoT9JrD3/ahggBYakhAH10AJKSRzG9M+Ge0Ii5cuIHBCZH9yNPdGk5p0PUVEz9F4pHmZ0r4XFaAOJAO2ogTy1nb/BWx4firbIBbgADbp8+9fPbrXA5Fxsz6hyftEEDNPTn8anwXF7lsqtrIXaAVfaI1J1GXUDWpmdRsrSZt6Yn/AI+jZqInQ7HcGsp/uuIf37YSOaMHVviJyx0NX+FcULOLbuskEiSAxjoOdNxMbRak1nX+ljGcBtP7n6s7ysZZ6lPdnuIPesnxjh2KsIQCWtkycpOXffXVW7nUk+80AVvi9d6EREg8qKvk7cRS7bcAAOMiiffUlgI65TJ/saeEKlkw+qoZMc43ivPFnhk2z+lYTyumpA2jmCOds8xy3FQ4BP02wTbORvcdPuONYPY9elRKS2zhBct2SRqjGTrJTynJ/wAgdfWrKY12JDiJMhWGo6EHf8qdWOGm2sEDTpSS9w+6bhOUmSYI5TtPSAPqagV8axIV1uEjMVyEczOZpG8ZOg5fCxg8LcN32RUZiodMxMeUSqkcvMG+Yq6uAW3BKGF27VY4GGuXnvtsSVQcwqmAO3X1JoNHw3hqW7j3ZZnf3ix0HM5Ryk605Q1TsOauLQSUUUUBRRRQFFFFAUUUUBRRRQFFFFAV4a9ooF3FML7W2yfEHoRtWOx+BuWlDMAdx5e208pP5VvXqjjLAuKVYAg70HzhsMt3yMZBOZCZkfeTrMTvrv8AdpoTBViSSu07GQRB7TB+FOF4BbBkDnO5361cTh/YUGNv4omS0mNRH1gbfAdq7s8O9spKt5gfgJ1+R/KtTxDgwuLE5SNQQNqhwHBBaHlJ5T8NtOVAqwXBBbVgWmRHYen+dKp4TBXRcHkzDMN4jo2/Ij8TWyTCUs8U4n9Hwrso87Aog6kgkieRIBE8iRQZri2MbGXFw9r9kjBQF2cxAX+GNfT1YVrsHhbWDtFnYDQZ3PM8lUbx0A333NKfBXD1tWTfuHYMMx6DV3+JkfA9az/HOLPibkmQi6IvQfeP7x+mgqmS8Vj7uzh8S3ItrxWPMrvGPFN25K2ptp10zt/4jsNe9VMHwm7ftm7mS2k+UsCS555VA271c8OcCF2LlweT7K/ejmf3e3P03fcQGWJYZROVQIIHQf1qMdbT7rS25l8NNY8UR18ka2rNvRLYJBgu5LMTrrqco2OwrzEYpiCJ5adPltXXEcWX0OyxlHIDtSo3DJ+EfWtojTzZtMzue0qcaa157ZViwiDMRvMA9qt8Mxwb3tQTJA0gxrHepbeGwVoA3AgMSc/mPc5TOmvSqeMxdl7g9hAUABgFyiZblA5RrVY36u5b5Ip+n7Ynz5eccd7dwSEZWEo65gSunlYEnzDT6V6eMK9tLYUqU3JIM6QIPqTp6VZwKWr8W7msLK+YhhqJiDP/AFVnC8CW1cFy2c4WYV4kHkwPONd/npVZi0W6nprW/HnHq0TFteYe4ixcthGKMoKLJO+bnImV5cq5/wBwbQasOegaO5BB070wu3FALXCTMTBjnpLch6VQ4ZZR8QU2Uo2knnpAJ1rTy4onUp7niO5aZCwDIwIZdiMseZT6HY6acq1PDuI27yB7bSOfUHoRyNZDxHwIqguWyzBAcymJj7wgDbmOnpXvh2ylkLcDOzOuoBASDqARBLEdaxrNvXMfD0L48FuNFt6tHX926UTWCxVr/b+Io66WMT5XHIHkf5Tz6QK2eBxguAiIiPrWe/1FsB8KH5pcQj0nX8BW0vPaZ8MDyqM4MdKl4Ve9pYtXDuyIx9Son61by1VKiuDHMVIMKo2AFWgK9ighS1FTAVRxPErSBzmDFPeVYLCdAIrvh2OS8uZZ7g7g0F2iiigKKKKAooooCiiigKKKKAooooCiiig8IqMpUtFBB7Oj2dTEVyaCL2deezqrxHiaWMudWIadVAgdiSRrXWA4jbvAlJ8sTI68vpQWRbrD/wCoj+fD2zsczfEOjA/DJW6zVgf9Sli5hbnIl0PqSkfQsfhUwSs+J39lgrdpftZVb0Cl2+bAfOstwzh5vMRmCKsFmM7HkANSTrWt8T2PbWbDAwM6Sd4V1ifmRS7C4KzabyPcltIY24aNdss/I1hek2vufD1+PyqYeL6az7p20JxNtbeW2fdACiCBpsB8Ky2KxzM7EmSRP40z9onME/GPwFVL2Fs5dLZUkaNnY/Q6Gul46DhmFS67M2oCjSTGs6+tWeIWBatsbYAMgA7wWYLPeJms7w7iz2rhzjy+6wG4g+93raW7dt7Yd2lHHlC6lh1E7DvVItFt6bXxWxzWbR0q8LCWV/VlmDT7QPBLE7yY1BHy+OuQ4zaS1iW9iRk0YAcp3T5z8IrTrhntlmQMVmZMabCD946cvlS7inDbd5PaWVi5mh0EBX1guJMKZGvXX4xes69rbiZK+uf1J6lmyzM0zDSIjkdhFfQAbxtoQPJtJIBaAfNG7TFZrAeHbmZTcKgAg5QSWaD7pjQT1BNa7E4iPNcHujRfQbQOX41XHW0bmV+bkx21WniCDieK/VsRyI+MMBFJcNjXW6l2fMrAjpHMehE/Or/iHE5iFAADjMYAHORoNv7VU4RgmvXVUDyghnPIAcvjt/1WeSZm0RDr4eKlMNsl4+rbPxJ2zZQMoBJkfZH+bd6p2MqjyoqjoBA+QMCusZZVF8s+YgGTyHmj5gVTa6c8ToF1HcnT6A/OumXjbnuDK1xRklVIEQSI6zr32/Co/FuKzYCWiXZF/wD21+gNR8IwS3GuO07qoIPQSeXVvpVfxKBcu2MKmiocz9ASNJPZSSf41pHhN4iJ1H2bDgK5cNZU7i2n4TV/NWZx/H7KIUt3YYABSomIjrpGlJ+H8fi6ur3HchAC0KJIG2s/Tn8Kob32lRvdBVsrAbiRBynaT3B5Gs74mxr21QIYzMcxnWFgxG+pP+TBp3faewdBqLiswg6sHWYk6CdPnQZ1saEZ4uZ4JOaCMwP7pJ3ynfU/StpwHidhUEhbbtGb3oPQknQaaxOk1gkxV623sj5dJZAZ7iVBI211kxTDA40QXNtGVImSV32UBTBO5iNgaD6ijzVXF8Rt2yA7AE6ga7ddKwXEvEV4tmDNaTKDbUCM5jUg80H3tuQE1CnFbl91R4dthmBBHMyVgwN6D6PhsWlwSjBhzjl6irNZvw3euSyNY9mAA2aHGYzA0fXYHfbpWkoCiiigKKKKAooooCiiigKKX8Vv5LZi4iMfdL7enrHY1lU4463AXvAqCM2XWRzHuj01oN1XJass/jK1rCOQNz5dAee/41BxjE/pNtblplNtdSc0ZTGoZTqCNT6Gg1xao7lwKCSYAEk9ANzXzu1x7ENik9mxbMQuRmAUjp5jGaJMjWdp2rcYvz22UMUkQGUwVPIiKDOcawuJuXs9hjctPG1wAIYykkFtVBhtAeY0OtZMcfvWyUDshBII6EGGBG06U6/Sb2FuA3kEZtGRoR4G8A6GDsQJ+dVOKYTDYy57RCys2rAQpJGhka+aOm4mg0PhfjVy6CLm26OxVSwmICzrsdttql8Z8OOKwjonvp+sTrmWZUdCVzL8aypF2wot+yDW0BIcKNBEsWZYM7zm6admnC/EqIApU77gyZ0iZ7AD4UE/hLiC4vB5CfOnlYdOamD0P4ClOOYpiERlIZc2piGBBgr1EiuMbbbC3v07CDNac/rrY5E+8QO+/wDgNaZ/0fG2luoZ5qw95G5qe+moPT0paJmOmmG1azM2+kx+SJ70ECN5+Y5fL8Ks4ZPaKVmMpkejDb5ik3GLeJskEqpRTIdQ2XYjzCfLvt8iao4fjV5GzKVjmseU+us/I1W2SIntvj4N7xFq6/K1j/D983D7Nc4c6ZYBE9Qx09Zj0p7hLT27apcuK7KAAE2UD7Jb7XwAqHAcd9sGXLkYDXWQQdNOf/dRPcPnPrHTbT60pFf6qo5OXLqMd4jpLjMYZVSREGB6RsPjSh+IexPUzmA5HWYJ5DlTBcAmIgPMDUFTBn5VKfCttzJu3Se7If8A2Ve2/hlirj3E2394WeFcWZrLXCqqfNljkB68yZE1xir0qwO+WT8Q3/iaku8N9lbyJmZR1gmCddgOtc2rltGz3LiLtCkjNoSZjfntFI6jtWY9V5mtet9QUYLgl++Q9yUBiWcQT2VND+A7mtXgsJbsJlQQN2Y7n95j/gFKMX4rtr+zVnPU+Vfrr9Kz2O4ndvftG8v3F0X5bn4k1h6607juXq/y/I5Oot7ax8GfHuO5zktHQHVoGp6CeXfn+KnBXL9y4FRzmeJJAgAfaOmgE8vzqbh/CLl/VRlTm7e78PvH0+YrTW1s4NMqyzmJ3LMdYmASF3hQCTrlDNpUUi9p3PUJz2wcenorETP5XXxKYOwAPMwBygzLtuWaJMSZJ7gCSQCs4Tw1nR7t1mD3J82mbU6nmOo+Y2Aqpwq4MSHxN5wlpCQxdgsBDqrAn9XBnykyOfmOmgwXE7GIU+wuK4XTyyIiNIIHb6V0PG8zuXz3EpcZyEVyMxAzb76AnQD/ALrX4bCrhrdpkRGuwVVsozsxnMVPIAk67AfKu+JWcgLkaDU/5yqngHYubjgyRlQfdTf5moC/jV65cuC2PMQo2I2OrNqebE70+w2IK21XcgAa/h6Db4VXxGKUOFyydJ1jlMA+kmeVepiFBzJDLGocAkDv2/eEfCgRNwO7md84YEkvcY5cqky2uok7ekiINaPD2bdyyqG2BaXVEBYSebmCCxM7nf8AGlcdGuF8x9ksOFY6Bo1kncLsDuZ+dm3ig6l0b3dxsY+9HT8KBLxXh5a4Xe4qAwF0PkRdIAHICeld4S9ZsAslx2Y/bICeXoBLESY1npXXFuEtci9bcEEqrq0jK0eVjJMpA5Rry1pnwbBph1L5le6e8gA7hZ1k9Y7eoN/DuKCW2u3AttGgBnPnY77zBHYDX4U7v8YtLbFzNmVjC5dZ5/DbnWR4wwuj2j2XdkHlye2K9YZVJUKeZhSRzpRgsWxJXLIYyUAMTvoBtGu3Kg+nYLGpdXMhkc53HYirVIfDXsSha1mnZgxkj8op9QFFFFAUUUUBRRXhNAn8QLNsRa9pBkaE5T1gan8OtYrHWVf9ocmXQBFUEiZyhRAUanU/XWtd4ma6LRNrb7cDzR1Hbr/3WOuYJ7lsXbUldFcMRmD6SQdipJ3MbxQJseUBm1mQjTcmRzknQz207VouEujYePZ5BJNxFL/rCIgySWC6DQGs6brK0pJ6qRJ9CBuO9aH9JuC3NsFWIGYaZo5gH+m9BX4nhUdYKJb2KlEUMO+kM38x+Iq23iFkVQczKoylmIzsRHmMACe31pViVfILmVgNmzbz97XWD+NULd51eUGbqu/wP9f70Gqxl5b1sowlWAPfqCJ2NU+G2fY2zkXzyc9wgTGyqrH3dImNT8KYphbmUN7MxE6QSPUAyKQ8QuXnfJDEAeQj3BGvoJiDz1npQMX4pCFFhmgyWkk66hV56ddxNJLfB3Ylrex2Vp66CeY79h61Vwt9hcQwTldSRz8rAxHwI+Xetfi8Wxuq6+69wt5tJVsqnf0+lBe4XgQlsKVAkecakExrvypTieCXLFw3sI2WYzoQSrDoyT5v4h5gOoAFaRGqZKbCLBcbt3IW6PZOdBmMo5PJLm0n7rZW7Vxj/DFm5qFNtuqQB/xOnyinWK4TbuySMrEQWWPMOjKdHHY0sHB79n9kTl6W2AEf/iuAoB2TLUzEW8rY8l6Tus6ZzE+Er6mbbK8balG+sj61XFjFWreQ2G0kAgZgPXJO3rWq/wB3uW4FxVnnmW5bb/jFwH/kK7/3y19oFfV7P4Z830qkY4jx06Z5trRrJET/AIfO3F0GWLg7a5hpU6Yq4B+0f/m39a+h2+M4cbu3wt3CPmqkV2/H8MN7hHrbuD8Vqk4d/Lor/Eqx+yHzpUuXPvv/AMm/rVq3wXEN7tl/5hlHzeBW3PijCx5HL/wFGPyzTVHEeKZ/Z2XPLz+Uj1V8sj0PzqI48fMpt/FbftrEFGC8HXnMuyIPizfIQPrTleCYTDDNdOcgT59dtyEA1A9DVR+IY27sVRf3AdR/GcpU/wAxG+9KsRZRGl3V20JJbN5hzKgBQ3cCtK461705cnOzZOpnUfboyx/HrlwRhrc/dJIAO224IjWVDA6jymKX4LB3cMxxt+8C6K36vKWtgNAYAe8XaAM0ljoCSNKv8JxgZ/Zok753Pve7m5bDYb86t4/Dl1jTeddj2NabcjLY/GMb7MttPb6TImzhY0CL/wDUYgajOfKmoUaEUtwtzEYd1ew5lBBtvqrDn8T1371d4lw+7aY3FhkO4AOVQBABXkAB7w+NR2L6XBGx6Hcdx1FdGOtdb8qzLXcD8V2MVFtx7K9sUbZj+4x69D8Jptcw4HKvmuNwCuPMNeTDcfH8qucN8S38L5MRN21sH+2g/Mdj21FUvi+YTFjvjd5swS2hJjkNW190HkNjrpsTtVXD4W8Liq4ZNyXgxoNCh+1LRsdp1mmL4q3dQXLdwMu0Deeh5qfXppNR2rxGk9yP7f5tzrCY0sl4tZQ2Hd2D5RLZAUc+YQ0HQ6xJE6bis5w/GGdNI0A/Ed9/rWjv2rdxfZ3FJDQfIxVhrKnmp6xHTaosB4ZyBs5ncKRy6N60EeKUtbDI+QZgHQ8jBIZdNefve735cYAFvKqwPs7yRzYztr1M9ad2eEqqhT5h3A1mruFwYTYATvQIlwd8ZiozMT5dgqjYanXv61fwfhcrbg3Ctw+8wEjKd0G2/Xntsa0Fm32q/aFBX4VglsoEXXqTuT1piK4CV2BQe0UUUBRRRQeVG1SVw1BWdao4qxnQgEgGRIg/Q6fCmLmlWOwpaWRsrHf7revQ9/xoMnjsOmGuC4wzI2jHTMp5NHQjpTjBXbalXlWQjQiDoRuKg4nhVuW/Z3GyuB5SefodjPQ1msDg7lpmSQybgiRB5jKeVAwx950yEaqJXXZlmdZ9TVgYVVEoF6jQZT0kcxUeOHtLKqB50zfzAmfmKpcGuXATbO0BlnoenagYJi3BJa3k28yyBry6D4V2uItaBgwJ0BBBGboZFXVSRBEg70vbhhkxseR5/wB/85UHAtoWJCjNz017TXvFGLKkaZVyH8Q1NOHcOyrDGT1+Og7wKZpw1DuAaBfwq4720J3yj8Kc2kqRMKqiAIA2ipkSg8VKJIqULQaCF3kQQCOhEiqN3AWDvaUfwyv/AKYq84qve0309aBbc4PhvuH/AJN+ZpdxHh9m3bZ1BGUEmSfp3mm9w1m/EOHxF3LatqWVysxETJ37ARrU7NLvCsNbeylxxnZ5bUtABJhQAdQI351VfittLj2hbVCugYAfMiJiSOdWMIhtBLZYGAQADJhTlJ07/nVTxES1sZB5syz1KiTHpmgx2qNjziDHEWiCSrqCVZJKNpqrAnpzmszgMLccrpA1mdNdOusb1PgMddRlCyHzEQN41MQf3QKf4XEe0l2QKZ6QDpqY5UDe5jLdi3aWJzRbHL3UJk/L61auW8wBH2gCPjWZ47xBQLSCCc5YnplH0nN9K0uHAAADSIETG0CB8qChfw9ZvivAA3nt+R942UnqI90/T0rctbmqd/CVatprO4Hz21iyhNu6II3JH/qH5jSrL2gRpqP8+YrQ8S4UlwQ41GzD3h6H8tqy1/C3cKdfMnX7P/wPbb8a6aZIspMKj4N7be0sNlPMfZP9DTvw9xe1cuC3iD7J5Gje43832R9I5iq9q4twShg8wd/iKrYvBrcEMNeXUdweVWtSLeUROn1ZMAkhsoJ5GBNWksV8m4L4ixWAOUzesD7J95B+6eX4dq+ncB4/h8Yma04JiWQ6OvqOY7iRXNfHNV4lcOHr0WauhaMlZpVkt1Mq12EroLQeivaKKAooooCiiigKjapK5YUFdxVa4lXWWonSgT4rDBxBEilP+zMbgIby8wd/nWpa1QLVAlHCx0qa3w1RqFE9YputupBboE/6JXa4UUzNqgW6CmlirNtKmW3XQWg5ivctd5aIoIyKjepitcMlAi4hxJBmQZiwBmIEQJmT2BNZq9joObczuxnX89q2OIwNssXKAsRBPwj02rJ3eDQSCxI5cqCbCveuXEuB5SNcxE7QywBvP5UxxmJNq2zgxplnnJ5L3qvg7Hs1yjYUq47g79wqAfIuo15kwTHYfWg94MyuGu6liSg10CgKfL6/lU15MxgDfaosFhRbUKNANKkx2FzqIbKQZB5c9x8aAs8OYMWFsll94xqO3WumUHal+C42cwlzmXQPzIHUcx25TzpxiWLxcyiG3ZPdLc/Q9qBNi+EPcK5SogzqOXMU64YnskUXGJ3llB1MzAH0+FL8dibqANbWYksdNIEjQ78/pSL/AHHFXyCSxk+igdOQoNyeMWgdfKADuZY/ygafOmqIGAMbgHXvSHgnDbaIpuKruJOYiYmDAJ5CB8a0tt6BffwdK8Vg9CCAQdCDsfUVqck1Wv4aaD5pxPgDIfaWJBH2Z1H8JO4/dP8AaqNjGh/JcGVtp2E7Qfuma+iYnCVn+L8ES7JPlfkwH0YfaFb0y66lWYILtqN9utLnwjW3Fyw5RxqCpIBPw2q0zXcM2S4spy6fytz/AIT9OdpQrjNbMjmPyI5Gt97V8H/hv/UPUWsauRthcA8p7sB+I+Qr6HZvK6hlIZW1BBBBHUEb18RxeDW4II/qK54Tx3FcPbyNntE6o05T/wCJ7j61lfFE91Wiz7rRWc8OeLLGMUBWyXOdtz5v5T9ofXqBWjmuaYmJ1Kz2iiigKKKKAooooCiiig5K1yVqSigiKV5lqWKKDgLXQWuqKDnLRlrqig5y17Fe0UBXhFe0UHBqN6lNRsKCpcWqlyxTJlqFloFrWKW38XbllbNKzMARoDPOeRp89L8bZVgREEjfSaBYeK5dISO6D671RxOKtEE+0yk6hQhy9IBnTUUYjhRMnNtodNNYNefoVtE/WBSF5sBzPfuaBBf4Sc2a2NddOWsHTpsKcYDB3rcDMMhguNd5kiOevOmyYacpEENsQRB7T1qZ7LIYZSD3/I86ChdepMBhbety40KOQ94/0Heo8ReVHGdCwiY1AOsAT1nlUTu91gXACD7C7enp+NA0w2JzMctsogmC0yT2B5d+f1prYvjmQANSTsBzJ7UjZ2illwveuLYzEITmun9wEeSe55f1oNXwq+brPdLeQnLbA+4Pt/zHX/qmw1pfhEC+6IFX7dBxcsA0uxODp0BXj25oMdjsArKVdQyncH/NPWsfxDg1yyfaWSzLzH2gOhH21+o+tfU8RhZpTicJFXpeaomNvnuGxyXIDwr8j9lvQ8j2P1qS9Z5EU14z4fW5LJCOd/ut6jke4+tZ5MRcst7O6pIHI+8B1U/aHafjyrqreLeFJjSliOGMpz2SVYaxMfFTyNazwz/qK9si1jQSBpnjzr/EPtDvv60sXK65kOZfqD0I3BqtjMElwQw15MNxS1YtGpTEvtODxlu6ge2wZTsVOnp2ParNfAcDj8Xw989pyUO/3COjr+fyIr6d4b8dYfFLDTbuAaqcxU8swYDQfxR6neua+Ka9x3C0S2NFcqZEiuqzSKKKKAooooCiiigKKKKAooooCiiigKKKKAooooPDXJFeUUHJFRMtFFBA9vvVZ8L3+n96KKCOxg4uiTKtIZSNDlEg778qoYjhwbMjEFZIgjv60UUC0cLKNlR4T7pUmfUltd6c4XDvkym5K9Cu0dDOleUUExwUjf6f3rleHDr9P70UUEiYEdfpUi8KthpjXXX0+Pc/Oiigs2rEc/pVhVoooJlFSCiigjZarX7ANFFAvxHDwef0/vSjiHAUujK5kcjGo7gzpRRVqjMXPCjW7hC34IMT7PccgwzwR/gir1rgWZQS4k7+TT4DNpRRXTEyq8Ph/wD+5p0y/wDypa3gpWF1lvFIyQFUgZp1Yw4nSQBoATOpoorPJPtIfWMDayW0WZhVEn0qzRRWCwooooP/2Q==)![confused.jpg](data:image/jpeg;base64,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)\n",
    "\n"
   ]
  },
  {
   "cell_type": "markdown",
   "metadata": {
    "id": "ypjdDXdB9Qbw"
   },
   "source": [
    "###**Does perfect data size exists?**\n",
    "\n",
    "Data is expensive, and it is only realistically possible to get some data. Hence, an accurate sample size is essential for getting significant results and conducting the research for analysis.\n",
    "\n",
    "**But there is no perfect size for data science or machine learning** as the size of the data set required depends on a variety of factors such as \n",
    "\n",
    "*   **Problem complexity**: The more complex the problem, the more data you will need to train a model that can accurately capture the underlying relationships in the data.\n",
    "*   **The number of features**\n",
    "*   **Model complexity**: More complex models require more data to avoid overfitting, which is when a model memorizes the training data rather than learning general patterns that can be applied to new, unseen data.\n",
    "*   **Data diversity**: Having a diverse data set helps ensure that your model can generalize well to new, unseen data. A diverse data set includes examples that represent different variations of the problem you are trying to solve.\n",
    "*   **The desired level of accuracy**\n",
    "*   **Available computational resources**: Training a model on a large data set can be computationally intensive, so it's important to consider the available computational resources when determining the minimum data size requirement.\n",
    "*   **Data quality**: High quality data is important for accurate analysis, so it's important to consider the quality of the data in addition to the size of the data set.\n",
    "\n",
    "In some cases, the minimum data size can be estimated based on rule of thumb estimates or heuristics, but these are often domain-specific and may not hold for all cases. For example, some researchers suggest that a minimum of 10 samples per feature is required for linear regression, while others suggest that 100 samples per feature is a more reasonable minimum.\n",
    "\n",
    "So, what can be the approach?\n",
    "\n",
    "Statistically, we can compute the data size using several methods:\n",
    "\n",
    "*   Power analysis\n",
    "*   Mead’s resource equation\n",
    "*   CDF (Cumulative distribution function)\n",
    "\n",
    "(Note: Few methods are only for the continuous data set and not for the categorical data. I need to research it)\n",
    "\n",
    "**In practice, the minimum data size requirement is usually determined through experimentation by trying different data set sizes and evaluating the performance of the model.**\n",
    "\n",
    "In some cases, data augmentation techniques, such as synthetic data generation, can be used to artificially increase the size of the data set. However, this approach should be used with caution as the quality of the synthetic data can affect the accuracy of the model. (**We will experiment this later**)\n"
   ]
  },
  {
   "cell_type": "markdown",
   "metadata": {
    "id": "IJtIo2P42F_H"
   },
   "source": [
    "Here's an example in Python using the popular scikit-learn library to demonstrate how to determine the minimum data size requirement for analysis.\n",
    "\n",
    "We'll use the Boston Housing dataset, which is available in scikit-learn, and a linear regression model to predict the median value of owner-occupied homes in $1000s based on various features such as average number of rooms per dwelling, the proportion of non-retail business acres per town, and the weighted distances to five Boston employment centers."
   ]
  },
  {
   "cell_type": "markdown",
   "metadata": {
    "id": "jAqwzOJcBe7M"
   },
   "source": [
    "The Boston Housing Dataset is a derived from information collected by the U.S. Census Service concerning housing in the area of Boston MA. The following describes the dataset columns:\n",
    "\n",
    "**CRIM** - per capita crime rate by town\n",
    "\n",
    "**ZN** - proportion of residential land zoned for lots over 25,000 sq.ft.\n",
    "\n",
    "**INDUS** - proportion of non-retail business acres per town.\n",
    "\n",
    "**CHAS** - Charles River dummy variable (1 if tract bounds river; 0 \n",
    "otherwise)\n",
    "\n",
    "**NOX** - nitric oxides concentration (parts per 10 million)\n",
    "\n",
    "**RM** - average number of rooms per dwelling\n",
    "\n",
    "**AGE** - proportion of owner-occupied units built prior to 1940\n",
    "\n",
    "**DIS** - weighted distances to five Boston employment centres\n",
    "\n",
    "**RAD** - index of accessibility to radial highways\n",
    "\n",
    "**TAX** - full-value property-tax rate per $10,000\n",
    "\n",
    "**PTRATIO** - pupil-teacher ratio by town\n",
    "\n",
    "**B** - 1000(Bk - 0.63)^2 where Bk is the proportion of blacks by town\n",
    "\n",
    "**LSTAT** - % lower status of the population\n",
    "\n",
    "**MEDV** - Median value of owner-occupied homes in $1000's"
   ]
  },
  {
   "cell_type": "code",
   "execution_count": 1,
   "metadata": {
    "colab": {
     "base_uri": "https://localhost:8080/"
    },
    "id": "wrGcfY7_2ElA",
    "outputId": "2a6986c8-d45c-4cd2-8a61-d0cb5eceae4b"
   },
   "outputs": [
    {
     "name": "stdout",
     "output_type": "stream",
     "text": [
      "Mean Squared Error with 100 samples: 1.1484113315320397e-28\n"
     ]
    },
    {
     "name": "stderr",
     "output_type": "stream",
     "text": [
      "C:\\Users\\chava\\anaconda3\\lib\\site-packages\\sklearn\\utils\\validation.py:757: FutureWarning: is_sparse is deprecated and will be removed in a future version. Check `isinstance(dtype, pd.SparseDtype)` instead.\n",
      "  if not hasattr(array, \"sparse\") and array.dtypes.apply(is_sparse).any():\n",
      "C:\\Users\\chava\\anaconda3\\lib\\site-packages\\sklearn\\utils\\validation.py:595: FutureWarning: is_sparse is deprecated and will be removed in a future version. Check `isinstance(dtype, pd.SparseDtype)` instead.\n",
      "  if is_sparse(pd_dtype):\n",
      "C:\\Users\\chava\\anaconda3\\lib\\site-packages\\sklearn\\utils\\validation.py:604: FutureWarning: is_sparse is deprecated and will be removed in a future version. Check `isinstance(dtype, pd.SparseDtype)` instead.\n",
      "  if is_sparse(pd_dtype) or not is_extension_array_dtype(pd_dtype):\n",
      "C:\\Users\\chava\\anaconda3\\lib\\site-packages\\sklearn\\utils\\validation.py:757: FutureWarning: is_sparse is deprecated and will be removed in a future version. Check `isinstance(dtype, pd.SparseDtype)` instead.\n",
      "  if not hasattr(array, \"sparse\") and array.dtypes.apply(is_sparse).any():\n",
      "C:\\Users\\chava\\anaconda3\\lib\\site-packages\\sklearn\\utils\\validation.py:595: FutureWarning: is_sparse is deprecated and will be removed in a future version. Check `isinstance(dtype, pd.SparseDtype)` instead.\n",
      "  if is_sparse(pd_dtype):\n",
      "C:\\Users\\chava\\anaconda3\\lib\\site-packages\\sklearn\\utils\\validation.py:604: FutureWarning: is_sparse is deprecated and will be removed in a future version. Check `isinstance(dtype, pd.SparseDtype)` instead.\n",
      "  if is_sparse(pd_dtype) or not is_extension_array_dtype(pd_dtype):\n",
      "C:\\Users\\chava\\anaconda3\\lib\\site-packages\\sklearn\\utils\\validation.py:757: FutureWarning: is_sparse is deprecated and will be removed in a future version. Check `isinstance(dtype, pd.SparseDtype)` instead.\n",
      "  if not hasattr(array, \"sparse\") and array.dtypes.apply(is_sparse).any():\n",
      "C:\\Users\\chava\\anaconda3\\lib\\site-packages\\sklearn\\utils\\validation.py:595: FutureWarning: is_sparse is deprecated and will be removed in a future version. Check `isinstance(dtype, pd.SparseDtype)` instead.\n",
      "  if is_sparse(pd_dtype):\n",
      "C:\\Users\\chava\\anaconda3\\lib\\site-packages\\sklearn\\utils\\validation.py:604: FutureWarning: is_sparse is deprecated and will be removed in a future version. Check `isinstance(dtype, pd.SparseDtype)` instead.\n",
      "  if is_sparse(pd_dtype) or not is_extension_array_dtype(pd_dtype):\n",
      "C:\\Users\\chava\\anaconda3\\lib\\site-packages\\sklearn\\utils\\validation.py:757: FutureWarning: is_sparse is deprecated and will be removed in a future version. Check `isinstance(dtype, pd.SparseDtype)` instead.\n",
      "  if not hasattr(array, \"sparse\") and array.dtypes.apply(is_sparse).any():\n",
      "C:\\Users\\chava\\anaconda3\\lib\\site-packages\\sklearn\\utils\\validation.py:595: FutureWarning: is_sparse is deprecated and will be removed in a future version. Check `isinstance(dtype, pd.SparseDtype)` instead.\n",
      "  if is_sparse(pd_dtype):\n",
      "C:\\Users\\chava\\anaconda3\\lib\\site-packages\\sklearn\\utils\\validation.py:604: FutureWarning: is_sparse is deprecated and will be removed in a future version. Check `isinstance(dtype, pd.SparseDtype)` instead.\n",
      "  if is_sparse(pd_dtype) or not is_extension_array_dtype(pd_dtype):\n"
     ]
    }
   ],
   "source": [
    "import numpy as np\n",
    "import pandas as pd\n",
    "from sklearn.datasets import load_boston\n",
    "from sklearn.model_selection import train_test_split\n",
    "from sklearn.linear_model import LinearRegression\n",
    "from sklearn.metrics import mean_squared_error\n",
    "\n",
    "# Load the Boston Housing dataset\n",
    "column_names = ['CRIM', 'ZN', 'INDUS', 'CHAS', 'NOX', 'RM', 'AGE', 'DIS', 'RAD', 'TAX', 'PTRATIO', 'B', 'LSTAT', 'MEDV']\n",
    "boston = pd.read_csv(\"https://raw.githubusercontent.com/nikbearbrown/INFO_7390_Art_and_Science_of_Data/main/CSV/Perfect_Data_Size_boston_housing_data.csv\", header=None, delimiter=r\"\\s+\", names=column_names)\n",
    "data = pd.DataFrame(boston)\n",
    "target = pd.DataFrame(boston, columns=[\"MEDV\"])\n",
    "\n",
    "# Split the data into training and test sets\n",
    "X_train, X_test, y_train, y_test = train_test_split(data, target, test_size=0.2, random_state=42)\n",
    "\n",
    "# Start with a small data set of 100 samples\n",
    "n_samples = 100\n",
    "X_train_small = X_train[:n_samples]\n",
    "y_train_small = y_train[:n_samples]\n",
    "\n",
    "# Train a linear regression model on the small data set\n",
    "model = LinearRegression()\n",
    "model.fit(X_train_small, y_train_small)\n",
    "\n",
    "# Evaluate the performance of the model on the test data\n",
    "y_pred = model.predict(X_test)\n",
    "mse = mean_squared_error(y_test, y_pred)\n",
    "print(\"Mean Squared Error with {} samples: {}\".format(n_samples, mse))\n"
   ]
  },
  {
   "cell_type": "markdown",
   "metadata": {
    "id": "cAhcxNqjE1F7"
   },
   "source": [
    "Looking at the above code, you might wonder why we splitted the data set into traditional \"train-test split\" i.e. 80-20 ratio. Please [click here](https://colab.research.google.com/drive/1DgQ0jvKVTtXxxXOV_R0s7aTUk3Gihzve#scrollTo=wpvXSO4pIR7z) to find out more about train-test split."
   ]
  },
  {
   "cell_type": "code",
   "execution_count": 2,
   "metadata": {
    "colab": {
     "base_uri": "https://localhost:8080/",
     "height": 423
    },
    "id": "XjVgQAHW9_Vd",
    "outputId": "a8adfd70-3b9c-46e0-a3cc-42d9293bef10"
   },
   "outputs": [
    {
     "data": {
      "text/html": [
       "<div>\n",
       "<style scoped>\n",
       "    .dataframe tbody tr th:only-of-type {\n",
       "        vertical-align: middle;\n",
       "    }\n",
       "\n",
       "    .dataframe tbody tr th {\n",
       "        vertical-align: top;\n",
       "    }\n",
       "\n",
       "    .dataframe thead th {\n",
       "        text-align: right;\n",
       "    }\n",
       "</style>\n",
       "<table border=\"1\" class=\"dataframe\">\n",
       "  <thead>\n",
       "    <tr style=\"text-align: right;\">\n",
       "      <th></th>\n",
       "      <th>CRIM</th>\n",
       "      <th>ZN</th>\n",
       "      <th>INDUS</th>\n",
       "      <th>CHAS</th>\n",
       "      <th>NOX</th>\n",
       "      <th>RM</th>\n",
       "      <th>AGE</th>\n",
       "      <th>DIS</th>\n",
       "      <th>RAD</th>\n",
       "      <th>TAX</th>\n",
       "      <th>PTRATIO</th>\n",
       "      <th>B</th>\n",
       "      <th>LSTAT</th>\n",
       "      <th>MEDV</th>\n",
       "    </tr>\n",
       "  </thead>\n",
       "  <tbody>\n",
       "    <tr>\n",
       "      <th>0</th>\n",
       "      <td>0.00632</td>\n",
       "      <td>18.0</td>\n",
       "      <td>2.31</td>\n",
       "      <td>0</td>\n",
       "      <td>0.538</td>\n",
       "      <td>6.575</td>\n",
       "      <td>65.2</td>\n",
       "      <td>4.0900</td>\n",
       "      <td>1</td>\n",
       "      <td>296.0</td>\n",
       "      <td>15.3</td>\n",
       "      <td>396.90</td>\n",
       "      <td>4.98</td>\n",
       "      <td>24.0</td>\n",
       "    </tr>\n",
       "    <tr>\n",
       "      <th>1</th>\n",
       "      <td>0.02731</td>\n",
       "      <td>0.0</td>\n",
       "      <td>7.07</td>\n",
       "      <td>0</td>\n",
       "      <td>0.469</td>\n",
       "      <td>6.421</td>\n",
       "      <td>78.9</td>\n",
       "      <td>4.9671</td>\n",
       "      <td>2</td>\n",
       "      <td>242.0</td>\n",
       "      <td>17.8</td>\n",
       "      <td>396.90</td>\n",
       "      <td>9.14</td>\n",
       "      <td>21.6</td>\n",
       "    </tr>\n",
       "    <tr>\n",
       "      <th>2</th>\n",
       "      <td>0.02729</td>\n",
       "      <td>0.0</td>\n",
       "      <td>7.07</td>\n",
       "      <td>0</td>\n",
       "      <td>0.469</td>\n",
       "      <td>7.185</td>\n",
       "      <td>61.1</td>\n",
       "      <td>4.9671</td>\n",
       "      <td>2</td>\n",
       "      <td>242.0</td>\n",
       "      <td>17.8</td>\n",
       "      <td>392.83</td>\n",
       "      <td>4.03</td>\n",
       "      <td>34.7</td>\n",
       "    </tr>\n",
       "    <tr>\n",
       "      <th>3</th>\n",
       "      <td>0.03237</td>\n",
       "      <td>0.0</td>\n",
       "      <td>2.18</td>\n",
       "      <td>0</td>\n",
       "      <td>0.458</td>\n",
       "      <td>6.998</td>\n",
       "      <td>45.8</td>\n",
       "      <td>6.0622</td>\n",
       "      <td>3</td>\n",
       "      <td>222.0</td>\n",
       "      <td>18.7</td>\n",
       "      <td>394.63</td>\n",
       "      <td>2.94</td>\n",
       "      <td>33.4</td>\n",
       "    </tr>\n",
       "    <tr>\n",
       "      <th>4</th>\n",
       "      <td>0.06905</td>\n",
       "      <td>0.0</td>\n",
       "      <td>2.18</td>\n",
       "      <td>0</td>\n",
       "      <td>0.458</td>\n",
       "      <td>7.147</td>\n",
       "      <td>54.2</td>\n",
       "      <td>6.0622</td>\n",
       "      <td>3</td>\n",
       "      <td>222.0</td>\n",
       "      <td>18.7</td>\n",
       "      <td>396.90</td>\n",
       "      <td>5.33</td>\n",
       "      <td>36.2</td>\n",
       "    </tr>\n",
       "    <tr>\n",
       "      <th>...</th>\n",
       "      <td>...</td>\n",
       "      <td>...</td>\n",
       "      <td>...</td>\n",
       "      <td>...</td>\n",
       "      <td>...</td>\n",
       "      <td>...</td>\n",
       "      <td>...</td>\n",
       "      <td>...</td>\n",
       "      <td>...</td>\n",
       "      <td>...</td>\n",
       "      <td>...</td>\n",
       "      <td>...</td>\n",
       "      <td>...</td>\n",
       "      <td>...</td>\n",
       "    </tr>\n",
       "    <tr>\n",
       "      <th>501</th>\n",
       "      <td>0.06263</td>\n",
       "      <td>0.0</td>\n",
       "      <td>11.93</td>\n",
       "      <td>0</td>\n",
       "      <td>0.573</td>\n",
       "      <td>6.593</td>\n",
       "      <td>69.1</td>\n",
       "      <td>2.4786</td>\n",
       "      <td>1</td>\n",
       "      <td>273.0</td>\n",
       "      <td>21.0</td>\n",
       "      <td>391.99</td>\n",
       "      <td>9.67</td>\n",
       "      <td>22.4</td>\n",
       "    </tr>\n",
       "    <tr>\n",
       "      <th>502</th>\n",
       "      <td>0.04527</td>\n",
       "      <td>0.0</td>\n",
       "      <td>11.93</td>\n",
       "      <td>0</td>\n",
       "      <td>0.573</td>\n",
       "      <td>6.120</td>\n",
       "      <td>76.7</td>\n",
       "      <td>2.2875</td>\n",
       "      <td>1</td>\n",
       "      <td>273.0</td>\n",
       "      <td>21.0</td>\n",
       "      <td>396.90</td>\n",
       "      <td>9.08</td>\n",
       "      <td>20.6</td>\n",
       "    </tr>\n",
       "    <tr>\n",
       "      <th>503</th>\n",
       "      <td>0.06076</td>\n",
       "      <td>0.0</td>\n",
       "      <td>11.93</td>\n",
       "      <td>0</td>\n",
       "      <td>0.573</td>\n",
       "      <td>6.976</td>\n",
       "      <td>91.0</td>\n",
       "      <td>2.1675</td>\n",
       "      <td>1</td>\n",
       "      <td>273.0</td>\n",
       "      <td>21.0</td>\n",
       "      <td>396.90</td>\n",
       "      <td>5.64</td>\n",
       "      <td>23.9</td>\n",
       "    </tr>\n",
       "    <tr>\n",
       "      <th>504</th>\n",
       "      <td>0.10959</td>\n",
       "      <td>0.0</td>\n",
       "      <td>11.93</td>\n",
       "      <td>0</td>\n",
       "      <td>0.573</td>\n",
       "      <td>6.794</td>\n",
       "      <td>89.3</td>\n",
       "      <td>2.3889</td>\n",
       "      <td>1</td>\n",
       "      <td>273.0</td>\n",
       "      <td>21.0</td>\n",
       "      <td>393.45</td>\n",
       "      <td>6.48</td>\n",
       "      <td>22.0</td>\n",
       "    </tr>\n",
       "    <tr>\n",
       "      <th>505</th>\n",
       "      <td>0.04741</td>\n",
       "      <td>0.0</td>\n",
       "      <td>11.93</td>\n",
       "      <td>0</td>\n",
       "      <td>0.573</td>\n",
       "      <td>6.030</td>\n",
       "      <td>80.8</td>\n",
       "      <td>2.5050</td>\n",
       "      <td>1</td>\n",
       "      <td>273.0</td>\n",
       "      <td>21.0</td>\n",
       "      <td>396.90</td>\n",
       "      <td>7.88</td>\n",
       "      <td>11.9</td>\n",
       "    </tr>\n",
       "  </tbody>\n",
       "</table>\n",
       "<p>506 rows × 14 columns</p>\n",
       "</div>"
      ],
      "text/plain": [
       "        CRIM    ZN  INDUS  CHAS    NOX     RM   AGE     DIS  RAD    TAX  \\\n",
       "0    0.00632  18.0   2.31     0  0.538  6.575  65.2  4.0900    1  296.0   \n",
       "1    0.02731   0.0   7.07     0  0.469  6.421  78.9  4.9671    2  242.0   \n",
       "2    0.02729   0.0   7.07     0  0.469  7.185  61.1  4.9671    2  242.0   \n",
       "3    0.03237   0.0   2.18     0  0.458  6.998  45.8  6.0622    3  222.0   \n",
       "4    0.06905   0.0   2.18     0  0.458  7.147  54.2  6.0622    3  222.0   \n",
       "..       ...   ...    ...   ...    ...    ...   ...     ...  ...    ...   \n",
       "501  0.06263   0.0  11.93     0  0.573  6.593  69.1  2.4786    1  273.0   \n",
       "502  0.04527   0.0  11.93     0  0.573  6.120  76.7  2.2875    1  273.0   \n",
       "503  0.06076   0.0  11.93     0  0.573  6.976  91.0  2.1675    1  273.0   \n",
       "504  0.10959   0.0  11.93     0  0.573  6.794  89.3  2.3889    1  273.0   \n",
       "505  0.04741   0.0  11.93     0  0.573  6.030  80.8  2.5050    1  273.0   \n",
       "\n",
       "     PTRATIO       B  LSTAT  MEDV  \n",
       "0       15.3  396.90   4.98  24.0  \n",
       "1       17.8  396.90   9.14  21.6  \n",
       "2       17.8  392.83   4.03  34.7  \n",
       "3       18.7  394.63   2.94  33.4  \n",
       "4       18.7  396.90   5.33  36.2  \n",
       "..       ...     ...    ...   ...  \n",
       "501     21.0  391.99   9.67  22.4  \n",
       "502     21.0  396.90   9.08  20.6  \n",
       "503     21.0  396.90   5.64  23.9  \n",
       "504     21.0  393.45   6.48  22.0  \n",
       "505     21.0  396.90   7.88  11.9  \n",
       "\n",
       "[506 rows x 14 columns]"
      ]
     },
     "execution_count": 2,
     "metadata": {},
     "output_type": "execute_result"
    }
   ],
   "source": [
    "boston"
   ]
  },
  {
   "cell_type": "markdown",
   "metadata": {
    "id": "c7z9T6DkCa8X"
   },
   "source": [
    "Experimenting with 200 samples of data set"
   ]
  },
  {
   "cell_type": "code",
   "execution_count": 3,
   "metadata": {
    "colab": {
     "base_uri": "https://localhost:8080/"
    },
    "id": "24Z0_1hc2R5m",
    "outputId": "e3c228d7-6077-4bdf-ae96-f6e865fd5418"
   },
   "outputs": [
    {
     "name": "stdout",
     "output_type": "stream",
     "text": [
      "Mean Squared Error with 200 samples: 5.245770341110862e-28\n"
     ]
    },
    {
     "name": "stderr",
     "output_type": "stream",
     "text": [
      "C:\\Users\\chava\\anaconda3\\lib\\site-packages\\sklearn\\utils\\validation.py:757: FutureWarning: is_sparse is deprecated and will be removed in a future version. Check `isinstance(dtype, pd.SparseDtype)` instead.\n",
      "  if not hasattr(array, \"sparse\") and array.dtypes.apply(is_sparse).any():\n",
      "C:\\Users\\chava\\anaconda3\\lib\\site-packages\\sklearn\\utils\\validation.py:595: FutureWarning: is_sparse is deprecated and will be removed in a future version. Check `isinstance(dtype, pd.SparseDtype)` instead.\n",
      "  if is_sparse(pd_dtype):\n",
      "C:\\Users\\chava\\anaconda3\\lib\\site-packages\\sklearn\\utils\\validation.py:604: FutureWarning: is_sparse is deprecated and will be removed in a future version. Check `isinstance(dtype, pd.SparseDtype)` instead.\n",
      "  if is_sparse(pd_dtype) or not is_extension_array_dtype(pd_dtype):\n",
      "C:\\Users\\chava\\anaconda3\\lib\\site-packages\\sklearn\\utils\\validation.py:757: FutureWarning: is_sparse is deprecated and will be removed in a future version. Check `isinstance(dtype, pd.SparseDtype)` instead.\n",
      "  if not hasattr(array, \"sparse\") and array.dtypes.apply(is_sparse).any():\n",
      "C:\\Users\\chava\\anaconda3\\lib\\site-packages\\sklearn\\utils\\validation.py:595: FutureWarning: is_sparse is deprecated and will be removed in a future version. Check `isinstance(dtype, pd.SparseDtype)` instead.\n",
      "  if is_sparse(pd_dtype):\n",
      "C:\\Users\\chava\\anaconda3\\lib\\site-packages\\sklearn\\utils\\validation.py:604: FutureWarning: is_sparse is deprecated and will be removed in a future version. Check `isinstance(dtype, pd.SparseDtype)` instead.\n",
      "  if is_sparse(pd_dtype) or not is_extension_array_dtype(pd_dtype):\n",
      "C:\\Users\\chava\\anaconda3\\lib\\site-packages\\sklearn\\utils\\validation.py:757: FutureWarning: is_sparse is deprecated and will be removed in a future version. Check `isinstance(dtype, pd.SparseDtype)` instead.\n",
      "  if not hasattr(array, \"sparse\") and array.dtypes.apply(is_sparse).any():\n",
      "C:\\Users\\chava\\anaconda3\\lib\\site-packages\\sklearn\\utils\\validation.py:595: FutureWarning: is_sparse is deprecated and will be removed in a future version. Check `isinstance(dtype, pd.SparseDtype)` instead.\n",
      "  if is_sparse(pd_dtype):\n",
      "C:\\Users\\chava\\anaconda3\\lib\\site-packages\\sklearn\\utils\\validation.py:604: FutureWarning: is_sparse is deprecated and will be removed in a future version. Check `isinstance(dtype, pd.SparseDtype)` instead.\n",
      "  if is_sparse(pd_dtype) or not is_extension_array_dtype(pd_dtype):\n",
      "C:\\Users\\chava\\anaconda3\\lib\\site-packages\\sklearn\\utils\\validation.py:757: FutureWarning: is_sparse is deprecated and will be removed in a future version. Check `isinstance(dtype, pd.SparseDtype)` instead.\n",
      "  if not hasattr(array, \"sparse\") and array.dtypes.apply(is_sparse).any():\n",
      "C:\\Users\\chava\\anaconda3\\lib\\site-packages\\sklearn\\utils\\validation.py:595: FutureWarning: is_sparse is deprecated and will be removed in a future version. Check `isinstance(dtype, pd.SparseDtype)` instead.\n",
      "  if is_sparse(pd_dtype):\n",
      "C:\\Users\\chava\\anaconda3\\lib\\site-packages\\sklearn\\utils\\validation.py:604: FutureWarning: is_sparse is deprecated and will be removed in a future version. Check `isinstance(dtype, pd.SparseDtype)` instead.\n",
      "  if is_sparse(pd_dtype) or not is_extension_array_dtype(pd_dtype):\n"
     ]
    }
   ],
   "source": [
    "# Repeat the process with a larger data set of 200 samples\n",
    "n_samples = 200\n",
    "X_train_large = X_train[:n_samples]\n",
    "y_train_large = y_train[:n_samples]\n",
    "\n",
    "model = LinearRegression()\n",
    "model.fit(X_train_large, y_train_large)\n",
    "\n",
    "y_pred = model.predict(X_test)\n",
    "mse = mean_squared_error(y_test, y_pred)\n",
    "print(\"Mean Squared Error with {} samples: {}\".format(n_samples, mse))"
   ]
  },
  {
   "cell_type": "markdown",
   "metadata": {
    "id": "KNfq1zhVCg1V"
   },
   "source": [
    "Increasing sample size to 500"
   ]
  },
  {
   "cell_type": "code",
   "execution_count": 4,
   "metadata": {
    "colab": {
     "base_uri": "https://localhost:8080/"
    },
    "id": "KAdJVssy4pKt",
    "outputId": "68d78fd9-a335-4315-ec34-7c3afd02d1fe"
   },
   "outputs": [
    {
     "name": "stdout",
     "output_type": "stream",
     "text": [
      "Mean Squared Error with 500 samples: 1.5068944754418861e-27\n"
     ]
    },
    {
     "name": "stderr",
     "output_type": "stream",
     "text": [
      "C:\\Users\\chava\\anaconda3\\lib\\site-packages\\sklearn\\utils\\validation.py:757: FutureWarning: is_sparse is deprecated and will be removed in a future version. Check `isinstance(dtype, pd.SparseDtype)` instead.\n",
      "  if not hasattr(array, \"sparse\") and array.dtypes.apply(is_sparse).any():\n",
      "C:\\Users\\chava\\anaconda3\\lib\\site-packages\\sklearn\\utils\\validation.py:595: FutureWarning: is_sparse is deprecated and will be removed in a future version. Check `isinstance(dtype, pd.SparseDtype)` instead.\n",
      "  if is_sparse(pd_dtype):\n",
      "C:\\Users\\chava\\anaconda3\\lib\\site-packages\\sklearn\\utils\\validation.py:604: FutureWarning: is_sparse is deprecated and will be removed in a future version. Check `isinstance(dtype, pd.SparseDtype)` instead.\n",
      "  if is_sparse(pd_dtype) or not is_extension_array_dtype(pd_dtype):\n",
      "C:\\Users\\chava\\anaconda3\\lib\\site-packages\\sklearn\\utils\\validation.py:757: FutureWarning: is_sparse is deprecated and will be removed in a future version. Check `isinstance(dtype, pd.SparseDtype)` instead.\n",
      "  if not hasattr(array, \"sparse\") and array.dtypes.apply(is_sparse).any():\n",
      "C:\\Users\\chava\\anaconda3\\lib\\site-packages\\sklearn\\utils\\validation.py:595: FutureWarning: is_sparse is deprecated and will be removed in a future version. Check `isinstance(dtype, pd.SparseDtype)` instead.\n",
      "  if is_sparse(pd_dtype):\n",
      "C:\\Users\\chava\\anaconda3\\lib\\site-packages\\sklearn\\utils\\validation.py:604: FutureWarning: is_sparse is deprecated and will be removed in a future version. Check `isinstance(dtype, pd.SparseDtype)` instead.\n",
      "  if is_sparse(pd_dtype) or not is_extension_array_dtype(pd_dtype):\n",
      "C:\\Users\\chava\\anaconda3\\lib\\site-packages\\sklearn\\utils\\validation.py:757: FutureWarning: is_sparse is deprecated and will be removed in a future version. Check `isinstance(dtype, pd.SparseDtype)` instead.\n",
      "  if not hasattr(array, \"sparse\") and array.dtypes.apply(is_sparse).any():\n",
      "C:\\Users\\chava\\anaconda3\\lib\\site-packages\\sklearn\\utils\\validation.py:595: FutureWarning: is_sparse is deprecated and will be removed in a future version. Check `isinstance(dtype, pd.SparseDtype)` instead.\n",
      "  if is_sparse(pd_dtype):\n",
      "C:\\Users\\chava\\anaconda3\\lib\\site-packages\\sklearn\\utils\\validation.py:604: FutureWarning: is_sparse is deprecated and will be removed in a future version. Check `isinstance(dtype, pd.SparseDtype)` instead.\n",
      "  if is_sparse(pd_dtype) or not is_extension_array_dtype(pd_dtype):\n",
      "C:\\Users\\chava\\anaconda3\\lib\\site-packages\\sklearn\\utils\\validation.py:757: FutureWarning: is_sparse is deprecated and will be removed in a future version. Check `isinstance(dtype, pd.SparseDtype)` instead.\n",
      "  if not hasattr(array, \"sparse\") and array.dtypes.apply(is_sparse).any():\n",
      "C:\\Users\\chava\\anaconda3\\lib\\site-packages\\sklearn\\utils\\validation.py:595: FutureWarning: is_sparse is deprecated and will be removed in a future version. Check `isinstance(dtype, pd.SparseDtype)` instead.\n",
      "  if is_sparse(pd_dtype):\n",
      "C:\\Users\\chava\\anaconda3\\lib\\site-packages\\sklearn\\utils\\validation.py:604: FutureWarning: is_sparse is deprecated and will be removed in a future version. Check `isinstance(dtype, pd.SparseDtype)` instead.\n",
      "  if is_sparse(pd_dtype) or not is_extension_array_dtype(pd_dtype):\n"
     ]
    }
   ],
   "source": [
    "n_samples = 500\n",
    "X_train_large = X_train[:n_samples]\n",
    "y_train_large = y_train[:n_samples]\n",
    "\n",
    "model = LinearRegression()\n",
    "model.fit(X_train_large, y_train_large)\n",
    "\n",
    "y_pred = model.predict(X_test)\n",
    "mse = mean_squared_error(y_test, y_pred)\n",
    "print(\"Mean Squared Error with {} samples: {}\".format(n_samples, mse))"
   ]
  },
  {
   "cell_type": "markdown",
   "metadata": {
    "id": "kWmsJJxaCkds"
   },
   "source": [
    "Finally, experimenting with 1000 sample data set"
   ]
  },
  {
   "cell_type": "code",
   "execution_count": 5,
   "metadata": {
    "colab": {
     "base_uri": "https://localhost:8080/"
    },
    "id": "r5RFJEfI5MVH",
    "outputId": "9079f6c4-b114-46de-8b46-235483b7bdf5"
   },
   "outputs": [
    {
     "name": "stdout",
     "output_type": "stream",
     "text": [
      "Mean Squared Error with 1000 samples: 1.5068944754418861e-27\n"
     ]
    },
    {
     "name": "stderr",
     "output_type": "stream",
     "text": [
      "C:\\Users\\chava\\anaconda3\\lib\\site-packages\\sklearn\\utils\\validation.py:757: FutureWarning: is_sparse is deprecated and will be removed in a future version. Check `isinstance(dtype, pd.SparseDtype)` instead.\n",
      "  if not hasattr(array, \"sparse\") and array.dtypes.apply(is_sparse).any():\n",
      "C:\\Users\\chava\\anaconda3\\lib\\site-packages\\sklearn\\utils\\validation.py:595: FutureWarning: is_sparse is deprecated and will be removed in a future version. Check `isinstance(dtype, pd.SparseDtype)` instead.\n",
      "  if is_sparse(pd_dtype):\n",
      "C:\\Users\\chava\\anaconda3\\lib\\site-packages\\sklearn\\utils\\validation.py:604: FutureWarning: is_sparse is deprecated and will be removed in a future version. Check `isinstance(dtype, pd.SparseDtype)` instead.\n",
      "  if is_sparse(pd_dtype) or not is_extension_array_dtype(pd_dtype):\n",
      "C:\\Users\\chava\\anaconda3\\lib\\site-packages\\sklearn\\utils\\validation.py:757: FutureWarning: is_sparse is deprecated and will be removed in a future version. Check `isinstance(dtype, pd.SparseDtype)` instead.\n",
      "  if not hasattr(array, \"sparse\") and array.dtypes.apply(is_sparse).any():\n",
      "C:\\Users\\chava\\anaconda3\\lib\\site-packages\\sklearn\\utils\\validation.py:595: FutureWarning: is_sparse is deprecated and will be removed in a future version. Check `isinstance(dtype, pd.SparseDtype)` instead.\n",
      "  if is_sparse(pd_dtype):\n",
      "C:\\Users\\chava\\anaconda3\\lib\\site-packages\\sklearn\\utils\\validation.py:604: FutureWarning: is_sparse is deprecated and will be removed in a future version. Check `isinstance(dtype, pd.SparseDtype)` instead.\n",
      "  if is_sparse(pd_dtype) or not is_extension_array_dtype(pd_dtype):\n",
      "C:\\Users\\chava\\anaconda3\\lib\\site-packages\\sklearn\\utils\\validation.py:757: FutureWarning: is_sparse is deprecated and will be removed in a future version. Check `isinstance(dtype, pd.SparseDtype)` instead.\n",
      "  if not hasattr(array, \"sparse\") and array.dtypes.apply(is_sparse).any():\n",
      "C:\\Users\\chava\\anaconda3\\lib\\site-packages\\sklearn\\utils\\validation.py:595: FutureWarning: is_sparse is deprecated and will be removed in a future version. Check `isinstance(dtype, pd.SparseDtype)` instead.\n",
      "  if is_sparse(pd_dtype):\n",
      "C:\\Users\\chava\\anaconda3\\lib\\site-packages\\sklearn\\utils\\validation.py:604: FutureWarning: is_sparse is deprecated and will be removed in a future version. Check `isinstance(dtype, pd.SparseDtype)` instead.\n",
      "  if is_sparse(pd_dtype) or not is_extension_array_dtype(pd_dtype):\n",
      "C:\\Users\\chava\\anaconda3\\lib\\site-packages\\sklearn\\utils\\validation.py:757: FutureWarning: is_sparse is deprecated and will be removed in a future version. Check `isinstance(dtype, pd.SparseDtype)` instead.\n",
      "  if not hasattr(array, \"sparse\") and array.dtypes.apply(is_sparse).any():\n",
      "C:\\Users\\chava\\anaconda3\\lib\\site-packages\\sklearn\\utils\\validation.py:595: FutureWarning: is_sparse is deprecated and will be removed in a future version. Check `isinstance(dtype, pd.SparseDtype)` instead.\n",
      "  if is_sparse(pd_dtype):\n",
      "C:\\Users\\chava\\anaconda3\\lib\\site-packages\\sklearn\\utils\\validation.py:604: FutureWarning: is_sparse is deprecated and will be removed in a future version. Check `isinstance(dtype, pd.SparseDtype)` instead.\n",
      "  if is_sparse(pd_dtype) or not is_extension_array_dtype(pd_dtype):\n"
     ]
    }
   ],
   "source": [
    "n_samples = 1000\n",
    "X_train_large = X_train[:n_samples]\n",
    "y_train_large = y_train[:n_samples]\n",
    "\n",
    "model = LinearRegression()\n",
    "model.fit(X_train_large, y_train_large)\n",
    "\n",
    "y_pred = model.predict(X_test)\n",
    "mse = mean_squared_error(y_test, y_pred)\n",
    "print(\"Mean Squared Error with {} samples: {}\".format(n_samples, mse))"
   ]
  },
  {
   "cell_type": "markdown",
   "metadata": {
    "id": "9xiDUmeCCtSS"
   },
   "source": [
    "# Conclusion for data size using \"Mean Squared Error\""
   ]
  },
  {
   "cell_type": "markdown",
   "metadata": {
    "id": "mwL2YBDA4kIx"
   },
   "source": [
    "As you can see, the performance of the model improves as the size of the data set increases. By comparing the mean squared error (MSE) on the test data, we can see if the performance improvement is significant enough to justify using a larger data set. In this example, increasing the data set size from 100 to 200 samples results in a lower MSE, which suggests that a larger data set may lead to improved performance.\n",
    "\n",
    "But as we increase the data size to 500 to 1000, we can see there is no change in the mean sqaure error, which brings us to the conclusion that we can perform the analysis with 500 data points"
   ]
  },
  {
   "cell_type": "markdown",
   "metadata": {
    "id": "qwBfZukU6X_g"
   },
   "source": [
    "There are other methods to determine the minimum data size requirement for analysis in machine learning. Some common methods include:\n",
    "\n",
    "**Cross-validation**: In this method, the data set is split into multiple folds, and a model is trained and evaluated on different subsets of the data. The average performance across all folds can be used to determine the minimum data size requirement.\n",
    "\n",
    "**Learning curves**: This method involves training models on progressively larger subsets of the data and evaluating their performance. By plotting the performance as a function of the size of the data set, you can determine if adding more data will lead to improved performance.\n",
    "\n",
    "**Model complexity analysis**: In this method, the complexity of the model is varied and evaluated for different sizes of the data set. This can help you determine the minimum data size required to achieve good performance for a given model complexity.\n",
    "\n",
    "**Optimal stopping theory**: This method involves iteratively adding data to the data set and evaluating the performance of the model until it stops improving or begins to decline. The minimum data size requirement is the size of the data set at which performance stops improving.\n",
    "\n",
    "These methods can be used alone or in combination, depending on the specific problem and the type of model being used. Ultimately, the goal is to find the minimum data size that provides a good trade-off between model performance and computational efficiency."
   ]
  },
  {
   "cell_type": "markdown",
   "metadata": {
    "id": "YhGzsK1e68Py"
   },
   "source": [
    "# Determining data size using cross-validation method"
   ]
  },
  {
   "cell_type": "code",
   "execution_count": 6,
   "metadata": {
    "id": "5N3KpM8z7E1v"
   },
   "outputs": [],
   "source": [
    "import numpy as np\n",
    "import matplotlib.pyplot as plt\n",
    "from sklearn.datasets import load_boston\n",
    "from sklearn.model_selection import train_test_split\n",
    "from sklearn.model_selection import KFold\n",
    "from sklearn.linear_model import LinearRegression\n",
    "from sklearn.metrics import mean_squared_error"
   ]
  },
  {
   "cell_type": "code",
   "execution_count": 7,
   "metadata": {
    "colab": {
     "base_uri": "https://localhost:8080/",
     "height": 423
    },
    "id": "TUhvZ8-07-PV",
    "outputId": "d879d80d-3937-4b1d-ad3d-d25559882144"
   },
   "outputs": [
    {
     "data": {
      "text/html": [
       "<div>\n",
       "<style scoped>\n",
       "    .dataframe tbody tr th:only-of-type {\n",
       "        vertical-align: middle;\n",
       "    }\n",
       "\n",
       "    .dataframe tbody tr th {\n",
       "        vertical-align: top;\n",
       "    }\n",
       "\n",
       "    .dataframe thead th {\n",
       "        text-align: right;\n",
       "    }\n",
       "</style>\n",
       "<table border=\"1\" class=\"dataframe\">\n",
       "  <thead>\n",
       "    <tr style=\"text-align: right;\">\n",
       "      <th></th>\n",
       "      <th>CRIM</th>\n",
       "      <th>ZN</th>\n",
       "      <th>INDUS</th>\n",
       "      <th>CHAS</th>\n",
       "      <th>NOX</th>\n",
       "      <th>RM</th>\n",
       "      <th>AGE</th>\n",
       "      <th>DIS</th>\n",
       "      <th>RAD</th>\n",
       "      <th>TAX</th>\n",
       "      <th>PTRATIO</th>\n",
       "      <th>B</th>\n",
       "      <th>LSTAT</th>\n",
       "      <th>MEDV</th>\n",
       "    </tr>\n",
       "  </thead>\n",
       "  <tbody>\n",
       "    <tr>\n",
       "      <th>0</th>\n",
       "      <td>0.00632</td>\n",
       "      <td>18.0</td>\n",
       "      <td>2.31</td>\n",
       "      <td>0</td>\n",
       "      <td>0.538</td>\n",
       "      <td>6.575</td>\n",
       "      <td>65.2</td>\n",
       "      <td>4.0900</td>\n",
       "      <td>1</td>\n",
       "      <td>296.0</td>\n",
       "      <td>15.3</td>\n",
       "      <td>396.90</td>\n",
       "      <td>4.98</td>\n",
       "      <td>24.0</td>\n",
       "    </tr>\n",
       "    <tr>\n",
       "      <th>1</th>\n",
       "      <td>0.02731</td>\n",
       "      <td>0.0</td>\n",
       "      <td>7.07</td>\n",
       "      <td>0</td>\n",
       "      <td>0.469</td>\n",
       "      <td>6.421</td>\n",
       "      <td>78.9</td>\n",
       "      <td>4.9671</td>\n",
       "      <td>2</td>\n",
       "      <td>242.0</td>\n",
       "      <td>17.8</td>\n",
       "      <td>396.90</td>\n",
       "      <td>9.14</td>\n",
       "      <td>21.6</td>\n",
       "    </tr>\n",
       "    <tr>\n",
       "      <th>2</th>\n",
       "      <td>0.02729</td>\n",
       "      <td>0.0</td>\n",
       "      <td>7.07</td>\n",
       "      <td>0</td>\n",
       "      <td>0.469</td>\n",
       "      <td>7.185</td>\n",
       "      <td>61.1</td>\n",
       "      <td>4.9671</td>\n",
       "      <td>2</td>\n",
       "      <td>242.0</td>\n",
       "      <td>17.8</td>\n",
       "      <td>392.83</td>\n",
       "      <td>4.03</td>\n",
       "      <td>34.7</td>\n",
       "    </tr>\n",
       "    <tr>\n",
       "      <th>3</th>\n",
       "      <td>0.03237</td>\n",
       "      <td>0.0</td>\n",
       "      <td>2.18</td>\n",
       "      <td>0</td>\n",
       "      <td>0.458</td>\n",
       "      <td>6.998</td>\n",
       "      <td>45.8</td>\n",
       "      <td>6.0622</td>\n",
       "      <td>3</td>\n",
       "      <td>222.0</td>\n",
       "      <td>18.7</td>\n",
       "      <td>394.63</td>\n",
       "      <td>2.94</td>\n",
       "      <td>33.4</td>\n",
       "    </tr>\n",
       "    <tr>\n",
       "      <th>4</th>\n",
       "      <td>0.06905</td>\n",
       "      <td>0.0</td>\n",
       "      <td>2.18</td>\n",
       "      <td>0</td>\n",
       "      <td>0.458</td>\n",
       "      <td>7.147</td>\n",
       "      <td>54.2</td>\n",
       "      <td>6.0622</td>\n",
       "      <td>3</td>\n",
       "      <td>222.0</td>\n",
       "      <td>18.7</td>\n",
       "      <td>396.90</td>\n",
       "      <td>5.33</td>\n",
       "      <td>36.2</td>\n",
       "    </tr>\n",
       "    <tr>\n",
       "      <th>...</th>\n",
       "      <td>...</td>\n",
       "      <td>...</td>\n",
       "      <td>...</td>\n",
       "      <td>...</td>\n",
       "      <td>...</td>\n",
       "      <td>...</td>\n",
       "      <td>...</td>\n",
       "      <td>...</td>\n",
       "      <td>...</td>\n",
       "      <td>...</td>\n",
       "      <td>...</td>\n",
       "      <td>...</td>\n",
       "      <td>...</td>\n",
       "      <td>...</td>\n",
       "    </tr>\n",
       "    <tr>\n",
       "      <th>501</th>\n",
       "      <td>0.06263</td>\n",
       "      <td>0.0</td>\n",
       "      <td>11.93</td>\n",
       "      <td>0</td>\n",
       "      <td>0.573</td>\n",
       "      <td>6.593</td>\n",
       "      <td>69.1</td>\n",
       "      <td>2.4786</td>\n",
       "      <td>1</td>\n",
       "      <td>273.0</td>\n",
       "      <td>21.0</td>\n",
       "      <td>391.99</td>\n",
       "      <td>9.67</td>\n",
       "      <td>22.4</td>\n",
       "    </tr>\n",
       "    <tr>\n",
       "      <th>502</th>\n",
       "      <td>0.04527</td>\n",
       "      <td>0.0</td>\n",
       "      <td>11.93</td>\n",
       "      <td>0</td>\n",
       "      <td>0.573</td>\n",
       "      <td>6.120</td>\n",
       "      <td>76.7</td>\n",
       "      <td>2.2875</td>\n",
       "      <td>1</td>\n",
       "      <td>273.0</td>\n",
       "      <td>21.0</td>\n",
       "      <td>396.90</td>\n",
       "      <td>9.08</td>\n",
       "      <td>20.6</td>\n",
       "    </tr>\n",
       "    <tr>\n",
       "      <th>503</th>\n",
       "      <td>0.06076</td>\n",
       "      <td>0.0</td>\n",
       "      <td>11.93</td>\n",
       "      <td>0</td>\n",
       "      <td>0.573</td>\n",
       "      <td>6.976</td>\n",
       "      <td>91.0</td>\n",
       "      <td>2.1675</td>\n",
       "      <td>1</td>\n",
       "      <td>273.0</td>\n",
       "      <td>21.0</td>\n",
       "      <td>396.90</td>\n",
       "      <td>5.64</td>\n",
       "      <td>23.9</td>\n",
       "    </tr>\n",
       "    <tr>\n",
       "      <th>504</th>\n",
       "      <td>0.10959</td>\n",
       "      <td>0.0</td>\n",
       "      <td>11.93</td>\n",
       "      <td>0</td>\n",
       "      <td>0.573</td>\n",
       "      <td>6.794</td>\n",
       "      <td>89.3</td>\n",
       "      <td>2.3889</td>\n",
       "      <td>1</td>\n",
       "      <td>273.0</td>\n",
       "      <td>21.0</td>\n",
       "      <td>393.45</td>\n",
       "      <td>6.48</td>\n",
       "      <td>22.0</td>\n",
       "    </tr>\n",
       "    <tr>\n",
       "      <th>505</th>\n",
       "      <td>0.04741</td>\n",
       "      <td>0.0</td>\n",
       "      <td>11.93</td>\n",
       "      <td>0</td>\n",
       "      <td>0.573</td>\n",
       "      <td>6.030</td>\n",
       "      <td>80.8</td>\n",
       "      <td>2.5050</td>\n",
       "      <td>1</td>\n",
       "      <td>273.0</td>\n",
       "      <td>21.0</td>\n",
       "      <td>396.90</td>\n",
       "      <td>7.88</td>\n",
       "      <td>11.9</td>\n",
       "    </tr>\n",
       "  </tbody>\n",
       "</table>\n",
       "<p>506 rows × 14 columns</p>\n",
       "</div>"
      ],
      "text/plain": [
       "        CRIM    ZN  INDUS  CHAS    NOX     RM   AGE     DIS  RAD    TAX  \\\n",
       "0    0.00632  18.0   2.31     0  0.538  6.575  65.2  4.0900    1  296.0   \n",
       "1    0.02731   0.0   7.07     0  0.469  6.421  78.9  4.9671    2  242.0   \n",
       "2    0.02729   0.0   7.07     0  0.469  7.185  61.1  4.9671    2  242.0   \n",
       "3    0.03237   0.0   2.18     0  0.458  6.998  45.8  6.0622    3  222.0   \n",
       "4    0.06905   0.0   2.18     0  0.458  7.147  54.2  6.0622    3  222.0   \n",
       "..       ...   ...    ...   ...    ...    ...   ...     ...  ...    ...   \n",
       "501  0.06263   0.0  11.93     0  0.573  6.593  69.1  2.4786    1  273.0   \n",
       "502  0.04527   0.0  11.93     0  0.573  6.120  76.7  2.2875    1  273.0   \n",
       "503  0.06076   0.0  11.93     0  0.573  6.976  91.0  2.1675    1  273.0   \n",
       "504  0.10959   0.0  11.93     0  0.573  6.794  89.3  2.3889    1  273.0   \n",
       "505  0.04741   0.0  11.93     0  0.573  6.030  80.8  2.5050    1  273.0   \n",
       "\n",
       "     PTRATIO       B  LSTAT  MEDV  \n",
       "0       15.3  396.90   4.98  24.0  \n",
       "1       17.8  396.90   9.14  21.6  \n",
       "2       17.8  392.83   4.03  34.7  \n",
       "3       18.7  394.63   2.94  33.4  \n",
       "4       18.7  396.90   5.33  36.2  \n",
       "..       ...     ...    ...   ...  \n",
       "501     21.0  391.99   9.67  22.4  \n",
       "502     21.0  396.90   9.08  20.6  \n",
       "503     21.0  396.90   5.64  23.9  \n",
       "504     21.0  393.45   6.48  22.0  \n",
       "505     21.0  396.90   7.88  11.9  \n",
       "\n",
       "[506 rows x 14 columns]"
      ]
     },
     "execution_count": 7,
     "metadata": {},
     "output_type": "execute_result"
    }
   ],
   "source": [
    "data"
   ]
  },
  {
   "cell_type": "code",
   "execution_count": 8,
   "metadata": {
    "colab": {
     "base_uri": "https://localhost:8080/",
     "height": 279
    },
    "id": "0acBiqpuChuv",
    "outputId": "18de8955-7aae-495e-aaf8-363ec5e32eaa"
   },
   "outputs": [
    {
     "data": {
      "image/png": "[encoded data removed]",
      "text/plain": [
       "<Figure size 640x480 with 1 Axes>"
      ]
     },
     "metadata": {},
     "output_type": "display_data"
    }
   ],
   "source": [
    "# Convert the data into a numpy array\n",
    "X, y = data.iloc[:, :-1].values, data.iloc[:, -1].values\n",
    "\n",
    "# Define a function to perform cross-validation for different data set sizes\n",
    "def cross_validate(X, y, sizes):\n",
    "    kf = KFold(n_splits=5, shuffle=True, random_state=42)\n",
    "    train_scores = []\n",
    "    val_scores = []\n",
    "    for size in sizes:\n",
    "        X_train, X_val, y_train, y_val = train_test_split(X[:size], y[:size], test_size=0.2, random_state=42)\n",
    "        model = LinearRegression()\n",
    "        train_score = 0\n",
    "        val_score = 0\n",
    "        for train_index, val_index in kf.split(X_train):\n",
    "            X_train_kf, X_val_kf = X_train[train_index], X_train[val_index]\n",
    "            y_train_kf, y_val_kf = y_train[train_index], y_train[val_index]\n",
    "            model.fit(X_train_kf, y_train_kf)\n",
    "            train_score += mean_squared_error(y_train_kf, model.predict(X_train_kf))\n",
    "            val_score += mean_squared_error(y_val_kf, model.predict(X_val_kf))\n",
    "        train_scores.append(train_score / 5)\n",
    "        val_scores.append(val_score / 5)\n",
    "    return train_scores, val_scores\n",
    "\n",
    "# Generate different data set sizes\n",
    "sizes = [50, 100, 250, 500, 1000, 1500, 2000, 3000]\n",
    "\n",
    "# Perform cross-validation\n",
    "train_scores, val_scores = cross_validate(X, y, sizes)\n",
    "\n",
    "# Plot the results\n",
    "plt.plot(sizes, train_scores, label='Training error')\n",
    "plt.plot(sizes, val_scores, label='Validation error')\n",
    "plt.xlabel('Data set size')\n",
    "plt.ylabel('Mean Squared Error')\n",
    "plt.legend()\n",
    "plt.show()\n"
   ]
  },
  {
   "cell_type": "markdown",
   "metadata": {
    "id": "rIzchkOiC6cc"
   },
   "source": [
    "In conclusion, cross-validation is a crucial technique in machine learning for evaluating the performance of a model on unseen data. It involves dividing the data into multiple folds and training the model on different subsets of the data while evaluating its performance on the remaining data. This helps to avoid overfitting, as the model is trained and tested on different subsets of the data, and provides a more reliable estimate of its generalization performance.\n",
    "\n",
    "In the example code, we performed cross-validation on different data set sizes using the Boston Housing data from a CSV file. The data was first converted into a numpy array, and then a function was defined to perform cross-validation using 5-fold cross-validation with shuffling. The results were then plotted as a graph, showing the mean squared error for both the training and validation sets for each data set size. This can be useful in choosing the appropriate size of the data set to use for training and evaluating a model."
   ]
  },
  {
   "cell_type": "markdown",
   "metadata": {
    "id": "xjCIN11I1YY3"
   },
   "source": [
    "# Determining data size using \"Learning curve\""
   ]
  },
  {
   "cell_type": "code",
   "execution_count": 9,
   "metadata": {
    "colab": {
     "base_uri": "https://localhost:8080/",
     "height": 295
    },
    "id": "PpPdaycs1YGJ",
    "outputId": "6c5e8cb9-fd93-4a68-87b6-5cd7513d3913"
   },
   "outputs": [
    {
     "data": {
      "image/png": "[encoded data removed]",
      "text/plain": [
       "<Figure size 640x480 with 1 Axes>"
      ]
     },
     "metadata": {},
     "output_type": "display_data"
    }
   ],
   "source": [
    "import numpy as np\n",
    "import matplotlib.pyplot as plt\n",
    "from sklearn.model_selection import learning_curve\n",
    "from sklearn.linear_model import LinearRegression\n",
    "\n",
    "# Generate some example data\n",
    "X = np.random.rand(100, 10)\n",
    "y = np.random.rand(100)\n",
    "\n",
    "# Define the model\n",
    "model = LinearRegression()\n",
    "\n",
    "# Define the sizes of the training set for the learning curve\n",
    "train_sizes = np.linspace(0.1, 1.0, 10)\n",
    "\n",
    "# Compute the learning curve\n",
    "train_sizes, train_scores, test_scores = learning_curve(model, X, y, train_sizes=train_sizes)\n",
    "\n",
    "# Compute the mean and standard deviation of the training and test scores\n",
    "train_mean = np.mean(train_scores, axis=1)\n",
    "train_std = np.std(train_scores, axis=1)\n",
    "test_mean = np.mean(test_scores, axis=1)\n",
    "test_std = np.std(test_scores, axis=1)\n",
    "\n",
    "# Plot the learning curve\n",
    "plt.plot(train_sizes, train_mean, label='Training score')\n",
    "plt.plot(train_sizes, test_mean, label='Cross-validation score')\n",
    "\n",
    "# Plot the standard deviation as a shaded area\n",
    "plt.fill_between(train_sizes, train_mean - train_std, train_mean + train_std, alpha=0.1)\n",
    "plt.fill_between(train_sizes, test_mean - test_std, test_mean + test_std, alpha=0.1)\n",
    "\n",
    "# Add labels and legend\n",
    "plt.xlabel('Training set size')\n",
    "plt.ylabel('Score')\n",
    "plt.title('Learning curve')\n",
    "plt.legend()\n",
    "\n",
    "# Show the plot\n",
    "plt.show()"
   ]
  },
  {
   "cell_type": "markdown",
   "metadata": {
    "id": "MXWTRgwnUHf-"
   },
   "source": [
    "In this example, we first generate some example data consisting of 100 observations with 10 features each. We then define a simple linear regression model, and use the learning_curve function from scikit-learn to compute the learning curve for this model. The train_sizes parameter specifies the sizes of the training sets to use, and we choose to use 10 equally spaced sizes between 10% and 100% of the full dataset size.\n",
    "\n",
    "We then compute the mean and standard deviation of the training and test scores over multiple iterations, and plot the results using Matplotlib. The shaded areas represent the standard deviation of the scores, and the legend indicates which line corresponds to the training score and which corresponds to the cross-validation score.\n",
    "\n",
    "By analyzing the learning curve, we can determine whether the model is suffering from high bias (underfitting) or high variance (overfitting). If the training score is low and the cross-validation score is low, this suggests that the model is underfitting and may require additional features or a more complex model. If the training score is high but the cross-validation score is low, this suggests that the model is overfitting and may require more data to generalize better. Thus, we can use the learning curve to identify the minimum data size required to achieve good model performance."
   ]
  }
 ],
 "metadata": {
  "colab": {
   "provenance": []
  },
  "kernelspec": {
   "display_name": "Python 3 (ipykernel)",
   "language": "python",
   "name": "python3"
  },
  "language_info": {
   "codemirror_mode": {
    "name": "ipython",
    "version": 3
   },
   "file_extension": ".py",
   "mimetype": "text/x-python",
   "name": "python",
   "nbconvert_exporter": "python",
   "pygments_lexer": "ipython3",
   "version": "3.9.13"
  }
 },
 "nbformat": 4,
 "nbformat_minor": 1
}
