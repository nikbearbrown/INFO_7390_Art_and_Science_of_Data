{
 "cells": [
  {
   "cell_type": "markdown",
   "id": "ff244036",
   "metadata": {},
   "source": [
    "# PART 1(\"Understanding Data\" Assignment 1)"
   ]
  },
  {
   "cell_type": "markdown",
   "id": "28667eb9",
   "metadata": {},
   "source": [
    "The food delivery industry relies heavily on precise and timely deliveries to enhance customer satisfaction and overall experiences. This is where the food delivery time prediction model proves invaluable. Its primary goal is to develop accurate predictive models that estimate the time it takes for food orders to reach customers. Leveraging various factors, including delivery person details, order characteristics, weather conditions, road traffic density, and other relevant attributes, these models provide precise delivery time estimates. To ensure the model's reliability, the dataset underwent thorough cleaning, eliminating errors and inconsistencies. Feature engineering extracted valuable insights, incorporating delivery person age, ratings, location coordinates, and time-related variables. The model, built using various regression algorithms and evaluated through metrics like MSE, accuracy, precision, recall, F1-score, and R-squared (R2) score, empowers businesses to optimize operations and enhance the overall delivery experience.\n",
    "\n",
    "The food delivery time prediction model targets the \"Time_taken\" (in minutes) variable, aiming to predict delivery times accurately. Relevant features encompass delivery person age, ratings, restaurant and delivery location coordinates, order date, time of order, time of order pick-up, weather conditions, road traffic density, vehicle condition, type of order, type of delivery vehicle, multiple deliveries in the same trip, whether it occurred during a festival, and the city of delivery. Through meticulous data handling and feature engineering, the model harnesses these attributes to provide precise delivery time estimates. Utilizing regression algorithms like linear regression, Lasso Regression, Ridge Regression, Decision Tree Regression, Random Forest Regression, Support Vector Regression Linear, Support Vector Regression RBF, XGBoost Regression, and AdaBoost Regression, the model was trained on a subset of the dataset with cross-validation techniques to ensure robustness. Its success empowers businesses to optimize their operations and improve the overall delivery experience for their customers."
   ]
  },
  {
   "cell_type": "markdown",
   "id": "2dd0b85b",
   "metadata": {},
   "source": [
    "What is the question being researched?\n",
    "\n",
    "The creation of a food delivery time prediction model is the main topic of inquiry in this Understanding Data part. The subject being investigated is specifically how to precisely predict how long it will take for food orders to arrive at customers in the meal delivery industry. This forecast is based on a number of variables, including delivery person information, order specifics, weather, road traffic density, and other pertinent aspects.\n",
    "\n",
    "Why is it interesting?\n",
    "\n",
    "This study inquiry is intriguing for the following reasons:\n",
    "\n",
    "Customer happiness: To increase customer satisfaction in the food delivery industry, accurate delivery time estimation is essential. Customers that are not satisfied as a result of late deliveries.\n",
    "\n",
    "Operational Optimization: By successfully managing delivery people, rerouting deliveries, and allocating resources, precise delivery time prediction can help organizations manage their operations.\n",
    "\n",
    "Complex Factors: The subject is noteworthy since it calls for taking into account a wide range of variables, such as traffic congestion and weather, which can make the solution both complex and entertaining.\n",
    "\n",
    "What is the theory behind it?\n",
    "\n",
    "Regression analysis in particular is used to implement predictive modeling approaches in the theory underlying this research subject. Regression methods are used to model the relationship between the dependent variable (delivery time in minutes) and the independent variables (such as delivery person details, order attributes, etc.). The objective is to create a model that uses these elements to precisely estimate delivery timings.\n",
    "\n",
    "Code Examples:\n",
    "\n",
    "The provided examples include code snippets for two scenarios:\n",
    "\n",
    "Predicting Multiple Deliveries: A code example demonstrates how to predict whether a delivery will involve multiple stops based on factors like the type of order, type of vehicle, festival, and city. It uses a RandomForest Classifier for this binary classification problem.\n",
    "\n",
    "Analyzing the Correlation between Age and Ratings: Another code example analyzes whether there's a correlation between the age of delivery persons and their ratings. It uses data visualization and correlation analysis to explore this relationship.\n",
    "\n"
   ]
  },
  {
   "cell_type": "code",
   "execution_count": 4,
   "id": "23499146",
   "metadata": {},
   "outputs": [],
   "source": [
    "import pandas as pd\n",
    "\n",
    "data = pd.read_csv('D:\\Data Science & Engineering Methods\\Final Project\\data.csv')"
   ]
  },
  {
   "cell_type": "code",
   "execution_count": 5,
   "id": "4eebe3c3",
   "metadata": {},
   "outputs": [
    {
     "data": {
      "text/html": [
       "<div>\n",
       "<style scoped>\n",
       "    .dataframe tbody tr th:only-of-type {\n",
       "        vertical-align: middle;\n",
       "    }\n",
       "\n",
       "    .dataframe tbody tr th {\n",
       "        vertical-align: top;\n",
       "    }\n",
       "\n",
       "    .dataframe thead th {\n",
       "        text-align: right;\n",
       "    }\n",
       "</style>\n",
       "<table border=\"1\" class=\"dataframe\">\n",
       "  <thead>\n",
       "    <tr style=\"text-align: right;\">\n",
       "      <th></th>\n",
       "      <th>ID</th>\n",
       "      <th>Delivery_person_ID</th>\n",
       "      <th>Delivery_person_Age</th>\n",
       "      <th>Delivery_person_Ratings</th>\n",
       "      <th>Restaurant_latitude</th>\n",
       "      <th>Restaurant_longitude</th>\n",
       "      <th>Delivery_location_latitude</th>\n",
       "      <th>Delivery_location_longitude</th>\n",
       "      <th>Order_Date</th>\n",
       "      <th>Time_Orderd</th>\n",
       "      <th>Time_Order_picked</th>\n",
       "      <th>Weatherconditions</th>\n",
       "      <th>Road_traffic_density</th>\n",
       "      <th>Vehicle_condition</th>\n",
       "      <th>Type_of_order</th>\n",
       "      <th>Type_of_vehicle</th>\n",
       "      <th>multiple_deliveries</th>\n",
       "      <th>Festival</th>\n",
       "      <th>City</th>\n",
       "      <th>Time_taken(min)</th>\n",
       "    </tr>\n",
       "  </thead>\n",
       "  <tbody>\n",
       "    <tr>\n",
       "      <th>0</th>\n",
       "      <td>0x4607</td>\n",
       "      <td>INDORES13DEL02</td>\n",
       "      <td>37</td>\n",
       "      <td>4.9</td>\n",
       "      <td>22.745049</td>\n",
       "      <td>75.892471</td>\n",
       "      <td>22.765049</td>\n",
       "      <td>75.912471</td>\n",
       "      <td>19-03-2022</td>\n",
       "      <td>11:30:00</td>\n",
       "      <td>11:45:00</td>\n",
       "      <td>conditions Sunny</td>\n",
       "      <td>High</td>\n",
       "      <td>2</td>\n",
       "      <td>Snack</td>\n",
       "      <td>motorcycle</td>\n",
       "      <td>0</td>\n",
       "      <td>No</td>\n",
       "      <td>Urban</td>\n",
       "      <td>(min) 24</td>\n",
       "    </tr>\n",
       "    <tr>\n",
       "      <th>1</th>\n",
       "      <td>0xb379</td>\n",
       "      <td>BANGRES18DEL02</td>\n",
       "      <td>34</td>\n",
       "      <td>4.5</td>\n",
       "      <td>12.913041</td>\n",
       "      <td>77.683237</td>\n",
       "      <td>13.043041</td>\n",
       "      <td>77.813237</td>\n",
       "      <td>25-03-2022</td>\n",
       "      <td>19:45:00</td>\n",
       "      <td>19:50:00</td>\n",
       "      <td>conditions Stormy</td>\n",
       "      <td>Jam</td>\n",
       "      <td>2</td>\n",
       "      <td>Snack</td>\n",
       "      <td>scooter</td>\n",
       "      <td>1</td>\n",
       "      <td>No</td>\n",
       "      <td>Metropolitian</td>\n",
       "      <td>(min) 33</td>\n",
       "    </tr>\n",
       "    <tr>\n",
       "      <th>2</th>\n",
       "      <td>0x5d6d</td>\n",
       "      <td>BANGRES19DEL01</td>\n",
       "      <td>23</td>\n",
       "      <td>4.4</td>\n",
       "      <td>12.914264</td>\n",
       "      <td>77.678400</td>\n",
       "      <td>12.924264</td>\n",
       "      <td>77.688400</td>\n",
       "      <td>19-03-2022</td>\n",
       "      <td>08:30:00</td>\n",
       "      <td>08:45:00</td>\n",
       "      <td>conditions Sandstorms</td>\n",
       "      <td>Low</td>\n",
       "      <td>0</td>\n",
       "      <td>Drinks</td>\n",
       "      <td>motorcycle</td>\n",
       "      <td>1</td>\n",
       "      <td>No</td>\n",
       "      <td>Urban</td>\n",
       "      <td>(min) 26</td>\n",
       "    </tr>\n",
       "    <tr>\n",
       "      <th>3</th>\n",
       "      <td>0x7a6a</td>\n",
       "      <td>COIMBRES13DEL02</td>\n",
       "      <td>38</td>\n",
       "      <td>4.7</td>\n",
       "      <td>11.003669</td>\n",
       "      <td>76.976494</td>\n",
       "      <td>11.053669</td>\n",
       "      <td>77.026494</td>\n",
       "      <td>05-04-2022</td>\n",
       "      <td>18:00:00</td>\n",
       "      <td>18:10:00</td>\n",
       "      <td>conditions Sunny</td>\n",
       "      <td>Medium</td>\n",
       "      <td>0</td>\n",
       "      <td>Buffet</td>\n",
       "      <td>motorcycle</td>\n",
       "      <td>1</td>\n",
       "      <td>No</td>\n",
       "      <td>Metropolitian</td>\n",
       "      <td>(min) 21</td>\n",
       "    </tr>\n",
       "    <tr>\n",
       "      <th>4</th>\n",
       "      <td>0x70a2</td>\n",
       "      <td>CHENRES12DEL01</td>\n",
       "      <td>32</td>\n",
       "      <td>4.6</td>\n",
       "      <td>12.972793</td>\n",
       "      <td>80.249982</td>\n",
       "      <td>13.012793</td>\n",
       "      <td>80.289982</td>\n",
       "      <td>26-03-2022</td>\n",
       "      <td>13:30:00</td>\n",
       "      <td>13:45:00</td>\n",
       "      <td>conditions Cloudy</td>\n",
       "      <td>High</td>\n",
       "      <td>1</td>\n",
       "      <td>Snack</td>\n",
       "      <td>scooter</td>\n",
       "      <td>1</td>\n",
       "      <td>No</td>\n",
       "      <td>Metropolitian</td>\n",
       "      <td>(min) 30</td>\n",
       "    </tr>\n",
       "  </tbody>\n",
       "</table>\n",
       "</div>"
      ],
      "text/plain": [
       "        ID Delivery_person_ID Delivery_person_Age Delivery_person_Ratings  \\\n",
       "0  0x4607     INDORES13DEL02                   37                     4.9   \n",
       "1  0xb379     BANGRES18DEL02                   34                     4.5   \n",
       "2  0x5d6d     BANGRES19DEL01                   23                     4.4   \n",
       "3  0x7a6a    COIMBRES13DEL02                   38                     4.7   \n",
       "4  0x70a2     CHENRES12DEL01                   32                     4.6   \n",
       "\n",
       "   Restaurant_latitude  Restaurant_longitude  Delivery_location_latitude  \\\n",
       "0            22.745049             75.892471                   22.765049   \n",
       "1            12.913041             77.683237                   13.043041   \n",
       "2            12.914264             77.678400                   12.924264   \n",
       "3            11.003669             76.976494                   11.053669   \n",
       "4            12.972793             80.249982                   13.012793   \n",
       "\n",
       "   Delivery_location_longitude  Order_Date Time_Orderd Time_Order_picked  \\\n",
       "0                    75.912471  19-03-2022    11:30:00          11:45:00   \n",
       "1                    77.813237  25-03-2022    19:45:00          19:50:00   \n",
       "2                    77.688400  19-03-2022    08:30:00          08:45:00   \n",
       "3                    77.026494  05-04-2022    18:00:00          18:10:00   \n",
       "4                    80.289982  26-03-2022    13:30:00          13:45:00   \n",
       "\n",
       "       Weatherconditions Road_traffic_density  Vehicle_condition  \\\n",
       "0       conditions Sunny                High                   2   \n",
       "1      conditions Stormy                 Jam                   2   \n",
       "2  conditions Sandstorms                 Low                   0   \n",
       "3       conditions Sunny              Medium                   0   \n",
       "4      conditions Cloudy                High                   1   \n",
       "\n",
       "  Type_of_order Type_of_vehicle multiple_deliveries Festival            City  \\\n",
       "0        Snack      motorcycle                    0      No           Urban    \n",
       "1        Snack         scooter                    1      No   Metropolitian    \n",
       "2       Drinks      motorcycle                    1      No           Urban    \n",
       "3       Buffet      motorcycle                    1      No   Metropolitian    \n",
       "4        Snack         scooter                    1      No   Metropolitian    \n",
       "\n",
       "  Time_taken(min)  \n",
       "0        (min) 24  \n",
       "1        (min) 33  \n",
       "2        (min) 26  \n",
       "3        (min) 21  \n",
       "4        (min) 30  "
      ]
     },
     "execution_count": 5,
     "metadata": {},
     "output_type": "execute_result"
    }
   ],
   "source": [
    "data.head()"
   ]
  },
  {
   "cell_type": "markdown",
   "id": "09897c1d",
   "metadata": {},
   "source": [
    "The collection, which includes several attributes including the delivery person's ID, age, ratings, and more, appears to pertain to information about food deliveries. There are further columns for the restaurant and delivery locations (latitude and longitude), order information, traffic density, weather, vehicle condition, order type, and vehicle type. There are also columns for multiple deliveries, festivals, cities, and the delivery time."
   ]
  },
  {
   "cell_type": "markdown",
   "id": "197a83c7",
   "metadata": {},
   "source": [
    "# Theoretical Foundations"
   ]
  },
  {
   "cell_type": "markdown",
   "id": "dbed318e",
   "metadata": {},
   "source": [
    "# Basics of algorithms and problem design:"
   ]
  },
  {
   "cell_type": "markdown",
   "id": "43847365",
   "metadata": {},
   "source": [
    "Algorithms are formulas or step-by-step processes used to solve issues. Algorithms are used in data science to process data and produce insightful results. In data science, problem design is the process of posing a query or problem that a model or algorithm can answer using the data at hand."
   ]
  },
  {
   "cell_type": "markdown",
   "id": "f6d73947",
   "metadata": {},
   "source": [
    "# Relevance of custom problem creation in teaching and assessing knowledge: "
   ]
  },
  {
   "cell_type": "markdown",
   "id": "0c665a3a",
   "metadata": {},
   "source": [
    "Students or professionals can use theoretical knowledge in practical contexts by solving custom challenges that are suited to certain datasets or real-world scenarios. By resolving these issues, one may gauge their conceptual understanding and their capacity to apply answers in various contexts."
   ]
  },
  {
   "cell_type": "markdown",
   "id": "0c3da5d0",
   "metadata": {},
   "source": [
    "# Leveraging tools like ChatGPT in this process:"
   ]
  },
  {
   "cell_type": "markdown",
   "id": "37ea39e6",
   "metadata": {},
   "source": [
    "ChatGPT can serve as a guide to offer insights, confirm comprehension, and inspire fresh concepts. It can be applied to cross-check reasoning, validate solutions, and come up with potential problem scenarios. In addition, it can help clarify difficult ideas in straightforward language."
   ]
  },
  {
   "cell_type": "markdown",
   "id": "4180c84d",
   "metadata": {},
   "source": [
    "#  Introduction to the Worked Example Problem"
   ]
  },
  {
   "cell_type": "markdown",
   "id": "5b0e8337",
   "metadata": {},
   "source": [
    "Worked Example Problem :\n",
    "    \n",
    "Predict the time taken for delivery based on factors like weather conditions, road traffic density, and vehicle condition. Understanding these factors can help optimize delivery processes and improve customer satisfaction."
   ]
  },
  {
   "cell_type": "markdown",
   "id": "d26e4f2b",
   "metadata": {},
   "source": [
    "# Analyzing the Worked Example Problem"
   ]
  },
  {
   "cell_type": "markdown",
   "id": "233a1389",
   "metadata": {},
   "source": [
    "Constraints:\n",
    "\n",
    "Weather conditions: Sunny, Stormy, Sandstorms, Cloudy, etc.\n",
    "Road traffic density: High, Medium, Low, Jam.\n",
    "Vehicle condition: On a scale from 0 to 2 (0 being poor, 2 being excellent).\n",
    "\n",
    "Logic:\n",
    "\n",
    "Weather conditions can impact delivery times, e.g., Stormy weather might slow down delivery.\n",
    "Road traffic density can be a significant factor; high traffic or jams can increase delivery times.\n",
    "Vehicle condition can also influence delivery speed. A vehicle in poor condition might not be as efficient.\n",
    "\n",
    "Algorithmic Concepts: This problem touches on predictive modeling, feature importance, and regression analysis."
   ]
  },
  {
   "cell_type": "markdown",
   "id": "26b52881",
   "metadata": {},
   "source": [
    "# Engaging with ChatGPT for Deeper Understanding"
   ]
  },
  {
   "cell_type": "markdown",
   "id": "1b2552fe",
   "metadata": {},
   "source": [
    "Query ChatGPT about the problem to understand its intricacies: \n",
    "    \n",
    "For example, you could ask:\n",
    "\n",
    "1.\"ChatGPT, can you explain the significance of the 'Type_of_order' feature in our problem?\"\n",
    "2.\"What are some factors that might influence 'Delivery_person_Ratings' based on the dataset?\"\n",
    "\n",
    "Ideate around potential problem scenarios with ChatGPT:\n",
    "    \n",
    "For instance:\n",
    "\n",
    "1.\"ChatGPT, how might we modify the problem to consider the impact of festivals on delivery times?\"\n",
    "2.\"Can you suggest some additional features that we could include in our problem to make it more comprehensive?\"\n",
    "\n",
    "Cross-check and validate your understanding and potential problem ideas:\n",
    "    \n",
    "Example questions:\n",
    "\n",
    "1.\"ChatGPT, does it make sense to consider 'Vehicle_condition' as a significant factor in delivery times?\"\n",
    "2.\"Am I correct in assuming that 'Festival' could impact multiple deliveries?\"\n",
    "\n",
    "The goal of this step is to leverage ChatGPT's capabilities as a conversational AI to enhance your understanding of the problem and explore different angles or perspectives. It can be particularly helpful in situations where the problem is complex, and you need assistance in breaking it down or generating new ideas."
   ]
  },
  {
   "cell_type": "markdown",
   "id": "aaed222a",
   "metadata": {},
   "source": [
    "# Crafting Your New Problem"
   ]
  },
  {
   "cell_type": "markdown",
   "id": "ebe7eb36",
   "metadata": {},
   "source": [
    "Problem Statement:\n",
    "Predict whether a delivery will involve multiple stops based on factors like the type of order, type of vehicle, festival, and city. This prediction can help in resource allocation, especially in deciding which type of vehicle or delivery person is best suited for a particular order.\n",
    "\n",
    "Input Format:\n",
    "\n",
    "Type of order: e.g., Snack, Drinks, Buffet\n",
    "Type of vehicle: e.g., Motorcycle, Scooter\n",
    "Festival: Yes/No\n",
    "City: e.g., Urban, Metropolitan\n",
    "\n",
    "Output Format:\n",
    "\n",
    "Multiple Deliveries: 0 (No) / 1 (Yes)\n",
    "\n",
    "Sample Inputs and Outputs:\n",
    "\n",
    "Input: Snack, Motorcycle, No, Urban\n",
    "Output: 0\n",
    "\n",
    "Input: Buffet, Scooter, Yes, Metropolitan\n",
    "Output: 1\n",
    "\n",
    "Constraints:\n",
    "\n",
    "Type of order: {Snack, Drinks, Buffet}\n",
    "Type of vehicle: {Motorcycle, Scooter}\n",
    "Festival: {Yes, No}\n",
    "City: {Urban, Metropolitan}"
   ]
  },
  {
   "cell_type": "markdown",
   "id": "d075ef7b",
   "metadata": {},
   "source": [
    "# Solution and Justification"
   ]
  },
  {
   "cell_type": "markdown",
   "id": "8ef2cc46",
   "metadata": {},
   "source": [
    "Solution Explanation:\n",
    "\n",
    "We can approach this as a binary classification issue. The objective is to forecast if there will be many deliveries or not given the features (kind of order, type of vehicle, festival, and city). For this prediction problem, one could employ algorithms like logistic regression, decision trees, or random forests.\n",
    "\n",
    "Proof of Correctness:\n",
    "\n",
    "The correctness of the solution can be gauged by splitting the dataset into training and test sets. We can then train our model on the training set and evaluate its performance on the test set using metrics like accuracy, precision, recall, and the F1-score."
   ]
  },
  {
   "cell_type": "markdown",
   "id": "9e4f887f",
   "metadata": {},
   "source": [
    "# Incorporating Coding Examples"
   ]
  },
  {
   "cell_type": "markdown",
   "id": "d3714d73",
   "metadata": {},
   "source": [
    "#### Worked Example 1 : To predict whether a delivery will involve multiple stops based on the mentioned factors."
   ]
  },
  {
   "cell_type": "code",
   "execution_count": 7,
   "id": "5a22d592",
   "metadata": {},
   "outputs": [
    {
     "data": {
      "text/plain": [
       "(1.0,\n",
       " '              precision    recall  f1-score   support\\n\\n           0       1.00      1.00      1.00      9417\\n           1       1.00      1.00      1.00      4261\\n\\n    accuracy                           1.00     13678\\n   macro avg       1.00      1.00      1.00     13678\\nweighted avg       1.00      1.00      1.00     13678\\n')"
      ]
     },
     "execution_count": 7,
     "metadata": {},
     "output_type": "execute_result"
    }
   ],
   "source": [
    "from sklearn.model_selection import train_test_split\n",
    "from sklearn.ensemble import RandomForestClassifier\n",
    "from sklearn.metrics import accuracy_score, classification_report\n",
    "\n",
    "# Preparing the data\n",
    "data = data.dropna()  # Drop rows with missing values\n",
    "\n",
    "# Convert categorical columns to numeric using one-hot encoding\n",
    "data_encoded = pd.get_dummies(data[['Type_of_order', 'Type_of_vehicle', 'Festival', 'City', 'multiple_deliveries']])\n",
    "\n",
    "X = data_encoded.drop('multiple_deliveries_0', axis=1)  # Features\n",
    "y = data_encoded['multiple_deliveries_0']  # Target variable\n",
    "\n",
    "# Split the data into training and test sets (70% training, 30% testing)\n",
    "X_train, X_test, y_train, y_test = train_test_split(X, y, test_size=0.3, random_state=42)\n",
    "\n",
    "# Train a RandomForest Classifier\n",
    "clf = RandomForestClassifier(n_estimators=100, random_state=42)\n",
    "clf.fit(X_train, y_train)\n",
    "\n",
    "# Predict on the test set\n",
    "y_pred = clf.predict(X_test)\n",
    "\n",
    "# Evaluate the model\n",
    "accuracy = accuracy_score(y_test, y_pred)\n",
    "classification_rep = classification_report(y_test, y_pred)\n",
    "\n",
    "accuracy, classification_rep\n"
   ]
  },
  {
   "cell_type": "markdown",
   "id": "d47652a8",
   "metadata": {},
   "source": [
    "Surprisingly, the Random Forest classifier has a 100% accuracy rate on the test set. Several factors could be at blame for this:\n",
    "\n",
    "1. The dataset might be simple to categorize because there are distinct differences between classes.\n",
    "   Data leakage or overfitting problems could exist.\n",
    "2. The strong performance is further supported by the classification report, which shows 100% precision and recall for both classes.\n",
    "\n",
    "Such results must be interpreted cautiously. Perfect findings are uncommon in practice, especially with regard to unobserved data. When seeing such results, one should look for data leaking, overfitting, or other anomalies.\n"
   ]
  },
  {
   "cell_type": "markdown",
   "id": "a95b70c9",
   "metadata": {},
   "source": [
    "#### Worked Example 2 : To analyze if there's a correlation between the age of delivery persons and their ratings. "
   ]
  },
  {
   "cell_type": "markdown",
   "id": "ea6a9f88",
   "metadata": {},
   "source": [
    "Understanding the relationship between a delivery person's age and ratings can provide insights into the quality of service and customer satisfaction. If a correlation exists, it might be useful for training and recruitment purposes.\n",
    "\n",
    "Constraints:\n",
    "\n",
    "Age: Numeric (as provided in the dataset)\n",
    "Ratings: Numeric (from 1 to 5)\n",
    "\n",
    "Logic:\n",
    "\n",
    "A positive correlation would indicate that as the age increases, the ratings also increase.\n",
    "A negative correlation would indicate the opposite.\n",
    "No correlation means age doesn't significantly impact ratings.\n",
    "\n",
    "Algorithmic Concepts: \n",
    "\n",
    "This problem addresses data visualization, correlation analysis, and inferential statistics."
   ]
  },
  {
   "cell_type": "code",
   "execution_count": 8,
   "id": "92444a2d",
   "metadata": {},
   "outputs": [
    {
     "data": {
      "image/png": "[encoded data removed]",
      "text/plain": [
       "<Figure size 1000x600 with 1 Axes>"
      ]
     },
     "metadata": {},
     "output_type": "display_data"
    },
    {
     "data": {
      "text/plain": [
       "-0.06793907115674863"
      ]
     },
     "execution_count": 8,
     "metadata": {},
     "output_type": "execute_result"
    }
   ],
   "source": [
    "import matplotlib.pyplot as plt\n",
    "import seaborn as sns\n",
    "\n",
    "# Convert the age and ratings columns to numeric\n",
    "data['Delivery_person_Age'] = pd.to_numeric(data['Delivery_person_Age'], errors='coerce')\n",
    "data['Delivery_person_Ratings'] = pd.to_numeric(data['Delivery_person_Ratings'], errors='coerce')\n",
    "\n",
    "# Drop rows with NaN values after conversion\n",
    "data_cleaned = data.dropna(subset=['Delivery_person_Age', 'Delivery_person_Ratings'])\n",
    "\n",
    "# Plotting\n",
    "plt.figure(figsize=(10, 6))\n",
    "sns.scatterplot(data=data_cleaned, x='Delivery_person_Age', y='Delivery_person_Ratings', alpha=0.5)\n",
    "plt.title('Scatterplot of Delivery Person Age vs. Ratings')\n",
    "plt.show()\n",
    "\n",
    "# Calculate the correlation coefficient\n",
    "correlation_coefficient = data_cleaned['Delivery_person_Age'].corr(data_cleaned['Delivery_person_Ratings'])\n",
    "correlation_coefficient"
   ]
  },
  {
   "cell_type": "markdown",
   "id": "afcd7188",
   "metadata": {},
   "source": [
    "The scatterplot shows that the age of delivery people and their evaluations don't have a clear linear relationship. The data points are spread out widely.\n",
    "\n",
    "The correlation coefficient is almost equal to 0.0680. Since the value is so near to zero, there may only be a very slight inverse relationship between age and ratings. This essentially indicates that age has little bearing on how well delivery people are rated."
   ]
  },
  {
   "cell_type": "markdown",
   "id": "27e8cf57",
   "metadata": {},
   "source": [
    "# Part 2 (\"Understanding Data\" Assignment 1 Worked Examples)"
   ]
  },
  {
   "cell_type": "markdown",
   "id": "ea84a6d5",
   "metadata": {},
   "source": [
    "#### Worked Example on Titanic dataset"
   ]
  },
  {
   "cell_type": "markdown",
   "id": "18ef5b73",
   "metadata": {},
   "source": [
    "To predict the survival of a passenger based on features like class, gender, age, and fare."
   ]
  },
  {
   "cell_type": "code",
   "execution_count": 9,
   "id": "5ca0208a",
   "metadata": {},
   "outputs": [],
   "source": [
    "import pandas as pd\n",
    "\n",
    "# Read the Titanic dataset\n",
    "titanic_data = pd.read_csv('D:\\Titanic.csv')"
   ]
  },
  {
   "cell_type": "code",
   "execution_count": 10,
   "id": "087a5dba",
   "metadata": {},
   "outputs": [
    {
     "data": {
      "text/html": [
       "<div>\n",
       "<style scoped>\n",
       "    .dataframe tbody tr th:only-of-type {\n",
       "        vertical-align: middle;\n",
       "    }\n",
       "\n",
       "    .dataframe tbody tr th {\n",
       "        vertical-align: top;\n",
       "    }\n",
       "\n",
       "    .dataframe thead th {\n",
       "        text-align: right;\n",
       "    }\n",
       "</style>\n",
       "<table border=\"1\" class=\"dataframe\">\n",
       "  <thead>\n",
       "    <tr style=\"text-align: right;\">\n",
       "      <th></th>\n",
       "      <th>PassengerId</th>\n",
       "      <th>Survived</th>\n",
       "      <th>Pclass</th>\n",
       "      <th>Name</th>\n",
       "      <th>Sex</th>\n",
       "      <th>Age</th>\n",
       "      <th>SibSp</th>\n",
       "      <th>Parch</th>\n",
       "      <th>Ticket</th>\n",
       "      <th>Fare</th>\n",
       "      <th>Cabin</th>\n",
       "      <th>Embarked</th>\n",
       "    </tr>\n",
       "  </thead>\n",
       "  <tbody>\n",
       "    <tr>\n",
       "      <th>0</th>\n",
       "      <td>1</td>\n",
       "      <td>0</td>\n",
       "      <td>3</td>\n",
       "      <td>Braund, Mr. Owen Harris</td>\n",
       "      <td>male</td>\n",
       "      <td>22.0</td>\n",
       "      <td>1</td>\n",
       "      <td>0</td>\n",
       "      <td>A/5 21171</td>\n",
       "      <td>7.2500</td>\n",
       "      <td>NaN</td>\n",
       "      <td>S</td>\n",
       "    </tr>\n",
       "    <tr>\n",
       "      <th>1</th>\n",
       "      <td>2</td>\n",
       "      <td>1</td>\n",
       "      <td>1</td>\n",
       "      <td>Cumings, Mrs. John Bradley (Florence Briggs Th...</td>\n",
       "      <td>female</td>\n",
       "      <td>38.0</td>\n",
       "      <td>1</td>\n",
       "      <td>0</td>\n",
       "      <td>PC 17599</td>\n",
       "      <td>71.2833</td>\n",
       "      <td>C85</td>\n",
       "      <td>C</td>\n",
       "    </tr>\n",
       "    <tr>\n",
       "      <th>2</th>\n",
       "      <td>3</td>\n",
       "      <td>1</td>\n",
       "      <td>3</td>\n",
       "      <td>Heikkinen, Miss. Laina</td>\n",
       "      <td>female</td>\n",
       "      <td>26.0</td>\n",
       "      <td>0</td>\n",
       "      <td>0</td>\n",
       "      <td>STON/O2. 3101282</td>\n",
       "      <td>7.9250</td>\n",
       "      <td>NaN</td>\n",
       "      <td>S</td>\n",
       "    </tr>\n",
       "    <tr>\n",
       "      <th>3</th>\n",
       "      <td>4</td>\n",
       "      <td>1</td>\n",
       "      <td>1</td>\n",
       "      <td>Futrelle, Mrs. Jacques Heath (Lily May Peel)</td>\n",
       "      <td>female</td>\n",
       "      <td>35.0</td>\n",
       "      <td>1</td>\n",
       "      <td>0</td>\n",
       "      <td>113803</td>\n",
       "      <td>53.1000</td>\n",
       "      <td>C123</td>\n",
       "      <td>S</td>\n",
       "    </tr>\n",
       "    <tr>\n",
       "      <th>4</th>\n",
       "      <td>5</td>\n",
       "      <td>0</td>\n",
       "      <td>3</td>\n",
       "      <td>Allen, Mr. William Henry</td>\n",
       "      <td>male</td>\n",
       "      <td>35.0</td>\n",
       "      <td>0</td>\n",
       "      <td>0</td>\n",
       "      <td>373450</td>\n",
       "      <td>8.0500</td>\n",
       "      <td>NaN</td>\n",
       "      <td>S</td>\n",
       "    </tr>\n",
       "  </tbody>\n",
       "</table>\n",
       "</div>"
      ],
      "text/plain": [
       "   PassengerId  Survived  Pclass  \\\n",
       "0            1         0       3   \n",
       "1            2         1       1   \n",
       "2            3         1       3   \n",
       "3            4         1       1   \n",
       "4            5         0       3   \n",
       "\n",
       "                                                Name     Sex   Age  SibSp  \\\n",
       "0                            Braund, Mr. Owen Harris    male  22.0      1   \n",
       "1  Cumings, Mrs. John Bradley (Florence Briggs Th...  female  38.0      1   \n",
       "2                             Heikkinen, Miss. Laina  female  26.0      0   \n",
       "3       Futrelle, Mrs. Jacques Heath (Lily May Peel)  female  35.0      1   \n",
       "4                           Allen, Mr. William Henry    male  35.0      0   \n",
       "\n",
       "   Parch            Ticket     Fare Cabin Embarked  \n",
       "0      0         A/5 21171   7.2500   NaN        S  \n",
       "1      0          PC 17599  71.2833   C85        C  \n",
       "2      0  STON/O2. 3101282   7.9250   NaN        S  \n",
       "3      0            113803  53.1000  C123        S  \n",
       "4      0            373450   8.0500   NaN        S  "
      ]
     },
     "execution_count": 10,
     "metadata": {},
     "output_type": "execute_result"
    }
   ],
   "source": [
    "# Display the first few rows of the dataset\n",
    "titanic_data.head()"
   ]
  },
  {
   "cell_type": "code",
   "execution_count": 11,
   "id": "a0e97e42",
   "metadata": {},
   "outputs": [
    {
     "data": {
      "text/plain": [
       "(0.7985074626865671,\n",
       " '              precision    recall  f1-score   support\\n\\n           0       0.80      0.87      0.83       157\\n           1       0.79      0.70      0.74       111\\n\\n    accuracy                           0.80       268\\n   macro avg       0.80      0.78      0.79       268\\nweighted avg       0.80      0.80      0.80       268\\n')"
      ]
     },
     "execution_count": 11,
     "metadata": {},
     "output_type": "execute_result"
    }
   ],
   "source": [
    "from sklearn.model_selection import train_test_split\n",
    "from sklearn.ensemble import RandomForestClassifier\n",
    "from sklearn.preprocessing import StandardScaler\n",
    "from sklearn.metrics import accuracy_score, classification_report\n",
    "\n",
    "# Handle missing values: Fill missing age with median age\n",
    "titanic_data['Age'].fillna(titanic_data['Age'].median(), inplace=True)\n",
    "\n",
    "# Convert 'Sex' to numerical (male: 0, female: 1)\n",
    "titanic_data['Sex'] = titanic_data['Sex'].map({'male': 0, 'female': 1})\n",
    "\n",
    "# Features and target variable\n",
    "X = titanic_data[['Pclass', 'Sex', 'Age', 'Fare']]\n",
    "y = titanic_data['Survived']\n",
    "\n",
    "# Normalize the features\n",
    "scaler = StandardScaler()\n",
    "X = scaler.fit_transform(X)\n",
    "\n",
    "# Split data into training and test sets\n",
    "X_train, X_test, y_train, y_test = train_test_split(X, y, test_size=0.3, random_state=42)\n",
    "\n",
    "# Train a Random Forest Classifier\n",
    "clf = RandomForestClassifier(n_estimators=100, random_state=42)\n",
    "clf.fit(X_train, y_train)\n",
    "\n",
    "# Predict on the test set\n",
    "y_pred = clf.predict(X_test)\n",
    "\n",
    "# Evaluate the model\n",
    "accuracy = accuracy_score(y_test, y_pred)\n",
    "classification_rep = classification_report(y_test, y_pred)\n",
    "\n",
    "accuracy, classification_rep"
   ]
  },
  {
   "cell_type": "markdown",
   "id": "880a502f",
   "metadata": {},
   "source": [
    "On the test set, the Random Forest classifier had an accuracy of about 79.85%. This shows that the model is capable of predicting, depending on class, gender, age, and fare, whether a passenger on the Titanic will survive.\n",
    "\n",
    "Additional information is provided in the classification report:\n",
    "\n",
    "The model has an accuracy of 80% and a recall of 87% for passengers who did not survive (label 0).\n",
    "For travelers who made it out alive (label 1): The model has a 79% precision and a 70% recall.\n",
    "Recall represents the percentage of genuine positives that were accurately identified, whereas precision shows the percentage of positive identifications that were actually accurate."
   ]
  }
 ],
 "metadata": {
  "kernelspec": {
   "display_name": "Python 3 (ipykernel)",
   "language": "python",
   "name": "python3"
  },
  "language_info": {
   "codemirror_mode": {
    "name": "ipython",
    "version": 3
   },
   "file_extension": ".py",
   "mimetype": "text/x-python",
   "name": "python",
   "nbconvert_exporter": "python",
   "pygments_lexer": "ipython3",
   "version": "3.10.9"
  }
 },
 "nbformat": 4,
 "nbformat_minor": 5
}
