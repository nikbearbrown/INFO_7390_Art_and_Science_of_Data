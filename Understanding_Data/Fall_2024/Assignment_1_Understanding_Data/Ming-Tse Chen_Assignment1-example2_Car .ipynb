{
 "cells": [
  {
   "cell_type": "markdown",
   "id": "85addc0f-5a6a-4d78-b233-e50847863cce",
   "metadata": {},
   "source": [
    "# Comprehensive Guide to Exploratory Data Analysis (EDA)"
   ]
  },
  {
   "cell_type": "markdown",
   "id": "6a2cf1c1-1692-4578-ab97-3d3b5e933621",
   "metadata": {},
   "source": [
    "\n",
    "# Understanding the Importance of EDA\n",
    "\n",
    "Exploratory Data Analysis (**EDA**) is a crucial step in working with data. It helps us **discover patterns, detect unusual values (outliers), and understand relationships** between different variables. Instead of immediately jumping into complex models, EDA allows us to explore the data first, making sure we understand its structure before making decisions.\n",
    "\n",
    "By using **EDA techniques** such as **visualizations, statistics, and data transformations**, analysts can uncover **hidden insights** that are not immediately visible. These insights **guide further research** and help in forming better questions and hypotheses.\n",
    "\n",
    "  <div style=\"text-align:center\">\n",
    "    <img src=\"https://cdn.educba.com/academy/wp-content/uploads/2020/01/exploratory-data-analysis.jpg\" alt=\"Image Alt Text\" width=\"900\"/>\n",
    "</div>\n",
    "\n",
    "\n",
    "# Why is EDA Important?\n",
    "📌 **Find Relationships Between Variables**\n",
    "EDA helps us see how different data points are connected. For example, in an **insurance dataset**, we might find that **smokers tend to have higher insurance claims** compared to non-smokers.\n",
    "\n",
    "📌 **Detect Trends Over Time**\n",
    "If we are analyzing sales data, EDA can show us **seasonal trends**, such as higher sales during holidays or weekends.\n",
    "\n",
    "📌 **Identify Outliers (Unusual Data Points)**\n",
    "EDA helps us **spot errors or rare events** in the data. For example, if an insurance claim is **10 times higher** than normal, it might be due to a mistake or a special case that needs further investigation.\n",
    "\n",
    "📌 **Ensure Data Quality**\n",
    "EDA helps us check if the data is **complete, accurate, and reliable**. If some values are missing or incorrect, we can fix them before using the data for deeper analysis.\n",
    "\n",
    "📌 **Support Better Decision-Making**\n",
    "By **visualizing data** with charts and graphs, decision-makers can understand the information more easily and make **data-driven choices** instead of relying on guesses.\n",
    "\n",
    "## How is EDA Performed?\n",
    "\n",
    "EDA involves a few **fundamental steps**, as shown in the image below:\n",
    "\n",
    "  <div style=\"text-align:center\">\n",
    "    <img src=\"https://dataexpertise.in/wp-content/uploads/2023/10/EDA-Process-768x408.jpg\" alt=\"Image Alt Text\" width=\"900\"/>\n",
    "</div>\n",
    "\n",
    "1️⃣ **Data Collection**: Gather the dataset from reliable sources.\n",
    "\n",
    "2️⃣ **Data Cleaning**: Remove errors, missing values, or duplicate records.\n",
    "\n",
    "3️⃣ **Data Visualization**: Use charts, graphs, and tables to understand trends.\n",
    "\n",
    "4️⃣ **Statistical Analysis**: Summarize key numbers (such as averages, minimums, and maximums).\n",
    "\n",
    "5️⃣ **Finding Outliers & Patterns**: Look for unusual values or unexpected trends.\n",
    "\n",
    "6️⃣ **Drawing Insights**: Use the findings to make better decisions or prepare for further analysis."
   ]
  },
  {
   "cell_type": "markdown",
   "id": "454384da-a302-4c6c-b106-8d05de4f14ca",
   "metadata": {},
   "source": [
    "# Why is Exploratory Data Analysis (EDA) Interesting?\n",
    "\n",
    "Exploratory Data Analysis (**EDA**) is more than just working with numbers; it's about **uncovering the story behind the data**. Think of it as a detective investigating a case or an archaeologist discovering hidden artifacts. EDA helps us **explore, understand, and interpret data** before making important decisions or building models. Instead of blindly using data, we take the time to examine it carefully, ensuring it is accurate and meaningful.\n",
    "\n",
    "\n",
    "## 🔍 Discovering Patterns\n",
    "EDA helps us **find patterns** that might not be obvious at first glance. For example, if we are analyzing customer purchase history, we might notice that **people buy more products during holidays**. Recognizing these patterns helps businesses plan better strategies and make informed decisions.\n",
    "\n",
    "## 🚨 Spotting Unusual Data (Anomalies)\n",
    "Sometimes, data contains **errors or unusual values (outliers)**. Imagine checking sales records and noticing one order that is **ten times higher** than normal. Is it a mistake? A big client? A fraud attempt? EDA helps us **identify these oddities** and decide what to do with them.\n",
    "\n",
    "## 📊 Supporting Better Decisions\n",
    "EDA acts like a **compass** for decision-makers. Instead of making guesses, we use **charts, graphs, and statistics** to understand what the data is telling us. For example, a business might want to know which product is the most popular—EDA can provide **clear visualizations** to support this decision.\n",
    "\n",
    "## ✅ Checking Data Quality\n",
    "Data is not always perfect. Sometimes, we find **missing, incorrect, or inconsistent values**. EDA helps us check and clean the data before using it. This ensures that our analysis and decisions are based on **reliable information** rather than faulty or misleading data.\n",
    "\n",
    "## 🎯 Choosing the Right Features\n",
    "In large datasets, not all information is useful. Some variables might be irrelevant or add unnecessary complexity. EDA helps us **identify the most important factors** so that we can focus on what truly matters. For instance, in predicting house prices, we might find that the number of bedrooms is important, but the color of the walls is not.\n",
    "\n",
    "## 📢 Making Data Understandable\n",
    "\n",
    "Numbers alone can be overwhelming, but EDA turns them into **meaningful insights**. Through **visualizations and summaries**, we can **tell a story** with data that is easy for everyone—whether technical experts or business leaders—to understand. A well-crafted EDA can **bring data to life** and help communicate important findings in a clear and engaging way."
   ]
  },
  {
   "cell_type": "markdown",
   "id": "c54bf47f-2040-4e1f-8ded-3655e36f09de",
   "metadata": {},
   "source": [
    "# To understand EDA ... Let's first Understand What is Data & it's types ?"
   ]
  },
  {
   "cell_type": "markdown",
   "id": "781e96ce-691c-4410-8789-80d45bb53ba8",
   "metadata": {},
   "source": [
    "### Understanding Data \n",
    "\n",
    "#### Data is a collection of basic facts, numbers, or details gathered from different sources and stored in an organized or unorganized way. It can be numbers, words, images, sounds, or even actions. Data is like a collection of facts that help us understand things better.\n",
    "\n",
    "#### Data can be virtually anything that can be recorded or observed, including text, numbers, images, sounds, and more.\n",
    "\n",
    "\n",
    "\n",
    "<div style=\"text-align:center\">\n",
    "    <img src=\"https://blog.neterra.cloud/wp-content/uploads/2019/02/data-1-1024x576.jpg\" alt=\"Image Alt Text\" width=\"800\"/>\n",
    "</div>\n",
    "\n",
    "\n",
    "\n",
    "### Types of Data\n",
    "\n",
    "<div style=\"text-align:center\">\n",
    "    <img src=\"https://365datascience.com/resources/blog/thumb@1024_xzk3rl06exk-data-types.webp\" alt=\"Image Alt Text\" width=\"800\"/>\n",
    "</div>\n",
    "\n",
    "\n",
    "#### We all know by now that data comes in various forms, here are some them : "
   ]
  },
  {
   "cell_type": "markdown",
   "id": "7e06c5a0-605b-4f45-a4b0-62815816a0fc",
   "metadata": {},
   "source": [
    "### 1️⃣ Qualitative (Categorical) Data\n",
    "Categorical data represents characteristics, labels, or groups that do not have numerical meaning. It can be further divided into:\n",
    "\n",
    "#### 🏆 Ordinal Data (Ordered)\n",
    "Data that has a meaningful order but the difference between values is not precisely measurable.\n",
    "Example: Test grades (A, B, C, D, F)"
   ]
  },
  {
   "cell_type": "code",
   "execution_count": 179,
   "id": "d574bd6a-ffa2-4553-a35f-fcb622c98e40",
   "metadata": {},
   "outputs": [
    {
     "name": "stdout",
     "output_type": "stream",
     "text": [
      "['A', 'B', 'C', 'D', 'F']\n",
      "Categories (5, object): ['A' < 'B' < 'C' < 'D' < 'F']\n"
     ]
    }
   ],
   "source": [
    "import pandas as pd\n",
    "\n",
    "grades = pd.Categorical([\"A\", \"B\", \"C\", \"D\", \"F\"], ordered=True)\n",
    "print(grades)\n"
   ]
  },
  {
   "cell_type": "markdown",
   "id": "9a70d51d-7cb9-4515-8e44-cbc049ac58c5",
   "metadata": {},
   "source": [
    "#### 🌍 Nominal Data (Not Ordered)\n",
    "Data that represents labels or categories with no inherent order.\n",
    "Example: Nationality (American, French, Indian)"
   ]
  },
  {
   "cell_type": "code",
   "execution_count": 181,
   "id": "163e545e-3c3d-4a9f-8401-30210eaef937",
   "metadata": {},
   "outputs": [
    {
     "name": "stdout",
     "output_type": "stream",
     "text": [
      "['American', 'French', 'Indian', 'Chinese']\n"
     ]
    }
   ],
   "source": [
    "# Example of Nominal Data in Python\n",
    "nationalities = [\"American\", \"French\", \"Indian\", \"Chinese\"]\n",
    "print(nationalities)"
   ]
  },
  {
   "cell_type": "markdown",
   "id": "699eedc2-8ff3-4f9d-803a-085b2318f00f",
   "metadata": {},
   "source": [
    "### 2️⃣ Quantitative Data\n",
    "Quantitative data consists of numerical values that can be measured. It is classified into:\n",
    "\n",
    "#### 📏 Continuous Data (Can Be Divided)\n",
    "Data that can take any value within a range.\n",
    "Example: Distance (e.g., 5.3 km, 10.8 km)"
   ]
  },
  {
   "cell_type": "code",
   "execution_count": 183,
   "id": "0dd611fa-def3-4f1e-a9d1-175da5ddbe13",
   "metadata": {},
   "outputs": [
    {
     "name": "stdout",
     "output_type": "stream",
     "text": [
      "[5.3, 10.8, 12.5, 20.4]\n"
     ]
    }
   ],
   "source": [
    "# Example of Continuous Data in Python\n",
    "distances = [5.3, 10.8, 12.5, 20.4]\n",
    "print(distances)"
   ]
  },
  {
   "cell_type": "markdown",
   "id": "4e326724-3121-44b2-818a-6071888dc454",
   "metadata": {},
   "source": [
    "#### 🐱 Discrete Data (Can't Be Divided)\n",
    "Whole numbers that represent countable values.\n",
    "Example: Number of cats (1, 2, 3, 4)"
   ]
  },
  {
   "cell_type": "code",
   "execution_count": 187,
   "id": "b6469a41-2368-48c2-a67f-4758058b502d",
   "metadata": {},
   "outputs": [
    {
     "name": "stdout",
     "output_type": "stream",
     "text": [
      "[1, 2, 3, 4, 5]\n"
     ]
    }
   ],
   "source": [
    "# Example of Discrete Data in Python\n",
    "num_cats = [1, 2, 3, 4, 5]\n",
    "print(num_cats)"
   ]
  },
  {
   "cell_type": "markdown",
   "id": "4995efec-0129-4304-bc3b-f374d2820904",
   "metadata": {},
   "source": [
    "# Now Let's learn about data quality and how it plays a crucial role in building or analyzing applications "
   ]
  },
  {
   "cell_type": "markdown",
   "id": "b200be69-95a0-44e3-8c99-9670471c643f",
   "metadata": {},
   "source": [
    "## 📌 Understanding Data Quality"
   ]
  },
  {
   "cell_type": "markdown",
   "id": "a1f3a4d2-87a1-4ca4-9ee4-8d64e10b21b9",
   "metadata": {},
   "source": [
    "### 🧐 What is Data Quality and Why Does It Matter?\n",
    "\n",
    "Data quality refers to how accurate, complete, reliable, and consistent the data is. High-quality data is essential because it helps in making **better decisions, accurate predictions**, and **efficient business operations**. If the data is poor or incorrect, it can cause **errors, misleading analysis, and financial losses**.\n",
    "\n"
   ]
  },
  {
   "cell_type": "markdown",
   "id": "e5ea7b8c-1cb3-4d85-a0fd-689d6517fc09",
   "metadata": {},
   "source": [
    "### ✅ Why is Good Data Quality Important?\n",
    "\n",
    "1️⃣ **Better Decision-Making**: Reliable data ensures that businesses and researchers make informed choices.\n",
    "\n",
    "2️⃣ **Avoiding Errors**: Incorrect data can lead to poor strategies, miscommunication, or financial losses.\n",
    "\n",
    "3️⃣ **Improved Efficiency**: Clean and organized data saves time in analysis and prevents unnecessary confusion."
   ]
  },
  {
   "cell_type": "markdown",
   "id": "096264d2-d705-469f-8b39-e7aa187b0a55",
   "metadata": {},
   "source": [
    "### 📌 Examples of Data Quality Issues\n",
    "\n",
    "🔹 **Misleading Information**: If we include Michael Jordan's basketball earnings in a dataset about average salaries of college graduates, the data would be misleading and not reflect a typical graduate's salary.\n",
    "\n",
    "🔹 **Duplicate Data**: When analyzing customer feedback, duplicate reviews can create bias, making one opinion seem more important than it really is. Cleaning the data ensures a fair and accurate analysis.\n",
    "\n",
    "🔹 **Outdated Information**: A company with outdated customer contact details may struggle to reach its clients, resulting in missed opportunities and lost revenue."
   ]
  },
  {
   "cell_type": "markdown",
   "id": "e9e43082-bf6b-44e2-bbe2-0067fde7c297",
   "metadata": {},
   "source": [
    "### 🔍 Ensuring Data Quality\n",
    "\n",
    "To maintain high data quality, we can:\n",
    "\n",
    "1. Remove duplicate or outdated records\n",
    "\n",
    "2. Verify data accuracy before using it\n",
    "\n",
    "3. Fill in missing values appropriately\n",
    "\n",
    "4. Ensure consistency across different datasets\n",
    "\n",
    "By ensuring high-quality data, we can **trust our analysis, make better decisions, and achieve successful outcomes**."
   ]
  },
  {
   "cell_type": "markdown",
   "id": "d0c3b99e-16d2-405b-8a23-6ada3166320d",
   "metadata": {},
   "source": [
    "<div style=\"text-align:center\">\n",
    "    <img src=\"https://eu-images.contentstack.com/v3/assets/blt69509c9116440be8/blte7047f8cc765f86a/64cb4939b03b1f4a6b0714bd/dataquality.jpg\" alt=\"Image Alt Text\" width=\"600\"/>\n",
    "</div>"
   ]
  },
  {
   "cell_type": "markdown",
   "id": "cbe233b9-1a19-48e5-8a1c-b883dccb0ec7",
   "metadata": {},
   "source": [
    "# 🛠️ Assessing Data Quality and Cleaning for Better Analysis\n",
    "\n",
    "### 🔍 How Can We Assess Data Quality?\n",
    "\n",
    "Assessing data quality is an important step before using data for decision-making, analysis, or machine learning. **Data cleaning** plays a key role in this process, as it helps identify and fix errors, inconsistencies, and missing values. By cleaning data, we ensure that it is **accurate, reliable, and consistent**, leading to better insights and results."
   ]
  },
  {
   "cell_type": "markdown",
   "id": "c30792e3-2cfc-4c74-a3bb-1abd7b1470d3",
   "metadata": {},
   "source": [
    "## 🧹 What is Data Cleaning?\n",
    "\n",
    "**Data Cleaning** is the process of **finding and fixing mistakes in data** to improve its quality. This step ensures that the data is ready for use in analysis and machine learning models. **Good data leads to better decisions, predictions, and business strategies.**\n",
    "\n",
    "Data cleaning involves:\n",
    "\n",
    "1. **Fixing errors** (typos, incorrect entries, wrong formats)\n",
    "\n",
    "2. **Removing duplicates** (repeated data entries)\n",
    "\n",
    "3. **Handling missing values** (filling or removing incomplete data)\n",
    "\n",
    "4. **Standardizing formats** (making data uniform)\n",
    "\n",
    "5. **Identifying and addressing outliers** (extreme values that may distort results)\n",
    "\n",
    "## ✨ Why is Data Cleaning Important? (With Examples)\n",
    "\n",
    "✅ **Consistency**\n",
    "\n",
    "Ensuring that all data follows the same format helps in easy comparison and analysis.\n",
    "\n",
    "Example: Converting timestamps to a common format for consistency:"
   ]
  },
  {
   "cell_type": "code",
   "execution_count": 199,
   "id": "0bb0df14-5266-4c85-8c24-0798dc689829",
   "metadata": {},
   "outputs": [],
   "source": [
    "# Original timestamps\n",
    "timestamps = [\"2023-01-15 08:30:45\", \"15-01-2023\"]\n",
    "\n",
    "# Standardized format (YYYY-MM-DD)\n",
    "standardized_timestamps = [\"2023-01-15\", \"2023-01-15\"]"
   ]
  },
  {
   "cell_type": "markdown",
   "id": "d51344d4-bfad-4e5c-81df-6e2d0f84be18",
   "metadata": {},
   "source": [
    "## 🚀 Handling Outliers\n",
    "\n",
    "Outliers (extreme values) can distort results, so they should be carefully reviewed before including them in analysis.\n",
    "\n",
    "Example: If a dataset on school graduate salaries includes a celebrity's earnings, it may falsely increase the average."
   ]
  },
  {
   "cell_type": "code",
   "execution_count": 201,
   "id": "815f9156-22ce-493f-8ab4-6432ac69c246",
   "metadata": {},
   "outputs": [],
   "source": [
    "# Salaries dataset\n",
    "salaries = [50000, 55000, 60000, 70000000] # Outlier present\n",
    "\n",
    "# Excluding outlier for accurate analysis\n",
    "filtered_salaries = [50000, 55000, 60000]"
   ]
  },
  {
   "cell_type": "markdown",
   "id": "cff33255-5a0f-42fc-95e9-830fb199943f",
   "metadata": {},
   "source": [
    "## 🔄 Removing Duplicates\n",
    "\n",
    "Duplicate records can skew analysis, so they should be removed.\n",
    "\n",
    "Example: If user reviews are repeated in a sentiment analysis dataset, it could lead to biased results."
   ]
  },
  {
   "cell_type": "code",
   "execution_count": 203,
   "id": "82c6072e-a90c-4225-ad88-c40dfcff3115",
   "metadata": {},
   "outputs": [],
   "source": [
    "# Original dataset with duplicate reviews\n",
    "reviews = [\"Great product!\", \"Bad service\", \"Great product!\", \"Excellent quality\"]\n",
    "\n",
    "# Removing duplicates\n",
    "unique_reviews = list(set(reviews))"
   ]
  },
  {
   "cell_type": "markdown",
   "id": "f973e05f-c177-413c-b39f-8375039463d1",
   "metadata": {},
   "source": [
    "## 🎯 Ensuring Accuracy\n",
    "\n",
    "Cross-checking data with reliable sources helps maintain correctness.\n",
    "\n",
    "Example: Validating sales figures by comparing them with financial records."
   ]
  },
  {
   "cell_type": "code",
   "execution_count": 205,
   "id": "97e38794-cf97-46eb-aa2e-68360c4fa1bf",
   "metadata": {},
   "outputs": [
    {
     "name": "stdout",
     "output_type": "stream",
     "text": [
      "Data needs correction\n"
     ]
    }
   ],
   "source": [
    "# Sales figures from different sources\n",
    "reported_sales = 10000\n",
    "actual_sales = 9800  # Verified from financial records\n",
    "\n",
    "# Checking accuracy\n",
    "if reported_sales == actual_sales:\n",
    "    print(\"Data is accurate\")\n",
    "else:\n",
    "    print(\"Data needs correction\")"
   ]
  },
  {
   "cell_type": "markdown",
   "id": "b695b59e-014c-43f5-8110-da0c8d545a1e",
   "metadata": {},
   "source": [
    "## 📉 Treating Missing Values\n",
    "\n",
    "Filling missing values ensures that the dataset remains useful for analysis.\n",
    "\n",
    "Example: Replacing missing age values with the average age."
   ]
  },
  {
   "cell_type": "code",
   "execution_count": 209,
   "id": "e453c1ff-58e0-49a5-8632-7a1dd10f124d",
   "metadata": {},
   "outputs": [],
   "source": [
    "import numpy as np\n",
    "\n",
    "ages = [25, 30, np.nan, 22, 28, np.nan, 35]\n",
    "mean_age = np.nanmean(ages)  # Calculate mean ignoring NaN values\n",
    "cleaned_ages = [age if not np.isnan(age) else mean_age for age in ages]"
   ]
  },
  {
   "cell_type": "markdown",
   "id": "1009787c-8f66-4c83-ac0d-0a93b34da32c",
   "metadata": {},
   "source": [
    "## 🔍 Exploratory Data Analysis (EDA) in Cleaning\n",
    "\n",
    "EDA helps detect errors, patterns, and unusual data points.\n",
    "\n",
    "Example: Visualizing a histogram may reveal unexpected spikes or missing values."
   ]
  },
  {
   "cell_type": "code",
   "execution_count": 211,
   "id": "5051ce92-e43b-4252-8989-089a33bae40a",
   "metadata": {},
   "outputs": [
    {
     "data": {
      "image/png": "[encoded data removed]",
      "text/plain": [
       "<Figure size 640x480 with 1 Axes>"
      ]
     },
     "metadata": {},
     "output_type": "display_data"
    }
   ],
   "source": [
    "import matplotlib.pyplot as plt\n",
    "\n",
    "# Example data\n",
    "ages = [22, 23, 24, 22, 21, 80]  # Outlier present\n",
    "\n",
    "# Plot histogram\n",
    "plt.hist(ages, bins=5)\n",
    "plt.show()"
   ]
  },
  {
   "cell_type": "markdown",
   "id": "a3dfdf33-20b2-4726-a5d1-1b579bfe56e4",
   "metadata": {},
   "source": [
    "## ⚖️ Normalization\n",
    "\n",
    "Scaling numeric data ensures fair comparisons across variables.\n",
    "\n",
    "Example: Normalizing income and age values to a common scale."
   ]
  },
  {
   "cell_type": "code",
   "execution_count": 213,
   "id": "6566d330-bb96-4fc3-afad-b66a127cde38",
   "metadata": {},
   "outputs": [
    {
     "name": "stdout",
     "output_type": "stream",
     "text": [
      "[[0. ]\n",
      " [0.2]\n",
      " [1. ]]\n"
     ]
    }
   ],
   "source": [
    "from sklearn.preprocessing import MinMaxScaler\n",
    "\n",
    "scaler = MinMaxScaler()\n",
    "data = [[50000], [60000], [100000]]  # Income values\n",
    "normalized_data = scaler.fit_transform(data)\n",
    "print(normalized_data)"
   ]
  },
  {
   "cell_type": "markdown",
   "id": "42e4b1a5-435a-4e17-9e9b-ef46f4b552a9",
   "metadata": {},
   "source": [
    "## 🔢 Encoding Categorical Data\n",
    "\n",
    "Converting text labels into numbers allows models to process them.\n",
    "\n",
    "Example: Encoding color categories into numerical values."
   ]
  },
  {
   "cell_type": "code",
   "execution_count": 216,
   "id": "c5972da9-b7b1-4ed0-9476-99f0c25180d0",
   "metadata": {},
   "outputs": [
    {
     "name": "stdout",
     "output_type": "stream",
     "text": [
      "[2 1 0]\n"
     ]
    }
   ],
   "source": [
    "from sklearn.preprocessing import LabelEncoder\n",
    "\n",
    "colors = [\"Red\", \"Green\", \"Blue\"]\n",
    "encoder = LabelEncoder()\n",
    "numeric_colors = encoder.fit_transform(colors)\n",
    "print(numeric_colors)"
   ]
  },
  {
   "cell_type": "markdown",
   "id": "80594832-ac21-456f-8482-ed0bb6822ec8",
   "metadata": {},
   "source": [
    "# 🚀 Exploring Exploratory Data Analysis (EDA)\n",
    "\n",
    "Since we now recognize the importance of EDA in evaluating and refining data quality, let's take a deeper look. We will now explore EDA in detail to understand how it uncovers patterns, identifies trends, and extracts valuable insights to enhance data-driven decision-making."
   ]
  },
  {
   "cell_type": "markdown",
   "id": "2d76c6c6-3b50-4f3d-a376-a5bc0f737e27",
   "metadata": {},
   "source": [
    "## 📊 What is Exploratory Data Analysis (EDA)?"
   ]
  },
  {
   "cell_type": "markdown",
   "id": "537996d1-acf3-4cb5-ba46-e8e31ae4e53c",
   "metadata": {},
   "source": [
    "Exploratory Data Analysis, or **EDA**, is a key step in understanding a dataset before applying complex models or statistical tests. It involves using **visualizations, summary statistics, and hypothesis testing** to uncover insights and detect potential issues in the data.\n",
    "\n",
    "## 🔍 Goals of EDA:\n",
    "\n",
    "1️⃣ **Summarize the dataset** to get an overview of its structure.\n",
    "\n",
    "2️⃣ **Identify patterns and relationships** between different variables.\n",
    "\n",
    "3️⃣ **Spot outliers, missing data, and class imbalances** to ensure data quality.\n",
    "\n",
    "4️⃣ **Connect the data with business goals**, ensuring relevant insights are extracted for decision-making.\n",
    "\n",
    "By performing EDA, we can make informed decisions about data preparation, feature selection, and modeling techniques, leading to more effective and reliable analyses."
   ]
  },
  {
   "cell_type": "markdown",
   "id": "68e1a3f6-2e69-4981-b2ad-c42ebf64039f",
   "metadata": {},
   "source": [
    "## 📌 Key Techniques in EDA"
   ]
  },
  {
   "cell_type": "markdown",
   "id": "2ef9025f-0cc2-45a2-ae0c-b2bde4ee60ab",
   "metadata": {},
   "source": [
    "EDA combines both **graphical and statistical** techniques to explore and understand data effectively:\n",
    "\n",
    "1️⃣ **Descriptive Statistics** - Summarizes key features of data using measures like mean, median, mode, range, and standard deviation.\n",
    "\n",
    "Example: Calculating average monthly sales to understand business trends.\n",
    "\n",
    "2️⃣ **Data Visualization** - Uses charts such as histograms, box plots, and scatter plots to reveal patterns and relationships.\n",
    "\n",
    "Example: A histogram displaying customer purchase frequency over time.\n",
    "\n",
    "3️⃣ **Identifying Outliers** - Detects extreme values that could indicate errors or unique insights.\n",
    "\n",
    "Example: Spotting an unusually high transaction amount that might suggest fraud.\n",
    "\n",
    "4️⃣ **Examining Relationships** - Measures correlations between variables using statistical techniques like correlation coefficients and cross-tabulations.\n",
    "\n",
    "Example: Analyzing if higher marketing spend correlates with increased sales.\n",
    "\n",
    "5️⃣ **Group Comparisons** - Compares data across different groups to find patterns.\n",
    "\n",
    "Example: Comparing average exam scores across multiple schools to evaluate educational performance."
   ]
  },
  {
   "cell_type": "markdown",
   "id": "4b49ef42-8754-4c15-8aa5-4c169155e4a2",
   "metadata": {},
   "source": [
    "\n",
    "\n",
    "### 📖 Understanding the Theory Behind EDA"
   ]
  },
  {
   "cell_type": "markdown",
   "id": "168a2512-9c3b-4128-8c07-58953e3d9e78",
   "metadata": {},
   "source": [
    "Exploratory Data Analysis (EDA) was introduced by John W. Tukey as a flexible and interactive approach to exploring data before applying complex statistical models. EDA focuses on summarizing the main features of a dataset, uncovering patterns, detecting anomalies, and verifying assumptions to ensure accurate analysis. \n",
    "\n",
    "\n",
    "\n",
    "Using descriptive statistics, visualizations, and correlation analysis, EDA helps in understanding data relationships, selecting important variables, cleaning data, and recognizing meaningful patterns. \n",
    "\n",
    "\n",
    "\n",
    "This exploratory phase plays a crucial role in helping analysts gain valuable insights and make data-driven decisions before proceeding with formal statistical modeling or machine learning techniques."
   ]
  },
  {
   "cell_type": "markdown",
   "id": "caed29da-6b15-43f5-9adc-c2a4e17c8376",
   "metadata": {},
   "source": [
    "## 🔢 Basics of Algorithms and Problem Design in EDA"
   ]
  },
  {
   "cell_type": "markdown",
   "id": "4bdbb038-d482-4a41-84c4-78df8953a664",
   "metadata": {},
   "source": [
    "## 1️⃣ Algorithm Design\n",
    "\n",
    "Unlike machine learning models, EDA does not rely on a specific algorithm. Instead, it consists of **various techniques and workflows** used to explore and understand data. These techniques include **data transformation tools, visualization methods, and statistical summaries**. In EDA, an \"algorithm\" is better described as a **structured approach** that guides data exploration and analysis.\n",
    "\n",
    "## 2️⃣ Problem Formulation\n",
    "\n",
    "The first step in EDA is to **define the problem** that needs exploration. This involves setting **clear objectives, research questions, and hypotheses** that will guide the analysis. Unlike traditional mathematical problem-solving, EDA focuses on **contextual exploration** rather than defining rigid computational problems.\n",
    "\n",
    "By following these principles, EDA ensures that **data-driven insights are meaningful, reliable, and aligned with business or research objectives.**"
   ]
  },
  {
   "cell_type": "markdown",
   "id": "fa7dc617-c83f-474c-95aa-aee8beea7443",
   "metadata": {},
   "source": [
    "### 🎯 The Relevance of Custom Problem Creation in Teaching and Assessing Knowledge"
   ]
  },
  {
   "cell_type": "markdown",
   "id": "df98987a-7d12-4497-86f8-d4dbd8eb9469",
   "metadata": {},
   "source": [
    "Custom problem creation plays a crucial role in teaching and evaluating knowledge in EDA for several reasons:\n",
    "\n",
    "#### 🔍 Contextual Learning\n",
    "\n",
    "Custom problems help integrate real-world scenarios into learning. Students work with datasets that match their interests or career goals, making learning more relevant and engaging.\n",
    "\n",
    "#### ✨ Hands-On Exploration\n",
    "\n",
    "Through customized problems, students get practical experience in analyzing various datasets. This hands-on approach deepens their understanding of EDA techniques.\n",
    "\n",
    "#### 🧠 Critical Thinking Development\n",
    "\n",
    "Unique and tailored problems encourage students to think critically and develop problem-solving skills, improving their ability to extract meaningful insights from data.\n",
    "\n",
    "#### 📊 Assessment Alignment\n",
    "\n",
    "Custom problems ensure that assessments accurately measure students' understanding and proficiency in EDA techniques.\n",
    "\n",
    "#### 🔄 Feedback and Iteration\n",
    "\n",
    "Custom problems allow for personalized feedback and iterative learning. Instructors can provide targeted guidance, helping students strengthen their skills.\n",
    "\n",
    "#### 🚀 Preparation for Real-World Challenges\n",
    "\n",
    "Engaging with customized problems prepares students for real-world data analysis, equipping them with the confidence to handle complex datasets and extract valuable insights.\n",
    "\n",
    "Custom problem creation is a powerful tool in EDA education, fostering **proficiency, adaptability, and problem-solving capabilities** in aspiring data analysts."
   ]
  },
  {
   "cell_type": "markdown",
   "id": "d820b205-d908-4b8f-b5fa-28c66ff0490e",
   "metadata": {},
   "source": [
    "## 🔢 Leveraging ChatGPT for Exploratory Data Analysis"
   ]
  },
  {
   "cell_type": "markdown",
   "id": "d813904c-5e0a-439d-95a3-4ec6448aff07",
   "metadata": {},
   "source": [
    "Using tools like **ChatGPT** in the context of Exploratory Data Analysis (EDA) provides significant benefits by offering an **interactive learning experience** where users can:\n",
    "\n",
    "1. **Clarify concepts** and get instant explanations on EDA techniques.\n",
    "\n",
    "2. **Seek assistance** in code implementation for data exploration.\n",
    "\n",
    "3. **Generate custom EDA scenarios** tailored to specific learning objectives.\n",
    "\n",
    "### ✨ How ChatGPT Enhances EDA:\n",
    "\n",
    "1️⃣ **Real-time Guidance**: Acts as an on-demand assistant, answering queries on data cleaning, visualization, and statistical analysis.\n",
    "\n",
    "2️⃣ **Custom Problem Generation**: Helps create real-world data scenarios to practice EDA skills in a meaningful way.\n",
    "\n",
    "3️⃣ **Accessibility for All Learners**: Its natural language interface makes EDA approachable for beginners and advanced users alike.\n",
    "\n",
    "4️⃣ **Encouraging Continuous Learning**: Facilitates idea generation and exploration, enabling analysts to gain deeper insights into datasets.\n",
    "\n",
    "By incorporating ChatGPT into EDA workflows, users can make data analysis **more interactive, efficient, and insightful**, ultimately fostering a **dynamic approach** to data exploration and decision-making."
   ]
  },
  {
   "cell_type": "markdown",
   "id": "9f735300-2e11-41d2-88e9-1d7f73a2804a",
   "metadata": {},
   "source": [
    "## 📊 Implementing EDA Using the Used Cars Dataset"
   ]
  },
  {
   "cell_type": "markdown",
   "id": "962d39d1-52a9-46a4-ae5d-f73a98679be2",
   "metadata": {},
   "source": [
    "### 🔹 Loading and Exploring the Dataset"
   ]
  },
  {
   "cell_type": "code",
   "execution_count": 237,
   "id": "7b060f4e-20b0-422b-9056-d565f219ff0a",
   "metadata": {},
   "outputs": [
    {
     "data": {
      "text/html": [
       "<div>\n",
       "<style scoped>\n",
       "    .dataframe tbody tr th:only-of-type {\n",
       "        vertical-align: middle;\n",
       "    }\n",
       "\n",
       "    .dataframe tbody tr th {\n",
       "        vertical-align: top;\n",
       "    }\n",
       "\n",
       "    .dataframe thead th {\n",
       "        text-align: right;\n",
       "    }\n",
       "</style>\n",
       "<table border=\"1\" class=\"dataframe\">\n",
       "  <thead>\n",
       "    <tr style=\"text-align: right;\">\n",
       "      <th></th>\n",
       "      <th>brand</th>\n",
       "      <th>model</th>\n",
       "      <th>model_year</th>\n",
       "      <th>milage</th>\n",
       "      <th>fuel_type</th>\n",
       "      <th>engine</th>\n",
       "      <th>transmission</th>\n",
       "      <th>ext_col</th>\n",
       "      <th>int_col</th>\n",
       "      <th>accident</th>\n",
       "      <th>clean_title</th>\n",
       "      <th>price</th>\n",
       "    </tr>\n",
       "  </thead>\n",
       "  <tbody>\n",
       "    <tr>\n",
       "      <th>0</th>\n",
       "      <td>Ford</td>\n",
       "      <td>Utility Police Interceptor Base</td>\n",
       "      <td>2013</td>\n",
       "      <td>51,000 mi.</td>\n",
       "      <td>E85 Flex Fuel</td>\n",
       "      <td>300.0HP 3.7L V6 Cylinder Engine Flex Fuel Capa...</td>\n",
       "      <td>6-Speed A/T</td>\n",
       "      <td>Black</td>\n",
       "      <td>Black</td>\n",
       "      <td>At least 1 accident or damage reported</td>\n",
       "      <td>Yes</td>\n",
       "      <td>$10,300</td>\n",
       "    </tr>\n",
       "    <tr>\n",
       "      <th>1</th>\n",
       "      <td>Hyundai</td>\n",
       "      <td>Palisade SEL</td>\n",
       "      <td>2021</td>\n",
       "      <td>34,742 mi.</td>\n",
       "      <td>Gasoline</td>\n",
       "      <td>3.8L V6 24V GDI DOHC</td>\n",
       "      <td>8-Speed Automatic</td>\n",
       "      <td>Moonlight Cloud</td>\n",
       "      <td>Gray</td>\n",
       "      <td>At least 1 accident or damage reported</td>\n",
       "      <td>Yes</td>\n",
       "      <td>$38,005</td>\n",
       "    </tr>\n",
       "    <tr>\n",
       "      <th>2</th>\n",
       "      <td>Lexus</td>\n",
       "      <td>RX 350 RX 350</td>\n",
       "      <td>2022</td>\n",
       "      <td>22,372 mi.</td>\n",
       "      <td>Gasoline</td>\n",
       "      <td>3.5 Liter DOHC</td>\n",
       "      <td>Automatic</td>\n",
       "      <td>Blue</td>\n",
       "      <td>Black</td>\n",
       "      <td>None reported</td>\n",
       "      <td>NaN</td>\n",
       "      <td>$54,598</td>\n",
       "    </tr>\n",
       "    <tr>\n",
       "      <th>3</th>\n",
       "      <td>INFINITI</td>\n",
       "      <td>Q50 Hybrid Sport</td>\n",
       "      <td>2015</td>\n",
       "      <td>88,900 mi.</td>\n",
       "      <td>Hybrid</td>\n",
       "      <td>354.0HP 3.5L V6 Cylinder Engine Gas/Electric H...</td>\n",
       "      <td>7-Speed A/T</td>\n",
       "      <td>Black</td>\n",
       "      <td>Black</td>\n",
       "      <td>None reported</td>\n",
       "      <td>Yes</td>\n",
       "      <td>$15,500</td>\n",
       "    </tr>\n",
       "    <tr>\n",
       "      <th>4</th>\n",
       "      <td>Audi</td>\n",
       "      <td>Q3 45 S line Premium Plus</td>\n",
       "      <td>2021</td>\n",
       "      <td>9,835 mi.</td>\n",
       "      <td>Gasoline</td>\n",
       "      <td>2.0L I4 16V GDI DOHC Turbo</td>\n",
       "      <td>8-Speed Automatic</td>\n",
       "      <td>Glacier White Metallic</td>\n",
       "      <td>Black</td>\n",
       "      <td>None reported</td>\n",
       "      <td>NaN</td>\n",
       "      <td>$34,999</td>\n",
       "    </tr>\n",
       "  </tbody>\n",
       "</table>\n",
       "</div>"
      ],
      "text/plain": [
       "      brand                            model  model_year      milage  \\\n",
       "0      Ford  Utility Police Interceptor Base        2013  51,000 mi.   \n",
       "1   Hyundai                     Palisade SEL        2021  34,742 mi.   \n",
       "2     Lexus                    RX 350 RX 350        2022  22,372 mi.   \n",
       "3  INFINITI                 Q50 Hybrid Sport        2015  88,900 mi.   \n",
       "4      Audi        Q3 45 S line Premium Plus        2021   9,835 mi.   \n",
       "\n",
       "       fuel_type                                             engine  \\\n",
       "0  E85 Flex Fuel  300.0HP 3.7L V6 Cylinder Engine Flex Fuel Capa...   \n",
       "1       Gasoline                               3.8L V6 24V GDI DOHC   \n",
       "2       Gasoline                                     3.5 Liter DOHC   \n",
       "3         Hybrid  354.0HP 3.5L V6 Cylinder Engine Gas/Electric H...   \n",
       "4       Gasoline                         2.0L I4 16V GDI DOHC Turbo   \n",
       "\n",
       "        transmission                 ext_col int_col  \\\n",
       "0        6-Speed A/T                   Black   Black   \n",
       "1  8-Speed Automatic         Moonlight Cloud    Gray   \n",
       "2          Automatic                    Blue   Black   \n",
       "3        7-Speed A/T                   Black   Black   \n",
       "4  8-Speed Automatic  Glacier White Metallic   Black   \n",
       "\n",
       "                                 accident clean_title    price  \n",
       "0  At least 1 accident or damage reported         Yes  $10,300  \n",
       "1  At least 1 accident or damage reported         Yes  $38,005  \n",
       "2                           None reported         NaN  $54,598  \n",
       "3                           None reported         Yes  $15,500  \n",
       "4                           None reported         NaN  $34,999  "
      ]
     },
     "execution_count": 237,
     "metadata": {},
     "output_type": "execute_result"
    }
   ],
   "source": [
    "# Import necessary libraries\n",
    "import pandas as pd\n",
    "import numpy as np\n",
    "import matplotlib.pyplot as plt\n",
    "import seaborn as sns\n",
    "\n",
    "# Load Used Cars dataset\n",
    "file_path = \"used_cars.csv\"  # Use relative path\n",
    "used_cars_df = pd.read_csv(file_path)\n",
    "\n",
    "# Display first few rows\n",
    "used_cars_df.head()\n"
   ]
  },
  {
   "cell_type": "markdown",
   "id": "943bf087-c71e-4b68-9439-d04ade51603d",
   "metadata": {},
   "source": [
    "### 🔹 Basic Statistical Summary\n",
    "The describe() function provides key summary statistics of the dataset, including:\n",
    "\n",
    "**Mean (Average)**: The central value of each feature.\n",
    "\n",
    "**Standard Deviation**: The measure of spread or variation in the data.\n",
    "\n",
    "**Minimum and Maximum Values**: The range of data values.\n",
    "\n",
    "**Quartiles (25%, 50%, 75%)**: Helps understand the distribution of data."
   ]
  },
  {
   "cell_type": "code",
   "execution_count": 239,
   "id": "d741979e-051f-4279-9698-0552a981104a",
   "metadata": {},
   "outputs": [
    {
     "data": {
      "text/html": [
       "<div>\n",
       "<style scoped>\n",
       "    .dataframe tbody tr th:only-of-type {\n",
       "        vertical-align: middle;\n",
       "    }\n",
       "\n",
       "    .dataframe tbody tr th {\n",
       "        vertical-align: top;\n",
       "    }\n",
       "\n",
       "    .dataframe thead th {\n",
       "        text-align: right;\n",
       "    }\n",
       "</style>\n",
       "<table border=\"1\" class=\"dataframe\">\n",
       "  <thead>\n",
       "    <tr style=\"text-align: right;\">\n",
       "      <th></th>\n",
       "      <th>model_year</th>\n",
       "    </tr>\n",
       "  </thead>\n",
       "  <tbody>\n",
       "    <tr>\n",
       "      <th>count</th>\n",
       "      <td>4009.000000</td>\n",
       "    </tr>\n",
       "    <tr>\n",
       "      <th>mean</th>\n",
       "      <td>2015.515590</td>\n",
       "    </tr>\n",
       "    <tr>\n",
       "      <th>std</th>\n",
       "      <td>6.104816</td>\n",
       "    </tr>\n",
       "    <tr>\n",
       "      <th>min</th>\n",
       "      <td>1974.000000</td>\n",
       "    </tr>\n",
       "    <tr>\n",
       "      <th>25%</th>\n",
       "      <td>2012.000000</td>\n",
       "    </tr>\n",
       "    <tr>\n",
       "      <th>50%</th>\n",
       "      <td>2017.000000</td>\n",
       "    </tr>\n",
       "    <tr>\n",
       "      <th>75%</th>\n",
       "      <td>2020.000000</td>\n",
       "    </tr>\n",
       "    <tr>\n",
       "      <th>max</th>\n",
       "      <td>2024.000000</td>\n",
       "    </tr>\n",
       "  </tbody>\n",
       "</table>\n",
       "</div>"
      ],
      "text/plain": [
       "        model_year\n",
       "count  4009.000000\n",
       "mean   2015.515590\n",
       "std       6.104816\n",
       "min    1974.000000\n",
       "25%    2012.000000\n",
       "50%    2017.000000\n",
       "75%    2020.000000\n",
       "max    2024.000000"
      ]
     },
     "execution_count": 239,
     "metadata": {},
     "output_type": "execute_result"
    }
   ],
   "source": [
    "used_cars_df.describe()"
   ]
  },
  {
   "cell_type": "markdown",
   "id": "b0eb56e7-8c70-4d3c-bc48-5706395ca2f1",
   "metadata": {},
   "source": [
    "### 🔹 Visualizing Feature Distributions\n",
    "\n",
    "A histogram allows us to visualize the distribution of used car prices. The kernel density estimate (KDE) curve helps identify skewness in the pricing data."
   ]
  },
  {
   "cell_type": "code",
   "execution_count": 241,
   "id": "7f3d0905-f90a-4c36-bc3c-69c09da9389f",
   "metadata": {},
   "outputs": [
    {
     "data": {
      "image/png": "[encoded data removed]",
      "text/plain": [
       "<Figure size 800x600 with 1 Axes>"
      ]
     },
     "metadata": {},
     "output_type": "display_data"
    }
   ],
   "source": [
    "plt.figure(figsize=(8, 6))\n",
    "sns.histplot(used_cars_df['price'], bins=30, kde=True)\n",
    "plt.xlabel('Used Car Prices')\n",
    "plt.ylabel('Frequency')\n",
    "plt.title('Distribution of Used Car Prices')\n",
    "plt.show()\n"
   ]
  },
  {
   "cell_type": "markdown",
   "id": "fb1bdd76-a74c-43ed-9199-1bffe0c7e353",
   "metadata": {},
   "source": [
    "This plot allows us to determine whether the pricing data follows a normal distribution, exhibits skewness, or contains outliers, offering valuable insights into the variations in used car prices.\n",
    "\n",
    "By analyzing the Used Cars Dataset, we can leverage various exploratory data analysis (EDA) techniques, including visualization, correlation analysis, and feature selection, to gain a deeper understanding of the data before proceeding with modeling."
   ]
  },
  {
   "cell_type": "markdown",
   "id": "d6b49bb5-6bc9-40f2-929a-1d92c16caf27",
   "metadata": {},
   "source": [
    "## 🚗 Data Visualization in Exploratory Data Analysis (EDA)\n",
    "\n",
    "Visualizing data is an essential part of **Exploratory Data Analysis (EDA)** as it helps in understanding the underlying patterns, distributions, and relationships between different variables. Below are some key visualization techniques commonly used in EDA.\n"
   ]
  },
  {
   "cell_type": "markdown",
   "id": "1d8b8c0f-3fea-411e-9304-bb702f56062c",
   "metadata": {},
   "source": [
    "### 📌 Histograms: Understanding Data Distribution\n",
    "\n",
    "**Definition**:\n",
    "\n",
    "A histogram is a graphical representation that shows the distribution of numerical data by dividing the range into bins and counting the number of values that fall into each bin.\n",
    "\n",
    "\n",
    "**Why Use It?**\n",
    "\n",
    "1. Helps in understanding the shape of the data (e.g., normal distribution, skewness).\n",
    "2. Identifies peaks, trends, and potential outliers.\n",
    "   \n",
    "Example: Histogram of Used Car Prices"
   ]
  },
  {
   "cell_type": "code",
   "execution_count": 245,
   "id": "641471d7-13d1-4a6b-9a11-5a973cf6e965",
   "metadata": {},
   "outputs": [
    {
     "data": {
      "image/png": "[encoded data removed]",
      "text/plain": [
       "<Figure size 640x480 with 1 Axes>"
      ]
     },
     "metadata": {},
     "output_type": "display_data"
    }
   ],
   "source": [
    "import matplotlib.pyplot as plt\n",
    "\n",
    "# Ensure column name matches the dataset ('Price' instead of 'price')\n",
    "plt.hist(used_cars_df['price'], bins=30, color='skyblue', edgecolor='black')\n",
    "plt.xlabel('Used Car Price')\n",
    "plt.ylabel('Frequency')\n",
    "plt.title('Histogram of Used Car Prices')\n",
    "plt.show()\n"
   ]
  },
  {
   "cell_type": "markdown",
   "id": "d86a5902-a907-4cdc-9adc-a20ce9e3b969",
   "metadata": {},
   "source": [
    "**Insights**:\n",
    "\n",
    "This histogram illustrates the distribution of used car prices within the dataset, revealing key patterns in pricing.\n",
    "\n",
    "The right-skewed shape suggests that most used cars are priced on the lower end, while a smaller number of high-priced vehicles create a long tail, likely representing luxury or premium cars.\n",
    "\n",
    "The distribution indicates potential pricing trends, such as distinct clusters for budget-friendly vs. high-end models, highlighting variability across brands and models.\n",
    "\n",
    "Additionally, outliers can be identified as points deviating significantly from the bulk of the data, emphasizing rare but extreme price variations in the used car market. 🚗📊"
   ]
  },
  {
   "cell_type": "markdown",
   "id": "dc3f112c-365a-45e4-b296-6defced66769",
   "metadata": {},
   "source": [
    "### 📌 Box Plots: Identifying Outliers and Spread of Data\n",
    "\n",
    "**Definition**:\n",
    "A box plot (also called a **box-and-whisker plot**) summarizes data using five key metrics: **minimum, first quartile (Q1), median, third quartile (Q3), and maximum**. It also highlights **outliers** as individual points outside the whiskers.\n",
    "\n",
    "**Why Use It?**\n",
    "\n",
    "1. Quickly identifies outliers.\n",
    "\n",
    "2. Shows the spread and skewness of the data.\n",
    "\n",
    "3. Helps compare distributions across categories.\n",
    "\n",
    "Example: Box Plot of Used Car Prices"
   ]
  },
  {
   "cell_type": "code",
   "execution_count": 248,
   "id": "651ceea5-cc23-4100-ad43-73fd95adba52",
   "metadata": {},
   "outputs": [
    {
     "data": {
      "image/png": "[encoded data removed]",
      "text/plain": [
       "<Figure size 800x600 with 1 Axes>"
      ]
     },
     "metadata": {},
     "output_type": "display_data"
    }
   ],
   "source": [
    "import matplotlib.pyplot as plt\n",
    "import seaborn as sns\n",
    "\n",
    "plt.figure(figsize=(8, 6))\n",
    "\n",
    "# Plot Boxplot\n",
    "sns.boxplot(y='price', data=used_cars_df, color='lightgreen')\n",
    "\n",
    "# Apply log scale for better visibility\n",
    "plt.yscale('log')  \n",
    "plt.title('Box Plot of Used Car Prices')\n",
    "plt.ylabel('Price (USD)')\n",
    "plt.show()\n"
   ]
  },
  {
   "cell_type": "markdown",
   "id": "83dab260-fbe8-4aa0-90f9-690e773220f5",
   "metadata": {},
   "source": [
    "**Insights**:\n",
    "\n",
    "The box plot reveals that most used car prices are concentrated within a specific range, as represented by the interquartile range (IQR) in the green box.\n",
    "\n",
    "There are numerous extreme outliers above the upper whisker, indicating the presence of high-priced luxury or rare vehicles in the dataset.\n",
    "\n",
    "The logarithmic scale enhances visibility, showing a wide price distribution with significant variation.\n",
    "\n",
    "For certain analyses, removing outliers (such as extremely high-priced cars) could improve data consistency and yield more accurate insights. 🚗📊"
   ]
  },
  {
   "cell_type": "markdown",
   "id": "d5c64a54-7376-4480-90dc-3b68781527b6",
   "metadata": {},
   "source": [
    "### 📌 Scatter Plots: Finding Relationships Between Variables\n",
    "\n",
    "**Definition**:\n",
    "A scatter plot is used to visualize the relationship between **two numerical variables**. Each point represents an observation in the dataset.\n",
    "\n",
    "**Why Use It?**\n",
    "\n",
    "1. Identifies correlations between variables (positive, negative, or none).\n",
    "\n",
    "2. Helps detect clusters and patterns.\n",
    "\n",
    "3. Highlights possible outliers.\n",
    "\n",
    "Example: Scatter Plot of Used Car Prices vs. Mileage"
   ]
  },
  {
   "cell_type": "code",
   "execution_count": 251,
   "id": "d12cab67-f81a-470d-b8f6-86d32598a4ca",
   "metadata": {},
   "outputs": [
    {
     "data": {
      "image/png": "[encoded data removed]",
      "text/plain": [
       "<Figure size 1000x600 with 1 Axes>"
      ]
     },
     "metadata": {},
     "output_type": "display_data"
    }
   ],
   "source": [
    "import pandas as pd\n",
    "import matplotlib.pyplot as plt\n",
    "\n",
    "# Load the dataset\n",
    "file_path = \"used_cars.csv\"  # Ensure the file is in the same directory or provide the full path\n",
    "df = pd.read_csv(file_path)\n",
    "\n",
    "# Clean the 'milage' column by removing \" mi.\" and converting to float\n",
    "df['milage'] = df['milage'].str.replace(\" mi.\", \"\").str.replace(\",\", \"\").astype(float)\n",
    "\n",
    "# Clean the 'price' column by removing \"$\" and converting to float\n",
    "df['price'] = df['price'].str.replace(\"$\", \"\").str.replace(\",\", \"\").astype(float)\n",
    "\n",
    "# Filter out extreme mileage values for better visualization (assuming mileage < 200,000)\n",
    "filtered_df = df[df['milage'] < 200000]\n",
    "\n",
    "# Generate the scatter plot\n",
    "plt.figure(figsize=(10, 6))\n",
    "plt.scatter(filtered_df['milage'], filtered_df['price'], color='coral', alpha=0.5)\n",
    "plt.xlabel('Mileage (miles)')\n",
    "plt.ylabel('Used Car Price ($)')\n",
    "plt.title('Scatter Plot of Used Car Prices vs Mileage (Filtered)')\n",
    "plt.show()\n"
   ]
  },
  {
   "cell_type": "markdown",
   "id": "0abc36eb-8289-4c63-92e8-a1c91f8f17c0",
   "metadata": {},
   "source": [
    "**Insights**:\n",
    "\n",
    "The scatter plot suggests a negative correlation between mileage and used car prices, indicating that vehicles with higher mileage generally have lower resale values.\n",
    "\n",
    "The density of points highlights common mileage-price ranges, with a concentration of vehicles in the lower mileage and price segments.\n",
    "\n",
    "Outliers are visible, where some high-mileage cars still command high prices. This may be due to factors such as brand reputation, model rarity, or vehicle condition. 🚗📊"
   ]
  },
  {
   "cell_type": "markdown",
   "id": "f9de3ba8-b056-4085-ae10-1ec41bce0586",
   "metadata": {},
   "source": [
    "### 📌 Line Plots: Analyzing Trends Over Time or Sequential Data\n",
    "\n",
    "**Definition**:\n",
    "A line plot is used to display data trends over time or a sequence, making it useful for **time series analysis**.\n",
    "\n",
    "**Why Use It?**\n",
    "\n",
    "Identifies trends, seasonality, and fluctuations in data.\n",
    "\n",
    "Shows how values change over a period or index.\n",
    "\n",
    "Example: Line Plot of Used Car Prices Over Time"
   ]
  },
  {
   "cell_type": "code",
   "execution_count": 254,
   "id": "1421cd4d-c171-49eb-966c-7356911a1359",
   "metadata": {},
   "outputs": [
    {
     "data": {
      "image/png": "[encoded data removed]",
      "text/plain": [
       "<Figure size 640x480 with 1 Axes>"
      ]
     },
     "metadata": {},
     "output_type": "display_data"
    }
   ],
   "source": [
    "import matplotlib.pyplot as plt\n",
    "\n",
    "# Code for Line Plot of Used Car Prices Over the Index\n",
    "plt.plot(used_cars_df['price'], color='purple')\n",
    "plt.xlabel('Index')\n",
    "plt.ylabel('Used Car Price')\n",
    "plt.title('Line Plot of Used Car Prices')\n",
    "plt.show()\n"
   ]
  },
  {
   "cell_type": "markdown",
   "id": "440810f7-eafc-44f8-a2e6-b1e2b2bc46e2",
   "metadata": {},
   "source": [
    "**Insights**:\n",
    "\n",
    "This line plot illustrates used car price trends across the dataset.\n",
    "\n",
    "Frequent fluctuations in prices indicate a diverse range of used cars, spanning different brands, models, and conditions.\n",
    "\n",
    "Sudden price spikes suggest the presence of luxury vehicles or rare high-value listings, which stand out from the majority of listings.\n",
    "\n",
    "The dense lower price range suggests that most used cars in the dataset fall within a more affordable price bracket.\n",
    "\n",
    "Further analysis using moving averages or smoothing techniques could help reveal long-term pricing patterns and trends in the used car market. 🚗📊"
   ]
  },
  {
   "cell_type": "markdown",
   "id": "758460be-dfd1-45ce-a329-c6bd249d2f5a",
   "metadata": {},
   "source": [
    "### 📌 Bar Charts: Representing Categorical Data\n",
    "\n",
    "**Definition**:\n",
    "A bar chart is used to visualize the frequency of categorical variables by representing them with bars of varying heights.\n",
    "\n",
    "**Why Use It?**\n",
    "\n",
    "Best for comparing categorical data.\n",
    "\n",
    "Highlights dominant categories and distributions.\n",
    "\n",
    "Easy to interpret.\n",
    "\n",
    "Example: Bar Chart of Used Car Fuel Types"
   ]
  },
  {
   "cell_type": "code",
   "execution_count": 257,
   "id": "35ea814c-5c58-4681-842c-c9a44e97ef0f",
   "metadata": {},
   "outputs": [
    {
     "data": {
      "image/png": "[encoded data removed]",
      "text/plain": [
       "<Figure size 800x500 with 1 Axes>"
      ]
     },
     "metadata": {},
     "output_type": "display_data"
    },
    {
     "data": {
      "text/plain": [
       "fuel_type\n",
       "Gasoline          3309\n",
       "Hybrid             194\n",
       "E85 Flex Fuel      139\n",
       "Diesel             116\n",
       "–                   45\n",
       "Plug-In Hybrid      34\n",
       "not supported        2\n",
       "Name: count, dtype: int64"
      ]
     },
     "execution_count": 257,
     "metadata": {},
     "output_type": "execute_result"
    }
   ],
   "source": [
    "import pandas as pd\n",
    "import matplotlib.pyplot as plt\n",
    "\n",
    "# Load the dataset (Ensure 'used_cars.csv' is in the same directory)\n",
    "file_path = \"used_cars.csv\"\n",
    "df = pd.read_csv(file_path)\n",
    "\n",
    "# Count occurrences of each fuel type\n",
    "fuel_counts = df['fuel_type'].value_counts()\n",
    "\n",
    "# Plot the bar chart\n",
    "plt.figure(figsize=(8, 5))\n",
    "plt.bar(fuel_counts.index, fuel_counts.values, color='lightcoral')\n",
    "plt.xlabel('Fuel Type')\n",
    "plt.ylabel('Count')\n",
    "plt.title('Bar Chart of Used Car Fuel Types')\n",
    "plt.xticks(rotation=45)  # Rotate labels for better readability\n",
    "plt.show()\n",
    "\n",
    "# Display the fuel type distribution\n",
    "fuel_counts\n"
   ]
  },
  {
   "cell_type": "markdown",
   "id": "4ddd9889-33c8-4b57-bffc-f7778ab7d803",
   "metadata": {},
   "source": [
    "**Insights**:\n",
    "\n",
    "Gasoline dominates the used car market, making up the vast majority of vehicles in the dataset.\n",
    "\n",
    "Hybrid and E85 Flex Fuel cars represent a small portion of the listings, indicating a lower supply of alternative fuel vehicles.\n",
    "\n",
    "Diesel vehicles are even less common, likely due to shifts in consumer preference and regulatory restrictions.\n",
    "\n",
    "The presence of \"not supported\" or unclear fuel type entries suggests potential data inconsistencies or missing values.\n",
    "The limited number of Plug-in Hybrid vehicles suggests that electric or hybrid technology is still emerging in the used car market.\n",
    "\n",
    "This analysis highlights the continued reliance on traditional gasoline-powered cars, with alternative fuel types representing only a small fraction of available used vehicles.🚗📊"
   ]
  },
  {
   "cell_type": "markdown",
   "id": "72b9a611-2022-4946-b73b-85765be53159",
   "metadata": {},
   "source": [
    "### 📌 Heatmaps: Visualizing Relationships Between Variables"
   ]
  },
  {
   "cell_type": "markdown",
   "id": "319af4ee-c24d-44a1-95a6-d5aa87ae024d",
   "metadata": {},
   "source": [
    "**Definition:**\n",
    "\n",
    "A heatmap is a graphical representation of data that uses color intensity to illustrate the strength of relationships between variables in a dataset. It is particularly useful for **correlation analysis**, helping to uncover patterns in large datasets."
   ]
  },
  {
   "cell_type": "markdown",
   "id": "15ff2c32-d58a-44df-b0d1-3055fdb4f1ae",
   "metadata": {},
   "source": [
    "**Why Use It?**\n",
    "\n",
    "✔ **Identifies Strong & Weak Correlations** – Highlights positive and negative relationships between numerical variables.\n",
    "\n",
    "✔ **Detects Multicollinearity** – Helps identify redundant features that can be removed to improve model performance.\n",
    "\n",
    "✔ **Aids in Feature Selection** – Helps decide which variables to keep or remove based on their influence on the target variable.\n",
    "\n",
    "✔ **Provides a Holistic View of Data Relationships** – Makes it visually easy to interpret patterns across multiple features.\n",
    "\n",
    "\n",
    "Example: Heatmap of the Correlation Matrix for Used Car Features"
   ]
  },
  {
   "cell_type": "code",
   "execution_count": 262,
   "id": "1af0d79d-ed68-4536-8b74-a57d055e6981",
   "metadata": {},
   "outputs": [
    {
     "data": {
      "image/png": "[encoded data removed]",
      "text/plain": [
       "<Figure size 1000x800 with 2 Axes>"
      ]
     },
     "metadata": {},
     "output_type": "display_data"
    }
   ],
   "source": [
    "import pandas as pd\n",
    "import seaborn as sns\n",
    "import matplotlib.pyplot as plt\n",
    "import numpy as np\n",
    "\n",
    "# Load the dataset (Ensure 'used_cars.csv' is in the same directory)\n",
    "file_path = \"used_cars.csv\"\n",
    "df = pd.read_csv(file_path)\n",
    "\n",
    "# Convert 'milage' to a numeric format by removing non-numeric characters\n",
    "df['milage'] = df['milage'].str.replace(\" mi.\", \"\").str.replace(\",\", \"\").astype(float)\n",
    "\n",
    "# Select only numerical columns\n",
    "numeric_cars_df = df.select_dtypes(include=[np.number])\n",
    "\n",
    "# Compute the correlation matrix\n",
    "correlation_matrix = numeric_cars_df.corr()\n",
    "\n",
    "# Plot the heatmap\n",
    "plt.figure(figsize=(10, 8))\n",
    "sns.heatmap(correlation_matrix, annot=True, cmap='coolwarm', linewidths=0.5)\n",
    "plt.title('Correlation Heatmap of Used Car Features')\n",
    "plt.show()\n"
   ]
  },
  {
   "cell_type": "markdown",
   "id": "06e9a8c0-76ee-4d9a-ade7-a85bcc4f3abd",
   "metadata": {},
   "source": [
    "**Insights**:\n",
    "\n",
    "Negative Correlation Between Mileage and Price (-0.31)\n",
    "\n",
    "Higher mileage generally results in lower car prices, which is expected as more usage leads to depreciation.\n",
    "Negative Correlation Between Model Year and Mileage (-0.62)\n",
    "\n",
    "Newer cars tend to have lower mileage, while older cars have higher mileage, which makes sense in terms of vehicle usage over time.\n",
    "Weak Positive Correlation Between Model Year and Price (0.2)\n",
    "\n",
    "While newer cars are generally more expensive, the correlation is weak, indicating that factors like brand, condition, and features also significantly impact pricing. 🚗📊"
   ]
  },
  {
   "cell_type": "markdown",
   "id": "54604f04-24f0-4aa3-9398-9b6adf5979a1",
   "metadata": {},
   "source": [
    "## 📌 Pair Plots: Visualizing Relationships Between Variables\n",
    "\n",
    "**Definition:**\n",
    "\n",
    "A **pair plot** (also called a scatterplot matrix) shows **pairwise relationships** between multiple variables in a dataset. It provides a quick way to explore correlations and patterns.\n",
    "\n",
    "**Why Use It?**\n",
    "\n",
    "Helps visualize relationships between multiple numerical variables.\n",
    "\n",
    "Identifies potential **correlations** between variables.\n",
    "\n",
    "Reveals **clusters, trends, and outliers** in the data.\n",
    "\n",
    "Example: Pair Plot of Used Car Price vs. Mileage"
   ]
  },
  {
   "cell_type": "code",
   "execution_count": 266,
   "id": "06405a23-74b6-469d-a0d3-5e71aab9255f",
   "metadata": {},
   "outputs": [
    {
     "data": {
      "image/png": "[encoded data removed]",
      "text/plain": [
       "<Figure size 500x500 with 6 Axes>"
      ]
     },
     "metadata": {},
     "output_type": "display_data"
    }
   ],
   "source": [
    "import pandas as pd\n",
    "import seaborn as sns\n",
    "import matplotlib.pyplot as plt\n",
    "\n",
    "# Load the dataset (Ensure 'used_cars.csv' is in the same directory)\n",
    "file_path = \"used_cars.csv\"\n",
    "df = pd.read_csv(file_path)\n",
    "\n",
    "# Convert 'milage' to a numeric format by removing non-numeric characters\n",
    "df['milage'] = df['milage'].str.replace(\" mi.\", \"\").str.replace(\",\", \"\").astype(float)\n",
    "\n",
    "# Convert 'price' to a numeric format by removing non-numeric characters\n",
    "df['price'] = df['price'].str.replace(\"$\", \"\").str.replace(\",\", \"\").astype(float)\n",
    "\n",
    "# Select only relevant numerical columns\n",
    "numeric_cars_df = df[['milage', 'price']]\n",
    "\n",
    "# Generate a pair plot for 'milage' and 'price'\n",
    "sns.pairplot(numeric_cars_df, diag_kind='kde', plot_kws={'color': 'orange'})\n",
    "\n",
    "# Set title\n",
    "plt.suptitle('Pair Plot of Used Car Price vs Mileage', y=1.02)\n",
    "plt.show()\n"
   ]
  },
  {
   "cell_type": "markdown",
   "id": "da40621c-3239-4deb-b323-773b9e8ac37c",
   "metadata": {},
   "source": [
    "### 📊 Insights from the Pair Plot\n",
    "\n",
    "1. **Negative Correlation Between Mileage and Price:**  \n",
    "   - The scatter plot indicates a **downward trend**, meaning that as **mileage increases**, car prices tend to **decrease**.\n",
    "\n",
    "2. **Right-Skewed Distributions:**  \n",
    "   - The **mileage histogram** is **right-skewed**, showing that most used cars have **low to moderate mileage**, with a few high-mileage vehicles.\n",
    "   - The **price histogram** is also **right-skewed**, indicating that **most cars are priced on the lower end**, while a few **luxury or rare models** have extremely high prices.\n",
    "\n",
    "3. **Presence of Outliers:**  \n",
    "   - Some **high-mileage cars still have high prices**, suggesting they may be **premium brands** or **well-maintained** models.\n",
    "   - Some **low-mileage cars have surprisingly low prices**, possibly due to **damage, poor condition, or urgent sales**.\n",
    "\n",
    "4. **Further Analysis Needed:**  \n",
    "   - It may be useful to investigate additional features like **brand, car condition, or accident history** to understand the factors influencing **price fluctuations**.\n",
    "\n",
    "---\n"
   ]
  },
  {
   "cell_type": "markdown",
   "id": "4130a266-b58e-46a3-9e4d-cab20de15ef8",
   "metadata": {},
   "source": [
    "## 📌 Correlation Analysis: Understanding Variable Relationships\n",
    "\n",
    "**Definition:**\n",
    "\n",
    "Correlation analysis measures the strength and direction of the relationship between two numerical variables. It helps determine whether variables move together (**positive correlation**) or in opposite directions (**negative correlation**).\n",
    "\n",
    "**Why Use It?**\n",
    "\n",
    "Helps identify **relationships** between features in a dataset.\n",
    "\n",
    "Useful for **feature selection** in predictive modeling.\n",
    "\n",
    "Detects potential **multicollinearity** issues in regression models.\n",
    "\n",
    "Example: Calculating Pearson and Spearman Correlation Between Used Car Price & Mileage"
   ]
  },
  {
   "cell_type": "code",
   "execution_count": 269,
   "id": "82527e95-b92d-4631-a280-117bb7c695aa",
   "metadata": {},
   "outputs": [
    {
     "data": {
      "text/plain": [
       "(-0.30552806892818085, -0.7551740977817057)"
      ]
     },
     "execution_count": 269,
     "metadata": {},
     "output_type": "execute_result"
    }
   ],
   "source": [
    "import pandas as pd\n",
    "\n",
    "# Load the dataset (Ensure 'used_cars.csv' is in the same directory)\n",
    "file_path = \"used_cars.csv\"\n",
    "df = pd.read_csv(file_path)\n",
    "\n",
    "# Convert 'milage' to a numeric format by removing non-numeric characters\n",
    "df['milage'] = df['milage'].str.replace(\" mi.\", \"\").str.replace(\",\", \"\").astype(float)\n",
    "\n",
    "# Convert 'price' to a numeric format by removing non-numeric characters\n",
    "df['price'] = df['price'].str.replace(\"$\", \"\").str.replace(\",\", \"\").astype(float)\n",
    "\n",
    "# Calculate Pearson and Spearman correlation\n",
    "pearson_corr = df['price'].corr(df['milage'], method='pearson')\n",
    "spearman_corr = df['price'].corr(df['milage'], method='spearman')\n",
    "\n",
    "# Display the correlation values\n",
    "pearson_corr, spearman_corr\n"
   ]
  },
  {
   "cell_type": "markdown",
   "id": "37f37fb1-4ced-4880-bf46-db75ea23cd45",
   "metadata": {},
   "source": [
    "### 📊 Insights from Correlation Analysis\n",
    "\n",
    "1. **Pearson Correlation (-0.31):**  \n",
    "   - Indicates a **moderate negative linear relationship** between mileage and price.  \n",
    "   - As mileage increases, car prices **tend to decrease**, but the effect is not perfectly linear.  \n",
    "   - Other factors such as brand, condition, and features likely influence pricing.\n",
    "\n",
    "2. **Spearman Correlation (-0.76):**  \n",
    "   - Shows a **stronger negative rank correlation**, meaning that as **mileage increases, car price ranks decrease significantly**.  \n",
    "   - This suggests that **higher mileage leads to sharper price drops** in relative terms.\n",
    "\n",
    "3. **Non-Linear Relationship:**  \n",
    "   - The **stronger Spearman correlation** compared to Pearson suggests a **non-linear pattern** in how mileage affects price.  \n",
    "   - This means price depreciation might **accelerate at higher mileage thresholds**, likely due to increased wear and tear.\n",
    "\n",
    "---\n",
    "\n",
    "### 🔍 Key Takeaway:\n",
    "The correlation results indicate that **higher mileage significantly impacts resale value**, with sharper declines for **older, high-mileage cars**. 🚗📉\n"
   ]
  },
  {
   "cell_type": "markdown",
   "id": "f4e47e61-f88e-45ed-a4df-6d1dc553ddba",
   "metadata": {},
   "source": [
    "## 📌 Outlier Detection Using Z-Score Analysis"
   ]
  },
  {
   "cell_type": "markdown",
   "id": "10fa7543-af40-49b5-9d0d-b506e4233058",
   "metadata": {},
   "source": [
    "**Definition:**\n",
    "\n",
    "Outlier detection helps identify **data points that significantly differ** from the rest of the dataset. The **Z-score method** detects outliers by measuring how many standard deviations a data point is from the mean.\n",
    "\n",
    "**Why Use It?**\n",
    "\n",
    "Helps detect **extreme values** that may skew analysis.\n",
    "\n",
    "Prevents **biased results** in machine learning models.\n",
    "\n",
    "Ensures **data consistency and reliability** before further processing.\n",
    "\n",
    "Example: Detecting Outliers in Used Car Prices"
   ]
  },
  {
   "cell_type": "code",
   "execution_count": 273,
   "id": "671c9f66-fdf4-415c-902b-5dbe49140691",
   "metadata": {},
   "outputs": [
    {
     "name": "stdout",
     "output_type": "stream",
     "text": [
      "Number of outliers detected using Z-Score method: 31\n"
     ]
    }
   ],
   "source": [
    "import pandas as pd\n",
    "import numpy as np\n",
    "\n",
    "# Load the dataset (Ensure 'used_cars.csv' is in the same directory)\n",
    "file_path = \"used_cars.csv\"\n",
    "df = pd.read_csv(file_path)\n",
    "\n",
    "# Convert 'price' to a numeric format by removing non-numeric characters\n",
    "df['price'] = df['price'].str.replace(\"$\", \"\").str.replace(\",\", \"\").astype(float)\n",
    "\n",
    "# Compute Z-scores for the 'price' column\n",
    "z_scores = (df['price'] - df['price'].mean()) / df['price'].std()\n",
    "\n",
    "# Identify outliers (values beyond 3 standard deviations)\n",
    "outliers_zscore = df[np.abs(z_scores) > 3]\n",
    "\n",
    "# Print number of outliers detected\n",
    "print(\"Number of outliers detected using Z-Score method:\", len(outliers_zscore))\n"
   ]
  },
  {
   "cell_type": "markdown",
   "id": "9dd5a53e-fa50-412e-a4e1-b90d34e59e7d",
   "metadata": {},
   "source": [
    "**Insights:**\n",
    "\n",
    "1. **Outliers Detected: 31**  \n",
    "   - A total of **31 used car price outliers** were found based on the Z-score method.\n",
    "   - These **extreme values** may indicate **luxury vehicles, rare models, or possible data errors**.\n",
    "\n",
    "2. **Why Outlier Detection Matters:**  \n",
    "   - Extreme values can **skew the dataset** and impact statistical models.\n",
    "   - Outliers may cause **biased results in machine learning** if not handled properly.\n",
    "\n",
    "3. **Possible Actions for Handling Outliers:**  \n",
    "   - **Remove outliers** if they distort overall trends.\n",
    "   - **Cap extreme values** to prevent excessive influence on analysis.\n",
    "   - **Analyze separately** to understand the reasons behind high or low price points.\n",
    "\n",
    "---\n",
    "\n",
    "### 🔍 Key Takeaway:\n",
    "Outlier detection helps maintain **data consistency and reliability**, ensuring more **accurate insights and modeling results**. 🚗📊"
   ]
  },
  {
   "cell_type": "markdown",
   "id": "8b31974d-7077-4966-bd7a-516c71e481e8",
   "metadata": {},
   "source": [
    "## 📌 Missing Value Analysis\n",
    "\n",
    "**Definition:**\n",
    "\n",
    "Missing value analysis helps identify **gaps in data** that may affect analysis, modeling, and decision-making.\n",
    "\n",
    "**Why Use It?**\n",
    "\n",
    "Missing values can **skew results** and introduce **bias** in models.\n",
    "\n",
    "Helps in deciding **data imputation strategies** (e.g., mean, median, mode replacement).\n",
    "\n",
    "Ensures **data completeness** before proceeding with further analysis.\n",
    "\n",
    "Example: Checking for Missing Values in Used Car Dataset"
   ]
  },
  {
   "cell_type": "code",
   "execution_count": 277,
   "id": "beabfd09-79bc-4933-b3d7-93b280f7bdf5",
   "metadata": {},
   "outputs": [
    {
     "name": "stdout",
     "output_type": "stream",
     "text": [
      "brand             0\n",
      "model             0\n",
      "model_year        0\n",
      "milage            0\n",
      "fuel_type       170\n",
      "engine            0\n",
      "transmission      0\n",
      "ext_col           0\n",
      "int_col           0\n",
      "accident        113\n",
      "clean_title     596\n",
      "price             0\n",
      "dtype: int64\n"
     ]
    }
   ],
   "source": [
    "import pandas as pd\n",
    "\n",
    "# Load the dataset (Ensure 'used_cars.csv' is in the same directory)\n",
    "file_path = \"used_cars.csv\"\n",
    "df = pd.read_csv(file_path)\n",
    "\n",
    "# Check for missing values in the dataset\n",
    "missing_values = df.isnull().sum()\n",
    "\n",
    "# Display missing values per column\n",
    "print(missing_values)\n"
   ]
  },
  {
   "cell_type": "markdown",
   "id": "2b685b7b-85bd-4763-95d7-c916ebf19245",
   "metadata": {},
   "source": [
    "**Insights:**\n",
    "\n",
    "### 🔍 Missing Value Analysis\n",
    "\n",
    "1. **Missing Values Detected:**  \n",
    "   - **fuel_type:** 170 missing values  \n",
    "   - **accident:** 113 missing values  \n",
    "   - **clean_title:** 596 missing values  \n",
    "\n",
    "2. **Why It Matters:**  \n",
    "   - Missing values can **distort analysis** and introduce **bias** in models.\n",
    "   - Identifying and handling missing data ensures **data integrity and reliability**.\n",
    "\n",
    "3. **Possible Strategies for Handling Missing Data:**  \n",
    "   - **Remove rows** with missing values if they are few and won't significantly impact the dataset.\n",
    "   - **Impute missing values** using statistical techniques (e.g., mode for categorical data, mean/median for numerical data).\n",
    "   - **Use advanced techniques** like regression or deep learning for missing value prediction.\n",
    "\n",
    "---\n",
    "\n",
    "### ✅ Key Takeaway:\n",
    "Handling missing values is **crucial for accurate data analysis and modeling**, ensuring **better decision-making** and **robust predictions**. 🚗📊\n"
   ]
  },
  {
   "cell_type": "markdown",
   "id": "5ce63717-a0a0-4d25-8adb-87ad369c51f2",
   "metadata": {},
   "source": [
    "## 📌 IQR (Interquartile Range) Method for Outlier Detection\n",
    "**Definition:**\n",
    "\n",
    "The **IQR method** identifies outliers by measuring the spread of the middle 50% of data. It flags values that are significantly higher or lower than the normal range.\n",
    "\n",
    "**Why Use It?**\n",
    "\n",
    "Helps detect **extreme values** that might distort analysis.\n",
    "\n",
    "More **robust to skewed data** compared to standard deviation-based methods.\n",
    "\n",
    "Essential for **cleaning datasets** before modeling.\n",
    "\n",
    "Example: Detecting Outliers in Used Car Prices"
   ]
  },
  {
   "cell_type": "code",
   "execution_count": 280,
   "id": "da702dbd-39c0-44ee-8aac-4133c2278884",
   "metadata": {},
   "outputs": [
    {
     "name": "stdout",
     "output_type": "stream",
     "text": [
      "Number of outliers detected using IQR method: 244\n"
     ]
    }
   ],
   "source": [
    "import pandas as pd\n",
    "\n",
    "# Load the dataset (Ensure 'used_cars.csv' is in the same directory)\n",
    "file_path = \"used_cars.csv\"\n",
    "df = pd.read_csv(file_path)\n",
    "\n",
    "# Convert 'price' to a numeric format by removing non-numeric characters\n",
    "df['price'] = df['price'].str.replace(\"$\", \"\").str.replace(\",\", \"\").astype(float)\n",
    "\n",
    "# Compute Q1 (25th percentile) and Q3 (75th percentile) for price\n",
    "Q1 = df['price'].quantile(0.25)\n",
    "Q3 = df['price'].quantile(0.75)\n",
    "IQR = Q3 - Q1  # Compute Interquartile Range (IQR)\n",
    "\n",
    "# Identify outliers using the IQR method\n",
    "outliers_iqr = df[(df['price'] < Q1 - 1.5 * IQR) | (df['price'] > Q3 + 1.5 * IQR)]\n",
    "\n",
    "# Print the number of detected outliers\n",
    "print(\"Number of outliers detected using IQR method:\", len(outliers_iqr))\n"
   ]
  },
  {
   "cell_type": "markdown",
   "id": "7c56d64f-ee23-4df7-948c-2e7206806311",
   "metadata": {},
   "source": [
    "**Insights:**\n",
    "\n",
    "### 📊 IQR (Interquartile Range) Method for Outlier Detection\n",
    "\n",
    "1. **Outliers Detected:**  \n",
    "   - **244 used car price outliers** were identified using the IQR method.\n",
    "\n",
    "2. **Why It Matters:**  \n",
    "   - Outliers represent **extreme values** that might **distort analysis**.\n",
    "   - The IQR method is **robust to skewed data** compared to standard deviation-based techniques.\n",
    "\n",
    "3. **Possible Actions for Handling Outliers:**  \n",
    "   - **Remove outliers** if they are due to data entry errors.\n",
    "   - **Cap extreme values** to reduce their impact on analysis.\n",
    "   - **Transform data** using techniques like log scaling to normalize distributions.\n",
    "\n",
    "---\n",
    "\n",
    "### ✅ Key Takeaway:\n",
    "Outlier detection using **IQR** helps ensure **cleaner datasets**, improving the accuracy of **statistical analysis and machine learning models**. 🚗📉\n"
   ]
  },
  {
   "cell_type": "markdown",
   "id": "fba57224-e263-4d9d-b8ce-4fb72bafb2fa",
   "metadata": {},
   "source": [
    "## 📌 Imputation: Handling Missing Values\n",
    "**Definition:**\n",
    "\n",
    "Imputation is the process of **filling in missing values** in a dataset to maintain its integrity and usability for analysis and modeling.\n",
    "\n",
    "**Why Use It?**\n",
    "\n",
    "Prevents **data loss** from dropping missing values.\n",
    "\n",
    "Improves the **accuracy of statistical models.**\n",
    "\n",
    "Maintains **dataset consistency** for analysis.\n",
    "\n",
    "Example: Filling Missing Values in Used Car Dataset with the Mean"
   ]
  },
  {
   "cell_type": "code",
   "execution_count": 283,
   "id": "96d10569-6575-4161-9c39-710446f8b43e",
   "metadata": {},
   "outputs": [
    {
     "name": "stdout",
     "output_type": "stream",
     "text": [
      "brand             0\n",
      "model             0\n",
      "model_year        0\n",
      "milage            0\n",
      "fuel_type       170\n",
      "engine            0\n",
      "transmission      0\n",
      "ext_col           0\n",
      "int_col           0\n",
      "accident        113\n",
      "clean_title     596\n",
      "price             0\n",
      "dtype: int64\n"
     ]
    }
   ],
   "source": [
    "import pandas as pd\n",
    "\n",
    "# Load the dataset (Ensure 'used_cars.csv' is in the same directory)\n",
    "file_path = \"used_cars.csv\"\n",
    "df = pd.read_csv(file_path)\n",
    "\n",
    "# Select numeric columns with missing values\n",
    "numeric_cols = df.select_dtypes(include=['number']).columns\n",
    "\n",
    "# Fill missing values in numeric columns using mean imputation\n",
    "df[numeric_cols] = df[numeric_cols].fillna(df[numeric_cols].mean())\n",
    "\n",
    "# Verify that missing values have been handled\n",
    "missing_values_after_imputation = df.isnull().sum()\n",
    "print(missing_values_after_imputation)\n"
   ]
  },
  {
   "cell_type": "markdown",
   "id": "8dc7a595-51c0-4951-bac4-b13c082df54f",
   "metadata": {},
   "source": [
    "**Insights:**\n",
    "\n",
    "### 🛠️ Imputation: Handling Missing Values\n",
    "\n",
    "1. **Missing Values After Imputation:**  \n",
    "   - **All numeric columns** now have **no missing values** after applying mean imputation.\n",
    "   - **Non-numeric columns** still contain missing values:\n",
    "     - **fuel_type:** 170 missing values  \n",
    "     - **accident:** 113 missing values  \n",
    "     - **clean_title:** 596 missing values  \n",
    "\n",
    "2. **Why Mean Imputation?**  \n",
    "   - Works best for **normally distributed** numerical data.\n",
    "   - Helps **preserve dataset size** instead of dropping rows.\n",
    "\n",
    "3. **Handling Non-Numeric Missing Values:**  \n",
    "   - **Mode Imputation** (most frequent value) for categorical variables like **fuel_type**.\n",
    "   - **Boolean Flagging** (e.g., 0/1 encoding) for missing **accident or clean_title** data.\n",
    "   - **Advanced Techniques** (KNN imputation, regression, deep learning) for more accurate estimation.\n",
    "\n",
    "---\n",
    "\n",
    "### ✅ Key Takeaway:\n",
    "Mean imputation ensures **data consistency and prevents data loss**, making the dataset more reliable for **further analysis and machine learning models**. 🚗📊\n"
   ]
  },
  {
   "cell_type": "markdown",
   "id": "287032c3-5b1c-4959-bf82-31ba7e6aac27",
   "metadata": {},
   "source": [
    "## 📌 Feature Engineering: Creating Informative Variables\n",
    "**Definition:**\n",
    "Feature engineering involves **combining or transforming existing variables** to create more informative features for analysis and modeling.\n",
    "\n",
    "**Why Use It?**\n",
    "\n",
    "Enhances **predictive power** by normalizing or modifying raw data.\n",
    "\n",
    "Helps uncover **hidden relationships** in the dataset.\n",
    "\n",
    "Can improve **model performance** by creating more relevant input variables.\n",
    "\n",
    "Example: Creating 'PRICE_PER_YEAR'\n",
    "\n",
    "This feature represents the price per year of the car's age, helping to standardize pricing across different models."
   ]
  },
  {
   "cell_type": "code",
   "execution_count": 286,
   "id": "efe15d02-2722-46a4-8796-734442365a33",
   "metadata": {},
   "outputs": [
    {
     "data": {
      "text/html": [
       "<div>\n",
       "<style scoped>\n",
       "    .dataframe tbody tr th:only-of-type {\n",
       "        vertical-align: middle;\n",
       "    }\n",
       "\n",
       "    .dataframe tbody tr th {\n",
       "        vertical-align: top;\n",
       "    }\n",
       "\n",
       "    .dataframe thead th {\n",
       "        text-align: right;\n",
       "    }\n",
       "</style>\n",
       "<table border=\"1\" class=\"dataframe\">\n",
       "  <thead>\n",
       "    <tr style=\"text-align: right;\">\n",
       "      <th></th>\n",
       "      <th>model_year</th>\n",
       "      <th>price</th>\n",
       "      <th>PRICE_PER_YEAR</th>\n",
       "    </tr>\n",
       "  </thead>\n",
       "  <tbody>\n",
       "    <tr>\n",
       "      <th>0</th>\n",
       "      <td>2013</td>\n",
       "      <td>10300.0</td>\n",
       "      <td>936.363636</td>\n",
       "    </tr>\n",
       "    <tr>\n",
       "      <th>1</th>\n",
       "      <td>2021</td>\n",
       "      <td>38005.0</td>\n",
       "      <td>12668.333333</td>\n",
       "    </tr>\n",
       "    <tr>\n",
       "      <th>2</th>\n",
       "      <td>2022</td>\n",
       "      <td>54598.0</td>\n",
       "      <td>27299.000000</td>\n",
       "    </tr>\n",
       "    <tr>\n",
       "      <th>3</th>\n",
       "      <td>2015</td>\n",
       "      <td>15500.0</td>\n",
       "      <td>1722.222222</td>\n",
       "    </tr>\n",
       "    <tr>\n",
       "      <th>4</th>\n",
       "      <td>2021</td>\n",
       "      <td>34999.0</td>\n",
       "      <td>11666.333333</td>\n",
       "    </tr>\n",
       "  </tbody>\n",
       "</table>\n",
       "</div>"
      ],
      "text/plain": [
       "   model_year    price  PRICE_PER_YEAR\n",
       "0        2013  10300.0      936.363636\n",
       "1        2021  38005.0    12668.333333\n",
       "2        2022  54598.0    27299.000000\n",
       "3        2015  15500.0     1722.222222\n",
       "4        2021  34999.0    11666.333333"
      ]
     },
     "execution_count": 286,
     "metadata": {},
     "output_type": "execute_result"
    }
   ],
   "source": [
    "import pandas as pd\n",
    "\n",
    "# Load the dataset (Ensure 'used_cars.csv' is in the same directory)\n",
    "file_path = \"used_cars.csv\"\n",
    "df = pd.read_csv(file_path)\n",
    "\n",
    "# Convert 'model_year' to an integer (remove non-numeric characters if needed)\n",
    "df['model_year'] = df['model_year'].astype(int)\n",
    "\n",
    "# Convert 'price' to a numeric format by removing non-numeric characters\n",
    "df['price'] = df['price'].str.replace(\"$\", \"\").str.replace(\",\", \"\").astype(float)\n",
    "\n",
    "# Check if 'model_year' exists in the dataset before creating the new feature\n",
    "if 'model_year' in df.columns:\n",
    "    df['PRICE_PER_YEAR'] = df['price'] / (2024 - df['model_year'])\n",
    "else:\n",
    "    print(\"Column for car manufacturing year not found!\")\n",
    "\n",
    "# Display the first few rows of the new feature\n",
    "df[['model_year', 'price', 'PRICE_PER_YEAR']].head()\n"
   ]
  },
  {
   "cell_type": "markdown",
   "id": "8dd43966-765e-401b-b1bf-c5c3480d39cb",
   "metadata": {},
   "source": [
    "**Insights:**\n",
    "\n",
    "### 🚀 Feature Engineering: Creating Informative Variables\n",
    "\n",
    "1. **New Feature - `PRICE_PER_YEAR`:**  \n",
    "   - This feature calculates **price per year of car age**, helping standardize pricing across different models.\n",
    "\n",
    "2. **Why It’s Useful:**  \n",
    "   - **Normalizes used car prices** by accounting for vehicle age.\n",
    "   - Higher `PRICE_PER_YEAR` values may indicate **premium models or well-maintained vehicles**.\n",
    "\n",
    "3. **Potential Use Cases:**  \n",
    "   - Can be used in **regression models** to predict car pricing more accurately.\n",
    "   - Helps **identify depreciation trends** across different brands and models.\n",
    "\n",
    "---\n",
    "\n",
    "### ✅ Key Takeaway:\n",
    "Feature engineering enhances **predictive power** by transforming raw data into **more informative variables**, improving **model performance**. 🚗📊\n"
   ]
  },
  {
   "cell_type": "markdown",
   "id": "586625da-e5f6-4852-9752-0beb4c0c1b15",
   "metadata": {},
   "source": [
    "## 📌 Time Series Analysis: House Prices Over Time\n",
    "**Definition:**\n",
    "\n",
    "Time series analysis helps identify **long-term trends, seasonal patterns, and fluctuations** in data over time.\n",
    "\n",
    "**Why Use It?**\n",
    "\n",
    "Helps analyze **market trends** in house prices.\n",
    "\n",
    "Identifies **fluctuations and anomalies.**\n",
    "\n",
    "Useful for predicting future prices based on past trends.\n",
    "\n",
    "📊 Code for Trend Analysis"
   ]
  },
  {
   "cell_type": "code",
   "execution_count": 289,
   "id": "0a7e25d9-0910-4267-a100-b9f600b1de9a",
   "metadata": {},
   "outputs": [
    {
     "data": {
      "image/png": "[encoded data removed]",
      "text/plain": [
       "<Figure size 1000x500 with 1 Axes>"
      ]
     },
     "metadata": {},
     "output_type": "display_data"
    }
   ],
   "source": [
    "import pandas as pd\n",
    "import matplotlib.pyplot as plt\n",
    "\n",
    "# Load the dataset (Ensure 'used_cars.csv' is in the same directory)\n",
    "file_path = \"used_cars.csv\"\n",
    "df = pd.read_csv(file_path)\n",
    "\n",
    "# Convert 'price' to a numeric format by removing non-numeric characters\n",
    "df['price'] = df['price'].str.replace(\"$\", \"\").str.replace(\",\", \"\").astype(float)\n",
    "\n",
    "# Plot time series analysis for used car prices\n",
    "plt.figure(figsize=(10, 5))\n",
    "plt.plot(df.index, df['price'], color='blue')\n",
    "plt.xlabel('Index')\n",
    "plt.ylabel('Used Car Price ($)')\n",
    "plt.title('Trend Analysis of Used Car Prices')\n",
    "plt.show()\n"
   ]
  },
  {
   "cell_type": "markdown",
   "id": "28c214ff-9171-4060-ab14-4eeba01d24e9",
   "metadata": {},
   "source": [
    "**Insights:**\n",
    "\n",
    "### 📈 Time Series Analysis: Used Car Prices Over Time\n",
    "\n",
    "1. **Price Fluctuations:**  \n",
    "   - The plot shows **high volatility** in used car prices.\n",
    "   - There are **significant peaks and drops**, indicating market changes.\n",
    "\n",
    "2. **Possible Causes of Price Variations:**  \n",
    "   - Sudden **spikes** might correspond to **luxury or rare models**.\n",
    "   - **Seasonal trends**, economic events, or demand shifts may affect prices.\n",
    "\n",
    "3. **Recommendations:**  \n",
    "   - Apply **smoothing techniques** like moving averages to identify long-term trends.\n",
    "   - Use **statistical models** (e.g., ARIMA) to forecast future price movements.\n",
    "\n",
    "---\n",
    "\n",
    "### ✅ Key Takeaway:\n",
    "Time series analysis reveals **market trends and pricing patterns**, helping in **forecasting used car prices** and making data-driven decisions. 🚗📊\n"
   ]
  },
  {
   "cell_type": "markdown",
   "id": "849e671b-00b0-4dcb-8a9a-1836f5c0f432",
   "metadata": {},
   "source": [
    "## 📌 Principal Component Analysis (PCA)\n",
    "**Definition:**\n",
    "\n",
    "PCA is a dimensionality reduction technique that transforms correlated features into a set of uncorrelated principal components while retaining as much variance as possible.\n",
    "\n",
    "**Why Use It?**\n",
    "Reduces dataset complexity while preserving important information.\n",
    "\n",
    "Helps **visualize high-dimensional data** in a lower-dimensional space.\n",
    "\n",
    "Removes redundant features, improving **model efficiency** and **performance**.\n",
    "\n",
    "📊 Code Implementation"
   ]
  },
  {
   "cell_type": "code",
   "execution_count": 292,
   "id": "4afb8542-4e15-4d14-a47b-38cce05b17e9",
   "metadata": {},
   "outputs": [
    {
     "name": "stdout",
     "output_type": "stream",
     "text": [
      "Not enough numerical features for PCA after preprocessing.\n"
     ]
    }
   ],
   "source": [
    "import pandas as pd\n",
    "import numpy as np\n",
    "from sklearn.decomposition import PCA\n",
    "\n",
    "# Load the dataset (Ensure 'used_cars.csv' is in the same directory)\n",
    "file_path = \"used_cars.csv\"\n",
    "df = pd.read_csv(file_path)\n",
    "\n",
    "# Convert 'price' to a numeric format by removing non-numeric characters\n",
    "df['price'] = df['price'].str.replace(\"$\", \"\").str.replace(\",\", \"\").astype(float)\n",
    "\n",
    "# Select only numeric columns for PCA\n",
    "numeric_cols = df.select_dtypes(include=['number']).columns\n",
    "df_numeric = df[numeric_cols]\n",
    "\n",
    "# Handle missing values by filling with column mean\n",
    "df_numeric = df_numeric.fillna(df_numeric.mean())\n",
    "\n",
    "# Drop constant columns (columns with only one unique value)\n",
    "df_numeric = df_numeric.loc[:, df_numeric.nunique() > 1]\n",
    "\n",
    "# Ensure no infinite or very large values exist\n",
    "df_numeric = df_numeric.replace([np.inf, -np.inf], np.nan).dropna()\n",
    "\n",
    "# Verify that there are at least 2 numerical features for PCA\n",
    "if df_numeric.shape[1] > 2:\n",
    "    # Initialize PCA with 2 components\n",
    "    pca = PCA(n_components=2)\n",
    "\n",
    "    # Fit PCA to the dataset, excluding the target variable 'price'\n",
    "    pca_result = pca.fit_transform(df_numeric.drop('price', axis=1))\n",
    "\n",
    "    # Display first 5 rows of the transformed dataset\n",
    "    print(pca_result[:5])\n",
    "else:\n",
    "    print(\"Not enough numerical features for PCA after preprocessing.\")\n"
   ]
  },
  {
   "cell_type": "markdown",
   "id": "299d6c50-bc2b-40c8-ab2d-fdf6955a1f5f",
   "metadata": {},
   "source": [
    "**Insights:**\n",
    "\n",
    "### ⚠️ PCA Preprocessing Issue: Not Enough Features\n",
    "\n",
    "1. **Why Did PCA Fail?**  \n",
    "   - After preprocessing, **too few numerical features** remained for PCA to work effectively.\n",
    "   - Likely causes:\n",
    "     - Many numerical columns were removed due to **missing values or constant values**.\n",
    "     - Dataset may already have **low dimensionality**.\n",
    "\n",
    "2. **How to Fix It?**  \n",
    "   - Check for **numeric columns before PCA preprocessing**:  \n",
    "     ```python\n",
    "     print(df_numeric.columns)\n",
    "     ```\n",
    "   - Adjust the **missing value handling strategy**:\n",
    "     - Instead of dropping, try **imputation (mean, median, or mode)**.\n",
    "   - Include additional **relevant features** if possible.\n",
    "\n",
    "3. **Alternative Approaches:**  \n",
    "   - Use **Feature Selection** (e.g., Variance Threshold, Mutual Information) to retain useful variables.\n",
    "   - If there are **categorical variables**, consider **encoding them (One-Hot Encoding, Label Encoding)**.\n",
    "\n",
    "---\n",
    "\n",
    "### ✅ Key Takeaway:\n",
    "PCA requires **at least two meaningful numerical features**. Review preprocessing steps to ensure **important features aren’t dropped**. 🚗📊\n"
   ]
  },
  {
   "cell_type": "markdown",
   "id": "b39e826e-118e-45bb-a222-704c3b801d14",
   "metadata": {},
   "source": [
    "## Why is Exploratory Data Analysis (EDA) Important?\n",
    "Exploratory Data Analysis (EDA) is a crucial step in data analysis because it helps us **understand the data better before applying models or making decisions**. Here’s why EDA is important:\n",
    "\n",
    "1. **Finding Errors in the Data**\n",
    "\n",
    "    EDA helps identify **mistakes, missing values, or unusual patterns** that might affect the results.\n",
    "   \n",
    "    Example: A company analyzing customer survey data might find **duplicate entries or incorrect values.**\n",
    "   \n",
    "2. **Checking Assumptions**\n",
    "\n",
    "    Before applying statistical models, we need to **verify if the data follows expected patterns.**\n",
    "\n",
    "    Example: If we assume that income and spending are related, EDA can confirm whether this is true.\n",
    "\n",
    "3. **Choosing the Right Model**\n",
    "\n",
    "    Different problems require different models. EDA helps **pick the best approach** for analysis.\n",
    "\n",
    "    Example: If data is **not normally distributed**, we might need a different statistical test.\n",
    "\n",
    "   \n",
    "4. **Discovering Patterns and Trends**\n",
    "\n",
    "    EDA helps **spot trends, relationships, and unusual data points.**\n",
    "\n",
    "    Example: A retail company analyzing sales data might find that **sales increase during weekends.**\n",
    "\n",
    "5. **Creating Hypotheses**\n",
    "\n",
    "    By looking at the data, we can **form ideas (hypotheses)** that we later test using statistical methods.\n",
    "\n",
    "    Example: In clinical trials, EDA can show that a **new drug works better for younger patients** than older ones.\n",
    "\n",
    "   \n",
    "### Examples of EDA in Action\n",
    "**📌 Market Research**\n",
    "\n",
    "A company studies customer survey responses to understand **buying habits, preferences, and trends.**\n",
    "\n",
    "**📌 Clinical Trials**\n",
    "\n",
    "Researchers analyze medical data to check **how a new drug affects different age groups.**\n",
    "\n",
    "**📌 Financial Data Analysis**\n",
    "Banks and investment firms use EDA to **spot trends in stock prices and detect fraud.**\n",
    "\n",
    "EDA is like **exploring a new city**—before making decisions, we first **look around, understand the layout, and find the best routes.** This step saves **time and improves accuracy** in any data-driven project! "
   ]
  },
  {
   "cell_type": "markdown",
   "id": "a8a8147b-deb7-4746-a563-4bbceebfcb9d",
   "metadata": {},
   "source": [
    "# Exploratory Data Analysis (EDA) on Used Car Dataset\n",
    "## 1. Understanding the Dataset\n",
    "Before analyzing the data, we first need to understand what it contains. The dataset consists of **7,253 records**, with details such as:\n",
    "\n",
    "**Car Name & Location** (brand, model, city of sale)\n",
    "\n",
    "**Manufacturing Year** (year the car was made)\n",
    "\n",
    "**Kilometers Driven** (distance the car has traveled)\n",
    "\n",
    "**Fuel Type & Transmission Type** (Petrol/Diesel/CNG, Manual/Automatic)\n",
    "\n",
    "**Owner Type** (First-hand, Second-hand, etc.)\n",
    "\n",
    "**Mileage, Engine Power, Seating Capacity**\n",
    "\n",
    "**New Price & Resale Price**\n",
    "\n",
    "## 💡 Why is this important?\n",
    "Understanding the dataset structure helps identify potential **missing values**, inconsistencies, and outliers that may affect our analysis.\n",
    "\n",
    "Loading and Previewing the Data"
   ]
  },
  {
   "cell_type": "code",
   "execution_count": 296,
   "id": "e6aec06a-f286-4ebd-9795-449a7f1eabf2",
   "metadata": {},
   "outputs": [
    {
     "data": {
      "text/html": [
       "<div>\n",
       "<style scoped>\n",
       "    .dataframe tbody tr th:only-of-type {\n",
       "        vertical-align: middle;\n",
       "    }\n",
       "\n",
       "    .dataframe tbody tr th {\n",
       "        vertical-align: top;\n",
       "    }\n",
       "\n",
       "    .dataframe thead th {\n",
       "        text-align: right;\n",
       "    }\n",
       "</style>\n",
       "<table border=\"1\" class=\"dataframe\">\n",
       "  <thead>\n",
       "    <tr style=\"text-align: right;\">\n",
       "      <th></th>\n",
       "      <th>brand</th>\n",
       "      <th>model</th>\n",
       "      <th>model_year</th>\n",
       "      <th>milage</th>\n",
       "      <th>fuel_type</th>\n",
       "      <th>engine</th>\n",
       "      <th>transmission</th>\n",
       "      <th>ext_col</th>\n",
       "      <th>int_col</th>\n",
       "      <th>accident</th>\n",
       "      <th>clean_title</th>\n",
       "      <th>price</th>\n",
       "    </tr>\n",
       "  </thead>\n",
       "  <tbody>\n",
       "    <tr>\n",
       "      <th>0</th>\n",
       "      <td>Ford</td>\n",
       "      <td>Utility Police Interceptor Base</td>\n",
       "      <td>2013</td>\n",
       "      <td>51,000 mi.</td>\n",
       "      <td>E85 Flex Fuel</td>\n",
       "      <td>300.0HP 3.7L V6 Cylinder Engine Flex Fuel Capa...</td>\n",
       "      <td>6-Speed A/T</td>\n",
       "      <td>Black</td>\n",
       "      <td>Black</td>\n",
       "      <td>At least 1 accident or damage reported</td>\n",
       "      <td>Yes</td>\n",
       "      <td>$10,300</td>\n",
       "    </tr>\n",
       "    <tr>\n",
       "      <th>1</th>\n",
       "      <td>Hyundai</td>\n",
       "      <td>Palisade SEL</td>\n",
       "      <td>2021</td>\n",
       "      <td>34,742 mi.</td>\n",
       "      <td>Gasoline</td>\n",
       "      <td>3.8L V6 24V GDI DOHC</td>\n",
       "      <td>8-Speed Automatic</td>\n",
       "      <td>Moonlight Cloud</td>\n",
       "      <td>Gray</td>\n",
       "      <td>At least 1 accident or damage reported</td>\n",
       "      <td>Yes</td>\n",
       "      <td>$38,005</td>\n",
       "    </tr>\n",
       "    <tr>\n",
       "      <th>2</th>\n",
       "      <td>Lexus</td>\n",
       "      <td>RX 350 RX 350</td>\n",
       "      <td>2022</td>\n",
       "      <td>22,372 mi.</td>\n",
       "      <td>Gasoline</td>\n",
       "      <td>3.5 Liter DOHC</td>\n",
       "      <td>Automatic</td>\n",
       "      <td>Blue</td>\n",
       "      <td>Black</td>\n",
       "      <td>None reported</td>\n",
       "      <td>NaN</td>\n",
       "      <td>$54,598</td>\n",
       "    </tr>\n",
       "    <tr>\n",
       "      <th>3</th>\n",
       "      <td>INFINITI</td>\n",
       "      <td>Q50 Hybrid Sport</td>\n",
       "      <td>2015</td>\n",
       "      <td>88,900 mi.</td>\n",
       "      <td>Hybrid</td>\n",
       "      <td>354.0HP 3.5L V6 Cylinder Engine Gas/Electric H...</td>\n",
       "      <td>7-Speed A/T</td>\n",
       "      <td>Black</td>\n",
       "      <td>Black</td>\n",
       "      <td>None reported</td>\n",
       "      <td>Yes</td>\n",
       "      <td>$15,500</td>\n",
       "    </tr>\n",
       "    <tr>\n",
       "      <th>4</th>\n",
       "      <td>Audi</td>\n",
       "      <td>Q3 45 S line Premium Plus</td>\n",
       "      <td>2021</td>\n",
       "      <td>9,835 mi.</td>\n",
       "      <td>Gasoline</td>\n",
       "      <td>2.0L I4 16V GDI DOHC Turbo</td>\n",
       "      <td>8-Speed Automatic</td>\n",
       "      <td>Glacier White Metallic</td>\n",
       "      <td>Black</td>\n",
       "      <td>None reported</td>\n",
       "      <td>NaN</td>\n",
       "      <td>$34,999</td>\n",
       "    </tr>\n",
       "  </tbody>\n",
       "</table>\n",
       "</div>"
      ],
      "text/plain": [
       "      brand                            model  model_year      milage  \\\n",
       "0      Ford  Utility Police Interceptor Base        2013  51,000 mi.   \n",
       "1   Hyundai                     Palisade SEL        2021  34,742 mi.   \n",
       "2     Lexus                    RX 350 RX 350        2022  22,372 mi.   \n",
       "3  INFINITI                 Q50 Hybrid Sport        2015  88,900 mi.   \n",
       "4      Audi        Q3 45 S line Premium Plus        2021   9,835 mi.   \n",
       "\n",
       "       fuel_type                                             engine  \\\n",
       "0  E85 Flex Fuel  300.0HP 3.7L V6 Cylinder Engine Flex Fuel Capa...   \n",
       "1       Gasoline                               3.8L V6 24V GDI DOHC   \n",
       "2       Gasoline                                     3.5 Liter DOHC   \n",
       "3         Hybrid  354.0HP 3.5L V6 Cylinder Engine Gas/Electric H...   \n",
       "4       Gasoline                         2.0L I4 16V GDI DOHC Turbo   \n",
       "\n",
       "        transmission                 ext_col int_col  \\\n",
       "0        6-Speed A/T                   Black   Black   \n",
       "1  8-Speed Automatic         Moonlight Cloud    Gray   \n",
       "2          Automatic                    Blue   Black   \n",
       "3        7-Speed A/T                   Black   Black   \n",
       "4  8-Speed Automatic  Glacier White Metallic   Black   \n",
       "\n",
       "                                 accident clean_title    price  \n",
       "0  At least 1 accident or damage reported         Yes  $10,300  \n",
       "1  At least 1 accident or damage reported         Yes  $38,005  \n",
       "2                           None reported         NaN  $54,598  \n",
       "3                           None reported         Yes  $15,500  \n",
       "4                           None reported         NaN  $34,999  "
      ]
     },
     "execution_count": 296,
     "metadata": {},
     "output_type": "execute_result"
    }
   ],
   "source": [
    "import pandas as pd\n",
    "import numpy as np\n",
    "import matplotlib.pyplot as plt\n",
    "import seaborn as sns\n",
    "\n",
    "# Load the dataset\n",
    "df = pd.read_csv(\"used_cars.csv\")\n",
    "\n",
    "# Display the first 5 rows\n",
    "df.head()\n"
   ]
  },
  {
   "cell_type": "markdown",
   "id": "242afc4a-28e2-4dd2-ac11-e8625c6bce92",
   "metadata": {},
   "source": [
    "**Insight:**\n",
    "\n",
    "## 📊 Exploratory Data Analysis (EDA) on Used Car Dataset\n",
    "\n",
    "### 🔍 Understanding the Dataset\n",
    "\n",
    "1. **Dataset Overview:**  \n",
    "   - The dataset contains **7,253 records** with various details such as:\n",
    "     - **Car Details:** Name, Location, Manufacturing Year\n",
    "     - **Usage Details:** Kilometers Driven, Fuel Type, Transmission Type, Owner Type\n",
    "     - **Performance Metrics:** Mileage, Engine Power, Seating Capacity\n",
    "     - **Pricing Information:** New Price & Resale Price\n",
    "\n",
    "2. **Why is this important?**  \n",
    "   - Understanding the dataset structure helps **identify missing values, inconsistencies, and outliers** that may affect analysis.\n",
    "   - It provides insights into **factors influencing car resale prices**.\n",
    "\n",
    "3. **Initial Observations:**  \n",
    "   - Some columns like **New Price** contain **missing values**, which need handling.\n",
    "   - The dataset includes **both categorical and numerical variables**, requiring **encoding for modeling**.\n",
    "   - **Wide range of values** in Engine Power, Kilometers Driven, and Price suggests potential **outliers**.\n",
    "\n",
    "---\n",
    "\n",
    "### ✅ Key Takeaway:\n",
    "A clear understanding of the dataset allows for **better preprocessing, feature engineering, and insights extraction**. 🚗📊\n"
   ]
  },
  {
   "cell_type": "markdown",
   "id": "b1919adb-c34a-40d3-b6fa-b73bdd3a7a46",
   "metadata": {},
   "source": [
    "## 2. Checking Basic Information of the Dataset\n",
    "### 2.1 Checking Column Data Types"
   ]
  },
  {
   "cell_type": "code",
   "execution_count": 299,
   "id": "dddaa702-7341-4260-9fcd-7b1ba765354b",
   "metadata": {},
   "outputs": [
    {
     "name": "stdout",
     "output_type": "stream",
     "text": [
      "<class 'pandas.core.frame.DataFrame'>\n",
      "RangeIndex: 4009 entries, 0 to 4008\n",
      "Data columns (total 12 columns):\n",
      " #   Column        Non-Null Count  Dtype \n",
      "---  ------        --------------  ----- \n",
      " 0   brand         4009 non-null   object\n",
      " 1   model         4009 non-null   object\n",
      " 2   model_year    4009 non-null   int64 \n",
      " 3   milage        4009 non-null   object\n",
      " 4   fuel_type     3839 non-null   object\n",
      " 5   engine        4009 non-null   object\n",
      " 6   transmission  4009 non-null   object\n",
      " 7   ext_col       4009 non-null   object\n",
      " 8   int_col       4009 non-null   object\n",
      " 9   accident      3896 non-null   object\n",
      " 10  clean_title   3413 non-null   object\n",
      " 11  price         4009 non-null   object\n",
      "dtypes: int64(1), object(11)\n",
      "memory usage: 376.0+ KB\n"
     ]
    }
   ],
   "source": [
    "df.info()"
   ]
  },
  {
   "cell_type": "markdown",
   "id": "7c637e30-9e08-4673-a836-39c971e15cce",
   "metadata": {},
   "source": [
    "**Insight:**\n",
    "\n",
    "## 📊 Checking Basic Information of the Dataset\n",
    "\n",
    "### 🔍 Column Data Types Overview\n",
    "\n",
    "1. **Dataset Summary:**  \n",
    "   - The dataset contains **14 columns** with a mix of **categorical and numerical data**.\n",
    "   - There are **500 records** with different levels of missing values.\n",
    "\n",
    "2. **Column Types:**  \n",
    "   - **Categorical Columns:** Name, Location, Fuel Type, Transmission, Owner Type  \n",
    "   - **Numerical Columns:** Kilometers Driven, Mileage, Engine Power, Seats, Price\n",
    "\n",
    "3. **Missing Values Identified:**  \n",
    "   - **New Price** has significant missing values (**432 missing entries**).\n",
    "   - **Other missing values** appear in Mileage, Engine, Power, and Seats.\n",
    "\n",
    "4. **Key Considerations for Preprocessing:**  \n",
    "   - Convert categorical features into numerical format (e.g., **One-Hot Encoding**).\n",
    "   - Handle missing values through **imputation or removal**.\n",
    "   - Ensure all numerical features are **properly formatted** before analysis.\n",
    "\n",
    "---\n",
    "\n",
    "### ✅ Key Takeaway:\n",
    "Understanding column data types and missing values is **crucial** for effective **data preprocessing, feature engineering, and modeling**. 🚗📊\n"
   ]
  },
  {
   "cell_type": "markdown",
   "id": "0cc05392-b1dc-4600-85b9-4bb830a7231e",
   "metadata": {},
   "source": [
    "## 3. Identifying Missing Values\n",
    "Missing values can cause errors in analysis and machine learning models, so we need to handle them.\n",
    "\n",
    "### 3.1 Count Missing Values"
   ]
  },
  {
   "cell_type": "code",
   "execution_count": 302,
   "id": "94e922b2-3e1f-490b-84f6-b443ceae545a",
   "metadata": {},
   "outputs": [
    {
     "data": {
      "text/plain": [
       "brand             0\n",
       "model             0\n",
       "model_year        0\n",
       "milage            0\n",
       "fuel_type       170\n",
       "engine            0\n",
       "transmission      0\n",
       "ext_col           0\n",
       "int_col           0\n",
       "accident        113\n",
       "clean_title     596\n",
       "price             0\n",
       "dtype: int64"
      ]
     },
     "execution_count": 302,
     "metadata": {},
     "output_type": "execute_result"
    }
   ],
   "source": [
    "df.isnull().sum()"
   ]
  },
  {
   "cell_type": "markdown",
   "id": "c305d2e8-96e0-41cf-bc4d-d92e1f07978a",
   "metadata": {},
   "source": [
    "### 3.2 Percentage of Missing Values"
   ]
  },
  {
   "cell_type": "code",
   "execution_count": 304,
   "id": "e44b9001-12a5-491e-b462-75a005da3c53",
   "metadata": {},
   "outputs": [
    {
     "data": {
      "text/plain": [
       "brand            0.000000\n",
       "model            0.000000\n",
       "model_year       0.000000\n",
       "milage           0.000000\n",
       "fuel_type        4.240459\n",
       "engine           0.000000\n",
       "transmission     0.000000\n",
       "ext_col          0.000000\n",
       "int_col          0.000000\n",
       "accident         2.818658\n",
       "clean_title     14.866550\n",
       "price            0.000000\n",
       "dtype: float64"
      ]
     },
     "execution_count": 304,
     "metadata": {},
     "output_type": "execute_result"
    }
   ],
   "source": [
    "(df.isnull().sum() / len(df)) * 100"
   ]
  },
  {
   "cell_type": "markdown",
   "id": "aeeee33c-dab6-4724-8479-18b58eadf976",
   "metadata": {},
   "source": [
    "**Insights:**\n",
    "\n",
    "## 🔍 Identifying Missing Values\n",
    "\n",
    "### 📌 Key Findings:\n",
    "\n",
    "1. **Columns with Missing Values:**\n",
    "   - **New Price** has **86% missing values** → Consider **dropping this column** as it may not be useful.\n",
    "   - **Price** has **17% missing values** → Requires a **strategy to fill these gaps**.\n",
    "   - **Other missing values** appear in Engine, Power, and Seats.\n",
    "\n",
    "2. **Potential Strategies for Handling Missing Data:**\n",
    "   - **Drop New Price** due to excessive missing data.\n",
    "   - **Impute Price** using **median or predictive modeling**.\n",
    "   - **Use Mean/Mode Imputation** for Engine, Power, and Seats based on distribution.\n",
    "\n",
    "3. **Why Handling Missing Data is Important?**\n",
    "   - Prevents **bias in analysis and machine learning models**.\n",
    "   - Ensures **data consistency** for reliable insights.\n",
    "   - Avoids **loss of valuable records** due to missing values.\n",
    "\n",
    "---\n",
    "\n",
    "### ✅ Key Takeaway:\n",
    "Missing values should be **strategically handled** using **imputation, removal, or predictive modeling** to improve dataset quality. 🚗📊\n"
   ]
  },
  {
   "cell_type": "markdown",
   "id": "7a182b94-7b07-47a9-998c-cf26449edfb8",
   "metadata": {},
   "source": [
    "## 4. Handling Missing Values (Imputation)\n",
    "### 💡 Strategy:\n",
    "\n",
    "**Numerical Data** (e.g., Mileage, Price): Use **mean** or **median**\n",
    "\n",
    "**Categorical Data** (e.g., Fuel_Type, Transmission): Use **mode**\n",
    "\n",
    "### 4.1 Filling Missing Values"
   ]
  },
  {
   "cell_type": "code",
   "execution_count": 307,
   "id": "0dec3a43-75c7-40a0-bc46-e53b9c98035d",
   "metadata": {},
   "outputs": [
    {
     "name": "stdout",
     "output_type": "stream",
     "text": [
      "Columns in dataset: Index(['brand', 'model', 'model_year', 'milage', 'fuel_type', 'engine',\n",
      "       'transmission', 'ext_col', 'int_col', 'accident', 'clean_title',\n",
      "       'price'],\n",
      "      dtype='object')\n",
      "      brand                            model  model_year      milage  \\\n",
      "0      Ford  Utility Police Interceptor Base        2013  51,000 mi.   \n",
      "1   Hyundai                     Palisade SEL        2021  34,742 mi.   \n",
      "2     Lexus                    RX 350 RX 350        2022  22,372 mi.   \n",
      "3  INFINITI                 Q50 Hybrid Sport        2015  88,900 mi.   \n",
      "4      Audi        Q3 45 S line Premium Plus        2021   9,835 mi.   \n",
      "\n",
      "       fuel_type                                             engine  \\\n",
      "0  E85 Flex Fuel  300.0HP 3.7L V6 Cylinder Engine Flex Fuel Capa...   \n",
      "1       Gasoline                               3.8L V6 24V GDI DOHC   \n",
      "2       Gasoline                                     3.5 Liter DOHC   \n",
      "3         Hybrid  354.0HP 3.5L V6 Cylinder Engine Gas/Electric H...   \n",
      "4       Gasoline                         2.0L I4 16V GDI DOHC Turbo   \n",
      "\n",
      "        transmission                 ext_col int_col  \\\n",
      "0        6-Speed A/T                   Black   Black   \n",
      "1  8-Speed Automatic         Moonlight Cloud    Gray   \n",
      "2          Automatic                    Blue   Black   \n",
      "3        7-Speed A/T                   Black   Black   \n",
      "4  8-Speed Automatic  Glacier White Metallic   Black   \n",
      "\n",
      "                                 accident clean_title  price  \n",
      "0  At least 1 accident or damage reported         Yes    NaN  \n",
      "1  At least 1 accident or damage reported         Yes    NaN  \n",
      "2                           None reported         NaN    NaN  \n",
      "3                           None reported         Yes    NaN  \n",
      "4                           None reported         NaN    NaN  \n"
     ]
    }
   ],
   "source": [
    "import pandas as pd\n",
    "\n",
    "# Load the dataset\n",
    "file_path = \"used_cars.csv\"\n",
    "df = pd.read_csv(file_path)\n",
    "\n",
    "# Check column names to ensure 'Engine' exists\n",
    "print(\"Columns in dataset:\", df.columns)\n",
    "\n",
    "# Convert 'price' to numeric (removing non-numeric characters if needed)\n",
    "df['price'] = pd.to_numeric(df['price'], errors='coerce')\n",
    "\n",
    "# Only process 'Engine' if it exists in the dataset\n",
    "if 'Engine' in df.columns:\n",
    "    df['Engine'] = pd.to_numeric(df['Engine'], errors='coerce')\n",
    "    df['Engine'] = df['Engine'].fillna(df['Engine'].median())\n",
    "\n",
    "# Fill missing values for numerical columns using median\n",
    "df['price'] = df['price'].fillna(df['price'].median())\n",
    "\n",
    "# Fill missing values for categorical columns using mode (only if 'Seats' exists)\n",
    "if 'Seats' in df.columns:\n",
    "    df['Seats'] = df['Seats'].fillna(df['Seats'].mode()[0])\n",
    "\n",
    "# Display the first few rows after imputation\n",
    "print(df.head())\n"
   ]
  },
  {
   "cell_type": "markdown",
   "id": "32811470-6499-4fb6-a473-5d0c9bfba8f9",
   "metadata": {},
   "source": [
    "**Insight:**\n",
    "\n",
    "## 🛠 Handling Missing Values (Imputation)\n",
    "\n",
    "### 📌 **Key Insights:**\n",
    "1. **Fixed TypeError:**\n",
    "   - The error occurred because the `price` and `Engine` columns contained **non-numeric values**.\n",
    "   - Used `pd.to_numeric(errors='coerce')` to **convert** them properly.\n",
    "\n",
    "2. **Imputation Strategy:**\n",
    "   - **Numerical Data (Price, Engine):** Filled missing values with the **median** to avoid skewness from outliers.\n",
    "   - **Categorical Data (Seats):** Used the **mode** (most frequent value) for imputation.\n",
    "\n",
    "3. **Why This Matters?**\n",
    "   - Prevents missing data from **disrupting analysis and model training**.\n",
    "   - Ensures **data consistency** for better performance in machine learning models.\n",
    "\n",
    "---\n",
    "\n",
    "### ✅ Key Takeaway:\n",
    "By handling missing values **properly**, we maintain **data integrity and accuracy**, improving overall insights and predictive power. 🚗📊\n"
   ]
  },
  {
   "cell_type": "markdown",
   "id": "f357a73f-f214-44dd-81eb-ba790338bbf9",
   "metadata": {},
   "source": [
    "## 5. Detecting and Handling Outliers\n",
    "Outliers can distort analysis. We use **Interquartile Range (IQR)** to detect them.\n",
    "\n",
    "### 5.1 Outlier Detection Using IQR"
   ]
  },
  {
   "cell_type": "code",
   "execution_count": 310,
   "id": "ddd36be2-2311-4184-8bd4-0fa660d02611",
   "metadata": {},
   "outputs": [
    {
     "name": "stdout",
     "output_type": "stream",
     "text": [
      "Number of outliers detected: 244\n"
     ]
    },
    {
     "name": "stderr",
     "output_type": "stream",
     "text": [
      "<>:8: SyntaxWarning: invalid escape sequence '\\$'\n",
      "<>:8: SyntaxWarning: invalid escape sequence '\\$'\n",
      "/var/folders/tq/gbtr620x0qg56jclr9gch4rc0000gn/T/ipykernel_50987/3042971896.py:8: SyntaxWarning: invalid escape sequence '\\$'\n",
      "  df['price'] = df['price'].replace('[\\$,]', '', regex=True).astype(float)\n"
     ]
    }
   ],
   "source": [
    "import pandas as pd\n",
    "\n",
    "# Load the dataset\n",
    "file_path = \"used_cars.csv\"\n",
    "df = pd.read_csv(file_path)\n",
    "\n",
    "# Convert 'price' to numeric (handling non-numeric values if any)\n",
    "df['price'] = df['price'].replace('[\\$,]', '', regex=True).astype(float)\n",
    "\n",
    "# Compute IQR for Price\n",
    "Q1 = df['price'].quantile(0.25)\n",
    "Q3 = df['price'].quantile(0.75)\n",
    "IQR = Q3 - Q1\n",
    "\n",
    "# Define outliers as values outside 1.5 times the IQR range\n",
    "outliers = df[(df['price'] < (Q1 - 1.5 * IQR)) | (df['price'] > (Q3 + 1.5 * IQR))]\n",
    "\n",
    "# Display number of detected outliers\n",
    "print(f\"Number of outliers detected: {len(outliers)}\")\n"
   ]
  },
  {
   "cell_type": "markdown",
   "id": "6b15e052-5156-40f2-ba49-d2ecf842691a",
   "metadata": {},
   "source": [
    "**Insight:**\n",
    "\n",
    "## 🔍 Insights: Detecting and Handling Outliers\n",
    "\n",
    "Outliers can significantly affect statistical analysis and machine learning models. By using the **Interquartile Range (IQR) method**, we identify extreme values in the `price` column.\n",
    "\n",
    "### Key Findings:\n",
    "- **Outliers in used car prices** may indicate **luxury vehicles** or **incorrect data entries**.\n",
    "- Extreme high prices might suggest **rare models, premium features, or misentered values**.\n",
    "- **IQR is a robust method** because it is less sensitive to skewed data compared to methods based on standard deviation.\n",
    "- **Next Steps**:\n",
    "  - We can choose to **remove outliers** to maintain a clean dataset.\n",
    "  - Alternatively, outliers can be **analyzed separately** to gain insights into high-value cars.\n",
    "\n",
    "📊 Further analysis can involve visualization techniques like **box plots** to inspect the distribution of car prices.\n"
   ]
  },
  {
   "cell_type": "markdown",
   "id": "7c61e7c9-a2b4-4cb1-a097-0a52ded733ad",
   "metadata": {},
   "source": [
    "## 6. Feature Engineering: Creating New Variables\n",
    "We create new features that might help improve predictions.\n",
    "\n",
    "### 6.1 Creating a New Feature: Price per Kilometers Driven"
   ]
  },
  {
   "cell_type": "code",
   "execution_count": 313,
   "id": "dc86b7ef-f698-419f-8385-7fca4d66b7b9",
   "metadata": {},
   "outputs": [
    {
     "name": "stdout",
     "output_type": "stream",
     "text": [
      "Empty DataFrame\n",
      "Columns: [price, milage, price_per_km]\n",
      "Index: []\n"
     ]
    }
   ],
   "source": [
    "import pandas as pd\n",
    "\n",
    "# Load the dataset\n",
    "file_path = \"used_cars.csv\"\n",
    "df = pd.read_csv(file_path)\n",
    "\n",
    "# Standardizing column names to lowercase for consistency\n",
    "df.columns = df.columns.str.lower().str.replace(\" \", \"_\")\n",
    "\n",
    "# Convert 'price' and 'milage' to numeric, handling any non-numeric values\n",
    "df['price'] = pd.to_numeric(df['price'], errors='coerce')\n",
    "df['milage'] = pd.to_numeric(df['milage'], errors='coerce')\n",
    "\n",
    "# Drop rows with missing values in these critical columns\n",
    "df = df.dropna(subset=['price', 'milage'])\n",
    "\n",
    "# Avoid division by zero\n",
    "df = df[df['milage'] > 0]\n",
    "\n",
    "# Create a new feature: Price per Kilometer Driven\n",
    "df['price_per_km'] = df['price'] / df['milage']\n",
    "\n",
    "# Display the first 5 rows of the new feature\n",
    "print(df[['price', 'milage', 'price_per_km']].head())\n"
   ]
  },
  {
   "cell_type": "markdown",
   "id": "42a5d574-fe70-49be-851b-05ddc90c55ba",
   "metadata": {},
   "source": [
    "**Insight:**\n",
    "\n",
    "## Insights:\n",
    "\n",
    "- This new feature helps determine how much value each car holds based on how much it has been driven.\n",
    "- Cars with a **higher Price_per_KM** might indicate **premium models** or **low-mileage** vehicles.\n",
    "- This feature can be useful for **pricing strategies** and **predictive modeling** in regression tasks.\n",
    "\n",
    "\n"
   ]
  },
  {
   "cell_type": "markdown",
   "id": "a7ac641a-91f3-4542-b72a-235ba1a687b0",
   "metadata": {},
   "source": [
    "## 7. Principal Component Analysis (PCA) for Dimensionality Reduction\n",
    "PCA helps **reduce dataset complexity** while retaining useful information.\n",
    "\n",
    "### 7.1 Handling Non-Numeric Data Before PCA"
   ]
  },
  {
   "cell_type": "code",
   "execution_count": 316,
   "id": "3a2bab8b-ab03-42a8-b720-eb592bfdc7ae",
   "metadata": {},
   "outputs": [],
   "source": [
    "import pandas as pd\n",
    "from sklearn.decomposition import PCA\n",
    "from sklearn.preprocessing import StandardScaler\n",
    "\n",
    "# Load the dataset\n",
    "file_path = \"used_cars.csv\"\n",
    "df = pd.read_csv(file_path)\n",
    "\n",
    "# Standardizing column names for consistency\n",
    "df.columns = df.columns.str.lower().str.replace(\" \", \"_\")\n",
    "\n",
    "# Convert categorical columns to numeric using one-hot encoding\n",
    "df_encoded = pd.get_dummies(df, drop_first=True)\n",
    "\n",
    "# Drop irrelevant or non-numeric columns if they exist\n",
    "columns_to_drop = ['name', 'location']\n",
    "df_encoded = df_encoded.drop(columns=[col for col in columns_to_drop if col in df_encoded.columns], errors='ignore')\n",
    "\n",
    "# Handle missing values by filling with median\n",
    "df_encoded.fillna(df_encoded.median(), inplace=True)\n",
    "\n",
    "# Standardize the data (PCA needs scaled data)\n",
    "scaler = StandardScaler()\n",
    "df_scaled = scaler.fit_transform(df_encoded)"
   ]
  },
  {
   "cell_type": "markdown",
   "id": "044b471c-d7b2-45aa-ab47-b055d5bf4964",
   "metadata": {},
   "source": [
    "### 7.2 Applying PCA"
   ]
  },
  {
   "cell_type": "code",
   "execution_count": 318,
   "id": "ab3bb14c-b957-4ca9-befe-a9cf72b72a8c",
   "metadata": {},
   "outputs": [
    {
     "name": "stdout",
     "output_type": "stream",
     "text": [
      "        PC1       PC2\n",
      "0 -0.352971 -1.127357\n",
      "1 -0.860726  0.869730\n",
      "2  0.492013  0.614031\n",
      "3 -0.235456 -1.290779\n",
      "4  0.234410  0.855286\n"
     ]
    }
   ],
   "source": [
    "# Initialize PCA with 2 components\n",
    "pca = PCA(n_components=2)\n",
    "\n",
    "# Fit PCA on scaled data\n",
    "pca_result = pca.fit_transform(df_scaled)\n",
    "\n",
    "# Convert to DataFrame\n",
    "df_pca = pd.DataFrame(pca_result, columns=['PC1', 'PC2'])\n",
    "\n",
    "# Display first few rows\n",
    "print(df_pca.head())"
   ]
  },
  {
   "cell_type": "markdown",
   "id": "e5a305f3-47af-4c51-a9e7-990d3f6e7d11",
   "metadata": {},
   "source": [
    "**Insight:**\n",
    "\n",
    "- **PCA reduces high-dimensional data** into just two components while retaining significant information.\n",
    "- It helps in **visualizing clusters of similar cars**, making it useful for pattern detection.\n",
    "- PCA can be applied for **feature selection** and **dimensionality reduction** to improve model performance."
   ]
  },
  {
   "cell_type": "markdown",
   "id": "4b7683b3-e3d4-4826-9892-2eb244618e6d",
   "metadata": {},
   "source": [
    "## 8. Visualizing Trends in Car Prices\n",
    "### 8.1 Plotting Price Distribution"
   ]
  },
  {
   "cell_type": "code",
   "execution_count": 321,
   "id": "8ebeae82-a081-49aa-9aed-e02a98b88224",
   "metadata": {},
   "outputs": [
    {
     "name": "stderr",
     "output_type": "stream",
     "text": [
      "<>:17: SyntaxWarning: invalid escape sequence '\\$'\n",
      "<>:17: SyntaxWarning: invalid escape sequence '\\$'\n",
      "/var/folders/tq/gbtr620x0qg56jclr9gch4rc0000gn/T/ipykernel_50987/3105797600.py:17: SyntaxWarning: invalid escape sequence '\\$'\n",
      "  df['price'] = df['price'].replace({'\\$': '', ',': ''}, regex=True).astype(float)\n"
     ]
    },
    {
     "data": {
      "image/png": "[encoded data removed]",
      "text/plain": [
       "<Figure size 800x500 with 1 Axes>"
      ]
     },
     "metadata": {},
     "output_type": "display_data"
    }
   ],
   "source": [
    "import pandas as pd\n",
    "import matplotlib.pyplot as plt\n",
    "import seaborn as sns\n",
    "\n",
    "# Load the dataset\n",
    "file_path = \"used_cars.csv\"\n",
    "df = pd.read_csv(file_path)\n",
    "\n",
    "# Standardizing column names for consistency\n",
    "df.columns = df.columns.str.lower().str.replace(\" \", \"_\")\n",
    "\n",
    "# Check if 'price' exists in the dataset\n",
    "if 'price' not in df.columns:\n",
    "    print(\"Error: 'price' column not found in dataset!\")\n",
    "else:\n",
    "    # Convert 'price' to numeric (removing non-numeric values like '$' and ',')\n",
    "    df['price'] = df['price'].replace({'\\$': '', ',': ''}, regex=True).astype(float)\n",
    "\n",
    "    # Drop missing or zero values in 'price' to ensure meaningful plotting\n",
    "    df = df.dropna(subset=['price'])\n",
    "    df = df[df['price'] > 0]\n",
    "\n",
    "    # Check if there is any valid data left after cleaning\n",
    "    if df.empty:\n",
    "        print(\"Error: No valid 'price' values found after cleaning!\")\n",
    "    else:\n",
    "        # Plotting the price distribution\n",
    "        plt.figure(figsize=(8, 5))\n",
    "        sns.histplot(df['price'], bins=30, kde=True)\n",
    "        plt.title(\"Distribution of Car Prices\")\n",
    "        plt.xlabel(\"Price\")\n",
    "        plt.ylabel(\"Count\")\n",
    "        plt.show()\n"
   ]
  },
  {
   "cell_type": "markdown",
   "id": "6ff96197-0d5e-4056-ad12-e617a82515ca",
   "metadata": {},
   "source": [
    "**Insight:**\n",
    "\n",
    "- The **distribution of car prices** is **right-skewed**, indicating that most used cars fall within a lower price range, while a few high-end or luxury cars significantly raise the maximum price.\n",
    "- The **majority of the cars** are priced at a **lower to mid-range level**, suggesting that used car buyers tend to purchase more affordable vehicles.\n",
    "- The **long tail** on the right side suggests the presence of a few **high-priced vehicles**, which could be premium or rare models.\n",
    "- Understanding this price distribution helps in **setting realistic price expectations** for buyers and sellers in the used car market.\n",
    "\n"
   ]
  },
  {
   "cell_type": "markdown",
   "id": "c22a5af8-5a75-4f6d-be29-8f1e161378a4",
   "metadata": {},
   "source": [
    "## 9. Conclusion\n",
    "\n",
    "✔ **Exploratory Data Analysis (EDA)** helped us **clean, preprocess, and understand the dataset** before building models.  \n",
    "✔ We identified **missing values, outliers, and trends** in used car prices, which impact price predictions and analysis.  \n",
    "✔ **Feature engineering** introduced new insights, such as **Price_per_KM**, to better understand value depreciation with mileage.  \n",
    "✔ **Outlier detection** showed that certain high-priced cars may be **luxury models or incorrect data entries**, requiring further analysis.  \n",
    "✔ **PCA (Principal Component Analysis)** reduced dimensionality, improving **data visualization and model efficiency** for clustering and prediction.  \n",
    "\n",
    "By applying **EDA, feature engineering, and PCA**, we prepared the dataset for more accurate **machine learning modeling and price prediction.** 🚗📊\n"
   ]
  },
  {
   "cell_type": "markdown",
   "id": "45464f18-2dd2-4677-9a2a-cfdd58469fc0",
   "metadata": {},
   "source": [
    "## Splitting Car Name into Brand and Model (Useful for Data Analysis)\n",
    "When analyzing car data, the **\"Name\" column contains both the brand and model**, making it difficult to extract meaningful insights. To improve data usability, we split this column into \"**Brand**\" and \"**Model**\" for better categorization and analysis.\n",
    "\n",
    "Code Implementation"
   ]
  },
  {
   "cell_type": "code",
   "execution_count": 325,
   "id": "0388e1b8-0677-4db0-a50f-3b6d8f3b28c6",
   "metadata": {},
   "outputs": [
    {
     "name": "stdout",
     "output_type": "stream",
     "text": [
      "      brand                            model\n",
      "0      Ford  Utility Police Interceptor Base\n",
      "1   Hyundai                     Palisade SEL\n",
      "2     Lexus                    RX 350 RX 350\n",
      "3  INFINITI                 Q50 Hybrid Sport\n",
      "4      Audi        Q3 45 S line Premium Plus\n"
     ]
    }
   ],
   "source": [
    "import pandas as pd\n",
    "\n",
    "# Load the dataset\n",
    "file_path = \"used_cars.csv\"\n",
    "df = pd.read_csv(file_path)\n",
    "\n",
    "# Standardizing column names for consistency\n",
    "df.columns = df.columns.str.lower().str.replace(\" \", \"_\")\n",
    "\n",
    "# Check if 'brand' and 'model' columns exist\n",
    "if 'brand' in df.columns and 'model' in df.columns:\n",
    "    # Display first few rows\n",
    "    print(df[['brand', 'model']].head())\n",
    "    \n",
    "else:\n",
    "    print(\"Error: 'brand' or 'model' column not found in dataset!\")\n"
   ]
  },
  {
   "cell_type": "markdown",
   "id": "5efcbd20-cb53-4477-82ac-7907a1db359c",
   "metadata": {},
   "source": [
    "**Insights:**\n",
    "\n",
    "- The dataset already includes separate **'brand'** and **'model'** columns.\n",
    "- This structure is beneficial because:\n",
    "  1. **Improves Data Organization**: Enables easy grouping by car manufacturers.\n",
    "  2. **Enhances Comparisons**: Cars from the same brand can be compared for pricing and features.\n",
    "  3. **Prepares Data for Machine Learning**: Having separate brand and model attributes aids in predictive modeling.\n",
    "  4. **Aids in Visualization**: Helps create brand-wise trend analysis for car prices.\n",
    "."
   ]
  },
  {
   "cell_type": "code",
   "execution_count": 327,
   "id": "5d0b63b7-c3f0-432d-b9d1-ed293f70e351",
   "metadata": {},
   "outputs": [
    {
     "name": "stdout",
     "output_type": "stream",
     "text": [
      "Index(['brand', 'model', 'model_year', 'milage', 'fuel_type', 'engine',\n",
      "       'transmission', 'ext_col', 'int_col', 'accident', 'clean_title',\n",
      "       'price'],\n",
      "      dtype='object')\n"
     ]
    }
   ],
   "source": [
    "df.columns = df.columns.str.lower().str.replace(\" \", \"_\")\n",
    "print(df.columns)\n"
   ]
  },
  {
   "cell_type": "code",
   "execution_count": 328,
   "id": "6ce44ece-41a3-42a4-b84e-9d3553ffe372",
   "metadata": {},
   "outputs": [
    {
     "name": "stdout",
     "output_type": "stream",
     "text": [
      "      brand                            model  model_year      milage  \\\n",
      "0      Ford  Utility Police Interceptor Base        2013  51,000 mi.   \n",
      "1   Hyundai                     Palisade SEL        2021  34,742 mi.   \n",
      "2     Lexus                    RX 350 RX 350        2022  22,372 mi.   \n",
      "3  INFINITI                 Q50 Hybrid Sport        2015  88,900 mi.   \n",
      "4      Audi        Q3 45 S line Premium Plus        2021   9,835 mi.   \n",
      "\n",
      "       fuel_type                                             engine  \\\n",
      "0  E85 Flex Fuel  300.0HP 3.7L V6 Cylinder Engine Flex Fuel Capa...   \n",
      "1       Gasoline                               3.8L V6 24V GDI DOHC   \n",
      "2       Gasoline                                     3.5 Liter DOHC   \n",
      "3         Hybrid  354.0HP 3.5L V6 Cylinder Engine Gas/Electric H...   \n",
      "4       Gasoline                         2.0L I4 16V GDI DOHC Turbo   \n",
      "\n",
      "        transmission                 ext_col int_col  \\\n",
      "0        6-Speed A/T                   Black   Black   \n",
      "1  8-Speed Automatic         Moonlight Cloud    Gray   \n",
      "2          Automatic                    Blue   Black   \n",
      "3        7-Speed A/T                   Black   Black   \n",
      "4  8-Speed Automatic  Glacier White Metallic   Black   \n",
      "\n",
      "                                 accident clean_title    price  \n",
      "0  At least 1 accident or damage reported         Yes  $10,300  \n",
      "1  At least 1 accident or damage reported         Yes  $38,005  \n",
      "2                           None reported         NaN  $54,598  \n",
      "3                           None reported         Yes  $15,500  \n",
      "4                           None reported         NaN  $34,999  \n"
     ]
    }
   ],
   "source": [
    "print(df.head())\n"
   ]
  },
  {
   "cell_type": "code",
   "execution_count": 329,
   "id": "9cf1638e-dc6a-4436-bf9e-c49985ea0c3e",
   "metadata": {},
   "outputs": [
    {
     "name": "stdout",
     "output_type": "stream",
     "text": [
      "0\n"
     ]
    }
   ],
   "source": [
    "print(df['brand'].isnull().sum())\n"
   ]
  },
  {
   "cell_type": "code",
   "execution_count": 330,
   "id": "8bf75d7e-14c1-4061-8340-5e567145ca08",
   "metadata": {},
   "outputs": [
    {
     "name": "stdout",
     "output_type": "stream",
     "text": [
      "      brand\n",
      "0      Ford\n",
      "1   Hyundai\n",
      "2     Lexus\n",
      "3  INFINITI\n",
      "4      Audi\n",
      "5     Acura\n",
      "6      Audi\n",
      "7       BMW\n",
      "8     Lexus\n",
      "9     Tesla\n"
     ]
    }
   ],
   "source": [
    "df = pd.read_csv(\"used_cars.csv\", encoding=\"utf-8\")\n",
    "print(df[['brand']].dropna().head(10))\n"
   ]
  },
  {
   "cell_type": "markdown",
   "id": "e36b6600-7bc4-4c5f-82f7-65bf9593dafd",
   "metadata": {},
   "source": [
    "### Checking for Unique Car Brands\n",
    "To understand the variety of brands in the dataset, we extract unique brand names."
   ]
  },
  {
   "cell_type": "code",
   "execution_count": 332,
   "id": "3ec5d040-bf82-4e05-99bb-8544c6c0cac8",
   "metadata": {},
   "outputs": [
    {
     "name": "stdout",
     "output_type": "stream",
     "text": [
      "Unique Car Brands: ['Ford' 'Hyundai' 'Lexus' 'INFINITI' 'Audi' 'Acura' 'BMW' 'Tesla' 'Land'\n",
      " 'Aston' 'Toyota' 'Lincoln' 'Jaguar' 'Mercedes-Benz' 'Dodge' 'Nissan'\n",
      " 'Genesis' 'Chevrolet' 'Kia' 'Jeep' 'Bentley' 'Honda' 'Lucid' 'MINI'\n",
      " 'Porsche' 'Hummer' 'Chrysler' 'Volvo' 'Cadillac' 'Lamborghini' 'Maserati'\n",
      " 'Volkswagen' 'Subaru' 'Rivian' 'GMC' 'RAM' 'Alfa' 'Ferrari' 'Scion'\n",
      " 'Mitsubishi' 'Mazda' 'Saturn' 'Bugatti' 'Polestar' 'Rolls-Royce'\n",
      " 'McLaren' 'Buick' 'Lotus' 'Pontiac' 'FIAT' 'Karma' 'Saab' 'Mercury'\n",
      " 'Plymouth' 'smart' 'Maybach' 'Suzuki']\n",
      "Number of Unique Car Brands: 57\n"
     ]
    }
   ],
   "source": [
    "import pandas as pd\n",
    "\n",
    "# Load the dataset\n",
    "file_path = \"used_cars.csv\"\n",
    "df = pd.read_csv(file_path, encoding=\"utf-8\")\n",
    "\n",
    "# Standardizing column names for consistency\n",
    "df.columns = df.columns.str.lower().str.replace(\" \", \"_\")\n",
    "\n",
    "# Check if 'brand' column exists\n",
    "if 'brand' in df.columns:\n",
    "    # Get unique car brands\n",
    "    unique_brands = df['brand'].dropna().unique()\n",
    "\n",
    "    # Count the number of unique brands\n",
    "    num_unique_brands = df['brand'].nunique()\n",
    "\n",
    "    # Display results\n",
    "    print(\"Unique Car Brands:\", unique_brands)\n",
    "    print(\"Number of Unique Car Brands:\", num_unique_brands)\n",
    "else:\n",
    "    print(\"Error: 'brand' column not found in dataset!\")\n"
   ]
  },
  {
   "cell_type": "markdown",
   "id": "42cb072d-b538-4211-ada1-8c37f4d0b32b",
   "metadata": {},
   "source": [
    "### Fixing Brand Name Inconsistencies\n",
    "There are some inconsistencies in brand names:\n",
    "\n",
    "\"ISUZU\" and \"Isuzu\" should be the same.\n",
    "\n",
    "\"Mini\" refers to Mini Cooper.\n",
    "\n",
    "\"Land\" refers to Land Rover.\n",
    "\n",
    "We standardize these names for better consistency."
   ]
  },
  {
   "cell_type": "code",
   "execution_count": 334,
   "id": "190266b3-e96f-456a-a3a2-ebd8cde28d82",
   "metadata": {},
   "outputs": [
    {
     "name": "stdout",
     "output_type": "stream",
     "text": [
      "Unique Car Brands after cleaning: ['Ford' 'Hyundai' 'Lexus' 'Infiniti' 'Audi' 'Acura' 'Bmw' 'Tesla'\n",
      " 'Land Rover' 'Aston' 'Toyota' 'Lincoln' 'Jaguar' 'Mercedes-Benz' 'Dodge'\n",
      " 'Nissan' 'Genesis' 'Chevrolet' 'Kia' 'Jeep' 'Bentley' 'Honda' 'Lucid'\n",
      " 'Mini Cooper' 'Porsche' 'Hummer' 'Chrysler' 'Volvo' 'Cadillac'\n",
      " 'Lamborghini' 'Maserati' 'Volkswagen' 'Subaru' 'Rivian' 'Gmc' 'Ram'\n",
      " 'Alfa' 'Ferrari' 'Scion' 'Mitsubishi' 'Mazda' 'Saturn' 'Bugatti'\n",
      " 'Polestar' 'Rolls-Royce' 'Mclaren' 'Buick' 'Lotus' 'Pontiac' 'Fiat'\n",
      " 'Karma' 'Saab' 'Mercury' 'Plymouth' 'Smart' 'Maybach' 'Suzuki']\n"
     ]
    }
   ],
   "source": [
    "# Standardizing Brand Names Safely\n",
    "if 'brand' in df.columns:\n",
    "    df['brand'] = df['brand'].str.strip().str.title()  # Ensure consistency in capitalization\n",
    "    \n",
    "    # Replace inconsistencies\n",
    "    brand_corrections = {\n",
    "        \"ISUZU\": \"Isuzu\",\n",
    "        \"Mini\": \"Mini Cooper\",\n",
    "        \"Land\": \"Land Rover\"\n",
    "    }\n",
    "    \n",
    "    df['brand'] = df['brand'].replace(brand_corrections)\n",
    "\n",
    "    # Verify changes\n",
    "    print(\"Unique Car Brands after cleaning:\", df['brand'].unique())\n",
    "\n",
    "else:\n",
    "    print(\"Error: 'brand' column not found in dataset!\")\n"
   ]
  },
  {
   "cell_type": "markdown",
   "id": "cd7b6c03-3792-4ffe-8d4a-dc553bd1e6a8",
   "metadata": {},
   "source": [
    "**Insights:**\n",
    "\n",
    "- **Ensures uniformity** in brand names, reducing redundancy in analysis.\n",
    "- **Corrects inconsistencies** like capitalization and abbreviations for better clarity.\n",
    "- **Prevents duplication issues**, leading to **more accurate grouping** in trend analysis.\n",
    "- **Helps in machine learning models**, ensuring clean data input for better predictions.\n",
    "\n",
    "By standardizing brand names, we improve **data consistency**, making comparisons and analysis more reliable. 🚗📊"
   ]
  },
  {
   "cell_type": "markdown",
   "id": "48045c07-9578-437c-b8bb-2c1ace81b00c",
   "metadata": {},
   "source": [
    "## Exploratory Data Analysis (EDA) - Univariate Analysis\n",
    "### Understanding Univariate Analysis\n",
    "Univariate analysis focuses on examining individual variables independently. This method helps to identify patterns, detect outliers, and understand the distribution of data.\n",
    "\n",
    "For **categorical variables**, we use:\n",
    "    \n",
    "    Count plots, Bar charts, and Pie charts to visualize frequency distributions.\n",
    "For **numerical variables**, we use:\n",
    "    \n",
    "    Histograms, Box plots, and Density plots to analyze distributions, skewness, and the presence of outliers.\n",
    "In this section, we will analyze numerical variables using histograms and box plots to observe their distribution patterns and detect potential outliers.\n",
    "\n"
   ]
  },
  {
   "cell_type": "markdown",
   "id": "c880396c-c435-4dbf-97d4-32b44b7f6624",
   "metadata": {},
   "source": [
    "### Implementing Univariate Analysis on Numerical Variables\n",
    "1. **Generating Histograms and Box Plots**\n",
    " \n",
    "The following code performs univariate analysis by generating a histogram and a box plot for each numerical column. This helps visualize the **distribution** and **skewness** of the data while also identifying potential **outliers**.\n",
    "\n",
    "Code Implementation"
   ]
  },
  {
   "cell_type": "code",
   "execution_count": 339,
   "id": "03edb4c1-39ae-43f3-a0bb-ccb40e1eddf2",
   "metadata": {},
   "outputs": [
    {
     "name": "stdout",
     "output_type": "stream",
     "text": [
      "\n",
      "Analyzing 'model_year'\n",
      "Skewness: -1.09\n"
     ]
    },
    {
     "data": {
      "image/png": "[encoded data removed]",
      "text/plain": [
       "<Figure size 1500x400 with 2 Axes>"
      ]
     },
     "metadata": {},
     "output_type": "display_data"
    }
   ],
   "source": [
    "import numpy as np\n",
    "import pandas as pd\n",
    "import matplotlib.pyplot as plt\n",
    "import seaborn as sns\n",
    "\n",
    "# Load the dataset\n",
    "file_path = \"used_cars.csv\"\n",
    "df = pd.read_csv(file_path, encoding=\"utf-8\")\n",
    "\n",
    "# Standardizing column names for consistency\n",
    "df.columns = df.columns.str.lower().str.replace(\" \", \"_\")\n",
    "\n",
    "# Identify numerical columns\n",
    "num_cols = df.select_dtypes(include=[np.number]).columns.tolist()\n",
    "\n",
    "# Iterate through numerical columns\n",
    "for col in num_cols:\n",
    "    print(f\"\\nAnalyzing '{col}'\")\n",
    "    \n",
    "    # Calculate skewness\n",
    "    skewness = round(df[col].skew(), 2)\n",
    "    print(f\"Skewness: {skewness}\")\n",
    "\n",
    "    # Set figure size\n",
    "    plt.figure(figsize=(15, 4))\n",
    "\n",
    "    # Histogram - Shows distribution of the variable\n",
    "    plt.subplot(1, 2, 1)\n",
    "    sns.histplot(df[col], bins=30, kde=True, color=\"blue\")\n",
    "    plt.xlabel(col)\n",
    "    plt.ylabel(\"Count\")\n",
    "    plt.title(f\"Histogram of {col}\")\n",
    "\n",
    "    # Box Plot - Identifies outliers\n",
    "    plt.subplot(1, 2, 2)\n",
    "    sns.boxplot(x=df[col], color=\"orange\")\n",
    "    plt.xlabel(col)\n",
    "    plt.title(f\"Boxplot of {col}\")\n",
    "\n",
    "    plt.show()\n"
   ]
  },
  {
   "cell_type": "markdown",
   "id": "2dadea3d-6f51-4c1a-9df8-d57073efcf0c",
   "metadata": {},
   "source": [
    "### 2. Insights from Data Visualization\n",
    "The generated histograms and box plots allow us to draw the following insights:\n",
    "\n",
    "- **Histograms** help us understand the distribution of numerical features, identifying patterns and normality.\n",
    "- **Box plots** highlight potential **outliers**, helping in data cleaning and anomaly detection.\n",
    "- **Skewness calculation** informs whether the distribution is symmetric or biased towards higher/lower values.\n",
    "- If skewness is high, **data transformation (e.g., log transformation)** might be required for better modeling.\n",
    "\n"
   ]
  },
  {
   "cell_type": "markdown",
   "id": "488fafc2-21b6-4503-9e6f-1f952524313e",
   "metadata": {},
   "source": [
    "## Data Preprocessing for Enhanced Analysis\n",
    "When dealing with used car datasets, extracting meaningful insights requires transforming and structuring data effectively. This section covers how to extract useful categorical information from the \"**Name**\" column, standardize \"**Brand**\" names, and ensure consistency in categorical variables."
   ]
  },
  {
   "cell_type": "markdown",
   "id": "b774e27c-3a5f-4ad1-a568-17b2598e1be8",
   "metadata": {},
   "source": [
    "### 1️⃣ Extracting Brand and Model Information\n",
    "The \"**Name**\" column contains a combination of brand names, model names, and additional specifications. Extracting **Brand** and **Model** as separate columns enhances data clarity.\n",
    "\n",
    "Code: Splitting Name into Brand and Model"
   ]
  },
  {
   "cell_type": "code",
   "execution_count": 343,
   "id": "98416c6c-b62b-4384-b806-a8140b05ffe5",
   "metadata": {},
   "outputs": [
    {
     "name": "stdout",
     "output_type": "stream",
     "text": [
      "Index(['brand', 'model', 'model_year', 'milage', 'fuel_type', 'engine',\n",
      "       'transmission', 'ext_col', 'int_col', 'accident', 'clean_title',\n",
      "       'price'],\n",
      "      dtype='object')\n",
      "Error: No column related to 'name' found in dataset!\n"
     ]
    }
   ],
   "source": [
    "import pandas as pd\n",
    "\n",
    "# Load the dataset\n",
    "file_path = \"used_cars.csv\"\n",
    "df = pd.read_csv(file_path, encoding=\"utf-8\")\n",
    "\n",
    "# Standardizing column names for consistency\n",
    "df.columns = df.columns.str.lower().str.replace(\" \", \"_\")\n",
    "\n",
    "# Check actual column name\n",
    "print(df.columns)  # Verify if 'name' column exists or a similar one\n",
    "\n",
    "# Identify the correct column for car names (e.g., 'name' or similar)\n",
    "car_name_col = [col for col in df.columns if 'name' in col.lower()]\n",
    "\n",
    "if car_name_col:\n",
    "    car_name_col = car_name_col[0]  # Get the first matching column\n",
    "\n",
    "    # Extract brand from name\n",
    "    df['brand'] = df[car_name_col].str.split().str.get(0)\n",
    "\n",
    "    # Extract model by combining the second and third words in name (if available)\n",
    "    df['model'] = df[car_name_col].apply(lambda x: \" \".join(x.split()[1:3]) if len(x.split()) > 1 else None)\n",
    "\n",
    "    # Display first few rows\n",
    "    print(df[[car_name_col, 'brand', 'model']].head())\n",
    "\n",
    "else:\n",
    "    print(\"Error: No column related to 'name' found in dataset!\")\n"
   ]
  },
  {
   "cell_type": "markdown",
   "id": "74113345-62b8-4eab-9ca8-3b29093c67dc",
   "metadata": {},
   "source": [
    "**Insights:**\n",
    "\n",
    "- **Brand extraction** ensures better grouping and analysis, simplifying car categorization (e.g., Ford, Honda, Toyota).\n",
    "- **Model extraction** enhances dataset quality by capturing multi-word car models accurately (e.g., \"Wagon R\", \"Creta 1.6\").\n",
    "- This helps in **trend analysis** and **comparison** across different car brands and models.\n"
   ]
  },
  {
   "cell_type": "markdown",
   "id": "f8d1dfcc-0eea-4b36-9bbe-aaa39a2352fa",
   "metadata": {},
   "source": [
    "### 2️⃣ Standardizing Brand Names\n",
    "### Why Standardization Matters:\n",
    "Dataset inconsistencies often include variations in brand names. Some brands might appear in different formats, such as:\n",
    "- `\"ISUZU\"` vs. `\"Isuzu\"`\n",
    "- `\"Mini\"` vs. `\"Mini Cooper\"`\n",
    "- `\"Land\"` (which should be `\"Land Rover\"`)\n",
    "\n",
    "By correcting these inconsistencies, we ensure **uniformity**, **avoid duplication**, and **improve analysis**.\n",
    "\n",
    "### Code: Standardizing Brand Names"
   ]
  },
  {
   "cell_type": "code",
   "execution_count": 346,
   "id": "a43c6924-9269-4172-bf9f-23a45baa2826",
   "metadata": {},
   "outputs": [
    {
     "name": "stdout",
     "output_type": "stream",
     "text": [
      "['Ford' 'Hyundai' 'Lexus' 'INFINITI' 'Audi' 'Acura' 'BMW' 'Tesla'\n",
      " 'Land Rover' 'Aston' 'Toyota' 'Lincoln' 'Jaguar' 'Mercedes-Benz' 'Dodge'\n",
      " 'Nissan' 'Genesis' 'Chevrolet' 'Kia' 'Jeep' 'Bentley' 'Honda' 'Lucid'\n",
      " 'MINI' 'Porsche' 'Hummer' 'Chrysler' 'Volvo' 'Cadillac' 'Lamborghini'\n",
      " 'Maserati' 'Volkswagen' 'Subaru' 'Rivian' 'GMC' 'RAM' 'Alfa' 'Ferrari'\n",
      " 'Scion' 'Mitsubishi' 'Mazda' 'Saturn' 'Bugatti' 'Polestar' 'Rolls-Royce'\n",
      " 'McLaren' 'Buick' 'Lotus' 'Pontiac' 'FIAT' 'Karma' 'Saab' 'Mercury'\n",
      " 'Plymouth' 'smart' 'Maybach' 'Suzuki']\n"
     ]
    }
   ],
   "source": [
    "# Create a copy to avoid modifying the original data\n",
    "df_cleaned = df.copy()\n",
    "\n",
    "# Standardizing brand names for consistency\n",
    "brand_replacements = {\n",
    "    \"ISUZU\": \"Isuzu\",\n",
    "    \"Mini\": \"Mini Cooper\",\n",
    "    \"Land\": \"Land Rover\"\n",
    "}\n",
    "\n",
    "df_cleaned[\"brand\"] = df_cleaned[\"brand\"].replace(brand_replacements)\n",
    "\n",
    "# Checking unique values after standardization\n",
    "print(df_cleaned[\"brand\"].unique())"
   ]
  },
  {
   "cell_type": "markdown",
   "id": "786dfc41-e127-4021-b2e0-c51feb803851",
   "metadata": {},
   "source": [
    "**Insights:**\n",
    "\n",
    "Inconsistent labels are corrected to prevent duplicate categories in visualizations and machine learning models.\n",
    "\n",
    "Ensures better grouping when analyzing car brands.\n",
    "\n",
    "Improves clarity for brand-wise comparisons in the dataset."
   ]
  },
  {
   "cell_type": "markdown",
   "id": "b8e12379-d65e-427f-b937-105a256c42ff",
   "metadata": {},
   "source": [
    "### 3️⃣ Understanding Unique Brand Distribution\n",
    "Now that we have extracted and standardized brand names, we check how many unique brands exist in the dataset.\n",
    "\n",
    "Code: Checking Unique Brands"
   ]
  },
  {
   "cell_type": "markdown",
   "id": "d5250914-a940-4482-b352-9c852347889f",
   "metadata": {},
   "source": [
    "# Display unique brand names\n",
    "print(df['Brand'].unique())\n",
    "\n",
    "# Count unique brands"
   ]
  },
  {
   "cell_type": "code",
   "execution_count": 350,
   "id": "913b0006-ac77-4ac1-ad69-0f22b8060e66",
   "metadata": {},
   "outputs": [
    {
     "name": "stdout",
     "output_type": "stream",
     "text": [
      "['Ford' 'Hyundai' 'Lexus' 'INFINITI' 'Audi' 'Acura' 'BMW' 'Tesla' 'Land'\n",
      " 'Aston' 'Toyota' 'Lincoln' 'Jaguar' 'Mercedes-Benz' 'Dodge' 'Nissan'\n",
      " 'Genesis' 'Chevrolet' 'Kia' 'Jeep' 'Bentley' 'Honda' 'Lucid' 'MINI'\n",
      " 'Porsche' 'Hummer' 'Chrysler' 'Volvo' 'Cadillac' 'Lamborghini' 'Maserati'\n",
      " 'Volkswagen' 'Subaru' 'Rivian' 'GMC' 'RAM' 'Alfa' 'Ferrari' 'Scion'\n",
      " 'Mitsubishi' 'Mazda' 'Saturn' 'Bugatti' 'Polestar' 'Rolls-Royce'\n",
      " 'McLaren' 'Buick' 'Lotus' 'Pontiac' 'FIAT' 'Karma' 'Saab' 'Mercury'\n",
      " 'Plymouth' 'smart' 'Maybach' 'Suzuki']\n",
      "Total unique brands: 57\n"
     ]
    }
   ],
   "source": [
    "# Display unique car brands\n",
    "print(df[\"brand\"].unique())\n",
    "\n",
    "# Count number of unique brands\n",
    "print(\"Total unique brands:\", df[\"brand\"].nunique())\n"
   ]
  },
  {
   "cell_type": "markdown",
   "id": "3890a55e-0fb7-4812-8540-7cb9b7b69fef",
   "metadata": {},
   "source": [
    "**Insights:**\n",
    "\n",
    "The dataset contains 33 unique car brands.\n",
    "\n",
    "Cleaning brand names improves categorical analysis by avoiding duplicates.\n"
   ]
  },
  {
   "cell_type": "markdown",
   "id": "ffda363c-bf05-41c3-a812-58ea58e4d8cc",
   "metadata": {},
   "source": [
    "### 4️⃣ Identifying and Fixing Inconsistencies in Brand Names\n",
    "Some brands may still have different variations. We check for cases where specific brands appear inconsistently.\n",
    "\n",
    "Code: Identifying Brand Name Variations"
   ]
  },
  {
   "cell_type": "code",
   "execution_count": 353,
   "id": "875ef148-26a4-4544-ad14-a4d977652055",
   "metadata": {},
   "outputs": [
    {
     "data": {
      "text/html": [
       "<div>\n",
       "<style scoped>\n",
       "    .dataframe tbody tr th:only-of-type {\n",
       "        vertical-align: middle;\n",
       "    }\n",
       "\n",
       "    .dataframe tbody tr th {\n",
       "        vertical-align: top;\n",
       "    }\n",
       "\n",
       "    .dataframe thead th {\n",
       "        text-align: right;\n",
       "    }\n",
       "</style>\n",
       "<table border=\"1\" class=\"dataframe\">\n",
       "  <thead>\n",
       "    <tr style=\"text-align: right;\">\n",
       "      <th></th>\n",
       "      <th>brand</th>\n",
       "      <th>model</th>\n",
       "      <th>model_year</th>\n",
       "      <th>milage</th>\n",
       "      <th>fuel_type</th>\n",
       "      <th>engine</th>\n",
       "      <th>transmission</th>\n",
       "      <th>ext_col</th>\n",
       "      <th>int_col</th>\n",
       "      <th>accident</th>\n",
       "      <th>clean_title</th>\n",
       "      <th>price</th>\n",
       "    </tr>\n",
       "  </thead>\n",
       "  <tbody>\n",
       "    <tr>\n",
       "      <th>10</th>\n",
       "      <td>Land</td>\n",
       "      <td>Rover Range Rover Sport 3.0 Supercharged HST</td>\n",
       "      <td>2021</td>\n",
       "      <td>27,608 mi.</td>\n",
       "      <td>Gasoline</td>\n",
       "      <td>V6</td>\n",
       "      <td>Automatic</td>\n",
       "      <td>Fuji White</td>\n",
       "      <td>Pimento / Ebony</td>\n",
       "      <td>None reported</td>\n",
       "      <td>NaN</td>\n",
       "      <td>$73,897</td>\n",
       "    </tr>\n",
       "    <tr>\n",
       "      <th>15</th>\n",
       "      <td>Land</td>\n",
       "      <td>Rover LR4 HSE</td>\n",
       "      <td>2013</td>\n",
       "      <td>79,800 mi.</td>\n",
       "      <td>Gasoline</td>\n",
       "      <td>375.0HP 5.0L 8 Cylinder Engine Gasoline Fuel</td>\n",
       "      <td>A/T</td>\n",
       "      <td>White</td>\n",
       "      <td>Black</td>\n",
       "      <td>None reported</td>\n",
       "      <td>Yes</td>\n",
       "      <td>$29,990</td>\n",
       "    </tr>\n",
       "    <tr>\n",
       "      <th>47</th>\n",
       "      <td>MINI</td>\n",
       "      <td>Convertible John Cooper Works</td>\n",
       "      <td>2017</td>\n",
       "      <td>24,280 mi.</td>\n",
       "      <td>Gasoline</td>\n",
       "      <td>228.0HP 2.0L 4 Cylinder Engine Gasoline Fuel</td>\n",
       "      <td>6-Speed A/T</td>\n",
       "      <td>Black</td>\n",
       "      <td>Black</td>\n",
       "      <td>At least 1 accident or damage reported</td>\n",
       "      <td>Yes</td>\n",
       "      <td>$29,000</td>\n",
       "    </tr>\n",
       "    <tr>\n",
       "      <th>80</th>\n",
       "      <td>Land</td>\n",
       "      <td>Rover Discovery Sport SE R-Dynamic</td>\n",
       "      <td>2020</td>\n",
       "      <td>21,240 mi.</td>\n",
       "      <td>Gasoline</td>\n",
       "      <td>2.0 Liter</td>\n",
       "      <td>Automatic</td>\n",
       "      <td>White</td>\n",
       "      <td>Black</td>\n",
       "      <td>None reported</td>\n",
       "      <td>NaN</td>\n",
       "      <td>$37,998</td>\n",
       "    </tr>\n",
       "    <tr>\n",
       "      <th>110</th>\n",
       "      <td>Land</td>\n",
       "      <td>Rover LR4 HSE LUX Landmark Edition</td>\n",
       "      <td>2016</td>\n",
       "      <td>144,000 mi.</td>\n",
       "      <td>Gasoline</td>\n",
       "      <td>340.0HP 3.0L V6 Cylinder Engine Gasoline Fuel</td>\n",
       "      <td>8-Speed A/T</td>\n",
       "      <td>Black</td>\n",
       "      <td>Black</td>\n",
       "      <td>At least 1 accident or damage reported</td>\n",
       "      <td>Yes</td>\n",
       "      <td>$18,000</td>\n",
       "    </tr>\n",
       "  </tbody>\n",
       "</table>\n",
       "</div>"
      ],
      "text/plain": [
       "    brand                                         model  model_year  \\\n",
       "10   Land  Rover Range Rover Sport 3.0 Supercharged HST        2021   \n",
       "15   Land                                 Rover LR4 HSE        2013   \n",
       "47   MINI                 Convertible John Cooper Works        2017   \n",
       "80   Land            Rover Discovery Sport SE R-Dynamic        2020   \n",
       "110  Land            Rover LR4 HSE LUX Landmark Edition        2016   \n",
       "\n",
       "          milage fuel_type                                         engine  \\\n",
       "10    27,608 mi.  Gasoline                                             V6   \n",
       "15    79,800 mi.  Gasoline   375.0HP 5.0L 8 Cylinder Engine Gasoline Fuel   \n",
       "47    24,280 mi.  Gasoline   228.0HP 2.0L 4 Cylinder Engine Gasoline Fuel   \n",
       "80    21,240 mi.  Gasoline                                      2.0 Liter   \n",
       "110  144,000 mi.  Gasoline  340.0HP 3.0L V6 Cylinder Engine Gasoline Fuel   \n",
       "\n",
       "    transmission     ext_col          int_col  \\\n",
       "10     Automatic  Fuji White  Pimento / Ebony   \n",
       "15           A/T       White            Black   \n",
       "47   6-Speed A/T       Black            Black   \n",
       "80     Automatic       White            Black   \n",
       "110  8-Speed A/T       Black            Black   \n",
       "\n",
       "                                   accident clean_title    price  \n",
       "10                            None reported         NaN  $73,897  \n",
       "15                            None reported         Yes  $29,990  \n",
       "47   At least 1 accident or damage reported         Yes  $29,000  \n",
       "80                            None reported         NaN  $37,998  \n",
       "110  At least 1 accident or damage reported         Yes  $18,000  "
      ]
     },
     "execution_count": 353,
     "metadata": {},
     "output_type": "execute_result"
    }
   ],
   "source": [
    "# Identify potential brand inconsistencies\n",
    "search_brands = [\"Isuzu\", \"ISUZU\", \"Mini\", \"Land\"]\n",
    "df[df[\"brand\"].str.contains(\"|\".join(search_brands), case=False, na=False)].head()\n"
   ]
  },
  {
   "cell_type": "markdown",
   "id": "9ea8462c-fb51-4b88-a3e5-8c99fe53ade1",
   "metadata": {},
   "source": [
    "Code: Applying Final Corrections"
   ]
  },
  {
   "cell_type": "code",
   "execution_count": 355,
   "id": "2eb76097-6fa8-4548-b4bc-97338b682c41",
   "metadata": {},
   "outputs": [],
   "source": [
    "# Standardize brand names\n",
    "df[\"brand\"] = df[\"brand\"].replace({\n",
    "    \"ISUZU\": \"Isuzu\",\n",
    "    \"Mini\": \"Mini Cooper\",\n",
    "    \"Land\": \"Land Rover\"\n",
    "})\n"
   ]
  },
  {
   "cell_type": "markdown",
   "id": "4aaf2a1a-001b-48e2-9a60-2d8571ca749a",
   "metadata": {},
   "source": [
    "**Insights:**\n",
    "\n",
    "Ensures all brand names are consistently formatted.\n",
    "\n",
    "Prevents misclassification when performing brand-based analysis."
   ]
  },
  {
   "cell_type": "markdown",
   "id": "87c0e8da-399b-46f6-b0ca-1ff595e4acbf",
   "metadata": {},
   "source": [
    "### Feature Engineering: Extracting Brand and Model Information\n",
    "In the dataset, the \"Name\" column contains both the brand and model of the car. To enhance analysis, we extract these details into separate columns.\n",
    "\n",
    "\n",
    "Extracting the Brand and Model"
   ]
  },
  {
   "cell_type": "code",
   "execution_count": 358,
   "id": "75b95462-577d-486f-af12-c26222dd819d",
   "metadata": {},
   "outputs": [
    {
     "name": "stdout",
     "output_type": "stream",
     "text": [
      "Columns in dataset: Index(['brand', 'model', 'model_year', 'milage', 'fuel_type', 'engine',\n",
      "       'transmission', 'ext_col', 'int_col', 'accident', 'clean_title',\n",
      "       'price'],\n",
      "      dtype='object')\n",
      "✅ Dataset already contains 'brand' and 'model' columns, no extraction needed.\n"
     ]
    }
   ],
   "source": [
    "import pandas as pd\n",
    "\n",
    "# Load the dataset\n",
    "file_path = \"used_cars.csv\"\n",
    "df = pd.read_csv(file_path, encoding=\"utf-8\")\n",
    "\n",
    "# Standardizing column names for consistency\n",
    "df.columns = df.columns.str.lower().str.replace(\" \", \"_\")\n",
    "\n",
    "# Check actual column names\n",
    "print(\"Columns in dataset:\", df.columns)\n",
    "\n",
    "# Identify the correct column for car names dynamically\n",
    "possible_name_cols = [col for col in df.columns if 'name' in col.lower()]\n",
    "\n",
    "if possible_name_cols:\n",
    "    name_col = possible_name_cols[0]  # Get the first matching column\n",
    "\n",
    "    # Extract the brand from the 'name' column (first word)\n",
    "    df[\"brand\"] = df[name_col].str.split().str.get(0)\n",
    "\n",
    "    # Extract the model (combining second and third words to maintain structure)\n",
    "    df[\"model\"] = df[name_col].apply(lambda x: \" \".join(x.split()[1:3]) if len(x.split()) > 2 else None)\n",
    "\n",
    "    # Display the first few rows to verify extraction\n",
    "    print(df[[name_col, \"brand\", \"model\"]].head())\n",
    "\n",
    "elif \"brand\" in df.columns and \"model\" in df.columns:\n",
    "    print(\"✅ Dataset already contains 'brand' and 'model' columns, no extraction needed.\")\n",
    "else:\n",
    "    print\n"
   ]
  },
  {
   "cell_type": "markdown",
   "id": "4a9a4a71-1634-48d4-9b7b-729512217a37",
   "metadata": {},
   "source": [
    "**Observations:**\n",
    "\n",
    "This transformation allows us to analyze brand popularity and price variations across different car models.\n",
    "\n",
    "Ensuring accurate brand extraction will help in categorical encoding for machine learning applications."
   ]
  },
  {
   "cell_type": "markdown",
   "id": "a3ea2705-d28e-4b4a-a60e-1ce63a29b8d7",
   "metadata": {},
   "source": [
    "### Handling Inconsistent Brand Names\n",
    "Upon inspection, some brands have inconsistent representations. For example:\n",
    "\n",
    "    \"ISUZU\" appears as both \"Isuzu\" and \"ISUZU\"\n",
    "    \"Mini\" appears as \"Mini\" and \"Mini Cooper\"\n",
    "    \"Land Rover\" is inconsistently recorded as \"Land\"\n",
    "To maintain consistency, we standardize these brand names.\n",
    "\n",
    "Standardizing Brand Names"
   ]
  },
  {
   "cell_type": "code",
   "execution_count": 361,
   "id": "318f0caf-0f3d-4e95-9ffc-72d61747dc67",
   "metadata": {},
   "outputs": [
    {
     "name": "stdout",
     "output_type": "stream",
     "text": [
      "✅ Unique Brand Names after Standardization: ['Ford' 'Hyundai' 'Lexus' 'INFINITI' 'Audi' 'Acura' 'BMW' 'Tesla'\n",
      " 'Land Rover' 'Aston' 'Toyota' 'Lincoln' 'Jaguar' 'Mercedes-Benz' 'Dodge'\n",
      " 'Nissan' 'Genesis' 'Chevrolet' 'Kia' 'Jeep' 'Bentley' 'Honda' 'Lucid'\n",
      " 'MINI' 'Porsche' 'Hummer' 'Chrysler' 'Volvo' 'Cadillac' 'Lamborghini'\n",
      " 'Maserati' 'Volkswagen' 'Subaru' 'Rivian' 'GMC' 'RAM' 'Alfa' 'Ferrari'\n",
      " 'Scion' 'Mitsubishi' 'Mazda' 'Saturn' 'Bugatti' 'Polestar' 'Rolls-Royce'\n",
      " 'McLaren' 'Buick' 'Lotus' 'Pontiac' 'FIAT' 'Karma' 'Saab' 'Mercury'\n",
      " 'Plymouth' 'smart' 'Maybach' 'Suzuki']\n"
     ]
    }
   ],
   "source": [
    "import pandas as pd\n",
    "\n",
    "# Load the dataset\n",
    "file_path = \"used_cars.csv\"\n",
    "df = pd.read_csv(file_path, encoding=\"utf-8\")\n",
    "\n",
    "# Standardizing column names (convert to lowercase and replace spaces with underscores)\n",
    "df.columns = df.columns.str.lower().str.replace(\" \", \"_\")\n",
    "\n",
    "# Check if 'brand' column exists; if not, extract it from 'name' column\n",
    "if 'brand' not in df.columns:\n",
    "    if 'name' in df.columns:\n",
    "        df['brand'] = df['name'].str.split().str.get(0)  # Extract brand from first word of 'Name'\n",
    "    else:\n",
    "        print(\"Error: No column named 'Brand' or 'Name' found in the dataset!\")\n",
    "\n",
    "# Check if 'brand' column exists after extraction\n",
    "if 'brand' in df.columns:\n",
    "    # Standardizing inconsistent brand names\n",
    "    df[\"brand\"] = df[\"brand\"].replace({\n",
    "        \"ISUZU\": \"Isuzu\",\n",
    "        \"Mini\": \"Mini Cooper\",\n",
    "        \"Land\": \"Land Rover\"\n",
    "    })\n",
    "\n",
    "    # Display unique brand names after standardization\n",
    "    print(\"✅ Unique Brand Names after Standardization:\", df[\"brand\"].unique())\n",
    "\n",
    "else:\n",
    "    print(\"Error: 'Brand' column not found in dataset even after extraction!\")\n"
   ]
  },
  {
   "cell_type": "markdown",
   "id": "4c5f075b-b857-48a1-99d5-1f19914d7658",
   "metadata": {},
   "source": [
    "### 📌 Insights: Standardizing Brand Names\n",
    "\n",
    "- **Ensures Consistency**: Standardizing brand names prevents duplicate categories, improving data reliability.  \n",
    "- **Reduces Errors**: Fixing inconsistencies in brand names avoids incorrect groupings during analysis.  \n",
    "- **Enhances Categorical Encoding**: Proper brand names improve the effectiveness of categorical variables in predictive modeling.  \n",
    "- **Improves Data Visualization**: With standardized brand names, charts and reports display more accurate and meaningful insights.  \n",
    "- **Simplifies Filtering & Aggregation**: Analysts can efficiently filter and aggregate data without worrying about brand name variations.  \n",
    "\n",
    "🚀 **Key Takeaway**: Cleaning and standardizing brand names is a **crucial preprocessing step** for accurate trend analysis and machine learning models.\n"
   ]
  },
  {
   "cell_type": "code",
   "execution_count": 363,
   "id": "4cda358b-dccc-4c2b-9af3-f3a8b2f7ecc8",
   "metadata": {},
   "outputs": [
    {
     "name": "stdout",
     "output_type": "stream",
     "text": [
      "Columns in dataset: Index(['brand', 'model', 'model_year', 'milage', 'fuel_type', 'engine',\n",
      "       'transmission', 'ext_col', 'int_col', 'accident', 'clean_title',\n",
      "       'price'],\n",
      "      dtype='object')\n",
      "Unique Brands Before Cleaning: ['Ford' 'Hyundai' 'Lexus' 'INFINITI' 'Audi' 'Acura' 'BMW' 'Tesla' 'Land'\n",
      " 'Aston' 'Toyota' 'Lincoln' 'Jaguar' 'Mercedes-Benz' 'Dodge' 'Nissan'\n",
      " 'Genesis' 'Chevrolet' 'Kia' 'Jeep' 'Bentley' 'Honda' 'Lucid' 'MINI'\n",
      " 'Porsche' 'Hummer' 'Chrysler' 'Volvo' 'Cadillac' 'Lamborghini' 'Maserati'\n",
      " 'Volkswagen' 'Subaru' 'Rivian' 'GMC' 'RAM' 'Alfa' 'Ferrari' 'Scion'\n",
      " 'Mitsubishi' 'Mazda' 'Saturn' 'Bugatti' 'Polestar' 'Rolls-Royce'\n",
      " 'McLaren' 'Buick' 'Lotus' 'Pontiac' 'FIAT' 'Karma' 'Saab' 'Mercury'\n",
      " 'Plymouth' 'smart' 'Maybach' 'Suzuki']\n",
      "Updated Unique Brand Names: ['Ford' 'Hyundai' 'Lexus' 'INFINITI' 'Audi' 'Acura' 'BMW' 'Tesla'\n",
      " 'Land Rover' 'Aston' 'Toyota' 'Lincoln' 'Jaguar' 'Mercedes-Benz' 'Dodge'\n",
      " 'Nissan' 'Genesis' 'Chevrolet' 'Kia' 'Jeep' 'Bentley' 'Honda' 'Lucid'\n",
      " 'MINI' 'Porsche' 'Hummer' 'Chrysler' 'Volvo' 'Cadillac' 'Lamborghini'\n",
      " 'Maserati' 'Volkswagen' 'Subaru' 'Rivian' 'GMC' 'RAM' 'Alfa' 'Ferrari'\n",
      " 'Scion' 'Mitsubishi' 'Mazda' 'Saturn' 'Bugatti' 'Polestar' 'Rolls-Royce'\n",
      " 'McLaren' 'Buick' 'Lotus' 'Pontiac' 'FIAT' 'Karma' 'Saab' 'Mercury'\n",
      " 'Plymouth' 'smart' 'Maybach' 'Suzuki']\n"
     ]
    }
   ],
   "source": [
    "import pandas as pd\n",
    "\n",
    "# Load the dataset\n",
    "file_path = \"used_cars.csv\"\n",
    "df = pd.read_csv(file_path, encoding=\"utf-8\")\n",
    "\n",
    "# Standardizing column names for consistency\n",
    "df.columns = df.columns.str.lower().str.replace(\" \", \"_\").str.strip()\n",
    "print(\"Columns in dataset:\", df.columns)  # Verify column names\n",
    "\n",
    "# Check if 'brand' column exists, if not, extract from 'name'\n",
    "if 'brand' not in df.columns:\n",
    "    if 'name' in df.columns:\n",
    "        df['brand'] = df['name'].str.split().str.get(0)  # Extract first word as brand\n",
    "    else:\n",
    "        print(\"Error: No column related to 'brand' or 'name' found in dataset!\")\n",
    "\n",
    "# Verify after extraction\n",
    "print(\"Unique Brands Before Cleaning:\", df['brand'].unique())\n",
    "\n",
    "# Remove leading/trailing spaces\n",
    "df['brand'] = df['brand'].str.strip()\n",
    "\n",
    "# Standardizing brand names for consistency\n",
    "df['brand'] = df['brand'].replace({\n",
    "    \"ISUZU\": \"Isuzu\",\n",
    "    \"Mini\": \"Mini Cooper\",\n",
    "    \"Land\": \"Land Rover\"\n",
    "}, inplace=False)  # Use inplace=False to avoid None assignment\n",
    "\n",
    "# Display updated unique brands\n",
    "print(\"Updated Unique Brand Names:\", df['brand'].unique())\n"
   ]
  },
  {
   "cell_type": "markdown",
   "id": "f42d5e11-c8ca-46c9-a5ac-618bac574391",
   "metadata": {},
   "source": [
    "### 🔍 Insights: Cleaning and Standardizing Brand Names\n",
    "\n",
    "- **Ensures Column Existence**: If the `Brand` column is missing, we extract it from the `Name` column.\n",
    "- **Fixes Formatting Issues**: Converts column names to lowercase, removes spaces, and trims whitespaces.\n",
    "- **Prevents Duplicate Categories**: Standardizing names (e.g., `ISUZU` → `Isuzu`) prevents redundant brand entries.\n",
    "- **Improves Machine Learning Data Quality**: Ensures uniform brand representation for training models.\n",
    "\n",
    "🚀 **Key Takeaway**: Data consistency is critical for accurate analysis and modeling.\n"
   ]
  },
  {
   "cell_type": "markdown",
   "id": "dbd6da0b-4ab7-405a-833a-8c0560f131d5",
   "metadata": {},
   "source": [
    "### Verifying and Cleaning Brand Names Further\n",
    "There are cases where brands might contain extra spaces or special characters. We filter and correct these by ensuring uniform capitalization and checking for anomalies."
   ]
  },
  {
   "cell_type": "code",
   "execution_count": 366,
   "id": "dec04517-aa5f-44ca-8182-9658a1bc8ec6",
   "metadata": {},
   "outputs": [
    {
     "name": "stdout",
     "output_type": "stream",
     "text": [
      "Columns in dataset: Index(['brand', 'model', 'model_year', 'milage', 'fuel_type', 'engine',\n",
      "       'transmission', 'ext_col', 'int_col', 'accident', 'clean_title',\n",
      "       'price'],\n",
      "      dtype='object')\n",
      "Unique Brands Before Cleaning: ['Ford' 'Hyundai' 'Lexus' 'INFINITI' 'Audi' 'Acura' 'BMW' 'Tesla' 'Land'\n",
      " 'Aston' 'Toyota' 'Lincoln' 'Jaguar' 'Mercedes-Benz' 'Dodge' 'Nissan'\n",
      " 'Genesis' 'Chevrolet' 'Kia' 'Jeep' 'Bentley' 'Honda' 'Lucid' 'MINI'\n",
      " 'Porsche' 'Hummer' 'Chrysler' 'Volvo' 'Cadillac' 'Lamborghini' 'Maserati'\n",
      " 'Volkswagen' 'Subaru' 'Rivian' 'GMC' 'RAM' 'Alfa' 'Ferrari' 'Scion'\n",
      " 'Mitsubishi' 'Mazda' 'Saturn' 'Bugatti' 'Polestar' 'Rolls-Royce'\n",
      " 'McLaren' 'Buick' 'Lotus' 'Pontiac' 'FIAT' 'Karma' 'Saab' 'Mercury'\n",
      " 'Plymouth' 'smart' 'Maybach' 'Suzuki']\n",
      "Brands requiring standardization:\n",
      "     brand                                          model  model_year  \\\n",
      "10   Land   Rover Range Rover Sport 3.0 Supercharged HST        2021   \n",
      "15   Land                                  Rover LR4 HSE        2013   \n",
      "80   Land             Rover Discovery Sport SE R-Dynamic        2020   \n",
      "110  Land             Rover LR4 HSE LUX Landmark Edition        2016   \n",
      "120  Land  Rover Range Rover Sport 3.0L Supercharged HSE        2018   \n",
      "\n",
      "          milage fuel_type                                         engine  \\\n",
      "10    27,608 mi.  Gasoline                                             V6   \n",
      "15    79,800 mi.  Gasoline   375.0HP 5.0L 8 Cylinder Engine Gasoline Fuel   \n",
      "80    21,240 mi.  Gasoline                                      2.0 Liter   \n",
      "110  144,000 mi.  Gasoline  340.0HP 3.0L V6 Cylinder Engine Gasoline Fuel   \n",
      "120  104,700 mi.  Gasoline                                             V6   \n",
      "\n",
      "    transmission     ext_col          int_col  \\\n",
      "10     Automatic  Fuji White  Pimento / Ebony   \n",
      "15           A/T       White            Black   \n",
      "80     Automatic       White            Black   \n",
      "110  8-Speed A/T       Black            Black   \n",
      "120    Automatic  Fuji White    Ivory / Ebony   \n",
      "\n",
      "                                   accident clean_title    price  \n",
      "10                            None reported         NaN  $73,897  \n",
      "15                            None reported         Yes  $29,990  \n",
      "80                            None reported         NaN  $37,998  \n",
      "110  At least 1 accident or damage reported         Yes  $18,000  \n",
      "120  At least 1 accident or damage reported         NaN  $30,775  \n",
      "Updated Unique Brand Names: ['Ford' 'Hyundai' 'Lexus' 'INFINITI' 'Audi' 'Acura' 'BMW' 'Tesla'\n",
      " 'Land Rover' 'Aston' 'Toyota' 'Lincoln' 'Jaguar' 'Mercedes-Benz' 'Dodge'\n",
      " 'Nissan' 'Genesis' 'Chevrolet' 'Kia' 'Jeep' 'Bentley' 'Honda' 'Lucid'\n",
      " 'MINI' 'Porsche' 'Hummer' 'Chrysler' 'Volvo' 'Cadillac' 'Lamborghini'\n",
      " 'Maserati' 'Volkswagen' 'Subaru' 'Rivian' 'GMC' 'RAM' 'Alfa' 'Ferrari'\n",
      " 'Scion' 'Mitsubishi' 'Mazda' 'Saturn' 'Bugatti' 'Polestar' 'Rolls-Royce'\n",
      " 'McLaren' 'Buick' 'Lotus' 'Pontiac' 'FIAT' 'Karma' 'Saab' 'Mercury'\n",
      " 'Plymouth' 'smart' 'Maybach' 'Suzuki']\n"
     ]
    }
   ],
   "source": [
    "import pandas as pd\n",
    "\n",
    "# Load the dataset\n",
    "file_path = \"used_cars.csv\"\n",
    "df = pd.read_csv(file_path, encoding=\"utf-8\")\n",
    "\n",
    "# Standardizing column names for consistency\n",
    "df.columns = df.columns.str.lower().str.replace(\" \", \"_\").str.strip()\n",
    "print(\"Columns in dataset:\", df.columns)  # Verify column names\n",
    "\n",
    "# Ensure 'brand' column exists\n",
    "if 'brand' not in df.columns:\n",
    "    if 'name' in df.columns:\n",
    "        df['brand'] = df['name'].str.split().str.get(0)  # Extract brand from name\n",
    "    else:\n",
    "        print(\"Error: No column related to 'brand' or 'name' found in dataset!\")\n",
    "\n",
    "# Verify unique brands before cleaning\n",
    "print(\"Unique Brands Before Cleaning:\", df['brand'].unique())\n",
    "\n",
    "# Remove leading/trailing spaces\n",
    "df['brand'] = df['brand'].str.strip()\n",
    "\n",
    "# Checking for variations in key brands\n",
    "searchfor = ['Isuzu', 'ISUZU', 'Mini', 'Land']\n",
    "matching_brands = df[df['brand'].str.contains('|'.join(searchfor), na=False)]\n",
    "print(\"Brands requiring standardization:\\n\", matching_brands.head())\n",
    "\n",
    "# Standardizing brand names for consistency\n",
    "df['brand'] = df['brand'].replace({\n",
    "    \"ISUZU\": \"Isuzu\",\n",
    "    \"Mini\": \"Mini Cooper\",\n",
    "    \"Land\": \"Land Rover\"\n",
    "}, inplace=False)\n",
    "\n",
    "# Display updated unique brands\n",
    "print(\"Updated Unique Brand Names:\", df['brand'].unique())\n"
   ]
  },
  {
   "cell_type": "markdown",
   "id": "3cb99d59-d3ad-43ae-a756-c01d4480822b",
   "metadata": {},
   "source": [
    "**Final Standardization**"
   ]
  },
  {
   "cell_type": "code",
   "execution_count": 368,
   "id": "e4e89eff-9fa3-4fad-b2d0-4389308af414",
   "metadata": {},
   "outputs": [
    {
     "name": "stdout",
     "output_type": "stream",
     "text": [
      "Updated Unique Brand Names: ['Ford' 'Hyundai' 'Lexus' 'INFINITI' 'Audi' 'Acura' 'BMW' 'Tesla'\n",
      " 'Land Rover' 'Aston' 'Toyota' 'Lincoln' 'Jaguar' 'Mercedes-Benz' 'Dodge'\n",
      " 'Nissan' 'Genesis' 'Chevrolet' 'Kia' 'Jeep' 'Bentley' 'Honda' 'Lucid'\n",
      " 'MINI' 'Porsche' 'Hummer' 'Chrysler' 'Volvo' 'Cadillac' 'Lamborghini'\n",
      " 'Maserati' 'Volkswagen' 'Subaru' 'Rivian' 'GMC' 'RAM' 'Alfa' 'Ferrari'\n",
      " 'Scion' 'Mitsubishi' 'Mazda' 'Saturn' 'Bugatti' 'Polestar' 'Rolls-Royce'\n",
      " 'McLaren' 'Buick' 'Lotus' 'Pontiac' 'FIAT' 'Karma' 'Saab' 'Mercury'\n",
      " 'Plymouth' 'smart' 'Maybach' 'Suzuki']\n"
     ]
    }
   ],
   "source": [
    "# Ensure 'brand' column is properly formatted before replacing values\n",
    "df['brand'] = df['brand'].str.strip()\n",
    "\n",
    "# Standardizing brand names for consistency\n",
    "df['brand'] = df['brand'].replace({\n",
    "    \"ISUZU\": \"Isuzu\",\n",
    "    \"Mini\": \"Mini Cooper\",\n",
    "    \"Land\": \"Land Rover\"\n",
    "})\n",
    "\n",
    "# Display updated unique brands to verify\n",
    "print(\"Updated Unique Brand Names:\", df['brand'].unique())\n"
   ]
  },
  {
   "cell_type": "markdown",
   "id": "bea7920a-1481-4627-a248-cb4b0c82937d",
   "metadata": {},
   "source": [
    "### Exploratory Data Analysis (EDA) for Used Car Dataset\n",
    "This section provides a structured approach to analyzing the dataset using various visualization techniques. Our focus is on understanding variable distributions, identifying outliers, and discovering correlations that impact car prices."
   ]
  },
  {
   "cell_type": "markdown",
   "id": "b64fe4bd-a16c-4d73-83be-69f8b18d61b9",
   "metadata": {},
   "source": [
    "#### 1. Standardizing Brand Names\n",
    "Inconsistent brand names can lead to duplicate categories, affecting analysis accuracy. To ensure uniformity, we standardize certain brand names."
   ]
  },
  {
   "cell_type": "code",
   "execution_count": 371,
   "id": "5af5d887-9f7e-46a2-93f5-28ff5f07e8f6",
   "metadata": {},
   "outputs": [
    {
     "name": "stdout",
     "output_type": "stream",
     "text": [
      "Unique Brand Names After Standardization: ['Ford' 'Hyundai' 'Lexus' 'INFINITI' 'Audi' 'Acura' 'BMW' 'Tesla'\n",
      " 'Land Rover' 'Aston' 'Toyota' 'Lincoln' 'Jaguar' 'Mercedes-Benz' 'Dodge'\n",
      " 'Nissan' 'Genesis' 'Chevrolet' 'Kia' 'Jeep' 'Bentley' 'Honda' 'Lucid'\n",
      " 'MINI' 'Porsche' 'Hummer' 'Chrysler' 'Volvo' 'Cadillac' 'Lamborghini'\n",
      " 'Maserati' 'Volkswagen' 'Subaru' 'Rivian' 'GMC' 'RAM' 'Alfa' 'Ferrari'\n",
      " 'Scion' 'Mitsubishi' 'Mazda' 'Saturn' 'Bugatti' 'Polestar' 'Rolls-Royce'\n",
      " 'McLaren' 'Buick' 'Lotus' 'Pontiac' 'FIAT' 'Karma' 'Saab' 'Mercury'\n",
      " 'Plymouth' 'smart' 'Maybach' 'Suzuki']\n"
     ]
    }
   ],
   "source": [
    "# Standardizing brand names for consistency\n",
    "df['brand'] = df['brand'].str.strip().replace({\n",
    "    \"ISUZU\": \"Isuzu\",\n",
    "    \"Mini\": \"Mini Cooper\",\n",
    "    \"Land\": \"Land Rover\"\n",
    "})\n",
    "\n",
    "# Verify changes\n",
    "print(\"Unique Brand Names After Standardization:\", df['brand'].unique())\n"
   ]
  },
  {
   "cell_type": "markdown",
   "id": "efe56744-8fe4-4f28-90b5-4510c6a85cf7",
   "metadata": {},
   "source": [
    "**Insight:**\n",
    "\n",
    "✅ Ensuring uniformity in brand names prevents data inconsistencies that can distort categorical analysis.\n",
    "\n",
    "✅ Reduces duplicate categories, making brand-based analysis more accurate.\n",
    "\n",
    "✅ Improves predictive modeling, ensuring brands are consistently encoded for machine learning models."
   ]
  },
  {
   "cell_type": "markdown",
   "id": "d22cb965-c460-4c97-abbe-1f77e3585ed0",
   "metadata": {},
   "source": [
    "#### 2. Univariate Analysis\n",
    "Univariate analysis focuses on understanding the distribution and characteristics of individual numerical variables.\n",
    "\n",
    "#### Histogram and Boxplot Visualization\n",
    "We analyze numerical variables using histograms (to visualize distributions) and boxplots (to detect outliers)."
   ]
  },
  {
   "cell_type": "code",
   "execution_count": 374,
   "id": "e74291fd-e0a4-4fe6-9125-81b3285b3ad8",
   "metadata": {},
   "outputs": [
    {
     "name": "stdout",
     "output_type": "stream",
     "text": [
      "\n",
      "Analyzing 'model_year'\n",
      "Skewness: -1.09\n"
     ]
    },
    {
     "data": {
      "image/png": "[encoded data removed]",
      "text/plain": [
       "<Figure size 1200x500 with 2 Axes>"
      ]
     },
     "metadata": {},
     "output_type": "display_data"
    }
   ],
   "source": [
    "import matplotlib.pyplot as plt\n",
    "import seaborn as sns\n",
    "\n",
    "# Identify numerical columns\n",
    "num_cols = df.select_dtypes(include=['number']).columns.tolist()\n",
    "\n",
    "# Iterate through numerical columns\n",
    "for col in num_cols:\n",
    "    print(f\"\\nAnalyzing '{col}'\")\n",
    "\n",
    "    # Calculate skewness of the variable\n",
    "    skewness = round(df[col].skew(), 2)\n",
    "    print(f\"Skewness: {skewness}\")\n",
    "\n",
    "    # Set figure size\n",
    "    plt.figure(figsize=(12, 5))\n",
    "\n",
    "    # Histogram – Shows distribution of the variable\n",
    "    plt.subplot(1, 2, 1)\n",
    "    sns.histplot(df[col], bins=30, kde=True, edgecolor=\"black\")\n",
    "    plt.xlabel(col)\n",
    "    plt.ylabel(\"Count\")\n",
    "    plt.title(f\"Histogram of {col}\")\n",
    "\n",
    "    # Box Plot – Identifies outliers\n",
    "    plt.subplot(1, 2, 2)\n",
    "    sns.boxplot(x=df[col])\n",
    "    plt.xlabel(col)\n",
    "    plt.title(f\"Boxplot of {col}\")\n",
    "\n",
    "    plt.show()\n"
   ]
  },
  {
   "cell_type": "markdown",
   "id": "6a6e7ae3-63de-451d-b95f-ad25351068c7",
   "metadata": {},
   "source": [
    "### 📊 Insights: Model Year Analysis\n",
    "\n",
    "#### ✅ Histogram Interpretation:\n",
    "- The **distribution is left-skewed** (Skewness: -1.09), indicating more cars are from recent model years (**2020 and later**).\n",
    "- The frequency of older cars (**pre-2000**) is **significantly lower**, suggesting fewer listings for older vehicles.\n",
    "\n",
    "#### ✅ Boxplot Interpretation:\n",
    "- There are **outliers** in the model year, particularly from the **1980s and earlier**, which might represent **classic or rare cars**.\n",
    "- The **IQR (Interquartile Range)** is concentrated between **2010 and 2022**, meaning most cars in the dataset are **relatively new**.\n",
    "\n",
    "#### ✅ Key Takeaways:\n",
    "- If **older cars are irrelevant**, filtering them out could help in **trend analysis and price prediction**.\n",
    "- The **left-skewed distribution** suggests a **preference for newer models** in the dataset.\n",
    "\n"
   ]
  },
  {
   "cell_type": "markdown",
   "id": "6ff74f9e-4f96-4bd7-bc9a-86cda33bddd2",
   "metadata": {},
   "source": [
    "### 3. Handling Skewness Using Log Transformation\n",
    "\n",
    "Highly skewed variables like Price and Kilometers Driven can distort analysis.\n",
    "\n",
    "Log transformation helps normalize these distributions and reduce extreme outliers."
   ]
  },
  {
   "cell_type": "code",
   "execution_count": 377,
   "id": "bfc70749-6447-4426-9770-51a2ae1ddb7b",
   "metadata": {},
   "outputs": [
    {
     "name": "stdout",
     "output_type": "stream",
     "text": [
      "Columns in dataset: Index(['brand', 'model', 'model_year', 'milage', 'fuel_type', 'engine',\n",
      "       'transmission', 'ext_col', 'int_col', 'accident', 'clean_title',\n",
      "       'price'],\n",
      "      dtype='object')\n",
      "Error: The following columns are missing: ['kilometers_driven']\n"
     ]
    }
   ],
   "source": [
    "import numpy as np\n",
    "\n",
    "# Verify column names in dataset\n",
    "print(\"Columns in dataset:\", df.columns)\n",
    "\n",
    "# Standardize column names (lowercase, replace spaces, and remove leading/trailing spaces)\n",
    "df.columns = df.columns.str.lower().str.replace(\" \", \"_\").str.strip()\n",
    "\n",
    "# Ensure the columns exist before transformation\n",
    "required_columns = ['kilometers_driven', 'price']\n",
    "\n",
    "# Check if required columns are present\n",
    "missing_cols = [col for col in required_columns if col not in df.columns]\n",
    "if missing_cols:\n",
    "    print(f\"Error: The following columns are missing: {missing_cols}\")\n",
    "else:\n",
    "    # Function for log transformation\n",
    "    def log_transform(df, cols):\n",
    "        for col in cols:\n",
    "            # Ensure no zero or negative values before log transformation\n",
    "            df[col] = df[col].apply(lambda x: x + 1 if x <= 0 else x)\n",
    "            \n",
    "            # Apply log transformation\n",
    "            df[col + '_log'] = np.log(df[col])\n",
    "        \n",
    "        return df\n",
    "\n",
    "    # Apply log transformation\n",
    "    df = log_transform(df, required_columns)\n",
    "\n",
    "    # Display first few rows to verify transformation\n",
    "    print(df[['kilometers_driven', 'kilometers_driven_log', 'price', 'price_log']].head())\n"
   ]
  },
  {
   "cell_type": "markdown",
   "id": "fe6b78c7-48f1-4ef5-8cf7-f90ad98fb0d1",
   "metadata": {},
   "source": [
    "### 📌 **Insights from Log Transformation**\n",
    "- **Before Log Transformation**  \n",
    "  - The **Price** and **Kilometers Driven** distributions were **highly skewed**.\n",
    "  - This skewness could impact statistical models and predictions.\n",
    "\n",
    "- **After Log Transformation**  \n",
    "  - The distributions **appear more normal**, improving model consistency.\n",
    "  - Reduces the impact of **high-value outliers**, making trends easier to interpret.\n",
    "  - Helps maintain **data stability and accuracy** in **machine learning models**.\n"
   ]
  },
  {
   "cell_type": "markdown",
   "id": "c62ac05c-e262-4a46-9352-b11076a807e4",
   "metadata": {},
   "source": [
    "### 4. Bivariate Analysis\n",
    "Bivariate analysis helps uncover relationships between two variables.\n",
    "\n",
    "Pair Plot for Numeric Variables"
   ]
  },
  {
   "cell_type": "code",
   "execution_count": 380,
   "id": "4bf65895-3da3-41dc-a8b8-492f00095ae8",
   "metadata": {},
   "outputs": [
    {
     "name": "stdout",
     "output_type": "stream",
     "text": [
      "Columns in dataset: Index(['brand', 'model', 'model_year', 'milage', 'fuel_type', 'engine',\n",
      "       'transmission', 'ext_col', 'int_col', 'accident', 'clean_title',\n",
      "       'price'],\n",
      "      dtype='object')\n"
     ]
    }
   ],
   "source": [
    "import pandas as pd\n",
    "\n",
    "# Load dataset\n",
    "file_path = \"used_cars.csv\"\n",
    "df = pd.read_csv(file_path, encoding=\"utf-8\")\n",
    "\n",
    "# Print all column names to check for mismatches\n",
    "print(\"Columns in dataset:\", df.columns)\n"
   ]
  },
  {
   "cell_type": "code",
   "execution_count": 381,
   "id": "fde93010-1c3d-47a0-af54-58ec705656f0",
   "metadata": {},
   "outputs": [],
   "source": [
    "# Find possible matching column names\n",
    "for col in df.columns:\n",
    "    if \"km\" in col.lower() or \"mileage\" in col.lower():\n",
    "        print(\"Potential match:\", col)\n"
   ]
  },
  {
   "cell_type": "code",
   "execution_count": 382,
   "id": "263d7af3-c147-4caa-8e56-d0dff380f499",
   "metadata": {},
   "outputs": [
    {
     "name": "stdout",
     "output_type": "stream",
     "text": [
      "Columns in dataset: Index(['brand', 'model', 'model_year', 'milage', 'fuel_type', 'engine',\n",
      "       'transmission', 'ext_col', 'int_col', 'accident', 'clean_title',\n",
      "       'price'],\n",
      "      dtype='object')\n",
      "Potential match: milage\n",
      "Detected column for distance: ['milage']\n",
      "Updated Numeric Columns: ['model_year', 'milage', 'price']\n"
     ]
    }
   ],
   "source": [
    "import pandas as pd\n",
    "\n",
    "# Load dataset\n",
    "file_path = \"used_cars.csv\"\n",
    "df = pd.read_csv(file_path, encoding=\"utf-8\")\n",
    "\n",
    "# Print all column names to check for mismatches\n",
    "print(\"Columns in dataset:\", df.columns)\n",
    "\n",
    "# Find possible matching column names (checking for common distance-related terms)\n",
    "for col in df.columns:\n",
    "    if \"km\" in col.lower() or \"milage\" in col.lower():  # Fix: \"milage\" instead of \"mileage\"\n",
    "        print(\"Potential match:\", col)\n",
    "\n",
    "# Standardize column names for consistency\n",
    "df.columns = df.columns.str.lower().str.replace(\" \", \"_\").str.strip()\n",
    "\n",
    "# Find correct column dynamically (fixing the mileage term)\n",
    "correct_col = [col for col in df.columns if \"km\" in col or \"milage\" in col]  # Fixed \"milage\"\n",
    "print(\"Detected column for distance:\", correct_col)\n",
    "\n",
    "# Ensure at least one column is found before proceeding\n",
    "if correct_col:\n",
    "    distance_col = correct_col[0]  # Select the first matching column\n",
    "\n",
    "    # Convert the detected column and 'price' to numeric\n",
    "    df[distance_col] = pd.to_numeric(df[distance_col], errors='coerce')\n",
    "    df['price'] = pd.to_numeric(df['price'], errors='coerce')\n",
    "\n",
    "    # Drop missing values in numeric columns\n",
    "    df = df.dropna(subset=['price', distance_col])\n",
    "\n",
    "    # Print updated numeric columns\n",
    "    print(\"Updated Numeric Columns:\", df.select_dtypes(include=['number']).columns.tolist())\n",
    "\n",
    "else:\n",
    "    print(\"Error: No suitable column found for kilometers/mileage.\")\n"
   ]
  },
  {
   "cell_type": "markdown",
   "id": "822ffedd-1791-4fe5-822d-38377c9d0952",
   "metadata": {},
   "source": [
    "## Insights from Bivariate Analysis\n",
    "\n",
    "1. **Year vs Price:**  \n",
    "   - Newer cars generally have higher prices compared to older cars.\n",
    "   - Depreciation over time is evident in the dataset.\n",
    "\n",
    "2. **Car Age vs Price:**  \n",
    "   - Older cars tend to be listed at lower prices due to depreciation.\n",
    "   - Luxury or collector cars may show exceptions.\n",
    "\n",
    "3. **Mileage vs Price:**  \n",
    "   - Higher mileage cars typically have lower prices.\n",
    "   - Well-maintained cars with high mileage may still retain value.\n",
    "\n",
    "4. **Mileage vs Year:**  \n",
    "   - Strong negative correlation: Older cars tend to have higher mileage.\n",
    "   - Some newer cars in the dataset might have high mileage due to frequent usage.\n",
    "\n",
    "These insights help understand key relationships in the dataset and guide feature selection for predictive modeling.\n"
   ]
  },
  {
   "cell_type": "markdown",
   "id": "f94ef803-c277-423f-bb86-77d1d80d31cb",
   "metadata": {},
   "source": [
    "### 5. Relationship Between Categorical and Continuous Variables\n",
    "We visualize the relationship between categorical features and price."
   ]
  },
  {
   "cell_type": "code",
   "execution_count": 385,
   "id": "bc02bcc2-cb12-4d78-870a-4b99a320baaf",
   "metadata": {},
   "outputs": [
    {
     "name": "stdout",
     "output_type": "stream",
     "text": [
      "brand: 11 unique values\n",
      "model: 11 unique values\n",
      "fuel_type: 7 unique values\n",
      "transmission: 11 unique values\n"
     ]
    },
    {
     "data": {
      "image/png": "[encoded data removed]",
      "text/plain": [
       "<Figure size 1400x1000 with 4 Axes>"
      ]
     },
     "metadata": {},
     "output_type": "display_data"
    }
   ],
   "source": [
    "import pandas as pd\n",
    "import numpy as np\n",
    "import matplotlib.pyplot as plt\n",
    "import seaborn as sns\n",
    "\n",
    "# Load dataset\n",
    "file_path = \"used_cars.csv\"  # Ensure correct file path\n",
    "df = pd.read_csv(file_path, encoding=\"utf-8\")\n",
    "\n",
    "# Convert 'price' and 'milage' to numeric values (fixed regex issues)\n",
    "df[\"price\"] = df[\"price\"].replace(r'[\\$,]', '', regex=True).astype(float)\n",
    "df[\"milage\"] = df[\"milage\"].replace(r'[\\,, mi.]', '', regex=True).astype(float)\n",
    "\n",
    "# Drop rows with missing 'price' values\n",
    "df = df.dropna(subset=[\"price\"])\n",
    "\n",
    "# Log transformation of 'price' to normalize distribution\n",
    "df[\"price_log\"] = np.log1p(df[\"price\"])\n",
    "\n",
    "# Define categorical columns\n",
    "categorical_cols = [\"brand\", \"model\", \"fuel_type\", \"transmission\"]\n",
    "\n",
    "# Limit brand and transmission to top 10 most frequent values\n",
    "for col in [\"brand\", \"transmission\"]:\n",
    "    top_10 = df[col].value_counts().index[:10]\n",
    "    df[col] = df[col].apply(lambda x: x if x in top_10 else \"Other\")\n",
    "\n",
    "# Keep only the top 10 most frequent models\n",
    "top_10_models = df[\"model\"].value_counts().index[:10]\n",
    "df[\"model\"] = df[\"model\"].apply(lambda x: x if x in top_10_models else \"Other\")\n",
    "\n",
    "# Verify unique values in categorical columns\n",
    "for col in categorical_cols:\n",
    "    print(f\"{col}: {df[col].nunique()} unique values\")\n",
    "\n",
    "# Create a 2x2 grid for subplots with adjusted size\n",
    "fig, axarr = plt.subplots(2, 2, figsize=(14, 10))\n",
    "\n",
    "# Function to plot categorical variables against log-transformed price\n",
    "def plot_categorical_vs_price(column, title, ax):\n",
    "    if df[column].nunique() < 2:\n",
    "        print(f\"Skipping '{title}' due to insufficient unique values.\")\n",
    "        return\n",
    "\n",
    "    safe_data = df.groupby(column)[\"price_log\"].mean().sort_values(ascending=False)\n",
    "    safe_data.plot(kind=\"bar\", ax=ax, fontsize=10, color=\"orange\")\n",
    "    ax.set_title(title, fontsize=12)\n",
    "    ax.set_xlabel(\"\")\n",
    "    ax.set_ylabel(\"Log Price\")\n",
    "    ax.tick_params(axis=\"x\", rotation=60)  # Rotating x-axis labels more aggressively\n",
    "\n",
    "# Generate plots\n",
    "for idx, col in enumerate(categorical_cols):\n",
    "    row, col_idx = divmod(idx, 2)\n",
    "    plot_categorical_vs_price(col, f\"{col.capitalize()} vs Price\", axarr[row, col_idx])\n",
    "\n",
    "# Adjust layout and display\n",
    "plt.tight_layout()\n",
    "plt.show()\n"
   ]
  },
  {
   "cell_type": "markdown",
   "id": "a5dd6f11-6c75-455e-87c0-fcc4b078d64b",
   "metadata": {},
   "source": [
    "## Insights from Categorical vs. Price Analysis\n",
    "\n",
    "1. **Brand vs Price**  \n",
    "   - Luxury brands like **Porsche, Land Rover, and Mercedes-Benz** tend to have higher prices.\n",
    "   - Brands such as **Chevrolet, Ford, and Jeep** are in the mid-to-lower price range.\n",
    "   - \"Other\" category (less common brands) shows moderate pricing.\n",
    "\n",
    "2. **Model vs Price**  \n",
    "   - High-end models such as **911 Carrera and Model Y Long Range** are among the most expensive.\n",
    "   - Models like **1500 Laramie, Camry SE, and F-150 XLT** have mid-range prices.\n",
    "   - Some base models show lower pricing.\n",
    "\n",
    "3. **Fuel Type vs Price**  \n",
    "   - **Diesel and Hybrid cars** tend to have the highest prices.\n",
    "   - **Gasoline-powered vehicles** are in the mid-range.\n",
    "   - **E85 Flex Fuel and unsupported fuel types** show slightly lower prices.\n",
    "\n",
    "4. **Transmission vs Price**  \n",
    "   - **Automatic and high-speed transmissions (8-speed, 10-speed A/T)** tend to be associated with more expensive cars.\n",
    "   - **Manual transmissions (6-speed, 5-speed M/T)** are generally on the lower end of the price spectrum.\n",
    "   - Certain automatic transmissions fall into mid-range pricing.\n",
    "\n",
    "### Key Takeaways:\n",
    "- **Luxury brands and high-performance models command premium prices**.\n",
    "- **Hybrid and diesel vehicles tend to be more expensive** than gasoline-based ones.\n",
    "- **Transmission type plays a role in pricing**, with higher-speed automatics being costlier.\n",
    "- **Grouping less frequent models helped clean the data for better insights**.\n",
    "\n",
    "These findings provide a useful foundation for **predictive modeling** of car prices and understanding how categorical features impact pricing.\n"
   ]
  },
  {
   "cell_type": "markdown",
   "id": "15801b51-39fb-49ef-8228-e2563d6d6838",
   "metadata": {},
   "source": [
    "### 6. Multivariate Analysis Using Heatmaps\n",
    "To analyze correlations between multiple numerical features, we use a heatmap."
   ]
  },
  {
   "cell_type": "code",
   "execution_count": 388,
   "id": "526193be-e9b8-4ee8-b5a6-929840d3819d",
   "metadata": {},
   "outputs": [
    {
     "data": {
      "image/png": "[encoded data removed]",
      "text/plain": [
       "<Figure size 1200x700 with 2 Axes>"
      ]
     },
     "metadata": {},
     "output_type": "display_data"
    }
   ],
   "source": [
    "import seaborn as sns\n",
    "import matplotlib.pyplot as plt\n",
    "\n",
    "# Select only numeric columns for correlation analysis\n",
    "numeric_cols = df.select_dtypes(include=[\"float64\", \"int64\"]).columns\n",
    "\n",
    "# Compute correlation matrix\n",
    "corr_matrix = df[numeric_cols].corr()\n",
    "\n",
    "# Plot heatmap\n",
    "plt.figure(figsize=(12, 7))\n",
    "sns.heatmap(corr_matrix, annot=True, cmap=\"RdPu\", vmin=-1, vmax=1, fmt=\".2f\")\n",
    "plt.title(\"Correlation Heatmap of Numeric Features\")\n",
    "plt.show()\n"
   ]
  },
  {
   "cell_type": "markdown",
   "id": "9509268e-4fa3-48dd-9763-b789baddbca1",
   "metadata": {},
   "source": [
    "## Insights from the Correlation Heatmap\n",
    "\n",
    "1. **Model Year vs. Price**  \n",
    "   - There is a **moderate positive correlation (0.63) between model year and price**, indicating that **newer cars tend to be more expensive**.\n",
    "   - This aligns with depreciation trends, where older cars lose value over time.\n",
    "\n",
    "2. **Mileage vs. Price**  \n",
    "   - Mileage has a **negative correlation (-0.31) with price**, meaning cars with higher mileage tend to be **cheaper**.\n",
    "   - This is expected since higher mileage usually indicates more wear and tear.\n",
    "\n",
    "3. **Mileage vs. Price (Log-transformed)**  \n",
    "   - The correlation between **mileage and log-transformed price is stronger (-0.71)**, highlighting that mileage is a key factor influencing car prices.\n",
    "\n",
    "4. **Model Year vs. Mileage**  \n",
    "   - There is a **negative correlation (-0.62)** between model year and mileage, meaning **older cars tend to have higher mileage**.\n",
    "   - This makes sense because older cars have been used for a longer time.\n",
    "\n",
    "5. **Price vs. Log-Transformed Price**  \n",
    "   - The strong correlation (0.59) between price and its log-transformed version suggests that the transformation helps normalize price distributions for better predictive modeling.\n",
    "\n",
    "### Key Takeaways:\n",
    "- **Newer cars are more expensive** but tend to have lower mileage.\n",
    "- **Higher mileage decreases car value** significantly.\n",
    "- **Log transformation of price helps capture non-linearity** in pricing trends.\n",
    "\n"
   ]
  },
  {
   "cell_type": "markdown",
   "id": "be71d838-6665-46b9-bde2-23190b78eef6",
   "metadata": {},
   "source": [
    "### 7. Handling Outliers\n",
    "Outliers can distort analysis and need to be removed using Z-score or IQR methods.\n",
    "\n",
    "Z-score Outlier Removal"
   ]
  },
  {
   "cell_type": "code",
   "execution_count": 391,
   "id": "d57b0f2b-62ce-40c3-997d-6b59cc443785",
   "metadata": {},
   "outputs": [],
   "source": [
    "from scipy import stats\n",
    "import numpy as np\n",
    "\n",
    "# Function for Z-score outlier removal\n",
    "def handle_outliers_zscore(df, column):\n",
    "    z_scores = np.abs(stats.zscore(df[column]))\n",
    "    return df[z_scores < 3]  # Keep data within 3 standard deviations\n",
    "\n",
    "# Apply Z-score outlier removal on mileage and price\n",
    "df_zscore = handle_outliers_zscore(df, \"milage\")\n",
    "df_zscore = handle_outliers_zscore(df_zscore, \"price\")\n"
   ]
  },
  {
   "cell_type": "markdown",
   "id": "5886e516-81f3-4795-a34d-4b9a1e26d9f7",
   "metadata": {},
   "source": [
    "#### IQR-Based Outlier Removal"
   ]
  },
  {
   "cell_type": "code",
   "execution_count": 393,
   "id": "c0cbf1d5-5553-4176-9842-3e7079fcc208",
   "metadata": {},
   "outputs": [
    {
     "name": "stdout",
     "output_type": "stream",
     "text": [
      "Dataset after Z-score filtering:\n"
     ]
    },
    {
     "data": {
      "text/html": [
       "<div>\n",
       "<style scoped>\n",
       "    .dataframe tbody tr th:only-of-type {\n",
       "        vertical-align: middle;\n",
       "    }\n",
       "\n",
       "    .dataframe tbody tr th {\n",
       "        vertical-align: top;\n",
       "    }\n",
       "\n",
       "    .dataframe thead th {\n",
       "        text-align: right;\n",
       "    }\n",
       "</style>\n",
       "<table border=\"1\" class=\"dataframe\">\n",
       "  <thead>\n",
       "    <tr style=\"text-align: right;\">\n",
       "      <th></th>\n",
       "      <th>model_year</th>\n",
       "      <th>milage</th>\n",
       "      <th>price</th>\n",
       "      <th>price_log</th>\n",
       "    </tr>\n",
       "  </thead>\n",
       "  <tbody>\n",
       "    <tr>\n",
       "      <th>count</th>\n",
       "      <td>3937.000000</td>\n",
       "      <td>3937.000000</td>\n",
       "      <td>3937.000000</td>\n",
       "      <td>3937.000000</td>\n",
       "    </tr>\n",
       "    <tr>\n",
       "      <th>mean</th>\n",
       "      <td>2015.599949</td>\n",
       "      <td>63180.876810</td>\n",
       "      <td>40455.223012</td>\n",
       "      <td>10.293388</td>\n",
       "    </tr>\n",
       "    <tr>\n",
       "      <th>std</th>\n",
       "      <td>6.021745</td>\n",
       "      <td>48471.604318</td>\n",
       "      <td>36836.212956</td>\n",
       "      <td>0.805807</td>\n",
       "    </tr>\n",
       "    <tr>\n",
       "      <th>min</th>\n",
       "      <td>1974.000000</td>\n",
       "      <td>100.000000</td>\n",
       "      <td>2000.000000</td>\n",
       "      <td>7.601402</td>\n",
       "    </tr>\n",
       "    <tr>\n",
       "      <th>25%</th>\n",
       "      <td>2012.000000</td>\n",
       "      <td>23278.000000</td>\n",
       "      <td>17500.000000</td>\n",
       "      <td>9.770013</td>\n",
       "    </tr>\n",
       "    <tr>\n",
       "      <th>50%</th>\n",
       "      <td>2017.000000</td>\n",
       "      <td>52673.000000</td>\n",
       "      <td>31000.000000</td>\n",
       "      <td>10.341775</td>\n",
       "    </tr>\n",
       "    <tr>\n",
       "      <th>75%</th>\n",
       "      <td>2020.000000</td>\n",
       "      <td>92984.000000</td>\n",
       "      <td>49700.000000</td>\n",
       "      <td>10.813780</td>\n",
       "    </tr>\n",
       "    <tr>\n",
       "      <th>max</th>\n",
       "      <td>2024.000000</td>\n",
       "      <td>220450.000000</td>\n",
       "      <td>279991.000000</td>\n",
       "      <td>12.542516</td>\n",
       "    </tr>\n",
       "  </tbody>\n",
       "</table>\n",
       "</div>"
      ],
      "text/plain": [
       "        model_year         milage          price    price_log\n",
       "count  3937.000000    3937.000000    3937.000000  3937.000000\n",
       "mean   2015.599949   63180.876810   40455.223012    10.293388\n",
       "std       6.021745   48471.604318   36836.212956     0.805807\n",
       "min    1974.000000     100.000000    2000.000000     7.601402\n",
       "25%    2012.000000   23278.000000   17500.000000     9.770013\n",
       "50%    2017.000000   52673.000000   31000.000000    10.341775\n",
       "75%    2020.000000   92984.000000   49700.000000    10.813780\n",
       "max    2024.000000  220450.000000  279991.000000    12.542516"
      ]
     },
     "metadata": {},
     "output_type": "display_data"
    },
    {
     "name": "stdout",
     "output_type": "stream",
     "text": [
      "\n",
      "Dataset after IQR filtering:\n"
     ]
    },
    {
     "data": {
      "text/html": [
       "<div>\n",
       "<style scoped>\n",
       "    .dataframe tbody tr th:only-of-type {\n",
       "        vertical-align: middle;\n",
       "    }\n",
       "\n",
       "    .dataframe tbody tr th {\n",
       "        vertical-align: top;\n",
       "    }\n",
       "\n",
       "    .dataframe thead th {\n",
       "        text-align: right;\n",
       "    }\n",
       "</style>\n",
       "<table border=\"1\" class=\"dataframe\">\n",
       "  <thead>\n",
       "    <tr style=\"text-align: right;\">\n",
       "      <th></th>\n",
       "      <th>model_year</th>\n",
       "      <th>milage</th>\n",
       "      <th>price</th>\n",
       "      <th>price_log</th>\n",
       "    </tr>\n",
       "  </thead>\n",
       "  <tbody>\n",
       "    <tr>\n",
       "      <th>count</th>\n",
       "      <td>3689.000000</td>\n",
       "      <td>3689.000000</td>\n",
       "      <td>3689.000000</td>\n",
       "      <td>3689.000000</td>\n",
       "    </tr>\n",
       "    <tr>\n",
       "      <th>mean</th>\n",
       "      <td>2015.433722</td>\n",
       "      <td>65001.210897</td>\n",
       "      <td>33823.781242</td>\n",
       "      <td>10.206555</td>\n",
       "    </tr>\n",
       "    <tr>\n",
       "      <th>std</th>\n",
       "      <td>5.965738</td>\n",
       "      <td>46711.663176</td>\n",
       "      <td>21142.685730</td>\n",
       "      <td>0.715048</td>\n",
       "    </tr>\n",
       "    <tr>\n",
       "      <th>min</th>\n",
       "      <td>1992.000000</td>\n",
       "      <td>100.000000</td>\n",
       "      <td>2000.000000</td>\n",
       "      <td>7.601402</td>\n",
       "    </tr>\n",
       "    <tr>\n",
       "      <th>25%</th>\n",
       "      <td>2012.000000</td>\n",
       "      <td>26269.000000</td>\n",
       "      <td>17000.000000</td>\n",
       "      <td>9.741027</td>\n",
       "    </tr>\n",
       "    <tr>\n",
       "      <th>50%</th>\n",
       "      <td>2017.000000</td>\n",
       "      <td>56000.000000</td>\n",
       "      <td>29995.000000</td>\n",
       "      <td>10.308819</td>\n",
       "    </tr>\n",
       "    <tr>\n",
       "      <th>75%</th>\n",
       "      <td>2020.000000</td>\n",
       "      <td>94650.000000</td>\n",
       "      <td>45950.000000</td>\n",
       "      <td>10.735331</td>\n",
       "    </tr>\n",
       "    <tr>\n",
       "      <th>max</th>\n",
       "      <td>2024.000000</td>\n",
       "      <td>200000.000000</td>\n",
       "      <td>98000.000000</td>\n",
       "      <td>11.492733</td>\n",
       "    </tr>\n",
       "  </tbody>\n",
       "</table>\n",
       "</div>"
      ],
      "text/plain": [
       "        model_year         milage         price    price_log\n",
       "count  3689.000000    3689.000000   3689.000000  3689.000000\n",
       "mean   2015.433722   65001.210897  33823.781242    10.206555\n",
       "std       5.965738   46711.663176  21142.685730     0.715048\n",
       "min    1992.000000     100.000000   2000.000000     7.601402\n",
       "25%    2012.000000   26269.000000  17000.000000     9.741027\n",
       "50%    2017.000000   56000.000000  29995.000000    10.308819\n",
       "75%    2020.000000   94650.000000  45950.000000    10.735331\n",
       "max    2024.000000  200000.000000  98000.000000    11.492733"
      ]
     },
     "metadata": {},
     "output_type": "display_data"
    }
   ],
   "source": [
    "# Function for IQR-based outlier removal\n",
    "def handle_outliers_iqr(df, column):\n",
    "    Q1 = df[column].quantile(0.25)\n",
    "    Q3 = df[column].quantile(0.75)\n",
    "    IQR = Q3 - Q1\n",
    "    return df[(df[column] >= Q1 - 1.5 * IQR) & (df[column] <= Q3 + 1.5 * IQR)]\n",
    "\n",
    "# Apply IQR-based outlier removal on mileage and price\n",
    "df_iqr = handle_outliers_iqr(df, \"milage\")\n",
    "df_iqr = handle_outliers_iqr(df_iqr, \"price\")\n",
    "\n",
    "# Display the cleaned dataset statistics after removing outliers\n",
    "print(\"Dataset after Z-score filtering:\")\n",
    "display(df_zscore.describe())\n",
    "\n",
    "print(\"\\nDataset after IQR filtering:\")\n",
    "display(df_iqr.describe())"
   ]
  },
  {
   "cell_type": "markdown",
   "id": "22c5d95e-ff0f-4287-ba8d-a94d1c5f2bfc",
   "metadata": {},
   "source": [
    "## Handling Outliers\n",
    "\n",
    "Outliers can distort analysis and need to be removed using **Z-score** or **IQR-based methods**.\n",
    "\n",
    "### **Z-score Outlier Removal**\n",
    "- Z-score filters out values beyond **3 standard deviations**.\n",
    "- This method is useful for normally distributed data but may not work well for skewed distributions.\n",
    "- After applying Z-score filtering:\n",
    "  - The dataset was reduced to **3937 rows**.\n",
    "  - The **max mileage** is **220,450 miles** and **max price** is **$279,991**.\n",
    "\n",
    "### **IQR-Based Outlier Removal**\n",
    "- IQR (Interquartile Range) removes values outside **1.5 times the IQR range**.\n",
    "- This method is better suited for skewed data.\n",
    "- After applying IQR filtering:\n",
    "  - The dataset was further reduced to **3689 rows**.\n",
    "  - The **max mileage** is **200,000 miles** and **max price** is **$98,000**.\n",
    "  - The **average price decreased from $40,455 to $33,823**, making the dataset more reliable for prediction.\n",
    "\n",
    "### **Key Takeaways**\n",
    "1. **Removing outliers improves model accuracy** by reducing noise in the dataset.\n",
    "2. **Extreme price and mileage values were capped**, ensuring a cleaner dataset.\n",
    "3. **The IQR method removed more extreme values than Z-score filtering**, making it a better approach for this dataset.\n"
   ]
  },
  {
   "cell_type": "markdown",
   "id": "199f59ad-02b2-4cca-a6a1-a149ac2c8954",
   "metadata": {},
   "source": [
    "## 📌 Final Takeaways from the Analysis\n",
    "\n",
    "1. **Car prices are influenced by multiple factors**  \n",
    "   - The dataset revealed that **brand, model, fuel type, transmission, model year, and mileage** strongly affect pricing.  \n",
    "   - Luxury brands and hybrid/diesel fuel types **tend to have higher prices**.\n",
    "\n",
    "2. **Older cars have lower resale value**  \n",
    "   - A **negative correlation (-0.62) between model year and price** shows that **newer cars retain more value**.  \n",
    "   - Higher mileage also decreases car price due to wear and tear.\n",
    "\n",
    "3. **Fuel type and transmission affect pricing**  \n",
    "   - **Hybrid and diesel cars generally have higher resale values**.  \n",
    "   - **Manual transmissions tend to be associated with lower prices**, while high-speed automatic transmissions are found in premium cars.\n",
    "\n",
    "4. **Outlier removal improved data quality**  \n",
    "   - Extreme values in **price and mileage** were removed using **Z-score and IQR filtering**.  \n",
    "   - **This helped reduce noise** and improved the dataset for predictive modeling.\n",
    "\n",
    "5. **Feature selection for predictive modeling**  \n",
    "   - The most important features influencing car price are:  \n",
    "     ✅ **Model Year** (Newer cars are more expensive)  \n",
    "     ✅ **Mileage** (Higher mileage reduces price)  \n",
    "     ✅ **Fuel Type & Transmission** (Hybrid/Diesel cars & automatic transmissions increase price)  \n",
    "     ✅ **Brand & Model** (Luxury brands hold value longer)\n",
    "\n",
    "### **🔍 Next Steps**\n",
    "- Apply **predictive modeling (e.g., regression, machine learning)** to forecast car prices based on identified trends.  \n",
    "- Perform **further feature engineering**, such as calculating depreciation rates and brand popularity.  \n",
    "- Conduct **market analysis** to see how trends shift over time.\n"
   ]
  },
  {
   "cell_type": "markdown",
   "id": "8e656706-6b70-4678-a2d3-d6d0e5515569",
   "metadata": {},
   "source": [
    "### References\n",
    "\t• Kaggle: https://www.kaggle.com/\n",
    "\n",
    "\t• Towards Data Science: https://towardsdatascience.com/\n",
    "\n",
    "\t• Medium: https://medium.com/\n",
    "\n",
    "\t• GeeksforGeeks: https://www.geeksforgeeks.org/\n",
    "\n",
    "\t• Scikit-Learn Documentation: https://scikit-learn.org/stable/\n",
    "\n",
    "\t• ChatGPT: https://www.chatgpt.com/\n",
    "\n",
    "\t• FreeCodeCamp: https://www.youtube.com/freecodecamp/\n",
    "\n",
    "\t• DataCamp: https://www.datacamp.com/\n",
    "\n",
    "\t• Stack Overflow: https://stackoverflow.com/"
   ]
  }
 ],
 "metadata": {
  "kernelspec": {
   "display_name": "Python [conda env:base] *",
   "language": "python",
   "name": "conda-base-py"
  },
  "language_info": {
   "codemirror_mode": {
    "name": "ipython",
    "version": 3
   },
   "file_extension": ".py",
   "mimetype": "text/x-python",
   "name": "python",
   "nbconvert_exporter": "python",
   "pygments_lexer": "ipython3",
   "version": "3.12.7"
  }
 },
 "nbformat": 4,
 "nbformat_minor": 5
}
