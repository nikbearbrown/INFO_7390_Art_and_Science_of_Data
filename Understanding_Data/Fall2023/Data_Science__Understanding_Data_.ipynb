{
  "nbformat": 4,
  "nbformat_minor": 0,
  "metadata": {
    "colab": {
      "provenance": []
    },
    "kernelspec": {
      "name": "python3",
      "display_name": "Python 3"
    },
    "language_info": {
      "name": "python"
    }
  },
  "cells": [
    {
      "cell_type": "markdown",
      "source": [
        "#The Question\n",
        "###What insight and pattern can be extracted from the data to solve a problem in that domain?"
      ],
      "metadata": {
        "id": "H3dU5BOkj2Qy"
      }
    },
    {
      "cell_type": "markdown",
      "source": [
        "# Theoretical Foundations of Algorithm Design and Problem Formulation in Data Science\n",
        "\n",
        "## Introduction:\n",
        "The landscape of data science is significantly influenced by the core concepts of algorithm design and problem formulation. An intricate understanding of the theoretical foundations underlying these concepts is pivotal for creating efficient solutions and advancing in the field of data science. This section delves into the definitions, characteristics of algorithms, steps involved in problem design, the importance of a well-articulated problem statement, the relevance of custom problem creation, and leveraging tools like ChatGPT for enhanced problem formulation and resolution.\n",
        "\n",
        "## I. Basics of Algorithms and Problem Design\n",
        "### A. Definition and Characteristics of Algorithms:\n",
        "1. An algorithm is a step-by-step procedure or formula for solving a problem.\n",
        "2. Characteristics of algorithms include definiteness, effectiveness, finiteness, input, and output.\n",
        "\n",
        "### B. Steps Involved in Problem Design:\n",
        "1. Understanding the Problem: Grasping the problem's scope and requirements.\n",
        "2. Specifying the Input & Output: Identifying the input parameters and expected outcomes.\n",
        "3. Developing a Step-by-step Procedure: Drafting a procedural solution to tackle the problem.\n",
        "4. Testing: Verifying the designed algorithm with various inputs to ensure accuracy and efficiency.\n",
        "\n",
        "### C. Importance of a Well-Defined Problem Statement in Data Analysis:\n",
        "1. Clarity: A well-defined problem statement provides clear direction and scope.\n",
        "2. Feasibility: It helps in assessing the feasibility of the solution approach.\n",
        "3. Evaluation: Facilitates the evaluation of the solution’s effectiveness in addressing the problem.\n",
        "\n",
        "## II. Relevance of Custom Problem Creation\n",
        "### A. Enhancing Learning and Assessment through Custom Problem Creation:\n",
        "1. Tailored Learning: Custom problem creation allows for learning and assessment to be tailored to specific needs and contexts.\n",
        "2. Depth of Understanding: Encourages a deeper understanding of the problem domain.\n",
        "\n",
        "### B. Example Scenarios where Custom Problem Formulation is Essential:\n",
        "1. Industry-Specific Challenges: Addressing unique problems prevalent in specific industries.\n",
        "2. Research and Development: Creating novel solutions for unexplored or under-explored issues.\n",
        "\n",
        "## III. Leveraging Tools like ChatGPT\n",
        "### A. Introduction to ChatGPT and its Application in Problem Formulation:\n",
        "1. ChatGPT as an AI Tool: Understanding ChatGPT as a language model and its capabilities in aiding problem formulation.\n",
        "2. Application Scenarios: Demonstrating how ChatGPT can be utilized in crafting and refining problem statements.\n",
        "\n",
        "### B. Benefits of Utilizing AI Tools in Understanding and Solving Data Science Problems:\n",
        "1. Speed: AI tools expedite the process of problem understanding and formulation.\n",
        "2. Insight: They provide valuable insights and different perspectives on how to approach a problem.\n",
        "3. Resource Optimization: They help in optimizing resources by automating repetitive tasks and aiding in decision-making.\n",
        "\n",
        "## Conclusion:\n",
        "The theoretical foundation laid in this section provides a launching pad for diving deeper into the practical aspects of algorithm design and problem formulation in data science. Through a robust understanding of these foundational concepts, data science practitioners can significantly enhance their problem-solving capabilities, thus contributing meaningfully to their respective domains.\n"
      ],
      "metadata": {
        "id": "1GsjuHEWYl-_"
      }
    },
    {
      "cell_type": "markdown",
      "source": [
        "#EDA on Heart Disease dataset\n",
        " The Heart Disease dataset is a popular dataset used in machine learning to practice binary classification tasks. It contains a number of attributes which could potentially be indicative of whether or not an individual is likely to have heart disease.\n",
        "\n",
        "Here's a simplified example of how you might perform Exploratory Data Analysis (EDA) and compute summary statistics on a Heart Disease dataset using Python and pandas:"
      ],
      "metadata": {
        "id": "KX4z6TnL1zRR"
      }
    },
    {
      "cell_type": "markdown",
      "source": [
        "In this step, you are asked to analyze a worked example problem, considering constraints such as data quality, missing values, and outlier detection. You'll apply statistical and visual methods for data analysis, as well as implement algorithms for trend analysis and outlier detection. Let's break down these tasks into sub-tasks and tackle them systematically.\n",
        "\n"
      ],
      "metadata": {
        "id": "O5IyUx6JMtay"
      }
    },
    {
      "cell_type": "markdown",
      "source": [
        "##1. Data Quality Check and Handling Missing Values:"
      ],
      "metadata": {
        "id": "SoJI9rI1MxYU"
      }
    },
    {
      "cell_type": "code",
      "source": [
        "import pandas as pd\n",
        "import seaborn as sns\n",
        "import matplotlib.pyplot as plt\n",
        "import plotly.figure_factory as ff\n",
        "import plotly.graph_objects as go\n",
        "\n",
        "# Load your data\n",
        "data = pd.read_csv('/content/heart_disease_uci.csv')\n",
        "\n",
        "# Check the quality of data\n",
        "print(data.info())\n",
        "\n",
        "# Handling Missing Values\n",
        "# You can fill missing values with the mean or median, or drop rows/columns with missing values.\n",
        "data.fillna(data.mean(), inplace=True)  # fill missing values with mean\n",
        "# data.dropna(inplace=True)  # or drop rows with missing values\n",
        "\n",
        "data"
      ],
      "metadata": {
        "colab": {
          "base_uri": "https://localhost:8080/",
          "height": 944
        },
        "id": "dZ6wi1tcM2-g",
        "outputId": "da3f9277-3ea7-4918-c680-ea1090ea866e"
      },
      "execution_count": 28,
      "outputs": [
        {
          "output_type": "stream",
          "name": "stdout",
          "text": [
            "<class 'pandas.core.frame.DataFrame'>\n",
            "RangeIndex: 920 entries, 0 to 919\n",
            "Data columns (total 16 columns):\n",
            " #   Column    Non-Null Count  Dtype  \n",
            "---  ------    --------------  -----  \n",
            " 0   id        920 non-null    int64  \n",
            " 1   age       920 non-null    int64  \n",
            " 2   sex       920 non-null    object \n",
            " 3   dataset   920 non-null    object \n",
            " 4   cp        920 non-null    object \n",
            " 5   trestbps  861 non-null    float64\n",
            " 6   chol      890 non-null    float64\n",
            " 7   fbs       830 non-null    object \n",
            " 8   restecg   918 non-null    object \n",
            " 9   thalch    865 non-null    float64\n",
            " 10  exang     865 non-null    object \n",
            " 11  oldpeak   858 non-null    float64\n",
            " 12  slope     611 non-null    object \n",
            " 13  ca        309 non-null    float64\n",
            " 14  thal      434 non-null    object \n",
            " 15  num       920 non-null    int64  \n",
            "dtypes: float64(5), int64(3), object(8)\n",
            "memory usage: 115.1+ KB\n",
            "None\n"
          ]
        },
        {
          "output_type": "stream",
          "name": "stderr",
          "text": [
            "<ipython-input-28-3aad7efd543d>:15: FutureWarning:\n",
            "\n",
            "The default value of numeric_only in DataFrame.mean is deprecated. In a future version, it will default to False. In addition, specifying 'numeric_only=None' is deprecated. Select only valid columns or specify the value of numeric_only to silence this warning.\n",
            "\n"
          ]
        },
        {
          "output_type": "execute_result",
          "data": {
            "text/plain": [
              "      id  age     sex        dataset               cp    trestbps   chol  \\\n",
              "0      1   63    Male      Cleveland   typical angina  145.000000  233.0   \n",
              "1      2   67    Male      Cleveland     asymptomatic  160.000000  286.0   \n",
              "2      3   67    Male      Cleveland     asymptomatic  120.000000  229.0   \n",
              "3      4   37    Male      Cleveland      non-anginal  130.000000  250.0   \n",
              "4      5   41  Female      Cleveland  atypical angina  130.000000  204.0   \n",
              "..   ...  ...     ...            ...              ...         ...    ...   \n",
              "915  916   54  Female  VA Long Beach     asymptomatic  127.000000  333.0   \n",
              "916  917   62    Male  VA Long Beach   typical angina  132.132404  139.0   \n",
              "917  918   55    Male  VA Long Beach     asymptomatic  122.000000  223.0   \n",
              "918  919   58    Male  VA Long Beach     asymptomatic  132.132404  385.0   \n",
              "919  920   62    Male  VA Long Beach  atypical angina  120.000000  254.0   \n",
              "\n",
              "       fbs           restecg      thalch     exang   oldpeak        slope  \\\n",
              "0     True    lv hypertrophy  150.000000     False  2.300000  downsloping   \n",
              "1    False    lv hypertrophy  108.000000      True  1.500000         flat   \n",
              "2    False    lv hypertrophy  129.000000      True  2.600000         flat   \n",
              "3    False            normal  187.000000     False  3.500000  downsloping   \n",
              "4    False    lv hypertrophy  172.000000     False  1.400000    upsloping   \n",
              "..     ...               ...         ...       ...       ...          ...   \n",
              "915   True  st-t abnormality  154.000000     False  0.000000          NaN   \n",
              "916  False  st-t abnormality  137.545665  0.389595  0.878788          NaN   \n",
              "917   True  st-t abnormality  100.000000     False  0.000000          NaN   \n",
              "918   True    lv hypertrophy  137.545665  0.389595  0.878788          NaN   \n",
              "919  False    lv hypertrophy   93.000000      True  0.000000          NaN   \n",
              "\n",
              "           ca               thal  num  \n",
              "0    0.000000       fixed defect    0  \n",
              "1    3.000000             normal    2  \n",
              "2    2.000000  reversable defect    1  \n",
              "3    0.000000             normal    0  \n",
              "4    0.000000             normal    0  \n",
              "..        ...                ...  ...  \n",
              "915  0.676375                NaN    1  \n",
              "916  0.676375                NaN    0  \n",
              "917  0.676375       fixed defect    2  \n",
              "918  0.676375                NaN    0  \n",
              "919  0.676375                NaN    1  \n",
              "\n",
              "[920 rows x 16 columns]"
            ],
            "text/html": [
              "\n",
              "  <div id=\"df-93e52e76-01d3-4f88-901c-5d99900b4a59\" class=\"colab-df-container\">\n",
              "    <div>\n",
              "<style scoped>\n",
              "    .dataframe tbody tr th:only-of-type {\n",
              "        vertical-align: middle;\n",
              "    }\n",
              "\n",
              "    .dataframe tbody tr th {\n",
              "        vertical-align: top;\n",
              "    }\n",
              "\n",
              "    .dataframe thead th {\n",
              "        text-align: right;\n",
              "    }\n",
              "</style>\n",
              "<table border=\"1\" class=\"dataframe\">\n",
              "  <thead>\n",
              "    <tr style=\"text-align: right;\">\n",
              "      <th></th>\n",
              "      <th>id</th>\n",
              "      <th>age</th>\n",
              "      <th>sex</th>\n",
              "      <th>dataset</th>\n",
              "      <th>cp</th>\n",
              "      <th>trestbps</th>\n",
              "      <th>chol</th>\n",
              "      <th>fbs</th>\n",
              "      <th>restecg</th>\n",
              "      <th>thalch</th>\n",
              "      <th>exang</th>\n",
              "      <th>oldpeak</th>\n",
              "      <th>slope</th>\n",
              "      <th>ca</th>\n",
              "      <th>thal</th>\n",
              "      <th>num</th>\n",
              "    </tr>\n",
              "  </thead>\n",
              "  <tbody>\n",
              "    <tr>\n",
              "      <th>0</th>\n",
              "      <td>1</td>\n",
              "      <td>63</td>\n",
              "      <td>Male</td>\n",
              "      <td>Cleveland</td>\n",
              "      <td>typical angina</td>\n",
              "      <td>145.000000</td>\n",
              "      <td>233.0</td>\n",
              "      <td>True</td>\n",
              "      <td>lv hypertrophy</td>\n",
              "      <td>150.000000</td>\n",
              "      <td>False</td>\n",
              "      <td>2.300000</td>\n",
              "      <td>downsloping</td>\n",
              "      <td>0.000000</td>\n",
              "      <td>fixed defect</td>\n",
              "      <td>0</td>\n",
              "    </tr>\n",
              "    <tr>\n",
              "      <th>1</th>\n",
              "      <td>2</td>\n",
              "      <td>67</td>\n",
              "      <td>Male</td>\n",
              "      <td>Cleveland</td>\n",
              "      <td>asymptomatic</td>\n",
              "      <td>160.000000</td>\n",
              "      <td>286.0</td>\n",
              "      <td>False</td>\n",
              "      <td>lv hypertrophy</td>\n",
              "      <td>108.000000</td>\n",
              "      <td>True</td>\n",
              "      <td>1.500000</td>\n",
              "      <td>flat</td>\n",
              "      <td>3.000000</td>\n",
              "      <td>normal</td>\n",
              "      <td>2</td>\n",
              "    </tr>\n",
              "    <tr>\n",
              "      <th>2</th>\n",
              "      <td>3</td>\n",
              "      <td>67</td>\n",
              "      <td>Male</td>\n",
              "      <td>Cleveland</td>\n",
              "      <td>asymptomatic</td>\n",
              "      <td>120.000000</td>\n",
              "      <td>229.0</td>\n",
              "      <td>False</td>\n",
              "      <td>lv hypertrophy</td>\n",
              "      <td>129.000000</td>\n",
              "      <td>True</td>\n",
              "      <td>2.600000</td>\n",
              "      <td>flat</td>\n",
              "      <td>2.000000</td>\n",
              "      <td>reversable defect</td>\n",
              "      <td>1</td>\n",
              "    </tr>\n",
              "    <tr>\n",
              "      <th>3</th>\n",
              "      <td>4</td>\n",
              "      <td>37</td>\n",
              "      <td>Male</td>\n",
              "      <td>Cleveland</td>\n",
              "      <td>non-anginal</td>\n",
              "      <td>130.000000</td>\n",
              "      <td>250.0</td>\n",
              "      <td>False</td>\n",
              "      <td>normal</td>\n",
              "      <td>187.000000</td>\n",
              "      <td>False</td>\n",
              "      <td>3.500000</td>\n",
              "      <td>downsloping</td>\n",
              "      <td>0.000000</td>\n",
              "      <td>normal</td>\n",
              "      <td>0</td>\n",
              "    </tr>\n",
              "    <tr>\n",
              "      <th>4</th>\n",
              "      <td>5</td>\n",
              "      <td>41</td>\n",
              "      <td>Female</td>\n",
              "      <td>Cleveland</td>\n",
              "      <td>atypical angina</td>\n",
              "      <td>130.000000</td>\n",
              "      <td>204.0</td>\n",
              "      <td>False</td>\n",
              "      <td>lv hypertrophy</td>\n",
              "      <td>172.000000</td>\n",
              "      <td>False</td>\n",
              "      <td>1.400000</td>\n",
              "      <td>upsloping</td>\n",
              "      <td>0.000000</td>\n",
              "      <td>normal</td>\n",
              "      <td>0</td>\n",
              "    </tr>\n",
              "    <tr>\n",
              "      <th>...</th>\n",
              "      <td>...</td>\n",
              "      <td>...</td>\n",
              "      <td>...</td>\n",
              "      <td>...</td>\n",
              "      <td>...</td>\n",
              "      <td>...</td>\n",
              "      <td>...</td>\n",
              "      <td>...</td>\n",
              "      <td>...</td>\n",
              "      <td>...</td>\n",
              "      <td>...</td>\n",
              "      <td>...</td>\n",
              "      <td>...</td>\n",
              "      <td>...</td>\n",
              "      <td>...</td>\n",
              "      <td>...</td>\n",
              "    </tr>\n",
              "    <tr>\n",
              "      <th>915</th>\n",
              "      <td>916</td>\n",
              "      <td>54</td>\n",
              "      <td>Female</td>\n",
              "      <td>VA Long Beach</td>\n",
              "      <td>asymptomatic</td>\n",
              "      <td>127.000000</td>\n",
              "      <td>333.0</td>\n",
              "      <td>True</td>\n",
              "      <td>st-t abnormality</td>\n",
              "      <td>154.000000</td>\n",
              "      <td>False</td>\n",
              "      <td>0.000000</td>\n",
              "      <td>NaN</td>\n",
              "      <td>0.676375</td>\n",
              "      <td>NaN</td>\n",
              "      <td>1</td>\n",
              "    </tr>\n",
              "    <tr>\n",
              "      <th>916</th>\n",
              "      <td>917</td>\n",
              "      <td>62</td>\n",
              "      <td>Male</td>\n",
              "      <td>VA Long Beach</td>\n",
              "      <td>typical angina</td>\n",
              "      <td>132.132404</td>\n",
              "      <td>139.0</td>\n",
              "      <td>False</td>\n",
              "      <td>st-t abnormality</td>\n",
              "      <td>137.545665</td>\n",
              "      <td>0.389595</td>\n",
              "      <td>0.878788</td>\n",
              "      <td>NaN</td>\n",
              "      <td>0.676375</td>\n",
              "      <td>NaN</td>\n",
              "      <td>0</td>\n",
              "    </tr>\n",
              "    <tr>\n",
              "      <th>917</th>\n",
              "      <td>918</td>\n",
              "      <td>55</td>\n",
              "      <td>Male</td>\n",
              "      <td>VA Long Beach</td>\n",
              "      <td>asymptomatic</td>\n",
              "      <td>122.000000</td>\n",
              "      <td>223.0</td>\n",
              "      <td>True</td>\n",
              "      <td>st-t abnormality</td>\n",
              "      <td>100.000000</td>\n",
              "      <td>False</td>\n",
              "      <td>0.000000</td>\n",
              "      <td>NaN</td>\n",
              "      <td>0.676375</td>\n",
              "      <td>fixed defect</td>\n",
              "      <td>2</td>\n",
              "    </tr>\n",
              "    <tr>\n",
              "      <th>918</th>\n",
              "      <td>919</td>\n",
              "      <td>58</td>\n",
              "      <td>Male</td>\n",
              "      <td>VA Long Beach</td>\n",
              "      <td>asymptomatic</td>\n",
              "      <td>132.132404</td>\n",
              "      <td>385.0</td>\n",
              "      <td>True</td>\n",
              "      <td>lv hypertrophy</td>\n",
              "      <td>137.545665</td>\n",
              "      <td>0.389595</td>\n",
              "      <td>0.878788</td>\n",
              "      <td>NaN</td>\n",
              "      <td>0.676375</td>\n",
              "      <td>NaN</td>\n",
              "      <td>0</td>\n",
              "    </tr>\n",
              "    <tr>\n",
              "      <th>919</th>\n",
              "      <td>920</td>\n",
              "      <td>62</td>\n",
              "      <td>Male</td>\n",
              "      <td>VA Long Beach</td>\n",
              "      <td>atypical angina</td>\n",
              "      <td>120.000000</td>\n",
              "      <td>254.0</td>\n",
              "      <td>False</td>\n",
              "      <td>lv hypertrophy</td>\n",
              "      <td>93.000000</td>\n",
              "      <td>True</td>\n",
              "      <td>0.000000</td>\n",
              "      <td>NaN</td>\n",
              "      <td>0.676375</td>\n",
              "      <td>NaN</td>\n",
              "      <td>1</td>\n",
              "    </tr>\n",
              "  </tbody>\n",
              "</table>\n",
              "<p>920 rows × 16 columns</p>\n",
              "</div>\n",
              "    <div class=\"colab-df-buttons\">\n",
              "\n",
              "  <div class=\"colab-df-container\">\n",
              "    <button class=\"colab-df-convert\" onclick=\"convertToInteractive('df-93e52e76-01d3-4f88-901c-5d99900b4a59')\"\n",
              "            title=\"Convert this dataframe to an interactive table.\"\n",
              "            style=\"display:none;\">\n",
              "\n",
              "  <svg xmlns=\"http://www.w3.org/2000/svg\" height=\"24px\" viewBox=\"0 -960 960 960\">\n",
              "    <path d=\"M120-120v-720h720v720H120Zm60-500h600v-160H180v160Zm220 220h160v-160H400v160Zm0 220h160v-160H400v160ZM180-400h160v-160H180v160Zm440 0h160v-160H620v160ZM180-180h160v-160H180v160Zm440 0h160v-160H620v160Z\"/>\n",
              "  </svg>\n",
              "    </button>\n",
              "\n",
              "  <style>\n",
              "    .colab-df-container {\n",
              "      display:flex;\n",
              "      gap: 12px;\n",
              "    }\n",
              "\n",
              "    .colab-df-convert {\n",
              "      background-color: #E8F0FE;\n",
              "      border: none;\n",
              "      border-radius: 50%;\n",
              "      cursor: pointer;\n",
              "      display: none;\n",
              "      fill: #1967D2;\n",
              "      height: 32px;\n",
              "      padding: 0 0 0 0;\n",
              "      width: 32px;\n",
              "    }\n",
              "\n",
              "    .colab-df-convert:hover {\n",
              "      background-color: #E2EBFA;\n",
              "      box-shadow: 0px 1px 2px rgba(60, 64, 67, 0.3), 0px 1px 3px 1px rgba(60, 64, 67, 0.15);\n",
              "      fill: #174EA6;\n",
              "    }\n",
              "\n",
              "    .colab-df-buttons div {\n",
              "      margin-bottom: 4px;\n",
              "    }\n",
              "\n",
              "    [theme=dark] .colab-df-convert {\n",
              "      background-color: #3B4455;\n",
              "      fill: #D2E3FC;\n",
              "    }\n",
              "\n",
              "    [theme=dark] .colab-df-convert:hover {\n",
              "      background-color: #434B5C;\n",
              "      box-shadow: 0px 1px 3px 1px rgba(0, 0, 0, 0.15);\n",
              "      filter: drop-shadow(0px 1px 2px rgba(0, 0, 0, 0.3));\n",
              "      fill: #FFFFFF;\n",
              "    }\n",
              "  </style>\n",
              "\n",
              "    <script>\n",
              "      const buttonEl =\n",
              "        document.querySelector('#df-93e52e76-01d3-4f88-901c-5d99900b4a59 button.colab-df-convert');\n",
              "      buttonEl.style.display =\n",
              "        google.colab.kernel.accessAllowed ? 'block' : 'none';\n",
              "\n",
              "      async function convertToInteractive(key) {\n",
              "        const element = document.querySelector('#df-93e52e76-01d3-4f88-901c-5d99900b4a59');\n",
              "        const dataTable =\n",
              "          await google.colab.kernel.invokeFunction('convertToInteractive',\n",
              "                                                    [key], {});\n",
              "        if (!dataTable) return;\n",
              "\n",
              "        const docLinkHtml = 'Like what you see? Visit the ' +\n",
              "          '<a target=\"_blank\" href=https://colab.research.google.com/notebooks/data_table.ipynb>data table notebook</a>'\n",
              "          + ' to learn more about interactive tables.';\n",
              "        element.innerHTML = '';\n",
              "        dataTable['output_type'] = 'display_data';\n",
              "        await google.colab.output.renderOutput(dataTable, element);\n",
              "        const docLink = document.createElement('div');\n",
              "        docLink.innerHTML = docLinkHtml;\n",
              "        element.appendChild(docLink);\n",
              "      }\n",
              "    </script>\n",
              "  </div>\n",
              "\n",
              "\n",
              "<div id=\"df-6c135ccd-bb53-49ea-9631-a71ff6e23ed6\">\n",
              "  <button class=\"colab-df-quickchart\" onclick=\"quickchart('df-6c135ccd-bb53-49ea-9631-a71ff6e23ed6')\"\n",
              "            title=\"Suggest charts.\"\n",
              "            style=\"display:none;\">\n",
              "\n",
              "<svg xmlns=\"http://www.w3.org/2000/svg\" height=\"24px\"viewBox=\"0 0 24 24\"\n",
              "     width=\"24px\">\n",
              "    <g>\n",
              "        <path d=\"M19 3H5c-1.1 0-2 .9-2 2v14c0 1.1.9 2 2 2h14c1.1 0 2-.9 2-2V5c0-1.1-.9-2-2-2zM9 17H7v-7h2v7zm4 0h-2V7h2v10zm4 0h-2v-4h2v4z\"/>\n",
              "    </g>\n",
              "</svg>\n",
              "  </button>\n",
              "\n",
              "<style>\n",
              "  .colab-df-quickchart {\n",
              "      --bg-color: #E8F0FE;\n",
              "      --fill-color: #1967D2;\n",
              "      --hover-bg-color: #E2EBFA;\n",
              "      --hover-fill-color: #174EA6;\n",
              "      --disabled-fill-color: #AAA;\n",
              "      --disabled-bg-color: #DDD;\n",
              "  }\n",
              "\n",
              "  [theme=dark] .colab-df-quickchart {\n",
              "      --bg-color: #3B4455;\n",
              "      --fill-color: #D2E3FC;\n",
              "      --hover-bg-color: #434B5C;\n",
              "      --hover-fill-color: #FFFFFF;\n",
              "      --disabled-bg-color: #3B4455;\n",
              "      --disabled-fill-color: #666;\n",
              "  }\n",
              "\n",
              "  .colab-df-quickchart {\n",
              "    background-color: var(--bg-color);\n",
              "    border: none;\n",
              "    border-radius: 50%;\n",
              "    cursor: pointer;\n",
              "    display: none;\n",
              "    fill: var(--fill-color);\n",
              "    height: 32px;\n",
              "    padding: 0;\n",
              "    width: 32px;\n",
              "  }\n",
              "\n",
              "  .colab-df-quickchart:hover {\n",
              "    background-color: var(--hover-bg-color);\n",
              "    box-shadow: 0 1px 2px rgba(60, 64, 67, 0.3), 0 1px 3px 1px rgba(60, 64, 67, 0.15);\n",
              "    fill: var(--button-hover-fill-color);\n",
              "  }\n",
              "\n",
              "  .colab-df-quickchart-complete:disabled,\n",
              "  .colab-df-quickchart-complete:disabled:hover {\n",
              "    background-color: var(--disabled-bg-color);\n",
              "    fill: var(--disabled-fill-color);\n",
              "    box-shadow: none;\n",
              "  }\n",
              "\n",
              "  .colab-df-spinner {\n",
              "    border: 2px solid var(--fill-color);\n",
              "    border-color: transparent;\n",
              "    border-bottom-color: var(--fill-color);\n",
              "    animation:\n",
              "      spin 1s steps(1) infinite;\n",
              "  }\n",
              "\n",
              "  @keyframes spin {\n",
              "    0% {\n",
              "      border-color: transparent;\n",
              "      border-bottom-color: var(--fill-color);\n",
              "      border-left-color: var(--fill-color);\n",
              "    }\n",
              "    20% {\n",
              "      border-color: transparent;\n",
              "      border-left-color: var(--fill-color);\n",
              "      border-top-color: var(--fill-color);\n",
              "    }\n",
              "    30% {\n",
              "      border-color: transparent;\n",
              "      border-left-color: var(--fill-color);\n",
              "      border-top-color: var(--fill-color);\n",
              "      border-right-color: var(--fill-color);\n",
              "    }\n",
              "    40% {\n",
              "      border-color: transparent;\n",
              "      border-right-color: var(--fill-color);\n",
              "      border-top-color: var(--fill-color);\n",
              "    }\n",
              "    60% {\n",
              "      border-color: transparent;\n",
              "      border-right-color: var(--fill-color);\n",
              "    }\n",
              "    80% {\n",
              "      border-color: transparent;\n",
              "      border-right-color: var(--fill-color);\n",
              "      border-bottom-color: var(--fill-color);\n",
              "    }\n",
              "    90% {\n",
              "      border-color: transparent;\n",
              "      border-bottom-color: var(--fill-color);\n",
              "    }\n",
              "  }\n",
              "</style>\n",
              "\n",
              "  <script>\n",
              "    async function quickchart(key) {\n",
              "      const quickchartButtonEl =\n",
              "        document.querySelector('#' + key + ' button');\n",
              "      quickchartButtonEl.disabled = true;  // To prevent multiple clicks.\n",
              "      quickchartButtonEl.classList.add('colab-df-spinner');\n",
              "      try {\n",
              "        const charts = await google.colab.kernel.invokeFunction(\n",
              "            'suggestCharts', [key], {});\n",
              "      } catch (error) {\n",
              "        console.error('Error during call to suggestCharts:', error);\n",
              "      }\n",
              "      quickchartButtonEl.classList.remove('colab-df-spinner');\n",
              "      quickchartButtonEl.classList.add('colab-df-quickchart-complete');\n",
              "    }\n",
              "    (() => {\n",
              "      let quickchartButtonEl =\n",
              "        document.querySelector('#df-6c135ccd-bb53-49ea-9631-a71ff6e23ed6 button');\n",
              "      quickchartButtonEl.style.display =\n",
              "        google.colab.kernel.accessAllowed ? 'block' : 'none';\n",
              "    })();\n",
              "  </script>\n",
              "</div>\n",
              "    </div>\n",
              "  </div>\n"
            ]
          },
          "metadata": {},
          "execution_count": 28
        }
      ]
    },
    {
      "cell_type": "markdown",
      "source": [
        "##2. Outlier Detection:"
      ],
      "metadata": {
        "id": "zHCn1VSKNRgh"
      }
    },
    {
      "cell_type": "code",
      "source": [
        "# Visual Method for Outlier Detection: Boxplot\n",
        "sns.boxplot(x=data['chol'])\n",
        "plt.show()\n",
        "\n",
        "# Statistical Method for Outlier Detection: Z-score\n",
        "from scipy.stats import zscore\n",
        "\n",
        "z_scores = zscore(data['chol'])\n",
        "outliers = data[(z_scores > 3) | (z_scores < -3)]\n",
        "print(outliers)\n",
        "\n",
        "\n"
      ],
      "metadata": {
        "colab": {
          "base_uri": "https://localhost:8080/",
          "height": 699
        },
        "id": "4JrkrY6CNGjg",
        "outputId": "8da35a6d-7e46-4582-d303-47c0609b186e"
      },
      "execution_count": 18,
      "outputs": [
        {
          "output_type": "display_data",
          "data": {
            "text/plain": [
              "<Figure size 640x480 with 1 Axes>"
            ],
            "image/png": "[encoded data removed]"
          },
          "metadata": {}
        },
        {
          "output_type": "stream",
          "name": "stdout",
          "text": [
            "      id  age     sex    dataset            cp  trestbps   chol    fbs  \\\n",
            "152  153   67  Female  Cleveland   non-anginal     115.0  564.0  False   \n",
            "528  529   32    Male    Hungary  asymptomatic     118.0  529.0  False   \n",
            "546  547   54    Male    Hungary  asymptomatic     130.0  603.0   True   \n",
            "\n",
            "            restecg  thalch  exang  oldpeak slope        ca  \\\n",
            "152  lv hypertrophy   160.0  False      1.6  flat  0.000000   \n",
            "528          normal   130.0  False      0.0   NaN  0.676375   \n",
            "546          normal   125.0   True      1.0  flat  0.676375   \n",
            "\n",
            "                  thal  num  \n",
            "152  reversable defect    0  \n",
            "528                NaN    1  \n",
            "546                NaN    1  \n"
          ]
        }
      ]
    },
    {
      "cell_type": "markdown",
      "source": [
        "##3. Statistical and Visual Methods for Data Analysis:"
      ],
      "metadata": {
        "id": "yIT8ZY5aN-2D"
      }
    },
    {
      "cell_type": "markdown",
      "source": [
        "###Age Distribution Patterns"
      ],
      "metadata": {
        "id": "dTpuAgmvuFRk"
      }
    },
    {
      "cell_type": "code",
      "source": [
        "fig = go.Figure()\n",
        "fig.add_trace(go.Box(y=data['age'].values , name='Age', marker_color = 'green',boxmean=True))\n",
        "fig.add_trace(go.Box(y=data[data['sex']=='Male']['age'].values, name ='Male only', marker_color = 'blue', boxmean = True))\n",
        "fig.add_trace(go.Box(y=data[data['sex']=='Female']['age'].values, name ='Female only', marker_color = 'red', boxmean = True))\n",
        "fig.update_layout(title = 'Age Distribution(all)', yaxis_title = 'Age', title_x = 0.5)\n",
        "fig.update_xaxes(showline=True, linewidth=2, linecolor='black', mirror=True)\n",
        "fig.update_yaxes(showline=True, linewidth=2, linecolor='black', mirror=True)\n",
        "fig.show()"
      ],
      "metadata": {
        "colab": {
          "base_uri": "https://localhost:8080/",
          "height": 542
        },
        "id": "G72RQzwhtgjD",
        "outputId": "fcfcd1be-8202-44fa-8dc4-c43ff9a853fb"
      },
      "execution_count": 19,
      "outputs": [
        {
          "output_type": "display_data",
          "data": {
            "text/html": [
              "<html>\n",
              "<head><meta charset=\"utf-8\" /></head>\n",
              "<body>\n",
              "    <div>            <script src=\"https://cdnjs.cloudflare.com/ajax/libs/mathjax/2.7.5/MathJax.js?config=TeX-AMS-MML_SVG\"></script><script type=\"text/javascript\">if (window.MathJax && window.MathJax.Hub && window.MathJax.Hub.Config) {window.MathJax.Hub.Config({SVG: {font: \"STIX-Web\"}});}</script>                <script type=\"text/javascript\">window.PlotlyConfig = {MathJaxConfig: 'local'};</script>\n",
              "        <script charset=\"utf-8\" src=\"https://cdn.plot.ly/plotly-2.24.1.min.js\"></script>                <div id=\"8f13c93b-3397-45b3-ac7b-dd7b27f55286\" class=\"plotly-graph-div\" style=\"height:525px; width:100%;\"></div>            <script type=\"text/javascript\">                                    window.PLOTLYENV=window.PLOTLYENV || {};                                    if (document.getElementById(\"8f13c93b-3397-45b3-ac7b-dd7b27f55286\")) {                    Plotly.newPlot(                        \"8f13c93b-3397-45b3-ac7b-dd7b27f55286\",                        [{\"boxmean\":true,\"marker\":{\"color\":\"green\"},\"name\":\"Age\",\"y\":[63,67,67,37,41,56,62,57,63,53,57,56,56,44,52,57,48,54,48,49,64,58,58,58,60,50,58,66,43,40,69,60,64,59,44,42,43,57,55,61,65,40,71,59,61,58,51,50,65,53,41,65,44,44,60,54,50,41,54,51,51,46,58,54,54,60,60,54,59,46,65,67,62,65,44,65,60,51,48,58,45,53,39,68,52,44,47,53,53,51,66,62,62,44,63,52,59,60,52,48,45,34,57,71,49,54,59,57,61,39,61,56,52,43,62,41,58,35,63,65,48,63,51,55,65,45,56,54,44,62,54,51,29,51,43,55,70,62,35,51,59,59,52,64,58,47,57,41,45,60,52,42,67,55,64,70,51,58,60,68,46,77,54,58,48,57,52,54,35,45,70,53,59,62,64,57,52,56,43,53,48,56,42,59,60,63,42,66,54,69,50,51,43,62,68,67,69,45,50,59,50,64,57,64,43,45,58,50,55,62,37,38,41,66,52,56,46,46,64,59,41,54,39,53,63,34,47,67,54,66,52,55,49,74,54,54,56,46,49,42,41,41,49,61,60,67,58,47,52,62,57,58,64,51,43,42,67,76,70,57,44,58,60,44,61,42,52,59,40,42,61,66,46,71,59,64,66,39,57,58,57,47,55,35,61,58,58,58,56,56,67,55,44,63,63,41,59,57,45,68,57,57,38,28,29,29,30,31,32,32,32,33,34,34,34,35,35,35,35,36,36,36,36,37,37,37,37,37,37,37,38,38,38,39,39,39,39,39,39,39,39,39,39,40,40,40,40,40,41,41,41,41,41,41,41,42,42,42,42,42,42,42,43,43,43,43,43,43,43,43,44,44,44,44,45,45,45,45,45,45,45,46,46,46,46,46,46,46,47,47,47,47,47,48,48,48,48,48,48,48,48,48,48,48,49,49,49,49,49,49,49,49,50,50,50,50,50,50,50,51,51,51,51,51,51,51,52,52,52,52,52,52,52,52,53,53,53,53,53,53,53,53,53,54,54,54,54,54,54,54,54,54,54,54,54,54,54,54,54,55,55,55,55,55,55,55,55,55,55,56,56,56,56,56,57,57,57,58,58,58,58,59,59,59,59,59,60,61,61,62,62,31,33,34,35,36,37,38,38,38,40,41,41,43,46,46,46,47,47,48,48,48,49,49,49,50,50,51,52,54,54,55,57,58,59,60,63,65,32,38,39,40,43,45,46,46,48,48,48,48,50,52,52,53,54,54,54,54,54,55,56,57,58,58,41,43,44,44,46,47,48,49,49,51,52,52,52,52,53,53,54,55,55,55,56,56,56,58,59,59,65,66,41,43,44,47,47,49,49,50,50,52,52,54,56,58,65,32,34,35,36,38,38,38,38,38,38,40,41,42,42,43,43,43,45,46,46,47,47,47,47,48,50,50,50,50,51,51,51,51,51,51,51,52,52,52,52,53,53,53,53,53,53,53,53,54,54,54,55,55,55,55,56,56,56,56,56,56,56,56,57,57,57,57,57,57,58,58,58,59,59,59,59,59,60,60,60,60,60,60,61,61,61,61,61,61,61,61,61,62,62,62,62,62,62,62,63,63,63,63,63,64,64,64,65,65,65,65,66,66,67,68,68,69,69,70,70,72,73,74,63,44,60,55,66,66,65,60,60,60,56,59,62,63,57,62,63,46,63,60,58,64,63,74,52,69,51,60,56,55,54,77,63,55,52,64,60,60,58,59,61,40,61,41,57,63,59,51,59,42,55,63,62,56,53,68,53,60,62,59,51,61,57,56,58,69,67,58,65,63,55,57,65,54,72,75,49,51,60,64,58,61,67,62,65,63,69,51,62,55,75,40,67,58,60,63,35,62,43,63,68,65,48,63,64,61,50,59,55,45,65,61,49,72,50,64,55,63,59,56,62,74,54,57,62,76,54,70,61,48,48,61,66,68,55,62,71,74,53,58,75,56,58,64,54,54,59,55,57,61,41,71,38,55,56,69,64,72,69,56,62,67,57,69,51,48,69,69,64,57,53,37,67,74,63,58,61,64,58,60,57,55,55,56,57,61,61,58,74,68,51,62,53,62,46,54,62,55,58,62],\"type\":\"box\"},{\"boxmean\":true,\"marker\":{\"color\":\"blue\"},\"name\":\"Male only\",\"y\":[63,67,67,37,56,63,53,57,56,44,52,57,48,54,49,64,58,58,60,43,40,60,64,59,44,42,43,57,55,61,40,59,58,51,50,53,65,44,44,60,54,50,41,54,51,58,54,60,60,54,59,46,67,62,65,44,60,48,58,45,39,68,52,44,47,66,62,52,59,52,48,45,34,49,54,59,57,61,39,56,52,41,58,63,65,48,51,55,65,54,44,54,51,29,51,70,62,35,51,59,59,52,64,58,47,57,41,45,52,55,64,70,51,58,60,68,46,77,48,57,52,35,70,53,64,57,52,56,43,53,48,42,59,42,66,54,69,50,51,43,67,69,59,57,43,45,58,50,55,38,41,52,56,59,53,47,54,66,49,54,56,46,42,41,61,67,58,47,52,62,57,58,64,43,70,57,44,61,42,52,59,40,42,61,66,46,59,64,57,57,47,35,61,58,58,56,56,67,44,63,41,59,45,68,57,38,28,29,29,32,32,33,34,34,35,35,36,36,36,36,37,37,37,37,38,38,39,39,39,39,39,39,39,39,39,40,40,40,40,40,41,41,41,41,42,42,42,42,42,42,43,44,44,44,45,45,45,45,46,46,46,46,46,46,47,47,47,48,48,48,48,49,49,49,49,50,50,50,50,50,51,51,51,52,52,52,52,53,53,53,53,53,53,54,54,54,54,54,54,54,54,54,55,55,55,55,55,55,55,56,56,56,56,57,58,58,58,58,59,59,59,59,60,61,62,31,34,35,36,37,38,38,38,40,41,41,43,46,46,46,47,47,48,48,48,49,49,50,52,54,54,55,57,58,60,63,65,32,38,39,43,45,46,46,48,48,48,48,50,52,52,53,54,54,54,54,54,55,56,57,58,58,41,43,44,44,46,49,49,51,52,52,52,52,53,53,54,55,55,55,56,56,58,59,59,65,66,41,43,44,47,49,49,50,50,52,52,56,65,32,34,35,36,38,38,38,38,40,41,42,42,43,43,43,45,46,46,47,47,47,47,48,50,50,50,51,51,51,51,51,51,52,52,52,52,53,53,53,53,53,53,53,53,54,54,54,55,55,55,55,56,56,56,56,56,56,56,56,57,57,57,57,57,57,58,58,58,59,59,59,59,59,60,60,60,60,60,60,61,61,61,61,61,61,61,61,61,62,62,62,62,62,63,63,63,63,63,64,65,65,65,65,66,67,68,68,69,69,70,70,72,74,63,44,60,55,66,66,65,60,60,60,56,59,62,63,57,62,63,46,63,60,58,64,63,74,52,69,51,60,56,55,54,77,63,55,52,64,60,60,58,59,61,40,61,41,57,63,59,51,59,42,55,62,56,53,68,53,60,62,59,51,61,57,56,58,69,67,58,65,63,55,57,65,54,72,75,49,51,60,58,61,67,62,65,63,69,51,62,55,75,40,67,58,60,63,35,62,43,63,68,65,48,63,64,61,50,59,55,45,65,61,49,72,50,64,55,63,59,56,62,74,54,57,62,76,70,48,48,61,66,68,55,62,71,74,53,58,75,56,58,64,54,54,59,55,57,61,41,71,38,55,56,69,64,72,69,56,62,67,57,69,51,48,69,69,64,57,53,37,67,74,63,58,61,64,58,60,57,55,55,56,57,61,61,58,74,68,62,53,62,46,62,55,58,62],\"type\":\"box\"},{\"boxmean\":true,\"marker\":{\"color\":\"red\"},\"name\":\"Female only\",\"y\":[41,62,57,56,48,58,50,58,66,69,65,71,61,65,41,51,46,54,65,65,51,53,53,53,51,62,44,63,60,57,71,61,43,62,35,63,45,56,62,43,55,60,42,67,54,58,54,45,59,62,56,60,63,62,68,45,50,50,64,64,62,37,66,46,46,64,41,54,39,63,34,67,52,55,74,54,49,41,49,60,51,42,67,76,44,58,60,71,66,39,58,55,58,55,63,57,57,30,31,32,34,35,35,37,37,37,38,39,41,41,41,42,43,43,43,43,43,43,43,44,45,45,45,46,47,47,48,48,48,48,48,48,48,49,49,49,49,50,50,51,51,51,51,52,52,52,52,53,53,53,54,54,54,54,54,54,54,55,55,55,56,57,57,59,61,62,33,49,50,51,59,40,47,48,56,47,54,58,38,38,50,51,62,62,64,64,66,73,63,64,54,61,51,54],\"type\":\"box\"}],                        {\"template\":{\"data\":{\"histogram2dcontour\":[{\"type\":\"histogram2dcontour\",\"colorbar\":{\"outlinewidth\":0,\"ticks\":\"\"},\"colorscale\":[[0.0,\"#0d0887\"],[0.1111111111111111,\"#46039f\"],[0.2222222222222222,\"#7201a8\"],[0.3333333333333333,\"#9c179e\"],[0.4444444444444444,\"#bd3786\"],[0.5555555555555556,\"#d8576b\"],[0.6666666666666666,\"#ed7953\"],[0.7777777777777778,\"#fb9f3a\"],[0.8888888888888888,\"#fdca26\"],[1.0,\"#f0f921\"]]}],\"choropleth\":[{\"type\":\"choropleth\",\"colorbar\":{\"outlinewidth\":0,\"ticks\":\"\"}}],\"histogram2d\":[{\"type\":\"histogram2d\",\"colorbar\":{\"outlinewidth\":0,\"ticks\":\"\"},\"colorscale\":[[0.0,\"#0d0887\"],[0.1111111111111111,\"#46039f\"],[0.2222222222222222,\"#7201a8\"],[0.3333333333333333,\"#9c179e\"],[0.4444444444444444,\"#bd3786\"],[0.5555555555555556,\"#d8576b\"],[0.6666666666666666,\"#ed7953\"],[0.7777777777777778,\"#fb9f3a\"],[0.8888888888888888,\"#fdca26\"],[1.0,\"#f0f921\"]]}],\"heatmap\":[{\"type\":\"heatmap\",\"colorbar\":{\"outlinewidth\":0,\"ticks\":\"\"},\"colorscale\":[[0.0,\"#0d0887\"],[0.1111111111111111,\"#46039f\"],[0.2222222222222222,\"#7201a8\"],[0.3333333333333333,\"#9c179e\"],[0.4444444444444444,\"#bd3786\"],[0.5555555555555556,\"#d8576b\"],[0.6666666666666666,\"#ed7953\"],[0.7777777777777778,\"#fb9f3a\"],[0.8888888888888888,\"#fdca26\"],[1.0,\"#f0f921\"]]}],\"heatmapgl\":[{\"type\":\"heatmapgl\",\"colorbar\":{\"outlinewidth\":0,\"ticks\":\"\"},\"colorscale\":[[0.0,\"#0d0887\"],[0.1111111111111111,\"#46039f\"],[0.2222222222222222,\"#7201a8\"],[0.3333333333333333,\"#9c179e\"],[0.4444444444444444,\"#bd3786\"],[0.5555555555555556,\"#d8576b\"],[0.6666666666666666,\"#ed7953\"],[0.7777777777777778,\"#fb9f3a\"],[0.8888888888888888,\"#fdca26\"],[1.0,\"#f0f921\"]]}],\"contourcarpet\":[{\"type\":\"contourcarpet\",\"colorbar\":{\"outlinewidth\":0,\"ticks\":\"\"}}],\"contour\":[{\"type\":\"contour\",\"colorbar\":{\"outlinewidth\":0,\"ticks\":\"\"},\"colorscale\":[[0.0,\"#0d0887\"],[0.1111111111111111,\"#46039f\"],[0.2222222222222222,\"#7201a8\"],[0.3333333333333333,\"#9c179e\"],[0.4444444444444444,\"#bd3786\"],[0.5555555555555556,\"#d8576b\"],[0.6666666666666666,\"#ed7953\"],[0.7777777777777778,\"#fb9f3a\"],[0.8888888888888888,\"#fdca26\"],[1.0,\"#f0f921\"]]}],\"surface\":[{\"type\":\"surface\",\"colorbar\":{\"outlinewidth\":0,\"ticks\":\"\"},\"colorscale\":[[0.0,\"#0d0887\"],[0.1111111111111111,\"#46039f\"],[0.2222222222222222,\"#7201a8\"],[0.3333333333333333,\"#9c179e\"],[0.4444444444444444,\"#bd3786\"],[0.5555555555555556,\"#d8576b\"],[0.6666666666666666,\"#ed7953\"],[0.7777777777777778,\"#fb9f3a\"],[0.8888888888888888,\"#fdca26\"],[1.0,\"#f0f921\"]]}],\"mesh3d\":[{\"type\":\"mesh3d\",\"colorbar\":{\"outlinewidth\":0,\"ticks\":\"\"}}],\"scatter\":[{\"fillpattern\":{\"fillmode\":\"overlay\",\"size\":10,\"solidity\":0.2},\"type\":\"scatter\"}],\"parcoords\":[{\"type\":\"parcoords\",\"line\":{\"colorbar\":{\"outlinewidth\":0,\"ticks\":\"\"}}}],\"scatterpolargl\":[{\"type\":\"scatterpolargl\",\"marker\":{\"colorbar\":{\"outlinewidth\":0,\"ticks\":\"\"}}}],\"bar\":[{\"error_x\":{\"color\":\"#2a3f5f\"},\"error_y\":{\"color\":\"#2a3f5f\"},\"marker\":{\"line\":{\"color\":\"#E5ECF6\",\"width\":0.5},\"pattern\":{\"fillmode\":\"overlay\",\"size\":10,\"solidity\":0.2}},\"type\":\"bar\"}],\"scattergeo\":[{\"type\":\"scattergeo\",\"marker\":{\"colorbar\":{\"outlinewidth\":0,\"ticks\":\"\"}}}],\"scatterpolar\":[{\"type\":\"scatterpolar\",\"marker\":{\"colorbar\":{\"outlinewidth\":0,\"ticks\":\"\"}}}],\"histogram\":[{\"marker\":{\"pattern\":{\"fillmode\":\"overlay\",\"size\":10,\"solidity\":0.2}},\"type\":\"histogram\"}],\"scattergl\":[{\"type\":\"scattergl\",\"marker\":{\"colorbar\":{\"outlinewidth\":0,\"ticks\":\"\"}}}],\"scatter3d\":[{\"type\":\"scatter3d\",\"line\":{\"colorbar\":{\"outlinewidth\":0,\"ticks\":\"\"}},\"marker\":{\"colorbar\":{\"outlinewidth\":0,\"ticks\":\"\"}}}],\"scattermapbox\":[{\"type\":\"scattermapbox\",\"marker\":{\"colorbar\":{\"outlinewidth\":0,\"ticks\":\"\"}}}],\"scatterternary\":[{\"type\":\"scatterternary\",\"marker\":{\"colorbar\":{\"outlinewidth\":0,\"ticks\":\"\"}}}],\"scattercarpet\":[{\"type\":\"scattercarpet\",\"marker\":{\"colorbar\":{\"outlinewidth\":0,\"ticks\":\"\"}}}],\"carpet\":[{\"aaxis\":{\"endlinecolor\":\"#2a3f5f\",\"gridcolor\":\"white\",\"linecolor\":\"white\",\"minorgridcolor\":\"white\",\"startlinecolor\":\"#2a3f5f\"},\"baxis\":{\"endlinecolor\":\"#2a3f5f\",\"gridcolor\":\"white\",\"linecolor\":\"white\",\"minorgridcolor\":\"white\",\"startlinecolor\":\"#2a3f5f\"},\"type\":\"carpet\"}],\"table\":[{\"cells\":{\"fill\":{\"color\":\"#EBF0F8\"},\"line\":{\"color\":\"white\"}},\"header\":{\"fill\":{\"color\":\"#C8D4E3\"},\"line\":{\"color\":\"white\"}},\"type\":\"table\"}],\"barpolar\":[{\"marker\":{\"line\":{\"color\":\"#E5ECF6\",\"width\":0.5},\"pattern\":{\"fillmode\":\"overlay\",\"size\":10,\"solidity\":0.2}},\"type\":\"barpolar\"}],\"pie\":[{\"automargin\":true,\"type\":\"pie\"}]},\"layout\":{\"autotypenumbers\":\"strict\",\"colorway\":[\"#636efa\",\"#EF553B\",\"#00cc96\",\"#ab63fa\",\"#FFA15A\",\"#19d3f3\",\"#FF6692\",\"#B6E880\",\"#FF97FF\",\"#FECB52\"],\"font\":{\"color\":\"#2a3f5f\"},\"hovermode\":\"closest\",\"hoverlabel\":{\"align\":\"left\"},\"paper_bgcolor\":\"white\",\"plot_bgcolor\":\"#E5ECF6\",\"polar\":{\"bgcolor\":\"#E5ECF6\",\"angularaxis\":{\"gridcolor\":\"white\",\"linecolor\":\"white\",\"ticks\":\"\"},\"radialaxis\":{\"gridcolor\":\"white\",\"linecolor\":\"white\",\"ticks\":\"\"}},\"ternary\":{\"bgcolor\":\"#E5ECF6\",\"aaxis\":{\"gridcolor\":\"white\",\"linecolor\":\"white\",\"ticks\":\"\"},\"baxis\":{\"gridcolor\":\"white\",\"linecolor\":\"white\",\"ticks\":\"\"},\"caxis\":{\"gridcolor\":\"white\",\"linecolor\":\"white\",\"ticks\":\"\"}},\"coloraxis\":{\"colorbar\":{\"outlinewidth\":0,\"ticks\":\"\"}},\"colorscale\":{\"sequential\":[[0.0,\"#0d0887\"],[0.1111111111111111,\"#46039f\"],[0.2222222222222222,\"#7201a8\"],[0.3333333333333333,\"#9c179e\"],[0.4444444444444444,\"#bd3786\"],[0.5555555555555556,\"#d8576b\"],[0.6666666666666666,\"#ed7953\"],[0.7777777777777778,\"#fb9f3a\"],[0.8888888888888888,\"#fdca26\"],[1.0,\"#f0f921\"]],\"sequentialminus\":[[0.0,\"#0d0887\"],[0.1111111111111111,\"#46039f\"],[0.2222222222222222,\"#7201a8\"],[0.3333333333333333,\"#9c179e\"],[0.4444444444444444,\"#bd3786\"],[0.5555555555555556,\"#d8576b\"],[0.6666666666666666,\"#ed7953\"],[0.7777777777777778,\"#fb9f3a\"],[0.8888888888888888,\"#fdca26\"],[1.0,\"#f0f921\"]],\"diverging\":[[0,\"#8e0152\"],[0.1,\"#c51b7d\"],[0.2,\"#de77ae\"],[0.3,\"#f1b6da\"],[0.4,\"#fde0ef\"],[0.5,\"#f7f7f7\"],[0.6,\"#e6f5d0\"],[0.7,\"#b8e186\"],[0.8,\"#7fbc41\"],[0.9,\"#4d9221\"],[1,\"#276419\"]]},\"xaxis\":{\"gridcolor\":\"white\",\"linecolor\":\"white\",\"ticks\":\"\",\"title\":{\"standoff\":15},\"zerolinecolor\":\"white\",\"automargin\":true,\"zerolinewidth\":2},\"yaxis\":{\"gridcolor\":\"white\",\"linecolor\":\"white\",\"ticks\":\"\",\"title\":{\"standoff\":15},\"zerolinecolor\":\"white\",\"automargin\":true,\"zerolinewidth\":2},\"scene\":{\"xaxis\":{\"backgroundcolor\":\"#E5ECF6\",\"gridcolor\":\"white\",\"linecolor\":\"white\",\"showbackground\":true,\"ticks\":\"\",\"zerolinecolor\":\"white\",\"gridwidth\":2},\"yaxis\":{\"backgroundcolor\":\"#E5ECF6\",\"gridcolor\":\"white\",\"linecolor\":\"white\",\"showbackground\":true,\"ticks\":\"\",\"zerolinecolor\":\"white\",\"gridwidth\":2},\"zaxis\":{\"backgroundcolor\":\"#E5ECF6\",\"gridcolor\":\"white\",\"linecolor\":\"white\",\"showbackground\":true,\"ticks\":\"\",\"zerolinecolor\":\"white\",\"gridwidth\":2}},\"shapedefaults\":{\"line\":{\"color\":\"#2a3f5f\"}},\"annotationdefaults\":{\"arrowcolor\":\"#2a3f5f\",\"arrowhead\":0,\"arrowwidth\":1},\"geo\":{\"bgcolor\":\"white\",\"landcolor\":\"#E5ECF6\",\"subunitcolor\":\"white\",\"showland\":true,\"showlakes\":true,\"lakecolor\":\"white\"},\"title\":{\"x\":0.05},\"mapbox\":{\"style\":\"light\"}}},\"title\":{\"text\":\"Age Distribution(all)\",\"x\":0.5},\"yaxis\":{\"title\":{\"text\":\"Age\"},\"showline\":true,\"linewidth\":2,\"linecolor\":\"black\",\"mirror\":true},\"xaxis\":{\"showline\":true,\"linewidth\":2,\"linecolor\":\"black\",\"mirror\":true}},                        {\"responsive\": true}                    ).then(function(){\n",
              "                            \n",
              "var gd = document.getElementById('8f13c93b-3397-45b3-ac7b-dd7b27f55286');\n",
              "var x = new MutationObserver(function (mutations, observer) {{\n",
              "        var display = window.getComputedStyle(gd).display;\n",
              "        if (!display || display === 'none') {{\n",
              "            console.log([gd, 'removed!']);\n",
              "            Plotly.purge(gd);\n",
              "            observer.disconnect();\n",
              "        }}\n",
              "}});\n",
              "\n",
              "// Listen for the removal of the full notebook cells\n",
              "var notebookContainer = gd.closest('#notebook-container');\n",
              "if (notebookContainer) {{\n",
              "    x.observe(notebookContainer, {childList: true});\n",
              "}}\n",
              "\n",
              "// Listen for the clearing of the current output cell\n",
              "var outputEl = gd.closest('.output');\n",
              "if (outputEl) {{\n",
              "    x.observe(outputEl, {childList: true});\n",
              "}}\n",
              "\n",
              "                        })                };                            </script>        </div>\n",
              "</body>\n",
              "</html>"
            ]
          },
          "metadata": {}
        }
      ]
    },
    {
      "cell_type": "code",
      "source": [
        "group_labels = ['Age Distribution'] # name of the dataset\n",
        "fig = ff.create_distplot([data.age], group_labels)\n",
        "fig.update_layout(title = 'Age Distribution(all)', yaxis_title = 'propotion', xaxis_title = 'Age', title_x = 0.5)\n",
        "fig.show()"
      ],
      "metadata": {
        "colab": {
          "base_uri": "https://localhost:8080/",
          "height": 542
        },
        "id": "MGdOZS0qudWq",
        "outputId": "14798667-0620-4aed-fd9a-14e529c4da35"
      },
      "execution_count": 20,
      "outputs": [
        {
          "output_type": "display_data",
          "data": {
            "text/html": [
              "<html>\n",
              "<head><meta charset=\"utf-8\" /></head>\n",
              "<body>\n",
              "    <div>            <script src=\"https://cdnjs.cloudflare.com/ajax/libs/mathjax/2.7.5/MathJax.js?config=TeX-AMS-MML_SVG\"></script><script type=\"text/javascript\">if (window.MathJax && window.MathJax.Hub && window.MathJax.Hub.Config) {window.MathJax.Hub.Config({SVG: {font: \"STIX-Web\"}});}</script>                <script type=\"text/javascript\">window.PlotlyConfig = {MathJaxConfig: 'local'};</script>\n",
              "        <script charset=\"utf-8\" src=\"https://cdn.plot.ly/plotly-2.24.1.min.js\"></script>                <div id=\"e1a36ebf-8dac-43de-a578-258d81bb72e8\" class=\"plotly-graph-div\" style=\"height:525px; width:100%;\"></div>            <script type=\"text/javascript\">                                    window.PLOTLYENV=window.PLOTLYENV || {};                                    if (document.getElementById(\"e1a36ebf-8dac-43de-a578-258d81bb72e8\")) {                    Plotly.newPlot(                        \"e1a36ebf-8dac-43de-a578-258d81bb72e8\",                        [{\"autobinx\":false,\"histnorm\":\"probability density\",\"legendgroup\":\"Age Distribution\",\"marker\":{\"color\":\"rgb(31, 119, 180)\"},\"name\":\"Age Distribution\",\"opacity\":0.7,\"x\":[63,67,67,37,41,56,62,57,63,53,57,56,56,44,52,57,48,54,48,49,64,58,58,58,60,50,58,66,43,40,69,60,64,59,44,42,43,57,55,61,65,40,71,59,61,58,51,50,65,53,41,65,44,44,60,54,50,41,54,51,51,46,58,54,54,60,60,54,59,46,65,67,62,65,44,65,60,51,48,58,45,53,39,68,52,44,47,53,53,51,66,62,62,44,63,52,59,60,52,48,45,34,57,71,49,54,59,57,61,39,61,56,52,43,62,41,58,35,63,65,48,63,51,55,65,45,56,54,44,62,54,51,29,51,43,55,70,62,35,51,59,59,52,64,58,47,57,41,45,60,52,42,67,55,64,70,51,58,60,68,46,77,54,58,48,57,52,54,35,45,70,53,59,62,64,57,52,56,43,53,48,56,42,59,60,63,42,66,54,69,50,51,43,62,68,67,69,45,50,59,50,64,57,64,43,45,58,50,55,62,37,38,41,66,52,56,46,46,64,59,41,54,39,53,63,34,47,67,54,66,52,55,49,74,54,54,56,46,49,42,41,41,49,61,60,67,58,47,52,62,57,58,64,51,43,42,67,76,70,57,44,58,60,44,61,42,52,59,40,42,61,66,46,71,59,64,66,39,57,58,57,47,55,35,61,58,58,58,56,56,67,55,44,63,63,41,59,57,45,68,57,57,38,28,29,29,30,31,32,32,32,33,34,34,34,35,35,35,35,36,36,36,36,37,37,37,37,37,37,37,38,38,38,39,39,39,39,39,39,39,39,39,39,40,40,40,40,40,41,41,41,41,41,41,41,42,42,42,42,42,42,42,43,43,43,43,43,43,43,43,44,44,44,44,45,45,45,45,45,45,45,46,46,46,46,46,46,46,47,47,47,47,47,48,48,48,48,48,48,48,48,48,48,48,49,49,49,49,49,49,49,49,50,50,50,50,50,50,50,51,51,51,51,51,51,51,52,52,52,52,52,52,52,52,53,53,53,53,53,53,53,53,53,54,54,54,54,54,54,54,54,54,54,54,54,54,54,54,54,55,55,55,55,55,55,55,55,55,55,56,56,56,56,56,57,57,57,58,58,58,58,59,59,59,59,59,60,61,61,62,62,31,33,34,35,36,37,38,38,38,40,41,41,43,46,46,46,47,47,48,48,48,49,49,49,50,50,51,52,54,54,55,57,58,59,60,63,65,32,38,39,40,43,45,46,46,48,48,48,48,50,52,52,53,54,54,54,54,54,55,56,57,58,58,41,43,44,44,46,47,48,49,49,51,52,52,52,52,53,53,54,55,55,55,56,56,56,58,59,59,65,66,41,43,44,47,47,49,49,50,50,52,52,54,56,58,65,32,34,35,36,38,38,38,38,38,38,40,41,42,42,43,43,43,45,46,46,47,47,47,47,48,50,50,50,50,51,51,51,51,51,51,51,52,52,52,52,53,53,53,53,53,53,53,53,54,54,54,55,55,55,55,56,56,56,56,56,56,56,56,57,57,57,57,57,57,58,58,58,59,59,59,59,59,60,60,60,60,60,60,61,61,61,61,61,61,61,61,61,62,62,62,62,62,62,62,63,63,63,63,63,64,64,64,65,65,65,65,66,66,67,68,68,69,69,70,70,72,73,74,63,44,60,55,66,66,65,60,60,60,56,59,62,63,57,62,63,46,63,60,58,64,63,74,52,69,51,60,56,55,54,77,63,55,52,64,60,60,58,59,61,40,61,41,57,63,59,51,59,42,55,63,62,56,53,68,53,60,62,59,51,61,57,56,58,69,67,58,65,63,55,57,65,54,72,75,49,51,60,64,58,61,67,62,65,63,69,51,62,55,75,40,67,58,60,63,35,62,43,63,68,65,48,63,64,61,50,59,55,45,65,61,49,72,50,64,55,63,59,56,62,74,54,57,62,76,54,70,61,48,48,61,66,68,55,62,71,74,53,58,75,56,58,64,54,54,59,55,57,61,41,71,38,55,56,69,64,72,69,56,62,67,57,69,51,48,69,69,64,57,53,37,67,74,63,58,61,64,58,60,57,55,55,56,57,61,61,58,74,68,51,62,53,62,46,54,62,55,58,62],\"xaxis\":\"x\",\"xbins\":{\"end\":77.0,\"size\":1.0,\"start\":28.0},\"yaxis\":\"y\",\"type\":\"histogram\"},{\"legendgroup\":\"Age Distribution\",\"marker\":{\"color\":\"rgb(31, 119, 180)\"},\"mode\":\"lines\",\"name\":\"Age Distribution\",\"showlegend\":false,\"x\":[28.0,28.098,28.196,28.294,28.392,28.49,28.588,28.686,28.784,28.882,28.98,29.078,29.176,29.274,29.372,29.47,29.568,29.666,29.764,29.862000000000002,29.96,30.058,30.156,30.254,30.352,30.45,30.548000000000002,30.646,30.744,30.842,30.94,31.038,31.136,31.234,31.332,31.43,31.528,31.626,31.724,31.822,31.92,32.018,32.116,32.214,32.312,32.41,32.508,32.606,32.704,32.802,32.9,32.998,33.096000000000004,33.194,33.292,33.39,33.488,33.586,33.684,33.782,33.88,33.978,34.076,34.174,34.272,34.37,34.468,34.566,34.664,34.762,34.86,34.958,35.056,35.153999999999996,35.252,35.35,35.448,35.546,35.644,35.742,35.84,35.938,36.036,36.134,36.232,36.33,36.428,36.525999999999996,36.624,36.722,36.82,36.918,37.016,37.114000000000004,37.212,37.31,37.408,37.506,37.604,37.702,37.8,37.897999999999996,37.996,38.094,38.192,38.29,38.388,38.486000000000004,38.584,38.682,38.78,38.878,38.976,39.074,39.172,39.269999999999996,39.368,39.466,39.564,39.662,39.76,39.858000000000004,39.956,40.054,40.152,40.25,40.348,40.446,40.544,40.641999999999996,40.74,40.838,40.936,41.034,41.132,41.230000000000004,41.328,41.426,41.524,41.622,41.72,41.818,41.916,42.013999999999996,42.112,42.21,42.308,42.406,42.504,42.602000000000004,42.7,42.798,42.896,42.994,43.092,43.19,43.288,43.385999999999996,43.484,43.582,43.68,43.778,43.876,43.974000000000004,44.072,44.17,44.268,44.366,44.464,44.562,44.66,44.757999999999996,44.856,44.954,45.052,45.15,45.248000000000005,45.346000000000004,45.444,45.542,45.64,45.738,45.836,45.934,46.032,46.129999999999995,46.228,46.326,46.424,46.522,46.620000000000005,46.718,46.816,46.914,47.012,47.11,47.208,47.306,47.403999999999996,47.501999999999995,47.6,47.698,47.796,47.894,47.992000000000004,48.09,48.188,48.286,48.384,48.482,48.58,48.678,48.775999999999996,48.873999999999995,48.972,49.07,49.168,49.266,49.364000000000004,49.462,49.56,49.658,49.756,49.854,49.952,50.05,50.147999999999996,50.245999999999995,50.344,50.442,50.54,50.638000000000005,50.736000000000004,50.834,50.932,51.03,51.128,51.226,51.324,51.422,51.519999999999996,51.617999999999995,51.716,51.814,51.912,52.010000000000005,52.108000000000004,52.206,52.304,52.402,52.5,52.598,52.696,52.794,52.891999999999996,52.989999999999995,53.088,53.186,53.284,53.382000000000005,53.480000000000004,53.578,53.676,53.774,53.872,53.97,54.068,54.166,54.263999999999996,54.361999999999995,54.46,54.558,54.656,54.754000000000005,54.852000000000004,54.95,55.048,55.146,55.244,55.342,55.44,55.538,55.635999999999996,55.734,55.832,55.93,56.028,56.126000000000005,56.224000000000004,56.322,56.42,56.518,56.616,56.714,56.812,56.91,57.007999999999996,57.106,57.204,57.302,57.4,57.498000000000005,57.596000000000004,57.694,57.792,57.89,57.988,58.086,58.184,58.282,58.379999999999995,58.478,58.576,58.674,58.772,58.870000000000005,58.968,59.066,59.164,59.262,59.36,59.458,59.556,59.653999999999996,59.751999999999995,59.85,59.948,60.046,60.144,60.242,60.34,60.438,60.536,60.634,60.732,60.83,60.928,61.026,61.124,61.222,61.32,61.418,61.516,61.614,61.712,61.81,61.908,62.006,62.104,62.202,62.3,62.398,62.496,62.594,62.692,62.79,62.888,62.986,63.084,63.182,63.28,63.378,63.476,63.574,63.672,63.77,63.868,63.966,64.064,64.162,64.25999999999999,64.358,64.456,64.554,64.652,64.75,64.848,64.946,65.044,65.142,65.24000000000001,65.338,65.436,65.53399999999999,65.632,65.72999999999999,65.828,65.926,66.024,66.122,66.22,66.318,66.416,66.51400000000001,66.612,66.71000000000001,66.80799999999999,66.906,67.00399999999999,67.102,67.2,67.298,67.396,67.494,67.592,67.69,67.788,67.886,67.98400000000001,68.082,68.18,68.27799999999999,68.376,68.47399999999999,68.572,68.67,68.768,68.866,68.964,69.062,69.16,69.25800000000001,69.356,69.45400000000001,69.55199999999999,69.65,69.74799999999999,69.846,69.944,70.042,70.14,70.238,70.336,70.434,70.532,70.63,70.72800000000001,70.826,70.924,71.02199999999999,71.12,71.218,71.316,71.414,71.512,71.61,71.708,71.806,71.904,72.00200000000001,72.1,72.19800000000001,72.29599999999999,72.394,72.49199999999999,72.59,72.688,72.786,72.884,72.982,73.08,73.178,73.27600000000001,73.374,73.47200000000001,73.57,73.668,73.76599999999999,73.864,73.962,74.06,74.158,74.256,74.354,74.452,74.55,74.648,74.74600000000001,74.844,74.94200000000001,75.03999999999999,75.138,75.23599999999999,75.334,75.432,75.53,75.628,75.726,75.824,75.922,76.02000000000001,76.118,76.21600000000001,76.314,76.412,76.50999999999999,76.608,76.706,76.804,76.902],\"xaxis\":\"x\",\"y\":[0.0013293801798971911,0.0013799313820512145,0.001431457262194395,0.0014839638261877441,0.0015374595822836398,0.001591955663154261,0.0016474659231296264,0.0017040070090881842,0.0017615984037149712,0.001820262440132261,0.0018800242872118273,0.0019409119051941091,0.002002955971561333,0.002066189777438159,0.0021306490951184423,0.0021963720176371502,0.002263398771619712,0.0023317715049412527,0.002401534051014526,0.0024727316717919217,0.0025454107818134036,0.002619618655853728,0.002695403122917398,0.00277281224949619,0.002851894015139681,0.0029326959834923214,0.003015264972020019,0.0030996467236843296,0.003185885583820759,0.00327402418544247,0.0033641031461165765,0.0034561607794533727,0.003550232824104803,0.0036463521929912296,0.0037445487452651104,0.0038448490832788135,0.00394727637655356,0.0040518502144482665,0.004158586488906996,0.004267497308321606,0.004378590943187711,0.0044918718038606,0.00460734045033788,0.004724993633611331,0.004844824367748286,0.004966822031485095,0.005090972497751541,0.0052172582891953125,0.005345658757451021,0.00547615028359859,0.005608706496990883,0.005743298509401186,0.005879895161254066,0.006018463276561562,0.006158967923092765,0.0063013726742624345,0.006445639869233332,0.00659173086778999,0.006739606296655392,0.0068892262840888705,0.007040550679818607,0.007193539257620908,0.007348151898161559,0.007504348750051146,0.007662090367432608,0.007821337822811504,0.007982052794243777,0.008144197626409687,0.008307735365519046,0.008472629768395645,0.008638845286480361,0.008806347025858816,0.008975100684753235,0.009145072470217662,0.009316228996029127,0.009488537163976568,0.009661964030904155,0.00983647666397043,0.010012041986633103,0.010188626617866544,0.010366196707063003,0.010544717766963078,0.010724154506816913,0.010904470667787354,0.011085628862390048,0.011267590419523896,0.011450315236385844,0.011633761638296672,0.011817886247200989,0.012002643859347585,0.012187987332416717,0.012373867482149432,0.012560232988355482,0.012747030310027605,0.012934203609199158,0.013121694683124664,0.013309442904359689,0.013497385168364046,0.013685455848343039,0.013873586757184381,0.014061707116523598,0.014249743533191493,0.014437619983540822,0.014625257806411418,0.01481257570577895,0.014999489764403021,0.015185913470070405,0.015371757756279069,0.015556931059437604,0.015741339394843058,0.01592488645383842,0.016107473724645067,0.016289000639381466,0.016469364749742556,0.016648461933696436,0.016826186635363,0.017002432139979522,0.017177090885513214,0.01735005481207188,0.017521215749789234,0.017690465845320448,0.017857698026494364,0.018022806504042206,0.018185687308650483,0.018346238860910843,0.018504362571044063,0.018659963464594236,0.018812950829622165,0.018963238880298425,0.019110747431210433,0.01925540257617164,0.019397137364866934,0.019535892470296887,0.01967161683969684,0.01980426832143025,0.019933814260275583,0.020060232053557465,0.020183509660723527,0.02030364605922533,0.020420651639934173,0.02053454853580599,0.02064537087809603,0.020753164975108276,0.020857989409235993,0.020959915048910125,0.02105902497298497,0.021155414306072616,0.021249189964357734,0.021340470312463573,0.021429384733009524,0.021516073111547622,0.021600685240611588,0.021683380147614992,0.021764325352296235,0.021843696060302235,0.021921674300331342,0.02199844801298701,0.022074210100130724,0.02214915744405815,0.022223489906226676,0.022297409315562632,0.022371118456526406,0.022444820067158682,0.022518715857212362,0.022593005556251242,0.02266788600122897,0.022743550272560517,0.022820186887099234,0.022897979055693102,0.02297710401216907,0.023057732419671996,0.023140027859267148,0.023224146404651525,0.02331023628568046,0.02339843764224897,0.023488882368868258,0.023581694049083623,0.023676987977678594,0.02377487126744079,0.023875443036146606,0.02397879466833619,0.024085010145467472,0.024194166437114698,0.024306333945065647,0.024421576991479257,0.024539954341671076,0.02466151975166157,0.024786322530297857,0.024914408105595125,0.025045818584920984,0.02518059329876449,0.025318769318097983,0.025460381935747546,0.025605465102729923,0.025754051811179735,0.02590617441628398,0.026061864890525713,0.02622115500453392,0.02638407642989923,0.026550660760439604,0.026720939449587016,0.026894943662755758,0.027072704044792114,0.027254250403792975,0.027439611313792012,0.02762881363995052,0.027821881990991518,0.028018838104634007,0.028219700172738678,0.02842448211370988,0.02863319280045065,0.02884583525279527,0.029062405803847096,0.029282893250044108,0.02950727799502767,0.029735531197530585,0.029967613933510377,0.030203476382638737,0.0304430570490518,0.03068628202591468,0.030933064312944916,0.03118330319550476,0.031436883693287565,0.03169367608594311,0.03195353552227206,0.032216301718837596,0.032481798753038235,0.03274983495484434,0.033020202900547004,0.03329267951100581,0.03356702625601567,0.033842989465552066,0.0341203007478152,0.0343986775131475,0.03467782360210216,0.03495743001514686,0.035237175740718406,0.03551672867761774,0.03579574664702181,0.03607387848870759,0.03635076523544152,0.036626041358862466,0.03689933607960517,0.037170274733862266,0.03743848018805967,0.03770357429285191,0.0379651793672155,0.03822291970302415,0.03847642308017129,0.03872532228202303,0.038969256600794866,0.039207873322291975,0.039440829179422474,0.03966779176390474,0.0398884408857332,0.04010246987017678,0.04030958678242093,0.0405095155703966,0.040701997116876894,0.040886790192588465,0.04106367230283338,0.04123244042099364,0.04139291160325453,0.041544923479933125,0.041688334619950494,0.04182302476617776,0.04194889494065458,0.042065867419970676,0.042173885582419066,0.0422729136298434,0.04236293618838946,0.04244395779362836,0.04251600226670505,0.04257911198925871,0.04263334708587593,0.04267878452370193,0.04271551713957598,0.04274365260564621,0.04276331234482972,0.04277463040774047,0.042777752322765254,0.04277283393086242,0.04276004021636223,0.04273954414458551,0.04271152551646702,0.0426761698495898,0.042633667294123385,0.04258421159112214,0.042527999079517945,0.042465227756938714,0.04239609639823552,0.042320803734342397,0.04223954769282679,0.04215252470026102,0.04205992904538617,0.04196195230093851,0.041858782801048475,0.04175060517025737,0.041637599899489876,0.04151994296377843,0.04139780547614403,0.04127135337183166,0.041140747117079775,0.041006141436736324,0.040867685055358864,0.04072552044691926,0.040579783588845904,0.040430603716911165,0.04027810307832966,0.04012239668139409,0.039963592041000834,0.03980178892047767,0.03963707907119817,0.039469545972527414,0.039299264575659604,0.03912630105585223,0.03895071257841721,0.03877254708456663,0.038591843103810974,0.03840862960005637,0.03822292585882982,0.038034741423159664,0.037844076085564476,0.037650919943332715,0.037455253523822785,0.037257047985890177,0.037056265402736877,0.03685285913053357,0.03664677426606,0.036437948195393345,0.036226311234364296,0.03601178736009957,0.03579429503153721,0.035573748095337726,0.03535005677215538,0.0351231287168066,0.034892870144513685,0.03465918701411409,0.034421986257949566,0.034181177047116464,0.03393667207985424,0.03368838888012447,0.033436251092892326,0.033180189762253565,0.03292014457840088,0.03265606507945809,0.03238791179445421,0.03211565731414768,0.031839287277041196,0.031558801258733636,0.03127421355373468,0.03098555383999754,0.03069286771768507,0.030396217115066758,0.03009568055591549,0.029791353284317135,0.02948334724440214,0.02917179091412934,0.028856828993872218,0.02853862195217313,0.02821734543258504,0.027893189527037003,0.02756635792257767,0.02723706692968508,0.02690554440154765,0.026572028554815955,0.026236766703283846,0.025900013916765895,0.025562031618110673,0.025223086131787465,0.024883447197841746,0.02454338646520565,0.024203175978393145,0.023863086671492468,0.023523386883119165,0.023184340905595312,0.02284620758109689,0.022509238956871517,0.022173679010872003,0.02183976245830721,0.021507713648665237,0.021177745561767148,0.02085005891032107,0.020524841355339513,0.020202266839610006,0.019882495043237854,0.019565670964068915,0.019251924624609746,0.018941370905865992,0.018634109507347035,0.018330225031342927,0.018029787188468604,0.017732851120413135,0.017439457834822,0.017149634746295488,0.016863396316605384,0.016580744786431366,0.016301670990183897,0.016026155244848034,0.015754168303214796,0.015485672361412392,0.015220622110270353,0.014958965819779365,0.014700646445728669,0.014445602747524692,0.014193770406212461,0.01394508313183909,0.013699473749512648,0.013456875253817474,0.013217221821652423,0.012980449774043641,0.012746498478067643,0.01251531118067024,0.012286835766903875,0.012061025435904045,0.011837839288789747,0.011617242823588522,0.011399208333250725,0.01118371520381705,0.010970750110832088,0.01076030711314222,0.010552387644271036,0.01034700040261789,0.010144161142762733,0.009943892371179536,0.009746222950637784,0.009551187618515559,0.009358826425125236,0.009169184098977618,0.0089823093466542,0.008798254095625544,0.008617072688928758,0.008438821041101137,0.00826355576514534,0.008091333280577857,0.00792220891277722,0.007756235993902167,0.007593464975592489,0.0074339425634918025,0.00727771088335434,0.007124806688103146,0.0069752606147206134,0.006829096499256311,0.006686330757560609,0.00654697183858432,0.00641101975624798,0.0062784657049808155,0.006149291763072389,0.006023470686981812,0.0059009657987203375,0.005781730967377151,0.005665710684805194,0.005552840234442638,0.005443045951219049,0.005336245569506518,0.005232348655128078,0.005131257116545694,0.005032865789524332,0.00493706308882059,0.0048437317197785835,0.004752749442142834,0.004663989877921722,0.004577323354761339,0.004492617776021454,0.0044097395085835565,0.004328554279368373,0.004248928071591511,0.004170728011943979,0.004093823240138862,0.004018085752618021,0.003943391212649653,0.003869619719568436,0.0037966565304999498,0.0037243927285659528,0.0036527258322728504,0.0035815603415352204,0.0035108082165660505,0.0034403892866669535,0.003370231586761808,0.0033002716203278373,0.0032304545481772065,0.0031607343033196156,0.0030910736328862475,0.00302144406880393,0.0029518258295746598,0.0028822076561268372,0.0028125865852605095,0.002742967664701378,0.0026733636142064194,0.0026037944375238782,0.002534286990302109,0.002464874509263974,0.0023955961081180335,0.002326496245765926,0.002257624172388762,0.002189033358959734,0.002120780915635635,0.0020529270043353636,0.0019855342506193093,0.0019186671597485362],\"yaxis\":\"y\",\"type\":\"scatter\"},{\"legendgroup\":\"Age Distribution\",\"marker\":{\"color\":\"rgb(31, 119, 180)\",\"symbol\":\"line-ns-open\"},\"mode\":\"markers\",\"name\":\"Age Distribution\",\"showlegend\":false,\"x\":[63,67,67,37,41,56,62,57,63,53,57,56,56,44,52,57,48,54,48,49,64,58,58,58,60,50,58,66,43,40,69,60,64,59,44,42,43,57,55,61,65,40,71,59,61,58,51,50,65,53,41,65,44,44,60,54,50,41,54,51,51,46,58,54,54,60,60,54,59,46,65,67,62,65,44,65,60,51,48,58,45,53,39,68,52,44,47,53,53,51,66,62,62,44,63,52,59,60,52,48,45,34,57,71,49,54,59,57,61,39,61,56,52,43,62,41,58,35,63,65,48,63,51,55,65,45,56,54,44,62,54,51,29,51,43,55,70,62,35,51,59,59,52,64,58,47,57,41,45,60,52,42,67,55,64,70,51,58,60,68,46,77,54,58,48,57,52,54,35,45,70,53,59,62,64,57,52,56,43,53,48,56,42,59,60,63,42,66,54,69,50,51,43,62,68,67,69,45,50,59,50,64,57,64,43,45,58,50,55,62,37,38,41,66,52,56,46,46,64,59,41,54,39,53,63,34,47,67,54,66,52,55,49,74,54,54,56,46,49,42,41,41,49,61,60,67,58,47,52,62,57,58,64,51,43,42,67,76,70,57,44,58,60,44,61,42,52,59,40,42,61,66,46,71,59,64,66,39,57,58,57,47,55,35,61,58,58,58,56,56,67,55,44,63,63,41,59,57,45,68,57,57,38,28,29,29,30,31,32,32,32,33,34,34,34,35,35,35,35,36,36,36,36,37,37,37,37,37,37,37,38,38,38,39,39,39,39,39,39,39,39,39,39,40,40,40,40,40,41,41,41,41,41,41,41,42,42,42,42,42,42,42,43,43,43,43,43,43,43,43,44,44,44,44,45,45,45,45,45,45,45,46,46,46,46,46,46,46,47,47,47,47,47,48,48,48,48,48,48,48,48,48,48,48,49,49,49,49,49,49,49,49,50,50,50,50,50,50,50,51,51,51,51,51,51,51,52,52,52,52,52,52,52,52,53,53,53,53,53,53,53,53,53,54,54,54,54,54,54,54,54,54,54,54,54,54,54,54,54,55,55,55,55,55,55,55,55,55,55,56,56,56,56,56,57,57,57,58,58,58,58,59,59,59,59,59,60,61,61,62,62,31,33,34,35,36,37,38,38,38,40,41,41,43,46,46,46,47,47,48,48,48,49,49,49,50,50,51,52,54,54,55,57,58,59,60,63,65,32,38,39,40,43,45,46,46,48,48,48,48,50,52,52,53,54,54,54,54,54,55,56,57,58,58,41,43,44,44,46,47,48,49,49,51,52,52,52,52,53,53,54,55,55,55,56,56,56,58,59,59,65,66,41,43,44,47,47,49,49,50,50,52,52,54,56,58,65,32,34,35,36,38,38,38,38,38,38,40,41,42,42,43,43,43,45,46,46,47,47,47,47,48,50,50,50,50,51,51,51,51,51,51,51,52,52,52,52,53,53,53,53,53,53,53,53,54,54,54,55,55,55,55,56,56,56,56,56,56,56,56,57,57,57,57,57,57,58,58,58,59,59,59,59,59,60,60,60,60,60,60,61,61,61,61,61,61,61,61,61,62,62,62,62,62,62,62,63,63,63,63,63,64,64,64,65,65,65,65,66,66,67,68,68,69,69,70,70,72,73,74,63,44,60,55,66,66,65,60,60,60,56,59,62,63,57,62,63,46,63,60,58,64,63,74,52,69,51,60,56,55,54,77,63,55,52,64,60,60,58,59,61,40,61,41,57,63,59,51,59,42,55,63,62,56,53,68,53,60,62,59,51,61,57,56,58,69,67,58,65,63,55,57,65,54,72,75,49,51,60,64,58,61,67,62,65,63,69,51,62,55,75,40,67,58,60,63,35,62,43,63,68,65,48,63,64,61,50,59,55,45,65,61,49,72,50,64,55,63,59,56,62,74,54,57,62,76,54,70,61,48,48,61,66,68,55,62,71,74,53,58,75,56,58,64,54,54,59,55,57,61,41,71,38,55,56,69,64,72,69,56,62,67,57,69,51,48,69,69,64,57,53,37,67,74,63,58,61,64,58,60,57,55,55,56,57,61,61,58,74,68,51,62,53,62,46,54,62,55,58,62],\"xaxis\":\"x\",\"y\":[\"Age Distribution\",\"Age Distribution\",\"Age Distribution\",\"Age Distribution\",\"Age Distribution\",\"Age Distribution\",\"Age Distribution\",\"Age Distribution\",\"Age Distribution\",\"Age Distribution\",\"Age Distribution\",\"Age Distribution\",\"Age Distribution\",\"Age Distribution\",\"Age Distribution\",\"Age Distribution\",\"Age Distribution\",\"Age Distribution\",\"Age Distribution\",\"Age Distribution\",\"Age Distribution\",\"Age Distribution\",\"Age Distribution\",\"Age Distribution\",\"Age Distribution\",\"Age Distribution\",\"Age Distribution\",\"Age Distribution\",\"Age Distribution\",\"Age Distribution\",\"Age Distribution\",\"Age Distribution\",\"Age Distribution\",\"Age Distribution\",\"Age Distribution\",\"Age Distribution\",\"Age Distribution\",\"Age Distribution\",\"Age Distribution\",\"Age Distribution\",\"Age Distribution\",\"Age Distribution\",\"Age Distribution\",\"Age Distribution\",\"Age Distribution\",\"Age Distribution\",\"Age Distribution\",\"Age Distribution\",\"Age Distribution\",\"Age Distribution\",\"Age Distribution\",\"Age Distribution\",\"Age Distribution\",\"Age Distribution\",\"Age Distribution\",\"Age Distribution\",\"Age Distribution\",\"Age Distribution\",\"Age Distribution\",\"Age Distribution\",\"Age Distribution\",\"Age Distribution\",\"Age Distribution\",\"Age Distribution\",\"Age Distribution\",\"Age Distribution\",\"Age Distribution\",\"Age Distribution\",\"Age Distribution\",\"Age Distribution\",\"Age Distribution\",\"Age Distribution\",\"Age Distribution\",\"Age Distribution\",\"Age Distribution\",\"Age Distribution\",\"Age Distribution\",\"Age Distribution\",\"Age Distribution\",\"Age Distribution\",\"Age Distribution\",\"Age Distribution\",\"Age Distribution\",\"Age Distribution\",\"Age Distribution\",\"Age Distribution\",\"Age Distribution\",\"Age Distribution\",\"Age Distribution\",\"Age Distribution\",\"Age Distribution\",\"Age Distribution\",\"Age Distribution\",\"Age Distribution\",\"Age Distribution\",\"Age Distribution\",\"Age Distribution\",\"Age Distribution\",\"Age Distribution\",\"Age Distribution\",\"Age Distribution\",\"Age Distribution\",\"Age Distribution\",\"Age Distribution\",\"Age Distribution\",\"Age Distribution\",\"Age Distribution\",\"Age Distribution\",\"Age Distribution\",\"Age Distribution\",\"Age Distribution\",\"Age Distribution\",\"Age Distribution\",\"Age Distribution\",\"Age Distribution\",\"Age Distribution\",\"Age Distribution\",\"Age Distribution\",\"Age Distribution\",\"Age Distribution\",\"Age Distribution\",\"Age Distribution\",\"Age Distribution\",\"Age Distribution\",\"Age Distribution\",\"Age Distribution\",\"Age Distribution\",\"Age Distribution\",\"Age Distribution\",\"Age Distribution\",\"Age Distribution\",\"Age Distribution\",\"Age Distribution\",\"Age Distribution\",\"Age Distribution\",\"Age Distribution\",\"Age Distribution\",\"Age Distribution\",\"Age Distribution\",\"Age Distribution\",\"Age Distribution\",\"Age Distribution\",\"Age Distribution\",\"Age Distribution\",\"Age Distribution\",\"Age Distribution\",\"Age Distribution\",\"Age Distribution\",\"Age Distribution\",\"Age Distribution\",\"Age Distribution\",\"Age Distribution\",\"Age Distribution\",\"Age Distribution\",\"Age Distribution\",\"Age Distribution\",\"Age Distribution\",\"Age Distribution\",\"Age Distribution\",\"Age Distribution\",\"Age Distribution\",\"Age Distribution\",\"Age Distribution\",\"Age Distribution\",\"Age Distribution\",\"Age Distribution\",\"Age Distribution\",\"Age Distribution\",\"Age Distribution\",\"Age Distribution\",\"Age Distribution\",\"Age Distribution\",\"Age Distribution\",\"Age Distribution\",\"Age Distribution\",\"Age Distribution\",\"Age Distribution\",\"Age Distribution\",\"Age Distribution\",\"Age Distribution\",\"Age Distribution\",\"Age Distribution\",\"Age Distribution\",\"Age Distribution\",\"Age Distribution\",\"Age Distribution\",\"Age Distribution\",\"Age Distribution\",\"Age Distribution\",\"Age Distribution\",\"Age Distribution\",\"Age Distribution\",\"Age Distribution\",\"Age Distribution\",\"Age Distribution\",\"Age Distribution\",\"Age Distribution\",\"Age Distribution\",\"Age Distribution\",\"Age Distribution\",\"Age Distribution\",\"Age Distribution\",\"Age Distribution\",\"Age Distribution\",\"Age Distribution\",\"Age Distribution\",\"Age Distribution\",\"Age Distribution\",\"Age Distribution\",\"Age Distribution\",\"Age Distribution\",\"Age Distribution\",\"Age Distribution\",\"Age Distribution\",\"Age Distribution\",\"Age Distribution\",\"Age Distribution\",\"Age Distribution\",\"Age Distribution\",\"Age Distribution\",\"Age Distribution\",\"Age Distribution\",\"Age Distribution\",\"Age Distribution\",\"Age Distribution\",\"Age Distribution\",\"Age Distribution\",\"Age Distribution\",\"Age Distribution\",\"Age Distribution\",\"Age Distribution\",\"Age Distribution\",\"Age Distribution\",\"Age Distribution\",\"Age Distribution\",\"Age Distribution\",\"Age Distribution\",\"Age Distribution\",\"Age Distribution\",\"Age Distribution\",\"Age Distribution\",\"Age Distribution\",\"Age Distribution\",\"Age Distribution\",\"Age Distribution\",\"Age Distribution\",\"Age Distribution\",\"Age Distribution\",\"Age Distribution\",\"Age Distribution\",\"Age Distribution\",\"Age Distribution\",\"Age Distribution\",\"Age Distribution\",\"Age Distribution\",\"Age Distribution\",\"Age Distribution\",\"Age Distribution\",\"Age Distribution\",\"Age Distribution\",\"Age Distribution\",\"Age Distribution\",\"Age Distribution\",\"Age Distribution\",\"Age Distribution\",\"Age Distribution\",\"Age Distribution\",\"Age Distribution\",\"Age Distribution\",\"Age Distribution\",\"Age Distribution\",\"Age Distribution\",\"Age Distribution\",\"Age Distribution\",\"Age Distribution\",\"Age Distribution\",\"Age Distribution\",\"Age Distribution\",\"Age Distribution\",\"Age Distribution\",\"Age Distribution\",\"Age Distribution\",\"Age Distribution\",\"Age Distribution\",\"Age Distribution\",\"Age Distribution\",\"Age Distribution\",\"Age Distribution\",\"Age Distribution\",\"Age Distribution\",\"Age Distribution\",\"Age Distribution\",\"Age Distribution\",\"Age Distribution\",\"Age Distribution\",\"Age Distribution\",\"Age Distribution\",\"Age Distribution\",\"Age Distribution\",\"Age Distribution\",\"Age Distribution\",\"Age Distribution\",\"Age Distribution\",\"Age Distribution\",\"Age Distribution\",\"Age Distribution\",\"Age Distribution\",\"Age Distribution\",\"Age Distribution\",\"Age Distribution\",\"Age Distribution\",\"Age Distribution\",\"Age Distribution\",\"Age Distribution\",\"Age Distribution\",\"Age Distribution\",\"Age Distribution\",\"Age Distribution\",\"Age Distribution\",\"Age Distribution\",\"Age Distribution\",\"Age Distribution\",\"Age Distribution\",\"Age Distribution\",\"Age Distribution\",\"Age Distribution\",\"Age Distribution\",\"Age Distribution\",\"Age Distribution\",\"Age Distribution\",\"Age Distribution\",\"Age Distribution\",\"Age Distribution\",\"Age Distribution\",\"Age Distribution\",\"Age Distribution\",\"Age Distribution\",\"Age Distribution\",\"Age Distribution\",\"Age Distribution\",\"Age Distribution\",\"Age Distribution\",\"Age Distribution\",\"Age Distribution\",\"Age Distribution\",\"Age Distribution\",\"Age Distribution\",\"Age Distribution\",\"Age Distribution\",\"Age Distribution\",\"Age Distribution\",\"Age Distribution\",\"Age Distribution\",\"Age Distribution\",\"Age Distribution\",\"Age Distribution\",\"Age Distribution\",\"Age Distribution\",\"Age Distribution\",\"Age Distribution\",\"Age Distribution\",\"Age Distribution\",\"Age Distribution\",\"Age Distribution\",\"Age Distribution\",\"Age Distribution\",\"Age Distribution\",\"Age Distribution\",\"Age Distribution\",\"Age Distribution\",\"Age Distribution\",\"Age Distribution\",\"Age Distribution\",\"Age Distribution\",\"Age Distribution\",\"Age Distribution\",\"Age Distribution\",\"Age Distribution\",\"Age Distribution\",\"Age Distribution\",\"Age Distribution\",\"Age Distribution\",\"Age Distribution\",\"Age Distribution\",\"Age Distribution\",\"Age Distribution\",\"Age Distribution\",\"Age Distribution\",\"Age Distribution\",\"Age Distribution\",\"Age Distribution\",\"Age Distribution\",\"Age Distribution\",\"Age Distribution\",\"Age Distribution\",\"Age Distribution\",\"Age Distribution\",\"Age Distribution\",\"Age Distribution\",\"Age Distribution\",\"Age Distribution\",\"Age Distribution\",\"Age Distribution\",\"Age Distribution\",\"Age Distribution\",\"Age Distribution\",\"Age Distribution\",\"Age Distribution\",\"Age Distribution\",\"Age Distribution\",\"Age Distribution\",\"Age Distribution\",\"Age Distribution\",\"Age Distribution\",\"Age Distribution\",\"Age Distribution\",\"Age Distribution\",\"Age Distribution\",\"Age Distribution\",\"Age Distribution\",\"Age Distribution\",\"Age Distribution\",\"Age Distribution\",\"Age Distribution\",\"Age Distribution\",\"Age Distribution\",\"Age Distribution\",\"Age Distribution\",\"Age Distribution\",\"Age Distribution\",\"Age Distribution\",\"Age Distribution\",\"Age Distribution\",\"Age Distribution\",\"Age Distribution\",\"Age Distribution\",\"Age Distribution\",\"Age Distribution\",\"Age Distribution\",\"Age Distribution\",\"Age Distribution\",\"Age Distribution\",\"Age Distribution\",\"Age Distribution\",\"Age Distribution\",\"Age Distribution\",\"Age Distribution\",\"Age Distribution\",\"Age Distribution\",\"Age Distribution\",\"Age Distribution\",\"Age Distribution\",\"Age Distribution\",\"Age Distribution\",\"Age Distribution\",\"Age Distribution\",\"Age Distribution\",\"Age Distribution\",\"Age Distribution\",\"Age Distribution\",\"Age Distribution\",\"Age Distribution\",\"Age Distribution\",\"Age Distribution\",\"Age Distribution\",\"Age Distribution\",\"Age Distribution\",\"Age Distribution\",\"Age Distribution\",\"Age Distribution\",\"Age Distribution\",\"Age Distribution\",\"Age Distribution\",\"Age Distribution\",\"Age Distribution\",\"Age Distribution\",\"Age Distribution\",\"Age Distribution\",\"Age Distribution\",\"Age Distribution\",\"Age Distribution\",\"Age Distribution\",\"Age Distribution\",\"Age Distribution\",\"Age Distribution\",\"Age Distribution\",\"Age Distribution\",\"Age Distribution\",\"Age Distribution\",\"Age Distribution\",\"Age Distribution\",\"Age Distribution\",\"Age Distribution\",\"Age Distribution\",\"Age Distribution\",\"Age Distribution\",\"Age Distribution\",\"Age Distribution\",\"Age Distribution\",\"Age Distribution\",\"Age Distribution\",\"Age Distribution\",\"Age Distribution\",\"Age Distribution\",\"Age Distribution\",\"Age Distribution\",\"Age Distribution\",\"Age Distribution\",\"Age Distribution\",\"Age Distribution\",\"Age Distribution\",\"Age Distribution\",\"Age Distribution\",\"Age Distribution\",\"Age Distribution\",\"Age Distribution\",\"Age Distribution\",\"Age Distribution\",\"Age Distribution\",\"Age Distribution\",\"Age Distribution\",\"Age Distribution\",\"Age Distribution\",\"Age Distribution\",\"Age Distribution\",\"Age Distribution\",\"Age Distribution\",\"Age Distribution\",\"Age Distribution\",\"Age Distribution\",\"Age Distribution\",\"Age Distribution\",\"Age Distribution\",\"Age Distribution\",\"Age Distribution\",\"Age Distribution\",\"Age Distribution\",\"Age Distribution\",\"Age Distribution\",\"Age Distribution\",\"Age Distribution\",\"Age Distribution\",\"Age Distribution\",\"Age Distribution\",\"Age Distribution\",\"Age Distribution\",\"Age Distribution\",\"Age Distribution\",\"Age Distribution\",\"Age Distribution\",\"Age Distribution\",\"Age Distribution\",\"Age Distribution\",\"Age Distribution\",\"Age Distribution\",\"Age Distribution\",\"Age Distribution\",\"Age Distribution\",\"Age Distribution\",\"Age Distribution\",\"Age Distribution\",\"Age Distribution\",\"Age Distribution\",\"Age Distribution\",\"Age Distribution\",\"Age Distribution\",\"Age Distribution\",\"Age Distribution\",\"Age Distribution\",\"Age Distribution\",\"Age Distribution\",\"Age Distribution\",\"Age Distribution\",\"Age Distribution\",\"Age Distribution\",\"Age Distribution\",\"Age Distribution\",\"Age Distribution\",\"Age Distribution\",\"Age Distribution\",\"Age Distribution\",\"Age Distribution\",\"Age Distribution\",\"Age Distribution\",\"Age Distribution\",\"Age Distribution\",\"Age Distribution\",\"Age Distribution\",\"Age Distribution\",\"Age Distribution\",\"Age Distribution\",\"Age Distribution\",\"Age Distribution\",\"Age Distribution\",\"Age Distribution\",\"Age Distribution\",\"Age Distribution\",\"Age Distribution\",\"Age Distribution\",\"Age Distribution\",\"Age Distribution\",\"Age Distribution\",\"Age Distribution\",\"Age Distribution\",\"Age Distribution\",\"Age Distribution\",\"Age Distribution\",\"Age Distribution\",\"Age Distribution\",\"Age Distribution\",\"Age Distribution\",\"Age Distribution\",\"Age Distribution\",\"Age Distribution\",\"Age Distribution\",\"Age Distribution\",\"Age Distribution\",\"Age Distribution\",\"Age Distribution\",\"Age Distribution\",\"Age Distribution\",\"Age Distribution\",\"Age Distribution\",\"Age Distribution\",\"Age Distribution\",\"Age Distribution\",\"Age Distribution\",\"Age Distribution\",\"Age Distribution\",\"Age Distribution\",\"Age Distribution\",\"Age Distribution\",\"Age Distribution\",\"Age Distribution\",\"Age Distribution\",\"Age Distribution\",\"Age Distribution\",\"Age Distribution\",\"Age Distribution\",\"Age Distribution\",\"Age Distribution\",\"Age Distribution\",\"Age Distribution\",\"Age Distribution\",\"Age Distribution\",\"Age Distribution\",\"Age Distribution\",\"Age Distribution\",\"Age Distribution\",\"Age Distribution\",\"Age Distribution\",\"Age Distribution\",\"Age Distribution\",\"Age Distribution\",\"Age Distribution\",\"Age Distribution\",\"Age Distribution\",\"Age Distribution\",\"Age Distribution\",\"Age Distribution\",\"Age Distribution\",\"Age Distribution\",\"Age Distribution\",\"Age Distribution\",\"Age Distribution\",\"Age Distribution\",\"Age Distribution\",\"Age Distribution\",\"Age Distribution\",\"Age Distribution\",\"Age Distribution\",\"Age Distribution\",\"Age Distribution\",\"Age Distribution\",\"Age Distribution\",\"Age Distribution\",\"Age Distribution\",\"Age Distribution\",\"Age Distribution\",\"Age Distribution\",\"Age Distribution\",\"Age Distribution\",\"Age Distribution\",\"Age Distribution\",\"Age Distribution\",\"Age Distribution\",\"Age Distribution\",\"Age Distribution\",\"Age Distribution\",\"Age Distribution\",\"Age Distribution\",\"Age Distribution\",\"Age Distribution\",\"Age Distribution\",\"Age Distribution\",\"Age Distribution\",\"Age Distribution\",\"Age Distribution\",\"Age Distribution\",\"Age Distribution\",\"Age Distribution\",\"Age Distribution\",\"Age Distribution\",\"Age Distribution\",\"Age Distribution\",\"Age Distribution\",\"Age Distribution\",\"Age Distribution\",\"Age Distribution\",\"Age Distribution\",\"Age Distribution\",\"Age Distribution\",\"Age Distribution\",\"Age Distribution\",\"Age Distribution\",\"Age Distribution\",\"Age Distribution\",\"Age Distribution\",\"Age Distribution\",\"Age Distribution\",\"Age Distribution\",\"Age Distribution\",\"Age Distribution\",\"Age Distribution\",\"Age Distribution\",\"Age Distribution\",\"Age Distribution\",\"Age Distribution\",\"Age Distribution\",\"Age Distribution\",\"Age Distribution\",\"Age Distribution\",\"Age Distribution\",\"Age Distribution\",\"Age Distribution\",\"Age Distribution\",\"Age Distribution\",\"Age Distribution\",\"Age Distribution\",\"Age Distribution\",\"Age Distribution\",\"Age Distribution\",\"Age Distribution\",\"Age Distribution\",\"Age Distribution\",\"Age Distribution\",\"Age Distribution\",\"Age Distribution\",\"Age Distribution\",\"Age Distribution\",\"Age Distribution\",\"Age Distribution\",\"Age Distribution\",\"Age Distribution\",\"Age Distribution\",\"Age Distribution\",\"Age Distribution\",\"Age Distribution\",\"Age Distribution\",\"Age Distribution\",\"Age Distribution\",\"Age Distribution\",\"Age Distribution\",\"Age Distribution\",\"Age Distribution\",\"Age Distribution\",\"Age Distribution\",\"Age Distribution\",\"Age Distribution\",\"Age Distribution\",\"Age Distribution\",\"Age Distribution\",\"Age Distribution\",\"Age Distribution\",\"Age Distribution\",\"Age Distribution\",\"Age Distribution\",\"Age Distribution\",\"Age Distribution\",\"Age Distribution\",\"Age Distribution\",\"Age Distribution\",\"Age Distribution\",\"Age Distribution\",\"Age Distribution\",\"Age Distribution\",\"Age Distribution\",\"Age Distribution\",\"Age Distribution\",\"Age Distribution\",\"Age Distribution\",\"Age Distribution\",\"Age Distribution\",\"Age Distribution\",\"Age Distribution\",\"Age Distribution\",\"Age Distribution\",\"Age Distribution\",\"Age Distribution\",\"Age Distribution\",\"Age Distribution\",\"Age Distribution\",\"Age Distribution\",\"Age Distribution\",\"Age Distribution\",\"Age Distribution\",\"Age Distribution\",\"Age Distribution\",\"Age Distribution\",\"Age Distribution\",\"Age Distribution\",\"Age Distribution\",\"Age Distribution\",\"Age Distribution\",\"Age Distribution\",\"Age Distribution\",\"Age Distribution\",\"Age Distribution\",\"Age Distribution\",\"Age Distribution\",\"Age Distribution\",\"Age Distribution\",\"Age Distribution\",\"Age Distribution\",\"Age Distribution\",\"Age Distribution\",\"Age Distribution\",\"Age Distribution\",\"Age Distribution\",\"Age Distribution\",\"Age Distribution\",\"Age Distribution\",\"Age Distribution\",\"Age Distribution\",\"Age Distribution\",\"Age Distribution\",\"Age Distribution\",\"Age Distribution\",\"Age Distribution\",\"Age Distribution\",\"Age Distribution\",\"Age Distribution\",\"Age Distribution\",\"Age Distribution\",\"Age Distribution\",\"Age Distribution\",\"Age Distribution\",\"Age Distribution\",\"Age Distribution\",\"Age Distribution\",\"Age Distribution\",\"Age Distribution\",\"Age Distribution\",\"Age Distribution\",\"Age Distribution\",\"Age Distribution\",\"Age Distribution\",\"Age Distribution\",\"Age Distribution\",\"Age Distribution\",\"Age Distribution\",\"Age Distribution\",\"Age Distribution\",\"Age Distribution\",\"Age Distribution\",\"Age Distribution\",\"Age Distribution\",\"Age Distribution\",\"Age Distribution\",\"Age Distribution\",\"Age Distribution\",\"Age Distribution\",\"Age Distribution\",\"Age Distribution\",\"Age Distribution\",\"Age Distribution\",\"Age Distribution\",\"Age Distribution\",\"Age Distribution\",\"Age Distribution\",\"Age Distribution\",\"Age Distribution\",\"Age Distribution\",\"Age Distribution\",\"Age Distribution\",\"Age Distribution\",\"Age Distribution\",\"Age Distribution\",\"Age Distribution\",\"Age Distribution\",\"Age Distribution\",\"Age Distribution\",\"Age Distribution\",\"Age Distribution\",\"Age Distribution\",\"Age Distribution\",\"Age Distribution\",\"Age Distribution\",\"Age Distribution\",\"Age Distribution\",\"Age Distribution\",\"Age Distribution\",\"Age Distribution\",\"Age Distribution\",\"Age Distribution\",\"Age Distribution\",\"Age Distribution\",\"Age Distribution\",\"Age Distribution\",\"Age Distribution\",\"Age Distribution\",\"Age Distribution\",\"Age Distribution\",\"Age Distribution\",\"Age Distribution\",\"Age Distribution\",\"Age Distribution\",\"Age Distribution\",\"Age Distribution\",\"Age Distribution\"],\"yaxis\":\"y2\",\"type\":\"scatter\"}],                        {\"barmode\":\"overlay\",\"hovermode\":\"closest\",\"legend\":{\"traceorder\":\"reversed\"},\"xaxis\":{\"anchor\":\"y2\",\"domain\":[0.0,1.0],\"zeroline\":false,\"title\":{\"text\":\"Age\"}},\"yaxis\":{\"anchor\":\"free\",\"domain\":[0.35,1],\"position\":0.0,\"title\":{\"text\":\"propotion\"}},\"yaxis2\":{\"anchor\":\"x\",\"domain\":[0,0.25],\"dtick\":1,\"showticklabels\":false},\"template\":{\"data\":{\"histogram2dcontour\":[{\"type\":\"histogram2dcontour\",\"colorbar\":{\"outlinewidth\":0,\"ticks\":\"\"},\"colorscale\":[[0.0,\"#0d0887\"],[0.1111111111111111,\"#46039f\"],[0.2222222222222222,\"#7201a8\"],[0.3333333333333333,\"#9c179e\"],[0.4444444444444444,\"#bd3786\"],[0.5555555555555556,\"#d8576b\"],[0.6666666666666666,\"#ed7953\"],[0.7777777777777778,\"#fb9f3a\"],[0.8888888888888888,\"#fdca26\"],[1.0,\"#f0f921\"]]}],\"choropleth\":[{\"type\":\"choropleth\",\"colorbar\":{\"outlinewidth\":0,\"ticks\":\"\"}}],\"histogram2d\":[{\"type\":\"histogram2d\",\"colorbar\":{\"outlinewidth\":0,\"ticks\":\"\"},\"colorscale\":[[0.0,\"#0d0887\"],[0.1111111111111111,\"#46039f\"],[0.2222222222222222,\"#7201a8\"],[0.3333333333333333,\"#9c179e\"],[0.4444444444444444,\"#bd3786\"],[0.5555555555555556,\"#d8576b\"],[0.6666666666666666,\"#ed7953\"],[0.7777777777777778,\"#fb9f3a\"],[0.8888888888888888,\"#fdca26\"],[1.0,\"#f0f921\"]]}],\"heatmap\":[{\"type\":\"heatmap\",\"colorbar\":{\"outlinewidth\":0,\"ticks\":\"\"},\"colorscale\":[[0.0,\"#0d0887\"],[0.1111111111111111,\"#46039f\"],[0.2222222222222222,\"#7201a8\"],[0.3333333333333333,\"#9c179e\"],[0.4444444444444444,\"#bd3786\"],[0.5555555555555556,\"#d8576b\"],[0.6666666666666666,\"#ed7953\"],[0.7777777777777778,\"#fb9f3a\"],[0.8888888888888888,\"#fdca26\"],[1.0,\"#f0f921\"]]}],\"heatmapgl\":[{\"type\":\"heatmapgl\",\"colorbar\":{\"outlinewidth\":0,\"ticks\":\"\"},\"colorscale\":[[0.0,\"#0d0887\"],[0.1111111111111111,\"#46039f\"],[0.2222222222222222,\"#7201a8\"],[0.3333333333333333,\"#9c179e\"],[0.4444444444444444,\"#bd3786\"],[0.5555555555555556,\"#d8576b\"],[0.6666666666666666,\"#ed7953\"],[0.7777777777777778,\"#fb9f3a\"],[0.8888888888888888,\"#fdca26\"],[1.0,\"#f0f921\"]]}],\"contourcarpet\":[{\"type\":\"contourcarpet\",\"colorbar\":{\"outlinewidth\":0,\"ticks\":\"\"}}],\"contour\":[{\"type\":\"contour\",\"colorbar\":{\"outlinewidth\":0,\"ticks\":\"\"},\"colorscale\":[[0.0,\"#0d0887\"],[0.1111111111111111,\"#46039f\"],[0.2222222222222222,\"#7201a8\"],[0.3333333333333333,\"#9c179e\"],[0.4444444444444444,\"#bd3786\"],[0.5555555555555556,\"#d8576b\"],[0.6666666666666666,\"#ed7953\"],[0.7777777777777778,\"#fb9f3a\"],[0.8888888888888888,\"#fdca26\"],[1.0,\"#f0f921\"]]}],\"surface\":[{\"type\":\"surface\",\"colorbar\":{\"outlinewidth\":0,\"ticks\":\"\"},\"colorscale\":[[0.0,\"#0d0887\"],[0.1111111111111111,\"#46039f\"],[0.2222222222222222,\"#7201a8\"],[0.3333333333333333,\"#9c179e\"],[0.4444444444444444,\"#bd3786\"],[0.5555555555555556,\"#d8576b\"],[0.6666666666666666,\"#ed7953\"],[0.7777777777777778,\"#fb9f3a\"],[0.8888888888888888,\"#fdca26\"],[1.0,\"#f0f921\"]]}],\"mesh3d\":[{\"type\":\"mesh3d\",\"colorbar\":{\"outlinewidth\":0,\"ticks\":\"\"}}],\"scatter\":[{\"fillpattern\":{\"fillmode\":\"overlay\",\"size\":10,\"solidity\":0.2},\"type\":\"scatter\"}],\"parcoords\":[{\"type\":\"parcoords\",\"line\":{\"colorbar\":{\"outlinewidth\":0,\"ticks\":\"\"}}}],\"scatterpolargl\":[{\"type\":\"scatterpolargl\",\"marker\":{\"colorbar\":{\"outlinewidth\":0,\"ticks\":\"\"}}}],\"bar\":[{\"error_x\":{\"color\":\"#2a3f5f\"},\"error_y\":{\"color\":\"#2a3f5f\"},\"marker\":{\"line\":{\"color\":\"#E5ECF6\",\"width\":0.5},\"pattern\":{\"fillmode\":\"overlay\",\"size\":10,\"solidity\":0.2}},\"type\":\"bar\"}],\"scattergeo\":[{\"type\":\"scattergeo\",\"marker\":{\"colorbar\":{\"outlinewidth\":0,\"ticks\":\"\"}}}],\"scatterpolar\":[{\"type\":\"scatterpolar\",\"marker\":{\"colorbar\":{\"outlinewidth\":0,\"ticks\":\"\"}}}],\"histogram\":[{\"marker\":{\"pattern\":{\"fillmode\":\"overlay\",\"size\":10,\"solidity\":0.2}},\"type\":\"histogram\"}],\"scattergl\":[{\"type\":\"scattergl\",\"marker\":{\"colorbar\":{\"outlinewidth\":0,\"ticks\":\"\"}}}],\"scatter3d\":[{\"type\":\"scatter3d\",\"line\":{\"colorbar\":{\"outlinewidth\":0,\"ticks\":\"\"}},\"marker\":{\"colorbar\":{\"outlinewidth\":0,\"ticks\":\"\"}}}],\"scattermapbox\":[{\"type\":\"scattermapbox\",\"marker\":{\"colorbar\":{\"outlinewidth\":0,\"ticks\":\"\"}}}],\"scatterternary\":[{\"type\":\"scatterternary\",\"marker\":{\"colorbar\":{\"outlinewidth\":0,\"ticks\":\"\"}}}],\"scattercarpet\":[{\"type\":\"scattercarpet\",\"marker\":{\"colorbar\":{\"outlinewidth\":0,\"ticks\":\"\"}}}],\"carpet\":[{\"aaxis\":{\"endlinecolor\":\"#2a3f5f\",\"gridcolor\":\"white\",\"linecolor\":\"white\",\"minorgridcolor\":\"white\",\"startlinecolor\":\"#2a3f5f\"},\"baxis\":{\"endlinecolor\":\"#2a3f5f\",\"gridcolor\":\"white\",\"linecolor\":\"white\",\"minorgridcolor\":\"white\",\"startlinecolor\":\"#2a3f5f\"},\"type\":\"carpet\"}],\"table\":[{\"cells\":{\"fill\":{\"color\":\"#EBF0F8\"},\"line\":{\"color\":\"white\"}},\"header\":{\"fill\":{\"color\":\"#C8D4E3\"},\"line\":{\"color\":\"white\"}},\"type\":\"table\"}],\"barpolar\":[{\"marker\":{\"line\":{\"color\":\"#E5ECF6\",\"width\":0.5},\"pattern\":{\"fillmode\":\"overlay\",\"size\":10,\"solidity\":0.2}},\"type\":\"barpolar\"}],\"pie\":[{\"automargin\":true,\"type\":\"pie\"}]},\"layout\":{\"autotypenumbers\":\"strict\",\"colorway\":[\"#636efa\",\"#EF553B\",\"#00cc96\",\"#ab63fa\",\"#FFA15A\",\"#19d3f3\",\"#FF6692\",\"#B6E880\",\"#FF97FF\",\"#FECB52\"],\"font\":{\"color\":\"#2a3f5f\"},\"hovermode\":\"closest\",\"hoverlabel\":{\"align\":\"left\"},\"paper_bgcolor\":\"white\",\"plot_bgcolor\":\"#E5ECF6\",\"polar\":{\"bgcolor\":\"#E5ECF6\",\"angularaxis\":{\"gridcolor\":\"white\",\"linecolor\":\"white\",\"ticks\":\"\"},\"radialaxis\":{\"gridcolor\":\"white\",\"linecolor\":\"white\",\"ticks\":\"\"}},\"ternary\":{\"bgcolor\":\"#E5ECF6\",\"aaxis\":{\"gridcolor\":\"white\",\"linecolor\":\"white\",\"ticks\":\"\"},\"baxis\":{\"gridcolor\":\"white\",\"linecolor\":\"white\",\"ticks\":\"\"},\"caxis\":{\"gridcolor\":\"white\",\"linecolor\":\"white\",\"ticks\":\"\"}},\"coloraxis\":{\"colorbar\":{\"outlinewidth\":0,\"ticks\":\"\"}},\"colorscale\":{\"sequential\":[[0.0,\"#0d0887\"],[0.1111111111111111,\"#46039f\"],[0.2222222222222222,\"#7201a8\"],[0.3333333333333333,\"#9c179e\"],[0.4444444444444444,\"#bd3786\"],[0.5555555555555556,\"#d8576b\"],[0.6666666666666666,\"#ed7953\"],[0.7777777777777778,\"#fb9f3a\"],[0.8888888888888888,\"#fdca26\"],[1.0,\"#f0f921\"]],\"sequentialminus\":[[0.0,\"#0d0887\"],[0.1111111111111111,\"#46039f\"],[0.2222222222222222,\"#7201a8\"],[0.3333333333333333,\"#9c179e\"],[0.4444444444444444,\"#bd3786\"],[0.5555555555555556,\"#d8576b\"],[0.6666666666666666,\"#ed7953\"],[0.7777777777777778,\"#fb9f3a\"],[0.8888888888888888,\"#fdca26\"],[1.0,\"#f0f921\"]],\"diverging\":[[0,\"#8e0152\"],[0.1,\"#c51b7d\"],[0.2,\"#de77ae\"],[0.3,\"#f1b6da\"],[0.4,\"#fde0ef\"],[0.5,\"#f7f7f7\"],[0.6,\"#e6f5d0\"],[0.7,\"#b8e186\"],[0.8,\"#7fbc41\"],[0.9,\"#4d9221\"],[1,\"#276419\"]]},\"xaxis\":{\"gridcolor\":\"white\",\"linecolor\":\"white\",\"ticks\":\"\",\"title\":{\"standoff\":15},\"zerolinecolor\":\"white\",\"automargin\":true,\"zerolinewidth\":2},\"yaxis\":{\"gridcolor\":\"white\",\"linecolor\":\"white\",\"ticks\":\"\",\"title\":{\"standoff\":15},\"zerolinecolor\":\"white\",\"automargin\":true,\"zerolinewidth\":2},\"scene\":{\"xaxis\":{\"backgroundcolor\":\"#E5ECF6\",\"gridcolor\":\"white\",\"linecolor\":\"white\",\"showbackground\":true,\"ticks\":\"\",\"zerolinecolor\":\"white\",\"gridwidth\":2},\"yaxis\":{\"backgroundcolor\":\"#E5ECF6\",\"gridcolor\":\"white\",\"linecolor\":\"white\",\"showbackground\":true,\"ticks\":\"\",\"zerolinecolor\":\"white\",\"gridwidth\":2},\"zaxis\":{\"backgroundcolor\":\"#E5ECF6\",\"gridcolor\":\"white\",\"linecolor\":\"white\",\"showbackground\":true,\"ticks\":\"\",\"zerolinecolor\":\"white\",\"gridwidth\":2}},\"shapedefaults\":{\"line\":{\"color\":\"#2a3f5f\"}},\"annotationdefaults\":{\"arrowcolor\":\"#2a3f5f\",\"arrowhead\":0,\"arrowwidth\":1},\"geo\":{\"bgcolor\":\"white\",\"landcolor\":\"#E5ECF6\",\"subunitcolor\":\"white\",\"showland\":true,\"showlakes\":true,\"lakecolor\":\"white\"},\"title\":{\"x\":0.05},\"mapbox\":{\"style\":\"light\"}}},\"title\":{\"text\":\"Age Distribution(all)\",\"x\":0.5}},                        {\"responsive\": true}                    ).then(function(){\n",
              "                            \n",
              "var gd = document.getElementById('e1a36ebf-8dac-43de-a578-258d81bb72e8');\n",
              "var x = new MutationObserver(function (mutations, observer) {{\n",
              "        var display = window.getComputedStyle(gd).display;\n",
              "        if (!display || display === 'none') {{\n",
              "            console.log([gd, 'removed!']);\n",
              "            Plotly.purge(gd);\n",
              "            observer.disconnect();\n",
              "        }}\n",
              "}});\n",
              "\n",
              "// Listen for the removal of the full notebook cells\n",
              "var notebookContainer = gd.closest('#notebook-container');\n",
              "if (notebookContainer) {{\n",
              "    x.observe(notebookContainer, {childList: true});\n",
              "}}\n",
              "\n",
              "// Listen for the clearing of the current output cell\n",
              "var outputEl = gd.closest('.output');\n",
              "if (outputEl) {{\n",
              "    x.observe(outputEl, {childList: true});\n",
              "}}\n",
              "\n",
              "                        })                };                            </script>        </div>\n",
              "</body>\n",
              "</html>"
            ]
          },
          "metadata": {}
        }
      ]
    },
    {
      "cell_type": "markdown",
      "source": [
        "###Male and Female Patterns"
      ],
      "metadata": {
        "id": "81LWvvuyuhjY"
      }
    },
    {
      "cell_type": "code",
      "source": [
        "df=data['sex'].value_counts().reset_index().rename(columns={'index':'sex','sex':'count'})\n",
        "fig = go.Figure([go.Pie(labels=['Male', 'Female'],values=df['count'], hole = 0.5)])\n",
        "fig.update_traces(hoverinfo='label+percent', textinfo='value+percent', textfont_size=15,insidetextorientation='radial')\n",
        "fig.update_layout(title=\"Male to Female ratio in the study\",title_x=0.5)\n",
        "fig.show()"
      ],
      "metadata": {
        "colab": {
          "base_uri": "https://localhost:8080/",
          "height": 542
        },
        "id": "x_8q4z-Sujaa",
        "outputId": "c9702ebe-df34-4af0-9f6a-a6b6deac0bd8"
      },
      "execution_count": 21,
      "outputs": [
        {
          "output_type": "display_data",
          "data": {
            "text/html": [
              "<html>\n",
              "<head><meta charset=\"utf-8\" /></head>\n",
              "<body>\n",
              "    <div>            <script src=\"https://cdnjs.cloudflare.com/ajax/libs/mathjax/2.7.5/MathJax.js?config=TeX-AMS-MML_SVG\"></script><script type=\"text/javascript\">if (window.MathJax && window.MathJax.Hub && window.MathJax.Hub.Config) {window.MathJax.Hub.Config({SVG: {font: \"STIX-Web\"}});}</script>                <script type=\"text/javascript\">window.PlotlyConfig = {MathJaxConfig: 'local'};</script>\n",
              "        <script charset=\"utf-8\" src=\"https://cdn.plot.ly/plotly-2.24.1.min.js\"></script>                <div id=\"0323ec92-66cb-48c9-a701-4fb0975406f2\" class=\"plotly-graph-div\" style=\"height:525px; width:100%;\"></div>            <script type=\"text/javascript\">                                    window.PLOTLYENV=window.PLOTLYENV || {};                                    if (document.getElementById(\"0323ec92-66cb-48c9-a701-4fb0975406f2\")) {                    Plotly.newPlot(                        \"0323ec92-66cb-48c9-a701-4fb0975406f2\",                        [{\"hole\":0.5,\"labels\":[\"Male\",\"Female\"],\"values\":[726,194],\"type\":\"pie\",\"textfont\":{\"size\":15},\"hoverinfo\":\"label+percent\",\"insidetextorientation\":\"radial\",\"textinfo\":\"value+percent\"}],                        {\"template\":{\"data\":{\"histogram2dcontour\":[{\"type\":\"histogram2dcontour\",\"colorbar\":{\"outlinewidth\":0,\"ticks\":\"\"},\"colorscale\":[[0.0,\"#0d0887\"],[0.1111111111111111,\"#46039f\"],[0.2222222222222222,\"#7201a8\"],[0.3333333333333333,\"#9c179e\"],[0.4444444444444444,\"#bd3786\"],[0.5555555555555556,\"#d8576b\"],[0.6666666666666666,\"#ed7953\"],[0.7777777777777778,\"#fb9f3a\"],[0.8888888888888888,\"#fdca26\"],[1.0,\"#f0f921\"]]}],\"choropleth\":[{\"type\":\"choropleth\",\"colorbar\":{\"outlinewidth\":0,\"ticks\":\"\"}}],\"histogram2d\":[{\"type\":\"histogram2d\",\"colorbar\":{\"outlinewidth\":0,\"ticks\":\"\"},\"colorscale\":[[0.0,\"#0d0887\"],[0.1111111111111111,\"#46039f\"],[0.2222222222222222,\"#7201a8\"],[0.3333333333333333,\"#9c179e\"],[0.4444444444444444,\"#bd3786\"],[0.5555555555555556,\"#d8576b\"],[0.6666666666666666,\"#ed7953\"],[0.7777777777777778,\"#fb9f3a\"],[0.8888888888888888,\"#fdca26\"],[1.0,\"#f0f921\"]]}],\"heatmap\":[{\"type\":\"heatmap\",\"colorbar\":{\"outlinewidth\":0,\"ticks\":\"\"},\"colorscale\":[[0.0,\"#0d0887\"],[0.1111111111111111,\"#46039f\"],[0.2222222222222222,\"#7201a8\"],[0.3333333333333333,\"#9c179e\"],[0.4444444444444444,\"#bd3786\"],[0.5555555555555556,\"#d8576b\"],[0.6666666666666666,\"#ed7953\"],[0.7777777777777778,\"#fb9f3a\"],[0.8888888888888888,\"#fdca26\"],[1.0,\"#f0f921\"]]}],\"heatmapgl\":[{\"type\":\"heatmapgl\",\"colorbar\":{\"outlinewidth\":0,\"ticks\":\"\"},\"colorscale\":[[0.0,\"#0d0887\"],[0.1111111111111111,\"#46039f\"],[0.2222222222222222,\"#7201a8\"],[0.3333333333333333,\"#9c179e\"],[0.4444444444444444,\"#bd3786\"],[0.5555555555555556,\"#d8576b\"],[0.6666666666666666,\"#ed7953\"],[0.7777777777777778,\"#fb9f3a\"],[0.8888888888888888,\"#fdca26\"],[1.0,\"#f0f921\"]]}],\"contourcarpet\":[{\"type\":\"contourcarpet\",\"colorbar\":{\"outlinewidth\":0,\"ticks\":\"\"}}],\"contour\":[{\"type\":\"contour\",\"colorbar\":{\"outlinewidth\":0,\"ticks\":\"\"},\"colorscale\":[[0.0,\"#0d0887\"],[0.1111111111111111,\"#46039f\"],[0.2222222222222222,\"#7201a8\"],[0.3333333333333333,\"#9c179e\"],[0.4444444444444444,\"#bd3786\"],[0.5555555555555556,\"#d8576b\"],[0.6666666666666666,\"#ed7953\"],[0.7777777777777778,\"#fb9f3a\"],[0.8888888888888888,\"#fdca26\"],[1.0,\"#f0f921\"]]}],\"surface\":[{\"type\":\"surface\",\"colorbar\":{\"outlinewidth\":0,\"ticks\":\"\"},\"colorscale\":[[0.0,\"#0d0887\"],[0.1111111111111111,\"#46039f\"],[0.2222222222222222,\"#7201a8\"],[0.3333333333333333,\"#9c179e\"],[0.4444444444444444,\"#bd3786\"],[0.5555555555555556,\"#d8576b\"],[0.6666666666666666,\"#ed7953\"],[0.7777777777777778,\"#fb9f3a\"],[0.8888888888888888,\"#fdca26\"],[1.0,\"#f0f921\"]]}],\"mesh3d\":[{\"type\":\"mesh3d\",\"colorbar\":{\"outlinewidth\":0,\"ticks\":\"\"}}],\"scatter\":[{\"fillpattern\":{\"fillmode\":\"overlay\",\"size\":10,\"solidity\":0.2},\"type\":\"scatter\"}],\"parcoords\":[{\"type\":\"parcoords\",\"line\":{\"colorbar\":{\"outlinewidth\":0,\"ticks\":\"\"}}}],\"scatterpolargl\":[{\"type\":\"scatterpolargl\",\"marker\":{\"colorbar\":{\"outlinewidth\":0,\"ticks\":\"\"}}}],\"bar\":[{\"error_x\":{\"color\":\"#2a3f5f\"},\"error_y\":{\"color\":\"#2a3f5f\"},\"marker\":{\"line\":{\"color\":\"#E5ECF6\",\"width\":0.5},\"pattern\":{\"fillmode\":\"overlay\",\"size\":10,\"solidity\":0.2}},\"type\":\"bar\"}],\"scattergeo\":[{\"type\":\"scattergeo\",\"marker\":{\"colorbar\":{\"outlinewidth\":0,\"ticks\":\"\"}}}],\"scatterpolar\":[{\"type\":\"scatterpolar\",\"marker\":{\"colorbar\":{\"outlinewidth\":0,\"ticks\":\"\"}}}],\"histogram\":[{\"marker\":{\"pattern\":{\"fillmode\":\"overlay\",\"size\":10,\"solidity\":0.2}},\"type\":\"histogram\"}],\"scattergl\":[{\"type\":\"scattergl\",\"marker\":{\"colorbar\":{\"outlinewidth\":0,\"ticks\":\"\"}}}],\"scatter3d\":[{\"type\":\"scatter3d\",\"line\":{\"colorbar\":{\"outlinewidth\":0,\"ticks\":\"\"}},\"marker\":{\"colorbar\":{\"outlinewidth\":0,\"ticks\":\"\"}}}],\"scattermapbox\":[{\"type\":\"scattermapbox\",\"marker\":{\"colorbar\":{\"outlinewidth\":0,\"ticks\":\"\"}}}],\"scatterternary\":[{\"type\":\"scatterternary\",\"marker\":{\"colorbar\":{\"outlinewidth\":0,\"ticks\":\"\"}}}],\"scattercarpet\":[{\"type\":\"scattercarpet\",\"marker\":{\"colorbar\":{\"outlinewidth\":0,\"ticks\":\"\"}}}],\"carpet\":[{\"aaxis\":{\"endlinecolor\":\"#2a3f5f\",\"gridcolor\":\"white\",\"linecolor\":\"white\",\"minorgridcolor\":\"white\",\"startlinecolor\":\"#2a3f5f\"},\"baxis\":{\"endlinecolor\":\"#2a3f5f\",\"gridcolor\":\"white\",\"linecolor\":\"white\",\"minorgridcolor\":\"white\",\"startlinecolor\":\"#2a3f5f\"},\"type\":\"carpet\"}],\"table\":[{\"cells\":{\"fill\":{\"color\":\"#EBF0F8\"},\"line\":{\"color\":\"white\"}},\"header\":{\"fill\":{\"color\":\"#C8D4E3\"},\"line\":{\"color\":\"white\"}},\"type\":\"table\"}],\"barpolar\":[{\"marker\":{\"line\":{\"color\":\"#E5ECF6\",\"width\":0.5},\"pattern\":{\"fillmode\":\"overlay\",\"size\":10,\"solidity\":0.2}},\"type\":\"barpolar\"}],\"pie\":[{\"automargin\":true,\"type\":\"pie\"}]},\"layout\":{\"autotypenumbers\":\"strict\",\"colorway\":[\"#636efa\",\"#EF553B\",\"#00cc96\",\"#ab63fa\",\"#FFA15A\",\"#19d3f3\",\"#FF6692\",\"#B6E880\",\"#FF97FF\",\"#FECB52\"],\"font\":{\"color\":\"#2a3f5f\"},\"hovermode\":\"closest\",\"hoverlabel\":{\"align\":\"left\"},\"paper_bgcolor\":\"white\",\"plot_bgcolor\":\"#E5ECF6\",\"polar\":{\"bgcolor\":\"#E5ECF6\",\"angularaxis\":{\"gridcolor\":\"white\",\"linecolor\":\"white\",\"ticks\":\"\"},\"radialaxis\":{\"gridcolor\":\"white\",\"linecolor\":\"white\",\"ticks\":\"\"}},\"ternary\":{\"bgcolor\":\"#E5ECF6\",\"aaxis\":{\"gridcolor\":\"white\",\"linecolor\":\"white\",\"ticks\":\"\"},\"baxis\":{\"gridcolor\":\"white\",\"linecolor\":\"white\",\"ticks\":\"\"},\"caxis\":{\"gridcolor\":\"white\",\"linecolor\":\"white\",\"ticks\":\"\"}},\"coloraxis\":{\"colorbar\":{\"outlinewidth\":0,\"ticks\":\"\"}},\"colorscale\":{\"sequential\":[[0.0,\"#0d0887\"],[0.1111111111111111,\"#46039f\"],[0.2222222222222222,\"#7201a8\"],[0.3333333333333333,\"#9c179e\"],[0.4444444444444444,\"#bd3786\"],[0.5555555555555556,\"#d8576b\"],[0.6666666666666666,\"#ed7953\"],[0.7777777777777778,\"#fb9f3a\"],[0.8888888888888888,\"#fdca26\"],[1.0,\"#f0f921\"]],\"sequentialminus\":[[0.0,\"#0d0887\"],[0.1111111111111111,\"#46039f\"],[0.2222222222222222,\"#7201a8\"],[0.3333333333333333,\"#9c179e\"],[0.4444444444444444,\"#bd3786\"],[0.5555555555555556,\"#d8576b\"],[0.6666666666666666,\"#ed7953\"],[0.7777777777777778,\"#fb9f3a\"],[0.8888888888888888,\"#fdca26\"],[1.0,\"#f0f921\"]],\"diverging\":[[0,\"#8e0152\"],[0.1,\"#c51b7d\"],[0.2,\"#de77ae\"],[0.3,\"#f1b6da\"],[0.4,\"#fde0ef\"],[0.5,\"#f7f7f7\"],[0.6,\"#e6f5d0\"],[0.7,\"#b8e186\"],[0.8,\"#7fbc41\"],[0.9,\"#4d9221\"],[1,\"#276419\"]]},\"xaxis\":{\"gridcolor\":\"white\",\"linecolor\":\"white\",\"ticks\":\"\",\"title\":{\"standoff\":15},\"zerolinecolor\":\"white\",\"automargin\":true,\"zerolinewidth\":2},\"yaxis\":{\"gridcolor\":\"white\",\"linecolor\":\"white\",\"ticks\":\"\",\"title\":{\"standoff\":15},\"zerolinecolor\":\"white\",\"automargin\":true,\"zerolinewidth\":2},\"scene\":{\"xaxis\":{\"backgroundcolor\":\"#E5ECF6\",\"gridcolor\":\"white\",\"linecolor\":\"white\",\"showbackground\":true,\"ticks\":\"\",\"zerolinecolor\":\"white\",\"gridwidth\":2},\"yaxis\":{\"backgroundcolor\":\"#E5ECF6\",\"gridcolor\":\"white\",\"linecolor\":\"white\",\"showbackground\":true,\"ticks\":\"\",\"zerolinecolor\":\"white\",\"gridwidth\":2},\"zaxis\":{\"backgroundcolor\":\"#E5ECF6\",\"gridcolor\":\"white\",\"linecolor\":\"white\",\"showbackground\":true,\"ticks\":\"\",\"zerolinecolor\":\"white\",\"gridwidth\":2}},\"shapedefaults\":{\"line\":{\"color\":\"#2a3f5f\"}},\"annotationdefaults\":{\"arrowcolor\":\"#2a3f5f\",\"arrowhead\":0,\"arrowwidth\":1},\"geo\":{\"bgcolor\":\"white\",\"landcolor\":\"#E5ECF6\",\"subunitcolor\":\"white\",\"showland\":true,\"showlakes\":true,\"lakecolor\":\"white\"},\"title\":{\"x\":0.05},\"mapbox\":{\"style\":\"light\"}}},\"title\":{\"text\":\"Male to Female ratio in the study\",\"x\":0.5}},                        {\"responsive\": true}                    ).then(function(){\n",
              "                            \n",
              "var gd = document.getElementById('0323ec92-66cb-48c9-a701-4fb0975406f2');\n",
              "var x = new MutationObserver(function (mutations, observer) {{\n",
              "        var display = window.getComputedStyle(gd).display;\n",
              "        if (!display || display === 'none') {{\n",
              "            console.log([gd, 'removed!']);\n",
              "            Plotly.purge(gd);\n",
              "            observer.disconnect();\n",
              "        }}\n",
              "}});\n",
              "\n",
              "// Listen for the removal of the full notebook cells\n",
              "var notebookContainer = gd.closest('#notebook-container');\n",
              "if (notebookContainer) {{\n",
              "    x.observe(notebookContainer, {childList: true});\n",
              "}}\n",
              "\n",
              "// Listen for the clearing of the current output cell\n",
              "var outputEl = gd.closest('.output');\n",
              "if (outputEl) {{\n",
              "    x.observe(outputEl, {childList: true});\n",
              "}}\n",
              "\n",
              "                        })                };                            </script>        </div>\n",
              "</body>\n",
              "</html>"
            ]
          },
          "metadata": {}
        }
      ]
    },
    {
      "cell_type": "markdown",
      "source": [
        "###CP(Chest Pain Type) Patterns"
      ],
      "metadata": {
        "id": "NwNTDpV0u4-r"
      }
    },
    {
      "cell_type": "code",
      "source": [
        "df=data['cp'].value_counts().reset_index().rename(columns={'index':'cp','cp':'count'})\n",
        "fig = go.Figure([go.Pie(labels=df['cp'],values=df['count'], hole = 0.5)])\n",
        "fig.update_traces(hoverinfo='label+percent', textinfo='value+percent', textfont_size=15,insidetextorientation='radial')\n",
        "fig.update_layout(title=\"Chest Pain Conditions\",title_x=0.5)\n",
        "fig.show()"
      ],
      "metadata": {
        "colab": {
          "base_uri": "https://localhost:8080/",
          "height": 542
        },
        "id": "JB6Ke8eRu6we",
        "outputId": "c2bcc770-24e6-43f0-8235-576759d01f7b"
      },
      "execution_count": 22,
      "outputs": [
        {
          "output_type": "display_data",
          "data": {
            "text/html": [
              "<html>\n",
              "<head><meta charset=\"utf-8\" /></head>\n",
              "<body>\n",
              "    <div>            <script src=\"https://cdnjs.cloudflare.com/ajax/libs/mathjax/2.7.5/MathJax.js?config=TeX-AMS-MML_SVG\"></script><script type=\"text/javascript\">if (window.MathJax && window.MathJax.Hub && window.MathJax.Hub.Config) {window.MathJax.Hub.Config({SVG: {font: \"STIX-Web\"}});}</script>                <script type=\"text/javascript\">window.PlotlyConfig = {MathJaxConfig: 'local'};</script>\n",
              "        <script charset=\"utf-8\" src=\"https://cdn.plot.ly/plotly-2.24.1.min.js\"></script>                <div id=\"cd78bc2f-effb-4b9e-a712-a5f85d658207\" class=\"plotly-graph-div\" style=\"height:525px; width:100%;\"></div>            <script type=\"text/javascript\">                                    window.PLOTLYENV=window.PLOTLYENV || {};                                    if (document.getElementById(\"cd78bc2f-effb-4b9e-a712-a5f85d658207\")) {                    Plotly.newPlot(                        \"cd78bc2f-effb-4b9e-a712-a5f85d658207\",                        [{\"hole\":0.5,\"labels\":[\"asymptomatic\",\"non-anginal\",\"atypical angina\",\"typical angina\"],\"values\":[496,204,174,46],\"type\":\"pie\",\"textfont\":{\"size\":15},\"hoverinfo\":\"label+percent\",\"insidetextorientation\":\"radial\",\"textinfo\":\"value+percent\"}],                        {\"template\":{\"data\":{\"histogram2dcontour\":[{\"type\":\"histogram2dcontour\",\"colorbar\":{\"outlinewidth\":0,\"ticks\":\"\"},\"colorscale\":[[0.0,\"#0d0887\"],[0.1111111111111111,\"#46039f\"],[0.2222222222222222,\"#7201a8\"],[0.3333333333333333,\"#9c179e\"],[0.4444444444444444,\"#bd3786\"],[0.5555555555555556,\"#d8576b\"],[0.6666666666666666,\"#ed7953\"],[0.7777777777777778,\"#fb9f3a\"],[0.8888888888888888,\"#fdca26\"],[1.0,\"#f0f921\"]]}],\"choropleth\":[{\"type\":\"choropleth\",\"colorbar\":{\"outlinewidth\":0,\"ticks\":\"\"}}],\"histogram2d\":[{\"type\":\"histogram2d\",\"colorbar\":{\"outlinewidth\":0,\"ticks\":\"\"},\"colorscale\":[[0.0,\"#0d0887\"],[0.1111111111111111,\"#46039f\"],[0.2222222222222222,\"#7201a8\"],[0.3333333333333333,\"#9c179e\"],[0.4444444444444444,\"#bd3786\"],[0.5555555555555556,\"#d8576b\"],[0.6666666666666666,\"#ed7953\"],[0.7777777777777778,\"#fb9f3a\"],[0.8888888888888888,\"#fdca26\"],[1.0,\"#f0f921\"]]}],\"heatmap\":[{\"type\":\"heatmap\",\"colorbar\":{\"outlinewidth\":0,\"ticks\":\"\"},\"colorscale\":[[0.0,\"#0d0887\"],[0.1111111111111111,\"#46039f\"],[0.2222222222222222,\"#7201a8\"],[0.3333333333333333,\"#9c179e\"],[0.4444444444444444,\"#bd3786\"],[0.5555555555555556,\"#d8576b\"],[0.6666666666666666,\"#ed7953\"],[0.7777777777777778,\"#fb9f3a\"],[0.8888888888888888,\"#fdca26\"],[1.0,\"#f0f921\"]]}],\"heatmapgl\":[{\"type\":\"heatmapgl\",\"colorbar\":{\"outlinewidth\":0,\"ticks\":\"\"},\"colorscale\":[[0.0,\"#0d0887\"],[0.1111111111111111,\"#46039f\"],[0.2222222222222222,\"#7201a8\"],[0.3333333333333333,\"#9c179e\"],[0.4444444444444444,\"#bd3786\"],[0.5555555555555556,\"#d8576b\"],[0.6666666666666666,\"#ed7953\"],[0.7777777777777778,\"#fb9f3a\"],[0.8888888888888888,\"#fdca26\"],[1.0,\"#f0f921\"]]}],\"contourcarpet\":[{\"type\":\"contourcarpet\",\"colorbar\":{\"outlinewidth\":0,\"ticks\":\"\"}}],\"contour\":[{\"type\":\"contour\",\"colorbar\":{\"outlinewidth\":0,\"ticks\":\"\"},\"colorscale\":[[0.0,\"#0d0887\"],[0.1111111111111111,\"#46039f\"],[0.2222222222222222,\"#7201a8\"],[0.3333333333333333,\"#9c179e\"],[0.4444444444444444,\"#bd3786\"],[0.5555555555555556,\"#d8576b\"],[0.6666666666666666,\"#ed7953\"],[0.7777777777777778,\"#fb9f3a\"],[0.8888888888888888,\"#fdca26\"],[1.0,\"#f0f921\"]]}],\"surface\":[{\"type\":\"surface\",\"colorbar\":{\"outlinewidth\":0,\"ticks\":\"\"},\"colorscale\":[[0.0,\"#0d0887\"],[0.1111111111111111,\"#46039f\"],[0.2222222222222222,\"#7201a8\"],[0.3333333333333333,\"#9c179e\"],[0.4444444444444444,\"#bd3786\"],[0.5555555555555556,\"#d8576b\"],[0.6666666666666666,\"#ed7953\"],[0.7777777777777778,\"#fb9f3a\"],[0.8888888888888888,\"#fdca26\"],[1.0,\"#f0f921\"]]}],\"mesh3d\":[{\"type\":\"mesh3d\",\"colorbar\":{\"outlinewidth\":0,\"ticks\":\"\"}}],\"scatter\":[{\"fillpattern\":{\"fillmode\":\"overlay\",\"size\":10,\"solidity\":0.2},\"type\":\"scatter\"}],\"parcoords\":[{\"type\":\"parcoords\",\"line\":{\"colorbar\":{\"outlinewidth\":0,\"ticks\":\"\"}}}],\"scatterpolargl\":[{\"type\":\"scatterpolargl\",\"marker\":{\"colorbar\":{\"outlinewidth\":0,\"ticks\":\"\"}}}],\"bar\":[{\"error_x\":{\"color\":\"#2a3f5f\"},\"error_y\":{\"color\":\"#2a3f5f\"},\"marker\":{\"line\":{\"color\":\"#E5ECF6\",\"width\":0.5},\"pattern\":{\"fillmode\":\"overlay\",\"size\":10,\"solidity\":0.2}},\"type\":\"bar\"}],\"scattergeo\":[{\"type\":\"scattergeo\",\"marker\":{\"colorbar\":{\"outlinewidth\":0,\"ticks\":\"\"}}}],\"scatterpolar\":[{\"type\":\"scatterpolar\",\"marker\":{\"colorbar\":{\"outlinewidth\":0,\"ticks\":\"\"}}}],\"histogram\":[{\"marker\":{\"pattern\":{\"fillmode\":\"overlay\",\"size\":10,\"solidity\":0.2}},\"type\":\"histogram\"}],\"scattergl\":[{\"type\":\"scattergl\",\"marker\":{\"colorbar\":{\"outlinewidth\":0,\"ticks\":\"\"}}}],\"scatter3d\":[{\"type\":\"scatter3d\",\"line\":{\"colorbar\":{\"outlinewidth\":0,\"ticks\":\"\"}},\"marker\":{\"colorbar\":{\"outlinewidth\":0,\"ticks\":\"\"}}}],\"scattermapbox\":[{\"type\":\"scattermapbox\",\"marker\":{\"colorbar\":{\"outlinewidth\":0,\"ticks\":\"\"}}}],\"scatterternary\":[{\"type\":\"scatterternary\",\"marker\":{\"colorbar\":{\"outlinewidth\":0,\"ticks\":\"\"}}}],\"scattercarpet\":[{\"type\":\"scattercarpet\",\"marker\":{\"colorbar\":{\"outlinewidth\":0,\"ticks\":\"\"}}}],\"carpet\":[{\"aaxis\":{\"endlinecolor\":\"#2a3f5f\",\"gridcolor\":\"white\",\"linecolor\":\"white\",\"minorgridcolor\":\"white\",\"startlinecolor\":\"#2a3f5f\"},\"baxis\":{\"endlinecolor\":\"#2a3f5f\",\"gridcolor\":\"white\",\"linecolor\":\"white\",\"minorgridcolor\":\"white\",\"startlinecolor\":\"#2a3f5f\"},\"type\":\"carpet\"}],\"table\":[{\"cells\":{\"fill\":{\"color\":\"#EBF0F8\"},\"line\":{\"color\":\"white\"}},\"header\":{\"fill\":{\"color\":\"#C8D4E3\"},\"line\":{\"color\":\"white\"}},\"type\":\"table\"}],\"barpolar\":[{\"marker\":{\"line\":{\"color\":\"#E5ECF6\",\"width\":0.5},\"pattern\":{\"fillmode\":\"overlay\",\"size\":10,\"solidity\":0.2}},\"type\":\"barpolar\"}],\"pie\":[{\"automargin\":true,\"type\":\"pie\"}]},\"layout\":{\"autotypenumbers\":\"strict\",\"colorway\":[\"#636efa\",\"#EF553B\",\"#00cc96\",\"#ab63fa\",\"#FFA15A\",\"#19d3f3\",\"#FF6692\",\"#B6E880\",\"#FF97FF\",\"#FECB52\"],\"font\":{\"color\":\"#2a3f5f\"},\"hovermode\":\"closest\",\"hoverlabel\":{\"align\":\"left\"},\"paper_bgcolor\":\"white\",\"plot_bgcolor\":\"#E5ECF6\",\"polar\":{\"bgcolor\":\"#E5ECF6\",\"angularaxis\":{\"gridcolor\":\"white\",\"linecolor\":\"white\",\"ticks\":\"\"},\"radialaxis\":{\"gridcolor\":\"white\",\"linecolor\":\"white\",\"ticks\":\"\"}},\"ternary\":{\"bgcolor\":\"#E5ECF6\",\"aaxis\":{\"gridcolor\":\"white\",\"linecolor\":\"white\",\"ticks\":\"\"},\"baxis\":{\"gridcolor\":\"white\",\"linecolor\":\"white\",\"ticks\":\"\"},\"caxis\":{\"gridcolor\":\"white\",\"linecolor\":\"white\",\"ticks\":\"\"}},\"coloraxis\":{\"colorbar\":{\"outlinewidth\":0,\"ticks\":\"\"}},\"colorscale\":{\"sequential\":[[0.0,\"#0d0887\"],[0.1111111111111111,\"#46039f\"],[0.2222222222222222,\"#7201a8\"],[0.3333333333333333,\"#9c179e\"],[0.4444444444444444,\"#bd3786\"],[0.5555555555555556,\"#d8576b\"],[0.6666666666666666,\"#ed7953\"],[0.7777777777777778,\"#fb9f3a\"],[0.8888888888888888,\"#fdca26\"],[1.0,\"#f0f921\"]],\"sequentialminus\":[[0.0,\"#0d0887\"],[0.1111111111111111,\"#46039f\"],[0.2222222222222222,\"#7201a8\"],[0.3333333333333333,\"#9c179e\"],[0.4444444444444444,\"#bd3786\"],[0.5555555555555556,\"#d8576b\"],[0.6666666666666666,\"#ed7953\"],[0.7777777777777778,\"#fb9f3a\"],[0.8888888888888888,\"#fdca26\"],[1.0,\"#f0f921\"]],\"diverging\":[[0,\"#8e0152\"],[0.1,\"#c51b7d\"],[0.2,\"#de77ae\"],[0.3,\"#f1b6da\"],[0.4,\"#fde0ef\"],[0.5,\"#f7f7f7\"],[0.6,\"#e6f5d0\"],[0.7,\"#b8e186\"],[0.8,\"#7fbc41\"],[0.9,\"#4d9221\"],[1,\"#276419\"]]},\"xaxis\":{\"gridcolor\":\"white\",\"linecolor\":\"white\",\"ticks\":\"\",\"title\":{\"standoff\":15},\"zerolinecolor\":\"white\",\"automargin\":true,\"zerolinewidth\":2},\"yaxis\":{\"gridcolor\":\"white\",\"linecolor\":\"white\",\"ticks\":\"\",\"title\":{\"standoff\":15},\"zerolinecolor\":\"white\",\"automargin\":true,\"zerolinewidth\":2},\"scene\":{\"xaxis\":{\"backgroundcolor\":\"#E5ECF6\",\"gridcolor\":\"white\",\"linecolor\":\"white\",\"showbackground\":true,\"ticks\":\"\",\"zerolinecolor\":\"white\",\"gridwidth\":2},\"yaxis\":{\"backgroundcolor\":\"#E5ECF6\",\"gridcolor\":\"white\",\"linecolor\":\"white\",\"showbackground\":true,\"ticks\":\"\",\"zerolinecolor\":\"white\",\"gridwidth\":2},\"zaxis\":{\"backgroundcolor\":\"#E5ECF6\",\"gridcolor\":\"white\",\"linecolor\":\"white\",\"showbackground\":true,\"ticks\":\"\",\"zerolinecolor\":\"white\",\"gridwidth\":2}},\"shapedefaults\":{\"line\":{\"color\":\"#2a3f5f\"}},\"annotationdefaults\":{\"arrowcolor\":\"#2a3f5f\",\"arrowhead\":0,\"arrowwidth\":1},\"geo\":{\"bgcolor\":\"white\",\"landcolor\":\"#E5ECF6\",\"subunitcolor\":\"white\",\"showland\":true,\"showlakes\":true,\"lakecolor\":\"white\"},\"title\":{\"x\":0.05},\"mapbox\":{\"style\":\"light\"}}},\"title\":{\"text\":\"Chest Pain Conditions\",\"x\":0.5}},                        {\"responsive\": true}                    ).then(function(){\n",
              "                            \n",
              "var gd = document.getElementById('cd78bc2f-effb-4b9e-a712-a5f85d658207');\n",
              "var x = new MutationObserver(function (mutations, observer) {{\n",
              "        var display = window.getComputedStyle(gd).display;\n",
              "        if (!display || display === 'none') {{\n",
              "            console.log([gd, 'removed!']);\n",
              "            Plotly.purge(gd);\n",
              "            observer.disconnect();\n",
              "        }}\n",
              "}});\n",
              "\n",
              "// Listen for the removal of the full notebook cells\n",
              "var notebookContainer = gd.closest('#notebook-container');\n",
              "if (notebookContainer) {{\n",
              "    x.observe(notebookContainer, {childList: true});\n",
              "}}\n",
              "\n",
              "// Listen for the clearing of the current output cell\n",
              "var outputEl = gd.closest('.output');\n",
              "if (outputEl) {{\n",
              "    x.observe(outputEl, {childList: true});\n",
              "}}\n",
              "\n",
              "                        })                };                            </script>        </div>\n",
              "</body>\n",
              "</html>"
            ]
          },
          "metadata": {}
        }
      ]
    },
    {
      "cell_type": "markdown",
      "source": [
        "###Resting Blood Pressure vs Gender"
      ],
      "metadata": {
        "id": "3EXPE-JywBS5"
      }
    },
    {
      "cell_type": "code",
      "source": [
        "fig = go.Figure()\n",
        "fig.add_trace(go.Box(y=data['trestbps'].values , name='BP at Rest for all', marker_color = 'green',boxmean=True))\n",
        "fig.add_trace(go.Box(y=data[data['sex']=='Male']['trestbps'].values, name ='Male only', marker_color = 'blue', boxmean = True))\n",
        "fig.add_trace(go.Box(y=data[data['sex']=='Female']['trestbps'].values, name ='Female only', marker_color = 'red', boxmean = True))\n",
        "fig.update_layout(title = 'BP Distribution', yaxis_title = 'Blood Pressure (mm/Hg)', title_x = 0.5)\n",
        "fig.update_xaxes(showline=True, linewidth=2, linecolor='black', mirror=True)\n",
        "fig.update_yaxes(showline=True, linewidth=2, linecolor='black', mirror=True)\n",
        "fig.show()"
      ],
      "metadata": {
        "colab": {
          "base_uri": "https://localhost:8080/",
          "height": 542
        },
        "id": "yni4HHE1wTbk",
        "outputId": "5c886a65-2677-4cf6-e139-57f7552cff4f"
      },
      "execution_count": 23,
      "outputs": [
        {
          "output_type": "display_data",
          "data": {
            "text/html": [
              "<html>\n",
              "<head><meta charset=\"utf-8\" /></head>\n",
              "<body>\n",
              "    <div>            <script src=\"https://cdnjs.cloudflare.com/ajax/libs/mathjax/2.7.5/MathJax.js?config=TeX-AMS-MML_SVG\"></script><script type=\"text/javascript\">if (window.MathJax && window.MathJax.Hub && window.MathJax.Hub.Config) {window.MathJax.Hub.Config({SVG: {font: \"STIX-Web\"}});}</script>                <script type=\"text/javascript\">window.PlotlyConfig = {MathJaxConfig: 'local'};</script>\n",
              "        <script charset=\"utf-8\" src=\"https://cdn.plot.ly/plotly-2.24.1.min.js\"></script>                <div id=\"9ffc62cb-2de1-44e7-a74e-f92c169c9aa9\" class=\"plotly-graph-div\" style=\"height:525px; width:100%;\"></div>            <script type=\"text/javascript\">                                    window.PLOTLYENV=window.PLOTLYENV || {};                                    if (document.getElementById(\"9ffc62cb-2de1-44e7-a74e-f92c169c9aa9\")) {                    Plotly.newPlot(                        \"9ffc62cb-2de1-44e7-a74e-f92c169c9aa9\",                        [{\"boxmean\":true,\"marker\":{\"color\":\"green\"},\"name\":\"BP at Rest for all\",\"y\":[145.0,160.0,120.0,130.0,130.0,120.0,140.0,120.0,130.0,140.0,140.0,140.0,130.0,120.0,172.0,150.0,110.0,140.0,130.0,130.0,110.0,150.0,120.0,132.0,130.0,120.0,120.0,150.0,150.0,110.0,140.0,117.0,140.0,135.0,130.0,140.0,120.0,150.0,132.0,150.0,150.0,140.0,160.0,150.0,130.0,112.0,110.0,150.0,140.0,130.0,105.0,120.0,112.0,130.0,130.0,124.0,140.0,110.0,125.0,125.0,130.0,142.0,128.0,135.0,120.0,145.0,140.0,150.0,170.0,150.0,155.0,125.0,120.0,110.0,110.0,160.0,125.0,140.0,130.0,150.0,104.0,130.0,140.0,180.0,120.0,140.0,138.0,128.0,138.0,130.0,120.0,160.0,130.0,108.0,135.0,128.0,110.0,150.0,134.0,122.0,115.0,118.0,128.0,110.0,120.0,108.0,140.0,128.0,120.0,118.0,145.0,125.0,118.0,132.0,130.0,135.0,140.0,138.0,130.0,135.0,130.0,150.0,100.0,140.0,138.0,130.0,200.0,110.0,120.0,124.0,120.0,94.0,130.0,140.0,122.0,135.0,145.0,120.0,120.0,125.0,140.0,170.0,128.0,125.0,105.0,108.0,165.0,112.0,128.0,102.0,152.0,102.0,115.0,160.0,120.0,130.0,140.0,125.0,140.0,118.0,101.0,125.0,110.0,100.0,124.0,132.0,138.0,132.0,126.0,112.0,160.0,142.0,174.0,140.0,145.0,152.0,108.0,132.0,130.0,130.0,124.0,134.0,148.0,178.0,158.0,140.0,120.0,160.0,192.0,140.0,129.0,140.0,132.0,138.0,120.0,100.0,160.0,138.0,120.0,160.0,110.0,180.0,150.0,140.0,110.0,142.0,128.0,144.0,130.0,150.0,120.0,120.0,130.0,178.0,112.0,120.0,105.0,138.0,130.0,138.0,112.0,108.0,94.0,123.0,108.0,118.0,112.0,152.0,110.0,112.0,136.0,180.0,118.0,120.0,160.0,122.0,130.0,120.0,134.0,120.0,110.0,126.0,130.0,134.0,120.0,120.0,100.0,110.0,125.0,128.0,110.0,146.0,128.0,120.0,115.0,120.0,106.0,140.0,156.0,124.0,118.0,136.0,150.0,120.0,138.0,136.0,128.0,126.0,152.0,130.0,140.0,160.0,140.0,112.0,134.0,170.0,146.0,138.0,154.0,130.0,110.0,130.0,128.0,122.0,148.0,114.0,170.0,125.0,130.0,120.0,152.0,132.0,120.0,140.0,124.0,120.0,164.0,140.0,110.0,144.0,130.0,130.0,138.0,130.0,120.0,140.0,170.0,100.0,105.0,110.0,125.0,120.0,130.0,150.0,98.0,120.0,140.0,120.0,150.0,120.0,112.0,130.0,150.0,120.0,130.0,130.0,130.0,130.0,120.0,130.0,120.0,140.0,145.0,110.0,120.0,120.0,120.0,130.0,190.0,120.0,160.0,110.0,130.0,130.0,140.0,130.0,130.0,140.0,110.0,125.0,130.0,120.0,120.0,125.0,112.0,115.0,120.0,120.0,150.0,120.0,160.0,140.0,100.0,120.0,120.0,120.0,120.0,150.0,150.0,142.0,120.0,120.0,130.0,150.0,130.0,180.0,132.0,140.0,135.0,120.0,140.0,130.0,140.0,120.0,150.0,110.0,110.0,180.0,140.0,130.0,110.0,160.0,140.0,132.13240418118468,120.0,120.0,120.0,108.0,120.0,150.0,100.0,130.0,140.0,110.0,110.0,110.0,124.0,130.0,100.0,140.0,120.0,140.0,110.0,120.0,120.0,140.0,170.0,140.0,150.0,160.0,110.0,130.0,150.0,125.0,130.0,130.0,120.0,140.0,125.0,130.0,120.0,140.0,160.0,140.0,113.0,140.0,120.0,120.0,140.0,120.0,124.0,130.0,140.0,120.0,120.0,120.0,130.0,140.0,150.0,160.0,120.0,110.0,120.0,120.0,160.0,160.0,120.0,150.0,150.0,110.0,122.0,130.0,120.0,140.0,145.0,110.0,120.0,120.0,140.0,130.0,130.0,130.0,130.0,120.0,130.0,180.0,140.0,130.0,130.0,140.0,135.0,130.0,140.0,130.0,180.0,140.0,120.0,130.0,125.0,160.0,140.0,120.0,100.0,140.0,110.0,120.0,140.0,110.0,120.0,92.0,120.0,110.0,120.0,150.0,110.0,118.0,120.0,140.0,150.0,106.0,120.0,160.0,160.0,115.0,130.0,140.0,145.0,160.0,130.0,125.0,125.0,140.0,140.0,130.0,130.0,100.0,150.0,140.0,118.0,110.0,110.0,150.0,120.0,130.0,120.0,130.0,122.0,160.0,160.0,160.0,130.0,120.0,170.0,120.0,120.0,130.0,130.0,140.0,200.0,140.0,150.0,150.0,160.0,130.0,130.0,120.0,150.0,130.0,140.0,135.0,138.0,130.0,140.0,135.0,112.0,130.0,140.0,160.0,145.0,180.0,140.0,140.0,160.0,145.0,120.0,150.0,170.0,136.0,130.0,140.0,170.0,140.0,120.0,140.0,135.0,120.0,160.0,128.0,150.0,140.0,140.0,140.0,160.0,130.0,155.0,180.0,130.0,95.0,115.0,132.13240418118468,110.0,105.0,110.0,100.0,115.0,135.0,150.0,95.0,125.0,105.0,145.0,100.0,115.0,140.0,110.0,100.0,115.0,110.0,155.0,110.0,160.0,115.0,160.0,115.0,120.0,145.0,120.0,110.0,120.0,130.0,130.0,140.0,95.0,130.0,135.0,165.0,95.0,120.0,130.0,105.0,160.0,120.0,125.0,130.0,80.0,120.0,130.0,180.0,140.0,115.0,120.0,140.0,120.0,125.0,155.0,115.0,120.0,120.0,125.0,140.0,105.0,110.0,140.0,140.0,160.0,95.0,115.0,130.0,170.0,125.0,110.0,120.0,125.0,135.0,115.0,125.0,130.0,135.0,160.0,160.0,200.0,105.0,110.0,125.0,130.0,130.0,150.0,150.0,160.0,140.0,120.0,120.0,160.0,115.0,115.0,150.0,100.0,140.0,150.0,150.0,185.0,200.0,95.0,110.0,115.0,145.0,155.0,160.0,155.0,150.0,145.0,135.0,145.0,135.0,132.13240418118468,115.0,140.0,160.0,160.0,145.0,140.0,130.0,132.0,142.0,110.0,120.0,150.0,180.0,120.0,160.0,126.0,140.0,110.0,132.13240418118468,128.0,120.0,170.0,110.0,126.0,152.0,116.0,120.0,130.0,132.13240418118468,128.0,130.0,132.13240418118468,130.0,120.0,132.13240418118468,132.13240418118468,124.0,160.0,0.0,122.0,144.0,132.13240418118468,120.0,132.13240418118468,154.0,120.0,125.0,132.13240418118468,104.0,132.13240418118468,136.0,122.0,128.0,132.13240418118468,134.0,120.0,132.13240418118468,152.0,124.0,126.0,138.0,154.0,132.13240418118468,132.13240418118468,178.0,132.13240418118468,110.0,130.0,170.0,126.0,140.0,142.0,120.0,132.13240418118468,132.13240418118468,110.0,140.0,132.13240418118468,136.0,120.0,170.0,130.0,132.13240418118468,142.0,142.0,132.0,146.0,160.0,135.0,136.0,130.0,140.0,132.13240418118468,158.0,132.13240418118468,136.0,106.0,120.0,110.0,132.13240418118468,160.0,132.13240418118468,112.0,122.0,130.0,150.0,150.0,102.0,96.0,130.0,120.0,144.0,124.0,150.0,132.13240418118468,132.13240418118468,132.13240418118468,132.13240418118468,132.13240418118468,132.13240418118468,132.13240418118468,116.0,110.0,125.0,132.13240418118468,132.13240418118468,150.0,130.0,110.0,132.13240418118468,104.0,138.0,170.0,140.0,132.13240418118468,132.0,142.0,112.0,132.13240418118468,172.0,120.0,132.13240418118468,132.13240418118468,155.0,150.0,160.0,132.13240418118468,132.13240418118468,134.0,132.13240418118468,132.13240418118468,140.0,132.13240418118468,144.0,132.13240418118468,150.0,130.0,110.0,158.0,128.0,132.13240418118468,150.0,160.0,132.13240418118468,132.13240418118468,132.13240418118468,132.13240418118468,156.0,132.13240418118468,132.13240418118468,140.0,122.0,132.13240418118468,132.13240418118468,180.0,124.0,118.0,140.0,140.0,132.13240418118468,100.0,190.0,130.0,160.0,130.0,122.0,132.13240418118468,120.0,130.0,130.0,132.13240418118468,120.0,150.0,155.0,134.0,114.0,160.0,144.0,158.0,134.0,127.0,132.13240418118468,122.0,132.13240418118468,120.0],\"type\":\"box\"},{\"boxmean\":true,\"marker\":{\"color\":\"blue\"},\"name\":\"Male only\",\"y\":[145.0,160.0,120.0,130.0,120.0,130.0,140.0,140.0,130.0,120.0,172.0,150.0,110.0,140.0,130.0,110.0,120.0,132.0,130.0,150.0,110.0,117.0,140.0,135.0,130.0,140.0,120.0,150.0,132.0,150.0,140.0,150.0,112.0,110.0,150.0,130.0,120.0,112.0,130.0,130.0,124.0,140.0,110.0,125.0,125.0,128.0,120.0,145.0,140.0,150.0,170.0,150.0,125.0,120.0,110.0,110.0,125.0,130.0,150.0,104.0,140.0,180.0,120.0,140.0,138.0,120.0,130.0,128.0,110.0,134.0,122.0,115.0,118.0,120.0,108.0,140.0,128.0,120.0,118.0,125.0,118.0,135.0,140.0,130.0,135.0,130.0,100.0,140.0,138.0,110.0,120.0,120.0,94.0,130.0,140.0,145.0,120.0,120.0,125.0,140.0,170.0,128.0,125.0,105.0,108.0,165.0,112.0,128.0,152.0,160.0,120.0,130.0,140.0,125.0,140.0,118.0,101.0,125.0,124.0,132.0,138.0,126.0,160.0,142.0,145.0,152.0,108.0,132.0,130.0,130.0,124.0,148.0,178.0,120.0,160.0,192.0,140.0,129.0,140.0,132.0,100.0,160.0,160.0,150.0,110.0,142.0,128.0,144.0,130.0,120.0,130.0,112.0,120.0,138.0,123.0,112.0,110.0,112.0,118.0,122.0,130.0,120.0,120.0,110.0,134.0,120.0,100.0,110.0,125.0,128.0,110.0,146.0,128.0,115.0,156.0,124.0,120.0,138.0,136.0,128.0,126.0,152.0,130.0,140.0,160.0,140.0,134.0,170.0,154.0,110.0,130.0,122.0,148.0,114.0,125.0,130.0,120.0,152.0,120.0,140.0,120.0,164.0,110.0,144.0,130.0,138.0,130.0,120.0,140.0,110.0,125.0,120.0,150.0,98.0,120.0,150.0,120.0,112.0,130.0,150.0,130.0,130.0,120.0,130.0,140.0,145.0,120.0,120.0,120.0,130.0,190.0,120.0,160.0,110.0,130.0,130.0,140.0,130.0,130.0,140.0,120.0,120.0,125.0,112.0,120.0,120.0,150.0,120.0,160.0,140.0,142.0,120.0,130.0,150.0,140.0,135.0,120.0,140.0,140.0,120.0,150.0,110.0,110.0,180.0,110.0,160.0,140.0,100.0,130.0,140.0,110.0,100.0,140.0,120.0,140.0,120.0,140.0,170.0,140.0,150.0,125.0,130.0,130.0,120.0,140.0,160.0,140.0,120.0,140.0,120.0,124.0,130.0,140.0,120.0,110.0,120.0,120.0,160.0,160.0,120.0,150.0,150.0,120.0,140.0,145.0,110.0,120.0,120.0,140.0,130.0,130.0,130.0,120.0,140.0,130.0,130.0,140.0,135.0,140.0,130.0,180.0,140.0,120.0,125.0,140.0,120.0,140.0,110.0,120.0,140.0,110.0,120.0,92.0,120.0,110.0,120.0,150.0,110.0,118.0,120.0,140.0,150.0,106.0,120.0,160.0,115.0,130.0,145.0,130.0,125.0,125.0,140.0,140.0,130.0,100.0,150.0,140.0,118.0,110.0,110.0,120.0,130.0,120.0,130.0,122.0,160.0,160.0,160.0,130.0,120.0,170.0,120.0,120.0,130.0,130.0,140.0,200.0,140.0,150.0,150.0,160.0,130.0,130.0,120.0,150.0,130.0,140.0,130.0,140.0,135.0,112.0,130.0,140.0,160.0,145.0,180.0,140.0,140.0,160.0,145.0,150.0,170.0,136.0,130.0,140.0,170.0,140.0,120.0,140.0,135.0,160.0,128.0,150.0,140.0,140.0,140.0,160.0,155.0,130.0,95.0,115.0,132.13240418118468,110.0,100.0,115.0,135.0,150.0,95.0,125.0,105.0,145.0,100.0,115.0,140.0,110.0,100.0,115.0,110.0,155.0,110.0,160.0,115.0,115.0,120.0,145.0,110.0,120.0,130.0,130.0,140.0,95.0,130.0,135.0,165.0,95.0,120.0,130.0,105.0,160.0,120.0,125.0,130.0,80.0,120.0,130.0,180.0,140.0,115.0,120.0,140.0,120.0,125.0,155.0,115.0,120.0,120.0,125.0,140.0,105.0,110.0,140.0,140.0,160.0,95.0,115.0,130.0,170.0,125.0,110.0,120.0,125.0,135.0,115.0,125.0,130.0,135.0,160.0,160.0,200.0,105.0,110.0,125.0,130.0,130.0,150.0,150.0,160.0,120.0,160.0,115.0,115.0,150.0,100.0,140.0,150.0,150.0,185.0,110.0,115.0,145.0,155.0,160.0,150.0,145.0,135.0,145.0,135.0,132.13240418118468,115.0,140.0,160.0,145.0,140.0,130.0,132.0,142.0,110.0,120.0,150.0,180.0,120.0,160.0,126.0,140.0,110.0,132.13240418118468,128.0,120.0,170.0,110.0,126.0,152.0,116.0,120.0,130.0,132.13240418118468,128.0,130.0,132.13240418118468,130.0,120.0,132.13240418118468,132.13240418118468,124.0,160.0,0.0,122.0,144.0,132.13240418118468,120.0,132.13240418118468,154.0,120.0,125.0,132.13240418118468,104.0,132.13240418118468,136.0,122.0,128.0,132.13240418118468,134.0,120.0,152.0,124.0,126.0,138.0,154.0,132.13240418118468,132.13240418118468,178.0,132.13240418118468,110.0,130.0,170.0,126.0,140.0,142.0,120.0,132.13240418118468,132.13240418118468,110.0,140.0,132.13240418118468,136.0,120.0,170.0,130.0,132.13240418118468,142.0,132.0,146.0,160.0,135.0,136.0,130.0,140.0,132.13240418118468,158.0,132.13240418118468,136.0,106.0,120.0,110.0,132.13240418118468,160.0,132.13240418118468,112.0,122.0,130.0,150.0,150.0,102.0,96.0,130.0,120.0,144.0,124.0,150.0,132.13240418118468,132.13240418118468,132.13240418118468,132.13240418118468,132.13240418118468,132.13240418118468,132.13240418118468,116.0,110.0,125.0,132.13240418118468,132.13240418118468,150.0,130.0,110.0,132.13240418118468,104.0,170.0,132.13240418118468,132.0,142.0,112.0,132.13240418118468,172.0,120.0,132.13240418118468,132.13240418118468,155.0,150.0,160.0,132.13240418118468,132.13240418118468,134.0,132.13240418118468,132.13240418118468,140.0,132.13240418118468,144.0,132.13240418118468,150.0,130.0,110.0,158.0,128.0,132.13240418118468,150.0,160.0,132.13240418118468,132.13240418118468,132.13240418118468,132.13240418118468,156.0,132.13240418118468,132.13240418118468,140.0,122.0,132.13240418118468,132.13240418118468,180.0,124.0,118.0,140.0,140.0,132.13240418118468,100.0,190.0,130.0,160.0,130.0,122.0,132.13240418118468,120.0,130.0,130.0,132.13240418118468,120.0,150.0,155.0,134.0,160.0,144.0,158.0,134.0,132.13240418118468,122.0,132.13240418118468,120.0],\"type\":\"box\"},{\"boxmean\":true,\"marker\":{\"color\":\"red\"},\"name\":\"Female only\",\"y\":[130.0,140.0,120.0,140.0,130.0,150.0,120.0,120.0,150.0,140.0,150.0,160.0,130.0,140.0,105.0,130.0,142.0,135.0,155.0,160.0,140.0,130.0,128.0,138.0,130.0,160.0,108.0,135.0,150.0,128.0,110.0,145.0,132.0,130.0,138.0,150.0,130.0,200.0,124.0,122.0,135.0,102.0,102.0,115.0,110.0,100.0,132.0,112.0,174.0,140.0,134.0,158.0,140.0,138.0,120.0,138.0,120.0,110.0,180.0,140.0,150.0,120.0,178.0,105.0,138.0,130.0,112.0,108.0,94.0,108.0,118.0,152.0,136.0,180.0,120.0,160.0,134.0,126.0,130.0,120.0,120.0,120.0,106.0,140.0,118.0,136.0,150.0,112.0,146.0,138.0,130.0,128.0,170.0,132.0,124.0,140.0,130.0,170.0,100.0,105.0,130.0,120.0,140.0,120.0,130.0,130.0,120.0,110.0,110.0,125.0,130.0,115.0,100.0,120.0,120.0,120.0,120.0,150.0,150.0,120.0,130.0,180.0,132.0,130.0,140.0,130.0,132.13240418118468,120.0,120.0,120.0,108.0,120.0,150.0,110.0,110.0,124.0,130.0,110.0,120.0,160.0,110.0,130.0,150.0,120.0,140.0,125.0,130.0,113.0,140.0,120.0,120.0,120.0,120.0,130.0,140.0,150.0,160.0,110.0,122.0,130.0,130.0,130.0,180.0,130.0,130.0,160.0,100.0,160.0,140.0,160.0,130.0,150.0,135.0,138.0,120.0,120.0,130.0,180.0,105.0,110.0,160.0,120.0,140.0,120.0,200.0,95.0,155.0,160.0,132.13240418118468,142.0,138.0,140.0,114.0,127.0],\"type\":\"box\"}],                        {\"template\":{\"data\":{\"histogram2dcontour\":[{\"type\":\"histogram2dcontour\",\"colorbar\":{\"outlinewidth\":0,\"ticks\":\"\"},\"colorscale\":[[0.0,\"#0d0887\"],[0.1111111111111111,\"#46039f\"],[0.2222222222222222,\"#7201a8\"],[0.3333333333333333,\"#9c179e\"],[0.4444444444444444,\"#bd3786\"],[0.5555555555555556,\"#d8576b\"],[0.6666666666666666,\"#ed7953\"],[0.7777777777777778,\"#fb9f3a\"],[0.8888888888888888,\"#fdca26\"],[1.0,\"#f0f921\"]]}],\"choropleth\":[{\"type\":\"choropleth\",\"colorbar\":{\"outlinewidth\":0,\"ticks\":\"\"}}],\"histogram2d\":[{\"type\":\"histogram2d\",\"colorbar\":{\"outlinewidth\":0,\"ticks\":\"\"},\"colorscale\":[[0.0,\"#0d0887\"],[0.1111111111111111,\"#46039f\"],[0.2222222222222222,\"#7201a8\"],[0.3333333333333333,\"#9c179e\"],[0.4444444444444444,\"#bd3786\"],[0.5555555555555556,\"#d8576b\"],[0.6666666666666666,\"#ed7953\"],[0.7777777777777778,\"#fb9f3a\"],[0.8888888888888888,\"#fdca26\"],[1.0,\"#f0f921\"]]}],\"heatmap\":[{\"type\":\"heatmap\",\"colorbar\":{\"outlinewidth\":0,\"ticks\":\"\"},\"colorscale\":[[0.0,\"#0d0887\"],[0.1111111111111111,\"#46039f\"],[0.2222222222222222,\"#7201a8\"],[0.3333333333333333,\"#9c179e\"],[0.4444444444444444,\"#bd3786\"],[0.5555555555555556,\"#d8576b\"],[0.6666666666666666,\"#ed7953\"],[0.7777777777777778,\"#fb9f3a\"],[0.8888888888888888,\"#fdca26\"],[1.0,\"#f0f921\"]]}],\"heatmapgl\":[{\"type\":\"heatmapgl\",\"colorbar\":{\"outlinewidth\":0,\"ticks\":\"\"},\"colorscale\":[[0.0,\"#0d0887\"],[0.1111111111111111,\"#46039f\"],[0.2222222222222222,\"#7201a8\"],[0.3333333333333333,\"#9c179e\"],[0.4444444444444444,\"#bd3786\"],[0.5555555555555556,\"#d8576b\"],[0.6666666666666666,\"#ed7953\"],[0.7777777777777778,\"#fb9f3a\"],[0.8888888888888888,\"#fdca26\"],[1.0,\"#f0f921\"]]}],\"contourcarpet\":[{\"type\":\"contourcarpet\",\"colorbar\":{\"outlinewidth\":0,\"ticks\":\"\"}}],\"contour\":[{\"type\":\"contour\",\"colorbar\":{\"outlinewidth\":0,\"ticks\":\"\"},\"colorscale\":[[0.0,\"#0d0887\"],[0.1111111111111111,\"#46039f\"],[0.2222222222222222,\"#7201a8\"],[0.3333333333333333,\"#9c179e\"],[0.4444444444444444,\"#bd3786\"],[0.5555555555555556,\"#d8576b\"],[0.6666666666666666,\"#ed7953\"],[0.7777777777777778,\"#fb9f3a\"],[0.8888888888888888,\"#fdca26\"],[1.0,\"#f0f921\"]]}],\"surface\":[{\"type\":\"surface\",\"colorbar\":{\"outlinewidth\":0,\"ticks\":\"\"},\"colorscale\":[[0.0,\"#0d0887\"],[0.1111111111111111,\"#46039f\"],[0.2222222222222222,\"#7201a8\"],[0.3333333333333333,\"#9c179e\"],[0.4444444444444444,\"#bd3786\"],[0.5555555555555556,\"#d8576b\"],[0.6666666666666666,\"#ed7953\"],[0.7777777777777778,\"#fb9f3a\"],[0.8888888888888888,\"#fdca26\"],[1.0,\"#f0f921\"]]}],\"mesh3d\":[{\"type\":\"mesh3d\",\"colorbar\":{\"outlinewidth\":0,\"ticks\":\"\"}}],\"scatter\":[{\"fillpattern\":{\"fillmode\":\"overlay\",\"size\":10,\"solidity\":0.2},\"type\":\"scatter\"}],\"parcoords\":[{\"type\":\"parcoords\",\"line\":{\"colorbar\":{\"outlinewidth\":0,\"ticks\":\"\"}}}],\"scatterpolargl\":[{\"type\":\"scatterpolargl\",\"marker\":{\"colorbar\":{\"outlinewidth\":0,\"ticks\":\"\"}}}],\"bar\":[{\"error_x\":{\"color\":\"#2a3f5f\"},\"error_y\":{\"color\":\"#2a3f5f\"},\"marker\":{\"line\":{\"color\":\"#E5ECF6\",\"width\":0.5},\"pattern\":{\"fillmode\":\"overlay\",\"size\":10,\"solidity\":0.2}},\"type\":\"bar\"}],\"scattergeo\":[{\"type\":\"scattergeo\",\"marker\":{\"colorbar\":{\"outlinewidth\":0,\"ticks\":\"\"}}}],\"scatterpolar\":[{\"type\":\"scatterpolar\",\"marker\":{\"colorbar\":{\"outlinewidth\":0,\"ticks\":\"\"}}}],\"histogram\":[{\"marker\":{\"pattern\":{\"fillmode\":\"overlay\",\"size\":10,\"solidity\":0.2}},\"type\":\"histogram\"}],\"scattergl\":[{\"type\":\"scattergl\",\"marker\":{\"colorbar\":{\"outlinewidth\":0,\"ticks\":\"\"}}}],\"scatter3d\":[{\"type\":\"scatter3d\",\"line\":{\"colorbar\":{\"outlinewidth\":0,\"ticks\":\"\"}},\"marker\":{\"colorbar\":{\"outlinewidth\":0,\"ticks\":\"\"}}}],\"scattermapbox\":[{\"type\":\"scattermapbox\",\"marker\":{\"colorbar\":{\"outlinewidth\":0,\"ticks\":\"\"}}}],\"scatterternary\":[{\"type\":\"scatterternary\",\"marker\":{\"colorbar\":{\"outlinewidth\":0,\"ticks\":\"\"}}}],\"scattercarpet\":[{\"type\":\"scattercarpet\",\"marker\":{\"colorbar\":{\"outlinewidth\":0,\"ticks\":\"\"}}}],\"carpet\":[{\"aaxis\":{\"endlinecolor\":\"#2a3f5f\",\"gridcolor\":\"white\",\"linecolor\":\"white\",\"minorgridcolor\":\"white\",\"startlinecolor\":\"#2a3f5f\"},\"baxis\":{\"endlinecolor\":\"#2a3f5f\",\"gridcolor\":\"white\",\"linecolor\":\"white\",\"minorgridcolor\":\"white\",\"startlinecolor\":\"#2a3f5f\"},\"type\":\"carpet\"}],\"table\":[{\"cells\":{\"fill\":{\"color\":\"#EBF0F8\"},\"line\":{\"color\":\"white\"}},\"header\":{\"fill\":{\"color\":\"#C8D4E3\"},\"line\":{\"color\":\"white\"}},\"type\":\"table\"}],\"barpolar\":[{\"marker\":{\"line\":{\"color\":\"#E5ECF6\",\"width\":0.5},\"pattern\":{\"fillmode\":\"overlay\",\"size\":10,\"solidity\":0.2}},\"type\":\"barpolar\"}],\"pie\":[{\"automargin\":true,\"type\":\"pie\"}]},\"layout\":{\"autotypenumbers\":\"strict\",\"colorway\":[\"#636efa\",\"#EF553B\",\"#00cc96\",\"#ab63fa\",\"#FFA15A\",\"#19d3f3\",\"#FF6692\",\"#B6E880\",\"#FF97FF\",\"#FECB52\"],\"font\":{\"color\":\"#2a3f5f\"},\"hovermode\":\"closest\",\"hoverlabel\":{\"align\":\"left\"},\"paper_bgcolor\":\"white\",\"plot_bgcolor\":\"#E5ECF6\",\"polar\":{\"bgcolor\":\"#E5ECF6\",\"angularaxis\":{\"gridcolor\":\"white\",\"linecolor\":\"white\",\"ticks\":\"\"},\"radialaxis\":{\"gridcolor\":\"white\",\"linecolor\":\"white\",\"ticks\":\"\"}},\"ternary\":{\"bgcolor\":\"#E5ECF6\",\"aaxis\":{\"gridcolor\":\"white\",\"linecolor\":\"white\",\"ticks\":\"\"},\"baxis\":{\"gridcolor\":\"white\",\"linecolor\":\"white\",\"ticks\":\"\"},\"caxis\":{\"gridcolor\":\"white\",\"linecolor\":\"white\",\"ticks\":\"\"}},\"coloraxis\":{\"colorbar\":{\"outlinewidth\":0,\"ticks\":\"\"}},\"colorscale\":{\"sequential\":[[0.0,\"#0d0887\"],[0.1111111111111111,\"#46039f\"],[0.2222222222222222,\"#7201a8\"],[0.3333333333333333,\"#9c179e\"],[0.4444444444444444,\"#bd3786\"],[0.5555555555555556,\"#d8576b\"],[0.6666666666666666,\"#ed7953\"],[0.7777777777777778,\"#fb9f3a\"],[0.8888888888888888,\"#fdca26\"],[1.0,\"#f0f921\"]],\"sequentialminus\":[[0.0,\"#0d0887\"],[0.1111111111111111,\"#46039f\"],[0.2222222222222222,\"#7201a8\"],[0.3333333333333333,\"#9c179e\"],[0.4444444444444444,\"#bd3786\"],[0.5555555555555556,\"#d8576b\"],[0.6666666666666666,\"#ed7953\"],[0.7777777777777778,\"#fb9f3a\"],[0.8888888888888888,\"#fdca26\"],[1.0,\"#f0f921\"]],\"diverging\":[[0,\"#8e0152\"],[0.1,\"#c51b7d\"],[0.2,\"#de77ae\"],[0.3,\"#f1b6da\"],[0.4,\"#fde0ef\"],[0.5,\"#f7f7f7\"],[0.6,\"#e6f5d0\"],[0.7,\"#b8e186\"],[0.8,\"#7fbc41\"],[0.9,\"#4d9221\"],[1,\"#276419\"]]},\"xaxis\":{\"gridcolor\":\"white\",\"linecolor\":\"white\",\"ticks\":\"\",\"title\":{\"standoff\":15},\"zerolinecolor\":\"white\",\"automargin\":true,\"zerolinewidth\":2},\"yaxis\":{\"gridcolor\":\"white\",\"linecolor\":\"white\",\"ticks\":\"\",\"title\":{\"standoff\":15},\"zerolinecolor\":\"white\",\"automargin\":true,\"zerolinewidth\":2},\"scene\":{\"xaxis\":{\"backgroundcolor\":\"#E5ECF6\",\"gridcolor\":\"white\",\"linecolor\":\"white\",\"showbackground\":true,\"ticks\":\"\",\"zerolinecolor\":\"white\",\"gridwidth\":2},\"yaxis\":{\"backgroundcolor\":\"#E5ECF6\",\"gridcolor\":\"white\",\"linecolor\":\"white\",\"showbackground\":true,\"ticks\":\"\",\"zerolinecolor\":\"white\",\"gridwidth\":2},\"zaxis\":{\"backgroundcolor\":\"#E5ECF6\",\"gridcolor\":\"white\",\"linecolor\":\"white\",\"showbackground\":true,\"ticks\":\"\",\"zerolinecolor\":\"white\",\"gridwidth\":2}},\"shapedefaults\":{\"line\":{\"color\":\"#2a3f5f\"}},\"annotationdefaults\":{\"arrowcolor\":\"#2a3f5f\",\"arrowhead\":0,\"arrowwidth\":1},\"geo\":{\"bgcolor\":\"white\",\"landcolor\":\"#E5ECF6\",\"subunitcolor\":\"white\",\"showland\":true,\"showlakes\":true,\"lakecolor\":\"white\"},\"title\":{\"x\":0.05},\"mapbox\":{\"style\":\"light\"}}},\"title\":{\"text\":\"BP Distribution\",\"x\":0.5},\"yaxis\":{\"title\":{\"text\":\"Blood Pressure (mm\\u002fHg)\"},\"showline\":true,\"linewidth\":2,\"linecolor\":\"black\",\"mirror\":true},\"xaxis\":{\"showline\":true,\"linewidth\":2,\"linecolor\":\"black\",\"mirror\":true}},                        {\"responsive\": true}                    ).then(function(){\n",
              "                            \n",
              "var gd = document.getElementById('9ffc62cb-2de1-44e7-a74e-f92c169c9aa9');\n",
              "var x = new MutationObserver(function (mutations, observer) {{\n",
              "        var display = window.getComputedStyle(gd).display;\n",
              "        if (!display || display === 'none') {{\n",
              "            console.log([gd, 'removed!']);\n",
              "            Plotly.purge(gd);\n",
              "            observer.disconnect();\n",
              "        }}\n",
              "}});\n",
              "\n",
              "// Listen for the removal of the full notebook cells\n",
              "var notebookContainer = gd.closest('#notebook-container');\n",
              "if (notebookContainer) {{\n",
              "    x.observe(notebookContainer, {childList: true});\n",
              "}}\n",
              "\n",
              "// Listen for the clearing of the current output cell\n",
              "var outputEl = gd.closest('.output');\n",
              "if (outputEl) {{\n",
              "    x.observe(outputEl, {childList: true});\n",
              "}}\n",
              "\n",
              "                        })                };                            </script>        </div>\n",
              "</body>\n",
              "</html>"
            ]
          },
          "metadata": {}
        }
      ]
    },
    {
      "cell_type": "markdown",
      "source": [
        "### Resting Blood Prssure vs Disease"
      ],
      "metadata": {
        "id": "MLXezwmSwZWs"
      }
    },
    {
      "cell_type": "code",
      "source": [
        "fig = go.Figure()\n",
        "fig.add_trace(go.Box(y=data['trestbps'].values , name='BP at Rest for all', marker_color = 'green',boxmean=True))\n",
        "fig.add_trace(go.Box(y=data[data['num']== 0]['trestbps'].values, name ='No Disease', marker_color = 'blue', boxmean = True))\n",
        "fig.add_trace(go.Box(y=data[data['num'] !=0]['trestbps'].values, name ='Heart Disease', marker_color = 'red', boxmean = True))\n",
        "fig.update_layout(title = 'BP Distribution (at rest)', yaxis_title = 'Blood Pressure (mm/Hg)', title_x = 0.5)\n",
        "fig.update_xaxes(showline=True, linewidth=2, linecolor='black', mirror=True)\n",
        "fig.update_yaxes(showline=True, linewidth=2, linecolor='black', mirror=True)\n",
        "fig.show()"
      ],
      "metadata": {
        "colab": {
          "base_uri": "https://localhost:8080/",
          "height": 542
        },
        "id": "NFLggoowwmFU",
        "outputId": "484ac090-f8ce-42bb-8a22-7b5eddb6d187"
      },
      "execution_count": 24,
      "outputs": [
        {
          "output_type": "display_data",
          "data": {
            "text/html": [
              "<html>\n",
              "<head><meta charset=\"utf-8\" /></head>\n",
              "<body>\n",
              "    <div>            <script src=\"https://cdnjs.cloudflare.com/ajax/libs/mathjax/2.7.5/MathJax.js?config=TeX-AMS-MML_SVG\"></script><script type=\"text/javascript\">if (window.MathJax && window.MathJax.Hub && window.MathJax.Hub.Config) {window.MathJax.Hub.Config({SVG: {font: \"STIX-Web\"}});}</script>                <script type=\"text/javascript\">window.PlotlyConfig = {MathJaxConfig: 'local'};</script>\n",
              "        <script charset=\"utf-8\" src=\"https://cdn.plot.ly/plotly-2.24.1.min.js\"></script>                <div id=\"26d9979a-2503-404a-8da5-1a73add699ba\" class=\"plotly-graph-div\" style=\"height:525px; width:100%;\"></div>            <script type=\"text/javascript\">                                    window.PLOTLYENV=window.PLOTLYENV || {};                                    if (document.getElementById(\"26d9979a-2503-404a-8da5-1a73add699ba\")) {                    Plotly.newPlot(                        \"26d9979a-2503-404a-8da5-1a73add699ba\",                        [{\"boxmean\":true,\"marker\":{\"color\":\"green\"},\"name\":\"BP at Rest for all\",\"y\":[145.0,160.0,120.0,130.0,130.0,120.0,140.0,120.0,130.0,140.0,140.0,140.0,130.0,120.0,172.0,150.0,110.0,140.0,130.0,130.0,110.0,150.0,120.0,132.0,130.0,120.0,120.0,150.0,150.0,110.0,140.0,117.0,140.0,135.0,130.0,140.0,120.0,150.0,132.0,150.0,150.0,140.0,160.0,150.0,130.0,112.0,110.0,150.0,140.0,130.0,105.0,120.0,112.0,130.0,130.0,124.0,140.0,110.0,125.0,125.0,130.0,142.0,128.0,135.0,120.0,145.0,140.0,150.0,170.0,150.0,155.0,125.0,120.0,110.0,110.0,160.0,125.0,140.0,130.0,150.0,104.0,130.0,140.0,180.0,120.0,140.0,138.0,128.0,138.0,130.0,120.0,160.0,130.0,108.0,135.0,128.0,110.0,150.0,134.0,122.0,115.0,118.0,128.0,110.0,120.0,108.0,140.0,128.0,120.0,118.0,145.0,125.0,118.0,132.0,130.0,135.0,140.0,138.0,130.0,135.0,130.0,150.0,100.0,140.0,138.0,130.0,200.0,110.0,120.0,124.0,120.0,94.0,130.0,140.0,122.0,135.0,145.0,120.0,120.0,125.0,140.0,170.0,128.0,125.0,105.0,108.0,165.0,112.0,128.0,102.0,152.0,102.0,115.0,160.0,120.0,130.0,140.0,125.0,140.0,118.0,101.0,125.0,110.0,100.0,124.0,132.0,138.0,132.0,126.0,112.0,160.0,142.0,174.0,140.0,145.0,152.0,108.0,132.0,130.0,130.0,124.0,134.0,148.0,178.0,158.0,140.0,120.0,160.0,192.0,140.0,129.0,140.0,132.0,138.0,120.0,100.0,160.0,138.0,120.0,160.0,110.0,180.0,150.0,140.0,110.0,142.0,128.0,144.0,130.0,150.0,120.0,120.0,130.0,178.0,112.0,120.0,105.0,138.0,130.0,138.0,112.0,108.0,94.0,123.0,108.0,118.0,112.0,152.0,110.0,112.0,136.0,180.0,118.0,120.0,160.0,122.0,130.0,120.0,134.0,120.0,110.0,126.0,130.0,134.0,120.0,120.0,100.0,110.0,125.0,128.0,110.0,146.0,128.0,120.0,115.0,120.0,106.0,140.0,156.0,124.0,118.0,136.0,150.0,120.0,138.0,136.0,128.0,126.0,152.0,130.0,140.0,160.0,140.0,112.0,134.0,170.0,146.0,138.0,154.0,130.0,110.0,130.0,128.0,122.0,148.0,114.0,170.0,125.0,130.0,120.0,152.0,132.0,120.0,140.0,124.0,120.0,164.0,140.0,110.0,144.0,130.0,130.0,138.0,130.0,120.0,140.0,170.0,100.0,105.0,110.0,125.0,120.0,130.0,150.0,98.0,120.0,140.0,120.0,150.0,120.0,112.0,130.0,150.0,120.0,130.0,130.0,130.0,130.0,120.0,130.0,120.0,140.0,145.0,110.0,120.0,120.0,120.0,130.0,190.0,120.0,160.0,110.0,130.0,130.0,140.0,130.0,130.0,140.0,110.0,125.0,130.0,120.0,120.0,125.0,112.0,115.0,120.0,120.0,150.0,120.0,160.0,140.0,100.0,120.0,120.0,120.0,120.0,150.0,150.0,142.0,120.0,120.0,130.0,150.0,130.0,180.0,132.0,140.0,135.0,120.0,140.0,130.0,140.0,120.0,150.0,110.0,110.0,180.0,140.0,130.0,110.0,160.0,140.0,132.13240418118468,120.0,120.0,120.0,108.0,120.0,150.0,100.0,130.0,140.0,110.0,110.0,110.0,124.0,130.0,100.0,140.0,120.0,140.0,110.0,120.0,120.0,140.0,170.0,140.0,150.0,160.0,110.0,130.0,150.0,125.0,130.0,130.0,120.0,140.0,125.0,130.0,120.0,140.0,160.0,140.0,113.0,140.0,120.0,120.0,140.0,120.0,124.0,130.0,140.0,120.0,120.0,120.0,130.0,140.0,150.0,160.0,120.0,110.0,120.0,120.0,160.0,160.0,120.0,150.0,150.0,110.0,122.0,130.0,120.0,140.0,145.0,110.0,120.0,120.0,140.0,130.0,130.0,130.0,130.0,120.0,130.0,180.0,140.0,130.0,130.0,140.0,135.0,130.0,140.0,130.0,180.0,140.0,120.0,130.0,125.0,160.0,140.0,120.0,100.0,140.0,110.0,120.0,140.0,110.0,120.0,92.0,120.0,110.0,120.0,150.0,110.0,118.0,120.0,140.0,150.0,106.0,120.0,160.0,160.0,115.0,130.0,140.0,145.0,160.0,130.0,125.0,125.0,140.0,140.0,130.0,130.0,100.0,150.0,140.0,118.0,110.0,110.0,150.0,120.0,130.0,120.0,130.0,122.0,160.0,160.0,160.0,130.0,120.0,170.0,120.0,120.0,130.0,130.0,140.0,200.0,140.0,150.0,150.0,160.0,130.0,130.0,120.0,150.0,130.0,140.0,135.0,138.0,130.0,140.0,135.0,112.0,130.0,140.0,160.0,145.0,180.0,140.0,140.0,160.0,145.0,120.0,150.0,170.0,136.0,130.0,140.0,170.0,140.0,120.0,140.0,135.0,120.0,160.0,128.0,150.0,140.0,140.0,140.0,160.0,130.0,155.0,180.0,130.0,95.0,115.0,132.13240418118468,110.0,105.0,110.0,100.0,115.0,135.0,150.0,95.0,125.0,105.0,145.0,100.0,115.0,140.0,110.0,100.0,115.0,110.0,155.0,110.0,160.0,115.0,160.0,115.0,120.0,145.0,120.0,110.0,120.0,130.0,130.0,140.0,95.0,130.0,135.0,165.0,95.0,120.0,130.0,105.0,160.0,120.0,125.0,130.0,80.0,120.0,130.0,180.0,140.0,115.0,120.0,140.0,120.0,125.0,155.0,115.0,120.0,120.0,125.0,140.0,105.0,110.0,140.0,140.0,160.0,95.0,115.0,130.0,170.0,125.0,110.0,120.0,125.0,135.0,115.0,125.0,130.0,135.0,160.0,160.0,200.0,105.0,110.0,125.0,130.0,130.0,150.0,150.0,160.0,140.0,120.0,120.0,160.0,115.0,115.0,150.0,100.0,140.0,150.0,150.0,185.0,200.0,95.0,110.0,115.0,145.0,155.0,160.0,155.0,150.0,145.0,135.0,145.0,135.0,132.13240418118468,115.0,140.0,160.0,160.0,145.0,140.0,130.0,132.0,142.0,110.0,120.0,150.0,180.0,120.0,160.0,126.0,140.0,110.0,132.13240418118468,128.0,120.0,170.0,110.0,126.0,152.0,116.0,120.0,130.0,132.13240418118468,128.0,130.0,132.13240418118468,130.0,120.0,132.13240418118468,132.13240418118468,124.0,160.0,0.0,122.0,144.0,132.13240418118468,120.0,132.13240418118468,154.0,120.0,125.0,132.13240418118468,104.0,132.13240418118468,136.0,122.0,128.0,132.13240418118468,134.0,120.0,132.13240418118468,152.0,124.0,126.0,138.0,154.0,132.13240418118468,132.13240418118468,178.0,132.13240418118468,110.0,130.0,170.0,126.0,140.0,142.0,120.0,132.13240418118468,132.13240418118468,110.0,140.0,132.13240418118468,136.0,120.0,170.0,130.0,132.13240418118468,142.0,142.0,132.0,146.0,160.0,135.0,136.0,130.0,140.0,132.13240418118468,158.0,132.13240418118468,136.0,106.0,120.0,110.0,132.13240418118468,160.0,132.13240418118468,112.0,122.0,130.0,150.0,150.0,102.0,96.0,130.0,120.0,144.0,124.0,150.0,132.13240418118468,132.13240418118468,132.13240418118468,132.13240418118468,132.13240418118468,132.13240418118468,132.13240418118468,116.0,110.0,125.0,132.13240418118468,132.13240418118468,150.0,130.0,110.0,132.13240418118468,104.0,138.0,170.0,140.0,132.13240418118468,132.0,142.0,112.0,132.13240418118468,172.0,120.0,132.13240418118468,132.13240418118468,155.0,150.0,160.0,132.13240418118468,132.13240418118468,134.0,132.13240418118468,132.13240418118468,140.0,132.13240418118468,144.0,132.13240418118468,150.0,130.0,110.0,158.0,128.0,132.13240418118468,150.0,160.0,132.13240418118468,132.13240418118468,132.13240418118468,132.13240418118468,156.0,132.13240418118468,132.13240418118468,140.0,122.0,132.13240418118468,132.13240418118468,180.0,124.0,118.0,140.0,140.0,132.13240418118468,100.0,190.0,130.0,160.0,130.0,122.0,132.13240418118468,120.0,130.0,130.0,132.13240418118468,120.0,150.0,155.0,134.0,114.0,160.0,144.0,158.0,134.0,127.0,132.13240418118468,122.0,132.13240418118468,120.0],\"type\":\"box\"},{\"boxmean\":true,\"marker\":{\"color\":\"blue\"},\"name\":\"No Disease\",\"y\":[145.0,130.0,130.0,120.0,120.0,140.0,140.0,120.0,172.0,150.0,140.0,130.0,130.0,110.0,150.0,120.0,120.0,150.0,150.0,140.0,135.0,130.0,140.0,150.0,140.0,160.0,150.0,110.0,140.0,130.0,105.0,120.0,130.0,125.0,125.0,142.0,135.0,150.0,155.0,160.0,140.0,130.0,104.0,130.0,140.0,120.0,140.0,138.0,128.0,138.0,130.0,120.0,130.0,108.0,135.0,134.0,122.0,115.0,118.0,128.0,110.0,108.0,118.0,135.0,140.0,138.0,100.0,130.0,120.0,124.0,120.0,94.0,130.0,140.0,122.0,135.0,125.0,140.0,128.0,105.0,112.0,128.0,102.0,152.0,102.0,115.0,118.0,101.0,110.0,100.0,124.0,132.0,138.0,132.0,112.0,142.0,140.0,108.0,130.0,130.0,148.0,178.0,140.0,120.0,129.0,120.0,160.0,138.0,120.0,110.0,180.0,150.0,140.0,110.0,130.0,120.0,130.0,120.0,105.0,138.0,130.0,138.0,112.0,108.0,94.0,118.0,112.0,152.0,136.0,120.0,160.0,134.0,120.0,110.0,126.0,130.0,120.0,128.0,110.0,128.0,120.0,115.0,120.0,106.0,140.0,156.0,118.0,150.0,120.0,130.0,160.0,112.0,170.0,146.0,138.0,130.0,130.0,122.0,125.0,130.0,120.0,132.0,120.0,138.0,130.0,120.0,140.0,170.0,100.0,105.0,110.0,125.0,120.0,130.0,150.0,98.0,120.0,140.0,120.0,150.0,120.0,112.0,130.0,150.0,120.0,130.0,130.0,130.0,130.0,120.0,130.0,120.0,140.0,145.0,110.0,120.0,120.0,120.0,130.0,190.0,120.0,160.0,110.0,130.0,130.0,140.0,130.0,130.0,140.0,110.0,125.0,130.0,120.0,120.0,125.0,112.0,115.0,120.0,120.0,150.0,120.0,160.0,140.0,100.0,120.0,120.0,120.0,120.0,150.0,150.0,142.0,120.0,120.0,130.0,150.0,130.0,180.0,132.0,140.0,135.0,120.0,140.0,130.0,140.0,120.0,150.0,110.0,110.0,180.0,140.0,130.0,110.0,160.0,140.0,132.13240418118468,120.0,120.0,120.0,108.0,120.0,150.0,100.0,130.0,140.0,110.0,110.0,110.0,124.0,130.0,100.0,140.0,120.0,140.0,110.0,120.0,120.0,140.0,170.0,140.0,150.0,160.0,110.0,130.0,150.0,125.0,130.0,130.0,120.0,140.0,125.0,130.0,120.0,140.0,160.0,140.0,113.0,140.0,120.0,120.0,140.0,120.0,124.0,130.0,140.0,120.0,120.0,120.0,130.0,140.0,150.0,160.0,120.0,110.0,120.0,120.0,160.0,160.0,120.0,150.0,150.0,110.0,122.0,130.0,120.0,140.0,145.0,110.0,120.0,120.0,140.0,130.0,130.0,130.0,130.0,120.0,130.0,180.0,140.0,130.0,130.0,140.0,135.0,130.0,140.0,130.0,180.0,140.0,120.0,130.0,125.0,160.0,140.0,100.0,110.0,130.0,80.0,140.0,120.0,155.0,160.0,130.0,110.0,120.0,180.0,126.0,120.0,126.0,152.0,132.13240418118468,120.0,154.0,104.0,128.0,134.0,132.13240418118468,124.0,132.13240418118468,132.13240418118468,110.0,132.13240418118468,132.0,132.13240418118468,106.0,132.13240418118468,132.13240418118468,130.0,130.0,150.0,132.13240418118468,132.13240418118468,110.0,140.0,132.13240418118468,132.13240418118468,120.0,155.0,160.0,132.13240418118468,132.13240418118468,140.0,150.0,132.13240418118468,118.0,132.13240418118468,100.0,132.13240418118468,130.0,134.0,114.0,132.13240418118468,132.13240418118468],\"type\":\"box\"},{\"boxmean\":true,\"marker\":{\"color\":\"red\"},\"name\":\"Heart Disease\",\"y\":[160.0,120.0,140.0,130.0,140.0,130.0,110.0,120.0,132.0,130.0,110.0,117.0,140.0,120.0,150.0,132.0,150.0,130.0,112.0,150.0,112.0,130.0,124.0,140.0,110.0,130.0,128.0,120.0,145.0,140.0,170.0,150.0,125.0,120.0,110.0,110.0,125.0,150.0,180.0,160.0,128.0,110.0,150.0,120.0,140.0,128.0,120.0,118.0,145.0,125.0,132.0,130.0,130.0,135.0,130.0,150.0,140.0,138.0,200.0,110.0,145.0,120.0,120.0,170.0,125.0,108.0,165.0,160.0,120.0,130.0,140.0,125.0,140.0,125.0,126.0,160.0,174.0,145.0,152.0,132.0,124.0,134.0,158.0,160.0,192.0,140.0,140.0,132.0,138.0,100.0,160.0,142.0,128.0,144.0,150.0,120.0,178.0,112.0,123.0,108.0,110.0,112.0,180.0,118.0,122.0,130.0,120.0,134.0,120.0,100.0,110.0,125.0,146.0,124.0,136.0,138.0,136.0,128.0,126.0,152.0,140.0,140.0,134.0,154.0,110.0,128.0,148.0,114.0,170.0,152.0,120.0,140.0,124.0,164.0,140.0,110.0,144.0,130.0,130.0,120.0,100.0,140.0,110.0,120.0,140.0,110.0,120.0,92.0,120.0,110.0,120.0,150.0,110.0,118.0,120.0,140.0,150.0,106.0,120.0,160.0,160.0,115.0,130.0,140.0,145.0,160.0,130.0,125.0,125.0,140.0,140.0,130.0,130.0,100.0,150.0,140.0,118.0,110.0,110.0,150.0,120.0,130.0,120.0,130.0,122.0,160.0,160.0,160.0,130.0,120.0,170.0,120.0,120.0,130.0,130.0,140.0,200.0,140.0,150.0,150.0,160.0,130.0,130.0,120.0,150.0,130.0,140.0,135.0,138.0,130.0,140.0,135.0,112.0,130.0,140.0,160.0,145.0,180.0,140.0,140.0,160.0,145.0,120.0,150.0,170.0,136.0,130.0,140.0,170.0,140.0,120.0,140.0,135.0,120.0,160.0,128.0,150.0,140.0,140.0,140.0,160.0,130.0,155.0,180.0,130.0,95.0,115.0,132.13240418118468,110.0,105.0,110.0,115.0,135.0,150.0,95.0,125.0,105.0,145.0,100.0,115.0,140.0,100.0,115.0,110.0,155.0,110.0,160.0,115.0,160.0,115.0,120.0,145.0,120.0,110.0,120.0,130.0,130.0,140.0,95.0,130.0,135.0,165.0,95.0,120.0,105.0,160.0,120.0,125.0,130.0,120.0,130.0,180.0,115.0,120.0,140.0,125.0,155.0,115.0,120.0,120.0,125.0,140.0,105.0,110.0,140.0,140.0,160.0,95.0,115.0,130.0,170.0,125.0,110.0,120.0,125.0,135.0,115.0,125.0,130.0,135.0,160.0,160.0,200.0,105.0,110.0,125.0,130.0,130.0,150.0,150.0,160.0,140.0,120.0,120.0,160.0,115.0,115.0,150.0,100.0,140.0,150.0,150.0,185.0,200.0,95.0,110.0,115.0,145.0,160.0,155.0,150.0,145.0,135.0,145.0,135.0,132.13240418118468,115.0,140.0,160.0,145.0,140.0,132.0,142.0,150.0,120.0,160.0,140.0,110.0,132.13240418118468,128.0,170.0,110.0,116.0,120.0,130.0,128.0,130.0,132.13240418118468,130.0,120.0,132.13240418118468,132.13240418118468,124.0,160.0,0.0,122.0,144.0,132.13240418118468,132.13240418118468,120.0,125.0,132.13240418118468,132.13240418118468,136.0,122.0,132.13240418118468,120.0,152.0,126.0,138.0,154.0,132.13240418118468,178.0,110.0,130.0,170.0,126.0,140.0,142.0,120.0,132.13240418118468,132.13240418118468,140.0,136.0,120.0,170.0,130.0,132.13240418118468,142.0,142.0,146.0,160.0,135.0,136.0,130.0,140.0,158.0,132.13240418118468,136.0,120.0,110.0,160.0,112.0,122.0,150.0,150.0,102.0,96.0,120.0,144.0,124.0,132.13240418118468,132.13240418118468,132.13240418118468,132.13240418118468,132.13240418118468,116.0,110.0,125.0,132.13240418118468,132.13240418118468,150.0,130.0,132.13240418118468,104.0,138.0,170.0,132.0,142.0,112.0,172.0,132.13240418118468,132.13240418118468,150.0,132.13240418118468,132.13240418118468,134.0,132.13240418118468,144.0,132.13240418118468,130.0,110.0,158.0,128.0,132.13240418118468,150.0,160.0,132.13240418118468,132.13240418118468,132.13240418118468,132.13240418118468,156.0,132.13240418118468,132.13240418118468,140.0,122.0,132.13240418118468,180.0,124.0,140.0,140.0,190.0,130.0,160.0,130.0,122.0,120.0,130.0,132.13240418118468,120.0,150.0,155.0,160.0,144.0,158.0,134.0,127.0,122.0,120.0],\"type\":\"box\"}],                        {\"template\":{\"data\":{\"histogram2dcontour\":[{\"type\":\"histogram2dcontour\",\"colorbar\":{\"outlinewidth\":0,\"ticks\":\"\"},\"colorscale\":[[0.0,\"#0d0887\"],[0.1111111111111111,\"#46039f\"],[0.2222222222222222,\"#7201a8\"],[0.3333333333333333,\"#9c179e\"],[0.4444444444444444,\"#bd3786\"],[0.5555555555555556,\"#d8576b\"],[0.6666666666666666,\"#ed7953\"],[0.7777777777777778,\"#fb9f3a\"],[0.8888888888888888,\"#fdca26\"],[1.0,\"#f0f921\"]]}],\"choropleth\":[{\"type\":\"choropleth\",\"colorbar\":{\"outlinewidth\":0,\"ticks\":\"\"}}],\"histogram2d\":[{\"type\":\"histogram2d\",\"colorbar\":{\"outlinewidth\":0,\"ticks\":\"\"},\"colorscale\":[[0.0,\"#0d0887\"],[0.1111111111111111,\"#46039f\"],[0.2222222222222222,\"#7201a8\"],[0.3333333333333333,\"#9c179e\"],[0.4444444444444444,\"#bd3786\"],[0.5555555555555556,\"#d8576b\"],[0.6666666666666666,\"#ed7953\"],[0.7777777777777778,\"#fb9f3a\"],[0.8888888888888888,\"#fdca26\"],[1.0,\"#f0f921\"]]}],\"heatmap\":[{\"type\":\"heatmap\",\"colorbar\":{\"outlinewidth\":0,\"ticks\":\"\"},\"colorscale\":[[0.0,\"#0d0887\"],[0.1111111111111111,\"#46039f\"],[0.2222222222222222,\"#7201a8\"],[0.3333333333333333,\"#9c179e\"],[0.4444444444444444,\"#bd3786\"],[0.5555555555555556,\"#d8576b\"],[0.6666666666666666,\"#ed7953\"],[0.7777777777777778,\"#fb9f3a\"],[0.8888888888888888,\"#fdca26\"],[1.0,\"#f0f921\"]]}],\"heatmapgl\":[{\"type\":\"heatmapgl\",\"colorbar\":{\"outlinewidth\":0,\"ticks\":\"\"},\"colorscale\":[[0.0,\"#0d0887\"],[0.1111111111111111,\"#46039f\"],[0.2222222222222222,\"#7201a8\"],[0.3333333333333333,\"#9c179e\"],[0.4444444444444444,\"#bd3786\"],[0.5555555555555556,\"#d8576b\"],[0.6666666666666666,\"#ed7953\"],[0.7777777777777778,\"#fb9f3a\"],[0.8888888888888888,\"#fdca26\"],[1.0,\"#f0f921\"]]}],\"contourcarpet\":[{\"type\":\"contourcarpet\",\"colorbar\":{\"outlinewidth\":0,\"ticks\":\"\"}}],\"contour\":[{\"type\":\"contour\",\"colorbar\":{\"outlinewidth\":0,\"ticks\":\"\"},\"colorscale\":[[0.0,\"#0d0887\"],[0.1111111111111111,\"#46039f\"],[0.2222222222222222,\"#7201a8\"],[0.3333333333333333,\"#9c179e\"],[0.4444444444444444,\"#bd3786\"],[0.5555555555555556,\"#d8576b\"],[0.6666666666666666,\"#ed7953\"],[0.7777777777777778,\"#fb9f3a\"],[0.8888888888888888,\"#fdca26\"],[1.0,\"#f0f921\"]]}],\"surface\":[{\"type\":\"surface\",\"colorbar\":{\"outlinewidth\":0,\"ticks\":\"\"},\"colorscale\":[[0.0,\"#0d0887\"],[0.1111111111111111,\"#46039f\"],[0.2222222222222222,\"#7201a8\"],[0.3333333333333333,\"#9c179e\"],[0.4444444444444444,\"#bd3786\"],[0.5555555555555556,\"#d8576b\"],[0.6666666666666666,\"#ed7953\"],[0.7777777777777778,\"#fb9f3a\"],[0.8888888888888888,\"#fdca26\"],[1.0,\"#f0f921\"]]}],\"mesh3d\":[{\"type\":\"mesh3d\",\"colorbar\":{\"outlinewidth\":0,\"ticks\":\"\"}}],\"scatter\":[{\"fillpattern\":{\"fillmode\":\"overlay\",\"size\":10,\"solidity\":0.2},\"type\":\"scatter\"}],\"parcoords\":[{\"type\":\"parcoords\",\"line\":{\"colorbar\":{\"outlinewidth\":0,\"ticks\":\"\"}}}],\"scatterpolargl\":[{\"type\":\"scatterpolargl\",\"marker\":{\"colorbar\":{\"outlinewidth\":0,\"ticks\":\"\"}}}],\"bar\":[{\"error_x\":{\"color\":\"#2a3f5f\"},\"error_y\":{\"color\":\"#2a3f5f\"},\"marker\":{\"line\":{\"color\":\"#E5ECF6\",\"width\":0.5},\"pattern\":{\"fillmode\":\"overlay\",\"size\":10,\"solidity\":0.2}},\"type\":\"bar\"}],\"scattergeo\":[{\"type\":\"scattergeo\",\"marker\":{\"colorbar\":{\"outlinewidth\":0,\"ticks\":\"\"}}}],\"scatterpolar\":[{\"type\":\"scatterpolar\",\"marker\":{\"colorbar\":{\"outlinewidth\":0,\"ticks\":\"\"}}}],\"histogram\":[{\"marker\":{\"pattern\":{\"fillmode\":\"overlay\",\"size\":10,\"solidity\":0.2}},\"type\":\"histogram\"}],\"scattergl\":[{\"type\":\"scattergl\",\"marker\":{\"colorbar\":{\"outlinewidth\":0,\"ticks\":\"\"}}}],\"scatter3d\":[{\"type\":\"scatter3d\",\"line\":{\"colorbar\":{\"outlinewidth\":0,\"ticks\":\"\"}},\"marker\":{\"colorbar\":{\"outlinewidth\":0,\"ticks\":\"\"}}}],\"scattermapbox\":[{\"type\":\"scattermapbox\",\"marker\":{\"colorbar\":{\"outlinewidth\":0,\"ticks\":\"\"}}}],\"scatterternary\":[{\"type\":\"scatterternary\",\"marker\":{\"colorbar\":{\"outlinewidth\":0,\"ticks\":\"\"}}}],\"scattercarpet\":[{\"type\":\"scattercarpet\",\"marker\":{\"colorbar\":{\"outlinewidth\":0,\"ticks\":\"\"}}}],\"carpet\":[{\"aaxis\":{\"endlinecolor\":\"#2a3f5f\",\"gridcolor\":\"white\",\"linecolor\":\"white\",\"minorgridcolor\":\"white\",\"startlinecolor\":\"#2a3f5f\"},\"baxis\":{\"endlinecolor\":\"#2a3f5f\",\"gridcolor\":\"white\",\"linecolor\":\"white\",\"minorgridcolor\":\"white\",\"startlinecolor\":\"#2a3f5f\"},\"type\":\"carpet\"}],\"table\":[{\"cells\":{\"fill\":{\"color\":\"#EBF0F8\"},\"line\":{\"color\":\"white\"}},\"header\":{\"fill\":{\"color\":\"#C8D4E3\"},\"line\":{\"color\":\"white\"}},\"type\":\"table\"}],\"barpolar\":[{\"marker\":{\"line\":{\"color\":\"#E5ECF6\",\"width\":0.5},\"pattern\":{\"fillmode\":\"overlay\",\"size\":10,\"solidity\":0.2}},\"type\":\"barpolar\"}],\"pie\":[{\"automargin\":true,\"type\":\"pie\"}]},\"layout\":{\"autotypenumbers\":\"strict\",\"colorway\":[\"#636efa\",\"#EF553B\",\"#00cc96\",\"#ab63fa\",\"#FFA15A\",\"#19d3f3\",\"#FF6692\",\"#B6E880\",\"#FF97FF\",\"#FECB52\"],\"font\":{\"color\":\"#2a3f5f\"},\"hovermode\":\"closest\",\"hoverlabel\":{\"align\":\"left\"},\"paper_bgcolor\":\"white\",\"plot_bgcolor\":\"#E5ECF6\",\"polar\":{\"bgcolor\":\"#E5ECF6\",\"angularaxis\":{\"gridcolor\":\"white\",\"linecolor\":\"white\",\"ticks\":\"\"},\"radialaxis\":{\"gridcolor\":\"white\",\"linecolor\":\"white\",\"ticks\":\"\"}},\"ternary\":{\"bgcolor\":\"#E5ECF6\",\"aaxis\":{\"gridcolor\":\"white\",\"linecolor\":\"white\",\"ticks\":\"\"},\"baxis\":{\"gridcolor\":\"white\",\"linecolor\":\"white\",\"ticks\":\"\"},\"caxis\":{\"gridcolor\":\"white\",\"linecolor\":\"white\",\"ticks\":\"\"}},\"coloraxis\":{\"colorbar\":{\"outlinewidth\":0,\"ticks\":\"\"}},\"colorscale\":{\"sequential\":[[0.0,\"#0d0887\"],[0.1111111111111111,\"#46039f\"],[0.2222222222222222,\"#7201a8\"],[0.3333333333333333,\"#9c179e\"],[0.4444444444444444,\"#bd3786\"],[0.5555555555555556,\"#d8576b\"],[0.6666666666666666,\"#ed7953\"],[0.7777777777777778,\"#fb9f3a\"],[0.8888888888888888,\"#fdca26\"],[1.0,\"#f0f921\"]],\"sequentialminus\":[[0.0,\"#0d0887\"],[0.1111111111111111,\"#46039f\"],[0.2222222222222222,\"#7201a8\"],[0.3333333333333333,\"#9c179e\"],[0.4444444444444444,\"#bd3786\"],[0.5555555555555556,\"#d8576b\"],[0.6666666666666666,\"#ed7953\"],[0.7777777777777778,\"#fb9f3a\"],[0.8888888888888888,\"#fdca26\"],[1.0,\"#f0f921\"]],\"diverging\":[[0,\"#8e0152\"],[0.1,\"#c51b7d\"],[0.2,\"#de77ae\"],[0.3,\"#f1b6da\"],[0.4,\"#fde0ef\"],[0.5,\"#f7f7f7\"],[0.6,\"#e6f5d0\"],[0.7,\"#b8e186\"],[0.8,\"#7fbc41\"],[0.9,\"#4d9221\"],[1,\"#276419\"]]},\"xaxis\":{\"gridcolor\":\"white\",\"linecolor\":\"white\",\"ticks\":\"\",\"title\":{\"standoff\":15},\"zerolinecolor\":\"white\",\"automargin\":true,\"zerolinewidth\":2},\"yaxis\":{\"gridcolor\":\"white\",\"linecolor\":\"white\",\"ticks\":\"\",\"title\":{\"standoff\":15},\"zerolinecolor\":\"white\",\"automargin\":true,\"zerolinewidth\":2},\"scene\":{\"xaxis\":{\"backgroundcolor\":\"#E5ECF6\",\"gridcolor\":\"white\",\"linecolor\":\"white\",\"showbackground\":true,\"ticks\":\"\",\"zerolinecolor\":\"white\",\"gridwidth\":2},\"yaxis\":{\"backgroundcolor\":\"#E5ECF6\",\"gridcolor\":\"white\",\"linecolor\":\"white\",\"showbackground\":true,\"ticks\":\"\",\"zerolinecolor\":\"white\",\"gridwidth\":2},\"zaxis\":{\"backgroundcolor\":\"#E5ECF6\",\"gridcolor\":\"white\",\"linecolor\":\"white\",\"showbackground\":true,\"ticks\":\"\",\"zerolinecolor\":\"white\",\"gridwidth\":2}},\"shapedefaults\":{\"line\":{\"color\":\"#2a3f5f\"}},\"annotationdefaults\":{\"arrowcolor\":\"#2a3f5f\",\"arrowhead\":0,\"arrowwidth\":1},\"geo\":{\"bgcolor\":\"white\",\"landcolor\":\"#E5ECF6\",\"subunitcolor\":\"white\",\"showland\":true,\"showlakes\":true,\"lakecolor\":\"white\"},\"title\":{\"x\":0.05},\"mapbox\":{\"style\":\"light\"}}},\"title\":{\"text\":\"BP Distribution (at rest)\",\"x\":0.5},\"yaxis\":{\"title\":{\"text\":\"Blood Pressure (mm\\u002fHg)\"},\"showline\":true,\"linewidth\":2,\"linecolor\":\"black\",\"mirror\":true},\"xaxis\":{\"showline\":true,\"linewidth\":2,\"linecolor\":\"black\",\"mirror\":true}},                        {\"responsive\": true}                    ).then(function(){\n",
              "                            \n",
              "var gd = document.getElementById('26d9979a-2503-404a-8da5-1a73add699ba');\n",
              "var x = new MutationObserver(function (mutations, observer) {{\n",
              "        var display = window.getComputedStyle(gd).display;\n",
              "        if (!display || display === 'none') {{\n",
              "            console.log([gd, 'removed!']);\n",
              "            Plotly.purge(gd);\n",
              "            observer.disconnect();\n",
              "        }}\n",
              "}});\n",
              "\n",
              "// Listen for the removal of the full notebook cells\n",
              "var notebookContainer = gd.closest('#notebook-container');\n",
              "if (notebookContainer) {{\n",
              "    x.observe(notebookContainer, {childList: true});\n",
              "}}\n",
              "\n",
              "// Listen for the clearing of the current output cell\n",
              "var outputEl = gd.closest('.output');\n",
              "if (outputEl) {{\n",
              "    x.observe(outputEl, {childList: true});\n",
              "}}\n",
              "\n",
              "                        })                };                            </script>        </div>\n",
              "</body>\n",
              "</html>"
            ]
          },
          "metadata": {}
        }
      ]
    },
    {
      "cell_type": "markdown",
      "source": [
        "### Cholesterol Level"
      ],
      "metadata": {
        "id": "Mq8qSregw2Ch"
      }
    },
    {
      "cell_type": "code",
      "source": [
        "fig = go.Figure()\n",
        "fig.add_trace(go.Violin(y=data['chol'].values , name='All Patient', marker_color = 'green'))\n",
        "fig.add_trace(go.Violin(y=data[data['num']== 0]['chol'].values, name ='No Disease', marker_color = 'blue'))\n",
        "fig.add_trace(go.Violin(y=data[data['num'] ==4]['chol'].values, name ='Heart Disease', marker_color = 'red'))\n",
        "fig.update_layout(title = 'Cholesterol Level Distribution', yaxis_title = 'Cholesterol Level', title_x = 0.5)\n",
        "fig.update_xaxes(showline=True, linewidth=2, linecolor='black', mirror=True)\n",
        "fig.update_yaxes(showline=True, linewidth=2, linecolor='black', mirror=True)\n",
        "fig.show()"
      ],
      "metadata": {
        "colab": {
          "base_uri": "https://localhost:8080/",
          "height": 542
        },
        "id": "Vf9PU6fow7DF",
        "outputId": "88aac570-1b2c-4dee-93bf-9d5c23ea9d15"
      },
      "execution_count": 25,
      "outputs": [
        {
          "output_type": "display_data",
          "data": {
            "text/html": [
              "<html>\n",
              "<head><meta charset=\"utf-8\" /></head>\n",
              "<body>\n",
              "    <div>            <script src=\"https://cdnjs.cloudflare.com/ajax/libs/mathjax/2.7.5/MathJax.js?config=TeX-AMS-MML_SVG\"></script><script type=\"text/javascript\">if (window.MathJax && window.MathJax.Hub && window.MathJax.Hub.Config) {window.MathJax.Hub.Config({SVG: {font: \"STIX-Web\"}});}</script>                <script type=\"text/javascript\">window.PlotlyConfig = {MathJaxConfig: 'local'};</script>\n",
              "        <script charset=\"utf-8\" src=\"https://cdn.plot.ly/plotly-2.24.1.min.js\"></script>                <div id=\"a96c7d6c-2b5a-4f58-bac0-953afcdc7eb1\" class=\"plotly-graph-div\" style=\"height:525px; width:100%;\"></div>            <script type=\"text/javascript\">                                    window.PLOTLYENV=window.PLOTLYENV || {};                                    if (document.getElementById(\"a96c7d6c-2b5a-4f58-bac0-953afcdc7eb1\")) {                    Plotly.newPlot(                        \"a96c7d6c-2b5a-4f58-bac0-953afcdc7eb1\",                        [{\"marker\":{\"color\":\"green\"},\"name\":\"All Patient\",\"y\":[233.0,286.0,229.0,250.0,204.0,236.0,268.0,354.0,254.0,203.0,192.0,294.0,256.0,263.0,199.0,168.0,229.0,239.0,275.0,266.0,211.0,283.0,284.0,224.0,206.0,219.0,340.0,226.0,247.0,167.0,239.0,230.0,335.0,234.0,233.0,226.0,177.0,276.0,353.0,243.0,225.0,199.0,302.0,212.0,330.0,230.0,175.0,243.0,417.0,197.0,198.0,177.0,290.0,219.0,253.0,266.0,233.0,172.0,273.0,213.0,305.0,177.0,216.0,304.0,188.0,282.0,185.0,232.0,326.0,231.0,269.0,254.0,267.0,248.0,197.0,360.0,258.0,308.0,245.0,270.0,208.0,264.0,321.0,274.0,325.0,235.0,257.0,216.0,234.0,256.0,302.0,164.0,231.0,141.0,252.0,255.0,239.0,258.0,201.0,222.0,260.0,182.0,303.0,265.0,188.0,309.0,177.0,229.0,260.0,219.0,307.0,249.0,186.0,341.0,263.0,203.0,211.0,183.0,330.0,254.0,256.0,407.0,222.0,217.0,282.0,234.0,288.0,239.0,220.0,209.0,258.0,227.0,204.0,261.0,213.0,250.0,174.0,281.0,198.0,245.0,221.0,288.0,205.0,309.0,240.0,243.0,289.0,250.0,308.0,318.0,298.0,265.0,564.0,289.0,246.0,322.0,299.0,300.0,293.0,277.0,197.0,304.0,214.0,248.0,255.0,207.0,223.0,288.0,282.0,160.0,269.0,226.0,249.0,394.0,212.0,274.0,233.0,184.0,315.0,246.0,274.0,409.0,244.0,270.0,305.0,195.0,240.0,246.0,283.0,254.0,196.0,298.0,247.0,294.0,211.0,299.0,234.0,236.0,244.0,273.0,254.0,325.0,126.0,313.0,211.0,309.0,259.0,200.0,262.0,244.0,215.0,231.0,214.0,228.0,230.0,193.0,204.0,243.0,303.0,271.0,268.0,267.0,199.0,282.0,269.0,210.0,204.0,277.0,206.0,212.0,196.0,327.0,149.0,269.0,201.0,286.0,283.0,249.0,271.0,295.0,235.0,306.0,269.0,234.0,178.0,237.0,234.0,275.0,212.0,208.0,201.0,218.0,263.0,295.0,303.0,209.0,223.0,197.0,245.0,261.0,242.0,319.0,240.0,226.0,166.0,315.0,204.0,218.0,223.0,180.0,207.0,228.0,311.0,149.0,204.0,227.0,278.0,220.0,232.0,197.0,335.0,253.0,205.0,192.0,203.0,318.0,225.0,220.0,221.0,240.0,212.0,342.0,169.0,187.0,197.0,157.0,176.0,241.0,264.0,193.0,131.0,236.0,175.0,132.0,243.0,199.13033707865168,237.0,219.0,198.0,225.0,254.0,298.0,161.0,214.0,220.0,160.0,167.0,308.0,264.0,166.0,340.0,209.0,160.0,260.0,211.0,173.0,283.0,194.0,223.0,315.0,275.0,297.0,292.0,182.0,199.13033707865168,200.0,204.0,199.13033707865168,241.0,339.0,147.0,273.0,307.0,275.0,289.0,215.0,281.0,199.13033707865168,250.0,184.0,245.0,291.0,295.0,269.0,250.0,211.0,196.0,198.0,268.0,228.0,147.0,358.0,223.0,201.0,215.0,249.0,266.0,186.0,199.13033707865168,207.0,218.0,184.0,215.0,412.0,237.0,199.13033707865168,297.0,224.0,199.13033707865168,225.0,224.0,238.0,275.0,230.0,163.0,238.0,240.0,280.0,257.0,199.13033707865168,249.0,263.0,276.0,308.0,199.13033707865168,284.0,195.0,163.0,254.0,227.0,199.13033707865168,245.0,238.0,211.0,199.13033707865168,199.13033707865168,201.0,207.0,253.0,187.0,297.0,199.13033707865168,202.0,328.0,168.0,216.0,209.0,129.0,215.0,194.0,190.0,220.0,200.0,188.0,224.0,179.0,210.0,199.13033707865168,272.0,180.0,284.0,100.0,196.0,259.0,468.0,216.0,274.0,199.13033707865168,320.0,195.0,260.0,182.0,243.0,221.0,230.0,273.0,253.0,309.0,230.0,312.0,171.0,208.0,238.0,246.0,195.0,305.0,217.0,199.13033707865168,365.0,344.0,320.0,394.0,256.0,196.0,326.0,277.0,220.0,270.0,229.0,219.0,184.0,199.13033707865168,276.0,85.0,308.0,347.0,260.0,230.0,251.0,179.0,222.0,188.0,287.0,318.0,213.0,199.13033707865168,246.0,294.0,292.0,193.0,271.0,270.0,246.0,156.0,257.0,267.0,207.0,196.0,282.0,117.0,466.0,289.0,237.0,247.0,202.0,186.0,277.0,193.0,226.0,263.0,260.0,268.0,180.0,265.0,206.0,288.0,264.0,303.0,225.0,216.0,224.0,201.0,265.0,213.0,338.0,248.0,223.0,306.0,529.0,199.13033707865168,280.0,392.0,291.0,219.0,231.0,222.0,275.0,193.0,329.0,355.0,233.0,182.0,199.13033707865168,246.0,237.0,242.0,603.0,199.13033707865168,198.0,268.0,213.0,255.0,211.0,263.0,172.0,175.0,288.0,290.0,272.0,248.0,214.0,341.0,234.0,160.0,342.0,298.0,404.0,246.0,518.0,285.0,216.0,295.0,292.0,248.0,279.0,230.0,388.0,164.0,199.13033707865168,264.0,263.0,199.13033707865168,336.0,288.0,491.0,205.0,291.0,212.0,222.0,231.0,341.0,266.0,331.0,294.0,342.0,393.0,275.0,0.0,0.0,0.0,0.0,0.0,0.0,0.0,0.0,0.0,0.0,0.0,0.0,0.0,0.0,0.0,0.0,0.0,0.0,0.0,0.0,0.0,0.0,0.0,0.0,0.0,0.0,0.0,0.0,0.0,0.0,0.0,0.0,0.0,0.0,0.0,0.0,0.0,0.0,0.0,0.0,0.0,0.0,0.0,0.0,0.0,0.0,0.0,0.0,0.0,0.0,0.0,0.0,0.0,0.0,0.0,0.0,0.0,0.0,0.0,0.0,0.0,0.0,0.0,0.0,0.0,0.0,0.0,0.0,0.0,0.0,0.0,0.0,0.0,0.0,0.0,0.0,0.0,0.0,0.0,0.0,0.0,0.0,0.0,0.0,0.0,0.0,0.0,0.0,0.0,0.0,0.0,0.0,0.0,0.0,0.0,0.0,0.0,0.0,0.0,0.0,0.0,0.0,0.0,0.0,0.0,0.0,0.0,0.0,0.0,0.0,0.0,0.0,0.0,0.0,0.0,0.0,0.0,0.0,0.0,0.0,0.0,0.0,0.0,260.0,209.0,218.0,228.0,213.0,0.0,236.0,0.0,0.0,267.0,166.0,0.0,0.0,0.0,0.0,220.0,177.0,236.0,0.0,0.0,0.0,0.0,0.0,0.0,0.0,0.0,0.0,186.0,100.0,228.0,0.0,171.0,230.0,0.0,0.0,0.0,281.0,0.0,203.0,0.0,0.0,0.0,0.0,0.0,277.0,0.0,233.0,0.0,0.0,240.0,0.0,0.0,153.0,224.0,0.0,0.0,0.0,316.0,0.0,0.0,218.0,0.0,311.0,0.0,0.0,0.0,270.0,0.0,0.0,217.0,214.0,214.0,252.0,220.0,214.0,203.0,0.0,339.0,216.0,276.0,458.0,241.0,384.0,297.0,248.0,308.0,208.0,227.0,210.0,245.0,225.0,240.0,0.0,198.0,195.0,267.0,161.0,258.0,0.0,0.0,195.0,235.0,0.0,305.0,223.0,282.0,349.0,199.13033707865168,160.0,236.0,312.0,283.0,142.0,211.0,218.0,306.0,186.0,252.0,222.0,0.0,0.0,258.0,202.0,197.0,204.0,199.13033707865168,274.0,192.0,298.0,272.0,220.0,200.0,261.0,181.0,260.0,220.0,221.0,216.0,175.0,219.0,310.0,208.0,232.0,273.0,203.0,182.0,274.0,204.0,270.0,292.0,171.0,221.0,289.0,217.0,223.0,199.13033707865168,193.0,199.13033707865168,210.0,282.0,170.0,369.0,173.0,289.0,199.13033707865168,199.13033707865168,216.0,271.0,244.0,285.0,243.0,240.0,219.0,237.0,165.0,213.0,287.0,258.0,256.0,186.0,264.0,199.13033707865168,226.0,203.0,207.0,284.0,337.0,219.0,310.0,254.0,258.0,254.0,300.0,170.0,310.0,333.0,139.0,223.0,385.0,254.0],\"type\":\"violin\"},{\"marker\":{\"color\":\"blue\"},\"name\":\"No Disease\",\"y\":[233.0,250.0,204.0,236.0,354.0,192.0,294.0,263.0,199.0,168.0,239.0,275.0,266.0,211.0,283.0,219.0,340.0,226.0,247.0,239.0,234.0,233.0,226.0,243.0,199.0,302.0,212.0,175.0,417.0,197.0,198.0,177.0,219.0,273.0,213.0,177.0,304.0,232.0,269.0,360.0,308.0,245.0,208.0,264.0,321.0,325.0,235.0,257.0,216.0,234.0,256.0,302.0,231.0,141.0,252.0,201.0,222.0,260.0,182.0,303.0,265.0,309.0,186.0,203.0,211.0,183.0,222.0,234.0,220.0,209.0,258.0,227.0,204.0,261.0,213.0,250.0,245.0,221.0,205.0,240.0,250.0,308.0,318.0,298.0,265.0,564.0,277.0,197.0,214.0,248.0,255.0,207.0,223.0,288.0,160.0,226.0,394.0,233.0,315.0,246.0,244.0,270.0,195.0,240.0,196.0,211.0,234.0,236.0,244.0,254.0,325.0,126.0,313.0,211.0,262.0,215.0,214.0,193.0,204.0,243.0,303.0,271.0,268.0,267.0,199.0,210.0,204.0,277.0,196.0,269.0,201.0,271.0,295.0,235.0,306.0,269.0,178.0,208.0,201.0,263.0,295.0,303.0,209.0,223.0,197.0,245.0,242.0,240.0,226.0,180.0,228.0,149.0,227.0,278.0,220.0,197.0,253.0,192.0,220.0,221.0,240.0,342.0,157.0,175.0,132.0,243.0,199.13033707865168,237.0,219.0,198.0,225.0,254.0,298.0,161.0,214.0,220.0,160.0,167.0,308.0,264.0,166.0,340.0,209.0,160.0,260.0,211.0,173.0,283.0,194.0,223.0,315.0,275.0,297.0,292.0,182.0,199.13033707865168,200.0,204.0,199.13033707865168,241.0,339.0,147.0,273.0,307.0,275.0,289.0,215.0,281.0,199.13033707865168,250.0,184.0,245.0,291.0,295.0,269.0,250.0,211.0,196.0,198.0,268.0,228.0,147.0,358.0,223.0,201.0,215.0,249.0,266.0,186.0,199.13033707865168,207.0,218.0,184.0,215.0,412.0,237.0,199.13033707865168,297.0,224.0,199.13033707865168,225.0,224.0,238.0,275.0,230.0,163.0,238.0,240.0,280.0,257.0,199.13033707865168,249.0,263.0,276.0,308.0,199.13033707865168,284.0,195.0,163.0,254.0,227.0,199.13033707865168,245.0,238.0,211.0,199.13033707865168,199.13033707865168,201.0,207.0,253.0,187.0,297.0,199.13033707865168,202.0,328.0,168.0,216.0,209.0,129.0,215.0,194.0,190.0,220.0,200.0,188.0,224.0,179.0,210.0,199.13033707865168,272.0,180.0,284.0,100.0,196.0,259.0,468.0,216.0,274.0,199.13033707865168,320.0,195.0,260.0,182.0,243.0,221.0,230.0,273.0,253.0,309.0,230.0,312.0,171.0,208.0,238.0,246.0,195.0,305.0,217.0,199.13033707865168,365.0,344.0,320.0,394.0,256.0,196.0,326.0,277.0,220.0,270.0,229.0,219.0,184.0,199.13033707865168,276.0,85.0,308.0,347.0,260.0,230.0,251.0,179.0,222.0,188.0,287.0,318.0,213.0,199.13033707865168,246.0,294.0,292.0,193.0,271.0,0.0,0.0,0.0,0.0,0.0,0.0,0.0,0.0,209.0,213.0,0.0,0.0,166.0,220.0,0.0,0.0,0.0,0.0,0.0,0.0,0.0,240.0,0.0,224.0,0.0,218.0,214.0,252.0,458.0,227.0,240.0,195.0,161.0,0.0,223.0,160.0,236.0,283.0,197.0,298.0,272.0,181.0,220.0,175.0,310.0,203.0,182.0,274.0,171.0,271.0,240.0,165.0,213.0,199.13033707865168,207.0,254.0,258.0,139.0,385.0],\"type\":\"violin\"},{\"marker\":{\"color\":\"red\"},\"name\":\"Heart Disease\",\"y\":[206.0,225.0,230.0,243.0,407.0,174.0,289.0,289.0,304.0,212.0,231.0,166.0,318.0,0.0,0.0,0.0,0.0,0.0,177.0,277.0,0.0,248.0,199.13033707865168,208.0,273.0,170.0,287.0,254.0],\"type\":\"violin\"}],                        {\"template\":{\"data\":{\"histogram2dcontour\":[{\"type\":\"histogram2dcontour\",\"colorbar\":{\"outlinewidth\":0,\"ticks\":\"\"},\"colorscale\":[[0.0,\"#0d0887\"],[0.1111111111111111,\"#46039f\"],[0.2222222222222222,\"#7201a8\"],[0.3333333333333333,\"#9c179e\"],[0.4444444444444444,\"#bd3786\"],[0.5555555555555556,\"#d8576b\"],[0.6666666666666666,\"#ed7953\"],[0.7777777777777778,\"#fb9f3a\"],[0.8888888888888888,\"#fdca26\"],[1.0,\"#f0f921\"]]}],\"choropleth\":[{\"type\":\"choropleth\",\"colorbar\":{\"outlinewidth\":0,\"ticks\":\"\"}}],\"histogram2d\":[{\"type\":\"histogram2d\",\"colorbar\":{\"outlinewidth\":0,\"ticks\":\"\"},\"colorscale\":[[0.0,\"#0d0887\"],[0.1111111111111111,\"#46039f\"],[0.2222222222222222,\"#7201a8\"],[0.3333333333333333,\"#9c179e\"],[0.4444444444444444,\"#bd3786\"],[0.5555555555555556,\"#d8576b\"],[0.6666666666666666,\"#ed7953\"],[0.7777777777777778,\"#fb9f3a\"],[0.8888888888888888,\"#fdca26\"],[1.0,\"#f0f921\"]]}],\"heatmap\":[{\"type\":\"heatmap\",\"colorbar\":{\"outlinewidth\":0,\"ticks\":\"\"},\"colorscale\":[[0.0,\"#0d0887\"],[0.1111111111111111,\"#46039f\"],[0.2222222222222222,\"#7201a8\"],[0.3333333333333333,\"#9c179e\"],[0.4444444444444444,\"#bd3786\"],[0.5555555555555556,\"#d8576b\"],[0.6666666666666666,\"#ed7953\"],[0.7777777777777778,\"#fb9f3a\"],[0.8888888888888888,\"#fdca26\"],[1.0,\"#f0f921\"]]}],\"heatmapgl\":[{\"type\":\"heatmapgl\",\"colorbar\":{\"outlinewidth\":0,\"ticks\":\"\"},\"colorscale\":[[0.0,\"#0d0887\"],[0.1111111111111111,\"#46039f\"],[0.2222222222222222,\"#7201a8\"],[0.3333333333333333,\"#9c179e\"],[0.4444444444444444,\"#bd3786\"],[0.5555555555555556,\"#d8576b\"],[0.6666666666666666,\"#ed7953\"],[0.7777777777777778,\"#fb9f3a\"],[0.8888888888888888,\"#fdca26\"],[1.0,\"#f0f921\"]]}],\"contourcarpet\":[{\"type\":\"contourcarpet\",\"colorbar\":{\"outlinewidth\":0,\"ticks\":\"\"}}],\"contour\":[{\"type\":\"contour\",\"colorbar\":{\"outlinewidth\":0,\"ticks\":\"\"},\"colorscale\":[[0.0,\"#0d0887\"],[0.1111111111111111,\"#46039f\"],[0.2222222222222222,\"#7201a8\"],[0.3333333333333333,\"#9c179e\"],[0.4444444444444444,\"#bd3786\"],[0.5555555555555556,\"#d8576b\"],[0.6666666666666666,\"#ed7953\"],[0.7777777777777778,\"#fb9f3a\"],[0.8888888888888888,\"#fdca26\"],[1.0,\"#f0f921\"]]}],\"surface\":[{\"type\":\"surface\",\"colorbar\":{\"outlinewidth\":0,\"ticks\":\"\"},\"colorscale\":[[0.0,\"#0d0887\"],[0.1111111111111111,\"#46039f\"],[0.2222222222222222,\"#7201a8\"],[0.3333333333333333,\"#9c179e\"],[0.4444444444444444,\"#bd3786\"],[0.5555555555555556,\"#d8576b\"],[0.6666666666666666,\"#ed7953\"],[0.7777777777777778,\"#fb9f3a\"],[0.8888888888888888,\"#fdca26\"],[1.0,\"#f0f921\"]]}],\"mesh3d\":[{\"type\":\"mesh3d\",\"colorbar\":{\"outlinewidth\":0,\"ticks\":\"\"}}],\"scatter\":[{\"fillpattern\":{\"fillmode\":\"overlay\",\"size\":10,\"solidity\":0.2},\"type\":\"scatter\"}],\"parcoords\":[{\"type\":\"parcoords\",\"line\":{\"colorbar\":{\"outlinewidth\":0,\"ticks\":\"\"}}}],\"scatterpolargl\":[{\"type\":\"scatterpolargl\",\"marker\":{\"colorbar\":{\"outlinewidth\":0,\"ticks\":\"\"}}}],\"bar\":[{\"error_x\":{\"color\":\"#2a3f5f\"},\"error_y\":{\"color\":\"#2a3f5f\"},\"marker\":{\"line\":{\"color\":\"#E5ECF6\",\"width\":0.5},\"pattern\":{\"fillmode\":\"overlay\",\"size\":10,\"solidity\":0.2}},\"type\":\"bar\"}],\"scattergeo\":[{\"type\":\"scattergeo\",\"marker\":{\"colorbar\":{\"outlinewidth\":0,\"ticks\":\"\"}}}],\"scatterpolar\":[{\"type\":\"scatterpolar\",\"marker\":{\"colorbar\":{\"outlinewidth\":0,\"ticks\":\"\"}}}],\"histogram\":[{\"marker\":{\"pattern\":{\"fillmode\":\"overlay\",\"size\":10,\"solidity\":0.2}},\"type\":\"histogram\"}],\"scattergl\":[{\"type\":\"scattergl\",\"marker\":{\"colorbar\":{\"outlinewidth\":0,\"ticks\":\"\"}}}],\"scatter3d\":[{\"type\":\"scatter3d\",\"line\":{\"colorbar\":{\"outlinewidth\":0,\"ticks\":\"\"}},\"marker\":{\"colorbar\":{\"outlinewidth\":0,\"ticks\":\"\"}}}],\"scattermapbox\":[{\"type\":\"scattermapbox\",\"marker\":{\"colorbar\":{\"outlinewidth\":0,\"ticks\":\"\"}}}],\"scatterternary\":[{\"type\":\"scatterternary\",\"marker\":{\"colorbar\":{\"outlinewidth\":0,\"ticks\":\"\"}}}],\"scattercarpet\":[{\"type\":\"scattercarpet\",\"marker\":{\"colorbar\":{\"outlinewidth\":0,\"ticks\":\"\"}}}],\"carpet\":[{\"aaxis\":{\"endlinecolor\":\"#2a3f5f\",\"gridcolor\":\"white\",\"linecolor\":\"white\",\"minorgridcolor\":\"white\",\"startlinecolor\":\"#2a3f5f\"},\"baxis\":{\"endlinecolor\":\"#2a3f5f\",\"gridcolor\":\"white\",\"linecolor\":\"white\",\"minorgridcolor\":\"white\",\"startlinecolor\":\"#2a3f5f\"},\"type\":\"carpet\"}],\"table\":[{\"cells\":{\"fill\":{\"color\":\"#EBF0F8\"},\"line\":{\"color\":\"white\"}},\"header\":{\"fill\":{\"color\":\"#C8D4E3\"},\"line\":{\"color\":\"white\"}},\"type\":\"table\"}],\"barpolar\":[{\"marker\":{\"line\":{\"color\":\"#E5ECF6\",\"width\":0.5},\"pattern\":{\"fillmode\":\"overlay\",\"size\":10,\"solidity\":0.2}},\"type\":\"barpolar\"}],\"pie\":[{\"automargin\":true,\"type\":\"pie\"}]},\"layout\":{\"autotypenumbers\":\"strict\",\"colorway\":[\"#636efa\",\"#EF553B\",\"#00cc96\",\"#ab63fa\",\"#FFA15A\",\"#19d3f3\",\"#FF6692\",\"#B6E880\",\"#FF97FF\",\"#FECB52\"],\"font\":{\"color\":\"#2a3f5f\"},\"hovermode\":\"closest\",\"hoverlabel\":{\"align\":\"left\"},\"paper_bgcolor\":\"white\",\"plot_bgcolor\":\"#E5ECF6\",\"polar\":{\"bgcolor\":\"#E5ECF6\",\"angularaxis\":{\"gridcolor\":\"white\",\"linecolor\":\"white\",\"ticks\":\"\"},\"radialaxis\":{\"gridcolor\":\"white\",\"linecolor\":\"white\",\"ticks\":\"\"}},\"ternary\":{\"bgcolor\":\"#E5ECF6\",\"aaxis\":{\"gridcolor\":\"white\",\"linecolor\":\"white\",\"ticks\":\"\"},\"baxis\":{\"gridcolor\":\"white\",\"linecolor\":\"white\",\"ticks\":\"\"},\"caxis\":{\"gridcolor\":\"white\",\"linecolor\":\"white\",\"ticks\":\"\"}},\"coloraxis\":{\"colorbar\":{\"outlinewidth\":0,\"ticks\":\"\"}},\"colorscale\":{\"sequential\":[[0.0,\"#0d0887\"],[0.1111111111111111,\"#46039f\"],[0.2222222222222222,\"#7201a8\"],[0.3333333333333333,\"#9c179e\"],[0.4444444444444444,\"#bd3786\"],[0.5555555555555556,\"#d8576b\"],[0.6666666666666666,\"#ed7953\"],[0.7777777777777778,\"#fb9f3a\"],[0.8888888888888888,\"#fdca26\"],[1.0,\"#f0f921\"]],\"sequentialminus\":[[0.0,\"#0d0887\"],[0.1111111111111111,\"#46039f\"],[0.2222222222222222,\"#7201a8\"],[0.3333333333333333,\"#9c179e\"],[0.4444444444444444,\"#bd3786\"],[0.5555555555555556,\"#d8576b\"],[0.6666666666666666,\"#ed7953\"],[0.7777777777777778,\"#fb9f3a\"],[0.8888888888888888,\"#fdca26\"],[1.0,\"#f0f921\"]],\"diverging\":[[0,\"#8e0152\"],[0.1,\"#c51b7d\"],[0.2,\"#de77ae\"],[0.3,\"#f1b6da\"],[0.4,\"#fde0ef\"],[0.5,\"#f7f7f7\"],[0.6,\"#e6f5d0\"],[0.7,\"#b8e186\"],[0.8,\"#7fbc41\"],[0.9,\"#4d9221\"],[1,\"#276419\"]]},\"xaxis\":{\"gridcolor\":\"white\",\"linecolor\":\"white\",\"ticks\":\"\",\"title\":{\"standoff\":15},\"zerolinecolor\":\"white\",\"automargin\":true,\"zerolinewidth\":2},\"yaxis\":{\"gridcolor\":\"white\",\"linecolor\":\"white\",\"ticks\":\"\",\"title\":{\"standoff\":15},\"zerolinecolor\":\"white\",\"automargin\":true,\"zerolinewidth\":2},\"scene\":{\"xaxis\":{\"backgroundcolor\":\"#E5ECF6\",\"gridcolor\":\"white\",\"linecolor\":\"white\",\"showbackground\":true,\"ticks\":\"\",\"zerolinecolor\":\"white\",\"gridwidth\":2},\"yaxis\":{\"backgroundcolor\":\"#E5ECF6\",\"gridcolor\":\"white\",\"linecolor\":\"white\",\"showbackground\":true,\"ticks\":\"\",\"zerolinecolor\":\"white\",\"gridwidth\":2},\"zaxis\":{\"backgroundcolor\":\"#E5ECF6\",\"gridcolor\":\"white\",\"linecolor\":\"white\",\"showbackground\":true,\"ticks\":\"\",\"zerolinecolor\":\"white\",\"gridwidth\":2}},\"shapedefaults\":{\"line\":{\"color\":\"#2a3f5f\"}},\"annotationdefaults\":{\"arrowcolor\":\"#2a3f5f\",\"arrowhead\":0,\"arrowwidth\":1},\"geo\":{\"bgcolor\":\"white\",\"landcolor\":\"#E5ECF6\",\"subunitcolor\":\"white\",\"showland\":true,\"showlakes\":true,\"lakecolor\":\"white\"},\"title\":{\"x\":0.05},\"mapbox\":{\"style\":\"light\"}}},\"title\":{\"text\":\"Cholesterol Level Distribution\",\"x\":0.5},\"yaxis\":{\"title\":{\"text\":\"Cholesterol Level\"},\"showline\":true,\"linewidth\":2,\"linecolor\":\"black\",\"mirror\":true},\"xaxis\":{\"showline\":true,\"linewidth\":2,\"linecolor\":\"black\",\"mirror\":true}},                        {\"responsive\": true}                    ).then(function(){\n",
              "                            \n",
              "var gd = document.getElementById('a96c7d6c-2b5a-4f58-bac0-953afcdc7eb1');\n",
              "var x = new MutationObserver(function (mutations, observer) {{\n",
              "        var display = window.getComputedStyle(gd).display;\n",
              "        if (!display || display === 'none') {{\n",
              "            console.log([gd, 'removed!']);\n",
              "            Plotly.purge(gd);\n",
              "            observer.disconnect();\n",
              "        }}\n",
              "}});\n",
              "\n",
              "// Listen for the removal of the full notebook cells\n",
              "var notebookContainer = gd.closest('#notebook-container');\n",
              "if (notebookContainer) {{\n",
              "    x.observe(notebookContainer, {childList: true});\n",
              "}}\n",
              "\n",
              "// Listen for the clearing of the current output cell\n",
              "var outputEl = gd.closest('.output');\n",
              "if (outputEl) {{\n",
              "    x.observe(outputEl, {childList: true});\n",
              "}}\n",
              "\n",
              "                        })                };                            </script>        </div>\n",
              "</body>\n",
              "</html>"
            ]
          },
          "metadata": {}
        }
      ]
    },
    {
      "cell_type": "markdown",
      "source": [
        "###Statistics\n"
      ],
      "metadata": {
        "id": "sYW_XNJUtrma"
      }
    },
    {
      "cell_type": "code",
      "source": [
        "# Summary Statistics\n",
        "print(data.describe())\n",
        "\n",
        "# Visualization: Correlation Matrix\n",
        "correlation_matrix = data.corr()\n",
        "sns.heatmap(correlation_matrix, annot=True)\n",
        "plt.show()\n",
        "\n"
      ],
      "metadata": {
        "colab": {
          "base_uri": "https://localhost:8080/",
          "height": 866
        },
        "id": "JH_7lQd2N8Np",
        "outputId": "d5505b51-fcac-46c9-f979-ec92c0d1ba23"
      },
      "execution_count": 26,
      "outputs": [
        {
          "output_type": "stream",
          "name": "stdout",
          "text": [
            "               id         age    trestbps        chol      thalch     oldpeak  \\\n",
            "count  920.000000  920.000000  920.000000  920.000000  920.000000  920.000000   \n",
            "mean   460.500000   53.510870  132.132404  199.130337  137.545665    0.878788   \n",
            "std    265.725422    9.424685   18.443895  108.957634   25.138494    1.053774   \n",
            "min      1.000000   28.000000    0.000000    0.000000   60.000000   -2.600000   \n",
            "25%    230.750000   47.000000  120.000000  177.750000  120.000000    0.000000   \n",
            "50%    460.500000   54.000000  130.000000  221.000000  138.000000    0.800000   \n",
            "75%    690.250000   60.000000  140.000000  267.000000  156.000000    1.500000   \n",
            "max    920.000000   77.000000  200.000000  603.000000  202.000000    6.200000   \n",
            "\n",
            "               ca         num  \n",
            "count  920.000000  920.000000  \n",
            "mean     0.676375    0.995652  \n",
            "std      0.541667    1.142693  \n",
            "min      0.000000    0.000000  \n",
            "25%      0.676375    0.000000  \n",
            "50%      0.676375    1.000000  \n",
            "75%      0.676375    2.000000  \n",
            "max      3.000000    4.000000  \n"
          ]
        },
        {
          "output_type": "stream",
          "name": "stderr",
          "text": [
            "<ipython-input-26-6f8eb4cd9c4b>:5: FutureWarning:\n",
            "\n",
            "The default value of numeric_only in DataFrame.corr is deprecated. In a future version, it will default to False. Select only valid columns or specify the value of numeric_only to silence this warning.\n",
            "\n"
          ]
        },
        {
          "output_type": "display_data",
          "data": {
            "text/plain": [
              "<Figure size 640x480 with 2 Axes>"
            ],
            "image/png": "[encoded data removed]"
          },
          "metadata": {}
        }
      ]
    },
    {
      "cell_type": "markdown",
      "source": [
        "##Problem Statement:\n",
        "Predict the likelihood of heart disease occurrence in individuals based on various health-related metrics.\n",
        "\n",
        "Input Format:<br>\n",
        "Each input will consist of several health-related metrics including but not limited to:\n",
        "Age (numeric)<br>\n",
        "Sex (categorical: Male, Female)<br>\n",
        "Chest Pain Type (categorical: typical angina, atypical angina, non-anginal pain, asymptomatic)<br>\n",
        "Resting Blood Pressure (numeric)<br>\n",
        "Serum Cholesterol (numeric)<br>\n",
        "Fasting Blood Sugar > 120 mg/dl (binary: True, False)<br>\n",
        "Resting Electrocardiographic Results (categorical)<br>\n",
        "Maximum Heart Rate Achieved (numeric)<br>\n",
        "Exercise Induced Angina (binary: Yes, No)<br>\n",
        "\n",
        "Output Format:<br>\n",
        "The output should be the likelihood of heart disease occurrence represented as a probability between 0 and 1.\n",
        "\n",
        "Sample Inputs and Outputs:<br>\n",
        "Input:<br>\n",
        "Age: 45<br>\n",
        "Sex: Male<br>\n",
        "Chest Pain Type: atypical angina<br>\n",
        "Resting Blood Pressure: 130<br>\n",
        "Serum Cholesterol: 250<br>\n",
        "Fasting Blood Sugar > 120 mg/dl: False<br>\n",
        "Resting Electrocardiographic Results: normal<br>\n",
        "Maximum Heart Rate Achieved: 160<br>\n",
        "Exercise Induced Angina: No<br>\n",
        "Num : target [0=no heart disease; 1,2,3,4 = stages of heart disease ]<br>\n",
        "Output:<br>\n",
        "Likelihood of Heart Disease: 0.65 (65%)<br>\n",
        "\n",
        "\n",
        "\n",
        "Constraints:<br>\n",
        "*   All numeric inputs are non-negative and have reasonable upper bounds based on real-world constraints\n",
        "(e.g., age ≤ 120, resting blood pressure ≤ 200, serum cholesterol ≤ 600)<br>\n",
        "*   Categorical variables come from a predefined set of categories.<br>\n",
        "*   The problem should handle missing data gracefully, either by imputing missing values or by handling them in a way that does not adversely affect the predictions.<br>\n",
        "\n",
        "\n",
        "\n",
        "This structure provides a clear problem definition, outlines the required input and output formats, gives an example for better understanding, and establishes constraints to ensure the problem remains challenging yet realistic. This way, you have set a solid foundation upon which to build your predictive model and evaluate its performance in a meaningful way."
      ],
      "metadata": {
        "id": "Ds6P2-TMTYvv"
      }
    },
    {
      "cell_type": "code",
      "source": [
        "import pandas as pd\n",
        "from sklearn.model_selection import train_test_split\n",
        "from sklearn.preprocessing import StandardScaler, OneHotEncoder\n",
        "from sklearn.impute import SimpleImputer\n",
        "from sklearn.linear_model import LogisticRegression\n",
        "from sklearn.pipeline import Pipeline\n",
        "from sklearn.compose import ColumnTransformer\n",
        "from sklearn.metrics import roc_auc_score, accuracy_score, confusion_matrix\n",
        "\n",
        "\n",
        "# Define features and target variable\n",
        "X = data.drop('num', axis=1)  # Assuming 'target' is the name of your target variable\n",
        "y = data['num']\n",
        "\n",
        "# Split data into training and testing sets\n",
        "X_train, X_test, y_train, y_test = train_test_split(X, y, test_size=0.2, random_state=42)\n",
        "\n",
        "# Identify categorical and numerical columns\n",
        "categorical_cols = X_train.select_dtypes(include=['object']).columns.tolist()\n",
        "numerical_cols = X_train.select_dtypes(exclude=['object']).columns.tolist()\n",
        "\n",
        "# Build preprocessing pipeline\n",
        "preprocessor = ColumnTransformer(\n",
        "    transformers=[\n",
        "        ('num', SimpleImputer(strategy='median'), numerical_cols),\n",
        "        ('cat', Pipeline(steps=[\n",
        "            ('imputer', SimpleImputer(strategy='most_frequent')),\n",
        "            ('onehot', OneHotEncoder(handle_unknown='ignore'))\n",
        "        ]), categorical_cols)\n",
        "    ])\n",
        "\n",
        "pipeline = Pipeline([\n",
        "    ('preprocessor', preprocessor),\n",
        "    ('classifier', LogisticRegression(multi_class='ovr'))  # Or use 'multinomial' or 'auto' based on your data and requirements\n",
        "])\n",
        "# Training the model\n",
        "pipeline.fit(X_train, y_train)\n",
        "\n",
        "# Making predictions\n",
        "y_pred_proba = pipeline.predict_proba(X_test)[:, 1]\n",
        "\n",
        "# Evaluating the model\n",
        "\n",
        "print(f'Accuracy: {accuracy_score(y_test, y_pred_proba.round()):.2f}')\n",
        "print(f'Confusion Matrix:\\n{confusion_matrix(y_test, y_pred_proba.round())}')\n",
        "\n"
      ],
      "metadata": {
        "colab": {
          "base_uri": "https://localhost:8080/"
        },
        "id": "MLXysjxfgfSC",
        "outputId": "70beb859-b3c2-49e6-c528-16d5a902d864"
      },
      "execution_count": 27,
      "outputs": [
        {
          "output_type": "stream",
          "name": "stderr",
          "text": [
            "/usr/local/lib/python3.10/dist-packages/sklearn/linear_model/_logistic.py:458: ConvergenceWarning:\n",
            "\n",
            "lbfgs failed to converge (status=1):\n",
            "STOP: TOTAL NO. of ITERATIONS REACHED LIMIT.\n",
            "\n",
            "Increase the number of iterations (max_iter) or scale the data as shown in:\n",
            "    https://scikit-learn.org/stable/modules/preprocessing.html\n",
            "Please also refer to the documentation for alternative solver options:\n",
            "    https://scikit-learn.org/stable/modules/linear_model.html#logistic-regression\n",
            "\n"
          ]
        },
        {
          "output_type": "stream",
          "name": "stdout",
          "text": [
            "Accuracy: 0.51\n",
            "Confusion Matrix:\n",
            "[[73  2  0  0  0]\n",
            " [33 21  0  0  0]\n",
            " [21  4  0  0  0]\n",
            " [25  1  0  0  0]\n",
            " [ 4  0  0  0  0]]\n"
          ]
        }
      ]
    }
  ]
}